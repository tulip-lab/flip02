{
    "nbformat_minor": 1, 
    "cells": [
        {
            "source": "# Modern Data Science \n**(Module 05: Deep Learning)**\n\n---\n- Materials in this module include resources collected from various open-source online repositories.\n- You are free to use, change and distribute this package.\n\nPrepared by and for \n**Student Members** |\n2006-2018 [TULIP Lab](http://www.tulip.org.au), Australia\n\n---\n\n\n# Session B - Regression with TensorFlow \n\nLinear regression is the default solution for many regression tasks while Logistic Regression is one of most important techniques in data science to solve the classic classification problem.\n\nIn this notebook we will overview the implementation of Linear/Logisitic Regression with TensorFlow.\n\n- <p><a href=\"#ref1\">Linear Regression</a></p>\n- <p><a href=\"#ref2\">Linear Regression with TensorFlow</a></p>\n- <p><a href=\"#ref3\">Practice Exercises</a></p>\n- <p><a href=\"#ref4\">Linear Regression vs Logistic Regression</a></p>\n- <p><a href=\"#ref5\">Utilizing Logistic Regression in TensorFlow</a></p>\n- <p><a href=\"#ref6\">Training</a></p>\n<p></p>\n\n\n<p></p>\n\n\n** References and additional reading and resources**\n* This material is from [CognitiveClass.AI](https://cognitiveclass.ai), created by: <a href=\"https://ca.linkedin.com/in/rafaelblsilva\"> Rafael Belo Da Silva </a> \n* This notebook and its source code are released under the terms of the [MIT License](https://bigdatauniversity.com/mit-license/).\n\n\n---\n", 
            "cell_type": "markdown", 
            "metadata": {}
        }, 
        {
            "source": "<a id=\"ref1\"></a>\n## 1. Linear Regression\n\nDefining a linear regression in simple terms, its the approximation of a linear model used to describe the relationship betweeen two or more variables. In a simple linear regression there are two variables, the dependent variable, which can be seen as the \"state\" or \"final goal\" we study and try to predict, and the independent variables, also known as explanatory variables, which can be seen as the \"causes\" of the \"states\". \n\nWhen more than one independent variable is present the process is called multiple linear regression. When multiple dependent variables are predicted the process is known as multivariate linear regression.\n\nThe very known equation of a simple linear model is\n\n$$Y = a X + b $$\n\nWhere Y is the dependent variable and X is the independent variable, and <b>a</b> and <b>b</b> being the parameters we adjust. <b> a </b> is known as \"slope\" or \"gradient\" and <b> b </b> as \"intercept\". You can interpret this equation as Y being a function of X, or Y being dependent of X.\n\nIf you plot the model, you will see it is a line, and by adjusting the \"slope\" parameter you will change the angle between the line and the independent variable axis, and the \"intercept parameter\" will affect where it crosses the dependent variable axis.\n\nLet's first import packages:", 
            "cell_type": "markdown", 
            "metadata": {}
        }, 
        {
            "execution_count": null, 
            "cell_type": "code", 
            "metadata": {}, 
            "outputs": [], 
            "source": "import numpy as np\nimport tensorflow as tf\nimport matplotlib.patches as mpatches\nimport matplotlib.pyplot as plt\n%matplotlib inline\nplt.rcParams['figure.figsize'] = (10, 6)"
        }, 
        {
            "source": "Let's define an independent variable:", 
            "cell_type": "markdown", 
            "metadata": {}
        }, 
        {
            "execution_count": null, 
            "cell_type": "code", 
            "metadata": {}, 
            "outputs": [], 
            "source": "X = np.arange(0.0, 5.0, 0.1)\nX"
        }, 
        {
            "execution_count": null, 
            "cell_type": "code", 
            "metadata": {}, 
            "outputs": [], 
            "source": "##You can adjust the slope and intercept to verify the changes in the graph\na=1\nb=0\n\nY= a*X + b \n\nplt.plot(X,Y) \nplt.ylabel('Dependent Variable')\nplt.xlabel('Indepdendent Variable')\nplt.show()"
        }, 
        {
            "source": "OK... but how can we see this concept of linear relations with a more meaningful point of view?\n\nSimple linear relations were used to try to describe and quantify many observable physical phenomena, the easiest to understand are speed and distance traveled:", 
            "cell_type": "markdown", 
            "metadata": {}
        }, 
        {
            "source": "<b><pre>\n\nDistance Traveled = Speed * Time + Initial Distance\n\nSpeed = Acceleration * Time + Initial Speed\n</pre></b>", 
            "cell_type": "markdown", 
            "metadata": {}
        }, 
        {
            "source": "They are also used to describe properties of different materials:", 
            "cell_type": "markdown", 
            "metadata": {}
        }, 
        {
            "source": "<b><pre>\n\nForce = Deformation * Stiffness \n\nHeat Transfered = Temperature Difference * Thermal Conductivity \n\nElectrical Tension (Voltage) = Electrical Current * Resistance\n\nMass =  Volume * Density\n</pre></b>", 
            "cell_type": "markdown", 
            "metadata": {}
        }, 
        {
            "source": "When we perform an experiment and gather the data, or if we already have a dataset and we want to perform a linear regression, what we will do is adjust a simple linear model to the dataset, we adjust the \"slope\" and \"intercept\" parameters to the data the best way possible, because the closer the model comes to describing each ocurrence, the better it will be at representing them.\n\nSo how is this \"regression\" performed?", 
            "cell_type": "markdown", 
            "metadata": {}
        }, 
        {
            "source": "---------------", 
            "cell_type": "markdown", 
            "metadata": {}
        }, 
        {
            "source": "<a id=\"ref2\"></a>\n## 2. Linear Regression with TensorFlow\n<h6>A simple example of a linear function can help us understand the basic mechanism behind TensorFlow. </h6>\n\nFor the first part we will generate random data points and define a linear relation, we'll use TensorFlow to adjust and get the right parameters.\n", 
            "cell_type": "markdown", 
            "metadata": {}
        }, 
        {
            "execution_count": null, 
            "cell_type": "code", 
            "metadata": {}, 
            "outputs": [], 
            "source": "x_data = np.random.rand(100).astype(np.float32)"
        }, 
        {
            "source": "The equation for the model used in this example is :\n\n$$Y = 3 X + 2 $$\n\n\nNothing special about this equation, it is just a model that we use to generate our data points. In fact, you can change the parameters to whatever you want, as you will do later. We add some gaussian noise to the points to make it a bit more interesting.", 
            "cell_type": "markdown", 
            "metadata": {}
        }, 
        {
            "execution_count": null, 
            "cell_type": "code", 
            "metadata": {}, 
            "outputs": [], 
            "source": "y_data = x_data * 3 + 2\ny_data = np.vectorize(lambda y: y + np.random.normal(loc=0.0, scale=0.1))(y_data)"
        }, 
        {
            "source": "Here is a sample of data:", 
            "cell_type": "markdown", 
            "metadata": {}
        }, 
        {
            "execution_count": null, 
            "cell_type": "code", 
            "metadata": {}, 
            "outputs": [], 
            "source": "help(zip)"
        }, 
        {
            "execution_count": null, 
            "cell_type": "code", 
            "metadata": {
                "scrolled": true
            }, 
            "outputs": [], 
            "source": "zip(x_data,y_data) [0:5]"
        }, 
        {
            "source": "First, we initialize the variables __a__ and __b__, with any random guess, and then we define the linear function:", 
            "cell_type": "markdown", 
            "metadata": {}
        }, 
        {
            "execution_count": null, 
            "cell_type": "code", 
            "metadata": {}, 
            "outputs": [], 
            "source": "a = tf.Variable(1.0)\nb = tf.Variable(0.2)\ny = a * x_data + b"
        }, 
        {
            "source": "In a linear regression, we minimize the squared error of the equation that we want to adjust minus the target values (the data that we have), so we define the equation to be minimized as loss.\n\nTo find Loss's value, we use __tf.reduce_mean()__. This function finds the mean of a multidimensional tensor, and the result can have a diferent dimension.", 
            "cell_type": "markdown", 
            "metadata": {}
        }, 
        {
            "execution_count": null, 
            "cell_type": "code", 
            "metadata": {}, 
            "outputs": [], 
            "source": "loss = tf.reduce_mean(tf.square(y - y_data))"
        }, 
        {
            "source": "Then, we define the optimizer method. Here we will use a simple gradient descent with a learning rate of 0.5: <br/>  \nNow we will define the training method of our graph, what method we will use for minimize the loss? We will use the tf.train.GradientDescentOptimizer.  \n.minimize()__ will minimize the error function of our optimizer, resulting in a better model.", 
            "cell_type": "markdown", 
            "metadata": {}
        }, 
        {
            "execution_count": null, 
            "cell_type": "code", 
            "metadata": {}, 
            "outputs": [], 
            "source": "optimizer = tf.train.GradientDescentOptimizer(0.5)\ntrain = optimizer.minimize(loss)"
        }, 
        {
            "source": "Don't forget to initialize the variables before executing a graph:", 
            "cell_type": "markdown", 
            "metadata": {}
        }, 
        {
            "execution_count": null, 
            "cell_type": "code", 
            "metadata": {}, 
            "outputs": [], 
            "source": "init = tf.global_variables_initializer()\nsess = tf.Session()\nsess.run(init)"
        }, 
        {
            "source": "Now we are ready to start the optimization and run the graph:", 
            "cell_type": "markdown", 
            "metadata": {}
        }, 
        {
            "execution_count": null, 
            "cell_type": "code", 
            "metadata": {}, 
            "outputs": [], 
            "source": "train_data = []\nfor step in range(100):\n    evals = sess.run([train,a,b])[1:]\n    if step % 5 == 0:\n        print(step, evals)\n        train_data.append(evals)"
        }, 
        {
            "execution_count": null, 
            "cell_type": "code", 
            "metadata": {}, 
            "outputs": [], 
            "source": "converter = plt.colors\ncr, cg, cb = (1.0, 1.0, 0.0)\nfor f in train_data:\n    cb += 1.0 / len(train_data)\n    cg -= 1.0 / len(train_data)\n    if cb > 1.0: cb = 1.0\n    if cg < 0.0: cg = 0.0\n    [a, b] = f\n    f_y = np.vectorize(lambda x: a*x + b)(x_data)\n    line = plt.plot(x_data, f_y)\n    plt.setp(line, color=(cr,cg,cb))\n\nplt.plot(x_data, y_data, 'ro')\n\n\ngreen_line = mpatches.Patch(color='red', label='Data Points')\n\nplt.legend(handles=[green_line])\n\nplt.show()"
        }, 
        {
            "source": "---------------\n<a id=\"ref3\"></a>\n## 3. Exercises\n\nThis exercise is about modelling a linear relationship between \"chirps of a cricket\" and ground temperature. \n\nIn 1948, G. W. Pierce in his book \"Songs of Insects\" mentioned that we can predict temperature by listening to the freuency of songs(chirps) made by stripped Crickets. He recorded change in behaviour of crickets by recording number of chirps made by them at several \"different temperatures\" and found that there is a pattern in the way crickets respond to the rate of change in ground temperature 60 to 100 degrees of farenhite. He also found out that Crickets did not sing   \nabove or below this temperature.\n\nThis data is derieved from the above mentioned book and aim is to fit a linear model and predict the \"Best Fit Line\" for the given \"Chirps(per 15 Second)\" in Column 'A' and the corresponding \"Temperatures(Farenhite)\" in Column 'B' using TensorFlow. So that one could easily tell what temperature it is just by listening to the songs of cricket. \n\n\n### Let's import tensorFlow and python dependencies \n\n", 
            "cell_type": "markdown", 
            "metadata": {}
        }, 
        {
            "execution_count": null, 
            "cell_type": "code", 
            "metadata": {}, 
            "outputs": [], 
            "source": "import tensorflow as tf\nimport numpy as np\nimport pandas as pd\nimport matplotlib.pyplot as plt"
        }, 
        {
            "source": "### Download and Explore the Data ", 
            "cell_type": "markdown", 
            "metadata": {}
        }, 
        {
            "execution_count": null, 
            "cell_type": "code", 
            "metadata": {}, 
            "outputs": [], 
            "source": "import wget\n\nlink_to_data = 'https://github.com/tuliplab/mds/raw/master/Jupyter/data/PierceCricketData.csv'\nDataSet = wget.download(link_to_data)"
        }, 
        {
            "execution_count": null, 
            "cell_type": "code", 
            "metadata": {}, 
            "outputs": [], 
            "source": "\n#downloading dataset\ndf = pd.read_csv(\"PierceCricketData.csv\")\ndf.head()"
        }, 
        {
            "source": "<h6> Plot the Data Points </h6>", 
            "cell_type": "markdown", 
            "metadata": {}
        }, 
        {
            "execution_count": null, 
            "cell_type": "code", 
            "metadata": {}, 
            "outputs": [], 
            "source": "\n%matplotlib inline\n\nx_data, y_data = (df[\"Chirps\"].values,df[\"Temp\"].values)\n\n# plots the data points\nplt.plot(x_data, y_data, 'ro')\n# label the axis\nplt.xlabel(\"# Chirps per 15 sec\")\nplt.ylabel(\"Temp in Farenhiet\")\n\n"
        }, 
        {
            "source": "Looking at the scatter plot we can analyse that there is a linear relationship between the data points that connect chirps to the temperature and optimal way to infer this knowledge is by fitting a line that best describes the data. Which follows the linear equation: \n\n ####                                          Ypred = m X + c \n\nWe have to estimate the values of the slope 'm' and the inrtercept 'c' to fit a line where, X is the \"Chirps\" and Ypred is \"Predicted Temperature\" in this case. \n\n", 
            "cell_type": "markdown", 
            "metadata": {}
        }, 
        {
            "source": "### Create a Data Flow Graph using TensorFlow \n\nModel the above equation by assigning arbitrary values of your choice for slope \"m\" and intercept \"c\" which can predict the temp \"Ypred\" given Chirps \"X\" as input. \n\nexample m=3 and c=2\n\nAlso, create a place holder for actual temperature \"Y\" which we will be needing for Optimization to estimate the actual values of slope and intercept.\n\n", 
            "cell_type": "markdown", 
            "metadata": {}
        }, 
        {
            "execution_count": null, 
            "cell_type": "code", 
            "metadata": {}, 
            "outputs": [], 
            "source": "# Create place holders and Variables along with the Linear model.\n\n# Your code goes here\n\n\n\n"
        }, 
        {
            "source": "<div align=\"right\">\n<a href=\"#createvar\" class=\"btn btn-default\" data-toggle=\"collapse\">Click here for the solution</a>\n</div>\n<div id=\"createvar\" class=\"collapse\">\n```\n\nX = tf.placeholder(tf.float32, shape=(x_data.size))\nY = tf.placeholder(tf.float32,shape=(y_data.size))\n\n# tf.Variable call creates a  single updatable copy in the memory and efficiently updates \n# the copy to relfect any changes in the variable values through out the scope of the tensorflow session\nm = tf.Variable(3.0)\nc = tf.Variable(2.0)\n\n# Construct a Model\nYpred = tf.add(tf.multiply(X, m), c)\n```\n</div>", 
            "cell_type": "markdown", 
            "metadata": {}
        }, 
        {
            "source": "###  Create and Run a Session to Visualize the Predicted Line from above Graph \n\n<h6> Feel free to change the values of \"m\" and \"c\" in future to check how the initial position of line changes </h6>\n\n", 
            "cell_type": "markdown", 
            "metadata": {}
        }, 
        {
            "execution_count": null, 
            "cell_type": "code", 
            "metadata": {}, 
            "outputs": [], 
            "source": "#create session and initialize variables\nsession = tf.Session()\nsession.run(tf.global_variables_initializer())"
        }, 
        {
            "execution_count": null, 
            "cell_type": "code", 
            "metadata": {}, 
            "outputs": [], 
            "source": "\n#get prediction with initial parameter values\n\n#Your code goes here\n\n\n\n\n\n"
        }, 
        {
            "source": "<div align=\"right\">\n<a href=\"#matmul1\" class=\"btn btn-default\" data-toggle=\"collapse\">Click here for the solution</a>\n</div>\n<div id=\"matmul1\" class=\"collapse\">\n```\n\npred = session.run(Ypred, feed_dict={X:x_data})\n\n#plot initial prediction against datapoints\nplt.plot(x_data, pred)\nplt.plot(x_data, y_data, 'ro')\n# label the axis\nplt.xlabel(\"# Chirps per 15 sec\")\nplt.ylabel(\"Temp in Farenhiet\")\n\n\n```\n</div>", 
            "cell_type": "markdown", 
            "metadata": {}
        }, 
        {
            "source": "### Define a  Graph for Loss Function\n\nThe essence of estimating the values for \"m\" and \"c\" lies in minimizing the difference between predicted \"Ypred\" and actual \"Y\" temperature values which is defined in the form of Mean Squared error loss function. \n      \n$$ loss = \\frac{1}{n}\\sum_{i=1}^n{[Ypred_i - {Y}_i]^2} $$\n\nNote: There are also other ways to model the loss function based on distance metric between predicted and actual temperature values. For this exercise Mean Suared error criteria is considered. \n\n", 
            "cell_type": "markdown", 
            "metadata": {}
        }, 
        {
            "execution_count": null, 
            "cell_type": "code", 
            "metadata": {}, 
            "outputs": [], 
            "source": "#Your code goes here\n\n\n\n\n\n"
        }, 
        {
            "source": "<div align=\"right\">\n<a href=\"#matmul12\" class=\"btn btn-default\" data-toggle=\"collapse\">Click here for the solution</a>\n</div>\n<div id=\"matmul12\" class=\"collapse\">\n```\n# normalization factor\nnf = 1e-1\n# seting up the loss function\nloss = tf.reduce_mean(tf.squared_difference(Ypred*nf,Y*nf))\n```\n</div>", 
            "cell_type": "markdown", 
            "metadata": {}
        }, 
        {
            "source": "### Define an Optimization Graph to Minimize the Loss and Training the Model\n\n\n\n\n", 
            "cell_type": "markdown", 
            "metadata": {}
        }, 
        {
            "execution_count": null, 
            "cell_type": "code", 
            "metadata": {}, 
            "outputs": [], 
            "source": "# Your code goes here\n\n\n\n\n"
        }, 
        {
            "source": "<div align=\"right\">\n<a href=\"#matmul13\" class=\"btn btn-default\" data-toggle=\"collapse\">Click here for the solution</a>\n</div>\n<div id=\"matmul13\" class=\"collapse\">\n```\noptimizer = tf.train.GradientDescentOptimizer(learning_rate=0.01)\n#optimizer = tf.train.AdagradOptimizer(0.01 )\n\n# pass the loss function that optimizer should optimize on.\ntrain = optimizer.minimize(loss)\n\n```\n</div>", 
            "cell_type": "markdown", 
            "metadata": {}
        }, 
        {
            "source": "### Initialize all the vairiables again\n\n", 
            "cell_type": "markdown", 
            "metadata": {}
        }, 
        {
            "execution_count": null, 
            "cell_type": "code", 
            "metadata": {}, 
            "outputs": [], 
            "source": "session.run(tf.global_variables_initializer())"
        }, 
        {
            "source": "###  Run session to train and predict the values of 'm' and 'c' for different training steps along with storing the losses in each step\n\nGet the predicted m and c values by running a session on Training a linear model. Also collect the loss for different steps to print and plot.  ", 
            "cell_type": "markdown", 
            "metadata": {}
        }, 
        {
            "execution_count": null, 
            "cell_type": "code", 
            "metadata": {}, 
            "outputs": [], 
            "source": "convergenceTolerance = 0.0001\nprevious_m = np.inf\nprevious_c = np.inf\n\nsteps = {}\nsteps['m'] = []\nsteps['c'] = []\n\nlosses=[]\n\nfor k in range(100000):\n   ########## Your Code goes Here ###########\n\n\n\n\n    steps['m'].append(_m)\n    steps['c'].append(_c)\n    losses.append(_l)\n    if (np.abs(previous_m - _m) <= convergenceTolerance) or (np.abs(previous_c - _c) <= convergenceTolerance):\n        \n        print (\"Finished by Convergence Criterion\")\n        print (k)\n        print (_l)\n        break\n    previous_m = _m, \n    previous_c = _c, \n    \nsession.close() "
        }, 
        {
            "source": "<div align=\"right\">\n<a href=\"#matmul18\" class=\"btn btn-default\" data-toggle=\"collapse\">Click here for the solution</a>\n</div>\n<div id=\"matmul18\" class=\"collapse\">\n```\n# run a session to train , get m and c values with loss function \n_, _m , _c,_l = session.run([train, m, c,loss],feed_dict={X:x_data,Y:y_data}) \n\n```\n</div>", 
            "cell_type": "markdown", 
            "metadata": {}
        }, 
        {
            "source": "### Print the loss function", 
            "cell_type": "markdown", 
            "metadata": {}
        }, 
        {
            "execution_count": null, 
            "cell_type": "code", 
            "metadata": {}, 
            "outputs": [], 
            "source": "# Your Code Goes Here\n\n\n\n\n"
        }, 
        {
            "source": "<div align=\"right\">\n<a href=\"#matmul199\" class=\"btn btn-default\" data-toggle=\"collapse\">Click here for the solution</a>\n</div>\n<div id=\"matmul199\" class=\"collapse\">\n```\nplt.plot(losses[:])\n\n```\n</div>", 
            "cell_type": "markdown", 
            "metadata": {}
        }, 
        {
            "source": "This Exercise is about giving Overview about how to use TensorFlow for Predicting Ground Temperature given the number of Cricket Chirps per 15 secs. Idea is to use TnesorFlow's dataflow graph to define Optimization and Training graphs to find out the actual values of 'm' and 'c' that best describes the given Data. \n\n\nPlease Feel free to change the initial values of 'm' and 'c' to check how the training steps Vary. \n\n\n", 
            "cell_type": "markdown", 
            "metadata": {}
        }, 
        {
            "source": "---\n\n<a id=\"ref4\"></a>\n## 4. Linear vs Logistic Regression\n\nWhile Linear Regression is suited for estimating continuous values (e.g. estimating house price), it isn\u2019t the best tool for predicting the class of an observed data point. In order to estimate a classification, we need some sort of guidance on what would be the **most probable class** for that data point. For this, we use **Logistic Regression**.\n\n<div class=\"alert alert-success alertsuccess\" style=\"margin-top: 20px\">\n<font size = 3><strong>Recall linear regression:</strong></font>\n<br>\n<br>\nLinear regression finds a function that relates a continuous dependent variable, _y_, to some predictors (independent variables _x1_, _x2_, etc.). Simple linear regression assumes a function of the form:\n<br><br>\n$$\ny = w0 + w1 * x1 + w2 * x2 +...\n$$\n<br>\nand finds the values of _w0_, _w1_, _w2_, etc. The term _w0_ is the \"intercept\" or \"constant term\" (it's shown as _b_ in the formula below):\n<br><br>\n$$\nY = WX + b\n$$\n<p></p>\n\n</div>\n\nLogistic Regression is a variation of Linear Regression, useful when the observed dependent variable, _y_, is categorical. It produces a formula that predicts the probability of the class label as a function of the independent variables.\n\nDespite the name logistic _regression_, it is actually a __probabilistic classification__ model. Logistic regression fits a special s-shaped curve by taking the linear regression and transforming the numeric estimate into a probability with the following function:\n\n$$\nProbabilityOfaClass = \\theta(y) = \\frac{e^y}{1+e^y} = exp(y) / (1+exp(y)) = p \n$$\n\nwhich produces p-values between 0 (as y approaches minus infinity) and 1 (as y approaches plus infinity). This now becomes a special kind of non-linear regression.\n\nIn this equation, _y_ is the regression result (the sum of the variables weighted by the coefficients), `exp` is the exponential function and $\\theta(y)$ is the [logistic function](http://en.wikipedia.org/wiki/Logistic_function), also called logistic curve. It is a common \"S\" shape (sigmoid curve), and was first developed for modelling population growth.\n\nYou might also have seen this function before, in another configuration:\n\n$$\nProbabilityOfaClass = \\theta(y) = \\frac{1}{1+e^{-x}}\n$$\n\nSo, briefly, Logistic Regression passes the input through the logistic/sigmoid but then treats the result as a probability:\n\n<img\nsrc=\"https://ibm.box.com/shared/static/kgv9alcghmjcv97op4d6onkyxevk23b1.png\", width = \"400\", align = \"center\">\n\n---\n\n<a id=\"ref5\"></a>\n## 5. Utilizing Logistic Regression in TensorFlow\n\nFor us to utilize Logistic Regression in TensorFlow, we first need to import whatever libraries we are going to use. To do so, you can run the code cell below.", 
            "cell_type": "markdown", 
            "metadata": {}
        }, 
        {
            "execution_count": null, 
            "cell_type": "code", 
            "metadata": {}, 
            "outputs": [], 
            "source": "import tensorflow as tf\nimport pandas as pd\nimport numpy as np\nimport time\nfrom sklearn.datasets import load_iris\nfrom sklearn.cross_validation import train_test_split\nimport matplotlib.pyplot as plt"
        }, 
        {
            "source": "Next, we will load the dataset we are going to use. In this case, we are utilizing the `iris` dataset, which is inbuilt -- so there's no need to do any preprocessing and we can jump right into manipulating it. We separate the dataset into _xs_ and _ys_, and then into training _xs_ and _ys_ and testing _xs_ and _ys_, (pseudo-)randomly.", 
            "cell_type": "markdown", 
            "metadata": {}
        }, 
        {
            "execution_count": null, 
            "cell_type": "code", 
            "metadata": {}, 
            "outputs": [], 
            "source": "iris = load_iris()\niris_X, iris_y = iris.data[:-1,:], iris.target[:-1]\niris_y= pd.get_dummies(iris_y).values\ntrainX, testX, trainY, testY = train_test_split(iris_X, iris_y, test_size=0.33, random_state=42)"
        }, 
        {
            "source": "Now we define x and y. These placeholders will hold our iris data (both the features and label matrices), and help pass them along to different parts of the algorithm. You can consider placeholders as empty shells into which we insert our data. We also need to give them shapes which correspond to the shape of our data. Later, we will insert data into these placeholders by \u201cfeeding\u201d the placeholders the data via a \u201cfeed_dict\u201d (Feed Dictionary).\n\n### 5.1 Why use Placeholders?  \n1) This feature of TensorFlow allows us to create an algorithm which accepts data and knows something about the shape of the data without knowing the amount of data going in. <br><br>\n2) When we insert \u201cbatches\u201d of data in training, we can easily adjust how many examples we train on in a single step without changing the entire algorithm.", 
            "cell_type": "markdown", 
            "metadata": {}
        }, 
        {
            "execution_count": null, 
            "cell_type": "code", 
            "metadata": {}, 
            "outputs": [], 
            "source": "# numFeatures is the number of features in our input data.\n# In the iris dataset, this number is '4'.\nnumFeatures = trainX.shape[1]\n\n# numLabels is the number of classes our data points can be in.\n# In the iris dataset, this number is '3'.\nnumLabels = trainY.shape[1]\n\n\n# Placeholders\n# 'None' means TensorFlow shouldn't expect a fixed number in that dimension\nX = tf.placeholder(tf.float32, [None, numFeatures]) # Iris has 4 features, so X is a tensor to hold our data.\nyGold = tf.placeholder(tf.float32, [None, numLabels]) # This will be our correct answers matrix for 3 classes."
        }, 
        {
            "source": "### 5.2 Set model weights and bias\n\nMuch like Linear Regression, we need a shared variable weight matrix for Logistic Regression. We initialize both `W` and `b` as tensors full of zeros. Since we are going to learn `W` and `b`, their initial value doesn't matter too much. These variables are the objects which define the structure of our regression model, and we can save them after they\u2019ve been trained so we can reuse them later.\n\nWe define two TensorFlow variables as our parameters. These variables will hold the weights and biases of our logistic regression and they will be continually updated during training. \n\nNotice that `W` has a shape of [4, 3] because we want to multiply the 4-dimensional input vectors by it to produce 3-dimensional vectors of evidence for the difference classes. `b` has a shape of [3] so we can add it to the output. Moreover, unlike our placeholders above which are essentially empty shells waiting to be fed data, TensorFlow variables need to be initialized with values, e.g. with zeros.", 
            "cell_type": "markdown", 
            "metadata": {}
        }, 
        {
            "execution_count": null, 
            "cell_type": "code", 
            "metadata": {}, 
            "outputs": [], 
            "source": "W = tf.Variable(tf.zeros([4, 3]))  # 4-dimensional input and  3 classes\nb = tf.Variable(tf.zeros([3])) # 3-dimensional output [0,0,1],[0,1,0],[1,0,0]"
        }, 
        {
            "execution_count": null, 
            "cell_type": "code", 
            "metadata": {}, 
            "outputs": [], 
            "source": "#Randomly sample from a normal distribution with standard deviation .01\n\nweights = tf.Variable(tf.random_normal([numFeatures,numLabels],\n                                       mean=0,\n                                       stddev=0.01,\n                                       name=\"weights\"))\n\nbias = tf.Variable(tf.random_normal([1,numLabels],\n                                    mean=0,\n                                    stddev=0.01,\n                                    name=\"bias\"))"
        }, 
        {
            "source": "###  5.3 Logistic Regression model\n\nWe now define our operations in order to properly run the Logistic Regression. Logistic regression is typically thought of as a single equation:\n\n$$\n\u0177 =sigmoid(WX+b)\n$$\n\nHowever, for the sake of clarity, we can have it broken into its three main components: \n- a weight times features matrix multiplication operation, \n- a summation of the weighted features and a bias term, \n- and finally the application of a sigmoid function. \n\nAs such, you will find these components defined as three separate operations below.\n\n", 
            "cell_type": "markdown", 
            "metadata": {}
        }, 
        {
            "execution_count": null, 
            "cell_type": "code", 
            "metadata": {}, 
            "outputs": [], 
            "source": "# Three-component breakdown of the Logistic Regression equation.\n# Note that these feed into each other.\napply_weights_OP = tf.matmul(X, weights, name=\"apply_weights\")\nadd_bias_OP = tf.add(apply_weights_OP, bias, name=\"add_bias\") \nactivation_OP = tf.nn.sigmoid(add_bias_OP, name=\"activation\")"
        }, 
        {
            "source": "As we have seen before, the function we are going to use is the _logistic function_ $(\\frac{1}{1+e^{-x}})$, which is fed the input data after applying weights and bias. In TensorFlow, this function is implemented as the `nn.sigmoid` function. Effectively, this fits the weighted input with bias into a 0-100 percent curve, which is the probability function we want.\n\n---\n\n\n<a id=\"ref6\"></a>\n## 6. Training\n\nThe learning algorithm is how we search for the best weight vector (${\\bf w}$). This search is an optimization problem looking for the hypothesis that optimizes an error/cost measure.\n\n__What tell us our model is bad?__  \nThe Cost or Loss of the model, so what we want is to minimize that. \n\n__What is the cost function in our model?__  \nThe cost function we are going to utilize is the Squared Mean Error loss function.\n\n__How to minimize the cost function?__   \nWe can't use __least-squares linear regression__ here, so we will use [gradient descent](http://en.wikipedia.org/wiki/Gradient_descent) instead. Specifically, we will use batch gradient descent which calculates the gradient from all data points in the data set.\n\n### 6.1 Cost function\nBefore defining our cost function, we need to define how long we are going to train and how should we define the learning rate.", 
            "cell_type": "markdown", 
            "metadata": {}
        }, 
        {
            "execution_count": null, 
            "cell_type": "code", 
            "metadata": {}, 
            "outputs": [], 
            "source": "# Number of Epochs in our training\nnumEpochs = 700\n\n# Defining our learning rate iterations (decay)\nlearningRate = tf.train.exponential_decay(learning_rate=0.0008,\n                                          global_step= 1,\n                                          decay_steps=trainX.shape[0],\n                                          decay_rate= 0.95,\n                                          staircase=True)"
        }, 
        {
            "execution_count": null, 
            "cell_type": "code", 
            "metadata": {}, 
            "outputs": [], 
            "source": "#Defining our cost function - Squared Mean Error\ncost_OP = tf.nn.l2_loss(activation_OP-yGold, name=\"squared_error_cost\")\n\n#Defining our Gradient Descent\ntraining_OP = tf.train.GradientDescentOptimizer(learningRate).minimize(cost_OP)"
        }, 
        {
            "source": "Now we move on to actually running our operations. We will start with the operations involved in the prediction phase (i.e. the logistic regression itself).\n\nFirst, we need to initialize our weights and biases with zeros or random values via the inbuilt Initialization Op, __tf.initialize_all_variables()__. This Initialization Op will become a node in our computational graph, and when we put the graph into a session, then the Op will run and create the variables.", 
            "cell_type": "markdown", 
            "metadata": {}
        }, 
        {
            "execution_count": null, 
            "cell_type": "code", 
            "metadata": {}, 
            "outputs": [], 
            "source": "# Create a tensorflow session\nsess = tf.Session()\n\n# Initialize our weights and biases variables.\ninit_OP = tf.global_variables_initializer()\n\n# Initialize all tensorflow variables\nsess.run(init_OP)"
        }, 
        {
            "source": "We also want some additional operations to keep track of our model's efficiency over time. We can do this like so:", 
            "cell_type": "markdown", 
            "metadata": {}
        }, 
        {
            "execution_count": null, 
            "cell_type": "code", 
            "metadata": {}, 
            "outputs": [], 
            "source": "# argmax(activation_OP, 1) returns the label with the most probability\n# argmax(yGold, 1) is the correct label\ncorrect_predictions_OP = tf.equal(tf.argmax(activation_OP,1),tf.argmax(yGold,1))\n\n# If every false prediction is 0 and every true prediction is 1, the average returns us the accuracy\naccuracy_OP = tf.reduce_mean(tf.cast(correct_predictions_OP, \"float\"))\n\n# Summary op for regression output\nactivation_summary_OP = tf.summary.histogram(\"output\", activation_OP)\n\n# Summary op for accuracy\naccuracy_summary_OP = tf.summary.scalar(\"accuracy\", accuracy_OP)\n\n# Summary op for cost\ncost_summary_OP = tf.summary.scalar(\"cost\", cost_OP)\n\n# Summary ops to check how variables (W, b) are updating after each iteration\nweightSummary = tf.summary.histogram(\"weights\", weights.eval(session=sess))\nbiasSummary = tf.summary.histogram(\"biases\", bias.eval(session=sess))\n\n# Merge all summaries\nmerged = tf.summary.merge([activation_summary_OP, accuracy_summary_OP, cost_summary_OP, weightSummary, biasSummary])\n\n# Summary writer\nwriter = tf.summary.FileWriter(\"summary_logs\", sess.graph)"
        }, 
        {
            "source": "Now we can define and run the actual training loop, like this:", 
            "cell_type": "markdown", 
            "metadata": {}
        }, 
        {
            "execution_count": null, 
            "cell_type": "code", 
            "metadata": {
                "scrolled": true
            }, 
            "outputs": [], 
            "source": "# Initialize reporting variables\ncost = 0\ndiff = 1\nepoch_values = []\naccuracy_values = []\ncost_values = []\n\n# Training epochs\nfor i in range(numEpochs):\n    if i > 1 and diff < .0001:\n        print(\"change in cost %g; convergence.\"%diff)\n        break\n    else:\n        # Run training step\n        step = sess.run(training_OP, feed_dict={X: trainX, yGold: trainY})\n        # Report occasional stats\n        if i % 10 == 0:\n            # Add epoch to epoch_values\n            epoch_values.append(i)\n            # Generate accuracy stats on test data\n            train_accuracy, newCost = sess.run([accuracy_OP, cost_OP], feed_dict={X: trainX, yGold: trainY})\n            # Add accuracy to live graphing variable\n            accuracy_values.append(train_accuracy)\n            # Add cost to live graphing variable\n            cost_values.append(newCost)\n            # Re-assign values for variables\n            diff = abs(newCost - cost)\n            cost = newCost\n\n            #generate print statements\n            print(\"step %d, training accuracy %g, cost %g, change in cost %g\"%(i, train_accuracy, newCost, diff))\n\n\n# How well do we perform on held-out test data?\nprint(\"final accuracy on test set: %s\" %str(sess.run(accuracy_OP, \n                                                     feed_dict={X: testX, \n                                                                yGold: testY})))"
        }, 
        {
            "source": "__Why don't we plot the cost to see how it behaves?__", 
            "cell_type": "markdown", 
            "metadata": {}
        }, 
        {
            "execution_count": null, 
            "cell_type": "code", 
            "metadata": {}, 
            "outputs": [], 
            "source": "%matplotlib inline\nimport numpy as np\nimport matplotlib.pyplot as plt\nplt.plot([np.mean(cost_values[i-50:i]) for i in range(len(cost_values))])\nplt.show()"
        }, 
        {
            "source": "Assuming no parameters were changed, you should reach a peak accuracy of 90% at the end of training, which is commendable. Try changing the parameters such as the length of training, and maybe some operations to see how the model behaves. Does it take much longer? How is the performance?", 
            "cell_type": "markdown", 
            "metadata": {}
        }
    ], 
    "metadata": {
        "kernelspec": {
            "display_name": "Python 3.5", 
            "name": "python3", 
            "language": "python"
        }, 
        "widgets": {
            "state": {}, 
            "version": "1.1.2"
        }, 
        "language_info": {
            "mimetype": "text/x-python", 
            "nbconvert_exporter": "python", 
            "version": "3.5.4", 
            "name": "python", 
            "file_extension": ".py", 
            "pygments_lexer": "ipython3", 
            "codemirror_mode": {
                "version": 3, 
                "name": "ipython"
            }
        }
    }, 
    "nbformat": 4
}