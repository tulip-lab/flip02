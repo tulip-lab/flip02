{
    "nbformat_minor": 2, 
    "cells": [
        {
            "source": "# \u4f7f\u7528\u9884\u8bad\u7ec3\u7684\u8bcd\u5411\u91cf\n\n\u672c\u8282\u4ecb\u7ecd\u5982\u4f55\u901a\u8fc7`mxnet.contrib.text`\u4f7f\u7528\u9884\u8bad\u7ec3\u7684\u8bcd\u5411\u91cf\u3002\u9700\u8981\u6ce8\u610f\u7684\u662f\uff0c`mxnet.contrib.text`\u6b63\u5728\u6d4b\u8bd5\u4e2d\u5e76\u53ef\u80fd\u5728\u672a\u6765\u6709\u6539\u52a8\u3002\u5982\u6709\u6539\u52a8\uff0c\u672c\u8282\u5185\u5bb9\u4f1a\u4f5c\u76f8\u5e94\u66f4\u65b0\u3002\n\n\u672c\u8282\u4f7f\u7528\u7684\u9884\u8bad\u7ec3\u7684GloVe\u548cfastText\u8bcd\u5411\u91cf\u5206\u522b\u6765\u81ea\uff1a\n\n* GloVe\u9879\u76ee\u7f51\u7ad9\uff1ahttps://nlp.stanford.edu/projects/glove/\n* fastText\u9879\u76ee\u7f51\u7ad9\uff1ahttps://fasttext.cc/\n\n\u6211\u4eec\u5148\u8f7d\u5165\u9700\u8981\u7684\u5305\u3002", 
            "cell_type": "markdown", 
            "metadata": {}
        }, 
        {
            "execution_count": null, 
            "cell_type": "code", 
            "metadata": {
                "attributes": {
                    "classes": [], 
                    "id": "", 
                    "n": "1"
                }
            }, 
            "outputs": [], 
            "source": "from mxnet import gluon\nfrom mxnet import nd\nfrom mxnet.contrib import text"
        }, 
        {
            "source": "## \u7531\u6570\u636e\u96c6\u5efa\u7acb\u8bcd\u5178\u548c\u8f7d\u5165\u8bcd\u5411\u91cf\u2014\u2014\u4ee5fastText\u4e3a\u4f8b\n\n\u770b\u4e00\u4e0bfastText\u524d\u4e94\u4e2a\u9884\u8bad\u7ec3\u7684\u8bcd\u5411\u91cf\u3002\u5b83\u4eec\u5206\u522b\u4ece\u4e0d\u540c\u8bed\u8a00\u7684Wikipedia\u6570\u636e\u96c6\u8bad\u7ec3\u5f97\u5230\u3002", 
            "cell_type": "markdown", 
            "metadata": {}
        }, 
        {
            "execution_count": null, 
            "cell_type": "code", 
            "metadata": {
                "attributes": {
                    "classes": [], 
                    "id": "", 
                    "n": "34"
                }
            }, 
            "outputs": [], 
            "source": "text.embedding.get_pretrained_file_names('fasttext')[:5]"
        }, 
        {
            "source": "### \u8bbf\u95ee\u8bcd\u5411\u91cf\n\n\u4e3a\u4e86\u6f14\u793a\u65b9\u4fbf\uff0c\u6211\u4eec\u521b\u5efa\u4e00\u4e2a\u5f88\u5c0f\u7684\u6587\u672c\u6570\u636e\u96c6\uff0c\u5e76\u8ba1\u7b97\u8bcd\u9891\u3002", 
            "cell_type": "markdown", 
            "metadata": {}
        }, 
        {
            "execution_count": null, 
            "cell_type": "code", 
            "metadata": {
                "attributes": {
                    "classes": [], 
                    "id": "", 
                    "n": "3"
                }
            }, 
            "outputs": [], 
            "source": "text_data = \" hello world \\n hello nice world \\n hi world \\n\"\ncounter = text.utils.count_tokens_from_str(text_data)"
        }, 
        {
            "execution_count": null, 
            "cell_type": "code", 
            "metadata": {}, 
            "outputs": [], 
            "source": "counter"
        }, 
        {
            "source": "\u6211\u4eec\u5148\u6839\u636e\u6570\u636e\u96c6\u5efa\u7acb\u8bcd\u5178\uff0c\u5e76\u4e3a\u8be5\u8bcd\u5178\u4e2d\u7684\u8bcd\u8f7d\u5165fastText\u8bcd\u5411\u91cf\u3002\u8fd9\u91cc\u4f7f\u7528Simple English\u7684\u9884\u8bad\u7ec3\u8bcd\u5411\u91cf\u3002", 
            "cell_type": "markdown", 
            "metadata": {}
        }, 
        {
            "execution_count": null, 
            "cell_type": "code", 
            "metadata": {
                "attributes": {
                    "classes": [], 
                    "id": "", 
                    "n": "4"
                }
            }, 
            "outputs": [], 
            "source": "my_vocab = text.vocab.Vocabulary(counter)\nmy_embedding = text.embedding.create(\n    'fasttext', pretrained_file_name='wiki.simple.vec', vocabulary=my_vocab)"
        }, 
        {
            "execution_count": null, 
            "cell_type": "code", 
            "metadata": {}, 
            "outputs": [], 
            "source": "!ls"
        }, 
        {
            "source": "\u8bcd\u5178\u9664\u4e86\u5305\u62ec\u6570\u636e\u96c6\u4e2d\u56db\u4e2a\u4e0d\u540c\u7684\u8bcd\u8bed\uff0c\u8fd8\u5305\u62ec\u4e00\u4e2a\u7279\u6b8a\u7684\u672a\u77e5\u8bcd\u7b26\u53f7\u3002\u770b\u4e00\u4e0b\u8bcd\u5178\u5927\u5c0f\u3002", 
            "cell_type": "markdown", 
            "metadata": {}
        }, 
        {
            "execution_count": null, 
            "cell_type": "code", 
            "metadata": {}, 
            "outputs": [], 
            "source": "len(my_embedding)"
        }, 
        {
            "execution_count": null, 
            "cell_type": "code", 
            "metadata": {}, 
            "outputs": [], 
            "source": "display(my_embedding)"
        }, 
        {
            "source": "\u4efb\u610f\u4e00\u4e2a\u8bcd\u5178\u4ee5\u5916\u8bcd\u7684\u8bcd\u5411\u91cf\u9ed8\u8ba4\u4e3a\u96f6\u5411\u91cf\u3002", 
            "cell_type": "markdown", 
            "metadata": {}
        }, 
        {
            "execution_count": null, 
            "cell_type": "code", 
            "metadata": {}, 
            "outputs": [], 
            "source": "my_embedding.get_vecs_by_tokens('beautiful')[:10]"
        }, 
        {
            "source": "\u770b\u4e00\u4e0b\u6570\u636e\u96c6\u4e2d\u4e24\u4e2a\u8bcd\u201chello\u201d\u548c\u201cworld\u201d\u8bcd\u5411\u91cf\u7684\u5f62\u72b6\u3002fastText\u4e2d\u6bcf\u4e2a\u8bcd\u5747\u4f7f\u7528300\u7ef4\u7684\u8bcd\u5411\u91cf\u3002", 
            "cell_type": "markdown", 
            "metadata": {}
        }, 
        {
            "execution_count": null, 
            "cell_type": "code", 
            "metadata": {
                "attributes": {
                    "classes": [], 
                    "id": "", 
                    "n": "5"
                }
            }, 
            "outputs": [], 
            "source": "my_embedding.get_vecs_by_tokens(['hello', 'world']).shape"
        }, 
        {
            "source": "\u6253\u5370\u201chello\u201d\u548c\u201cworld\u201d\u8bcd\u5411\u91cf\u524d\u4e94\u4e2a\u5143\u7d20\u3002", 
            "cell_type": "markdown", 
            "metadata": {}
        }, 
        {
            "execution_count": null, 
            "cell_type": "code", 
            "metadata": {
                "attributes": {
                    "classes": [], 
                    "id": "", 
                    "n": "6"
                }
            }, 
            "outputs": [], 
            "source": "my_embedding.get_vecs_by_tokens(['hello', 'world'])[:, :5]"
        }, 
        {
            "source": "\u770b\u4e00\u4e0b\u201chello\u201d\u548c\u201cworld\u201d\u5728\u8bcd\u5178\u4e2d\u7684\u7d22\u5f15\u3002", 
            "cell_type": "markdown", 
            "metadata": {}
        }, 
        {
            "execution_count": null, 
            "cell_type": "code", 
            "metadata": {
                "attributes": {
                    "classes": [], 
                    "id": "", 
                    "n": "7"
                }
            }, 
            "outputs": [], 
            "source": "my_embedding.to_indices(['hello', 'world'])"
        }, 
        {
            "execution_count": null, 
            "cell_type": "code", 
            "metadata": {}, 
            "outputs": [], 
            "source": "print(len(my_embedding))\nprint(my_embedding.vec_len)"
        }, 
        {
            "source": "### \u4f7f\u7528\u9884\u8bad\u7ec3\u8bcd\u5411\u91cf\u521d\u59cb\u5316gluon.nn.Embedding\n\n\u6211\u4eec\u53ef\u4ee5\u4f7f\u7528\u9884\u8bad\u7ec3\u7684\u8bcd\u5411\u91cf\u521d\u59cb\u5316`gluon.nn.Embedding`\u3002", 
            "cell_type": "markdown", 
            "metadata": {}
        }, 
        {
            "execution_count": null, 
            "cell_type": "code", 
            "metadata": {
                "attributes": {
                    "classes": [], 
                    "id": "", 
                    "n": "8"
                }
            }, 
            "outputs": [], 
            "source": "layer = gluon.nn.Embedding(len(my_embedding), my_embedding.vec_len)\nlayer.initialize()\nlayer.weight.set_data(my_embedding.idx_to_vec)"
        }, 
        {
            "source": "\u4f7f\u7528\u8bcd\u5178\u4e2d\u201chello\u201d\u548c\u201cworld\u201d\u4e24\u4e2a\u8bcd\u5728\u8bcd\u5178\u4e2d\u7684\u7d22\u5f15\uff0c\u6211\u4eec\u53ef\u4ee5\u901a\u8fc7`gluon.nn.Embedding`\u5f97\u5230\u5b83\u4eec\u7684\u8bcd\u5411\u91cf\uff0c\u5e76\u5411\u795e\u7ecf\u7f51\u7edc\u7684\u4e0b\u4e00\u5c42\u4f20\u9012\u3002", 
            "cell_type": "markdown", 
            "metadata": {}
        }, 
        {
            "execution_count": null, 
            "cell_type": "code", 
            "metadata": {
                "attributes": {
                    "classes": [], 
                    "id": "", 
                    "n": "9"
                }
            }, 
            "outputs": [], 
            "source": "layer(nd.array([2, 1]))[:, :5]"
        }, 
        {
            "source": "## \u7531\u9884\u8bad\u7ec3\u8bcd\u5411\u91cf\u5efa\u7acb\u8bcd\u5178\u2014\u2014\u4ee5GloVe\u4e3a\u4f8b\n\n\u770b\u4e00\u4e0bGloVe\u524d\u4e94\u4e2a\u9884\u8bad\u7ec3\u7684\u8bcd\u5411\u91cf\u3002", 
            "cell_type": "markdown", 
            "metadata": {}
        }, 
        {
            "execution_count": null, 
            "cell_type": "code", 
            "metadata": {
                "attributes": {
                    "classes": [], 
                    "id": "", 
                    "n": "35"
                }
            }, 
            "outputs": [], 
            "source": "text.embedding.get_pretrained_file_names('glove')[:5]"
        }, 
        {
            "source": "\u4e3a\u4e86\u6f14\u793a\u7b80\u4fbf\uff0c\u6211\u4eec\u4f7f\u7528\u5c0f\u4e00\u70b9\u7684\u8bcd\u5411\u91cf\uff0c\u4f8b\u598250\u7ef4\u3002\u8fd9\u91cc\u4e0d\u518d\u4f20\u5165\u6839\u636e\u6570\u636e\u96c6\u5efa\u7acb\u7684\u8bcd\u5178\uff0c\u800c\u662f\u76f4\u63a5\u4f7f\u7528\u9884\u8bad\u7ec3\u8bcd\u5411\u91cf\u4e2d\u7684\u8bcd\u5178\u3002", 
            "cell_type": "markdown", 
            "metadata": {}
        }, 
        {
            "execution_count": null, 
            "cell_type": "code", 
            "metadata": {
                "attributes": {
                    "classes": [], 
                    "id": "", 
                    "n": "11"
                }
            }, 
            "outputs": [], 
            "source": "glove_6b50d = text.embedding.create('glove', \n                                    pretrained_file_name='glove.6B.50d.txt')"
        }, 
        {
            "source": "\u770b\u4e00\u4e0b\u8fd9\u4e2a\u8bcd\u5178\u591a\u5927\u3002\u6ce8\u610f\u5176\u4e2d\u5305\u542b\u4e00\u4e2a\u7279\u6b8a\u7684\u672a\u77e5\u8bcd\u7b26\u53f7\u3002", 
            "cell_type": "markdown", 
            "metadata": {}
        }, 
        {
            "execution_count": null, 
            "cell_type": "code", 
            "metadata": {}, 
            "outputs": [], 
            "source": "print(len(glove_6b50d))"
        }, 
        {
            "source": "\u6211\u4eec\u53ef\u4ee5\u8bbf\u95ee\u8bcd\u5411\u91cf\u7684\u5c5e\u6027\u3002", 
            "cell_type": "markdown", 
            "metadata": {}
        }, 
        {
            "execution_count": null, 
            "cell_type": "code", 
            "metadata": {
                "attributes": {
                    "classes": [], 
                    "id": "", 
                    "n": "12"
                }
            }, 
            "outputs": [], 
            "source": "# \u8bcd\u5230\u7d22\u5f15\u3002\nprint(glove_6b50d.token_to_idx['beautiful'])\n# \u7d22\u5f15\u5230\u8bcd\u3002\nprint(glove_6b50d.idx_to_token[8888])\n# \u8bcd\u5411\u91cf\u957f\u5ea6\u3002\nprint(glove_6b50d.vec_len)"
        }, 
        {
            "source": "## \u9884\u8bad\u7ec3\u8bcd\u5411\u91cf\u7684\u5e94\u7528\u2014\u2014\u4ee5GloVe\u4e3a\u4f8b\n\n\u4e3a\u4e86\u5e94\u7528\u9884\u8bad\u7ec3\u8bcd\u5411\u91cf\uff0c\u6211\u4eec\u9700\u8981\u5b9a\u4e49\u4f59\u5f26\u76f8\u4f3c\u5ea6\u3002\u5b83\u53ef\u4ee5\u6bd4\u8f83\u4e24\u4e2a\u5411\u91cf\u4e4b\u95f4\u7684\u76f8\u4f3c\u5ea6\u3002", 
            "cell_type": "markdown", 
            "metadata": {}
        }, 
        {
            "execution_count": null, 
            "cell_type": "code", 
            "metadata": {
                "attributes": {
                    "classes": [], 
                    "id": "", 
                    "n": "13"
                }
            }, 
            "outputs": [], 
            "source": "from mxnet import nd\ndef cos_sim(x, y):\n    return nd.dot(x, y) / (nd.norm(x) * nd.norm(y))"
        }, 
        {
            "source": "\u4f59\u5f26\u76f8\u4f3c\u5ea6\u7684\u503c\u57df\u5728-1\u52301\u4e4b\u95f4\u3002\u4f59\u5f26\u76f8\u4f3c\u5ea6\u503c\u8d8a\u5927\uff0c\u4e24\u4e2a\u5411\u91cf\u8d8a\u63a5\u8fd1\u3002", 
            "cell_type": "markdown", 
            "metadata": {}
        }, 
        {
            "execution_count": null, 
            "cell_type": "code", 
            "metadata": {
                "attributes": {
                    "classes": [], 
                    "id": "", 
                    "n": "14"
                }
            }, 
            "outputs": [], 
            "source": "x = nd.array([1, 2])\ny = nd.array([10, 20])\nz = nd.array([-1, -2])\n\nprint(cos_sim(x, y))\nprint(cos_sim(x, z))"
        }, 
        {
            "source": "### \u6c42\u8fd1\u4f3c\u8bcd\n\n\u7ed9\u5b9a\u4efb\u610f\u8bcd\uff0c\u6211\u4eec\u53ef\u4ee5\u4ece\u6574\u4e2a\u8bcd\u5178\uff08\u5927\u5c0f40\u4e07\uff0c\u4e0d\u542b\u672a\u77e5\u8bcd\u7b26\u53f7\uff09\u4e2d\u627e\u51fa\u4e0e\u5b83\u6700\u63a5\u8fd1\u7684$k$\u4e2a\u8bcd\uff08$k$ nearest neighbors\uff09\u3002\u8bcd\u4e0e\u8bcd\u4e4b\u95f4\u7684\u76f8\u4f3c\u5ea6\u53ef\u4ee5\u7528\u4e24\u4e2a\u8bcd\u5411\u91cf\u7684\u4f59\u5f26\u76f8\u4f3c\u5ea6\u8868\u793a\u3002", 
            "cell_type": "markdown", 
            "metadata": {}
        }, 
        {
            "execution_count": null, 
            "cell_type": "code", 
            "metadata": {}, 
            "outputs": [], 
            "source": "def norm_vecs_by_row(x):\n    return x / nd.sqrt(nd.sum(x * x, axis=1)).reshape((-1,1))\n\ndef get_knn(token_embedding, k, word):\n    word_vec = token_embedding.get_vecs_by_tokens([word]).reshape((-1, 1))\n    vocab_vecs = norm_vecs_by_row(token_embedding.idx_to_vec)\n    dot_prod = nd.dot(vocab_vecs, word_vec)\n    indices = nd.topk(dot_prod.reshape((len(token_embedding), )), k=k+2,\n                      ret_typ='indices')\n    indices = [int(i.asscalar()) for i in indices]\n    # \u9664\u53bb\u672a\u77e5\u8bcd\u7b26\u53f7\u548c\u8f93\u5165\u8bcd\u3002\n    return token_embedding.to_tokens(indices[2:])"
        }, 
        {
            "source": "\u67e5\u627e\u8bcd\u5178\u4e2d\u4e0e\u201cbaby\u201d\u6700\u63a5\u8fd1\u76845\u4e2a\u8bcd\u3002", 
            "cell_type": "markdown", 
            "metadata": {}
        }, 
        {
            "execution_count": null, 
            "cell_type": "code", 
            "metadata": {}, 
            "outputs": [], 
            "source": "get_knn(glove_6b50d, 5, 'baby')"
        }, 
        {
            "source": "\u9a8c\u8bc1\u4e00\u4e0b\u201cbaby\u201d\u548c\u201cbabies\u201d\u4e24\u4e2a\u8bcd\u5411\u91cf\u4e4b\u95f4\u7684\u4f59\u5f26\u76f8\u4f3c\u5ea6\u3002", 
            "cell_type": "markdown", 
            "metadata": {}
        }, 
        {
            "execution_count": null, 
            "cell_type": "code", 
            "metadata": {}, 
            "outputs": [], 
            "source": "cos_sim(glove_6b50d.get_vecs_by_tokens('baby'),\n        glove_6b50d.get_vecs_by_tokens('babies'))"
        }, 
        {
            "source": "\u67e5\u627e\u8bcd\u5178\u4e2d\u4e0e\u201ccomputers\u201d\u6700\u63a5\u8fd1\u76845\u4e2a\u8bcd\u3002", 
            "cell_type": "markdown", 
            "metadata": {}
        }, 
        {
            "execution_count": null, 
            "cell_type": "code", 
            "metadata": {}, 
            "outputs": [], 
            "source": "get_knn(glove_6b50d, 5, 'computers')"
        }, 
        {
            "source": "\u67e5\u627e\u8bcd\u5178\u4e2d\u4e0e\u201crun\u201d\u6700\u63a5\u8fd1\u76845\u4e2a\u8bcd\u3002", 
            "cell_type": "markdown", 
            "metadata": {}
        }, 
        {
            "execution_count": null, 
            "cell_type": "code", 
            "metadata": {}, 
            "outputs": [], 
            "source": "get_knn(glove_6b50d, 5, 'run')\n"
        }, 
        {
            "source": "\u67e5\u627e\u8bcd\u5178\u4e2d\u4e0e\u201cbeautiful\u201d\u6700\u63a5\u8fd1\u76845\u4e2a\u8bcd\u3002", 
            "cell_type": "markdown", 
            "metadata": {}
        }, 
        {
            "execution_count": null, 
            "cell_type": "code", 
            "metadata": {}, 
            "outputs": [], 
            "source": "get_knn(glove_6b50d, 5, 'beautiful')"
        }, 
        {
            "source": "### \u6c42\u7c7b\u6bd4\u8bcd\n\n\u6211\u4eec\u53ef\u4ee5\u4f7f\u7528\u9884\u8bad\u7ec3\u8bcd\u5411\u91cf\u6c42\u8bcd\u4e0e\u8bcd\u4e4b\u95f4\u7684\u7c7b\u6bd4\u5173\u7cfb\u3002\u4f8b\u5982\uff0cman : woman :: son : daughter \u662f\u4e00\u4e2a\u7c7b\u6bd4\u4f8b\u5b50\uff1a\u201cman\u201d\u4e4b\u4e8e\u201cwoman\u201d\u76f8\u5f53\u4e8e\u201cson\u201d\u4e4b\u4e8e\u201cdaughter\u201d\u3002\u6c42\u7c7b\u6bd4\u8bcd\u95ee\u9898\u53ef\u4ee5\u5b9a\u4e49\u4e3a\uff1a\u5bf9\u4e8e\u7c7b\u6bd4\u5173\u7cfb\u4e2d\u7684\u56db\u4e2a\u8bcd a : b :: c : d\uff0c\u7ed9\u5b9a\u524d\u4e09\u4e2a\u8bcda, b, c\uff0c\u6c42d\u3002\u89e3\u7c7b\u6bd4\u8bcd\u7684\u601d\u8def\u662f\uff0c\u627e\u5230\u548cc+(b-a)\u7684\u7ed3\u679c\u8bcd\u5411\u91cf\u6700\u76f8\u4f3c\u7684\u8bcd\u5411\u91cf\u3002\n\n\u672c\u4f8b\u4e2d\uff0c\u6211\u4eec\u5c06\u4ece\u6574\u4e2a\u8bcd\u5178\uff08\u5927\u5c0f40\u4e07\uff0c\u4e0d\u542b\u672a\u77e5\u8bcd\u7b26\u53f7\uff09\u4e2d\u627e\u7c7b\u6bd4\u8bcd\u3002", 
            "cell_type": "markdown", 
            "metadata": {}
        }, 
        {
            "execution_count": null, 
            "cell_type": "code", 
            "metadata": {
                "attributes": {
                    "classes": [], 
                    "id": "", 
                    "n": "17"
                }
            }, 
            "outputs": [], 
            "source": "def get_top_k_by_analogy(token_embedding, k, word1, word2, word3):\n    word_vecs = token_embedding.get_vecs_by_tokens([word1, word2, word3])\n    word_diff = (word_vecs[1] - word_vecs[0] + word_vecs[2]).reshape((-1, 1))\n    vocab_vecs = norm_vecs_by_row(token_embedding.idx_to_vec)\n    dot_prod = nd.dot(vocab_vecs, word_diff)\n    indices = nd.topk(dot_prod.reshape((len(token_embedding), )), k=k+1,\n                      ret_typ='indices')\n    indices = [int(i.asscalar()) for i in indices]\n\n    # \u4e0d\u8003\u8651\u672a\u77e5\u8bcd\u4e3a\u53ef\u80fd\u7684\u7c7b\u6bd4\u8bcd\u3002\n    if token_embedding.to_tokens(indices[0]) == token_embedding.unknown_token:\n        return token_embedding.to_tokens(indices[1:])\n    else:\n        return token_embedding.to_tokens(indices[:-1])"
        }, 
        {
            "source": "\u201c\u7537-\u5973\u201d\u7c7b\u6bd4\uff1a\u201cman\u201d\u4e4b\u4e8e\u201cwoman\u201d\u76f8\u5f53\u4e8e\u201cson\u201d\u4e4b\u4e8e\u4ec0\u4e48\uff1f", 
            "cell_type": "markdown", 
            "metadata": {}
        }, 
        {
            "execution_count": null, 
            "cell_type": "code", 
            "metadata": {
                "attributes": {
                    "classes": [], 
                    "id": "", 
                    "n": "18"
                }
            }, 
            "outputs": [], 
            "source": "get_top_k_by_analogy(glove_6b50d, 1, 'man', 'woman', 'son')"
        }, 
        {
            "source": "\u9a8c\u8bc1\u4e00\u4e0bvec(\u201cson\u201d)+vec(\u201cwoman\u201d)-vec(\u201cman\u201d)\u4e0evec(\u201cdaughter\u201d)\u4e24\u4e2a\u5411\u91cf\u4e4b\u95f4\u7684\u4f59\u5f26\u76f8\u4f3c\u5ea6\u3002", 
            "cell_type": "markdown", 
            "metadata": {}
        }, 
        {
            "execution_count": null, 
            "cell_type": "code", 
            "metadata": {}, 
            "outputs": [], 
            "source": "def cos_sim_word_analogy(token_embedding, word1, word2, word3, word4):\n    words = [word1, word2, word3, word4]\n    vecs = token_embedding.get_vecs_by_tokens(words)\n    return cos_sim(vecs[1] - vecs[0] + vecs[2], vecs[3])\n\ncos_sim_word_analogy(glove_6b50d, 'man', 'woman', 'son', 'daughter')"
        }, 
        {
            "source": "\u201c\u9996\u90fd-\u56fd\u5bb6\u201d\u7c7b\u6bd4\uff1a\u201cbeijing\u201d\u4e4b\u4e8e\u201cchina\u201d\u76f8\u5f53\u4e8e\u201ctokyo\u201d\u4e4b\u4e8e\u4ec0\u4e48\uff1f", 
            "cell_type": "markdown", 
            "metadata": {}
        }, 
        {
            "execution_count": null, 
            "cell_type": "code", 
            "metadata": {
                "attributes": {
                    "classes": [], 
                    "id": "", 
                    "n": "19"
                }
            }, 
            "outputs": [], 
            "source": "get_top_k_by_analogy(glove_6b50d, 1, 'beijing', 'china', 'hanoi')"
        }, 
        {
            "source": "\u201c\u5f62\u5bb9\u8bcd-\u5f62\u5bb9\u8bcd\u6700\u9ad8\u7ea7\u201d\u7c7b\u6bd4\uff1a\u201cbad\u201d\u4e4b\u4e8e\u201cworst\u201d\u76f8\u5f53\u4e8e\u201cbig\u201d\u4e4b\u4e8e\u4ec0\u4e48\uff1f", 
            "cell_type": "markdown", 
            "metadata": {}
        }, 
        {
            "execution_count": null, 
            "cell_type": "code", 
            "metadata": {
                "attributes": {
                    "classes": [], 
                    "id": "", 
                    "n": "20"
                }
            }, 
            "outputs": [], 
            "source": "get_top_k_by_analogy(glove_6b50d, 1, 'bad', 'worst', 'big')"
        }, 
        {
            "source": "\u201c\u52a8\u8bcd\u4e00\u822c\u65f6-\u52a8\u8bcd\u8fc7\u53bb\u65f6\u201d\u7c7b\u6bd4\uff1a\u201cdo\u201d\u4e4b\u4e8e\u201cdid\u201d\u76f8\u5f53\u4e8e\u201cgo\u201d\u4e4b\u4e8e\u4ec0\u4e48\uff1f", 
            "cell_type": "markdown", 
            "metadata": {}
        }, 
        {
            "execution_count": null, 
            "cell_type": "code", 
            "metadata": {
                "attributes": {
                    "classes": [], 
                    "id": "", 
                    "n": "21"
                }
            }, 
            "outputs": [], 
            "source": "get_top_k_by_analogy(glove_6b50d, 1, 'do', 'did', 'go')"
        }, 
        {
            "source": "## \u7ed3\u8bba\n\n* \u4f7f\u7528`mxnet.contrib.text`\u53ef\u4ee5\u8f7b\u677e\u8f7d\u5165\u9884\u8bad\u7ec3\u7684\u8bcd\u5411\u91cf\u3002\n* \u6211\u4eec\u53ef\u4ee5\u5e94\u7528\u9884\u8bad\u7ec3\u7684\u8bcd\u5411\u91cf\u6c42\u76f8\u4f3c\u8bcd\u548c\u7c7b\u6bd4\u8bcd\u3002\n\n\n## \u7ec3\u4e60\n\n* \u5c06\u8fd1\u4f3c\u8bcd\u548c\u7c7b\u6bd4\u8bcd\u5e94\u7528\u4e2d\u7684$k$\u8c03\u5927\u4e00\u4e9b\uff0c\u89c2\u5bdf\u7ed3\u679c\u3002\n* \u6d4b\u8bd5\u4e00\u4e0bfastText\u7684\u4e2d\u6587\u8bcd\u5411\u91cf\uff08pretrained_file_name='wiki.zh.vec'\uff09\u3002\n* \u5982\u679c\u5728[\u4f7f\u7528\u5faa\u73af\u795e\u7ecf\u7f51\u7edc\u7684\u8bed\u8a00\u6a21\u578b](../chapter_recurrent-neural-networks/rnn-gluon.md)\u4e2d\u5c06Embedding\u5c42\u521d\u59cb\u5316\u4e3a\u9884\u8bad\u7ec3\u7684\u8bcd\u5411\u91cf\uff0c\u6548\u679c\u5982\u4f55\uff1f\n\n\n**\u5410\u69fd\u548c\u8ba8\u8bba\u6b22\u8fce\u70b9**[\u8fd9\u91cc](https://discuss.gluon.ai/t/topic/4373)", 
            "cell_type": "markdown", 
            "metadata": {}
        }
    ], 
    "metadata": {
        "kernelspec": {
            "display_name": "Python 2 with Spark 1.6 (Unsupported)", 
            "name": "python2", 
            "language": "python"
        }, 
        "language_info": {
            "mimetype": "text/x-python", 
            "nbconvert_exporter": "python", 
            "version": "2.7.11", 
            "name": "python", 
            "file_extension": ".py", 
            "pygments_lexer": "ipython2", 
            "codemirror_mode": {
                "version": 2, 
                "name": "ipython"
            }
        }
    }, 
    "nbformat": 4
}