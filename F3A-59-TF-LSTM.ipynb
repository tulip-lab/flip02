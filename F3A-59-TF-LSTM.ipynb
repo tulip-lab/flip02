{
    "nbformat_minor": 1, 
    "cells": [
        {
            "source": "# Modern Data Science \n**(Module 05: Deep Learning)**\n\n---\n- Materials in this module include resources collected from various open-source online repositories.\n- You are free to use, change and distribute this package.\n\nPrepared by and for \n**Student Members** |\n2006-2018 [TULIP Lab](http://www.tulip.org.au), Australia\n\n---\n\n\n# Session G - Recurrent Networks (LSTM)\n\nHello and welcome to this notebook. In this notebook, we will go over concepts of the Long Short-Term Memory (LSTM) model, a refinement of the original Recurrent Neural Network model. By the end of this notebook, you should be able to understand the Long Short-Term Memory model, the benefits and problems it solves, and its inner workings and calculations.\n\n\n** References and additional reading and resources**\n* This material is from [CognitiveClass.AI](https://cognitiveclass.ai), created by: <a href=\"https://br.linkedin.com/in/walter-gomes-de-amorim-junior-624726121\">Walter Gomes de Amorim Junior</a>, <a href = \"https://linkedin.com/in/saeedaghabozorgi\"> Saeed Aghabozorgi </a> \n* This notebook and its source code are released under the terms of the [MIT License](https://bigdatauniversity.com/mit-license/).\n\n---\n\n\n", 
            "cell_type": "markdown", 
            "metadata": {}
        }, 
        {
            "source": "\n## 1. RNN and LSTM\n\n**Long Short-Term Memory**, or **LSTM** for short, is one of the proposed solutions or upgrades to the **Recurrent Neural Network model**. The Recurrent Neural Network is a specialized type of Neural Network that solves the issue of **maintaining context for Sequential data** -- such as Weather data, Stocks, Genes, etc. At each iterative step, the processing unit takes in an input and the current state of the network, and produces an output and a new state that is **re-fed into the network**.\n\n<img src=https://ibm.box.com/shared/static/v7p90neiaqghmpwawpiecmz9n7080m59.png width=\"720\"/>\n<center>*Representation of a Recurrent Neural Network*</center>\n\nHowever, this model has some problems. It's very computationally expensive to maintain the state for a large amount of units, even more so over a long amount of time. Additionally, Recurrent Networks are very sensitive to changes in their parameters. As such, they are prone to different problems with their Gradient Descent optimizer -- they either grow exponentially (Exploding Gradient) or drop down to near zero and stabilize (Vanishing Gradient), both problems that greatly harm a model's learning capability.\n\n### 1.1 Long Short-Term Memory: What is it?\n\nTo solve these problems, Hochreiter and Schmidhuber published a paper in 1997 describing a way to keep information over long periods of time and additionally solve the oversensitivity to parameter changes, i.e., make backpropagating through the Recurrent Networks more viable.\n\nThe Long Short-Term Memory, as it was called, was an abstraction of how computer memory works. It is \"bundled\" with whatever processing unit is implemented in the Recurrent Network, although outside of its flow, and is responsible for keeping, reading, and outputting information for the model. The way it works is simple: you have a linear unit, which is the information cell itself, surrounded by three logistic gates responsible for maintaining the data. One gate is for inputting data into the information cell, one is for outputting data from the input cell, and the last one is to keep or forget data depending on the needs of the network.\n\nThanks to that, it not only solves the problem of keeping states, because the network can choose to forget data whenever information is not needed, it also solves the gradient problems, since the Logistic Gates have a very nice derivative.\n\n### 1.2 Long Short-Term Memory Architecture\n\nAs seen before, the Long Short-Term Memory is composed of a linear unit surrounded by three logistic gates. The name for these gates vary from place to place, but the most usual names for them are the \"Input\" or \"Write\" Gate, which handles the writing of data into the information cell, the \"Output\" or \"Read\" Gate, which handles the sending of data back onto the Recurrent Network, and the \"Keep\" or \"Forget\" Gate, which handles the maintaining and modification of the data stored in the information cell.\n\n<img src=https://ibm.box.com/shared/static/zx10duv5egw0baw6gh2hzsgr8ex45gsg.png width=\"720\"/>\n<center>*Diagram of the Long Short-Term Memory Unit*</center>\n\nThe three gates are the centerpiece of the LSTM unit. The gates, when activated by the network, perform their respective functions. For example, the Input Gate will write whatever data it is passed onto the information cell, the Output Gate will return whatever data is in the information cell, and the Keep Gate will maintain the data in the information cell. These gates are analog and multiplicative, and as such, can modify the data based on the signal they are sent.\n\n---\n\nFor example, an usual flow of operations for the LSTM unit is as such: First off, the Keep Gate has to decide whether to keep or forget the data currently stored in memory. It receives both the input and the state of the Recurrent Network, and passes it through its Sigmoid activation. A value of 1 means that the LSTM unit should keep the data stored perfectly and a value of 0 means that it should forget it entirely. Consider $S_{t-1}$ as the incoming (previous) state, $x_t$ as the incoming input, and $W_k$, $B_k$ as the weight and bias for the Keep Gate. Additionally, consider $Old_{t-1}$ as the data previously in memory. What happens can be summarized by this equation:\n<br/>\n<font size = 4><strong>\n$$K_t = \\sigma(W_k \\times [S_{t-1},x_t] + B_k)$$\n\n$$Old_t = K_t \\times Old_{t-1}$$\n</strong></font>\n<br/>\nAs you can see, $Old_{t-1}$ was multiplied by value was returned by the Keep Gate -- this value is written in the memory cell. Then, the input and state are passed on to the Input Gate, in which there is another Sigmoid activation applied. Concurrently, the input is processed as normal by whatever processing unit is implemented in the network, and then multiplied by the Sigmoid activation's result, much like the Keep Gate. Consider $W_i$ and $B_i$ as the weight and bias for the Input Gate, and $C_t$ the result of the processing of the inputs by the Recurrent Network.\n<br/>\n<font size = 4><strong>\n$$I_t = \\sigma(W_i\\times[S_{t-1},x_t]+B_i)$$\n\n$$New_t = I_t \\times C_t$$\n</strong></font>\n<br/>\n$New_t$ is the new data to be input into the memory cell. This is then **added** to whatever value is still stored in memory.\n<br/>\n<font size = 4><strong>\n$$Cell_t = Old_t + New_t$$\n</strong></font>\n<br/>\nWe now have the *candidate data* which is to be kept in the memory cell. The conjunction of the Keep and Input gates work in an analog manner, making it so that it is possible to keep part of the old data and add only part of the new data. Consider however, what would happen if the Forget Gate was set to 0 and the Input Gate was set to 1:\n<br/>\n<font size = 4><strong>\n$$Old_t = 0 \\times Old_{t-1}$$\n\n$$New_t = 1 \\times C_t$$\n\n$$Cell_t = C_t$$\n</strong></font>\n<br/>\nThe old data would be totally forgotten and the new data would overwrite it completely.\n\nThe Output Gate functions in a similar manner. To decide what we should output, we take the input data and state and pass it through a Sigmoid function as usual. The contents of our memory cell, however, are pushed onto a *Tanh* function to bind them between a value of -1 to 1. Consider $W_o$ and $B_o$ as the weight and bias for the Output Gate.\n<br/>\n<font size = 4><strong>\n$$O_t = \\sigma(W_o \\times [S_{t-1},x_t] + B_o)$$\n\n$$Output_t = O_t \\times tanh(Cell_t)$$\n</strong></font>\n<br/>\n\nAnd that $Output_t$ is what is output into the Recurrent Network.\n\n<br/>\n<img width=\"384\" src=\"https://ibm.box.com/shared/static/rkr60528r3mz2fmtlpah8lqpg7mcsy0g.png\">\n<center>*The Logistic Function plotted*</Center>\n\nAs mentioned many times, all three gates are logistic. The reason for this is because it is very easy to backpropagate through them, and as such, it is possible for the model to learn exactly _how_ it is supposed to use this structure. This is one of the reasons for which LSTM is a very strong structure. Additionally, this solves the gradient problems by being able to manipulate values through the gates themselves -- by passing the inputs and outputs through the gates, we have now a easily derivable function modifying our inputs.\n\nIn regards to the problem of storing many states over a long period of time, LSTM handles this perfectly by only keeping whatever information is necessary and forgetting it whenever it is not needed anymore. Therefore, LSTMs are a very elegant solution to both problems.\n\n", 
            "cell_type": "markdown", 
            "metadata": {}
        }, 
        {
            "source": "## 2. LSTM basics\nLets first create a tiny LSTM network sample to underestand the architecture of LSTM networks.", 
            "cell_type": "markdown", 
            "metadata": {}
        }, 
        {
            "source": "We need to import the necessary modules for our code. We need **`numpy` and `tensorflow`**, obviously. Additionally, we can import directly the **`tensorflow.models.rnn.rnn`** model, which includes the function for building RNNs, and **`tensorflow.models.rnn.ptb.reader`** which is the helper module for getting the input data from the dataset we just downloaded.\n\nIf you want to learm more take a look at https://www.tensorflow.org/versions/r0.11/api_docs/python/rnn_cell/", 
            "cell_type": "markdown", 
            "metadata": {}
        }, 
        {
            "execution_count": null, 
            "cell_type": "code", 
            "metadata": {}, 
            "outputs": [], 
            "source": "import numpy as np\nimport tensorflow as tf\nsess = tf.Session()"
        }, 
        {
            "source": "We want to create a network that has only one LSTM cell. We have to pass 2 elemnts to LSTM, the __prv_output__ and __prv_state__, so called, __h__ and __c__. Therefore, we initialize a state vector, __state__.  Here, __state__ is a tuple with 2 elements, each one is of size [1 x 4], one for passing prv_output to next time step, and another for passing the prv_state to next time stamp.", 
            "cell_type": "markdown", 
            "metadata": {}
        }, 
        {
            "execution_count": null, 
            "cell_type": "code", 
            "metadata": {}, 
            "outputs": [], 
            "source": "LSTM_CELL_SIZE = 4  # output size (dimension), which is same as hidden size in the cell\n\nlstm_cell = tf.contrib.rnn.BasicLSTMCell(LSTM_CELL_SIZE, state_is_tuple=True)\nstate = (tf.zeros([2,LSTM_CELL_SIZE]),)*2\nstate"
        }, 
        {
            "source": "Let define a sample input. In this example, batch_size =2,and  seq_len= 6:", 
            "cell_type": "markdown", 
            "metadata": {}
        }, 
        {
            "execution_count": null, 
            "cell_type": "code", 
            "metadata": {}, 
            "outputs": [], 
            "source": "sample_input = tf.constant([[1,2,3,4,3,2],[3,2,2,2,2,2]],dtype=tf.float32)\nprint (sess.run(sample_input))"
        }, 
        {
            "source": "Now, we can pass the input to lstm_cell, and check the new state:", 
            "cell_type": "markdown", 
            "metadata": {}
        }, 
        {
            "execution_count": null, 
            "cell_type": "code", 
            "metadata": {}, 
            "outputs": [], 
            "source": "with tf.variable_scope(\"LSTM_sample1\"):\n    output, state_new = lstm_cell(sample_input, state)\nsess.run(tf.global_variables_initializer())\nprint (sess.run(state_new))"
        }, 
        {
            "source": "As we can see, the states has 2 parts, the new state, c, and also the output, h. Lets check the output again:", 
            "cell_type": "markdown", 
            "metadata": {}
        }, 
        {
            "execution_count": null, 
            "cell_type": "code", 
            "metadata": {}, 
            "outputs": [], 
            "source": "print (sess.run(output))"
        }, 
        {
            "source": "## 3. Stacked LSTM basecs\nWhat about if we want to have a RNN with stacked LSTM? For example, a 2-layer LSTM. In this case, the output of the first layer will become the input of the second.", 
            "cell_type": "markdown", 
            "metadata": {}
        }, 
        {
            "source": "Lets start with a new session:", 
            "cell_type": "markdown", 
            "metadata": {}
        }, 
        {
            "execution_count": null, 
            "cell_type": "code", 
            "metadata": {}, 
            "outputs": [], 
            "source": "sess = tf.Session()"
        }, 
        {
            "execution_count": null, 
            "cell_type": "code", 
            "metadata": {}, 
            "outputs": [], 
            "source": "LSTM_CELL_SIZE = 4  #4 hidden nodes = state_dim = the output_dim \ninput_dim = 6\nnum_layers = 2"
        }, 
        {
            "source": "Lets create the stacked LSTM cell:", 
            "cell_type": "markdown", 
            "metadata": {}
        }, 
        {
            "execution_count": null, 
            "cell_type": "code", 
            "metadata": {}, 
            "outputs": [], 
            "source": "cells = []\nfor _ in range(num_layers):\n    cell = tf.contrib.rnn.LSTMCell(LSTM_CELL_SIZE)\n    cells.append(cell)\nstacked_lstm = tf.contrib.rnn.MultiRNNCell(cells)"
        }, 
        {
            "source": "Now we can create the RNN:", 
            "cell_type": "markdown", 
            "metadata": {}
        }, 
        {
            "execution_count": null, 
            "cell_type": "code", 
            "metadata": {}, 
            "outputs": [], 
            "source": "# Batch size x time steps x features.\ndata = tf.placeholder(tf.float32, [None, None, input_dim])\noutput, state = tf.nn.dynamic_rnn(cell, data, dtype=tf.float32)"
        }, 
        {
            "source": "Lets say the input sequence length is 3, and the dimensionality of the inputs is 6. The input should be a Tensor of shape: [batch_size, max_time, dimension], in our case it would be (2, 3, 6)", 
            "cell_type": "markdown", 
            "metadata": {}
        }, 
        {
            "execution_count": null, 
            "cell_type": "code", 
            "metadata": {}, 
            "outputs": [], 
            "source": "#Batch size x time steps x features.\nsample_input = [[[1,2,3,4,3,2], [1,2,1,1,1,2],[1,2,2,2,2,2]],[[1,2,3,4,3,2],[3,2,2,1,1,2],[0,0,0,0,3,2]]]\nsample_input"
        }, 
        {
            "source": "we can now send our input to network:", 
            "cell_type": "markdown", 
            "metadata": {}
        }, 
        {
            "execution_count": null, 
            "cell_type": "code", 
            "metadata": {}, 
            "outputs": [], 
            "source": "sess.run(tf.global_variables_initializer())\nsess.run(output, feed_dict={data: sample_input})"
        }
    ], 
    "metadata": {
        "kernelspec": {
            "display_name": "Python 3.5 with Spark 2.1", 
            "name": "python3-spark21", 
            "language": "python"
        }, 
        "widgets": {
            "state": {}, 
            "version": "1.1.2"
        }, 
        "language_info": {
            "mimetype": "text/x-python", 
            "nbconvert_exporter": "python", 
            "version": "3.5.4", 
            "name": "python", 
            "file_extension": ".py", 
            "pygments_lexer": "ipython3", 
            "codemirror_mode": {
                "version": 3, 
                "name": "ipython"
            }
        }
    }, 
    "nbformat": 4
}