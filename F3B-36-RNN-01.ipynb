{
    "nbformat_minor": 2, 
    "cells": [
        {
            "source": "# \u5faa\u73af\u795e\u7ecf\u7f51\u7edc --- \u4ece0\u5f00\u59cb\n\n\u524d\u9762\u7684\u6559\u7a0b\u91cc\u6211\u4eec\u4f7f\u7528\u7684\u7f51\u7edc\u90fd\u5c5e\u4e8e**\u524d\u9988\u795e\u7ecf\u7f51\u7edc**\u3002\u4e4b\u6240\u4ee5\u53eb\u524d\u9988\uff0c\u662f\u56e0\u4e3a\u6574\u4e2a\u7f51\u7edc\u662f\u4e00\u6761\u94fe\uff08\u56de\u60f3\u4e0b`gluon.nn.Sequential`\uff09\uff0c\u6bcf\u4e00\u5c42\u7684\u7ed3\u679c\u90fd\u662f\u53cd\u9988\u7ed9\u4e0b\u4e00\u5c42\u3002\u8fd9\u4e00\u8282\u6211\u4eec\u4ecb\u7ecd**\u5faa\u73af\u795e\u7ecf\u7f51\u7edc**\uff0c\u8fd9\u91cc\u6bcf\u4e00\u5c42\u4e0d\u4ec5\u8f93\u51fa\u7ed9\u4e0b\u4e00\u5c42\uff0c\u540c\u65f6\u8fd8\u8f93\u51fa\u4e00\u4e2a**\u9690\u542b\u72b6\u6001**\uff0c\u7ed9\u5f53\u524d\u5c42\u5728\u5904\u7406\u4e0b\u4e00\u4e2a\u6837\u672c\u65f6\u4f7f\u7528\u3002\u4e0b\u56fe\u5c55\u793a\u8fd9\u4e24\u79cd\u7f51\u7edc\u7684\u533a\u522b\u3002\n\n![](https://github.com/mli/gluon-tutorials-zh/raw/master/img/rnn_1.png)\n\n\u5faa\u73af\u795e\u7ecf\u7f51\u7edc\u7684\u8fd9\u79cd\u7ed3\u6784\u4f7f\u5f97\u5b83\u9002\u5408\u5904\u7406\u524d\u540e\u6709\u4f9d\u8d56\u5173\u7cfb\u6570\u636e\u6837\u672c\u3002\u6211\u4eec\u62ff\u8bed\u8a00\u6a21\u578b\u4e3e\u4e2a\u4f8b\u5b50\u6765\u89e3\u91ca\u8fd9\u4e2a\u662f\u600e\u4e48\u5de5\u4f5c\u7684\u3002\u8bed\u8a00\u6a21\u578b\u7684\u4efb\u52a1\u662f\u7ed9\u5b9a\u53e5\u5b50\u7684\u524d*t*\u4e2a\u5b57\u7b26\uff0c\u7136\u540e\u9884\u6d4b\u7b2c*t+1*\u4e2a\u5b57\u7b26\u3002\u5047\u8bbe\u6211\u4eec\u7684\u53e5\u5b50\u662f\u201c\u4f60\u597d\u4e16\u754c\u201d\uff0c\u4f7f\u7528\u524d\u9988\u795e\u7ecf\u7f51\u7edc\u6765\u9884\u6d4b\u7684\u4e00\u4e2a\u505a\u6cd5\u662f\uff0c\u5728\u65f6\u95f41\u8f93\u5165\u201c\u4f60\u201d\uff0c\u9884\u6d4b\u201d\u597d\u201c\uff0c\u65f6\u95f42\u5411\u540c\u4e00\u4e2a\u7f51\u7edc\u8f93\u5165\u201c\u597d\u201d\u9884\u6d4b\u201c\u4e16\u201d\u3002\u4e0b\u56fe\u5de6\u8fb9\u5c55\u793a\u4e86\u8fd9\u4e2a\u8fc7\u7a0b\u3002\n\n![](https://github.com/mli/gluon-tutorials-zh/raw/master/img/rnn_2.png)\n\n\u6ce8\u610f\u5230\u4e00\u4e2a\u95ee\u9898\u662f\uff0c\u5f53\u6211\u4eec\u9884\u6d4b\u201c\u4e16\u201d\u7684\u65f6\u5019\u53ea\u7ed9\u4e86\u201c\u597d\u201d\u8fd9\u4e2a\u8f93\u5165\uff0c\u800c\u5b8c\u5168\u5ffd\u7565\u4e86\u201c\u4f60\u201d\u3002\u76f4\u89c9\u4e0a\u201c\u4f60\u201d\u8fd9\u4e2a\u8bcd\u5e94\u8be5\u5bf9\u8fd9\u6b21\u7684\u9884\u6d4b\u6bd4\u8f83\u91cd\u8981\u3002\u867d\u7136\u8fd9\u4e2a\u95ee\u9898\u901a\u5e38\u53ef\u4ee5\u901a\u8fc7**n-gram**\u6765\u7f13\u89e3\uff0c\u5c31\u662f\u8bf4\u9884\u6d4b\u7b2c*t+1*\u4e2a\u5b57\u7b26\u7684\u65f6\u5019\uff0c\u6211\u4eec\u8f93\u5165\u524d*n*\u4e2a\u5b57\u7b26\u3002\u5982\u679c*n=1*\uff0c\u90a3\u5c31\u662f\u6211\u4eec\u8fd9\u91cc\u7528\u7684\u3002\u6211\u4eec\u53ef\u4ee5\u589e\u5927*n*\u6765\u4f7f\u5f97\u8f93\u5165\u542b\u6709\u66f4\u591a\u4fe1\u606f\u3002\u4f46\u6211\u4eec\u4e0d\u80fd\u4efb\u610f\u589e\u5927*n*\uff0c\u56e0\u4e3a\u8fd9\u6837\u901a\u5e38\u5e26\u6765\u6a21\u578b\u590d\u6742\u5ea6\u7684\u589e\u52a0\u4ece\u800c\u5bfc\u81f4\u9700\u8981\u5927\u91cf\u6570\u636e\u548c\u8ba1\u7b97\u6765\u8bad\u7ec3\u6a21\u578b\u3002\n\n\u5faa\u73af\u795e\u7ecf\u7f51\u7edc\u4f7f\u7528\u4e00\u4e2a\u9690\u542b\u72b6\u6001\u6765\u8bb0\u5f55\u524d\u9762\u770b\u5230\u7684\u6570\u636e\u6765\u5e2e\u52a9\u5f53\u524d\u9884\u6d4b\u3002\u4e0a\u56fe\u53f3\u8fb9\u5c55\u793a\u4e86\u8fd9\u4e2a\u8fc7\u7a0b\u3002\u5728\u9884\u6d4b\u201c\u597d\u201d\u7684\u65f6\u5019\uff0c\u6211\u4eec\u8f93\u51fa\u4e00\u4e2a\u9690\u542b\u72b6\u6001\u3002\u6211\u4eec\u7528\u8fd9\u4e2a\u72b6\u6001\u548c\u65b0\u7684\u8f93\u5165\u201c\u597d\u201d\u6765\u4e00\u8d77\u9884\u6d4b\u201c\u4e16\u201d\uff0c\u7136\u540e\u540c\u65f6\u8f93\u51fa\u4e00\u4e2a\u66f4\u65b0\u8fc7\u7684\u9690\u542b\u72b6\u6001\u3002\u6211\u4eec\u5e0c\u671b\u524d\u9762\u7684\u4fe1\u606f\u80fd\u591f\u4fdd\u5b58\u5728\u8fd9\u4e2a\u9690\u542b\u72b6\u6001\u91cc\uff0c\u4ece\u800c\u63d0\u5347\u9884\u6d4b\u6548\u679c\u3002\n\n## \u5faa\u73af\u795e\u7ecf\u7f51\u7edc\n\n\u5728\u5bf9\u8f93\u5165\u8f93\u51fa\u6570\u636e\u6709\u4e86\u89e3\u540e\uff0c\u6211\u4eec\u6765\u6b63\u5f0f\u4ecb\u7ecd\u5faa\u73af\u795e\u7ecf\u7f51\u7edc\u3002\n\n\u9996\u5148\u56de\u5fc6\u4e00\u4e0b\u5355\u9690\u542b\u5c42\u7684\u524d\u9988\u795e\u7ecf\u7f51\u7edc\u7684\u5b9a\u4e49\uff0c\u4f8b\u5982[\u591a\u5c42\u611f\u77e5\u673a](../chapter_supervised-learning/mlp-scratch.md)\u3002\u5047\u8bbe\u9690\u542b\u5c42\u7684\u6fc0\u6d3b\u51fd\u6570\u662f$\\phi$\uff0c\u5bf9\u4e8e\u4e00\u4e2a\u6837\u672c\u6570\u4e3a$n$\u7279\u5f81\u5411\u91cf\u7ef4\u5ea6\u4e3a$x$\u7684\u6279\u91cf\u6570\u636e$\\mathbf{X} \\in \\mathbb{R}^{n \\times x}$\uff08$\\mathbf{X}$\u662f\u4e00\u4e2a$n$\u884c$x$\u5217\u7684\u5b9e\u6570\u77e9\u9635\uff09\u6765\u8bf4\uff0c\u90a3\u4e48\u8fd9\u4e2a\u9690\u542b\u5c42\u7684\u8f93\u51fa\u5c31\u662f\n\n$$\\mathbf{H} = \\phi(\\mathbf{X} \\mathbf{W}_{xh} + \\mathbf{b}_h)$$\n\n\u5047\u5b9a\u9690\u542b\u5c42\u957f\u5ea6\u4e3a$h$\uff0c\u5176\u4e2d\u7684$\\mathbf{W}_{xh} \\in \\mathbb{R}^{x \\times h}$\u662f\u6743\u91cd\u53c2\u6570\u3002\u504f\u79fb\u53c2\u6570 $\\mathbf{b}_h \\in \\mathbb{R}^{1 \\times h}$\u5728\u4e0e\u524d\u4e00\u9879$\\mathbf{X} \\mathbf{W}_{xh} \\in \\mathbb{R}^{n \\times h}$ \u76f8\u52a0\u65f6\u4f7f\u7528\u4e86[\u5e7f\u64ad](../chapter_crashcourse/ndarray.md)\u3002\u8fd9\u4e2a\u9690\u542b\u5c42\u7684\u8f93\u51fa\u7684\u5c3a\u5bf8\u4e3a$\\mathbf{H} \\in \\mathbb{R}^{n \\times h}$\u3002\n\n\u628a\u9690\u542b\u5c42\u7684\u8f93\u51fa$\\mathbf{H}$\u4f5c\u4e3a\u8f93\u51fa\u5c42\u7684\u8f93\u5165\uff0c\u6700\u7ec8\u7684\u8f93\u51fa\n\n$$\\hat{\\mathbf{Y}} = \\text{softmax}(\\mathbf{H} \\mathbf{W}_{hy} + \\mathbf{b}_y)$$\n\n\u5047\u5b9a\u6bcf\u4e2a\u6837\u672c\u5bf9\u5e94\u7684\u8f93\u51fa\u5411\u91cf\u7ef4\u5ea6\u4e3a$y$\uff0c\u5176\u4e2d $\\hat{\\mathbf{Y}} \\in \\mathbb{R}^{n \\times y}, \\mathbf{W}_{hy} \\in \\mathbb{R}^{h \\times y}, \\mathbf{b}_y \\in \\mathbb{R}^{1 \\times y}$\u4e14\u4e24\u9879\u76f8\u52a0\u4f7f\u7528\u4e86[\u5e7f\u64ad](../chapter_crashcourse/ndarray.md)\u3002\n\n\n\u5c06\u4e0a\u9762\u7f51\u7edc\u6539\u6210\u5faa\u73af\u795e\u7ecf\u7f51\u7edc\uff0c\u6211\u4eec\u9996\u5148\u5bf9\u8f93\u5165\u8f93\u51fa\u52a0\u4e0a\u65f6\u95f4\u6233$t$\u3002\u5047\u8bbe$\\mathbf{X}_t \\in \\mathbb{R}^{n \\times x}$\u662f\u5e8f\u5217\u4e2d\u7684\u7b2c$t$\u4e2a\u6279\u91cf\u8f93\u5165\uff08\u6837\u672c\u6570\u4e3a$n$\uff0c\u6bcf\u4e2a\u6837\u672c\u7684\u7279\u5f81\u5411\u91cf\u7ef4\u5ea6\u4e3a$x$\uff09\uff0c\u5bf9\u5e94\u7684\u9690\u542b\u5c42\u8f93\u51fa\u662f\u9690\u542b\u72b6\u6001$\\mathbf{H}_t  \\in \\mathbb{R}^{n \\times h}$\uff08\u9690\u542b\u5c42\u957f\u5ea6\u4e3a$h$\uff09\uff0c\u800c\u5bf9\u5e94\u7684\u6700\u7ec8\u8f93\u51fa\u662f$\\hat{\\mathbf{Y}}_t \\in \\mathbb{R}^{n \\times y}$\uff08\u6bcf\u4e2a\u6837\u672c\u5bf9\u5e94\u7684\u8f93\u51fa\u5411\u91cf\u7ef4\u5ea6\u4e3a$y$\uff09\u3002\u5728\u8ba1\u7b97\u9690\u542b\u5c42\u7684\u8f93\u51fa\u7684\u65f6\u5019\uff0c\u5faa\u73af\u795e\u7ecf\u7f51\u7edc\u53ea\u9700\u8981\u5728\u524d\u9988\u795e\u7ecf\u7f51\u7edc\u57fa\u7840\u4e0a\u52a0\u4e0a\u8ddf\u524d\u4e00\u65f6\u95f4$t-1$\u8f93\u5165\u9690\u542b\u5c42$\\mathbf{H}_{t-1} \\in \\mathbb{R}^{n \\times h}$\u7684\u52a0\u6743\u548c\u3002\u4e3a\u6b64\uff0c\u6211\u4eec\u5f15\u5165\u4e00\u4e2a\u65b0\u7684\u53ef\u5b66\u4e60\u7684\u6743\u91cd$\\mathbf{W}_{hh} \\in \\mathbb{R}^{h \\times h}$\uff1a\n\n$$\\mathbf{H}_t = \\phi(\\mathbf{X}_t \\mathbf{W}_{xh} + \\mathbf{H}_{t-1} \\mathbf{W}_{hh}  + \\mathbf{b}_h)$$\n\n\u8f93\u51fa\u7684\u8ba1\u7b97\u8ddf\u524d\u9762\u4e00\u81f4\uff1a\n\n$$\\hat{\\mathbf{Y}}_t = \\text{softmax}(\\mathbf{H}_t \\mathbf{W}_{hy}  + \\mathbf{b}_y)$$\n\n\u4e00\u5f00\u59cb\u6211\u4eec\u63d0\u5230\u8fc7\uff0c\u9690\u542b\u72b6\u6001\u53ef\u4ee5\u8ba4\u4e3a\u662f\u8fd9\u4e2a\u7f51\u7edc\u7684\u8bb0\u5fc6\u3002\u8be5\u7f51\u7edc\u4e2d\uff0c\u65f6\u523b$t$\u7684\u9690\u542b\u72b6\u6001\u5c31\u662f\u8be5\u65f6\u523b\u7684\u9690\u542b\u5c42\u53d8\u91cf$\\mathbf{H}_t$\u3002\u5b83\u5b58\u50a8\u524d\u9762\u65f6\u95f4\u91cc\u9762\u7684\u4fe1\u606f\u3002\u6211\u4eec\u7684\u8f93\u51fa\u662f\u53ea\u57fa\u4e8e\u8fd9\u4e2a\u72b6\u6001\u3002\u6700\u5f00\u59cb\u7684\u9690\u542b\u72b6\u6001\u91cc\u7684\u5143\u7d20\u901a\u5e38\u4f1a\u88ab\u521d\u59cb\u5316\u4e3a0\u3002\n\n\n## \u5468\u6770\u4f26\u6b4c\u8bcd\u6570\u636e\u96c6\n\n\n\u4e3a\u4e86\u5b9e\u73b0\u5e76\u5c55\u793a\u5faa\u73af\u795e\u7ecf\u7f51\u7edc\uff0c\u6211\u4eec\u4f7f\u7528\u5468\u6770\u4f26\u6b4c\u8bcd\u6570\u636e\u96c6\u6765\u8bad\u7ec3\u6a21\u578b\u4f5c\u8bcd\u3002\u8be5\u6570\u636e\u96c6\u91cc\u5305\u542b\u4e86\u8457\u540d\u521b\u4f5c\u578b\u6b4c\u624b\u5468\u6770\u4f26\u4ece\u7b2c\u4e00\u5f20\u4e13\u8f91\u300aJay\u300b\u5230\u7b2c\u5341\u5f20\u4e13\u8f91\u300a\u8de8\u65f6\u4ee3\u300b\u6240\u6709\u6b4c\u66f2\u7684\u6b4c\u8bcd\u3002\n\n![](https://github.com/mli/gluon-tutorials-zh/raw/master/img/jay.jpg)\n\n\n\u4e0b\u9762\u6211\u4eec\u8bfb\u53d6\u8fd9\u4e2a\u6570\u636e\u5e76\u770b\u770b\u524d\u976249\u4e2a\u5b57\u7b26\uff08char\uff09\u662f\u4ec0\u4e48\u6837\u7684\uff1a", 
            "cell_type": "markdown", 
            "metadata": {}
        }, 
        {
            "execution_count": null, 
            "cell_type": "code", 
            "metadata": {}, 
            "outputs": [], 
            "source": "!wget https://github.com/mli/gluon-tutorials-zh/raw/master/data/jaychou_lyrics.txt.zip"
        }, 
        {
            "execution_count": null, 
            "cell_type": "code", 
            "metadata": {
                "attributes": {
                    "classes": [], 
                    "id": "", 
                    "n": "1"
                }
            }, 
            "outputs": [], 
            "source": "import zipfile\nwith zipfile.ZipFile('jaychou_lyrics.txt.zip', 'r') as zin:\n    zin.extractall('data/')\n\nwith open('data/jaychou_lyrics.txt') as f:\n    corpus_chars = f.read()\nprint(corpus_chars[0:99])"
        }, 
        {
            "source": "\u6211\u4eec\u770b\u4e00\u4e0b\u6570\u636e\u96c6\u91cc\u7684\u5b57\u7b26\u6570\u3002", 
            "cell_type": "markdown", 
            "metadata": {}
        }, 
        {
            "execution_count": null, 
            "cell_type": "code", 
            "metadata": {
                "attributes": {
                    "classes": [], 
                    "id": "", 
                    "n": "2"
                }
            }, 
            "outputs": [], 
            "source": "len(corpus_chars)"
        }, 
        {
            "source": "\u63a5\u7740\u6211\u4eec\u7a0d\u5fae\u5904\u7406\u4e0b\u6570\u636e\u96c6\u3002\u4e3a\u4e86\u6253\u5370\u65b9\u4fbf\uff0c\u6211\u4eec\u628a\u6362\u884c\u7b26\u66ff\u6362\u6210\u7a7a\u683c\uff0c\u7136\u540e\u622a\u53bb\u540e\u9762\u4e00\u6bb5\u4f7f\u5f97\u63a5\u4e0b\u6765\u7684\u8bad\u7ec3\u4f1a\u5feb\u4e00\u70b9\u3002", 
            "cell_type": "markdown", 
            "metadata": {}
        }, 
        {
            "execution_count": null, 
            "cell_type": "code", 
            "metadata": {
                "attributes": {
                    "classes": [], 
                    "id": "", 
                    "n": "3"
                }
            }, 
            "outputs": [], 
            "source": "corpus_chars = corpus_chars.replace('\\n', ' ').replace('\\r', ' ')\ncorpus_chars = corpus_chars[0:20000]"
        }, 
        {
            "source": "## \u5b57\u7b26\u7684\u6570\u503c\u8868\u793a\n\n\u5148\u628a\u6570\u636e\u91cc\u9762\u6240\u6709\u4e0d\u540c\u7684\u5b57\u7b26\u62ff\u51fa\u6765\u505a\u6210\u4e00\u4e2a\u5b57\u5178\uff1a", 
            "cell_type": "markdown", 
            "metadata": {}
        }, 
        {
            "execution_count": null, 
            "cell_type": "code", 
            "metadata": {
                "attributes": {
                    "classes": [], 
                    "id": "", 
                    "n": "4"
                }
            }, 
            "outputs": [], 
            "source": "idx_to_char = list(set(corpus_chars))\nchar_to_idx = dict([(char, i) for i, char in enumerate(idx_to_char)])\n\nvocab_size = len(char_to_idx)\n\nprint('vocab size:', vocab_size)"
        }, 
        {
            "source": "\u7136\u540e\u53ef\u4ee5\u628a\u6bcf\u4e2a\u5b57\u7b26\u8f6c\u6210\u4ece0\u5f00\u59cb\u7684\u7d22\u5f15(index)\u6765\u65b9\u4fbf\u4e4b\u540e\u7684\u4f7f\u7528\u3002", 
            "cell_type": "markdown", 
            "metadata": {}
        }, 
        {
            "execution_count": null, 
            "cell_type": "code", 
            "metadata": {
                "attributes": {
                    "classes": [], 
                    "id": "", 
                    "n": "5"
                }
            }, 
            "outputs": [], 
            "source": "corpus_indices = [char_to_idx[char] for char in corpus_chars]\n\nsample = corpus_indices[:40]\n\nprint('chars: \\n', ''.join([idx_to_char[idx] for idx in sample]))\nprint('\\nindices: \\n', sample)"
        }, 
        {
            "source": "## \u65f6\u5e8f\u6570\u636e\u7684\u6279\u91cf\u91c7\u6837\n\n\u540c\u4e4b\u524d\u4e00\u6837\u6211\u4eec\u9700\u8981\u6bcf\u6b21\u968f\u673a\u8bfb\u53d6\u4e00\u4e9b\uff08`batch_size`\u4e2a\uff09\u6837\u672c\u548c\u5176\u5bf9\u7528\u7684\u6807\u53f7\u3002\u8fd9\u91cc\u7684\u6837\u672c\u8ddf\u524d\u9762\u6709\u70b9\u4e0d\u4e00\u6837\uff0c\u8fd9\u91cc\u4e00\u4e2a\u6837\u672c\u901a\u5e38\u5305\u542b\u4e00\u7cfb\u5217\u8fde\u7eed\u7684\u5b57\u7b26\uff08\u524d\u9988\u795e\u7ecf\u7f51\u7edc\u91cc\u53ef\u80fd\u6bcf\u4e2a\u5b57\u7b26\u4f5c\u4e3a\u4e00\u4e2a\u6837\u672c\uff09\u3002\n\n\u5982\u679c\u6211\u4eec\u628a\u5e8f\u5217\u957f\u5ea6\uff08`num_steps`\uff09\u8bbe\u62105\uff0c\u90a3\u4e48\u4e00\u4e2a\u53ef\u80fd\u7684\u6837\u672c\u662f\u201c\u60f3\u8981\u6709\u76f4\u5347\u201d\u3002\u5176\u5bf9\u5e94\u7684\u6807\u53f7\u4ecd\u7136\u662f\u957f\u4e3a5\u7684\u5e8f\u5217\uff0c\u6bcf\u4e2a\u5b57\u7b26\u662f\u5bf9\u5e94\u7684\u6837\u672c\u91cc\u5b57\u7b26\u7684\u540e\u9762\u90a3\u4e2a\u3002\u4f8b\u5982\u524d\u9762\u6837\u672c\u7684\u6807\u53f7\u5c31\u662f\u201c\u8981\u6709\u76f4\u5347\u673a\u201d\u3002\n\n\n### \u968f\u673a\u6279\u91cf\u91c7\u6837\n\n\u4e0b\u9762\u4ee3\u7801\u6bcf\u6b21\u4ece\u6570\u636e\u91cc\u968f\u673a\u91c7\u6837\u4e00\u4e2a\u6279\u91cf\u3002", 
            "cell_type": "markdown", 
            "metadata": {}
        }, 
        {
            "execution_count": null, 
            "cell_type": "code", 
            "metadata": {
                "attributes": {
                    "classes": [], 
                    "id": "", 
                    "n": "6"
                }
            }, 
            "outputs": [], 
            "source": "import random\nfrom mxnet import nd\n\ndef data_iter_random(corpus_indices, batch_size, num_steps, ctx=None):\n    # \u51cf\u4e00\u662f\u56e0\u4e3alabel\u7684\u7d22\u5f15\u662f\u76f8\u5e94data\u7684\u7d22\u5f15\u52a0\u4e00\n    num_examples = (len(corpus_indices) - 1) // num_steps\n    epoch_size = num_examples // batch_size\n    # \u968f\u673a\u5316\u6837\u672c\n    example_indices = list(range(num_examples))\n    random.shuffle(example_indices)\n\n    # \u8fd4\u56denum_steps\u4e2a\u6570\u636e\n    def _data(pos):\n        return corpus_indices[pos: pos + num_steps]\n\n    for i in range(epoch_size):\n        # \u6bcf\u6b21\u8bfb\u53d6batch_size\u4e2a\u968f\u673a\u6837\u672c\n        i = i * batch_size\n        batch_indices = example_indices[i: i + batch_size]\n        data = nd.array(\n            [_data(j * num_steps) for j in batch_indices], ctx=ctx)\n        label = nd.array(\n            [_data(j * num_steps + 1) for j in batch_indices], ctx=ctx)\n        yield data, label"
        }, 
        {
            "source": "\u4e3a\u4e86\u4fbf\u4e8e\u7406\u89e3\u65f6\u5e8f\u6570\u636e\u4e0a\u7684\u968f\u673a\u6279\u91cf\u91c7\u6837\uff0c\u8ba9\u6211\u4eec\u8f93\u5165\u4e00\u4e2a\u4ece0\u523029\u7684\u4eba\u5de5\u5e8f\u5217\uff0c\u770b\u4e0b\u8bfb\u51fa\u6765\u957f\u4ec0\u4e48\u6837\uff1a", 
            "cell_type": "markdown", 
            "metadata": {}
        }, 
        {
            "execution_count": null, 
            "cell_type": "code", 
            "metadata": {
                "attributes": {
                    "classes": [], 
                    "id": "", 
                    "n": "7"
                }
            }, 
            "outputs": [], 
            "source": "my_seq = list(range(30))\n\nfor data, label in data_iter_random(my_seq, batch_size=2, num_steps=3):\n    print('data: ', data, '\\nlabel:', label, '\\n')"
        }, 
        {
            "source": "\u7531\u4e8e\u5404\u4e2a\u91c7\u6837\u5728\u539f\u59cb\u5e8f\u5217\u4e0a\u7684\u4f4d\u7f6e\u662f\u968f\u673a\u7684\u65f6\u5e8f\u957f\u5ea6\u4e3a`num_steps`\u7684\u8fde\u7eed\u6570\u636e\u70b9\uff0c\u76f8\u90bb\u7684\u4e24\u4e2a\u968f\u673a\u6279\u91cf\u5728\u539f\u59cb\u5e8f\u5217\u4e0a\u7684\u4f4d\u7f6e\u4e0d\u4e00\u5b9a\u76f8\u6bd7\u90bb\u3002\u56e0\u6b64\uff0c\u5728\u8bad\u7ec3\u6a21\u578b\u65f6\uff0c\u8bfb\u53d6\u6bcf\u4e2a\u968f\u673a\u65f6\u5e8f\u6279\u91cf\u524d\u9700\u8981\u91cd\u65b0\u521d\u59cb\u5316\u9690\u542b\u72b6\u6001\u3002\n\n\n### \u76f8\u90bb\u6279\u91cf\u91c7\u6837\n\n\u9664\u4e86\u5bf9\u539f\u5e8f\u5217\u505a\u968f\u673a\u6279\u91cf\u91c7\u6837\u4e4b\u5916\uff0c\u6211\u4eec\u8fd8\u53ef\u4ee5\u4f7f\u76f8\u90bb\u7684\u4e24\u4e2a\u968f\u673a\u6279\u91cf\u5728\u539f\u59cb\u5e8f\u5217\u4e0a\u7684\u4f4d\u7f6e\u76f8\u6bd7\u90bb\u3002", 
            "cell_type": "markdown", 
            "metadata": {}
        }, 
        {
            "execution_count": null, 
            "cell_type": "code", 
            "metadata": {
                "attributes": {
                    "classes": [], 
                    "id": "", 
                    "n": "8"
                }
            }, 
            "outputs": [], 
            "source": "def data_iter_consecutive(corpus_indices, batch_size, num_steps, ctx=None):\n    corpus_indices = nd.array(corpus_indices, ctx=ctx)\n    data_len = len(corpus_indices)\n    batch_len = data_len // batch_size\n\n    indices = corpus_indices[0: batch_size * batch_len].reshape((\n        batch_size, batch_len))\n    # \u51cf\u4e00\u662f\u56e0\u4e3alabel\u7684\u7d22\u5f15\u662f\u76f8\u5e94data\u7684\u7d22\u5f15\u52a0\u4e00\n    epoch_size = (batch_len - 1) // num_steps\n    \n    for i in range(epoch_size):\n        i = i * num_steps\n        data = indices[:, i: i + num_steps]\n        label = indices[:, i + 1: i + num_steps + 1]\n        yield data, label"
        }, 
        {
            "source": "\u76f8\u540c\u5730\uff0c\u4e3a\u4e86\u4fbf\u4e8e\u7406\u89e3\u65f6\u5e8f\u6570\u636e\u4e0a\u7684\u76f8\u90bb\u6279\u91cf\u91c7\u6837\uff0c\u8ba9\u6211\u4eec\u8f93\u5165\u4e00\u4e2a\u4ece0\u523029\u7684\u4eba\u5de5\u5e8f\u5217\uff0c\u770b\u4e0b\u8bfb\u51fa\u6765\u957f\u4ec0\u4e48\u6837\uff1a", 
            "cell_type": "markdown", 
            "metadata": {}
        }, 
        {
            "execution_count": null, 
            "cell_type": "code", 
            "metadata": {
                "attributes": {
                    "classes": [], 
                    "id": "", 
                    "n": "9"
                }
            }, 
            "outputs": [], 
            "source": "my_seq = list(range(30))\n\nfor data, label in data_iter_consecutive(my_seq, batch_size=2, num_steps=3):\n    print('data: ', data, '\\nlabel:', label, '\\n')"
        }, 
        {
            "source": "\u7531\u4e8e\u5404\u4e2a\u91c7\u6837\u5728\u539f\u59cb\u5e8f\u5217\u4e0a\u7684\u4f4d\u7f6e\u662f\u6bd7\u90bb\u7684\u65f6\u5e8f\u957f\u5ea6\u4e3a`num_steps`\u7684\u8fde\u7eed\u6570\u636e\u70b9\uff0c\u56e0\u6b64\uff0c\u4f7f\u7528\u76f8\u90bb\u6279\u91cf\u91c7\u6837\u8bad\u7ec3\u6a21\u578b\u65f6\uff0c\u8bfb\u53d6\u6bcf\u4e2a\u65f6\u5e8f\u6279\u91cf\u524d\uff0c\u6211\u4eec\u9700\u8981\u5c06\u8be5\u6279\u91cf\u6700\u5f00\u59cb\u7684\u9690\u542b\u72b6\u6001\u8bbe\u4e3a\u4e0a\u4e2a\u6279\u91cf\u6700\u7ec8\u8f93\u51fa\u7684\u9690\u542b\u72b6\u6001\u3002\u5728\u540c\u4e00\u4e2aepoch\u4e2d\uff0c\u9690\u542b\u72b6\u6001\u53ea\u9700\u8981\u5728\u8be5epoch\u5f00\u59cb\u7684\u65f6\u5019\u521d\u59cb\u5316\u3002\n\n\n## One-hot\u5411\u91cf\n\n\u6ce8\u610f\u5230\u6bcf\u4e2a\u5b57\u7b26\u73b0\u5728\u662f\u7528\u4e00\u4e2a\u6574\u6570\u6765\u8868\u793a\uff0c\u800c\u8f93\u5165\u8fdb\u7f51\u7edc\u6211\u4eec\u9700\u8981\u4e00\u4e2a\u5b9a\u957f\u7684\u5411\u91cf\u3002\u4e00\u4e2a\u5e38\u7528\u7684\u529e\u6cd5\u662f\u4f7f\u7528one-hot\u6765\u5c06\u5176\u8868\u793a\u6210\u5411\u91cf\u3002\u4e5f\u5c31\u662f\u8bf4\uff0c\u5982\u679c\u4e00\u4e2a\u5b57\u7b26\u7684\u6574\u6570\u503c\u662f$i$, \u90a3\u4e48\u6211\u4eec\u521b\u5efa\u4e00\u4e2a\u51680\u7684\u957f\u4e3a`vocab_size`\u7684\u5411\u91cf\uff0c\u5e76\u5c06\u5176\u7b2c$i$\u4f4d\u8bbe\u62101\u3002\u8be5\u5411\u91cf\u5c31\u662f\u5bf9\u539f\u5b57\u7b26\u7684one-hot\u5411\u91cf\u3002", 
            "cell_type": "markdown", 
            "metadata": {}
        }, 
        {
            "execution_count": null, 
            "cell_type": "code", 
            "metadata": {
                "attributes": {
                    "classes": [], 
                    "id": "", 
                    "n": "10"
                }
            }, 
            "outputs": [], 
            "source": "nd.one_hot(nd.array([0, 2]), vocab_size)"
        }, 
        {
            "source": "\u8bb0\u5f97\u524d\u9762\u6211\u4eec\u6bcf\u6b21\u5f97\u5230\u7684\u6570\u636e\u662f\u4e00\u4e2a`batch_size * num_steps`\u7684\u6279\u91cf\u3002\u4e0b\u9762\u8fd9\u4e2a\u51fd\u6570\u5c06\u5176\u8f6c\u6362\u6210`num_steps`\u4e2a\u53ef\u4ee5\u8f93\u5165\u8fdb\u7f51\u7edc\u7684`batch_size * vocab_size`\u7684\u77e9\u9635\u3002\u5bf9\u4e8e\u4e00\u4e2a\u957f\u5ea6\u4e3a`num_steps`\u7684\u5e8f\u5217\uff0c\u6bcf\u4e2a\u6279\u91cf\u8f93\u5165$\\mathbf{X} \\in \\mathbb{R}^{n \\times x}$\uff0c\u5176\u4e2d$n=$ `batch_size`\uff0c\u800c$x=$`vocab_size`\uff08onehot\u7f16\u7801\u5411\u91cf\u7ef4\u5ea6\uff09\u3002", 
            "cell_type": "markdown", 
            "metadata": {}
        }, 
        {
            "execution_count": null, 
            "cell_type": "code", 
            "metadata": {
                "attributes": {
                    "classes": [], 
                    "id": "", 
                    "n": "11"
                }
            }, 
            "outputs": [], 
            "source": "def get_inputs(data):\n    return [nd.one_hot(X, vocab_size) for X in data.T]\n\ninputs = get_inputs(data)\n\nprint('input length: ', len(inputs))\nprint('input[0] shape: ', inputs[0].shape)"
        }, 
        {
            "source": "## \u521d\u59cb\u5316\u6a21\u578b\u53c2\u6570\n\n\u5bf9\u4e8e\u5e8f\u5217\u4e2d\u4efb\u610f\u4e00\u4e2a\u65f6\u95f4\u6233\uff0c\u4e00\u4e2a\u5b57\u7b26\u7684\u8f93\u5165\u662f\u7ef4\u5ea6\u4e3a`vocab_size`\u7684one-hot\u5411\u91cf\uff0c\u5bf9\u5e94\u8f93\u51fa\u662f\u9884\u6d4b\u4e0b\u4e00\u4e2a\u65f6\u95f4\u6233\u4e3a\u8bcd\u5178\u4e2d\u4efb\u610f\u5b57\u7b26\u7684\u6982\u7387\uff0c\u56e0\u800c\u8be5\u8f93\u51fa\u662f\u7ef4\u5ea6\u4e3a`vocab_size`\u7684\u5411\u91cf\u3002\n\n\u5f53\u5e8f\u5217\u4e2d\u67d0\u4e00\u4e2a\u65f6\u95f4\u6233\u7684\u8f93\u5165\u4e3a\u4e00\u4e2a\u6837\u672c\u6570\u4e3a`batch_size`\uff08\u5bf9\u5e94\u6a21\u578b\u5b9a\u4e49\u4e2d\u7684$n$\uff09\u7684\u6279\u91cf\uff0c\u6bcf\u4e2a\u65f6\u95f4\u6233\u4e0a\u7684\u8f93\u5165\u548c\u8f93\u51fa\u7686\u4e3a\u5c3a\u5bf8`batch_size * vocab_size`\uff08\u5bf9\u5e94\u6a21\u578b\u5b9a\u4e49\u4e2d\u7684$n \\times x$\uff09\u7684\u77e9\u9635\u3002\u5047\u8bbe\u6bcf\u4e2a\u6837\u672c\u5bf9\u5e94\u7684\u9690\u542b\u72b6\u6001\u7684\u957f\u5ea6\u4e3a`hidden_dim`\uff08\u5bf9\u5e94\u6a21\u578b\u5b9a\u4e49\u4e2d\u9690\u542b\u5c42\u957f\u5ea6$h$\uff09\uff0c\u6839\u636e\u77e9\u9635\u4e58\u6cd5\u5b9a\u4e49\uff0c\u6211\u4eec\u53ef\u4ee5\u63a8\u65ad\u51fa\u6a21\u578b\u9690\u542b\u5c42\u548c\u8f93\u51fa\u5c42\u4e2d\u5404\u4e2a\u53c2\u6570\u7684\u5c3a\u5bf8\u3002", 
            "cell_type": "markdown", 
            "metadata": {}
        }, 
        {
            "execution_count": null, 
            "cell_type": "code", 
            "metadata": {
                "attributes": {
                    "classes": [], 
                    "id": "", 
                    "n": "12"
                }
            }, 
            "outputs": [], 
            "source": "import mxnet as mx\n\n# \u5c1d\u8bd5\u4f7f\u7528GPU\nimport sys\nsys.path.append('..')\nimport utils\nctx = utils.try_gpu()\nprint('Will use', ctx)\n\ninput_dim = vocab_size\n# \u9690\u542b\u72b6\u6001\u957f\u5ea6\nhidden_dim = 256\noutput_dim = vocab_size\nstd = .01\n\ndef get_params():\n    # \u9690\u542b\u5c42\n    W_xh = nd.random_normal(scale=std, shape=(input_dim, hidden_dim), ctx=ctx)\n    W_hh = nd.random_normal(scale=std, shape=(hidden_dim, hidden_dim), ctx=ctx)\n    b_h = nd.zeros(hidden_dim, ctx=ctx)\n\n    # \u8f93\u51fa\u5c42\n    W_hy = nd.random_normal(scale=std, shape=(hidden_dim, output_dim), ctx=ctx)\n    b_y = nd.zeros(output_dim, ctx=ctx)\n\n    params = [W_xh, W_hh, b_h, W_hy, b_y]\n    for param in params:\n        param.attach_grad()\n    return params"
        }, 
        {
            "source": "## \u5b9a\u4e49\u6a21\u578b\n\n\u5f53\u5e8f\u5217\u4e2d\u67d0\u4e00\u4e2a\u65f6\u95f4\u6233\u7684\u8f93\u5165\u4e3a\u4e00\u4e2a\u6837\u672c\u6570\u4e3a`batch_size`\u7684\u6279\u91cf\uff0c\u800c\u6574\u4e2a\u5e8f\u5217\u957f\u5ea6\u4e3a`num_steps`\u65f6\uff0c\u4ee5\u4e0b`rnn`\u51fd\u6570\u7684`inputs`\u548c`outputs`\u7686\u4e3a`num_steps` \u4e2a\u5c3a\u5bf8\u4e3a`batch_size * vocab_size`\u7684\u77e9\u9635\uff0c\u9690\u542b\u53d8\u91cf$\\mathbf{H}$\u662f\u4e00\u4e2a\u5c3a\u5bf8\u4e3a`batch_size * hidden_dim`\u7684\u77e9\u9635\u3002\u8be5\u9690\u542b\u53d8\u91cf$\\mathbf{H}$\u4e5f\u662f\u5faa\u73af\u795e\u7ecf\u7f51\u7edc\u7684\u9690\u542b\u72b6\u6001`state`\u3002\n\n\u6211\u4eec\u5c06\u524d\u9762\u7684\u6a21\u578b\u516c\u5f0f\u7ffb\u8bd1\u6210\u4ee3\u7801\u3002\u8fd9\u91cc\u7684\u6fc0\u6d3b\u51fd\u6570\u4f7f\u7528\u4e86\u6309\u5143\u7d20\u64cd\u4f5c\u7684\u53cc\u66f2\u6b63\u5207\u51fd\u6570\n\n$$\\text{tanh}(x) = \\frac{1 - e^{-2x}}{1 + e^{-2x}}$$\n\n\u9700\u8981\u6ce8\u610f\u7684\u662f\uff0c\u53cc\u66f2\u6b63\u5207\u51fd\u6570\u7684\u503c\u57df\u662f$[-1, 1]$\u3002\u5982\u679c\u81ea\u53d8\u91cf\u5747\u5300\u5206\u5e03\u5728\u6574\u4e2a\u5b9e\u57df\uff0c\u8be5\u6fc0\u6d3b\u51fd\u6570\u8f93\u51fa\u7684\u5747\u503c\u4e3a0\u3002", 
            "cell_type": "markdown", 
            "metadata": {}
        }, 
        {
            "execution_count": null, 
            "cell_type": "code", 
            "metadata": {
                "attributes": {
                    "classes": [], 
                    "id": "", 
                    "n": "13"
                }
            }, 
            "outputs": [], 
            "source": "def rnn(inputs, state, *params):\n    # inputs: num_steps \u4e2a\u5c3a\u5bf8\u4e3a batch_size * vocab_size \u77e9\u9635\u3002\n    # H: \u5c3a\u5bf8\u4e3a batch_size * hidden_dim \u77e9\u9635\u3002\n    # outputs: num_steps \u4e2a\u5c3a\u5bf8\u4e3a batch_size * vocab_size \u77e9\u9635\u3002\n    H = state\n    W_xh, W_hh, b_h, W_hy, b_y = params\n    outputs = []\n    for X in inputs:\n        H = nd.tanh(nd.dot(X, W_xh) + nd.dot(H, W_hh) + b_h)\n        Y = nd.dot(H, W_hy) + b_y\n        outputs.append(Y)\n    return (outputs, H)"
        }, 
        {
            "source": "\u505a\u4e2a\u7b80\u5355\u7684\u6d4b\u8bd5\uff1a", 
            "cell_type": "markdown", 
            "metadata": {}
        }, 
        {
            "execution_count": null, 
            "cell_type": "code", 
            "metadata": {
                "attributes": {
                    "classes": [], 
                    "id": "", 
                    "n": "14"
                }
            }, 
            "outputs": [], 
            "source": "state = nd.zeros(shape=(data.shape[0], hidden_dim), ctx=ctx)\n\nparams = get_params()\noutputs, state_new = rnn(get_inputs(data.as_in_context(ctx)), state, *params)\n\nprint('output length: ',len(outputs))\nprint('output[0] shape: ', outputs[0].shape)\nprint('state shape: ', state_new.shape)"
        }, 
        {
            "source": "## \u9884\u6d4b\u5e8f\u5217\n\n\u5728\u505a\u9884\u6d4b\u65f6\u6211\u4eec\u53ea\u9700\u8981\u7ed9\u5b9a\u65f6\u95f40\u7684\u8f93\u5165\u548c\u8d77\u59cb\u9690\u542b\u53d8\u91cf\u3002\u7136\u540e\u6211\u4eec\u6bcf\u6b21\u5c06\u4e0a\u4e00\u4e2a\u65f6\u95f4\u7684\u8f93\u51fa\u4f5c\u4e3a\u4e0b\u4e00\u4e2a\u65f6\u95f4\u7684\u8f93\u5165\u3002\n\n![](https://github.com/mli/gluon-tutorials-zh/raw/master/img/rnn_3.png)", 
            "cell_type": "markdown", 
            "metadata": {}
        }, 
        {
            "execution_count": null, 
            "cell_type": "code", 
            "metadata": {
                "attributes": {
                    "classes": [], 
                    "id": "", 
                    "n": "15"
                }
            }, 
            "outputs": [], 
            "source": "def predict_rnn(rnn, prefix, num_chars, params, hidden_dim, ctx, idx_to_char,\n                char_to_idx, get_inputs, is_lstm=False):\n    # \u9884\u6d4b\u4ee5 prefix \u5f00\u59cb\u7684\u63a5\u4e0b\u6765\u7684 num_chars \u4e2a\u5b57\u7b26\u3002\n    prefix = prefix.lower()\n    state_h = nd.zeros(shape=(1, hidden_dim), ctx=ctx)\n    if is_lstm:\n        # \u5f53RNN\u4f7f\u7528LSTM\u65f6\u624d\u4f1a\u7528\u5230\uff0c\u8fd9\u91cc\u53ef\u4ee5\u5ffd\u7565\u3002\n        state_c = nd.zeros(shape=(1, hidden_dim), ctx=ctx)\n    output = [char_to_idx[prefix[0]]]\n    for i in range(num_chars + len(prefix)):\n        X = nd.array([output[-1]], ctx=ctx)\n        # \u5728\u5e8f\u5217\u4e2d\u5faa\u73af\u8fed\u4ee3\u9690\u542b\u53d8\u91cf\u3002\n        if is_lstm:\n            # \u5f53RNN\u4f7f\u7528LSTM\u65f6\u624d\u4f1a\u7528\u5230\uff0c\u8fd9\u91cc\u53ef\u4ee5\u5ffd\u7565\u3002\n            Y, state_h, state_c = rnn(get_inputs(X), state_h, state_c, *params)\n        else:\n            Y, state_h = rnn(get_inputs(X), state_h, *params)\n        if i < len(prefix)-1:\n            next_input = char_to_idx[prefix[i+1]]\n        else:\n            next_input = int(Y[0].argmax(axis=1).asscalar())\n        output.append(next_input)\n    return ''.join([idx_to_char[i] for i in output])"
        }, 
        {
            "source": "## \u68af\u5ea6\u526a\u88c1\n\n\u6211\u4eec\u5728[\u6b63\u5411\u4f20\u64ad\u548c\u53cd\u5411\u4f20\u64ad](../chapter_supervised-learning/backprop.md)\u4e2d\u63d0\u5230\uff0c\n\u8bad\u7ec3\u795e\u7ecf\u7f51\u7edc\u5f80\u5f80\u9700\u8981\u4f9d\u8d56\u68af\u5ea6\u8ba1\u7b97\u7684\u4f18\u5316\u7b97\u6cd5\uff0c\u4f8b\u5982\u6211\u4eec\u4e4b\u524d\u4ecb\u7ecd\u7684[\u968f\u673a\u68af\u5ea6\u4e0b\u964d](../chapter_supervised-learning/linear-regression-scratch.md)\u3002\n\u800c\u5728\u5faa\u73af\u795e\u7ecf\u7f51\u7edc\u7684\u8bad\u7ec3\u4e2d\uff0c\u5f53\u6bcf\u4e2a\u65f6\u5e8f\u8bad\u7ec3\u6570\u636e\u6837\u672c\u7684\u65f6\u5e8f\u957f\u5ea6`num_steps`\u8f83\u5927\u6216\u8005\u65f6\u523b$t$\u8f83\u5c0f\uff0c\u76ee\u6807\u51fd\u6570\u6709\u5173$t$\u65f6\u523b\u7684\u9690\u542b\u5c42\u53d8\u91cf\u68af\u5ea6\u8f83\u5bb9\u6613\u51fa\u73b0\u8870\u51cf\uff08vanishing\uff09\u6216\u7206\u70b8\uff08explosion\uff09\u3002\u6211\u4eec\u4f1a\u5728[\u4e0b\u4e00\u8282](bptt.md)\u8be6\u7ec6\u4ecb\u7ecd\u51fa\u73b0\u8be5\u73b0\u8c61\u7684\u539f\u56e0\u3002\n\n\u4e3a\u4e86\u5e94\u5bf9\u68af\u5ea6\u7206\u70b8\uff0c\u4e00\u4e2a\u5e38\u7528\u7684\u505a\u6cd5\u662f\u5982\u679c\u68af\u5ea6\u7279\u522b\u5927\uff0c\u90a3\u4e48\u5c31\u6295\u5f71\u5230\u4e00\u4e2a\u6bd4\u8f83\u5c0f\u7684\u5c3a\u5ea6\u4e0a\u3002\u5047\u8bbe\u6211\u4eec\u628a\u6240\u6709\u68af\u5ea6\u63a5\u6210\u4e00\u4e2a\u5411\u91cf $\\boldsymbol{g}$\uff0c\u5047\u8bbe\u526a\u88c1\u7684\u9608\u503c\u662f$\\theta$\uff0c\u90a3\u4e48\u6211\u4eec\u8fd9\u6837\u526a\u88c1\u4f7f\u5f97$\\|\\boldsymbol{g}\\|$\u4e0d\u4f1a\u8d85\u8fc7$\\theta$\uff1a\n\n$$ \\boldsymbol{g} = \\min\\left(\\frac{\\theta}{\\|\\boldsymbol{g}\\|}, 1\\right)\\boldsymbol{g}$$", 
            "cell_type": "markdown", 
            "metadata": {}
        }, 
        {
            "execution_count": null, 
            "cell_type": "code", 
            "metadata": {
                "attributes": {
                    "classes": [], 
                    "id": "", 
                    "n": "16"
                }
            }, 
            "outputs": [], 
            "source": "def grad_clipping(params, theta, ctx):\n    if theta is not None:\n        norm = nd.array([0.0], ctx)\n        for p in params:\n            norm += nd.sum(p.grad ** 2)\n        norm = nd.sqrt(norm).asscalar()\n        if norm > theta:\n            for p in params:\n                p.grad[:] *= theta / norm"
        }, 
        {
            "source": "## \u8bad\u7ec3\u6a21\u578b\n\n\u4e0b\u9762\u6211\u4eec\u53ef\u4ee5\u8fd8\u662f\u8bad\u7ec3\u6a21\u578b\u3002\u8ddf\u524d\u9762\u524d\u7f6e\u7f51\u7edc\u7684\u6559\u7a0b\u6bd4\uff0c\u8fd9\u91cc\u6709\u4ee5\u4e0b\u51e0\u4e2a\u4e0d\u540c\u3002\n\n1. \u901a\u5e38\u6211\u4eec\u4f7f\u7528\u56f0\u60d1\u5ea6\uff08Perplexity\uff09\u8fd9\u4e2a\u6307\u6807\u3002\n2. \u5728\u66f4\u65b0\u524d\u6211\u4eec\u5bf9\u68af\u5ea6\u505a\u526a\u88c1\u3002\n3. \u5728\u8bad\u7ec3\u6a21\u578b\u65f6\uff0c\u5bf9\u65f6\u5e8f\u6570\u636e\u91c7\u7528\u4e0d\u540c\u6279\u91cf\u91c7\u6837\u65b9\u6cd5\u5c06\u5bfc\u81f4\u9690\u542b\u53d8\u91cf\u521d\u59cb\u5316\u7684\u4e0d\u540c\u3002\n\n### \u56f0\u60d1\u5ea6\uff08Perplexity\uff09\n\n\u56de\u5fc6\u4ee5\u4e0b\u6211\u4eec\u4e4b\u524d\u4ecb\u7ecd\u7684[\u4ea4\u53c9\u71b5\u635f\u5931\u51fd\u6570](../chapter_supervised-learning/softmax-regression-scratch.md)\u3002\u5728\u8bed\u8a00\u6a21\u578b\u4e2d\uff0c\u8be5\u635f\u5931\u51fd\u6570\u5373\u88ab\u9884\u6d4b\u5b57\u7b26\u7684\u5bf9\u6570\u4f3c\u7136\u5e73\u5747\u503c\u7684\u76f8\u53cd\u6570\uff1a\n\n$$\\text{loss} = -\\frac{1}{N} \\sum_{i=1}^N \\log p_{\\text{target}_i}$$\n\n\u5176\u4e2d$N$\u662f\u9884\u6d4b\u7684\u5b57\u7b26\u603b\u6570\uff0c$p_{\\text{target}_i}$\u662f\u5728\u7b2c$i$\u4e2a\u9884\u6d4b\u4e2d\u771f\u5b9e\u7684\u4e0b\u4e2a\u5b57\u7b26\u88ab\u9884\u6d4b\u7684\u6982\u7387\u3002\n\n\u800c\u8fd9\u91cc\u7684\u56f0\u60d1\u5ea6\u53ef\u4ee5\u7b80\u5355\u7684\u8ba4\u4e3a\u5c31\u662f\u5bf9\u4ea4\u53c9\u71b5\u505aexp\u8fd0\u7b97\u4f7f\u5f97\u6570\u503c\u66f4\u597d\u8bfb\u3002\n\n\u4e3a\u4e86\u89e3\u91ca\u56f0\u60d1\u5ea6\u7684\u610f\u4e49\uff0c\u6211\u4eec\u5148\u8003\u8651\u4e00\u4e2a\u5b8c\u7f8e\u7ed3\u679c\uff1a\u6a21\u578b\u603b\u662f\u628a\u771f\u5b9e\u7684\u4e0b\u4e2a\u5b57\u7b26\u7684\u6982\u7387\u9884\u6d4b\u4e3a1\u3002\u4e5f\u5c31\u662f\u8bf4\uff0c\u5bf9\u4efb\u610f\u7684$i$\u6765\u8bf4\uff0c$p_{\\text{target}_i} = 1$\u3002\u8fd9\u79cd\u5b8c\u7f8e\u60c5\u51b5\u4e0b\uff0c\u56f0\u60d1\u5ea6\u503c\u4e3a1\u3002\n\n\u6211\u4eec\u518d\u8003\u8651\u4e00\u4e2a\u57fa\u7ebf\u7ed3\u679c\uff1a\u7ed9\u5b9a\u4e0d\u91cd\u590d\u7684\u5b57\u7b26\u96c6\u5408$W$\u53ca\u5176\u5b57\u7b26\u603b\u6570$|W|$\uff0c\u6a21\u578b\u603b\u662f\u9884\u6d4b\u4e0b\u4e2a\u5b57\u7b26\u4e3a\u96c6\u5408$W$\u4e2d\u4efb\u4e00\u5b57\u7b26\u7684\u6982\u7387\u90fd\u76f8\u540c\u3002\u4e5f\u5c31\u662f\u8bf4\uff0c\u5bf9\u4efb\u610f\u7684$i$\u6765\u8bf4\uff0c$p_{\\text{target}_i} = 1/|W|$\u3002\u8fd9\u79cd\u57fa\u7ebf\u60c5\u51b5\u4e0b\uff0c\u56f0\u60d1\u5ea6\u503c\u4e3a$|W|$\u3002\n\n\u6700\u540e\uff0c\u6211\u4eec\u53ef\u4ee5\u8003\u8651\u4e00\u4e2a\u6700\u574f\u7ed3\u679c\uff1a\u6a21\u578b\u603b\u662f\u628a\u771f\u5b9e\u7684\u4e0b\u4e2a\u5b57\u7b26\u7684\u6982\u7387\u9884\u6d4b\u4e3a0\u3002\u4e5f\u5c31\u662f\u8bf4\uff0c\u5bf9\u4efb\u610f\u7684$i$\u6765\u8bf4\uff0c$p_{\\text{target}_i} = 0$\u3002\u8fd9\u79cd\u6700\u574f\u60c5\u51b5\u4e0b\uff0c\u56f0\u60d1\u5ea6\u503c\u4e3a\u6b63\u65e0\u7a77\u3002\n\n\u4efb\u4f55\u4e00\u4e2a\u6709\u6548\u6a21\u578b\u7684\u56f0\u60d1\u5ea6\u503c\u5fc5\u987b\u5c0f\u4e8e\u9884\u6d4b\u96c6\u4e2d\u5143\u7d20\u7684\u6570\u91cf\u3002\u5728\u672c\u4f8b\u4e2d\uff0c\u56f0\u60d1\u5ea6\u5fc5\u987b\u5c0f\u4e8e\u5b57\u5178\u4e2d\u7684\u5b57\u7b26\u6570$|W|$\u3002\u5982\u679c\u4e00\u4e2a\u6a21\u578b\u53ef\u4ee5\u53d6\u5f97\u8f83\u4f4e\u7684\u56f0\u60d1\u5ea6\u7684\u503c\uff08\u66f4\u9760\u8fd11\uff09\uff0c\u901a\u5e38\u60c5\u51b5\u4e0b\uff0c\u8be5\u6a21\u578b\u9884\u6d4b\u66f4\u52a0\u51c6\u786e\u3002", 
            "cell_type": "markdown", 
            "metadata": {}
        }, 
        {
            "execution_count": null, 
            "cell_type": "code", 
            "metadata": {
                "attributes": {
                    "classes": [], 
                    "id": "", 
                    "n": "17"
                }
            }, 
            "outputs": [], 
            "source": "from mxnet import autograd\nfrom mxnet import gluon\nfrom math import exp\n           \ndef train_and_predict_rnn(rnn, is_random_iter, epochs, num_steps, hidden_dim, \n                          learning_rate, clipping_theta, batch_size,\n                          pred_period, pred_len, seqs, get_params, get_inputs,\n                          ctx, corpus_indices, idx_to_char, char_to_idx,\n                          is_lstm=False):\n    if is_random_iter:\n        data_iter = data_iter_random\n    else:\n        data_iter = data_iter_consecutive\n    params = get_params()\n    \n    softmax_cross_entropy = gluon.loss.SoftmaxCrossEntropyLoss()\n\n    for e in range(1, epochs + 1):\n        # \u5982\u4f7f\u7528\u76f8\u90bb\u6279\u91cf\u91c7\u6837\uff0c\u5728\u540c\u4e00\u4e2aepoch\u4e2d\uff0c\u9690\u542b\u53d8\u91cf\u53ea\u9700\u8981\u5728\u8be5epoch\u5f00\u59cb\u7684\u65f6\u5019\u521d\u59cb\u5316\u3002\n        if not is_random_iter:\n            state_h = nd.zeros(shape=(batch_size, hidden_dim), ctx=ctx)\n            if is_lstm:\n                # \u5f53RNN\u4f7f\u7528LSTM\u65f6\u624d\u4f1a\u7528\u5230\uff0c\u8fd9\u91cc\u53ef\u4ee5\u5ffd\u7565\u3002\n                state_c = nd.zeros(shape=(batch_size, hidden_dim), ctx=ctx)\n        train_loss, num_examples = 0, 0\n        for data, label in data_iter(corpus_indices, batch_size, num_steps, \n                                     ctx):\n            # \u5982\u4f7f\u7528\u968f\u673a\u6279\u91cf\u91c7\u6837\uff0c\u5904\u7406\u6bcf\u4e2a\u968f\u673a\u5c0f\u6279\u91cf\u524d\u90fd\u9700\u8981\u521d\u59cb\u5316\u9690\u542b\u53d8\u91cf\u3002\n            if is_random_iter:\n                state_h = nd.zeros(shape=(batch_size, hidden_dim), ctx=ctx)\n                if is_lstm:\n                    # \u5f53RNN\u4f7f\u7528LSTM\u65f6\u624d\u4f1a\u7528\u5230\uff0c\u8fd9\u91cc\u53ef\u4ee5\u5ffd\u7565\u3002\n                    state_c = nd.zeros(shape=(batch_size, hidden_dim), ctx=ctx)\n            with autograd.record():\n                # outputs \u5c3a\u5bf8\uff1a(batch_size, vocab_size)\n                if is_lstm:\n                    # \u5f53RNN\u4f7f\u7528LSTM\u65f6\u624d\u4f1a\u7528\u5230\uff0c\u8fd9\u91cc\u53ef\u4ee5\u5ffd\u7565\u3002\n                    outputs, state_h, state_c = rnn(get_inputs(data), state_h,\n                                                    state_c, *params) \n                else:\n                    outputs, state_h = rnn(get_inputs(data), state_h, *params)\n                # \u8bbet_ib_j\u4e3ai\u65f6\u95f4\u6279\u91cf\u4e2d\u7684j\u5143\u7d20:\n                # label \u5c3a\u5bf8\uff1a\uff08batch_size * num_steps\uff09\n                # label = [t_0b_0, t_0b_1, ..., t_1b_0, t_1b_1, ..., ]\n                label = label.T.reshape((-1,))\n                # \u62fc\u63a5outputs\uff0c\u5c3a\u5bf8\uff1a(batch_size * num_steps, vocab_size)\u3002\n                outputs = nd.concat(*outputs, dim=0)\n                # \u7ecf\u4e0a\u8ff0\u64cd\u4f5c\uff0coutputs\u548clabel\u5df2\u5bf9\u9f50\u3002\n                loss = softmax_cross_entropy(outputs, label)\n            loss.backward()\n\n            grad_clipping(params, clipping_theta, ctx)\n            utils.SGD(params, learning_rate)\n\n            train_loss += nd.sum(loss).asscalar()\n            num_examples += loss.size\n\n        if e % pred_period == 0:\n            print(\"Epoch %d. Perplexity %f\" % (e, \n                                               exp(train_loss/num_examples)))\n            for seq in seqs:\n                print(' - ', predict_rnn(rnn, seq, pred_len, params,\n                      hidden_dim, ctx, idx_to_char, char_to_idx, get_inputs,\n                      is_lstm))\n            print()"
        }, 
        {
            "source": "\u4ee5\u4e0b\u5b9a\u4e49\u6a21\u578b\u53c2\u6570\u548c\u9884\u6d4b\u5e8f\u5217\u524d\u7f00\u3002", 
            "cell_type": "markdown", 
            "metadata": {}
        }, 
        {
            "execution_count": null, 
            "cell_type": "code", 
            "metadata": {}, 
            "outputs": [], 
            "source": "epochs = 200\nnum_steps = 35\nlearning_rate = 0.1\nbatch_size = 32\n\nsoftmax_cross_entropy = gluon.loss.SoftmaxCrossEntropyLoss()\n\nseq1 = '\u5206\u5f00'\nseq2 = '\u4e0d\u5206\u5f00'\nseq3 = '\u6218\u4e89\u4e2d\u90e8\u961f'\nseqs = [seq1, seq2, seq3]"
        }, 
        {
            "source": "\u6211\u4eec\u5148\u91c7\u7528\u968f\u673a\u6279\u91cf\u91c7\u6837\u5b9e\u9a8c\u5faa\u73af\u795e\u7ecf\u7f51\u7edc\u8c31\u5199\u6b4c\u8bcd\u3002\u6211\u4eec\u5047\u5b9a\u8c31\u5199\u6b4c\u8bcd\u7684\u524d\u7f00\u5206\u522b\u4e3a\u201c\u5206\u5f00\u201d\u3001\u201c\u4e0d\u5206\u5f00\u201d\u548c\u201c\u6218\u4e89\u4e2d\u90e8\u961f\u201d\u3002", 
            "cell_type": "markdown", 
            "metadata": {}
        }, 
        {
            "execution_count": null, 
            "cell_type": "code", 
            "metadata": {
                "attributes": {
                    "classes": [], 
                    "id": "", 
                    "n": "18"
                }
            }, 
            "outputs": [], 
            "source": "train_and_predict_rnn(rnn=rnn, is_random_iter=True, epochs=200, num_steps=35,\n                      hidden_dim=hidden_dim, learning_rate=0.2,\n                      clipping_theta=5, batch_size=32, pred_period=20,\n                      pred_len=100, seqs=seqs, get_params=get_params,\n                      get_inputs=get_inputs, ctx=ctx,\n                      corpus_indices=corpus_indices, idx_to_char=idx_to_char,\n                      char_to_idx=char_to_idx)"
        }, 
        {
            "source": "\u6211\u4eec\u518d\u91c7\u7528\u76f8\u90bb\u6279\u91cf\u91c7\u6837\u5b9e\u9a8c\u5faa\u73af\u795e\u7ecf\u7f51\u7edc\u8c31\u5199\u6b4c\u8bcd\u3002", 
            "cell_type": "markdown", 
            "metadata": {}
        }, 
        {
            "execution_count": null, 
            "cell_type": "code", 
            "metadata": {
                "attributes": {
                    "classes": [], 
                    "id": "", 
                    "n": "19"
                }
            }, 
            "outputs": [], 
            "source": "train_and_predict_rnn(rnn=rnn, is_random_iter=False, epochs=200, num_steps=35,\n                      hidden_dim=hidden_dim, learning_rate=0.2,\n                      clipping_theta=5, batch_size=32, pred_period=20,\n                      pred_len=100, seqs=seqs, get_params=get_params,\n                      get_inputs=get_inputs, ctx=ctx,\n                      corpus_indices=corpus_indices, idx_to_char=idx_to_char,\n                      char_to_idx=char_to_idx)"
        }, 
        {
            "source": "\u53ef\u4ee5\u770b\u5230\u4e00\u5f00\u59cb\u5b66\u5230\u7b80\u5355\u7684\u5b57\u7b26\uff0c\u7136\u540e\u7b80\u5355\u7684\u8bcd\uff0c\u63a5\u7740\u662f\u590d\u6742\u70b9\u7684\u8bcd\uff0c\u7136\u540e\u770b\u4e0a\u53bb\u4f3c\u4e4e\u50cf\u4e2a\u53e5\u5b50\u4e86\u3002\n\n## \u7ed3\u8bba\n\n* \u901a\u8fc7\u9690\u542b\u72b6\u6001\uff0c\u5faa\u73af\u795e\u7ecf\u7f51\u7edc\u9002\u5408\u5904\u7406\u524d\u540e\u6709\u4f9d\u8d56\u5173\u7cfb\u65f6\u5e8f\u6570\u636e\u6837\u672c\u3002\n* \u5bf9\u524d\u540e\u6709\u4f9d\u8d56\u5173\u7cfb\u65f6\u5e8f\u6570\u636e\u6837\u672c\u6279\u91cf\u91c7\u6837\u65f6\uff0c\u6211\u4eec\u53ef\u4ee5\u4f7f\u7528\u968f\u673a\u6279\u91cf\u91c7\u6837\u548c\u76f8\u90bb\u6279\u91cf\u91c7\u6837\u3002\n* \u5faa\u73af\u795e\u7ecf\u7f51\u7edc\u8f83\u5bb9\u6613\u51fa\u73b0\u68af\u5ea6\u8870\u51cf\u548c\u7206\u70b8\u3002\n\n\n## \u7ec3\u4e60\n\n* \u8c03\u8c03\u53c2\u6570\uff08\u4f8b\u5982\u6570\u636e\u96c6\u5927\u5c0f\u3001\u5e8f\u5217\u957f\u5ea6\u3001\u9690\u542b\u72b6\u6001\u957f\u5ea6\u548c\u5b66\u4e60\u7387\uff09\uff0c\u770b\u770b\u5bf9\u8fd0\u884c\u65f6\u95f4\u3001perplexity\u548c\u9884\u6d4b\u7684\u7ed3\u679c\u9020\u6210\u7684\u5f71\u54cd\u3002\n* \u5728\u968f\u673a\u6279\u91cf\u91c7\u6837\u4e2d\uff0c\u5982\u679c\u5728\u540c\u4e00\u4e2aepoch\u4e2d\u53ea\u628a\u9690\u542b\u53d8\u91cf\u5728\u8be5epoch\u5f00\u59cb\u7684\u65f6\u5019\u521d\u59cb\u5316\u4f1a\u600e\u4e48\u6837\uff1f\n\n**\u5410\u69fd\u548c\u8ba8\u8bba\u6b22\u8fce\u70b9**[\u8fd9\u91cc](https://discuss.gluon.ai/t/topic/989)", 
            "cell_type": "markdown", 
            "metadata": {}
        }
    ], 
    "metadata": {
        "kernelspec": {
            "display_name": "Python 2 with Spark 1.6 (Unsupported)", 
            "name": "python2", 
            "language": "python"
        }, 
        "language_info": {
            "mimetype": "text/x-python", 
            "nbconvert_exporter": "python", 
            "version": "2.7.11", 
            "name": "python", 
            "file_extension": ".py", 
            "pygments_lexer": "ipython2", 
            "codemirror_mode": {
                "version": 2, 
                "name": "ipython"
            }
        }
    }, 
    "nbformat": 4
}