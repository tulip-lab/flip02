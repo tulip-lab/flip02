{
    "nbformat_minor": 2, 
    "cells": [
        {
            "source": "# \u6279\u91cf\u5f52\u4e00\u5316 --- \u4ece0\u5f00\u59cb\n\n\u5728[Kaggle\u5b9e\u6218](../chapter_supervised-learning/kaggle-gluon-kfold.md#\u9884\u5904\u7406\u6570\u636e)\u6211\u4eec\u8f93\u5165\u6570\u636e\u505a\u4e86\u5f52\u4e00\u5316\u3002\u5728\u5b9e\u9645\u5e94\u7528\u4e2d\uff0c\u6211\u4eec\u901a\u5e38\u5c06\u8f93\u5165\u6570\u636e\u7684\u6bcf\u4e2a\u6837\u672c\u6216\u8005\u6bcf\u4e2a\u7279\u5f81\u8fdb\u884c\u5f52\u4e00\u5316\uff0c\u5c31\u662f\u5c06\u5747\u503c\u53d8\u4e3a0\u65b9\u5dee\u53d8\u4e3a1\uff0c\u6765\u4f7f\u5f97\u6570\u503c\u66f4\u7a33\u5b9a\u3002\n\n\u8fd9\u4e2a\u5bf9\n\u6211\u4eec\u5728\u4e4b\u524d\u7684\u8bfe\u7a0b\u91cc\u5b66\u8fc7\u4e86[\u7ebf\u6027\u56de\u5f52](../chapter_supervised-learning/linear-regression-\nscratch.md)\u548c[\u903b\u8f91\u56de\u5f52](../chapter_supervised-learning/softmax-regression-\nscratch.md)\u5f88\u6709\u6548\u3002\u56e0\u4e3a\u8f93\u5165\u5c42\u7684\u8f93\u5165\u503c\u7684\u5927\u5c0f\u53d8\u5316\u4e0d\u5267\u70c8\uff0c\u90a3\u4e48\u8f93\u5165\u4e5f\u4e0d\u4f1a\u3002\u4f46\u662f\uff0c\u5bf9\u4e8e\u4e00\u4e2a\u53ef\u80fd\u6709\u5f88\u591a\u5c42\u7684\u6df1\u5ea6\u5b66\u4e60\u6a21\u578b\u6765\u8bf4\uff0c\u60c5\u51b5\u53ef\u80fd\u4f1a\u6bd4\u8f83\u590d\u6742\u3002\n\n\u4e3e\u4e2a\u4f8b\u5b50\uff0c\u968f\u7740\u7b2c\u4e00\u5c42\u548c\u7b2c\u4e8c\u5c42\u7684\u53c2\u6570\u5728\u8bad\u7ec3\u65f6\u4e0d\u65ad\u53d8\u5316\uff0c\u7b2c\u4e09\u5c42\u6240\u4f7f\u7528\u7684\u6fc0\u6d3b\u51fd\u6570\u7684\u8f93\u5165\u503c\u53ef\u80fd\u7531\u4e8e\u4e58\u6cd5\u6548\u5e94\u800c\u53d8\u5f97\u6781\u5927\u6216\u6781\u5c0f\uff0c\u4f8b\u5982\u548c\u7b2c\u4e00\u5c42\u6240\u4f7f\u7528\u7684\u6fc0\u6d3b\u51fd\u6570\u7684\u8f93\u5165\u503c\u4e0d\u5728\u4e00\u4e2a\u6570\u91cf\u7ea7\u4e0a\u3002\u8fd9\u79cd\u5728\u8bad\u7ec3\u65f6\u53ef\u80fd\u51fa\u73b0\u7684\u60c5\u51b5\u4f1a\u9020\u6210\u6a21\u578b\u8bad\u7ec3\u7684\u4e0d\u7a33\u5b9a\u6027\u3002\u4f8b\u5982\uff0c\u7ed9\u5b9a\u4e00\u4e2a\u5b66\u4e60\u7387\uff0c\u67d0\u6b21\u53c2\u6570\u8fed\u4ee3\u540e\uff0c\u76ee\u6807\u51fd\u6570\u503c\u4f1a\u5267\u70c8\u53d8\u5316\u6216\u751a\u81f3\u5347\u9ad8\u3002\u6570\u5b66\u7684\u89e3\u91ca\u662f\uff0c\u5982\u679c\u628a\u76ee\u6807\u51fd\u6570\n$f$ \u6839\u636e\u53c2\u6570 $\\mathbf{w}$ \u8fed\u4ee3\uff08\u5982 $f(\\mathbf{w} - \\eta \\nabla f(\\mathbf{w}))$\n\uff09\u8fdb\u884c\u6cf0\u52d2\u5c55\u5f00\uff0c\u6709\u5173\u5b66\u4e60\u7387 $\\eta$ \u7684\u9ad8\u9636\u9879\u7684\u7cfb\u6570\u53ef\u80fd\u7531\u4e8e\u6570\u91cf\u7ea7\u7684\u539f\u56e0\uff08\u901a\u5e38\u7531\u4e8e\u5c42\u6570\u591a\uff09\u800c\u4e0d\u5bb9\u5ffd\u7565\u3002\u7136\u800c\u5e38\u7528\u7684\u4f4e\u9636\u4f18\u5316\u7b97\u6cd5\uff08\u5982\u68af\u5ea6\u4e0b\u964d\uff09\u5bf9\u4e8e\u4e0d\u65ad\u964d\u4f4e\u76ee\u6807\u51fd\n\u6570\u7684\u6709\u6548\u6027\u901a\u5e38\u57fa\u4e8e\u4e00\u4e2a\u57fa\u672c\u5047\u8bbe\uff1a\u5728\u4ee5\u4e0a\u6cf0\u52d2\u5c55\u5f00\u4e2d\u628a\u6709\u5173\u5b66\u4e60\u7387\u7684\u9ad8\u9636\u9879\u901a\u901a\u5ffd\u7565\u4e0d\u8ba1\u3002\n\n\u4e3a\u4e86\u5e94\u5bf9\u4e0a\u8ff0\u8fd9\u79cd\u60c5\u51b5\uff0cSergey Ioffe\u548cChristian Szegedy\u57282015\u5e74\u63d0\u51fa\u4e86\u6279\u91cf\u5f52\u4e00\u5316\u7684\u65b9\u6cd5\u3002\u7b80\u800c\u8a00\u4e4b\uff0c\u5728\u8bad\u7ec3\u65f6\u7ed9\u5b9a\u4e00\u4e2a\u6279\u91cf\u8f93\u5165\uff0c\u6279\u91cf\u5f52\u4e00\u5316\u8bd5\u56fe\u5bf9\u6df1\u5ea6\u5b66\u4e60\u6a21\u578b\u7684\u67d0\u4e00\u5c42\u6240\u4f7f\u7528\u7684\u6fc0\u6d3b\u51fd\u6570\u7684\u8f93\u5165\u8fdb\u884c\u5f52\u4e00\u5316\uff1a\u4f7f\u6279\u91cf\u5448\u6807\u51c6\u6b63\u6001\u5206\u5e03\uff08\u5747\u503c\u4e3a0\uff0c\u6807\u51c6\u5dee\u4e3a1\uff09\u3002\n\n\u6279\u91cf\u5f52\u4e00\u5316\u901a\u5e38\u5e94\u7528\u4e8e\u8f93\u5165\u5c42\u6216\u4efb\u610f\u4e2d\u95f4\u5c42\u3002\n\n## \u7b80\u5316\u7684\u6279\u91cf\u5f52\u4e00\u5316\u5c42\n\n\u7ed9\u5b9a\u4e00\u4e2a\u6279\u91cf $B = \\{x_{1, ..., m}\\}$, \u6211\u4eec\u9700\u8981\u5b66\u4e60\u62c9\u5347\u53c2\u6570 $\\gamma$ \u548c\u504f\u79fb\u53c2\u6570 $\\beta$\u3002\n\n\u6211\u4eec\u5b9a\u4e49\uff1a\n\n$$\\mu_B \\leftarrow \\frac{1}{m}\\sum_{i = 1}^{m}x_i$$\n$$\\sigma_B^2 \\leftarrow \\frac{1}{m} \\sum_{i=1}^{m}(x_i - \\mu_B)^2$$\n$$\\hat{x_i} \\leftarrow \\frac{x_i - \\mu_B}{\\sqrt{\\sigma_B^2 + \\epsilon}}$$\n$$y_i \\leftarrow \\gamma \\hat{x_i} + \\beta \\equiv \\mbox{BN}_{\\gamma,\\beta}(x_i)$$\n\n\u6279\u91cf\u5f52\u4e00\u5316\u5c42\u7684\u8f93\u51fa\u662f $\\{y_i = BN_{\\gamma, \\beta}(x_i)\\}$\u3002\n\n\u6211\u4eec\u73b0\u5728\u6765\u52a8\u624b\u5b9e\u73b0\u4e00\u4e2a\u7b80\u5316\u7684\u6279\u91cf\u5f52\u4e00\u5316\u5c42\u3002\u5b9e\u73b0\u65f6\u5bf9\u5168\u8fde\u63a5\u5c42\u548c\u4e8c\u7ef4\u5377\u79ef\u5c42\u4e24\u79cd\u60c5\u51b5\u505a\u4e86\u533a\u5206\u3002\u5bf9\u4e8e\u5168\u8fde\u63a5\u5c42\uff0c\u5f88\u660e\u663e\u6211\u4eec\u8981\u5bf9\u6bcf\u4e2a\u6279\u91cf\u8fdb\u884c\u5f52\u4e00\u5316\u3002\u7136\u800c\u8fd9\u91cc\u9700\u8981\u6ce8\u610f\u7684\u662f\uff0c\u5bf9\n\u4e8e\u4e8c\u7ef4\u5377\u79ef\uff0c\u6211\u4eec\u8981\u5bf9\u6bcf\u4e2a\u901a\u9053\u8fdb\u884c\u5f52\u4e00\u5316\uff0c\u5e76\u9700\u8981\u4fdd\u6301\u56db\u7ef4\u5f62\u72b6\u4f7f\u5f97\u53ef\u4ee5\u6b63\u786e\u5730\u5e7f\u64ad\u3002", 
            "cell_type": "markdown", 
            "metadata": {}
        }, 
        {
            "execution_count": null, 
            "cell_type": "code", 
            "metadata": {
                "attributes": {
                    "classes": [], 
                    "id": "", 
                    "n": "1"
                }
            }, 
            "outputs": [], 
            "source": "from mxnet import nd\ndef pure_batch_norm(X, gamma, beta, eps=1e-5):\n    assert len(X.shape) in (2, 4)\n    # \u5168\u8fde\u63a5: batch_size x feature\n    if len(X.shape) == 2:\n        # \u6bcf\u4e2a\u8f93\u5165\u7ef4\u5ea6\u5728\u6837\u672c\u4e0a\u7684\u5e73\u5747\u548c\u65b9\u5dee\n        mean = X.mean(axis=0)\n        variance = ((X - mean)**2).mean(axis=0)\n    # 2D\u5377\u79ef: batch_size x channel x height x width\n    else:\n        # \u5bf9\u6bcf\u4e2a\u901a\u9053\u7b97\u5747\u503c\u548c\u65b9\u5dee\uff0c\u9700\u8981\u4fdd\u63014D\u5f62\u72b6\u4f7f\u5f97\u53ef\u4ee5\u6b63\u786e\u5730\u5e7f\u64ad\n        mean = X.mean(axis=(0,2,3), keepdims=True)\n        variance = ((X - mean)**2).mean(axis=(0,2,3), keepdims=True)\n\n    # \u5747\u4e00\u5316\n    X_hat = (X - mean) / nd.sqrt(variance + eps)\n    # \u62c9\u5347\u548c\u504f\u79fb\n    return gamma.reshape(mean.shape) * X_hat + beta.reshape(mean.shape)"
        }, 
        {
            "source": "\u4e0b\u9762\u6211\u4eec\u68c0\u67e5\u4e00\u4e0b\u3002\u6211\u4eec\u5148\u5b9a\u4e49\u5168\u8fde\u63a5\u5c42\u7684\u8f93\u5165\u662f\u8fd9\u6837\u7684\u3002\u6bcf\u4e00\u884c\u662f\u6279\u91cf\u4e2d\u7684\u4e00\u4e2a\u5b9e\u4f8b\u3002", 
            "cell_type": "markdown", 
            "metadata": {}
        }, 
        {
            "execution_count": null, 
            "cell_type": "code", 
            "metadata": {
                "attributes": {
                    "classes": [], 
                    "id": "", 
                    "n": "2"
                }
            }, 
            "outputs": [], 
            "source": "A = nd.arange(6).reshape((3,2))\nA"
        }, 
        {
            "source": "\u6211\u4eec\u5e0c\u671b\u6279\u91cf\u4e2d\u7684\u6bcf\u4e00\u5217\u90fd\u88ab\u5f52\u4e00\u5316\u3002\u7ed3\u679c\u7b26\u5408\u9884\u671f\u3002", 
            "cell_type": "markdown", 
            "metadata": {}
        }, 
        {
            "execution_count": null, 
            "cell_type": "code", 
            "metadata": {
                "attributes": {
                    "classes": [], 
                    "id": "", 
                    "n": "3"
                }
            }, 
            "outputs": [], 
            "source": "pure_batch_norm(A, gamma=nd.array([1,1]), beta=nd.array([0,0]))"
        }, 
        {
            "source": "\u4e0b\u9762\u6211\u4eec\u5b9a\u4e49\u4e8c\u7ef4\u5377\u79ef\u7f51\u7edc\u5c42\u7684\u8f93\u5165\u662f\u8fd9\u6837\u7684\u3002", 
            "cell_type": "markdown", 
            "metadata": {}
        }, 
        {
            "execution_count": null, 
            "cell_type": "code", 
            "metadata": {
                "attributes": {
                    "classes": [], 
                    "id": "", 
                    "n": "4"
                }
            }, 
            "outputs": [], 
            "source": "B = nd.arange(18).reshape((1,2,3,3))\nB"
        }, 
        {
            "source": "\u7ed3\u679c\u4e5f\u5982\u9884\u671f\u90a3\u6837\uff0c\u6211\u4eec\u5bf9\u6bcf\u4e2a\u901a\u9053\u505a\u4e86\u5f52\u4e00\u5316\u3002", 
            "cell_type": "markdown", 
            "metadata": {}
        }, 
        {
            "execution_count": null, 
            "cell_type": "code", 
            "metadata": {
                "attributes": {
                    "classes": [], 
                    "id": "", 
                    "n": "5"
                }
            }, 
            "outputs": [], 
            "source": "pure_batch_norm(B, gamma=nd.array([1,1]), beta=nd.array([0,0]))"
        }, 
        {
            "source": "## \u6279\u91cf\u5f52\u4e00\u5316\u5c42\n\n\u4f60\u53ef\u80fd\u4f1a\u60f3\uff0c\u65e2\u7136\u8bad\u7ec3\u65f6\u7528\u4e86\u6279\u91cf\u5f52\u4e00\u5316\uff0c\u90a3\u4e48\u6d4b\u8bd5\u65f6\u4e5f\u8be5\u7528\u6279\u91cf\u5f52\u4e00\u5316\u5417\uff1f\u5176\u5b9e\u8fd9\u4e2a\u95ee\u9898\u4e4d\u4e00\u60f3\u4e0d\u662f\u5f88\u597d\u56de\u7b54\uff0c\u56e0\u4e3a\uff1a\n\n* \u4e0d\u7528\u7684\u8bdd\uff0c\u8bad\u7ec3\u51fa\u7684\u6a21\u578b\u53c2\u6570\u5f88\u53ef\u80fd\u5728\u6d4b\u8bd5\u65f6\u5c31\u4e0d\u51c6\u786e\u4e86\uff1b\n* \u7528\u7684\u8bdd\uff0c\u4e07\u4e00\u6d4b\u8bd5\u7684\u6570\u636e\u5c31\u53ea\u6709\u4e00\u4e2a\u6570\u636e\u5b9e\u4f8b\u5c31\u4e0d\u597d\u529e\u4e86\u3002\n\n\u4e8b\u5b9e\u4e0a\uff0c\u5728\u6d4b\u8bd5\u65f6\u6211\u4eec\u8fd8\u662f\u9700\u8981\u7ee7\u7eed\u4f7f\u7528\u6279\u91cf\u5f52\u4e00\u5316\u7684\uff0c\u53ea\u662f\u9700\u8981\u505a\u4e9b\u6539\u52a8\u3002\u5728\u6d4b\u8bd5\u65f6\uff0c\u6211\u4eec\u9700\u8981\u628a\u539f\u5148\u8bad\u7ec3\u65f6\u7528\u5230\u7684\u6279\u91cf\u5747\u503c\u548c\u65b9\u5dee\u66ff\u6362\u6210**\u6574\u4e2a**\u8bad\u7ec3\u6570\u636e\u7684\u5747\u503c\u548c\u65b9\u5dee\u3002\u4f46\n\u662f\u5f53\u8bad\u7ec3\u6570\u636e\u6781\u5927\u65f6\uff0c\u8fd9\u4e2a\u8ba1\u7b97\u5f00\u9500\u5f88\u5927\u3002\u56e0\u6b64\uff0c\u6211\u4eec\u7528\u79fb\u52a8\u5e73\u5747\u7684\u65b9\u6cd5\u6765\u8fd1\u4f3c\u8ba1\u7b97\uff08\u53c2\u89c1\u5b9e\u73b0\u4e2d\u7684`moving_mean`\u548c`moving_variance`\uff09\u3002\n\n\u4e3a\u4e86\u65b9\u4fbf\u8ba8\u8bba\u6279\u91cf\u5f52\u4e00\u5316\u5c42\u7684\u5b9e\u73b0\uff0c\u6211\u4eec\u5148\u770b\u4e0b\u9762\u8fd9\u6bb5\u4ee3\u7801\u6765\u7406\u89e3``Python``\u53d8\u91cf\u53ef\u4ee5\u5982\u4f55\u4fee\u6539\u3002", 
            "cell_type": "markdown", 
            "metadata": {}
        }, 
        {
            "execution_count": null, 
            "cell_type": "code", 
            "metadata": {
                "attributes": {
                    "classes": [], 
                    "id": "", 
                    "n": "7"
                }
            }, 
            "outputs": [], 
            "source": "def batch_norm(X, gamma, beta, is_training, moving_mean, moving_variance,\n               eps = 1e-5, moving_momentum = 0.9):\n    assert len(X.shape) in (2, 4)\n    # \u5168\u8fde\u63a5: batch_size x feature\n    if len(X.shape) == 2:\n        # \u6bcf\u4e2a\u8f93\u5165\u7ef4\u5ea6\u5728\u6837\u672c\u4e0a\u7684\u5e73\u5747\u548c\u65b9\u5dee\n        mean = X.mean(axis=0)\n        variance = ((X - mean)**2).mean(axis=0)\n    # 2D\u5377\u79ef: batch_size x channel x height x width\n    else:\n        # \u5bf9\u6bcf\u4e2a\u901a\u9053\u7b97\u5747\u503c\u548c\u65b9\u5dee\uff0c\u9700\u8981\u4fdd\u63014D\u5f62\u72b6\u4f7f\u5f97\u53ef\u4ee5\u6b63\u786e\u7684\u5e7f\u64ad\n        mean = X.mean(axis=(0,2,3), keepdims=True)\n        variance = ((X - mean)**2).mean(axis=(0,2,3), keepdims=True)\n        # \u53d8\u5f62\u4f7f\u5f97\u53ef\u4ee5\u6b63\u786e\u7684\u5e7f\u64ad\n        moving_mean = moving_mean.reshape(mean.shape)\n        moving_variance = moving_variance.reshape(mean.shape)\n\n    # \u5747\u4e00\u5316\n    if is_training:\n        X_hat = (X - mean) / nd.sqrt(variance + eps)\n        #!!! \u66f4\u65b0\u5168\u5c40\u7684\u5747\u503c\u548c\u65b9\u5dee\n        moving_mean[:] = moving_momentum * moving_mean + (\n            1.0 - moving_momentum) * mean\n        moving_variance[:] = moving_momentum * moving_variance + (\n            1.0 - moving_momentum) * variance\n    else:\n        #!!! \u6d4b\u8bd5\u9636\u6bb5\u4f7f\u7528\u5168\u5c40\u7684\u5747\u503c\u548c\u65b9\u5dee\n        X_hat = (X - moving_mean) / nd.sqrt(moving_variance + eps)\n\n    # \u62c9\u5347\u548c\u504f\u79fb\n    return gamma.reshape(mean.shape) * X_hat + beta.reshape(mean.shape)"
        }, 
        {
            "source": "## \u5b9a\u4e49\u6a21\u578b\n\n\u6211\u4eec\u5c1d\u8bd5\u4f7f\u7528GPU\u8fd0\u884c\u672c\u6559\u7a0b\u4ee3\u7801\u3002", 
            "cell_type": "markdown", 
            "metadata": {}
        }, 
        {
            "execution_count": null, 
            "cell_type": "code", 
            "metadata": {
                "attributes": {
                    "classes": [], 
                    "id": "", 
                    "n": "8"
                }
            }, 
            "outputs": [], 
            "source": "import sys\nsys.path.append('..')\nimport utils\nctx = utils.try_gpu()\nctx"
        }, 
        {
            "source": "\u5148\u5b9a\u4e49\u53c2\u6570\u3002", 
            "cell_type": "markdown", 
            "metadata": {}
        }, 
        {
            "execution_count": null, 
            "cell_type": "code", 
            "metadata": {
                "attributes": {
                    "classes": [], 
                    "id": "", 
                    "n": "9"
                }
            }, 
            "outputs": [], 
            "source": "weight_scale = .01\n\n# \u8f93\u51fa\u901a\u9053 = 20, \u5377\u79ef\u6838 = (5,5)\nc1 = 20\nW1 = nd.random.normal(shape=(c1,1,5,5), scale=weight_scale, ctx=ctx)\nb1 = nd.zeros(c1, ctx=ctx)\n\n# \u7b2c1\u5c42\u6279\u91cf\u5f52\u4e00\u5316\ngamma1 = nd.random.normal(shape=c1, scale=weight_scale, ctx=ctx)\nbeta1 = nd.random.normal(shape=c1, scale=weight_scale, ctx=ctx)\nmoving_mean1 = nd.zeros(c1, ctx=ctx)\nmoving_variance1 = nd.zeros(c1, ctx=ctx)\n\n# \u8f93\u51fa\u901a\u9053 = 50, \u5377\u79ef\u6838 = (3,3)\nc2 = 50\nW2 = nd.random_normal(shape=(c2,c1,3,3), scale=weight_scale, ctx=ctx)\nb2 = nd.zeros(c2, ctx=ctx)\n\n# \u7b2c2\u5c42\u6279\u91cf\u5f52\u4e00\u5316\ngamma2 = nd.random.normal(shape=c2, scale=weight_scale, ctx=ctx)\nbeta2 = nd.random.normal(shape=c2, scale=weight_scale, ctx=ctx)\nmoving_mean2 = nd.zeros(c2, ctx=ctx)\nmoving_variance2 = nd.zeros(c2, ctx=ctx)\n\n# \u8f93\u51fa\u7ef4\u5ea6 = 128\no3 = 128\nW3 = nd.random.normal(shape=(1250, o3), scale=weight_scale, ctx=ctx)\nb3 = nd.zeros(o3, ctx=ctx)\n\n# \u8f93\u51fa\u7ef4\u5ea6 = 10\nW4 = nd.random_normal(shape=(W3.shape[1], 10), scale=weight_scale, ctx=ctx)\nb4 = nd.zeros(W4.shape[1], ctx=ctx)\n\n# \u6ce8\u610f\u8fd9\u91ccmoving_*\u662f\u4e0d\u9700\u8981\u66f4\u65b0\u7684\nparams = [W1, b1, gamma1, beta1,\n          W2, b2, gamma2, beta2,\n          W3, b3, W4, b4]\n\nfor param in params:\n    param.attach_grad()"
        }, 
        {
            "source": "\u4e0b\u9762\u5b9a\u4e49\u6a21\u578b\u3002\u6211\u4eec\u6dfb\u52a0\u4e86\u6279\u91cf\u5f52\u4e00\u5316\u5c42\u3002\u7279\u522b\u8981\u6ce8\u610f\u6211\u4eec\u6dfb\u52a0\u7684\u4f4d\u7f6e\uff1a\u5728\u5377\u79ef\u5c42\u540e\uff0c\u5728\u6fc0\u6d3b\u51fd\u6570\u524d\u3002", 
            "cell_type": "markdown", 
            "metadata": {}
        }, 
        {
            "execution_count": null, 
            "cell_type": "code", 
            "metadata": {
                "attributes": {
                    "classes": [], 
                    "id": "", 
                    "n": "10"
                }
            }, 
            "outputs": [], 
            "source": "def net(X, is_training=False, verbose=False):\n    X = X.as_in_context(W1.context)\n    # \u7b2c\u4e00\u5c42\u5377\u79ef\n    h1_conv = nd.Convolution(\n        data=X, weight=W1, bias=b1, kernel=W1.shape[2:], num_filter=c1)\n    ### \u6dfb\u52a0\u4e86\u6279\u91cf\u5f52\u4e00\u5316\u5c42\n    h1_bn = batch_norm(h1_conv, gamma1, beta1, is_training,\n                       moving_mean1, moving_variance1)\n    h1_activation = nd.relu(h1_bn)\n    h1 = nd.Pooling(\n        data=h1_activation, pool_type=\"max\", kernel=(2,2), stride=(2,2))\n    # \u7b2c\u4e8c\u5c42\u5377\u79ef\n    h2_conv = nd.Convolution(\n        data=h1, weight=W2, bias=b2, kernel=W2.shape[2:], num_filter=c2)\n    ### \u6dfb\u52a0\u4e86\u6279\u91cf\u5f52\u4e00\u5316\u5c42\n    h2_bn = batch_norm(h2_conv, gamma2, beta2, is_training,\n                       moving_mean2, moving_variance2)\n    h2_activation = nd.relu(h2_bn)\n    h2 = nd.Pooling(data=h2_activation, pool_type=\"max\", kernel=(2,2), stride=(2,2))\n    h2 = nd.flatten(h2)\n    # \u7b2c\u4e00\u5c42\u5168\u8fde\u63a5\n    h3_linear = nd.dot(h2, W3) + b3\n    h3 = nd.relu(h3_linear)\n    # \u7b2c\u4e8c\u5c42\u5168\u8fde\u63a5\n    h4_linear = nd.dot(h3, W4) + b4\n    if verbose:\n        print('1st conv block:', h1.shape)\n        print('2nd conv block:', h2.shape)\n        print('1st dense:', h3.shape)\n        print('2nd dense:', h4_linear.shape)\n        print('output:', h4_linear)\n    return h4_linear"
        }, 
        {
            "source": "\u4e0b\u9762\u6211\u4eec\u8bad\u7ec3\u5e76\u6d4b\u8bd5\u6a21\u578b\u3002", 
            "cell_type": "markdown", 
            "metadata": {}
        }, 
        {
            "execution_count": null, 
            "cell_type": "code", 
            "metadata": {
                "attributes": {
                    "classes": [], 
                    "id": "", 
                    "n": "11"
                }
            }, 
            "outputs": [], 
            "source": "from mxnet import autograd\nfrom mxnet import gluon\n\nbatch_size = 256\ntrain_data, test_data = utils.load_data_fashion_mnist(batch_size)\n\nsoftmax_cross_entropy = gluon.loss.SoftmaxCrossEntropyLoss()\n\nlearning_rate = 0.2\n\nfor epoch in range(5):\n    train_loss = 0.\n    train_acc = 0.\n    for data, label in train_data:\n        label = label.as_in_context(ctx)\n        with autograd.record():\n            output = net(data, is_training=True)\n            loss = softmax_cross_entropy(output, label)\n        loss.backward()\n        utils.SGD(params, learning_rate/batch_size)\n\n        train_loss += nd.mean(loss).asscalar()\n        train_acc += utils.accuracy(output, label)\n\n    test_acc = utils.evaluate_accuracy(test_data, net, ctx)\n    print(\"Epoch %d. Loss: %f, Train acc %f, Test acc %f\" % (\n            epoch, train_loss/len(train_data), train_acc/len(train_data), test_acc))"
        }, 
        {
            "source": "## \u603b\u7ed3\n\n\u76f8\u6bd4[\u5377\u79ef\u795e\u7ecf\u7f51\u7edc --- \u4ece0\u5f00\u59cb](cnn-scratch.md)\u6765\u8bf4\uff0c\u901a\u8fc7\u52a0\u5165\u6279\u91cf\u5f52\u4e00\u5316\u5c42\uff0c\u5373\u4f7f\u662f\u540c\u6837\u7684\u53c2\u6570\uff0c\u6d4b\u8bd5\u7cbe\u5ea6\u4e5f\u6709\u660e\u663e\u63d0\u5347\uff0c\u5c24\u5176\u662f\u6700\u5f00\u59cb\u51e0\u8f6e\u3002\n\n## \u7ec3\u4e60\n\n\u5c1d\u8bd5\u8c03\u5927\u5b66\u4e60\u7387\uff0c\u770b\u770b\u8ddf\u524d\u9762\u6bd4\uff0c\u662f\u4e0d\u662f\u53ef\u4ee5\u4f7f\u7528\u66f4\u5927\u7684\u5b66\u4e60\u7387\u3002\n\n**\u5410\u69fd\u548c\u8ba8\u8bba\u6b22\u8fce\u70b9**[\u8fd9\u91cc](https://discuss.gluon.ai/t/topic/1253)", 
            "cell_type": "markdown", 
            "metadata": {}
        }
    ], 
    "metadata": {
        "kernelspec": {
            "display_name": "Python 2 with Spark 1.6 (Unsupported)", 
            "name": "python2", 
            "language": "python"
        }, 
        "language_info": {
            "mimetype": "text/x-python", 
            "nbconvert_exporter": "python", 
            "version": "2.7.11", 
            "name": "python", 
            "file_extension": ".py", 
            "pygments_lexer": "ipython2", 
            "codemirror_mode": {
                "version": 2, 
                "name": "ipython"
            }
        }
    }, 
    "nbformat": 4
}