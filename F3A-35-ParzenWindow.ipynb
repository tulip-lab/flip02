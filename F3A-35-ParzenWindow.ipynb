{
    "nbformat_minor": 1, 
    "cells": [
        {
            "source": "# Modern Data Science \n**(Module 03: Pattern Classification)**\n\n---\n- Materials in this module include resources collected from various open-source online repositories.\n- You are free to use, change and distribute this package.\n\nPrepared by and for \n**Student Members** |\n2006-2018 [TULIP Lab](http://www.tulip.org.au), Australia\n\n---\n\n\n# Session E - Parzen Window ", 
            "cell_type": "markdown", 
            "metadata": {}
        }, 
        {
            "source": "##### Gaussian kernel smoothing\nThe kernel density model is given by $$p(x) = \\frac{1}{N} \\sum_{i=1}^N \\frac{1}{(2\\pi h^2)^{D/2}} exp\\left(\\frac{- (x-x_i)^T(x-x_i)}{2h^2}\\right) \\ $$\nwhere *D* is the dimension (which is 2 here), *h* is the standard deviation parameter we have to set, and *N* is the total number of samples.", 
            "cell_type": "markdown", 
            "metadata": {}
        }, 
        {
            "source": "##### Density estimation in 1 dimension\nLet's generate data from a mixture of two 1D gaussians as follows. Toss a fair coin, if the outcome is heads, sample a data point from the first gaussian, otherwise sample from the second gaussian. The two gaussians have a mean 2 and 4 and a standard deviation of 1.", 
            "cell_type": "markdown", 
            "metadata": {}
        }, 
        {
            "execution_count": null, 
            "cell_type": "code", 
            "metadata": {}, 
            "outputs": [], 
            "source": "import numpy as np\nimport pandas as pd\nimport matplotlib.pyplot as plt"
        }, 
        {
            "execution_count": null, 
            "cell_type": "code", 
            "metadata": {}, 
            "outputs": [], 
            "source": "# Generate 100 points\npoints = np.array([])\n\nfor i in range(100): # sample 100 points\n    if np.random.rand() > 0.5:\n        points = np.append(points, np.random.normal(2,1))\n    else:\n        points = np.append(points, np.random.normal(4,1))\n\nplt.hist(points)\nplt.show()"
        }, 
        {
            "source": "###### Parzen window estimation\nOur x ranges approximately from -2 to 10. The pdf is given by $p(x) = \\frac{1}{N} \\sum\\limits_{i=1}^N \\frac{1}{(2\\pi h^2)^{1/2}} exp\\left(\\frac{- (x-x_i)^2}{2h^2}\\right) \\ $ for every value of x. In order to plot the estimated density, we compute the above pdf for a range of x, starting from -2 till 10, incrementing x by 0.02.\nChoose different values for the smoothing parameter *h* to get the best density estimate. (Try h=0.08, 0.1, 0.15 etc.) What value of h gives the bimodal distribution?", 
            "cell_type": "markdown", 
            "metadata": {}
        }, 
        {
            "execution_count": null, 
            "cell_type": "code", 
            "metadata": {}, 
            "outputs": [], 
            "source": "#h value may be altered and tested for\nh = 0.19\nX = np.arange(-2, 10, 0.02)\n\n# for each point in x, we have compute its pdf\nY = np.array([])\nN = len(points)\n\nfor x in X:\n    t = 0\n    for xi in points:\n        t += np.exp(-(x-xi)**2/(2*h*h))\n    \n    y = (t/(2*np.pi*h*h)**0.5)/N\n    Y = np.append(Y, y)\n\nplt.plot(X, Y)\nplt.show()\n    \n#h value of 0.19 almost gives the bi-modal distribution"
        }, 
        {
            "source": "##### Density estimation in 2 Dimension\nSimilarly do density estimation for the above data set which we sampled from 3 2d gaussians. \n\n**Note:** It will be computationally expensive to calculate the density for all the points in the 2D plane. So do density estimation for points in the square [c-2, c+2]x[d-2, d+2] where (c,d) denotes the coordinates of the meeting point of the three discriminant lines in the Linear Discriminant Analysis we have done above.\n", 
            "cell_type": "markdown", 
            "metadata": {}
        }, 
        {
            "execution_count": null, 
            "cell_type": "code", 
            "metadata": {}, 
            "outputs": [], 
            "source": "cov = np.eye(2)\n\nd1 = np.random.multivariate_normal([7, 5], cov, 500)\nd2 = np.random.multivariate_normal([9, 9], cov, 500)\nd3 = np.random.multivariate_normal([11, 5], cov, 500)\n\ndata = np.vstack([d1, d2, d3])"
        }, 
        {
            "execution_count": null, 
            "cell_type": "code", 
            "metadata": {}, 
            "outputs": [], 
            "source": "m1 = np.mean(d1, axis = 0)\nm2 = np.mean(d2, axis = 0)\nm3 = np.mean(d3, axis = 0)"
        }, 
        {
            "execution_count": null, 
            "cell_type": "code", 
            "metadata": {}, 
            "outputs": [], 
            "source": "a = np.array([[m1.item(0)-m2.item(0), m1.item(1)-m2.item(1)],\n              [m1.item(0)-m3.item(0), m1.item(1)-m3.item(1)]])\nb = np.array([0.5 * ((m1.item(0) * m1.item(0)) + (m1.item(1) * m1.item(1)) - \n                     (m2.item(0) * m2.item(0)) - (m2.item(1) * m2.item(1))),\n              0.5 * ((m1.item(0) * m1.item(0)) + (m1.item(1) * m1.item(1)) - \n                     (m3.item(0) * m3.item(0)) - (m3.item(1) * m3.item(1)))])\nsol = np.linalg.solve(a, b)"
        }, 
        {
            "execution_count": null, 
            "cell_type": "code", 
            "metadata": {}, 
            "outputs": [], 
            "source": "from mpl_toolkits.mplot3d import Axes3D\nfrom itertools import islice\n\n#h value may be altered and tested for\nh = 0.3\n\n#The probability density function\ndef z(a, b): \n    x = np.array([a,b]) \n    t = 0\n    for xi in data:\n        t += np.exp(-1*np.dot(np.transpose(x-xi), x-xi)/(2*h*h))\n    \n    y = (t/(2*np.pi*h*h*N))\n    return y"
        }, 
        {
            "source": "Plot 1 - to visualize the 3 2d gaussians", 
            "cell_type": "markdown", 
            "metadata": {}
        }, 
        {
            "execution_count": null, 
            "cell_type": "code", 
            "metadata": {}, 
            "outputs": [], 
            "source": "fig = plt.figure(figsize=(12,10))\nax = fig.add_subplot(111, projection='3d')\n\nax.scatter(d1[:, 0], d1[:, 1], color='red')\nax.scatter(d2[:, 0], d2[:, 1], color='blue')\nax.scatter(d3[:, 0], d3[:, 1], color='green')\n\n# Range of values for x and y axis (helps visualize the 3 2d gaussians)\nX = np.linspace(3, 13, 100)\nY = np.linspace(2, 13, 100)\nX,Y = np.meshgrid(X,Y)\nZ = []\nfor i,j in zip(X.ravel(),Y.ravel()):\n    Z.append(z(i, j))\n    \nZ = np.asarray(Z).reshape(100,100)\nsurf = ax.plot_surface(X, Y, Z, rstride=1, cstride=1, cmap=plt.cm.RdYlBu, linewidth=0, antialiased=False)\nfig.colorbar(surf, shrink=0.5, aspect=7, cmap=plt.cm.RdYlBu)\n\nax.set_xlim([2,14])\nax.set_ylim([3,14])\nax.set_zlim([-0.2,0.8])\nplt.show()\n"
        }, 
        {
            "source": "Plot 2 - Plotting the density with x and y axiz values as mentioned in the question", 
            "cell_type": "markdown", 
            "metadata": {}
        }, 
        {
            "execution_count": null, 
            "cell_type": "code", 
            "metadata": {}, 
            "outputs": [], 
            "source": "fig = plt.figure(figsize=(12,10))\nax = fig.add_subplot(111, projection='3d')\n\nax.scatter(d1[:, 0], d1[:, 1], color='red')\nax.scatter(d2[:, 0], d2[:, 1], color='blue')\nax.scatter(d3[:, 0], d3[:, 1], color='green')\n\n\n# Range of values for x and y axis \nX = [np.random.uniform(sol.item(0)-2, sol.item(0)+2) for i in range(100)]\nY = [np.random.uniform(sol.item(1)-2, sol.item(1)+2) for i in range(100)]\nX,Y = np.meshgrid(X,Y)\nZ = []\nfor i,j in zip(X.ravel(),Y.ravel()):\n    Z.append(z(i, j))\n    \nZ = np.asarray(Z).reshape(100,100)\nsurf = ax.plot_surface(X, Y, Z, rstride=1, cstride=1, cmap=plt.cm.RdYlBu, linewidth=0, antialiased=False)\nfig.colorbar(surf, shrink=0.5, aspect=7, cmap=plt.cm.RdYlBu)\n\nax.set_xlim([2,14])\nax.set_ylim([3,14])\nax.set_zlim([-0.2,0.8])\nplt.show()"
        }
    ], 
    "metadata": {
        "kernelspec": {
            "display_name": "Python 3.5", 
            "name": "python3", 
            "language": "python"
        }, 
        "language_info": {
            "mimetype": "text/x-python", 
            "nbconvert_exporter": "python", 
            "version": "3.5.4", 
            "name": "python", 
            "file_extension": ".py", 
            "pygments_lexer": "ipython3", 
            "codemirror_mode": {
                "version": 3, 
                "name": "ipython"
            }
        }, 
        "anaconda-cloud": {}
    }, 
    "nbformat": 4
}