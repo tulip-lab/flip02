{
    "nbformat_minor": 1, 
    "cells": [
        {
            "source": "# Modern Data Science \n**(Module 05: Deep Learning)**\n\n---\n- Materials in this module include resources collected from various open-source online repositories.\n- You are free to use, change and distribute this package.\n\nPrepared by and for \n**Student Members** |\n2006-2018 [TULIP Lab](http://www.tulip.org.au), Australia\n\n---\n\n\n## Session L - RBM for RecSys\n\nWelcome to the **Recommendation System with a Restricted Boltzmann Machine** notebook. In this notebook, we study and go over the usage of a Restricted Boltzmann Machine (RBM) in a Collaborative Filtering based recommendation system. This system is an algorithm that recommends items by trying to find users that are similar to each other based on their item ratings. By the end of this notebook, you should have a deeper understanding of how Restricted Boltzmann Machines are applied, and how to build one using TensorFlow.\n\n<br>\n- <p><a href=\"#ref1\">Acquiring the Data</a></p>\n- <p><a href=\"#ref2\">Loading in the Data</a></p>\n- <p><a href=\"#ref3\">The Restricted Boltzmann Machine model</a></p>\n- <p><a href=\"#ref4\">Setting the Model's Parameters</a></p>\n- <p><a href=\"#ref1337\">Recommendation</a></p>\n\n<p></p>\n\n\n** References and additional reading and resources**\n- [Restricted Boltzmann Machines for Collaborative Filtering](http://www.cs.utoronto.ca/~hinton/absps/netflixICML.pdf)\n\n* This material is from [CognitiveClass.AI](https://cognitiveclass.ai)\n* created by: Gabriel Garcez Barros Sousa, <a href = \"https://ca.linkedin.com/in/saeedaghabozorgi\">Saeed Aghabozorgi</a>, <a href = \"https://www.linkedin.com/in/franciscomagioli\">Francisco Magioli</a>\n* This notebook and its source code are released under the terms of the [MIT License](https://bigdatauniversity.com/mit-license/).\n\n\n---\n\n\n\n\n\n\n\n", 
            "cell_type": "markdown", 
            "metadata": {}
        }, 
        {
            "source": "<a id=\"ref1\"></a>\n## 1. Acquiring the Data", 
            "cell_type": "markdown", 
            "metadata": {}
        }, 
        {
            "source": "To start, we need to download the data we are going to use for our system. The datasets we're going to use were acquired by [GroupLens](http://grouplens.org/datasets/movielens/) and contain movies, users and movie ratings by these users.\n\nAfter the download is done, we extract the datasets to a directory that's easily accessible.", 
            "cell_type": "markdown", 
            "metadata": {}
        }, 
        {
            "execution_count": null, 
            "cell_type": "code", 
            "metadata": {}, 
            "outputs": [], 
            "source": "!wget -O moviedataset.zip http://files.grouplens.org/datasets/movielens/ml-1m.zip"
        }, 
        {
            "execution_count": null, 
            "cell_type": "code", 
            "metadata": {}, 
            "outputs": [], 
            "source": "!mkdir ./recsys\n!unzip -o moviedataset.zip -d ./recsys/data"
        }, 
        {
            "source": "With the datasets in place, let's now import the necessary libraries. We will be using [Tensorflow](https://www.tensorflow.org/) and [Numpy](http://www.numpy.org/) together to model and initialize our Restricted Boltzmann Machine and [Pandas](http://pandas.pydata.org/pandas-docs/stable/) to manipulate our datasets. To import these libraries, run the code cell below.", 
            "cell_type": "markdown", 
            "metadata": {
                "collapsed": true
            }
        }, 
        {
            "execution_count": null, 
            "cell_type": "code", 
            "metadata": {}, 
            "outputs": [], 
            "source": "#Tensorflow library. Used to implement machine learning models\nimport tensorflow as tf\n#Numpy contains helpful functions for efficient mathematical calculations\nimport numpy as np\n#Dataframe manipulation library\nimport pandas as pd\n#Graph plotting library\nimport matplotlib.pyplot as plt\n%matplotlib inline"
        }, 
        {
            "source": "-------------", 
            "cell_type": "markdown", 
            "metadata": {}
        }, 
        {
            "source": "<a id=\"ref2\"></a>\n## 2. Loading in the Data\n\nLet's begin by loading in our data with Pandas. The .dat files containing our data are similar to CSV files, but instead of using the ',' (comma) character to separate entries, it uses '::' (two colons) characters instead. To let Pandas know that it should separate data points at every '::', we have to specify the `sep='::'` parameter when calling the function.\n\nAdditionally, we also pass it the `header=None` parameter due to the fact that our files don't contain any headers.\n\nLet's start with the movies.dat file and take a look at its structure:", 
            "cell_type": "markdown", 
            "metadata": {}
        }, 
        {
            "execution_count": null, 
            "cell_type": "code", 
            "metadata": {
                "scrolled": true
            }, 
            "outputs": [], 
            "source": "#Loading in the movies dataset\nmovies_df = pd.read_csv('./recsys/data/ml-1m/movies.dat', sep='::', header=None)\nmovies_df.head()"
        }, 
        {
            "source": "We can do the same for the ratings.dat file:", 
            "cell_type": "markdown", 
            "metadata": {}
        }, 
        {
            "execution_count": null, 
            "cell_type": "code", 
            "metadata": {
                "scrolled": false
            }, 
            "outputs": [], 
            "source": "#Loading in the ratings dataset\nratings_df = pd.read_csv('./recsys/data/ml-1m/ratings.dat', sep='::', header=None)\nratings_df.head()"
        }, 
        {
            "source": "So our movies_df variable contains a dataframe that stores a movie's unique ID number, title and genres, while our ratings_df variable stores a unique User ID number, a movie's ID that the user has watched, the user's rating to said movie and when the user rated that movie.\n\nLet's now rename the columns in these dataframes so we can better convey their data more intuitively:", 
            "cell_type": "markdown", 
            "metadata": {}
        }, 
        {
            "execution_count": null, 
            "cell_type": "code", 
            "metadata": {}, 
            "outputs": [], 
            "source": "movies_df.columns = ['MovieID', 'Title', 'Genres']\nratings_df.columns = ['UserID', 'MovieID', 'Rating', 'Timestamp']"
        }, 
        {
            "source": "Here's our final movies_df:", 
            "cell_type": "markdown", 
            "metadata": {}
        }, 
        {
            "execution_count": null, 
            "cell_type": "code", 
            "metadata": {
                "scrolled": true
            }, 
            "outputs": [], 
            "source": "movies_df.head()"
        }, 
        {
            "source": "And our final ratings_df:", 
            "cell_type": "markdown", 
            "metadata": {}
        }, 
        {
            "execution_count": null, 
            "cell_type": "code", 
            "metadata": {
                "scrolled": true
            }, 
            "outputs": [], 
            "source": "ratings_df.head()"
        }, 
        {
            "source": "-----------", 
            "cell_type": "markdown", 
            "metadata": {}
        }, 
        {
            "source": "<a id=\"ref3\"></a>\n## 3. The Restricted Boltzmann Machine model", 
            "cell_type": "markdown", 
            "metadata": {}
        }, 
        {
            "source": "<img src=\"https://ibm.box.com/shared/static/o049tx0dsllpbj3b546vuba25qqlzelq.png\" alt=\"RBM Model\" style=\"width: 300px;\"/>\n\nThe Restricted Boltzmann Machine model has two layers of neurons, one of which is what we call a visible input layer and the other is called a hidden layer. The hidden layer is used to learn features from the information fed through the input layer. For our model, the input is going to contain X neurons, where X is the amount of movies in our dataset. Each of these neurons will possess a normalized rating value varying from 0 to 1 -- 0 meaning that a user has not watched that movie and the closer the value is to 1, the more the user likes the movie that neuron's representing. These normalized values, of course, will be extracted and normalized from the ratings dataset.\n\nAfter passing in the input, we train the RBM on it and have the hidden layer learn its features. These features are what we use to reconstruct the input, which in our case, will predict the ratings for movies that the input hasn't watched, which is exactly what we can use to recommend movies!\n\nWe will now begin to format our dataset to follow the model's expected input.", 
            "cell_type": "markdown", 
            "metadata": {}
        }, 
        {
            "source": "## Formatting the Data", 
            "cell_type": "markdown", 
            "metadata": {}
        }, 
        {
            "source": "First let's see how many movies we have and see if the movie ID's correspond with that value:", 
            "cell_type": "markdown", 
            "metadata": {}
        }, 
        {
            "execution_count": null, 
            "cell_type": "code", 
            "metadata": {}, 
            "outputs": [], 
            "source": "len(movies_df)"
        }, 
        {
            "execution_count": null, 
            "cell_type": "code", 
            "metadata": {
                "scrolled": true
            }, 
            "outputs": [], 
            "source": "movies_df.tail()"
        }, 
        {
            "source": "As it is possible to notice, we have 3883 movies, while our ID's vary from 1 to 3952. Due to this, we won't be able to index movies through their ID since we would get memory indexing errors. To amend this, we can create a column that shows what spot in our list that particular movie is in:", 
            "cell_type": "markdown", 
            "metadata": {}
        }, 
        {
            "execution_count": null, 
            "cell_type": "code", 
            "metadata": {
                "scrolled": true
            }, 
            "outputs": [], 
            "source": "movies_df['List Index'] = movies_df.index\nmovies_df.head()"
        }, 
        {
            "source": "With that, let's merge the ratings dataframe into the movies one so we can have the List Index values in both dataframes. Additionally we're also going to drop the Timestamp, Title and Genres columns since we won't be needing it to make recommendations.", 
            "cell_type": "markdown", 
            "metadata": {}
        }, 
        {
            "execution_count": null, 
            "cell_type": "code", 
            "metadata": {
                "scrolled": false
            }, 
            "outputs": [], 
            "source": "#Merging movies_df with ratings_df by MovieID\nmerged_df = movies_df.merge(ratings_df, on='MovieID')\n#Dropping unecessary columns\nmerged_df = merged_df.drop('Timestamp', axis=1).drop('Title', axis=1).drop('Genres', axis=1)\n#Displaying the result\nmerged_df.head()"
        }, 
        {
            "source": "Let's also group up the users by their user IDs and take a look at one of them.", 
            "cell_type": "markdown", 
            "metadata": {}
        }, 
        {
            "execution_count": null, 
            "cell_type": "code", 
            "metadata": {}, 
            "outputs": [], 
            "source": "#Group up by UserID\nuserGroup = merged_df.groupby('UserID')\nuserGroup.first().head()"
        }, 
        {
            "source": "Now, we can start formatting the data into input for the RBM. We're going to store the normalized users ratings into a list of lists called trX.", 
            "cell_type": "markdown", 
            "metadata": {}
        }, 
        {
            "execution_count": null, 
            "cell_type": "code", 
            "metadata": {}, 
            "outputs": [], 
            "source": "#Amount of users used for training\namountOfUsedUsers = 1000\n#Creating the training list\ntrX = []\n#For each user in the group\nfor userID, curUser in userGroup:\n    #Create a temp that stores every movie's rating\n    temp = [0]*len(movies_df)\n    #For each movie in curUser's movie list\n    for num, movie in curUser.iterrows():\n        #Divide the rating by 5 and store it\n        temp[movie['List Index']] = movie['Rating']/5.0\n    #Now add the list of ratings into the training list\n    trX.append(temp)\n    #Check to see if we finished adding in the amount of users for training\n    if amountOfUsedUsers == 0:\n        break\n    amountOfUsedUsers -= 1"
        }, 
        {
            "source": "------------", 
            "cell_type": "markdown", 
            "metadata": {}
        }, 
        {
            "source": "<a id=\"ref4\"></a>\n## 4. Setting the Model's Parameters", 
            "cell_type": "markdown", 
            "metadata": {}
        }, 
        {
            "source": "Next, let's start building our RBM with Tensorflow. We'll begin by first determining the amount of hidden layers and then creating placeholder variables for storing our visible layer biases, hidden layer biases and weights that connect the hidden layer with the visible one. We will be arbitrarily setting the amount of hidden layers to 20. You can freely set this value to any number you want since each neuron in the hidden layer will end up learning a feature.", 
            "cell_type": "markdown", 
            "metadata": {}
        }, 
        {
            "execution_count": null, 
            "cell_type": "code", 
            "metadata": {}, 
            "outputs": [], 
            "source": "hiddenUnits = 20\nvisibleUnits = len(movies_df)\nvb = tf.placeholder(\"float\", [visibleUnits]) #Number of unique movies\nhb = tf.placeholder(\"float\", [hiddenUnits]) #Number of features we're going to learn\nW = tf.placeholder(\"float\", [visibleUnits, hiddenUnits])"
        }, 
        {
            "source": "We then move on to creating the visible and hidden layer units and setting their activation functions. In this case, we will be using the `tf.sigmoid` and `tf.relu` functions as nonlinear activations since it's what is usually used in RBM's.", 
            "cell_type": "markdown", 
            "metadata": {}
        }, 
        {
            "execution_count": null, 
            "cell_type": "code", 
            "metadata": {}, 
            "outputs": [], 
            "source": "#Phase 1: Input Processing\nv0 = tf.placeholder(\"float\", [None, visibleUnits])\n_h0= tf.nn.sigmoid(tf.matmul(v0, W) + hb)\nh0 = tf.nn.relu(tf.sign(_h0 - tf.random_uniform(tf.shape(_h0))))\n#Phase 2: Reconstruction\n_v1 = tf.nn.sigmoid(tf.matmul(h0, tf.transpose(W)) + vb) \nv1 = tf.nn.relu(tf.sign(_v1 - tf.random_uniform(tf.shape(_v1))))\nh1 = tf.nn.sigmoid(tf.matmul(v1, W) + hb)"
        }, 
        {
            "source": "Now we set the RBM training parameters and functions.", 
            "cell_type": "markdown", 
            "metadata": {
                "collapsed": true
            }
        }, 
        {
            "execution_count": null, 
            "cell_type": "code", 
            "metadata": {}, 
            "outputs": [], 
            "source": "#Learning rate\nalpha = 1.0\n#Create the gradients\nw_pos_grad = tf.matmul(tf.transpose(v0), h0)\nw_neg_grad = tf.matmul(tf.transpose(v1), h1)\n#Calculate the Contrastive Divergence to maximize\nCD = (w_pos_grad - w_neg_grad) / tf.to_float(tf.shape(v0)[0])\n#Create methods to update the weights and biases\nupdate_w = W + alpha * CD\nupdate_vb = vb + alpha * tf.reduce_mean(v0 - v1, 0)\nupdate_hb = hb + alpha * tf.reduce_mean(h0 - h1, 0)"
        }, 
        {
            "source": "And set the error function, which in this case will be the Mean Absolute Error Function.", 
            "cell_type": "markdown", 
            "metadata": {}
        }, 
        {
            "execution_count": null, 
            "cell_type": "code", 
            "metadata": {}, 
            "outputs": [], 
            "source": "err = v0 - v1\nerr_sum = tf.reduce_mean(err * err)"
        }, 
        {
            "source": "We also have to initialize our variables. Thankfully, NumPy has a handy `zeros` function for this. We use it like so:", 
            "cell_type": "markdown", 
            "metadata": {}
        }, 
        {
            "execution_count": null, 
            "cell_type": "code", 
            "metadata": {}, 
            "outputs": [], 
            "source": "#Current weight\ncur_w = np.zeros([visibleUnits, hiddenUnits], np.float32)\n#Current visible unit biases\ncur_vb = np.zeros([visibleUnits], np.float32)\n#Current hidden unit biases\ncur_hb = np.zeros([hiddenUnits], np.float32)\n#Previous weight\nprv_w = np.zeros([visibleUnits, hiddenUnits], np.float32)\n#Previous visible unit biases\nprv_vb = np.zeros([visibleUnits], np.float32)\n#Previous hidden unit biases\nprv_hb = np.zeros([hiddenUnits], np.float32)\nsess = tf.Session()\nsess.run(tf.global_variables_initializer())"
        }, 
        {
            "source": "Now we train the RBM with 15 epochs with each epoch using 10 batches with size 100. After training, we print out a graph with the error by epoch.", 
            "cell_type": "markdown", 
            "metadata": {}
        }, 
        {
            "execution_count": null, 
            "cell_type": "code", 
            "metadata": {
                "scrolled": false
            }, 
            "outputs": [], 
            "source": "epochs = 15\nbatchsize = 100\nerrors = []\nfor i in range(epochs):\n    for start, end in zip( range(0, len(trX), batchsize), range(batchsize, len(trX), batchsize)):\n        batch = trX[start:end]\n        cur_w = sess.run(update_w, feed_dict={v0: batch, W: prv_w, vb: prv_vb, hb: prv_hb})\n        cur_vb = sess.run(update_vb, feed_dict={v0: batch, W: prv_w, vb: prv_vb, hb: prv_hb})\n        cur_nb = sess.run(update_hb, feed_dict={v0: batch, W: prv_w, vb: prv_vb, hb: prv_hb})\n        prv_w = cur_w\n        prv_vb = cur_vb\n        prv_hb = cur_nb\n    errors.append(sess.run(err_sum, feed_dict={v0: trX, W: cur_w, vb: cur_vb, hb: cur_nb}))\n    print (errors[-1])\nplt.plot(errors)\nplt.ylabel('Error')\nplt.xlabel('Epoch')\nplt.show()"
        }, 
        {
            "source": "--------------", 
            "cell_type": "markdown", 
            "metadata": {}
        }, 
        {
            "source": "<a id=\"ref1337\"></a>\n## 5. Recommendation", 
            "cell_type": "markdown", 
            "metadata": {}
        }, 
        {
            "source": "We can now predict movies that an arbitrarily selected user might like. This can be accomplished by feeding in the user's watched movie preferences into the RBM and then reconstructing the input. The values that the RBM gives us will attempt to estimate the user's preferences for movies that he hasn't watched based on the preferences of the users that the RBM was trained on.", 
            "cell_type": "markdown", 
            "metadata": {}
        }, 
        {
            "execution_count": null, 
            "cell_type": "code", 
            "metadata": {}, 
            "outputs": [], 
            "source": "#Selecting the input user\ninputUser = [trX[75]]"
        }, 
        {
            "execution_count": null, 
            "cell_type": "code", 
            "metadata": {}, 
            "outputs": [], 
            "source": "#Feeding in the user and reconstructing the input\nhh0 = tf.nn.sigmoid(tf.matmul(v0, W) + hb)\nvv1 = tf.nn.sigmoid(tf.matmul(hh0, tf.transpose(W)) + vb)\nfeed = sess.run(hh0, feed_dict={ v0: inputUser, W: prv_w, hb: prv_hb})\nrec = sess.run(vv1, feed_dict={ hh0: feed, W: prv_w, vb: prv_vb})"
        }, 
        {
            "source": "We can then list the 20 most recommended movies for our mock user by sorting it by their scores given by our model.", 
            "cell_type": "markdown", 
            "metadata": {}
        }, 
        {
            "execution_count": null, 
            "cell_type": "code", 
            "metadata": {}, 
            "outputs": [], 
            "source": "scored_movies_df_75 = movies_df\nscored_movies_df_75[\"Recommendation Score\"] = rec[0]\nscored_movies_df_75.sort_values([\"Recommendation Score\"], ascending=False).head(20)"
        }, 
        {
            "source": "So, how to recommend the movies that the user has not watched yet? \n\nLets first find the __User ID__ of our mock user:", 
            "cell_type": "markdown", 
            "metadata": {}
        }, 
        {
            "execution_count": null, 
            "cell_type": "code", 
            "metadata": {}, 
            "outputs": [], 
            "source": "merged_df.iloc[75]"
        }, 
        {
            "source": "Now, we can find all the movies that our mock user has watched before:", 
            "cell_type": "markdown", 
            "metadata": {}
        }, 
        {
            "execution_count": null, 
            "cell_type": "code", 
            "metadata": {}, 
            "outputs": [], 
            "source": "movies_df_75 = merged_df[merged_df['UserID']==215]\nmovies_df_75.head()"
        }, 
        {
            "source": "In the next cell, we merge all the movies that our mock users has watched with the predicted scors based on his historical data:", 
            "cell_type": "markdown", 
            "metadata": {}
        }, 
        {
            "execution_count": null, 
            "cell_type": "code", 
            "metadata": {}, 
            "outputs": [], 
            "source": "#Merging movies_df with ratings_df by MovieID\nmerged_df_75 = scored_movies_df_75.merge(movies_df_75, on='MovieID', how='outer')\n#Dropping unecessary columns\nmerged_df_75 = merged_df_75.drop('List Index_y', axis=1).drop('UserID', axis=1)"
        }, 
        {
            "source": "lets sort it and take a look at the firt 20 rows:", 
            "cell_type": "markdown", 
            "metadata": {}
        }, 
        {
            "execution_count": null, 
            "cell_type": "code", 
            "metadata": {}, 
            "outputs": [], 
            "source": "merged_df_75.sort_values([\"Recommendation Score\"], ascending=False).head(20)\n"
        }, 
        {
            "source": "As you can see, there are some movies that user has not watched yet and has high score based on our model. So, we can recommend them to user.", 
            "cell_type": "markdown", 
            "metadata": {}
        }, 
        {
            "source": "This is the end of the module. If you want, you can try to change the parameters in the code -- adding more units to the hidden layer, changing the loss functions or maybe something else to see if it changes anything. Does the model perform better? Does it take longer to compute?\n\nThank you for reading this notebook. Hopefully, you now have a little more understanding of the RBM model, its applications and how it works with TensorFlow.", 
            "cell_type": "markdown", 
            "metadata": {}
        }
    ], 
    "metadata": {
        "kernelspec": {
            "display_name": "Python 3.5", 
            "name": "python3", 
            "language": "python"
        }, 
        "widgets": {
            "state": {}, 
            "version": "1.1.2"
        }, 
        "language_info": {
            "mimetype": "text/x-python", 
            "nbconvert_exporter": "python", 
            "version": "3.5.4", 
            "name": "python", 
            "file_extension": ".py", 
            "pygments_lexer": "ipython3", 
            "codemirror_mode": {
                "version": 3, 
                "name": "ipython"
            }
        }
    }, 
    "nbformat": 4
}