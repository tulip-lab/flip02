{
    "nbformat_minor": 2, 
    "cells": [
        {
            "source": "# \u7ebf\u6027\u56de\u5f52 --- \u4f7f\u7528Gluon\n\n[\u524d\u4e00\u7ae0](linear-regression-scratch.md)\u6211\u4eec\u4ec5\u4ec5\u4f7f\u7528\u4e86`ndarray`\u548c`autograd`\u6765\u5b9e\u73b0\u7ebf\u6027\u56de\u5f52\uff0c\u8fd9\u4e00\u7ae0\u6211\u4eec\u4ecd\u7136\u5b9e\u73b0\u540c\u6837\u7684\u6a21\u578b\uff0c\u4f46\u662f\u4f7f\u7528\u9ad8\u5c42\u62bd\u8c61\u5305`gluon`\u3002\n\n## \u521b\u5efa\u6570\u636e\u96c6\n\n\u6211\u4eec\u751f\u6210\u540c\u6837\u7684\u6570\u636e\u96c6", 
            "cell_type": "markdown", 
            "metadata": {}
        }, 
        {
            "execution_count": 1, 
            "cell_type": "code", 
            "metadata": {
                "attributes": {
                    "classes": [], 
                    "id": "", 
                    "n": "2"
                }
            }, 
            "outputs": [], 
            "source": "from mxnet import ndarray as nd\nfrom mxnet import autograd\nfrom mxnet import gluon\n\nnum_inputs = 2\nnum_examples = 1000\n\ntrue_w = [2, -3.4]\ntrue_b = 4.2\n\nX = nd.random_normal(shape=(num_examples, num_inputs))\ny = true_w[0] * X[:, 0] + true_w[1] * X[:, 1] + true_b\ny += .01 * nd.random_normal(shape=y.shape)"
        }, 
        {
            "source": "## \u6570\u636e\u8bfb\u53d6\n\n\u4f46\u8fd9\u91cc\u4f7f\u7528`data`\u6a21\u5757\u6765\u8bfb\u53d6\u6570\u636e\u3002", 
            "cell_type": "markdown", 
            "metadata": {}
        }, 
        {
            "execution_count": 2, 
            "cell_type": "code", 
            "metadata": {
                "attributes": {
                    "classes": [], 
                    "id": "", 
                    "n": "3"
                }
            }, 
            "outputs": [], 
            "source": "batch_size = 10\ndataset = gluon.data.ArrayDataset(X, y)\ndata_iter = gluon.data.DataLoader(dataset, batch_size, shuffle=True)"
        }, 
        {
            "source": "\u8bfb\u53d6\u8ddf\u524d\u9762\u4e00\u81f4\uff1a", 
            "cell_type": "markdown", 
            "metadata": {}
        }, 
        {
            "execution_count": 3, 
            "cell_type": "code", 
            "metadata": {
                "attributes": {
                    "classes": [], 
                    "id": "", 
                    "n": "5"
                }
            }, 
            "outputs": [
                {
                    "output_type": "stream", 
                    "name": "stdout", 
                    "text": "(\n[[ 1.79827154  2.49385595]\n [ 1.36842561 -0.74242383]\n [-0.58393949 -0.19038047]\n [-0.54291499  1.29740858]\n [-1.28849208 -1.60213113]\n [ 0.43465078  0.02699922]\n [-0.14619251 -0.3182019 ]\n [-1.74013257  1.03605962]\n [ 0.48961952  0.96813601]\n [-0.6302954  -2.39941931]]\n<NDArray 10x2 @cpu(0)>, \n[ -0.676413     9.45749187   3.68891907  -1.29311502   7.06428909\n   4.9661808    4.9912653   -2.81465912   1.89632845  11.1008215 ]\n<NDArray 10 @cpu(0)>)\n"
                }
            ], 
            "source": "for data, label in data_iter:\n    print(data, label)\n    break"
        }, 
        {
            "source": "## \u5b9a\u4e49\u6a21\u578b\n\n\u4e4b\u524d\u4e00\u7ae0\u4e2d\uff0c\u5f53\u6211\u4eec\u4ece0\u5f00\u59cb\u8bad\u7ec3\u6a21\u578b\u65f6\uff0c\u9700\u8981\u5148\u58f0\u660e\u6a21\u578b\u53c2\u6570\uff0c\u7136\u540e\u518d\u4f7f\u7528\u5b83\u4eec\u6765\u6784\u5efa\u6a21\u578b\u3002\u4f46`gluon`\u63d0\u4f9b\u5927\u91cf\u9884\u5b9a\u4e49\u7684\u5c42\uff0c\u6211\u4eec\u53ea\u9700\u8981\u5173\u6ce8\u4f7f\u7528\u54ea\u4e9b\u5c42\u6765\u6784\u5efa\u6a21\u578b\u3002\u4f8b\u5982\u7ebf\u6027\u6a21\u578b\u5c31\u662f\u4f7f\u7528\u5bf9\u5e94\u7684`Dense`\u5c42\uff1b\u4e4b\u6240\u4ee5\u79f0\u4e3adense\u5c42\uff0c\u662f\u56e0\u4e3a\u8f93\u5165\u7684\u6240\u6709\u8282\u70b9\u90fd\u4e0e\u540e\u7eed\u7684\u8282\u70b9\u76f8\u8fde\u3002\u5728\u8fd9\u4e2a\u4f8b\u5b50\u4e2d\u4ec5\u6709\u4e00\u4e2a\u8f93\u51fa\uff0c\u4f46\u5728\u5927\u591a\u6570\u540e\u7eed\u7ae0\u8282\u4e2d\uff0c\u6211\u4eec\u4f1a\u7528\u5230\u5177\u6709\u591a\u4e2a\u8f93\u51fa\u7684\u7f51\u7edc\u3002\n\n\u6211\u4eec\u4e4b\u540e\u8fd8\u4f1a\u4ecb\u7ecd\u5982\u4f55\u6784\u9020\u4efb\u610f\u7ed3\u6784\u7684\u795e\u7ecf\u7f51\u7edc\uff0c\u4f46\u5bf9\u4e8e\u521d\u5b66\u8005\u6765\u8bf4\uff0c\u6784\u5efa\u6a21\u578b\u6700\u7b80\u5355\u7684\u529e\u6cd5\u662f\u5229\u7528`Sequential`\u6765\u6240\u6709\u5c42\u4e32\u8d77\u6765\u3002\u8f93\u5165\u6570\u636e\u4e4b\u540e\uff0c`Sequential`\u4f1a\u4f9d\u6b21\u6267\u884c\u6bcf\u4e00\u5c42\uff0c\u5e76\u5c06\u524d\u4e00\u5c42\u7684\u8f93\u51fa\uff0c\u4f5c\u4e3a\u8f93\u5165\u63d0\u4f9b\u7ed9\u540e\u9762\u7684\u5c42\u3002\u9996\u5148\u6211\u4eec\u5b9a\u4e49\u4e00\u4e2a\u7a7a\u7684\u6a21\u578b\uff1a", 
            "cell_type": "markdown", 
            "metadata": {}
        }, 
        {
            "execution_count": 4, 
            "cell_type": "code", 
            "metadata": {
                "attributes": {
                    "classes": [], 
                    "id": "", 
                    "n": "5"
                }
            }, 
            "outputs": [], 
            "source": "net = gluon.nn.Sequential()"
        }, 
        {
            "source": "\u7136\u540e\u6211\u4eec\u52a0\u5165\u4e00\u4e2a`Dense`\u5c42\uff0c\u5b83\u552f\u4e00\u5fc5\u987b\u5b9a\u4e49\u7684\u53c2\u6570\u5c31\u662f\u8f93\u51fa\u8282\u70b9\u7684\u4e2a\u6570\uff0c\u5728\u7ebf\u6027\u6a21\u578b\u91cc\u9762\u662f1.", 
            "cell_type": "markdown", 
            "metadata": {}
        }, 
        {
            "execution_count": 5, 
            "cell_type": "code", 
            "metadata": {
                "attributes": {
                    "classes": [], 
                    "id": "", 
                    "n": "6"
                }
            }, 
            "outputs": [], 
            "source": "net.add(gluon.nn.Dense(1))"
        }, 
        {
            "source": "\uff08\u6ce8\u610f\u8fd9\u91cc\u6211\u4eec\u5e76\u6ca1\u6709\u5b9a\u4e49\u8bf4\u8fd9\u4e2a\u5c42\u7684\u8f93\u5165\u8282\u70b9\u662f\u591a\u5c11\uff0c\u8fd9\u4e2a\u5728\u4e4b\u540e\u771f\u6b63\u7ed9\u6570\u636e\u7684\u65f6\u5019\u7cfb\u7edf\u4f1a\u81ea\u52a8\u8d4b\u503c\u3002\u6211\u4eec\u4e4b\u540e\u4f1a\u8be6\u7ec6\u4ecb\u7ecd\u8fd9\u4e2a\u7279\u6027\u662f\u5982\u4f55\u5de5\u4f5c\u7684\u3002\uff09\n\n## \u521d\u59cb\u5316\u6a21\u578b\u53c2\u6570\n\n\u5728\u4f7f\u7528\u524d`net`\u6211\u4eec\u5fc5\u987b\u8981\u521d\u59cb\u5316\u6a21\u578b\u6743\u91cd\uff0c\u8fd9\u91cc\u6211\u4eec\u4f7f\u7528\u9ed8\u8ba4\u968f\u673a\u521d\u59cb\u5316\u65b9\u6cd5\uff08\u4e4b\u540e\u6211\u4eec\u4f1a\u4ecb\u7ecd\u66f4\u591a\u7684\u521d\u59cb\u5316\u65b9\u6cd5\uff09\u3002", 
            "cell_type": "markdown", 
            "metadata": {}
        }, 
        {
            "execution_count": 6, 
            "cell_type": "code", 
            "metadata": {
                "attributes": {
                    "classes": [], 
                    "id": "", 
                    "n": "7"
                }
            }, 
            "outputs": [], 
            "source": "net.initialize()"
        }, 
        {
            "source": "## \u635f\u5931\u51fd\u6570\n\n`gluon`\u63d0\u4f9b\u4e86\u5e73\u65b9\u8bef\u5dee\u51fd\u6570\uff1a", 
            "cell_type": "markdown", 
            "metadata": {}
        }, 
        {
            "execution_count": 7, 
            "cell_type": "code", 
            "metadata": {
                "attributes": {
                    "classes": [], 
                    "id": "", 
                    "n": "8"
                }
            }, 
            "outputs": [], 
            "source": "square_loss = gluon.loss.L2Loss()"
        }, 
        {
            "source": "## \u4f18\u5316\n\n\u540c\u6837\u6211\u4eec\u65e0\u9700\u624b\u52a8\u5b9e\u73b0\u968f\u673a\u68af\u5ea6\u4e0b\u964d\uff0c\u6211\u4eec\u53ef\u4ee5\u521b\u5efa\u4e00\u4e2a`Trainer`\u7684\u5b9e\u4f8b\uff0c\u5e76\u4e14\u5c06\u6a21\u578b\u53c2\u6570\u4f20\u9012\u7ed9\u5b83\u5c31\u884c\u3002", 
            "cell_type": "markdown", 
            "metadata": {}
        }, 
        {
            "execution_count": 8, 
            "cell_type": "code", 
            "metadata": {
                "attributes": {
                    "classes": [], 
                    "id": "", 
                    "n": "9"
                }
            }, 
            "outputs": [], 
            "source": "trainer = gluon.Trainer(\n    net.collect_params(), 'sgd', {'learning_rate': 0.1})"
        }, 
        {
            "source": "## \u8bad\u7ec3\n\u4f7f\u7528`gluon`\u4f7f\u6a21\u578b\u8bad\u7ec3\u8fc7\u7a0b\u66f4\u4e3a\u7b80\u6d01\u3002\u6211\u4eec\u4e0d\u9700\u8981\u6328\u4e2a\u5b9a\u4e49\u76f8\u5173\u53c2\u6570\u3001\u635f\u5931\u51fd\u6570\uff0c\u4e5f\u4e0d\u9700\u4f7f\u7528\u968f\u673a\u68af\u5ea6\u4e0b\u964d\u3002`gluon`\u7684\u62bd\u8c61\u548c\u4fbf\u5229\u7684\u4f18\u52bf\u5c06\u968f\u7740\u6211\u4eec\u7740\u624b\u5904\u7406\u66f4\u591a\u590d\u6742\u6a21\u578b\u7684\u6108\u53d1\u663e\u73b0\u3002\u4e0d\u8fc7\u5728\u5b8c\u6210\u521d\u59cb\u8bbe\u7f6e\u540e\uff0c\u8bad\u7ec3\u8fc7\u7a0b\u672c\u8eab\u548c\u524d\u9762\u6ca1\u6709\u592a\u591a\u533a\u522b\uff0c\u552f\u4e00\u7684\u4e0d\u540c\u5728\u4e8e\u6211\u4eec\u4e0d\u518d\u662f\u8c03\u7528`SGD`\uff0c\u800c\u662f`trainer.step`\u6765\u66f4\u65b0\u6a21\u578b\uff08\u6b64\u5904\u4e00\u5e76\u7701\u7565\u4e4b\u524d\u7ed8\u5236\u635f\u5931\u53d8\u5316\u7684\u6298\u7ebf\u56fe\u548c\u6563\u70b9\u56fe\u7684\u8fc7\u7a0b\uff0c\u6709\u5174\u8da3\u7684\u540c\u5b66\u53ef\u4ee5\u81ea\u884c\u5c1d\u8bd5\uff09\u3002", 
            "cell_type": "markdown", 
            "metadata": {}
        }, 
        {
            "execution_count": 9, 
            "cell_type": "code", 
            "metadata": {
                "attributes": {
                    "classes": [], 
                    "id": "", 
                    "n": "10"
                }
            }, 
            "outputs": [
                {
                    "output_type": "stream", 
                    "name": "stdout", 
                    "text": "Epoch 0, average loss: 0.908464\nEpoch 1, average loss: 0.000051\nEpoch 2, average loss: 0.000051\nEpoch 3, average loss: 0.000051\nEpoch 4, average loss: 0.000051\n"
                }
            ], 
            "source": "epochs = 5\nbatch_size = 10\nfor e in range(epochs):\n    total_loss = 0\n    for data, label in data_iter:\n        with autograd.record():\n            output = net(data)\n            loss = square_loss(output, label)\n        loss.backward()\n        trainer.step(batch_size)\n        total_loss += nd.sum(loss).asscalar()\n    print(\"Epoch %d, average loss: %f\" % (e, total_loss/num_examples))"
        }, 
        {
            "source": "\u6bd4\u8f83\u5b66\u5230\u7684\u548c\u771f\u5b9e\u6a21\u578b\u3002\u6211\u4eec\u5148\u4ece`net`\u62ff\u5230\u9700\u8981\u7684\u5c42\uff0c\u7136\u540e\u8bbf\u95ee\u5176\u6743\u91cd\u548c\u4f4d\u79fb\u3002", 
            "cell_type": "markdown", 
            "metadata": {}
        }, 
        {
            "execution_count": 10, 
            "cell_type": "code", 
            "metadata": {
                "attributes": {
                    "classes": [], 
                    "id": "", 
                    "n": "12"
                }
            }, 
            "outputs": [
                {
                    "execution_count": 10, 
                    "metadata": {}, 
                    "data": {
                        "text/plain": "([2, -3.4], \n [[ 2.00001407 -3.40010834]]\n <NDArray 1x2 @cpu(0)>)"
                    }, 
                    "output_type": "execute_result"
                }
            ], 
            "source": "dense = net[0]\ntrue_w, dense.weight.data()"
        }, 
        {
            "execution_count": 11, 
            "cell_type": "code", 
            "metadata": {
                "attributes": {
                    "classes": [], 
                    "id": "", 
                    "n": "13"
                }
            }, 
            "outputs": [
                {
                    "execution_count": 11, 
                    "metadata": {}, 
                    "data": {
                        "text/plain": "(4.2, \n [ 4.20000648]\n <NDArray 1 @cpu(0)>)"
                    }, 
                    "output_type": "execute_result"
                }
            ], 
            "source": "true_b, dense.bias.data()"
        }, 
        {
            "source": "## \u7ed3\u8bba\n\n\u53ef\u4ee5\u770b\u5230`gluon`\u53ef\u4ee5\u5e2e\u52a9\u6211\u4eec\u66f4\u5feb\u66f4\u5e72\u51c0\u5730\u5b9e\u73b0\u6a21\u578b\u3002\n\n\n## \u7ec3\u4e60\n\n- \u5728\u8bad\u7ec3\u7684\u65f6\u5019\uff0c\u4e3a\u4ec0\u4e48\u6211\u4eec\u7528\u4e86\u6bd4\u524d\u9762\u8981\u592710\u500d\u7684\u5b66\u4e60\u7387\u5462\uff1f\uff08\u63d0\u793a\uff1a\u53ef\u4ee5\u5c1d\u8bd5\u8fd0\u884c `help(trainer.step)`\u6765\u5bfb\u627e\u7b54\u6848\u3002\uff09\n- \u5982\u4f55\u62ff\u5230`weight`\u7684\u68af\u5ea6\u5462\uff1f\uff08\u63d0\u793a\uff1a\u5c1d\u8bd5 `help(dense.weight)`\uff09\n\n**\u5410\u69fd\u548c\u8ba8\u8bba\u6b22\u8fce\u70b9**[\u8fd9\u91cc](https://discuss.gluon.ai/t/topic/742)", 
            "cell_type": "markdown", 
            "metadata": {}
        }
    ], 
    "metadata": {
        "kernelspec": {
            "display_name": "Python 2 with Spark 1.6 (Unsupported)", 
            "name": "python2", 
            "language": "python"
        }, 
        "language_info": {
            "mimetype": "text/x-python", 
            "nbconvert_exporter": "python", 
            "version": "2.7.11", 
            "name": "python", 
            "file_extension": ".py", 
            "pygments_lexer": "ipython2", 
            "codemirror_mode": {
                "version": 2, 
                "name": "ipython"
            }
        }
    }, 
    "nbformat": 4
}