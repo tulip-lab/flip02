{
    "nbformat_minor": 1, 
    "cells": [
        {
            "source": "# Modern Data Science \n**(Module 03: Pattern Classification)**\n\n---\n- Materials in this module include resources collected from various open-source online repositories.\n- You are free to use, change and distribute this package.\n\nPrepared by and for \n**Student Members** |\n2006-2018 [TULIP Lab](http://www.tulip.org.au), Australia\n\n---\n\n\n# Session F - Timeseries Classification: KNN & DTW\n\n---\n\nThe Version is python 2.7 \n\n---\nMark Regan   \n\n---\nWhen it comes to building a classification algorithm, analysts have a broad range of open source options to choose from. However, for time series classification, there are less out-of-the box solutions. Many of the typical classification algorithms (Logistic Regression, Random Forests, SVM etc) are applicable to time-series data when the temporal data structure is abstracted away through feature engineering.\n\nMy experience with this approach has been poor. The full timeseries feature vector contains a large amount of valuable information that can be lost through the process of flattening the datastructure.\n\nI began researching the domain of time series classification and was intrigued by a recommended technique called K Nearest Neighbors and Dynamic Time Warping. A meta analysis completed by Mitsa (2010) suggests that when it comes to timeseries classification, 1 Nearest Neighbor (K=1) and Dynamic Timewarping is very difficult to beat [1].\n\n## K Nearest Neighbors & Dynamic Time Warping", 
            "cell_type": "markdown", 
            "metadata": {}
        }, 
        {
            "execution_count": null, 
            "cell_type": "code", 
            "metadata": {}, 
            "outputs": [], 
            "source": "!pip install wget"
        }, 
        {
            "execution_count": null, 
            "cell_type": "code", 
            "metadata": {}, 
            "outputs": [], 
            "source": "import wget\nwget.download('https://github.com/tuliplab/mds/raw/master/Jupyter/image/dtw_knn_schematic.png')"
        }, 
        {
            "execution_count": null, 
            "cell_type": "code", 
            "metadata": {}, 
            "outputs": [], 
            "source": "from IPython.display import Image\nImage('dtw_knn_schematic.png', width=780)"
        }, 
        {
            "source": "K Nearest Neighbors is a classification algorithm familiar to many. It takes a unlabled observation (the star above) and compares it to a population of labled observations (blue and orange circles). By finding the K nearest circles to the star, we can infer the class label for the star through majority voting.\n\nWe can also use KNN in the context of time series data. The question becomes, \"how do we compute the distance between two timeseries sequences\"? \"Dynamic Time Warping\" is a technique that was heavily used for speech recognition in the 80s. The DTW algorithm finds the optimum alignment between two sequences of observations by warping the time dimension with certain constraints.\n\nBecause of this temporal dimension warping, DTW is good for classifying sequences that have different frequences or that are out of phase. Later we'll see how we can use DTW to classify whether a person is walking, lying down, sitting etc.\n\nThe above right diagram shows how a DTW distance matrix representation. Each cell is computed by measuring the distance between $A_i$ and $B_j$. The red path represents the shortest path and hence optimum alignment of the two sequences. \n\n$$DTW_{AB} = SUM(shortest\\ paths_{AB})$$\n\n#### Max Warping Window Allowed\nComputing the full distance matrix between A and B scales with $O(n^2)$, where n is the number of sequences in A and B. This performance can be improved by constraining the amount of warping allowed. This limits the number of cells that need to be computed in the DTW distance matrix. Research by Keogh et al has shown that a warping window not only improves performance but also improves classification accuracy [2].", 
            "cell_type": "markdown", 
            "metadata": {}
        }, 
        {
            "execution_count": null, 
            "cell_type": "code", 
            "metadata": {}, 
            "outputs": [], 
            "source": "wget.download('https://github.com/tuliplab/mds/raw/master/Jupyter/image/max_window_warping.png')\n\nImage('max_window_warping.png')"
        }, 
        {
            "source": "#### Coded in Python\nThe below python code represents the KNN & DTW classification algorithm. The following key methods are described:\n\n| Method        | Description                                                                                                           |\n|---------------|-----------------------------------------------------------------------------------------------------------------------|\n| `_dtw_distance` | computes the Dynamic Time Warping distance between two sequences                                                      |\n| `_dist_matrix`  | computes the distance matrix between $A$ and $B$                  |\n| `predict`       | uses both of the above methods to compute the class labels and probability of dataset $B$ through K Nearest Neighbors |", 
            "cell_type": "markdown", 
            "metadata": {}
        }, 
        {
            "execution_count": null, 
            "cell_type": "code", 
            "metadata": {}, 
            "outputs": [], 
            "source": "import sys\nimport collections\nimport itertools\nimport numpy as np\nimport matplotlib.pyplot as plt\nfrom scipy.stats import mode\n\nplt.style.use('bmh')\n%matplotlib inline\n\ntry:\n    from IPython.display import clear_output\n    have_ipython = True\nexcept ImportError:\n    have_ipython = False\n\nclass KnnDtw(object):\n    \"\"\"K-nearest neighbor classifier using dynamic time warping\n    as the distance measure between pairs of time series arrays\n    \n    Arguments\n    ---------\n    n_neighbors : int, optional (default = 5)\n        Number of neighbors to use by default for KNN\n        \n    max_warping_window : int, optional (default = infinity)\n        Maximum warping window allowed by the DTW dynamic\n        programming function\n            \n    subsample_step : int, optional (default = 1)\n        Step size for the timeseries array. By setting subsample_step = 2,\n        the timeseries length will be reduced by 50% because every second\n        item is skipped. Implemented by x[:, ::subsample_step]\n    \"\"\"\n    \n    def __init__(self, n_neighbors=5, max_warping_window=10000, subsample_step=1):\n        self.n_neighbors = n_neighbors\n        self.max_warping_window = max_warping_window\n        self.subsample_step = subsample_step\n    \n    def fit(self, x, l):\n        \"\"\"Fit the model using x as training data and l as class labels\n        \n        Arguments\n        ---------\n        x : array of shape [n_samples, n_timepoints]\n            Training data set for input into KNN classifer\n            \n        l : array of shape [n_samples]\n            Training labels for input into KNN classifier\n        \"\"\"\n        \n        self.x = x\n        self.l = l\n        \n    def _dtw_distance(self, ts_a, ts_b, d = lambda x,y: abs(x-y)):\n        \"\"\"Returns the DTW similarity distance between two 2-D\n        timeseries numpy arrays.\n\n        Arguments\n        ---------\n        ts_a, ts_b : array of shape [n_samples, n_timepoints]\n            Two arrays containing n_samples of timeseries data\n            whose DTW distance between each sample of A and B\n            will be compared\n        \n        d : DistanceMetric object (default = abs(x-y))\n            the distance measure used for A_i - B_j in the\n            DTW dynamic programming function\n        \n        Returns\n        -------\n        DTW distance between A and B\n        \"\"\"\n\n        # Create cost matrix via broadcasting with large int\n        ts_a, ts_b = np.array(ts_a), np.array(ts_b)\n        M, N = len(ts_a), len(ts_b)\n        cost = sys.maxint * np.ones((M, N))\n\n        # Initialize the first row and column\n        cost[0, 0] = d(ts_a[0], ts_b[0])\n        for i in xrange(1, M):\n            cost[i, 0] = cost[i-1, 0] + d(ts_a[i], ts_b[0])\n\n        for j in xrange(1, N):\n            cost[0, j] = cost[0, j-1] + d(ts_a[0], ts_b[j])\n\n        # Populate rest of cost matrix within window\n        for i in xrange(1, M):\n            for j in xrange(max(1, i - self.max_warping_window),\n                            min(N, i + self.max_warping_window)):\n                choices = cost[i - 1, j - 1], cost[i, j-1], cost[i-1, j]\n                cost[i, j] = min(choices) + d(ts_a[i], ts_b[j])\n\n        # Return DTW distance given window \n        return cost[-1, -1]\n    \n    def _dist_matrix(self, x, y):\n        \"\"\"Computes the M x N distance matrix between the training\n        dataset and testing dataset (y) using the DTW distance measure\n        \n        Arguments\n        ---------\n        x : array of shape [n_samples, n_timepoints]\n        \n        y : array of shape [n_samples, n_timepoints]\n        \n        Returns\n        -------\n        Distance matrix between each item of x and y with\n            shape [training_n_samples, testing_n_samples]\n        \"\"\"\n        \n        # Compute the distance matrix        \n        dm_count = 0\n        \n        # Compute condensed distance matrix (upper triangle) of pairwise dtw distances\n        # when x and y are the same array\n        if(np.array_equal(x, y)):\n            x_s = shape(x)\n            dm = np.zeros((x_s[0] * (x_s[0] - 1)) // 2, dtype=np.double)\n            \n            p = ProgressBar(shape(dm)[0])\n            \n            for i in xrange(0, x_s[0] - 1):\n                for j in xrange(i + 1, x_s[0]):\n                    dm[dm_count] = self._dtw_distance(x[i, ::self.subsample_step],\n                                                      y[j, ::self.subsample_step])\n                    \n                    dm_count += 1\n                    p.animate(dm_count)\n            \n            # Convert to squareform\n            dm = squareform(dm)\n            return dm\n        \n        # Compute full distance matrix of dtw distnces between x and y\n        else:\n            x_s = np.shape(x)\n            y_s = np.shape(y)\n            dm = np.zeros((x_s[0], y_s[0])) \n            dm_size = x_s[0]*y_s[0]\n            \n            p = ProgressBar(dm_size)\n        \n            for i in xrange(0, x_s[0]):\n                for j in xrange(0, y_s[0]):\n                    dm[i, j] = self._dtw_distance(x[i, ::self.subsample_step],\n                                                  y[j, ::self.subsample_step])\n                    # Update progress bar\n                    dm_count += 1\n                    p.animate(dm_count)\n        \n            return dm\n        \n    def predict(self, x):\n        \"\"\"Predict the class labels or probability estimates for \n        the provided data\n\n        Arguments\n        ---------\n          x : array of shape [n_samples, n_timepoints]\n              Array containing the testing data set to be classified\n          \n        Returns\n        -------\n          2 arrays representing:\n              (1) the predicted class labels \n              (2) the knn label count probability\n        \"\"\"\n        \n        dm = self._dist_matrix(x, self.x)\n\n        # Identify the k nearest neighbors\n        knn_idx = dm.argsort()[:, :self.n_neighbors]\n\n        # Identify k nearest labels\n        knn_labels = self.l[knn_idx]\n        \n        # Model Label\n        mode_data = mode(knn_labels, axis=1)\n        mode_label = mode_data[0]\n        mode_proba = mode_data[1]/self.n_neighbors\n\n        return mode_label.ravel(), mode_proba.ravel()\n\nclass ProgressBar:\n    \"\"\"This progress bar was taken from PYMC\n    \"\"\"\n    def __init__(self, iterations):\n        self.iterations = iterations\n        self.prog_bar = '[]'\n        self.fill_char = '*'\n        self.width = 40\n        self.__update_amount(0)\n        if have_ipython:\n            self.animate = self.animate_ipython\n        else:\n            self.animate = self.animate_noipython\n\n    def animate_ipython(self, iter):\n        print '\\r', self,\n        sys.stdout.flush()\n        self.update_iteration(iter + 1)\n\n    def update_iteration(self, elapsed_iter):\n        self.__update_amount((elapsed_iter / float(self.iterations)) * 100.0)\n        self.prog_bar += '  %d of %s complete' % (elapsed_iter, self.iterations)\n\n    def __update_amount(self, new_amount):\n        percent_done = int(round((new_amount / 100.0) * 100.0))\n        all_full = self.width - 2\n        num_hashes = int(round((percent_done / 100.0) * all_full))\n        self.prog_bar = '[' + self.fill_char * num_hashes + ' ' * (all_full - num_hashes) + ']'\n        pct_place = (len(self.prog_bar) // 2) - len(str(percent_done))\n        pct_string = '%d%%' % percent_done\n        self.prog_bar = self.prog_bar[0:pct_place] + \\\n            (pct_string + self.prog_bar[pct_place + len(pct_string):])\n\n    def __str__(self):\n        return str(self.prog_bar)"
        }, 
        {
            "source": "#### Measuring the DTW distance\nThe DTW distance between two sequences can be calculated using the `_dtw_distance()` method", 
            "cell_type": "markdown", 
            "metadata": {}
        }, 
        {
            "execution_count": null, 
            "cell_type": "code", 
            "metadata": {}, 
            "outputs": [], 
            "source": "time = np.linspace(0,20,1000)\namplitude_a = 5*np.sin(time)\namplitude_b = 3*np.sin(time + 1)\n\nm = KnnDtw()\ndistance = m._dtw_distance(amplitude_a, amplitude_b)\n\nfig = plt.figure(figsize=(12,4))\n_ = plt.plot(time, amplitude_a, label='A')\n_ = plt.plot(time, amplitude_b, label='B')\n_ = plt.title('DTW distance between A and B is %.2f' % distance)\n_ = plt.ylabel('Amplitude')\n_ = plt.xlabel('Time')\n_ = plt.legend()"
        }, 
        {
            "source": "It is also possible to compute the distance between each pair of two collections of inputs by using the `_dist_matrix()` method. These are the two methods which underpin the KnnDtw() classification algorithm. In the next section we will use the `fit()` and `predict()` method to train our classifier and predict class labels forunseen data.", 
            "cell_type": "markdown", 
            "metadata": {}
        }, 
        {
            "execution_count": null, 
            "cell_type": "code", 
            "metadata": {}, 
            "outputs": [], 
            "source": "m._dist_matrix(np.random.random((4,50)), np.random.random((4,50)))"
        }, 
        {
            "source": "## Human Activity Recognition Dataset\nThe Human Activity Recognition Dataset (HAR) dataset is chosen to test the classification performance of DTW & KNN [3].", 
            "cell_type": "markdown", 
            "metadata": {}
        }, 
        {
            "execution_count": null, 
            "cell_type": "code", 
            "metadata": {}, 
            "outputs": [], 
            "source": "wget.download('https://github.com/tuliplab/mds/raw/master/Jupyter/image/stand-sit-run.jpg')\n\nImage('stand-sit-run.jpg')"
        }, 
        {
            "source": "> The experiments were carried out with a group of 30 volunteers within an age bracket of 19-48 years. Each person performed six activities (walking, walking upstairs, walking downstairs, sitting, standing and laying) wearing a smartphone (Samsung Galaxy S II) on the waist. Using its embedded accelerometer and gyroscope, we captured 3-axial linear acceleration and 3-axial angular velocity at a constant rate of 50Hz. The experiments have been video-recorded to label the data manually.\n\nThe remainder of this analysis uses a training and test dataset provided by the authors. They have combined the above timeseries signals and created a single timeseries feature vector. Unfortunately, their methodology is not described.\n\n#### Import the HAR dataset", 
            "cell_type": "markdown", 
            "metadata": {}
        }, 
        {
            "execution_count": null, 
            "cell_type": "code", 
            "metadata": {}, 
            "outputs": [], 
            "source": "# Import the HAR dataset\nwget.download('https://github.com/tuliplab/mds/raw/master/Jupyter/data/train/X_train.txt')\nwget.download('https://github.com/tuliplab/mds/raw/master/Jupyter/data/train/y_train.txt')\n\nwget.download('https://github.com/tuliplab/mds/raw/master/Jupyter/data/test/X_test.txt')\nwget.download('https://github.com/tuliplab/mds/raw/master/Jupyter/data/test/y_test.txt')\n\nx_train_file = open('X_train.txt', 'r')\ny_train_file = open('y_train.txt', 'r')\n\nx_test_file = open('X_test.txt', 'r')\ny_test_file = open('y_test.txt', 'r')\n\n# Create empty lists\nx_train = []\ny_train = []\nx_test = []\ny_test = []\n\n# Mapping table for classes\nlabels = {1:'WALKING', 2:'WALKING UPSTAIRS', 3:'WALKING DOWNSTAIRS',\n          4:'SITTING', 5:'STANDING', 6:'LAYING'}\n\n# Loop through datasets\nfor x in x_train_file:\n    x_train.append([float(ts) for ts in x.split()])\n    \nfor y in y_train_file:\n    y_train.append(int(y.rstrip('\\n')))\n    \nfor x in x_test_file:\n    x_test.append([float(ts) for ts in x.split()])\n    \nfor y in y_test_file:\n    y_test.append(int(y.rstrip('\\n')))\n    \n# Convert to numpy for efficiency\nx_train = np.array(x_train)\ny_train = np.array(y_train)\nx_test = np.array(x_test)\ny_test = np.array(y_test)"
        }, 
        {
            "source": "#### Visualizing sample observations from the HAR dataset", 
            "cell_type": "markdown", 
            "metadata": {}
        }, 
        {
            "execution_count": null, 
            "cell_type": "code", 
            "metadata": {}, 
            "outputs": [], 
            "source": "plt.figure(figsize=(11,7))\ncolors = ['#D62728','#2C9F2C','#FD7F23','#1F77B4','#9467BD',\n          '#8C564A','#7F7F7F','#1FBECF','#E377C2','#BCBD27']\n\nfor i, r in enumerate([0,27,65,100,145,172]):\n    plt.subplot(3,2,i+1)\n    plt.plot(x_train[r][:100], label=labels[y_train[r]], color=colors[i], linewidth=2)\n    plt.xlabel('Samples @50Hz')\n    plt.legend(loc='upper left')\n    plt.tight_layout()"
        }, 
        {
            "source": "#### Model Performance\nThe performance of the KNN & DTW classifier is measured by comparing the class labels from the holdout dataset against predictions made by the classifier. The HAR dataset was pre-split into 70% training and 30% test. Cross validation was not performed.", 
            "cell_type": "markdown", 
            "metadata": {}
        }, 
        {
            "execution_count": null, 
            "cell_type": "code", 
            "metadata": {}, 
            "outputs": [], 
            "source": "m = KnnDtw(n_neighbors=1, max_warping_window=10)\nm.fit(x_train[::10], y_train[::10])\nlabel, proba = m.predict(x_test[::10])"
        }, 
        {
            "execution_count": null, 
            "cell_type": "code", 
            "metadata": {}, 
            "outputs": [], 
            "source": "!pip install --upgrade scikit-learn"
        }, 
        {
            "execution_count": null, 
            "cell_type": "code", 
            "metadata": {}, 
            "outputs": [], 
            "source": "from sklearn.metrics import classification_report\nfrom sklearn.metrics import  confusion_matrix\nprint classification_report(label, y_test[::10],\n                            target_names=[l for l in labels.values()])\n\nconf_mat = confusion_matrix(label, y_test[::10])\n\nfig = plt.figure(figsize=(6,6))\nwidth = np.shape(conf_mat)[1]\nheight = np.shape(conf_mat)[0]\n\nres = plt.imshow(np.array(conf_mat), cmap=plt.cm.summer, interpolation='nearest')\nfor i, row in enumerate(conf_mat):\n    for j, c in enumerate(row):\n        if c>0:\n            plt.text(j-.2, i+.1, c, fontsize=16)\n            \ncb = fig.colorbar(res)\nplt.title('Confusion Matrix')\n_ = plt.xticks(range(6), [l for l in labels.values()], rotation=90)\n_ = plt.yticks(range(6), [l for l in labels.values()])"
        }, 
        {
            "source": "The KNN & DTW classifier performed very well across each of the 6 classes. It even beats the best classification rate published by the authors of the HAR paper.\n\nHowever, this performance comes at a cost. The KNN algorithm is implemented using brute force. So, comparing 500 training observations to 500 test observations results in 250,000 DTW distances to be computed. And each (unconstrained) DTW distance calculation takes over 65K calculations each (256 x 256). This results in 16.3 billion calculations for just 500 x 500 observations.. Clearly not a scalable classification technique!\n\nPerformance improvements can be achieved by reducing the `max_warping_window` parameter. However, these gains will not be sufficient to make KNN & DTW a viable classification technique for large or medium sized datasets.", 
            "cell_type": "markdown", 
            "metadata": {}
        }, 
        {
            "execution_count": null, 
            "cell_type": "code", 
            "metadata": {}, 
            "outputs": [], 
            "source": "import time\n\ntime_taken = []\nwindows = [1,2,5,10,50,100,500,1000,5000]\n\nfor w in windows:\n    begin = time.time()\n    \n    t = KnnDtw(n_neighbors=1, max_warping_window=w)\n    t.fit(x_train[:20], y_train[:20])\n    label, proba = t.predict(x_test[:20])\n    \n    end = time.time()\n    time_taken.append(end - begin)\n\nfig = plt.figure(figsize=(12,5))\n_ = plt.plot(windows, [t/400. for t in time_taken], lw=4)\nplt.title('DTW Execution Time with \\nvarying Max Warping Window')\nplt.ylabel('Execution Time (seconds)')\nplt.xlabel('Max Warping Window')\nplt.xscale('log')"
        }, 
        {
            "source": "---\n\n#### Final thoughts\nThere are many improvements that could be made to this python implementation of KNN & DTW (eg. rewrite in C++ or explore parallel processing). However, the objective of this project was learning related. I've gained a deeper insight into the underlying mechanics of DTW by implementing it in python using dynamic programming techniques.\n", 
            "cell_type": "markdown", 
            "metadata": {}
        }
    ], 
    "metadata": {
        "kernelspec": {
            "display_name": "Python 2.7", 
            "name": "python2", 
            "language": "python"
        }, 
        "anaconda-cloud": {}
    }, 
    "nbformat": 4
}