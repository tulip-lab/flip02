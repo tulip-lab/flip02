{
    "metadata": {
        "language_info": {
            "name": "python", 
            "mimetype": "text/x-python", 
            "nbconvert_exporter": "python", 
            "pygments_lexer": "ipython3", 
            "codemirror_mode": {
                "name": "ipython", 
                "version": 3
            }, 
            "file_extension": ".py", 
            "version": "3.5.2"
        }, 
        "anaconda-cloud": {}, 
        "kernelspec": {
            "display_name": "Python 3.5 (Experimental) with Spark 2.1", 
            "name": "python3-spark21", 
            "language": "python"
        }
    }, 
    "nbformat": 4, 
    "cells": [
        {
            "metadata": {}, 
            "source": "# Modern Data Science \n**(Module 02: Data Visualization)**\n\n---\n- Materials in this module include resources collected from various open-source online repositories.\n- You are free to use, change and distribute this package.\n\nPrepared by and for \n**Student Members** |\n2006-2018 [TULIP Lab](http://www.tulip.org.au), Australia\n\n---\n\n", 
            "cell_type": "markdown"
        }, 
        {
            "metadata": {}, 
            "source": "# Session G - Basic Plots \n\nMaking basic plots - Lines, bars, pies, and scatterplots in this lesson.\n\n* Notebook by [Randal S. Olson](http://www.randalolson.com/)\n\n* Please see the [repository README file](https://github.com/rhiever/python-data-visualization-course#license-and-usage-terms) for the licenses and usage terms for the instructional material and code in this notebook. In general, I have licensed this material so that it is as widely usable and shareable as possible.", 
            "cell_type": "markdown"
        }, 
        {
            "source": "%matplotlib inline\nimport matplotlib.pyplot as plt\nimport numpy as np", 
            "metadata": {}, 
            "execution_count": null, 
            "cell_type": "code", 
            "outputs": []
        }, 
        {
            "metadata": {}, 
            "source": "# Line plots\n\n**Purpose**: Showing trends in data -- usually time series data with many time points.\n\n**matplotlib function**: [`plot(x, y)`](http://matplotlib.org/api/pyplot_api.html#matplotlib.pyplot.plot)\n\n* `x`: The x-coordinates of the lines or markers.\n\n* `y`: The y-coordinates of the lines or markers.", 
            "cell_type": "markdown"
        }, 
        {
            "source": "x = np.linspace(0, 20)\ny1 = np.sin(x)\ny2 = np.sin(x - np.pi)\n\nplt.figure()\n\nplt.plot(x, y1)\nplt.plot(x, y2)\n;", 
            "metadata": {}, 
            "execution_count": null, 
            "cell_type": "code", 
            "outputs": []
        }, 
        {
            "metadata": {
                "collapsed": true
            }, 
            "source": "**Commonly used parameters**:\n\n* `color`: Set the color of the line.\n\n* `linestyle`: Set the line style, e.g., solid, dashed, or none.\n\n* `linewidth`: Set the line thickness.\n\n* `marker`: Set the marker style, e.g., circles, triangles, or none.\n\n* `markersize`: Set the marker size.\n\n* `label`: Set the label for the line that will show up in the legend.", 
            "cell_type": "markdown"
        }, 
        {
            "source": "x = np.linspace(0, 20)\ny1 = np.sin(x)\ny2 = np.sin(x - np.pi)\n\nplt.figure()\n\nplt.plot(x,\n         y1,\n         color='black',\n         linestyle='-',\n         linewidth=2,\n         marker='s',\n         markersize=6,\n         label='y1')\n\nplt.plot(x,\n         y2,\n         color='gray',\n         linestyle='--',\n         linewidth=2,\n         marker='^',\n         markersize=6,\n         label='y2')\n\nplt.legend()\n;", 
            "metadata": {
                "scrolled": true
            }, 
            "execution_count": null, 
            "cell_type": "code", 
            "outputs": []
        }, 
        {
            "metadata": {}, 
            "source": "# Vertical bar charts\n\n**Purpose**: Comparing categories **OR** showing temporal trends in data with few (< 4) time points.\n\n**matplotlib function**: [`bar(left, height)`](http://matplotlib.org/api/pyplot_api.html#matplotlib.pyplot.bar)\n\n* `left`: The x coordinate(s) of the left sides of the bars.\n\n* `height`: The height(s) of the bars.", 
            "cell_type": "markdown"
        }, 
        {
            "source": "years = np.arange(2012, 2015)\nvalues = [2, 5, 9]\n\nplt.figure()\n\nplt.bar(years, values)\n;", 
            "metadata": {}, 
            "execution_count": null, 
            "cell_type": "code", 
            "outputs": []
        }, 
        {
            "metadata": {}, 
            "source": "**Commonly used parameters**:\n\n* `color`: Set the color of the bars.\n\n* `edgecolor`: Set the color of the lines on the edges of the bars.\n\n* `width`: Set the width of the bars.\n\n* `align`: Set the alignment of the bars, e.g., center them on the x coordinate(s).\n\n* `label`: Set the label for the bar that will show up in the legend.", 
            "cell_type": "markdown"
        }, 
        {
            "source": "years = np.arange(2012, 2015)\ncategory1_values = [2, 5, 9]\ncategory2_values = [7, 6, 3]\n\nplt.figure()\n\nplt.bar(years - 0.2,\n        category1_values,\n        color='blue',\n        edgecolor='none',\n        width=0.4,\n        align='center',\n        label='y1')\n\nplt.bar(years + 0.2,\n        category2_values,\n        color='orange',\n        edgecolor='none',\n        width=0.4,\n        align='center',\n        label='y2')\n\nplt.xticks(years, [str(year) for year in years])\n\nplt.legend()\n;", 
            "metadata": {}, 
            "execution_count": null, 
            "cell_type": "code", 
            "outputs": []
        }, 
        {
            "metadata": {}, 
            "source": "# Horizontal bar charts\n\n**Purpose**: Comparing categories.\n\n**matplotlib function**: [`barh(bottom, width)`](http://matplotlib.org/api/pyplot_api.html#matplotlib.pyplot.barh)\n\n* `bottom`: The y coordinate(s) of the bars.\n\n* `width`: The width(s) of the bars.", 
            "cell_type": "markdown"
        }, 
        {
            "source": "categories = ['A', 'B', 'C', 'D', 'E']\nvalues = [7, 12, 4, 2, 9]\n\nplt.figure()\n\nplt.barh(np.arange(len(categories)), values)\n\nplt.yticks(np.arange(len(categories)),\n           ['Category {}'.format(x) for x in categories])\n;", 
            "metadata": {}, 
            "execution_count": null, 
            "cell_type": "code", 
            "outputs": []
        }, 
        {
            "source": "categories = ['A', 'B', 'C', 'D', 'E']\nvalues = [7, 12, 4, 2, 9]\n\nplt.figure()\n\nplt.barh(-np.arange(len(categories)), values)\n\nplt.yticks(-np.arange(len(categories)),\n           ['Category {}'.format(x) for x in categories])\n;", 
            "metadata": {}, 
            "execution_count": null, 
            "cell_type": "code", 
            "outputs": []
        }, 
        {
            "metadata": {}, 
            "source": "**Commonly used parameters**:\n\n* `color`: Set the color of the bars.\n\n* `edgecolor`: Set the color of the lines on the edges of the bars.\n\n* `height`: Set the height of the bars.\n\n* `align`: Set the alignment of the bars, e.g., center them on the y coordinate(s).", 
            "cell_type": "markdown"
        }, 
        {
            "source": "categories = ['A', 'B', 'C', 'D', 'E']\nvalues = [7, 12, 4, 2, 9]\n\nplt.figure()\n\nplt.barh(-np.arange(len(categories)),\n         values,\n         color='blue',\n         edgecolor='none',\n         height=0.6,\n         align='center')\n\nplt.yticks(-np.arange(len(categories)),\n           ['Category {}'.format(x) for x in categories])\n;", 
            "metadata": {}, 
            "execution_count": null, 
            "cell_type": "code", 
            "outputs": []
        }, 
        {
            "source": "import pandas as pd\n\ncategories = ['A', 'B', 'C', 'D', 'E']\nvalues = [7, 12, 4, 2, 9]\n\ncategory_values = pd.DataFrame({'categories': categories,\n                                'values': values})\n\n# Note that pandas' sort function has been deprecated in version \n# 0.17 and will be removed in a future version.\n\n# category_values.sort('values', ascending=False, inplace=True)\ncategory_values.sort_values(by='values', ascending=False, inplace=True)\n\ncategories = category_values['categories'].values\nvalues = category_values['values'].values\n\nplt.figure()\n\nplt.barh(-np.arange(len(categories)),\n         values,\n         color='blue',\n         edgecolor='none',\n         height=0.6,\n         align='center')\n\nplt.yticks(-np.arange(len(categories)),\n           ['Category {}'.format(x) for x in categories])\n;", 
            "metadata": {}, 
            "execution_count": null, 
            "cell_type": "code", 
            "outputs": []
        }, 
        {
            "metadata": {}, 
            "source": "# Pie charts\n\n**Purpose**: Displaying a simple proportion.\n\n**matplotlib function**: [`pie(sizes)`](http://matplotlib.org/api/pyplot_api.html#matplotlib.pyplot.pie)\n\n* `sizes`: The size of the wedges as either a fraction or number.", 
            "cell_type": "markdown"
        }, 
        {
            "source": "counts = [17, 14]\n\nplt.figure()\n\nplt.pie(counts)\n;", 
            "metadata": {}, 
            "execution_count": null, 
            "cell_type": "code", 
            "outputs": []
        }, 
        {
            "source": "counts = [17, 14]\n\nplt.figure(figsize=(4, 4))\n\nplt.pie(counts)\n;", 
            "metadata": {}, 
            "execution_count": null, 
            "cell_type": "code", 
            "outputs": []
        }, 
        {
            "metadata": {}, 
            "source": "**Commonly used parameters**:\n\n* `colors`: Set the colors of the wedges.\n\n* `labels`: Set the labels of the wedges.\n\n* `startangle`: Set the angle that the wedges start at.\n\n* `autopct`: Set the percentage display format of the wedges.", 
            "cell_type": "markdown"
        }, 
        {
            "source": "counts = [17, 14]\n\nplt.figure(figsize=(4, 4))\n\nplt.pie(counts,\n        colors=['blue', 'orange'],\n        labels=['Category A', 'Other categories'],\n        startangle=90,\n        autopct='%1.1f%%')\n;", 
            "metadata": {}, 
            "execution_count": null, 
            "cell_type": "code", 
            "outputs": []
        }, 
        {
            "metadata": {}, 
            "source": "# Scatter plots\n\n**Purpose**: Displaying relationships between variables.\n\n**matplotlib function**: [`scatter(x, y)`](http://matplotlib.org/api/pyplot_api.html#matplotlib.pyplot.scatter)\n\n* `x`, `y`: The values for the two variables.", 
            "cell_type": "markdown"
        }, 
        {
            "source": "x = range(20)\ny = np.arange(50, 70) + (np.random.random(20) * 10.)\n\nplt.figure()\n\nplt.scatter(x, y)\n;", 
            "metadata": {}, 
            "execution_count": null, 
            "cell_type": "code", 
            "outputs": []
        }, 
        {
            "metadata": {}, 
            "source": "**Commonly used parameters**:\n\n* `c`: Set the color of the markers.\n\n* `s`: Set the size of the markers.\n\n* `marker`: Set the marker style, e.g., circles, triangles, or squares.\n\n* `edgecolor`: Set the color of the lines on the edges of the markers.", 
            "cell_type": "markdown"
        }, 
        {
            "source": "x = np.arange(20)\ny = np.arange(50, 70) + (np.random.random(20) * 10.)\n\nplt.figure()\n\nplt.scatter(x,\n            y,\n            c='red',\n            s=40,\n            marker='s',\n            edgecolor='none')\n;", 
            "metadata": {}, 
            "execution_count": null, 
            "cell_type": "code", 
            "outputs": []
        }, 
        {
            "source": "", 
            "metadata": {}, 
            "execution_count": null, 
            "cell_type": "code", 
            "outputs": []
        }
    ], 
    "nbformat_minor": 1
}