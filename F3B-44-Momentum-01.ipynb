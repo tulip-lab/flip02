{
    "nbformat_minor": 2, 
    "cells": [
        {
            "source": "# \u52a8\u91cf\u6cd5 --- \u4ece0\u5f00\u59cb\n\n\n\n\u5728[\u68af\u5ea6\u4e0b\u964d\u548c\u968f\u673a\u68af\u5ea6\u4e0b\u964d](./gd-sgd-scratch.md)\u7684\u7ae0\u8282\u4e2d\uff0c\u6211\u4eec\u4ecb\u7ecd\u4e86\u68af\u5ea6\u4e0b\u964d\u7b97\u6cd5\uff1a\u6bcf\u6b21\u8fed\u4ee3\u65f6\uff0c\u8be5\u7b97\u6cd5\u6cbf\u7740\u76ee\u6807\u51fd\u6570\u4e0b\u964d\u6700**\u5feb**\u7684\u65b9\u5411\u66f4\u65b0\u53c2\u6570\u3002\u56e0\u6b64\uff0c\u68af\u5ea6\u4e0b\u964d\u6709\u65f6\u4e5f\u53eb\u505a\u6700\u9661\u4e0b\u964d\uff08steepest descent\uff09\u3002\u5728\u68af\u5ea6\u4e0b\u964d\u4e2d\uff0c\u6bcf\u6b21\u66f4\u65b0\u53c2\u6570\u7684\u65b9\u5411\u4ec5\u4ec5\u53d6\u51b3\u5f53\u524d\u4f4d\u7f6e\uff0c\u8fd9\u53ef\u80fd\u4f1a\u5e26\u6765\u4e00\u4e9b\u95ee\u9898\u3002\n\n\n## \u68af\u5ea6\u4e0b\u964d\u7684\u95ee\u9898\n\n\u8003\u8651\u4e00\u4e2a\u8f93\u5165\u4e3a\u4e8c\u7ef4\u5411\u91cf$\\mathbf{x} = [x_1, x_2]^\\top$\uff0c\u8f93\u51fa\u4e3a\u6807\u91cf\u7684\u76ee\u6807\u51fd\u6570$f: \\mathbb{R}^2 \\rightarrow \\mathbb{R}$\u3002\u4e0b\u9762\u4e3a\u8be5\u51fd\u6570\u7684\u7b49\u9ad8\u7ebf\u793a\u610f\u56fe\uff08\u6bcf\u6761\u7b49\u9ad8\u7ebf\u8868\u793a\u76f8\u540c\u51fd\u6570\u503c\u7684\u70b9\uff1a\u8d8a\u9760\u8fd1\u4e2d\u95f4\u51fd\u6570\u503c\u8d8a\u5c0f\uff09\u3002\n\n![](https://github.com/mli/gluon-tutorials-zh/raw/master/img/gd-move.png)\n\n\u4e0a\u56fe\u4e2d\uff0c\u7ea2\u8272\u4e09\u89d2\u5f62\u4ee3\u8868\u53c2\u6570$\\mathbf{x}$\u7684\u521d\u59cb\u503c\u3002\u5e26\u7bad\u5934\u7684\u7ebf\u6bb5\u8868\u793a\u6bcf\u6b21\u8fed\u4ee3\u65f6\u53c2\u6570\u7684\u66f4\u65b0\u3002\u7531\u4e8e\u76ee\u6807\u51fd\u6570\u5728\u7ad6\u76f4\u65b9\u5411\uff08$x_2$\u8f74\u65b9\u5411\uff09\u4e0a\u6bd4\u5728\u6c34\u5e73\u65b9\u5411\uff08$x_1$\u8f74\u65b9\u5411\uff09\u5f2f\u66f2\u5f97\u66f4\u5389\u5bb3\uff0c\u68af\u5ea6\u4e0b\u964d\u8fed\u4ee3\u53c2\u6570\u65f6\u4f1a\u4f7f\u53c2\u6570\u5728\u7ad6\u76f4\u65b9\u5411\u6bd4\u5728\u6c34\u5e73\u65b9\u5411\u79fb\u52a8\u66f4\u731b\u70c8\u3002\u56e0\u6b64\uff0c\u6211\u4eec\u9700\u8981\u4e00\u4e2a\u8f83\u5c0f\u7684\u5b66\u4e60\u7387\u4ece\u800c\u907f\u514d\u53c2\u6570\u5728\u7ad6\u76f4\u65b9\u5411\u4e0aovershoot\u3002\u8fd9\u5c31\u9020\u6210\u4e86\u4e0a\u56fe\u4e2d\u53c2\u6570\u5411\u6700\u4f18\u89e3\u79fb\u52a8\u901f\u5ea6\u7684\u7f13\u6162\u3002\n\n\n## \u52a8\u91cf\u6cd5\n\n\u52a8\u91cf\u6cd5\u7684\u63d0\u51fa\u662f\u4e3a\u4e86\u5e94\u5bf9\u68af\u5ea6\u4e0b\u964d\u7684\u4e0a\u8ff0\u95ee\u9898\u3002\u5e7f\u4e49\u4e0a\uff0c\u4ee5\u5c0f\u6279\u91cf\u968f\u673a\u68af\u5ea6\u4e0b\u964d\u4e3a\u4f8b\uff08\u5f53\u6279\u91cf\u5927\u5c0f\u7b49\u4e8e\u8bad\u7ec3\u96c6\u5927\u5c0f\u65f6\uff0c\u8be5\u7b97\u6cd5\u5373\u4e3a\u68af\u5ea6\u4e0b\u964d\uff1b\u6279\u91cf\u5927\u5c0f\u4e3a1\u5373\u4e3a\u968f\u673a\u68af\u5ea6\u4e0b\u964d\uff09\uff0c\u6211\u4eec\u5bf9[\u68af\u5ea6\u4e0b\u964d\u548c\u968f\u673a\u68af\u5ea6\u4e0b\u964d](./gd-sgd-scratch.md)\u7684\u7ae0\u8282\u4e2d\u7684\u5c0f\u6279\u91cf\u968f\u673a\u68af\u5ea6\u7b97\u6cd5\u505a\u5982\u4e0b\u4fee\u6539\uff1a\n\n\\begin{align*}\n\\mathbf{v} &:= \\gamma \\mathbf{v} + \\eta \\nabla f_\\mathcal{B}(\\mathbf{x}),\\\\\n\\mathbf{x} &:= \\mathbf{x} - \\mathbf{v},\n\\end{align*}\n\n\u5176\u4e2d$\\mathbf{v}$\u662f\u5f53\u524d\u901f\u5ea6\uff0c$\\gamma$\u662f\u52a8\u91cf\u53c2\u6570\u3002\u5176\u4f59\u7b26\u53f7\u5982\u5b66\u4e60\u7387$\\eta$\u3001\u6709\u5173\u5c0f\u6279\u91cf$\\mathcal{B}$\u7684\u968f\u673a\u68af\u5ea6$\\nabla f_\\mathcal{B}(\\mathbf{x})$\u90fd\u5df2\u5728[\u68af\u5ea6\u4e0b\u964d\u548c\u968f\u673a\u68af\u5ea6\u4e0b\u964d](./gd-sgd-scratch.md)\u7684\u7ae0\u8282\u4e2d\u5b9a\u4e49\uff0c\u6b64\u5904\u4e0d\u518d\u8d58\u8ff0\u3002\n\n\u5f53\u524d\u901f\u5ea6$\\mathbf{v}$\u7684\u66f4\u65b0\u53ef\u4ee5\u7406\u89e3\u4e3a\u5bf9$[\\eta / (1 - \\gamma)] \\nabla f_\\mathcal{B}(\\mathbf{x})$\u505a\u6307\u6570\u52a0\u6743\u79fb\u52a8\u5e73\u5747\u3002\u56e0\u6b64\uff0c\u52a8\u91cf\u6cd5\u7684\u6bcf\u6b21\u8fed\u4ee3\u4e2d\uff0c\u53c2\u6570\u5728\u5404\u4e2a\u65b9\u5411\u4e0a\u79fb\u52a8\u5e45\u5ea6\u4e0d\u4ec5\u53d6\u51b3\u5f53\u524d\u68af\u5ea6\uff0c\u8fd8\u53d6\u51b3\u8fc7\u53bb\u5404\u4e2a\u68af\u5ea6\u5728\u5404\u4e2a\u65b9\u5411\u4e0a\u662f\u5426\u4e00\u81f4\u3002\u5f53\u8fc7\u53bb\u7684\u6240\u6709\u68af\u5ea6\u90fd\u5728\u540c\u4e00\u65b9\u5411\uff0c\u4f8b\u5982\u90fd\u662f\u6c34\u5e73\u5411\u53f3\uff0c\u90a3\u4e48\u53c2\u6570\u5728\u6c34\u5e73\u5411\u53f3\u7684\u79fb\u52a8\u5e45\u5ea6\u6700\u5927\u3002\u5982\u679c\u8fc7\u53bb\u7684\u68af\u5ea6\u4e2d\u5728\u7ad6\u76f4\u65b9\u5411\u4e0a\u65f6\u4e0a\u65f6\u4e0b\uff0c\u90a3\u4e48\u53c2\u6570\u5728\u7ad6\u76f4\u65b9\u5411\u7684\u79fb\u52a8\u5e45\u5ea6\u5c06\u53d8\u5c0f\u3002\u8fd9\u6837\uff0c\u6211\u4eec\u5c31\u53ef\u4ee5\u4f7f\u7528\u8f83\u5927\u7684\u5b66\u4e60\u7387\uff0c\u4ece\u800c\u5982\u4e0b\u56fe\u6536\u655b\u66f4\u5feb\u3002\n\n![](https://github.com/mli/gluon-tutorials-zh/raw/master/img/momentum-move.png)\n\n\n## \u52a8\u91cf\u53c2\u6570\n\n\u4e3a\u4e86\u6709\u52a9\u4e8e\u7406\u89e3\u52a8\u91cf\u53c2\u6570$\\gamma$\uff0c\u8ba9\u6211\u4eec\u8003\u8651\u4e00\u4e2a\u7b80\u5355\u7684\u95ee\u9898\uff1a\u6bcf\u6b21\u8fed\u4ee3\u7684\u5c0f\u6279\u91cf\u968f\u673a\u68af\u5ea6$\\nabla f_\\mathcal{B}(\\mathbf{x})$\u90fd\u7b49\u4e8e$\\mathbf{g}$\u3002\u7531\u4e8e\u6240\u6709\u5c0f\u6279\u91cf\u968f\u673a\u68af\u5ea6\u90fd\u5728\u540c\u4e00\u65b9\u5411\uff0c\u52a8\u91cf\u6cd5\u5728\u8be5\u65b9\u5411\u4f7f\u53c2\u6570\u79fb\u52a8\u52a0\u901f\uff1a\n\n\\begin{align*}\n\\mathbf{v}_1 &:= \\eta\\mathbf{g},\\\\\n\\mathbf{v}_2 &:= \\gamma \\mathbf{v}_1 + \\eta\\mathbf{g} = \\eta\\mathbf{g} (\\gamma + 1),\\\\\n\\mathbf{v}_3 &:= \\gamma \\mathbf{v}_2 + \\eta\\mathbf{g} = \\eta\\mathbf{g} (\\gamma^2 + \\gamma + 1),\\\\\n&\\ldots\\\\\n\\mathbf{v}_{\\inf} &:= \\frac{\\eta\\mathbf{g}}{1 - \\gamma}.\n\\end{align*}\n\n\u4f8b\u5982\uff0c\u5f53$\\gamma = 0.99$, \u6700\u7ec8\u7684\u901f\u5ea6\u5c06\u662f\u5b66\u4e60\u7387\u4e58\u4ee5\u76f8\u5e94\u5c0f\u6279\u91cf\u968f\u673a\u68af\u5ea6$\\eta\\mathbf{g}$\u7684100\u500d\u5927\u3002\n\n## \u7b97\u6cd5\u5b9e\u73b0\u548c\u5b9e\u9a8c\n\n\u52a8\u91cf\u6cd5\u7684\u5b9e\u73b0\u4e5f\u5f88\u7b80\u5355\u3002\u6211\u4eec\u5728\u5c0f\u6279\u91cf\u968f\u673a\u68af\u5ea6\u4e0b\u964d\u7684\u57fa\u7840\u4e0a\u6dfb\u52a0\u901f\u5ea6\u9879\u3002", 
            "cell_type": "markdown", 
            "metadata": {}
        }, 
        {
            "execution_count": null, 
            "cell_type": "code", 
            "metadata": {
                "attributes": {
                    "classes": [], 
                    "id": "", 
                    "n": "1"
                }
            }, 
            "outputs": [], 
            "source": "# \u52a8\u91cf\u6cd5\u3002\ndef sgd_momentum(params, vs, lr, mom, batch_size):\n    for param, v in zip(params, vs):\n        v[:] = mom * v + lr * param.grad / batch_size\n        param[:] -= v"
        }, 
        {
            "source": "\u5b9e\u9a8c\u4e2d\uff0c\u6211\u4eec\u4ee5\u7ebf\u6027\u56de\u5f52\u4e3a\u4f8b\u3002\u5176\u4e2d\u771f\u5b9e\u53c2\u6570`w`\u4e3a[2, -3.4]\uff0c`b`\u4e3a4.2\u3002\u6211\u4eec\u628a\u901f\u5ea6\u9879\u521d\u59cb\u5316\u4e3a\u548c\u53c2\u6570\u5f62\u72b6\u76f8\u540c\u7684\u96f6\u5f20\u91cf\u3002", 
            "cell_type": "markdown", 
            "metadata": {}
        }, 
        {
            "execution_count": null, 
            "cell_type": "code", 
            "metadata": {
                "attributes": {
                    "classes": [], 
                    "id": "", 
                    "n": "2"
                }
            }, 
            "outputs": [], 
            "source": "import mxnet as mx\nfrom mxnet import autograd\nfrom mxnet import ndarray as nd\nfrom mxnet import gluon\nimport random\n\nmx.random.seed(1)\nrandom.seed(1)\n\n# \u751f\u6210\u6570\u636e\u96c6\u3002\nnum_inputs = 2\nnum_examples = 1000\ntrue_w = [2, -3.4]\ntrue_b = 4.2\nX = nd.random_normal(scale=1, shape=(num_examples, num_inputs))\ny = true_w[0] * X[:, 0] + true_w[1] * X[:, 1] + true_b\ny += .01 * nd.random_normal(scale=1, shape=y.shape)\ndataset = gluon.data.ArrayDataset(X, y)\n\n# \u6784\u9020\u8fed\u4ee3\u5668\u3002\nimport random\ndef data_iter(batch_size):\n    idx = list(range(num_examples))\n    random.shuffle(idx)\n    for batch_i, i in enumerate(range(0, num_examples, batch_size)):\n        j = nd.array(idx[i: min(i + batch_size, num_examples)])\n        yield batch_i, X.take(j), y.take(j)\n\n# \u521d\u59cb\u5316\u6a21\u578b\u53c2\u6570\u3002\ndef init_params():\n    w = nd.random_normal(scale=1, shape=(num_inputs, 1))\n    b = nd.zeros(shape=(1,))\n    params = [w, b]\n    vs = []\n    for param in params:\n        param.attach_grad()\n        # \u628a\u901f\u5ea6\u9879\u521d\u59cb\u5316\u4e3a\u548c\u53c2\u6570\u5f62\u72b6\u76f8\u540c\u7684\u96f6\u5f20\u91cf\u3002\n        vs.append(param.zeros_like())\n    return params, vs\n\n# \u7ebf\u6027\u56de\u5f52\u6a21\u578b\u3002\ndef net(X, w, b):\n    return nd.dot(X, w) + b\n\n# \u635f\u5931\u51fd\u6570\u3002\ndef square_loss(yhat, y):\n    return (yhat - y.reshape(yhat.shape)) ** 2 / 2"
        }, 
        {
            "source": "\u63a5\u4e0b\u6765\u5b9a\u4e49\u8bad\u7ec3\u51fd\u6570\u3002\u5f53epoch\u5927\u4e8e2\u65f6\uff08epoch\u4ece1\u5f00\u59cb\u8ba1\u6570\uff09\uff0c\u5b66\u4e60\u7387\u4ee5\u81ea\u4e580.1\u7684\u65b9\u5f0f\u81ea\u6211\u8870\u51cf\u3002\u8bad\u7ec3\u51fd\u6570\u7684period\u53c2\u6570\u8bf4\u660e\uff0c\u6bcf\u6b21\u91c7\u6837\u8fc7\u8be5\u6570\u76ee\u7684\u6570\u636e\u70b9\u540e\uff0c\u8bb0\u5f55\u5f53\u524d\u76ee\u6807\u51fd\u6570\u503c\u7528\u4e8e\u4f5c\u56fe\u3002\u4f8b\u5982\uff0c\u5f53period\u548cbatch_size\u90fd\u4e3a10\u65f6\uff0c\u6bcf\u6b21\u8fed\u4ee3\u540e\u5747\u4f1a\u8bb0\u5f55\u76ee\u6807\u51fd\u6570\u503c\u3002", 
            "cell_type": "markdown", 
            "metadata": {}
        }, 
        {
            "execution_count": null, 
            "cell_type": "code", 
            "metadata": {
                "attributes": {
                    "classes": [], 
                    "id": "", 
                    "n": "3"
                }
            }, 
            "outputs": [], 
            "source": "%matplotlib inline\nimport matplotlib as mpl\nmpl.rcParams['figure.dpi']= 120\nimport matplotlib.pyplot as plt\nimport numpy as np\n\ndef train(batch_size, lr, mom, epochs, period):\n    assert period >= batch_size and period % batch_size == 0\n    [w, b], vs = init_params()\n    total_loss = [np.mean(square_loss(net(X, w, b), y).asnumpy())]\n\n    # \u6ce8\u610fepoch\u4ece1\u5f00\u59cb\u8ba1\u6570\u3002\n    for epoch in range(1, epochs + 1):\n        # \u91cd\u8bbe\u5b66\u4e60\u7387\u3002\n        if epoch > 2:\n            lr *= 0.1\n        for batch_i, data, label in data_iter(batch_size):\n            with autograd.record():\n                output = net(data, w, b)\n                loss = square_loss(output, label)\n            loss.backward()\n            sgd_momentum([w, b], vs, lr, mom, batch_size)\n            if batch_i * batch_size % period == 0:\n                total_loss.append(np.mean(square_loss(net(X, w, b), y).asnumpy()))\n        print(\"Batch size %d, Learning rate %f, Epoch %d, loss %.4e\" %\n              (batch_size, lr, epoch, total_loss[-1]))\n    print('w:', np.reshape(w.asnumpy(), (1, -1)),\n          'b:', b.asnumpy()[0], '\\n')\n    x_axis = np.linspace(0, epochs, len(total_loss), endpoint=True)\n    plt.semilogy(x_axis, total_loss)\n    plt.xlabel('epoch')\n    plt.ylabel('loss')\n    plt.show()"
        }, 
        {
            "source": "\u4f7f\u7528\u52a8\u91cf\u6cd5\uff0c\u6700\u7ec8\u5b66\u5230\u7684\u53c2\u6570\u503c\u4e0e\u771f\u5b9e\u503c\u8f83\u63a5\u8fd1\u3002", 
            "cell_type": "markdown", 
            "metadata": {}
        }, 
        {
            "execution_count": null, 
            "cell_type": "code", 
            "metadata": {
                "attributes": {
                    "classes": [], 
                    "id": "", 
                    "n": "4"
                }
            }, 
            "outputs": [], 
            "source": "train(batch_size=10, lr=0.2, mom=0.9, epochs=3, period=10)"
        }, 
        {
            "source": "## \u7ed3\u8bba\n\n* \u52a8\u91cf\u6cd5\u53ef\u4ee5\u63d0\u5347\u968f\u673a\u68af\u5ea6\u4e0b\u964d\uff0c\u4f8b\u5982\u5bf9\u4e8e\u67d0\u4e9b\u95ee\u9898\u53ef\u4ee5\u9009\u7528\u8f83\u5927\u5b66\u4e60\u7387\u4ece\u800c\u52a0\u5feb\u6536\u655b\u3002\n\n\n## \u7ec3\u4e60\n\n* \u8bd5\u7740\u4f7f\u7528\u8f83\u5c0f\u7684\u52a8\u91cf\u53c2\u6570\uff0c\u89c2\u5bdf\u5b9e\u9a8c\u7ed3\u679c\u3002\n\n**\u5410\u69fd\u548c\u8ba8\u8bba\u6b22\u8fce\u70b9**[\u8fd9\u91cc](https://discuss.gluon.ai/t/topic/1879)", 
            "cell_type": "markdown", 
            "metadata": {}
        }
    ], 
    "metadata": {
        "kernelspec": {
            "display_name": "Python 2 with Spark 1.6 (Unsupported)", 
            "name": "python2", 
            "language": "python"
        }, 
        "language_info": {
            "mimetype": "text/x-python", 
            "nbconvert_exporter": "python", 
            "version": "2.7.11", 
            "name": "python", 
            "file_extension": ".py", 
            "pygments_lexer": "ipython2", 
            "codemirror_mode": {
                "version": 2, 
                "name": "ipython"
            }
        }
    }, 
    "nbformat": 4
}