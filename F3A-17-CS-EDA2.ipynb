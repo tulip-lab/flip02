{
    "nbformat_minor": 1, 
    "cells": [
        {
            "source": "# Modern Data Science \n**(Module 02: Data Visualization)**\n\n---\n- Materials in this module include resources collected from various open-source online repositories.\n- You are free to use, change and distribute this package.\n\nPrepared by and for \n**Student Members** |\n2006-2018 [TULIP Lab](http://www.tulip.org.au), Australia\n\n---\n\n# Session F - Case Study  (Exploratory Data Analysis 2)\n \nIn this lesson,we will learn EDA with real world data.\n\nPython vesion = 2.7", 
            "cell_type": "markdown", 
            "metadata": {}
        }, 
        {
            "execution_count": null, 
            "cell_type": "code", 
            "metadata": {}, 
            "outputs": [], 
            "source": "%matplotlib inline\n\nimport json\nimport operator\n\nfrom collections import namedtuple, Counter, OrderedDict\n\nimport matplotlib as mpl\nimport matplotlib.pyplot as plt\n\nfrom IPython.display import set_matplotlib_formats\n\nset_matplotlib_formats('retina')"
        }, 
        {
            "execution_count": null, 
            "cell_type": "code", 
            "metadata": {}, 
            "outputs": [], 
            "source": "import wget\n\nlink_to_data = 'https://github.com/tuliplab/mds/blob/master/Jupyter/data/data_first%20step/sfpd.json?raw=true'\nDataSet = wget.download(link_to_data)"
        }, 
        {
            "execution_count": null, 
            "cell_type": "code", 
            "metadata": {}, 
            "outputs": [], 
            "source": "!ls ./"
        }, 
        {
            "execution_count": null, 
            "cell_type": "code", 
            "metadata": {}, 
            "outputs": [], 
            "source": "with open('sfpd.json') as fin:\n    data = json.load(fin)\ncolumns = [obj['name'] for obj in data['meta']['view']['columns']]\nIncident = namedtuple('Incident', columns)\nincidents = [Incident(*row) for row in data['data']]    "
        }, 
        {
            "execution_count": null, 
            "cell_type": "code", 
            "metadata": {}, 
            "outputs": [], 
            "source": "def dhist(d):\n    \"\"\"Plots a dict object in a bar graph to match the histogram layout.\n    \"\"\"\n    # For a bar graph, the first argument is the values at which the \n    # bars will be place. We set the width to 1 (default is 0.8) to \n    # remove any whitespace between bars and make it look more like the \n    # histogram. We set the align to 'edge' (default is 'center') to make\n    # sure that the left edge of the bar is aligned with its value.\n    plt.bar(range(len(d)), d.values(), width=1, align='edge')\n    # Since the bars' left edges are aligned with their values, we have to \n    # move the x-tick labels in a bit to make them centered within the bar.\n    # Since the bars are all a width of 1, we simply need to add 0.5 to the\n    # left values of every tick. Finally, we rotate the labels 90 degrees \n    # so they are readable.\n    plt.xticks([i + 0.5 for i in range(len(d))], d.keys(), rotation=90)\n    # Making the graph as tight as possible by limiting the X-axis values.\n    plt.xlim([0, len(d)]);"
        }, 
        {
            "source": "## Where do Crimes Happen?", 
            "cell_type": "markdown", 
            "metadata": {}
        }, 
        {
            "execution_count": null, 
            "cell_type": "code", 
            "metadata": {}, 
            "outputs": [], 
            "source": "hist = Counter(i.PdDistrict for i in incidents)\nhist = OrderedDict(sorted(hist.items(), key=operator.itemgetter(0)))\ndhist(hist)"
        }, 
        {
            "execution_count": null, 
            "cell_type": "code", 
            "metadata": {}, 
            "outputs": [], 
            "source": "set(i.Category for i in incidents)"
        }, 
        {
            "execution_count": null, 
            "cell_type": "code", 
            "metadata": {}, 
            "outputs": [], 
            "source": "violent_crimes = ['ARSON', 'ASSAULT','KIDNAPPING', 'SEX OFFENSES, FORCIBLE']\nassaults = [i for i in incidents if i.Category in violent_crimes]\nhist = Counter(i.PdDistrict for i in assaults)\nhist = OrderedDict(sorted(hist.items(), key=operator.itemgetter(0)))\ndhist(hist)"
        }, 
        {
            "source": "## What Types of Crime?", 
            "cell_type": "markdown", 
            "metadata": {}
        }, 
        {
            "execution_count": null, 
            "cell_type": "code", 
            "metadata": {
                "scrolled": false
            }, 
            "outputs": [], 
            "source": "hist = Counter(i.Category for i in incidents)\nhist = OrderedDict(sorted(hist.items(), key=operator.itemgetter(1)))\nplt.figure(figsize=(20, 8))\ndhist(hist)"
        }, 
        {
            "source": "## When do Crimes Occur?", 
            "cell_type": "markdown", 
            "metadata": {}
        }, 
        {
            "source": "Let's take a look at crime on each day of the week. It looks like crime overall is roughly the same on a daily basis with a slight bump on Friday and Saturday (which you would imagine to be true). But, what happens if we look at just violent crime? Now we see a little more \"flavor\" in the distribution of crime. It seems to be at its lowest on Wednesday, and it slowly builds up to it peak on Sunday, and then comes down again by Wednesday. ", 
            "cell_type": "markdown", 
            "metadata": {}
        }, 
        {
            "execution_count": null, 
            "cell_type": "code", 
            "metadata": {}, 
            "outputs": [], 
            "source": "violent_crimes = ['ARSON', 'ASSAULT','KIDNAPPING', 'SEX OFFENSES, FORCIBLE']\nhist = Counter(int(i.Time[:2]) for i in incidents if i.Category in violent_crimes)\nmorning = range(6, 12)\ndaytime = [12] + range(1, 13)\nlate_night = range(1, 6)\nkeys = ['%s AM' % h for h in morning] + \\\n       ['%s PM' % h for h in daytime] + \\\n       ['%s AM' % h for h in late_night]\nvalues = [hist[k] for k in range(6, 24) + range(0, 6)]\nhist = OrderedDict(zip(keys, values))\nplt.figure(figsize=(12, 6))\ndhist(hist)"
        }, 
        {
            "source": "Let's look at the number of total crimes per day and the number of violent crimes per day side by side. \n\nIf you notice, there is an order of magnitude difference between the two which is normally not a good thing to have when making a comparison, but since we're only interested in the shape of the distribution, that shouldn't be a problem for us. \n\nThe other change we made in this example, is we adjusted the range of values that we display on the y-axes. The reason for this again is that we are just interested in the shape of the distribution so we can see what days have the most crime. Overall, there isn't a huge difference in crime per day, and that is kind of disguised here by the adjustment we made in the axes.", 
            "cell_type": "markdown", 
            "metadata": {}
        }, 
        {
            "execution_count": null, 
            "cell_type": "code", 
            "metadata": {}, 
            "outputs": [], 
            "source": "keys = ['Monday', 'Tuesday', 'Wednesday', 'Thursday', 'Friday', 'Saturday', 'Sunday']\n\nfig = plt.figure(figsize=(8, 2))\n\nfig.add_subplot(1, 2, 1)\n# Adjust the y limits for the current axes.\nplt.ylim([14000, 20000])\nhist = Counter(i.DayOfWeek for i in incidents)\nvalues = [hist[k] for k in keys]\ndhist(OrderedDict(zip(keys, values)))\n\nfig.add_subplot(1, 2, 2)\nplt.ylim([1400, 2000])\nhist = Counter(i.DayOfWeek for i in incidents if i.Category in violent_crimes)\nvalues = [hist[k] for k in keys]\ndhist(OrderedDict(zip(keys, values)))\n"
        }
    ], 
    "metadata": {
        "kernelspec": {
            "display_name": "Python 2.7", 
            "name": "python2", 
            "language": "python"
        }, 
        "language_info": {
            "mimetype": "text/x-python", 
            "nbconvert_exporter": "python", 
            "version": "2.7.14", 
            "name": "python", 
            "file_extension": ".py", 
            "pygments_lexer": "ipython2", 
            "codemirror_mode": {
                "version": 2, 
                "name": "ipython"
            }
        }, 
        "anaconda-cloud": {}
    }, 
    "nbformat": 4
}