{
    "nbformat_minor": 2, 
    "cells": [
        {
            "source": "# \u4e22\u5f03\u6cd5\uff08Dropout\uff09--- \u4ece0\u5f00\u59cb\n\n\u524d\u9762\u6211\u4eec\u4ecb\u7ecd\u4e86\u591a\u5c42\u795e\u7ecf\u7f51\u7edc\uff0c\u5c31\u662f\u5305\u542b\u81f3\u5c11\u4e00\u4e2a\u9690\u542b\u5c42\u7684\u7f51\u7edc\u3002\u6211\u4eec\u4e5f\u4ecb\u7ecd\u4e86\u6b63\u5219\u6cd5\u6765\u5e94\u5bf9\u8fc7\u62df\u5408\u95ee\u9898\u3002\u5728\u6df1\u5ea6\u5b66\u4e60\u4e2d\uff0c\u4e00\u4e2a\u5e38\u7528\u7684\u5e94\u5bf9\u8fc7\u62df\u5408\u95ee\u9898\u7684\u65b9\u6cd5\u53eb\u505a\u4e22\u5f03\u6cd5\uff08Dropout\uff09\u3002\u672c\u8282\u4ee5\u591a\u5c42\u795e\u7ecf\u7f51\u7edc\u4e3a\u4f8b\uff0c\u4ece0\u5f00\u59cb\u4ecb\u7ecd\u4e22\u5f03\u6cd5\u3002\n\n\u7531\u4e8e\u4e22\u5f03\u6cd5\u7684\u6982\u5ff5\u548c\u5b9e\u73b0\u975e\u5e38\u5bb9\u6613\uff0c\u5728\u672c\u8282\u4e2d\uff0c\u6211\u4eec\u5148\u4ecb\u7ecd\u4e22\u5f03\u6cd5\u7684\u6982\u5ff5\u4ee5\u53ca\u5b83\u5728\u73b0\u4ee3\u795e\u7ecf\u7f51\u7edc\u4e2d\u662f\u5982\u4f55\u5b9e\u73b0\u7684\u3002\u7136\u540e\u6211\u4eec\u4e00\u8d77\u63a2\u8ba8\u4e22\u5f03\u6cd5\u7684\u672c\u8d28\u3002\n\n\n## \u4e22\u5f03\u6cd5\u7684\u6982\u5ff5\n\n\u5728\u73b0\u4ee3\u795e\u7ecf\u7f51\u7edc\u4e2d\uff0c\u6211\u4eec\u6240\u6307\u7684\u4e22\u5f03\u6cd5\uff0c\u901a\u5e38\u662f\u5bf9\u8f93\u5165\u5c42\u6216\u8005\u9690\u542b\u5c42\u505a\u4ee5\u4e0b\u64cd\u4f5c\uff1a\n\n* \u968f\u673a\u9009\u62e9\u4e00\u90e8\u5206\u8be5\u5c42\u7684\u8f93\u51fa\u4f5c\u4e3a\u4e22\u5f03\u5143\u7d20\uff1b\n* \u628a\u4e22\u5f03\u5143\u7d20\u4e58\u4ee50\uff1b\n* \u628a\u975e\u4e22\u5f03\u5143\u7d20\u62c9\u4f38\u3002\n\n\n## \u4e22\u5f03\u6cd5\u7684\u5b9e\u73b0\n\n\u4e22\u5f03\u6cd5\u7684\u5b9e\u73b0\u5f88\u5bb9\u6613\uff0c\u4f8b\u5982\u50cf\u4e0b\u9762\u8fd9\u6837\u3002\u8fd9\u91cc\u7684\u6807\u91cf`drop_probability`\u5b9a\u4e49\u4e86\u4e00\u4e2a`X`\uff08`NDArray`\u7c7b\uff09\u4e2d\u4efb\u4f55\u4e00\u4e2a\u5143\u7d20\u88ab\u4e22\u5f03\u7684\u6982\u7387\u3002", 
            "cell_type": "markdown", 
            "metadata": {}
        }, 
        {
            "execution_count": 1, 
            "cell_type": "code", 
            "metadata": {}, 
            "outputs": [], 
            "source": "from mxnet import nd\n\ndef dropout(X, drop_probability):\n    keep_probability = 1 - drop_probability\n    assert 0 <= keep_probability <= 1\n    # \u8fd9\u79cd\u60c5\u51b5\u4e0b\u628a\u5168\u90e8\u5143\u7d20\u90fd\u4e22\u5f03\u3002\n    if keep_probability == 0:\n        return X.zeros_like()\n    \n    # \u968f\u673a\u9009\u62e9\u4e00\u90e8\u5206\u8be5\u5c42\u7684\u8f93\u51fa\u4f5c\u4e3a\u4e22\u5f03\u5143\u7d20\u3002\n    mask = nd.random.uniform(\n        0, 1.0, X.shape, ctx=X.context) < keep_probability\n    # \u4fdd\u8bc1 E[dropout(X)] == X\n    scale =  1 / keep_probability \n    return mask * X * scale"
        }, 
        {
            "source": "\u6211\u4eec\u8fd0\u884c\u51e0\u4e2a\u5b9e\u4f8b\u6765\u9a8c\u8bc1\u4e00\u4e0b\u3002", 
            "cell_type": "markdown", 
            "metadata": {}
        }, 
        {
            "execution_count": 2, 
            "cell_type": "code", 
            "metadata": {}, 
            "outputs": [
                {
                    "execution_count": 2, 
                    "metadata": {}, 
                    "data": {
                        "text/plain": "\n[[  0.   1.   2.   3.]\n [  4.   5.   6.   7.]\n [  8.   9.  10.  11.]\n [ 12.  13.  14.  15.]\n [ 16.  17.  18.  19.]]\n<NDArray 5x4 @cpu(0)>"
                    }, 
                    "output_type": "execute_result"
                }
            ], 
            "source": "A = nd.arange(20).reshape((5,4))\ndropout(A, 0.0)"
        }, 
        {
            "execution_count": 3, 
            "cell_type": "code", 
            "metadata": {}, 
            "outputs": [
                {
                    "execution_count": 3, 
                    "metadata": {}, 
                    "data": {
                        "text/plain": "\n[[  0.   0.   0.   6.]\n [  0.  10.   0.   0.]\n [ 16.  18.  20.   0.]\n [ 24.  26.   0.   0.]\n [  0.  34.   0.   0.]]\n<NDArray 5x4 @cpu(0)>"
                    }, 
                    "output_type": "execute_result"
                }
            ], 
            "source": "dropout(A, 0.5)"
        }, 
        {
            "execution_count": 4, 
            "cell_type": "code", 
            "metadata": {}, 
            "outputs": [
                {
                    "execution_count": 4, 
                    "metadata": {}, 
                    "data": {
                        "text/plain": "\n[[ 0.  0.  0.  0.]\n [ 0.  0.  0.  0.]\n [ 0.  0.  0.  0.]\n [ 0.  0.  0.  0.]\n [ 0.  0.  0.  0.]]\n<NDArray 5x4 @cpu(0)>"
                    }, 
                    "output_type": "execute_result"
                }
            ], 
            "source": "dropout(A, 1.0)"
        }, 
        {
            "source": "## \u4e22\u5f03\u6cd5\u7684\u672c\u8d28\n\n\u4e86\u89e3\u4e86\u4e22\u5f03\u6cd5\u7684\u6982\u5ff5\u4e0e\u5b9e\u73b0\uff0c\u90a3\u4f60\u53ef\u80fd\u5bf9\u5b83\u7684\u672c\u8d28\u4ea7\u751f\u4e86\u597d\u5947\u3002\n\n\u5982\u679c\u4f60\u4e86\u89e3\u96c6\u6210\u5b66\u4e60\uff0c\u4f60\u53ef\u80fd\u77e5\u9053\u5b83\u5728\u63d0\u5347\u5f31\u5206\u7c7b\u5668\u51c6\u786e\u7387\u4e0a\u7684\u5a01\u529b\u3002\u4e00\u822c\u6765\u8bf4\uff0c\u5728\u96c6\u6210\u5b66\u4e60\u91cc\uff0c\u6211\u4eec\u53ef\u4ee5\u5bf9\u8bad\u7ec3\u6570\u636e\u96c6\u6709\u653e\u56de\u5730\u91c7\u6837\u82e5\u5e72\u6b21\u5e76\u5206\u522b\u8bad\u7ec3\u82e5\u5e72\u4e2a\u4e0d\u540c\u7684\u5206\u7c7b\u5668\uff1b\u6d4b\u8bd5\u65f6\uff0c\u628a\u8fd9\u4e9b\u5206\u7c7b\u5668\u7684\u7ed3\u679c\u96c6\u6210\u4e00\u4e0b\u4f5c\u4e3a\u6700\u7ec8\u5206\u7c7b\u7ed3\u679c\u3002\n\n\u4e8b\u5b9e\u4e0a\uff0c\u4e22\u5f03\u6cd5\u5728\u6a21\u62df\u96c6\u6210\u5b66\u4e60\u3002\u8bd5\u60f3\uff0c\u4e00\u4e2a\u4f7f\u7528\u4e86\u4e22\u5f03\u6cd5\u7684\u591a\u5c42\u795e\u7ecf\u7f51\u7edc\u672c\u8d28\u4e0a\u662f\u539f\u59cb\u7f51\u7edc\u7684\u5b50\u96c6\uff08\u8282\u70b9\u548c\u8fb9\uff09\u3002\u4e3e\u4e2a\u4f8b\u5b50\uff0c\u5b83\u53ef\u80fd\u957f\u8fd9\u4e2a\u6837\u5b50\u3002\n\n![](https://github.com/mli/gluon-tutorials-zh/raw/master/img/dropout.png)\n\n\u6211\u4eec\u5728\u4e4b\u524d\u7684\u7ae0\u8282\u91cc\u4ecb\u7ecd\u8fc7[\u968f\u673a\u68af\u5ea6\u4e0b\u964d\u7b97\u6cd5](linear-regression-scratch.md)\uff1a\u6211\u4eec\u5728\u8bad\u7ec3\u795e\u7ecf\u7f51\u7edc\u6a21\u578b\u65f6\u4e00\u822c\u968f\u673a\u91c7\u6837\u4e00\u4e2a\u6279\u91cf\u7684\u8bad\u7ec3\u6570\n\u636e\u3002\u4e22\u5f03\u6cd5\u5b9e\u8d28\u4e0a\u662f\u5bf9\u6bcf\u4e00\u4e2a\u8fd9\u6837\u7684\u6570\u636e\u96c6\u5206\u522b\u8bad\u7ec3\u4e00\u4e2a\u539f\u795e\u7ecf\u7f51\u7edc\u5b50\u96c6\u7684\u5206\u7c7b\u5668\u3002\u4e0e\u4e00\u822c\u7684\u96c6\u6210\u5b66\u4e60\u4e0d\u540c\uff0c\u8fd9\u91cc\u6bcf\u4e2a\u539f\u795e\u7ecf\u7f51\u7edc\u5b50\u96c6\u7684\u5206\u7c7b\u5668\u7528\u7684\u662f\u540c\u4e00\u5957\u53c2\u6570\u3002\u56e0\u6b64\u4e22\u5f03\u6cd5\u53ea\u662f\u5728\u6a21\u62df\u96c6\u6210\u5b66\u4e60\u3002\n\n\u6211\u4eec\u521a\u521a\u5f3a\u8c03\u4e86\uff0c\u539f\u795e\u7ecf\u7f51\u7edc\u5b50\u96c6\u7684\u5206\u7c7b\u5668\u5728\u4e0d\u540c\u7684\u8bad\u7ec3\u6570\u636e\u6279\u91cf\u4e0a\u8bad\u7ec3\u5e76\u4f7f\u7528\u540c\u4e00\u5957\u53c2\u6570\u3002\u56e0\u6b64\uff0c\u4f7f\u7528\u4e22\u5f03\u6cd5\u7684\u795e\u7ecf\u7f51\u7edc\u5b9e\u8d28\u4e0a\u662f\u5bf9\u8f93\u5165\u5c42\u548c\u9690\u542b\u5c42\u7684\u53c2\u6570\u505a\u4e86\u6b63\u5219\u5316\uff1a\u5b66\u5230\u7684\u53c2\u6570\u4f7f\u5f97\u539f\u795e\u7ecf\u7f51\u7edc\u4e0d\u540c\u5b50\u96c6\u5728\u8bad\u7ec3\u6570\u636e\u4e0a\u90fd\u5c3d\u53ef\u80fd\u8868\u73b0\u826f\u597d\u3002\n\n\u4e0b\u9762\u6211\u4eec\u52a8\u624b\u5b9e\u73b0\u4e00\u4e0b\u5728\u591a\u5c42\u795e\u7ecf\u7f51\u7edc\u91cc\u52a0\u4e22\u5f03\u5c42\u3002\n\n## \u6570\u636e\u83b7\u53d6\n\n\u6211\u4eec\u7ee7\u7eed\u4f7f\u7528FashionMNIST\u6570\u636e\u96c6\u3002", 
            "cell_type": "markdown", 
            "metadata": {}
        }, 
        {
            "execution_count": 5, 
            "cell_type": "code", 
            "metadata": {
                "attributes": {
                    "classes": [], 
                    "id": "", 
                    "n": "1"
                }
            }, 
            "outputs": [
                {
                    "output_type": "stream", 
                    "name": "stderr", 
                    "text": "/gpfs/fs01/user/s05b-0294eb3de63d2e-b5498f932ea5/.local/lib/python2.7/site-packages/matplotlib/style/core.py:203: UserWarning: In /gpfs/fs01/user/s05b-0294eb3de63d2e-b5498f932ea5/.config/matplotlib/stylelib/my_custom_style.mplstyle: axes.color_cycle is deprecated and replaced with axes.prop_cycle; please use the latter.\n  warnings.warn(message)\n"
                }
            ], 
            "source": "import sys\nsys.path.append('..')\nimport utils\nbatch_size = 256\ntrain_data, test_data = utils.load_data_fashion_mnist(batch_size)"
        }, 
        {
            "source": "## \u542b\u4e24\u4e2a\u9690\u85cf\u5c42\u7684\u591a\u5c42\u611f\u77e5\u673a\n\n[\u591a\u5c42\u611f\u77e5\u673a](mlp-scratch.md)\u5df2\u7ecf\u5728\u4e4b\u524d\u7ae0\u8282\u91cc\u4ecb\u7ecd\u3002\u4e0e[\u4e4b\u524d\u7ae0\u8282](mlp-scratch.md)\u4e0d\u540c\uff0c\u8fd9\u91cc\u6211\u4eec\u5b9a\u4e49\u4e00\u4e2a\u5305\u542b\u4e24\u4e2a\u9690\u542b\u5c42\u7684\u6a21\u578b\uff0c\u4e24\u4e2a\u9690\u542b\u5c42\u90fd\u8f93\u51fa256\u4e2a\u8282\u70b9\u3002\u6211\u4eec\u5b9a\u4e49\u6fc0\u6d3b\u51fd\u6570Relu\u5e76\u76f4\u63a5\u4f7f\u7528Gluon\u63d0\u4f9b\u7684\u4ea4\u53c9\u71b5\u635f\u5931\u51fd\u6570\u3002", 
            "cell_type": "markdown", 
            "metadata": {}
        }, 
        {
            "execution_count": 6, 
            "cell_type": "code", 
            "metadata": {
                "attributes": {
                    "classes": [], 
                    "id": "", 
                    "n": "2"
                }
            }, 
            "outputs": [], 
            "source": "num_inputs = 28*28\nnum_outputs = 10\n\nnum_hidden1 = 256\nnum_hidden2 = 256\nweight_scale = .01\n\nW1 = nd.random_normal(shape=(num_inputs, num_hidden1), scale=weight_scale)\nb1 = nd.zeros(num_hidden1)\n\nW2 = nd.random_normal(shape=(num_hidden1, num_hidden2), scale=weight_scale)\nb2 = nd.zeros(num_hidden2)\n\nW3 = nd.random_normal(shape=(num_hidden2, num_outputs), scale=weight_scale)\nb3 = nd.zeros(num_outputs)\n\nparams = [W1, b1, W2, b2, W3, b3]\n\nfor param in params:\n    param.attach_grad()"
        }, 
        {
            "source": "## \u5b9a\u4e49\u5305\u542b\u4e22\u5f03\u5c42\u7684\u6a21\u578b\n\n\u6211\u4eec\u7684\u6a21\u578b\u5c31\u662f\u5c06\u5c42\uff08\u5168\u8fde\u63a5\uff09\u548c\u6fc0\u6d3b\u51fd\u6570\uff08Relu\uff09\u4e32\u8d77\u6765\uff0c\u5e76\u5728\u5e94\u7528\u6fc0\u6d3b\u51fd\u6570\u540e\u6dfb\u52a0\u4e22\u5f03\u5c42\u3002\u6bcf\u4e2a\u4e22\u5f03\u5c42\u7684\u5143\u7d20\u4e22\u5f03\u6982\u7387\u53ef\u4ee5\u5206\u522b\u8bbe\u7f6e\u3002\u4e00\u822c\u60c5\u51b5\u4e0b\uff0c\u6211\u4eec\u63a8\u8350\u628a\u66f4\u9760\u8fd1\u8f93\u5165\u5c42\u7684\u5143\u7d20\u4e22\u5f03\u6982\u7387\u8bbe\u7684\u66f4\u5c0f\u4e00\u70b9\u3002\u8fd9\u4e2a\u8bd5\u9a8c\u4e2d\uff0c\u6211\u4eec\u628a\u7b2c\u4e00\u5c42\u5168\u8fde\u63a5\u540e\u7684\u5143\u7d20\u4e22\u5f03\u6982\u7387\u8bbe\u4e3a0.2\uff0c\u628a\u7b2c\u4e8c\u5c42\u5168\u8fde\u63a5\u540e\u7684\u5143\u7d20\u4e22\u5f03\u6982\u7387\u8bbe\u4e3a0.5\u3002", 
            "cell_type": "markdown", 
            "metadata": {}
        }, 
        {
            "execution_count": 7, 
            "cell_type": "code", 
            "metadata": {
                "attributes": {
                    "classes": [], 
                    "id": "", 
                    "n": "4"
                }
            }, 
            "outputs": [], 
            "source": "drop_prob1 = 0.2\ndrop_prob2 = 0.5\n\ndef net(X):\n    X = X.reshape((-1, num_inputs))\n    # \u7b2c\u4e00\u5c42\u5168\u8fde\u63a5\u3002\n    h1 = nd.relu(nd.dot(X, W1) + b1)\n    # \u5728\u7b2c\u4e00\u5c42\u5168\u8fde\u63a5\u540e\u6dfb\u52a0\u4e22\u5f03\u5c42\u3002\n    h1 = dropout(h1, drop_prob1)\n    # \u7b2c\u4e8c\u5c42\u5168\u8fde\u63a5\u3002\n    h2 = nd.relu(nd.dot(h1, W2) + b2)\n    # \u5728\u7b2c\u4e8c\u5c42\u5168\u8fde\u63a5\u540e\u6dfb\u52a0\u4e22\u5f03\u5c42\u3002\n    h2 = dropout(h2, drop_prob2)\n    return nd.dot(h2, W3) + b3"
        }, 
        {
            "source": "## \u8bad\u7ec3\n\n\u8bad\u7ec3\u8ddf\u4e4b\u524d\u4e00\u6837\u3002", 
            "cell_type": "markdown", 
            "metadata": {}
        }, 
        {
            "execution_count": 8, 
            "cell_type": "code", 
            "metadata": {
                "attributes": {
                    "classes": [], 
                    "id": "", 
                    "n": "8"
                }
            }, 
            "outputs": [
                {
                    "output_type": "stream", 
                    "name": "stdout", 
                    "text": "Epoch 0. Loss: 1.166705, Train acc 0.548127, Test acc 0.760817\nEpoch 1. Loss: 0.589458, Train acc 0.782552, Test acc 0.796074\nEpoch 2. Loss: 0.499218, Train acc 0.818526, Test acc 0.845553\nEpoch 3. Loss: 0.448348, Train acc 0.838575, Test acc 0.850661\nEpoch 4. Loss: 0.423585, Train acc 0.845720, Test acc 0.845252\n"
                }
            ], 
            "source": "from mxnet import autograd\nfrom mxnet import gluon\n\nsoftmax_cross_entropy = gluon.loss.SoftmaxCrossEntropyLoss()\n\nlearning_rate = .5\n\nfor epoch in range(5):\n    train_loss = 0.\n    train_acc = 0.\n    for data, label in train_data:\n        with autograd.record():\n            output = net(data)\n            loss = softmax_cross_entropy(output, label)\n        loss.backward()\n        utils.SGD(params, learning_rate/batch_size)\n\n        train_loss += nd.mean(loss).asscalar()\n        train_acc += utils.accuracy(output, label)\n\n    test_acc = utils.evaluate_accuracy(test_data, net)\n    print(\"Epoch %d. Loss: %f, Train acc %f, Test acc %f\" % (\n        epoch, train_loss/len(train_data), \n        train_acc/len(train_data), test_acc))"
        }, 
        {
            "source": "## \u603b\u7ed3\n\n\u6211\u4eec\u53ef\u4ee5\u901a\u8fc7\u4f7f\u7528\u4e22\u5f03\u6cd5\u5bf9\u795e\u7ecf\u7f51\u7edc\u6b63\u5219\u5316\u3002\n\n## \u7ec3\u4e60\n\n- \u5c1d\u8bd5\u4e0d\u4f7f\u7528\u4e22\u5f03\u6cd5\uff0c\u770b\u770b\u8fd9\u4e2a\u5305\u542b\u4e24\u4e2a\u9690\u542b\u5c42\u7684\u591a\u5c42\u611f\u77e5\u673a\u53ef\u4ee5\u5f97\u5230\u4ec0\u4e48\u7ed3\u679c\u3002\n- \u6211\u4eec\u63a8\u8350\u628a\u66f4\u9760\u8fd1\u8f93\u5165\u5c42\u7684\u5143\u7d20\u4e22\u5f03\u6982\u7387\u8bbe\u7684\u66f4\u5c0f\u4e00\u70b9\u3002\u60f3\u60f3\u8fd9\u662f\u4e3a\u4ec0\u4e48\uff1f\u5982\u679c\u628a\u672c\u8282\u6559\u7a0b\u4e2d\u7684\u4e24\u4e2a\u5143\u7d20\u4e22\u5f03\u53c2\u6570\u5bf9\u8c03\u4f1a\u6709\u4ec0\u4e48\u7ed3\u679c\uff1f\n\n**\u5410\u69fd\u548c\u8ba8\u8bba\u6b22\u8fce\u70b9**[\u8fd9\u91cc](https://discuss.gluon.ai/t/topic/1278)", 
            "cell_type": "markdown", 
            "metadata": {}
        }
    ], 
    "metadata": {
        "kernelspec": {
            "display_name": "Python 2 with Spark 1.6 (Unsupported)", 
            "name": "python2", 
            "language": "python"
        }, 
        "language_info": {
            "mimetype": "text/x-python", 
            "nbconvert_exporter": "python", 
            "version": "2.7.11", 
            "name": "python", 
            "file_extension": ".py", 
            "pygments_lexer": "ipython2", 
            "codemirror_mode": {
                "version": 2, 
                "name": "ipython"
            }
        }
    }, 
    "nbformat": 4
}