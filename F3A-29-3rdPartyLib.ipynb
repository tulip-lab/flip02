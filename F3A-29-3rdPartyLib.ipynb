{
    "nbformat": 4, 
    "cells": [
        {
            "source": "# Modern Data Science \n**(Module 02: Data Visualization)**\n\n---\n- Materials in this module include resources collected from various open-source online repositories.\n- You are free to use, change and distribute this package.\n\nPrepared by and for \n**Student Members** |\n2006-2018 [TULIP Lab](http://www.tulip.org.au), Australia\n\n---\n\n# Session R - 3rd Party Libraries\n\nIn this lesson, we'll see how we can take the matplotlib skills we've picked up in this course, and apply them to the web using some of the hottest new visualization libraries out today. And, in the next few examples, we'll see how to turn our matplotlib plots into web-ready, interactive graphics using the [Bokeh][1], [Plot.ly][2], and [mpld3][3] libraries. \n\nSo, let's go ahead and get set up so we can see some of these libraries in action.\n\n[1]: http://bokeh.pydata.org/\n[2]: https://plot.ly/\n[3]: http://mpld3.github.io/", 
            "cell_type": "markdown", 
            "metadata": {}
        }, 
        {
            "outputs": [], 
            "execution_count": null, 
            "cell_type": "code", 
            "source": "import matplotlib.pyplot as plt\nimport numpy as np", 
            "metadata": {}
        }, 
        {
            "source": "Now, you probably noticed that the setup for this lesson is a bit sparse compared to the earlier lessons. The reason for this is that each of the libraries that we'll be using in this lesson has its own unique set of steps that we must follow in order to use it within a Jupyter notebook, and so we'll run through a separate setup for each library as we use it. With that in mind, as far as a common setup goes, we simply need to import the `pyplot` module and the NumPy library this time around.\n\nOk, so common imports out of the way, let's take a look at our first library, Bokeh.\n\n## Bokeh\n\n[Bokeh][1] is a visualization library for building interactive graphics for modern web browsers. Its goal is to make the generation of novel graphics, similar to what can be produced with the [D3.js][2] library, but with an emphasis on providing high-performance over very large datasets. The library was created by [Continuum][3], the company responsible for the Anaconda distribution of python that we're using in this course, as well as many more interesting data-oriented products. \n\n[1]: http://bokeh.pydata.org/\n[2]: https://d3js.org/\n[3]: https://www.continuum.io/\n\nNow, the bokeh library wasn't designed with matplotlib in mind, but as you'll see time-and-time again, one of the benefits that matplotlib enjoys, being the de facto standard visualization library for python, is that pretty much every other visualization library provides at least some rudimentary support for it. And, if you take a look at [bokeh's FAQ page][4], you'll see the following quote:\n\n> \"Bokeh also intends to fully support the MPL interface (and hence Seaborn, pandas, and ggplot.py)...\"\n\n[4]: http://bokeh.pydata.org/en/0.10.0/docs/faq.html#how-does-bokeh-compare-to-mpld3\n\nWhat this means for us, is that we can take many of our matplotlib plots, and without any modifications, render them using the Bokeh library. So, how do we do that?\n\n### Bokeh Setup\n\nWell, Bokeh comes with a handful of `output_` functions, well three to be exact, that allow us to define where we want to output the results of a visualization. The `output_file` function allows you to save your visualization to a static HTML file, and the `output_server` function can be used with the Bokeh server to create interactive applications, but for our purposes, the `output_notebook` function is the most important. Calling the `output_notebook` function will make sure that the output of our Bokeh visualizations are sent to the notebook cells when we call the `show` function. So, let's get our notebook set up to render our matplotlib plots using the Bokeh library.\n\nIn the following cell, we import the `output_notebook` and `show` functions along with the `mpl` module, which will give us access to the `to_bokeh` function, which allows us to translate our matplotlib figures into Bokeh visualizations. Then, we'll call the `output_notebook` function to make sure our output is displayed within the cell. ", 
            "cell_type": "markdown", 
            "metadata": {}
        }, 
        {
            "outputs": [], 
            "execution_count": null, 
            "cell_type": "code", 
            "source": "from bokeh import mpl\nfrom bokeh.plotting import output_notebook, show\noutput_notebook(hide_banner=True)", 
            "metadata": {}
        }, 
        {
            "source": "Next, we'll create our matplotlib plot, just like we would any other.", 
            "cell_type": "markdown", 
            "metadata": {}
        }, 
        {
            "outputs": [], 
            "execution_count": null, 
            "cell_type": "code", 
            "source": "x = np.linspace(-2 * np.pi, 2 * np.pi, 100)\ny = np.sin(x / 2)\nz = np.cos(x / 4)\n\nplt.title(\"Matplotlib Figure in Bokeh\")\nplt.plot(x, y, \"r-\", marker='o')\nplt.plot(x, z, \"g-x\", linestyle=\"-.\");", 
            "metadata": {}
        }, 
        {
            "source": "Finally, we'll call the `mpl.to_bokeh()` function to translate the current figure into a Bokeh plot, then we'll call the `show` function on the `bokeh.models.plots.Plot` instance, that was returned, to display it.", 
            "cell_type": "markdown", 
            "metadata": {}
        }, 
        {
            "outputs": [], 
            "execution_count": null, 
            "cell_type": "code", 
            "source": "show(mpl.to_bokeh());", 
            "metadata": {}
        }, 
        {
            "source": "And, there you go! Notice that the Bokeh plot above gives us many of the same interactive features that the `notebook` backend gave us when we explored it in the chapter on interactivity. \n\nOk, so that's Bokeh, but what about Plotly?\n\n## Plot.ly\n\n[Plotly][1] is the name of a brand new visualization library that, like Bokeh, targets modern web browsers and can be used to create beautiful and interactive graphics with very little effort. It also happens to be the name of the company behind the library's creation. Plotly, the company, is focused on creating a collaborative environment for sharing data visualizations, or as the company bills itself, a \"GitHub for data scientists\". A core component of that product is the Plotly visualization library, and in many ways, it is very similar to Bokeh. Both library's have a JavaScript component that's responsible for rendering the visualization, and a language-dependent client library that talks with the JavaScript component via a JSON-based communication protocol. \n\nNow, until recently, only the [language-dependent client libraries][2] for Plotly were open source. This meant that it was possible to create a visualization with Plotly in your favorite language, but to do so, you had to have a Plotly account since that visualization relied on the Plotly servers to render and host your graphic. However, recently, the Plotly team has [open sourced the Ploly.js][3] library, which allows the Plotly library to be used in an [\"offline\" capacity][4] making it a direct competitor to the Bokeh library.\n\n[1]: https://plot.ly/\n[2]: https://plot.ly/api/\n[3]: https://plot.ly/javascript/open-source-announcement/\n[4]: https://plot.ly/python/offline/\n\nSo, the question then, is where do the two libraries differ?\n\n### Plotly vs Bokeh\n\nOne major difference between Bokeh and Plotly is the types of graphics that each library produces. Bokeh generates raster graphics using the JavaScript canvas element, while Plotly renders its visualizations using the D3.js library which generates vector images. Using the canvas element to generate bitmaps, instead of SVG, should give Bokeh a slight edge when it comes to the total number of data elements that can be displayed on the screen without hindering performance. That said, in some cases, [Plotly does provide a way to render graphics using WebGL][5], which can take advantage of modern computer architectures to speed up the rendering process making it more competitive with Bokeh---though, [Bokeh has also started dabbling with WebGL][6] as well. On the whole, my money is on Bokeh when it comes to performance, simply because that has always been a major focus of the library. Whereas, Plotly's main focus has always been on collaboration, so if the latter is more important to you, Plotly is probably the way to go. \n\nAt the end of the day though, both libraries are quite young and are still in the process of differentiating themselves, so choosing to go with either one is probably more a function of personal taste than anything else at this point in time. \n\n[5]: https://plot.ly/python/webgl-vs-svg/\n[6]: http://bokeh.pydata.org/en/0.10.0/docs/user_guide/webgl.html\n\nOk, so we've discussed some of the differences between the two libraries, and we've seen what Bokeh has to offer, but we haven't actually seen an example of Plotly's output just yet. So, let's get Plotly set up and see what it gives us.\n\n### Plotly Setup\n\nThe setup for Plotly is fairly similar to Bokeh's. In the following cell, we'll import the `plotly` library and call the `init_notebook_mode` function from the `offline` module to set up our Jupyter notebook.", 
            "cell_type": "markdown", 
            "metadata": {}
        }, 
        {
            "outputs": [], 
            "execution_count": null, 
            "cell_type": "code", 
            "source": "import plotly\nplotly.offline.init_notebook_mode()", 
            "metadata": {}
        }, 
        {
            "source": "Then, just like we saw with the Bokeh example above, we simply create our plot like we would any other matplotlib graphic, and we'll create the same plot with Plotly as we did for Bokeh, for comparison.", 
            "cell_type": "markdown", 
            "metadata": {}
        }, 
        {
            "outputs": [], 
            "execution_count": null, 
            "cell_type": "code", 
            "source": "x = np.linspace(-2 * np.pi, 2 * np.pi, 100)\ny = np.sin(x / 2)\nz = np.cos(x / 4)\n\nplt.title(\"Matplotlib Figure in Bokeh\")\nplt.plot(x, y, \"r-\", marker='o')\nplt.plot(x, z, \"g-x\", linestyle=\"-.\");", 
            "metadata": {}
        }, 
        {
            "source": "Most of the examples in the official Plotly documentation use either the `plot_mpl` function, or the Jupyter notebook equivalent `iplot_mpl`, to render their plots. Both of these functions, however, make a call to the Plotly service to do the actual rendering, so you'll need a Plotly account to use either one of them. \n\nIf, however, you want to convert your matplotlib plots locally, you'll need to use the `plotly.tools.mpl_to_plotly` function. This will convert your matplotlib figure into a JSON object that can then be used to make a Plotly visualization.", 
            "cell_type": "markdown", 
            "metadata": {}
        }, 
        {
            "outputs": [], 
            "execution_count": null, 
            "cell_type": "code", 
            "source": "pfig = plotly.tools.mpl_to_plotly(plt.gcf())", 
            "metadata": {}
        }, 
        {
            "source": "Once you have a JSON object representing your figure, you can simply call the `plotly.offline.iplot` function to render it.", 
            "cell_type": "markdown", 
            "metadata": {}
        }, 
        {
            "outputs": [], 
            "execution_count": null, 
            "cell_type": "code", 
            "source": "plotly.offline.iplot(pfig)", 
            "metadata": {}
        }, 
        {
            "source": "### Matplotlib Support\n\nOne more thing to consider when choosing between Bokeh and Plotly, is that the amount of support that each library has for matplotlib differs. To illustrate this point, the code in the next cell contains an example that works in Plotly, but fails in the current version of Bokeh. \n\nWhen I was first creating this lesson, Bokeh was at version 0.10.0, and the following code would actually cause an exception. As of this recording, the latest version of Bokeh, version 0.11.1, no longer throws an exception, but now the behavior is simply to show an empty plot. From my short stint experimenting with both libraries, I would have to say that, as of the time of this recording, Plotly is currently ahead of Bokeh in its support for matplotlib. In fact, I was even able to use several of Seaborn's plotting functions with Plotly, each of which resulted in an empty plot when displaying them with Bokeh.", 
            "cell_type": "markdown", 
            "metadata": {}
        }, 
        {
            "outputs": [], 
            "execution_count": null, 
            "cell_type": "code", 
            "source": "n = 50\nx, y, z, s, ew = np.random.rand(5, n)\nc, ec = np.random.rand(2, n, 4)\narea_scale, width_scale = 500, 5\n\nplt.scatter(x, y, c=c,\n            s=np.square(s)*area_scale,\n            edgecolor=ec,\n            linewidth=ew*width_scale)\nplt.grid()\n\npfig = plotly.tools.mpl_to_plotly(plt.gcf())\nplotly.offline.iplot(pfig)", 
            "metadata": {}
        }, 
        {
            "source": "And, that will bring us to our last library, [MPLD3][1].\n\n[1]: http://mpld3.github.io/\n\n## MPLD3\n\nThe Plotly and Bokeh libraries are both unique visualization libraries that have, as an added benefit, the ability to render some matplotlib figures as interactive graphics. As we've just seen with the last example, what this means is that rendering matplotlib plots using either library can be somewhat \"hit and miss\" since matplotlib support is secondary to each library's main mission. Unlike the Plotly and Bokeh libraries, however, the MPLD3 library's sole purpose is to provide \"...a simple API for exporting your matplotlib graphics to HTML code which can be used within the browser, within standard web pages, blogs, or tools such as the IPython notebook.\" \n\nSo, let's see how we can use the MPLD3 library to turn our matplotlib figures into interactive web graphics.\n\n### MPLD3 Setup\n\nThe setup for the MPLD3 library is the easiest of the bunch, you simply setup your notebook the way you always do, by calling the `%matplotlib inline` magic command, and then you just import the `mpld3` package. So, setup for MPLD3 ends up being pretty much the same as your normal matplotlib setup. ", 
            "cell_type": "markdown", 
            "metadata": {}
        }, 
        {
            "outputs": [], 
            "execution_count": null, 
            "cell_type": "code", 
            "source": "# Setup our notebook for working with MPLD3\n%matplotlib inline\nimport mpld3", 
            "metadata": {}
        }, 
        {
            "source": "Incidentally, the rest of the code below just turns on retina style formatting (for normal matplotlib plots) and turns off warnings to avoid showing a couple of deprecation warnings, which happen to be unecessary for our purposes.", 
            "cell_type": "markdown", 
            "metadata": {}
        }, 
        {
            "outputs": [], 
            "execution_count": null, 
            "cell_type": "code", 
            "source": "# Display regular matplotlib plots in high resolution \n# for retina screens.\nfrom IPython.display import set_matplotlib_formats\nset_matplotlib_formats('retina')\n\n# Ignore all warnings. This line must come AFTER importing the mpld3\n# library since it adds an \"always\" rule for the DeprecationWarning \n# class when it is imported, which overrides the \"ignore\" rule below.\nimport warnings; warnings.filterwarnings(\"ignore\")", 
            "metadata": {}
        }, 
        {
            "source": "Now, we have a choice as to how we want to use the MPLD3 libary. Specifically, there are two ways we can use the library to render figures in a Jupyter notebook. First, we can use the `display` function to render a single figure as an interactive web graphic. The benefit of using this method is that it allows us to pick and choose which figures we want to render using the library while continuing to display the rest using the same static rendering that we've used throughout the course.\n\nThe code in next cell is an example of this method.", 
            "cell_type": "markdown", 
            "metadata": {}
        }, 
        {
            "outputs": [], 
            "execution_count": null, 
            "cell_type": "code", 
            "source": "x = np.linspace(-2 * np.pi, 2 * np.pi, 100)\ny = np.sin(x / 2)\nz = np.cos(x / 4)\n\nplt.title(\"Matplotlib Figure in Bokeh\")\nplt.plot(x, y, \"r-\", marker='o')\nplt.plot(x, z, \"g-x\", linestyle=\"-.\")\n\n# Grab a reference to the current figure, so we can \n# display it using both MPLD3 and the normal method.\nfig = plt.gcf()\n\n# Display the figure using MPLD3\nmpld3.display(fig)", 
            "metadata": {}
        }, 
        {
            "source": "And, we can prove that the standard static rendering of matplotlib figures still works by simply displaying the figure again. ", 
            "cell_type": "markdown", 
            "metadata": {}
        }, 
        {
            "outputs": [], 
            "execution_count": null, 
            "cell_type": "code", 
            "source": "fig", 
            "metadata": {}
        }, 
        {
            "source": "If we want to render every figure in our notebook using the MPLD3 library, we simply need to call the `enable_notebook` function.", 
            "cell_type": "markdown", 
            "metadata": {}
        }, 
        {
            "outputs": [], 
            "execution_count": null, 
            "cell_type": "code", 
            "source": "mpld3.enable_notebook()", 
            "metadata": {}
        }, 
        {
            "source": "Now, we can run the same code again, and this time it will automatically be rendered as an interactive web graphic, i.e., there's no longer a need to call the `mpld3.display` function as we did above.", 
            "cell_type": "markdown", 
            "metadata": {}
        }, 
        {
            "outputs": [], 
            "execution_count": null, 
            "cell_type": "code", 
            "source": "x = np.linspace(-2 * np.pi, 2 * np.pi, 100)\ny = np.sin(x / 2)\nz = np.cos(x / 4)\n\nplt.title(\"Matplotlib Figure in Bokeh\")\nplt.plot(x, y, \"r-\", marker='o')\nplt.plot(x, z, \"g-x\", linestyle=\"-.\");", 
            "metadata": {}
        }, 
        {
            "source": "Finally, to get a taste for how much more feature complete this library is compared to the first two---with respect to the matplotlib API---we can run a bit of code from our Seaborn lesson and see how that looks when using the MPLD3 library to render the figure. ", 
            "cell_type": "markdown", 
            "metadata": {}
        }, 
        {
            "outputs": [], 
            "execution_count": null, 
            "cell_type": "code", 
            "source": "import seaborn as sns\ncrashes = sns.load_dataset('car_crashes')\nsns.jointplot(x='alcohol', y='total', data=crashes, kind='reg');", 
            "metadata": {}
        }, 
        {
            "source": "And, that looks fantastic, and just take a second and give the interactive features a try. Notice that all of the plots in the figure are panned and zoomed in unison as you play around with the data. This is a really nice feature that you get for free when using the MPLD3 library.\n\nAnd, that last example will bring to the very end of this lesson.\n\n## Conclusion\n\nIn this lesson, we've seen three different data visualization libraries, each with a different purpose, that can be used to translate our static matplotlib figures into fully interactive, web-based graphics. Choosing the right library can be a bit difficult, but when you first consider your needs, you should be able to pick the right one. \n\nWith that in mind, the most feature complete of the three libraries we reviewed is currently the MPLD3 library. This makes sense, given that its stated purpose is to bring together the matplotlib and D3.js libraries. The Bokeh and Plotly libraries, on the other hand, while certainly not as feature complete with respect to the matplotlib API, both have a much more interesting long term vision, and so both are libraries to keep an eye on, as well as use in your daily visualization tasks. And, now that you've seen how to use each one of these libraries with matplotlib, you can easily make the transition to whichever library most closely fits the requirements of your task whenever you find a need beyond what matplotlib can provide.", 
            "cell_type": "markdown", 
            "metadata": {}
        }
    ], 
    "metadata": {
        "language_info": {
            "pygments_lexer": "ipython2", 
            "nbconvert_exporter": "python", 
            "version": "2.7.11", 
            "mimetype": "text/x-python", 
            "name": "python", 
            "file_extension": ".py", 
            "codemirror_mode": {
                "version": 2, 
                "name": "ipython"
            }
        }, 
        "kernelspec": {
            "language": "python", 
            "display_name": "Python 2 with Spark 2.1", 
            "name": "python2-spark21"
        }
    }, 
    "nbformat_minor": 1
}