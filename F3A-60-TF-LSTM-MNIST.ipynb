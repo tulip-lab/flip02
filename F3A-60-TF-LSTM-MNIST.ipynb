{
    "nbformat_minor": 1, 
    "cells": [
        {
            "source": "# Modern Data Science \n**(Module 05: Deep Learning)**\n\n---\n- Materials in this module include resources collected from various open-source online repositories.\n- You are free to use, change and distribute this package.\n\nPrepared by and for \n**Student Members** |\n2006-2018 [TULIP Lab](http://www.tulip.org.au), Australia\n\n---\n\n\n# Session H - Sequence classification with LSTM on MNIST\n\nRecurrent Neural Networks are Deep Learning models with simple structures and a feedback mechanism builted-in, or in different words, the output of a layer is added to the next input and fed back to the same layer.\n\nThe Recurrent Neural Network is a specialized type of Neural Network that solves the issue of **maintaining context for Sequential data** -- such as Weather data, Stocks, Genes, etc. At each iterative step, the processing unit takes in an input and the current state of the network, and produces an output and a new state that is **re-fed into the network**.\n\nHowever, **this model has some problems**. It's very computationally expensive to maintain the state for a large amount of units, even more so over a long amount of time. Additionally, Recurrent Networks are very sensitive to changes in their parameters. As such, they are prone to different problems with their Gradient Descent optimizer -- they either grow exponentially (Exploding Gradient) or drop down to near zero and stabilize (Vanishing Gradient), both problems that greatly harm a model's learning capability.\n\nTo solve these problems, Hochreiter and Schmidhuber published a paper in 1997 describing a way to keep information over long periods of time and additionally solve the oversensitivity to parameter changes, i.e., make backpropagating through the Recurrent Networks more viable.\n\n(In this notebook, we will cover only LSTM and its implementation using TensorFlow)\n\n- <p><a href=\"#lstm\">Long Short-Term Memory Model (LSTM)</a></p>\n- <p><a href=\"#build\">Building a LSTM with TensorFlow</a></p>\n\n<p></p>\n\n\n** References and additional reading and resources**\n\n* This material is from [CognitiveClass.AI](https://cognitiveclass.ai), Created by <a href=\"https://br.linkedin.com/in/walter-gomes-de-amorim-junior-624726121\">Walter Gomes de Amorim Junior</a> ,  <a href = \"https://linkedin.com/in/saeedaghabozorgi\"> Saeed Aghabozorgi </a>\n* This notebook and its source code are released under the terms of the [MIT License](https://bigdatauniversity.com/mit-license/).\n\n\n---\n\n", 
            "cell_type": "markdown", 
            "metadata": {}
        }, 
        {
            "source": "<img src=\"https://ibm.box.com/shared/static/v7p90neiaqghmpwawpiecmz9n7080m59.png\" alt=\"Representation of a Recurrent Neural Network\" width=80%>", 
            "cell_type": "markdown", 
            "metadata": {}
        }, 
        {
            "source": "## 1.  <a id=\"lstm\"/>LSTM\nLSTM is one of the proposed solutions or upgrades to the **Recurrent Neural Network model**. ", 
            "cell_type": "markdown", 
            "metadata": {}
        }, 
        {
            "source": "It is an abstraction of how computer memory works. It is \"bundled\" with whatever processing unit is implemented in the Recurrent Network, although outside of its flow, and is responsible for keeping, reading, and outputting information for the model. The way it works is simple: you have a linear unit, which is the information cell itself, surrounded by three logistic gates responsible for maintaining the data. One gate is for inputting data into the information cell, one is for outputting data from the input cell, and the last one is to keep or forget data depending on the needs of the network.\n\nThanks to that, it not only solves the problem of keeping states, because the network can choose to forget data whenever information is not needed, it also solves the gradient problems, since the Logistic Gates have a very nice derivative.\n\n### Long Short-Term Memory Architecture\n\nAs seen before, the Long Short-Term Memory is composed of a linear unit surrounded by three logistic gates. The name for these gates vary from place to place, but the most usual names for them are:\n- the \"Input\" or \"Write\" Gate, which handles the writing of data into the information cell, \n- the \"Output\" or \"Read\" Gate, which handles the sending of data back onto the Recurrent Network, and \n- the \"Keep\" or \"Forget\" Gate, which handles the maintaining and modification of the data stored in the information cell.\n\n<img src=https://ibm.box.com/shared/static/zx10duv5egw0baw6gh2hzsgr8ex45gsg.png width=\"720\"/>\n<center>*Diagram of the Long Short-Term Memory Unit*</center>\n\nThe three gates are the centerpiece of the LSTM unit. The gates, when activated by the network, perform their respective functions. For example, the Input Gate will write whatever data it is passed onto the information cell, the Output Gate will return whatever data is in the information cell, and the Keep Gate will maintain the data in the information cell. These gates are analog and multiplicative, and as such, can modify the data based on the signal they are sent.\n\n---", 
            "cell_type": "markdown", 
            "metadata": {}
        }, 
        {
            "source": "## 2. <a id=\"build\"/> Building a LSTM with TensorFlow\n\n#### LSTM for Classification\nAlthough RNN is mostly used to model sequences and predict sequential data, we can still classify images using a LSTM network. If we consider every image row as a sequence of pixels, we can feed a LSTM network for classification. Lets use the famous MNIST dataset here. Because MNIST image shape is 28*28px, we will then handle 28 sequences of 28 steps for every sample.", 
            "cell_type": "markdown", 
            "metadata": {}
        }, 
        {
            "source": "#### MNIST Dataset\n\nTensor flow already provides **helper functions** to download and process the MNIST dataset.", 
            "cell_type": "markdown", 
            "metadata": {}
        }, 
        {
            "execution_count": 1, 
            "cell_type": "code", 
            "metadata": {}, 
            "outputs": [], 
            "source": "%matplotlib inline\nimport warnings\nwarnings.filterwarnings('ignore')\n\nimport numpy as np\nimport matplotlib.pyplot as plt\n\nimport tensorflow as tf\n"
        }, 
        {
            "execution_count": 2, 
            "cell_type": "code", 
            "metadata": {}, 
            "outputs": [
                {
                    "output_type": "stream", 
                    "name": "stdout", 
                    "text": "Extracting MNIST_data/train-images-idx3-ubyte.gz\nExtracting MNIST_data/train-labels-idx1-ubyte.gz\nExtracting MNIST_data/t10k-images-idx3-ubyte.gz\nExtracting MNIST_data/t10k-labels-idx1-ubyte.gz\n"
                }
            ], 
            "source": "from tensorflow.examples.tutorials.mnist import input_data\nmnist = input_data.read_data_sets(\"MNIST_data\", one_hot=True)"
        }, 
        {
            "execution_count": 3, 
            "cell_type": "code", 
            "metadata": {}, 
            "outputs": [
                {
                    "output_type": "stream", 
                    "name": "stdout", 
                    "text": "t10k-images-idx3-ubyte.gz  train-images-idx3-ubyte.gz\r\nt10k-labels-idx1-ubyte.gz  train-labels-idx1-ubyte.gz\r\n"
                }
            ], 
            "source": "!ls ./MNIST_data"
        }, 
        {
            "source": "The function **`input_data.read_data_sets(...)`** loads the entire dataset and returns an object **`tensorflow.contrib.learn.python.learn.datasets.mnist.DataSets`**\n\n\nThe argument **(`one_hot=False`)** creates the label arrays as 10-dimensional binary vectors (only zeros and ones), in which the index cell for the number one, is the class label.", 
            "cell_type": "markdown", 
            "metadata": {}
        }, 
        {
            "execution_count": 5, 
            "cell_type": "code", 
            "metadata": {}, 
            "outputs": [
                {
                    "output_type": "stream", 
                    "name": "stdout", 
                    "text": "Train Images:  (55000, 784)\nTrain Labels   (55000, 10)\n\nTest Images:   (10000, 784)\nTest Labels:   (10000, 10)\n"
                }
            ], 
            "source": "trainimgs = mnist.train.images\ntrainlabels = mnist.train.labels\ntestimgs = mnist.test.images\ntestlabels = mnist.test.labels \n\nntrain = trainimgs.shape[0]\nntest = testimgs.shape[0]\ndim = trainimgs.shape[1]\nnclasses = trainlabels.shape[1]\nprint (\"Train Images: \", trainimgs.shape)\nprint (\"Train Labels  \", trainlabels.shape)\nprint ()\nprint (\"Test Images:  \" , testimgs.shape)\nprint (\"Test Labels:  \", testlabels.shape)"
        }, 
        {
            "source": "### Let's get one sample, just to understand the structure of MNIST dataset \n\nThe next code snippet prints the **label vector** (one_hot format), **the class** and actual sample formatted as **image**:", 
            "cell_type": "markdown", 
            "metadata": {}
        }, 
        {
            "execution_count": 6, 
            "cell_type": "code", 
            "metadata": {}, 
            "outputs": [
                {
                    "output_type": "display_data", 
                    "data": {
                        "image/png": "[encoded data removed]", 
                        "text/plain": "<matplotlib.figure.Figure at 0x2b9bddce70b8>"
                    }, 
                    "metadata": {}
                }, 
                {
                    "output_type": "stream", 
                    "name": "stdout", 
                    "text": "Sample: 100 - Class: [6] - Label Vector: [ 0.  0.  0.  0.  0.  0.  1.  0.  0.  0.] \nSample: 101 - Class: [0] - Label Vector: [ 1.  0.  0.  0.  0.  0.  0.  0.  0.  0.] \nSample: 102 - Class: [5] - Label Vector: [ 0.  0.  0.  0.  0.  1.  0.  0.  0.  0.] \n"
                }
            ], 
            "source": "samplesIdx = [100, 101, 102]  #<-- You can change these numbers here to see other samples\n\nfrom mpl_toolkits.mplot3d import Axes3D\nfig = plt.figure()\n\nax1 = fig.add_subplot(121)\nax1.imshow(testimgs[samplesIdx[0]].reshape([28,28]), cmap='gray')\n\n\nxx, yy = np.meshgrid(np.linspace(0,28,28), np.linspace(0,28,28))\nX =  xx ; Y =  yy\nZ =  100*np.ones(X.shape)\n\nimg = testimgs[77].reshape([28,28])\nax = fig.add_subplot(122, projection='3d')\nax.set_zlim((0,200))\n\n\noffset=200\nfor i in samplesIdx:\n    img = testimgs[i].reshape([28,28]).transpose()\n    ax.contourf(X, Y, img, 200, zdir='z', offset=offset, cmap=\"gray\")\n    offset -= 100\n\n    ax.set_xticks([])\nax.set_yticks([])\nax.set_zticks([])\n\nplt.show()\n\n\nfor i in samplesIdx:\n    print (\"Sample: {0} - Class: {1} - Label Vector: {2} \".format(i, np.nonzero(testlabels[i])[0], testlabels[i]))\n\n"
        }, 
        {
            "source": "---\n### Let's Understand the parameters, inputs and outputs\n\nWe will treat the MNIST image $\\in \\mathcal{R}^{28 \\times 28}$ as $28$ sequences of a vector $\\mathbf{x} \\in \\mathcal{R}^{28}$. \n\n#### Our simple RNN consists of  \n1. One input layer which converts a $28*28$ dimensional input to an $128$ dimensional hidden layer, \n2. One intermediate recurrent neural network (LSTM) \n3. One output layer which converts an $128$ dimensional output of the LSTM to $10$ dimensional output indicating a class label. ", 
            "cell_type": "markdown", 
            "metadata": {}
        }, 
        {
            "execution_count": 7, 
            "cell_type": "code", 
            "metadata": {}, 
            "outputs": [], 
            "source": "n_input = 28 # MNIST data input (img shape: 28*28)\nn_steps = 28 # timesteps\nn_hidden = 128 # hidden layer num of features\nn_classes = 10 # MNIST total classes (0-9 digits)\n\n\nlearning_rate = 0.001\ntraining_iters = 100000\nbatch_size = 100\ndisplay_step = 10"
        }, 
        {
            "source": "#### Construct a Recurrent Neural Network", 
            "cell_type": "markdown", 
            "metadata": {}
        }, 
        {
            "source": "The input should be a Tensor of shape: [batch_size, time_steps, input_dimension], but in our case it would be (?, 28, 28)", 
            "cell_type": "markdown", 
            "metadata": {}
        }, 
        {
            "execution_count": 8, 
            "cell_type": "code", 
            "metadata": {}, 
            "outputs": [], 
            "source": "x = tf.placeholder(dtype=\"float\", shape=[None, n_steps, n_input], name=\"x\") # Current data input shape: (batch_size, n_steps, n_input) [100x28x28]\ny = tf.placeholder(dtype=\"float\", shape=[None, n_classes], name=\"y\")"
        }, 
        {
            "source": "Lets create the weight and biases for the read out layer", 
            "cell_type": "markdown", 
            "metadata": {}
        }, 
        {
            "execution_count": 9, 
            "cell_type": "code", 
            "metadata": {}, 
            "outputs": [], 
            "source": "weights = {\n    'out': tf.Variable(tf.random_normal([n_hidden, n_classes]))\n}\nbiases = {\n    'out': tf.Variable(tf.random_normal([n_classes]))\n}"
        }, 
        {
            "source": "Lets define a lstm cell with tensorflow", 
            "cell_type": "markdown", 
            "metadata": {}
        }, 
        {
            "execution_count": null, 
            "cell_type": "code", 
            "metadata": {}, 
            "outputs": [], 
            "source": "lstm_cell = tf.contrib.rnn.BasicLSTMCell(n_hidden, forget_bias=1.0)"
        }, 
        {
            "source": "__dynamic_rnn__ creates a recurrent neural network specified from __lstm_cell__:", 
            "cell_type": "markdown", 
            "metadata": {}
        }, 
        {
            "execution_count": null, 
            "cell_type": "code", 
            "metadata": {}, 
            "outputs": [], 
            "source": "outputs, states = tf.nn.dynamic_rnn(lstm_cell, inputs=x, dtype=tf.float32)"
        }, 
        {
            "source": "The output of the rnn would be a [100x28x128] matrix. we use the linear activation to map it to a [?x10 matrix]", 
            "cell_type": "markdown", 
            "metadata": {}
        }, 
        {
            "execution_count": null, 
            "cell_type": "code", 
            "metadata": {}, 
            "outputs": [], 
            "source": "output = tf.reshape(tf.split(outputs, 28, axis=1, num=None, name='split')[-1],[-1,128])\npred = tf.matmul(output, weights['out']) + biases['out']"
        }, 
        {
            "source": "__labels__ and __logits__ should be tensors of shape [100x10], lets check it out:", 
            "cell_type": "markdown", 
            "metadata": {}
        }, 
        {
            "execution_count": null, 
            "cell_type": "code", 
            "metadata": {}, 
            "outputs": [], 
            "source": "pred"
        }, 
        {
            "source": "Now, we define the cost function and optimizer:", 
            "cell_type": "markdown", 
            "metadata": {}
        }, 
        {
            "execution_count": null, 
            "cell_type": "code", 
            "metadata": {}, 
            "outputs": [], 
            "source": "cost = tf.reduce_mean(tf.nn.softmax_cross_entropy_with_logits(labels=y, logits=pred ))\noptimizer = tf.train.AdamOptimizer(learning_rate=learning_rate).minimize(cost)"
        }, 
        {
            "source": "Here we define the accuracy and evaluation methods to be used in the learning process:", 
            "cell_type": "markdown", 
            "metadata": {}
        }, 
        {
            "execution_count": null, 
            "cell_type": "code", 
            "metadata": {}, 
            "outputs": [], 
            "source": "correct_pred = tf.equal(tf.argmax(pred,1), tf.argmax(y,1))\naccuracy = tf.reduce_mean(tf.cast(correct_pred, tf.float32))"
        }, 
        {
            "source": "Just recall that we will treat the MNIST image $\\in \\mathcal{R}^{28 \\times 28}$ as $28$ sequences of a vector $\\mathbf{x} \\in \\mathcal{R}^{28}$. ", 
            "cell_type": "markdown", 
            "metadata": {}
        }, 
        {
            "execution_count": null, 
            "cell_type": "code", 
            "metadata": {}, 
            "outputs": [], 
            "source": "init = tf.global_variables_initializer()\n\nwith tf.Session() as sess:\n    sess.run(init)\n    step = 1\n    # Keep training until reach max iterations\n    while step * batch_size < training_iters:\n\n        # We will read a batch of 100 images [100 x 784] as batch_x\n        # batch_y is a matrix of [100x10]\n        batch_x, batch_y = mnist.train.next_batch(batch_size)\n        \n        # We consider each row of the image as one sequence\n        # Reshape data to get 28 seq of 28 elements, so that, batxh_x is [100x28x28]\n        batch_x = batch_x.reshape((batch_size, n_steps, n_input))\n    \n\n        # Run optimization op (backprop)\n        sess.run(optimizer, feed_dict={x: batch_x, y: batch_y})\n        \n        \n        if step % display_step == 0:\n            # Calculate batch accuracy\n            acc = sess.run(accuracy, feed_dict={x: batch_x, y: batch_y})\n            # Calculate batch loss\n            loss = sess.run(cost, feed_dict={x: batch_x, y: batch_y})\n            print(\"Iter \" + str(step*batch_size) + \", Minibatch Loss= \" + \\\n                  \"{:.6f}\".format(loss) + \", Training Accuracy= \" + \\\n                  \"{:.5f}\".format(acc))\n        step += 1\n    print(\"Optimization Finished!\")\n\n    # Calculate accuracy for 128 mnist test images\n    test_len = 128\n    test_data = mnist.test.images[:test_len].reshape((-1, n_steps, n_input))\n    test_label = mnist.test.labels[:test_len]\n    print(\"Testing Accuracy:\", \\\n        sess.run(accuracy, feed_dict={x: test_data, y: test_label}))"
        }, 
        {
            "execution_count": null, 
            "cell_type": "code", 
            "metadata": {}, 
            "outputs": [], 
            "source": "sess.close()"
        }
    ], 
    "metadata": {
        "kernelspec": {
            "display_name": "Python 3.5", 
            "name": "python3", 
            "language": "python"
        }, 
        "widgets": {
            "state": {}, 
            "version": "1.1.2"
        }, 
        "language_info": {
            "mimetype": "text/x-python", 
            "nbconvert_exporter": "python", 
            "version": "3.5.4", 
            "name": "python", 
            "file_extension": ".py", 
            "pygments_lexer": "ipython3", 
            "codemirror_mode": {
                "version": 3, 
                "name": "ipython"
            }
        }, 
        "anaconda-cloud": {}
    }, 
    "nbformat": 4
}