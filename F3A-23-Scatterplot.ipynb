{
    "nbformat_minor": 1, 
    "cells": [
        {
            "source": "# Modern Data Science \n**(Module 02: Data Visualization)**\n\n---\n- Materials in this module include resources collected from various open-source online repositories.\n- You are free to use, change and distribute this package.\n\nPrepared by and for \n**Student Members** |\n2006-2018 [TULIP Lab](http://www.tulip.org.au), Australia\n\n---\n\n\n\n# Session L: Scatter Plot\n\nIn the last lesson, you learned how to plot multiple graphs in a single figure using the `subplot` function. Given the handful of plotting functions we learned in the previous lessons and the newly learned subplotting ability we picked up in the last lesson, we have everything we need to put together a very powerful, and visually impressive, visualization called a scatterplot matrix. A [scatterplot matrix][1] is exactly what you'd think it is: a matrix of scatterplots. Where a scatterplot is useful for visualizing relationships between variables in our data, a scatterplot matrix allows us to to see the relationships between every pair of variables in our data. \n\nIn this lesson, we'll see how to pull together everything we've learned thus far, to create a simple scatterplot matrix function.\n\n[1]: http://www.r-bloggers.com/scatterplot-matrices/", 
            "cell_type": "markdown", 
            "metadata": {}
        }, 
        {
            "execution_count": null, 
            "cell_type": "code", 
            "metadata": {}, 
            "outputs": [], 
            "source": "%matplotlib inline\n\nimport matplotlib.pyplot as plt\nimport numpy as np\n\nfrom IPython.display import set_matplotlib_formats\nset_matplotlib_formats('retina')"
        }, 
        {
            "source": "## Getting the Data\n\nIn this lesson, we'll once again be using the [Iris data set][1] to test out our new visualization function. The code below is exactly the same as the code in previous lessons to download and load the data from the [UCI Machine Learning Repository][2].\n\n[1]: https://en.wikipedia.org/wiki/Iris_flower_data_set\n[2]: https://archive.ics.uci.edu/ml/datasets/Iris", 
            "cell_type": "markdown", 
            "metadata": {}
        }, 
        {
            "execution_count": null, 
            "cell_type": "code", 
            "metadata": {}, 
            "outputs": [], 
            "source": "import csv\nimport urllib\nfrom collections import namedtuple\n\n# Create a namedtuple constructor for each record in the Iris data\n#    1. sepal length in cm\n#    2. sepal width in cm\n#    3. petal length in cm\n#    4. petal width in cm\n#    5. class: \n#       -- Iris-setosa\n#       -- Iris-versicolour\n#       -- Iris-virginica\nfields = ('sepal_length', \n          'sepal_width', \n          'petal_length', \n          'petal_width', \n          'species')\nIrisRecord = namedtuple('IrisRecord', fields)\n\n# Download and read in the data from the UCI Machine Learning Repository\nresponse = urllib.request.urlopen('https://archive.ics.uci.edu/ml/machine-learning-databases/iris/iris.data')\niris_data_csv = str(response.read().strip(), encoding = 'utf-8')\n\n# Convert each record into a format that's easier to work with (i.e.,\n# wrap each record in the namedtuple that we created).\ndata = []\nfor row in csv.reader(iris_data_csv.splitlines()):\n    data.append(IrisRecord(\n        sepal_length          = float(row[0]),\n        sepal_width           = float(row[1]),\n        petal_length          = float(row[2]),\n        petal_width           = float(row[3]),\n        species               = row[4]))"
        }, 
        {
            "source": "## The `scatterplot_matrix` Function\n\nThe `scatterplot_matrix` function in the cell below, offers a very simple interface. It takes a 2D matrix of data, and an optional keyword argument `target`, which is just a boolean that specifies whether or not the matrix contains a column for the target variable. If the target parameter is `True`, which is the default value, then our function assumes that the last column in the matrix is the target variable and it will use the classes in that variable to color code the data in the matrix, otherwise, everything will be displayed in a single color.\n\nThe code on lines 16-34 should look pretty familiar to you by now. Lines 16-23, get the names of the features in our data if we used `namedtuples` to describe the data in our matrix. Line 27 gets the set of classes from our target variable, if there is one. Lines 30 and 31 create our color map dictionary. And, finally, line 34 creates the `Figure` object that we'll draw our scatterplot matrix in---it does so to specify a somewhat larger size for the matrix than the default.\n\nLines 37-58 are where the real work is done. In this bit of code, we loop through each feature in our data set, and for each feature, we loop through every feature again. This allows us to pair every feature in our data set with one another. Then on line 40, we call the `subplot` function to create the subplot for the next pair of features, and the code on lines 43-50 draw the current scatterplot. \n\nOn the diagonal, we have a case where you would be plotting one feature against itself. Since this doesn't yield any useful information, we have two choices, we can either leave that cell blank, or we could do something with it. On lines 53-58 you can see that we've chosen to display a histogram for the current feature in that cell. This allows us to see the distribution of our data set for that feature and doesn't waste a single bit of space in our matrix.\n\nAfter that, the rest of the code just cleans up each of the plots a bit, e.g., turning off x and y axis labels on the inner graphs, to make the entire visualization easier to read.", 
            "cell_type": "markdown", 
            "metadata": {}
        }, 
        {
            "execution_count": null, 
            "cell_type": "code", 
            "metadata": {}, 
            "outputs": [], 
            "source": "from itertools import cycle\nfrom collections import defaultdict\n\ndef scatterplot_matrix(m, target=True):\n    \"\"\"Takes a MxN matrix and draws a scatterplot matrix\n    \n    This function assumes that each row in the matrix is \n    organized as features first, followed by the target \n    variable unless the target parameter is set to False.\n    In that case, each row is considered to contain only\n    features of the data.\n    \n    Keyword arguments:\n    target -- if True, the last column in m is the target variable\n    \"\"\"\n    try:\n        # If each record is a namedtuple, get the list of fields;\n        # we'll use those for the x- and y-axis labels of the \n        # scatterplot matrix. If target is True, don't get the\n        # last field name.\n        features = m[0]._fields[:-1] if target else m[0]._fields \n    except:\n        features = range(len(m[0]) - 1) if target else range(len(m[0]))\n        \n    # If the matrix contains a target variables, create a list of classes\n    if target:    \n        classes = list(set(r[-1] for r in m))\n        \n    # Create a color map of species names to colors\n    color_cycler = cycle(plt.rcParams['axes.prop_cycle'])\n    cmap = defaultdict(lambda: next(color_cycler)['color'])\n        \n    # Set the size of the plot\n    fig = plt.figure(figsize=(12, 12))\n            \n    # Loop through every feature and plot it against every feature\n    for i, feature_row in enumerate(features):\n        for j, feature_col in enumerate(features):\n            # Create a new subplot\n            plt.subplot(len(features), len(features), i*len(features)+j+1)\n            \n            # Plot the scatter plot for the current pair of features\n            if i != j:\n                x = [r[j] for r in m]\n                y = [r[i] for r in m]\n                if target:\n                    c = [cmap[r[-1]] for r in m]\n                else:\n                    c = 'b'\n                plt.scatter(x, y, edgecolors='w', c=c, linewidths=0.5)\n            \n            # Plot the histogram on the diagonal\n            if target and i == j:\n                df = [[r[i] for r in m if r[-1] == cls] for cls in classes]               \n                colors = [cmap[cls] for cls in classes]\n                plt.hist(df, color=colors, histtype='barstacked')\n            elif i == j:\n                plt.hist([r[i] for r in m], color='b', histtype='barstacked')\n                                \n            # Turn off the x-axis labels for everything but the last row\n            if i < len(features) - 1:\n                plt.tick_params(labelbottom='off')\n            else:\n                plt.xlabel(feature_col)\n                \n            # Turn off the y-axis labels for everything but the last column\n            if j > 0:\n                plt.tick_params(labelleft='off')\n            else:\n                plt.ylabel(feature_row)\n            \n            # Turn off all tick marks and make the label size \n            # a bit smaller than the default\n            plt.tick_params(top='off', bottom='off', left='off', right='off', labelsize=8)"
        }, 
        {
            "source": "## Plotting the Iris Data Set\n\nSo, let's go ahead and give our `scatterplot_matrix` function a try by plotting the Iris data we read in a bit earlier in the lesson.", 
            "cell_type": "markdown", 
            "metadata": {}
        }, 
        {
            "execution_count": null, 
            "cell_type": "code", 
            "metadata": {}, 
            "outputs": [], 
            "source": "scatterplot_matrix(data)"
        }, 
        {
            "source": "Well, that looks positively fantastic, if I do say so myself, but what if we had a data set that didn't have a target attribute?\n\n## Plotting a Data Set Without a Target\n\nThe code below uses the Iris data set again, but this time, we pass in everything but the last column, and we'll set the `target` parameter to `False` so we can see how our function works when there isn't a target variable in the data set. ", 
            "cell_type": "markdown", 
            "metadata": {}
        }, 
        {
            "execution_count": null, 
            "cell_type": "code", 
            "metadata": {}, 
            "outputs": [], 
            "source": "scatterplot_matrix([r[:-1] for r in data], target=False)"
        }, 
        {
            "source": "Well, it may not be as pretty as the matrix with a target variable, but useful nonetheless.\n\n## Conclusion\n\nAnd, that's going to bring us to the end of this lesson. The important takeaway here is not understanding every bit of code in the scatterplot matrix function above. In all honesty, it's better to use a library like [Seaborn][1], for instance, to create complex visualizations like the scatterplot matrix. But, rather, it's important to see just how easy it is to put something like our matrix function together using the relatively basic, but powerful, building blocks that matplotlib provides. Hopefully, this lesson will serve as some inspiration to you whenever you run into a need for a visualization that's not available right out of the box.\n\n[1]: https://stanford.edu/~mwaskom/software/seaborn/examples/scatterplot_matrix.html", 
            "cell_type": "markdown", 
            "metadata": {}
        }
    ], 
    "metadata": {
        "kernelspec": {
            "display_name": "Python 3.5", 
            "name": "python3", 
            "language": "python"
        }, 
        "language_info": {
            "mimetype": "text/x-python", 
            "nbconvert_exporter": "python", 
            "version": "3.5.4", 
            "name": "python", 
            "file_extension": ".py", 
            "pygments_lexer": "ipython3", 
            "codemirror_mode": {
                "version": 3, 
                "name": "ipython"
            }
        }, 
        "anaconda-cloud": {}
    }, 
    "nbformat": 4
}