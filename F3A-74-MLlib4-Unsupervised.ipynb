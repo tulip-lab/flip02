{
    "nbformat_minor": 1, 
    "cells": [
        {
            "source": "# Modern Data Science \n**(Module 06: Apache Spark Platform)**\n\n---\n- Materials in this module include resources collected from various open-source online repositories.\n- You are free to use, change and distribute this package.\n\nPrepared by and for \n**Student Members** |\n2006-2018 [TULIP Lab](http://www.tulip.org.au), Australia\n\n---\n\n\n## Session H - Spark MLlib (4): Unsupervised Learning\n\n\nSpark has many libraries, namely under MLlib (Machine Learning Library)! Spark allows for quick and easy scalability of practical machine learning!\n\nIn this lab exercise, you will learn how to create two different clustering algorithms with Spark MLlib! These clustering algorithms include K-Means clustering and Gaussian Mixture Clustering. We will also look at some of the information that the functions can provide about the models.\n\n\n### Content\n\n\n\n### Part 1 [K-Means Clustering](#kmc)\n\n\n### Part 2 [Gaussian Mixture Clustering](#gmc)\n\n", 
            "cell_type": "markdown", 
            "metadata": {}
        }, 
        {
            "source": "---\n<a id = \"kmc\"></a>\n## <span style=\"color:#0b486b\">1. K-Means Clustering</span>\n\nImport the following libraries:\n<ul>\n    <li>KMeans, KMeansModel from pyspark.mllib.clustering</li>\n    <li>make_blobs from sklearn.datasets.samples_generator</li>\n    <li>array from numpy</li>\n    <li>sqrt from math</li>\n    <li>numpy as np</li>\n</ul>", 
            "cell_type": "markdown", 
            "metadata": {}
        }, 
        {
            "execution_count": null, 
            "cell_type": "code", 
            "metadata": {}, 
            "outputs": [], 
            "source": "from pyspark.mllib.clustering import KMeans, KMeansModel\nfrom sklearn.datasets.samples_generator import make_blobs\nfrom numpy import array\nfrom math import sqrt\nimport numpy as np"
        }, 
        {
            "source": "We will be generating our own data using the make_blobs class, so we will need to create a random seed to initialize a random number generator. Using numpy's random.seed() function, pass it the value <b>0</b>", 
            "cell_type": "markdown", 
            "metadata": {}
        }, 
        {
            "execution_count": null, 
            "cell_type": "code", 
            "metadata": {}, 
            "outputs": [], 
            "source": "np.random.seed(0)"
        }, 
        {
            "source": "Next, we will create the dataset. Using the make_blobs function will output two <b>numpy.ndarray</b> values, which we will store as <b>X</b> and <b>y</b>. The <b>make_blobs</b> function accepts three inputs:\n<ul>\n    <li>1st: <b>n_samples</b>: The number of samples you want to generate. (We will use 6500 samples)</li>\n    <li>2nd: <b>centers</b>: A list of lists containing the centers that we want the clusters to center around. The centers look like: [x_value, y_value]. (We will be creating three centers at the following coordinates: [1,2], [3,-1], and [-4,-2])</li>\n    <li>3rd: <b>cluster_std</b>: The standard deviation of the clusters, which determines how spread out the clusters are. (We will use 1.1)</li>\n</ul>", 
            "cell_type": "markdown", 
            "metadata": {}
        }, 
        {
            "execution_count": null, 
            "cell_type": "code", 
            "metadata": {}, 
            "outputs": [], 
            "source": "X, y = make_blobs(n_samples=6500, centers=[[1, 2], [3, -1], [-4, -2]], cluster_std=1.1) "
        }, 
        {
            "source": "So the first ndarray, <b>X</b> contains the actual samples themselves and the second ndarray, <b>y</b> contains the labels for the samples. We will be using <b>X</b> as the data to train the KMeans model. This means we will need to convert the data from a <b>ndarray</b> to a <b>RDD</b>. Do this using <b>sc.parallelize</b> and passing in <b>X</b>, calling the output <b>kmeans_data</b>.", 
            "cell_type": "markdown", 
            "metadata": {}
        }, 
        {
            "execution_count": null, 
            "cell_type": "code", 
            "metadata": {}, 
            "outputs": [], 
            "source": "kmeans_data = sc.parallelize(X)"
        }, 
        {
            "source": "Now we will create the KMeans model called <b>kmeans_model</b> using <b>KMeans.train</b> and passing in the following parameters:\n<ul>\n    <li>1st: The data (use kmeans_data)</li>\n    <li>2nd: The number of desired clusters (use 3)</li>\n    <li>3rd: The max number of iterations (use maxIterations=10)</li>\n    <li>4th: The number of runs (use runs=10)</li>\n    <li>5th: The initialization mode (use initializationMode=\"k-means||\")</li>\n    <li>6th: The initialization steps (use initializationSteps=5)</li>\n    <li>7th: The value for epsilon (use epsilon=0.003)</li>\n    <li>8th: The initial model (use initialModel=None)</li>\n</ul> <br>\nNote: You may get a deprecation warning, please ignore it.", 
            "cell_type": "markdown", 
            "metadata": {}
        }, 
        {
            "execution_count": null, 
            "cell_type": "code", 
            "metadata": {}, 
            "outputs": [], 
            "source": "kmeans_model = KMeans.train(kmeans_data, 3, maxIterations=10, runs=10, initializationMode=\"k-means||\", \n                        initializationSteps=5, epsilon=0.003, initialModel=None)"
        }, 
        {
            "source": "Now we will define a function that will evaluate the clustering by computing the Within Set Sum of Squared Error. <br><br>\n\nWithin Set Sum of Squared errors will find take the difference between all of the points to its cluster, square each difference, sum all of those results together, then square root it. You can see that in the function below.", 
            "cell_type": "markdown", 
            "metadata": {}
        }, 
        {
            "execution_count": null, 
            "cell_type": "code", 
            "metadata": {}, 
            "outputs": [], 
            "source": "def error(model, point):\n    center = model.centers[model.predict(point)]\n    return sqrt(sum([x**2 for x in (point - center)]))"
        }, 
        {
            "source": "Now we need to take the data (<b>kmeans_data</b>) and map it to the error function (<b>.map(lambda p: error(p))</b>). After, we add up the result of each cluster together using a .reduce function (<b>.reduce(lambda x, y: x + y)</b>). The Within Set Sum of Squared Error result will be stored in a variable called <b>WSSSE</b>.<br> <br>\n\nThen you can print out the <b>WSSSE</b>.", 
            "cell_type": "markdown", 
            "metadata": {}
        }, 
        {
            "execution_count": null, 
            "cell_type": "code", 
            "metadata": {
                "scrolled": true
            }, 
            "outputs": [], 
            "source": "WSSSE = kmeans_data.map(lambda p: error(kmeans_model, p)).reduce(lambda x, y: x + y)\nprint(\"Within Set Sum of Squared Error = \" + str(WSSSE))"
        }, 
        {
            "source": "Now that we have built the K-Means model, let's look at some of the functions that it comes with.", 
            "cell_type": "markdown", 
            "metadata": {}
        }, 
        {
            "source": "Starting off, let's take a look at the number of clusters in the model. This can be done by calling <b>.k</b> on <b>kmeans_model</b>.", 
            "cell_type": "markdown", 
            "metadata": {}
        }, 
        {
            "execution_count": null, 
            "cell_type": "code", 
            "metadata": {}, 
            "outputs": [], 
            "source": "kmeans_model.k"
        }, 
        {
            "source": "We get 3 clusters, which is expected since that's how many clusters we initialized when training the model.", 
            "cell_type": "markdown", 
            "metadata": {}
        }, 
        {
            "source": "Now, we can take a look at the coordinates of where the cluster centers actually are. Call <b>.clusterCenters</b> on <b>kmeans_model</b>.", 
            "cell_type": "markdown", 
            "metadata": {}
        }, 
        {
            "execution_count": null, 
            "cell_type": "code", 
            "metadata": {}, 
            "outputs": [], 
            "source": "kmeans_model.clusterCenters"
        }, 
        {
            "source": "So here, we get a list of 3 arrays, each containing the x and y coordinates of each cluster center!", 
            "cell_type": "markdown", 
            "metadata": {}
        }, 
        {
            "source": "Now we will try predicting one of the points from the dataset we created, <b>X</b>. First, let's check the <b>shape</b> of </b>X</b> with .shape. The shape should be (6500, 2), or 6500 data points, each with a x and y value.", 
            "cell_type": "markdown", 
            "metadata": {}
        }, 
        {
            "execution_count": null, 
            "cell_type": "code", 
            "metadata": {}, 
            "outputs": [], 
            "source": "X.shape"
        }, 
        {
            "source": "Now take we will use <b>.predict</b> to predict one of the data points from <b>X</b>, so we can see what cluster that point belongs to. We can index <b>X</b> to get a single data point (ex. X[7]). So try something like <b>kmeans_model.predict(X[7])</b> ", 
            "cell_type": "markdown", 
            "metadata": {}
        }, 
        {
            "execution_count": null, 
            "cell_type": "code", 
            "metadata": {}, 
            "outputs": [], 
            "source": "kmeans_model.predict(X[7])"
        }, 
        {
            "source": "Look back at the make_blobs function we used. There are two inputs, which are <b>X</b> that has the coordinates of each data point and <b>y</b> that has the label for each data point. The label is the cluster where the data point was generated from! So knowing this, we can see if the model clustered the data point under the same cluster as it was made from. <br>\nWe can run <b>kmeans_model.predict(X[7]) == y[7]</b>.", 
            "cell_type": "markdown", 
            "metadata": {}
        }, 
        {
            "execution_count": null, 
            "cell_type": "code", 
            "metadata": {}, 
            "outputs": [], 
            "source": "kmeans_model.predict(X[7]) == y[7]"
        }, 
        {
            "source": "Let's print out the coordinates of the data point (ex. <b>print(X[7])</b>)", 
            "cell_type": "markdown", 
            "metadata": {}
        }, 
        {
            "execution_count": null, 
            "cell_type": "code", 
            "metadata": {
                "scrolled": true
            }, 
            "outputs": [], 
            "source": "print(X[7])"
        }, 
        {
            "source": "Now we have the <b>x</b> and <b>y</b> coordinates of the data points. Since k-means uses euclidean distance, you can check the coordinates of this point with each cluster center to make sure it is correct if you are curious! <br> <br>", 
            "cell_type": "markdown", 
            "metadata": {}
        }, 
        {
            "source": "Also note that you can insert a list containing a x distance and y distance and the model will determine which cluster that data point belongs to. <br>(ex. kmeans_model.predict([5, 2]))", 
            "cell_type": "markdown", 
            "metadata": {}
        }, 
        {
            "execution_count": null, 
            "cell_type": "code", 
            "metadata": {}, 
            "outputs": [], 
            "source": "kmeans_model.predict([5, 2])"
        }, 
        {
            "source": "Finally, let's see the computation cost of the entire kmeans_data dataset by calling <b>.computeCost</b> on <b>kmeans_model</b>, passing in <b>kmeans_data</b>", 
            "cell_type": "markdown", 
            "metadata": {}
        }, 
        {
            "execution_count": null, 
            "cell_type": "code", 
            "metadata": {}, 
            "outputs": [], 
            "source": "kmeans_model.computeCost(kmeans_data)"
        }, 
        {
            "source": "---\n<a id = \"gmc\"></a>\n## <span style=\"color:#0b486b\">2. Gaussian Mixture Clustering</span>\n\nWe will now move into creating a Gaussian Mixture Clustering Model and looking at its functions as well.\n\nImport the following libraries:\n<ul>\n    <li>GaussianMixture from pyspark.mllib.clustering</li>\n    <li>array from numpy</li>\n</ul>", 
            "cell_type": "markdown", 
            "metadata": {}
        }, 
        {
            "execution_count": null, 
            "cell_type": "code", 
            "metadata": {
                "scrolled": true
            }, 
            "outputs": [], 
            "source": "from pyspark.mllib.clustering import GaussianMixture\nfrom numpy import array"
        }, 
        {
            "source": "For the dataset, we will be creating a small dataset, as it will be easier to visually see the predictions of each point. <br><br>\n\nFirst, we will create a numpy array called <b>data</b>, which will contain the data. We can create a <b>numpy array</b> by passing in a <b>list</b>. The list will contain the following values: <b>4,5, -3,1, 9,5, 1,-2, 7,2, -10,-3, 4,7</b>. Outside of <b>array()</b>, we will use <b>.reshape(7, 2)</b> which will give us 7 data points, where the list values correspond to the x and y coordinates. <br>(ex. for 1 data point: array([1,2]).reshape(1, 2))", 
            "cell_type": "markdown", 
            "metadata": {}
        }, 
        {
            "execution_count": null, 
            "cell_type": "code", 
            "metadata": {
                "scrolled": false
            }, 
            "outputs": [], 
            "source": "data = array([4,5, -3,1, 9,5, 1,-2, 7,2, -10,-3, 4,7]).reshape(7, 2)"
        }, 
        {
            "source": "In order to train our model, we need to turn the data into a RDD. We can run SparkContext's <b>.parallelize</b>, passing in the <b>numpy array</b> or <b>data</b> as input. Call the output <b>gm_data</b>.", 
            "cell_type": "markdown", 
            "metadata": {}
        }, 
        {
            "execution_count": null, 
            "cell_type": "code", 
            "metadata": {}, 
            "outputs": [], 
            "source": "gm_data = sc.parallelize(data)"
        }, 
        {
            "source": "Now we can train the Gaussian Mixture Model called <b>gm_model</b>, using <b>GaussianMixture.train</b>, passing in the following parameters:\n<ul>\n    <li>1st: The training data (use gm_data)</li>\n    <li>2nd: The number of desired clusters (used 3)</li>\n    <li>3rd: convergenceTol (use convergenceTol=0.0006)</li>\n    <li>4th: maxIterations (use maxIterations=50)</li>\n    <li>5th: initialModel (use initialModel=None)</li>\n</ul>", 
            "cell_type": "markdown", 
            "metadata": {}
        }, 
        {
            "execution_count": null, 
            "cell_type": "code", 
            "metadata": {}, 
            "outputs": [], 
            "source": "gm_model = GaussianMixture.train(gm_data, 3, convergenceTol=0.0006, maxIterations=50, initialModel=None)"
        }, 
        {
            "source": "Now that we have built the Gaussian Mixture Model, let's try out some functions on it!", 
            "cell_type": "markdown", 
            "metadata": {}
        }, 
        {
            "source": "Let's start off by seeing how much clusters it has, with <b>.k</b> on <b>gm_model</b>", 
            "cell_type": "markdown", 
            "metadata": {}
        }, 
        {
            "execution_count": null, 
            "cell_type": "code", 
            "metadata": {}, 
            "outputs": [], 
            "source": "gm_model.k"
        }, 
        {
            "source": "There should be 3 clusters as the output, which is the value we used to train the model.", 
            "cell_type": "markdown", 
            "metadata": {}
        }, 
        {
            "source": "Now let's take a look at what each Gaussian looks like with <b>gm_model.gaussians</b>", 
            "cell_type": "markdown", 
            "metadata": {}
        }, 
        {
            "execution_count": null, 
            "cell_type": "code", 
            "metadata": {}, 
            "outputs": [], 
            "source": "gm_model.gaussians"
        }, 
        {
            "source": "With this output, you can get a feel for the size of each of these gaussians by looking at the <b>mean (mu)</b> and the <b>standard deviation (sigma)</b>.", 
            "cell_type": "markdown", 
            "metadata": {}
        }, 
        {
            "source": "We can also look at the <b>weight</b> of each gaussian in the mixture in order to see which gaussians make up most of the mixture. Run <b> gm_model.weights</b>", 
            "cell_type": "markdown", 
            "metadata": {}
        }, 
        {
            "execution_count": null, 
            "cell_type": "code", 
            "metadata": {}, 
            "outputs": [], 
            "source": "gm_model.weights"
        }, 
        {
            "source": "Now it's time to use <b>.predict</b> to see what each of the data points that were used to train the model are classified as. Use <b>gm_data</b> as input into <b>.predict</b>. Outside of .predict, add on <b>.collect()</b> so we can see the output in list form.", 
            "cell_type": "markdown", 
            "metadata": {}
        }, 
        {
            "execution_count": null, 
            "cell_type": "code", 
            "metadata": {}, 
            "outputs": [], 
            "source": "gm_model.predict(gm_data).collect()"
        }, 
        {
            "source": "Now let's try using <b>.predictSoft</b> on <b>gm_data</b> and see what that output looks like. Remember that predictSoft provides each gaussians membership to each datapoint, showing which gaussian has the most precedence. Don't forget a <b>.collect()</b> afterwards to display the output.", 
            "cell_type": "markdown", 
            "metadata": {}
        }, 
        {
            "execution_count": null, 
            "cell_type": "code", 
            "metadata": {}, 
            "outputs": [], 
            "source": "gm_model.predictSoft(gm_data).collect()"
        }, 
        {
            "source": "Search for the highest value in each data points and see if that aligns with the output from <b>.predict</b>, which it should. .predictSoft provides more information on the values associated with .predict.", 
            "cell_type": "markdown", 
            "metadata": {}
        }
    ], 
    "metadata": {
        "kernelspec": {
            "display_name": "Python 3.5", 
            "name": "python3", 
            "language": "python"
        }, 
        "widgets": {
            "state": {}, 
            "version": "1.1.2"
        }, 
        "language_info": {
            "mimetype": "text/x-python", 
            "nbconvert_exporter": "python", 
            "version": "3.5.4", 
            "name": "python", 
            "file_extension": ".py", 
            "pygments_lexer": "ipython3", 
            "codemirror_mode": {
                "version": 3, 
                "name": "ipython"
            }
        }, 
        "anaconda-cloud": {}
    }, 
    "nbformat": 4
}