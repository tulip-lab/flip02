{
    "nbformat_minor": 2, 
    "cells": [
        {
            "source": "# \u5377\u79ef\u795e\u7ecf\u7f51\u7edc --- \u4ece0\u5f00\u59cb\n\n\u4e4b\u524d\u7684\u6559\u7a0b\u91cc\uff0c\u5728\u8f93\u5165\u795e\u7ecf\u7f51\u7edc\u524d\u6211\u4eec\u5c06\u8f93\u5165\u56fe\u7247\u76f4\u63a5\u8f6c\u6210\u4e86\u5411\u91cf\u3002\u8fd9\u6837\u505a\u6709\u4e24\u4e2a\u4e0d\u597d\u7684\u5730\u65b9\uff1a\n\n- \u5728\u56fe\u7247\u91cc\u76f8\u8fd1\u7684\u50cf\u7d20\u5728\u5411\u91cf\u8868\u793a\u91cc\u53ef\u80fd\u5f88\u8fdc\uff0c\u4ece\u800c\u6a21\u578b\u5f88\u96be\u6355\u83b7\u4ed6\u4eec\u7684\u7a7a\u95f4\u5173\u7cfb\u3002\n- \u5bf9\u4e8e\u5927\u56fe\u7247\u8f93\u5165\uff0c\u6a21\u578b\u53ef\u80fd\u4f1a\u5f88\u5927\u3002\u4f8b\u5982\u8f93\u5165\u662f$256\\times 256\\times3$\u7684\u7167\u7247\uff08\u4ecd\u7136\u8fdc\u6bd4\u624b\u673a\u62cd\u7684\u5c0f\uff09\uff0c\u8f93\u51fa\u5c42\u662f1000\uff0c\u90a3\u4e48\u8fd9\u4e00\u5c42\u7684\u6a21\u578b\u5927\u5c0f\u662f\u5c06\u8fd11GB.\n\n\u8fd9\u4e00\u8282\u6211\u4eec\u4ecb\u7ecd\u5377\u79ef\u795e\u7ecf\u7f51\u7edc\uff0c\u5176\u6709\u6548\u4e86\u89e3\u51b3\u4e86\u4e0a\u8ff0\u4e24\u4e2a\u95ee\u9898\u3002\n\n## \u5377\u79ef\u795e\u7ecf\u7f51\u7edc\n\n\u5377\u79ef\u795e\u7ecf\u7f51\u7edc\u662f\u6307\u4e3b\u8981\u7531\u5377\u79ef\u5c42\u6784\u6210\u7684\u795e\u7ecf\u7f51\u7edc\u3002\n\n### \u5377\u79ef\u5c42\n\n\u5377\u79ef\u5c42\u8ddf\u524d\u9762\u7684\u5168\u8fde\u63a5\u5c42\u7c7b\u4f3c\uff0c\u4f46\u8f93\u5165\u548c\u6743\u91cd\u4e0d\u662f\u505a\u7b80\u5355\u7684\u77e9\u9635\u4e58\u6cd5\uff0c\u800c\u662f\u4f7f\u7528\u6bcf\u6b21\u4f5c\u7528\u5728\u4e00\u4e2a\u7a97\u53e3\u4e0a\u7684\u5377\u79ef\u3002\u4e0b\u56fe\u6f14\u793a\u4e86\u8f93\u5165\u662f\u4e00\u4e2a$4\\times 4$\u77e9\u9635\uff0c\u4f7f\u7528\u4e00\u4e2a$3\\times 3$\u7684\u6743\u91cd\uff0c\u8ba1\u7b97\u5f97\u5230$2\\times 2$\u7ed3\u679c\u7684\u8fc7\u7a0b\u3002\u6bcf\u6b21\u6211\u4eec\u91c7\u6837\u4e00\u4e2a\u8ddf\u6743\u91cd\u4e00\u6837\u5927\u5c0f\u7684\u7a97\u53e3\uff0c\u8ba9\u5b83\u8ddf\u6743\u91cd\u505a\u6309\u5143\u7d20\u7684\u4e58\u6cd5\u7136\u540e\u76f8\u52a0\u3002\u901a\u5e38\u6211\u4eec\u4e5f\u662f\u7528\u5377\u79ef\u7684\u672f\u8bed\u628a\u8fd9\u4e2a\u6743\u91cd\u53ebkernel\u6216\u8005filter\u3002\n\n![](https://github.com/mli/gluon-tutorials-zh/raw/master/img/no_padding_no_strides.gif)\n\n\uff08\u56fe\u7247\u7248\u6743\u5c5e\u4e8evdumoulin@github\uff09\n\n\u6211\u4eec\u4f7f\u7528`nd.Convolution`\u6765\u6f14\u793a\u8fd9\u4e2a\u3002", 
            "cell_type": "markdown", 
            "metadata": {}
        }, 
        {
            "execution_count": null, 
            "cell_type": "code", 
            "metadata": {
                "attributes": {
                    "classes": [], 
                    "id": "", 
                    "n": "47"
                }
            }, 
            "outputs": [], 
            "source": "from mxnet import nd\n\n# \u8f93\u5165\u8f93\u51fa\u6570\u636e\u683c\u5f0f\u662f batch x channel x height x width\uff0c\u8fd9\u91ccbatch\u548cchannel\u90fd\u662f1\n# \u6743\u91cd\u683c\u5f0f\u662f output_channels x in_channels x height x width\uff0c\u8fd9\u91ccinput_filter\u548coutput_filter\u90fd\u662f1\u3002\nw = nd.arange(4).reshape((1,1,2,2))\nb = nd.array([1])\ndata = nd.arange(9).reshape((1,1,3,3))\nout = nd.Convolution(data, w, b, kernel=w.shape[2:], num_filter=w.shape[1])\n\nprint('input:', data, '\\n\\nweight:', w, '\\n\\nbias:', b, '\\n\\noutput:', out)"
        }, 
        {
            "source": "\u6211\u4eec\u53ef\u4ee5\u63a7\u5236\u5982\u4f55\u79fb\u52a8\u7a97\u53e3\uff0c\u548c\u5728\u8fb9\u7f18\u7684\u65f6\u5019\u5982\u4f55\u586b\u5145\u7a97\u53e3\u3002\u4e0b\u56fe\u6f14\u793a\u4e86`stride=2`\u548c`pad=1`\u3002\n\n![](https://github.com/mli/gluon-tutorials-zh/raw/master/img/padding_strides.gif)", 
            "cell_type": "markdown", 
            "metadata": {}
        }, 
        {
            "execution_count": null, 
            "cell_type": "code", 
            "metadata": {
                "attributes": {
                    "classes": [], 
                    "id": "", 
                    "n": "48"
                }
            }, 
            "outputs": [], 
            "source": "out = nd.Convolution(data, w, b, kernel=w.shape[2:], num_filter=w.shape[1],\n                     stride=(2,2), pad=(1,1))\n\nprint('input:', data, '\\n\\nweight:', w, '\\n\\nbias:', b, '\\n\\noutput:', out)"
        }, 
        {
            "source": "\u5f53\u8f93\u5165\u6570\u636e\u6709\u591a\u4e2a\u901a\u9053\u7684\u65f6\u5019\uff0c\u6bcf\u4e2a\u901a\u9053\u4f1a\u6709\u5bf9\u5e94\u7684\u6743\u91cd\uff0c\u7136\u540e\u4f1a\u5bf9\u6bcf\u4e2a\u901a\u9053\u505a\u5377\u79ef\u4e4b\u540e\u5728\u901a\u9053\u4e4b\u95f4\u6c42\u548c\n\n$$conv(data, w, b) = \\sum_i conv(data[:,i,:,:], w[:,i,:,:], b)$$", 
            "cell_type": "markdown", 
            "metadata": {}
        }, 
        {
            "execution_count": null, 
            "cell_type": "code", 
            "metadata": {
                "attributes": {
                    "classes": [], 
                    "id": "", 
                    "n": "49"
                }
            }, 
            "outputs": [], 
            "source": "w = nd.arange(8).reshape((1,2,2,2))\ndata = nd.arange(18).reshape((1,2,3,3))\n\nout = nd.Convolution(data, w, b, kernel=w.shape[2:], num_filter=w.shape[0])\n\nprint('input:', data, '\\n\\nweight:', w, '\\n\\nbias:', b, '\\n\\noutput:', out)"
        }, 
        {
            "source": "\u5f53\u8f93\u51fa\u9700\u8981\u591a\u901a\u9053\u65f6\uff0c\u6bcf\u4e2a\u8f93\u51fa\u901a\u9053\u6709\u5bf9\u5e94\u6743\u91cd\uff0c\u7136\u540e\u6bcf\u4e2a\u901a\u9053\u4e0a\u505a\u5377\u79ef\u3002\n\n$$conv(data, w, b)[:,i,:,:] = conv(data, w[i,:,:,:], b[i])$$", 
            "cell_type": "markdown", 
            "metadata": {}
        }, 
        {
            "execution_count": null, 
            "cell_type": "code", 
            "metadata": {
                "attributes": {
                    "classes": [], 
                    "id": "", 
                    "n": "50"
                }
            }, 
            "outputs": [], 
            "source": "w = nd.arange(16).reshape((2,2,2,2))\ndata = nd.arange(18).reshape((1,2,3,3))\nb = nd.array([1,2])\n\nout = nd.Convolution(data, w, b, kernel=w.shape[2:], num_filter=w.shape[0])\n\nprint('input:', data, '\\n\\nweight:', w, '\\n\\nbias:', b, '\\n\\noutput:', out)"
        }, 
        {
            "source": "### \u6c60\u5316\u5c42\uff08pooling\uff09\n\n\u56e0\u4e3a\u5377\u79ef\u5c42\u6bcf\u6b21\u4f5c\u7528\u5728\u4e00\u4e2a\u7a97\u53e3\uff0c\u5b83\u5bf9\u4f4d\u7f6e\u5f88\u654f\u611f\u3002\u6c60\u5316\u5c42\u80fd\u591f\u5f88\u597d\u7684\u7f13\u89e3\u8fd9\u4e2a\u95ee\u9898\u3002\u5b83\u8ddf\u5377\u79ef\u7c7b\u4f3c\u6bcf\u6b21\u770b\u4e00\u4e2a\u5c0f\u7a97\u53e3\uff0c\u7136\u540e\u9009\u51fa\u7a97\u53e3\u91cc\u9762\u6700\u5927\u7684\u5143\u7d20\uff0c\u6216\u8005\u5e73\u5747\u5143\u7d20\u4f5c\u4e3a\u8f93\u51fa\u3002", 
            "cell_type": "markdown", 
            "metadata": {}
        }, 
        {
            "execution_count": null, 
            "cell_type": "code", 
            "metadata": {
                "attributes": {
                    "classes": [], 
                    "id": "", 
                    "n": "53"
                }
            }, 
            "outputs": [], 
            "source": "data = nd.arange(18).reshape((1,2,3,3))\n\nmax_pool = nd.Pooling(data=data, pool_type=\"max\", kernel=(2,2))\navg_pool = nd.Pooling(data=data, pool_type=\"avg\", kernel=(2,2))\n\nprint('data:', data, '\\n\\nmax pooling:', max_pool, '\\n\\navg pooling:', avg_pool)"
        }, 
        {
            "source": "\u4e0b\u9762\u6211\u4eec\u53ef\u4ee5\u5f00\u59cb\u4f7f\u7528\u8fd9\u4e9b\u5c42\u6784\u5efa\u6a21\u578b\u4e86\u3002\n\n\n## \u83b7\u53d6\u6570\u636e\n\n\u6211\u4eec\u7ee7\u7eed\u4f7f\u7528FashionMNIST\uff08\u5e0c\u671b\u4f60\u8fd8\u6ca1\u6709\u5f7b\u5e95\u538c\u70e6\u8fd9\u4e2a\u6570\u636e\uff09", 
            "cell_type": "markdown", 
            "metadata": {}
        }, 
        {
            "execution_count": null, 
            "cell_type": "code", 
            "metadata": {
                "attributes": {
                    "classes": [], 
                    "id": "", 
                    "n": "22"
                }
            }, 
            "outputs": [], 
            "source": "import sys\nsys.path.append('..')\nfrom utils import load_data_fashion_mnist\n\nbatch_size = 256\ntrain_data, test_data = load_data_fashion_mnist(batch_size)"
        }, 
        {
            "source": "## \u5b9a\u4e49\u6a21\u578b\n\n\u56e0\u4e3a\u5377\u79ef\u7f51\u7edc\u8ba1\u7b97\u6bd4\u5168\u8fde\u63a5\u8981\u590d\u6742\uff0c\u8fd9\u91cc\u6211\u4eec\u9ed8\u8ba4\u4f7f\u7528GPU\u6765\u8ba1\u7b97\u3002\u5982\u679cGPU\u4e0d\u80fd\u7528\uff0c\u9ed8\u8ba4\u4f7f\u7528CPU\u3002\uff08\u4e0b\u9762\u8fd9\u6bb5\u4ee3\u7801\u4f1a\u4fdd\u5b58\u5728`utils.py`\u91cc\u53ef\u4ee5\u4e0b\u6b21\u91cd\u590d\u4f7f\u7528\uff09\u3002", 
            "cell_type": "markdown", 
            "metadata": {}
        }, 
        {
            "execution_count": null, 
            "cell_type": "code", 
            "metadata": {
                "attributes": {
                    "classes": [], 
                    "id": "", 
                    "n": "65"
                }
            }, 
            "outputs": [], 
            "source": "import mxnet as mx\n\ntry:\n    ctx = mx.gpu()\n    _ = nd.zeros((1,), ctx=ctx)\nexcept:\n    ctx = mx.cpu()\nctx"
        }, 
        {
            "source": "\u6211\u4eec\u4f7f\u7528MNIST\u5e38\u7528\u7684LeNet\uff0c\u5b83\u6709\u4e24\u4e2a\u5377\u79ef\u5c42\uff0c\u4e4b\u540e\u662f\u4e24\u4e2a\u5168\u8fde\u63a5\u5c42\u3002\u6ce8\u610f\u5230\u6211\u4eec\u5c06\u6743\u91cd\u5168\u90e8\u521b\u5efa\u5728`ctx`\u4e0a\uff1a", 
            "cell_type": "markdown", 
            "metadata": {}
        }, 
        {
            "execution_count": null, 
            "cell_type": "code", 
            "metadata": {
                "attributes": {
                    "classes": [], 
                    "id": "", 
                    "n": "66"
                }
            }, 
            "outputs": [], 
            "source": "weight_scale = .01\n\n# output channels = 20, kernel = (5,5)\nW1 = nd.random_normal(shape=(20,1,5,5), scale=weight_scale, ctx=ctx)\nb1 = nd.zeros(W1.shape[0], ctx=ctx)\n\n# output channels = 50, kernel = (3,3)\nW2 = nd.random_normal(shape=(50,20,3,3), scale=weight_scale, ctx=ctx)\nb2 = nd.zeros(W2.shape[0], ctx=ctx)\n\n# output dim = 128\nW3 = nd.random_normal(shape=(1250, 128), scale=weight_scale, ctx=ctx)\nb3 = nd.zeros(W3.shape[1], ctx=ctx)\n\n# output dim = 10\nW4 = nd.random_normal(shape=(W3.shape[1], 10), scale=weight_scale, ctx=ctx)\nb4 = nd.zeros(W4.shape[1], ctx=ctx)\n\nparams = [W1, b1, W2, b2, W3, b3, W4, b4]\nfor param in params:\n    param.attach_grad()"
        }, 
        {
            "source": "\u5377\u79ef\u6a21\u5757\u901a\u5e38\u662f\u201c\u5377\u79ef\u5c42-\u6fc0\u6d3b\u5c42-\u6c60\u5316\u5c42\u201d\u3002\u7136\u540e\u8f6c\u62102D\u77e9\u9635\u8f93\u51fa\u7ed9\u540e\u9762\u7684\u5168\u8fde\u63a5\u5c42\u3002", 
            "cell_type": "markdown", 
            "metadata": {}
        }, 
        {
            "execution_count": null, 
            "cell_type": "code", 
            "metadata": {
                "attributes": {
                    "classes": [], 
                    "id": "", 
                    "n": "74"
                }
            }, 
            "outputs": [], 
            "source": "def net(X, verbose=False):\n    X = X.as_in_context(W1.context)\n    # \u7b2c\u4e00\u5c42\u5377\u79ef\n    h1_conv = nd.Convolution(\n        data=X, weight=W1, bias=b1, kernel=W1.shape[2:], num_filter=W1.shape[0])\n    h1_activation = nd.relu(h1_conv)\n    h1 = nd.Pooling(\n        data=h1_activation, pool_type=\"max\", kernel=(2,2), stride=(2,2))\n    # \u7b2c\u4e8c\u5c42\u5377\u79ef\n    h2_conv = nd.Convolution(\n        data=h1, weight=W2, bias=b2, kernel=W2.shape[2:], num_filter=W2.shape[0])\n    h2_activation = nd.relu(h2_conv)\n    h2 = nd.Pooling(data=h2_activation, pool_type=\"max\", kernel=(2,2), stride=(2,2))\n    h2 = nd.flatten(h2)\n    # \u7b2c\u4e00\u5c42\u5168\u8fde\u63a5\n    h3_linear = nd.dot(h2, W3) + b3\n    h3 = nd.relu(h3_linear)\n    # \u7b2c\u4e8c\u5c42\u5168\u8fde\u63a5\n    h4_linear = nd.dot(h3, W4) + b4\n    if verbose:\n        print('1st conv block:', h1.shape)\n        print('2nd conv block:', h2.shape)\n        print('1st dense:', h3.shape)\n        print('2nd dense:', h4_linear.shape)\n        print('output:', h4_linear)\n    return h4_linear"
        }, 
        {
            "source": "\u6d4b\u8bd5\u4e00\u4e0b\uff0c\u8f93\u51fa\u4e2d\u95f4\u7ed3\u679c\u5f62\u72b6\uff08\u5f53\u7136\u53ef\u4ee5\u76f4\u63a5\u6253\u5370\u7ed3\u679c)\u548c\u6700\u7ec8\u7ed3\u679c\u3002", 
            "cell_type": "markdown", 
            "metadata": {}
        }, 
        {
            "execution_count": null, 
            "cell_type": "code", 
            "metadata": {
                "attributes": {
                    "classes": [], 
                    "id": "", 
                    "n": "76"
                }
            }, 
            "outputs": [], 
            "source": "for data, _ in train_data:\n    net(data, verbose=True)\n    break"
        }, 
        {
            "source": "## \u8bad\u7ec3\n\n\u8ddf\u524d\u9762\u6ca1\u6709\u4ec0\u4e48\u4e0d\u540c\u7684\uff0c\u9664\u4e86\u8fd9\u91cc\u6211\u4eec\u4f7f\u7528`as_in_context`\u5c06`data`\u548c`label`\u90fd\u653e\u7f6e\u5728\u9700\u8981\u7684\u8bbe\u5907\u4e0a\u3002\uff08\u4e0b\u9762\u8fd9\u6bb5\u4ee3\u7801\u4e5f\u5c06\u4fdd\u5b58\u5728`utils.py`\u91cc\u65b9\u4fbf\u4e4b\u540e\u4f7f\u7528\uff09\u3002", 
            "cell_type": "markdown", 
            "metadata": {}
        }, 
        {
            "execution_count": null, 
            "cell_type": "code", 
            "metadata": {
                "attributes": {
                    "classes": [], 
                    "id": "", 
                    "n": "60"
                }
            }, 
            "outputs": [], 
            "source": "from mxnet import autograd as autograd\nfrom utils import SGD, accuracy, evaluate_accuracy\nfrom mxnet import gluon\n\nsoftmax_cross_entropy = gluon.loss.SoftmaxCrossEntropyLoss()\n\nlearning_rate = .2\n\nfor epoch in range(5):\n    train_loss = 0.\n    train_acc = 0.\n    for data, label in train_data:\n        label = label.as_in_context(ctx)\n        with autograd.record():\n            output = net(data)\n            loss = softmax_cross_entropy(output, label)\n        loss.backward()\n        SGD(params, learning_rate/batch_size)\n\n        train_loss += nd.mean(loss).asscalar()\n        train_acc += accuracy(output, label)\n\n    test_acc = evaluate_accuracy(test_data, net, ctx)\n    print(\"Epoch %d. Loss: %f, Train acc %f, Test acc %f\" % (\n        epoch, train_loss/len(train_data),\n        train_acc/len(train_data), test_acc))"
        }, 
        {
            "source": "## \u7ed3\u8bba\n\n\u53ef\u4ee5\u770b\u5230\u5377\u79ef\u795e\u7ecf\u7f51\u7edc\u6bd4\u524d\u9762\u7684\u591a\u5c42\u611f\u77e5\u7684\u5206\u7c7b\u7cbe\u5ea6\u66f4\u597d\u3002\u4e8b\u5b9e\u4e0a\uff0c\u5982\u679c\u4f60\u770b\u61c2\u4e86\u8fd9\u4e00\u7ae0\uff0c\u90a3\u4f60\u57fa\u672c\u77e5\u9053\u4e86\u8ba1\u7b97\u89c6\u89c9\u91cc\u6700\u91cd\u8981\u7684\u51e0\u4e2a\u60f3\u6cd5\u3002LeNet\u65e9\u572890\u5e74\u4ee3\u5c31\u63d0\u51fa\u6765\u4e86\u3002\u4e0d\u7ba1\u4f60\u76f8\u4fe1\u4e0d\u76f8\u4fe1\uff0c\u5982\u679c\u4f605\u5e74\u524d\u61c2\u4e86\u8fd9\u4e2a\u800c\u4e14\u5f00\u4e86\u5bb6\u516c\u53f8\uff0c\u90a3\u4e48\u4f60\u5f88\u53ef\u80fd\u73b0\u5728\u5df2\u7ecf\u628a\u516c\u53f8\u4f5c\u4ef7\u51e0\u5343\u4e07\u5356\u4e2a\u67d0\u5927\u516c\u53f8\u4e86\u3002\u5e78\u8fd0\u7684\u662f\uff0c\u6216\u8005\u4e0d\u5e78\u7684\u662f\uff0c\u73b0\u5728\u7684\u7b97\u6cd5\u5df2\u7ecf\u66f4\u52a0\u9ad8\u7ea7\u4e9b\u4e86\uff0c\u63a5\u4e0b\u6765\u6211\u4eec\u4f1a\u770b\u5230\u4e00\u4e9b\u66f4\u52a0\u65b0\u7684\u60f3\u6cd5\u3002\n\n## \u7ec3\u4e60\n\n- \u8bd5\u8bd5\u6539\u6539\u5377\u79ef\u5c42\u8bbe\u5b9a\uff0c\u4f8b\u5982filter\u6570\u91cf\uff0ckernel\u5927\u5c0f\n- \u8bd5\u8bd5\u628a\u6c60\u5316\u5c42\u4ece`max`\u6539\u5230`avg`\n- \u5982\u679c\u4f60\u6709GPU\uff0c\u90a3\u4e48\u5c1d\u8bd5\u7528CPU\u6765\u8dd1\u4e00\u4e0b\u770b\u770b\n- \u4f60\u53ef\u80fd\u6ce8\u610f\u5230\u6bd4\u524d\u9762\u7684\u591a\u5c42\u611f\u77e5\u673a\u6162\u4e86\u5f88\u591a\uff0c\u90a3\u4e48\u5c1d\u8bd5\u8ba1\u7b97\u4e0b\u8fd9\u4e24\u4e2a\u6a21\u578b\u5206\u522b\u9700\u8981\u591a\u5c11\u6d6e\u70b9\u8ba1\u7b97\u3002\u4f8b\u5982$n\\times m$\u548c$m \\times k$\u7684\u77e9\u9635\u4e58\u6cd5\u9700\u8981\u6d6e\u70b9\u8fd0\u7b97 $2nmk$\u3002\n\n**\u5410\u69fd\u548c\u8ba8\u8bba\u6b22\u8fce\u70b9**[\u8fd9\u91cc](https://discuss.gluon.ai/t/topic/736)", 
            "cell_type": "markdown", 
            "metadata": {}
        }
    ], 
    "metadata": {
        "kernelspec": {
            "display_name": "Python 2 with Spark 1.6 (Unsupported)", 
            "name": "python2", 
            "language": "python"
        }, 
        "language_info": {
            "mimetype": "text/x-python", 
            "nbconvert_exporter": "python", 
            "version": "2.7.11", 
            "name": "python", 
            "file_extension": ".py", 
            "pygments_lexer": "ipython2", 
            "codemirror_mode": {
                "version": 2, 
                "name": "ipython"
            }
        }
    }, 
    "nbformat": 4
}