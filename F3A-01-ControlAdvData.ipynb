{
    "metadata": {
        "language_info": {
            "name": "python", 
            "mimetype": "text/x-python", 
            "nbconvert_exporter": "python", 
            "pygments_lexer": "ipython3", 
            "codemirror_mode": {
                "name": "ipython", 
                "version": 3
            }, 
            "file_extension": ".py", 
            "version": "3.5.2"
        }, 
        "kernelspec": {
            "display_name": "Python 3.5 (Experimental) with Spark 1.6 (Unsupported)", 
            "name": "python3", 
            "language": "python"
        }
    }, 
    "nbformat": 4, 
    "cells": [
        {
            "metadata": {}, 
            "source": "# Modern Data Science \n**(Module 00: Programming Python)**\n\n---\n- Materials in this module include resources collected from various open-source online repositories.\n- You are free to use, change and distribute this package.\n\nPrepared by and for \n**Student Members** |\n2006-2018 [TULIP Lab](http://www.tulip.org.au), Australia\n\n---\n\n\n# Session B - Control Flow, File usage, and Advanced data", 
            "cell_type": "markdown"
        }, 
        {
            "metadata": {}, 
            "source": "## Introduction\n\nNormally, \n*Python* executes a series of statement in exact top-down order. \nWhat if you want to change the flow how it works? \nAs you might have guessed, in this prac, we will first look at **control flow**\n statements. We are going to practice on three control flow statements, i.e., \n**if**, **for** and **while**, to see how they can \ndetermine what statement is to be executed next in a program.  \n\nSecond, we will look at how to create, read, and write files in *Python*. \nWe have  obtained data via interation with users in previous prac. Now let us \nexplore how  to deal with files  to get input of a program and write \noutput that can be used later. \n\n\n\nFinally, we will learn about advanced data types in addition to the **strings** \nand **number** learnt before.  We will examine **lists**, **tuples**\nand **dictionarys** used for a collection of related data. \n", 
            "cell_type": "markdown"
        }, 
        {
            "metadata": {}, 
            "source": "<a id = \"cell_tuple\"></a>", 
            "cell_type": "markdown"
        }, 
        {
            "metadata": {}, 
            "source": "## Table of Content\n\n### Part 1 Control Flow\n\n1.1 [**If** statements](#cell_if)\n\n1.2 [**For** statements](#cell_for)\n\n1.3 [**While** statements](#cell_while)\n\n1.4 [**Break** statements](#cell_break)\n\n1.5 [Notes on Python 2](#cell_note)\n\n### Part2 Using files\n\n2.1 [Reading files](#cell_read)\n\n2.2 [Writing files](#cell_write)\n\n### Part3 Advanced data\n\n3.1 [List](#cell_list)\n\n3.2 [Tuple](#cell_tuple)\n\n3.3 [Dictionary](#cell_dict)\n\n", 
            "cell_type": "markdown"
        }, 
        {
            "metadata": {}, 
            "source": "## Part 1 Control flow", 
            "cell_type": "markdown"
        }, 
        {
            "metadata": {}, 
            "source": "<a id = \"cell_if\"></a>", 
            "cell_type": "markdown"
        }, 
        {
            "metadata": {}, 
            "source": "### 1.1 **If** statements\n\nThe **if** statement is used to check a condition: **if** the condition is true, we run a block of statements(**if-block**), **else** we process another block of statement(**else-block**). The **else** clause is optional. The condition is usually a boolean expression, which can have value of **True** or **False**. \n\nOften  we have a block of statement  inside  either **if-block** or **else-block**. In this case,   you need to especially pay attention to the indentation of the statements in the block. Indenting starts a block and unindenting ends it. As a general practice, Python style guide recommend using 4 white spaces for indenting a block, and not using tabs. If you get indentation error message from Python interpretor, you  will need to check your code carefully. \n ", 
            "cell_type": "markdown"
        }, 
        {
            "source": "x = 15\nif x % 2 == 0:\n    print('%d is even' % x)\nelse:\n    print('%d is even' % x)\n    \nprint('This is always printed')", 
            "metadata": {}, 
            "execution_count": null, 
            "cell_type": "code", 
            "outputs": []
        }, 
        {
            "metadata": {}, 
            "source": "\nTry change **x** to even number and run the program again.\n\nThe else-block  in **if** statement is optional. If  the **else** block is omitted,  the statements in **if**-block are executed when the condition equal to **True**. Otherwise, the flow of execution continues to the statement after the **if** structure. \n\nTry the following code:    ", 
            "cell_type": "markdown"
        }, 
        {
            "source": "x = -2\nif x < 0:\n    print(\"The negative number %d  is not valid here.\" % x)\n    \nprint(\"This is always printed\")", 
            "metadata": {}, 
            "execution_count": null, 
            "cell_type": "code", 
            "outputs": []
        }, 
        {
            "metadata": {}, 
            "source": "What will be printed if  the value of **x** is negative?\n\n\n**If** statement can also be nested within another. Further **if** structure  can  either be nested in **if-block** or **else-block**. Here is an example with another **if** structure nested in **else-block**. \n\nThis example assume we have two integer variables, **x** and **y**. The code shows how we might decide how they are related to each other. ", 
            "cell_type": "markdown"
        }, 
        {
            "source": "x = 10\ny = 10\n\nif x < y:\n    print(\"x is less than y\")\nelse:\n    if x > y:\n        print(\"x is greater than y\")\n    else:\n        print(\"x and y must be equal\")", 
            "metadata": {}, 
            "execution_count": null, 
            "cell_type": "code", 
            "outputs": []
        }, 
        {
            "metadata": {}, 
            "source": "Here we can  see that the indentation pattern can tell the Python interpretor exactly which **else** belong to which **if**. \n\nPython also provides an alternative way to write nested **if** statement. We need to  use keyword **elif**. The above example is equivalent to :", 
            "cell_type": "markdown"
        }, 
        {
            "source": "x = 10\ny = 10\n\nif (x < y):\n    print(\"x is less than y\")\nelif (x > y):\n    print(\"x is greater than y\")\nelse:\n    print(\"x and y must be equal\")", 
            "metadata": {}, 
            "execution_count": null, 
            "cell_type": "code", 
            "outputs": []
        }, 
        {
            "metadata": {}, 
            "source": "**elif** is an abbreviation of **else if**. With above structure, each condition is checked in order. If one of them is **True**, the corresponding branch executes. Even if more than one condition is **True**, only the first **True** branch executes. \n\nThere is no limit of the number of **elif** statements. but only a single final **else** statement is allowed. The **else** statement must be the last branch in the statement. ", 
            "cell_type": "markdown"
        }, 
        {
            "metadata": {}, 
            "source": "<a id = \"cell_for\"></a>", 
            "cell_type": "markdown"
        }, 
        {
            "metadata": {}, 
            "source": "### 1.2 **For** statements\nComputers are often used to automate repetitive tasks. Repeated execution of a sequence of statements is called iteration. Two language features provided by Python are **while** and **for** statement. We first take a look an example of **for** statement:", 
            "cell_type": "markdown"
        }, 
        {
            "source": "for name in [\"Joe\", \"Amy\", \"Brad\", \"Angelina\", \"Zuki\"]:\n    print(\"Hi %s Please come to my party on Saturday!\" % name)", 
            "metadata": {}, 
            "execution_count": null, 
            "cell_type": "code", 
            "outputs": []
        }, 
        {
            "metadata": {}, 
            "source": "This example assume we have some friends, and we would like to send them an invitation to our party. With all the name in the list, we can print a message for each friend. \n\nThis is how the **for** statement works:\n\n1. **name** in the **for** statement is called loop variables, and the names in the square brackets is called **list** in Python. We will cover more details on list in next prac. For now, you just need to know how to use  simple list in  a **for** loop. \n\n2.  The second line in the program is the **loop body**. All the statements in the loop body is indented.\n\n3.  On each iteration  of the loop, the loop variable is updated to refer to the next item in the list. In the above case, the loop body is executed 7 times, and each time name will refer to a different fiend. \n\n4. At the end of each execution of the body of the loop, Python returns to the **for** statement to handle the next items. This continues until there are no item left. Then program execution continues at the next statement after the loop body.      ", 
            "cell_type": "markdown"
        }, 
        {
            "metadata": {}, 
            "source": "One function commonly used in loop statement is **range()**.\n\t\nLet us first have a look at the following example:\n\t", 
            "cell_type": "markdown"
        }, 
        {
            "source": "for i in [0, 1, 2, 3, 4 ]:\n    print( 'The count is %d' % i)", 
            "metadata": {}, 
            "execution_count": null, 
            "cell_type": "code", 
            "outputs": []
        }, 
        {
            "metadata": {}, 
            "source": "Actually generating lists with a specific number of integers is a very common task, especially in **for** loop. For this purpose,  Python provides a built-in **range()** function to generate a sequence of values. An alternative way of performing above counting using **range()** is as follows.", 
            "cell_type": "markdown"
        }, 
        {
            "source": "for i in range(5):\n    print( 'The count is %d' % i)\nprint('Good bye!')", 
            "metadata": {}, 
            "execution_count": null, 
            "cell_type": "code", 
            "outputs": []
        }, 
        {
            "metadata": {}, 
            "source": "Notice **range(5)** generate a list of $5$ values starting with 0 instead 1. In addition, 5 is not included in the list. \n\t", 
            "cell_type": "markdown"
        }, 
        {
            "metadata": {}, 
            "source": "Here is a note on **range()** function: a strange thing happens if you just print a range:", 
            "cell_type": "markdown"
        }, 
        {
            "source": "range(5)", 
            "metadata": {}, 
            "execution_count": null, 
            "cell_type": "code", 
            "outputs": []
        }, 
        {
            "source": "print(range(5))", 
            "metadata": {}, 
            "execution_count": null, 
            "cell_type": "code", 
            "outputs": []
        }, 
        {
            "metadata": {}, 
            "source": "In many ways the object returned by **range()** behaves as if it is a list, but in fact it isn\u2019t. It is an object which returns the successive items of the desired sequence when you iterate over it, but it doesn\u2019t really make the list, thus saving space. We say such an object is *iterable*. In the following example, **rangeA** is **iterable**. \n\nThere are functions and constructs  that expect something from these objects to obtain successive items until the supply is exhausted.  The **list()** function can be used to creates lists from iterables:", 
            "cell_type": "markdown"
        }, 
        {
            "source": "rangeA = range(5)\nlist(rangeA)", 
            "metadata": {}, 
            "execution_count": null, 
            "cell_type": "code", 
            "outputs": []
        }, 
        {
            "metadata": {}, 
            "source": "In this way, we can  print  the list generated by **range(5)** to  check the values closely.", 
            "cell_type": "markdown"
        }, 
        {
            "metadata": {}, 
            "source": "To count from 1 to 5, we need the follo0wing:", 
            "cell_type": "markdown"
        }, 
        {
            "source": "list(range(1, 6))", 
            "metadata": {}, 
            "execution_count": null, 
            "cell_type": "code", 
            "outputs": []
        }, 
        {
            "metadata": {}, 
            "source": "\t\nWe can also add another parameter, **step**, in **range()** function. For example, a step of **2** can be used to produce a list of even numbers. \n\nLook at the following example.  Think about what will be the output before you run the code to check your understanding.\n\n    ", 
            "cell_type": "markdown"
        }, 
        {
            "source": "list(range(1, 6))", 
            "metadata": {}, 
            "execution_count": null, 
            "cell_type": "code", 
            "outputs": []
        }, 
        {
            "source": "list(range(1, 6))", 
            "metadata": {}, 
            "execution_count": null, 
            "cell_type": "code", 
            "outputs": []
        }, 
        {
            "source": "list(range(0, 19, 2))", 
            "metadata": {}, 
            "execution_count": null, 
            "cell_type": "code", 
            "outputs": []
        }, 
        {
            "source": "list(range(0, 20, 2))", 
            "metadata": {}, 
            "execution_count": null, 
            "cell_type": "code", 
            "outputs": []
        }, 
        {
            "source": "list(range(10, 0, -1))", 
            "metadata": {}, 
            "execution_count": null, 
            "cell_type": "code", 
            "outputs": []
        }, 
        {
            "metadata": {}, 
            "source": "Let us return to the previous counting example, when **range()** generate the sequence of numbers, each number is assign to the loop variable **i** in each iteration. Then the block of statements is executed for each value of **i**. In the above example, we just print the value in the block of statements. ", 
            "cell_type": "markdown"
        }, 
        {
            "metadata": {}, 
            "source": "<a id = \"cell_while\"></a>", 
            "cell_type": "markdown"
        }, 
        {
            "metadata": {}, 
            "source": "### 1.3  **While** statements\n\nThe **while** statement provide a much more general mechanism for iteration. It  allows you to repeatedly execute a block of statements as long as a condition is **True**. \n\nSimilar to the **if** statement, the **while** statement uses a boolean expression to control the flow of execution. The body of **while** will be repeated as long as the condition of boolean expression equal to **True**.\n\nLet us see how the previous counting program can be implemented by **while** statement.", 
            "cell_type": "markdown"
        }, 
        {
            "source": "i = 0\nwhile (i < 6):\n    print('The count is %d' % i)\n    i = i + 1\n    \nprint('Good bye!')", 
            "metadata": {}, 
            "execution_count": null, 
            "cell_type": "code", 
            "outputs": []
        }, 
        {
            "metadata": {}, 
            "source": "How the while statement works:\n1. The **while** block consists of the print and increment statements. They are executed repeatedly until count is no longer less than $6$. With each iteration, the current value of the index count is displayed and then increased by $1$. \n\n2. Same as **for** loop, this type of flow is also called a loop since **while** statements is executed repeatedly. Notice that if the condition is **False** at the first time through the loop, the statement inside the loop are never executed. Try change the first line into **i = 6**. What is the output?\n\n2. In this example, we can prove  that the loop terminates because **i** start from $0$ and increase by $1$. Eventually, **i** will be great than 5. When the condition  becomes **False**,  the loop stops. \n\t\n3. Sometime, we will have loop that repeats forever. This is called an infinite loop. Although this kind of loop might be useful sometimes,  it is often  caused by a programming  mistake. Try to change the first two lines of previous program into  the following code. See what happen? \n\nNote that if you run the following cell, the code will run indefinitely. You will need to go to the menu: **Kernel->Restart**, and then restart the kernal.  \n\nAlso note that if you run such code in Python at command line or script mode, you will need to use **CTRL-C** to terminate the program.", 
            "cell_type": "markdown"
        }, 
        {
            "source": "i =  6\nwhile i > 5 :  \n    print('The cound is %d' % i)\n    i = i + 1\n    \nprint('Good bye!')", 
            "metadata": {}, 
            "execution_count": null, 
            "cell_type": "code", 
            "outputs": []
        }, 
        {
            "metadata": {}, 
            "source": "<a id = \"cell_break\"></a>", 
            "cell_type": "markdown"
        }, 
        {
            "metadata": {}, 
            "source": "### 1.4 **Break** statements\n\nThe **break** statement can be used to break out of a loop statement. It can be used both in **while** loop and **for** loop. \n\nAlternative way of previous counting example with  **break** statement is as follows:", 
            "cell_type": "markdown"
        }, 
        {
            "source": "i =  0\nwhile True :\n    print( 'The count is %d' % i)\n    i = i + 1\n    if i > 6:\n        break\n        \nprint('Good bye!')\n", 
            "metadata": {}, 
            "execution_count": null, 
            "cell_type": "code", 
            "outputs": []
        }, 
        {
            "metadata": {}, 
            "source": "In this program, we repeated print value  of **i** and increase it by 1 each time. We provide a special condition to stop the program by checking if **i** is greater than 6. We then break out of the loop and continue executed the statement after the loop.  \n\nNote that it is important to decide what the terminate condition should  be. We can see from previous counting example that the terminate condition might be different in different loop structure,.  ", 
            "cell_type": "markdown"
        }, 
        {
            "metadata": {}, 
            "source": "<a id = \"cell_note\"></a>", 
            "cell_type": "markdown"
        }, 
        {
            "metadata": {}, 
            "source": "### 1.5 Notes on **Python 2**\n\nUse of **range()** function:\n\n\n1. One thing to be noted is: the use of **range()** in for-loop looks the same in both \\emph{Python} 2 and 3.\n\t \n2. While function **range()** creates an *iterable*, which can be used to produce  sequence dynamically in *Python 3*; \n\t**range()** in *Python 2* creates a list. The use of  iterable object in \\emph{Python} 3 is more efficient in memory wise. This is especially useful when you need a giganic range.\n\t\n3. As you have noticed,  statement **print(range(5))** in *Python 3* will not produce a list. However,  this statement is valid in *Python 2*. For example, the following can be used to  check values of a range  in \\emph{Python} 2. \t", 
            "cell_type": "markdown"
        }, 
        {
            "metadata": {}, 
            "source": ">>>print(range(5))\n[0, 1, 2, 3, 4, 5]", 
            "cell_type": "raw"
        }, 
        {
            "metadata": {}, 
            "source": "Please also note that **range()** can be safely used in both versions in a **for**-loop. ", 
            "cell_type": "markdown"
        }, 
        {
            "metadata": {}, 
            "source": "## Part 2 Using files\n\n### 2.1 Reading files\n\n\nYou can open and use files for reading or writing by creating an object of the *file class*.  The *mode* that is specified for the file opening decides what you can do with the file: read, write or both. Then the file object's  **read()** or **write()** method can  be used to read from or write to the file. Finally, when you are finished with the file, you call the **close()** method to tell Python that you are done using the file. \n\nHere is an example. You can download the data file **score.txt**, which includes  data on students' score. The format of the data file is as follows:", 
            "cell_type": "markdown"
        }, 
        {
            "metadata": {}, 
            "source": "Name, Student ID, Score\n\nDavid 3402 80\nJane 3403 76\nSophia 3405 65\nJane 3447 92\nWilliam 3456 75 ", 
            "cell_type": "raw"
        }, 
        {
            "metadata": {}, 
            "source": "For Online platforms such as IBM Cloud, it is important for you to get familiar with the provided data storage or cloud data storage function. Alternatively, you might want to directly access the file, and load into your Notebook.", 
            "cell_type": "markdown"
        }, 
        {
            "source": "!pip install wget", 
            "metadata": {}, 
            "execution_count": null, 
            "cell_type": "code", 
            "outputs": []
        }, 
        {
            "metadata": {}, 
            "source": "Then you can download the file into GPFS file system.", 
            "cell_type": "markdown"
        }, 
        {
            "source": "import wget\n\nlink_to_data = 'https://github.com/tuliplab/mds/raw/master/Jupyter/data/score.txt'\nDataSet = wget.download(link_to_data)\n\nprint(DataSet)", 
            "metadata": {}, 
            "execution_count": null, 
            "cell_type": "code", 
            "outputs": []
        }, 
        {
            "metadata": {}, 
            "source": "The following example  read from the **.txt**  file and display information  on the screen. Please type the code and run it under script mode. Make sure **score.txt** are saved under your **data** folder. ", 
            "cell_type": "markdown"
        }, 
        {
            "source": "# scorefile = open('https://raw.githubusercontent.com/tuliplab/mds/master/Jupyter/data/score.txt','r')\n\nscorefile = open('score.txt','r')\n\nfor line in scorefile:\n    value = line.split()\n    name = value[0]\n    id = value[1]\n    score = value[2]\n    print('%s with ID %s has a score of %s' % (name, id, score))\n", 
            "metadata": {}, 
            "execution_count": null, 
            "cell_type": "code", 
            "outputs": []
        }, 
        {
            "metadata": {}, 
            "source": "How the program works:\n1.   The **open()** function is used to open a file. You need to specify the name of the file and the mode in which you want to open the file. The mode can be read mode('r'), write mode('w') or append mode('a').  There are actually many more modes available. You can get more details by create a cell and typing \"\"open?\"\". Please try this in your notebook. When we finish working on the file, we  need to close the file using **close()** method. \n\n\t\n2.  To process all of the data, we use a **for** loop to iterate over the lines of the file. The **line** variable is a string that is used to store characters in each line.\n\t \n     \n3. We use the **split()** method to break each line into a list containing all the fields of interest. We can then take the value corresponding to **name**, **id** and **score** and  print them in the sentence. To get each data item in a list, we use index with the list. e.g. values[0] will return the item of position 0 in the list.  Note that in Python the position of items in a list is starting from $0$. ", 
            "cell_type": "markdown"
        }, 
        {
            "metadata": {}, 
            "source": "### 2.2. Writing to files\n\nOne of the most commonly performed data processing tasks is to read data from a file, manipulate it in some way and then write the resulting data out to a new data file to be used for other purpose later. For creating a new file used for writing, the same **open()** function is used. Instead using 'r' mode, 'w' mode is used as the parameter. When we open a file for writing, a new, empty file with the specified  name is created and ready to accept our data. \n\nAs an example, consider the **score.txt** data again. Assume we have request to remove the name information in the file for privacy issue. Therefore, the output file need  to have student ID with the scores separated by a comma.  Here is how we can generate the required file. ", 
            "cell_type": "markdown"
        }, 
        {
            "source": "infile = open('score.txt', 'r')\noutfile = open('id.txt', 'w')\n\nfor line in infile:\n    values = line.split()\n    id = values[1]\n    score = values[2]\n    dataline = id + ',' + score\n\n    outfile.write(dataline + '\\n')\n\ninfile.close()\noutfile.close()", 
            "metadata": {}, 
            "execution_count": null, 
            "cell_type": "code", 
            "outputs": []
        }, 
        {
            "metadata": {}, 
            "source": "\nHow the program works:\n\n1. We have add another **open()** method with 'w' mode. The filename **id.txt** is chosen  to store the data. If the file does not exist, it will be created. However, if the file does exist, it will be reinitialized and empty,  and any previous contents will be lost \n2. We have variable **dataline** to store what need to be write in the file. If you like, you can add \ta line **print(dataline)** to check the string value. We then call function **write()** method to write  **dataline** into the file.\n3. There is one additional part we need to add when writing to file. The newline character **\\n** need to be concatenated to the end of the line. Otherwise,  the text will be all in one continuous line.  \n\t\n4. The file needs to be closed at the end.  \n", 
            "cell_type": "markdown"
        }, 
        {
            "metadata": {}, 
            "source": "<a id = \"cell_list\"></a>", 
            "cell_type": "markdown"
        }, 
        {
            "metadata": {}, 
            "source": "## Part 3 Advanced Data\n\n### 3.1 List\n\n** List is a sequence**\n\nLike a string, a *list** is a sequence of values. The values in a list can be any type. We call the values *items** of the list. To create a list, enclose the items in square brackets.\n\nFor example, \n               ", 
            "cell_type": "markdown"
        }, 
        {
            "source": "shoplist = ['apple', 'mango', 'carrot', 'banana']\nl = [10, 20, 30, 40]\nempty = [ ]   # Initialize an empty list", 
            "metadata": {}, 
            "execution_count": null, 
            "cell_type": "code", 
            "outputs": []
        }, 
        {
            "source": "shoplist", 
            "metadata": {}, 
            "execution_count": null, 
            "cell_type": "code", 
            "outputs": []
        }, 
        {
            "source": "l", 
            "metadata": {}, 
            "execution_count": null, 
            "cell_type": "code", 
            "outputs": []
        }, 
        {
            "source": "empty", 
            "metadata": {}, 
            "execution_count": null, 
            "cell_type": "code", 
            "outputs": []
        }, 
        {
            "source": "shoplist", 
            "metadata": {}, 
            "execution_count": null, 
            "cell_type": "code", 
            "outputs": []
        }, 
        {
            "metadata": {}, 
            "source": "The elements of a list do not have to be the same type. An another  list can also be nested inside a list. \n\nTo access the element of a list, use the bracket operator to obtain the value available at the index. Note that the indices of list start at $0$. You can also use  negative value as index, if you  counts from right. For example, the negative index of last item is $-1$.   Try  the following examples:", 
            "cell_type": "markdown"
        }, 
        {
            "source": "l = [10, 20, 30, 40]", 
            "metadata": {}, 
            "execution_count": null, 
            "cell_type": "code", 
            "outputs": []
        }, 
        {
            "source": "l[2]", 
            "metadata": {}, 
            "execution_count": null, 
            "cell_type": "code", 
            "outputs": []
        }, 
        {
            "source": "l[-1]", 
            "metadata": {}, 
            "execution_count": null, 
            "cell_type": "code", 
            "outputs": []
        }, 
        {
            "source": "l[-3]     ", 
            "metadata": {}, 
            "execution_count": null, 
            "cell_type": "code", 
            "outputs": []
        }, 
        {
            "metadata": {}, 
            "source": "Here is an example of nested list: ", 
            "cell_type": "markdown"
        }, 
        {
            "source": "l = ['apple', 2.0, 5, [10, 20]]", 
            "metadata": {}, 
            "execution_count": null, 
            "cell_type": "code", 
            "outputs": []
        }, 
        {
            "source": "l[1]", 
            "metadata": {}, 
            "execution_count": null, 
            "cell_type": "code", 
            "outputs": []
        }, 
        {
            "source": "l[3]", 
            "metadata": {}, 
            "execution_count": null, 
            "cell_type": "code", 
            "outputs": []
        }, 
        {
            "source": "l[3][1]   \n     ", 
            "metadata": {}, 
            "execution_count": null, 
            "cell_type": "code", 
            "outputs": []
        }, 
        {
            "metadata": {}, 
            "source": "Unlike strings, lists are mutable, which means they can be altered.  We use bracket on the left side of an assignment to assign a value to a list item.", 
            "cell_type": "markdown"
        }, 
        {
            "source": "l = [10, 20, 30, 40]\nl[1] = 200", 
            "metadata": {}, 
            "execution_count": null, 
            "cell_type": "code", 
            "outputs": []
        }, 
        {
            "source": "l", 
            "metadata": {}, 
            "execution_count": null, 
            "cell_type": "code", 
            "outputs": []
        }, 
        {
            "metadata": {}, 
            "source": "** List operation **\n\n **In** is used to perform membership operation. \n The result of expression equals to **True** if  a value exists in the  list, \n and equals to **False** otherwise.\n ", 
            "cell_type": "markdown"
        }, 
        {
            "source": "shoplist = ['apple', 'mango', 'carrot', 'banana']", 
            "metadata": {}, 
            "execution_count": null, 
            "cell_type": "code", 
            "outputs": []
        }, 
        {
            "source": "'apple' in shoplist", 
            "metadata": {}, 
            "execution_count": null, 
            "cell_type": "code", 
            "outputs": []
        }, 
        {
            "source": "'rice' in shoplist ", 
            "metadata": {}, 
            "execution_count": null, 
            "cell_type": "code", 
            "outputs": []
        }, 
        {
            "metadata": {}, 
            "source": "Similarly, **In** operator also applies to **string** type. Here are some examples:\n ", 
            "cell_type": "markdown"
        }, 
        {
            "source": "'a' in 'banana'", 
            "metadata": {}, 
            "execution_count": null, 
            "cell_type": "code", 
            "outputs": []
        }, 
        {
            "source": "'seed' in 'banana'    # Test if 'seed' is a substring of 'banana'  ", 
            "metadata": {}, 
            "execution_count": null, 
            "cell_type": "code", 
            "outputs": []
        }, 
        {
            "metadata": {}, 
            "source": "'**+**' is  used for concatenation operation, which  repeats a list a given number of times.  ", 
            "cell_type": "markdown"
        }, 
        {
            "source": " [10, 20, 30, 40 ] + [50, 60]", 
            "metadata": {}, 
            "execution_count": null, 
            "cell_type": "code", 
            "outputs": []
        }, 
        {
            "metadata": {}, 
            "source": " [50, 60]*3\n\n     ", 
            "cell_type": "markdown"
        }, 
        {
            "metadata": {}, 
            "source": "** List slices **\nSlicing operation allows to retrieve a slice of of the list. i.e. a part of the sequence. The sliding operation uses square brackets to enclose an optional pair of numbers separated by a colon. Again,    to count the position of items  from left(first item), start from $0$. If you count the position from right(last item), start from $-1$. ", 
            "cell_type": "markdown"
        }, 
        {
            "source": "l = [1, 2, 3, 4]", 
            "metadata": {}, 
            "execution_count": null, 
            "cell_type": "code", 
            "outputs": []
        }, 
        {
            "source": "l[1:3]     # From position 1 to position 3(excluded)", 
            "metadata": {}, 
            "execution_count": null, 
            "cell_type": "code", 
            "outputs": []
        }, 
        {
            "source": "l[:2]     # From the beginning to position 2(excluede)", 
            "metadata": {}, 
            "execution_count": null, 
            "cell_type": "code", 
            "outputs": []
        }, 
        {
            "source": "l[-2:]    # From the second right  to the beginning ", 
            "metadata": {}, 
            "execution_count": null, 
            "cell_type": "code", 
            "outputs": []
        }, 
        {
            "metadata": {}, 
            "source": "If you omit both the first and the second indices, the slice is a copy of the whole list. ", 
            "cell_type": "markdown"
        }, 
        {
            "source": "l[:]", 
            "metadata": {}, 
            "execution_count": null, 
            "cell_type": "code", 
            "outputs": []
        }, 
        {
            "metadata": {}, 
            "source": "Since lists are mutable, above expression is often useful to make a copy before modifying original list. ", 
            "cell_type": "markdown"
        }, 
        {
            "source": "l = [1, 2, 3, 4]\nl_org = l[:]\nl[0] = 8", 
            "metadata": {}, 
            "execution_count": null, 
            "cell_type": "code", 
            "outputs": []
        }, 
        {
            "source": "l", 
            "metadata": {}, 
            "execution_count": null, 
            "cell_type": "code", 
            "outputs": []
        }, 
        {
            "source": "l_org  # the original list is unchanged\n     ", 
            "metadata": {}, 
            "execution_count": null, 
            "cell_type": "code", 
            "outputs": []
        }, 
        {
            "metadata": {}, 
            "source": "** List methods **\n\nThe methods most often applied to a list include: \n- append()\n- len()\n- sort()\n- split()\n- join()", 
            "cell_type": "markdown"
        }, 
        {
            "metadata": {}, 
            "source": "**append()** method adds a new element to the end of a list.", 
            "cell_type": "markdown"
        }, 
        {
            "source": "l= [1, 2, 3, 4]\n", 
            "metadata": {}, 
            "execution_count": null, 
            "cell_type": "code", 
            "outputs": []
        }, 
        {
            "source": "l", 
            "metadata": {}, 
            "execution_count": null, 
            "cell_type": "code", 
            "outputs": []
        }, 
        {
            "source": "l.append(5)\nl.append([6, 7])  #list [6, 7] is nested in lsit l", 
            "metadata": {}, 
            "execution_count": null, 
            "cell_type": "code", 
            "outputs": []
        }, 
        {
            "source": "l", 
            "metadata": {}, 
            "execution_count": null, 
            "cell_type": "code", 
            "outputs": []
        }, 
        {
            "metadata": {}, 
            "source": " **len()** method returns the number of items of a list. ", 
            "cell_type": "markdown"
        }, 
        {
            "source": "l = [1, 2, 3, 4, 5]\nlen(l)", 
            "metadata": {}, 
            "execution_count": null, 
            "cell_type": "code", 
            "outputs": []
        }, 
        {
            "source": "# A list nested in another list is counted as a single item\nl = [1, 2, 3, 4, 5, [6, 7]] \nlen(l)", 
            "metadata": {}, 
            "execution_count": null, 
            "cell_type": "code", 
            "outputs": []
        }, 
        {
            "metadata": {}, 
            "source": " **sort()** arranges the elements of the list from low to high. ", 
            "cell_type": "markdown"
        }, 
        {
            "source": "shoplist = ['apple', 'mango', 'carrot', 'banana']\nshoplist.sort()", 
            "metadata": {}, 
            "execution_count": null, 
            "cell_type": "code", 
            "outputs": []
        }, 
        {
            "source": "shoplist", 
            "metadata": {}, 
            "execution_count": null, 
            "cell_type": "code", 
            "outputs": []
        }, 
        {
            "metadata": {}, 
            "source": "\t\n It is worth noted that **sort()** method modifies the list in place, and  does not return any value. Please try the following:", 
            "cell_type": "markdown"
        }, 
        {
            "source": "shoplist = ['apple', 'mango', 'carrot', 'banana']\nshoplist_sorted = shoplist.sort()", 
            "metadata": {}, 
            "execution_count": null, 
            "cell_type": "code", 
            "outputs": []
        }, 
        {
            "source": "shoplist_sorted    # No value is returned\t", 
            "metadata": {}, 
            "execution_count": null, 
            "cell_type": "code", 
            "outputs": []
        }, 
        {
            "metadata": {}, 
            "source": "\nThere is an alternative way of sorting a list. The build-in function **sorted()** returns a sorted list, and keeps the original one unchanged.  ", 
            "cell_type": "markdown"
        }, 
        {
            "source": "shoplist = ['apple', 'mango', 'carrot', 'banana']\nshoplist_sorted = sorted(shoplist)          #sorted() function return a new list", 
            "metadata": {}, 
            "execution_count": null, 
            "cell_type": "code", 
            "outputs": []
        }, 
        {
            "source": "shoplist_sorted", 
            "metadata": {}, 
            "execution_count": null, 
            "cell_type": "code", 
            "outputs": []
        }, 
        {
            "source": "shoplist", 
            "metadata": {}, 
            "execution_count": null, 
            "cell_type": "code", 
            "outputs": []
        }, 
        {
            "metadata": {}, 
            "source": "There are two frequently-used string methods that convert between lists and strings:\n\nFirst, **split()** methods is used to break a string into words:", 
            "cell_type": "markdown"
        }, 
        {
            "source": "s = 'I love apples'\ns.split(' ')", 
            "metadata": {}, 
            "execution_count": null, 
            "cell_type": "code", 
            "outputs": []
        }, 
        {
            "source": "s = 'spam-spam-spam'\n# A delimter '-' is specified here. It is used as word boundary\ns.split('-')  ", 
            "metadata": {}, 
            "execution_count": null, 
            "cell_type": "code", 
            "outputs": []
        }, 
        {
            "metadata": {}, 
            "source": "Second, **joint()** is the inverse of **split**. It takes a list of strings and concatenates the elements.", 
            "cell_type": "markdown"
        }, 
        {
            "source": "l = ['I', 'love', 'apples']\ns = ' '.join(l)\ns", 
            "metadata": {}, 
            "execution_count": null, 
            "cell_type": "code", 
            "outputs": []
        }, 
        {
            "metadata": {}, 
            "source": "How it works:\n\nSince **join** is a string method, you have to invoke it on the *delimiter*. In this case, the delimiter is a space character. So **' '.join()** puts a space between words. The list **l** is passed to **join()** as parameter. \n\nFor more information on list methods, type \"help(list)\" in your notebook. ", 
            "cell_type": "markdown"
        }, 
        {
            "metadata": {}, 
            "source": "**Traverse a list**\n\nThe most common way to traverse the items of a list is with a **for** loop. Try the following code:", 
            "cell_type": "markdown"
        }, 
        {
            "source": "shoplist = ['apple', 'mango', 'carrot', 'banana']\nfor item in shoplist:\n    print(item)", 
            "metadata": {}, 
            "execution_count": null, 
            "cell_type": "code", 
            "outputs": []
        }, 
        {
            "metadata": {}, 
            "source": "This works well if you only need to read the items of the list. However, you will need to use indices if you want to update the elements. In this case, you need to combine the function **range()** and **len()**.  ", 
            "cell_type": "markdown"
        }, 
        {
            "source": "l = [2, 3, 5, 7]\n\nfor i in range(len(l)):\n       l[i] = l[i] * 2\n\nprint(l)", 
            "metadata": {}, 
            "execution_count": null, 
            "cell_type": "code", 
            "outputs": []
        }, 
        {
            "metadata": {}, 
            "source": "How it works:\n\n**len()** returns the number of items in the list, while **range(n)** returns a list from 0 to n - 1. By combining function  **len()** and **range()**, **i** gets the index of the next element  in each pass through the loop. The assignment statement then uses **i** to perform the operation. ", 
            "cell_type": "markdown"
        }, 
        {
            "metadata": {}, 
            "source": "<a id = \"cell_tuple\"></a>", 
            "cell_type": "markdown"
        }, 
        {
            "metadata": {}, 
            "source": "### 3.2 Tuple\n\n**  Tuple are immutable **\n\nA **tuple** is also a sequence of values, and can be any type. Tuples and lists are very similar. The important difference is that tuples are immutable, which means they can not be changed. \n\nTuples is typically used to group and organizing data into a single compound value.  For example, ", 
            "cell_type": "markdown"
        }, 
        {
            "source": "year_born =  ('David Hilton', 1995)\nyear_born", 
            "metadata": {}, 
            "execution_count": null, 
            "cell_type": "code", 
            "outputs": []
        }, 
        {
            "metadata": {}, 
            "source": "To define a tuple, we use a list of values separated by comma. \nAlthough it is not necessary, it is common to enclose tuples in parentheses. \n\nMost list operators also work on tuples. \nThe bracket operator indexes an item of tuples, and the slice operator works in similar way. \n\nHere is how to define a tuple:", 
            "cell_type": "markdown"
        }, 
        {
            "source": "t  = ( ) # Empty tuple\nt", 
            "metadata": {}, 
            "execution_count": null, 
            "cell_type": "code", 
            "outputs": []
        }, 
        {
            "source": "t = (1) \ntype(t)  # Its type is int, since no comma is following", 
            "metadata": {}, 
            "execution_count": null, 
            "cell_type": "code", 
            "outputs": []
        }, 
        {
            "source": "t = (1,)  # One item tuple; the item needs to be followed by a comma\ntype(t)", 
            "metadata": {}, 
            "execution_count": null, 
            "cell_type": "code", 
            "outputs": []
        }, 
        {
            "metadata": {}, 
            "source": "Here is how to access elements of a tuple:", 
            "cell_type": "markdown"
        }, 
        {
            "source": "t = ('a', 'b', 'c', 'd')", 
            "metadata": {}, 
            "execution_count": null, 
            "cell_type": "code", 
            "outputs": []
        }, 
        {
            "source": "t[0]", 
            "metadata": {}, 
            "execution_count": null, 
            "cell_type": "code", 
            "outputs": []
        }, 
        {
            "source": "t[1:3]", 
            "metadata": {}, 
            "execution_count": null, 
            "cell_type": "code", 
            "outputs": []
        }, 
        {
            "metadata": {}, 
            "source": "But if you try to modify the elements of the tuple, you get an error. ", 
            "cell_type": "markdown"
        }, 
        {
            "source": "t = ('a', 'b', 'c', 'd')\nt[1] = 'B'", 
            "metadata": {}, 
            "execution_count": null, 
            "cell_type": "code", 
            "outputs": []
        }, 
        {
            "metadata": {}, 
            "source": "### Tuple assignment\n\nTuple assignment allows a tuple of variables on the left of an assignment to be assigned values from  a tuple on the right of the assignment. \n(We already saw this type of statements in the previous prac)\n\nFor example,\n ", 
            "cell_type": "markdown"
        }, 
        {
            "source": "t = ('David', '0233', 78)\n(name, id, score) = t", 
            "metadata": {}, 
            "execution_count": null, 
            "cell_type": "code", 
            "outputs": []
        }, 
        {
            "source": "name ", 
            "metadata": {}, 
            "execution_count": null, 
            "cell_type": "code", 
            "outputs": []
        }, 
        {
            "source": "id", 
            "metadata": {}, 
            "execution_count": null, 
            "cell_type": "code", 
            "outputs": []
        }, 
        {
            "source": "score", 
            "metadata": {}, 
            "execution_count": null, 
            "cell_type": "code", 
            "outputs": []
        }, 
        {
            "metadata": {}, 
            "source": "Naturally, the number of variables on the left and the number of values on the right have to be the same.Otherwise, you will have a system error. ", 
            "cell_type": "markdown"
        }, 
        {
            "source": "(a, b, c, d) = (1, 2, 3)\n", 
            "metadata": {}, 
            "execution_count": null, 
            "cell_type": "code", 
            "outputs": []
        }, 
        {
            "metadata": {}, 
            "source": "### Lists and tuples\n\nIt is common to have a list of tuples. For loop can be used to travers the data.  For example,", 
            "cell_type": "markdown"
        }, 
        {
            "source": "t = [('David', 90), ('John', 88), ('James', 70)]\n\nfor (name, score) in t:\n       print(name, score) ", 
            "metadata": {}, 
            "execution_count": null, 
            "cell_type": "code", 
            "outputs": []
        }, 
        {
            "metadata": {}, 
            "source": "<a id = \"cell_dict\"></a>", 
            "cell_type": "markdown"
        }, 
        {
            "metadata": {}, 
            "source": "### 3.3 Dictionary\n\nA **dictionary** is like an address-book where you can find the address or contact details of a person by knowing only his/her name. The way of achieving this is to associate **keys**(names) with **values**(details). Note that the key in a dictionary must be unique. Otherwise we are not able to locate correct information through the key. \n\nAlso worth noted is that we can only use immutable objects(strings, tuples) for the keys, but we can use either immutable or mutable objects for the values of the dictionary. This means  we can use either a string, a tuple or a list  for dictionary values.\n\nThe following example defines a dictionary: ", 
            "cell_type": "markdown"
        }, 
        {
            "source": "dict = {'David': 70, 'John': 60, 'Mike': 85}\ndict['David']\ndict['Anne'] = 92  # add an new item in the dictionary\ndict", 
            "metadata": {}, 
            "execution_count": null, 
            "cell_type": "code", 
            "outputs": []
        }, 
        {
            "metadata": {}, 
            "source": "** Traverse a dictionary **\n\nThe key-value pairs in a dictionary are **not** ordered in any manner. The following example uses **for** loop to traversal a dictionary. Notice that the keys are in no particular order. ", 
            "cell_type": "markdown"
        }, 
        {
            "source": "dict = {'Daid': 70, 'John': 60, 'Amy': 85}\n\nfor key in dict:\n    print(key, dict[key])", 
            "metadata": {}, 
            "execution_count": null, 
            "cell_type": "code", 
            "outputs": []
        }, 
        {
            "metadata": {}, 
            "source": "However, we can sort the keys of dictionary before using it if necessary. The following example sorts the keys and stored the result in a list **sortedKey**. The **for** loop then iterates through list **sortedKey**. The items in  the dictionary can then be accessed via the names in alphabetical order. Note that dictionary's **keys()** method is used to return a list of all the available keys in the dictionary. ", 
            "cell_type": "markdown"
        }, 
        {
            "source": "dict = {'David': 70, 'John': 60, 'Amy': 85}\nsortedKeys = sorted(dict.keys())\n\nfor key in sortedKeys:\n    print(key, dict[key])\n", 
            "metadata": {}, 
            "execution_count": null, 
            "cell_type": "code", 
            "outputs": []
        }, 
        {
            "source": "", 
            "metadata": {}, 
            "execution_count": null, 
            "cell_type": "code", 
            "outputs": []
        }
    ], 
    "nbformat_minor": 1
}