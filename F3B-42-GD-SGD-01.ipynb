{
    "nbformat_minor": 2, 
    "cells": [
        {
            "source": "# \u68af\u5ea6\u4e0b\u964d\u548c\u968f\u673a\u68af\u5ea6\u4e0b\u964d --- \u4ece0\u5f00\u59cb\n\n\n\u5728\u4e4b\u524d\u7684\u6559\u7a0b\u91cc\uff0c\u6211\u4eec\u901a\u8fc7\u635f\u5931\u51fd\u6570$\\mathcal{L}$\u4e2d\u53c2\u6570\u7684\u68af\u5ea6$\\nabla_{\\theta}\\mathcal{L}$\u6765\u51b3\u5b9a\u5982\u4f55\u66f4\u65b0\u6a21\u578b$\\theta$\u7684\u53c2\u6570\u3002\u6211\u4eec\u4e5f\u63d0\u5230\u8fc7\u5b66\u4e60\u7387$\\eta$\uff0c\u5e76\u7ed9\u51fa\u4e86\u4f7f\u7528\u68af\u5ea6\u4e0b\u964d\u7b97\u6cd5\u66f4\u65b0\u6a21\u578b\u53c2\u6570\u7684\u6b65\u9aa4\uff1a\n\n$$\\theta_{t} \\gets \\theta_{t-1} - \\eta \\nabla_{\\theta}\\mathcal{L}_{t-1}$$\n\n\u5728\u672c\u8282\u6559\u7a0b\u4e2d\uff0c\u6211\u4eec\u5c06\u8be6\u7ec6\u4ecb\u7ecd\u68af\u5ea6\u4e0b\u964d\u7b97\u6cd5\u548c\u968f\u673a\u68af\u5ea6\u4e0b\u964d\u7b97\u6cd5\u3002\u7531\u4e8e\u68af\u5ea6\u4e0b\u964d\u662f\u4f18\u5316\u7b97\u6cd5\u7684\u6838\u5fc3\u90e8\u5206\uff0c\u6df1\u523b\u7406\u89e3\u68af\u5ea6\u7684\u610f\u4e49\u5341\u5206\u91cd\u8981\u3002\u4e3a\u4e86\u5e2e\u52a9\u5927\u5bb6\u6df1\u523b\u7406\u89e3\u68af\u5ea6\uff0c\u6211\u4eec\u5c06\u4ece\u6570\u5b66\u4e0a\u9610\u91ca\u68af\u5ea6\u4e0b\u964d\u7684\u610f\u4e49\u3002\n\n\n## \u4e00\u7ef4\u68af\u5ea6\u4e0b\u964d\n\n\u6211\u4eec\u5148\u4ee5\u7b80\u5355\u7684\u4e00\u7ef4\u68af\u5ea6\u4e0b\u964d\u4e3a\u4f8b\uff0c\u89e3\u91ca\u68af\u5ea6\u4e0b\u964d\u7b97\u6cd5\u53ef\u4ee5\u964d\u4f4e\u76ee\u6807\u51fd\u6570\u503c\u7684\u539f\u56e0\u3002\u4e00\u7ef4\u68af\u5ea6\u662f\u4e00\u4e2a\u6807\u91cf\uff0c\u4e5f\u79f0\u5bfc\u6570\u3002\n\n\u5047\u8bbe\u51fd\u6570$f: \\mathbb{R} \\rightarrow \\mathbb{R}$\u7684\u8f93\u5165\u548c\u8f93\u51fa\u90fd\u662f\u6807\u91cf\u3002\u6839\u636e\u6cf0\u52d2\u5c55\u5f00\u516c\u5f0f\uff0c\u6211\u4eec\u5f97\u5230\n\n$$f(x + \\epsilon) \\approx f(x) + f'(x) \\epsilon$$\n\n\u5047\u8bbe$\\eta$\u662f\u4e00\u4e2a\u5e38\u6570\uff0c\u5c06$\\epsilon$\u66ff\u6362\u4e3a$-\\eta f'(x)$\u540e\uff0c\u6211\u4eec\u6709\n\n$$f(x - \\eta f'(x)) \\approx f(x) -  \\eta f'(x)^2$$\n\n\u5982\u679c$\\eta$\u662f\u4e00\u4e2a\u5f88\u5c0f\u7684\u6b63\u6570\uff0c\u90a3\u4e48\n\n$$f(x - \\eta f'(x)) \\leq f(x)$$\n\n\u4e5f\u5c31\u662f\u8bf4\uff0c\u5982\u679c\u5f53\u524d\u5bfc\u6570$f'(x) \\neq 0$\uff0c\u6309\u7167$x := x - \\eta f'(x)$\u66f4\u65b0$x$\u53ef\u80fd\u964d\u4f4e$f(x)$\u7684\u503c\u3002\n\n\u7531\u4e8e\u5bfc\u6570$f'(x)$\u662f\u68af\u5ea6\u5728\u4e00\u7ef4\u7a7a\u95f4\u7684\u7279\u6b8a\u60c5\u51b5\uff0c\u4e0a\u8ff0\u66f4\u65b0$x$\u7684\u65b9\u6cd5\u4e5f\u5373\u4e00\u7ef4\u7a7a\u95f4\u7684\u68af\u5ea6\u4e0b\u964d\u3002\u4e00\u7ef4\u7a7a\u95f4\u7684\u68af\u5ea6\u4e0b\u964d\u5982\u4e0b\u56fe\u6240\u793a\uff0c\u53c2\u6570$x$\u6cbf\u7740\u68af\u5ea6\u65b9\u5411\u4e0d\u65ad\u66f4\u65b0\u3002\n\n![](https://github.com/mli/gluon-tutorials-zh/raw/master/img/gd.png)\n\n\n\n## \u5b66\u4e60\u7387\n\n\u4e0a\u8ff0\u68af\u5ea6\u4e0b\u964d\u7b97\u6cd5\u4e2d\u7684$\\eta$\uff08\u53d6\u6b63\u6570\uff09\u53eb\u505a\u5b66\u4e60\u7387\u6216\u6b65\u957f\u3002\u9700\u8981\u6ce8\u610f\u7684\u662f\uff0c\u5b66\u4e60\u7387\u8fc7\u5927\u53ef\u80fd\u4f1a\u9020\u6210$x$\u8fc8\u8fc7\uff08overshoot\uff09\u6700\u4f18\u89e3\uff0c\u751a\u81f3\u4e0d\u65ad\u53d1\u6563\u800c\u65e0\u6cd5\u6536\u655b\uff0c\u5982\u4e0b\u56fe\u6240\u793a\u3002\n\n![](https://github.com/mli/gluon-tutorials-zh/raw/master/img/overshoot.png)\n\n\u7136\u800c\uff0c\u5982\u679c\u5b66\u4e60\u7387\u8fc7\u5c0f\uff0c\u4f18\u5316\u7b97\u6cd5\u6536\u655b\u901f\u5ea6\u4f1a\u8fc7\u6162\u3002\u5b9e\u9645\u4e2d\uff0c\u4e00\u4e2a\u5408\u9002\u7684\u5b66\u4e60\u7387\u901a\u5e38\u662f\u9700\u8981\u901a\u8fc7\u5b9e\u9a8c\u8c03\u51fa\u6765\u7684\u3002\n\n## \u591a\u7ef4\u68af\u5ea6\u4e0b\u964d\n\n\u73b0\u5728\u6211\u4eec\u8003\u8651\u4e00\u4e2a\u66f4\u5e7f\u4e49\u7684\u60c5\u51b5\uff1a\u76ee\u6807\u51fd\u6570\u7684\u8f93\u5165\u4e3a\u5411\u91cf\uff0c\u8f93\u51fa\u4e3a\u6807\u91cf\u3002\n\n\u5047\u8bbe\u76ee\u6807\u51fd\u6570$f: \\mathbb{R}^d \\rightarrow \\mathbb{R}$\u7684\u8f93\u5165\u662f\u4e00\u4e2a\u591a\u7ef4\u5411\u91cf$\\mathbf{x} = [x_1, x_2, \\ldots, x_d]^\\top$\u3002\u76ee\u6807\u51fd\u6570$f(\\mathbf{x})$\u6709\u5173$\\mathbf{x}$\u7684\u68af\u5ea6\u662f\u4e00\u4e2a\u7531\u504f\u5bfc\u6570\u7ec4\u6210\u7684\u5411\u91cf\uff1a\n\n$$\\nabla_\\mathbf{x} f(\\mathbf{x}) = \\bigg[\\frac{\\partial f(\\mathbf{x})}{\\partial x_1}, \\frac{\\partial f(\\mathbf{x})}{\\partial x_2}, \\ldots, \\frac{\\partial f(\\mathbf{x})}{\\partial x_d}\\bigg]^\\top.$$\n\n\n\u4e3a\u8868\u793a\u7b80\u6d01\uff0c\u6211\u4eec\u6709\u65f6\u7528$\\nabla f(\\mathbf{x})$\u4ee3\u66ff$\\nabla_\\mathbf{x} f(\\mathbf{x})$\u3002\u68af\u5ea6\u4e2d\u6bcf\u4e2a\u504f\u5bfc\u6570\u5143\u7d20$\\partial f(\\mathbf{x})/\\partial x_i$\u4ee3\u8868\u7740$f$\u5728$\\mathbf{x}$\u6709\u5173\u8f93\u5165$x_i$\u7684\u53d8\u5316\u7387\u3002\u4e3a\u4e86\u6d4b\u91cf$f$\u6cbf\u7740\u5355\u4f4d\u5411\u91cf$\\mathbf{u}$\u65b9\u5411\u4e0a\u7684\u53d8\u5316\u7387\uff0c\u5728\u591a\u5143\u5fae\u79ef\u5206\u4e2d\uff0c\u6211\u4eec\u5b9a\u4e49$f$\u5728$\\mathbf{x}$\u4e0a\u6cbf\u7740$\\mathbf{u}$\u65b9\u5411\u7684\u65b9\u5411\u5bfc\u6570\u4e3a\n\n$$D_\\mathbf{u} f(\\mathbf{x}) = \\lim_{h \\rightarrow 0}  \\frac{f(\\mathbf{x} + h \\mathbf{u}) - f(\\mathbf{x})}{h}$$\n\n\u7531\u94fe\u5f0f\u6cd5\u5219\uff0c\u8be5\u65b9\u5411\u5bfc\u6570\u53ef\u4ee5\u6539\u5199\u4e3a\n\n$$D_\\mathbf{u} f(\\mathbf{x}) = \\nabla f(\\mathbf{x}) \\cdot \\mathbf{u}$$\n\n\u65b9\u5411\u5bfc\u6570$D_\\mathbf{u} f(\\mathbf{x})$\u7ed9\u51fa\u4e86$f$\u5728$\\mathbf{x}$\u4e0a\u6cbf\u7740\u6240\u6709\u53ef\u80fd\u65b9\u5411\u7684\u53d8\u5316\u7387\u3002\u4e3a\u4e86\u6700\u5c0f\u5316$f$\uff0c\u6211\u4eec\u5e0c\u671b\u627e\u5230$f$\u80fd\u88ab\u964d\u4f4e\u6700\u5feb\u7684\u65b9\u5411\u3002\u56e0\u6b64\uff0c\u6211\u4eec\u53ef\u4ee5\u901a\u8fc7$\\mathbf{u}$\u6765\u6700\u5c0f\u5316\u65b9\u5411\u5bfc\u6570$D_\\mathbf{u} f(\\mathbf{x})$\u3002\n\n\u7531\u4e8e$D_\\mathbf{u} f(\\mathbf{x}) = \\|\\nabla f(\\mathbf{x})\\| \\cdot \\|\\mathbf{u}\\|  \\cdot \\text{cos} (\\theta) = \\|\\nabla f(\\mathbf{x})\\|  \\cdot \\text{cos} (\\theta)$\uff0c\n\u5176\u4e2d$\\theta$\u4e3a$\\nabla f(\\mathbf{x})$\u548c$\\mathbf{u}$\u4e4b\u95f4\u7684\u5939\u89d2\uff0c\u5f53$\\theta = \\pi$\uff0c$\\text{cos}(\\theta)$\u53d6\u5f97\u6700\u5c0f\u503c-1\u3002\u56e0\u6b64\uff0c\u5f53$\\mathbf{u}$\u5728\u68af\u5ea6\u65b9\u5411$\\nabla f(\\mathbf{x})$\u7684\u76f8\u53cd\u65b9\u5411\u65f6\uff0c\u65b9\u5411\u5bfc\u6570$D_\\mathbf{u} f(\\mathbf{x})$\u88ab\u6700\u5c0f\u5316\u3002\u6240\u4ee5\uff0c\u6211\u4eec\u53ef\u80fd\u901a\u8fc7\u4e0b\u9762\u7684**\u68af\u5ea6\u4e0b\u964d\u7b97\u6cd5**\u6765\u4e0d\u65ad\u964d\u4f4e\u76ee\u6807\u51fd\u6570$f$\u7684\u503c\uff1a\n\n$$\\mathbf{x} := \\mathbf{x} - \\eta \\nabla f(\\mathbf{x})$$\n\n\u76f8\u540c\u5730\uff0c\u5176\u4e2d$\\eta$\uff08\u53d6\u6b63\u6570\uff09\u79f0\u4f5c\u5b66\u4e60\u7387\u6216\u6b65\u957f\u3002\n\n## \u968f\u673a\u68af\u5ea6\u4e0b\u964d\n\n\u7136\u800c\uff0c\u5f53\u8bad\u7ec3\u6570\u636e\u96c6\u5f88\u5927\u65f6\uff0c\u68af\u5ea6\u4e0b\u964d\u7b97\u6cd5\u53ef\u80fd\u4f1a\u96be\u4ee5\u4f7f\u7528\u3002\u4e3a\u4e86\u89e3\u91ca\u8fd9\u4e2a\u95ee\u9898\uff0c\u8003\u8651\u76ee\u6807\u51fd\u6570\n\n$$f(\\mathbf{x}) = \\frac{1}{n} \\sum_{i = 1}^n f_i(\\mathbf{x}),$$\n\n\u5176\u4e2d$f_i(\\mathbf{x})$\u662f\u6709\u5173\u7d22\u5f15\u4e3a$i$\u7684\u8bad\u7ec3\u6570\u636e\u70b9\u7684\u635f\u5931\u51fd\u6570\u3002\u9700\u8981\u5f3a\u8c03\u7684\u662f\uff0c\u68af\u5ea6\u4e0b\u964d\u6bcf\u6b21\u8fed\u4ee3\u7684\u8ba1\u7b97\u5f00\u9500\u968f\u7740$n$\u7ebf\u6027\u589e\u957f\u3002\u56e0\u6b64\uff0c\u5f53$n$\u5f88\u5927\u65f6\uff0c\u6bcf\u6b21\u8fed\u4ee3\u7684\u8ba1\u7b97\u5f00\u9500\u5f88\u9ad8\u3002\n\n\u8fd9\u65f6\u6211\u4eec\u9700\u8981**\u968f\u673a\u68af\u5ea6\u4e0b\u964d**\u7b97\u6cd5\u3002\u5728\u6bcf\u6b21\u8fed\u4ee3\u65f6\uff0c\u8be5\u7b97\u6cd5\u968f\u673a\u5747\u5300\u91c7\u6837$i$\u5e76\u8ba1\u7b97$\\nabla f_i(\\mathbf{x})$\u3002\u4e8b\u5b9e\u4e0a\uff0c\u968f\u673a\u68af\u5ea6$\\nabla f_i(\\mathbf{x})$\u662f\u5bf9\u68af\u5ea6$\\nabla f(\\mathbf{x})$\u7684\u65e0\u504f\u4f30\u8ba1\uff1a\n\n$$\\mathbb{E}_i \\nabla f_i(\\mathbf{x}) = \\frac{1}{n} \\sum_{i = 1}^n \\nabla f_i(\\mathbf{x}) = \\nabla f(\\mathbf{x})$$\n\n\n## \u5c0f\u6279\u91cf\u968f\u673a\u68af\u5ea6\u4e0b\u964d\n\n\n\u5e7f\u4e49\u4e0a\uff0c\u6bcf\u6b21\u8fed\u4ee3\u53ef\u4ee5\u968f\u673a\u5747\u5300\u91c7\u6837\u4e00\u4e2a\u7531\u8bad\u7ec3\u6570\u636e\u70b9\u7d22\u5f15\u6240\u7ec4\u6210\u7684\u5c0f\u6279\u91cf$\\mathcal{B}$\u3002\u7c7b\u4f3c\u5730\uff0c\u6211\u4eec\u53ef\u4ee5\u4f7f\u7528\n\n$$\\nabla f_\\mathcal{B}(\\mathbf{x}) = \\frac{1}{|\\mathcal{B}|} \\sum_{i \\in \\mathcal{B}}\\nabla f_i(\\mathbf{x})$$ \n\n\u6765\u66f4\u65b0$\\mathbf{x}$\uff1a\n\n$$\\mathbf{x} := \\mathbf{x} - \\eta \\nabla f_\\mathcal{B}(\\mathbf{x}),$$\n\n\u5176\u4e2d$|\\mathcal{B}|$\u4ee3\u8868\u6279\u91cf\u4e2d\u7d22\u5f15\u6570\u91cf\uff0c$\\eta$\uff08\u53d6\u6b63\u6570\uff09\u79f0\u4f5c\u5b66\u4e60\u7387\u6216\u6b65\u957f\u3002\u540c\u6837\uff0c\u5c0f\u6279\u91cf\u968f\u673a\u68af\u5ea6$\\nabla f_\\mathcal{B}(\\mathbf{x})$\u4e5f\u662f\u5bf9\u68af\u5ea6$\\nabla f(\\mathbf{x})$\u7684\u65e0\u504f\u4f30\u8ba1:\n\n$$\\mathbb{E}_\\mathcal{B} \\nabla f_\\mathcal{B}(\\mathbf{x}) = \\nabla f(\\mathbf{x}).$$\n\n\u8fd9\u4e2a\u7b97\u6cd5\u53eb\u505a**\u5c0f\u6279\u91cf\u968f\u673a\u68af\u5ea6\u4e0b\u964d**\u3002\u8be5\u7b97\u6cd5\u6bcf\u6b21\u8fed\u4ee3\u7684\u8ba1\u7b97\u5f00\u9500\u4e3a$\\mathcal{O}(|\\mathcal{B}|)$\u3002\u56e0\u6b64\uff0c\u5f53\u6279\u91cf\u8f83\u5c0f\u65f6\uff0c\u6bcf\u6b21\u8fed\u4ee3\u7684\u8ba1\u7b97\u5f00\u9500\u4e5f\u8f83\u5c0f\u3002\n\n\n\n## \u7b97\u6cd5\u5b9e\u73b0\u548c\u5b9e\u9a8c\n\n\u6211\u4eec\u53ea\u9700\u8981\u5b9e\u73b0\u5c0f\u6279\u91cf\u968f\u673a\u68af\u5ea6\u4e0b\u964d\u3002\u5f53\u6279\u91cf\u5927\u5c0f\u7b49\u4e8e\u8bad\u7ec3\u96c6\u5927\u5c0f\u65f6\uff0c\u8be5\u7b97\u6cd5\u5373\u4e3a\u68af\u5ea6\u4e0b\u964d\uff1b\u6279\u91cf\u5927\u5c0f\u4e3a1\u5373\u4e3a\u968f\u673a\u68af\u5ea6\u4e0b\u964d\u3002", 
            "cell_type": "markdown", 
            "metadata": {}
        }, 
        {
            "execution_count": null, 
            "cell_type": "code", 
            "metadata": {
                "attributes": {
                    "classes": [], 
                    "id": "", 
                    "n": "1"
                }
            }, 
            "outputs": [], 
            "source": "# \u5c0f\u6279\u91cf\u968f\u673a\u68af\u5ea6\u4e0b\u964d\u3002\ndef sgd(params, lr, batch_size):\n    for param in params:\n        param[:] = param - lr * param.grad / batch_size"
        }, 
        {
            "source": "\u5b9e\u9a8c\u4e2d\uff0c\u6211\u4eec\u4ee5\u7ebf\u6027\u56de\u5f52\u4e3a\u4f8b\u3002\u5176\u4e2d\u771f\u5b9e\u53c2\u6570`w`\u4e3a[2, -3.4]\uff0c`b`\u4e3a4.2\u3002", 
            "cell_type": "markdown", 
            "metadata": {}
        }, 
        {
            "execution_count": null, 
            "cell_type": "code", 
            "metadata": {
                "attributes": {
                    "classes": [], 
                    "id": "", 
                    "n": "2"
                }
            }, 
            "outputs": [], 
            "source": "import mxnet as mx\nfrom mxnet import autograd\nfrom mxnet import ndarray as nd\nfrom mxnet import gluon\nimport random\n\nmx.random.seed(1)\nrandom.seed(1)\n\n# \u751f\u6210\u6570\u636e\u96c6\u3002\nnum_inputs = 2\nnum_examples = 1000\ntrue_w = [2, -3.4]\ntrue_b = 4.2\nX = nd.random_normal(scale=1, shape=(num_examples, num_inputs))\ny = true_w[0] * X[:, 0] + true_w[1] * X[:, 1] + true_b\ny += .01 * nd.random_normal(scale=1, shape=y.shape)\ndataset = gluon.data.ArrayDataset(X, y)\n\n# \u6784\u9020\u8fed\u4ee3\u5668\u3002\nimport random\ndef data_iter(batch_size):\n    idx = list(range(num_examples))\n    random.shuffle(idx)\n    for batch_i, i in enumerate(range(0, num_examples, batch_size)):\n        j = nd.array(idx[i: min(i + batch_size, num_examples)])\n        yield batch_i, X.take(j), y.take(j)\n\n# \u521d\u59cb\u5316\u6a21\u578b\u53c2\u6570\u3002\ndef init_params():\n    w = nd.random_normal(scale=1, shape=(num_inputs, 1))\n    b = nd.zeros(shape=(1,))\n    params = [w, b]\n    for param in params:\n        param.attach_grad()\n    return params\n\n# \u7ebf\u6027\u56de\u5f52\u6a21\u578b\u3002\ndef net(X, w, b):\n    return nd.dot(X, w) + b\n\n# \u635f\u5931\u51fd\u6570\u3002\ndef square_loss(yhat, y):\n    return (yhat - y.reshape(yhat.shape)) ** 2 / 2"
        }, 
        {
            "source": "\u63a5\u4e0b\u6765\u5b9a\u4e49\u8bad\u7ec3\u51fd\u6570\u3002\u5f53epoch\u5927\u4e8e2\u65f6\uff08epoch\u4ece1\u5f00\u59cb\u8ba1\u6570\uff09\uff0c\u5b66\u4e60\u7387\u4ee5\u81ea\u4e580.1\u7684\u65b9\u5f0f\u81ea\u6211\u8870\u51cf\u3002\u8bad\u7ec3\u51fd\u6570\u7684period\u53c2\u6570\u8bf4\u660e\uff0c\u6bcf\u6b21\u91c7\u6837\u8fc7\u8be5\u6570\u76ee\u7684\u6570\u636e\u70b9\u540e\uff0c\u8bb0\u5f55\u5f53\u524d\u76ee\u6807\u51fd\u6570\u503c\u7528\u4e8e\u4f5c\u56fe\u3002\u4f8b\u5982\uff0c\u5f53period\u548cbatch_size\u90fd\u4e3a10\u65f6\uff0c\u6bcf\u6b21\u8fed\u4ee3\u540e\u5747\u4f1a\u8bb0\u5f55\u76ee\u6807\u51fd\u6570\u503c\u3002", 
            "cell_type": "markdown", 
            "metadata": {}
        }, 
        {
            "execution_count": null, 
            "cell_type": "code", 
            "metadata": {
                "attributes": {
                    "classes": [], 
                    "id": "", 
                    "n": "3"
                }
            }, 
            "outputs": [], 
            "source": "%matplotlib inline\nimport matplotlib as mpl\nmpl.rcParams['figure.dpi']= 120\nimport matplotlib.pyplot as plt\nimport numpy as np\n\ndef train(batch_size, lr, epochs, period):\n    assert period >= batch_size and period % batch_size == 0\n    w, b = init_params()\n    total_loss = [np.mean(square_loss(net(X, w, b), y).asnumpy())]\n    # \u6ce8\u610fepoch\u4ece1\u5f00\u59cb\u8ba1\u6570\u3002\n    for epoch in range(1, epochs + 1):\n        # \u5b66\u4e60\u7387\u81ea\u6211\u8870\u51cf\u3002\n        if epoch > 2:\n            lr *= 0.1\n        for batch_i, data, label in data_iter(batch_size):\n            with autograd.record():\n                output = net(data, w, b)\n                loss = square_loss(output, label)\n            loss.backward()\n            sgd([w, b], lr, batch_size)\n            if batch_i * batch_size % period == 0:\n                total_loss.append(\n                    np.mean(square_loss(net(X, w, b), y).asnumpy()))\n        print(\"Batch size %d, Learning rate %f, Epoch %d, loss %.4e\" % \n              (batch_size, lr, epoch, total_loss[-1]))\n    print('w:', np.reshape(w.asnumpy(), (1, -1)), \n          'b:', b.asnumpy()[0], '\\n')\n    x_axis = np.linspace(0, epochs, len(total_loss), endpoint=True)\n    plt.semilogy(x_axis, total_loss)\n    plt.xlabel('epoch')\n    plt.ylabel('loss')\n    plt.show()"
        }, 
        {
            "source": "\u5f53\u6279\u91cf\u5927\u5c0f\u4e3a1\u65f6\uff0c\u8bad\u7ec3\u4f7f\u7528\u7684\u662f\u968f\u673a\u68af\u5ea6\u4e0b\u964d\u3002\u5728\u5f53\u524d\u5b66\u4e60\u7387\u4e0b\uff0c\u76ee\u6807\u51fd\u6570\u503c\u5728\u65e9\u671f\u5feb\u901f\u4e0b\u964d\u540e\u7565\u6709\u6ce2\u52a8\u3002\u5f53epoch\u5927\u4e8e2\uff0c\u5b66\u4e60\u7387\u81ea\u6211\u8870\u51cf\u540e\uff0c\u76ee\u6807\u51fd\u6570\u503c\u4e0b\u964d\u540e\u8f83\u5e73\u7a33\u3002\u6700\u7ec8\u5b66\u5230\u7684\u53c2\u6570\u503c\u4e0e\u771f\u5b9e\u503c\u8f83\u63a5\u8fd1\u3002", 
            "cell_type": "markdown", 
            "metadata": {}
        }, 
        {
            "execution_count": null, 
            "cell_type": "code", 
            "metadata": {
                "attributes": {
                    "classes": [], 
                    "id": "", 
                    "n": "4"
                }
            }, 
            "outputs": [], 
            "source": "train(batch_size=1, lr=0.2, epochs=3, period=10)"
        }, 
        {
            "source": "\u5f53\u6279\u91cf\u5927\u5c0f\u4e3a1000\u65f6\uff0c\u7531\u4e8e\u8bad\u7ec3\u6570\u636e\u96c6\u542b1000\u4e2a\u6837\u672c\uff0c\u6b64\u65f6\u8bad\u7ec3\u4f7f\u7528\u7684\u662f\u68af\u5ea6\u4e0b\u964d\u3002\u5728\u5f53\u524d\u5b66\u4e60\u7387\u4e0b\uff0c\u76ee\u6807\u51fd\u6570\u503c\u5728\u524d\u4e24\u4e2aepoch\u4e0b\u964d\u8f83\u5feb\u3002\u5f53epoch\u5927\u4e8e2\uff0c\u5b66\u4e60\u7387\u81ea\u6211\u8870\u51cf\u540e\uff0c\u76ee\u6807\u51fd\u6570\u503c\u4e0b\u964d\u8f83\u6162\u3002\u6700\u7ec8\u5b66\u5230\u7684\u53c2\u6570\u503c\u4e0e\u771f\u5b9e\u503c\u8f83\u63a5\u8fd1\u3002", 
            "cell_type": "markdown", 
            "metadata": {}
        }, 
        {
            "execution_count": null, 
            "cell_type": "code", 
            "metadata": {
                "attributes": {
                    "classes": [], 
                    "id": "", 
                    "n": "5"
                }
            }, 
            "outputs": [], 
            "source": "train(batch_size=1000, lr=0.999, epochs=3, period=1000)"
        }, 
        {
            "source": "\u5f53\u6279\u91cf\u5927\u5c0f\u4e3a10\u65f6\uff0c\u7531\u4e8e\u8bad\u7ec3\u6570\u636e\u96c6\u542b1000\u4e2a\u6837\u672c\uff0c\u6b64\u65f6\u8bad\u7ec3\u4f7f\u7528\u7684\u662f\u5c0f\u6279\u91cf\u968f\u673a\u68af\u5ea6\u4e0b\u964d\u3002\u6700\u7ec8\u5b66\u5230\u7684\u53c2\u6570\u503c\u4e0e\u771f\u5b9e\u503c\u8f83\u63a5\u8fd1\u3002", 
            "cell_type": "markdown", 
            "metadata": {}
        }, 
        {
            "execution_count": null, 
            "cell_type": "code", 
            "metadata": {
                "attributes": {
                    "classes": [], 
                    "id": "", 
                    "n": "6"
                }
            }, 
            "outputs": [], 
            "source": "train(batch_size=10, lr=0.2, epochs=3, period=10)"
        }, 
        {
            "source": "\u540c\u6837\u662f\u6279\u91cf\u5927\u5c0f\u4e3a10\uff0c\u6211\u4eec\u628a\u5b66\u4e60\u7387\u6539\u5927\u3002\u8fd9\u65f6\u6211\u4eec\u89c2\u5bdf\u5230\u76ee\u6807\u51fd\u6570\u503c\u4e0d\u65ad\u589e\u5927\u3002\u8fd9\u65f6\u5178\u578b\u7684overshooting\u95ee\u9898\u3002", 
            "cell_type": "markdown", 
            "metadata": {}
        }, 
        {
            "execution_count": null, 
            "cell_type": "code", 
            "metadata": {
                "attributes": {
                    "classes": [], 
                    "id": "", 
                    "n": "7"
                }
            }, 
            "outputs": [], 
            "source": "train(batch_size=10, lr=5, epochs=3, period=10)"
        }, 
        {
            "source": "\u540c\u6837\u662f\u6279\u91cf\u5927\u5c0f\u4e3a10\uff0c\u6211\u4eec\u628a\u5b66\u4e60\u7387\u6539\u5c0f\u3002\u8fd9\u65f6\u6211\u4eec\u89c2\u5bdf\u5230\u76ee\u6807\u51fd\u6570\u503c\u4e0b\u964d\u8f83\u6162\uff0c\u76f4\u52303\u4e2aepoch\u4e5f\u6ca1\u80fd\u5f97\u5230\u63a5\u8fd1\u771f\u5b9e\u503c\u7684\u89e3\u3002", 
            "cell_type": "markdown", 
            "metadata": {}
        }, 
        {
            "execution_count": null, 
            "cell_type": "code", 
            "metadata": {
                "attributes": {
                    "classes": [], 
                    "id": "", 
                    "n": "8"
                }
            }, 
            "outputs": [], 
            "source": "train(batch_size=10, lr=0.002, epochs=3, period=10)"
        }, 
        {
            "source": "## \u7ed3\u8bba\n\n* \u5f53\u8bad\u7ec3\u6570\u636e\u8f83\u5927\uff0c\u68af\u5ea6\u4e0b\u964d\u6bcf\u6b21\u8fed\u4ee3\u8ba1\u7b97\u5f00\u9500\u8f83\u5927\uff0c\u56e0\u800c\uff08\u5c0f\u6279\u91cf\uff09\u968f\u673a\u68af\u5ea6\u4e0b\u964d\u66f4\u53d7\u9752\u7750\u3002\n* \u5b66\u4e60\u7387\u8fc7\u5927\u8fc7\u5c0f\u90fd\u6709\u95ee\u9898\u3002\u5408\u9002\u7684\u5b66\u4e60\u7387\u8981\u9760\u5b9e\u9a8c\u6765\u8c03\u3002\n\n\n## \u7ec3\u4e60\n\n* \u4e3a\u4ec0\u4e48\u5b9e\u9a8c\u4e2d\u968f\u673a\u68af\u5ea6\u4e0b\u964d\u7684\u5b66\u4e60\u7387\u662f\u81ea\u6211\u8870\u51cf\u7684\uff1f\n* \u68af\u5ea6\u4e0b\u964d\u548c\u968f\u673a\u68af\u5ea6\u4e0b\u964d\u867d\u7136\u770b\u4e0a\u53bb\u6709\u6548\uff0c\u4f46\u53ef\u80fd\u4f1a\u6709\u54ea\u4e9b\u95ee\u9898\uff1f\n\n\n**\u5410\u69fd\u548c\u8ba8\u8bba\u6b22\u8fce\u70b9**[\u8fd9\u91cc](https://discuss.gluon.ai/t/topic/1877)", 
            "cell_type": "markdown", 
            "metadata": {}
        }
    ], 
    "metadata": {
        "kernelspec": {
            "display_name": "Python 2 with Spark 1.6 (Unsupported)", 
            "name": "python2", 
            "language": "python"
        }, 
        "language_info": {
            "mimetype": "text/x-python", 
            "nbconvert_exporter": "python", 
            "version": "2.7.11", 
            "name": "python", 
            "file_extension": ".py", 
            "pygments_lexer": "ipython2", 
            "codemirror_mode": {
                "version": 2, 
                "name": "ipython"
            }
        }
    }, 
    "nbformat": 4
}