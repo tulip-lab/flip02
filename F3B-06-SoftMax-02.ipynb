{
    "nbformat_minor": 2, 
    "cells": [
        {
            "source": "# \u591a\u7c7b\u903b\u8f91\u56de\u5f52 --- \u4f7f\u7528Gluon\n\n\u73b0\u5728\u8ba9\u6211\u4eec\u4f7f\u7528gluon\u6765\u66f4\u5feb\u901f\u5730\u5b9e\u73b0\u4e00\u4e2a\u591a\u7c7b\u903b\u8f91\u56de\u5f52\u3002\n\n## \u83b7\u53d6\u548c\u8bfb\u53d6\u6570\u636e\n\n\u6211\u4eec\u4ecd\u7136\u4f7f\u7528FashionMNIST\u3002\u6211\u4eec\u5c06\u4ee3\u7801\u4fdd\u5b58\u5728[../utils.py](../utils.py)\u8fd9\u6837\u8fd9\u91cc\u4e0d\u7528\u590d\u5236\u4e00\u904d\u3002", 
            "cell_type": "markdown", 
            "metadata": {}
        }, 
        {
            "execution_count": 3, 
            "cell_type": "code", 
            "metadata": {}, 
            "outputs": [
                {
                    "output_type": "stream", 
                    "name": "stdout", 
                    "text": "Collecting mxnet\n  Using cached mxnet-1.1.0-py2.py3-none-manylinux1_x86_64.whl\nCollecting numpy<=1.13.3 (from mxnet)\n  Downloading numpy-1.13.3-cp35-cp35m-manylinux1_x86_64.whl (16.9MB)\n\u001b[K    100% |\u2588\u2588\u2588\u2588\u2588\u2588\u2588\u2588\u2588\u2588\u2588\u2588\u2588\u2588\u2588\u2588\u2588\u2588\u2588\u2588\u2588\u2588\u2588\u2588\u2588\u2588\u2588\u2588\u2588\u2588\u2588\u2588| 16.9MB 73kB/s  eta 0:00:01\n\u001b[?25hCollecting graphviz==0.8.1 (from mxnet)\n  Using cached graphviz-0.8.1-py2.py3-none-any.whl\nRequirement already satisfied: requests==2.18.4 in /usr/local/src/conda3_runtime.v28/home/envs/DSX-Python35-Spark/lib/python3.5/site-packages (from mxnet)\nRequirement already satisfied: chardet<3.1.0,>=3.0.2 in /usr/local/src/conda3_runtime.v28/home/envs/DSX-Python35-Spark/lib/python3.5/site-packages (from requests==2.18.4->mxnet)\nRequirement already satisfied: idna<2.7,>=2.5 in /usr/local/src/conda3_runtime.v28/home/envs/DSX-Python35-Spark/lib/python3.5/site-packages (from requests==2.18.4->mxnet)\nRequirement already satisfied: urllib3<1.23,>=1.21.1 in /usr/local/src/conda3_runtime.v28/home/envs/DSX-Python35-Spark/lib/python3.5/site-packages (from requests==2.18.4->mxnet)\nRequirement already satisfied: certifi>=2017.4.17 in /usr/local/src/conda3_runtime.v28/home/envs/DSX-Python35-Spark/lib/python3.5/site-packages (from requests==2.18.4->mxnet)\nInstalling collected packages: numpy, graphviz, mxnet\n  Found existing installation: numpy 1.14.1\n    Uninstalling numpy-1.14.1:\n      Successfully uninstalled numpy-1.14.1\n  Found existing installation: graphviz 0.8.2\n    Uninstalling graphviz-0.8.2:\n      Successfully uninstalled graphviz-0.8.2\nSuccessfully installed graphviz-0.8.1 mxnet-1.1.0 numpy-1.13.3\n"
                }
            ], 
            "source": "!pip install mxnet"
        }, 
        {
            "execution_count": 4, 
            "cell_type": "code", 
            "metadata": {
                "attributes": {
                    "classes": [], 
                    "id": "", 
                    "n": "1"
                }
            }, 
            "outputs": [
                {
                    "output_type": "stream", 
                    "name": "stderr", 
                    "text": "/usr/local/src/conda3_runtime/home/envs/DSX-Python35-Spark/lib/python3.5/site-packages/h5py/__init__.py:34: FutureWarning: Conversion of the second argument of issubdtype from `float` to `np.floating` is deprecated. In future, it will be treated as `np.float64 == np.dtype(float).type`.\n  from ._conv import register_converters as _register_converters\n/usr/local/src/conda3_runtime/home/envs/DSX-Python35-Spark/lib/python3.5/site-packages/urllib3/contrib/pyopenssl.py:46: DeprecationWarning: OpenSSL.rand is deprecated - you should use os.urandom instead\n  import OpenSSL.SSL\n/usr/local/src/conda3_runtime/home/envs/DSX-Python35-Spark/lib/python3.5/site-packages/matplotlib/style/core.py:203: UserWarning: In /gpfs/fs01/user/s05b-0294eb3de63d2e-b5498f932ea5/.config/matplotlib/stylelib/my_custom_style.mplstyle: axes.color_cycle is deprecated and replaced with axes.prop_cycle; please use the latter.\n  warnings.warn(message)\n/gpfs/fs01/user/s05b-0294eb3de63d2e-b5498f932ea5/.local/lib/python3.5/site-packages/mxnet/gluon/data/vision/datasets.py:118: DeprecationWarning: The binary mode of fromstring is deprecated, as it behaves surprisingly on unicode inputs. Use frombuffer instead\n  label = np.fromstring(fin.read(), dtype=np.uint8).astype(np.int32)\n/gpfs/fs01/user/s05b-0294eb3de63d2e-b5498f932ea5/.local/lib/python3.5/site-packages/mxnet/gluon/data/vision/datasets.py:122: DeprecationWarning: The binary mode of fromstring is deprecated, as it behaves surprisingly on unicode inputs. Use frombuffer instead\n  data = np.fromstring(fin.read(), dtype=np.uint8)\n"
                }
            ], 
            "source": "import sys\nsys.path.append('..')\nimport utils\n\nbatch_size = 256\ntrain_data, test_data = utils.load_data_fashion_mnist(batch_size)"
        }, 
        {
            "execution_count": 5, 
            "cell_type": "code", 
            "metadata": {}, 
            "outputs": [
                {
                    "output_type": "stream", 
                    "name": "stdout", 
                    "text": "apache_access_log-beaa3.PROJECT  models\t\t\tshakespeare.txt\r\nbrain_body_data.csv\t\t moviedataset.zip\tsimple-examples.tgz\r\ndata.npy\t\t\t mtcars (1).csv\t\tsummary_logs\r\ndatasets\t\t\t mtcars.csv\t\ttf_logs\r\ndl\t\t\t\t PierceCricketData.csv\tutils2.py\r\nkdd.gz\t\t\t\t ptb.zip\t\tutils.py\r\nlangmod\t\t\t\t __pycache__\t\tutils.pyc\r\nlena (2).png\t\t\t reader.pyc\t\tvocab.pkl\r\nlena.png\t\t\t recsys\r\nMNIST_data\t\t\t shakespeare (1).txt\r\n"
                }
            ], 
            "source": "!ls"
        }, 
        {
            "source": "## \u5b9a\u4e49\u548c\u521d\u59cb\u5316\u6a21\u578b\n\n\u6211\u4eec\u5148\u4f7f\u7528Flatten\u5c42\u5c06\u8f93\u5165\u6570\u636e\u8f6c\u6210 `batch_size` x `?` \u7684\u77e9\u9635\uff0c\u7136\u540e\u8f93\u5165\u523010\u4e2a\u8f93\u51fa\u8282\u70b9\u7684\u5168\u8fde\u63a5\u5c42\u3002\u7167\u4f8b\u6211\u4eec\u4e0d\u9700\u8981\u5236\u5b9a\u6bcf\u5c42\u8f93\u5165\u7684\u5927\u5c0f\uff0cgluon\u4f1a\u505a\u81ea\u52a8\u63a8\u5bfc\u3002", 
            "cell_type": "markdown", 
            "metadata": {}
        }, 
        {
            "execution_count": 7, 
            "cell_type": "code", 
            "metadata": {
                "attributes": {
                    "classes": [], 
                    "id": "", 
                    "n": "2"
                }
            }, 
            "outputs": [], 
            "source": "from mxnet import gluon\n\nnet = gluon.nn.Sequential()\nwith net.name_scope():\n    net.add(gluon.nn.Flatten())\n    net.add(gluon.nn.Dense(10))\nnet.initialize()"
        }, 
        {
            "source": "## Softmax\u548c\u4ea4\u53c9\u71b5\u635f\u5931\u51fd\u6570\n\n\u5982\u679c\u4f60\u505a\u4e86\u4e0a\u4e00\u7ae0\u7684\u7ec3\u4e60\uff0c\u90a3\u4e48\u4f60\u53ef\u80fd\u610f\u8bc6\u5230\u4e86\u5206\u5f00\u5b9a\u4e49Softmax\u548c\u4ea4\u53c9\u71b5\u4f1a\u6709\u6570\u503c\u4e0d\u7a33\u5b9a\u6027\u3002\u56e0\u6b64gluon\u63d0\u4f9b\u4e00\u4e2a\u5c06\u8fd9\u4e24\u4e2a\u51fd\u6570\u5408\u8d77\u6765\u7684\u6570\u503c\u66f4\u7a33\u5b9a\u7684\u7248\u672c", 
            "cell_type": "markdown", 
            "metadata": {}
        }, 
        {
            "execution_count": 8, 
            "cell_type": "code", 
            "metadata": {
                "attributes": {
                    "classes": [], 
                    "id": "", 
                    "n": "3"
                }
            }, 
            "outputs": [], 
            "source": "softmax_cross_entropy = gluon.loss.SoftmaxCrossEntropyLoss()"
        }, 
        {
            "source": "## \u4f18\u5316", 
            "cell_type": "markdown", 
            "metadata": {}
        }, 
        {
            "execution_count": 9, 
            "cell_type": "code", 
            "metadata": {
                "attributes": {
                    "classes": [], 
                    "id": "", 
                    "n": "4"
                }
            }, 
            "outputs": [], 
            "source": "trainer = gluon.Trainer(net.collect_params(), 'sgd', {'learning_rate': 0.1})"
        }, 
        {
            "source": "## \u8bad\u7ec3", 
            "cell_type": "markdown", 
            "metadata": {}
        }, 
        {
            "execution_count": 10, 
            "cell_type": "code", 
            "metadata": {
                "attributes": {
                    "classes": [], 
                    "id": "", 
                    "n": "5"
                }
            }, 
            "outputs": [
                {
                    "output_type": "stream", 
                    "name": "stdout", 
                    "text": "Epoch 0. Loss: 0.800408, Train acc 0.740318, Test acc 0.803686\nEpoch 1. Loss: 0.576033, Train acc 0.810113, Test acc 0.816306\nEpoch 2. Loss: 0.529953, Train acc 0.822666, Test acc 0.828425\nEpoch 3. Loss: 0.507838, Train acc 0.828509, Test acc 0.838542\nEpoch 4. Loss: 0.491577, Train acc 0.833400, Test acc 0.839343\n"
                }
            ], 
            "source": "from mxnet import ndarray as nd\nfrom mxnet import autograd\n\nfor epoch in range(5):\n    train_loss = 0.\n    train_acc = 0.\n    for data, label in train_data:\n        with autograd.record():\n            output = net(data)\n            loss = softmax_cross_entropy(output, label)\n        loss.backward()\n        trainer.step(batch_size)\n\n        train_loss += nd.mean(loss).asscalar()\n        train_acc += utils.accuracy(output, label)\n\n    test_acc = utils.evaluate_accuracy(test_data, net)\n    print(\"Epoch %d. Loss: %f, Train acc %f, Test acc %f\" % (\n        epoch, train_loss/len(train_data), train_acc/len(train_data), test_acc))"
        }, 
        {
            "source": "## \u7ed3\u8bba\n\nGluon\u63d0\u4f9b\u7684\u51fd\u6570\u6709\u65f6\u5019\u6bd4\u624b\u5de5\u5199\u7684\u6570\u503c\u66f4\u7a33\u5b9a\u3002\n\n## \u7ec3\u4e60\n\n- \u518d\u5c1d\u8bd5\u8c03\u5927\u4e0b\u5b66\u4e60\u7387\u770b\u770b\uff1f\n- \u4e3a\u4ec0\u4e48\u53c2\u6570\u90fd\u5dee\u4e0d\u591a\uff0c\u4f46gluon\u7248\u672c\u6bd4\u4ece0\u5f00\u59cb\u7684\u7248\u672c\u7cbe\u5ea6\u66f4\u9ad8\uff1f\n\n**\u5410\u69fd\u548c\u8ba8\u8bba\u6b22\u8fce\u70b9**[\u8fd9\u91cc](https://discuss.gluon.ai/t/topic/740)", 
            "cell_type": "markdown", 
            "metadata": {}
        }
    ], 
    "metadata": {
        "kernelspec": {
            "display_name": "Python 3.5 with Spark 2.1", 
            "name": "python3-spark21", 
            "language": "python"
        }, 
        "language_info": {
            "mimetype": "text/x-python", 
            "nbconvert_exporter": "python", 
            "version": "3.5.4", 
            "name": "python", 
            "file_extension": ".py", 
            "pygments_lexer": "ipython3", 
            "codemirror_mode": {
                "version": 3, 
                "name": "ipython"
            }
        }
    }, 
    "nbformat": 4
}