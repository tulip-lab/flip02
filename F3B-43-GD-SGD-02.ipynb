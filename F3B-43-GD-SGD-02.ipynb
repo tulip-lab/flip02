{
    "nbformat_minor": 2, 
    "cells": [
        {
            "source": "# \u68af\u5ea6\u4e0b\u964d\u548c\u968f\u673a\u68af\u5ea6\u4e0b\u964d --- \u4f7f\u7528Gluon\n\n\u5728`Gluon`\u91cc\uff0c\u4f7f\u7528\u5c0f\u6279\u91cf\u968f\u673a\u68af\u5ea6\u4e0b\u964d\u5f88\u5bb9\u6613\u3002\u6211\u4eec\u65e0\u9700\u91cd\u65b0\u5b9e\u73b0\u8be5\u7b97\u6cd5\u3002\u7279\u522b\u5730\uff0c\u5f53\u6279\u91cf\u5927\u5c0f\u7b49\u4e8e\u8bad\u7ec3\u96c6\u5927\u5c0f\u65f6\uff0c\u8be5\u7b97\u6cd5\u5373\u4e3a\u68af\u5ea6\u4e0b\u964d\uff1b\u6279\u91cf\u5927\u5c0f\u4e3a1\u5373\u4e3a\u968f\u673a\u68af\u5ea6\u4e0b\u964d\u3002", 
            "cell_type": "markdown", 
            "metadata": {}
        }, 
        {
            "execution_count": null, 
            "cell_type": "code", 
            "metadata": {
                "attributes": {
                    "classes": [], 
                    "id": "", 
                    "n": "1"
                }
            }, 
            "outputs": [], 
            "source": "import mxnet as mx\nfrom mxnet import autograd\nfrom mxnet import gluon\nfrom mxnet import ndarray as nd\nimport numpy as np\nimport random\n\nmx.random.seed(1)\nrandom.seed(1)\n\n# \u751f\u6210\u6570\u636e\u96c6\u3002\nnum_inputs = 2\nnum_examples = 1000\ntrue_w = [2, -3.4]\ntrue_b = 4.2\nX = nd.random_normal(scale=1, shape=(num_examples, num_inputs))\ny = true_w[0] * X[:, 0] + true_w[1] * X[:, 1] + true_b\ny += .01 * nd.random_normal(scale=1, shape=y.shape)\ndataset = gluon.data.ArrayDataset(X, y)\n\nnet = gluon.nn.Sequential()\nnet.add(gluon.nn.Dense(1))\nsquare_loss = gluon.loss.L2Loss()"
        }, 
        {
            "source": "\u4e3a\u4e86\u4f7f\u5b66\u4e60\u7387\u5728\u4e24\u4e2aepoch\u540e\u81ea\u6211\u8870\u51cf\uff0c\u6211\u4eec\u9700\u8981\u8bbf\u95ee`gluon.Trainer`\u7684`learning_rate`\u5c5e\u6027\u548c`set_learning_rate`\u51fd\u6570\u3002", 
            "cell_type": "markdown", 
            "metadata": {}
        }, 
        {
            "execution_count": null, 
            "cell_type": "code", 
            "metadata": {
                "attributes": {
                    "classes": [], 
                    "id": "", 
                    "n": "2"
                }
            }, 
            "outputs": [], 
            "source": "%matplotlib inline\nimport matplotlib as mpl\nmpl.rcParams['figure.dpi']= 120\nimport matplotlib.pyplot as plt\n\ndef train(batch_size, lr, epochs, period):\n    assert period >= batch_size and period % batch_size == 0\n    net.collect_params().initialize(mx.init.Normal(sigma=1), force_reinit=True)\n    # \u968f\u673a\u68af\u5ea6\u4e0b\u964d\u3002\n    trainer = gluon.Trainer(net.collect_params(), 'sgd',\n                            {'learning_rate': lr})\n    data_iter = gluon.data.DataLoader(dataset, batch_size, shuffle=True)\n    total_loss = [np.mean(square_loss(net(X), y).asnumpy())]\n    for epoch in range(1, epochs + 1):\n        # \u5b66\u4e60\u7387\u81ea\u6211\u8870\u51cf\u3002\n        if epoch > 2:\n            trainer.set_learning_rate(trainer.learning_rate * 0.1)\n        for batch_i, (data, label) in enumerate(data_iter):\n            with autograd.record():\n                output = net(data)\n                loss = square_loss(output, label)\n            loss.backward()\n            trainer.step(batch_size)\n            if batch_i * batch_size % period == 0:\n                total_loss.append(np.mean(square_loss(net(X), y).asnumpy()))\n        print(\"Batch size %d, Learning rate %f, Epoch %d, loss %.4e\" % \n              (batch_size, trainer.learning_rate, epoch, total_loss[-1]))\n\n    print('w:', np.reshape(net[0].weight.data().asnumpy(), (1, -1)), \n          'b:', net[0].bias.data().asnumpy()[0], '\\n')\n    x_axis = np.linspace(0, epochs, len(total_loss), endpoint=True)\n    plt.semilogy(x_axis, total_loss)\n    plt.xlabel('epoch')\n    plt.ylabel('loss')\n    plt.show()"
        }, 
        {
            "source": "\u5f53\u6279\u91cf\u5927\u5c0f\u4e3a1\u65f6\uff0c\u8bad\u7ec3\u4f7f\u7528\u7684\u662f\u968f\u673a\u68af\u5ea6\u4e0b\u964d\u3002\u5728\u5f53\u524d\u5b66\u4e60\u7387\u4e0b\uff0c\u76ee\u6807\u51fd\u6570\u503c\u5728\u65e9\u671f\u5feb\u901f\u4e0b\u964d\u540e\u7565\u6709\u6ce2\u52a8\u3002\u5f53epoch\u5927\u4e8e2\uff0c\u5b66\u4e60\u7387\u81ea\u6211\u8870\u51cf\u540e\uff0c\u76ee\u6807\u51fd\u6570\u503c\u4e0b\u964d\u540e\u8f83\u5e73\u7a33\u3002\u6700\u7ec8\u5b66\u5230\u7684\u53c2\u6570\u503c\u4e0e\u771f\u5b9e\u503c\u8f83\u63a5\u8fd1\u3002", 
            "cell_type": "markdown", 
            "metadata": {}
        }, 
        {
            "execution_count": null, 
            "cell_type": "code", 
            "metadata": {
                "attributes": {
                    "classes": [], 
                    "id": "", 
                    "n": "3"
                }
            }, 
            "outputs": [], 
            "source": "train(batch_size=1, lr=0.2, epochs=3, period=10)"
        }, 
        {
            "source": "\u5f53\u6279\u91cf\u5927\u5c0f\u4e3a1000\u65f6\uff0c\u7531\u4e8e\u8bad\u7ec3\u6570\u636e\u96c6\u542b1000\u4e2a\u6837\u672c\uff0c\u6b64\u65f6\u8bad\u7ec3\u4f7f\u7528\u7684\u662f\u68af\u5ea6\u4e0b\u964d\u3002\u5728\u5f53\u524d\u5b66\u4e60\u7387\u4e0b\uff0c\u76ee\u6807\u51fd\u6570\u503c\u5728\u524d\u4e24\u4e2aepoch\u4e0b\u964d\u8f83\u5feb\u3002\u5f53epoch\u5927\u4e8e2\uff0c\u5b66\u4e60\u7387\u81ea\u6211\u8870\u51cf\u540e\uff0c\u76ee\u6807\u51fd\u6570\u503c\u4e0b\u964d\u8f83\u6162\u3002\u6700\u7ec8\u5b66\u5230\u7684\u53c2\u6570\u503c\u4e0e\u771f\u5b9e\u503c\u8f83\u63a5\u8fd1\u3002", 
            "cell_type": "markdown", 
            "metadata": {}
        }, 
        {
            "execution_count": null, 
            "cell_type": "code", 
            "metadata": {
                "attributes": {
                    "classes": [], 
                    "id": "", 
                    "n": "4"
                }
            }, 
            "outputs": [], 
            "source": "train(batch_size=1000, lr=0.999, epochs=3, period=1000)"
        }, 
        {
            "source": "\u5f53\u6279\u91cf\u5927\u5c0f\u4e3a10\u65f6\uff0c\u7531\u4e8e\u8bad\u7ec3\u6570\u636e\u96c6\u542b1000\u4e2a\u6837\u672c\uff0c\u6b64\u65f6\u8bad\u7ec3\u4f7f\u7528\u7684\u662f\uff08\u5c0f\u6279\u91cf\uff09\u968f\u673a\u68af\u5ea6\u4e0b\u964d\u3002\u6700\u7ec8\u5b66\u5230\u7684\u53c2\u6570\u503c\u4e0e\u771f\u5b9e\u503c\u8f83\u63a5\u8fd1\u3002", 
            "cell_type": "markdown", 
            "metadata": {}
        }, 
        {
            "execution_count": null, 
            "cell_type": "code", 
            "metadata": {
                "attributes": {
                    "classes": [], 
                    "id": "", 
                    "n": "5"
                }
            }, 
            "outputs": [], 
            "source": "train(batch_size=10, lr=0.2, epochs=3, period=10)"
        }, 
        {
            "source": "\u540c\u6837\u662f\u6279\u91cf\u5927\u5c0f\u4e3a10\uff0c\u6211\u4eec\u628a\u5b66\u4e60\u7387\u6539\u5927\u3002\u8fd9\u65f6\u6211\u4eec\u89c2\u5bdf\u5230\u76ee\u6807\u51fd\u6570\u503c\u4e0d\u65ad\u589e\u5927\u3002\u8fd9\u65f6\u5178\u578b\u7684overshooting\u95ee\u9898\u3002", 
            "cell_type": "markdown", 
            "metadata": {}
        }, 
        {
            "execution_count": null, 
            "cell_type": "code", 
            "metadata": {
                "attributes": {
                    "classes": [], 
                    "id": "", 
                    "n": "6"
                }
            }, 
            "outputs": [], 
            "source": "train(batch_size=10, lr=5, epochs=3, period=10)"
        }, 
        {
            "source": "\u540c\u6837\u662f\u6279\u91cf\u5927\u5c0f\u4e3a10\uff0c\u6211\u4eec\u628a\u5b66\u4e60\u7387\u6539\u5c0f\u3002\u8fd9\u65f6\u6211\u4eec\u89c2\u5bdf\u5230\u76ee\u6807\u51fd\u6570\u503c\u4e0b\u964d\u8f83\u6162\uff0c\u76f4\u52303\u4e2aepoch\u4e5f\u6ca1\u80fd\u5f97\u5230\u63a5\u8fd1\u771f\u5b9e\u503c\u7684\u89e3\u3002", 
            "cell_type": "markdown", 
            "metadata": {}
        }, 
        {
            "execution_count": null, 
            "cell_type": "code", 
            "metadata": {
                "attributes": {
                    "classes": [], 
                    "id": "", 
                    "n": "7"
                }
            }, 
            "outputs": [], 
            "source": "train(batch_size=10, lr=0.002, epochs=3, period=10)"
        }, 
        {
            "source": "## \u7ed3\u8bba\n\n* \u4f7f\u7528`Gluon`\u7684`Trainer`\u53ef\u4ee5\u4f7f\u6a21\u578b\u8bad\u7ec3\u53d8\u5f97\u66f4\u5bb9\u6613\u3002\n* \u4f7f\u7528`gluon.Trainer`\u7684`learning_rate`\u5c5e\u6027\u548c`set_learning_rate`\u51fd\u6570\u53ef\u4ee5\u968f\u610f\u8c03\u6574\u5b66\u4e60\u7387\u3002\n\n\n## \u7ec3\u4e60\n\n* \u4f60\u8fd8\u80fd\u60f3\u5230\u54ea\u4e9b\u5b66\u4e60\u7387\u81ea\u6211\u8870\u51cf\u7684\u65b9\u6cd5\uff1f\n\n**\u5410\u69fd\u548c\u8ba8\u8bba\u6b22\u8fce\u70b9**[\u8fd9\u91cc](https://discuss.gluon.ai/t/topic/1878)", 
            "cell_type": "markdown", 
            "metadata": {}
        }
    ], 
    "metadata": {
        "kernelspec": {
            "display_name": "Python 2 with Spark 1.6 (Unsupported)", 
            "name": "python2", 
            "language": "python"
        }, 
        "language_info": {
            "mimetype": "text/x-python", 
            "nbconvert_exporter": "python", 
            "version": "2.7.11", 
            "name": "python", 
            "file_extension": ".py", 
            "pygments_lexer": "ipython2", 
            "codemirror_mode": {
                "version": 2, 
                "name": "ipython"
            }
        }
    }, 
    "nbformat": 4
}