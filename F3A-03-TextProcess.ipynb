{
    "nbformat": 4, 
    "cells": [
        {
            "source": "# Modern Data Science \n**(Module 00: Programming Python)**\n\n---\n- Materials in this module include resources collected from various open-source online repositories.\n- You are free to use, change and distribute this package.\n\nPrepared by and for \n**Student Members** |\n2006-2018 [TULIP Lab](http://www.tulip.org.au), Australia\n\n---\n\n\n# Session D - Text processing\n\n\n## Introduction\n\n\n**String** are among the most popular types in *Python*. Python provides a wide range \nof string methods  and other services to support text processing through string \nmanipulation. We will look at the most common string methods for text manipulation \nand  use of **regular expression** to extract data  from **HTML** files. \n\nFor more information, please refer to the documentation for [Python's built-in type(String)](https://docs.python.org/3/library/stdtypes.html#textseq).\n", 
            "cell_type": "markdown", 
            "metadata": {}
        }, 
        {
            "source": "## Table of Content\n\n1. [Work with String](#cell_string)\n\n2. [Regualr expression](#cell_regular)\n", 
            "cell_type": "markdown", 
            "metadata": {}
        }, 
        {
            "source": "<a id = \"cell_string\"></a>", 
            "cell_type": "markdown", 
            "metadata": {}
        }, 
        {
            "source": "## 1. Work with string \n\n\n### String methods\nWe will look at some of the most common string methods in this section. A method is \nlike a function, but it runs \"**on**\" an object. \n \nFor example the **upper** is a method that can be invoked on any **string** \nobject to create a new string in which all the characters are in uppercase. **Lower**\n works in a similar fashion changing all characters in the string to lowercase. Note that \n the original string **ss** remains unchanged and a new string **tt** is created. ", 
            "cell_type": "markdown", 
            "metadata": {}
        }, 
        {
            "outputs": [], 
            "execution_count": null, 
            "cell_type": "code", 
            "source": "ss = \"Hello, World\"\nprint(ss.upper())\n\ntt = ss.lower()\nprint(tt)", 
            "metadata": {}
        }, 
        {
            "source": "In addition to **upper** and **lower**, the following  table provides a summary \nof some other useful string methods. ", 
            "cell_type": "markdown", 
            "metadata": {}
        }, 
        {
            "source": "<table width=\"304\" border=\"1\">\n  <tr>\n    <th width=\"50\" scope=\"col\">Method</th>\n    <th width=\"250\" scope=\"col\">Description</th>\n  </tr>\n  <tr>\n    <td>upper</td>\n    <td>Returns a string in all uppercase</td>\n  </tr>\n  \n   <tr>\n    <td>lower</td>\n    <td>Returns a string in all lowercase </td>\n  </tr>\n  \n   <tr>\n    <td>strip </td>\n    <td>Returns a string with the leading and trailing whitespace removed\n</td>\n   </tr>\n\n\n   <tr>\n    <td>lstrip</td>\n    <td>Returns a string with the leading whitespace removed</td>\n   </tr>\n\n   <tr>\n    <td>rstrip</td>\n    <td>Returns a string with the trailing whitespace removed\n    </td>\n   </tr>\n\n   <tr>\n    <td>replace</td>\n    <td>Replaces all occurrences of old substring with new \\</td>\n   </tr>\n\n   <tr>\n    <td>center</td>\n    <td>Returns a string centered in a field of width spaces </td>\n   </tr>\n   \n   <tr>\n    <td>ljust</td>\n    <td>Returns a string left justified in a field of width spaces  </td>\n   </tr>\n   \n   <tr>\n    <td>rjust</td>\n    <td>Returns a string right justified in a field of width spaces </td>\n   </tr>\n   \n   <tr>\n    <td>find</td>\n    <td>Returns the leftmost index where the substring item is found </td>\n   </tr>\n   \n     <tr>\n    <td>rfind</td>\n    <td>Returns the rightmost index where the substring item is found </td>\n   </tr>\n   \n  \n\n</table>\n\n", 
            "cell_type": "markdown", 
            "metadata": {}
        }, 
        {
            "source": "The following script provides  examples that illustrate use of these methods. Please \ntype in and run the scripts to try them out. \n\n**Example1:**", 
            "cell_type": "markdown", 
            "metadata": {}
        }, 
        {
            "outputs": [], 
            "execution_count": null, 
            "cell_type": "code", 
            "source": "ss = \"    Hello, World    \"\n\nels = ss.count(\"l\")\nprint(els)", 
            "metadata": {}
        }, 
        {
            "outputs": [], 
            "execution_count": null, 
            "cell_type": "code", 
            "source": "print(\"***\" + ss.strip() + \"***\")", 
            "metadata": {}
        }, 
        {
            "outputs": [], 
            "execution_count": null, 
            "cell_type": "code", 
            "source": "print(\"***\" + ss.lstrip() + \"***\")", 
            "metadata": {}
        }, 
        {
            "outputs": [], 
            "execution_count": null, 
            "cell_type": "code", 
            "source": "print(\"***\" + ss.rstrip() + \"***\")", 
            "metadata": {}
        }, 
        {
            "outputs": [], 
            "execution_count": null, 
            "cell_type": "code", 
            "source": "news = ss.replace(\"o\", \"***\")\nprint(news)", 
            "metadata": {}
        }, 
        {
            "source": "**Example2:**", 
            "cell_type": "markdown", 
            "metadata": {}
        }, 
        {
            "outputs": [], 
            "execution_count": null, 
            "cell_type": "code", 
            "source": "food = \"banana bread\"\nprint(food.capitalize())", 
            "metadata": {}
        }, 
        {
            "outputs": [], 
            "execution_count": null, 
            "cell_type": "code", 
            "source": "print(\"*\" + food.center(25) + \"*\")", 
            "metadata": {}
        }, 
        {
            "outputs": [], 
            "execution_count": null, 
            "cell_type": "code", 
            "source": "print(\"*\" + food.ljust(25) + \"*\")     # stars added to show bounds", 
            "metadata": {}
        }, 
        {
            "outputs": [], 
            "execution_count": null, 
            "cell_type": "code", 
            "source": "print(\"*\" + food.rjust(25) + \"*\")", 
            "metadata": {}
        }, 
        {
            "outputs": [], 
            "execution_count": null, 
            "cell_type": "code", 
            "source": "print(food.find(\"e\"))", 
            "metadata": {}
        }, 
        {
            "outputs": [], 
            "execution_count": null, 
            "cell_type": "code", 
            "source": "print(food.find(\"na\"))", 
            "metadata": {}
        }, 
        {
            "outputs": [], 
            "execution_count": null, 
            "cell_type": "code", 
            "source": "print(food.find(\"b\"))", 
            "metadata": {}
        }, 
        {
            "outputs": [], 
            "execution_count": null, 
            "cell_type": "code", 
            "source": "print(food.rfind(\"e\"))", 
            "metadata": {}
        }, 
        {
            "outputs": [], 
            "execution_count": null, 
            "cell_type": "code", 
            "source": "print(food.rfind(\"na\"))", 
            "metadata": {}
        }, 
        {
            "outputs": [], 
            "execution_count": null, 
            "cell_type": "code", 
            "source": "print(food.rfind(\"b\"))", 
            "metadata": {}
        }, 
        {
            "outputs": [], 
            "execution_count": null, 
            "cell_type": "code", 
            "source": "print(food.index(\"e\"))", 
            "metadata": {}
        }, 
        {
            "source": "You can also make up your own examples to gain more understanding. Note once again \nthat the methods that return strings do not change the original. ", 
            "cell_type": "markdown", 
            "metadata": {}
        }, 
        {
            "source": "### The **in** operator###\nThe **in** operator tests of one string as a substring of another. Think about\n what the outputs the following script should be, and then try it out and check your answer.", 
            "cell_type": "markdown", 
            "metadata": {}
        }, 
        {
            "outputs": [], 
            "execution_count": null, 
            "cell_type": "code", 
            "source": "print('p' in 'apple')", 
            "metadata": {}
        }, 
        {
            "outputs": [], 
            "execution_count": null, 
            "cell_type": "code", 
            "source": "print('i' in 'apple')", 
            "metadata": {}
        }, 
        {
            "outputs": [], 
            "execution_count": null, 
            "cell_type": "code", 
            "source": "print('ap' in 'apple')", 
            "metadata": {}
        }, 
        {
            "outputs": [], 
            "execution_count": null, 
            "cell_type": "code", 
            "source": "print('pa' in 'apple')", 
            "metadata": {}
        }, 
        {
            "source": "Note that a string is a substring of itself, and the empty string is a \nsubstring of any other string. See the following examples. Also note that you often need \nto consider these edge cases very carefully so that your programs run smoothly on all\n  possible inputs. \n ", 
            "cell_type": "markdown", 
            "metadata": {}
        }, 
        {
            "outputs": [], 
            "execution_count": null, 
            "cell_type": "code", 
            "source": " print('a' in 'a')", 
            "metadata": {}
        }, 
        {
            "outputs": [], 
            "execution_count": null, 
            "cell_type": "code", 
            "source": " print('apple' in 'apple')", 
            "metadata": {}
        }, 
        {
            "outputs": [], 
            "execution_count": null, 
            "cell_type": "code", 
            "source": " print('' in 'a')", 
            "metadata": {}
        }, 
        {
            "outputs": [], 
            "execution_count": null, 
            "cell_type": "code", 
            "source": " print('' in 'apple') ", 
            "metadata": {}
        }, 
        {
            "source": " The **not in** operator returns the logical opposite result of **in**. \n ", 
            "cell_type": "markdown", 
            "metadata": {}
        }, 
        {
            "outputs": [], 
            "execution_count": null, 
            "cell_type": "code", 
            "source": "print('x' not in 'apple')", 
            "metadata": {}
        }, 
        {
            "source": "### String and List ###\n\nTwo of the most useful methods on strings involve lists of strings. The **split** \nmethod breaks a string into a list of words. By default, any number of whitespace \ncharacters is considered a word boundary. ", 
            "cell_type": "markdown", 
            "metadata": {}
        }, 
        {
            "outputs": [], 
            "execution_count": null, 
            "cell_type": "code", 
            "source": "song = \"The rain in Spain...\"\nwds = song.split()\nprint(wds)", 
            "metadata": {}
        }, 
        {
            "source": "An optional argument called a **delimiter** can be used to specify which characters \nto use as \nword boundaries. Notice that the delimiter does not appear in the result.", 
            "cell_type": "markdown", 
            "metadata": {}
        }, 
        {
            "outputs": [], 
            "execution_count": null, 
            "cell_type": "code", 
            "source": "song = \"The rain in Spain...\"\nwds = song.split('ai')\nprint(wds)", 
            "metadata": {}
        }, 
        {
            "source": "The inverse of the **split** method is **join**. You choose a desired separator string, \n(often called the **glue**) and join the list with the glue between each of the elements.", 
            "cell_type": "markdown", 
            "metadata": {}
        }, 
        {
            "outputs": [], 
            "execution_count": null, 
            "cell_type": "code", 
            "source": "wds = [\"red\", \"blue\", \"green\"]\nglue = ';'\ns = glue.join(wds)\nprint(s)", 
            "metadata": {}
        }, 
        {
            "outputs": [], 
            "execution_count": null, 
            "cell_type": "code", 
            "source": "print(\"***\".join(wds))", 
            "metadata": {}
        }, 
        {
            "outputs": [], 
            "execution_count": null, 
            "cell_type": "code", 
            "source": "print(\" \".join(wds))", 
            "metadata": {}
        }, 
        {
            "source": "<a id = \"cell_regular\"></a>", 
            "cell_type": "markdown", 
            "metadata": {}
        }, 
        {
            "source": "## 2. Regular Expression ##\n\n\n*Regular expressions* are a powerful language for matching text patterns.\n Remember that you have leaned Regular Expression with **Grep** command in \n Prac *Regular Expression and GREP*. In this prac, you will be given  a basic \n introduction to how  regular expressions works in Python.  The support on regular \n expression  is given by  **re** module. \n\nIn Python, a regular expression search is typically written as: ", 
            "cell_type": "markdown", 
            "metadata": {}
        }, 
        {
            "source": "match = re.search(pat, str)", 
            "cell_type": "raw", 
            "metadata": {}
        }, 
        {
            "source": "The **re.search()** methods takes a regular expression pattern and a string as \nparameters, It searches for that pattern within the string. If the search is \nsuccessful, **search()** returns a match object; otherwise, it returns   **None**.", 
            "cell_type": "markdown", 
            "metadata": {}
        }, 
        {
            "source": "To start using regular expression in your Python code, import the \"re\" module. ", 
            "cell_type": "markdown", 
            "metadata": {}
        }, 
        {
            "outputs": [], 
            "execution_count": null, 
            "cell_type": "code", 
            "source": "import re", 
            "metadata": {}
        }, 
        {
            "source": "The following script  provides a template to test if the search succeeded and print the\n matching text. This example searches for the pattern **word:** that followed by \n a 3-letter word. You will see that we will use this \"search\" template to test different regular expression examples later.   ", 
            "cell_type": "markdown", 
            "metadata": {}
        }, 
        {
            "outputs": [], 
            "execution_count": null, 
            "cell_type": "code", 
            "source": "str = 'an example word:cat!!'\nmatch = re.search(r'word:\\w\\w\\w', str)\n\n# If-statement after search() tests whether it succeeded\nif match:                      \n    print('found', match.group())  ## 'found word:cat'\nelse:\n    print('did not find')", 
            "metadata": {}
        }, 
        {
            "source": "\nThe code **match = re.search(pat, str)** stores the search result in \n**match**. Then the **if** statement tests the **match** - if True, \nthe search succeeded and **match.group()** returns the matching text. Otherwise, \nif the **match** is **False**(**None**), the search did not succeed, and \nthere is no matching text. \n \nThe \"**r**\" at the start of the pattern string designates a Python \"raw\" string.\n The raw string passes all the backslashes without change which is very hand for \n regular expressions.  I recommend that you always write pattern strings with the \"**r**\". \n\n ", 
            "cell_type": "markdown", 
            "metadata": {}
        }, 
        {
            "source": "### Basic patterns ###\nThe power of regular expressions is that they can specify patterns, not just fixed \ncharacters. Here are the most *basic patterns* which match single chars:\n\n\t\n\n\n- **a, X, 9, <** :  ordinary characters just match themselves exactly.\n The meta-characters which do not match themselves because they have special meanings \n are: **.   + ? . ^ $ () [] {} |  \\  ** (details below)\n\n- **. **(a period):  matches any single character except newline **\\n**\n\n- ** \\w**(lowercase w): matches a \"word\" character: a letter or digit \nor underscore **[a-zA-Z0-9\\_]}. Note that although ``word'' is the mnemonic for this, \nit only matches a single word char, not a whole word. \n- **\\W ** (upper case W): matches any non-word character.\n\n- **\\b**:  Boundary between word and non-word\n\n- **\\s** (lowercase s): matches a single whitespace character -- space, \nnewline, return, tab, form [\\n \\r \\t \\f ].  **\\S** (upper case S): matches any non-whitespace character.\n\n- **\\t, \\n, \\r**: Tab, newline, return\n\n- **\\d**: Decimal digit [0-9] \n\n- **^ = start, $ = end**:  match the start or end of the string", 
            "cell_type": "markdown", 
            "metadata": {}
        }, 
        {
            "source": "Now let us look at some examples.\n\nBefore we start, here is a joke: what do you call a pig with three eyes? **piiig**!\n\nThe basic rules of regular expression search for a pattern within a string are:\n\n\n- The search proceeds through the string from start to end, stopping at the first match \nfound\n- All the pattern must be matched, but not all the string\n- If **match   = re.search(pat, str)** is successful, match is not **None**\nand in particular **match.group()** is the matching text.\n\n\n\nRead through the following examples, and try them out. Please note that you should not run the following code as a script. Instead, replace the first two statements in  the previous \"search\" template  with each  individual statement and run the modified code. ", 
            "cell_type": "markdown", 
            "metadata": {}
        }, 
        {
            "outputs": [], 
            "execution_count": null, 
            "cell_type": "code", 
            "source": "## Search for pattern 'iii' in string 'piiig'.\n## All of the pattern must match, but it may appear anywhere.\n## On success, match.group() is matched text.\n\nmatch = re.search(r'iii', 'piiig')  # =>  found, match.group() == \"iii\"\nmatch = re.search(r'igs', 'piiig')  # =>  not found, match == None\n\n## . = any char but \\n\nmatch = re.search(r'..g', 'piiig') # =>  found, match.group() == \"iig\"\n\n## \\d = digit char, \\w = word char\nmatch = re.search(r'\\d\\d\\d', 'p123g')  #=>  found, match.group() == \"123\"\nmatch = re.search(r'\\w\\w\\w', '@@abcd!!') #=>  found, match.group() == \"abc\"", 
            "metadata": {}
        }, 
        {
            "source": "### Repetition\nThings get more interesting when you use + and * to specify *repetition} in the \npattern.\n\n- **+**  1 or more occurrences of the pattern to its left, e.g. **i+} = one or \nmore **i}'s\n\n- **\\***  0 or more occurrences of the pattern to its left\n\n- **?**  match 0 or 1 occurrences of the pattern to its left\n\nHere are examples to demonstrate repetition in the pattern. Again, use them to modify the \"search\" template and check the result. ", 
            "cell_type": "markdown", 
            "metadata": {}
        }, 
        {
            "outputs": [], 
            "execution_count": null, 
            "cell_type": "code", 
            "source": "## i+ = one or more i's, as many as possible.\nmatch = re.search(r'pi+', 'piiig')      #=>  found, match.group() == \"piii\"\n\n## Finds the first/leftmost solution, and within it drives the +\n## as far as possible (aka 'leftmost and largest').\n## In this example, note that it does not get to the second set of i's.\nmatch = re.search(r'i+', 'piigiiii')    # =>  found, match.group() == \"ii\"\n\n## \\s* = zero or more whitespace chars\n## Here look for 3 digits, possibly separated by whitespace.\nmatch = re.search(r'\\d\\s*\\d\\s*\\d', 'xx1 2   3xx')    #=>  found, match.group() == \"1 2   3\"\nmatch = re.search(r'\\d\\s*\\d\\s*\\d', 'xx12  3xx')      #=>  found, match.group() == \"12  3\"\nmatch = re.search(r'\\d\\s*\\d\\s*\\d', 'xx123xx')        #=>  found, match.group() == \"123\"\n\n## ^ = matches the start of string, so this fails:\nmatch = re.search(r'^b\\w+', 'foobar')    #=>  not found, match == None\n## but without the ^ it succeeds:\nmatch = re.search(r'b\\w+', 'foobar')     #=>  found, match.group() == \"bar\"`", 
            "metadata": {}
        }, 
        {
            "source": "Here is an email example.  Suppose you want to find the email address inside a string. \nWe might use the pattern **r'\\w+@\\w+** to match \nmultiple characters before and after **@**. Please  run the following script:", 
            "cell_type": "markdown", 
            "metadata": {}
        }, 
        {
            "outputs": [], 
            "execution_count": null, 
            "cell_type": "code", 
            "source": "import re\nstr = 'purple alice-b@google.com monkey dishwasher'\nmatch = re.search(r'\\w+@\\w+', str)\nif match:\n     print(match.group())  ", 
            "metadata": {}
        }, 
        {
            "source": "The search does not get the whole email address in this case because the \n**\\w** does not match the **-** or **.** in \nthe address. We will fix this using the regular expression features -- square \nbrackets.\n\nSquare brackets can be used to indicate a set of chars, so **[abc]** \nmatches **a** or **b** or **c**. The codes, such as**\\w**\n and **\\s**, work inside square brackets too. The only  one exception \n that dot (.) just means a literal dot. \n\nFor the emails problem, the square brackets are an easy way to add **.** and **-** \nto the set of chars which can appear around the **@**.   The pattern \n**r'[\\w.-]+@[\\w.-]+'**  is used to get the whole email address:", 
            "cell_type": "markdown", 
            "metadata": {}
        }, 
        {
            "outputs": [], 
            "execution_count": null, 
            "cell_type": "code", 
            "source": "import re\nmatch = re.search(r'[\\w.-]+@[\\w.-]+', str)\nif match:\n    print(match.group()) ", 
            "metadata": {}
        }, 
        {
            "source": "#### Group extraction ###\nThe \"group\" feature of a regular expression allows you to pick out parts of the matching\n text. Suppose for the emails problem that we want to extract the username and host separately.\n  To do this, add parenthesis ( ) around the username and host in the pattern, like this:\n   **r'([\\w.-]+)@([\\w.-]+)' **. In this case, the parenthesis\n    do not change what the pattern will match, instead they establish logical \"groups\" inside\n     of the match text. On a successful search, **match.group(1)** is the match text\n      corresponding to the 1st left parenthesis, and **match.group(2)** is the text\n       corresponding to the 2nd left parenthesis. The plain **match.group()** is still \n       the whole match text as usual.", 
            "cell_type": "markdown", 
            "metadata": {}
        }, 
        {
            "outputs": [], 
            "execution_count": null, 
            "cell_type": "code", 
            "source": "str = 'purple alice-b@google.com monkey dishwasher'\nmatch = re.search(r'([\\w.-]+)@([\\w.-]+)', str)\nif match:\n    print(match.group())   ## 'alice-b@google.com' (the whole match)\n    print(match.group(1))  ## 'alice-b' (the username, group 1)\n    print(match.group(2)) ## 'google.com' (the host, group 2)", 
            "metadata": {}
        }, 
        {
            "source": "A common work flow with regular expressions is that you write a pattern for the thing \nyou are looking for, adding parenthesis groups to extract the parts you want. ", 
            "cell_type": "markdown", 
            "metadata": {}
        }, 
        {
            "source": "### The **findall** function\n\n Above we used re.search() to find the first match for a pattern. **findall()* \n finds *all** the matches and returns them as a list of strings, with each string\n  representing one match.", 
            "cell_type": "markdown", 
            "metadata": {}
        }, 
        {
            "outputs": [], 
            "execution_count": null, 
            "cell_type": "code", 
            "source": "import re\n## Suppose we have a text with many email addresses\nstr = 'purple alice@google.com, blah monkey bob@abc.com blah dishwasher'\n\n## Here re.findall() returns a list of all the found email strings\nemails = re.findall(r'[\\w\\.-]+@[\\w\\.-]+', str) ## ['alice@google.com', 'bob@abc.com']\nfor email in emails:\n    # do something with each found email string\n    print(email)", 
            "metadata": {}
        }, 
        {
            "source": "The parenthesis **( )** group mechanism can be combined with **findall()**. If the \npattern includes 2 or more parenthesis groups, then instead of returning a list of \nstrings, **findall()** returns a list of *tuples*. Each tuple represents \none match of the pattern, and inside the tuple is the **group(1), group(2) ..** \ndata.", 
            "cell_type": "markdown", 
            "metadata": {}
        }, 
        {
            "outputs": [], 
            "execution_count": null, 
            "cell_type": "code", 
            "source": "import re\nstr = 'purple alice@google.com, blah monkey bob@abc.com blah dishwasher'\ntuples = re.findall(r'([\\w\\.-]+)@([\\w\\.-]+)', str)\nprint(tuples)  ## [('alice', 'google.com'), ('bob', 'abc.com')]\nfor tuple in tuples:\n    print(tuple[0])  ## username\n    print(tuple[1])  ## host", 
            "metadata": {}
        }, 
        {
            "source": "Once you have the list of tuples, you can loop over it to do some computation for each \ntuple. If the pattern includes no parenthesis, then **findall()** returns a list of\n found strings as in earlier examples. If the pattern includes a single set of parenthesis,\n  then **findall()** returns a list of strings corresponding to that single group.", 
            "cell_type": "markdown", 
            "metadata": {}
        }, 
        {
            "source": "<a id = \"cell_project\"></a>", 
            "cell_type": "markdown", 
            "metadata": {}
        }
    ], 
    "metadata": {
        "language_info": {
            "pygments_lexer": "ipython3", 
            "nbconvert_exporter": "python", 
            "version": "3.5.2", 
            "mimetype": "text/x-python", 
            "name": "python", 
            "file_extension": ".py", 
            "codemirror_mode": {
                "version": 3, 
                "name": "ipython"
            }
        }, 
        "kernelspec": {
            "language": "python", 
            "display_name": "Python 3.5 (Experimental) with Spark 1.6 (Unsupported)", 
            "name": "python3"
        }
    }, 
    "nbformat_minor": 1
}