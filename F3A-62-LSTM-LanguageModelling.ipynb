{
    "nbformat_minor": 1, 
    "cells": [
        {
            "source": "# Modern Data Science \n**(Module 05: Deep Learning)**\n\n---\n- Materials in this module include resources collected from various open-source online repositories.\n- You are free to use, change and distribute this package.\n\nPrepared by and for \n**Student Members** |\n2006-2018 [TULIP Lab](http://www.tulip.org.au), Australia\n\n---\n\n\n# Session J - LSTM for Language Modelling\n\nBy now, you should have an understanding of how Recurrent Networks work -- a specialized model to process sequential data by keeping track of the \"state\" or context. In this notebook, we go over a TensorFlow code snippet for creating a model focused on **Language Modelling** -- a very relevant task that is the cornerstone of many different linguistic problems such as **Speech Recognition, Machine Translation and Image Captioning**. For this, we will be using the Penn Treebank, which is an often-used dataset for benchmarking Language Modelling models.\n\nBy the end of this notebook, you should be able to understand how TensorFlow builds and executes a RNN model for Language Modelling.\n\n\n\n** References and additional reading and resources**\n* This material is from [CognitiveClass.AI](https://cognitiveclass.ai), Created by <a href=\"https://br.linkedin.com/in/walter-gomes-de-amorim-junior-624726121\">Walter Gomes de Amorim Junior</a>, <a href = \"https://linkedin.com/in/saeedaghabozorgi\"> Saeed Aghabozorgi </a> \n* This notebook and its source code are released under the terms of the [MIT License](https://bigdatauniversity.com/mit-license/).\n\n\n---\n\n\n", 
            "cell_type": "markdown", 
            "metadata": {}
        }, 
        {
            "source": "## 1. What  is Language Modelling?\n\nLanguage Modelling, to put it simply, **is the task of assigning probabilities to sequences of words**. This means that, given a context of one or a few words in the language the model was trained on, the model should have a knowledge of what are the most probable words or sequence of words for the sentence. Language Modelling is one of the tasks under Natural Language Processing, and one of the most important.\n\n<img src=https://ibm.box.com/shared/static/1d1i5gub6wljby2vani2vzxp0xsph702.png width=\"768\"/>\n<center>*Example of a sentence being predicted*</center>\n\nIn this example, one can see the predictions for the next word of a sentence, given the context \"This is an\". As you can see, this boils down to a sequential data analysis task -- you are given a word or a sequence of words (the input data), and, given the context (the state), you need to find out what is the next word (the prediction). This kind of analysis is very important for language-related tasks such as **Speech Recognition, Machine Translation, Image Captioning, Text Correction** and many other very relevant problems. \n\n<img src=https://ibm.box.com/shared/static/az39idf9ipfdpc5ugifpgxnydelhyf3i.png width=\"1080\"/>\n<center>*The above example schematized as an RNN in execution*</center>\n\nAs the above image shows, Recurrent Network models fit this problem like a glove. Alongside LSTM and its capacity to maintain the model's state for over one thousand time steps, we have all the tools we need to undertake this problem. The goal for this notebook is to create a model that can reach **low levels of perplexity** on our desired dataset.\n\nFor Language Modelling problems, **perplexity** is the way to gauge efficiency. Perplexity is simply a measure of how well a probabilistic model is able to predict its sample. A higher-level way to explain this would be saying that **low perplexity means a higher degree of trust in the predictions the model makes**. Therefore, the lower perplexity is, the better.\n\n## 2. The Penn Treebank dataset\nHistorically, datasets big enough for Natural Language Processing are hard to come by. This is in part due to the necessity of the sentences to be broken down and tagged with a certain degree of correctness -- or else the models trained on it won't be able to be correct at all. This means that we need a **large amount of data, annotated by or at least corrected by humans**. This is, of course, not an easy task at all.\n\nThe Penn Treebank, or PTB for short, is a dataset maintained by the University of Pennsylvania. It is *huge* -- there are over **four million and eight hundred thousand** annotated words in it, all corrected by humans. It is composed of many different sources, from abstracts of Department of Energy papers to texts from the Library of America. Since it is verifiably correct and of such a huge size, the Penn Treebank has been used time and time again as a benchmark dataset for Language Modelling.\n\nThe dataset is divided in different kinds of annotations, such as Piece-of-Speech, Syntactic and Semantic skeletons. For this example, we will simply use a sample of clean, non-annotated words (with the exception of one tag -- `<unk>`, which is used for rare words such as uncommon proper nouns) for our model. This means that we just want to predict what the next words would be, not what they mean in context or their classes on a given sentence. \n<br/>\n<div class=\"alert alert-block alert-info\" style=\"margin-top: 20px\">\n<center>the percentage of lung cancer deaths among the workers at the west `<unk>` mass. paper factory appears to be the highest for any asbestos workers studied in western industrialized countries he said \n the plant which is owned by `<unk>` & `<unk>` co. was under contract with `<unk>` to make the cigarette filters \n the finding probably will support those who argue that the u.s. should regulate the class of asbestos including `<unk>` more `<unk>` than the common kind of asbestos `<unk>` found in most schools and other buildings dr. `<unk>` said</center>\n</div>\n <center>*Example of text from the dataset we are going to use, `ptb.train`*</center>\n <br/>\n\n", 
            "cell_type": "markdown", 
            "metadata": {}
        }, 
        {
            "source": "## 3. Word Embeddings \n\nFor better processing, in this example, we will make use of [**word embeddings**]( [https://www.tensorflow.org/tutorials/word2vec/), which are **a way of representing sentence structures or words as n-dimensional vectors (where n is a reasonably high number, such as 200 or 500) of real numbers**. Basically, we will assign each word a randomly-initialized vector, and input those into the network to be processed. After a number of iterations, these vectors are expected to assume values that help the network to correctly predict what it needs to -- in our case, the probable next word in the sentence. This is shown to be very effective in Natural Language Processing tasks, and is a commonplace practice.\n<br/><br/>\n<font size = 4><strong>\n$$Vec(\"Example\") = [0.02, 0.00, 0.00, 0.92, 0.30,...]$$\n</font></strong>\n<br/>\nWord Embedding tends to group up similarly used words *reasonably* together in the vectorial space. For example, if we use T-SNE (a dimensional reduction visualization algorithm) to flatten the dimensions of our vectors into a 2-dimensional space and use the words these vectors represent as their labels, we might see something like this:\n\n<img src=https://ibm.box.com/shared/static/bqhc5dg879gcoabzhxra1w8rkg3od1cu.png width=\"800\"/>\n<center>*T-SNE Mockup with clusters marked for easier visualization*</center>\n\nAs you can see, words that are frequently used together, in place of each other, or in the same places as them tend to be grouped together -- being closer together the higher these correlations are. For example, \"None\" is pretty semantically close to \"Zero\", while a phrase that uses \"Italy\" can probably also fit \"Germany\" in it, with little damage to the sentence structure. A vectorial \"closeness\" for similar words like this is a great indicator of a well-built model.\n\n---\n ", 
            "cell_type": "markdown", 
            "metadata": {}
        }, 
        {
            "source": "We need to import the necessary modules for our code. We need **`numpy` and `tensorflow`**, obviously. Additionally, we can import directly the **`tensorflow.models.rnn.rnn`** model, which includes the function for building RNNs, and **`tensorflow.models.rnn.ptb.reader`** which is the helper module for getting the input data from the dataset we just downloaded.\n\nIf you want to learm more take a look at https://www.tensorflow.org/versions/r0.11/api_docs/python/rnn_cell/", 
            "cell_type": "markdown", 
            "metadata": {}
        }, 
        {
            "execution_count": null, 
            "cell_type": "code", 
            "metadata": {}, 
            "outputs": [], 
            "source": "from __future__ import absolute_import\nfrom __future__ import division\nfrom __future__ import print_function\n\nimport time\nimport numpy as np\nimport tensorflow as tf"
        }, 
        {
            "execution_count": null, 
            "cell_type": "code", 
            "metadata": {}, 
            "outputs": [], 
            "source": "import wget\n\nlink_to_data = 'https://github.com/tuliplab/mds/raw/master/Jupyter/data/ptb.zip'\nDataSet = wget.download(link_to_data)"
        }, 
        {
            "execution_count": null, 
            "cell_type": "code", 
            "metadata": {}, 
            "outputs": [], 
            "source": "!ls -l"
        }, 
        {
            "execution_count": null, 
            "cell_type": "code", 
            "metadata": {}, 
            "outputs": [], 
            "source": "!unzip -o ptb.zip -d ./langmod/"
        }, 
        {
            "execution_count": null, 
            "cell_type": "code", 
            "metadata": {}, 
            "outputs": [], 
            "source": "!cp ./langmod/ptb/reader.py .\nimport reader"
        }, 
        {
            "source": "## 4. Building the LSTM model for Language Modeling\n\nNow that we know exactly what we are doing, we can start building our model using TensorFlow. The very first thing we need to do is download and extract the `simple-examples` dataset, which can be done by executing the code cell below.", 
            "cell_type": "markdown", 
            "metadata": {}
        }, 
        {
            "execution_count": null, 
            "cell_type": "code", 
            "metadata": {}, 
            "outputs": [], 
            "source": "import wget\n\nlink_to_data = 'https://github.com/tuliplab/mds/raw/master/Jupyter/data/simple-examples.tgz'\nDataSet = wget.download(link_to_data)"
        }, 
        {
            "execution_count": null, 
            "cell_type": "code", 
            "metadata": {}, 
            "outputs": [], 
            "source": "#!mkdir ./langmod/data\n!ls ./langmod/data/simple-examples/data"
        }, 
        {
            "execution_count": null, 
            "cell_type": "code", 
            "metadata": {}, 
            "outputs": [], 
            "source": "!tar xzf simple-examples.tgz -C ./langmod/data/"
        }, 
        {
            "source": "Additionally, for the sake of making it easy to play around with the model's hyperparameters, we can declare them beforehand. Feel free to change these -- you will see a difference in performance each time you change those!  \n\n", 
            "cell_type": "markdown", 
            "metadata": {}
        }, 
        {
            "execution_count": null, 
            "cell_type": "code", 
            "metadata": {}, 
            "outputs": [], 
            "source": "#Initial weight scale\ninit_scale = 0.1\n#Initial learning rate\nlearning_rate = 1.0\n#Maximum permissible norm for the gradient (For gradient clipping -- another measure against Exploding Gradients)\nmax_grad_norm = 5\n#The number of layers in our model\nnum_layers = 2\n#The total number of recurrence steps, also known as the number of layers when our RNN is \"unfolded\"\nnum_steps = 20\n#The number of processing units (neurons) in the hidden layers\nhidden_size = 200\n#The maximum number of epochs trained with the initial learning rate\nmax_epoch = 4\n#The total number of epochs in training\nmax_max_epoch = 13\n#The probability for keeping data in the Dropout Layer (This is an optimization, but is outside our scope for this notebook!)\n#At 1, we ignore the Dropout Layer wrapping.\nkeep_prob = 1\n#The decay for the learning rate\ndecay = 0.5\n#The size for each batch of data\nbatch_size = 30\n#The size of our vocabulary\nvocab_size = 10000\n#Training flag to separate training from testing\nis_training = 1\n#Data directory for our dataset\ndata_dir = \"./langmod/data/simple-examples/data/\""
        }, 
        {
            "source": "Some clarifications for LSTM architecture based on the argumants:\n\nNetwork structure:\n- In this network, the number of LSTM cells are 2. To give the model more expressive power, we can add multiple layers of LSTMs to process the data. The output of the first layer will become the input of the second and so on.\n- The recurrence steps is 20, that is, when our RNN is \"Unfolded\", the recurrence step is 20.   \n- the structure is like: \n     - 200 input units -> [200x200] Weight -> 200 Hidden units (first layer) -> [200x200] Weight matrix  -> 200 Hidden units (second layer) ->  [200] weight Matrix -> 200 unit output\n\nHidden layer:\n- Each LSTM has 200 hidden units which is equivalant to the dimensianality of the embedding words and output. \n\nInput layer: \n- The network has 200 input units. \n- Suppose each word is represented by an embedding vector of dimensionality e=200. The input layer of each cell will have 200 linear units. These e=200 linear units are connected to each of the h=200 LSTM units in the hidden layer (assuming there is only one hidden layer, though our case has 2 layers).\n- The input shape is [batch_size, num_steps], that is [30x20]. It will turn into [30x20x200] after embedding, and then 20x[30x200]\n\n\n", 
            "cell_type": "markdown", 
            "metadata": {}
        }, 
        {
            "source": "There is a lot to be done and a ton of information to process at the same time, so go over this code slowly. It may seem complex at first, but if you try to ally what you just learned about language modelling to the code you see, you should be able to understand it.\n\nThis code is adapted from the [PTBModel](https://github.com/tensorflow/tensorflow/blob/master/tensorflow/models/rnn/ptb/ptb_word_lm.py) example bundled with the TensorFlow source code.\n\n\n#### Train data\nThe story starts from data: \n- Train data is a list of words, represented by numbers - N=929589 numbers, e.g. [9971, 9972, 9974, 9975,...]\n- We read data as mini-batch of size b=30. Assume the size of each sentence is 20 words (num_steps = 20). Then it will take int(N/b*h)+1=1548 iterations for the learner to go through all sentences once. So, the number of iterators is 1548\n- Each batch data is read from train dataset of size 600, and shape of [30x20]", 
            "cell_type": "markdown", 
            "metadata": {}
        }, 
        {
            "source": "First we start an interactive session:", 
            "cell_type": "markdown", 
            "metadata": {}
        }, 
        {
            "execution_count": null, 
            "cell_type": "code", 
            "metadata": {}, 
            "outputs": [], 
            "source": "session=tf.InteractiveSession()"
        }, 
        {
            "execution_count": null, 
            "cell_type": "code", 
            "metadata": {}, 
            "outputs": [], 
            "source": "# Reads the data and separates it into training data, validation data and testing data\nraw_data = reader.ptb_raw_data(data_dir)\ntrain_data, valid_data, test_data, _ = raw_data"
        }, 
        {
            "source": "Lets just read one mini-batch now and feed our network:", 
            "cell_type": "markdown", 
            "metadata": {
                "collapsed": true
            }
        }, 
        {
            "execution_count": null, 
            "cell_type": "code", 
            "metadata": {}, 
            "outputs": [], 
            "source": "itera = reader.ptb_iterator(train_data, batch_size, num_steps)\nfirst_touple=itera.next()\nx=first_touple[0]\ny=first_touple[1]"
        }, 
        {
            "execution_count": null, 
            "cell_type": "code", 
            "metadata": {}, 
            "outputs": [], 
            "source": "x.shape"
        }, 
        {
            "source": "Lets look at 3 sentences of our input x:", 
            "cell_type": "markdown", 
            "metadata": {}
        }, 
        {
            "execution_count": null, 
            "cell_type": "code", 
            "metadata": {}, 
            "outputs": [], 
            "source": "x[0:3]"
        }, 
        {
            "execution_count": null, 
            "cell_type": "code", 
            "metadata": {}, 
            "outputs": [], 
            "source": "size = hidden_size"
        }, 
        {
            "source": "we define 2 place holders to feed them with mini-batchs, that is x and y:", 
            "cell_type": "markdown", 
            "metadata": {}
        }, 
        {
            "execution_count": null, 
            "cell_type": "code", 
            "metadata": {}, 
            "outputs": [], 
            "source": "_input_data = tf.placeholder(tf.int32, [batch_size, num_steps]) #[30#20]\n_targets = tf.placeholder(tf.int32, [batch_size, num_steps]) #[30#20]"
        }, 
        {
            "source": "lets defin a dictionary, and use it later to feed the placeholders with our first mini-batch:", 
            "cell_type": "markdown", 
            "metadata": {}
        }, 
        {
            "execution_count": null, 
            "cell_type": "code", 
            "metadata": {}, 
            "outputs": [], 
            "source": "feed_dict={_input_data:x, _targets:y}"
        }, 
        {
            "source": "For example, we can use it to feed _input_data:", 
            "cell_type": "markdown", 
            "metadata": {}
        }, 
        {
            "execution_count": null, 
            "cell_type": "code", 
            "metadata": {}, 
            "outputs": [], 
            "source": "session.run(_input_data,feed_dict)"
        }, 
        {
            "source": "In this step, we create the stacked LSTM, which is a 2 layer LSTM network:", 
            "cell_type": "markdown", 
            "metadata": {}
        }, 
        {
            "execution_count": null, 
            "cell_type": "code", 
            "metadata": {}, 
            "outputs": [], 
            "source": "lstm_cell = tf.contrib.rnn.BasicLSTMCell(hidden_size, forget_bias=0.0)\nstacked_lstm = tf.contrib.rnn.MultiRNNCell([lstm_cell] * num_layers)"
        }, 
        {
            "source": "Also, we initialize the states of the nework:\n\n#### _initial_state\n\nFor each LCTM, there are 2 state matrics, c_state and m_state.  c_state and m_state represent \"Memory State\" and \"Cell State\". Each hidden layer, has a vector of size 30, which keeps the states. so, for 200 hidden units in each LSTM, we have a matrix of size [30x200]", 
            "cell_type": "markdown", 
            "metadata": {}
        }, 
        {
            "execution_count": null, 
            "cell_type": "code", 
            "metadata": {}, 
            "outputs": [], 
            "source": "_initial_state = stacked_lstm.zero_state(batch_size, tf.float32)\n_initial_state"
        }, 
        {
            "source": "lets look at the states, though they are all zero for now:", 
            "cell_type": "markdown", 
            "metadata": {}
        }, 
        {
            "execution_count": null, 
            "cell_type": "code", 
            "metadata": {}, 
            "outputs": [], 
            "source": "session.run(_initial_state,feed_dict)"
        }, 
        {
            "source": "### Embeddings\nWe create the embeddings for our input data. embedding is dictionary of [10000x200] for all 10000 unique words.", 
            "cell_type": "markdown", 
            "metadata": {}
        }, 
        {
            "execution_count": null, 
            "cell_type": "code", 
            "metadata": {}, 
            "outputs": [], 
            "source": "embedding = tf.get_variable(\"embedding\", [vocab_size, hidden_size])  #[10000x200]"
        }, 
        {
            "execution_count": null, 
            "cell_type": "code", 
            "metadata": {}, 
            "outputs": [], 
            "source": "session.run(tf.global_variables_initializer())\nsession.run(embedding, feed_dict)"
        }, 
        {
            "source": "embedding_lookup goes to each row of input_data, and for each word in the row/sentence, finds the correspond vector in embedding.\nIt creates a [30*20*200] matrix, so, the first elemnt of __inputs__ (the first sentence), is a matrix of 20x200, which each row of it is vector representing a word in the sentence.\n", 
            "cell_type": "markdown", 
            "metadata": {}
        }, 
        {
            "execution_count": null, 
            "cell_type": "code", 
            "metadata": {}, 
            "outputs": [], 
            "source": "# Define where to get the data for our embeddings from\ninputs = tf.nn.embedding_lookup(embedding, _input_data)  #shape=(30, 20, 200) "
        }, 
        {
            "execution_count": null, 
            "cell_type": "code", 
            "metadata": {}, 
            "outputs": [], 
            "source": "inputs"
        }, 
        {
            "execution_count": null, 
            "cell_type": "code", 
            "metadata": {}, 
            "outputs": [], 
            "source": "session.run(inputs[0], feed_dict)"
        }, 
        {
            "source": "### Constructing Recurrent Neural Networks\n__tf.nn.dynamicrnn()__ creates a recurrent neural network using __stacked_lstm__ which is an instance of RNNCell. \n\nThe input should be a Tensor of shape: [batch_size, max_time, ...], in our case it would be (30, 20, 200)\n\nThis method, returns a pair (outputs, new_state) where:\n- outputs is a length T list of outputs (one for each input), or a nested tuple of such elements.\n- new_state is the final state\n", 
            "cell_type": "markdown", 
            "metadata": {}
        }, 
        {
            "execution_count": null, 
            "cell_type": "code", 
            "metadata": {
                "scrolled": true
            }, 
            "outputs": [], 
            "source": "outputs, new_state =  tf.nn.dynamic_rnn(stacked_lstm, inputs, initial_state=_initial_state)"
        }, 
        {
            "source": "so, lets look at the outputs. The output of the stackedLSTM comes from 200 hidden_layer, and in each time step(=20), one of them get activated. we use the linear activation to map the 200 hidden layer to a [?x10 matrix]", 
            "cell_type": "markdown", 
            "metadata": {}
        }, 
        {
            "execution_count": null, 
            "cell_type": "code", 
            "metadata": {}, 
            "outputs": [], 
            "source": "outputs"
        }, 
        {
            "execution_count": null, 
            "cell_type": "code", 
            "metadata": {}, 
            "outputs": [], 
            "source": "session.run(tf.global_variables_initializer())\nsession.run(outputs[0], feed_dict)"
        }, 
        {
            "source": "Lets reshape the output tensor from  [30 x 20 x 200] to [600 x 200]", 
            "cell_type": "markdown", 
            "metadata": {}
        }, 
        {
            "execution_count": null, 
            "cell_type": "code", 
            "metadata": {}, 
            "outputs": [], 
            "source": "output = tf.reshape(outputs, [-1, size])\noutput"
        }, 
        {
            "execution_count": null, 
            "cell_type": "code", 
            "metadata": {}, 
            "outputs": [], 
            "source": "session.run(output[0], feed_dict)"
        }, 
        {
            "source": "### logistic unit\nNow, we create a logistic unit to return the probability of the output word. That is, mapping the 600\n\nSoftmax = [600 x 200]* [200 x 1000]+ [1 x 1000] -> [600 x 1000]", 
            "cell_type": "markdown", 
            "metadata": {}
        }, 
        {
            "execution_count": null, 
            "cell_type": "code", 
            "metadata": {}, 
            "outputs": [], 
            "source": "softmax_w = tf.get_variable(\"softmax_w\", [size, vocab_size]) #[200x1000]\nsoftmax_b = tf.get_variable(\"softmax_b\", [vocab_size]) #[1x1000]\nlogits = tf.matmul(output, softmax_w) + softmax_b"
        }, 
        {
            "execution_count": null, 
            "cell_type": "code", 
            "metadata": {}, 
            "outputs": [], 
            "source": "session.run(tf.global_variables_initializer())\nlogi = session.run(logits, feed_dict)\nlogi.shape"
        }, 
        {
            "execution_count": null, 
            "cell_type": "code", 
            "metadata": {}, 
            "outputs": [], 
            "source": "First_word_output_probablity = logi[0]\nFirst_word_output_probablity.shape"
        }, 
        {
            "source": "### Prediction\nThe maximum probablity", 
            "cell_type": "markdown", 
            "metadata": {}
        }, 
        {
            "execution_count": null, 
            "cell_type": "code", 
            "metadata": {}, 
            "outputs": [], 
            "source": "embedding_array= session.run(embedding, feed_dict)\nnp.argmax(First_word_output_probablity)"
        }, 
        {
            "source": "So, what is the ground truth for the first word of first sentence? ", 
            "cell_type": "markdown", 
            "metadata": {}
        }, 
        {
            "execution_count": null, 
            "cell_type": "code", 
            "metadata": {}, 
            "outputs": [], 
            "source": "y[0][0]"
        }, 
        {
            "source": "Also, you can get it from target tensor, if you want to find the embedding vector:", 
            "cell_type": "markdown", 
            "metadata": {}
        }, 
        {
            "execution_count": null, 
            "cell_type": "code", 
            "metadata": {}, 
            "outputs": [], 
            "source": "_targets"
        }, 
        {
            "source": "It is time to compare logit with target", 
            "cell_type": "markdown", 
            "metadata": {}
        }, 
        {
            "execution_count": null, 
            "cell_type": "code", 
            "metadata": {}, 
            "outputs": [], 
            "source": "targ = session.run(tf.reshape(_targets, [-1]), feed_dict) "
        }, 
        {
            "execution_count": null, 
            "cell_type": "code", 
            "metadata": {}, 
            "outputs": [], 
            "source": "first_word_target_code= targ[0]\nfirst_word_target_code"
        }, 
        {
            "execution_count": null, 
            "cell_type": "code", 
            "metadata": {}, 
            "outputs": [], 
            "source": "first_word_target_vec = session.run( tf.nn.embedding_lookup(embedding, targ[0]))\nfirst_word_target_vec"
        }, 
        {
            "source": "#### Objective function\n\nNow we want to define our objective function. Our objective is to minimize loss function, that is, to minimize the average negative log probability of the target words:\n\nloss=\u22121N\u2211i=1Nln\u2061ptargeti  \nThis function is already implimented and available in TensorFlow through __sequence_loss_by_example__ so we can just use it here. __sequence_loss_by_example__ is weighted cross-entropy loss for a sequence of logits (per example).  \n\nIts arguments:  \n\nlogits: List of 2D Tensors of shape [batch_size x num_decoder_symbols].  \ntargets: List of 1D batch-sized int32 Tensors of the same length as logits.  \nweights: List of 1D batch-sized float-Tensors of the same length as logits.  ", 
            "cell_type": "markdown", 
            "metadata": {}
        }, 
        {
            "execution_count": null, 
            "cell_type": "code", 
            "metadata": {}, 
            "outputs": [], 
            "source": "loss = tf.contrib.legacy_seq2seq.sequence_loss_by_example([logits], [tf.reshape(_targets, [-1])],[tf.ones([batch_size * num_steps])])"
        }, 
        {
            "source": "loss is a 1D batch-sized float Tensor [600x1]: The log-perplexity for each sequence.", 
            "cell_type": "markdown", 
            "metadata": {}
        }, 
        {
            "execution_count": null, 
            "cell_type": "code", 
            "metadata": {}, 
            "outputs": [], 
            "source": "session.run(loss, feed_dict)"
        }, 
        {
            "execution_count": null, 
            "cell_type": "code", 
            "metadata": {}, 
            "outputs": [], 
            "source": "cost = tf.reduce_sum(loss) / batch_size\n\nsession.run(tf.global_variables_initializer())\nsession.run(cost, feed_dict)\n"
        }, 
        {
            "source": "Now, lets store the new state as final state ", 
            "cell_type": "markdown", 
            "metadata": {}
        }, 
        {
            "execution_count": null, 
            "cell_type": "code", 
            "metadata": {}, 
            "outputs": [], 
            "source": "# \nfinal_state = new_state"
        }, 
        {
            "source": "### Training\n\nTo do gradient clipping in TensorFlow we have to take the following steps:\n\n1. Define the optimizer.\n2. Extract variables that are trainable.\n3. Calculate the gradients based on the loss function.\n4. Apply the optimizer to the variables / gradients tuple.", 
            "cell_type": "markdown", 
            "metadata": {}
        }, 
        {
            "source": "#### 1. Define Optimizer\n\n__GradientDescentOptimizer__ constructs a new gradient descent optimizer. Later, we use constructed __optimizer__ to compute gradients for a loss and apply gradients to variables.", 
            "cell_type": "markdown", 
            "metadata": {}
        }, 
        {
            "execution_count": null, 
            "cell_type": "code", 
            "metadata": {}, 
            "outputs": [], 
            "source": "# Create a variable for the learning rate\nlr = tf.Variable(0.0, trainable=False)\n# Create the gradient descent optimizer with our learning rate\noptimizer = tf.train.GradientDescentOptimizer(lr)"
        }, 
        {
            "source": "\n#### 2. Trainable Variables", 
            "cell_type": "markdown", 
            "metadata": {}
        }, 
        {
            "source": "Definining a variable, if you passed _trainable=True_, the _Variable()_ constructor automatically adds new variables to the graph collection __GraphKeys.TRAINABLE_VARIABLES__. Now, using _tf.trainable_variables()_ you can get all variables created with __trainable=True__.", 
            "cell_type": "markdown", 
            "metadata": {}
        }, 
        {
            "execution_count": null, 
            "cell_type": "code", 
            "metadata": {}, 
            "outputs": [], 
            "source": "# Get all TensorFlow variables marked as \"trainable\" (i.e. all of them except _lr, which we just created)\ntvars = tf.trainable_variables()\ntvars"
        }, 
        {
            "source": "we can find the name and scope of all variables:", 
            "cell_type": "markdown", 
            "metadata": {}
        }, 
        {
            "execution_count": null, 
            "cell_type": "code", 
            "metadata": {}, 
            "outputs": [], 
            "source": "tvars=tvars[3:]"
        }, 
        {
            "execution_count": null, 
            "cell_type": "code", 
            "metadata": {}, 
            "outputs": [], 
            "source": "[v.name for v in tvars]"
        }, 
        {
            "source": "#### 3. Calculate the gradients based on the loss function", 
            "cell_type": "markdown", 
            "metadata": {}
        }, 
        {
            "execution_count": null, 
            "cell_type": "code", 
            "metadata": {}, 
            "outputs": [], 
            "source": "cost"
        }, 
        {
            "execution_count": null, 
            "cell_type": "code", 
            "metadata": {}, 
            "outputs": [], 
            "source": "tvars"
        }, 
        {
            "source": "#### Gradient:\nThe gradient of a function (line) is the slope of the line, or the rate of change of a function. It's a vector (a direction to move) that points in the direction of greatest increase of the function, and calculated by __derivative__ operation.\n\nFirst lets recall the gradient function using an toy example:\n$$ z=\\left(2x^2+3xy\\right)$$", 
            "cell_type": "markdown", 
            "metadata": {}
        }, 
        {
            "execution_count": null, 
            "cell_type": "code", 
            "metadata": {}, 
            "outputs": [], 
            "source": "var_x = tf.placeholder(tf.float32)\nvar_y = tf.placeholder(tf.float32) \nfunc_test = 2.0*var_x*var_x + 3.0*var_x*var_y\nsession.run(tf.global_variables_initializer())\nfeed={var_x:1.0,var_y:2.0}\nsession.run(func_test, feed)\n"
        }, 
        {
            "source": "The __tf.gradients()__ function allows you to compute the symbolic gradient of one tensor with respect to one or more other tensors\u2014including variables. __tf.gradients(func,xs)__ constructs symbolic partial derivatives of sum of __func__ w.r.t. _x_ in __xs__. \n\nNow, lets look at the derivitive w.r.t. __var_x__:\n$$ \\frac{\\partial \\:}{\\partial \\:x}\\left(2x^2+3xy\\right)=4x+3y $$\n", 
            "cell_type": "markdown", 
            "metadata": {}
        }, 
        {
            "execution_count": null, 
            "cell_type": "code", 
            "metadata": {}, 
            "outputs": [], 
            "source": "var_grad = tf.gradients(func_test, [var_x])\nsession.run(var_grad,feed)"
        }, 
        {
            "source": "the derivitive w.r.t. __var_y__:\n$$ \\frac{\\partial \\:}{\\partial \\:x}\\left(2x^2+3xy\\right)=3x $$", 
            "cell_type": "markdown", 
            "metadata": {}
        }, 
        {
            "execution_count": null, 
            "cell_type": "code", 
            "metadata": {}, 
            "outputs": [], 
            "source": "var_grad = tf.gradients(func_test, [var_y])\nsession.run(var_grad,feed)"
        }, 
        {
            "source": "Now, we can look at gradients w.r.t all variables:", 
            "cell_type": "markdown", 
            "metadata": {}
        }, 
        {
            "execution_count": null, 
            "cell_type": "code", 
            "metadata": {}, 
            "outputs": [], 
            "source": "tf.gradients(cost, tvars)"
        }, 
        {
            "execution_count": null, 
            "cell_type": "code", 
            "metadata": {
                "scrolled": true
            }, 
            "outputs": [], 
            "source": "grad_t_list = tf.gradients(cost, tvars)\n#sess.run(grad_t_list,feed_dict)"
        }, 
        {
            "source": "\n\n\nnow, we have a list of tensors, t-list. We can use it to find clipped tensors. __clip_by_global_norm__ clips values of multiple tensors by the ratio of the sum of their norms.\n\n__clip_by_global_norm__ get _t-list_ as input and returns 2 things:\n - a list of clipped tensors, so called _list_clipped_ \n - the global norm (global_norm) of all tensors in t_list", 
            "cell_type": "markdown", 
            "metadata": {}
        }, 
        {
            "execution_count": null, 
            "cell_type": "code", 
            "metadata": {}, 
            "outputs": [], 
            "source": "max_grad_norm"
        }, 
        {
            "execution_count": null, 
            "cell_type": "code", 
            "metadata": {}, 
            "outputs": [], 
            "source": "# Define the gradient clipping threshold\ngrads, _ = tf.clip_by_global_norm(grad_t_list, max_grad_norm)\ngrads"
        }, 
        {
            "execution_count": null, 
            "cell_type": "code", 
            "metadata": {}, 
            "outputs": [], 
            "source": "session.run(grads,feed_dict)"
        }, 
        {
            "source": "#### 4. Apply the optimizer to the variables / gradients tuple.", 
            "cell_type": "markdown", 
            "metadata": {}
        }, 
        {
            "execution_count": null, 
            "cell_type": "code", 
            "metadata": {}, 
            "outputs": [], 
            "source": "# Create the training TensorFlow Operation through our optimizer\ntrain_op = optimizer.apply_gradients(zip(grads, tvars))"
        }, 
        {
            "execution_count": null, 
            "cell_type": "code", 
            "metadata": {}, 
            "outputs": [], 
            "source": "session.run(tf.global_variables_initializer())\nsession.run(train_op,feed_dict)"
        }, 
        {
            "source": "We learned how the model is build step by step. Noe, let's then create a Class that represents our model. This class needs a few things:\n- We have to create the model in accordance with our defined hyperparameters\n- We have to create the placeholders for our input data and expected outputs (the real data)\n- We have to create the LSTM cell structure and connect them with our RNN structure\n- We have to create the word embeddings and point them to the input data\n- We have to create the input structure for our RNN\n- We have to instanciate our RNN model and retrieve the variable in which we should expect our outputs to appear\n- We need to create a logistic structure to return the probability of our words\n- We need to create the loss and cost functions for our optimizer to work, and then create the optimizer\n- And finally, we need to create a training operation that can be run to actually train our model\n", 
            "cell_type": "markdown", 
            "metadata": {}
        }, 
        {
            "execution_count": null, 
            "cell_type": "code", 
            "metadata": {}, 
            "outputs": [], 
            "source": "class PTBModel(object):\n\n    def __init__(self, is_training):\n        ######################################\n        # Setting parameters for ease of use #\n        ######################################\n        self.batch_size = batch_size\n        self.num_steps = num_steps\n        size = hidden_size\n        self.vocab_size = vocab_size\n        \n        ###############################################################################\n        # Creating placeholders for our input data and expected outputs (target data) #\n        ###############################################################################\n        self._input_data = tf.placeholder(tf.int32, [batch_size, num_steps]) #[30#20]\n        self._targets = tf.placeholder(tf.int32, [batch_size, num_steps]) #[30#20]\n\n        ##########################################################################\n        # Creating the LSTM cell structure and connect it with the RNN structure #\n        ##########################################################################\n        # Create the LSTM unit. \n        # This creates only the structure for the LSTM and has to be associated with a RNN unit still.\n        # The argument n_hidden(size=200) of BasicLSTMCell is size of hidden layer, that is, the number of hidden units of the LSTM (inside A).\n        # Size is the same as the size of our hidden layer, and no bias is added to the Forget Gate. \n        # LSTM cell processes one word at a time and computes probabilities of the possible continuations of the sentence.\n        lstm_cell = tf.contrib.rnn.BasicLSTMCell(size, forget_bias=0.0)\n        \n        # Unless you changed keep_prob, this won't actually execute -- this is a dropout wrapper for our LSTM unit\n        # This is an optimization of the LSTM output, but is not needed at all\n        if is_training and keep_prob < 1:\n            lstm_cell = tf.contrib.rnn.DropoutWrapper(lstm_cell, output_keep_prob=keep_prob)\n        \n        # By taking in the LSTM cells as parameters, the MultiRNNCell function junctions the LSTM units to the RNN units.\n        # RNN cell composed sequentially of multiple simple cells.\n        stacked_lstm = tf.contrib.rnn.MultiRNNCell([lstm_cell] * num_layers)\n\n        # Define the initial state, i.e., the model state for the very first data point\n        # It initialize the state of the LSTM memory. The memory state of the network is initialized with a vector of zeros and gets updated after reading each word.\n        self._initial_state = stacked_lstm.zero_state(batch_size, tf.float32)\n\n        ####################################################################\n        # Creating the word embeddings and pointing them to the input data #\n        ####################################################################\n        with tf.device(\"/cpu:0\"):\n            # Create the embeddings for our input data. Size is hidden size.\n            embedding = tf.get_variable(\"embedding\", [vocab_size, size])  #[10000x200]\n            # Define where to get the data for our embeddings from\n            inputs = tf.nn.embedding_lookup(embedding, self._input_data)\n\n        # Unless you changed keep_prob, this won't actually execute -- this is a dropout addition for our inputs\n        # This is an optimization of the input processing and is not needed at all\n        if is_training and keep_prob < 1:\n            inputs = tf.nn.dropout(inputs, keep_prob)\n\n        ############################################\n        # Creating the input structure for our RNN #\n        ############################################\n        # Input structure is 20x[30x200]\n        # Considering each word is represended by a 200 dimentional vector, and we have 30 batchs, we create 30 word-vectors of size [30xx2000]\n        #inputs = [tf.squeeze(input_, [1]) for input_ in tf.split(1, num_steps, inputs)]\n        # The input structure is fed from the embeddings, which are filled in by the input data\n        # Feeding a batch of b sentences to a RNN:\n        # In step 1,  first word of each of the b sentences (in a batch) is input in parallel.  \n        # In step 2,  second word of each of the b sentences is input in parallel. \n        # The parallelism is only for efficiency.  \n        # Each sentence in a batch is handled in parallel, but the network sees one word of a sentence at a time and does the computations accordingly. \n        # All the computations involving the words of all sentences in a batch at a given time step are done in parallel. \n\n        ####################################################################################################\n        # Instanciating our RNN model and retrieving the structure for returning the outputs and the state #\n        ####################################################################################################\n        \n        outputs, state = tf.nn.dynamic_rnn(stacked_lstm, inputs, initial_state=self._initial_state)\n\n        #########################################################################\n        # Creating a logistic unit to return the probability of the output word #\n        #########################################################################\n        output = tf.reshape(outputs, [-1, size])\n        softmax_w = tf.get_variable(\"softmax_w\", [size, vocab_size]) #[200x1000]\n        softmax_b = tf.get_variable(\"softmax_b\", [vocab_size]) #[1x1000]\n        logits = tf.matmul(output, softmax_w) + softmax_b\n\n        #########################################################################\n        # Defining the loss and cost functions for the model's learning to work #\n        #########################################################################\n        loss = tf.contrib.legacy_seq2seq.sequence_loss_by_example([logits], [tf.reshape(self._targets, [-1])],\n                                                      [tf.ones([batch_size * num_steps])])\n        self._cost = cost = tf.reduce_sum(loss) / batch_size\n\n        # Store the final state\n        self._final_state = state\n\n        #Everything after this point is relevant only for training\n        if not is_training:\n            return\n\n        #################################################\n        # Creating the Training Operation for our Model #\n        #################################################\n        # Create a variable for the learning rate\n        self._lr = tf.Variable(0.0, trainable=False)\n        # Get all TensorFlow variables marked as \"trainable\" (i.e. all of them except _lr, which we just created)\n        tvars = tf.trainable_variables()\n        # Define the gradient clipping threshold\n        grads, _ = tf.clip_by_global_norm(tf.gradients(cost, tvars), max_grad_norm)\n        # Create the gradient descent optimizer with our learning rate\n        optimizer = tf.train.GradientDescentOptimizer(self.lr)\n        # Create the training TensorFlow Operation through our optimizer\n        self._train_op = optimizer.apply_gradients(zip(grads, tvars))\n\n    # Helper functions for our LSTM RNN class\n\n    # Assign the learning rate for this model\n    def assign_lr(self, session, lr_value):\n        session.run(tf.assign(self.lr, lr_value))\n\n    # Returns the input data for this model at a point in time\n    @property\n    def input_data(self):\n        return self._input_data\n\n    # Returns the targets for this model at a point in time\n    @property\n    def targets(self):\n        return self._targets\n\n    # Returns the initial state for this model\n    @property\n    def initial_state(self):\n        return self._initial_state\n\n    # Returns the defined Cost\n    @property\n    def cost(self):\n        return self._cost\n\n    # Returns the final state for this model\n    @property\n    def final_state(self):\n        return self._final_state\n\n    # Returns the current learning rate for this model\n    @property\n    def lr(self):\n        return self._lr\n\n    # Returns the training operation defined for this model\n    @property\n    def train_op(self):\n        return self._train_op"
        }, 
        {
            "source": "With that, the actual structure of our Recurrent Neural Network with Long Short-Term Memory is finished. What remains for us to do is to actually create the methods to run through time -- that is, the `run_epoch` method to be run at each epoch and a `main` script which ties all of this together.\n\nWhat our `run_epoch` method should do is take our input data and feed it to the relevant operations. This will return at the very least the current result for the cost function.", 
            "cell_type": "markdown", 
            "metadata": {}
        }, 
        {
            "execution_count": null, 
            "cell_type": "code", 
            "metadata": {}, 
            "outputs": [], 
            "source": "##########################################################################################################################\n# run_epoch takes as parameters the current session, the model instance, the data to be fed, and the operation to be run #\n##########################################################################################################################\ndef run_epoch(session, m, data, eval_op, verbose=False):\n\n    #Define the epoch size based on the length of the data, batch size and the number of steps\n    epoch_size = ((len(data) // m.batch_size) - 1) // m.num_steps\n    start_time = time.time()\n    costs = 0.0\n    iters = 0\n    #state = m.initial_state.eval()\n    #m.initial_state = tf.convert_to_tensor(m.initial_state) \n    #state = m.initial_state.eval()\n    state = session.run(m.initial_state)\n    \n    #For each step and data point\n    for step, (x, y) in enumerate(reader.ptb_iterator(data, m.batch_size, m.num_steps)):\n \n        #Evaluate and return cost, state by running cost, final_state and the function passed as parameter\n        cost, state, _ = session.run([m.cost, m.final_state, eval_op],\n                                     {m.input_data: x,\n                                      m.targets: y,\n                                      m.initial_state: state})\n        \n        #Add returned cost to costs (which keeps track of the total costs for this epoch)\n        costs += cost\n        \n        #Add number of steps to iteration counter\n        iters += m.num_steps\n\n        if verbose and step % (epoch_size // 10) == 10:\n            print(\"%.3f perplexity: %.3f speed: %.0f wps\" % (step * 1.0 / epoch_size, np.exp(costs / iters),\n              iters * m.batch_size / (time.time() - start_time)))\n\n    # Returns the Perplexity rating for us to keep track of how the model is evolving\n    return np.exp(costs / iters)\n"
        }, 
        {
            "source": "Now, we create the `main` method to tie everything together. The code here reads the data from the directory, using the `reader` helper module, and then trains and evaluates the model on both a testing and a validating subset of data.", 
            "cell_type": "markdown", 
            "metadata": {}
        }, 
        {
            "execution_count": null, 
            "cell_type": "code", 
            "metadata": {}, 
            "outputs": [], 
            "source": "# Reads the data and separates it into training data, validation data and testing data\nraw_data = reader.ptb_raw_data(data_dir)\ntrain_data, valid_data, test_data, _ = raw_data"
        }, 
        {
            "execution_count": null, 
            "cell_type": "code", 
            "metadata": {}, 
            "outputs": [], 
            "source": "#Initializes the Execution Graph and the Session\nwith tf.Graph().as_default(), tf.Session() as session:\n    initializer = tf.random_uniform_initializer(-init_scale,init_scale)\n    \n    # Instantiates the model for training\n    # tf.variable_scope add a prefix to the variables created with tf.get_variable\n    with tf.variable_scope(\"model\", reuse=None, initializer=initializer):\n        m = PTBModel(is_training=True)\n        \n    # Reuses the trained parameters for the validation and testing models\n    # They are different instances but use the same variables for weights and biases, they just don't change when data is input\n    with tf.variable_scope(\"model\", reuse=True, initializer=initializer):\n        mvalid = PTBModel(is_training=False)\n        mtest = PTBModel(is_training=False)\n\n    #Initialize all variables\n    tf.global_variables_initializer().run()\n\n    for i in range(max_max_epoch):\n        # Define the decay for this epoch\n        lr_decay = decay ** max(i - max_epoch, 0.0)\n        \n        # Set the decayed learning rate as the learning rate for this epoch\n        m.assign_lr(session, learning_rate * lr_decay)\n\n        print(\"Epoch %d : Learning rate: %.3f\" % (i + 1, session.run(m.lr)))\n        \n        # Run the loop for this epoch in the training model\n        train_perplexity = run_epoch(session, m, train_data, m.train_op,\n                                   verbose=True)\n        print(\"Epoch %d : Train Perplexity: %.3f\" % (i + 1, train_perplexity))\n        \n        # Run the loop for this epoch in the validation model\n        valid_perplexity = run_epoch(session, mvalid, valid_data, tf.no_op())\n        print(\"Epoch %d : Valid Perplexity: %.3f\" % (i + 1, valid_perplexity))\n    \n    # Run the loop in the testing model to see how effective was our training\n    test_perplexity = run_epoch(session, mtest, test_data, tf.no_op())\n    \n    print(\"Test Perplexity: %.3f\" % test_perplexity)"
        }, 
        {
            "source": "As you can see, the model's perplexity rating drops very quickly after a few iterations. As was elaborated before, **lower Perplexity means that the model is more certain about its prediction**. As such, we can be sure that this model is performing well!\n\n---\n\nThis is the end of the **Applying Recurrent Neural Networks to Text Processing** notebook. Hopefully you now have a better understanding of Recurrent Neural Networks and how to implement one utilizing TensorFlow. Thank you for reading this notebook, and good luck on your studies.", 
            "cell_type": "markdown", 
            "metadata": {}
        }
    ], 
    "metadata": {
        "kernelspec": {
            "display_name": "Python 3.5 with Spark 2.1", 
            "name": "python3-spark21", 
            "language": "python"
        }, 
        "widgets": {
            "state": {}, 
            "version": "1.1.2"
        }, 
        "language_info": {
            "mimetype": "text/x-python", 
            "nbconvert_exporter": "python", 
            "version": "3.5.4", 
            "name": "python", 
            "file_extension": ".py", 
            "pygments_lexer": "ipython3", 
            "codemirror_mode": {
                "version": 3, 
                "name": "ipython"
            }
        }, 
        "anaconda-cloud": {}
    }, 
    "nbformat": 4
}