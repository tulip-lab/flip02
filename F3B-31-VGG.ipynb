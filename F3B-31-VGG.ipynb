{
    "nbformat_minor": 2, 
    "cells": [
        {
            "source": "# VGG\uff1a\u4f7f\u7528\u91cd\u590d\u5143\u7d20\u7684\u975e\u5e38\u6df1\u7684\u7f51\u7edc\n\n\u6211\u4eec\u4eceAlexnet\u770b\u5230\u7f51\u7edc\u7684\u5c42\u6570\u7684\u6fc0\u589e\u3002\u8fd9\u4e2a\u610f\u5473\u7740\u5373\u4f7f\u662f\u7528Gluon\u624b\u52a8\u5199\u4ee3\u7801\u4e00\u5c42\u4e00\u5c42\u7684\u5806\u6bcf\u4e00\u5c42\u4e5f\u5f88\u9ebb\u70e6\uff0c\u66f4\u4e0d\u7528\u8bf4\u4ece0\u5f00\u59cb\u4e86\u3002\u5e78\u8fd0\u7684\u662f\u7f16\u7a0b\u8bed\u8a00\u63d0\u4f9b\u4e86\u5f88\u597d\u7684\u65b9\u6cd5\u6765\u89e3\u51b3\u8fd9\u4e2a\u95ee\u9898\uff1a\u51fd\u6570\u548c\u5faa\u73af\u3002\u5982\u679c\u7f51\u7edc\u7ed3\u6784\u91cc\u9762\u6709\u5927\u91cf\u91cd\u590d\u7ed3\u6784\uff0c\u90a3\u4e48\u6211\u4eec\u53ef\u4ee5\u5f88\u7d27\u51d1\u6765\u6784\u9020\u8fd9\u4e9b\u7f51\u7edc\u3002\u7b2c\u4e00\u4e2a\u4f7f\u7528\u8fd9\u79cd\u7ed3\u6784\u7684\u6df1\u5ea6\u7f51\u7edc\u662fVGG\u3002\n\n## VGG\u67b6\u6784\n\nVGG\u7684\u4e00\u4e2a\u5173\u952e\u662f\u4f7f\u7528\u5f88\u591a\u6709\u7740\u76f8\u5bf9\u5c0f\u7684kernel\uff08$3\\times 3$\uff09\u7684\u5377\u79ef\u5c42\u7136\u540e\u63a5\u4e0a\u4e00\u4e2a\u6c60\u5316\u5c42\uff0c\u4e4b\u540e\u518d\u5c06\u8fd9\u4e2a\u6a21\u5757\u91cd\u590d\u591a\u6b21\u3002\u4e0b\u9762\u6211\u4eec\u5148\u5b9a\u4e49\u4e00\u4e2a\u8fd9\u6837\u7684\u5757\uff1a", 
            "cell_type": "markdown", 
            "metadata": {}
        }, 
        {
            "execution_count": null, 
            "cell_type": "code", 
            "metadata": {}, 
            "outputs": [], 
            "source": "from mxnet.gluon import nn\n\ndef vgg_block(num_convs, channels):\n    out = nn.Sequential()\n    for _ in range(num_convs):\n        out.add(\n            nn.Conv2D(channels=channels, kernel_size=3,\n                      padding=1, activation='relu')\n        )\n    out.add(nn.MaxPool2D(pool_size=2, strides=2))\n    return out"
        }, 
        {
            "source": "\u6211\u4eec\u5b9e\u4f8b\u5316\u4e00\u4e2a\u8fd9\u6837\u7684\u5757\uff0c\u91cc\u9762\u6709\u4e24\u4e2a\u5377\u79ef\u5c42\uff0c\u6bcf\u4e2a\u5377\u79ef\u5c42\u8f93\u51fa\u901a\u9053\u662f128\uff1a", 
            "cell_type": "markdown", 
            "metadata": {}
        }, 
        {
            "execution_count": null, 
            "cell_type": "code", 
            "metadata": {}, 
            "outputs": [], 
            "source": "from mxnet import nd\n\nblk = vgg_block(2, 128)\nblk.initialize()\nx = nd.random.uniform(shape=(2,3,16,16))\ny = blk(x)\ny.shape"
        }, 
        {
            "source": "\u53ef\u4ee5\u770b\u5230\u7ecf\u8fc7\u4e00\u4e2a\u8fd9\u6837\u7684\u5757\u540e\uff0c\u957f\u5bbd\u4f1a\u51cf\u534a\uff0c\u901a\u9053\u4e5f\u4f1a\u6539\u53d8\u3002\n\n\u7136\u540e\u6211\u4eec\u5b9a\u4e49\u5982\u4f55\u5c06\u8fd9\u4e9b\u5757\u5806\u8d77\u6765\uff1a", 
            "cell_type": "markdown", 
            "metadata": {}
        }, 
        {
            "execution_count": null, 
            "cell_type": "code", 
            "metadata": {}, 
            "outputs": [], 
            "source": "def vgg_stack(architecture):\n    out = nn.Sequential()\n    for (num_convs, channels) in architecture:\n        out.add(vgg_block(num_convs, channels))\n    return out"
        }, 
        {
            "source": "\u8fd9\u91cc\u6211\u4eec\u5b9a\u4e49\u4e00\u4e2a\u6700\u7b80\u5355\u7684\u4e00\u4e2aVGG\u7ed3\u6784\uff0c\u5b83\u67098\u4e2a\u5377\u79ef\u5c42\uff0c\u548c\u8ddfAlexnet\u4e00\u6837\u76843\u4e2a\u5168\u8fde\u63a5\u5c42\u3002\u8fd9\u4e2a\u7f51\u7edc\u53c8\u79f0VGG 11.", 
            "cell_type": "markdown", 
            "metadata": {}
        }, 
        {
            "execution_count": null, 
            "cell_type": "code", 
            "metadata": {}, 
            "outputs": [], 
            "source": "num_outputs = 10\narchitecture = ((1,64), (1,128), (2,256), (2,512), (2,512))\nnet = nn.Sequential()\n# add name_scope on the outermost Sequential\nwith net.name_scope():\n    net.add(\n        vgg_stack(architecture),\n        nn.Flatten(),\n        nn.Dense(4096, activation=\"relu\"),\n        nn.Dropout(.5),\n        nn.Dense(4096, activation=\"relu\"),\n        nn.Dropout(.5),\n        nn.Dense(num_outputs))"
        }, 
        {
            "source": "## \u6a21\u578b\u8bad\u7ec3\n\n\u8fd9\u91cc\u8ddfAlexnet\u7684\u8bad\u7ec3\u4ee3\u7801\u4e00\u6837\u9664\u4e86\u6211\u4eec\u53ea\u5c06\u56fe\u7247\u6269\u5927\u5230$96\\times 96$\u6765\u8282\u7701\u4e9b\u8ba1\u7b97\uff0c\u548c\u9ed8\u8ba4\u4f7f\u7528\u7a0d\u5fae\u5927\u70b9\u7684\u5b66\u4e60\u7387\u3002", 
            "cell_type": "markdown", 
            "metadata": {}
        }, 
        {
            "execution_count": null, 
            "cell_type": "code", 
            "metadata": {}, 
            "outputs": [], 
            "source": "import sys\nsys.path.append('..')\nimport utils\nfrom mxnet import gluon\nfrom mxnet import init\n\ntrain_data, test_data = utils.load_data_fashion_mnist(\n    batch_size=64, resize=96)\n\nctx = utils.try_gpu()\nnet.initialize(ctx=ctx, init=init.Xavier())\n\nloss = gluon.loss.SoftmaxCrossEntropyLoss()\ntrainer = gluon.Trainer(net.collect_params(), \n                        'sgd', {'learning_rate': 0.05})\nutils.train(train_data, test_data, net, loss,\n            trainer, ctx, num_epochs=1)"
        }, 
        {
            "source": "## \u603b\u7ed3\n\n\u901a\u8fc7\u4f7f\u7528\u91cd\u590d\u7684\u5143\u7d20\uff0c\u6211\u4eec\u53ef\u4ee5\u901a\u8fc7\u5faa\u73af\u548c\u51fd\u6570\u6765\u5b9a\u4e49\u6a21\u578b\u3002\u4f7f\u7528\u4e0d\u540c\u7684\u914d\u7f6e(`architecture`)\u53ef\u4ee5\u5f97\u5230\u4e00\u7cfb\u5217\u4e0d\u540c\u7684\u6a21\u578b\u3002\n\n\n## \u7ec3\u4e60\n\n- \u5c1d\u8bd5\u591a\u8dd1\u51e0\u8f6e\uff0c\u770b\u770b\u8ddfLeNet/Alexnet\u6bd4\u600e\u4e48\u6837\uff1f\n- \u5c1d\u8bd5\u4e0b\u6784\u9020VGG\u5176\u4ed6\u5e38\u7528\u6a21\u578b\uff0c\u4f8b\u5982VGG16\uff0c VGG19. \uff08\u63d0\u793a\uff1a\u53ef\u4ee5\u53c2\u8003[VGG\u8bba\u6587](https://arxiv.org/abs/1409.1556)\u91cc\u7684\u88681\u3002\uff09\n- \u628a\u56fe\u7247\u4ece\u9ed8\u8ba4\u7684$224\\times 224$\u964d\u5230$96\\times 96$\u6709\u4ec0\u4e48\u5f71\u54cd\uff1f\n\n\n**\u5410\u69fd\u548c\u8ba8\u8bba\u6b22\u8fce\u70b9**[\u8fd9\u91cc](https://discuss.gluon.ai/t/topic/1277)", 
            "cell_type": "markdown", 
            "metadata": {}
        }
    ], 
    "metadata": {}, 
    "nbformat": 4
}