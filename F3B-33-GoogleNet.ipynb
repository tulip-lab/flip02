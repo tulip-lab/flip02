{
    "nbformat_minor": 2, 
    "cells": [
        {
            "source": "# \u66f4\u6df1\u7684\u5377\u79ef\u795e\u7ecf\u7f51\u7edc\uff1aGoogLeNet\n\n\u57282014\u5e74\u7684Imagenet\u7ade\u8d5b\u91cc\uff0cGoogle\u7684\u7814\u7a76\u4eba\u5458\u5229\u7528\u4e00\u4e2a\u65b0\u7684\u7f51\u7edc\u7ed3\u6784\u53d6\u5f97\u5f88\u5927\u7684\u4f18\u5148\u3002\u8fd9\u4e2a\u53eb\u505aGoogLeNet\u7684\u7f51\u7edc\u867d\u7136\u5728\u540d\u5b57\u4e0a\u662f\u5411LeNet\u81f4\u656c\uff0c\u4f46\u7f51\u7edc\u7ed3\u6784\u91cc\u5f88\u96be\u770b\u5230LeNet\u7684\u5f71\u5b50\u3002\u5b83\u98a0\u8986\u7684\u5927\u5bb6\u5bf9\u5377\u79ef\u795e\u7ecf\u7f51\u7edc\u4e32\u8054\u4e00\u7cfb\u5217\u5c42\u7684\u56fa\u5b9a\u505a\u6cd5\u3002\u4e0b\u56fe\u662f\u5176[\u8bba\u6587](https://arxiv.org/abs/1409.4842)\u5bf9GoogLeNet\u7684\u53ef\u89c6\u5316\n\n![](https://github.com/mli/gluon-tutorials-zh/raw/master/img/googlenet.png)\n\n## \u5b9a\u4e49Inception\n\n\u53ef\u4ee5\u770b\u5230\u5176\u4e2d\u6709\u591a\u4e2a\u56db\u4e2a\u5e76\u884c\u5377\u79ef\u5c42\u7684\u5757\u3002\u8fd9\u4e2a\u5757\u4e00\u822c\u53eb\u505aInception\uff0c\u5176\u57fa\u4e8e[Network in network](https://github.com/mli/gluon-tutorials-zh/raw/master/nin-gluon.md)\u7684\u601d\u60f3\u505a\u4e86\u5f88\u5927\u7684\u6539\u8fdb\u3002\u6211\u4eec\u5148\u770b\u4e0b\u5982\u4f55\u5b9a\u4e49\u4e00\u4e2a\u4e0b\u56fe\u6240\u793a\u7684Inception\u5757\u3002\n\nCheck [here](https://github.com/mli/gluon-tutorials-zh/blob/master/chapter_convolutional-neural-networks/googlenet-gluon.md)\n\n![](https://github.com/mli/gluon-tutorials-zh/raw/master/img/inception.svg)", 
            "cell_type": "markdown", 
            "metadata": {}
        }, 
        {
            "execution_count": null, 
            "cell_type": "code", 
            "metadata": {}, 
            "outputs": [], 
            "source": "from mxnet.gluon import nn\nfrom mxnet import nd\n\nclass Inception(nn.Block):\n    def __init__(self, n1_1, n2_1, n2_3, n3_1, n3_5, n4_1, **kwargs):\n        super(Inception, self).__init__(**kwargs)\n        # path 1\n        self.p1_conv_1 = nn.Conv2D(n1_1, kernel_size=1,\n                                   activation='relu')\n        # path 2\n        self.p2_conv_1 = nn.Conv2D(n2_1, kernel_size=1,\n                                   activation='relu')\n        self.p2_conv_3 = nn.Conv2D(n2_3, kernel_size=3, padding=1,\n                                   activation='relu')\n        # path 3\n        self.p3_conv_1 = nn.Conv2D(n3_1, kernel_size=1,\n                                   activation='relu')\n        self.p3_conv_5 = nn.Conv2D(n3_5, kernel_size=5, padding=2,\n                                   activation='relu')\n        # path 4\n        self.p4_pool_3 = nn.MaxPool2D(pool_size=3, padding=1,\n                                      strides=1)\n        self.p4_conv_1 = nn.Conv2D(n4_1, kernel_size=1,\n                                   activation='relu')\n\n    def forward(self, x):\n        p1 = self.p1_conv_1(x)\n        p2 = self.p2_conv_3(self.p2_conv_1(x))\n        p3 = self.p3_conv_5(self.p3_conv_1(x))\n        p4 = self.p4_conv_1(self.p4_pool_3(x))\n        return nd.concat(p1, p2, p3, p4, dim=1)"
        }, 
        {
            "source": "\u53ef\u4ee5\u770b\u5230Inception\u91cc\u6709\u56db\u4e2a\u5e76\u884c\u7684\u7ebf\u8def\u3002\n\n1. \u5355\u4e2a$1\\times 1$\u5377\u79ef\u3002\n2. $1\\times 1$\u5377\u79ef\u63a5\u4e0a$3\\times 3$\u5377\u79ef\u3002\u901a\u5e38\u524d\u8005\u7684\u901a\u9053\u6570\u5c11\u4e8e\u8f93\u5165\u901a\u9053\uff0c\u8fd9\u6837\u51cf\u5c11\u540e\u8005\u7684\u8ba1\u7b97\u91cf\u3002\u540e\u8005\u52a0\u4e0a\u4e86`padding=1`\u4f7f\u5f97\u8f93\u51fa\u7684\u957f\u5bbd\u7684\u8f93\u5165\u4e00\u81f4\n3. \u540c2\uff0c\u4f46\u6362\u6210\u4e86$5 \\times 5$\u5377\u79ef\n4. \u548c1\u7c7b\u4f3c\uff0c\u4f46\u5377\u79ef\u524d\u7528\u4e86\u6700\u5927\u6c60\u5316\u5c42\n\n\u6700\u540e\u5c06\u8fd9\u56db\u4e2a\u5e76\u884c\u7ebf\u8def\u7684\u7ed3\u679c\u5728\u901a\u9053\u8fd9\u4e2a\u7ef4\u5ea6\u4e0a\u5408\u5e76\u5728\u4e00\u8d77\u3002\n\n\u6d4b\u8bd5\u4e00\u4e0b\uff1a", 
            "cell_type": "markdown", 
            "metadata": {}
        }, 
        {
            "execution_count": null, 
            "cell_type": "code", 
            "metadata": {}, 
            "outputs": [], 
            "source": "incp = Inception(64, 96, 128, 16, 32, 32)\nincp.initialize()\n\nx = nd.random.uniform(shape=(32,3,64,64))\nincp(x).shape"
        }, 
        {
            "source": "## \u5b9a\u4e49GoogLeNet\n\nGoogLeNet\u5c06\u6570\u4e2aInception\u4e32\u8054\u5728\u4e00\u8d77\u3002\u6ce8\u610f\u5230\u539f\u8bba\u6587\u91cc\u4f7f\u7528\u4e86\u591a\u4e2a\u8f93\u51fa\uff0c\u4e3a\u4e86\u7b80\u5316\u6211\u4eec\u8fd9\u91cc\u5c31\u4f7f\u7528\u4e00\u4e2a\u8f93\u51fa\u3002\u4e3a\u4e86\u53ef\u4ee5\u66f4\u65b9\u4fbf\u7684\u67e5\u770b\u6570\u636e\u5728\u5185\u90e8\u7684\u5f62\u72b6\u53d8\u5316\uff0c\u6211\u4eec\u5bf9\u6bcf\u4e2a\u5757\u4f7f\u7528\u4e00\u4e2a`nn.Sequential`\uff0c\u7136\u540e\u518d\u628a\u6240\u6709\u8fd9\u4e9b\u5757\u8fde\u8d77\u6765\u3002", 
            "cell_type": "markdown", 
            "metadata": {}
        }, 
        {
            "execution_count": null, 
            "cell_type": "code", 
            "metadata": {}, 
            "outputs": [], 
            "source": "class GoogLeNet(nn.Block):\n    def __init__(self, num_classes, verbose=False, **kwargs):\n        super(GoogLeNet, self).__init__(**kwargs)\n        self.verbose = verbose\n        # add name_scope on the outer most Sequential\n        with self.name_scope():\n            # block 1\n            b1 = nn.Sequential()\n            b1.add(\n                nn.Conv2D(64, kernel_size=7, strides=2,\n                          padding=3, activation='relu'),\n                nn.MaxPool2D(pool_size=3, strides=2)\n            )\n            # block 2\n            b2 = nn.Sequential()\n            b2.add(\n                nn.Conv2D(64, kernel_size=1),\n                nn.Conv2D(192, kernel_size=3, padding=1),\n                nn.MaxPool2D(pool_size=3, strides=2)\n            )\n\n            # block 3\n            b3 = nn.Sequential()\n            b3.add(\n                Inception(64, 96, 128, 16,32, 32),\n                Inception(128, 128, 192, 32, 96, 64),\n                nn.MaxPool2D(pool_size=3, strides=2)\n            )\n\n            # block 4\n            b4 = nn.Sequential()\n            b4.add(\n                Inception(192, 96, 208, 16, 48, 64),\n                Inception(160, 112, 224, 24, 64, 64),\n                Inception(128, 128, 256, 24, 64, 64),\n                Inception(112, 144, 288, 32, 64, 64),\n                Inception(256, 160, 320, 32, 128, 128),\n                nn.MaxPool2D(pool_size=3, strides=2)\n            )\n\n            # block 5\n            b5 = nn.Sequential()\n            b5.add(\n                Inception(256, 160, 320, 32, 128, 128),\n                Inception(384, 192, 384, 48, 128, 128),\n                nn.AvgPool2D(pool_size=2)\n            )\n            # block 6\n            b6 = nn.Sequential()\n            b6.add(\n                nn.Flatten(),\n                nn.Dense(num_classes)\n            )\n            # chain blocks together\n            self.net = nn.Sequential()\n            self.net.add(b1, b2, b3, b4, b5, b6)\n\n    def forward(self, x):\n        out = x\n        for i, b in enumerate(self.net):\n            out = b(out)\n            if self.verbose:\n                print('Block %d output: %s'%(i+1, out.shape))\n        return out"
        }, 
        {
            "source": "\u6211\u4eec\u770b\u4e00\u4e0b\u6bcf\u4e2a\u5757\u5bf9\u8f93\u51fa\u7684\u6539\u53d8\u3002", 
            "cell_type": "markdown", 
            "metadata": {}
        }, 
        {
            "execution_count": null, 
            "cell_type": "code", 
            "metadata": {}, 
            "outputs": [], 
            "source": "net = GoogLeNet(10, verbose=True)\nnet.initialize()\n\nx = nd.random.uniform(shape=(4, 3, 96, 96))\ny = net(x)"
        }, 
        {
            "source": "## \u83b7\u53d6\u6570\u636e\u5e76\u8bad\u7ec3\n\n\u8ddfVGG\u4e00\u6837\u6211\u4eec\u4f7f\u7528\u4e86\u8f83\u5c0f\u7684\u8f93\u5165$96\\times 96$\u6765\u52a0\u901f\u8ba1\u7b97\u3002", 
            "cell_type": "markdown", 
            "metadata": {}
        }, 
        {
            "execution_count": null, 
            "cell_type": "code", 
            "metadata": {}, 
            "outputs": [], 
            "source": "import sys\nsys.path.append('..')\nimport utils\nfrom mxnet import gluon\nfrom mxnet import init\n\ntrain_data, test_data = utils.load_data_fashion_mnist(\n    batch_size=64, resize=96)\n\nctx = utils.try_gpu()\nnet = GoogLeNet(10)\nnet.initialize(ctx=ctx, init=init.Xavier())\n\nloss = gluon.loss.SoftmaxCrossEntropyLoss()\ntrainer = gluon.Trainer(net.collect_params(),\n                        'sgd', {'learning_rate': 0.01})\nutils.train(train_data, test_data, net, loss,\n            trainer, ctx, num_epochs=1)"
        }, 
        {
            "source": "## \u7ed3\u8bba\n\nGoogLeNet\u52a0\u5165\u4e86\u66f4\u52a0\u7ed3\u6784\u5316\u7684Inception\u5757\u6765\u4f7f\u5f97\u6211\u4eec\u53ef\u4ee5\u4f7f\u7528\u66f4\u5927\u7684\u901a\u9053\uff0c\u66f4\u591a\u7684\u5c42\uff0c\u540c\u65f6\u63a7\u5236\u8ba1\u7b97\u91cf\u548c\u6a21\u578b\u5927\u5c0f\u5728\u5408\u7406\u8303\u56f4\u5185\u3002\n\n## \u7ec3\u4e60\n\nGoogLeNet\u6709\u6570\u4e2a\u540e\u7eed\u7248\u672c\uff0c\u5c1d\u8bd5\u5b9e\u73b0\u4ed6\u4eec\u5e76\u8fd0\u884c\u770b\u770b\u6709\u4ec0\u4e48\u4e0d\u4e00\u6837\n\n- v1: \u672c\u8282\u4ecb\u7ecd\u7684\u662f\u6700\u65e9\u7248\u672c\uff1a[Going Deeper with Convolutions](http://arxiv.org/abs/1409.4842)\n- v2: \u52a0\u5165\u548cBatch Normalization\uff1a[Accelerating Deep Network Training by Reducing Internal Covariate Shift](http://arxiv.org/abs/1502.03167)\n- v3: \u5bf9Inception\u505a\u4e86\u8c03\u6574\uff1a[Rethinking the Inception Architecture for Computer Vision](http://arxiv.org/abs/1512.00567)\n- v4: \u57fa\u4e8eResNet\u52a0\u5165\u4e86Residual Connections\uff1a[Inception-ResNet and the Impact of Residual Connections on Learning](http://arxiv.org/abs/1602.07261)\n\n\n**\u5410\u69fd\u548c\u8ba8\u8bba\u6b22\u8fce\u70b9**[\u8fd9\u91cc](https://discuss.gluon.ai/t/topic/1662)", 
            "cell_type": "markdown", 
            "metadata": {}
        }
    ], 
    "metadata": {
        "kernelspec": {
            "display_name": "Python 2 with Spark 1.6 (Unsupported)", 
            "name": "python2", 
            "language": "python"
        }, 
        "language_info": {
            "mimetype": "text/x-python", 
            "nbconvert_exporter": "python", 
            "version": "2.7.11", 
            "name": "python", 
            "file_extension": ".py", 
            "pygments_lexer": "ipython2", 
            "codemirror_mode": {
                "version": 2, 
                "name": "ipython"
            }
        }
    }, 
    "nbformat": 4
}