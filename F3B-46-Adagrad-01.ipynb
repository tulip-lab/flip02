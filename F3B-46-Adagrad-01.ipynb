{
    "nbformat_minor": 2, 
    "cells": [
        {
            "source": "# Adagrad --- \u4ece0\u5f00\u59cb\n\n\n\u5728\u6211\u4eec\u4e4b\u524d\u7684\u4f18\u5316\u7b97\u6cd5\u4e2d\uff0c\u65e0\u8bba\u662f\u68af\u5ea6\u4e0b\u964d\u3001\u968f\u673a\u68af\u5ea6\u4e0b\u964d\u3001\u5c0f\u6279\u91cf\u968f\u673a\u68af\u5ea6\u4e0b\u964d\u8fd8\u662f\u4f7f\u7528\u52a8\u91cf\u6cd5\uff0c\u6a21\u578b\u53c2\u6570\u4e2d\u7684\u6bcf\u4e00\u4e2a\u5143\u7d20\u5728\u76f8\u540c\u65f6\u523b\u90fd\u4f7f\u7528\u540c\u4e00\u4e2a\u5b66\u4e60\u7387\u6765\u81ea\u6211\u8fed\u4ee3\u3002\n\n\u4e3e\u4e2a\u4f8b\u5b50\uff0c\u5f53\u4e00\u4e2a\u6a21\u578b\u7684\u635f\u5931\u51fd\u6570\u4e3a$L$\uff0c\u53c2\u6570\u4e3a\u4e00\u4e2a\u591a\u7ef4\u5411\u91cf$[x_1, x_2]^\\top$\u65f6\uff0c\u8be5\u5411\u91cf\u4e2d\u6bcf\u4e00\u4e2a\u5143\u7d20\u5728\u66f4\u65b0\u65f6\u90fd\u4f7f\u7528\u76f8\u540c\u7684\u5b66\u4e60\u7387\uff0c\u4f8b\u5982\u5728\u5b66\u4e60\u7387\u4e3a$\\eta$\u7684\u68af\u5ea6\u4e0b\u964d\u4e2d\uff1a\n\n$$\nx_1 := x_1 - \\eta \\frac{\\partial{L}}{\\partial{x_1}} \\\\\nx_2 := x_2 - \\eta \\frac{\\partial{L}}{\\partial{x_2}}\n$$\n\n\u5176\u4e2d\u5143\u7d20$x_1$\u548c$x_2$\u90fd\u4f7f\u7528\u76f8\u540c\u7684\u5b66\u4e60\u7387$\\eta$\u6765\u81ea\u6211\u8fed\u4ee3\u3002\u5982\u679c\u8ba9$x_1$\u548c$x_2$\u4f7f\u7528\u4e0d\u540c\u7684\u5b66\u4e60\u7387\u81ea\u6211\u8fed\u4ee3\u5462\uff1f\n\n\nAdagrad\u5c31\u662f\u4e00\u4e2a\u5728\u8fed\u4ee3\u8fc7\u7a0b\u4e2d\u4e0d\u65ad\u81ea\u6211\u8c03\u6574\u5b66\u4e60\u7387\uff0c\u5e76\u8ba9\u6a21\u578b\u53c2\u6570\u4e2d\u6bcf\u4e2a\u5143\u7d20\u90fd\u4f7f\u7528\u4e0d\u540c\u5b66\u4e60\u7387\u7684\u4f18\u5316\u7b97\u6cd5\u3002\n\n\n## Adagrad\u7b97\u6cd5\n\n\u7531\u4e8e\u5c0f\u6279\u91cf\u968f\u673a\u68af\u5ea6\u4e0b\u964d\u5305\u542b\u4e86\u68af\u5ea6\u4e0b\u964d\u548c\u968f\u673a\u68af\u5ea6\u4e0b\u964d\u8fd9\u4e24\u79cd\u7279\u6b8a\u5f62\u5f0f\uff0c\u6211\u4eec\u5728\u4e4b\u540e\u7684\u4f18\u5316\u7ae0\u8282\u91cc\u63d0\u5230\u7684\u68af\u5ea6\u90fd\u6307\u7684\u662f\u5c0f\u6279\u91cf\u968f\u673a\u68af\u5ea6\u3002\u7531\u4e8e\u6211\u4eec\u4f1a\u7ecf\u5e38\u7528\u5230\u6309\u5143\u7d20\u64cd\u4f5c\uff0c\u8fd9\u91cc\u7a0d\u4f5c\u4ecb\u7ecd\u3002\u5047\u8bbe$\\mathbf{x} = [4, 9]^\\top$\uff0c\u4ee5\u4e0b\u662f\u4e00\u4e9b\u6309\u5143\u7d20\u64cd\u4f5c\u7684\u4f8b\u5b50\uff1a\n\n* \u6309\u5143\u7d20\u76f8\u52a0\uff1a $\\mathbf{x} + 1 = [5, 10]^\\top$\n* \u6309\u5143\u7d20\u76f8\u4e58\uff1a $\\mathbf{x} \\odot \\mathbf{x} = [16, 81]^\\top$\n* \u6309\u5143\u7d20\u76f8\u9664\uff1a $72 / \\mathbf{x} = [18, 8]^\\top$\n* \u6309\u5143\u7d20\u5f00\u65b9\uff1a $\\sqrt{\\mathbf{x}} = [2, 3]^\\top$\n\nAdagrad\u7684\u7b97\u6cd5\u4f1a\u4f7f\u7528\u4e00\u4e2a\u68af\u5ea6\u6309\u5143\u7d20\u5e73\u65b9\u7684\u7d2f\u52a0\u53d8\u91cf$\\mathbf{s}$\uff0c\u5e76\u5c06\u5176\u4e2d\u6bcf\u4e2a\u5143\u7d20\u521d\u59cb\u5316\u4e3a0\u3002\u5728\u6bcf\u6b21\u8fed\u4ee3\u4e2d\uff0c\u9996\u5148\u8ba1\u7b97[\u5c0f\u6279\u91cf\u68af\u5ea6](gd-sgd-scratch.md) $\\mathbf{g}$\uff0c\u7136\u540e\u5c06\u8be5\u68af\u5ea6\u6309\u5143\u7d20\u5e73\u65b9\u540e\u7d2f\u52a0\u5230\u53d8\u91cf$\\mathbf{s}$\uff1a\n\n$$\\mathbf{s} := \\mathbf{s} + \\mathbf{g} \\odot \\mathbf{g} $$\n\n\u7136\u540e\u6211\u4eec\u5c06\u6a21\u578b\u53c2\u6570\u4e2d\u6bcf\u4e2a\u5143\u7d20\u7684\u5b66\u4e60\u7387\u901a\u8fc7\u6309\u5143\u7d20\u64cd\u4f5c\u91cd\u65b0\u8c03\u6574\u4e00\u4e0b\uff1a\n\n$$\\mathbf{g}^\\prime := \\frac{\\eta}{\\sqrt{\\mathbf{s} + \\epsilon}} \\odot \\mathbf{g} $$\n\n\u5176\u4e2d$\\eta$\u662f\u521d\u59cb\u5b66\u4e60\u7387\uff0c$\\epsilon$\u662f\u4e3a\u4e86\u7ef4\u6301\u6570\u503c\u7a33\u5b9a\u6027\u800c\u6dfb\u52a0\u7684\u5e38\u6570\uff0c\u4f8b\u5982$10^{-7}$\u3002\u8bf7\u6ce8\u610f\u5176\u4e2d\u6309\u5143\u7d20\u5f00\u65b9\u3001\u9664\u6cd5\u548c\u4e58\u6cd5\u7684\u64cd\u4f5c\u3002\u8fd9\u4e9b\u6309\u5143\u7d20\u64cd\u4f5c\u4f7f\u5f97\u6a21\u578b\u53c2\u6570\u4e2d\u6bcf\u4e2a\u5143\u7d20\u90fd\u5206\u522b\u62e5\u6709\u81ea\u5df1\u7684\u5b66\u4e60\u7387\u3002\n\n\u9700\u8981\u5f3a\u8c03\u7684\u662f\uff0c\u7531\u4e8e\u68af\u5ea6\u6309\u5143\u7d20\u5e73\u65b9\u7684\u7d2f\u52a0\u53d8\u91cf$\\mathbf{s}$\u51fa\u73b0\u5728\u5206\u6bcd\uff0cAdagrad\u7684\u6838\u5fc3\u601d\u60f3\u662f\uff1a\u5982\u679c\u6a21\u578b\u635f\u5931\u51fd\u6570\u6709\u5173\u4e00\u4e2a\u53c2\u6570\u5143\u7d20\u7684\u504f\u5bfc\u6570\u4e00\u76f4\u90fd\u8f83\u5927\uff0c\u90a3\u4e48\u5c31\u8ba9\u5b83\u7684\u5b66\u4e60\u7387\u4e0b\u964d\u5feb\u4e00\u70b9\uff1b\u53cd\u4e4b\uff0c\u5982\u679c\u6a21\u578b\u635f\u5931\u51fd\u6570\u6709\u5173\u4e00\u4e2a\u53c2\u6570\u5143\u7d20\u7684\u504f\u5bfc\u6570\u4e00\u76f4\u90fd\u8f83\u5c0f\uff0c\u90a3\u4e48\u5c31\u8ba9\u5b83\u7684\u5b66\u4e60\u7387\u4e0b\u964d\u6162\u4e00\u70b9\u3002\u7136\u800c\uff0c\u7531\u4e8e$\\mathbf{s}$\u4e00\u76f4\u5728\u7d2f\u52a0\u6309\u5143\u7d20\u5e73\u65b9\u7684\u68af\u5ea6\uff0c\u6bcf\u4e2a\u5143\u7d20\u7684\u5b66\u4e60\u7387\u5728\u8fed\u4ee3\u8fc7\u7a0b\u4e2d\u4e00\u76f4\u5728\u964d\u4f4e\u6216\u4e0d\u53d8\u3002\u6240\u4ee5\u5728\u6709\u4e9b\u95ee\u9898\u4e0b\uff0c\u5f53\u5b66\u4e60\u7387\u5728\u8fed\u4ee3\u65e9\u671f\u964d\u5f97\u8f83\u5feb\u65f6\u4e14\u5f53\u524d\u89e3\u4f9d\u7136\u4e0d\u7406\u60f3\u65f6\uff0cAdagrad\u5728\u8fed\u4ee3\u540e\u671f\u53ef\u80fd\u8f83\u96be\u627e\u5230\u4e00\u4e2a\u6709\u7528\u7684\u89e3\u3002\n\n\u6700\u540e\u7684\u53c2\u6570\u8fed\u4ee3\u6b65\u9aa4\u4e0e\u5c0f\u6279\u91cf\u968f\u673a\u68af\u5ea6\u4e0b\u964d\u7c7b\u4f3c\u3002\u53ea\u662f\u8fd9\u91cc\u68af\u5ea6\u524d\u7684\u5b66\u4e60\u7387\u5df2\u7ecf\u88ab\u8c03\u6574\u8fc7\u4e86\uff1a\n\n$$\\mathbf{x} := \\mathbf{x} - \\mathbf{g}^\\prime $$\n\n\n\n\n## Adagrad\u7684\u5b9e\u73b0\n\nAdagrad\u7684\u5b9e\u73b0\u5f88\u7b80\u5355\u3002\u6211\u4eec\u53ea\u9700\u8981\u628a\u4e0a\u9762\u7684\u6570\u5b66\u516c\u5f0f\u7ffb\u8bd1\u6210\u4ee3\u7801\u3002", 
            "cell_type": "markdown", 
            "metadata": {}
        }, 
        {
            "execution_count": null, 
            "cell_type": "code", 
            "metadata": {
                "attributes": {
                    "classes": [], 
                    "id": "", 
                    "n": "1"
                }
            }, 
            "outputs": [], 
            "source": "# Adagrad\u7b97\u6cd5\ndef adagrad(params, sqrs, lr, batch_size):\n    eps_stable = 1e-7\n    for param, sqr in zip(params, sqrs):\n        g = param.grad / batch_size\n        sqr[:] += nd.square(g)\n        div = lr * g / nd.sqrt(sqr + eps_stable)\n        param[:] -= div"
        }, 
        {
            "source": "## \u5b9e\u9a8c\n\n\u5b9e\u9a8c\u4e2d\uff0c\u6211\u4eec\u4ee5\u7ebf\u6027\u56de\u5f52\u4e3a\u4f8b\u3002\u5176\u4e2d\u771f\u5b9e\u53c2\u6570`w`\u4e3a[2, -3.4]\uff0c`b`\u4e3a4.2\u3002\u6211\u4eec\u628a\u68af\u5ea6\u6309\u5143\u7d20\u5e73\u65b9\u7684\u7d2f\u52a0\u53d8\u91cf\u521d\u59cb\u5316\u4e3a\u548c\u53c2\u6570\u5f62\u72b6\u76f8\u540c\u7684\u96f6\u5f20\u91cf\u3002", 
            "cell_type": "markdown", 
            "metadata": {}
        }, 
        {
            "execution_count": null, 
            "cell_type": "code", 
            "metadata": {
                "attributes": {
                    "classes": [], 
                    "id": "", 
                    "n": "2"
                }
            }, 
            "outputs": [], 
            "source": "from mxnet import ndarray as nd\nimport mxnet as mx\nfrom mxnet import autograd\nfrom mxnet import gluon\nimport random\n\nmx.random.seed(1)\nrandom.seed(1)\n\n# \u751f\u6210\u6570\u636e\u96c6\u3002\nnum_inputs = 2\nnum_examples = 1000\ntrue_w = [2, -3.4]\ntrue_b = 4.2\nX = nd.random_normal(scale=1, shape=(num_examples, num_inputs))\ny = true_w[0] * X[:, 0] + true_w[1] * X[:, 1] + true_b\ny += .01 * nd.random_normal(scale=1, shape=y.shape)\ndataset = gluon.data.ArrayDataset(X, y)\n\n# \u6784\u9020\u8fed\u4ee3\u5668\u3002\nimport random\ndef data_iter(batch_size):\n    idx = list(range(num_examples))\n    random.shuffle(idx)\n    for batch_i, i in enumerate(range(0, num_examples, batch_size)):\n        j = nd.array(idx[i: min(i + batch_size, num_examples)])\n        yield batch_i, X.take(j), y.take(j)\n\n# \u521d\u59cb\u5316\u6a21\u578b\u53c2\u6570\u3002\ndef init_params():\n    w = nd.random_normal(scale=1, shape=(num_inputs, 1))\n    b = nd.zeros(shape=(1,))\n    params = [w, b]\n    sqrs = []\n    for param in params:\n        param.attach_grad()\n        # \u628a\u68af\u5ea6\u6309\u5143\u7d20\u5e73\u65b9\u7684\u7d2f\u52a0\u53d8\u91cf\u521d\u59cb\u5316\u4e3a\u548c\u53c2\u6570\u5f62\u72b6\u76f8\u540c\u7684\u96f6\u5f20\u91cf\u3002\n        sqrs.append(param.zeros_like())\n    return params, sqrs\n\n# \u7ebf\u6027\u56de\u5f52\u6a21\u578b\u3002\ndef net(X, w, b):\n    return nd.dot(X, w) + b\n\n# \u635f\u5931\u51fd\u6570\u3002\ndef square_loss(yhat, y):\n    return (yhat - y.reshape(yhat.shape)) ** 2 / 2"
        }, 
        {
            "source": "\u63a5\u4e0b\u6765\u5b9a\u4e49\u8bad\u7ec3\u51fd\u6570\u3002\u8bad\u7ec3\u51fd\u6570\u7684period\u53c2\u6570\u8bf4\u660e\uff0c\u6bcf\u6b21\u91c7\u6837\u8fc7\u8be5\u6570\u76ee\u7684\u6570\u636e\u70b9\u540e\uff0c\u8bb0\u5f55\u5f53\u524d\u76ee\u6807\u51fd\u6570\u503c\u7528\u4e8e\u4f5c\u56fe\u3002\u4f8b\u5982\uff0c\u5f53period\u548cbatch_size\u90fd\u4e3a10\u65f6\uff0c\u6bcf\u6b21\u8fed\u4ee3\u540e\u5747\u4f1a\u8bb0\u5f55\u76ee\u6807\u51fd\u6570\u503c\u3002\n\n\u53e6\u5916\uff0c\u4e0e\u968f\u673a\u68af\u5ea6\u4e0b\u964d\u7b97\u6cd5\u4e0d\u540c\uff0c\u8fd9\u91cc\u7684\u521d\u59cb\u5b66\u4e60\u7387`lr`\u6ca1\u6709\u81ea\u6211\u8870\u51cf\u3002", 
            "cell_type": "markdown", 
            "metadata": {}
        }, 
        {
            "execution_count": null, 
            "cell_type": "code", 
            "metadata": {
                "attributes": {
                    "classes": [], 
                    "id": "", 
                    "n": "3"
                }
            }, 
            "outputs": [], 
            "source": "%matplotlib inline\nimport matplotlib as mpl\nmpl.rcParams['figure.dpi']= 120\nimport matplotlib.pyplot as plt\nimport numpy as np\n\ndef train(batch_size, lr, epochs, period):\n    assert period >= batch_size and period % batch_size == 0\n    [w, b], sqrs = init_params()\n    total_loss = [np.mean(square_loss(net(X, w, b), y).asnumpy())]\n\n    # \u6ce8\u610fepoch\u4ece1\u5f00\u59cb\u8ba1\u6570\u3002\n    for epoch in range(1, epochs + 1):\n        for batch_i, data, label in data_iter(batch_size):\n            with autograd.record():\n                output = net(data, w, b)\n                loss = square_loss(output, label)\n            loss.backward()\n            adagrad([w, b], sqrs, lr, batch_size)\n            if batch_i * batch_size % period == 0:\n                total_loss.append(np.mean(square_loss(net(X, w, b), y).asnumpy()))\n        print(\"Batch size %d, Learning rate %f, Epoch %d, loss %.4e\" % \n              (batch_size, lr, epoch, total_loss[-1]))\n    print('w:', np.reshape(w.asnumpy(), (1, -1)), \n          'b:', b.asnumpy()[0], '\\n')\n    x_axis = np.linspace(0, epochs, len(total_loss), endpoint=True)\n    plt.semilogy(x_axis, total_loss)\n    plt.xlabel('epoch')\n    plt.ylabel('loss')\n    plt.show()"
        }, 
        {
            "source": "\u4f7f\u7528Adagrad\uff0c\u6700\u7ec8\u5b66\u5230\u7684\u53c2\u6570\u503c\u4e0e\u771f\u5b9e\u503c\u8f83\u63a5\u8fd1\u3002", 
            "cell_type": "markdown", 
            "metadata": {}
        }, 
        {
            "execution_count": null, 
            "cell_type": "code", 
            "metadata": {
                "attributes": {
                    "classes": [], 
                    "id": "", 
                    "n": "4"
                }
            }, 
            "outputs": [], 
            "source": "train(batch_size=10, lr=0.9, epochs=3, period=10)"
        }, 
        {
            "source": "## \u7ed3\u8bba\n\n* Adagrad\u662f\u4e00\u4e2a\u5728\u8fed\u4ee3\u8fc7\u7a0b\u4e2d\u4e0d\u65ad\u81ea\u6211\u8c03\u6574\u5b66\u4e60\u7387\uff0c\u5e76\u8ba9\u6a21\u578b\u53c2\u6570\u4e2d\u6bcf\u4e2a\u5143\u7d20\u90fd\u4f7f\u7528\u4e0d\u540c\u5b66\u4e60\u7387\u7684\u4f18\u5316\u7b97\u6cd5\u3002\n\n\n## \u7ec3\u4e60\n\n* \u6211\u4eec\u63d0\u5230\u4e86Adagrad\u53ef\u80fd\u7684\u95ee\u9898\u5728\u4e8e\u6309\u5143\u7d20\u5e73\u65b9\u7684\u68af\u5ea6\u7d2f\u52a0\u53d8\u91cf\u3002\u4f60\u80fd\u60f3\u5230\u4ec0\u4e48\u529e\u6cd5\u6765\u5e94\u5bf9\u8fd9\u4e2a\u95ee\u9898\u5417\uff1f\n\n**\u5410\u69fd\u548c\u8ba8\u8bba\u6b22\u8fce\u70b9**[\u8fd9\u91cc](https://discuss.gluon.ai/t/topic/2273)", 
            "cell_type": "markdown", 
            "metadata": {}
        }
    ], 
    "metadata": {
        "kernelspec": {
            "display_name": "Python 2 with Spark 1.6 (Unsupported)", 
            "name": "python2", 
            "language": "python"
        }, 
        "language_info": {
            "mimetype": "text/x-python", 
            "nbconvert_exporter": "python", 
            "version": "2.7.11", 
            "name": "python", 
            "file_extension": ".py", 
            "pygments_lexer": "ipython2", 
            "codemirror_mode": {
                "version": 2, 
                "name": "ipython"
            }
        }
    }, 
    "nbformat": 4
}