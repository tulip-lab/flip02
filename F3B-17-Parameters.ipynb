{
    "nbformat_minor": 2, 
    "cells": [
        {
            "source": "# \u521d\u59cb\u5316\u6a21\u578b\u53c2\u6570\n\n\u6211\u4eec\u4ecd\u7136\u7528MLP\u8fd9\u4e2a\u4f8b\u5b50\u6765\u8be6\u7ec6\u89e3\u91ca\u5982\u4f55\u521d\u59cb\u5316\u6a21\u578b\u53c2\u6570\u3002", 
            "cell_type": "markdown", 
            "metadata": {}
        }, 
        {
            "execution_count": null, 
            "cell_type": "code", 
            "metadata": {
                "attributes": {
                    "classes": [], 
                    "id": "", 
                    "n": "46"
                }
            }, 
            "outputs": [], 
            "source": "from mxnet.gluon import nn\nfrom mxnet import nd\n\ndef get_net():\n    net = nn.Sequential()\n    with net.name_scope():\n        net.add(nn.Dense(4, activation=\"relu\"))\n        net.add(nn.Dense(2))\n    return net\n\nx = nd.random.uniform(shape=(3,5))"
        }, 
        {
            "source": "\u6211\u4eec\u77e5\u9053\u5982\u679c\u4e0d`initialize()`\u76f4\u63a5\u8dd1forward\uff0c\u90a3\u4e48\u7cfb\u7edf\u4f1a\u62b1\u6028\u8bf4\u53c2\u6570\u6ca1\u6709\u521d\u59cb\u5316\u3002", 
            "cell_type": "markdown", 
            "metadata": {}
        }, 
        {
            "execution_count": null, 
            "cell_type": "code", 
            "metadata": {
                "attributes": {
                    "classes": [], 
                    "id": "", 
                    "n": "33"
                }
            }, 
            "outputs": [], 
            "source": "import sys\ntry:\n    net = get_net()\n    net(x)\nexcept RuntimeError as err:\n    sys.stderr.write(str(err))"
        }, 
        {
            "source": "\u6b63\u786e\u7684\u6253\u5f00\u65b9\u5f0f\u662f\u8fd9\u6837", 
            "cell_type": "markdown", 
            "metadata": {}
        }, 
        {
            "execution_count": null, 
            "cell_type": "code", 
            "metadata": {
                "scrolled": true
            }, 
            "outputs": [], 
            "source": "x"
        }, 
        {
            "execution_count": null, 
            "cell_type": "code", 
            "metadata": {
                "attributes": {
                    "classes": [], 
                    "id": "", 
                    "n": "34"
                }
            }, 
            "outputs": [], 
            "source": "net.initialize()\nnet(x)"
        }, 
        {
            "source": "## \u8bbf\u95ee\u6a21\u578b\u53c2\u6570\n\n\u4e4b\u524d\u6211\u4eec\u63d0\u5230\u8fc7\u53ef\u4ee5\u901a\u8fc7`weight`\u548c`bias`\u8bbf\u95ee`Dense`\u7684\u53c2\u6570\uff0c\u4ed6\u4eec\u662f`Parameter`\u8fd9\u4e2a\u7c7b\uff1a", 
            "cell_type": "markdown", 
            "metadata": {}
        }, 
        {
            "execution_count": null, 
            "cell_type": "code", 
            "metadata": {
                "attributes": {
                    "classes": [], 
                    "id": "", 
                    "n": "35"
                }
            }, 
            "outputs": [], 
            "source": "w = net[0].weight\nb = net[0].bias\nprint('name: ', net[0].name, '\\nweight: ', w, '\\nbias: ', b)"
        }, 
        {
            "source": "\u7136\u540e\u6211\u4eec\u53ef\u4ee5\u901a\u8fc7`data`\u6765\u8bbf\u95ee\u53c2\u6570\uff0c`grad`\u6765\u8bbf\u95ee\u5bf9\u5e94\u7684\u68af\u5ea6", 
            "cell_type": "markdown", 
            "metadata": {}
        }, 
        {
            "execution_count": null, 
            "cell_type": "code", 
            "metadata": {
                "attributes": {
                    "classes": [], 
                    "id": "", 
                    "n": "43"
                }
            }, 
            "outputs": [], 
            "source": "print('weight:', w.data())\nprint('weight gradient', w.grad())\nprint('bias:', b.data())\nprint('bias gradient', b.grad())"
        }, 
        {
            "source": "\u6211\u4eec\u4e5f\u53ef\u4ee5\u901a\u8fc7`collect_params`\u6765\u8bbf\u95eeBlock\u91cc\u9762\u6240\u6709\u7684\u53c2\u6570\uff08\u8fd9\u4e2a\u4f1a\u5305\u62ec\u6240\u6709\u7684\u5b50Block\uff09\u3002\u5b83\u4f1a\u8fd4\u56de\u4e00\u4e2a\u540d\u5b57\u5230\u5bf9\u5e94Parameter\u7684dict\u3002\u65e2\u53ef\u4ee5\u7528\u6b63\u5e38`[]`\u6765\u8bbf\u95ee\u53c2\u6570\uff0c\u4e5f\u53ef\u4ee5\u7528`get()`\uff0c\u5b83\u4e0d\u9700\u8981\u586b\u5199\u540d\u5b57\u7684\u524d\u7f00\u3002", 
            "cell_type": "markdown", 
            "metadata": {}
        }, 
        {
            "execution_count": null, 
            "cell_type": "code", 
            "metadata": {
                "attributes": {
                    "classes": [], 
                    "id": "", 
                    "n": "7"
                }
            }, 
            "outputs": [], 
            "source": "params = net.collect_params()\nprint(params)\nprint(params['sequential0_dense0_bias'].data())\nprint(params.get('dense0_weight').data())"
        }, 
        {
            "source": "## \u4f7f\u7528\u4e0d\u540c\u7684\u521d\u59cb\u51fd\u6570\u6765\u521d\u59cb\u5316\n\n\u6211\u4eec\u4e00\u76f4\u5728\u4f7f\u7528\u9ed8\u8ba4\u7684`initialize`\u6765\u521d\u59cb\u5316\u6743\u91cd\uff08\u9664\u4e86\u6307\u5b9aGPU `ctx`\u5916\uff09\u3002\u5b83\u4f1a\u628a\u6240\u6709\u6743\u91cd\u521d\u59cb\u5316\u6210\u5728`[-0.07, 0.07]`\u4e4b\u95f4\u5747\u5300\u5206\u5e03\u7684\u968f\u673a\u6570\u3002\u6211\u4eec\u53ef\u4ee5\u4f7f\u7528\u522b\u7684\u521d\u59cb\u5316\u65b9\u6cd5\u3002\u4f8b\u5982\u4f7f\u7528\u5747\u503c\u4e3a0\uff0c\u65b9\u5dee\u4e3a0.02\u7684\u6b63\u6001\u5206\u5e03", 
            "cell_type": "markdown", 
            "metadata": {}
        }, 
        {
            "execution_count": null, 
            "cell_type": "code", 
            "metadata": {}, 
            "outputs": [], 
            "source": "from mxnet import init\nparams.initialize(init=init.Normal(sigma=0.02), force_reinit=True)\nprint(net[0].weight.data(), net[0].bias.data())"
        }, 
        {
            "source": "\u770b\u5f97\u66f4\u52a0\u6e05\u695a\u70b9\uff1a", 
            "cell_type": "markdown", 
            "metadata": {}
        }, 
        {
            "execution_count": null, 
            "cell_type": "code", 
            "metadata": {}, 
            "outputs": [], 
            "source": "params.initialize(init=init.One(), force_reinit=True)\nprint(net[0].weight.data(), net[0].bias.data())"
        }, 
        {
            "source": "\u66f4\u591a\u7684\u65b9\u6cd5\u53c2\u89c1[init\u7684API](https://mxnet.incubator.apache.org/api/python/optimization.html#the-mxnet-initializer-package). \n\n## \u5ef6\u540e\u7684\u521d\u59cb\u5316\n\n\u6211\u4eec\u4e4b\u524d\u63d0\u5230\u8fc7Gluon\u7684\u4e00\u4e2a\u4fbf\u5229\u7684\u5730\u65b9\u662f\u6a21\u578b\u5b9a\u4e49\u7684\u65f6\u5019\u4e0d\u9700\u8981\u6307\u5b9a\u8f93\u5165\u7684\u5927\u5c0f\uff0c\u5728\u4e4b\u540e\u505aforward\u7684\u65f6\u5019\u4f1a\u81ea\u52a8\u63a8\u6d4b\u53c2\u6570\u7684\u5927\u5c0f\u3002\u6211\u4eec\u5177\u4f53\u6765\u770b\u8fd9\u662f\u600e\u4e48\u5de5\u4f5c\u7684\u3002\n\n\u65b0\u521b\u5efa\u4e00\u4e2a\u7f51\u7edc\uff0c\u7136\u540e\u6253\u5370\u53c2\u6570\u3002\u4f60\u4f1a\u53d1\u73b0\u4e24\u4e2a\u5168\u8fde\u63a5\u5c42\u7684\u6743\u91cd\u7684\u5f62\u72b6\u91cc\u90fd\u67090\u3002 \u8fd9\u662f\u56e0\u4e3a\u5728\u4e0d\u77e5\u9053\u8f93\u5165\u6570\u636e\u7684\u60c5\u51b5\u4e0b\uff0c\u6211\u4eec\u65e0\u6cd5\u5224\u65ad\u5b83\u4eec\u7684\u5f62\u72b6\u3002", 
            "cell_type": "markdown", 
            "metadata": {}
        }, 
        {
            "execution_count": null, 
            "cell_type": "code", 
            "metadata": {}, 
            "outputs": [], 
            "source": "net = get_net()\nnet.collect_params()"
        }, 
        {
            "source": "\u7136\u540e\u6211\u4eec\u521d\u59cb\u5316", 
            "cell_type": "markdown", 
            "metadata": {}
        }, 
        {
            "execution_count": null, 
            "cell_type": "code", 
            "metadata": {}, 
            "outputs": [], 
            "source": "net.initialize()\nnet.collect_params()"
        }, 
        {
            "source": "\u4f60\u4f1a\u770b\u5230\u6211\u4eec\u5f62\u72b6\u5e76\u6ca1\u6709\u53d1\u751f\u53d8\u5316\uff0c\u8fd9\u662f\u56e0\u4e3a\u6211\u4eec\u4ecd\u7136\u4e0d\u80fd\u786e\u5b9a\u6743\u91cd\u5f62\u72b6\u3002\u771f\u6b63\u7684\u521d\u59cb\u5316\u53d1\u751f\u5728\u6211\u4eec\u770b\u5230\u6570\u636e\u65f6\u3002", 
            "cell_type": "markdown", 
            "metadata": {}
        }, 
        {
            "execution_count": null, 
            "cell_type": "code", 
            "metadata": {}, 
            "outputs": [], 
            "source": "net(x)\nnet.collect_params()"
        }, 
        {
            "source": "\u8fd9\u65f6\u5019\u6211\u4eec\u770b\u5230shape\u91cc\u9762\u76840\u88ab\u586b\u4e0a\u6b63\u786e\u7684\u503c\u4e86\u3002\n\n## \u5171\u4eab\u6a21\u578b\u53c2\u6570\n\n\u6709\u65f6\u5019\u6211\u4eec\u60f3\u5728\u5c42\u4e4b\u95f4\u5171\u4eab\u540c\u4e00\u4efd\u53c2\u6570\uff0c\u6211\u4eec\u53ef\u4ee5\u901a\u8fc7Block\u7684`params`\u8f93\u51fa\u53c2\u6570\u6765\u624b\u52a8\u6307\u5b9a\u53c2\u6570\uff0c\u800c\u4e0d\u662f\u8ba9\u7cfb\u7edf\u81ea\u52a8\u751f\u6210\u3002", 
            "cell_type": "markdown", 
            "metadata": {}
        }, 
        {
            "execution_count": null, 
            "cell_type": "code", 
            "metadata": {}, 
            "outputs": [], 
            "source": "net = nn.Sequential()\nwith net.name_scope():\n    net.add(nn.Dense(4, activation=\"relu\"))\n    net.add(nn.Dense(4, activation=\"relu\"))\n    net.add(nn.Dense(4, activation=\"relu\", params=net[-1].params))\n    net.add(nn.Dense(2))"
        }, 
        {
            "source": "\u521d\u59cb\u5316\u7136\u540e\u6253\u5370", 
            "cell_type": "markdown", 
            "metadata": {}
        }, 
        {
            "execution_count": null, 
            "cell_type": "code", 
            "metadata": {}, 
            "outputs": [], 
            "source": "net.initialize()\nnet(x)\nprint(net[0].weight.data())\nprint(net[1].weight.data())\nprint(net[2].weight.data())\nprint(net[3].weight.data())\n\n"
        }, 
        {
            "source": "## \u81ea\u5b9a\u4e49\u521d\u59cb\u5316\u65b9\u6cd5\n\n\u4e0b\u9762\u6211\u4eec\u81ea\u5b9a\u4e49\u4e00\u4e2a\u521d\u59cb\u5316\u65b9\u6cd5\u3002\u5b83\u901a\u8fc7\u91cd\u8f7d`_init_weight`\u6765\u5b9e\u73b0\u4e0d\u540c\u7684\u521d\u59cb\u5316\u65b9\u6cd5\u3002\uff08\u6ce8\u610f\u5230Gluon\u91cc\u9762`bias`\u90fd\u662f\u9ed8\u8ba4\u521d\u59cb\u5316\u62100\uff09", 
            "cell_type": "markdown", 
            "metadata": {}
        }, 
        {
            "execution_count": null, 
            "cell_type": "code", 
            "metadata": {}, 
            "outputs": [], 
            "source": "class MyInit(init.Initializer):\n    def __init__(self):\n        super(MyInit, self).__init__()\n        self._verbose = True\n    def _init_weight(self, _, arr):\n        # \u521d\u59cb\u5316\u6743\u91cd\uff0c\u4f7f\u7528out=arr\u540e\u6211\u4eec\u4e0d\u9700\u6307\u5b9a\u5f62\u72b6\n        print('init weight', arr.shape)\n        nd.random.uniform(low=5, high=10, out=arr)\n\nnet = get_net()\nnet.initialize(MyInit())\nnet(x)\nnet[0].weight.data()"
        }, 
        {
            "source": "\u5f53\u7136\u6211\u4eec\u4e5f\u53ef\u4ee5\u901a\u8fc7`Parameter.set_data`\u6765\u76f4\u63a5\u6539\u5199\u6743\u91cd\u3002\u6ce8\u610f\u5230\u7531\u4e8e\u6709\u5ef6\u540e\u521d\u59cb\u5316\uff0c\u6240\u4ee5\u6211\u4eec\u901a\u5e38\u53ef\u4ee5\u901a\u8fc7\u8c03\u7528\u4e00\u6b21`net(x)`\u6765\u786e\u5b9a\u6743\u91cd\u7684\u5f62\u72b6\u5148\u3002", 
            "cell_type": "markdown", 
            "metadata": {}
        }, 
        {
            "execution_count": null, 
            "cell_type": "code", 
            "metadata": {}, 
            "outputs": [], 
            "source": "net = get_net()\nnet.initialize()\nnet(x)\n\nprint('default weight:', net[1].weight.data())\n\nw = net[1].weight\nw.set_data(nd.ones(w.shape))\n\nprint('init to all 1s:', net[1].weight.data())"
        }, 
        {
            "source": "## \u603b\u7ed3\n\n\u6211\u4eec\u53ef\u4ee5\u5f88\u7075\u6d3b\u5730\u8bbf\u95ee\u548c\u4fee\u6539\u6a21\u578b\u53c2\u6570\u3002\n\n## \u7ec3\u4e60\n\n1. \u7814\u7a76\u4e0b`net.collect_params()`\u8fd4\u56de\u7684\u662f\u4ec0\u4e48\uff1f`net.params`\u5462\uff1f\n1. \u5982\u4f55\u5bf9\u6bcf\u4e2a\u5c42\u4f7f\u7528\u4e0d\u540c\u7684\u521d\u59cb\u5316\u51fd\u6570\n1. \u5982\u679c\u4e24\u4e2a\u5c42\u5171\u7528\u4e00\u4e2a\u53c2\u6570\uff0c\u90a3\u4e48\u6c42\u68af\u5ea6\u7684\u65f6\u5019\u4f1a\u53d1\u751f\u4ec0\u4e48\uff1f\n\n**\u5410\u69fd\u548c\u8ba8\u8bba\u6b22\u8fce\u70b9**[\u8fd9\u91cc](https://discuss.gluon.ai/t/topic/987)", 
            "cell_type": "markdown", 
            "metadata": {}
        }
    ], 
    "metadata": {
        "kernelspec": {
            "display_name": "Python 2 with Spark 1.6 (Unsupported)", 
            "name": "python2", 
            "language": "python"
        }, 
        "language_info": {
            "mimetype": "text/x-python", 
            "nbconvert_exporter": "python", 
            "version": "2.7.11", 
            "name": "python", 
            "file_extension": ".py", 
            "pygments_lexer": "ipython2", 
            "codemirror_mode": {
                "version": 2, 
                "name": "ipython"
            }
        }
    }, 
    "nbformat": 4
}