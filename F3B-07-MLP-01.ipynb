{
    "nbformat_minor": 2, 
    "cells": [
        {
            "source": "# \u591a\u5c42\u611f\u77e5\u673a --- \u4ece0\u5f00\u59cb\n\n\u524d\u9762\u6211\u4eec\u4ecb\u7ecd\u4e86\u5305\u62ec\u7ebf\u6027\u56de\u5f52\u548c\u591a\u7c7b\u903b\u8f91\u56de\u5f52\u7684\u6570\u4e2a\u6a21\u578b\uff0c\u5b83\u4eec\u7684\u4e00\u4e2a\u5171\u540c\u70b9\u662f\u5168\u662f\u53ea\u542b\u6709\u4e00\u4e2a\u8f93\u5165\u5c42\uff0c\u4e00\u4e2a\u8f93\u51fa\u5c42\u3002\u8fd9\u4e00\u8282\u6211\u4eec\u5c06\u4ecb\u7ecd\u591a\u5c42\u795e\u7ecf\u7f51\u7edc\uff0c\u5c31\u662f\u5305\u542b\u81f3\u5c11\u4e00\u4e2a\u9690\u542b\u5c42\u7684\u7f51\u7edc\u3002\n\n## \u6570\u636e\u83b7\u53d6\n\n\u6211\u4eec\u7ee7\u7eed\u4f7f\u7528FashionMNIST\u6570\u636e\u96c6\u3002", 
            "cell_type": "markdown", 
            "metadata": {}
        }, 
        {
            "execution_count": 1, 
            "cell_type": "code", 
            "metadata": {
                "attributes": {
                    "classes": [], 
                    "id": "", 
                    "n": "1"
                }
            }, 
            "outputs": [
                {
                    "output_type": "stream", 
                    "name": "stderr", 
                    "text": "/gpfs/fs01/user/s05b-0294eb3de63d2e-b5498f932ea5/.local/lib/python2.7/site-packages/matplotlib/style/core.py:203: UserWarning: In /gpfs/fs01/user/s05b-0294eb3de63d2e-b5498f932ea5/.config/matplotlib/stylelib/my_custom_style.mplstyle: axes.color_cycle is deprecated and replaced with axes.prop_cycle; please use the latter.\n  warnings.warn(message)\n"
                }
            ], 
            "source": "import sys\nsys.path.append('..')\nimport utils\nbatch_size = 256\ntrain_data, test_data = utils.load_data_fashion_mnist(batch_size)"
        }, 
        {
            "source": "## \u591a\u5c42\u611f\u77e5\u673a\n\n\u591a\u5c42\u611f\u77e5\u673a\u4e0e\u524d\u9762\u4ecb\u7ecd\u7684[\u591a\u7c7b\u903b\u8f91\u56de\u5f52](../chapter_crashcourse/softmax-regression-scratch.md)\u975e\u5e38\u7c7b\u4f3c\uff0c\u4e3b\u8981\u7684\u533a\u522b\u662f\u6211\u4eec\u5728\u8f93\u5165\u5c42\u548c\u8f93\u51fa\u5c42\u4e4b\u95f4\u63d2\u5165\u4e86\u4e00\u4e2a\u5230\u591a\u4e2a\u9690\u542b\u5c42\u3002\n\n![](https://github.com/mli/gluon-tutorials-zh/raw/master/img/multilayer-perceptron.png)\n\n\u8fd9\u91cc\u6211\u4eec\u5b9a\u4e49\u4e00\u4e2a\u53ea\u6709\u4e00\u4e2a\u9690\u542b\u5c42\u7684\u6a21\u578b\uff0c\u8fd9\u4e2a\u9690\u542b\u5c42\u8f93\u51fa256\u4e2a\u8282\u70b9\u3002", 
            "cell_type": "markdown", 
            "metadata": {}
        }, 
        {
            "execution_count": 2, 
            "cell_type": "code", 
            "metadata": {
                "attributes": {
                    "classes": [], 
                    "id": "", 
                    "n": "2"
                }
            }, 
            "outputs": [], 
            "source": "from mxnet import ndarray as nd\n\nnum_inputs = 28*28\nnum_outputs = 10\n\nnum_hidden = 256\nweight_scale = .01\n\nW1 = nd.random_normal(shape=(num_inputs, num_hidden), scale=weight_scale)\nb1 = nd.zeros(num_hidden)\n\nW2 = nd.random_normal(shape=(num_hidden, num_outputs), scale=weight_scale)\nb2 = nd.zeros(num_outputs)\n\nparams = [W1, b1, W2, b2]\n\nfor param in params:\n    param.attach_grad()"
        }, 
        {
            "source": "## \u6fc0\u6d3b\u51fd\u6570\n\n\u5982\u679c\u6211\u4eec\u5c31\u7528\u7ebf\u6027\u64cd\u4f5c\u7b26\u6765\u6784\u9020\u591a\u5c42\u795e\u7ecf\u7f51\u7edc\uff0c\u90a3\u4e48\u6574\u4e2a\u6a21\u578b\u4ecd\u7136\u53ea\u662f\u4e00\u4e2a\u7ebf\u6027\u51fd\u6570\u3002\u8fd9\u662f\u56e0\u4e3a\n\n$$\\hat{y} = X \\cdot W_1 \\cdot W_2 = X \\cdot W_3 $$\n\n\u8fd9\u91cc$W_3 = W_1 \\cdot W_2$\u3002\u4e3a\u4e86\u8ba9\u6211\u4eec\u7684\u6a21\u578b\u53ef\u4ee5\u62df\u5408\u975e\u7ebf\u6027\u51fd\u6570\uff0c\u6211\u4eec\u9700\u8981\u5728\u5c42\u4e4b\u95f4\u63d2\u5165\u975e\u7ebf\u6027\u7684\u6fc0\u6d3b\u51fd\u6570\u3002\u8fd9\u91cc\u6211\u4eec\u4f7f\u7528ReLU\n\n$$\\textrm{rel}u(x)=\\max(x, 0)$$", 
            "cell_type": "markdown", 
            "metadata": {}
        }, 
        {
            "execution_count": 3, 
            "cell_type": "code", 
            "metadata": {
                "attributes": {
                    "classes": [], 
                    "id": "", 
                    "n": "3"
                }
            }, 
            "outputs": [], 
            "source": "def relu(X):\n    return nd.maximum(X, 0)"
        }, 
        {
            "source": "## \u5b9a\u4e49\u6a21\u578b\n\n\u6211\u4eec\u7684\u6a21\u578b\u5c31\u662f\u5c06\u5c42\uff08\u5168\u8fde\u63a5\uff09\u548c\u6fc0\u6d3b\u51fd\u6570\uff08Relu\uff09\u4e32\u8d77\u6765\uff1a", 
            "cell_type": "markdown", 
            "metadata": {}
        }, 
        {
            "execution_count": 4, 
            "cell_type": "code", 
            "metadata": {
                "attributes": {
                    "classes": [], 
                    "id": "", 
                    "n": "4"
                }
            }, 
            "outputs": [], 
            "source": "def net(X):\n    X = X.reshape((-1, num_inputs))\n    h1 = relu(nd.dot(X, W1) + b1)\n    output = nd.dot(h1, W2) + b2\n    return output"
        }, 
        {
            "source": "## Softmax\u548c\u4ea4\u53c9\u71b5\u635f\u5931\u51fd\u6570\n\n\u5728\u591a\u7c7bLogistic\u56de\u5f52\u91cc\u6211\u4eec\u63d0\u5230\u5206\u5f00\u5b9e\u73b0Softmax\u548c\u4ea4\u53c9\u71b5\u635f\u5931\u51fd\u6570\u53ef\u80fd\u5bfc\u81f4\u6570\u503c\u4e0d\u7a33\u5b9a\u3002\u8fd9\u91cc\u6211\u4eec\u76f4\u63a5\u4f7f\u7528Gluon\u63d0\u4f9b\u7684\u51fd\u6570", 
            "cell_type": "markdown", 
            "metadata": {}
        }, 
        {
            "execution_count": 5, 
            "cell_type": "code", 
            "metadata": {
                "attributes": {
                    "classes": [], 
                    "id": "", 
                    "n": "6"
                }
            }, 
            "outputs": [], 
            "source": "from mxnet import gluon\nsoftmax_cross_entropy = gluon.loss.SoftmaxCrossEntropyLoss()"
        }, 
        {
            "source": "## \u8bad\u7ec3\n\n\u8bad\u7ec3\u8ddf\u4e4b\u524d\u4e00\u6837\u3002", 
            "cell_type": "markdown", 
            "metadata": {}
        }, 
        {
            "execution_count": 6, 
            "cell_type": "code", 
            "metadata": {
                "attributes": {
                    "classes": [], 
                    "id": "", 
                    "n": "8"
                }
            }, 
            "outputs": [
                {
                    "output_type": "stream", 
                    "name": "stdout", 
                    "text": "Epoch 0. Loss: 0.831859, Train acc 0.688068, Test acc 0.751502\nEpoch 1. Loss: 0.490726, Train acc 0.817792, Test acc 0.850661\nEpoch 2. Loss: 0.429184, Train acc 0.841797, Test acc 0.839343\nEpoch 3. Loss: 0.393081, Train acc 0.855702, Test acc 0.857772\nEpoch 4. Loss: 0.373792, Train acc 0.862380, Test acc 0.870292\n"
                }
            ], 
            "source": "from mxnet import autograd as autograd\n\nlearning_rate = .5\n\nfor epoch in range(5):\n    train_loss = 0.\n    train_acc = 0.\n    for data, label in train_data:\n        with autograd.record():\n            output = net(data)\n            loss = softmax_cross_entropy(output, label)\n        loss.backward()\n        utils.SGD(params, learning_rate/batch_size)\n\n        train_loss += nd.mean(loss).asscalar()\n        train_acc += utils.accuracy(output, label)\n\n    test_acc = utils.evaluate_accuracy(test_data, net)\n    print(\"Epoch %d. Loss: %f, Train acc %f, Test acc %f\" % (\n        epoch, train_loss/len(train_data),\n        train_acc/len(train_data), test_acc))"
        }, 
        {
            "source": "## \u603b\u7ed3\n\n\u53ef\u4ee5\u770b\u5230\uff0c\u52a0\u5165\u4e00\u4e2a\u9690\u542b\u5c42\u540e\u6211\u4eec\u5c06\u7cbe\u5ea6\u63d0\u5347\u4e86\u4e0d\u5c11\u3002\n\n## \u7ec3\u4e60\n\n- \u6211\u4eec\u4f7f\u7528\u4e86 `weight_scale` \u6765\u63a7\u5236\u6743\u91cd\u7684\u521d\u59cb\u5316\u503c\u5927\u5c0f\uff0c\u589e\u5927\u6216\u8005\u53d8\u5c0f\u8fd9\u4e2a\u503c\u4f1a\u600e\u4e48\u6837\uff1f\n- \u5c1d\u8bd5\u6539\u53d8 `num_hiddens` \u6765\u63a7\u5236\u6a21\u578b\u7684\u590d\u6742\u5ea6\n- \u5c1d\u8bd5\u52a0\u5165\u4e00\u4e2a\u65b0\u7684\u9690\u542b\u5c42\n\n**\u5410\u69fd\u548c\u8ba8\u8bba\u6b22\u8fce\u70b9**[\u8fd9\u91cc](https://discuss.gluon.ai/t/topic/739)", 
            "cell_type": "markdown", 
            "metadata": {}
        }
    ], 
    "metadata": {
        "kernelspec": {
            "display_name": "Python 2 with Spark 1.6 (Unsupported)", 
            "name": "python2", 
            "language": "python"
        }, 
        "language_info": {
            "mimetype": "text/x-python", 
            "nbconvert_exporter": "python", 
            "version": "2.7.11", 
            "name": "python", 
            "file_extension": ".py", 
            "pygments_lexer": "ipython2", 
            "codemirror_mode": {
                "version": 2, 
                "name": "ipython"
            }
        }
    }, 
    "nbformat": 4
}