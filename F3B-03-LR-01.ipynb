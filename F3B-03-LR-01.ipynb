{
    "nbformat_minor": 2, 
    "cells": [
        {
            "source": "# \u7ebf\u6027\u56de\u5f52 --- \u4ece0\u5f00\u59cb\n\n\u5c3d\u7ba1\u5f3a\u5927\u7684\u6df1\u5ea6\u5b66\u4e60\u6846\u67b6\u53ef\u4ee5\u51cf\u5c11\u5927\u91cf\u91cd\u590d\u6027\u5de5\u4f5c\uff0c\u4f46\u82e5\u8fc7\u4e8e\u4f9d\u8d56\u5b83\u63d0\u4f9b\u7684\u4fbf\u5229\uff0c\u4f60\u5c31\u4f1a\u5f88\u96be\u6df1\u5165\u7406\u89e3\u6df1\u5ea6\u5b66\u4e60\u662f\u5982\u4f55\u5de5\u4f5c\u7684\u3002\u56e0\u6b64\uff0c\u6211\u4eec\u7684\u7b2c\u4e00\u4e2a\u6559\u7a0b\u662f\u5982\u4f55\u53ea\u5229\u7528ndarray\u548cautograd\u6765\u5b9e\u73b0\u4e00\u4e2a\u7ebf\u6027\u56de\u5f52\u7684\u8bad\u7ec3\u3002\n\n## \u7ebf\u6027\u56de\u5f52\n\n\u7ed9\u5b9a\u4e00\u4e2a\u6570\u636e\u70b9\u96c6\u5408`X`\u548c\u5bf9\u5e94\u7684\u76ee\u6807\u503c`y`\uff0c\u7ebf\u6027\u6a21\u578b\u7684\u76ee\u6807\u5c31\u662f\u627e\u5230\u4e00\u6761\u4f7f\u7528\u5411\u91cf`w`\u548c\u4f4d\u79fb`b`\u63cf\u8ff0\u7684\u7ebf\uff0c\u6765\u5c3d\u53ef\u80fd\u5730\u8fd1\u4f3c\u6bcf\u4e2a\u6837\u672c`X[i]`\u548c`y[i]`\u3002\u7528\u6570\u5b66\u7b26\u53f7\u6765\u8868\u793a\u5c31\u662f\uff1a\n\n$$\\boldsymbol{\\hat{y}} = X \\boldsymbol{w} + b$$\n\n\u5e76\u6700\u5c0f\u5316\u6240\u6709\u6570\u636e\u70b9\u4e0a\u7684\u5e73\u65b9\u8bef\u5dee\n\n$$\\sum_{i=1}^n (\\hat{y}_i-y_i)^2.$$\n\n\u4f60\u53ef\u80fd\u4f1a\u5bf9\u6211\u4eec\u628a\u53e4\u8001\u7684\u7ebf\u6027\u56de\u5f52\u4f5c\u4e3a\u6df1\u5ea6\u5b66\u4e60\u7684\u4e00\u4e2a\u6837\u4f8b\u8868\u793a\u5947\u602a\u3002\u5b9e\u9645\u4e0a\u7ebf\u6027\u6a21\u578b\u662f\u6700\u7b80\u5355\u3001\u4f46\u4e5f\u662f\u6700\u6709\u7528\u7684\u795e\u7ecf\u7f51\u7edc\u3002\u4e00\u4e2a\u795e\u7ecf\u7f51\u7edc\u5c31\u662f\u4e00\u4e2a\u7531\u8282\u70b9\uff08\u795e\u7ecf\u5143\uff09\u548c\u6709\u5411\u8fb9\u7ec4\u6210\u7684\u96c6\u5408\u3002\u6211\u4eec\u4e00\u822c\u628a\u4e00\u4e9b\u8282\u70b9\u7ec4\u6210\u5c42\uff0c\u6bcf\u4e00\u5c42\u5148\u4ece\u4e0b\u9762\u4e00\u5c42\u7684\u8282\u70b9\u83b7\u53d6\u8f93\u5165\uff0c\u7136\u540e\u8f93\u51fa\u7ed9\u4e0a\u9762\u7684\u5c42\u4f7f\u7528\u3002\u8981\u8ba1\u7b97\u4e00\u4e2a\u8282\u70b9\u503c\uff0c\u6211\u4eec\u9700\u8981\u5c06\u8f93\u5165\u8282\u70b9\u503c\u505a\u52a0\u6743\u548c\uff08\u6743\u6570\u503c\u5373 `w`\uff09\uff0c\u7136\u540e\u518d\u52a0\u4e0a\u4e00\u4e2a**\u6fc0\u6d3b\u51fd\u6570\uff08activation function\uff09**\u3002\u5bf9\u4e8e\u7ebf\u6027\u56de\u5f52\u800c\u8a00\uff0c\u5b83\u662f\u4e00\u4e2a\u4e24\u5c42\u795e\u7ecf\u7f51\u7edc\uff0c\u5176\u4e2d\u7b2c\u4e00\u5c42\u662f\uff08\u4e0b\u56fe\u6a59\u8272\u70b9\uff09\u8f93\u5165\uff0c\u6bcf\u4e2a\u8282\u70b9\u5bf9\u5e94\u8f93\u5165\u6570\u636e\u70b9\u7684\u4e00\u4e2a\u7ef4\u5ea6\uff0c\u7b2c\u4e8c\u5c42\u662f\u5355\u8f93\u51fa\u8282\u70b9\uff08\u4e0b\u56fe\u7eff\u8272\u70b9\uff09\uff0c\u5b83\u4f7f\u7528\u8eab\u4efd\u51fd\u6570\uff08$f(x)=x$\uff09\u4f5c\u4e3a\u6fc0\u6d3b\u51fd\u6570\u3002\n\n![](https://github.com/mli/gluon-tutorials-zh/raw/master/img/onelayer.png)\n\n## \u521b\u5efa\u6570\u636e\u96c6\n\n\u8fd9\u91cc\u6211\u4eec\u4f7f\u7528\u4e00\u4e2a\u6570\u636e\u96c6\u6765\u5c3d\u91cf\u7b80\u5355\u5730\u89e3\u91ca\u6e05\u695a\uff0c\u771f\u5b9e\u7684\u6a21\u578b\u662f\u4ec0\u4e48\u6837\u7684\u3002\u5177\u4f53\u6765\u8bf4\uff0c\u6211\u4eec\u4f7f\u7528\u5982\u4e0b\u65b9\u6cd5\u6765\u751f\u6210\u6570\u636e\uff1b\u968f\u673a\u6570\u503c `X[i]`\uff0c\u5176\u76f8\u5e94\u7684\u6807\u6ce8\u4e3a `y[i]`\uff1a\n\n`y[i] = 2 * X[i][0] - 3.4 * X[i][1] + 4.2 + noise`\n\n\u4f7f\u7528\u6570\u5b66\u7b26\u53f7\u8868\u793a\uff1a\n\n$$y = X \\cdot w + b + \\eta, \\quad \\text{for } \\eta \\sim \\mathcal{N}(0,\\sigma^2)$$\n\n\u8fd9\u91cc\u566a\u97f3\u670d\u4ece\u5747\u503c0\u548c\u6807\u51c6\u5dee\u4e3a0.01\u7684\u6b63\u6001\u5206\u5e03\u3002", 
            "cell_type": "markdown", 
            "metadata": {}
        }, 
        {
            "execution_count": null, 
            "cell_type": "code", 
            "metadata": {}, 
            "outputs": [], 
            "source": "!pip install mxnet"
        }, 
        {
            "execution_count": null, 
            "cell_type": "code", 
            "metadata": {
                "attributes": {
                    "classes": [], 
                    "id": "", 
                    "n": "2"
                }
            }, 
            "outputs": [], 
            "source": "from mxnet import ndarray as nd\nfrom mxnet import autograd\n\nnum_inputs = 2\nnum_examples = 1000\n\ntrue_w = [2, -3.4]\ntrue_b = 4.2\n\nX = nd.random_normal(shape=(num_examples, num_inputs))\ny = true_w[0] * X[:, 0] + true_w[1] * X[:, 1] + true_b\ny += .01 * nd.random_normal(shape=y.shape)"
        }, 
        {
            "execution_count": null, 
            "cell_type": "code", 
            "metadata": {}, 
            "outputs": [], 
            "source": "print(X[0])\n"
        }, 
        {
            "source": "\u6ce8\u610f\u5230`X`\u7684\u6bcf\u4e00\u884c\u662f\u4e00\u4e2a\u957f\u5ea6\u4e3a2\u7684\u5411\u91cf\uff0c\u800c`y`\u7684\u6bcf\u4e00\u884c\u662f\u4e00\u4e2a\u957f\u5ea6\u4e3a1\u7684\u5411\u91cf\uff08\u6807\u91cf\uff09\u3002", 
            "cell_type": "markdown", 
            "metadata": {}
        }, 
        {
            "execution_count": null, 
            "cell_type": "code", 
            "metadata": {
                "attributes": {
                    "classes": [], 
                    "id": "", 
                    "n": "3"
                }
            }, 
            "outputs": [], 
            "source": "print(X[0], y[0])"
        }, 
        {
            "source": "\u5982\u679c\u6709\u5174\u8da3\uff0c\u53ef\u4ee5\u4f7f\u7528\u5b89\u88c5\u5305\u4e2d\u5df2\u5305\u62ec\u7684 Python \u7ed8\u56fe\u5305 `matplotlib`\uff0c\u751f\u6210\u7b2c\u4e8c\u4e2a\u7279\u5f81\u503c (`X[:, 1]`) \u548c\u76ee\u6807\u503c `Y` \u7684\u6563\u70b9\u56fe\uff0c\u66f4\u76f4\u89c2\u5730\u89c2\u5bdf\u4e24\u8005\u95f4\u7684\u5173\u7cfb\u3002", 
            "cell_type": "markdown", 
            "metadata": {}
        }, 
        {
            "execution_count": null, 
            "cell_type": "code", 
            "metadata": {}, 
            "outputs": [], 
            "source": "import matplotlib.pyplot as plt\nplt.scatter(X[:, 1].asnumpy(),y.asnumpy())\nplt.show()"
        }, 
        {
            "source": "## \u6570\u636e\u8bfb\u53d6\n\n\u5f53\u6211\u4eec\u5f00\u59cb\u8bad\u7ec3\u795e\u7ecf\u7f51\u7edc\u7684\u65f6\u5019\uff0c\u6211\u4eec\u9700\u8981\u4e0d\u65ad\u8bfb\u53d6\u6570\u636e\u5757\u3002\u8fd9\u91cc\u6211\u4eec\u5b9a\u4e49\u4e00\u4e2a\u51fd\u6570\u5b83\u6bcf\u6b21\u8fd4\u56de`batch_size`\u4e2a\u968f\u673a\u7684\u6837\u672c\u548c\u5bf9\u5e94\u7684\u76ee\u6807\u3002\u6211\u4eec\u901a\u8fc7python\u7684`yield`\u6765\u6784\u9020\u4e00\u4e2a\u8fed\u4ee3\u5668\u3002", 
            "cell_type": "markdown", 
            "metadata": {}
        }, 
        {
            "execution_count": null, 
            "cell_type": "code", 
            "metadata": {
                "attributes": {
                    "classes": [], 
                    "id": "", 
                    "n": "4"
                }
            }, 
            "outputs": [], 
            "source": "import random\nbatch_size = 10\ndef data_iter():\n    # \u4ea7\u751f\u4e00\u4e2a\u968f\u673a\u7d22\u5f15\n    idx = list(range(num_examples))\n    random.shuffle(idx)\n    for i in range(0, num_examples, batch_size):\n        j = nd.array(idx[i:min(i+batch_size,num_examples)])\n        yield nd.take(X, j), nd.take(y, j)"
        }, 
        {
            "source": "\u4e0b\u9762\u4ee3\u7801\u8bfb\u53d6\u7b2c\u4e00\u4e2a\u968f\u673a\u6570\u636e\u5757", 
            "cell_type": "markdown", 
            "metadata": {}
        }, 
        {
            "execution_count": null, 
            "cell_type": "code", 
            "metadata": {
                "attributes": {
                    "classes": [], 
                    "id": "", 
                    "n": "5"
                }
            }, 
            "outputs": [], 
            "source": "for data, label in data_iter():\n    print(data, label)\n    break\n    "
        }, 
        {
            "source": "## \u521d\u59cb\u5316\u6a21\u578b\u53c2\u6570\n\n\u4e0b\u9762\u6211\u4eec\u968f\u673a\u521d\u59cb\u5316\u6a21\u578b\u53c2\u6570", 
            "cell_type": "markdown", 
            "metadata": {}
        }, 
        {
            "execution_count": null, 
            "cell_type": "code", 
            "metadata": {
                "attributes": {
                    "classes": [], 
                    "id": "", 
                    "n": "6"
                }
            }, 
            "outputs": [], 
            "source": "w = nd.random_normal(shape=(num_inputs, 1))\nb = nd.zeros((1,))\nparams = [w, b]"
        }, 
        {
            "source": "\u4e4b\u540e\u8bad\u7ec3\u65f6\u6211\u4eec\u9700\u8981\u5bf9\u8fd9\u4e9b\u53c2\u6570\u6c42\u5bfc\u6765\u66f4\u65b0\u5b83\u4eec\u7684\u503c\uff0c\u4f7f\u635f\u5931\u5c3d\u91cf\u51cf\u5c0f\uff1b\u56e0\u6b64\u6211\u4eec\u9700\u8981\u521b\u5efa\u5b83\u4eec\u7684\u68af\u5ea6\u3002", 
            "cell_type": "markdown", 
            "metadata": {}
        }, 
        {
            "execution_count": null, 
            "cell_type": "code", 
            "metadata": {
                "attributes": {
                    "classes": [], 
                    "id": "", 
                    "n": "7"
                }
            }, 
            "outputs": [], 
            "source": "for param in params:\n    param.attach_grad()"
        }, 
        {
            "source": "## \u5b9a\u4e49\u6a21\u578b\n\n\u7ebf\u6027\u6a21\u578b\u5c31\u662f\u5c06\u8f93\u5165\u548c\u6a21\u578b\u7684\u6743\u91cd\uff08`w`\uff09\u76f8\u4e58\uff0c\u518d\u52a0\u4e0a\u504f\u79fb\uff08`b`\uff09\uff1a", 
            "cell_type": "markdown", 
            "metadata": {}
        }, 
        {
            "execution_count": null, 
            "cell_type": "code", 
            "metadata": {
                "attributes": {
                    "classes": [], 
                    "id": "", 
                    "n": "8"
                }
            }, 
            "outputs": [], 
            "source": "def net(X):\n    return nd.dot(X, w) + b"
        }, 
        {
            "source": "## \u635f\u5931\u51fd\u6570\n\n\u6211\u4eec\u4f7f\u7528\u5e38\u89c1\u7684\u5e73\u65b9\u8bef\u5dee\u6765\u8861\u91cf\u9884\u6d4b\u76ee\u6807\u548c\u771f\u5b9e\u76ee\u6807\u4e4b\u95f4\u7684\u5dee\u8ddd\u3002", 
            "cell_type": "markdown", 
            "metadata": {}
        }, 
        {
            "execution_count": null, 
            "cell_type": "code", 
            "metadata": {
                "attributes": {
                    "classes": [], 
                    "id": "", 
                    "n": "9"
                }
            }, 
            "outputs": [], 
            "source": "def square_loss(yhat, y):\n    # \u6ce8\u610f\u8fd9\u91cc\u6211\u4eec\u628ay\u53d8\u5f62\u6210yhat\u7684\u5f62\u72b6\u6765\u907f\u514d\u77e9\u9635\u5f62\u72b6\u7684\u81ea\u52a8\u8f6c\u6362\n    return (yhat - y.reshape(yhat.shape)) ** 2"
        }, 
        {
            "source": "## \u4f18\u5316\n\n\u867d\u7136\u7ebf\u6027\u56de\u5f52\u6709\u663e\u5f0f\u89e3\uff0c\u4f46\u7edd\u5927\u90e8\u5206\u6a21\u578b\u5e76\u6ca1\u6709\u3002\u6240\u4ee5\u6211\u4eec\u8fd9\u91cc\u901a\u8fc7\u968f\u673a\u68af\u5ea6\u4e0b\u964d\u6765\u6c42\u89e3\u3002\u6bcf\u4e00\u6b65\uff0c\u6211\u4eec\u5c06\u6a21\u578b\u53c2\u6570\u6cbf\u7740\u68af\u5ea6\u7684\u53cd\u65b9\u5411\u8d70\u7279\u5b9a\u8ddd\u79bb\uff0c\u8fd9\u4e2a\u8ddd\u79bb\u4e00\u822c\u53eb**\u5b66\u4e60\u7387\uff08learning rate\uff09** `lr`\u3002\uff08\u6211\u4eec\u4f1a\u4e4b\u540e\u4e00\u76f4\u4f7f\u7528\u8fd9\u4e2a\u51fd\u6570\uff0c\u6211\u4eec\u5c06\u5176\u4fdd\u5b58\u5728[utils.py](../utils.py)\u3002\uff09", 
            "cell_type": "markdown", 
            "metadata": {}
        }, 
        {
            "execution_count": null, 
            "cell_type": "code", 
            "metadata": {
                "attributes": {
                    "classes": [], 
                    "id": "", 
                    "n": "10"
                }
            }, 
            "outputs": [], 
            "source": "def SGD(params, lr):\n    for param in params:\n        param[:] = param - lr * param.grad"
        }, 
        {
            "source": "## \u8bad\u7ec3\n\n\u73b0\u5728\u6211\u4eec\u53ef\u4ee5\u5f00\u59cb\u8bad\u7ec3\u4e86\u3002\u8bad\u7ec3\u901a\u5e38\u9700\u8981\u8fed\u4ee3\u6570\u636e\u6570\u6b21\uff0c\u5728\u8fd9\u91cc\u4f7f\u7528`epochs`\u8868\u793a\u8fed\u4ee3\u603b\u6b21\u6570\uff1b\u4e00\u6b21\u8fed\u4ee3\u4e2d\uff0c\u6211\u4eec\u6bcf\u6b21\u968f\u673a\u8bfb\u53d6\u56fa\u5b9a\u6570\u4e2a\u6570\u636e\u70b9\uff0c\u8ba1\u7b97\u68af\u5ea6\u5e76\u66f4\u65b0\u6a21\u578b\u53c2\u6570\u3002", 
            "cell_type": "markdown", 
            "metadata": {}
        }, 
        {
            "execution_count": null, 
            "cell_type": "code", 
            "metadata": {}, 
            "outputs": [], 
            "source": "# \u6a21\u578b\u51fd\u6570\ndef real_fn(X):\n    return 2 * X[:, 0] - 3.4 * X[:, 1] + 4.2\n# \u7ed8\u5236\u635f\u5931\u968f\u8bad\u7ec3\u6b21\u6570\u964d\u4f4e\u7684\u6298\u7ebf\u56fe\uff0c\u4ee5\u53ca\u9884\u6d4b\u503c\u548c\u771f\u5b9e\u503c\u7684\u6563\u70b9\u56fe\ndef plot(losses, X, sample_size=100):\n    xs = list(range(len(losses)))\n    f, (fg1, fg2) = plt.subplots(1, 2)\n    fg1.set_title('Loss during training')\n    fg1.plot(xs, losses, '-r')\n    fg2.set_title('Estimated vs real function')\n    fg2.plot(X[:sample_size, 1].asnumpy(),\n             net(X[:sample_size, :]).asnumpy(), 'or', label='Estimated')\n    fg2.plot(X[:sample_size, 1].asnumpy(),\n             real_fn(X[:sample_size, :]).asnumpy(), '*g', label='Real')\n    fg2.legend()\n    plt.show()"
        }, 
        {
            "execution_count": null, 
            "cell_type": "code", 
            "metadata": {
                "attributes": {
                    "classes": [], 
                    "id": "", 
                    "n": "11"
                }
            }, 
            "outputs": [], 
            "source": "epochs = 5\nlearning_rate = .001\nniter = 0\nlosses = []\nmoving_loss = 0\nsmoothing_constant = .01\n\n# \u8bad\u7ec3\nfor e in range(epochs):    \n    total_loss = 0\n\n    for data, label in data_iter():\n        with autograd.record():\n            output = net(data)\n            loss = square_loss(output, label)\n        loss.backward()\n        SGD(params, learning_rate)\n        total_loss += nd.sum(loss).asscalar()\n\n        # \u8bb0\u5f55\u6bcf\u8bfb\u53d6\u4e00\u4e2a\u6570\u636e\u70b9\u540e\uff0c\u635f\u5931\u7684\u79fb\u52a8\u5e73\u5747\u503c\u7684\u53d8\u5316\uff1b\n        niter +=1\n        curr_loss = nd.mean(loss).asscalar()\n        moving_loss = (1 - smoothing_constant) * moving_loss + (smoothing_constant) * curr_loss\n\n        # correct the bias from the moving averages\n        est_loss = moving_loss/(1-(1-smoothing_constant)**niter)\n\n        if (niter + 1) % 100 == 0:\n            losses.append(est_loss)\n            print(\"Epoch %s, batch %s. Moving avg of loss: %s. Average loss: %f\" % (e, niter, est_loss, total_loss/num_examples))\n            plot(losses, X)"
        }, 
        {
            "source": "\u8bad\u7ec3\u5b8c\u6210\u540e\uff0c\u6211\u4eec\u53ef\u4ee5\u6bd4\u8f83\u5b66\u5f97\u7684\u53c2\u6570\u548c\u771f\u5b9e\u53c2\u6570", 
            "cell_type": "markdown", 
            "metadata": {}
        }, 
        {
            "execution_count": null, 
            "cell_type": "code", 
            "metadata": {
                "attributes": {
                    "classes": [], 
                    "id": "", 
                    "n": "12"
                }
            }, 
            "outputs": [], 
            "source": "true_w, w"
        }, 
        {
            "execution_count": null, 
            "cell_type": "code", 
            "metadata": {
                "attributes": {
                    "classes": [], 
                    "id": "", 
                    "n": "13"
                }
            }, 
            "outputs": [], 
            "source": "true_b, b"
        }, 
        {
            "source": "## \u7ed3\u8bba\n\n\u6211\u4eec\u73b0\u5728\u770b\u5230\uff0c\u4ec5\u4ec5\u662f\u4f7f\u7528NDArray\u548cautograd\u5c31\u53ef\u4ee5\u5f88\u5bb9\u6613\u5b9e\u73b0\u7684\u4e00\u4e2a\u6a21\u578b\u3002\u5728\u63a5\u4e0b\u6765\u7684\u6559\u7a0b\u91cc\uff0c\u6211\u4eec\u4f1a\u5728\u6b64\u57fa\u7840\u4e0a\uff0c\u4ecb\u7ecd\u66f4\u591a\u73b0\u4ee3\u795e\u7ecf\u7f51\u7edc\u7684\u77e5\u8bc6\uff0c\u4ee5\u53ca\u600e\u6837\u4f7f\u7528\u5c11\u91cf\u7684MXNet\u4ee3\u7801\u5b9e\u73b0\u5404\u79cd\u590d\u6742\u7684\u6a21\u578b\u3002\n\n## \u7ec3\u4e60\n\n\u5c1d\u8bd5\u7528\u4e0d\u540c\u7684\u5b66\u4e60\u7387\u67e5\u770b\u8bef\u5dee\u4e0b\u964d\u901f\u5ea6\uff08\u6536\u655b\u7387\uff09\n\n## \u8ba8\u8bba\n\n\u6b22\u8fce\u626b\u7801\u76f4\u8fbe[\u672c\u8282\u5185\u5bb9\u8ba8\u8bba\u533a](https://discuss.gluon.ai/t/topic/743)\uff1a\n\n![](../img/qr/linear-regression-scratch.png)", 
            "cell_type": "markdown", 
            "metadata": {}
        }
    ], 
    "metadata": {
        "kernelspec": {
            "display_name": "Python 3.5", 
            "name": "python3", 
            "language": "python"
        }, 
        "language_info": {
            "mimetype": "text/x-python", 
            "nbconvert_exporter": "python", 
            "version": "3.5.4", 
            "name": "python", 
            "file_extension": ".py", 
            "pygments_lexer": "ipython3", 
            "codemirror_mode": {
                "version": 3, 
                "name": "ipython"
            }
        }
    }, 
    "nbformat": 4
}