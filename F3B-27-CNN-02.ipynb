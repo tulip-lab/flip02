{
    "nbformat_minor": 2, 
    "cells": [
        {
            "source": "# \u5377\u79ef\u795e\u7ecf\u7f51\u7edc --- \u4f7f\u7528Gluon\n\n\u73b0\u5728\u6211\u4eec\u4f7f\u7528Gluon\u6765\u5b9e\u73b0[\u4e0a\u4e00\u7ae0\u7684\u5377\u79ef\u795e\u7ecf\u7f51\u7edc](cnn-scratch.md)\u3002\n\n## \u5b9a\u4e49\u6a21\u578b\n\n\u4e0b\u9762\u662fLeNet\u5728Gluon\u91cc\u7684\u5b9e\u73b0\uff0c\u6ce8\u610f\u5230\u6211\u4eec\u4e0d\u518d\u9700\u8981\u5b9e\u73b0\u53bb\u8ba1\u7b97\u6bcf\u5c42\u7684\u8f93\u5165\u5927\u5c0f\uff0c\u5c24\u5176\u662f\u63a5\u5728\u5377\u79ef\u540e\u9762\u7684\u90a3\u4e2a\u5168\u8fde\u63a5\u5c42\u3002", 
            "cell_type": "markdown", 
            "metadata": {}
        }, 
        {
            "execution_count": null, 
            "cell_type": "code", 
            "metadata": {}, 
            "outputs": [], 
            "source": "from mxnet.gluon import nn\n\nnet = nn.Sequential()\nwith net.name_scope():\n    net.add(\n        nn.Conv2D(channels=20, kernel_size=5, activation='relu'),\n        nn.MaxPool2D(pool_size=2, strides=2),\n        nn.Conv2D(channels=50, kernel_size=3, activation='relu'),\n        nn.MaxPool2D(pool_size=2, strides=2),\n        nn.Flatten(),\n        nn.Dense(128, activation=\"relu\"),\n        nn.Dense(10)\n    )"
        }, 
        {
            "source": "## \u83b7\u53d6\u6570\u636e\u548c\u8bad\u7ec3\n\n\u5269\u4e0b\u7684\u8ddf\u4e0a\u4e00\u7ae0\u6ca1\u4ec0\u4e48\u4e0d\u540c\uff0c\u6211\u4eec\u91cd\u7528`utils.py`\u91cc\u5b9a\u4e49\u7684\u51fd\u6570\u3002", 
            "cell_type": "markdown", 
            "metadata": {}
        }, 
        {
            "execution_count": null, 
            "cell_type": "code", 
            "metadata": {}, 
            "outputs": [], 
            "source": "from mxnet import gluon\nimport sys\nsys.path.append('..')\nimport utils\n\n# \u521d\u59cb\u5316\nctx = utils.try_gpu()\nnet.initialize(ctx=ctx)\nprint('initialize weight on', ctx)\n\n# \u83b7\u53d6\u6570\u636e\nbatch_size = 256\ntrain_data, test_data = utils.load_data_fashion_mnist(batch_size)\n\n# \u8bad\u7ec3\nloss = gluon.loss.SoftmaxCrossEntropyLoss()\ntrainer = gluon.Trainer(net.collect_params(),\n                        'sgd', {'learning_rate': 0.5})\nutils.train(train_data, test_data, net, loss,\n            trainer, ctx, num_epochs=5)"
        }, 
        {
            "source": "## \u7ed3\u8bba\n\n\u4f7f\u7528Gluon\u6765\u5b9e\u73b0\u5377\u79ef\u7f51\u7edc\u8f7b\u677e\u52a0\u968f\u610f\u3002\n\n## \u7ec3\u4e60\n\n\u518d\u8bd5\u8bd5\u6539\u6539\u5377\u79ef\u5c42\u8bbe\u5b9a\uff0c\u662f\u4e0d\u662f\u4f1a\u6bd4\u4e0a\u4e00\u7ae0\u5bb9\u6613\u5f88\u591a\uff1f\n\n**\u5410\u69fd\u548c\u8ba8\u8bba\u6b22\u8fce\u70b9**[\u8fd9\u91cc](https://discuss.gluon.ai/t/topic/737)", 
            "cell_type": "markdown", 
            "metadata": {}
        }
    ], 
    "metadata": {
        "kernelspec": {
            "display_name": "Python 2 with Spark 1.6 (Unsupported)", 
            "name": "python2", 
            "language": "python"
        }, 
        "language_info": {
            "mimetype": "text/x-python", 
            "nbconvert_exporter": "python", 
            "version": "2.7.11", 
            "name": "python", 
            "file_extension": ".py", 
            "pygments_lexer": "ipython2", 
            "codemirror_mode": {
                "version": 2, 
                "name": "ipython"
            }
        }
    }, 
    "nbformat": 4
}