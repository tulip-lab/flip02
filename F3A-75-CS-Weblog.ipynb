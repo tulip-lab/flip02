{
    "nbformat_minor": 1, 
    "cells": [
        {
            "source": "# Modern Data Science \n**(Module 06: Apache Spark Platform)**\n\n---\n- Materials in this module include resources collected from various open-source online repositories.\n- You are free to use, change and distribute this package.\n\nPrepared by and for \n**Student Members** |\n2006-2018 [TULIP Lab](http://www.tulip.org.au), Australia\n\n---\n\n<font color='red' size = 4> Python 2.7 </font>\n## Session O - Case Study: Web Server Log Analysis\n---\n\n\nThis lab will demonstrate how easy it is to perform web server log analysis with Apache Spark.\n \nServer log analysis is an ideal use case for Spark.  It's a very large, common data source and contains a rich set of information.  Spark allows you to store your logs in files on disk cheaply, while still providing a quick and simple way to perform data analysis on them.  This homework will show you how to use Apache Spark on real-world text-based production logs and fully harness the power of that data.  Log data comes from many sources, such as web, file, and compute servers, application logs, user-generated content,  and can be used for monitoring servers, improving business and customer intelligence, building recommendation systems, fraud detection, and much more.\n\n \nThis lab is broken up into sections with bite-sized examples for demonstrating Spark functionality for log processing. For each problem, you should start by thinking about the algorithm that you will use to *efficiently* process the log in a parallel, distributed manner. This means using the various [RDD](http://spark.apache.org/docs/latest/api/python/pyspark.html#pyspark.RDD) operations along with [`lambda` functions](https://docs.python.org/2/tutorial/controlflow.html#lambda-expressions) that are applied at each worker.\n \n \n## Content\n\n* [Apache Web Server Log file format](#format)\n\n* [Sample Analyses on the Web Server Log File](#sample)\n\n* [Analyzing Web Server Log File](#analyze)\n\n* [Exploring 404 Response Codes](#code404)\n\n---\n \n\n", 
            "cell_type": "markdown", 
            "metadata": {}
        }, 
        {
            "source": "<a id = \"format\"></a>", 
            "cell_type": "markdown", 
            "metadata": {}
        }, 
        {
            "source": "### **1. Apache Web Server Log file format**\n\nThe log files that we use for this assignment are in the [Apache Common Log Format (CLF)](http://httpd.apache.org/docs/1.3/logs.html#common). The log file entries produced in CLF will look something like this:\n`127.0.0.1 - - [01/Aug/1995:00:00:01 -0400] \"GET /images/launch-logo.gif HTTP/1.0\" 200 1839`\n \nEach part of this log entry is described below.\n* `127.0.0.1`\nThis is the IP address (or host name, if available) of the client (remote host) which made the request to the server.\n \n* `-`\nThe \"hyphen\" in the output indicates that the requested piece of information (user identity from remote machine) is not available.\n \n* `-`\nThe \"hyphen\" in the output indicates that the requested piece of information (user identity from local logon) is not available.\n \n* `[01/Aug/1995:00:00:01 -0400]`\nThe time that the server finished processing the request. The format is:\n`[day/month/year:hour:minute:second timezone]`\n  *  day = 2 digits\n  *  month = 3 letters\n  *  year = 4 digits\n  *  hour = 2 digits\n  *  minute = 2 digits\n  *  second = 2 digits\n  *  zone = (\\+ | \\-) 4 digits\n \n* `\"GET /images/launch-logo.gif HTTP/1.0\"`\nThis is the first line of the request string from the client. It consists of a three components: the request method (e.g., `GET`, `POST`, etc.), the endpoint (a [Uniform Resource Identifier](http://en.wikipedia.org/wiki/Uniform_resource_identifier)), and the client protocol version.\n \n* `200`\nThis is the status code that the server sends back to the client. This information is very valuable, because it reveals whether the request resulted in a successful response (codes beginning in 2), a redirection (codes beginning in 3), an error caused by the client (codes beginning in 4), or an error in the server (codes beginning in 5). The full list of possible status codes can be found in the HTTP specification ([RFC 2616](https://www.ietf.org/rfc/rfc2616.txt) section 10).\n \n* `1839`\nThe last entry indicates the size of the object returned to the client, not including the response headers. If no content was returned to the client, this value will be \"-\" (or sometimes 0).\n \nNote that log files contain information supplied directly by the client, without escaping. Therefore, it is possible for malicious clients to insert control-characters in the log files, *so care must be taken in dealing with raw logs.*\n \n### NASA-HTTP Web Server Log\nFor this case study, we will use a data set from NASA Kennedy Space Center WWW server in Florida. The full data set is freely available (http://ita.ee.lbl.gov/html/contrib/NASA-HTTP.html) and contains two month's of all HTTP requests. We are using a subset that only contains several days worth of requests.", 
            "cell_type": "markdown", 
            "metadata": {}
        }, 
        {
            "source": "### **(1a) Parsing Each Log Line**\n\nUsing the CLF as defined above, we create a regular expression pattern to extract the nine fields of the log line using the Python regular expression [`search` function](https://docs.python.org/2/library/re.html#regular-expression-objects). The function returns a pair consisting of a Row object and 1. If the log line fails to match the regular expression, the function returns a pair consisting of the log line string and 0. A '-' value in the content size field is cleaned up by substituting it with 0. The function converts the log line's date string into a Python `datetime` object using the given `parse_apache_time` function.", 
            "cell_type": "markdown", 
            "metadata": {}
        }, 
        {
            "execution_count": null, 
            "cell_type": "code", 
            "metadata": {}, 
            "outputs": [], 
            "source": "import re\nimport datetime\n\nfrom pyspark.sql import Row\n\nmonth_map = {'Jan': 1, 'Feb': 2, 'Mar':3, 'Apr':4, 'May':5, 'Jun':6, 'Jul':7,\n    'Aug':8,  'Sep': 9, 'Oct':10, 'Nov': 11, 'Dec': 12}\n\ndef parse_apache_time(s):\n    \"\"\" Convert Apache time format into a Python datetime object\n    Args:\n        s (str): date and time in Apache time format\n    Returns:\n        datetime: datetime object (ignore timezone for now)\n    \"\"\"\n    return datetime.datetime(int(s[7:11]),\n                             month_map[s[3:6]],\n                             int(s[0:2]),\n                             int(s[12:14]),\n                             int(s[15:17]),\n                             int(s[18:20]))\n\n\ndef parseApacheLogLine(logline):\n    \"\"\" Parse a line in the Apache Common Log format\n    Args:\n        logline (str): a line of text in the Apache Common Log format\n    Returns:\n        tuple: either a dictionary containing the parts of the Apache Access Log and 1,\n               or the original invalid log line and 0\n    \"\"\"\n    match = re.search(APACHE_ACCESS_LOG_PATTERN, logline)\n    if match is None:\n        return (logline, 0)\n    size_field = match.group(9)\n    if size_field == '-':\n        size = long(0)\n    else:\n        size = long(match.group(9))\n    return (Row(\n        host          = match.group(1),\n        client_identd = match.group(2),\n        user_id       = match.group(3),\n        date_time     = parse_apache_time(match.group(4)),\n        method        = match.group(5),\n        endpoint      = match.group(6),\n        protocol      = match.group(7),\n        response_code = int(match.group(8)),\n        content_size  = size\n    ), 1)"
        }, 
        {
            "execution_count": null, 
            "cell_type": "code", 
            "metadata": {}, 
            "outputs": [], 
            "source": "# A regular expression pattern to extract fields from the log line\nAPACHE_ACCESS_LOG_PATTERN = '^(\\S+) (\\S+) (\\S+) \\[([\\w:/]+\\s[+\\-]\\d{4})\\] \"(\\S+) (\\S+)\\s*(\\S*)\" (\\d{3}) (\\S+)'"
        }, 
        {
            "source": "### **(1b) Configuration and Initial RDD Creation**\n\nWe are ready to specify the input log file and create an RDD containing the parsed log file data. The log file has already been downloaded for you.\n \nTo create the primary RDD that we'll use in the rest of this assignment, we first load the text file using [`sc.textfile(logFile)`](http://spark.apache.org/docs/latest/api/python/pyspark.html#pyspark.SparkContext.textFile) to convert each line of the file into an element in an RDD.\n\nNext, we use [`map(parseApacheLogLine)`](http://spark.apache.org/docs/latest/api/python/pyspark.html#pyspark.RDD.map) to apply the parse function to each element (that is, a line from the log file) in the RDD and turn each line into a pair [`Row` object](http://spark.apache.org/docs/latest/api/python/pyspark.sql.html#pyspark.sql.Row).\n\nFinally, we cache the RDD in memory since we'll use it throughout this notebook.", 
            "cell_type": "markdown", 
            "metadata": {}
        }, 
        {
            "execution_count": null, 
            "cell_type": "code", 
            "metadata": {}, 
            "outputs": [], 
            "source": "import hashlib\n\nclass TestFailure(Exception):\n  pass\nclass PrivateTestFailure(Exception):\n  pass\n\nclass Test(object):\n  passed = 0\n  numTests = 0\n  failFast = False\n  private = False\n\n  @classmethod\n  def setFailFast(cls):\n    cls.failFast = True\n\n  @classmethod\n  def setPrivateMode(cls):\n    cls.private = True\n\n  @classmethod\n  def assertTrue(cls, result, msg=\"\"):\n    cls.numTests += 1\n    if result == True:\n      cls.passed += 1\n      print \"1 test passed.\"\n    else:\n      print \"1 test failed. \" + msg\n      if cls.failFast:\n        if cls.private:\n          raise PrivateTestFailure(msg)\n        else:\n          raise TestFailure(msg)\n\n  @classmethod\n  def assertEquals(cls, var, val, msg=\"\"):\n    cls.assertTrue(var == val, msg)\n\n  @classmethod\n  def assertEqualsHashed(cls, var, hashed_val, msg=\"\"):\n    cls.assertEquals(cls._hash(var), hashed_val, msg)\n\n  @classmethod\n  def printStats(cls):\n    print \"{0} / {1} test(s) passed.\".format(cls.passed, cls.numTests)\n\n  @classmethod\n  def _hash(cls, x):\n    return hashlib.sha1(str(x)).hexdigest()\n\n"
        }, 
        {
            "source": "You can set the logFile value as the address for your weblog file.", 
            "cell_type": "markdown", 
            "metadata": {}
        }, 
        {
            "execution_count": null, 
            "cell_type": "code", 
            "metadata": {}, 
            "outputs": [], 
            "source": "import wget\n\nlink_to_data = 'https://github.com/tuliplab/mds/raw/master/Jupyter/data/apache_access_log-beaa3.PROJECT'\nDataSet = wget.download(link_to_data)"
        }, 
        {
            "execution_count": null, 
            "cell_type": "code", 
            "metadata": {}, 
            "outputs": [], 
            "source": "!ls -l"
        }, 
        {
            "execution_count": null, 
            "cell_type": "code", 
            "metadata": {}, 
            "outputs": [], 
            "source": "import sys\nimport os\nfrom test_helper import Test\n\n#baseDir = os.path.join('data')\n#inputPath = os.path.join('apache.access.log.PROJECT')\n#logFile = os.path.join(baseDir, inputPath)\n# to change above back or add comment @YT\n\nlogFile = \"apache_access_log-beaa3.PROJECT\""
        }, 
        {
            "execution_count": null, 
            "cell_type": "code", 
            "metadata": {}, 
            "outputs": [], 
            "source": "def parseLogs():\n    \"\"\" Read and parse log file \"\"\"\n    parsed_logs = (sc\n                   .textFile(logFile)\n                   .map(parseApacheLogLine)\n                   .cache())\n\n    access_logs = (parsed_logs\n                   .filter(lambda s: s[1] == 1)\n                   .map(lambda s: s[0])\n                   .cache())\n\n    failed_logs = (parsed_logs\n                   .filter(lambda s: s[1] == 0)\n                   .map(lambda s: s[0]))\n    failed_logs_count = failed_logs.count()\n    if failed_logs_count > 0:\n        print 'Number of invalid logline: %d' % failed_logs.count()\n        for line in failed_logs.take(20):\n            print 'Invalid logline: %s' % line\n\n    print 'Read %d lines, successfully parsed %d lines, failed to parse %d lines' % (parsed_logs.count(), access_logs.count(), failed_logs.count())\n    return parsed_logs, access_logs, failed_logs\n\n\nparsed_logs, access_logs, failed_logs = parseLogs()"
        }, 
        {
            "source": "### **(1c) Data Cleaning**\n\nNotice that there are a large number of log lines that failed to parse. Examine the sample of invalid lines and compare them to the correctly parsed line, an example is included below. Based on your observations, alter the `APACHE_ACCESS_LOG_PATTERN` regular expression below so that the failed lines will correctly parse, and press `Shift-Enter` to rerun `parseLogs()`.\n \n`127.0.0.1 - - [01/Aug/1995:00:00:01 -0400] \"GET /images/launch-logo.gif HTTP/1.0\" 200 1839`\n \nIf you not familar with Python regular expression [`search` function](https://docs.python.org/2/library/re.html#regular-expression-objects), now would be a good time to check up on the [documentation](https://developers.google.com/edu/python/regular-expressions). One tip that might be useful is to use an online tester like http://pythex.org or http://www.pythonregex.com. To use it, copy and paste the regular expression string below (located between the single quotes ') and test it against one of the 'Invalid logline' above.", 
            "cell_type": "markdown", 
            "metadata": {}
        }, 
        {
            "execution_count": null, 
            "cell_type": "code", 
            "metadata": {}, 
            "outputs": [], 
            "source": "# TODO: Replace <FILL IN> with appropriate code\n\n# This was originally '^(\\S+) (\\S+) (\\S+) \\[([\\w:/]+\\s[+\\-]\\d{4})\\] \"(\\S+) (\\S+)\\s*(\\S*)\" (\\d{3}) (\\S+)'\nAPACHE_ACCESS_LOG_PATTERN = <FILL IN>\n\nparsed_logs, access_logs, failed_logs = parseLogs()"
        }, 
        {
            "source": "<div align=\"right\">\n<a href=\"#mat1\" class=\"btn btn-default\" data-toggle=\"collapse\">Click here for the solution</a>\n</div>\n<div id=\"mat1\" class=\"collapse\">\n```\nAPACHE_ACCESS_LOG_PATTERN = '^(\\S+) (\\S+) (\\S+) \\[([\\w:/]+\\s[+\\-]\\d{4})\\] \"(\\S+) (\\S+)\\s*(\\S*) *\" (\\d{3}) (\\S+)'\n\n```\n</div>", 
            "cell_type": "markdown", 
            "metadata": {}
        }, 
        {
            "execution_count": null, 
            "cell_type": "code", 
            "metadata": {}, 
            "outputs": [], 
            "source": "# TEST Data cleaning (1c)\nTest.assertEquals(failed_logs.count(), 0, 'incorrect failed_logs.count()')\nTest.assertEquals(parsed_logs.count(), 1043177 , 'incorrect parsed_logs.count()')\nTest.assertEquals(access_logs.count(), parsed_logs.count(), 'incorrect access_logs.count()')"
        }, 
        {
            "source": "<a id = \"sample\"></a>", 
            "cell_type": "markdown", 
            "metadata": {}
        }, 
        {
            "source": "### **2. Sample Analyses on the Web Server Log File**\n \nNow that we have an RDD containing the log file as a set of Row objects, we can perform various analyses.\n \n#### **(2a) Example: Content Size Statistics**\n \nLet's compute some statistics about the sizes of content being returned by the web server. In particular, we'd like to know what are the average, minimum, and maximum content sizes.\n \nWe can compute the statistics by applying a `map` to the `access_logs` RDD. The `lambda` function we want for the map is to extract the `content_size` field from the RDD. The map produces a new RDD containing only the `content_sizes` (one element for each Row object in the `access_logs` RDD). To compute the minimum and maximum statistics, we can use [`min()`](http://spark.apache.org/docs/latest/api/python/pyspark.html#pyspark.RDD.min) and [`max()`](http://spark.apache.org/docs/latest/api/python/pyspark.html#pyspark.RDD.max) functions on the new RDD. We can compute the average statistic by using the [`reduce`](http://spark.apache.org/docs/latest/api/python/pyspark.html#pyspark.RDD.reduce) function with a `lambda` function that sums the two inputs, which represent two elements from the new RDD that are being reduced together. The result of the `reduce()` is the total content size from the log and it is to be divided by the number of requests as determined using the [`count()`](http://spark.apache.org/docs/latest/api/python/pyspark.html#pyspark.RDD.count) function on the new RDD.", 
            "cell_type": "markdown", 
            "metadata": {}
        }, 
        {
            "execution_count": null, 
            "cell_type": "code", 
            "metadata": {}, 
            "outputs": [], 
            "source": "# Calculate statistics based on the content size.\ncontent_sizes = access_logs.map(lambda log: log.content_size).cache()\nprint 'Content Size Avg: %i, Min: %i, Max: %s' % (\n    content_sizes.reduce(lambda a, b : a + b) / content_sizes.count(),\n    content_sizes.min(),\n    content_sizes.max())"
        }, 
        {
            "source": "#### **(2b) Example: Response Code Analysis**\n\nNext, lets look at the response codes that appear in the log. As with the content size analysis, first we create a new RDD by using a `lambda` function to extract the `response_code` field from the `access_logs` RDD. The difference here is that we will use a [pair tuple](https://docs.python.org/2/tutorial/datastructures.html?highlight=tuple#tuples-and-sequences) instead of just the field itself. Using a pair tuple consisting of the response code and 1 will let us count how many records have a particular response code. Using the new RDD, we perform a [`reduceByKey`](http://spark.apache.org/docs/latest/api/python/pyspark.html#pyspark.RDD.reduceByKey) function. `reduceByKey` performs a reduce on a per-key basis by applying the `lambda` function to each element, pairwise with the same key. We use the simple `lambda` function of adding the two values. Then, we cache the resulting RDD and create a list by using the [`take`](http://spark.apache.org/docs/latest/api/python/pyspark.html#pyspark.RDD.take) function.", 
            "cell_type": "markdown", 
            "metadata": {}
        }, 
        {
            "execution_count": null, 
            "cell_type": "code", 
            "metadata": {}, 
            "outputs": [], 
            "source": "# Response Code to Count\nresponseCodeToCount = (access_logs\n                       .map(lambda log: (log.response_code, 1))\n                       .reduceByKey(lambda a, b : a + b)\n                       .cache())\nresponseCodeToCountList = responseCodeToCount.take(100)\nprint 'Found %d response codes' % len(responseCodeToCountList)\nprint 'Response Code Counts: %s' % responseCodeToCountList\nassert len(responseCodeToCountList) == 7\nassert sorted(responseCodeToCountList) == [(200, 940847), (302, 16244), (304, 79824), (403, 58), (404, 6185), (500, 2), (501, 17)]"
        }, 
        {
            "source": "#### **(2c) Example: Response Code Graphing with `matplotlib`**\n\nNow, lets visualize the results from the last example. We can visualize the results from the last example using [`matplotlib`](http://matplotlib.org/). First we need to extract the labels and fractions for the graph. We do this with two separate `map` functions with a `lambda` functions. The first `map` function extracts a list of of the response code values, and the second `map` function extracts a list of the per response code counts  divided by the total size of the access logs. Next, we create a figure with `figure()` constructor and use the `pie()` method to create the pie plot.", 
            "cell_type": "markdown", 
            "metadata": {}
        }, 
        {
            "execution_count": null, 
            "cell_type": "code", 
            "metadata": {}, 
            "outputs": [], 
            "source": "labels = responseCodeToCount.map(lambda (x, y): x).collect()\nprint labels\ncount = access_logs.count()\nfracs = responseCodeToCount.map(lambda (x, y): (float(y) / count)).collect()\nprint fracs"
        }, 
        {
            "execution_count": null, 
            "cell_type": "code", 
            "metadata": {}, 
            "outputs": [], 
            "source": "import matplotlib.pyplot as plt\n\n\ndef pie_pct_format(value):\n    \"\"\" Determine the appropriate format string for the pie chart percentage label\n    Args:\n        value: value of the pie slice\n    Returns:\n        str: formated string label; if the slice is too small to fit, returns an empty string for label\n    \"\"\"\n    return '' if value < 7 else '%.0f%%' % value\n\nfig = plt.figure(figsize=(4.5, 4.5), facecolor='white', edgecolor='white')\ncolors = ['yellowgreen', 'lightskyblue', 'gold', 'purple', 'lightcoral', 'yellow', 'black']\nexplode = (0.05, 0.05, 0.1, 0, 0, 0, 0)\npatches, texts, autotexts = plt.pie(fracs, labels=labels, colors=colors,\n                                    explode=explode, autopct=pie_pct_format,\n                                    shadow=False,  startangle=125)\nfor text, autotext in zip(texts, autotexts):\n    if autotext.get_text() == '':\n        text.set_text('')  # If the slice is small to fit, don't show a text label\nplt.legend(labels, loc=(0.80, -0.1), shadow=True)\n\ndisplay(fig)\npass"
        }, 
        {
            "source": "#### **(2d) Example: Frequent Hosts**\n\nLet's look at hosts that have accessed the server multiple times (e.g., more than ten times). As with the response code analysis in (2b), first we create a new RDD by using a `lambda` function to extract the `host` field from the `access_logs` RDD using a pair tuple consisting of the host and 1 which will let us count how many records were created by a particular host's request. Using the new RDD, we perform a `reduceByKey` function with a `lambda` function that adds the two values. We then filter the result based on the count of accesses by each host (the second element of each pair) being greater than ten. Next, we extract the host name by performing a `map` with a `lambda` function that returns the first element of each pair. Finally, we extract 20 elements from the resulting RDD - *note that the choice of which elements are returned is not guaranteed to be deterministic.*", 
            "cell_type": "markdown", 
            "metadata": {}
        }, 
        {
            "execution_count": null, 
            "cell_type": "code", 
            "metadata": {}, 
            "outputs": [], 
            "source": "# Any hosts that has accessed the server more than 10 times.\nhostCountPairTuple = access_logs.map(lambda log: (log.host, 1))\n\nhostSum = hostCountPairTuple.reduceByKey(lambda a, b : a + b)\n\nhostMoreThan10 = hostSum.filter(lambda s: s[1] > 10)\n\nhostsPick20 = (hostMoreThan10\n               .map(lambda s: s[0])\n               .take(20))\n\nprint 'Any 20 hosts that have accessed more then 10 times: %s' % hostsPick20\n# An example: [u'204.120.34.185', u'204.243.249.9', u'slip1-32.acs.ohio-state.edu', u'lapdog-14.baylor.edu', u'199.77.67.3', u'gs1.cs.ttu.edu', u'haskell.limbex.com', u'alfred.uib.no', u'146.129.66.31', u'manaus.bologna.maraut.it', u'dialup98-110.swipnet.se', u'slip-ppp02.feldspar.com', u'ad03-053.compuserve.com', u'srawlin.opsys.nwa.com', u'199.202.200.52', u'ix-den7-23.ix.netcom.com', u'151.99.247.114', u'w20-575-104.mit.edu', u'205.25.227.20', u'ns.rmc.com']"
        }, 
        {
            "source": "#### **(2e) Example: Visualizing Endpoints**\n\nNow, lets visualize the number of hits to endpoints (URIs) in the log. To perform this task, we first create a new RDD by using a `lambda` function to extract the `endpoint` field from the `access_logs` RDD using a pair tuple consisting of the endpoint and 1 which will let us count how many records were created by a particular host's request. Using the new RDD, we perform a `reduceByKey` function with a `lambda` function that adds the two values. We then cache the results.\n \nNext we visualize the results using `matplotlib`. We previously imported the `matplotlib.pyplot` library, so we do not need to import it again. We perform two separate `map` functions with `lambda` functions. The first `map` function extracts a list of endpoint values, and the second `map` function extracts a list of the visits per endpoint values. Next, we create a figure with `figure()` constructor, set various features of the plot (axis limits, grid lines, and labels), and use the `plot()` method to create the line plot.", 
            "cell_type": "markdown", 
            "metadata": {}
        }, 
        {
            "execution_count": null, 
            "cell_type": "code", 
            "metadata": {}, 
            "outputs": [], 
            "source": "# %matplotlib inline \n\nendpoints = (access_logs\n             .map(lambda log: (log.endpoint, 1))\n             .reduceByKey(lambda a, b : a + b)\n             .cache())\nends = endpoints.map(lambda (x, y): x).collect()\ncounts = endpoints.map(lambda (x, y): y).collect()\n\nfig = plt.figure(figsize=(8,4.2), facecolor='white', edgecolor='white')\nplt.axis([0, len(ends), 0, max(counts)])\nplt.grid(b=True, which='major', axis='y')\nplt.xlabel('Endpoints')\nplt.ylabel('Number of Hits')\nplt.plot(counts)\n\ndisplay(fig)\npass"
        }, 
        {
            "source": "#### **(2f) Example: Top Endpoints**\n\nFor the final example, we'll look at the top endpoints (URIs) in the log. To determine them, we first create a new RDD by using a `lambda` function to extract the `endpoint` field from the `access_logs` RDD using a pair tuple consisting of the endpoint and 1 which will let us count how many records were created by a particular host's request. Using the new RDD, we perform a `reduceByKey` function with a `lambda` function that adds the two values. We then extract the top ten endpoints by performing a [`takeOrdered`](http://spark.apache.org/docs/latest/api/python/pyspark.html#pyspark.RDD.takeOrdered) with a value of 10 and a `lambda` function that multiplies the count (the second element of each pair) by -1 to create a sorted list with the top endpoints at the bottom.", 
            "cell_type": "markdown", 
            "metadata": {}
        }, 
        {
            "execution_count": null, 
            "cell_type": "code", 
            "metadata": {}, 
            "outputs": [], 
            "source": "# Top Endpoints\nendpointCounts = (access_logs\n                  .map(lambda log: (log.endpoint, 1))\n                  .reduceByKey(lambda a, b : a + b))\n\ntopEndpoints = endpointCounts.takeOrdered(10, lambda s: -1 * s[1])\n\nprint 'Top Ten Endpoints: %s' % topEndpoints\nassert topEndpoints == [(u'/images/NASA-logosmall.gif', 59737), (u'/images/KSC-logosmall.gif', 50452), (u'/images/MOSAIC-logosmall.gif', 43890), (u'/images/USA-logosmall.gif', 43664), (u'/images/WORLD-logosmall.gif', 43277), (u'/images/ksclogo-medium.gif', 41336), (u'/ksc.html', 28582), (u'/history/apollo/images/apollo-logo1.gif', 26778), (u'/images/launch-logo.gif', 24755), (u'/', 20292)], 'incorrect Top Ten Endpoints'"
        }, 
        {
            "source": "<a id = \"analyze\"></a>", 
            "cell_type": "markdown", 
            "metadata": {}
        }, 
        {
            "source": "### **3. Analyzing Web Server Log File**\n \nNow it is your turn to perform analyses on web server log files.", 
            "cell_type": "markdown", 
            "metadata": {}
        }, 
        {
            "source": "#### **(3a) Exercise: Top Ten Error Endpoints**\n####What are the top ten endpoints which did not have return code 200? Create a sorted list containing top ten endpoints and the number of times that they were accessed with non-200 return code.\n \n####Think about the steps that you need to perform to determine which endpoints did not have a 200 return code, how you will uniquely count those endpoints, and sort the list.\n \n####You might want to refer back to the previous Lab (Lab 1 Word Count) for insights.", 
            "cell_type": "markdown", 
            "metadata": {}
        }, 
        {
            "execution_count": null, 
            "cell_type": "code", 
            "metadata": {}, 
            "outputs": [], 
            "source": "# TODO: Replace <FILL IN> with appropriate code\n# HINT: Each of these <FILL IN> below could be completed with a single transformation or action.\n# You are welcome to structure your solution in a different way, so long as\n# you ensure the variables used in the next Test section are defined (ie. endpointSum, topTenErrURLs).\n\nnot200 = access_logs.<FILL IN>\n\nendpointCountPairTuple = not200.<FILL IN>\n\nendpointSum = endpointCountPairTuple.<FILL IN>\n\ntopTenErrURLs = endpointSum.<FILL IN>\nprint 'Top Ten failed URLs: %s' % topTenErrURLs"
        }, 
        {
            "source": "<div align=\"right\">\n<a href=\"#mat2\" class=\"btn btn-default\" data-toggle=\"collapse\">Click here for the solution</a>\n</div>\n<div id=\"mat2\" class=\"collapse\">\n```\nnot200 = access_logs.filter(lambda x: x.response_code != 200)\nendpointCountPairTuple = not200.map(lambda log: (log.endpoint, 1))\n\nendpointSum = endpointCountPairTuple.reduceByKey(lambda a, b: a + b)\ntopTenErrURLs = endpointSum.takeOrdered(10, lambda (k, v): -1 * v)\n\n\n```\n</div>", 
            "cell_type": "markdown", 
            "metadata": {}
        }, 
        {
            "execution_count": null, 
            "cell_type": "code", 
            "metadata": {}, 
            "outputs": [], 
            "source": "# TEST Top ten error endpoints (3a)\nTest.assertEquals(endpointSum.count(), 7689, 'incorrect count for endpointSum')\nTest.assertEquals(topTenErrURLs, [(u'/images/NASA-logosmall.gif', 8761), (u'/images/KSC-logosmall.gif', 7236), (u'/images/MOSAIC-logosmall.gif', 5197), (u'/images/USA-logosmall.gif', 5157), (u'/images/WORLD-logosmall.gif', 5020), (u'/images/ksclogo-medium.gif', 4728), (u'/history/apollo/images/apollo-logo1.gif', 2907), (u'/images/launch-logo.gif', 2811), (u'/', 2199), (u'/images/ksclogosmall.gif', 1622)], 'incorrect Top Ten failed URLs (topTenErrURLs)')"
        }, 
        {
            "source": "#### **(3b) Exercise: Number of Unique Hosts**\n\nHow many unique hosts are there in the entire log?\n \nThink about the steps that you need to perform to count the number of different hosts in the log.", 
            "cell_type": "markdown", 
            "metadata": {}
        }, 
        {
            "execution_count": null, 
            "cell_type": "code", 
            "metadata": {}, 
            "outputs": [], 
            "source": "# TODO: Replace <FILL IN> with appropriate code\n# HINT: Do you recall the tips from (3a)? Each of these <FILL IN> could be an transformation or action.\n\nhosts = access_logs.<FILL IN>\n\nuniqueHosts = hosts.<FILL IN>\n\nuniqueHostCount = uniqueHosts.<FILL IN>\nprint 'Unique hosts: %d' % uniqueHostCount"
        }, 
        {
            "source": "<div align=\"right\">\n<a href=\"#mat3\" class=\"btn btn-default\" data-toggle=\"collapse\">Click here for the solution</a>\n</div>\n<div id=\"mat3\" class=\"collapse\">\n```\nhosts = access_logs.map(lambda x: (x.host, 1))\n\nuniqueHosts = hosts.reduceByKey(lambda a, b: a)\n\nuniqueHostCount = uniqueHosts.count()\n\n```\n</div>", 
            "cell_type": "markdown", 
            "metadata": {}
        }, 
        {
            "execution_count": null, 
            "cell_type": "code", 
            "metadata": {}, 
            "outputs": [], 
            "source": "# TEST Number of unique hosts (3b)\nTest.assertEquals(uniqueHostCount, 54507, 'incorrect uniqueHostCount')"
        }, 
        {
            "source": "#### **(3c) Exercise: Number of Unique Daily Hosts**\n####For an advanced exercise, let's determine the number of unique hosts in the entire log on a day-by-day basis. This computation will give us counts of the number of unique daily hosts. We'd like a list sorted by increasing day of the month which includes the day of the month and the associated number of unique hosts for that day. Make sure you cache the resulting RDD `dailyHosts` so that we can reuse it in the next exercise.\n \n####Think about the steps that you need to perform to count the number of different hosts that make requests *each* day.\n####*Since the log only covers a single month, you can ignore the month.*", 
            "cell_type": "markdown", 
            "metadata": {}
        }, 
        {
            "execution_count": null, 
            "cell_type": "code", 
            "metadata": {}, 
            "outputs": [], 
            "source": "# TODO: Replace <FILL IN> with appropriate code\n\ndayToHostPairTuple = access_logs.<FILL IN>\n\ndayGroupedHosts = dayToHostPairTuple.<FILL IN>\n\ndayHostCount = dayGroupedHosts.<FILL IN>\n\ndailyHosts = (dayHostCount\n              <FILL IN>)\ndailyHostsList = dailyHosts.take(30)\nprint 'Unique hosts per day: %s' % dailyHostsList"
        }, 
        {
            "source": "<div align=\"right\">\n<a href=\"#mat4\" class=\"btn btn-default\" data-toggle=\"collapse\">Click here for the solution</a>\n</div>\n<div id=\"mat4\" class=\"collapse\">\n```\ndayToHostPairTuple = (access_logs\n                        .map(lambda x: ((x.date_time.day, x.host), 1)))\n\ndayGroupedHosts = (dayToHostPairTuple\n                    # Remove duplicate day/host combination\n                    .reduceByKey(lambda a, b: a)\n                    # Remove ls\n                    .map(lambda (k, v): k))\n                    # Left with unique (day, host) pairs ...\n    \ndayHostCount = (dayGroupedHosts\n                # Replace hosts with 1\n                .map(lambda (day, host): (day, 1))\n                # Count ls for each day\n                .reduceByKey(lambda a, b: a + b))\n\ndailyHosts = dayHostCount.sortByKey().cache()\ndailyHostsList = dailyHosts.take(30)\n```\n</div>", 
            "cell_type": "markdown", 
            "metadata": {}
        }, 
        {
            "execution_count": null, 
            "cell_type": "code", 
            "metadata": {}, 
            "outputs": [], 
            "source": "# TEST Number of unique daily hosts (3c)\nTest.assertEquals(dailyHosts.count(), 21, 'incorrect dailyHosts.count()')\nTest.assertEquals(dailyHostsList, [(1, 2582), (3, 3222), (4, 4190), (5, 2502), (6, 2537), (7, 4106), (8, 4406), (9, 4317), (10, 4523), (11, 4346), (12, 2864), (13, 2650), (14, 4454), (15, 4214), (16, 4340), (17, 4385), (18, 4168), (19, 2550), (20, 2560), (21, 4134), (22, 4456)], 'incorrect dailyHostsList')\nTest.assertTrue(dailyHosts.is_cached, 'incorrect dailyHosts.is_cached')"
        }, 
        {
            "source": "#### **(3d) Exercise: Visualizing the Number of Unique Daily Hosts**\n\nUsing the results from the previous exercise, use `matplotlib` to plot a \"Line\" graph of the unique hosts requests by day.\n\n`daysWithHosts` should be a list of days and `hosts` should be a list of number of unique hosts for each corresponding day.\n\n* How could you convert a RDD into a list? See the [`collect()` method](http://spark.apache.org/docs/latest/api/python/pyspark.html?highlight=collect#pyspark.RDD.collect)*", 
            "cell_type": "markdown", 
            "metadata": {}
        }, 
        {
            "execution_count": null, 
            "cell_type": "code", 
            "metadata": {}, 
            "outputs": [], 
            "source": "# TODO: Replace <FILL IN> with appropriate code\n\ndaysWithHosts = dailyHosts.<FILL IN>\nhosts = dailyHosts.<FILL IN>"
        }, 
        {
            "source": "<div align=\"right\">\n<a href=\"#mat5\" class=\"btn btn-default\" data-toggle=\"collapse\">Click here for the solution</a>\n</div>\n<div id=\"mat5\" class=\"collapse\">\n```\ndaysWithHosts = dailyHosts.map(lambda (day, count): day).collect()\nhosts = dailyHosts.map(lambda (day, count): count).collect()\n```\n</div>", 
            "cell_type": "markdown", 
            "metadata": {}
        }, 
        {
            "execution_count": null, 
            "cell_type": "code", 
            "metadata": {}, 
            "outputs": [], 
            "source": "# TEST Visualizing unique daily hosts (3d)\ntest_days = range(1, 23)\ntest_days.remove(2)\nTest.assertEquals(daysWithHosts, test_days, 'incorrect days')\nTest.assertEquals(hosts, [2582, 3222, 4190, 2502, 2537, 4106, 4406, 4317, 4523, 4346, 2864, 2650, 4454, 4214, 4340, 4385, 4168, 2550, 2560, 4134, 4456], 'incorrect hosts')"
        }, 
        {
            "execution_count": null, 
            "cell_type": "code", 
            "metadata": {}, 
            "outputs": [], 
            "source": "fig = plt.figure(figsize=(8,4.5), facecolor='white', edgecolor='white')\nplt.axis([min(daysWithHosts), max(daysWithHosts), 0, max(hosts)+500])\nplt.grid(b=True, which='major', axis='y')\nplt.xlabel('Day')\nplt.ylabel('Hosts')\nplt.plot(daysWithHosts, hosts)\n\ndisplay(fig)\npass"
        }, 
        {
            "source": "#### **(3e) Exercise: Average Number of Daily Requests per Hosts**\n\nNext, let's determine the average number of requests on a day-by-day basis. We'd like a list by increasing day of the month and the associated average number of requests per host for that day. Make sure you cache the resulting RDD `avgDailyReqPerHost` so that we can reuse it in the next exercise.\n\nTo compute the average number of requests per host, get the total number of request across all hosts and divide that by the number of unique hosts.\n\n*Since the log only covers a single month, you can skip checking for the month.*\n*Also to keep it simple, when calculating the approximate average use the integer value - you do not need to upcast to float*", 
            "cell_type": "markdown", 
            "metadata": {}
        }, 
        {
            "execution_count": null, 
            "cell_type": "code", 
            "metadata": {}, 
            "outputs": [], 
            "source": "# TODO: Replace <FILL IN> with appropriate code\n\ndayAndHostTuple = access_logs.<FILL IN>\n\ngroupedByDay = dayAndHostTuple.<FILL IN>\n\nsortedByDay = groupedByDay.<FILL IN>\n\navgDailyReqPerHost = (sortedByDay\n                      <FILL IN>)\navgDailyReqPerHostList = avgDailyReqPerHost.take(30)\nprint 'Average number of daily requests per Hosts is %s' % avgDailyReqPerHostList"
        }, 
        {
            "source": "<div align=\"right\">\n<a href=\"#mat6\" class=\"btn btn-default\" data-toggle=\"collapse\">Click here for the solution</a>\n</div>\n<div id=\"mat6\" class=\"collapse\">\n```\ndayAndHostTuple = access_logs.map(lambda x: (x.date_time.day, x.host))\n\ngroupedByDay = dayAndHostTuple.groupByKey()\n\nsortedByDay = groupedByDay.sortByKey()\n\navgDailyReqPerHost = (sortedByDay\n                      .map(lambda (day, hosts): (day, len(hosts)/len(set(hosts))))\n                      .cache())\navgDailyReqPerHostList = avgDailyReqPerHost.take(30)\n\n```\n</div>", 
            "cell_type": "markdown", 
            "metadata": {}
        }, 
        {
            "execution_count": null, 
            "cell_type": "code", 
            "metadata": {}, 
            "outputs": [], 
            "source": "# TEST Average number of daily requests per hosts (3e)\nTest.assertEquals(avgDailyReqPerHostList, [(1, 13), (3, 12), (4, 14), (5, 12), (6, 12), (7, 13), (8, 13), (9, 14), (10, 13), (11, 14), (12, 13), (13, 13), (14, 13), (15, 13), (16, 13), (17, 13), (18, 13), (19, 12), (20, 12), (21, 13), (22, 12)], 'incorrect avgDailyReqPerHostList')\nTest.assertTrue(avgDailyReqPerHost.is_cached, 'incorrect avgDailyReqPerHost.is_cache')"
        }, 
        {
            "source": "#### **(3f) Exercise: Visualizing the Average Daily Requests per Unique Host**\n\nUsing the result `avgDailyReqPerHost` from the previous exercise, use `matplotlib` to plot a \"Line\" graph of the average daily requests per unique host by day.\n\n`daysWithAvg` should be a list of days and `avgs` should be a list of average daily requests per unique hosts for each corresponding day.", 
            "cell_type": "markdown", 
            "metadata": {}
        }, 
        {
            "execution_count": null, 
            "cell_type": "code", 
            "metadata": {}, 
            "outputs": [], 
            "source": "# TODO: Replace <FILL IN> with appropriate code\n\ndaysWithAvg = avgDailyReqPerHost.<FILL IN>\navgs = avgDailyReqPerHost.<FILL IN>"
        }, 
        {
            "source": "<div align=\"right\">\n<a href=\"#mat7\" class=\"btn btn-default\" data-toggle=\"collapse\">Click here for the solution</a>\n</div>\n<div id=\"mat7\" class=\"collapse\">\n```\ndaysWithAvg = avgDailyReqPerHost.map(lambda (day, avg): day).collect()\navgs = avgDailyReqPerHost.map(lambda(day, avg): avg).collect()\n\n```\n</div>", 
            "cell_type": "markdown", 
            "metadata": {}
        }, 
        {
            "execution_count": null, 
            "cell_type": "code", 
            "metadata": {}, 
            "outputs": [], 
            "source": "# TEST Average Daily Requests per Unique Host (3f)\nTest.assertEquals(daysWithAvg, [1, 3, 4, 5, 6, 7, 8, 9, 10, 11, 12, 13, 14, 15, 16, 17, 18, 19, 20, 21, 22], 'incorrect days')\nTest.assertEquals(avgs, [13, 12, 14, 12, 12, 13, 13, 14, 13, 14, 13, 13, 13, 13, 13, 13, 13, 12, 12, 13, 12], 'incorrect avgs')"
        }, 
        {
            "execution_count": null, 
            "cell_type": "code", 
            "metadata": {}, 
            "outputs": [], 
            "source": "fig = plt.figure(figsize=(8,4.2), facecolor='white', edgecolor='white')\nplt.axis([0, max(daysWithAvg), 0, max(avgs)+2])\nplt.grid(b=True, which='major', axis='y')\nplt.xlabel('Day')\nplt.ylabel('Average')\nplt.plot(daysWithAvg, avgs)\n\ndisplay(fig)\npass"
        }, 
        {
            "source": "<a id = \"code404\"></a>", 
            "cell_type": "markdown", 
            "metadata": {}
        }, 
        {
            "source": "### **4. Exploring 404 Response Codes**\n \nLet's drill down and explore the error 404 response code records. 404 errors are returned when an endpoint is not found by the server (i.e., a missing page or object).", 
            "cell_type": "markdown", 
            "metadata": {}
        }, 
        {
            "source": "#### **(4a) Exercise: Counting 404 Response Codes**\n\nCreate a RDD containing only log records with a 404 response code. Make sure you `cache()` the RDD `badRecords` as we will use it in the rest of this exercise.\n\nHow many 404 records are in the log?", 
            "cell_type": "markdown", 
            "metadata": {}
        }, 
        {
            "execution_count": null, 
            "cell_type": "code", 
            "metadata": {}, 
            "outputs": [], 
            "source": "# TODO: Replace <FILL IN> with appropriate code\n\nbadRecords = (access_logs\n              <FILL IN>)\nprint 'Found %d 404 URLs' % badRecords.count()"
        }, 
        {
            "source": "<div align=\"right\">\n<a href=\"#mat8\" class=\"btn btn-default\" data-toggle=\"collapse\">Click here for the solution</a>\n</div>\n<div id=\"mat8\" class=\"collapse\">\n```\nbadRecords = (access_logs\n              .filter(lambda x: x.response_code == 404)\n              .cache())\n\n```\n</div>", 
            "cell_type": "markdown", 
            "metadata": {}
        }, 
        {
            "execution_count": null, 
            "cell_type": "code", 
            "metadata": {}, 
            "outputs": [], 
            "source": "# TEST Counting 404 (4a)\nTest.assertEquals(badRecords.count(), 6185, 'incorrect badRecords.count()')\nTest.assertTrue(badRecords.is_cached, 'incorrect badRecords.is_cached')"
        }, 
        {
            "source": "#### **(4b) Exercise: Listing 404 Response Code Records**\n\nUsing the RDD containing only log records with a 404 response code that you cached in part (4a), print out a list up to 40 **distinct** endpoints that generate 404 errors -  *no endpoint should appear more than once in your list.*", 
            "cell_type": "markdown", 
            "metadata": {}
        }, 
        {
            "execution_count": null, 
            "cell_type": "code", 
            "metadata": {}, 
            "outputs": [], 
            "source": "# TODO: Replace <FILL IN> with appropriate code\n\nbadEndpoints = badRecords.<FILL IN>\n\nbadUniqueEndpoints = badEndpoints.<FILL IN>\n\nbadUniqueEndpointsPick40 = badUniqueEndpoints.take(40)\nprint '404 URLS: %s' % badUniqueEndpointsPick40"
        }, 
        {
            "source": "<div align=\"right\">\n<a href=\"#mat9\" class=\"btn btn-default\" data-toggle=\"collapse\">Click here for the solution</a>\n</div>\n<div id=\"mat9\" class=\"collapse\">\n```\nbadEndpoints = badRecords.map(lambda x: x.endpoint)\n\nbadUniqueEndpoints = badEndpoints.distinct()\n\nbadUniqueEndpointsPick40 = badUniqueEndpoints.take(40)\n\n```\n</div>", 
            "cell_type": "markdown", 
            "metadata": {}
        }, 
        {
            "execution_count": null, 
            "cell_type": "code", 
            "metadata": {}, 
            "outputs": [], 
            "source": "# TEST Listing 404 records (4b)\n\nbadUniqueEndpointsSet40 = set(badUniqueEndpointsPick40)\nTest.assertEquals(len(badUniqueEndpointsSet40), 40, 'badUniqueEndpointsPick40 not distinct')"
        }, 
        {
            "source": "#### **(4c) Exercise: Listing the Top Twenty 404 Response Code Endpoints**\n\nUsing the RDD containing only log records with a 404 response code that you cached in part (4a), print out a list of the top twenty endpoints that generate the most 404 errors.\n\n*Remember, top endpoints should be in sorted order*", 
            "cell_type": "markdown", 
            "metadata": {}
        }, 
        {
            "execution_count": null, 
            "cell_type": "code", 
            "metadata": {}, 
            "outputs": [], 
            "source": "# TODO: Replace <FILL IN> with appropriate code\n\nbadEndpointsCountPairTuple = badRecords.<FILL IN>\n\nbadEndpointsSum = badEndpointsCountPairTuple.<FILL IN>\n\nbadEndpointsTop20 = badEndpointsSum.<FILL IN>\nprint 'Top Twenty 404 URLs: %s' % badEndpointsTop20"
        }, 
        {
            "source": "<div align=\"right\">\n<a href=\"#mat10\" class=\"btn btn-default\" data-toggle=\"collapse\">Click here for the solution</a>\n</div>\n<div id=\"mat10\" class=\"collapse\">\n```\nbadEndpointsCountPairTuple = badRecords.map(lambda x: (x.endpoint, 1))\n\nbadEndpointsSum = badEndpointsCountPairTuple.reduceByKey(lambda a, b: a + b)\n\nbadEndpointsTop20 = badEndpointsSum.takeOrdered(20, lambda (a, b): -1 * b)\n\n```\n</div>", 
            "cell_type": "markdown", 
            "metadata": {}
        }, 
        {
            "execution_count": null, 
            "cell_type": "code", 
            "metadata": {}, 
            "outputs": [], 
            "source": "# TEST Top twenty 404 URLs (4c)\nTest.assertEquals(badEndpointsTop20, [(u'/pub/winvn/readme.txt', 633), (u'/pub/winvn/release.txt', 494), (u'/shuttle/missions/STS-69/mission-STS-69.html', 431), (u'/images/nasa-logo.gif', 319), (u'/elv/DELTA/uncons.htm', 178), (u'/shuttle/missions/sts-68/ksc-upclose.gif', 156), (u'/history/apollo/sa-1/sa-1-patch-small.gif', 146), (u'/images/crawlerway-logo.gif', 120), (u'/://spacelink.msfc.nasa.gov', 117), (u'/history/apollo/pad-abort-test-1/pad-abort-test-1-patch-small.gif', 100), (u'/history/apollo/a-001/a-001-patch-small.gif', 97), (u'/images/Nasa-logo.gif', 85), (u'/shuttle/resources/orbiters/atlantis.gif', 64), (u'/history/apollo/images/little-joe.jpg', 62), (u'/images/lf-logo.gif', 59), (u'/shuttle/resources/orbiters/discovery.gif', 56), (u'/shuttle/resources/orbiters/challenger.gif', 54), (u'/robots.txt', 53), (u'/elv/new01.gif>', 43), (u'/history/apollo/pad-abort-test-2/pad-abort-test-2-patch-small.gif', 38)], 'incorrect badEndpointsTop20')"
        }, 
        {
            "source": "#### **(4d) Exercise: Listing the Top Twenty-five 404 Response Code Hosts**\n\nInstead of looking at the endpoints that generated 404 errors, let's look at the hosts that encountered 404 errors. Using the RDD containing only log records with a 404 response code that you cached in part (4a), print out a list of the top twenty-five hosts that generate the most 404 errors.", 
            "cell_type": "markdown", 
            "metadata": {}
        }, 
        {
            "execution_count": null, 
            "cell_type": "code", 
            "metadata": {}, 
            "outputs": [], 
            "source": "# TODO: Replace <FILL IN> with appropriate code\n\nerrHostsCountPairTuple = badRecords.<FILL IN>\n\nerrHostsSum = errHostsCountPairTuple.<FILL IN>\n\nerrHostsTop25 = errHostsSum.<FILL IN>\nprint 'Top 25 hosts that generated errors: %s' % errHostsTop25"
        }, 
        {
            "source": "<div align=\"right\">\n<a href=\"#mat11\" class=\"btn btn-default\" data-toggle=\"collapse\">Click here for the solution</a>\n</div>\n<div id=\"mat11\" class=\"collapse\">\n```\nerrHostsCountPairTuple = badRecords.map(lambda x: (x.host, 1))\n\nerrHostsSum = errHostsCountPairTuple.reduceByKey(lambda a, b: a + b)\n\nerrHostsTop25 = errHostsSum.takeOrdered(25, lambda(host, count): -1 * count)\n\n```\n</div>", 
            "cell_type": "markdown", 
            "metadata": {}
        }, 
        {
            "execution_count": null, 
            "cell_type": "code", 
            "metadata": {}, 
            "outputs": [], 
            "source": "# TEST Top twenty-five 404 response code hosts (4d)\n\nTest.assertEquals(len(errHostsTop25), 25, 'length of errHostsTop25 is not 25')\nTest.assertEquals(len(set(errHostsTop25) - set([(u'maz3.maz.net', 39), (u'piweba3y.prodigy.com', 39), (u'gate.barr.com', 38), (u'm38-370-9.mit.edu', 37), (u'ts8-1.westwood.ts.ucla.edu', 37), (u'nexus.mlckew.edu.au', 37), (u'204.62.245.32', 33), (u'163.206.104.34', 27), (u'spica.sci.isas.ac.jp', 27), (u'www-d4.proxy.aol.com', 26), (u'www-c4.proxy.aol.com', 25), (u'203.13.168.24', 25), (u'203.13.168.17', 25), (u'internet-gw.watson.ibm.com', 24), (u'scooter.pa-x.dec.com', 23), (u'crl5.crl.com', 23), (u'piweba5y.prodigy.com', 23), (u'onramp2-9.onr.com', 22), (u'slip145-189.ut.nl.ibm.net', 22), (u'198.40.25.102.sap2.artic.edu', 21), (u'gn2.getnet.com', 20), (u'msp1-16.nas.mr.net', 20), (u'isou24.vilspa.esa.es', 19), (u'dial055.mbnet.mb.ca', 19), (u'tigger.nashscene.com', 19)])), 0, 'incorrect errHostsTop25')"
        }, 
        {
            "source": "#### **(4e) Exercise: Listing 404 Response Codes per Day**\n\nLet's explore the 404 records temporally. Break down the 404 requests by day (`cache()` the RDD `errDateSorted`) and get the daily counts sorted by day as a list.\n\n*Since the log only covers a single month, you can ignore the month in your checks.*", 
            "cell_type": "markdown", 
            "metadata": {}
        }, 
        {
            "execution_count": null, 
            "cell_type": "code", 
            "metadata": {}, 
            "outputs": [], 
            "source": "# TODO: Replace <FILL IN> with appropriate code\n\nerrDateCountPairTuple = badRecords.<FILL IN>\n\nerrDateSum = errDateCountPairTuple.<FILL IN>\n\nerrDateSorted = (errDateSum\n                 <FILL IN>)\n\nerrByDate = errDateSorted.<FILL IN>\nprint '404 Errors by day: %s' % errByDate"
        }, 
        {
            "source": "<div align=\"right\">\n<a href=\"#mat12\" class=\"btn btn-default\" data-toggle=\"collapse\">Click here for the solution</a>\n</div>\n<div id=\"mat12\" class=\"collapse\">\n```\nerrDateCountPairTuple = badRecords.map(lambda x: (x.date_time.day, 1))\n\nerrDateSum = errDateCountPairTuple.reduceByKey(lambda a, b: a + b)\n\nerrDateSorted = errDateSum.sortByKey().cache()\n                 \nerrByDate = errDateSorted.collect()\n\n```\n</div>", 
            "cell_type": "markdown", 
            "metadata": {}
        }, 
        {
            "execution_count": null, 
            "cell_type": "code", 
            "metadata": {}, 
            "outputs": [], 
            "source": "# TEST 404 response codes per day (4e)\nTest.assertEquals(errByDate, [(1, 243), (3, 303), (4, 346), (5, 234), (6, 372), (7, 532), (8, 381), (9, 279), (10, 314), (11, 263), (12, 195), (13, 216), (14, 287), (15, 326), (16, 258), (17, 269), (18, 255), (19, 207), (20, 312), (21, 305), (22, 288)], 'incorrect errByDate')\nTest.assertTrue(errDateSorted.is_cached, 'incorrect errDateSorted.is_cached')"
        }, 
        {
            "source": "#### **(4f) Exercise: Visualizing the 404 Response Codes by Day**\n\nUsing the results from the previous exercise, use `matplotlib` to plot a \"Line\" or \"Bar\" graph of the 404 response codes by day.", 
            "cell_type": "markdown", 
            "metadata": {}
        }, 
        {
            "execution_count": null, 
            "cell_type": "code", 
            "metadata": {}, 
            "outputs": [], 
            "source": "# TODO: Replace <FILL IN> with appropriate code\n\ndaysWithErrors404 = errDateSorted.<FILL IN>\nerrors404ByDay = errDateSorted.<FILL IN>"
        }, 
        {
            "source": "<div align=\"right\">\n<a href=\"#mat13\" class=\"btn btn-default\" data-toggle=\"collapse\">Click here for the solution</a>\n</div>\n<div id=\"mat13\" class=\"collapse\">\n```\ndaysWithErrors404 = (errDateSorted.\n                     map(lambda (day, count): day)\n                    .collect())\nerrors404ByDay = (errDateSorted\n                .map(lambda (day, count): count)\n                .collect())\n\n```\n</div>", 
            "cell_type": "markdown", 
            "metadata": {}
        }, 
        {
            "execution_count": null, 
            "cell_type": "code", 
            "metadata": {}, 
            "outputs": [], 
            "source": "# TEST Visualizing the 404 Response Codes by Day (4f)\nTest.assertEquals(daysWithErrors404, [1, 3, 4, 5, 6, 7, 8, 9, 10, 11, 12, 13, 14, 15, 16, 17, 18, 19, 20, 21, 22], 'incorrect daysWithErrors404')\nTest.assertEquals(errors404ByDay, [243, 303, 346, 234, 372, 532, 381, 279, 314, 263, 195, 216, 287, 326, 258, 269, 255, 207, 312, 305, 288], 'incorrect errors404ByDay')"
        }, 
        {
            "execution_count": null, 
            "cell_type": "code", 
            "metadata": {}, 
            "outputs": [], 
            "source": "fig = plt.figure(figsize=(8,4.2), facecolor='white', edgecolor='white')\nplt.axis([0, max(daysWithErrors404), 0, max(errors404ByDay)])\nplt.grid(b=True, which='major', axis='y')\nplt.xlabel('Day')\nplt.ylabel('404 Errors')\nplt.plot(daysWithErrors404, errors404ByDay)\n\ndisplay(fig)\npass"
        }, 
        {
            "source": "#### **(4g) Exercise: Top Five Days for 404 Response Codes **\n####Using the RDD `errDateSorted` you cached in the part (4e), what are the top five days for 404 response codes and the corresponding counts of 404 response codes?", 
            "cell_type": "markdown", 
            "metadata": {}
        }, 
        {
            "execution_count": null, 
            "cell_type": "code", 
            "metadata": {}, 
            "outputs": [], 
            "source": "# TODO: Replace <FILL IN> with appropriate code\n\ntopErrDate = errDateSorted.<FILL IN>\nprint 'Top Five dates for 404 requests: %s' % topErrDate"
        }, 
        {
            "source": "<div align=\"right\">\n<a href=\"#mat14\" class=\"btn btn-default\" data-toggle=\"collapse\">Click here for the solution</a>\n</div>\n<div id=\"mat14\" class=\"collapse\">\n```\ntopErrDate = errDateSorted.takeOrdered(5, lambda item:item[1]*-1)\n\n```\n</div>", 
            "cell_type": "markdown", 
            "metadata": {}
        }, 
        {
            "execution_count": null, 
            "cell_type": "code", 
            "metadata": {}, 
            "outputs": [], 
            "source": "# TEST Five dates for 404 requests (4g)\nTest.assertEquals(topErrDate, [(7, 532), (8, 381), (6, 372), (4, 346), (15, 326)], 'incorrect topErrDate')"
        }, 
        {
            "source": "#### **(4h) Exercise: Hourly 404 Response Codes**\n\nUsing the RDD `badRecords` you cached in the part (4a) and by hour of the day and in increasing order, create an RDD containing how many requests had a 404 return code for each hour of the day (midnight starts at 0). Cache the resulting RDD hourRecordsSorted and print that as a list.", 
            "cell_type": "markdown", 
            "metadata": {}
        }, 
        {
            "execution_count": null, 
            "cell_type": "code", 
            "metadata": {}, 
            "outputs": [], 
            "source": "# TODO: Replace <FILL IN> with appropriate code\n\nhourCountPairTuple = badRecords.<FILL IN>\n\nhourRecordsSum = hourCountPairTuple.<FILL IN>\n\nhourRecordsSorted = (hourRecordsSum\n                     <FILL IN>)\n\nerrHourList = hourRecordsSorted.<FILL IN>\nprint 'Top hours for 404 requests: %s' % errHourList"
        }, 
        {
            "source": "<div align=\"right\">\n<a href=\"#mat15\" class=\"btn btn-default\" data-toggle=\"collapse\">Click here for the solution</a>\n</div>\n<div id=\"mat15\" class=\"collapse\">\n```\nhourCountPairTuple = badRecords.map(lambda x: (x.date_time.hour, 1))\n\nhourRecordsSum = hourCountPairTuple.reduceByKey(lambda a, b: a + b)\n\nhourRecordsSorted = (hourRecordsSum\n                     .sortByKey()\n                     .cache())\n\nerrHourList = hourRecordsSorted.collect()\n```\n</div>", 
            "cell_type": "markdown", 
            "metadata": {}
        }, 
        {
            "execution_count": null, 
            "cell_type": "code", 
            "metadata": {}, 
            "outputs": [], 
            "source": "# TEST Hourly 404 response codes (4h)\nTest.assertEquals(errHourList, [(0, 175), (1, 171), (2, 422), (3, 272), (4, 102), (5, 95), (6, 93), (7, 122), (8, 199), (9, 185), (10, 329), (11, 263), (12, 438), (13, 397), (14, 318), (15, 347), (16, 373), (17, 330), (18, 268), (19, 269), (20, 270), (21, 241), (22, 234), (23, 272)], 'incorrect errHourList')\nTest.assertTrue(hourRecordsSorted.is_cached, 'incorrect hourRecordsSorted.is_cached')"
        }, 
        {
            "source": "#### **(4i) Exercise: Visualizing the 404 Response Codes by Hour**\n\nUsing the results from the previous exercise, use `matplotlib` to plot a \"Line\" or \"Bar\" graph of the 404 response codes by hour.", 
            "cell_type": "markdown", 
            "metadata": {}
        }, 
        {
            "execution_count": null, 
            "cell_type": "code", 
            "metadata": {}, 
            "outputs": [], 
            "source": "# TODO: Replace <FILL IN> with appropriate code\n\nhoursWithErrors404 = hourRecordsSorted.<FILL IN>\nerrors404ByHours = hourRecordsSorted.<FILL IN>"
        }, 
        {
            "source": "<div align=\"right\">\n<a href=\"#mat16\" class=\"btn btn-default\" data-toggle=\"collapse\">Click here for the solution</a>\n</div>\n<div id=\"mat16\" class=\"collapse\">\n```\nhoursWithErrors404 = (hourRecordsSorted\n            .map(lambda (hour, count): hour)\n            .collect())\nerrors404ByHours = (hourRecordsSorted\n                    .map(lambda (hour, count): count)\n                    .collect())\n```\n</div>", 
            "cell_type": "markdown", 
            "metadata": {}
        }, 
        {
            "execution_count": null, 
            "cell_type": "code", 
            "metadata": {}, 
            "outputs": [], 
            "source": "# TEST Visualizing the 404 Response Codes by Hour (4i)\nTest.assertEquals(hoursWithErrors404, [0, 1, 2, 3, 4, 5, 6, 7, 8, 9, 10, 11, 12, 13, 14, 15, 16, 17, 18, 19, 20, 21, 22, 23], 'incorrect hoursWithErrors404')\nTest.assertEquals(errors404ByHours, [175, 171, 422, 272, 102, 95, 93, 122, 199, 185, 329, 263, 438, 397, 318, 347, 373, 330, 268, 269, 270, 241, 234, 272], 'incorrect errors404ByHours')"
        }, 
        {
            "execution_count": null, 
            "cell_type": "code", 
            "metadata": {}, 
            "outputs": [], 
            "source": "fig = plt.figure(figsize=(8,4.2), facecolor='white', edgecolor='white')\nplt.axis([0, max(hoursWithErrors404), 0, max(errors404ByHours)])\nplt.grid(b=True, which='major', axis='y')\nplt.xlabel('Hour')\nplt.ylabel('404 Errors')\nplt.plot(hoursWithErrors404, errors404ByHours)\n\ndisplay(fig)\npass"
        }
    ], 
    "metadata": {
        "kernelspec": {
            "display_name": "Python 3.5", 
            "name": "python3", 
            "language": "python"
        }, 
        "language_info": {
            "mimetype": "text/x-python", 
            "nbconvert_exporter": "python", 
            "version": "3.5.4", 
            "name": "python", 
            "file_extension": ".py", 
            "pygments_lexer": "ipython3", 
            "codemirror_mode": {
                "version": 3, 
                "name": "ipython"
            }
        }, 
        "anaconda-cloud": {}
    }, 
    "nbformat": 4
}