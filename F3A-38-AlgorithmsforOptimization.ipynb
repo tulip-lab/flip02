{
    "nbformat_minor": 1, 
    "cells": [
        {
            "source": "# Modern Data Science \n**(Module 03: Pattern Classification)**\n\n---\n- Materials in this module include resources collected from various open-source online repositories.\n- You are free to use, change and distribute this package.\n\nPrepared by and for \n**Student Members** |\n2006-2018 [TULIP Lab](http://www.tulip.org.au), Australia\n\n---\n\n\n# Session H - Algorithms for Optimization and Root Finding for Multivariate Problems", 
            "cell_type": "markdown", 
            "metadata": {}
        }, 
        {
            "execution_count": null, 
            "cell_type": "code", 
            "metadata": {}, 
            "outputs": [], 
            "source": "import os\nimport sys\nimport glob\nimport operator as op\nimport itertools as it\nfrom functools import reduce, partial\nimport numpy as np\nimport pandas as pd\nfrom pandas import DataFrame, Series\nimport matplotlib.pyplot as plt\nimport seaborn as sns\nsns.set_context(\"notebook\", font_scale=1.5)\n%matplotlib inline\n\nfrom sympy import symbols, hessian, Function, N"
        }, 
        {
            "source": "## Newton\u2019s Method\nNewton\u2019s method is another line-search, and here\n$$ p_k = -H^-1\u25bdf_k  $$\nNote that if the Hessian is not positive definite, this may not always be a descent direction.\n\nIn the neighborhood of a local minimum, the Hessian will be positive definite. Now, if $x_0$ is \u2018close enough\u2019 to the minimizer $x^\u2217$, the step size $\u03b1_k=1$ gives quadratic convergence.\n\nThe advantage of multiplying the gradient by the inverse of the Hessian is that the gradient is corrected for curvature, and the new direction points toward the minimum.", 
            "cell_type": "markdown", 
            "metadata": {}
        }, 
        {
            "execution_count": null, 
            "cell_type": "code", 
            "metadata": {}, 
            "outputs": [], 
            "source": "#def Quad(x):\n#    return (x[1:])*np.sin(x[:-1])**2.0)\n\n#def DQuad(x,y):\n#    return (np.array([np.cos(x)*np.sin(y)**2.0,2.0*np.sin(x)*np.cos(y)**2.0]))\n\ndef Quad(x):\n    return ((x[1:])**2.0 + 5*(x[:-1])**2.0)\n\ndef DQuad(x,y):\n    return (np.array([2.0*x,10.0*y]))"
        }, 
        {
            "execution_count": null, 
            "cell_type": "code", 
            "metadata": {}, 
            "outputs": [], 
            "source": "x = np.linspace(-20,20, 100)\ny = np.linspace(-20,20, 100)\nX, Y = np.meshgrid(x, y)\nZ = Quad(np.vstack([X.ravel(), Y.ravel()])).reshape((100,100))\nHinv=-np.array([[0.5,0],[0,0.1]])"
        }, 
        {
            "execution_count": null, 
            "cell_type": "code", 
            "metadata": {}, 
            "outputs": [], 
            "source": "plt.figure(figsize=(12,4))\nplt.subplot(121)\n\nplt.contour(X,Y,Z);\nplt.title(\"Steepest Descent\");\nstep=-0.25\nX0 = 10.0\nY0 = 1.0\n\nNgrad=Hinv.dot(DQuad(X0,Y0))\n\nsgrad = step*DQuad(X0,Y0)\nplt.quiver(X0,Y0,sgrad[0],sgrad[1],color='red',angles='xy',scale_units='xy',scale=1);\nX1 = X0 + sgrad[0]\nY1 = Y0 + sgrad[1]\nsgrad = step*DQuad(X1,Y1)\nplt.quiver(X1,Y1,sgrad[0],sgrad[1],color='green',angles='xy',scale_units='xy',scale=1);\nX2 = X1 + sgrad[0]\nY2 = Y1 + sgrad[1]\nsgrad = step*DQuad(X2,Y2)\nplt.quiver(X2,Y2,sgrad[0],sgrad[1],color='purple',angles='xy',scale_units='xy',scale=1);\n\n\nplt.subplot(122)\nplt.contour(X,Y,Z);\nplt.title(\"Newton's Method\")\nplt.quiver(X0,Y0,Ngrad[0],Ngrad[1],color='purple',angles='xy',scale_units='xy',scale=1);\n\n#Compute Hessian and plot again."
        }
    ], 
    "metadata": {
        "kernelspec": {
            "display_name": "Python 3.5", 
            "name": "python3", 
            "language": "python"
        }, 
        "language_info": {
            "mimetype": "text/x-python", 
            "nbconvert_exporter": "python", 
            "version": "3.5.4", 
            "name": "python", 
            "file_extension": ".py", 
            "pygments_lexer": "ipython3", 
            "codemirror_mode": {
                "version": 3, 
                "name": "ipython"
            }
        }, 
        "anaconda-cloud": {}
    }, 
    "nbformat": 4
}