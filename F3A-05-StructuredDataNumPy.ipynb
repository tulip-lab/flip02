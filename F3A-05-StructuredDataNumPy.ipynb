{
    "metadata": {
        "language_info": {
            "name": "python", 
            "mimetype": "text/x-python", 
            "nbconvert_exporter": "python", 
            "pygments_lexer": "ipython3", 
            "codemirror_mode": {
                "name": "ipython", 
                "version": 3
            }, 
            "file_extension": ".py", 
            "version": "3.5.2"
        }, 
        "anaconda-cloud": {}, 
        "kernelspec": {
            "display_name": "Python 3.5 (Experimental) with Spark 2.1", 
            "name": "python3-spark21", 
            "language": "python"
        }
    }, 
    "nbformat": 4, 
    "cells": [
        {
            "metadata": {}, 
            "source": "# Modern Data Science \n**(Module 01: A Touch of Data Science)**\n\n---\n- Materials in this module include resources collected from various open-source online repositories.\n- You are free to use, change and distribute this package.\n\nPrepared by and for \n**Student Members** |\n2006-2018 [TULIP Lab](http://www.tulip.org.au), Australia\n\n---\n\n\n\n# Session A - NumPy's Structured Arrays", 
            "cell_type": "markdown"
        }, 
        {
            "metadata": {}, 
            "source": "While often our data can be well represented by a homogeneous array of values, sometimes this is not the case. This section demonstrates the use of NumPy's *structured arrays* and *record arrays*, which provide efficient storage for compound, heterogeneous data.  While the patterns shown here are useful for simple operations, scenarios like this often lend themselves to the use of Pandas ``Dataframe``s, which we'll explore in future sessions.", 
            "cell_type": "markdown"
        }, 
        {
            "source": "import numpy as np", 
            "metadata": {}, 
            "execution_count": null, 
            "cell_type": "code", 
            "outputs": []
        }, 
        {
            "metadata": {}, 
            "source": "Imagine that we have several categories of data on a number of people (say, name, age, and weight), and we'd like to store these values for use in a Python program.\nIt would be possible to store these in three separate arrays:", 
            "cell_type": "markdown"
        }, 
        {
            "source": "name = ['Alice', 'Bob', 'Cathy', 'Doug']\nage = [25, 45, 37, 19]\nweight = [55.0, 85.5, 68.0, 61.5]", 
            "metadata": {}, 
            "execution_count": null, 
            "cell_type": "code", 
            "outputs": []
        }, 
        {
            "metadata": {}, 
            "source": "But this is a bit clumsy. There's nothing here that tells us that the three arrays are related; it would be more natural if we could use a single structure to store all of this data.\nNumPy can handle this through structured arrays, which are arrays with compound data types.\n\nRecall that previously we created a simple array using an expression like this:", 
            "cell_type": "markdown"
        }, 
        {
            "source": "x = np.zeros(4, dtype=int)", 
            "metadata": {}, 
            "execution_count": null, 
            "cell_type": "code", 
            "outputs": []
        }, 
        {
            "metadata": {}, 
            "source": "We can similarly create a structured array using a compound data type specification:", 
            "cell_type": "markdown"
        }, 
        {
            "source": "# Use a compound data type for structured arrays\ndata = np.zeros(4, dtype={'names':('name', 'age', 'weight'),\n                          'formats':('U10', 'i4', 'f8')})\nprint(data.dtype)", 
            "metadata": {}, 
            "execution_count": null, 
            "cell_type": "code", 
            "outputs": []
        }, 
        {
            "metadata": {}, 
            "source": "Here ``'U10'`` translates to \"Unicode string of maximum length 10,\" ``'i4'`` translates to \"4-byte (i.e., 32 bit) integer,\" and ``'f8'`` translates to \"8-byte (i.e., 64 bit) float.\"\nWe'll discuss other options for these type codes in the following section.\n\nNow that we've created an empty container array, we can fill the array with our lists of values:", 
            "cell_type": "markdown"
        }, 
        {
            "source": "data['name'] = name\ndata['age'] = age\ndata['weight'] = weight\nprint(data)", 
            "metadata": {}, 
            "execution_count": null, 
            "cell_type": "code", 
            "outputs": []
        }, 
        {
            "metadata": {}, 
            "source": "As we had hoped, the data is now arranged together in one convenient block of memory.\n\nThe handy thing with structured arrays is that you can now refer to values either by index or by name:", 
            "cell_type": "markdown"
        }, 
        {
            "source": "# Get all names\ndata['name']", 
            "metadata": {}, 
            "execution_count": null, 
            "cell_type": "code", 
            "outputs": []
        }, 
        {
            "source": "# Get first row of data\ndata[0]", 
            "metadata": {}, 
            "execution_count": null, 
            "cell_type": "code", 
            "outputs": []
        }, 
        {
            "source": "# Get the name from the last row\ndata[-1]['name']", 
            "metadata": {}, 
            "execution_count": null, 
            "cell_type": "code", 
            "outputs": []
        }, 
        {
            "metadata": {}, 
            "source": "Using Boolean masking, this even allows you to do some more sophisticated operations such as filtering on age:", 
            "cell_type": "markdown"
        }, 
        {
            "source": "# Get names where age is under 30\ndata[data['age'] < 30]['name']", 
            "metadata": {}, 
            "execution_count": null, 
            "cell_type": "code", 
            "outputs": []
        }, 
        {
            "metadata": {}, 
            "source": "Note that if you'd like to do any operations that are any more complicated than these, you should probably consider the Pandas package, covered in the next chapter.\nAs we'll see, Pandas provides a ``Dataframe`` object, which is a structure built on NumPy arrays that offers a variety of useful data manipulation functionality similar to what we've shown here, as well as much, much more.", 
            "cell_type": "markdown"
        }, 
        {
            "metadata": {}, 
            "source": "## Creating Structured Arrays\n\nStructured array data types can be specified in a number of ways.\nEarlier, we saw the dictionary method:", 
            "cell_type": "markdown"
        }, 
        {
            "source": "np.dtype({'names':('name', 'age', 'weight'),\n          'formats':('U10', 'i4', 'f8')})", 
            "metadata": {}, 
            "execution_count": null, 
            "cell_type": "code", 
            "outputs": []
        }, 
        {
            "metadata": {}, 
            "source": "For clarity, numerical types can be specified using Python types or NumPy ``dtype``s instead:", 
            "cell_type": "markdown"
        }, 
        {
            "source": "np.dtype({'names':('name', 'age', 'weight'),\n          'formats':((np.str_, 10), int, np.float32)})", 
            "metadata": {}, 
            "execution_count": null, 
            "cell_type": "code", 
            "outputs": []
        }, 
        {
            "metadata": {}, 
            "source": "A compound type can also be specified as a list of tuples:", 
            "cell_type": "markdown"
        }, 
        {
            "source": "np.dtype([('name', 'S10'), ('age', 'i4'), ('weight', 'f8')])", 
            "metadata": {}, 
            "execution_count": null, 
            "cell_type": "code", 
            "outputs": []
        }, 
        {
            "metadata": {}, 
            "source": "If the names of the types do not matter to you, you can specify the types alone in a comma-separated string:", 
            "cell_type": "markdown"
        }, 
        {
            "source": "np.dtype('S10,i4,f8')", 
            "metadata": {}, 
            "execution_count": null, 
            "cell_type": "code", 
            "outputs": []
        }, 
        {
            "metadata": {}, 
            "source": "The shortened string format codes may seem confusing, but they are built on simple principles.\nThe first (optional) character is ``<`` or ``>``, which means \"little endian\" or \"big endian,\" respectively, and specifies the ordering convention for significant bits.\nThe next character specifies the type of data: characters, bytes, ints, floating points, and so on (see the table below).\nThe last character or characters represents the size of the object in bytes.\n\n| Character        | Description           | Example                             |\n| ---------        | -----------           | -------                             | \n| ``'b'``          | Byte                  | ``np.dtype('b')``                   |\n| ``'i'``          | Signed integer        | ``np.dtype('i4') == np.int32``      |\n| ``'u'``          | Unsigned integer      | ``np.dtype('u1') == np.uint8``      |\n| ``'f'``          | Floating point        | ``np.dtype('f8') == np.int64``      |\n| ``'c'``          | Complex floating point| ``np.dtype('c16') == np.complex128``|\n| ``'S'``, ``'a'`` | String                | ``np.dtype('S5')``                  |\n| ``'U'``          | Unicode string        | ``np.dtype('U') == np.str_``        |\n| ``'V'``          | Raw data (void)       | ``np.dtype('V') == np.void``        |", 
            "cell_type": "markdown"
        }, 
        {
            "metadata": {}, 
            "source": "## More Advanced Compound Types\n\nIt is possible to define even more advanced compound types.\nFor example, you can create a type where each element contains an array or matrix of values.\nHere, we'll create a data type with a ``mat`` component consisting of a $3\\times 3$ floating-point matrix:", 
            "cell_type": "markdown"
        }, 
        {
            "source": "tp = np.dtype([('id', 'i8'), ('mat', 'f8', (3, 3))])\nX = np.zeros(1, dtype=tp)\nprint(X[0])\nprint(X['mat'][0])", 
            "metadata": {}, 
            "execution_count": null, 
            "cell_type": "code", 
            "outputs": []
        }, 
        {
            "metadata": {}, 
            "source": "Now each element in the ``X`` array consists of an ``id`` and a $3\\times 3$ matrix.\nWhy would you use this rather than a simple multidimensional array, or perhaps a Python dictionary?\nThe reason is that this NumPy ``dtype`` directly maps onto a C structure definition, so the buffer containing the array content can be accessed directly within an appropriately written C program.\nIf you find yourself writing a Python interface to a legacy C or Fortran library that manipulates structured data, you'll probably find structured arrays quite useful!", 
            "cell_type": "markdown"
        }, 
        {
            "metadata": {}, 
            "source": "## RecordArrays: Structured Arrays with a Twist\n\nNumPy also provides the ``np.recarray`` class, which is almost identical to the structured arrays just described, but with one additional feature: fields can be accessed as attributes rather than as dictionary keys.\nRecall that we previously accessed the ages by writing:", 
            "cell_type": "markdown"
        }, 
        {
            "source": "data['age']", 
            "metadata": {}, 
            "execution_count": null, 
            "cell_type": "code", 
            "outputs": []
        }, 
        {
            "metadata": {}, 
            "source": "If we view our data as a record array instead, we can access this with slightly fewer keystrokes:", 
            "cell_type": "markdown"
        }, 
        {
            "source": "data_rec = data.view(np.recarray)\ndata_rec.age", 
            "metadata": {}, 
            "execution_count": null, 
            "cell_type": "code", 
            "outputs": []
        }, 
        {
            "metadata": {}, 
            "source": "The downside is that for record arrays, there is some extra overhead involved in accessing the fields, even when using the same syntax. We can see this here:", 
            "cell_type": "markdown"
        }, 
        {
            "source": "%timeit data['age']\n%timeit data_rec['age']\n%timeit data_rec.age", 
            "metadata": {}, 
            "execution_count": null, 
            "cell_type": "code", 
            "outputs": []
        }, 
        {
            "source": "", 
            "metadata": {}, 
            "execution_count": null, 
            "cell_type": "code", 
            "outputs": []
        }
    ], 
    "nbformat_minor": 1
}