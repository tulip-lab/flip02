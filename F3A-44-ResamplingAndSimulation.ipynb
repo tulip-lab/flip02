{
    "nbformat_minor": 1, 
    "cells": [
        {
            "source": "# Modern Data Science \n**(Module 03: Pattern Classification)**\n\n---\n- Materials in this module include resources collected from various open-source online repositories.\n- You are free to use, change and distribute this package.\n\nPrepared by and for \n**Student Members** |\n2006-2018 [TULIP Lab](http://www.tulip.org.au), Australia\n\n---\n\n\n# Session N - Resampling And Simulation", 
            "cell_type": "markdown", 
            "metadata": {}
        }, 
        {
            "execution_count": null, 
            "cell_type": "code", 
            "metadata": {}, 
            "outputs": [], 
            "source": "%matplotlib inline\nimport numpy as np\nimport scipy.stats as stats\nimport matplotlib.pyplot as plt\nimport seaborn as sns"
        }, 
        {
            "source": "Resampling and Monte Carlo Simulations\n====\n\nBroadly, any simulation that relies on random sampling to obtain results falls into the category of Monte Carlo methods. Another common type of statistical experiment is the use of repeated sampling from a data set, including the bootstrap, jackknife and permutation resampling. Often, they are combined, as when we use a random set of permutations rather than the full set of permutations, which grows as $O(n!))$ and is typically infeasible. What Monte Carlo simulations have in common is that they are typically more flexible but also more computationally demanding than methods based on asymptotic results. Because of their flexibility and the inexorable growth of computing power, I expect these computational simulation methods to only become more popular over time.", 
            "cell_type": "markdown", 
            "metadata": {}
        }, 
        {
            "source": "### Setting the random seed\n\nIn any probabilistic simulation, it is prudent to set the random number seed so that results can be replicated", 
            "cell_type": "markdown", 
            "metadata": {}
        }, 
        {
            "execution_count": null, 
            "cell_type": "code", 
            "metadata": {}, 
            "outputs": [], 
            "source": "np.random.seed(123)"
        }, 
        {
            "source": "## Sampling with and without replacement", 
            "cell_type": "markdown", 
            "metadata": {}
        }, 
        {
            "execution_count": null, 
            "cell_type": "code", 
            "metadata": {}, 
            "outputs": [], 
            "source": "# Sampling is done with replacement by default\nnp.random.choice(4, 12)"
        }, 
        {
            "execution_count": null, 
            "cell_type": "code", 
            "metadata": {}, 
            "outputs": [], 
            "source": "# Probability weights can be given\nnp.random.choice(4, 12, p=[.4, .1, .1, .4])"
        }, 
        {
            "execution_count": null, 
            "cell_type": "code", 
            "metadata": {}, 
            "outputs": [], 
            "source": "x = np.random.randint(0, 10, (8, 12))\nx"
        }, 
        {
            "execution_count": null, 
            "cell_type": "code", 
            "metadata": {}, 
            "outputs": [], 
            "source": "# sampling individual elements\nnp.random.choice(x.ravel(), 12)"
        }, 
        {
            "execution_count": null, 
            "cell_type": "code", 
            "metadata": {}, 
            "outputs": [], 
            "source": "# sampling rows\nidx = np.random.choice(x.shape[0], 4)\nx[idx, :]"
        }, 
        {
            "execution_count": null, 
            "cell_type": "code", 
            "metadata": {}, 
            "outputs": [], 
            "source": "# sampling columns\nidx = np.random.choice(x.shape[1], 4)\nx[:, idx]"
        }, 
        {
            "source": "#### Sampling without replacement", 
            "cell_type": "markdown", 
            "metadata": {}
        }, 
        {
            "execution_count": null, 
            "cell_type": "code", 
            "metadata": {}, 
            "outputs": [], 
            "source": "# Give the argument replace=False\ntry:\n    np.random.choice(4, 12, replace=False)\nexcept ValueError as e:\n    print(e)"
        }, 
        {
            "source": "#### Random shuffling", 
            "cell_type": "markdown", 
            "metadata": {}
        }, 
        {
            "execution_count": null, 
            "cell_type": "code", 
            "metadata": {}, 
            "outputs": [], 
            "source": "x"
        }, 
        {
            "execution_count": null, 
            "cell_type": "code", 
            "metadata": {}, 
            "outputs": [], 
            "source": "# Shuffling occurs \"in place\" for efficiency\nnp.random.shuffle(x)\nx"
        }, 
        {
            "execution_count": null, 
            "cell_type": "code", 
            "metadata": {}, 
            "outputs": [], 
            "source": "# To shuffle columns instead, transpose before shuffling\nnp.random.shuffle(x.T)\nx"
        }, 
        {
            "execution_count": null, 
            "cell_type": "code", 
            "metadata": {}, 
            "outputs": [], 
            "source": "# numpy.random.permutation does the same thing but returns a copy\nnp.random.permutation(x)"
        }, 
        {
            "execution_count": null, 
            "cell_type": "code", 
            "metadata": {}, 
            "outputs": [], 
            "source": "# When given an integre n, permutation treats is as the array arange(n)\nnp.random.permutation(10)"
        }, 
        {
            "execution_count": null, 
            "cell_type": "code", 
            "metadata": {}, 
            "outputs": [], 
            "source": "# Use indices if you needed to shuffle collections of arrays in synchrony\nx = np.arange(12).reshape(4,3)\ny = x + 10\nidx = np.random.permutation(x.shape[0])\nlist(zip(x[idx, :], y[idx, :]))"
        }, 
        {
            "source": "## Bootstrap\n\nThe bootstrap is commonly used to estimate statistics when a closed form solution may not exist. ", 
            "cell_type": "markdown", 
            "metadata": {}
        }, 
        {
            "execution_count": null, 
            "cell_type": "code", 
            "metadata": {}, 
            "outputs": [], 
            "source": "# For example, what is the 95% confidence interval for \n# the 10th percentile of this data set if you didn't know how it was generated?\n\nx = np.concatenate([np.random.exponential(size=200), np.random.normal(size=100)])\nplt.hist(x, 25, histtype='step', linewidth=1)\npass"
        }, 
        {
            "execution_count": null, 
            "cell_type": "code", 
            "metadata": {}, 
            "outputs": [], 
            "source": "n = len(x)\nreps = 10000\nxb = np.random.choice(x, (n, reps))\nmb = np.percentile(xb, 10, axis=0)\nmb.sort()\n\nlower, upper = np.percentile(mb, [2.5, 97.5])\nsns.kdeplot(mb)\nfor v in (lower, upper):\n    plt.axvline(v, color='red')"
        }, 
        {
            "source": "## Permutation resampling", 
            "cell_type": "markdown", 
            "metadata": {}
        }, 
        {
            "source": "#### For flexible hypothesis testing\n\nSuppose you have two data sets from unknown distributions and you want to test if some arbitrary statistic (e.g the 7th percentile) is the same in the two data sets - what can you do?\n\nAn appropriate test statistic is the difference between the 7th percentile, and if we knew the null distribution of this statistic, we could test for the null hypothesis that the statistic = 0. Permuting the labels of the 2 data sets allows us to create the empirical null distribution.", 
            "cell_type": "markdown", 
            "metadata": {}
        }, 
        {
            "source": "#### Create two data sets for comparison", 
            "cell_type": "markdown", 
            "metadata": {}
        }, 
        {
            "execution_count": null, 
            "cell_type": "code", 
            "metadata": {}, 
            "outputs": [], 
            "source": "x = np.r_[np.random.exponential(size=200), \n          np.random.normal(0, 1, size=100)]\ny = np.r_[np.random.exponential(size=250), \n          np.random.normal(0, 1, size=50)]"
        }, 
        {
            "source": "#### Generate permutations of labels for 10,000 comparisons", 
            "cell_type": "markdown", 
            "metadata": {}
        }, 
        {
            "execution_count": null, 
            "cell_type": "code", 
            "metadata": {}, 
            "outputs": [], 
            "source": "n1, n2 = map(len, (x, y))\nreps = 10000\n\ndata = np.r_[x, y]\nps = np.array([np.random.permutation(n1+n2) for i in range(reps)])"
        }, 
        {
            "source": "#### Estimate empirical null distribution for differences between samples", 
            "cell_type": "markdown", 
            "metadata": {}
        }, 
        {
            "execution_count": null, 
            "cell_type": "code", 
            "metadata": {}, 
            "outputs": [], 
            "source": "xp = data[ps[:, :n1]]\nyp = data[ps[:, n1:]]\nsamples = np.percentile(xp, 7, axis=1) - np.percentile(yp, 7, axis=1)"
        }, 
        {
            "source": "#### Plot the results", 
            "cell_type": "markdown", 
            "metadata": {}
        }, 
        {
            "execution_count": null, 
            "cell_type": "code", 
            "metadata": {}, 
            "outputs": [], 
            "source": "plt.hist(samples, 25, histtype='step', color='red')\ntest_stat = np.percentile(x, 7) - np.percentile(y, 7)\nplt.axvline(test_stat)\nplt.axvline(np.percentile(samples, 2.5), linestyle='--')\nplt.axvline(np.percentile(samples, 97.5), linestyle='--')\nprint(\"p-value =\", 2*np.sum(samples >= np.abs(test_stat))/reps)"
        }, 
        {
            "source": "### Adjusting p-values for multiple testing\n\nWe will make up some data - a typical example is trying to identify genes that are differentially expressed in two groups of people, perhaps those who are healthy and those who are sick. For each gene, we can perform a t-test to see if the gene is differentially expressed across the two groups at some nominal significance level, typically 0.05. When we have many genes, this is unsatisfactory since 5% of the genes will be found to be differentially expressed just by chance.\n\nOne possible solution is to use the family-wise error rate (FWER) instead - most simply using the Bonferroni adjusted p-value. An alternative is to use the non-parametric method originally proposed by Young and Westfall that uses permutation resampling to estimate the adjusted p-value without the assumptions of independence that the Bonferroni method makes.", 
            "cell_type": "markdown", 
            "metadata": {}
        }, 
        {
            "source": "####  Making up data for 100 genes across 1000 subjects and  \"spike\" with 5 genes that are differentially expressed", 
            "cell_type": "markdown", 
            "metadata": {}
        }, 
        {
            "execution_count": null, 
            "cell_type": "code", 
            "metadata": {}, 
            "outputs": [], 
            "source": "x = np.array([1,2,3]).reshape((-1,1))"
        }, 
        {
            "execution_count": null, 
            "cell_type": "code", 
            "metadata": {}, 
            "outputs": [], 
            "source": "print('this is x', x)\nprint('This is x1',  x.T)"
        }, 
        {
            "execution_count": null, 
            "cell_type": "code", 
            "metadata": {}, 
            "outputs": [], 
            "source": "x @ x.T"
        }, 
        {
            "execution_count": null, 
            "cell_type": "code", 
            "metadata": {}, 
            "outputs": [], 
            "source": "ngenes = 100\nncases = 500\nnctrls = 500\nnsamples = ncases + nctrls\nx = np.random.normal(0, 1, (ngenes, nsamples))\n\ntarget_genes = [5,15,25,35,45]\nx[target_genes, ncases:] += np.random.normal(1, 1, (len(target_genes), ncases))"
        }, 
        {
            "execution_count": null, 
            "cell_type": "code", 
            "metadata": {}, 
            "outputs": [], 
            "source": "import scipy.stats as stats"
        }, 
        {
            "source": "#### Unadjusted p-values", 
            "cell_type": "markdown", 
            "metadata": {}
        }, 
        {
            "execution_count": null, 
            "cell_type": "code", 
            "metadata": {}, 
            "outputs": [], 
            "source": "%precision 3"
        }, 
        {
            "execution_count": null, 
            "cell_type": "code", 
            "metadata": {}, 
            "outputs": [], 
            "source": "t, p0 = stats.ttest_ind(x[:, :ncases], x[:, ncases:], axis=1)\nidx = p0 < 0.05\nlist(zip(np.nonzero(idx)[0], p0[idx]))"
        }, 
        {
            "execution_count": null, 
            "cell_type": "code", 
            "metadata": {}, 
            "outputs": [], 
            "source": "vmin = x.min()\nvmax = x.max()\n\nplt.subplot(121)\nplt.imshow(x[:, :ncases], extent=[0, 1, 0, 2], interpolation='nearest', \n           vmin=vmin, vmax=vmax, cmap='jet')\nplt.xticks([])\nplt.yticks([])\nplt.title('Controls')\nplt.subplot(122)\nplt.imshow(x[:, ncases:], extent=[0, 1, 0, 2], interpolation='nearest', \n           vmin=vmin, vmax=vmax, cmap='jet')\nplt.xticks([])\nplt.yticks([])\nplt.title('Cases')\nplt.colorbar()\npass"
        }, 
        {
            "source": "#### Bonferroni correction", 
            "cell_type": "markdown", 
            "metadata": {}
        }, 
        {
            "execution_count": null, 
            "cell_type": "code", 
            "metadata": {}, 
            "outputs": [], 
            "source": "p1 = np.clip(len(p0) * p0, 0, 1)\nidx = p1 < 0.05\nlist(zip(np.nonzero(idx)[0], p1[idx]))"
        }, 
        {
            "source": "#### Westfall and Young (Permutation-resampling based family-wise error rate)\n\nIs similar to Bonferroni when features are uncorrelated, but is more powerful when features are correlated.", 
            "cell_type": "markdown", 
            "metadata": {}
        }, 
        {
            "execution_count": null, 
            "cell_type": "code", 
            "metadata": {}, 
            "outputs": [], 
            "source": "nperms = 10000\nk = ngenes\n\nt, p0 = stats.ttest_ind(x[:, :ncases], x[:, ncases:], axis=1)\nranks = np.argsort(np.abs(t))[::-1]\ncounts = np.zeros((nperms, k))\nfor i in range(nperms):\n    u = np.zeros(k)\n    sidx = np.random.permutation(nsamples)\n    y = x[:, sidx]\n    tb, pb = stats.ttest_ind(y[:, :ncases], y[:, ncases:], axis=1)\n    u[k-1] = np.abs(tb[ranks[k-1]])\n    for j in range(k-2, -1, -1):\n        u[j] = max(u[j+1], np.abs(tb[ranks[j]]))\n    counts[i] = (u >= np.abs(t[ranks]))\n\np2 = np.sum(counts, axis=0)/nperms\nfor i in range(1, k):\n    p2[i] = max(p2[i],p2[i-1])\nidx = p2 < 0.05\nlist(zip(ranks, p2[idx]))"
        }, 
        {
            "execution_count": null, 
            "cell_type": "code", 
            "metadata": {}, 
            "outputs": [], 
            "source": "plt.plot(sorted(p0), label='No correction')\nplt.plot(sorted(p1), label='Bonferroni')\nplt.plot(sorted(p2), label='Westfall-Young')\nplt.ylim([0,1])\nplt.legend(loc='best')\npass"
        }, 
        {
            "source": "#### What if genes are correlated?\n\nThe Bonferrroni assumes that tests are independent. However, often test results are strongly correlated (e.g. genes in the same pathway behave similarly) and the Bonferroni will be too conservative. However the permutation-resampling method still works in the presence of correlations.", 
            "cell_type": "markdown", 
            "metadata": {}
        }, 
        {
            "execution_count": null, 
            "cell_type": "code", 
            "metadata": {}, 
            "outputs": [], 
            "source": "ngenes = 100\nncases = 500\nnctrls = 500\nnsamples = ncases + nctrls\n\n# use random number seed knwon to give a differnece\nnp.random.seed(52)\nx = np.repeat(np.random.normal(0, 1, (1, nsamples)), ngenes, axis=0)"
        }, 
        {
            "execution_count": null, 
            "cell_type": "code", 
            "metadata": {}, 
            "outputs": [], 
            "source": "# In this extreme case, we measure the same gene 100 times\nx[:5, :5]"
        }, 
        {
            "source": "#### Unadjusted p-values", 
            "cell_type": "markdown", 
            "metadata": {}
        }, 
        {
            "execution_count": null, 
            "cell_type": "code", 
            "metadata": {}, 
            "outputs": [], 
            "source": "t, p0 = stats.ttest_ind(x[:, :ncases], x[:, ncases:], axis=1)\nidx = p0 < 0.05\nprint('Minimum p-value', p0.min(), '# significant', idx.sum())"
        }, 
        {
            "source": "#### Bonferroni\n\nBonferroni tells us none of the adjusted p-values are significant, which we know is the wrong answer.", 
            "cell_type": "markdown", 
            "metadata": {}
        }, 
        {
            "execution_count": null, 
            "cell_type": "code", 
            "metadata": {}, 
            "outputs": [], 
            "source": "p1 = np.clip(len(p0) * p0, 0, 1)\nidx = p1 < 0.05\nprint('Minimum p-value', p1.min(), '# significant', idx.sum())"
        }, 
        {
            "source": "#### Westfall and Young (Permutation-resampling based family-wise error rate)\n\nThis tells us that every gene is significant, which is the correct answer.", 
            "cell_type": "markdown", 
            "metadata": {}
        }, 
        {
            "execution_count": null, 
            "cell_type": "code", 
            "metadata": {}, 
            "outputs": [], 
            "source": "nperms = 10000\n\ncounts = np.zeros((nperms, k))\nt, p0 = stats.ttest_ind(x[:, :ncases], x[:, ncases:], axis=1)\nranks = np.argsort(np.abs(t))[::-1]\nfor i in range(nperms):\n    u = np.zeros(k)\n    sidx = np.random.permutation(nsamples)\n    y = x[:, sidx]\n    tb, pb = stats.ttest_ind(y[:, :ncases], y[:, ncases:], axis=1)\n    u[k-1] = np.abs(tb[ranks[k-1]])\n    for j in range(k-2, -1, -1):\n        u[j] = max(u[j+1], np.abs(tb[ranks[j]]))\n    counts[i] = (u >= np.abs(t[ranks]))\n\np2 = np.sum(counts, axis=0)/nperms\nfor i in range(1, k):\n    p2[i] = max(p2[i],p2[i-1])\nidx = p2 < 0.05\n    \nprint ('Minimum p-value', p2.min(), '# significant', idx.sum())"
        }, 
        {
            "execution_count": null, 
            "cell_type": "code", 
            "metadata": {}, 
            "outputs": [], 
            "source": "plt.plot(sorted(p1), label='Bonferroni')\nplt.plot(sorted(p2), label='Westfall-Young')\nplt.ylim([-0.05,1.05])\nplt.legend(loc='best')\npass"
        }, 
        {
            "source": "## \"Leave one out\" resampling methods", 
            "cell_type": "markdown", 
            "metadata": {}
        }, 
        {
            "source": "### Jackknife estimate of parameters\n\nThis shows the leave-one-out calculation idiom for Python. Unlike R, a -k index to an array does not delete the kth entry, but returns the kth entry from the end, so we need another way to efficiently drop one scalar or vector. This can be done using Boolean indexing as shown in the examples below, and is efficient since the operations are on *views* of the original array rather than *copies*. Note also that ", 
            "cell_type": "markdown", 
            "metadata": {}
        }, 
        {
            "execution_count": null, 
            "cell_type": "code", 
            "metadata": {}, 
            "outputs": [], 
            "source": "def jackknife(x, func):\n    \"\"\"Jackknife estimate of the estimator func\"\"\"\n    n = len(x)\n    idx = np.arange(n)\n    return np.sum(func(x[idx!=i]) for i in range(n))/float(n)"
        }, 
        {
            "execution_count": null, 
            "cell_type": "code", 
            "metadata": {}, 
            "outputs": [], 
            "source": "# Jackknife estimate of standard deviation\nx = np.random.normal(0, 2, 100)\njackknife(x, np.std)"
        }, 
        {
            "execution_count": null, 
            "cell_type": "code", 
            "metadata": {}, 
            "outputs": [], 
            "source": "def jackknife_var(x, func):\n    \"\"\"Jackknife estiamte of the variance of the estimator func.\"\"\"\n    n = len(x)\n    idx = np.arange(n)\n    j_est = jackknife(x, func)\n    return (n-1)/(n + 0.0) * np.sum((func(x[idx!=i]) - j_est)**2.0 for i in range(n))"
        }, 
        {
            "execution_count": null, 
            "cell_type": "code", 
            "metadata": {}, 
            "outputs": [], 
            "source": "# estimate of the variance of an estimator \njackknife_var(x, np.std)"
        }, 
        {
            "source": "### Leave one out cross validation (LOOCV)\n\nLOOCV also uses the same idiom, and a simple example of LOOCV for model selection is illustrated.", 
            "cell_type": "markdown", 
            "metadata": {}
        }, 
        {
            "execution_count": null, 
            "cell_type": "code", 
            "metadata": {}, 
            "outputs": [], 
            "source": "a, b, c = 2, 3, 4\nx = np.linspace(0, 5, 6)\ny = a*x**2 + b*x + c + np.random.normal(0, 3, len(x))"
        }, 
        {
            "execution_count": null, 
            "cell_type": "code", 
            "metadata": {}, 
            "outputs": [], 
            "source": "plt.figure(figsize=(15,3))\nfor deg in range(1, 6):\n    plt.subplot(1, 6, deg)\n    beta = np.polyfit(x, y, deg)\n    plt.plot(x, y, 'r:o')\n    plt.plot(x, np.polyval(beta, x), 'b-')\n    plt.title('Degree = %d' % deg)\n    plt.margins(0.04)"
        }, 
        {
            "execution_count": null, 
            "cell_type": "code", 
            "metadata": {}, 
            "outputs": [], 
            "source": "def loocv(x, y, fit, pred, deg):\n    \"\"\"LOOCV RSS for fitting a polynomial model.\"\"\"\n    n = len(x)\n    idx = np.arange(n)\n    rss = np.sum([(y - pred(fit(x[idx!=i], y[idx!=i], deg), x))**2.0 for i in range(n)])\n    return rss"
        }, 
        {
            "execution_count": null, 
            "cell_type": "code", 
            "metadata": {}, 
            "outputs": [], 
            "source": "# RSS does not detect overfitting and selects the most complex model\nfor deg in range(1, 6):\n    print('Degree = %d, RSS=%.2f' % (deg, np.sum((y - np.polyval(np.polyfit(x, y, deg), x))**2.0)))"
        }, 
        {
            "execution_count": null, 
            "cell_type": "code", 
            "metadata": {}, 
            "outputs": [], 
            "source": "# LOOCV selects a more conservative model\nimport warnings\n\nwith warnings.catch_warnings():\n    warnings.simplefilter('ignore')\n    for deg in range(1, 6):\n        print('Degree = %d, RSS=%.2f' % (deg, loocv(x, y, np.polyfit, np.polyval, deg)))"
        }, 
        {
            "source": "Simulations to estimate power\n----\n\nWhat sample size is needed for the t-test to have a power of 0.8 with an effect size of 0.5?\n\nThis is a toy example, since you can calculate it exactly,  but the simulation approach works for *everything*, including arbitrarily complex experimental designs, correcting for multiple comparisons and so on (assuming infinite computational resources).", 
            "cell_type": "markdown", 
            "metadata": {}
        }, 
        {
            "execution_count": null, 
            "cell_type": "code", 
            "metadata": {}, 
            "outputs": [], 
            "source": "# Run nresps simulations\n# The power is simply the fraction of reps where \n# the p-value is less than 0.05\n\nnreps = 10000\nd = 0.5\n\nn = 50\npower = 0\nwhile power < 0.8:\n    n1 = n2 = n\n    x = np.random.normal(0, 1, (n1, nreps))\n    y = np.random.normal(d, 1, (n2, nreps))\n    t, p = stats.ttest_ind(x, y)\n    power = (p < 0.05).sum()/nreps\n    print(n, power)\n    n += 1"
        }, 
        {
            "source": "### Check with R", 
            "cell_type": "markdown", 
            "metadata": {}
        }, 
        {
            "execution_count": null, 
            "cell_type": "code", 
            "metadata": {}, 
            "outputs": [], 
            "source": "%load_ext rpy2.ipython"
        }, 
        {
            "execution_count": null, 
            "cell_type": "code", 
            "metadata": {}, 
            "outputs": [], 
            "source": "%%R\nlibrary(pwr)\n\npower.t.test(sig.level=0.05, power=0.8, delta = 0.5)"
        }, 
        {
            "source": "## Estimating CDF and PDF from Monte Carlo samples\n\nGiven a bunch of random numbers from a simulation experiment, one of the first steps is to visualize the CDF and PDF. The ECDF is quite useful for, say, visualizing how similar or different two sets of data are.", 
            "cell_type": "markdown", 
            "metadata": {}
        }, 
        {
            "source": "### Estimating the CDF", 
            "cell_type": "markdown", 
            "metadata": {}
        }, 
        {
            "execution_count": null, 
            "cell_type": "code", 
            "metadata": {}, 
            "outputs": [], 
            "source": "# Make up some random data\nx = np.r_[np.random.normal(0, 1, 10000), \n          np.random.normal(4, 1, 10000)]"
        }, 
        {
            "execution_count": null, 
            "cell_type": "code", 
            "metadata": {}, 
            "outputs": [], 
            "source": "# Roll our own ECDF function\n\ndef ecdf(x):\n    \"\"\"Return empirical CDF of x.\"\"\"\n    \n    sx = np.sort(x)\n    cdf = (1.0 + np.arange(len(sx)))/len(sx)\n    return sx, cdf"
        }, 
        {
            "execution_count": null, 
            "cell_type": "code", 
            "metadata": {}, 
            "outputs": [], 
            "source": "sx, y = ecdf(x)\nplt.plot(sx, y)\npass"
        }, 
        {
            "source": "#### Using library routines", 
            "cell_type": "markdown", 
            "metadata": {}
        }, 
        {
            "execution_count": null, 
            "cell_type": "code", 
            "metadata": {}, 
            "outputs": [], 
            "source": "from statsmodels.distributions.empirical_distribution import ECDF\n\necdf = ECDF(x)\nplt.plot(ecdf.x, ecdf.y)\npass"
        }, 
        {
            "source": "### Estimating the PDF\n\nThe simplest is to plot a normalized histogram as shown above, but we will also look at how to estimate density functions using kernel density estimation (KDE). KDE works by placing a kernel unit on each data point, and summing the kernels to present a smoother estimate than you would get with a (n-d) histogram.", 
            "cell_type": "markdown", 
            "metadata": {}
        }, 
        {
            "execution_count": null, 
            "cell_type": "code", 
            "metadata": {}, 
            "outputs": [], 
            "source": "def epanechnikov(u):\n    \"\"\"Epanechnikov kernel.\"\"\"\n    return np.where(np.abs(u) <= np.sqrt(5), 3/(4*np.sqrt(5)) * (1 - u*u/5.0), 0)\n\ndef silverman(y):\n    \"\"\"Find bandwidth using heuristic suggested by Silverman\n    .9 min(standard deviation, interquartile range/1.34)n\u22121/5\n    \"\"\"\n    n = len(y)\n    iqr = np.subtract(*np.percentile(y, [75, 25]))\n    h = 0.9*np.min([y.std(ddof=1), iqr/1.34])*n**-0.2\n    return h\n\ndef kde(x, y, bandwidth=silverman, kernel=epanechnikov):\n    \"\"\"Returns kernel density estimate.\n    x are the points for evaluation\n    y is the data to be fitted\n    bandwidth is a function that returens the smoothing parameter h\n    kernel is a function that gives weights to neighboring data\n    \"\"\"\n    h = bandwidth(y)\n    return np.sum(kernel((x-y[:, None])/h)/h, axis=0)/len(y)"
        }, 
        {
            "execution_count": null, 
            "cell_type": "code", 
            "metadata": {}, 
            "outputs": [], 
            "source": "xs = np.linspace(-5,8,100)\ndensity = kde(xs, x)\nplt.plot(xs, density)\nxlim = plt.xlim()\npass"
        }, 
        {
            "source": "#### Or just use `seaborn`", 
            "cell_type": "markdown", 
            "metadata": {}
        }, 
        {
            "execution_count": null, 
            "cell_type": "code", 
            "metadata": {}, 
            "outputs": [], 
            "source": "sns.kdeplot(x, kernel='epa', bw='silverman', shade=True)\nplt.xlim(xlim)\npass"
        }, 
        {
            "source": "#### Other library routines\n\nThere are several kernel density estimation routines available in `scipy`, `statsmodels` and `scikit-leran`. Here we will use the `scikits-learn` and `statsmodels` routine as examples.", 
            "cell_type": "markdown", 
            "metadata": {}
        }, 
        {
            "execution_count": null, 
            "cell_type": "code", 
            "metadata": {}, 
            "outputs": [], 
            "source": "import statsmodels.api as sm\n\ndens = sm.nonparametric.KDEUnivariate(x)\ndens.fit(kernel='gau')\nplt.plot(xs, dens.evaluate(xs))\npass"
        }, 
        {
            "execution_count": null, 
            "cell_type": "code", 
            "metadata": {}, 
            "outputs": [], 
            "source": "from sklearn.neighbors import KernelDensity \n\n# expects n x p matrix with p features\nx.shape = (len(x), 1)\nxs.shape = (len(xs), 1)\n\nkde = KernelDensity(kernel='epanechnikov').fit(x)\ndens = np.exp(kde.score_samples(xs))\nplt.plot(xs, dens)\npass"
        }
    ], 
    "metadata": {
        "kernelspec": {
            "display_name": "Python 3.5", 
            "name": "python3", 
            "language": "python"
        }, 
        "latex_envs": {
            "current_citInitial": 1, 
            "eqLabelWithNumbers": true, 
            "cite_by": "apalike", 
            "bibliofile": "biblio.bib", 
            "eqNumInitial": 0
        }, 
        "language_info": {
            "mimetype": "text/x-python", 
            "nbconvert_exporter": "python", 
            "version": "3.5.4", 
            "name": "python", 
            "file_extension": ".py", 
            "pygments_lexer": "ipython3", 
            "codemirror_mode": {
                "version": 3, 
                "name": "ipython"
            }
        }, 
        "anaconda-cloud": {}
    }, 
    "nbformat": 4
}