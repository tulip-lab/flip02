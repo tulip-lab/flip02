{
    "nbformat": 4, 
    "cells": [
        {
            "source": "# Modern Data Science \n**(Module 02: Data Visualization)**\n\n---\n- Materials in this module include resources collected from various open-source online repositories.\n- You are free to use, change and distribute this package.\n\nPrepared by and for \n**Student Members** |\n2006-2018 [TULIP Lab](http://www.tulip.org.au), Australia\n\n---\n\n# Session M: 3D Plots\n\n## Contents\n\n- [3D scatter plot](#3D-scatter-plot)\n\n- [3D scatter plot with eigenvectors](#3D-scatter-plot-with-eigenvectors)\n\n- [3D cube](#3D-cube)\n\n- [Multivariate Gaussian distribution with colored surface](#Multivariate-Gaussian-distribution-with-colored-surface)\n\n- [Multivariate Gaussian distribution as mesh grid](#Multivariate-Gaussian-distribution-as-mesh-grid)\n\n\n[Sebastian Raschka](http://www.sebastianraschka.com)\n\n[back](https://github.com/rasbt/matplotlib-gallery) to the `matplotlib-gallery` at [https://github.com/rasbt/matplotlib-gallery](https://github.com/rasbt/matplotlib-gallery)", 
            "cell_type": "markdown", 
            "metadata": {}
        }, 
        {
            "outputs": [], 
            "execution_count": null, 
            "cell_type": "code", 
            "source": "!pip install watermark\n", 
            "metadata": {}
        }, 
        {
            "outputs": [], 
            "execution_count": null, 
            "cell_type": "code", 
            "source": "%load_ext watermark", 
            "metadata": {}
        }, 
        {
            "outputs": [], 
            "execution_count": null, 
            "cell_type": "code", 
            "source": "%watermark -u -v -d -p matplotlib,numpy", 
            "metadata": {}
        }, 
        {
            "source": "<font size=\"1.5em\">[More info](http://nbviewer.ipython.org/github/rasbt/python_reference/blob/master/ipython_magic/watermark.ipynb) about the `%watermark` extension</font>", 
            "cell_type": "markdown", 
            "metadata": {}
        }, 
        {
            "outputs": [], 
            "execution_count": null, 
            "cell_type": "code", 
            "source": "%matplotlib inline", 
            "metadata": {}
        }, 
        {
            "source": "# 3D scatter\n[[back to top](#Sections)]", 
            "cell_type": "markdown", 
            "metadata": {}
        }, 
        {
            "outputs": [], 
            "execution_count": null, 
            "cell_type": "code", 
            "source": "from mpl_toolkits.mplot3d import Axes3D\nimport numpy as np\nfrom matplotlib import pyplot as plt\n\n# Generate some 3D sample data\nmu_vec1 = np.array([0,0,0]) # mean vector\ncov_mat1 = np.array([[1,0,0],[0,1,0],[0,0,1]]) # covariance matrix\n\nclass1_sample = np.random.multivariate_normal(mu_vec1, cov_mat1, 20)\nclass2_sample = np.random.multivariate_normal(mu_vec1 + 1, cov_mat1, 20)\nclass3_sample = np.random.multivariate_normal(mu_vec1 + 2, cov_mat1, 20)\n\n# class1_sample.shape -> (20, 3), 20 rows, 3 columns\n\nfig = plt.figure(figsize=(8,8))\nax = fig.add_subplot(111, projection='3d')\n   \nax.scatter(class1_sample[:,0], class1_sample[:,1], class1_sample[:,2], \n           marker='x', color='blue', s=40, label='class 1')\nax.scatter(class2_sample[:,0], class2_sample[:,1], class2_sample[:,2], \n           marker='o', color='green', s=40, label='class 2')\nax.scatter(class3_sample[:,0], class3_sample[:,1], class3_sample[:,2], \n           marker='^', color='red', s=40, label='class 3')\n\nax.set_xlabel('variable X')\nax.set_ylabel('variable Y')\nax.set_zlabel('variable Z')\n\nplt.title('3D Scatter Plot')\n     \nplt.show()", 
            "metadata": {}
        }, 
        {
            "source": "<br>\n<br>", 
            "cell_type": "markdown", 
            "metadata": {}
        }, 
        {
            "source": "# 3D scatter plot with eigenvectors", 
            "cell_type": "markdown", 
            "metadata": {}
        }, 
        {
            "source": "[[back to top](#Sections)]", 
            "cell_type": "markdown", 
            "metadata": {}
        }, 
        {
            "outputs": [], 
            "execution_count": null, 
            "cell_type": "code", 
            "source": "import numpy as np\nfrom matplotlib import pyplot as plt\nfrom mpl_toolkits.mplot3d import Axes3D\nfrom matplotlib.patches import FancyArrowPatch\nfrom mpl_toolkits.mplot3d import proj3d\n\nclass Arrow3D(FancyArrowPatch):\n    def __init__(self, xs, ys, zs, *args, **kwargs):\n        FancyArrowPatch.__init__(self, (0,0), (0,0), *args, **kwargs)\n        self._verts3d = xs, ys, zs\n\n    def draw(self, renderer):\n        xs3d, ys3d, zs3d = self._verts3d\n        xs, ys, zs = proj3d.proj_transform(xs3d, ys3d, zs3d, renderer.M)\n        self.set_positions((xs[0],ys[0]),(xs[1],ys[1]))\n        FancyArrowPatch.draw(self, renderer)\n\n\n# Generate some example data\nmu_vec1 = np.array([0,0,0])\ncov_mat1 = np.array([[1,0,0],[0,1,0],[0,0,1]])\nclass1_sample = np.random.multivariate_normal(mu_vec1, cov_mat1, 20)\n\nmu_vec2 = np.array([1,1,1])\ncov_mat2 = np.array([[1,0,0],[0,1,0],[0,0,1]])\nclass2_sample = np.random.multivariate_normal(mu_vec2, cov_mat2, 20)\n\n# concatenate data for PCA\nsamples = np.concatenate((class1_sample, class2_sample), axis=0)\n\n# mean values\nmean_x = np.mean(samples[:,0])\nmean_y = np.mean(samples[:,1])\nmean_z = np.mean(samples[:,2])\n\n#eigenvectors and eigenvalues\neig_val, eig_vec = np.linalg.eig(cov_mat1)\n\n################################\n#plotting eigenvectors\n################################    \n\nfig = plt.figure(figsize=(10,10))\nax = fig.add_subplot(111, projection='3d')\n\nax.plot(samples[:,0], samples[:,1], samples[:,2], 'o', markersize=10, color='green', alpha=0.2)\nax.plot([mean_x], [mean_y], [mean_z], 'o', markersize=10, color='red', alpha=0.5)\nfor v in eig_vec.T:\n    a = Arrow3D([mean_x, v[0]], [mean_y, v[1]], \n                [mean_z, v[2]], mutation_scale=20, lw=3, arrowstyle=\"-|>\", color=\"r\")\n    ax.add_artist(a)\nax.set_xlabel('variable X')\nax.set_ylabel('variable Y')\nax.set_zlabel('variable Z')\n\nplt.title('3D scatter plot with eigenvectors')\n\nplt.show()", 
            "metadata": {}
        }, 
        {
            "source": "<br>\n<br>", 
            "cell_type": "markdown", 
            "metadata": {}
        }, 
        {
            "source": "# 3D cube", 
            "cell_type": "markdown", 
            "metadata": {}
        }, 
        {
            "source": "[[back to top](#Sections)]", 
            "cell_type": "markdown", 
            "metadata": {}
        }, 
        {
            "outputs": [], 
            "execution_count": null, 
            "cell_type": "code", 
            "source": "from mpl_toolkits.mplot3d import Axes3D\nimport matplotlib.pyplot as plt\nimport numpy as np\nfrom itertools import product, combinations\nfig = plt.figure(figsize=(7,7))\nax = fig.gca(projection='3d')\nax.set_aspect(\"equal\")\n\n# Plot Points\n\n# samples within the cube\nX_inside = np.array([[0,0,0],[0.2,0.2,0.2],[0.1, -0.1, -0.3]])\n\nX_outside = np.array([[-1.2,0.3,-0.3],[0.8,-0.82,-0.9],[1, 0.6, -0.7],\n                      [0.8,0.7,0.2],[0.7,-0.8,-0.45],[-0.3, 0.6, 0.9],\n                      [0.7,-0.6,-0.8]])\n\nfor row in X_inside:\n    ax.scatter(row[0], row[1], row[2], color=\"r\", s=50, marker='^')\n\nfor row in X_outside:    \n    ax.scatter(row[0], row[1], row[2], color=\"k\", s=50)\n\n# Plot Cube\nh = [-0.5, 0.5]\nfor s, e in combinations(np.array(list(product(h,h,h))), 2):\n    if np.sum(np.abs(s-e)) == h[1]-h[0]:\n        ax.plot3D(*zip(s,e), color=\"g\")\n        \nax.set_xlim(-1.5, 1.5)\nax.set_ylim(-1.5, 1.5)\nax.set_zlim(-1.5, 1.5)\n\nplt.show()", 
            "metadata": {}
        }, 
        {
            "source": "<br>\n<br>", 
            "cell_type": "markdown", 
            "metadata": {}
        }, 
        {
            "source": "# Multivariate Gaussian distribution with colored surface", 
            "cell_type": "markdown", 
            "metadata": {}
        }, 
        {
            "source": "[[back to top](#Sections)]", 
            "cell_type": "markdown", 
            "metadata": {}
        }, 
        {
            "outputs": [], 
            "execution_count": null, 
            "cell_type": "code", 
            "source": "import numpy as np\nfrom matplotlib import pyplot as plt\nfrom matplotlib.mlab import bivariate_normal\nfrom mpl_toolkits.mplot3d import Axes3D\n\nfig = plt.figure(figsize=(10, 7))\nax = fig.gca(projection='3d')\nx = np.linspace(-5, 5, 200)\ny = x\nX,Y = np.meshgrid(x, y)\nZ = bivariate_normal(X, Y)\nsurf = ax.plot_surface(X, Y, Z, rstride=1, cstride=1, cmap=plt.cm.coolwarm,\n        linewidth=0, antialiased=False)\n\nax.set_zlim(0, 0.2)\n\nax.zaxis.set_major_locator(plt.LinearLocator(10))\nax.zaxis.set_major_formatter(plt.FormatStrFormatter('%.02f'))\n\nfig.colorbar(surf, shrink=0.5, aspect=7, cmap=plt.cm.coolwarm)\n\nplt.show()", 
            "metadata": {}
        }, 
        {
            "source": "<br>\n<br>", 
            "cell_type": "markdown", 
            "metadata": {}
        }, 
        {
            "source": "# Multivariate Gaussian distribution as mesh grid", 
            "cell_type": "markdown", 
            "metadata": {}
        }, 
        {
            "source": "[[back to top](#Sections)]", 
            "cell_type": "markdown", 
            "metadata": {}
        }, 
        {
            "outputs": [], 
            "execution_count": null, 
            "cell_type": "code", 
            "source": "import numpy as np\nfrom matplotlib import pyplot as plt\nfrom matplotlib.mlab import bivariate_normal\nfrom mpl_toolkits.mplot3d import Axes3D\n\nfig = plt.figure(figsize=(10, 7))\nax = fig.gca(projection='3d')\nx = np.linspace(-5, 5, 200)\ny = x\nX,Y = np.meshgrid(x, y)\nZ = bivariate_normal(X, Y)\nsurf = ax.plot_wireframe(X, Y, Z, rstride=4, cstride=4, color='g', alpha=0.7)\n\nax.set_zlim(0, 0.2)\n\nax.zaxis.set_major_locator(plt.LinearLocator(10))\nax.zaxis.set_major_formatter(plt.FormatStrFormatter('%.02f'))\n\nax.set_xlabel('X')\nax.set_ylabel('Y')\nax.set_zlabel('p(x)')\n\nplt.title('bivariate Gassian')\n\nplt.show()", 
            "metadata": {}
        }
    ], 
    "metadata": {
        "language_info": {
            "pygments_lexer": "ipython2", 
            "nbconvert_exporter": "python", 
            "version": "2.7.11", 
            "mimetype": "text/x-python", 
            "name": "python", 
            "file_extension": ".py", 
            "codemirror_mode": {
                "version": 2, 
                "name": "ipython"
            }
        }, 
        "kernelspec": {
            "language": "python", 
            "display_name": "Python 2 with Spark 2.1", 
            "name": "python2-spark21"
        }, 
        "anaconda-cloud": {}
    }, 
    "nbformat_minor": 1
}