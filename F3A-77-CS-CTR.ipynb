{
    "nbformat_minor": 1, 
    "cells": [
        {
            "source": "# Modern Data Science \n**(Module 06: Apache Spark Platform)**\n\n---\n- Materials in this module include resources collected from various open-source online repositories.\n- You are free to use, change and distribute this package.\n\nPrepared by and for \n**Student Members** |\n2006-2018 [TULIP Lab](http://www.tulip.org.au), Australia\n\n---\n\n<font color='red' size = 4> Python 2.7 </font>\n## Session Q - Case Study: Click-Through Rate (CTR) Prediction\n---\n\nThis lab covers the steps for creating a click-through rate (CTR) prediction pipeline.  You will work with the Criteo Labs dataset that was used for a recent [Kaggle competition](https://www.kaggle.com/c/criteo-display-ad-challenge).\n\n\n### Content\n\n\n### Part 1  Parse CTR data and generate OHE features \n\n1.a [Loading and splitting the data](#lsd)\n\n1.b [Extract features](#ef)\n\n1.c [Create an OHE dictionary from the dataset](#cohedd)\n\n1.d [Apply OHE to the dataset](#aohed)\n\n\n### Part 2 Visualization: Feature frequency \n\n2.a [Handling unseen features](#huf)\n\n### Part 3 CTR prediction and logloss evaluation \n\n3.a [Logistic regression](#lr)\n\n3.b [Log loss](#ll)\n\n3.c [Baseline log loss](#bll)\n\n3.d [Predicted probability](#pp)\n\n3.e [Evaluate the model](#em)\n\n3.f [Validation log loss](#vll)\n\n### Part 4 Visualization: ROC Curve \n\n\n\n### Part 5 Reduce feature dimension via feature hashing\n\n5.a [Hash function](#hf)\n\n5.b [Creating hashed features](#chf)\n\n5.c [Sparsity](#s)\n\n5.d [Logistic model with hashed features](#lmhf)\n\n\n\n### Part 6 Visualization: Hyperparameter heat map\n\n6.a [Evaluate on the test set](#etd)", 
            "cell_type": "markdown", 
            "metadata": {}
        }, 
        {
            "source": "\n---\n## <span style=\"color:#0b486b\">1. Parse CTR data and generate OHE features</span>\n\n\nAssume that you have uploaded the file `dac_sample.txt` to DBFS, and noted down the address.", 
            "cell_type": "markdown", 
            "metadata": {}
        }, 
        {
            "execution_count": null, 
            "cell_type": "code", 
            "metadata": {
                "scrolled": true
            }, 
            "outputs": [], 
            "source": "import wget\n\nlink_to_data = 'https://github.com/tuliplab/mds/raw/master/Jupyter/data/dac_sample.txt'\nDataSet = wget.download(link_to_data)"
        }, 
        {
            "execution_count": null, 
            "cell_type": "code", 
            "metadata": {
                "scrolled": true
            }, 
            "outputs": [], 
            "source": "!ls -l"
        }, 
        {
            "execution_count": null, 
            "cell_type": "code", 
            "metadata": {
                "scrolled": true
            }, 
            "outputs": [], 
            "source": "# You might need to change the fileName here depending on your file location\n# import os.path\n# baseDir = os.path.join('data')\n# inputPath = os.path.join( 'dac_sample.txt')\n# fileName = os.path.join(baseDir, inputPath)\n\n\nfileName = \"dac_sample.txt\"\n# if os.path.isfile(fileName):\nrawData = (sc\n           .textFile(fileName, 2)\n           .map(lambda x: x.replace('\\t', ',')))  # work with either ',' or '\\t' separated data\nprint rawData.take(1)"
        }, 
        {
            "source": "<a id = \"lsd\"></a>\n\n### <span style=\"color:#0b486b\">1.a Loading and splitting the data</span>\n\nWe are now ready to start working with the actual CTR data, and our first task involves splitting it into training, validation, and test sets.  Use the [randomSplit method](https://spark.apache.org/docs/latest/api/python/pyspark.html#pyspark.RDD.randomSplit) with the specified weights and seed to create RDDs storing each of these datasets, and then [cache](https://spark.apache.org/docs/latest/api/python/pyspark.html#pyspark.RDD.cache) each of these RDDs, as we will be accessing them multiple times in the remainder of this lab. Finally, compute the size of each dataset.", 
            "cell_type": "markdown", 
            "metadata": {}
        }, 
        {
            "execution_count": null, 
            "cell_type": "code", 
            "metadata": {
                "scrolled": true
            }, 
            "outputs": [], 
            "source": "# TODO: Replace <FILL IN> with appropriate code\nweights = [.8, .1, .1]\nseed = 42\n# Use randomSplit with weights and seed\nrawTrainData, rawValidationData, rawTestData = rawData.<FILL IN>\n# Cache the data\n<FILL IN>\n\nnTrain = <FILL IN>\nnVal = <FILL IN>\nnTest = <FILL IN>\nprint nTrain, nVal, nTest, nTrain + nVal + nTest\nprint rawData.take(1)"
        }, 
        {
            "source": "<div align=\"right\">\n<a href=\"#mat1\" class=\"btn btn-default\" data-toggle=\"collapse\">Click here for the solution</a>\n</div>\n<div id=\"mat1\" class=\"collapse\">\n```\nweights = [.8, .1, .1]\nseed = 42\n\n# Use randomSplit with weights and seed\nrawTrainData, rawValidationData, rawTestData = rawData.randomSplit(weights, seed)\n# Cache the data\nrawTrainData.cache()\nrawValidationData.cache()\nrawTestData.cache()\n\nnTrain = rawTrainData.count()\nnVal = rawValidationData.count()\nnTest = rawTestData.count()\n\n```\n</div>", 
            "cell_type": "markdown", 
            "metadata": {}
        }, 
        {
            "execution_count": null, 
            "cell_type": "code", 
            "metadata": {
                "scrolled": true
            }, 
            "outputs": [], 
            "source": "# TEST Loading and splitting the data (3a)\n!pip install test_helper\n\nfrom test_helper import Test\nTest.assertTrue(all([rawTrainData.is_cached, rawValidationData.is_cached, rawTestData.is_cached]),\n                'you must cache the split data')\nTest.assertEquals(nTrain, 79911, 'incorrect value for nTrain')\nTest.assertEquals(nVal, 10075, 'incorrect value for nVal')\nTest.assertEquals(nTest, 10014, 'incorrect value for nTest')"
        }, 
        {
            "source": "<a id = \"ef\"></a>\n\n### <span style=\"color:#0b486b\">1.b Extract features</span>\n\n\nWe will now parse the raw training data to create an RDD that we can subsequently use to create an OHE dictionary. Note from the `take()` command in Part (1a) that each raw data point is a string containing several fields separated by some delimiter.  For now, we will ignore the first field (which is the 0-1 label), and parse the remaining fields (or raw features).  To do this, complete the implemention of the `parsePoint` function.", 
            "cell_type": "markdown", 
            "metadata": {}
        }, 
        {
            "execution_count": null, 
            "cell_type": "code", 
            "metadata": {
                "scrolled": true
            }, 
            "outputs": [], 
            "source": "# TODO: Replace <FILL IN> with appropriate code\ndef parsePoint(point):\n    \"\"\"Converts a comma separated string into a list of (featureID, value) tuples.\n\n    Note:\n        featureIDs should start at 0 and increase to the number of features - 1.\n\n    Args:\n        point (str): A comma separated string where the first value is the label and the rest\n            are features.\n\n    Returns:\n        list: A list of (featureID, value) tuples.\n    \"\"\"\n    <FILL IN>\n\nparsedTrainFeat = rawTrainData.map(parsePoint)\n\nnumCategories = (parsedTrainFeat\n                 .flatMap(lambda x: x)\n                 .distinct()\n                 .map(lambda x: (x[0], 1))\n                 .reduceByKey(lambda x, y: x + y)\n                 .sortByKey()\n                 .collect())\n\nprint numCategories[2][1]"
        }, 
        {
            "source": "<div align=\"right\">\n<a href=\"#mat2\" class=\"btn btn-default\" data-toggle=\"collapse\">Click here for the solution</a>\n</div>\n<div id=\"mat2\" class=\"collapse\">\n```\ndef parsePoint(point):\n    \"\"\"Converts a comma separated string into a list of (featureID, value) tuples.\n\n    Note:\n        featureIDs should start at 0 and increase to the number of features - 1.\n\n    Args:\n        point (str): A comma separated string where the first value is the label and the rest\n            are features.\n\n    Returns:\n        list: A list of (featureID, value) tuples.\n    \"\"\"\n    \n    # Here the enumerate() function returns an enumerate object. \n    # This object is a list of tuples, each containing a pair of count/index and value.\n    return list(enumerate(point.split(',')[1:]))\n\n\n```\n</div>", 
            "cell_type": "markdown", 
            "metadata": {}
        }, 
        {
            "execution_count": null, 
            "cell_type": "code", 
            "metadata": {
                "scrolled": true
            }, 
            "outputs": [], 
            "source": "# TEST Extract features (3b)\nTest.assertEquals(numCategories[2][1], 855, 'incorrect implementation of parsePoint')\nTest.assertEquals(numCategories[32][1], 4, 'incorrect implementation of parsePoint')"
        }, 
        {
            "source": "\n<a id = \"cohedd\"></a>\n\n### <span style=\"color:#0b486b\">1.c Create an OHE dictionary from the dataset</span>\n\n\nNote that parsePoint returns a data point as a list of `(featureID, category)` tuples, which is the same format as the sample dataset studied in OHE lab.  Using this observation, create an OHE dictionary using the function implemented in OHE lab. Note that we will assume for simplicity that all features in our CTR dataset are categorical.", 
            "cell_type": "markdown", 
            "metadata": {}
        }, 
        {
            "execution_count": null, 
            "cell_type": "code", 
            "metadata": {
                "scrolled": true
            }, 
            "outputs": [], 
            "source": "# TODO: Replace <FILL IN> with appropriate code\ndef createOneHotDict(inputData):\n  return (inputData.flatMap(lambda x:x)\n                   .distinct()\n                   .zipWithIndex()\n                   .collectAsMap())\n\nctrOHEDict = <FILL IN>\nnumCtrOHEFeats = len(ctrOHEDict.keys())\nprint numCtrOHEFeats\nprint ctrOHEDict[(0, '')]"
        }, 
        {
            "source": "<div align=\"right\">\n<a href=\"#mat3\" class=\"btn btn-default\" data-toggle=\"collapse\">Click here for the solution</a>\n</div>\n<div id=\"mat3\" class=\"collapse\">\n```\nctrOHEDict = createOneHotDict(parsedTrainFeat)\nnumCtrOHEFeats = len(ctrOHEDict.keys())\n\n```\n</div>", 
            "cell_type": "markdown", 
            "metadata": {}
        }, 
        {
            "execution_count": null, 
            "cell_type": "code", 
            "metadata": {
                "scrolled": true
            }, 
            "outputs": [], 
            "source": "# TEST Create an OHE dictionary from the dataset (3c)\nTest.assertEquals(numCtrOHEFeats, 233286, 'incorrect number of features in ctrOHEDict')\nTest.assertTrue((0, '') in ctrOHEDict, 'incorrect features in ctrOHEDict')"
        }, 
        {
            "source": "\n<a id = \"aohed\"></a>\n\n### <span style=\"color:#0b486b\">1.d Apply OHE to the dataset</span>\n\nNow let's use this OHE dictionary by starting with the raw training data and creating an RDD of [LabeledPoint](http://spark.apache.org/docs/1.3.1/api/python/pyspark.mllib.html#pyspark.mllib.regression.LabeledPoint) objects using OHE features.  To do this, complete the implementation of the `parseOHEPoint` function. Hint: `parseOHEPoint` is an extension of the `parsePoint` function from Part (1b) and it uses the `oneHotEncoding` function from OHE lab.", 
            "cell_type": "markdown", 
            "metadata": {}
        }, 
        {
            "execution_count": null, 
            "cell_type": "code", 
            "metadata": {
                "scrolled": true
            }, 
            "outputs": [], 
            "source": "from pyspark.mllib.regression import LabeledPoint"
        }, 
        {
            "execution_count": null, 
            "cell_type": "code", 
            "metadata": {
                "scrolled": true
            }, 
            "outputs": [], 
            "source": "# TODO: Replace <FILL IN> with appropriate code\ndef parseOHEPoint(point, OHEDict, numOHEFeats):\n    \"\"\"Obtain the label and feature vector for this raw observation.\n\n    Note:\n        You must use the function `oneHotEncoding` in this implementation or later portions\n        of this lab may not function as expected.\n\n    Args:\n        point (str): A comma separated string where the first value is the label and the rest\n            are features.\n        OHEDict (dict of (int, str) to int): Mapping of (featureID, value) to unique integer.\n        numOHEFeats (int): The number of unique features in the training dataset.\n\n    Returns:\n        LabeledPoint: Contains the label for the observation and the one-hot-encoding of the\n            raw features based on the provided OHE dictionary.\n    \"\"\"\n    <FILL IN>\n\nOHETrainData = rawTrainData.map(lambda point: parseOHEPoint(point, ctrOHEDict, numCtrOHEFeats))\nOHETrainData.cache()\nprint OHETrainData.take(1)\n\n# Check that oneHotEncoding function was used in parseOHEPoint\nbackupOneHot = oneHotEncoding\noneHotEncoding = None\nwithOneHot = False\ntry: parseOHEPoint(rawTrainData.take(1)[0], ctrOHEDict, numCtrOHEFeats)\nexcept TypeError: withOneHot = True\noneHotEncoding = backupOneHot"
        }, 
        {
            "source": "<div align=\"right\">\n<a href=\"#mat4\" class=\"btn btn-default\" data-toggle=\"collapse\">Click here for the solution</a>\n</div>\n<div id=\"mat4\" class=\"collapse\">\n```\ndef parseOHEPoint(point, OHEDict, numOHEFeats):\n    \"\"\"Obtain the label and feature vector for this raw observation.\n\n    Note:\n        You must use the function `oneHotEncoding` in this implementation or later portions\n        of this lab may not function as expected.\n\n    Args:\n        point (str): A comma separated string where the first value is the label and the rest\n            are features.\n        OHEDict (dict of (int, str) to int): Mapping of (featureID, value) to unique integer.\n        numOHEFeats (int): The number of unique features in the training dataset.\n\n    Returns:\n        LabeledPoint: Contains the label for the observation and the one-hot-encoding of the\n            raw features based on the provided OHE dictionary.\n    \"\"\"\n    l = point.split(',')\n    return LabeledPoint(l[0], oneHotEncoding(list(enumerate(l[1:])), OHEDict, numOHEFeats))\n```\n</div>", 
            "cell_type": "markdown", 
            "metadata": {}
        }, 
        {
            "execution_count": null, 
            "cell_type": "code", 
            "metadata": {
                "scrolled": true
            }, 
            "outputs": [], 
            "source": "# TEST Apply OHE to the dataset (3d)\nnumNZ = sum(parsedTrainFeat.map(lambda x: len(x)).take(5))\nnumNZAlt = sum(OHETrainData.map(lambda lp: len(lp.features.indices)).take(5))\nTest.assertEquals(numNZ, numNZAlt, 'incorrect implementation of parseOHEPoint')\nTest.assertTrue(withOneHot, 'oneHotEncoding not present in parseOHEPoint')"
        }, 
        {
            "source": "---\n## <span style=\"color:#0b486b\">2. Featurize frequency</span>\n \nWe will now visualize the number of times each of the 233,286 OHE features appears in the training data. We first compute the number of times each feature appears, then bucket the features by these counts.  The buckets are sized by powers of 2, so the first bucket corresponds to features that appear exactly once ( $ \\scriptsize 2^0 $ ), the second to features that appear twice ( $ \\scriptsize 2^1 $ ), the third to features that occur between three and four ( $ \\scriptsize 2^2 $ ) times, the fifth bucket is five to eight ( $ \\scriptsize 2^3 $ ) times and so on. The scatter plot below shows the logarithm of the bucket thresholds versus the logarithm of the number of features that have counts that fall in the buckets.", 
            "cell_type": "markdown", 
            "metadata": {}
        }, 
        {
            "execution_count": null, 
            "cell_type": "code", 
            "metadata": {
                "scrolled": true
            }, 
            "outputs": [], 
            "source": "def bucketFeatByCount(featCount):\n    \"\"\"Bucket the counts by powers of two.\"\"\"\n    for i in range(11):\n        size = 2 ** i\n        if featCount <= size:\n            return size\n    return -1\n\nfeatCounts = (OHETrainData\n              .flatMap(lambda lp: lp.features.indices)\n              .map(lambda x: (x, 1))\n              .reduceByKey(lambda x, y: x + y))\nfeatCountsBuckets = (featCounts\n                     .map(lambda x: (bucketFeatByCount(x[1]), 1))\n                     .filter(lambda (k, v): k != -1)\n                     .reduceByKey(lambda x, y: x + y)\n                     .collect())\nprint featCountsBuckets"
        }, 
        {
            "execution_count": null, 
            "cell_type": "code", 
            "metadata": {
                "scrolled": true
            }, 
            "outputs": [], 
            "source": "import matplotlib.pyplot as plt\nimport numpy as np\n\nx, y = zip(*featCountsBuckets)\nx, y = np.log(x), np.log(y)\n\ndef preparePlot(xticks, yticks, figsize=(10.5, 6), hideLabels=False, gridColor='#999999',\n                gridWidth=1.0):\n    \"\"\"Template for generating the plot layout.\"\"\"\n    plt.close()\n    fig, ax = plt.subplots(figsize=figsize, facecolor='white', edgecolor='white')\n    ax.axes.tick_params(labelcolor='#999999', labelsize='10')\n    for axis, ticks in [(ax.get_xaxis(), xticks), (ax.get_yaxis(), yticks)]:\n        axis.set_ticks_position('none')\n        axis.set_ticks(ticks)\n        axis.label.set_color('#999999')\n        if hideLabels: axis.set_ticklabels([])\n    plt.grid(color=gridColor, linewidth=gridWidth, linestyle='-')\n    map(lambda position: ax.spines[position].set_visible(False), ['bottom', 'top', 'left', 'right'])\n    return fig, ax\n\n# generate layout and plot data\nfig, ax = preparePlot(np.arange(0, 10, 1), np.arange(4, 14, 2))\nax.set_xlabel(r'$\\log_e(bucketSize)$'), ax.set_ylabel(r'$\\log_e(countInBucket)$')\nplt.scatter(x, y, s=14**2, c='#d6ebf2', edgecolors='#8cbfd0', alpha=0.75)\n\ndisplay(fig)\npass"
        }, 
        {
            "source": "<a id = \"huf\"></a>\n\n### <span style=\"color:#0b486b\">2.a Handling unseen features</span>\n\n\nWe naturally would like to repeat the process from Part (1d), e.g., to compute OHE features for the validation and test datasets.  However, we must be careful, as some categorical values will likely appear in new data that did not exist in the training data. \n\nTo deal with this situation, update the `oneHotEncoding()` function from OHE to ignore previously unseen categories, and then compute OHE features for the validation data.", 
            "cell_type": "markdown", 
            "metadata": {}
        }, 
        {
            "execution_count": null, 
            "cell_type": "code", 
            "metadata": {
                "scrolled": true
            }, 
            "outputs": [], 
            "source": "# TODO: Replace <FILL IN> with appropriate code\ndef oneHotEncoding(rawFeats, OHEDict, numOHEFeats):\n    \"\"\"Produce a one-hot-encoding from a list of features and an OHE dictionary.\n\n    Note:\n        If a (featureID, value) tuple doesn't have a corresponding key in OHEDict it should be\n        ignored.\n\n    Args:\n        rawFeats (list of (int, str)): The features corresponding to a single observation.  Each\n            feature consists of a tuple of featureID and the feature's value. (e.g. sampleOne)\n        OHEDict (dict): A mapping of (featureID, value) to unique integer.\n        numOHEFeats (int): The total number of unique OHE features (combinations of featureID and\n            value).\n\n    Returns:\n        SparseVector: A SparseVector of length numOHEFeats with indicies equal to the unique\n            identifiers for the (featureID, value) combinations that occur in the observation and\n            with values equal to 1.0.\n    \"\"\"\n    <FILL IN>\n\nOHEValidationData = rawValidationData.map(lambda point: parseOHEPoint(point, ctrOHEDict, numCtrOHEFeats))\nOHEValidationData.cache()\nprint OHEValidationData.take(1)"
        }, 
        {
            "source": "<div align=\"right\">\n<a href=\"#mat5\" class=\"btn btn-default\" data-toggle=\"collapse\">Click here for the solution</a>\n</div>\n<div id=\"mat5\" class=\"collapse\">\n```\ndef oneHotEncoding(rawFeats, OHEDict, numOHEFeats):\n    \"\"\"Produce a one-hot-encoding from a list of features and an OHE dictionary.\n\n    Note:\n        If a (featureID, value) tuple doesn't have a corresponding key in OHEDict it should be\n        ignored.\n\n    Args:\n        rawFeats (list of (int, str)): The features corresponding to a single observation.  Each\n            feature consists of a tuple of featureID and the feature's value. (e.g. sampleOne)\n        OHEDict (dict): A mapping of (featureID, value) to unique integer.\n        numOHEFeats (int): The total number of unique OHE features (combinations of featureID and\n            value).\n\n    Returns:\n        SparseVector: A SparseVector of length numOHEFeats with indicies equal to the unique\n            identifiers for the (featureID, value) combinations that occur in the observation and\n            with values equal to 1.0.\n    \"\"\"\n    sparse_ix = []\n    sparse_val = []\n    for f in rawFeats:\n        if f in OHEDict:\n            sparse_ix.append(OHEDict[f])\n            sparse_val.append(1)\n\n    # for the use of \"*\" here, refer to Section 4.7.4 of the following link:\n    # https://docs.python.org/2/tutorial/controlflow.html#tut-unpacking-arguments    \n    sparse_ix, sparse_val =   zip(*[(i, j) for i, j in sorted(zip(sparse_ix, sparse_val))])\n\n    return SparseVector(numOHEFeats, sparse_ix, sparse_val)\n\n```\n</div>", 
            "cell_type": "markdown", 
            "metadata": {}
        }, 
        {
            "execution_count": null, 
            "cell_type": "code", 
            "metadata": {
                "scrolled": true
            }, 
            "outputs": [], 
            "source": "# TEST Handling unseen features (3e)\nnumNZVal = (OHEValidationData\n            .map(lambda lp: len(lp.features.indices))\n            .sum())\nTest.assertEquals(numNZVal, 372080, 'incorrect number of features')"
        }, 
        {
            "source": "---\n## <span style=\"color:#0b486b\">3. CTR prediction and logloss evaluation</span>\n\n<a id = \"lr\"></a>\n### <span style=\"color:#0b486b\">3.a Logistic regression</span>\n\nWe are now ready to train our first CTR classifier.  A natural classifier to use in this setting is logistic regression, since it models the probability of a click-through event rather than returning a binary response, and when working with rare events, probabilistic predictions are useful.  First use [LogisticRegressionWithSGD](https://spark.apache.org/docs/latest/api/python/pyspark.mllib.html#pyspark.mllib.classification.LogisticRegressionWithSGD) to train a model using `OHETrainData` with the given hyperparameter configuration.  `LogisticRegressionWithSGD` returns a [LogisticRegressionModel](https://spark.apache.org/docs/latest/api/python/pyspark.mllib.html#pyspark.mllib.regression.LogisticRegressionModel).  Next, use the `LogisticRegressionModel.weights` and `LogisticRegressionModel.intercept` attributes to print out the model's parameters.  Note that these are the names of the object's attributes and should be called using a syntax like `model.weights` for a given `model`.", 
            "cell_type": "markdown", 
            "metadata": {}
        }, 
        {
            "execution_count": null, 
            "cell_type": "code", 
            "metadata": {
                "scrolled": true
            }, 
            "outputs": [], 
            "source": "from pyspark.mllib.classification import LogisticRegressionWithSGD\n\n# fixed hyperparameters\nnumIters = 50\nstepSize = 10.\nregParam = 1e-6\nregType = 'l2'\nincludeIntercept = True"
        }, 
        {
            "execution_count": null, 
            "cell_type": "code", 
            "metadata": {
                "scrolled": true
            }, 
            "outputs": [], 
            "source": "# TODO: Replace <FILL IN> with appropriate code\nmodel0 = <FILL IN>\nsortedWeights = sorted(model0.weights)\nprint sortedWeights[:5], model0.intercept"
        }, 
        {
            "source": "<div align=\"right\">\n<a href=\"#mat6\" class=\"btn btn-default\" data-toggle=\"collapse\">Click here for the solution</a>\n</div>\n<div id=\"mat6\" class=\"collapse\">\n```\nmodel0 = LogisticRegressionWithSGD.train(\n    OHETrainData, iterations=numIters, step=stepSize, regParam=regParam, regType=regType,\n    intercept=includeIntercept\n)\nsortedWeights = sorted(model0.weights)\n```\n</div>", 
            "cell_type": "markdown", 
            "metadata": {}
        }, 
        {
            "execution_count": null, 
            "cell_type": "code", 
            "metadata": {
                "scrolled": true
            }, 
            "outputs": [], 
            "source": "# TEST Logistic regression (4a)\nTest.assertTrue(np.allclose(model0.intercept,  0.56455084025), 'incorrect value for model0.intercept')\nTest.assertTrue(np.allclose(sortedWeights[0:5],\n                [-0.45899236853575609, -0.37973707648623956, -0.36996558266753304,\n                 -0.36934962879928263, -0.32697945415010637]), 'incorrect value for model0.weights')"
        }, 
        {
            "source": "<a id = \"ll\"></a>\n### <span style=\"color:#0b486b\">3.b Log loss</span>\n\nThroughout this lab, we will use log loss to evaluate the quality of models.  Log loss is defined as: $$  \\begin{align} \\scriptsize \\ell_{log}(p, y) = \\begin{cases} -\\log (p) & \\text{if } y = 1 \\\\\\ -\\log(1-p) & \\text{if } y = 0 \\end{cases} \\end{align} $$ where $ \\scriptsize p$ is a probability between 0 and 1 and $ \\scriptsize y$ is a label of either 0 or 1. Log loss is a standard evaluation criterion when predicting rare-events such as click-through rate prediction (it is also the criterion used in the [Criteo Kaggle competition](https://www.kaggle.com/c/criteo-display-ad-challenge)).  Write a function to compute log loss, and evaluate it on some sample inputs.", 
            "cell_type": "markdown", 
            "metadata": {}
        }, 
        {
            "execution_count": null, 
            "cell_type": "code", 
            "metadata": {
                "scrolled": true
            }, 
            "outputs": [], 
            "source": "# TODO: Replace <FILL IN> with appropriate code\nfrom math import log\n\ndef computeLogLoss(p, y):\n    \"\"\"Calculates the value of log loss for a given probabilty and label.\n\n    Note:\n        log(0) is undefined, so when p is 0 we need to add a small value (epsilon) to it\n        and when p is 1 we need to subtract a small value (epsilon) from it.\n\n    Args:\n        p (float): A probabilty between 0 and 1.\n        y (int): A label.  Takes on the values 0 and 1.\n\n    Returns:\n        float: The log loss value.\n    \"\"\"\n    epsilon = 10e-12\n    <FILL IN>\n\nprint computeLogLoss(.5, 1)\nprint computeLogLoss(.5, 0)\nprint computeLogLoss(.99, 1)\nprint computeLogLoss(.99, 0)\nprint computeLogLoss(.01, 1)\nprint computeLogLoss(.01, 0)\nprint computeLogLoss(0, 1)\nprint computeLogLoss(1, 1)\nprint computeLogLoss(1, 0)"
        }, 
        {
            "source": "<div align=\"right\">\n<a href=\"#mat7\" class=\"btn btn-default\" data-toggle=\"collapse\">Click here for the solution</a>\n</div>\n<div id=\"mat7\" class=\"collapse\">\n```\ndef computeLogLoss(p, y):\n    \"\"\"Calculates the value of log loss for a given probabilty and label.\n\n    Note:\n        log(0) is undefined, so when p is 0 we need to add a small value (epsilon) to it\n        and when p is 1 we need to subtract a small value (epsilon) from it.\n\n    Args:\n        p (float): A probabilty between 0 and 1.\n        y (int): A label.  Takes on the values 0 and 1.\n\n    Returns:\n        float: The log loss value.\n    \"\"\"\n    epsilon = 10e-12\n    if p == 1:\n        p -= epsilon\n    if p == 0:\n        p += epsilon\n\n    if y == 0:\n        return -1 * log(1 - p)\n    elif y == 1:\n        return -1 * log(p)\n\n```\n</div>", 
            "cell_type": "markdown", 
            "metadata": {}
        }, 
        {
            "execution_count": null, 
            "cell_type": "code", 
            "metadata": {
                "scrolled": true
            }, 
            "outputs": [], 
            "source": "# TEST Log loss (4b)\nTest.assertTrue(np.allclose([computeLogLoss(.5, 1), computeLogLoss(.01, 0), computeLogLoss(.01, 1)],\n                            [0.69314718056, 0.0100503358535, 4.60517018599]),\n                'computeLogLoss is not correct')\nTest.assertTrue(np.allclose([computeLogLoss(0, 1), computeLogLoss(1, 1), computeLogLoss(1, 0)],\n                            [25.3284360229, 1.00000008275e-11, 25.3284360229]),\n                'computeLogLoss needs to bound p away from 0 and 1 by epsilon')"
        }, 
        {
            "source": "<a id = \"bll\"></a>\n### <span style=\"color:#0b486b\">3.c Baseline log loss</span>\n\nNext we will use the function we wrote before to compute the baseline log loss on the training data. A very simple yet natural baseline model is one where we always make the same prediction independent of the given datapoint, setting the predicted value equal to the fraction of training points that correspond to click-through events (i.e., where the label is one). Compute this value (which is simply the mean of the training labels), and then use it to compute the training log loss for the baseline model.  The log loss for multiple observations is the mean of the individual log loss values.", 
            "cell_type": "markdown", 
            "metadata": {}
        }, 
        {
            "execution_count": null, 
            "cell_type": "code", 
            "metadata": {
                "scrolled": true
            }, 
            "outputs": [], 
            "source": "# TODO: Replace <FILL IN> with appropriate code\n# Note that our dataset has a very high click-through rate by design\n# In practice click-through rate can be one to two orders of magnitude lower\nclassOneFracTrain = <FILL IN>\nprint classOneFracTrain\n\nlogLossTrBase = <FILL IN>\nprint 'Baseline Train Logloss = {0:.3f}\\n'.format(logLossTrBase)"
        }, 
        {
            "source": "<div align=\"right\">\n<a href=\"#mat8\" class=\"btn btn-default\" data-toggle=\"collapse\">Click here for the solution</a>\n</div>\n<div id=\"mat8\" class=\"collapse\">\n```\nclassOneFracTrain = OHETrainData.map(lambda x: x.label).mean()\nprint classOneFracTrain\n\nlogLossTrBase = (OHETrainData\n                 .map(lambda x: computeLogLoss(classOneFracTrain, x.label))\n                 .mean())\nprint 'Baseline Train Logloss = {0:.3f}\\n'.format(logLossTrBase)\n```\n</div>", 
            "cell_type": "markdown", 
            "metadata": {}
        }, 
        {
            "execution_count": null, 
            "cell_type": "code", 
            "metadata": {
                "scrolled": true
            }, 
            "outputs": [], 
            "source": "# TEST Baseline log loss (4c)\nTest.assertTrue(np.allclose(classOneFracTrain, 0.22717773523), 'incorrect value for classOneFracTrain')\nTest.assertTrue(np.allclose(logLossTrBase, 0.535844), 'incorrect value for logLossTrBase')"
        }, 
        {
            "source": "<a id = \"pp\"></a>\n### <span style=\"color:#0b486b\">3.d Predicted probability</span>\n\nIn order to compute the log loss for the model we trained in Part (3a), we need to write code to generate predictions from this model. Write a function that computes the raw linear prediction from this logistic regression model and then passes it through a [sigmoid function](http://en.wikipedia.org/wiki/Sigmoid_function) $ \\scriptsize \\sigma(t) = (1+ e^{-t})^{-1} $ to return the model's probabilistic prediction. Then compute probabilistic predictions on the training data.\n\nNote that when incorporating an intercept into our predictions, we simply add the intercept to the value of the prediction obtained from the weights and features.  Alternatively, if the intercept was included as the first weight, we would need to add a corresponding feature to our data where the feature has the value one.  This is not the case here.", 
            "cell_type": "markdown", 
            "metadata": {}
        }, 
        {
            "execution_count": null, 
            "cell_type": "code", 
            "metadata": {
                "scrolled": true
            }, 
            "outputs": [], 
            "source": "# TODO: Replace <FILL IN> with appropriate code\nfrom math import exp #  exp(-t) = e^-t\n\ndef getP(x, w, intercept):\n    \"\"\"Calculate the probability for an observation given a set of weights and intercept.\n\n    Note:\n        We'll bound our raw prediction between 20 and -20 for numerical purposes.\n\n    Args:\n        x (SparseVector): A vector with values of 1.0 for features that exist in this\n            observation and 0.0 otherwise.\n        w (DenseVector): A vector of weights (betas) for the model.\n        intercept (float): The model's intercept.\n\n    Returns:\n        float: A probability between 0 and 1.\n    \"\"\"\n    rawPrediction = <FILL IN>\n\n    # Bound the raw prediction value\n    rawPrediction = min(rawPrediction, 20)\n    rawPrediction = max(rawPrediction, -20)\n    return <FILL IN>\n\ntrainingPredictions = <FILL IN>\n\nprint trainingPredictions.take(5)"
        }, 
        {
            "source": "<div align=\"right\">\n<a href=\"#mat9\" class=\"btn btn-default\" data-toggle=\"collapse\">Click here for the solution</a>\n</div>\n<div id=\"mat9\" class=\"collapse\">\n```\ndef getP(x, w, intercept):\n    \"\"\"Calculate the probability for an observation given a set of weights and intercept.\n\n    Note:\n        We'll bound our raw prediction between 20 and -20 for numerical purposes.\n\n    Args:\n        x (SparseVector): A vector with values of 1.0 for features that exist in this\n            observation and 0.0 otherwise.\n        w (DenseVector): A vector of weights (betas) for the model.\n        intercept (float): The model's intercept.\n\n    Returns:\n        float: A probability between 0 and 1.\n    \"\"\"\n    rawPrediction = intercept + x.dot(w)\n\n    # Bound the raw prediction value\n    rawPrediction = min(rawPrediction, 20)\n    rawPrediction = max(rawPrediction, -20)\n    return 1./(1 + exp(-rawPrediction))\n\ntrainingPredictions = OHETrainData.map(lambda x: getP(x.features, model0.weights, model0.intercept))\n\n```\n</div>", 
            "cell_type": "markdown", 
            "metadata": {}
        }, 
        {
            "execution_count": null, 
            "cell_type": "code", 
            "metadata": {
                "scrolled": true
            }, 
            "outputs": [], 
            "source": "# TEST Predicted probability (4d)\nTest.assertTrue(np.allclose(trainingPredictions.sum(), 18135.4834348),\n                'incorrect value for trainingPredictions')"
        }, 
        {
            "source": "<a id = \"em\"></a>\n### <span style=\"color:#0b486b\">3.e Evaluate the model </span>\n\nWe are now ready to evaluate the quality of the model we trained in Part (3a). To do this, first write a general function that takes as input a model and data, and outputs the log loss.  Then run this function on the OHE training data, and compare the result with the baseline log loss.", 
            "cell_type": "markdown", 
            "metadata": {}
        }, 
        {
            "execution_count": null, 
            "cell_type": "code", 
            "metadata": {
                "scrolled": true
            }, 
            "outputs": [], 
            "source": "# TODO: Replace <FILL IN> with appropriate code\ndef evaluateResults(model, data):\n    \"\"\"Calculates the log loss for the data given the model.\n\n    Args:\n        model (LogisticRegressionModel): A trained logistic regression model.\n        data (RDD of LabeledPoint): Labels and features for each observation.\n\n    Returns:\n        float: Log loss for the data.\n    \"\"\"\n    <FILL IN>\n\nlogLossTrLR0 = evaluateResults(model0, OHETrainData)\nprint ('OHE Features Train Logloss:\\n\\tBaseline = {0:.3f}\\n\\tLogReg = {1:.3f}'\n       .format(logLossTrBase, logLossTrLR0))"
        }, 
        {
            "source": "<div align=\"right\">\n<a href=\"#mat10\" class=\"btn btn-default\" data-toggle=\"collapse\">Click here for the solution</a>\n</div>\n<div id=\"mat10\" class=\"collapse\">\n```\ndef evaluateResults(model, data):\n    \"\"\"Calculates the log loss for the data given the model.\n\n    Args:\n        model (LogisticRegressionModel): A trained logistic regression model.\n        data (RDD of LabeledPoint): Labels and features for each observation.\n\n    Returns:\n        float: Log loss for the data.\n    \"\"\"\n    return (data\n            .map(lambda x: (getP(x.features, model.weights, model.intercept), x.label))\n            .map(lambda (p, y): computeLogLoss(p, y))\n            .mean())\n\n```\n</div>", 
            "cell_type": "markdown", 
            "metadata": {}
        }, 
        {
            "execution_count": null, 
            "cell_type": "code", 
            "metadata": {
                "scrolled": true
            }, 
            "outputs": [], 
            "source": "# TEST Evaluate the model (4e)\nTest.assertTrue(np.allclose(logLossTrLR0, 0.456903), 'incorrect value for logLossTrLR0')"
        }, 
        {
            "source": "<a id = \"vll\"></a>\n### <span style=\"color:#0b486b\">3.f Validation log loss</span>\n\nNext, following the same logic as in Parts (3c) and 3(e), compute the validation log loss for both the baseline and logistic regression models. Notably, the baseline model for the validation data should still be based on the label fraction from the training dataset.", 
            "cell_type": "markdown", 
            "metadata": {}
        }, 
        {
            "execution_count": null, 
            "cell_type": "code", 
            "metadata": {
                "scrolled": true
            }, 
            "outputs": [], 
            "source": "# TODO: Replace <FILL IN> with appropriate code\nlogLossValBase = <FILL IN>\n\nlogLossValLR0 = <FILL IN>\nprint ('OHE Features Validation Logloss:\\n\\tBaseline = {0:.3f}\\n\\tLogReg = {1:.3f}'\n       .format(logLossValBase, logLossValLR0))"
        }, 
        {
            "source": "<div align=\"right\">\n<a href=\"#mat11\" class=\"btn btn-default\" data-toggle=\"collapse\">Click here for the solution</a>\n</div>\n<div id=\"mat11\" class=\"collapse\">\n```\nlogLossValBase = (OHEValidationData\n                 .map(lambda x: computeLogLoss(classOneFracTrain, x.label))\n                 .mean())\n\nlogLossValLR0 = evaluateResults(model0, OHEValidationData)\n\n```\n</div>", 
            "cell_type": "markdown", 
            "metadata": {}
        }, 
        {
            "execution_count": null, 
            "cell_type": "code", 
            "metadata": {
                "scrolled": true
            }, 
            "outputs": [], 
            "source": "# TEST Validation log loss (4f)\nTest.assertTrue(np.allclose(logLossValBase, 0.527603), 'incorrect value for logLossValBase')\nTest.assertTrue(np.allclose(logLossValLR0, 0.456957), 'incorrect value for logLossValLR0')"
        }, 
        {
            "source": "<a id = \"roc\"></a>", 
            "cell_type": "markdown", 
            "metadata": {}
        }, 
        {
            "source": "---\n## <span style=\"color:#0b486b\">4. Visualization 2: ROC curve</span>\n\nWe will now visualize how well the model predicts our target.  To do this we generate a plot of the ROC curve.  The ROC curve shows us the trade-off between the false positive rate and true positive rate, as we liberalize the threshold required to predict a positive outcome.  A random model is represented by the dashed line.", 
            "cell_type": "markdown", 
            "metadata": {}
        }, 
        {
            "execution_count": null, 
            "cell_type": "code", 
            "metadata": {
                "scrolled": true
            }, 
            "outputs": [], 
            "source": "labelsAndScores = OHEValidationData.map(lambda lp:\n                                            (lp.label, getP(lp.features, model0.weights, model0.intercept)))\nlabelsAndWeights = labelsAndScores.collect()\nlabelsAndWeights.sort(key=lambda (k, v): v, reverse=True)\nlabelsByWeight = np.array([k for (k, v) in labelsAndWeights])\n\nlength = labelsByWeight.size\ntruePositives = labelsByWeight.cumsum()\nnumPositive = truePositives[-1]\nfalsePositives = np.arange(1.0, length + 1, 1.) - truePositives\n\ntruePositiveRate = truePositives / numPositive\nfalsePositiveRate = falsePositives / (length - numPositive)\n\n# Generate layout and plot data\nfig, ax = preparePlot(np.arange(0., 1.1, 0.1), np.arange(0., 1.1, 0.1))\nax.set_xlim(-.05, 1.05), ax.set_ylim(-.05, 1.05)\nax.set_ylabel('True Positive Rate (Sensitivity)')\nax.set_xlabel('False Positive Rate (1 - Specificity)')\nplt.plot(falsePositiveRate, truePositiveRate, color='#8cbfd0', linestyle='-', linewidth=3.)\nplt.plot((0., 1.), (0., 1.), linestyle='--', color='#d6ebf2', linewidth=2.)  # Baseline model\n\ndisplay(fig)\npass"
        }, 
        {
            "source": "---\n## <span style=\"color:#0b486b\">5. Reduce feature dimension via feature hashing</span>\n\n<a id = \"hf\"></a>\n### <span style=\"color:#0b486b\">5.a Hash function</span>\n\n\n\nAs we just saw, using a one-hot-encoding featurization can yield a model with good statistical accuracy.  However, the number of distinct categories across all features is quite large -- recall that we observed 233K categories in the training data in Part (3c).  Moreover, the full Kaggle training dataset includes more than 33M distinct categories, and the Kaggle dataset itself is just a small subset of Criteo's labeled data.  Hence, featurizing via a one-hot-encoding representation would lead to a very large feature vector. To reduce the dimensionality of the feature space, we will use feature hashing.\n\nBelow is the hash function that we will use for this part of the lab.  We will first use this hash function with the three sample data points from Part (1a) to gain some intuition.  Specifically, run code to hash the three sample points using two different values for `numBuckets` and observe the resulting hashed feature dictionaries.", 
            "cell_type": "markdown", 
            "metadata": {}
        }, 
        {
            "execution_count": null, 
            "cell_type": "code", 
            "metadata": {
                "scrolled": true
            }, 
            "outputs": [], 
            "source": "from collections import defaultdict\nimport hashlib\n\ndef hashFunction(numBuckets, rawFeats, printMapping=False):\n    \"\"\"Calculate a feature dictionary for an observation's features based on hashing.\n\n    Note:\n        Use printMapping=True for debug purposes and to better understand how the hashing works.\n\n    Args:\n        numBuckets (int): Number of buckets to use as features.\n        rawFeats (list of (int, str)): A list of features for an observation.  Represented as\n            (featureID, value) tuples.\n        printMapping (bool, optional): If true, the mappings of featureString to index will be\n            printed.\n\n    Returns:\n        dict of int to float:  The keys will be integers which represent the buckets that the\n            features have been hashed to.  The value for a given key will contain the count of the\n            (featureID, value) tuples that have hashed to that key.\n    \"\"\"\n    mapping = {}\n    for ind, category in rawFeats:\n        featureString = category + str(ind)\n        mapping[featureString] = int(int(hashlib.md5(featureString).hexdigest(), 16) % numBuckets)\n    if(printMapping): print mapping\n    sparseFeatures = defaultdict(float)\n    for bucket in mapping.values():\n        sparseFeatures[bucket] += 1.0\n    return dict(sparseFeatures)\n\n# Reminder of the sample values:\nsampleOne = [(0, 'mouse'), (1, 'black')]\nsampleTwo = [(0, 'cat'), (1, 'tabby'), (2, 'mouse')]\nsampleThree =  [(0, 'bear'), (1, 'black'), (2, 'salmon')]"
        }, 
        {
            "execution_count": null, 
            "cell_type": "code", 
            "metadata": {
                "scrolled": true
            }, 
            "outputs": [], 
            "source": "# TODO: Replace <FILL IN> with appropriate code\n# Use four buckets\nsampOneFourBuckets = hashFunction(<FILL IN>, sampleOne, True)\nsampTwoFourBuckets = hashFunction(<FILL IN>, sampleTwo, True)\nsampThreeFourBuckets = hashFunction(<FILL IN>, sampleThree, True)\n\n# Use one hundred buckets\nsampOneHundredBuckets = hashFunction(<FILL IN>, sampleOne, True)\nsampTwoHundredBuckets = hashFunction(<FILL IN>, sampleTwo, True)\nsampThreeHundredBuckets = hashFunction(<FILL IN>, sampleThree, True)\n\nprint '\\t\\t 4 Buckets \\t\\t\\t 100 Buckets'\nprint 'SampleOne:\\t {0}\\t\\t {1}'.format(sampOneFourBuckets, sampOneHundredBuckets)\nprint 'SampleTwo:\\t {0}\\t\\t {1}'.format(sampTwoFourBuckets, sampTwoHundredBuckets)\nprint 'SampleThree:\\t {0}\\t {1}'.format(sampThreeFourBuckets, sampThreeHundredBuckets)"
        }, 
        {
            "source": "<div align=\"right\">\n<a href=\"#mat12\" class=\"btn btn-default\" data-toggle=\"collapse\">Click here for the solution</a>\n</div>\n<div id=\"mat12\" class=\"collapse\">\n```\n# Use four buckets\nsampOneFourBuckets = hashFunction(4, sampleOne, True)\nsampTwoFourBuckets = hashFunction(4, sampleTwo, True)\nsampThreeFourBuckets = hashFunction(4, sampleThree, True)\n\n# Use one hundred buckets\nsampOneHundredBuckets = hashFunction(100, sampleOne, True)\nsampTwoHundredBuckets = hashFunction(100, sampleTwo, True)\nsampThreeHundredBuckets = hashFunction(100, sampleThree, True)\n\n\n```\n</div>", 
            "cell_type": "markdown", 
            "metadata": {}
        }, 
        {
            "execution_count": null, 
            "cell_type": "code", 
            "metadata": {
                "scrolled": true
            }, 
            "outputs": [], 
            "source": "# TEST Hash function (5a)\nTest.assertEquals(sampOneFourBuckets, {2: 1.0, 3: 1.0}, 'incorrect value for sampOneFourBuckets')\nTest.assertEquals(sampThreeHundredBuckets, {72: 1.0, 5: 1.0, 14: 1.0},\n                  'incorrect value for sampThreeHundredBuckets')"
        }, 
        {
            "source": "<a id = \"chf\"></a>\n### <span style=\"color:#0b486b\">5.b Creating hashed features</span>\n\nNext we will use this hash function to create hashed features for our CTR datasets. First write a function that uses the hash function from Part (3a) with numBuckets = $ \\scriptsize 2^{15} \\approx 33K $ to create a `LabeledPoint` with hashed features stored as a `SparseVector`.  Then use this function to create new training, validation and test datasets with hashed features. Hint: `parsedHashPoint` is similar to `parseOHEPoint` from Part (3d).", 
            "cell_type": "markdown", 
            "metadata": {}
        }, 
        {
            "execution_count": null, 
            "cell_type": "code", 
            "metadata": {
                "scrolled": true
            }, 
            "outputs": [], 
            "source": "# TODO: Replace <FILL IN> with appropriate code\ndef parseHashPoint(point, numBuckets):\n    \"\"\"Create a LabeledPoint for this observation using hashing.\n\n    Args:\n        point (str): A comma separated string where the first value is the label and the rest are\n            features.\n        numBuckets: The number of buckets to hash to.\n\n    Returns:\n        LabeledPoint: A LabeledPoint with a label (0.0 or 1.0) and a SparseVector of hashed\n            features.\n    \"\"\"\n    <FILL IN>\n\nnumBucketsCTR = 2 ** 15\nhashTrainData = <FILL IN>\nhashTrainData.cache()\nhashValidationData = <FILL IN>\nhashValidationData.cache()\nhashTestData = <FILL IN>\nhashTestData.cache()\n\nprint hashTrainData.take(1)"
        }, 
        {
            "source": "<div align=\"right\">\n<a href=\"#mat13\" class=\"btn btn-default\" data-toggle=\"collapse\">Click here for the solution</a>\n</div>\n<div id=\"mat13\" class=\"collapse\">\n```\ndef parseHashPoint(point, numBuckets):\n    \"\"\"Create a LabeledPoint for this observation using hashing.\n\n    Args:\n        point (str): A comma separated string where the first value is the label and the rest are\n            features.\n        numBuckets: The number of buckets to hash to.\n\n    Returns:\n        LabeledPoint: A LabeledPoint with a label (0.0 or 1.0) and a SparseVector of hashed\n            features.\n    \"\"\"\n    l = point.split(',')\n    return LabeledPoint(\n        l[0], \n        SparseVector(numBuckets, hashFunction(numBuckets, list(enumerate(l[1:]))))\n    )\n\nnumBucketsCTR = 2 ** 15\n\nhashTrainData = rawTrainData.map(lambda point: parseHashPoint(point, numBucketsCTR))\nhashTrainData.cache()\nhashValidationData = rawValidationData.map(lambda point: parseHashPoint(point, numBucketsCTR))\nhashValidationData.cache()\nhashTestData = rawTestData.map(lambda point: parseHashPoint(point, numBucketsCTR))\nhashTestData.cache()\n\n```\n</div>", 
            "cell_type": "markdown", 
            "metadata": {}
        }, 
        {
            "execution_count": null, 
            "cell_type": "code", 
            "metadata": {
                "scrolled": true
            }, 
            "outputs": [], 
            "source": "# TEST Creating hashed features (5b)\nhashTrainDataFeatureSum = sum(hashTrainData\n                           .map(lambda lp: len(lp.features.indices))\n                           .take(20))\nhashTrainDataLabelSum = sum(hashTrainData\n                         .map(lambda lp: lp.label)\n                         .take(100))\nhashValidationDataFeatureSum = sum(hashValidationData\n                                .map(lambda lp: len(lp.features.indices))\n                                .take(20))\nhashValidationDataLabelSum = sum(hashValidationData\n                              .map(lambda lp: lp.label)\n                              .take(100))\nhashTestDataFeatureSum = sum(hashTestData\n                          .map(lambda lp: len(lp.features.indices))\n                          .take(20))\nhashTestDataLabelSum = sum(hashTestData\n                        .map(lambda lp: lp.label)\n                        .take(100))\n\nTest.assertEquals(hashTrainDataFeatureSum, 772, 'incorrect number of features in hashTrainData')\nTest.assertEquals(hashTrainDataLabelSum, 24.0, 'incorrect labels in hashTrainData')\nTest.assertEquals(hashValidationDataFeatureSum, 776,\n                  'incorrect number of features in hashValidationData')\nTest.assertEquals(hashValidationDataLabelSum, 16.0, 'incorrect labels in hashValidationData')\nTest.assertEquals(hashTestDataFeatureSum, 774, 'incorrect number of features in hashTestData')\nTest.assertEquals(hashTestDataLabelSum, 23.0, 'incorrect labels in hashTestData')"
        }, 
        {
            "source": "<a id = \"s\"></a>\n### <span style=\"color:#0b486b\">5.c Sparsity</span>\n\nSince we have 33K hashed features versus 233K OHE features, we should expect OHE features to be sparser. Verify this hypothesis by computing the average sparsity of the OHE and the hashed training datasets.\n\nNote that if you have a `SparseVector` named `sparse`, calling `len(sparse)` returns the total number of features, not the number features with entries.  `SparseVector` objects have the attributes `indices` and `values` that contain information about which features are nonzero.  Continuing with our example, these can be accessed using `sparse.indices` and `sparse.values`, respectively.", 
            "cell_type": "markdown", 
            "metadata": {}
        }, 
        {
            "execution_count": null, 
            "cell_type": "code", 
            "metadata": {
                "scrolled": true
            }, 
            "outputs": [], 
            "source": "# TODO: Replace <FILL IN> with appropriate code\ndef computeSparsity(data, d, n):\n    \"\"\"Calculates the average sparsity for the features in an RDD of LabeledPoints.\n\n    Args:\n        data (RDD of LabeledPoint): The LabeledPoints to use in the sparsity calculation.\n        d (int): The total number of features.\n        n (int): The number of observations in the RDD.\n\n    Returns:\n        float: The average of the ratio of features in a point to total features.\n    \"\"\"\n    <FILL IN>\n\naverageSparsityHash = computeSparsity(hashTrainData, numBucketsCTR, nTrain)\naverageSparsityOHE = computeSparsity(OHETrainData, numCtrOHEFeats, nTrain)\n\nprint 'Average OHE Sparsity: {0:.7e}'.format(averageSparsityOHE)\nprint 'Average Hash Sparsity: {0:.7e}'.format(averageSparsityHash)"
        }, 
        {
            "source": "<div align=\"right\">\n<a href=\"#mat13A\" class=\"btn btn-default\" data-toggle=\"collapse\">Click here for the solution</a>\n</div>\n<div id=\"mat13A\" class=\"collapse\">\n```\ndef computeSparsity(data, d, n):\n    \"\"\"Calculates the average sparsity for the features in an RDD of LabeledPoints.\n\n    Args:\n        data (RDD of LabeledPoint): The LabeledPoints to use in the sparsity calculation.\n        d (int): The total number of features.\n        n (int): The number of observations in the RDD.\n\n    Returns:\n        float: The average of the ratio of features in a point to total features.\n    \"\"\"\n    return data.map(lambda x: len(x.features.indices)/float(d)).mean()\n\n\naverageSparsityHash = computeSparsity(hashTrainData, numBucketsCTR, nTrain)\naverageSparsityOHE = computeSparsity(OHETrainData, numCtrOHEFeats, nTrain)\n\n\n```\n</div>", 
            "cell_type": "markdown", 
            "metadata": {}
        }, 
        {
            "execution_count": null, 
            "cell_type": "code", 
            "metadata": {
                "scrolled": true
            }, 
            "outputs": [], 
            "source": "# TEST Sparsity (5c)\nTest.assertTrue(np.allclose(averageSparsityOHE, 1.6717677e-04),\n                'incorrect value for averageSparsityOHE')\nTest.assertTrue(np.allclose(averageSparsityHash, 1.1805561e-03),\n                'incorrect value for averageSparsityHash')"
        }, 
        {
            "source": "<a id = \"lmhf\"></a>\n### <span style=\"color:#0b486b\">5.d Logistic model with hashed features</span>\n\n\nNow let's train a logistic regression model using the hashed features. Run a grid search to find suitable hyperparameters for the hashed features, evaluating via log loss on the validation data. Note: This may take a few minutes to run. Use `1` and `10` for `stepSizes` and `1e-6` and `1e-3` for `regParams`.", 
            "cell_type": "markdown", 
            "metadata": {}
        }, 
        {
            "execution_count": null, 
            "cell_type": "code", 
            "metadata": {
                "scrolled": true
            }, 
            "outputs": [], 
            "source": "numIters = 500\nregType = 'l2'\nincludeIntercept = True\n\n# Initialize variables using values from initial model training\nbestModel = None\nbestLogLoss = 1e10"
        }, 
        {
            "execution_count": null, 
            "cell_type": "code", 
            "metadata": {
                "scrolled": true
            }, 
            "outputs": [], 
            "source": "# TODO: Replace <FILL IN> with appropriate code\nstepSizes = <FILL IN>\nregParams = <FILL IN>\nfor stepSize in stepSizes:\n    for regParam in regParams:\n        model = (LogisticRegressionWithSGD\n                 .train(hashTrainData, numIters, stepSize, regParam=regParam, regType=regType,\n                        intercept=includeIntercept))\n        logLossVa = evaluateResults(model, hashValidationData)\n        print ('\\tstepSize = {0:.1f}, regParam = {1:.0e}: logloss = {2:.3f}'\n               .format(stepSize, regParam, logLossVa))\n        if (logLossVa < bestLogLoss):\n            bestModel = model\n            bestLogLoss = logLossVa\n\nprint ('Hashed Features Validation Logloss:\\n\\tBaseline = {0:.3f}\\n\\tLogReg = {1:.3f}'\n       .format(logLossValBase, bestLogLoss))"
        }, 
        {
            "source": "<div align=\"right\">\n<a href=\"#mat14\" class=\"btn btn-default\" data-toggle=\"collapse\">Click here for the solution</a>\n</div>\n<div id=\"mat14\" class=\"collapse\">\n```\nstepSizes = [1, 10]\nregParams = [1e-6, 1e-3]\n\n```\n</div>", 
            "cell_type": "markdown", 
            "metadata": {}
        }, 
        {
            "execution_count": null, 
            "cell_type": "code", 
            "metadata": {
                "scrolled": true
            }, 
            "outputs": [], 
            "source": "# TEST Logistic model with hashed features (5d)\nTest.assertTrue(np.allclose(bestLogLoss, 0.4481683608), 'incorrect value for bestLogLoss')"
        }, 
        {
            "source": "<a id = \"heatmap\"></a>", 
            "cell_type": "markdown", 
            "metadata": {}
        }, 
        {
            "source": "---\n## <span style=\"color:#0b486b\">6. Hyperparameter heat map</span>\n\nWe will now perform a visualization of an extensive hyperparameter search.  Specifically, we will create a heat map where the brighter colors correspond to lower values of `logLoss`.\n\nThe search was run using six step sizes and six values for regularization, which required the training of thirty-six separate models.  We have included the results below, but omitted the actual search to save time.", 
            "cell_type": "markdown", 
            "metadata": {}
        }, 
        {
            "execution_count": null, 
            "cell_type": "code", 
            "metadata": {
                "scrolled": true
            }, 
            "outputs": [], 
            "source": "from matplotlib.colors import LinearSegmentedColormap\n\n# Saved parameters and results.  Eliminate the time required to run 36 models\nstepSizes = [3, 6, 9, 12, 15, 18]\nregParams = [1e-7, 1e-6, 1e-5, 1e-4, 1e-3, 1e-2]\nlogLoss = np.array([[ 0.45808431,  0.45808493,  0.45809113,  0.45815333,  0.45879221,  0.46556321],\n                    [ 0.45188196,  0.45188306,  0.4518941,   0.4520051,   0.45316284,  0.46396068],\n                    [ 0.44886478,  0.44886613,  0.44887974,  0.44902096,  0.4505614,   0.46371153],\n                    [ 0.44706645,  0.4470698,   0.44708102,  0.44724251,  0.44905525,  0.46366507],\n                    [ 0.44588848,  0.44589365,  0.44590568,  0.44606631,  0.44807106,  0.46365589],\n                    [ 0.44508948,  0.44509474,  0.44510274,  0.44525007,  0.44738317,  0.46365405]])\n\nnumRows, numCols = len(stepSizes), len(regParams)\nlogLoss = np.array(logLoss)\nlogLoss.shape = (numRows, numCols)\n\nfig, ax = preparePlot(np.arange(0, numCols, 1), np.arange(0, numRows, 1), figsize=(8, 7),\n                      hideLabels=True, gridWidth=0.)\nax.set_xticklabels(regParams), ax.set_yticklabels(stepSizes)\nax.set_xlabel('Regularization Parameter'), ax.set_ylabel('Step Size')\n\ncolors = LinearSegmentedColormap.from_list('blue', ['#0022ff', '#000055'], gamma=.2)\nimage = plt.imshow(logLoss,interpolation='nearest', aspect='auto',\n                    cmap = colors)\n\ndisplay(fig)\npass"
        }, 
        {
            "source": "<a id = \"etd\"></a>\n### <span style=\"color:#0b486b\">6.a Evaluate on the test set</span>\n\n\nFinally, evaluate the best model from Part (5d) on the test set.  Compare the resulting log loss with the baseline log loss on the test set, which can be computed in the same way that the validation log loss was computed in Part (3f).", 
            "cell_type": "markdown", 
            "metadata": {}
        }, 
        {
            "execution_count": null, 
            "cell_type": "code", 
            "metadata": {
                "scrolled": true
            }, 
            "outputs": [], 
            "source": "# TODO: Replace <FILL IN> with appropriate code\n# Log loss for the best model from (7d)\nlogLossTest = <FILL IN>\n\n# Log loss for the baseline model\nlogLossTestBaseline = <FILL IN>\n\nprint ('Hashed Features Test Log Loss:\\n\\tBaseline = {0:.3f}\\n\\tLogReg = {1:.3f}'\n       .format(logLossTestBaseline, logLossTest))"
        }, 
        {
            "source": "<div align=\"right\">\n<a href=\"#mat15\" class=\"btn btn-default\" data-toggle=\"collapse\">Click here for the solution</a>\n</div>\n<div id=\"mat15\" class=\"collapse\">\n```\n# Log loss for the best model from (5d)\nlogLossTest = evaluateResults(bestModel, hashTestData)\n\n# Log loss for the baseline model\nlogLossTestBaseline = (hashTestData\n                       .map(lambda x: computeLogLoss(classOneFracTrain, x.label))\n                       .mean())\n\n\n```\n</div>", 
            "cell_type": "markdown", 
            "metadata": {}
        }
    ], 
    "metadata": {
        "kernelspec": {
            "display_name": "Python 3.5", 
            "name": "python3", 
            "language": "python"
        }, 
        "language_info": {
            "mimetype": "text/x-python", 
            "nbconvert_exporter": "python", 
            "version": "3.5.4", 
            "name": "python", 
            "file_extension": ".py", 
            "pygments_lexer": "ipython3", 
            "codemirror_mode": {
                "version": 3, 
                "name": "ipython"
            }
        }, 
        "anaconda-cloud": {}
    }, 
    "nbformat": 4
}