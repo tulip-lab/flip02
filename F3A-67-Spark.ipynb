{
    "nbformat_minor": 1, 
    "cells": [
        {
            "source": "# Modern Data Science \n**(Module 06: Apache Spark Platform)**\n\n---\n- Materials in this module include resources collected from various open-source online repositories.\n- You are free to use, change and distribute this package.\n\nPrepared by and for \n**Student Members** |\n2006-2018 [TULIP Lab](http://www.tulip.org.au), Australia\n\n---\n\n\n## Session A - A Touch of Apache Spark\n---\n\nThis lab session will teach you how to use [Apache Spark](http://spark.apache.org/), a framework for large-scale data processing, within a notebook. \n\nYou may need to do the following before running this notebook in Cloud platform such as DataBricks, or IBM Cloud:\n- Create one cluster to run your tasks and the following lab sessions\n- Install the necessary packages such as\n * matplotlib\n * test_helper\n * pyzmq\n * pandas\n * hashlib\n- Import all related lab sessions into Workspace\n- Import all needed data into Tables or S3, and note down the address of each file.\n\n\n## Content\n\nPart A: Apache Spark\n\n* [Basic notebook usage and Python integration](#note)\n\n* [PySpark](#pyspark)\n\n* [RDD Transformations and Actions](#rdd)\n\n* [Lambda functions](#lambda)\n\n* [Additional RDD actions](#actions)\n\n* [Additional RDD transformations](#transfoormations)\n\n* [Caching RDDs and storage options](#cache)\n\n* [Debugging Spark applications and lazy evaluation](#debug)\n\nPart B: Test Spark functionality \n\n* [Check Spark Functionality](#spark)\n\n* [Check class Testing Functionality](#test)\n\n* [Check Plotting](#plot)\n---\n\n\n## Introduction ##\n\nMany traditional frameworks were designed to be run on a single computer. However, many datasets today are too large to be stored on a single computer, and even when a dataset can be stored on one computer (such as the datasets in this tutorial), the dataset can often be processed much more quickly using multiple computers.  Spark has efficient implementations of a number of transformations and actions that can be composed together to perform data processing and analysis.  Spark excels at distributing these operations across a cluster while abstracting away many of the underlying implementation details. Spark has been designed with a focus on scalability and efficiency. With Spark you can begin developing your solution on your laptop, using a small dataset, and then use that same code to process terabytes or even petabytes across a distributed cluster.\n\nThe following transformations will be covered:\n*  `map()`, `mapPartitions()`, `mapPartitionsWithIndex()`, `filter()`, `flatMap()`, `reduceByKey()`, `groupByKey()`\n \nThe following actions will be covered:\n*  `first()`, `take()`, `takeSample()`, `takeOrdered()`, `collect()`, `count()`, `countByValue()`, `reduce()`, `top()`\n \nAlso covered:\n*  `cache()`, `unpersist()`, `id()`, `setName()`\n \nNote that, for reference, you can look up the details of these methods in [Spark's Python API](https://spark.apache.org/docs/latest/api/python/pyspark.html#pyspark.RDD)\n\nAfter that you will test that the virtual machine (VM) is functioning properly.\n\nYou will not need to solve any problems to complete this lab.  You can run a cell by pressing \"shift-enter\", which will compute the current cell and advance to the next cell, or by clicking in a cell and pressing \"control-enter\", which will compute the current cell and remain in that cell.  ", 
            "cell_type": "markdown", 
            "metadata": {}
        }, 
        {
            "source": "<a id = \"note\"></a>", 
            "cell_type": "markdown", 
            "metadata": {}
        }, 
        {
            "source": "## Part A: Apache Spark ##\n\n\n### **1. Notebook usage and [Python](https://docs.python.org/2/) integration ** ###", 
            "cell_type": "markdown", 
            "metadata": {}
        }, 
        {
            "source": "#### **(1a) Notebook usage**\n \nA notebook is comprised of a linear sequence of cells.  These cells can contain either markdown or code, but we won't mix both in one cell.  When a markdown cell is executed it renders formatted text, images, and links just like HTML in a normal webpage.  The text you are reading right now is part of a markdown cell.  Python code cells allow you to execute arbitrary Python commands just like in any Python shell. Place your cursor inside the cell below, and press \"Shift\" + \"Enter\" to execute the code and advance to the next cell.  You can also press \"Ctrl\" + \"Enter\" to execute the code and remain in the cell.  These commands work the same in both markdown and code cells.", 
            "cell_type": "markdown", 
            "metadata": {}
        }, 
        {
            "execution_count": null, 
            "cell_type": "code", 
            "metadata": {}, 
            "outputs": [], 
            "source": "# This is a Python cell. You can run normal Python code here...\nprint ('The sum of 1 and 1 is {0}'.format(1+1))"
        }, 
        {
            "execution_count": null, 
            "cell_type": "code", 
            "metadata": {}, 
            "outputs": [], 
            "source": "# Here is another Python cell, this time with a variable (x) declaration and an if statement:\nx = 42\nif x > 40:\n    print ('The sum of 1 and 2 is {0}'.format(1+2))"
        }, 
        {
            "source": "#### **(1b) Notebook state**\n\nAs you work through a notebook it is important that you run all of the code cells.  The notebook is stateful, which means that variables and their values are retained until the notebook is detached (in Databricks Cloud) or the kernel is restarted (in IPython notebooks).  If you do not run all of the code cells as you proceed through the notebook, your variables will not be properly initialized and later code might fail.  You will also need to rerun any cells that you have modified in order for the changes to be available to other cells.", 
            "cell_type": "markdown", 
            "metadata": {}
        }, 
        {
            "execution_count": null, 
            "cell_type": "code", 
            "metadata": {}, 
            "outputs": [], 
            "source": "# This cell relies on x being defined already.\n# If we didn't run the cells from part (1a) this code would fail.\nprint (x * 2)"
        }, 
        {
            "source": "#### **(1c) Library imports**\n\nWe can import standard Python libraries ([modules](https://docs.python.org/2/tutorial/modules.html)) the usual way.  An `import` statement will import the specified module.  In this tutorial and future labs, we will provide any imports that are necessary.", 
            "cell_type": "markdown", 
            "metadata": {}
        }, 
        {
            "execution_count": null, 
            "cell_type": "code", 
            "metadata": {}, 
            "outputs": [], 
            "source": "# Import the regular expression library\nimport re\nm = re.search('(?<=abc)def', 'abcdef')\nm.group(0)"
        }, 
        {
            "execution_count": null, 
            "cell_type": "code", 
            "metadata": {}, 
            "outputs": [], 
            "source": "# Import the datetime library\nimport datetime\nprint ('This was last run on: {0}'.format(datetime.datetime.now()))"
        }, 
        {
            "source": "<a id = \"pyspark\"></a>", 
            "cell_type": "markdown", 
            "metadata": {}
        }, 
        {
            "source": "###  **2. Introduction to [pySpark API](https://spark.apache.org/docs/latest/api/python/pyspark.html#pyspark.RDD) running in the browser**\n\n#### **Spark Context**\n\nIn Spark, communication occurs between a driver and executors.  The driver has Spark jobs that it needs to run and these jobs are split into tasks that are submitted to the executors for completion.  The results from these tasks are delivered back to the driver.\n\nIn section 1, we saw that normal python code can be executed via cells. When using Databricks Cloud this code gets executed in the Spark driver's Java Virtual Machine (JVM) and not in an executor's JVM, and when using an IPython notebook it is executed within the kernel associated with the notebook. Since no Spark functionality is actually being used, no tasks are launched on the executors.\n\nIn order to use Spark functionality and its API we will need to use a `SparkContext`.  When running Spark, you start a new Spark application by creating a [SparkContext](http://spark.apache.org/docs/latest/api/python/pyspark.html#pyspark.SparkContext).  When the `SparkContext` is created, it asks the master for some cores to use to do work.  The master sets these cores aside just for you; they won't be used for other applications. When using Databricks Cloud or the virtual machine provisioned for this class, the `SparkContext` is created for you automatically as `sc`.", 
            "cell_type": "markdown", 
            "metadata": {}
        }, 
        {
            "source": "#### **(2a) Example Cluster**\n\nThe diagram below shows an example cluster, where the cores allocated for an application are outlined in purple.\n![executors](http://spark-mooc.github.io/web-assets/images/executors.png)\n\nYou can view the details of your Spark application in the Spark web UI.  The web UI is accessible in Databricks cloud by going to \"Clusters\" and then clicking on the \"View Spark UI\" link for your cluster.  When running locally you'll find it at [localhost:4040](http://localhost:4040).  In the web UI, under the \"Jobs\" tab, you can see a list of jobs that have been scheduled or run.  It's likely there isn't any thing interesting here yet because we haven't run any jobs, but we'll return to this page later.\n\nAt a high level, every Spark application consists of a driver program that launches various parallel operations on executor Java Virtual Machines (JVMs) running either in a cluster or locally on the same machine. When running a cluster, such as ...In Databricks Cloud, \"Databricks Shell\" is the driver program.  When running locally, \"PySparkShell\" is the driver program. In all cases, this driver program contains the main loop for the program and creates distributed datasets on the cluster, then applies operations (transformations & actions) to those datasets.\n\nDriver programs access Spark through a SparkContext object, which represents a connection to a computing cluster. A Spark context object (`sc`) is the main entry point for Spark functionality. A Spark context can be used to create Resilient Distributed Datasets (RDDs) on a cluster.", 
            "cell_type": "markdown", 
            "metadata": {}
        }, 
        {
            "source": "Notes:\n\nIf you are using Virtual Machines(as in Deakin lab), since Spark Context is already loaded in the workspace. Please  skip the next few cells and go straight to the last cell of (2b) i.e.\"type(sc)\".  \n\nOtherwise, run the following cells and print out `sc` to see its type.", 
            "cell_type": "markdown", 
            "metadata": {}
        }, 
        {
            "execution_count": null, 
            "cell_type": "code", 
            "metadata": {}, 
            "outputs": [], 
            "source": "import os\nos.getcwd() "
        }, 
        {
            "execution_count": null, 
            "cell_type": "code", 
            "metadata": {}, 
            "outputs": [], 
            "source": "# You don't need to run this block if using Cloud Platform such as DataBricks\n\nimport sys\nsys.path.append('my/path/to/module/folder')\n\n# import module-of-interest"
        }, 
        {
            "execution_count": null, 
            "cell_type": "code", 
            "metadata": {}, 
            "outputs": [], 
            "source": "!pip install findspark"
        }, 
        {
            "execution_count": null, 
            "cell_type": "code", 
            "metadata": {}, 
            "outputs": [], 
            "source": "import findspark\nimport os\nfindspark.init()"
        }, 
        {
            "source": "##### ** Predefined Variables**\n\n\nIn Databricks, notebooks already have some of the most useful Apache Spark variables that you\u2019re going to need: \n\n- sc\n- sqlContext\n- spark\n\nDo not create a SparkSession, SparkContext or SQLContext yourself in Databricks. Doing so will lead to inconsistent behavior. Use the existing contexts provided within the notebook (and cluster). Here are the already pre-defined variables for you.\n\n", 
            "cell_type": "markdown", 
            "metadata": {}
        }, 
        {
            "execution_count": null, 
            "cell_type": "code", 
            "metadata": {}, 
            "outputs": [], 
            "source": "# A Spark Context is already created for you.\n# Do not create another or unspecified behavior may occur.\nspark"
        }, 
        {
            "execution_count": null, 
            "cell_type": "code", 
            "metadata": {}, 
            "outputs": [], 
            "source": "# A SQLContext is also already created for you.\n# Do not create another or unspecified behavior may occur.\n# As you can see below, the sqlContext provided is a HiveContext.\nsqlContext"
        }, 
        {
            "execution_count": null, 
            "cell_type": "code", 
            "metadata": {}, 
            "outputs": [], 
            "source": "# A Spark Context is already created for you.\n# Do not create another or unspecified behavior may occur.\nsc"
        }, 
        {
            "execution_count": null, 
            "cell_type": "code", 
            "metadata": {}, 
            "outputs": [], 
            "source": "# You don't need to run this block if using Cloud Platform such as DataBricks\n\n# import pyspark\n# sc = pyspark.SparkContext()"
        }, 
        {
            "execution_count": null, 
            "cell_type": "code", 
            "metadata": {}, 
            "outputs": [], 
            "source": "# Run this to check Spark Context sc is already loded \n# Display the type of the Spark Context sc\ntype(sc)"
        }, 
        {
            "source": "#### **(2b) `SparkContext` attributes**\n\nYou can use Python's [dir()](https://docs.python.org/2/library/functions.html?highlight=dir#dir) function to get a list of all the attributes (including methods) accessible through the `sc` object.", 
            "cell_type": "markdown", 
            "metadata": {}
        }, 
        {
            "execution_count": null, 
            "cell_type": "code", 
            "metadata": {}, 
            "outputs": [], 
            "source": "# List sc's attributes\ndir(sc)"
        }, 
        {
            "source": "#### **(2c) Getting help**\n\nAlternatively, you can use Python's [help()](https://docs.python.org/2/library/functions.html?highlight=help#help) function to get an easier to read list of all the attributes, including examples, that the `sc` object has.", 
            "cell_type": "markdown", 
            "metadata": {}
        }, 
        {
            "execution_count": null, 
            "cell_type": "code", 
            "metadata": {}, 
            "outputs": [], 
            "source": "# Use help to obtain more detailed information\nhelp(sc)"
        }, 
        {
            "execution_count": null, 
            "cell_type": "code", 
            "metadata": {}, 
            "outputs": [], 
            "source": "# After reading the help we've decided we want to use sc.version to see what version of Spark we are running\nsc.version"
        }, 
        {
            "execution_count": null, 
            "cell_type": "code", 
            "metadata": {}, 
            "outputs": [], 
            "source": "# Help can be used on any Python object\nhelp(map)"
        }, 
        {
            "source": "<a id = \"rdd\"></a>", 
            "cell_type": "markdown", 
            "metadata": {}
        }, 
        {
            "source": "### **3. Using RDDs and chaining together transformations and actions**", 
            "cell_type": "markdown", 
            "metadata": {}
        }, 
        {
            "source": "#### **Working with your first RDD**\n\nIn Spark, we first create a base [Resilient Distributed Dataset](http://spark.apache.org/docs/latest/api/python/pyspark.html#pyspark.RDD) (RDD). We can then apply one or more transformations to that base RDD. *An RDD is immutable, so once it is created, it cannot be changed.* As a result, each transformation creates a new RDD. Finally, we can apply one or more actions to the RDDs.  Note that Spark uses lazy evaluation, so transformations are not actually executed until an action occurs.\n\nWe will perform several exercises to obtain a better understanding of RDDs:\n*   Create a Python collection of 10,000 integers\n*   Create a Spark base RDD from that collection\n*   Subtract one from each value using `map`\n*   Perform action `collect` to view results\n*   Perform action `count` to view counts\n*   Apply transformation `filter` and view results with `collect`\n*   Learn about lambda functions\n*   Explore how lazy evaluation works and the debugging challenges that it introduces", 
            "cell_type": "markdown", 
            "metadata": {}
        }, 
        {
            "source": "#### **(3a) Create a Python collection of integers in the range of 1 .. 10000**\n\nWe will use the [xrange()](https://docs.python.org/2/library/functions.html?highlight=xrange#xrange) function to create a [list()](https://docs.python.org/2/library/functions.html?highlight=list#list) of integers.  `xrange()` only generates values as they are needed.  This is different from the behavior of [range()](https://docs.python.org/2/library/functions.html?highlight=range#range) which generates the complete list upon execution.  Because of this `xrange()` is more memory efficient than `range()`, especially for large ranges.", 
            "cell_type": "markdown", 
            "metadata": {}
        }, 
        {
            "execution_count": null, 
            "cell_type": "code", 
            "metadata": {}, 
            "outputs": [], 
            "source": "data = range(1, 10001)"
        }, 
        {
            "execution_count": null, 
            "cell_type": "code", 
            "metadata": {}, 
            "outputs": [], 
            "source": "# Data is just a normal Python list\n# Obtain data's first element\ndata[0]"
        }, 
        {
            "execution_count": null, 
            "cell_type": "code", 
            "metadata": {}, 
            "outputs": [], 
            "source": "# We can check the size of the list using the len() function\nlen(data)"
        }, 
        {
            "source": "#### **(3b) Distributed data and using a collection to create an RDD**\n\nIn Spark, datasets are represented as a list of entries, where the list is broken up into many different partitions that are each stored on a different machine.  Each partition holds a unique subset of the entries in the list.  Spark calls datasets that it stores \"Resilient Distributed Datasets\" (RDDs).\n\nOne of the defining features of Spark, compared to other data analytics frameworks (e.g., Hadoop), is that it stores data in memory rather than on disk.  This allows Spark applications to run much more quickly, because they are not slowed down by needing to read data from disk.\n\nThe figure below illustrates how Spark breaks a list of data entries into partitions that are each stored in memory on a worker.\n![partitions](http://spark-mooc.github.io/web-assets/images/partitions.png)\n\nTo create the RDD, we use `sc.parallelize()`, which tells Spark to create a new set of input data based on data that is passed in.  In this example, we will provide an `xrange`.  The second argument to the [sc.parallelize()](http://spark.apache.org/docs/latest/api/python/pyspark.html#pyspark.SparkContext.parallelize) method tells Spark how many partitions to break the data into when it stores the data in memory (we'll talk more about this later in this tutorial). Note that for better performance when using `parallelize`, `xrange()` is recommended if the input represents a range. This is the reason why we used `xrange()` in 3a.\n\nThere are many different types of RDDs.  The base class for RDDs is [pyspark.RDD](http://spark.apache.org/docs/latest/api/python/pyspark.html#pyspark.RDD) and other RDDs subclass `pyspark.RDD`.  Since the other RDD types inherit from `pyspark.RDD` they have the same APIs and are functionally identical.  We'll see that `sc.parallelize()` generates a `pyspark.rdd.PipelinedRDD` when its input is an `xrange`, and a `pyspark.RDD` when its input is a `range`.\n\nAfter we generate RDDs, we can view them in the \"Storage\" tab of the web UI.  You'll notice that new datasets are not listed until Spark needs to return a result due to an action being executed.  This feature of Spark is called \"lazy evaluation\".  This allows Spark to avoid performing unnecessary calculations.", 
            "cell_type": "markdown", 
            "metadata": {}
        }, 
        {
            "execution_count": null, 
            "cell_type": "code", 
            "metadata": {}, 
            "outputs": [], 
            "source": "# Parallelize data using 8 partitions\n# This operation is a transformation of data into an RDD\n# Spark uses lazy evaluation, so no Spark jobs are run at this point\nxrangeRDD = sc.parallelize(data, 8)"
        }, 
        {
            "execution_count": null, 
            "cell_type": "code", 
            "metadata": {}, 
            "outputs": [], 
            "source": "# Let's view help on parallelize\nhelp(sc.parallelize)"
        }, 
        {
            "execution_count": null, 
            "cell_type": "code", 
            "metadata": {}, 
            "outputs": [], 
            "source": "# Let's see what type sc.parallelize() returned\nprint ('type of xrangeRDD: {0}'.format(type(xrangeRDD)))\n\n# How about if we use a range\ndataRange = range(1, 10001)\nrangeRDD = sc.parallelize(dataRange, 8)\nprint ('type of dataRangeRDD: {0}'.format(type(rangeRDD)))"
        }, 
        {
            "execution_count": null, 
            "cell_type": "code", 
            "metadata": {}, 
            "outputs": [], 
            "source": "# Each RDD gets a unique ID\nprint ('xrangeRDD id: {0}'.format(xrangeRDD.id()))\nprint ('rangeRDD id: {0}'.format(rangeRDD.id()))"
        }, 
        {
            "execution_count": null, 
            "cell_type": "code", 
            "metadata": {}, 
            "outputs": [], 
            "source": "# We can name each newly created RDD using the setName() method\nxrangeRDD.setName('My first RDD')"
        }, 
        {
            "execution_count": null, 
            "cell_type": "code", 
            "metadata": {}, 
            "outputs": [], 
            "source": "# Let's view the lineage (the set of transformations) of the RDD using toDebugString()\nprint (xrangeRDD.toDebugString())"
        }, 
        {
            "execution_count": null, 
            "cell_type": "code", 
            "metadata": {}, 
            "outputs": [], 
            "source": "# Let's use help to see what methods we can call on this RDD\nhelp(xrangeRDD)"
        }, 
        {
            "execution_count": null, 
            "cell_type": "code", 
            "metadata": {}, 
            "outputs": [], 
            "source": "# Let's see how many partitions the RDD will be split into by using the getNumPartitions()\nxrangeRDD.getNumPartitions()"
        }, 
        {
            "source": "#### **(3c): Subtract one from each value using `map`**\n\nSo far, we've created a distributed dataset that is split into many partitions, where each partition is stored on a single machine in our cluster.  Let's look at what happens when we do a basic operation on the dataset.  Many useful data analysis operations can be specified as \"do something to each item in the dataset\".  These data-parallel operations are convenient because each item in the dataset can be processed individually: the operation on one entry doesn't effect the operations on any of the other entries.  Therefore, Spark can parallelize the operation.\n\n`map(f)`, the most common Spark transformation, is one such example: it applies a function `f` to each item in the dataset, and outputs the resulting dataset.  When you run `map()` on a dataset, a single *stage* of tasks is launched.  A *stage* is a group of tasks that all perform the same computation, but on different input data.  One task is launched for each partitition, as shown in the example below.  A task is a unit of execution that runs on a single machine. When we run `map(f)` within a partition, a new *task* applies `f` to all of the entries in a particular partition, and outputs a new partition. In this example figure, the dataset is broken into four partitions, so four `map()` tasks are launched.\n![tasks](http://spark-mooc.github.io/web-assets/images/tasks.png)\n\nThe figure below shows how this would work on the smaller data set from the earlier figures.  Note that one task is launched for each partition.\n![foo](http://spark-mooc.github.io/web-assets/images/map.png)\n\nWhen applying the `map()` transformation, each item in the parent RDD will map to one element in the new RDD. So, if the parent RDD has twenty elements, the new RDD will also have twenty items.\n\nNow we will use `map()` to subtract one from each value in the base RDD we just created. First, we define a Python function called `sub()` that will subtract one from the input integer. Second, we will pass each item in the base RDD into a `map()` transformation that applies the `sub()` function to each element. And finally, we print out the RDD transformation hierarchy using `toDebugString()`.", 
            "cell_type": "markdown", 
            "metadata": {}
        }, 
        {
            "execution_count": null, 
            "cell_type": "code", 
            "metadata": {}, 
            "outputs": [], 
            "source": "# Create sub function to subtract 1\ndef sub(value):\n    \"\"\"\"Subtracts one from `value`.\n\n    Args:\n       value (int): A number.\n\n    Returns:\n        int: `value` minus one.\n    \"\"\"\n    return (value - 1)\n\n# Transform xrangeRDD through map transformation using sub function\n# Because map is a transformation and Spark uses lazy evaluation, no jobs, stages,\n# or tasks will be launched when we run this code.\nsubRDD = xrangeRDD.map(sub)\n\n# Let's see the RDD transformation hierarchy\nprint (subRDD.toDebugString())"
        }, 
        {
            "source": "#### ** (3d) Perform action `collect` to view results **\n\nTo see a list of elements decremented by one, we need to create a new list on the driver from the the data distributed in the executor nodes.  To do this we call the `collect()` method on our RDD.  `collect()` is often used after a filter or other operation to ensure that we are only returning a *small* amount of data to the driver.  This is done because the data returned to the driver must fit into the driver's available memory.  If not, the driver will crash.\n\nThe `collect()` method is the first action operation that we have encountered.  Action operations cause Spark to perform the (lazy) transformation operations that are required to compute the RDD returned by the action.  In our example, this means that tasks will now be launched to perform the `parallelize`, `map`, and `collect` operations.\n\nIn this example, the dataset is broken into four partitions, so four `collect()` tasks are launched. Each task collects the entries in its partition and sends the result to the SparkContext, which creates a list of the values, as shown in the figure below.\n![collect](http://spark-mooc.github.io/web-assets/images/collect.png)\n\nThe above figures showed what would happen if we ran `collect()` on a small example dataset with just four partitions.\n\nNow let's run `collect()` on `subRDD`.", 
            "cell_type": "markdown", 
            "metadata": {}
        }, 
        {
            "execution_count": null, 
            "cell_type": "code", 
            "metadata": {}, 
            "outputs": [], 
            "source": "# Let's collect the data\nprint (subRDD.collect())"
        }, 
        {
            "source": "#### ** (3d) Perform action `count` to view counts **\n\nOne of the most basic jobs that we can run is the `count()` job which will count the number of elements in an RDD using the `count()` action. Since `map()` creates a new RDD with the same number of elements as the starting RDD, we expect that applying `count()` to each RDD will return the same result.\n\nNote that because `count()` is an action operation, if we had not already performed an action with `collect()`, then Spark would now perform the transformation operations when we executed `count()`.\n\nEach task counts the entries in its partition and sends the result to your SparkContext, which adds up all of the counts. The figure below shows what would happen if we ran `count()` on a small example dataset with just four partitions.\n![count](http://spark-mooc.github.io/web-assets/images/count.png)", 
            "cell_type": "markdown", 
            "metadata": {}
        }, 
        {
            "execution_count": null, 
            "cell_type": "code", 
            "metadata": {}, 
            "outputs": [], 
            "source": "print (xrangeRDD.count())\nprint (subRDD.count())"
        }, 
        {
            "source": "#### ** (3e) Apply transformation `filter` and view results with `collect` **\n\nNext, we'll create a new RDD that only contains the values less than ten by using the `filter(f)` data-parallel operation. The `filter(f)` method is a transformation operation that creates a new RDD from the input RDD by applying filter function `f` to each item in the parent RDD and only passing those elements where the filter function returns `True`. Elements that do not return `True` will be dropped. Like `map()`, filter can be applied individually to each entry in the dataset, so is easily parallelized using Spark.\n\nThe figure below shows how this would work on the small four-partition dataset.\n![filter](http://spark-mooc.github.io/web-assets/images/filter.png)\n\nTo filter this dataset, we'll define a function called `ten()`, which returns `True` if the input is less than 10 and `False` otherwise.  This function will be passed to the `filter()` transformation as the filter function `f`.\n\nTo view the filtered list of elements less than ten, we need to create a new list on the driver from the distributed data on the executor nodes.  We use the `collect()` method to return a list that contains all of the elements in this filtered RDD to the driver program.", 
            "cell_type": "markdown", 
            "metadata": {}
        }, 
        {
            "execution_count": null, 
            "cell_type": "code", 
            "metadata": {}, 
            "outputs": [], 
            "source": "# Define a function to filter a single value\ndef ten(value):\n    \"\"\"Return whether value is below ten.\n\n    Args:\n        value (int): A number.\n\n    Returns:\n        bool: Whether `value` is less than ten.\n    \"\"\"\n    if (value < 10):\n        return True\n    else:\n        return False\n# The ten function could also be written concisely as: def ten(value): return value < 10\n\n# Pass the function ten to the filter transformation\n# Filter is a transformation so no tasks are run\nfilteredRDD = subRDD.filter(ten)\n\n# View the results using collect()\n# Collect is an action and triggers the filter transformation to run\nprint (filteredRDD.collect())"
        }, 
        {
            "execution_count": 3, 
            "cell_type": "code", 
            "metadata": {}, 
            "outputs": [], 
            "source": "def number(value):\n  if (value > 10):\n    return true\n  else:\n    return flase"
        }, 
        {
            "execution_count": null, 
            "cell_type": "code", 
            "metadata": {}, 
            "outputs": [], 
            "source": "filterlessRDD = subRDD.filter(number)\nprint (filteredRDD)\nprint (filteredRDD.collect())"
        }, 
        {
            "source": "<a id = \"lambda\"></a>", 
            "cell_type": "markdown", 
            "metadata": {}
        }, 
        {
            "source": "### ** 4. Lambda Functions **", 
            "cell_type": "markdown", 
            "metadata": {}
        }, 
        {
            "source": "#### ** (4a) Using Python `lambda()` functions **\n\nPython supports the use of small one-line anonymous functions that are not bound to a name at runtime. Borrowed from LISP, these `lambda` functions can be used wherever function objects are required. They are syntactically restricted to a single expression. Remember that `lambda` functions are a matter of style and using them is never required - semantically, they are just syntactic sugar for a normal function definition. You can always define a separate normal function instead, but using a `lambda()` function is an equivalent and more compact form of coding. Ideally you should consider using `lambda` functions where you want to encapsulate non-reusable code without littering your code with one-line functions.\n\nHere, instead of defining a separate function for the `filter()` transformation, we will use an inline `lambda()` function.", 
            "cell_type": "markdown", 
            "metadata": {}
        }, 
        {
            "execution_count": null, 
            "cell_type": "code", 
            "metadata": {}, 
            "outputs": [], 
            "source": "lambdaRDD = subRDD.filter(lambda x: x < 10)\nlambdaRDD.collect()"
        }, 
        {
            "execution_count": null, 
            "cell_type": "code", 
            "metadata": {}, 
            "outputs": [], 
            "source": "# Let's collect the even values less than 10\nevenRDD = lambdaRDD.filter(lambda x: x % 2 == 0)\nevenRDD.collect()"
        }, 
        {
            "source": "<a id = \"actions\"></a>", 
            "cell_type": "markdown", 
            "metadata": {}
        }, 
        {
            "source": "### ** 5. Additional RDD actions **", 
            "cell_type": "markdown", 
            "metadata": {}
        }, 
        {
            "source": "#### ** (5a) Other common actions **\n\nLet's investigate the additional actions: [first()](http://spark.apache.org/docs/latest/api/python/pyspark.html#pyspark.RDD.first), [take()](http://spark.apache.org/docs/latest/api/python/pyspark.html#pyspark.RDD.take), [top()](http://spark.apache.org/docs/latest/api/python/pyspark.html#pyspark.RDD.top), [takeOrdered()](http://spark.apache.org/docs/latest/api/python/pyspark.html#pyspark.RDD.takeOrdered), and [reduce()](http://spark.apache.org/docs/latest/api/python/pyspark.html#pyspark.RDD.reduce)\n\nOne useful thing to do when we have a new dataset is to look at the first few entries to obtain a rough idea of what information is available.  In Spark, we can do that using the `first()`, `take()`, `top()`, and `takeOrdered()` actions. Note that for the `first()` and `take()` actions, the elements that are returned depend on how the RDD is *partitioned*.\n\nInstead of using the `collect()` action, we can use the `take(n)` action to return the first n elements of the RDD. The `first()` action returns the first element of an RDD, and is equivalent to `take(1)`.\n\nThe `takeOrdered()` action returns the first n elements of the RDD, using either their natural order or a custom comparator. The key advantage of using `takeOrdered()` instead of `first()` or `take()` is that `takeOrdered()` returns a deterministic result, while the other two actions may return differing results, depending on the number of partions or execution environment. `takeOrdered()` returns the list sorted in *ascending order*.  The `top()` action is similar to `takeOrdered()` except that it returns the list in *descending order.*\n\nThe `reduce()` action reduces the elements of a RDD to a single value by applying a function that takes two parameters and returns a single value.  The function should be commutative and associative, as `reduce()` is applied at the partition level and then again to aggregate results from partitions.  If these rules don't hold, the results from `reduce()` will be inconsistent.  Reducing locally at partitions makes `reduce()` very efficient.", 
            "cell_type": "markdown", 
            "metadata": {}
        }, 
        {
            "execution_count": null, 
            "cell_type": "code", 
            "metadata": {}, 
            "outputs": [], 
            "source": "# Let's get the first element\nprint (filteredRDD.first())\n# The first 4\nprint (filteredRDD.take(4))\n# Note that it is ok to take more elements than the RDD has\nprint (filteredRDD.take(12))"
        }, 
        {
            "execution_count": null, 
            "cell_type": "code", 
            "metadata": {}, 
            "outputs": [], 
            "source": "# Retrieve the three smallest elements\nprint (filteredRDD.takeOrdered(3))\n# Retrieve the five largest elements\nprint (filteredRDD.top(5))"
        }, 
        {
            "execution_count": null, 
            "cell_type": "code", 
            "metadata": {}, 
            "outputs": [], 
            "source": "# Pass a lambda function to takeOrdered to reverse the order\nfilteredRDD.takeOrdered(4, lambda s: -s)"
        }, 
        {
            "execution_count": null, 
            "cell_type": "code", 
            "metadata": {}, 
            "outputs": [], 
            "source": "# Obtain Python's add function\nfrom operator import add\n# Efficiently sum the RDD using reduce\nprint (filteredRDD.reduce(add))\n# Sum using reduce with a lambda function\nprint (filteredRDD.reduce(lambda a, b: a + b))\n# Note that subtraction is not both associative and commutative\nprint (filteredRDD.reduce(lambda a, b: a - b))\nprint (filteredRDD.repartition(4).reduce(lambda a, b: a - b))\n# While addition is\nprint (filteredRDD.repartition(4).reduce(lambda a, b: a + b))"
        }, 
        {
            "source": "#### ** (5b) Advanced actions **\n\nHere are two additional actions that are useful for retrieving information from an RDD: [takeSample()](http://spark.apache.org/docs/latest/api/python/pyspark.html#pyspark.RDD.takeSample) and [countByValue()](http://spark.apache.org/docs/latest/api/python/pyspark.html#pyspark.RDD.countByValue)\n\nThe `takeSample()` action returns an array with a random sample of elements from the dataset.  It takes in a `withReplacement` argument, which specifies whether it is okay to randomly pick the same item multiple times from the parent RDD (so when `withReplacement=True`, you can get the same item back multiple times). It also takes an optional `seed` parameter that allows you to specify a seed value for the random number generator, so that reproducible results can be obtained.\n\nThe `countByValue()` action returns the count of each unique value in the RDD as a dictionary that maps values to counts.", 
            "cell_type": "markdown", 
            "metadata": {}
        }, 
        {
            "execution_count": null, 
            "cell_type": "code", 
            "metadata": {}, 
            "outputs": [], 
            "source": "# takeSample reusing elements\nprint (filteredRDD.takeSample(withReplacement=True, num=6))\n# takeSample without reuse\nprint (filteredRDD.takeSample(withReplacement=False, num=6))"
        }, 
        {
            "execution_count": null, 
            "cell_type": "code", 
            "metadata": {}, 
            "outputs": [], 
            "source": "# Set seed for predictability\nprint (filteredRDD.takeSample(withReplacement=False, num=6, seed=500))\n# Try reruning this cell and the cell above -- the results from this cell will remain constant\n# Use ctrl-enter to run without moving to the next cell"
        }, 
        {
            "execution_count": null, 
            "cell_type": "code", 
            "metadata": {}, 
            "outputs": [], 
            "source": "# Create new base RDD to show countByValue\nrepetitiveRDD = sc.parallelize([1, 2, 3, 1, 2, 3, 1, 2, 1, 2, 3, 3, 3, 4, 5, 4, 6])\nprint (repetitiveRDD.countByValue())"
        }, 
        {
            "source": "<a id = \"transformations\"></a>", 
            "cell_type": "markdown", 
            "metadata": {}
        }, 
        {
            "source": "### ** 6. Additional RDD transformations **", 
            "cell_type": "markdown", 
            "metadata": {}
        }, 
        {
            "source": "#### ** (6a) `flatMap` **\n\nWhen performing a `map()` transformation using a function, sometimes the function will return more (or less) than one element. We would like the newly created RDD to consist of the elements outputted by the function. Simply applying a `map()` transformation would yield a new RDD made up of iterators.  Each iterator could have zero or more elements.  Instead, we often want an RDD consisting of the values contained in those iterators.  The solution is to use a [flatMap()](http://spark.apache.org/docs/latest/api/python/pyspark.html#pyspark.RDD.flatMap) transformation, `flatMap()` is similar to `map()`, except that with `flatMap()` each input item can be mapped to zero or more output elements.\n\nTo demonstrate `flatMap()`, we will first emit a word along with its plural, and then a range that grows in length with each subsequent operation.", 
            "cell_type": "markdown", 
            "metadata": {}
        }, 
        {
            "execution_count": null, 
            "cell_type": "code", 
            "metadata": {}, 
            "outputs": [], 
            "source": "# Let's create a new base RDD to work from\nwordsList = ['cat', 'elephant', 'rat', 'rat', 'cat']\nwordsRDD = sc.parallelize(wordsList, 4)\n\n# Use map\nsingularAndPluralWordsRDDMap = wordsRDD.map(lambda x: (x, x + 's'))\n# Use flatMap\nsingularAndPluralWordsRDD = wordsRDD.flatMap(lambda x: (x, x + 's'))\n\n# View the results\nprint (singularAndPluralWordsRDDMap.collect())\nprint (singularAndPluralWordsRDD.collect())\n# View the number of elements in the RDD\nprint (singularAndPluralWordsRDDMap.count())\nprint (singularAndPluralWordsRDD.count())"
        }, 
        {
            "execution_count": null, 
            "cell_type": "code", 
            "metadata": {}, 
            "outputs": [], 
            "source": "simpleRDD = sc.parallelize([2, 3, 4])\nprint (simpleRDD.map(lambda x: range(1, x)).collect())\nprint (simpleRDD.flatMap(lambda x: range(1, x)).collect())"
        }, 
        {
            "source": "#### ** (6b) `groupByKey` and `reduceByKey` **\n\nLet's investigate the additional transformations: [groupByKey()](http://spark.apache.org/docs/latest/api/python/pyspark.html#pyspark.RDD.groupByKey) and [reduceByKey()](http://spark.apache.org/docs/latest/api/python/pyspark.html#pyspark.RDD.reduceByKey).\n\nBoth of these transformations operate on pair RDDs.  A pair RDD is an RDD where each element is a pair tuple (key, value).  For example, `sc.parallelize([('a', 1), ('a', 2), ('b', 1)])` would create a pair RDD where the keys are 'a', 'a', 'b' and the values are 1, 2, 1.\n\nThe `reduceByKey()` transformation gathers together pairs that have the same key and applies a function to two associated values at a time. `reduceByKey()` operates by applying the function first within each partition on a per-key basis and then across the partitions.\n\nWhile both the `groupByKey()` and `reduceByKey()` transformations can often be used to solve the same problem and will produce the same answer, the `reduceByKey()` transformation works much better for large distributed datasets. This is because Spark knows it can combine output with a common key on each partition *before* shuffling (redistributing) the data across nodes.  Only use `groupByKey()` if the operation would not benefit from reducing the data before the shuffle occurs.\n\nLook at the diagram below to understand how `reduceByKey` works.  Notice how pairs on the same machine with the same key are combined (by using the lamdba function passed into reduceByKey) before the data is shuffled. Then the lamdba function is called again to reduce all the values from each partition to produce one final result.\n![reduceByKey() figure](http://spark-mooc.github.io/web-assets/images/reduce_by.png)\n\nOn the other hand, when using the `groupByKey()` transformation - all the key-value pairs are shuffled around, causing a lot of unnecessary data to being transferred over the network.\n\nTo determine which machine to shuffle a pair to, Spark calls a partitioning function on the key of the pair. Spark spills data to disk when there is more data shuffled onto a single executor machine than can fit in memory. However, it flushes out the data to disk one key at a time, so if a single key has more key-value pairs than can fit in memory an out of memory exception occurs. This will be more gracefully handled in a later release of Spark so that the job can still proceed, but should still be avoided.  When Spark needs to spill to disk, performance is severely impacted.\n![groupByKey() figure](http://spark-mooc.github.io/web-assets/images/group_by.png)\n\nAs your dataset grows, the difference in the amount of data that needs to be shuffled, between the `reduceByKey()` and `groupByKey()` transformations, becomes increasingly exaggerated.\n\nHere are more transformations to prefer over `groupByKey()`:\n  +   [combineByKey()](http://spark.apache.org/docs/latest/api/python/pyspark.html#pyspark.RDD.combineByKey) can be used when you are combining elements but your return type differs from your input value type.\n  +   [foldByKey()](http://spark.apache.org/docs/latest/api/python/pyspark.html#pyspark.RDD.foldByKey) merges the values for each key using an associative function and a neutral \"zero value\".\n\nNow let's go through a simple `groupByKey()` and `reduceByKey()` example.", 
            "cell_type": "markdown", 
            "metadata": {}
        }, 
        {
            "execution_count": null, 
            "cell_type": "code", 
            "metadata": {}, 
            "outputs": [], 
            "source": "pairRDD = sc.parallelize([('a', 1), ('a', 2), ('b', 1)])\n# mapValues only used to improve format for printing\nprint (pairRDD.groupByKey().mapValues(lambda x: list(x)).collect())\n\n# Different ways to sum by key\nprint (pairRDD.groupByKey().map(lambda (k, v): (k, sum(v))).collect())\n# Using mapValues, which is recommended when they key doesn't change\nprint (pairRDD.groupByKey().mapValues(lambda x: sum(x)).collect())\n# reduceByKey is more efficient / scalable\nprint (pairRDD.reduceByKey(add).collect())"
        }, 
        {
            "source": "#### ** (6c) Advanced transformations ** [Optional]\n\nLet's investigate the advanced transformations: [mapPartitions()](http://spark.apache.org/docs/latest/api/python/pyspark.html#pyspark.RDD.mapPartitions) and [mapPartitionsWithIndex()](http://spark.apache.org/docs/latest/api/python/pyspark.html#pyspark.RDD.mapPartitionsWithIndex)\n\nThe `mapPartitions()` transformation uses a function that takes in an iterator (to the items in that specific partition) and returns an iterator.  The function is applied on a partition by partition basis.\n\nThe `mapPartitionsWithIndex()` transformation uses a function that takes in a partition index (think of this like the partition number) and an iterator (to the items in that specific partition). For every partition (index, iterator) pair, the function returns a tuple of the same partition index number and an iterator of the transformed items in that partition.", 
            "cell_type": "markdown", 
            "metadata": {}
        }, 
        {
            "execution_count": null, 
            "cell_type": "code", 
            "metadata": {}, 
            "outputs": [], 
            "source": "# mapPartitions takes a function that takes an iterator and returns an iterator\nprint (wordsRDD.collect())\nitemsRDD = wordsRDD.mapPartitions(lambda iterator: [','.join(iterator)])\nprint (itemsRDD.collect())"
        }, 
        {
            "execution_count": null, 
            "cell_type": "code", 
            "metadata": {}, 
            "outputs": [], 
            "source": "itemsByPartRDD = wordsRDD.mapPartitionsWithIndex(lambda index, iterator: [(index, list(iterator))])\n# We can see that three of the (partitions) workers have one element and the fourth worker has two\n# elements, although things may not bode well for the rat...\nprint (itemsByPartRDD.collect())\n# Rerun without returning a list (acts more like flatMap)\nitemsByPartRDD = wordsRDD.mapPartitionsWithIndex(lambda index, iterator: (index, list(iterator)))\nprint (itemsByPartRDD.collect())"
        }, 
        {
            "source": "<a id = \"cache\"></a>", 
            "cell_type": "markdown", 
            "metadata": {}
        }, 
        {
            "source": "### ** 7. Caching RDDs and storage options **", 
            "cell_type": "markdown", 
            "metadata": {}
        }, 
        {
            "source": "#### ** (7a) Caching RDDs **\n\nFor efficiency Spark keeps your RDDs in memory. By keeping the contents in memory, Spark can quickly access the data. However, memory is limited, so if you try to keep too many RDDs in memory, Spark will automatically delete RDDs from memory to make space for new RDDs. If you later refer to one of the RDDs, Spark will automatically recreate the RDD for you, but that takes time.\n\nSo, if you plan to use an RDD more than once, then you should tell Spark to cache that RDD. You can use the `cache()` operation to keep the RDD in memory. However, if you cache too many RDDs and Spark runs out of memory, it will delete the least recently used (LRU) RDD first. Again, the RDD will be automatically recreated when accessed.\n\nYou can check if an RDD is cached by using the `is_cached` attribute, and you can see your cached RDD in the \"Storage\" section of the Spark web UI. If you click on the RDD's name, you can see more information about where the RDD is stored.", 
            "cell_type": "markdown", 
            "metadata": {}
        }, 
        {
            "execution_count": null, 
            "cell_type": "code", 
            "metadata": {}, 
            "outputs": [], 
            "source": "# Name the RDD\nfilteredRDD.setName('My Filtered RDD')\n# Cache the RDD\nfilteredRDD.cache()\n# Is it cached\nprint (filteredRDD.is_cached)"
        }, 
        {
            "source": "#### ** (7b) Unpersist and storage options **\n\nSpark automatically manages the RDDs cached in memory and will save them to disk if it runs out of memory. For efficiency, once you are finished using an RDD, you can optionally tell Spark to stop caching it in memory by using the RDD's `unpersist()` method to inform Spark that you no longer need the RDD in memory.\n\nYou can see the set of transformations that were applied to create an RDD by using the `toDebugString()` method, which will provide storage information, and you can directly query the current storage information for an RDD using the `getStorageLevel()` operation.\n\n** Advanced: ** Spark provides many more options for managing how RDDs are stored in memory or even saved to disk. You can explore the API for RDD's [persist()](http://spark.apache.org/docs/latest/api/python/pyspark.html#pyspark.RDD.persist) operation using Python's [help()](https://docs.python.org/2/library/functions.html?highlight=help#help) command.  The `persist()` operation, optionally, takes a pySpark [StorageLevel](http://spark.apache.org/docs/latest/api/python/pyspark.html#pyspark.StorageLevel) object.", 
            "cell_type": "markdown", 
            "metadata": {}
        }, 
        {
            "execution_count": null, 
            "cell_type": "code", 
            "metadata": {}, 
            "outputs": [], 
            "source": "# Note that toDebugString also provides storage information\nprint (filteredRDD.toDebugString())"
        }, 
        {
            "execution_count": null, 
            "cell_type": "code", 
            "metadata": {}, 
            "outputs": [], 
            "source": "# If we are done with the RDD we can unpersist it so that its memory can be reclaimed\nfilteredRDD.unpersist()\n# Storage level for a non cached RDD\nprint (filteredRDD.getStorageLevel())\nfilteredRDD.cache()\n# Storage level for a cached RDD\nprint (filteredRDD.getStorageLevel())"
        }, 
        {
            "source": "<a id = \"debug\"></a>", 
            "cell_type": "markdown", 
            "metadata": {}
        }, 
        {
            "source": "### ** 8. Debugging Spark applications and lazy evaluation **", 
            "cell_type": "markdown", 
            "metadata": {}
        }, 
        {
            "source": "#### ** How Python is Executed in Spark **\n\nInternally, Spark executes using a Java Virtual Machine (JVM). pySpark runs Python code in a JVM using [Py4J](http://py4j.sourceforge.net). Py4J enables Python programs running in a Python interpreter to dynamically access Java objects in a Java Virtual Machine. Methods are called as if the Java objects resided in the Python interpreter and Java collections can be accessed through standard Python collection methods. Py4J also enables Java programs to call back Python objects.\n\nBecause pySpark uses Py4J, coding errors often result in a complicated, confusing stack trace that can be difficult to understand. In the following section, we'll explore how to understand stack traces.", 
            "cell_type": "markdown", 
            "metadata": {}
        }, 
        {
            "source": "#### ** (8a) Challenges with lazy evaluation using transformations and actions **\n\nSpark's use of lazy evaluation can make debugging more difficult because code is not always executed immediately. To see an example of how this can happen, let's first define a broken filter function.\n\nNext we perform a `filter()` operation using the broken filtering function.  No error will occur at this point due to Spark's use of lazy evaluation.\n\nThe `filter()` method will not be executed *until* an action operation is invoked on the RDD.  We will perform an action by using the `collect()` method to return a list that contains all of the elements in this RDD.", 
            "cell_type": "markdown", 
            "metadata": {}
        }, 
        {
            "execution_count": null, 
            "cell_type": "code", 
            "metadata": {}, 
            "outputs": [], 
            "source": "def brokenTen(value):\n    \"\"\"Incorrect implementation of the ten function.\n\n    Note:\n        The `if` statement checks an undefined variable `val` instead of `value`.\n\n    Args:\n        value (int): A number.\n\n    Returns:\n        bool: Whether `value` is less than ten.\n\n    Raises:\n        NameError: The function references `val`, which is not available in the local or global\n            namespace, so a `NameError` is raised.\n    \"\"\"\n    if (val < 10):\n        return True\n    else:\n        return False\n\nbrokenRDD = subRDD.filter(brokenTen)"
        }, 
        {
            "execution_count": null, 
            "cell_type": "code", 
            "metadata": {}, 
            "outputs": [], 
            "source": "# Now we'll see the error\nbrokenRDD.collect()"
        }, 
        {
            "source": "#### ** (8b) Finding the bug **\n\nWhen the `filter()` method is executed, Spark evaluates the RDD by executing the `parallelize()` and `filter()` methods. Since our `filter()` method has an error in the filtering function `brokenTen()`, an error occurs.\n\nScroll through the output \"Py4JJavaError     Traceback (most recent call last)\" part of the cell and first you will see that the line that generated the error is the `collect()` method line. There is *nothing wrong with this line*. However, it is an action and that caused other methods to be executed. Continue scrolling through the Traceback and you will see the following error line:\n    NameError: global name 'val' is not defined\n\nLooking at this error line, we can see that we used the wrong variable name in our filtering function `brokenTen()`.", 
            "cell_type": "markdown", 
            "metadata": {}
        }, 
        {
            "source": "#### ** (8c) Moving toward expert style **\n\nAs you are learning Spark, I recommend that you write your code in the form:\n    RDD.transformation1()\n    RDD.action1()\n    RDD.transformation2()\n    RDD.action2()\n\nUsing this style will make debugging your code much easier as it makes errors easier to localize - errors in your transformations will occur when the next action is executed.\n\nOnce you become more experienced with Spark, you can write your code with the form:\n    RDD.transformation1().transformation2().action()\n\nWe can also use `lambda()` functions instead of separately defined functions when their use improves readability and conciseness.", 
            "cell_type": "markdown", 
            "metadata": {}
        }, 
        {
            "execution_count": null, 
            "cell_type": "code", 
            "metadata": {}, 
            "outputs": [], 
            "source": "# Cleaner code through lambda use\nsubRDD.filter(lambda x: x < 10).collect()"
        }, 
        {
            "execution_count": null, 
            "cell_type": "code", 
            "metadata": {}, 
            "outputs": [], 
            "source": "# Even better by moving our chain of operators into a single line.\nsc.parallelize(data).map(lambda y: y - 1).filter(lambda x: x < 10).collect()"
        }, 
        {
            "source": "#### ** (8d) Readability and code style **\n\nTo make the expert coding style more readable, enclose the statement in parentheses and put each method, transformation, or action on a separate line.", 
            "cell_type": "markdown", 
            "metadata": {}
        }, 
        {
            "execution_count": null, 
            "cell_type": "code", 
            "metadata": {}, 
            "outputs": [], 
            "source": "# Final version\n(sc\n .parallelize(data)\n .map(lambda y: y - 1)\n .filter(lambda x: x < 10)\n .collect())"
        }, 
        {
            "source": "## ** Part B: Test Spark functionality **", 
            "cell_type": "markdown", 
            "metadata": {}
        }, 
        {
            "source": "<a id = \"spark\"></a>", 
            "cell_type": "markdown", 
            "metadata": {}
        }, 
        {
            "source": "### 9. Spark Functionality\n\n#### ** (9a) Parallelize, filter, and reduce **", 
            "cell_type": "markdown", 
            "metadata": {}
        }, 
        {
            "execution_count": null, 
            "cell_type": "code", 
            "metadata": {}, 
            "outputs": [], 
            "source": "# Check that Spark is working\nlargeRange = sc.parallelize(xrange(100000))\nreduceTest = largeRange.reduce(lambda a, b: a + b)\nfilterReduceTest = largeRange.filter(lambda x: x % 7 == 0).sum()\n\nprint (reduceTest)\nprint (filterReduceTest)\n\n# If the Spark jobs don't work properly these will raise an AssertionError\nassert reduceTest == 4999950000\nassert filterReduceTest == 714264285"
        }, 
        {
            "source": "#### ** (9b) Loading a text file **", 
            "cell_type": "markdown", 
            "metadata": {}
        }, 
        {
            "source": "You can upload your file to Amazon S3 or other online storage so that the Spark cluster can access it.\n\nIn DataBricks, you can check this URL for information:\n\n- https://docs.databricks.com/user-guide/advanced/filestore.html\n\nYou can import the data through Tables, Create Table, Data Import functions. Please remember to note down the prompt address, such as: \n\n- /FileStore/tables/dnsmv70v1491290162600/shakespeare.txt\n\nIf the file uploading is properly done, you can access the file via Web browser using this URL:\n\n- https://community.cloud.databricks.com/files/my-stuff/my-file.txt?o=######\n\nReplace ###### with your community edition ID. Such as\n\n- https://community.cloud.databricks.com/files/tables/dnsmv70v1491290162600/shakespeare.txt?o=48280648682457\n\n", 
            "cell_type": "markdown", 
            "metadata": {}
        }, 
        {
            "execution_count": null, 
            "cell_type": "code", 
            "metadata": {}, 
            "outputs": [], 
            "source": "# You can check the content of a specified folder on DataBricks' DBFS.\n# display(dbutils.fs.ls(\"/FileStore/tables\"))"
        }, 
        {
            "execution_count": null, 
            "cell_type": "code", 
            "metadata": {}, 
            "outputs": [], 
            "source": "import wget\n\nlink_to_data = 'https://github.com/tuliplab/mds/raw/master/Jupyter/data/shakespeare.txt'\nDataSet = wget.download(link_to_data)"
        }, 
        {
            "execution_count": null, 
            "cell_type": "code", 
            "metadata": {}, 
            "outputs": [], 
            "source": "# Check loading data with sc.textFile\n#import os.path\n#baseDir = os.path.join('data')\n#inputPath = os.path.join('cs100', 'lab1', 'shakespeare.txt')\n#fileName = os.path.join(baseDir, inputPath)\n\n# Replace this address by your own filestore address\nrawData = sc.textFile('shakespeare.txt')\nshakespeareCount = rawData.count()\n\nprint shakespeareCount\n\n# If the text file didn't load properly an AssertionError will be raised\nassert shakespeareCount == 122395"
        }, 
        {
            "source": "<a id = \"test\"></a>", 
            "cell_type": "markdown", 
            "metadata": {}
        }, 
        {
            "source": "\n### ** 10. Check class testing library **", 
            "cell_type": "markdown", 
            "metadata": {}
        }, 
        {
            "source": "#### ** (10a) Compare with hash **", 
            "cell_type": "markdown", 
            "metadata": {}
        }, 
        {
            "execution_count": null, 
            "cell_type": "code", 
            "metadata": {}, 
            "outputs": [], 
            "source": "!pip install test_helper"
        }, 
        {
            "execution_count": null, 
            "cell_type": "code", 
            "metadata": {}, 
            "outputs": [], 
            "source": "# TEST Compare with hash (2a)\n# Check our testing library/package\n# This should print '1 test passed.' on two lines\nfrom test_helper import Test\n\ntwelve = 12\nTest.assertEquals(twelve, 12, 'twelve should equal 12')\nTest.assertEqualsHashed(twelve, '7b52009b64fd0a2a49e6d8a939753077792b0554',\n                        'twelve, once hashed, should equal the hashed value of 12')"
        }, 
        {
            "source": "#### ** (10b) Compare lists **", 
            "cell_type": "markdown", 
            "metadata": {}
        }, 
        {
            "execution_count": null, 
            "cell_type": "code", 
            "metadata": {}, 
            "outputs": [], 
            "source": "# TEST Compare lists (2b)\n# This should print '1 test passed.'\nunsortedList = [(5, 'b'), (5, 'a'), (4, 'c'), (3, 'a')]\nTest.assertEquals(sorted(unsortedList), [(3, 'a'), (4, 'c'), (5, 'a'), (5, 'b')],\n                  'unsortedList does not sort properly')"
        }, 
        {
            "source": "<a id = \"plot\"></a>", 
            "cell_type": "markdown", 
            "metadata": {}
        }, 
        {
            "source": "### ** 11. Check plotting **", 
            "cell_type": "markdown", 
            "metadata": {}
        }, 
        {
            "source": "#### ** (11a) Our first plot **\n\nAfter executing the code cell below, you should see a plot with 50 blue circles.  The circles should start at the bottom left and end at the top right.", 
            "cell_type": "markdown", 
            "metadata": {}
        }, 
        {
            "execution_count": null, 
            "cell_type": "code", 
            "metadata": {}, 
            "outputs": [], 
            "source": "# Check matplotlib plotting\nimport matplotlib.pyplot as plt\nimport matplotlib.cm as cm\nfrom math import log\n\n# %matplotlib inline\n\n# function for generating plot layout\ndef preparePlot(xticks, yticks, figsize=(10.5, 6), hideLabels=False, gridColor='#999999', gridWidth=1.0):\n    plt.close()\n    fig, ax = plt.subplots(figsize=figsize, facecolor='white', edgecolor='white')\n    ax.axes.tick_params(labelcolor='#999999', labelsize='10')\n    for axis, ticks in [(ax.get_xaxis(), xticks), (ax.get_yaxis(), yticks)]:\n        axis.set_ticks_position('none')\n        axis.set_ticks(ticks)\n        axis.label.set_color('#999999')\n        if hideLabels: axis.set_ticklabels([])\n    plt.grid(color=gridColor, linewidth=gridWidth, linestyle='-')\n    map(lambda position: ax.spines[position].set_visible(False), ['bottom', 'top', 'left', 'right'])\n    return fig, ax\n\n# generate layout and plot data\nx = range(1, 50)\ny = [log(x1 ** 2) for x1 in x]\nfig, ax = preparePlot(range(5, 60, 10), range(0, 12, 1))\nplt.scatter(x, y, s=14**2, c='#d6ebf2', edgecolors='#8cbfd0', alpha=0.75)\nax.set_xlabel(r'$range(1, 50)$'), ax.set_ylabel(r'$\\log_e(x^2)$')\n\ndisplay(fig)\npass"
        }
    ], 
    "metadata": {
        "kernelspec": {
            "display_name": "Python 3.5", 
            "name": "python3", 
            "language": "python"
        }, 
        "language_info": {
            "mimetype": "text/x-python", 
            "nbconvert_exporter": "python", 
            "version": "3.5.4", 
            "name": "python", 
            "file_extension": ".py", 
            "pygments_lexer": "ipython3", 
            "codemirror_mode": {
                "version": 3, 
                "name": "ipython"
            }
        }, 
        "anaconda-cloud": {}
    }, 
    "nbformat": 4
}