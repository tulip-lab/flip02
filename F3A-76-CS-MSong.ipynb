{
    "nbformat_minor": 1, 
    "cells": [
        {
            "source": "# Modern Data Science \n**(Module 06: Apache Spark Platform)**\n\n---\n- Materials in this module include resources collected from various open-source online repositories.\n- You are free to use, change and distribute this package.\n\nPrepared by and for \n**Student Members** |\n2006-2018 [TULIP Lab](http://www.tulip.org.au), Australia\n\n---\n<font color='red' size = 4> Python 2.7 </font>\n## Session P - Case Study: Million Song\n---\n\nThis lab covers a common supervised learning pipeline, using a subset of the [Million Song Dataset](http://labrosa.ee.columbia.edu/millionsong/) from the [UCI Machine Learning Repository](https://archive.ics.uci.edu/ml/datasets/YearPredictionMSD). Our goal is to train a linear regression model to predict the release year of a song given a set of audio features.\n\nNote that, for reference, you can look up the details of the relevant Spark methods in [Spark's Python API](https://spark.apache.org/docs/latest/api/python/pyspark.html#pyspark.RDD) and the relevant NumPy methods in the [NumPy Reference](http://docs.scipy.org/doc/numpy/reference/index.html)\n\n\n## Content\n\n* [Read and parse the initial dataset](#data)\n\n* [Visualization 1: Features](#v1)\n\n* [Visualization 2: Shifting labels](#v2)\n\n* [Create and evaluate a baseline model](#baseline)\n\n* [Visualization 3: Predicted vs. actual](#v3)\n\n* [Train (via gradient descent) and evaluate a linear regression model](#train)\n\n* [Visualization 4: Training error](#v4)\n\n* [Train using MLlib and tune hyperparameters via grid search](#grid)\n\n* [Visualization 5: Best model's predictions](#v5)\n\n* [Visualization 6: Hyperparameter heat map](#v6)\n\n* [Add interactions between features](#interaction)\n \n\n", 
            "cell_type": "markdown", 
            "metadata": {}
        }, 
        {
            "source": "<a id = \"data\"></a>", 
            "cell_type": "markdown", 
            "metadata": {}
        }, 
        {
            "source": "### 1. Read and parse the initial dataset", 
            "cell_type": "markdown", 
            "metadata": {}
        }, 
        {
            "source": "#### ** (1a) Load and check the data **\n\nThe raw data is currently stored in text file.  We will start by storing this raw data in as an RDD, with each element of the RDD representing a data point as a comma-delimited string. Each string starts with the label (a year) followed by numerical audio features. Use the [count method](https://spark.apache.org/docs/latest/api/python/pyspark.html#pyspark.RDD.count) to check how many data points we have.  Then use the [take method](https://spark.apache.org/docs/latest/api/python/pyspark.html#pyspark.RDD.take) to create and print out a list of the first 5 data points in their initial string format.", 
            "cell_type": "markdown", 
            "metadata": {}
        }, 
        {
            "execution_count": 1, 
            "cell_type": "code", 
            "metadata": {}, 
            "outputs": [], 
            "source": "import wget\n\nlink_to_data = 'https://github.com/tuliplab/mds/raw/master/Jupyter/data/millionsong.txt'\nDataSet = wget.download(link_to_data)"
        }, 
        {
            "execution_count": 3, 
            "cell_type": "code", 
            "metadata": {
                "collapsed": true
            }, 
            "outputs": [
                {
                    "output_type": "stream", 
                    "name": "stdout", 
                    "text": "total 15240\r\n-rw------- 1 s05b-0294eb3de63d2e-b5498f932ea5 users  129195 Feb 25 04:18 apache_access_log-beaa3.PROJECT\r\n-rw------- 1 s05b-0294eb3de63d2e-b5498f932ea5 users     609 Feb 25 03:41 brain_body_data.csv\r\ndrwx------ 3 s05b-0294eb3de63d2e-b5498f932ea5 users    4096 Feb  5 04:47 datasets\r\ndrwx------ 2 s05b-0294eb3de63d2e-b5498f932ea5 users    4096 Feb 21 21:53 dl\r\n-rw------- 1 s05b-0294eb3de63d2e-b5498f932ea5 users 2144903 Feb 25 01:45 kdd.gz\r\n-rw------- 1 s05b-0294eb3de63d2e-b5498f932ea5 users 1248115 Feb 25 04:49 millionsong.txt\r\ndrwx------ 2 s05b-0294eb3de63d2e-b5498f932ea5 users    4096 Feb  9 16:57 MNIST_data\r\n-rw------- 1 s05b-0294eb3de63d2e-b5498f932ea5 users    1697 Feb 25 01:32 mtcars.csv\r\n-rw------- 1 s05b-0294eb3de63d2e-b5498f932ea5 users  509586 Feb 25 03:49 pendigits.txt\r\n-rw------- 1 s05b-0294eb3de63d2e-b5498f932ea5 users 1113894 Feb 25 03:44 poker.txt\r\n-rw------- 1 s05b-0294eb3de63d2e-b5498f932ea5 users   39474 Feb 25 03:42 sample_svm_data.txt\r\ndrwx------ 2 s05b-0294eb3de63d2e-b5498f932ea5 users    4096 Feb 23 16:25 summary_logs\r\ndrwx------ 3 s05b-0294eb3de63d2e-b5498f932ea5 users    4096 Feb 21 21:10 tf_logs\r\n"
                }
            ], 
            "source": "!ls -l"
        }, 
        {
            "execution_count": 2, 
            "cell_type": "code", 
            "metadata": {}, 
            "outputs": [], 
            "source": "# load testing library\n#from test_helper import Test\n#import os.path\n#baseDir = os.path.join('data')\n#inputPath = os.path.join('millionsong.txt')\n#fileName = os.path.join(baseDir, inputPath)\n\nfileName = \"millionsong.txt\"\nnumPartitions = 2\nrawData = sc.textFile(fileName, numPartitions)"
        }, 
        {
            "execution_count": null, 
            "cell_type": "code", 
            "metadata": {}, 
            "outputs": [], 
            "source": "# TODO: Replace <FILL IN> with appropriate code\nnumPoints = <FILL IN>\nprint numPoints\nsamplePoints = <FILL IN>\nprint samplePoints"
        }, 
        {
            "source": "<div align=\"right\">\n<a href=\"#mat1\" class=\"btn btn-default\" data-toggle=\"collapse\">Click here for the solution</a>\n</div>\n<div id=\"mat1\" class=\"collapse\">\n```\nnumPoints = rawData.count()\nprint numPoints\nsamplePoints = rawData.take(5)\n\n```\n</div>", 
            "cell_type": "markdown", 
            "metadata": {}
        }, 
        {
            "execution_count": null, 
            "cell_type": "code", 
            "metadata": {}, 
            "outputs": [], 
            "source": "# TEST Load and check the data (1a)\nTest.assertEquals(numPoints, 6724, 'incorrect value for numPoints')\nTest.assertEquals(len(samplePoints), 5, 'incorrect length for samplePoints')"
        }, 
        {
            "source": "#### ** (1b) Using `LabeledPoint` **\n\nIn MLlib, labeled training instances are stored using the [LabeledPoint](https://spark.apache.org/docs/latest/api/python/pyspark.mllib.html#pyspark.mllib.regression.LabeledPoint) object.  Write the parsePoint function that takes as input a raw data point, parses it using Python's [unicode.split](https://docs.python.org/2/library/string.html#string.split) method, and returns a `LabeledPoint`.  Use this function to parse samplePoints (from the previous question).  Then print out the features and label for the first training point, using the `LabeledPoint.features` and `LabeledPoint.label` attributes. Finally, calculate the number features for this dataset.\n\nNote that `split()` can be called directly on a `unicode` or `str` object.  For example, `u'split,me'.split(',')` returns `[u'split', u'me']`.", 
            "cell_type": "markdown", 
            "metadata": {}
        }, 
        {
            "execution_count": null, 
            "cell_type": "code", 
            "metadata": {}, 
            "outputs": [], 
            "source": "from pyspark.mllib.regression import LabeledPoint\nimport numpy as np\n\n# Here is a sample raw data point:\n# '2001.0,0.884,0.610,0.600,0.474,0.247,0.357,0.344,0.33,0.600,0.425,0.60,0.419'\n# In this raw data point, 2001.0 is the label, and the remaining values are features"
        }, 
        {
            "execution_count": null, 
            "cell_type": "code", 
            "metadata": {}, 
            "outputs": [], 
            "source": "# TODO: Replace <FILL IN> with appropriate code\ndef parsePoint(line):\n    \"\"\"Converts a comma separated unicode string into a `LabeledPoint`.\n\n    Args:\n        line (unicode): Comma separated unicode string where the first element is the label and the\n            remaining elements are features.\n\n    Returns:\n        LabeledPoint: The line is converted into a `LabeledPoint`, which consists of a label and\n            features.\n    \"\"\"\n    <FILL IN>\n\nparsedSamplePoints = <FILL IN>\nfirstPointFeatures = <FILL IN>\nfirstPointLabel = <FILL IN>\nprint firstPointFeatures, firstPointLabel\n\nd = len(firstPointFeatures)\nprint d"
        }, 
        {
            "source": "<div align=\"right\">\n<a href=\"#mat2\" class=\"btn btn-default\" data-toggle=\"collapse\">Click here for the solution</a>\n</div>\n<div id=\"mat2\" class=\"collapse\">\n```\ndef parsePoint(line):\n    \"\"\"Converts a comma separated unicode string into a `LabeledPoint`.\n\n    Args:\n        line (unicode): Comma separated unicode string where the first element is the label and the\n            remaining elements are features.\n\n    Returns:\n        LabeledPoint: The line is converted into a `LabeledPoint`, which consists of a label and\n            features.\n    \"\"\"\n    l = map(float, line.split(','))\n    return LabeledPoint(l[0], l[1:])\n\nparsedSamplePoints = map(parsePoint, samplePoints)\nfirstPointFeatures = parsedSamplePoints[0].features\nfirstPointLabel = parsedSamplePoints[0].label\n\n```\n</div>", 
            "cell_type": "markdown", 
            "metadata": {}
        }, 
        {
            "execution_count": null, 
            "cell_type": "code", 
            "metadata": {}, 
            "outputs": [], 
            "source": "# TEST Using LabeledPoint (1b)\nTest.assertTrue(isinstance(firstPointLabel, float), 'label must be a float')\nexpectedX0 = [0.8841,0.6105,0.6005,0.4747,0.2472,0.3573,0.3441,0.3396,0.6009,0.4257,0.6049,0.4192]\nTest.assertTrue(np.allclose(expectedX0, firstPointFeatures, 1e-4, 1e-4),\n                'incorrect features for firstPointFeatures')\nTest.assertTrue(np.allclose(2001.0, firstPointLabel), 'incorrect label for firstPointLabel')\nTest.assertTrue(d == 12, 'incorrect number of features')"
        }, 
        {
            "source": "<a id = \"v1\"></a>", 
            "cell_type": "markdown", 
            "metadata": {}
        }, 
        {
            "source": "#### **Visualization 1: Features**\n\nFirst we will load and setup the visualization library.  Then we will look at the raw features for 50 data points by generating a heatmap that visualizes each feature on a grey-scale and shows the variation of each feature across the 50 sample data points.  The features are all between 0 and 1, with values closer to 1 represented via darker shades of grey.", 
            "cell_type": "markdown", 
            "metadata": {}
        }, 
        {
            "execution_count": null, 
            "cell_type": "code", 
            "metadata": {}, 
            "outputs": [], 
            "source": "import matplotlib.pyplot as plt\nimport matplotlib.cm as cm\n\nsampleMorePoints = rawData.take(50)\n# You can uncomment the line below to see randomly selected features.  These will be randomly\n# selected each time you run the cell.  Note that you should run this cell with the line commented\n# out when answering the lab quiz questions.\n# sampleMorePoints = rawData.takeSample(False, 50)\n\nparsedSampleMorePoints = map(parsePoint, sampleMorePoints)\ndataValues = map(lambda lp: lp.features.toArray(), parsedSampleMorePoints)\n\ndef preparePlot(xticks, yticks, figsize=(10.5, 6), hideLabels=False, gridColor='#999999',\n                gridWidth=1.0):\n    \"\"\"Template for generating the plot layout.\"\"\"\n    plt.close()\n    fig, ax = plt.subplots(figsize=figsize, facecolor='white', edgecolor='white')\n    ax.axes.tick_params(labelcolor='#999999', labelsize='10')\n    for axis, ticks in [(ax.get_xaxis(), xticks), (ax.get_yaxis(), yticks)]:\n        axis.set_ticks_position('none')\n        axis.set_ticks(ticks)\n        axis.label.set_color('#999999')\n        if hideLabels: axis.set_ticklabels([])\n    plt.grid(color=gridColor, linewidth=gridWidth, linestyle='-')\n    map(lambda position: ax.spines[position].set_visible(False), ['bottom', 'top', 'left', 'right'])\n    return fig, ax\n\n# generate layout and plot\nfig, ax = preparePlot(np.arange(.5, 11, 1), np.arange(.5, 49, 1), figsize=(8,7), hideLabels=True,\n                      gridColor='#eeeeee', gridWidth=1.1)\nimage = plt.imshow(dataValues,interpolation='nearest', aspect='auto', cmap=cm.Greys)\nfor x, y, s in zip(np.arange(-.125, 12, 1), np.repeat(-.75, 12), [str(x) for x in range(12)]):\n    plt.text(x, y, s, color='#999999', size='10')\nplt.text(4.7, -3, 'Feature', color='#999999', size='11'), ax.set_ylabel('Observation')\npass"
        }, 
        {
            "source": "#### **(1c) Find the range **\n\nNow let's examine the labels to find the range of song years.  To do this, first parse each element of the `rawData` RDD, and then find the smallest and largest labels.", 
            "cell_type": "markdown", 
            "metadata": {}
        }, 
        {
            "execution_count": null, 
            "cell_type": "code", 
            "metadata": {}, 
            "outputs": [], 
            "source": "# TODO: Replace <FILL IN> with appropriate code\nparsedDataInit = rawData.map(<FILL IN>)\nonlyLabels = parsedDataInit.map(<FILL IN>)\nminYear = <FILL IN>\nmaxYear = <FILL IN>\nprint maxYear, minYear"
        }, 
        {
            "source": "<div align=\"right\">\n<a href=\"#mat3\" class=\"btn btn-default\" data-toggle=\"collapse\">Click here for the solution</a>\n</div>\n<div id=\"mat3\" class=\"collapse\">\n```\nparsedDataInit = rawData.map(parsePoint)\nonlyLabels = parsedDataInit.map(lambda x: x.label)\nminYear = onlyLabels.min()\nmaxYear = onlyLabels.max()\n\n```\n</div>", 
            "cell_type": "markdown", 
            "metadata": {}
        }, 
        {
            "execution_count": null, 
            "cell_type": "code", 
            "metadata": {}, 
            "outputs": [], 
            "source": "# TEST Find the range (1c)\nTest.assertEquals(len(parsedDataInit.take(1)[0].features), 12,\n                  'unexpected number of features in sample point')\nsumFeatTwo = parsedDataInit.map(lambda lp: lp.features[2]).sum()\nTest.assertTrue(np.allclose(sumFeatTwo, 3158.96224351), 'parsedDataInit has unexpected values')\nyearRange = maxYear - minYear\nTest.assertTrue(yearRange == 89, 'incorrect range for minYear to maxYear')"
        }, 
        {
            "source": "#### **(1d) Shift labels **\n\nAs we just saw, the labels are years in the 1900s and 2000s.  In learning problems, it is often natural to shift labels such that they start from zero.  Starting with `parsedDataInit`, create a new RDD consisting of `LabeledPoint` objects in which the labels are shifted such that smallest label equals zero.", 
            "cell_type": "markdown", 
            "metadata": {}
        }, 
        {
            "execution_count": null, 
            "cell_type": "code", 
            "metadata": {}, 
            "outputs": [], 
            "source": "# TODO: Replace <FILL IN> with appropriate code\nparsedData = parsedDataInit.<FILL IN>\n\n# Should be a LabeledPoint\nprint type(parsedData.take(1)[0])\n# View the first point\nprint '\\n{0}'.format(parsedData.take(1))"
        }, 
        {
            "source": "<div align=\"right\">\n<a href=\"#mat4\" class=\"btn btn-default\" data-toggle=\"collapse\">Click here for the solution</a>\n</div>\n<div id=\"mat4\" class=\"collapse\">\n```\nparsedData = parsedDataInit.map(lambda x: LabeledPoint(x.label - minYear, x.features))\n\n```\n</div>", 
            "cell_type": "markdown", 
            "metadata": {}
        }, 
        {
            "execution_count": null, 
            "cell_type": "code", 
            "metadata": {}, 
            "outputs": [], 
            "source": "# TEST Shift labels (1d)\noldSampleFeatures = parsedDataInit.take(1)[0].features\nnewSampleFeatures = parsedData.take(1)[0].features\nTest.assertTrue(np.allclose(oldSampleFeatures, newSampleFeatures),\n                'new features do not match old features')\nsumFeatTwo = parsedData.map(lambda lp: lp.features[2]).sum()\nTest.assertTrue(np.allclose(sumFeatTwo, 3158.96224351), 'parsedData has unexpected values')\nminYearNew = parsedData.map(lambda lp: lp.label).min()\nmaxYearNew = parsedData.map(lambda lp: lp.label).max()\nTest.assertTrue(minYearNew == 0, 'incorrect min year in shifted data')\nTest.assertTrue(maxYearNew == 89, 'incorrect max year in shifted data')"
        }, 
        {
            "source": "<a id = \"v2\"></a>", 
            "cell_type": "markdown", 
            "metadata": {}
        }, 
        {
            "source": "#### ** Visualization 2: Shifting labels **\n\nWe will look at the labels before and after shifting them.  Both scatter plots below visualize tuples storing i) a label value and ii) the number of training points with this label.  The first scatter plot uses the initial labels, while the second one uses the shifted labels.  Note that the two plots look the same except for the labels on the x-axis.", 
            "cell_type": "markdown", 
            "metadata": {}
        }, 
        {
            "execution_count": null, 
            "cell_type": "code", 
            "metadata": {}, 
            "outputs": [], 
            "source": "# get data for plot\noldData = (parsedDataInit\n           .map(lambda lp: (lp.label, 1))\n           .reduceByKey(lambda x, y: x + y)\n           .collect())\nx, y = zip(*oldData)\n\n# generate layout and plot data\nfig, ax = preparePlot(np.arange(1920, 2050, 20), np.arange(0, 150, 20))\nplt.scatter(x, y, s=14**2, c='#d6ebf2', edgecolors='#8cbfd0', alpha=0.75)\nax.set_xlabel('Year'), ax.set_ylabel('Count')\npass"
        }, 
        {
            "execution_count": null, 
            "cell_type": "code", 
            "metadata": {}, 
            "outputs": [], 
            "source": "# get data for plot\nnewData = (parsedData\n           .map(lambda lp: (lp.label, 1))\n           .reduceByKey(lambda x, y: x + y)\n           .collect())\nx, y = zip(*newData)\n\n# generate layout and plot data\nfig, ax = preparePlot(np.arange(0, 120, 20), np.arange(0, 120, 20))\nplt.scatter(x, y, s=14**2, c='#d6ebf2', edgecolors='#8cbfd0', alpha=0.75)\nax.set_xlabel('Year (shifted)'), ax.set_ylabel('Count')\npass"
        }, 
        {
            "source": "#### ** (1e) Training, validation, and test sets **\n\nWe're almost done parsing our dataset, and our final task involves split it into training, validation and test sets. Use the [randomSplit method](https://spark.apache.org/docs/latest/api/python/pyspark.html#pyspark.RDD.randomSplit) with the specified weights and seed to create RDDs storing each of these datasets. Next, cache each of these RDDs, as we will be accessing them multiple times in the remainder of this lab. Finally, compute the size of each dataset and verify that the sum of their sizes equals the value computed in Part (1a).", 
            "cell_type": "markdown", 
            "metadata": {}
        }, 
        {
            "execution_count": null, 
            "cell_type": "code", 
            "metadata": {}, 
            "outputs": [], 
            "source": "# TODO: Replace <FILL IN> with appropriate code\nweights = [.8, .1, .1]\nseed = 42\nparsedTrainData, parsedValData, parsedTestData = parsedData.<FILL IN>\nparsedTrainData.<FILL IN>\nparsedValData.<FILL IN>\nparsedTestData.<FILL IN>\nnTrain = parsedTrainData.<FILL IN>\nnVal = parsedValData.<FILL IN>\nnTest = parsedTestData.<FILL IN>\n\nprint nTrain, nVal, nTest, nTrain + nVal + nTest\nprint parsedData.count()"
        }, 
        {
            "source": "<div align=\"right\">\n<a href=\"#mat5\" class=\"btn btn-default\" data-toggle=\"collapse\">Click here for the solution</a>\n</div>\n<div id=\"mat5\" class=\"collapse\">\n```\nweights = [.8, .1, .1]\nseed = 42\nparsedTrainData, parsedValData, parsedTestData = parsedData.randomSplit(weights=weights, seed=seed)\nparsedTrainData.cache()\nparsedValData.cache()\nparsedTestData.cache()\nnTrain = parsedTrainData.count()\nnVal = parsedValData.count()\nnTest = parsedTestData.count()\n\n```\n</div>", 
            "cell_type": "markdown", 
            "metadata": {}
        }, 
        {
            "execution_count": null, 
            "cell_type": "code", 
            "metadata": {}, 
            "outputs": [], 
            "source": "# TEST Training, validation, and test sets (1e)\nTest.assertEquals(parsedTrainData.getNumPartitions(), numPartitions,\n                  'parsedTrainData has wrong number of partitions')\nTest.assertEquals(parsedValData.getNumPartitions(), numPartitions,\n                  'parsedValData has wrong number of partitions')\nTest.assertEquals(parsedTestData.getNumPartitions(), numPartitions,\n                  'parsedTestData has wrong number of partitions')\nTest.assertEquals(len(parsedTrainData.take(1)[0].features), 12,\n                  'parsedTrainData has wrong number of features')\nsumFeatTwo = (parsedTrainData\n              .map(lambda lp: lp.features[2])\n              .sum())\nsumFeatThree = (parsedValData\n                .map(lambda lp: lp.features[3])\n                .reduce(lambda x, y: x + y))\nsumFeatFour = (parsedTestData\n               .map(lambda lp: lp.features[4])\n               .reduce(lambda x, y: x + y))\nTest.assertTrue(np.allclose([sumFeatTwo, sumFeatThree, sumFeatFour],\n                            2526.87757656, 297.340394298, 184.235876654),\n                'parsed Train, Val, Test data has unexpected values')\nTest.assertTrue(nTrain + nVal + nTest == 6724, 'unexpected Train, Val, Test data set size')\nTest.assertEquals(nTrain, 5371, 'unexpected value for nTrain')\nTest.assertEquals(nVal, 682, 'unexpected value for nVal')\nTest.assertEquals(nTest, 671, 'unexpected value for nTest')"
        }, 
        {
            "source": "<a id = \"baseline\"></a>", 
            "cell_type": "markdown", 
            "metadata": {}
        }, 
        {
            "source": "### 2. Create and evaluate a baseline model", 
            "cell_type": "markdown", 
            "metadata": {}
        }, 
        {
            "source": "#### **(2a) Average label **\n\nA very simple yet natural baseline model is one where we always make the same prediction independent of the given data point, using the average label in the training set as the constant prediction value.  Compute this value, which is the average (shifted) song year for the training set.  Use an appropriate method in the [RDD API](https://spark.apache.org/docs/latest/api/python/pyspark.html#pyspark.RDD).", 
            "cell_type": "markdown", 
            "metadata": {}
        }, 
        {
            "execution_count": null, 
            "cell_type": "code", 
            "metadata": {}, 
            "outputs": [], 
            "source": "# TODO: Replace <FILL IN> with appropriate code\naverageTrainYear = (parsedTrainData\n                    <FILL IN>)\nprint averageTrainYear"
        }, 
        {
            "source": "<div align=\"right\">\n<a href=\"#mat6\" class=\"btn btn-default\" data-toggle=\"collapse\">Click here for the solution</a>\n</div>\n<div id=\"mat6\" class=\"collapse\">\n```\naverageTrainYear = (parsedTrainData\n                    .map(lambda x: x.label)\n                    .mean()\n                   )\n\n\n```\n</div>", 
            "cell_type": "markdown", 
            "metadata": {}
        }, 
        {
            "execution_count": null, 
            "cell_type": "code", 
            "metadata": {}, 
            "outputs": [], 
            "source": "# TEST Average label (2a)\nTest.assertTrue(np.allclose(averageTrainYear, 53.9316700801),\n                'incorrect value for averageTrainYear')"
        }, 
        {
            "source": "#### **(2b) Root mean squared error **\n\nWe naturally would like to see how well this naive baseline performs.  We will use root mean squared error ([RMSE](http://en.wikipedia.org/wiki/Root-mean-square_deviation)) for evaluation purposes.  Implement a function to compute RMSE given an RDD of (label, prediction) tuples, and test out this function on an example.", 
            "cell_type": "markdown", 
            "metadata": {}
        }, 
        {
            "execution_count": null, 
            "cell_type": "code", 
            "metadata": {}, 
            "outputs": [], 
            "source": "# TODO: Replace <FILL IN> with appropriate code\ndef squaredError(label, prediction):\n    \"\"\"Calculates the the squared error for a single prediction.\n\n    Args:\n        label (float): The correct value for this observation.\n        prediction (float): The predicted value for this observation.\n\n    Returns:\n        float: The difference between the `label` and `prediction` squared.\n    \"\"\"\n    <FILL IN>\n\ndef calcRMSE(labelsAndPreds):\n    \"\"\"Calculates the root mean squared error for an `RDD` of (label, prediction) tuples.\n\n    Args:\n        labelsAndPred (RDD of (float, float)): An `RDD` consisting of (label, prediction) tuples.\n\n    Returns:\n        float: The square root of the mean of the squared errors.\n    \"\"\"\n    <FILL IN>\n\nlabelsAndPreds = sc.parallelize([(3., 1.), (1., 2.), (2., 2.)])\n# RMSE = sqrt[((3-1)^2 + (1-2)^2 + (2-2)^2) / 3] = 1.291\nexampleRMSE = calcRMSE(labelsAndPreds)\nprint exampleRMSE"
        }, 
        {
            "source": "<div align=\"right\">\n<a href=\"#mat7\" class=\"btn btn-default\" data-toggle=\"collapse\">Click here for the solution</a>\n</div>\n<div id=\"mat7\" class=\"collapse\">\n```\ndef squaredError(label, prediction):\n    \"\"\"Calculates the the squared error for a single prediction.\n\n    Args:\n        label (float): The correct value for this observation.\n        prediction (float): The predicted value for this observation.\n\n    Returns:\n        float: The difference between the `label` and `prediction` squared.\n    \"\"\"\n    return (label - prediction)**2\n\ndef calcRMSE(labelsAndPreds):\n    \"\"\"Calculates the root mean squared error for an `RDD` of (label, prediction) tuples.\n\n    Args:\n        labelsAndPred (RDD of (float, float)): An `RDD` consisting of (label, prediction) tuples.\n\n    Returns:\n        float: The square root of the mean of the squared errors.\n    \"\"\"\n    return (labelsAndPreds\n            .map(lambda x: squaredError(x[0], x[1]))\n            .mean())**0.5\n\n\n```\n</div>", 
            "cell_type": "markdown", 
            "metadata": {}
        }, 
        {
            "execution_count": null, 
            "cell_type": "code", 
            "metadata": {}, 
            "outputs": [], 
            "source": "# TEST Root mean squared error (2b)\nTest.assertTrue(np.allclose(squaredError(3, 1), 4.), 'incorrect definition of squaredError')\nTest.assertTrue(np.allclose(exampleRMSE, 1.29099444874), 'incorrect value for exampleRMSE')"
        }, 
        {
            "source": "#### **(2c) Training, validation and test RMSE **\n\nNow let's calculate the training, validation and test RMSE of our baseline model. To do this, first create RDDs of (label, prediction) tuples for each dataset, and then call calcRMSE. Note that each RMSE can be interpreted as the average prediction error for the given dataset (in terms of number of years).", 
            "cell_type": "markdown", 
            "metadata": {}
        }, 
        {
            "execution_count": null, 
            "cell_type": "code", 
            "metadata": {}, 
            "outputs": [], 
            "source": "# TODO: Replace <FILL IN> with appropriate code\nlabelsAndPredsTrain = parsedTrainData.<FILL IN>\nrmseTrainBase = <FILL IN>\n\nlabelsAndPredsVal = parsedValData.<FILL IN>\nrmseValBase = <FILL IN>\n\nlabelsAndPredsTest = parsedTestData.<FILL IN>\nrmseTestBase = <FILL IN>\n\nprint 'Baseline Train RMSE = {0:.3f}'.format(rmseTrainBase)\nprint 'Baseline Validation RMSE = {0:.3f}'.format(rmseValBase)\nprint 'Baseline Test RMSE = {0:.3f}'.format(rmseTestBase)"
        }, 
        {
            "source": "<div align=\"right\">\n<a href=\"#mat8\" class=\"btn btn-default\" data-toggle=\"collapse\">Click here for the solution</a>\n</div>\n<div id=\"mat8\" class=\"collapse\">\n```\nlabelsAndPredsTrain = parsedTrainData.map(lambda x: (x.label, averageTrainYear))\nrmseTrainBase = calcRMSE(labelsAndPredsTrain)\n\nlabelsAndPredsVal = parsedValData.map(lambda x: (x.label, averageTrainYear))\nrmseValBase = calcRMSE(labelsAndPredsVal)\n\nlabelsAndPredsTest = parsedTestData.map(lambda x: (x.label, averageTrainYear))\nrmseTestBase = calcRMSE(labelsAndPredsTest)\n\n\n```\n</div>", 
            "cell_type": "markdown", 
            "metadata": {}
        }, 
        {
            "execution_count": null, 
            "cell_type": "code", 
            "metadata": {}, 
            "outputs": [], 
            "source": "# TEST Training, validation and test RMSE (2c)\nTest.assertTrue(np.allclose([rmseTrainBase, rmseValBase, rmseTestBase],\n                            [21.305869, 21.586452, 22.136957]), 'incorrect RMSE value')"
        }, 
        {
            "source": "<a id = \"v3\"></a>", 
            "cell_type": "markdown", 
            "metadata": {}
        }, 
        {
            "source": "#### ** Visualization 3: Predicted vs. actual **\n\nWe will visualize predictions on the validation dataset. The scatter plots below visualize tuples storing i) the predicted value and ii) true label.  The first scatter plot represents the ideal situation where the predicted value exactly equals the true label, while the second plot uses the baseline predictor (i.e., `averageTrainYear`) for all predicted values.  Further note that the points in the scatter plots are color-coded, ranging from light yellow when the true and predicted values are equal to bright red when they drastically differ.", 
            "cell_type": "markdown", 
            "metadata": {}
        }, 
        {
            "execution_count": null, 
            "cell_type": "code", 
            "metadata": {}, 
            "outputs": [], 
            "source": "from matplotlib.colors import ListedColormap, Normalize\nfrom matplotlib.cm import get_cmap\ncmap = get_cmap('YlOrRd')\nnorm = Normalize()\n\nactual = np.asarray(parsedValData\n                    .map(lambda lp: lp.label)\n                    .collect())\nerror = np.asarray(parsedValData\n                   .map(lambda lp: (lp.label, lp.label))\n                   .map(lambda (l, p): squaredError(l, p))\n                   .collect())\nclrs = cmap(np.asarray(norm(error)))[:,0:3]\n\nfig, ax = preparePlot(np.arange(0, 100, 20), np.arange(0, 100, 20))\nplt.scatter(actual, actual, s=14**2, c=clrs, edgecolors='#888888', alpha=0.75, linewidths=0.5)\nax.set_xlabel('Predicted'), ax.set_ylabel('Actual')\npass"
        }, 
        {
            "execution_count": null, 
            "cell_type": "code", 
            "metadata": {}, 
            "outputs": [], 
            "source": "predictions = np.asarray(parsedValData\n                         .map(lambda lp: averageTrainYear)\n                         .collect())\nerror = np.asarray(parsedValData\n                   .map(lambda lp: (lp.label, averageTrainYear))\n                   .map(lambda (l, p): squaredError(l, p))\n                   .collect())\nnorm = Normalize()\nclrs = cmap(np.asarray(norm(error)))[:,0:3]\n\nfig, ax = preparePlot(np.arange(53.0, 55.0, 0.5), np.arange(0, 100, 20))\nax.set_xlim(53, 55)\nplt.scatter(predictions, actual, s=14**2, c=clrs, edgecolors='#888888', alpha=0.75, linewidths=0.3)\nax.set_xlabel('Predicted'), ax.set_ylabel('Actual')"
        }, 
        {
            "source": "<a id = \"train\"></a>", 
            "cell_type": "markdown", 
            "metadata": {}
        }, 
        {
            "source": "### 3. Train (via gradient descent) and evaluate a linear regression model", 
            "cell_type": "markdown", 
            "metadata": {}
        }, 
        {
            "source": "#### ** (3a) Gradient summand **\n\nNow let's see if we can do better via linear regression, training a model via gradient descent (we'll omit the intercept for now). Recall that the gradient descent update for linear regression is: $$ \\scriptsize \\mathbf{w}_{i+1} = \\mathbf{w}_i - \\alpha_i \\sum_j (\\mathbf{w}_i^\\top\\mathbf{x}_j  - y_j) \\mathbf{x}_j \\,.$$ where $ \\scriptsize i $ is the iteration number of the gradient descent algorithm, and $ \\scriptsize j $ identifies the observation.\n\nFirst, implement a function that computes the summand for this update, i.e., the summand equals $ \\scriptsize (\\mathbf{w}^\\top \\mathbf{x} - y) \\mathbf{x} \\, ,$ and test out this function on two examples.  Use the `DenseVector` [dot](http://spark.apache.org/docs/latest/api/python/pyspark.mllib.html#pyspark.mllib.linalg.DenseVector.dot) method.", 
            "cell_type": "markdown", 
            "metadata": {}
        }, 
        {
            "execution_count": null, 
            "cell_type": "code", 
            "metadata": {}, 
            "outputs": [], 
            "source": "from pyspark.mllib.linalg import DenseVector"
        }, 
        {
            "execution_count": null, 
            "cell_type": "code", 
            "metadata": {}, 
            "outputs": [], 
            "source": "# TODO: Replace <FILL IN> with appropriate code\ndef gradientSummand(weights, lp):\n    \"\"\"Calculates the gradient summand for a given weight and `LabeledPoint`.\n\n    Note:\n        `DenseVector` behaves similarly to a `numpy.ndarray` and they can be used interchangably\n        within this function.  For example, they both implement the `dot` method.\n\n    Args:\n        weights (DenseVector): An array of model weights (betas).\n        lp (LabeledPoint): The `LabeledPoint` for a single observation.\n\n    Returns:\n        DenseVector: An array of values the same length as `weights`.  The gradient summand.\n    \"\"\"\n    <FILL IN>\n\nexampleW = DenseVector([1, 1, 1])\nexampleLP = LabeledPoint(2.0, [3, 1, 4])\n# gradientSummand = (dot([1 1 1], [3 1 4]) - 2) * [3 1 4] = (8 - 2) * [3 1 4] = [18 6 24]\nsummandOne = gradientSummand(exampleW, exampleLP)\nprint summandOne\n\nexampleW = DenseVector([.24, 1.2, -1.4])\nexampleLP = LabeledPoint(3.0, [-1.4, 4.2, 2.1])\nsummandTwo = gradientSummand(exampleW, exampleLP)\nprint summandTwo"
        }, 
        {
            "source": "<div align=\"right\">\n<a href=\"#mat9\" class=\"btn btn-default\" data-toggle=\"collapse\">Click here for the solution</a>\n</div>\n<div id=\"mat9\" class=\"collapse\">\n```\ndef gradientSummand(weights, lp):\n    \"\"\"Calculates the gradient summand for a given weight and `LabeledPoint`.\n\n    Note:\n        `DenseVector` behaves similarly to a `numpy.ndarray` and they can be used interchangably\n        within this function.  For example, they both implement the `dot` method.\n\n    Args:\n        weights (DenseVector): An array of model weights (betas).\n        lp (LabeledPoint): The `LabeledPoint` for a single observation.\n\n    Returns:\n        DenseVector: An array of values the same length as `weights`.  The gradient summand.\n    \"\"\"\n    return (weights.dot(lp.features) - lp.label) * lp.features\n\n\n```\n</div>", 
            "cell_type": "markdown", 
            "metadata": {}
        }, 
        {
            "execution_count": null, 
            "cell_type": "code", 
            "metadata": {}, 
            "outputs": [], 
            "source": "# TEST Gradient summand (3a)\nTest.assertTrue(np.allclose(summandOne, [18., 6., 24.]), 'incorrect value for summandOne')\nTest.assertTrue(np.allclose(summandTwo, [1.7304,-5.1912,-2.5956]), 'incorrect value for summandTwo')"
        }, 
        {
            "source": "#### ** (3b) Use weights to make predictions **\n\nNext, implement a `getLabeledPredictions` function that takes in weights and an observation's `LabeledPoint` and returns a (label, prediction) tuple.  Note that we can predict by computing the dot product between weights and an observation's features.", 
            "cell_type": "markdown", 
            "metadata": {}
        }, 
        {
            "execution_count": null, 
            "cell_type": "code", 
            "metadata": {}, 
            "outputs": [], 
            "source": "# TODO: Replace <FILL IN> with appropriate code\ndef getLabeledPrediction(weights, observation):\n    \"\"\"Calculates predictions and returns a (label, prediction) tuple.\n\n    Note:\n        The labels should remain unchanged as we'll use this information to calculate prediction\n        error later.\n\n    Args:\n        weights (np.ndarray): An array with one weight for each features in `trainData`.\n        observation (LabeledPoint): A `LabeledPoint` that contain the correct label and the\n            features for the data point.\n\n    Returns:\n        tuple: A (label, prediction) tuple.\n    \"\"\"\n    return <FILL IN>\n\nweights = np.array([1.0, 1.5])\npredictionExample = sc.parallelize([LabeledPoint(2, np.array([1.0, .5])),\n                                    LabeledPoint(1.5, np.array([.5, .5]))])\nlabelsAndPredsExample = predictionExample.map(lambda lp: getLabeledPrediction(weights, lp))\nprint labelsAndPredsExample.collect()"
        }, 
        {
            "source": "<div align=\"right\">\n<a href=\"#mat10\" class=\"btn btn-default\" data-toggle=\"collapse\">Click here for the solution</a>\n</div>\n<div id=\"mat10\" class=\"collapse\">\n```\ndef getLabeledPrediction(weights, observation):\n    \"\"\"Calculates predictions and returns a (label, prediction) tuple.\n\n    Note:\n        The labels should remain unchanged as we'll use this information to calculate prediction\n        error later.\n\n    Args:\n        weights (np.ndarray): An array with one weight for each features in `trainData`.\n        observation (LabeledPoint): A `LabeledPoint` that contain the correct label and the\n            features for the data point.\n\n    Returns:\n        tuple: A (label, prediction) tuple.\n    \"\"\"\n    return (observation.label, weights.dot(observation.features))\n\n```\n</div>", 
            "cell_type": "markdown", 
            "metadata": {}
        }, 
        {
            "execution_count": null, 
            "cell_type": "code", 
            "metadata": {}, 
            "outputs": [], 
            "source": "# TEST Use weights to make predictions (3b)\nTest.assertEquals(labelsAndPredsExample.collect(), [(2.0, 1.75), (1.5, 1.25)],\n                  'incorrect definition for getLabeledPredictions')"
        }, 
        {
            "source": "#### ** (3c) Gradient descent **\n\nNext, implement a gradient descent function for linear regression and test out this function on an example.", 
            "cell_type": "markdown", 
            "metadata": {}
        }, 
        {
            "execution_count": null, 
            "cell_type": "code", 
            "metadata": {}, 
            "outputs": [], 
            "source": "# TODO: Replace <FILL IN> with appropriate code\ndef linregGradientDescent(trainData, numIters):\n    \"\"\"Calculates the weights and error for a linear regression model trained with gradient descent.\n\n    Note:\n        `DenseVector` behaves similarly to a `numpy.ndarray` and they can be used interchangably\n        within this function.  For example, they both implement the `dot` method.\n\n    Args:\n        trainData (RDD of LabeledPoint): The labeled data for use in training the model.\n        numIters (int): The number of iterations of gradient descent to perform.\n\n    Returns:\n        (np.ndarray, np.ndarray): A tuple of (weights, training errors).  Weights will be the\n            final weights (one weight per feature) for the model, and training errors will contain\n            an error (RMSE) for each iteration of the algorithm.\n    \"\"\"\n    # The length of the training data\n    n = trainData.count()\n    # The number of features in the training data\n    d = len(trainData.take(1)[0].features)\n    w = np.zeros(d)\n    alpha = 1.0\n    # We will compute and store the training error after each iteration\n    errorTrain = np.zeros(numIters)\n    for i in range(numIters):\n        # Use getLabeledPrediction from (3b) with trainData to obtain an RDD of (label, prediction)\n        # tuples.  Note that the weights all equal 0 for the first iteration, so the predictions will\n        # have large errors to start.\n        labelsAndPredsTrain = trainData.<FILL IN>\n        errorTrain[i] = calcRMSE(labelsAndPredsTrain)\n\n        # Calculate the `gradient`.  Make use of the `gradientSummand` function you wrote in (3a).\n        # Note that `gradient` sould be a `DenseVector` of length `d`.\n        gradient = <FILL IN>\n\n        # Update the weights\n        alpha_i = alpha / (n * np.sqrt(i+1))\n        w -= <FILL IN>\n    return w, errorTrain\n\n# create a toy dataset with n = 10, d = 3, and then run 5 iterations of gradient descent\n# note: the resulting model will not be useful; the goal here is to verify that\n# linregGradientDescent is working properly\nexampleN = 10\nexampleD = 3\nexampleData = (sc\n               .parallelize(parsedTrainData.take(exampleN))\n               .map(lambda lp: LabeledPoint(lp.label, lp.features[0:exampleD])))\nprint exampleData.take(2)\nexampleNumIters = 5\nexampleWeights, exampleErrorTrain = linregGradientDescent(exampleData, exampleNumIters)\nprint exampleWeights"
        }, 
        {
            "source": "<div align=\"right\">\n<a href=\"#mat11\" class=\"btn btn-default\" data-toggle=\"collapse\">Click here for the solution</a>\n</div>\n<div id=\"mat11\" class=\"collapse\">\n```\n    for i in range(numIters):\n        # Use getLabeledPrediction from (3b) with trainData to obtain an RDD of (label, prediction)\n        # tuples.  Note that the weights all equal 0 for the first iteration, so the predictions will\n        # have large errors to start.\n        labelsAndPredsTrain = trainData.map(\n            lambda x: getLabeledPrediction(w, x))\n\n        errorTrain[i] = calcRMSE(labelsAndPredsTrain)\n\n        # Calculate the `gradient`.  Make use of the `gradientSummand` function you wrote in (3a).\n        # Note that `gradient` sould be a `DenseVector` of length `d`.\n        gradient = (trainData\n                    .map(lambda x: gradientSummand(w, x))\n                    .sum())\n          # Update the weights\n        alpha_i = alpha / (n * np.sqrt(i+1))\n        w -= alpha_i * gradient\n    return w, errorTrain\n\n\n```\n</div>", 
            "cell_type": "markdown", 
            "metadata": {}
        }, 
        {
            "execution_count": null, 
            "cell_type": "code", 
            "metadata": {}, 
            "outputs": [], 
            "source": "# TEST Gradient descent (3c)\nexpectedOutput = [48.88110449,  36.01144093, 30.25350092]\nTest.assertTrue(np.allclose(exampleWeights, expectedOutput), 'value of exampleWeights is incorrect')\nexpectedError = [79.72013547, 30.27835699,  9.27842641,  9.20967856,  9.19446483]\nTest.assertTrue(np.allclose(exampleErrorTrain, expectedError),\n                'value of exampleErrorTrain is incorrect')"
        }, 
        {
            "source": "#### ** (3d) Train the model **\n\nNow let's train a linear regression model on all of our training data and evaluate its accuracy on the validation set.  Note that the test set will not be used here.  If we evaluated the model on the test set, we would bias our final results.\n\nWe've already done much of the required work: we computed the number of features in Part (1b); we created the training and validation datasets and computed their sizes in Part (1e); and, we wrote a function to compute RMSE in Part (2b).", 
            "cell_type": "markdown", 
            "metadata": {}
        }, 
        {
            "execution_count": null, 
            "cell_type": "code", 
            "metadata": {}, 
            "outputs": [], 
            "source": "# TODO: Replace <FILL IN> with appropriate code\nnumIters = 50\nweightsLR0, errorTrainLR0 = linregGradientDescent(<FILL IN>)\n\nlabelsAndPreds = parsedValData.<FILL IN>\nrmseValLR0 = calcRMSE(labelsAndPreds)\n\nprint 'Validation RMSE:\\n\\tBaseline = {0:.3f}\\n\\tLR0 = {1:.3f}'.format(rmseValBase,\n                                                                       rmseValLR0)"
        }, 
        {
            "source": "<div align=\"right\">\n<a href=\"#mat12\" class=\"btn btn-default\" data-toggle=\"collapse\">Click here for the solution</a>\n</div>\n<div id=\"mat12\" class=\"collapse\">\n```\nnumIters = 50\nweightsLR0, errorTrainLR0 = linregGradientDescent(parsedTrainData, numIters)\n\nlabelsAndPreds = parsedValData.map(\n            lambda x: getLabeledPrediction(weightsLR0, x))\nrmseValLR0 = calcRMSE(labelsAndPreds)\n\n```\n</div>", 
            "cell_type": "markdown", 
            "metadata": {}
        }, 
        {
            "execution_count": null, 
            "cell_type": "code", 
            "metadata": {}, 
            "outputs": [], 
            "source": "# TEST Train the model (3d)\nexpectedOutput = [22.64535883, 20.064699, -0.05341901, 8.2931319, 5.79155768, -4.51008084,\n                  15.23075467, 3.8465554, 9.91992022, 5.97465933, 11.36849033, 3.86452361]\nTest.assertTrue(np.allclose(weightsLR0, expectedOutput), 'incorrect value for weightsLR0')"
        }, 
        {
            "source": "<a id = \"v4\"></a>", 
            "cell_type": "markdown", 
            "metadata": {}
        }, 
        {
            "source": "#### ** Visualization 4: Training error **\n\nWe will look at the log of the training error as a function of iteration. The first scatter plot visualizes the logarithm of the training error for all 50 iterations.  The second plot shows the training error itself, focusing on the final 44 iterations.", 
            "cell_type": "markdown", 
            "metadata": {}
        }, 
        {
            "execution_count": null, 
            "cell_type": "code", 
            "metadata": {}, 
            "outputs": [], 
            "source": "norm = Normalize()\nclrs = cmap(np.asarray(norm(np.log(errorTrainLR0))))[:,0:3]\n\nfig, ax = preparePlot(np.arange(0, 60, 10), np.arange(2, 6, 1))\nax.set_ylim(2, 6)\nplt.scatter(range(0, numIters), np.log(errorTrainLR0), s=14**2, c=clrs, edgecolors='#888888', alpha=0.75)\nax.set_xlabel('Iteration'), ax.set_ylabel(r'$\\log_e(errorTrainLR0)$')\npass"
        }, 
        {
            "execution_count": null, 
            "cell_type": "code", 
            "metadata": {}, 
            "outputs": [], 
            "source": "norm = Normalize()\nclrs = cmap(np.asarray(norm(errorTrainLR0[6:])))[:,0:3]\n\nfig, ax = preparePlot(np.arange(0, 60, 10), np.arange(17, 22, 1))\nax.set_ylim(17.8, 21.2)\nplt.scatter(range(0, numIters-6), errorTrainLR0[6:], s=14**2, c=clrs, edgecolors='#888888', alpha=0.75)\nax.set_xticklabels(map(str, range(6, 66, 10)))\nax.set_xlabel('Iteration'), ax.set_ylabel(r'Training Error')\npass"
        }, 
        {
            "source": "<a id = \"grid\"></a>", 
            "cell_type": "markdown", 
            "metadata": {}
        }, 
        {
            "source": "### 4. Train using MLlib and perform grid search", 
            "cell_type": "markdown", 
            "metadata": {}
        }, 
        {
            "source": "#### **(4a) `LinearRegressionWithSGD` **\n\nWe're already doing better than the baseline model, but let's see if we can do better by adding an intercept, using regularization, and (based on the previous visualization) training for more iterations.  MLlib's [LinearRegressionWithSGD](https://spark.apache.org/docs/latest/api/python/pyspark.mllib.html#pyspark.mllib.regression.LinearRegressionWithSGD) essentially implements the same algorithm that we implemented in Part (3b), albeit more efficiently and with various additional functionality, such as stochastic gradient approximation, including an intercept in the model and also allowing L1 or L2 regularization.  First use LinearRegressionWithSGD to train a model with L2 regularization and with an intercept.  This method returns a [LinearRegressionModel](https://spark.apache.org/docs/latest/api/python/pyspark.mllib.html#pyspark.mllib.regression.LinearRegressionModel).  Next, use the model's [weights](http://spark.apache.org/docs/latest/api/python/pyspark.mllib.html#pyspark.mllib.regression.LinearRegressionModel.weights) and [intercept](http://spark.apache.org/docs/latest/api/python/pyspark.mllib.html#pyspark.mllib.regression.LinearRegressionModel.intercept) attributes to print out the model's parameters.", 
            "cell_type": "markdown", 
            "metadata": {}
        }, 
        {
            "execution_count": null, 
            "cell_type": "code", 
            "metadata": {}, 
            "outputs": [], 
            "source": "from pyspark.mllib.regression import LinearRegressionWithSGD\n# Values to use when training the linear regression model\nnumIters = 500  # iterations\nalpha = 1.0  # step\nminiBatchFrac = 1.0  # miniBatchFraction\nreg = 1e-1  # regParam\nregType = 'l2'  # regType\nuseIntercept = True  # intercept"
        }, 
        {
            "execution_count": null, 
            "cell_type": "code", 
            "metadata": {}, 
            "outputs": [], 
            "source": "# TODO: Replace <FILL IN> with appropriate code\nfirstModel = LinearRegressionWithSGD.<FILL IN>\n\n# weightsLR1 stores the model weights; interceptLR1 stores the model intercept\nweightsLR1 = <FILL IN>\ninterceptLR1 = <FILL IN>\nprint weightsLR1, interceptLR1"
        }, 
        {
            "source": "<div align=\"right\">\n<a href=\"#mat13\" class=\"btn btn-default\" data-toggle=\"collapse\">Click here for the solution</a>\n</div>\n<div id=\"mat13\" class=\"collapse\">\n```\nfirstModel = LinearRegressionWithSGD.train(parsedTrainData,\n    iterations=numIters, step=alpha, miniBatchFraction=miniBatchFrac,\n    regParam=reg, regType=regType, intercept=useIntercept\n)\n\n# weightsLR1 stores the model weights; interceptLR1 stores the model intercept\nweightsLR1 = firstModel.weights\ninterceptLR1 = firstModel.intercept\n\n```\n</div>", 
            "cell_type": "markdown", 
            "metadata": {}
        }, 
        {
            "execution_count": null, 
            "cell_type": "code", 
            "metadata": {}, 
            "outputs": [], 
            "source": "# TEST LinearRegressionWithSGD (4a)\nexpectedIntercept = 13.3335907631\nexpectedWeights = [16.682292427, 14.7439059559, -0.0935105608897, 6.22080088829, 4.01454261926, -3.30214858535,\n                   11.0403027232, 2.67190962854, 7.18925791279, 4.46093254586, 8.14950409475, 2.75135810882]\nTest.assertTrue(np.allclose(interceptLR1, expectedIntercept), 'incorrect value for interceptLR1')\nTest.assertTrue(np.allclose(weightsLR1, expectedWeights), 'incorrect value for weightsLR1')"
        }, 
        {
            "source": "#### **(4b) Predict**\n\nNow use the [LinearRegressionModel.predict()](http://spark.apache.org/docs/latest/api/python/pyspark.mllib.html#pyspark.mllib.regression.LinearRegressionModel.predict) method to make a prediction on a sample point.  Pass the `features` from a `LabeledPoint` into the `predict()` method.", 
            "cell_type": "markdown", 
            "metadata": {}
        }, 
        {
            "execution_count": null, 
            "cell_type": "code", 
            "metadata": {}, 
            "outputs": [], 
            "source": "# TODO: Replace <FILL IN> with appropriate code\nsamplePoint = parsedTrainData.take(1)[0]\nsamplePrediction = <FILL IN>\nprint samplePrediction"
        }, 
        {
            "source": "<div align=\"right\">\n<a href=\"#mat14\" class=\"btn btn-default\" data-toggle=\"collapse\">Click here for the solution</a>\n</div>\n<div id=\"mat14\" class=\"collapse\">\n```\nsamplePoint = parsedTrainData.take(1)[0]\nsamplePrediction = firstModel.predict(samplePoint.features)\n\n```\n</div>", 
            "cell_type": "markdown", 
            "metadata": {}
        }, 
        {
            "execution_count": null, 
            "cell_type": "code", 
            "metadata": {}, 
            "outputs": [], 
            "source": "# TEST Predict (4b)\nTest.assertTrue(np.allclose(samplePrediction, 56.8013380112),\n                'incorrect value for samplePrediction')"
        }, 
        {
            "source": "#### ** (4c) Evaluate RMSE **\n\nNext evaluate the accuracy of this model on the validation set.  Use the `predict()` method to create a `labelsAndPreds` RDD, and then use the `calcRMSE()` function from Part (2b).", 
            "cell_type": "markdown", 
            "metadata": {}
        }, 
        {
            "execution_count": null, 
            "cell_type": "code", 
            "metadata": {}, 
            "outputs": [], 
            "source": "# TODO: Replace <FILL IN> with appropriate code\nlabelsAndPreds = <FILL IN>\nrmseValLR1 = <FILL IN>\n\nprint ('Validation RMSE:\\n\\tBaseline = {0:.3f}\\n\\tLR0 = {1:.3f}' +\n       '\\n\\tLR1 = {2:.3f}').format(rmseValBase, rmseValLR0, rmseValLR1)"
        }, 
        {
            "source": "<div align=\"right\">\n<a href=\"#mat15\" class=\"btn btn-default\" data-toggle=\"collapse\">Click here for the solution</a>\n</div>\n<div id=\"mat15\" class=\"collapse\">\n```\nlabelsAndPreds = (parsedValData\n                  .map(lambda x: (x.label, firstModel.predict(x.features))))\nrmseValLR1 = calcRMSE(labelsAndPreds)\n\n```\n</div>", 
            "cell_type": "markdown", 
            "metadata": {}
        }, 
        {
            "execution_count": null, 
            "cell_type": "code", 
            "metadata": {}, 
            "outputs": [], 
            "source": "# TEST Evaluate RMSE (4c)\nTest.assertTrue(np.allclose(rmseValLR1, 19.691247), 'incorrect value for rmseValLR1')"
        }, 
        {
            "source": "#### ** (4d) Grid search **\n\nWe're already outperforming the baseline on the validation set by almost 2 years on average, but let's see if we can do better. Perform grid search to find a good regularization parameter.  Try `regParam` values `1e-10`, `1e-5`, and `1`.", 
            "cell_type": "markdown", 
            "metadata": {}
        }, 
        {
            "execution_count": null, 
            "cell_type": "code", 
            "metadata": {}, 
            "outputs": [], 
            "source": "# TODO: Replace <FILL IN> with appropriate code\nbestRMSE = rmseValLR1\nbestRegParam = reg\nbestModel = firstModel\n\nnumIters = 500\nalpha = 1.0\nminiBatchFrac = 1.0\nfor reg in <FILL IN>:\n    model = LinearRegressionWithSGD.train(parsedTrainData, numIters, alpha,\n                                          miniBatchFrac, regParam=reg,\n                                          regType='l2', intercept=True)\n    labelsAndPreds = parsedValData.map(lambda lp: (lp.label, model.predict(lp.features)))\n    rmseValGrid = calcRMSE(labelsAndPreds)\n    print rmseValGrid\n\n    if rmseValGrid < bestRMSE:\n        bestRMSE = rmseValGrid\n        bestRegParam = reg\n        bestModel = model\nrmseValLRGrid = bestRMSE\n\nprint ('Validation RMSE:\\n\\tBaseline = {0:.3f}\\n\\tLR0 = {1:.3f}\\n\\tLR1 = {2:.3f}\\n' +\n       '\\tLRGrid = {3:.3f}').format(rmseValBase, rmseValLR0, rmseValLR1, rmseValLRGrid)"
        }, 
        {
            "source": "<div align=\"right\">\n<a href=\"#mat16\" class=\"btn btn-default\" data-toggle=\"collapse\">Click here for the solution</a>\n</div>\n<div id=\"mat16\" class=\"collapse\">\n```\nfor reg in  [1e-10, 1e-5, 1]:\n    model = LinearRegressionWithSGD.train(parsedTrainData, numIters, alpha,\n                                          miniBatchFrac, regParam=reg,\n                                          regType='l2', intercept=True)\n    labelsAndPreds = parsedValData.map(lambda lp: (lp.label, model.predict(lp.features)))\n    rmseValGrid = calcRMSE(labelsAndPreds)\n    print rmseValGrid\n\n    if rmseValGrid < bestRMSE:\n        bestRMSE = rmseValGrid\n        bestRegParam = reg\n        bestModel = model\nrmseValLRGrid = bestRMSE\n\n```\n</div>", 
            "cell_type": "markdown", 
            "metadata": {}
        }, 
        {
            "execution_count": null, 
            "cell_type": "code", 
            "metadata": {}, 
            "outputs": [], 
            "source": "# TEST Grid search (4d)\nTest.assertTrue(np.allclose(17.017170, rmseValLRGrid), 'incorrect value for rmseValLRGrid')"
        }, 
        {
            "source": "<a id = \"v5\"></a>", 
            "cell_type": "markdown", 
            "metadata": {}
        }, 
        {
            "source": "#### ** Visualization 5: Best model's predictions**\n\nNext, we create a visualization similar to 'Visualization 3: Predicted vs. actual' from Part 2 using the predictions from the best model from Part (4d) on the validation dataset.  Specifically, we create a color-coded scatter plot visualizing tuples storing i) the predicted value from this model and ii) true label.", 
            "cell_type": "markdown", 
            "metadata": {}
        }, 
        {
            "execution_count": null, 
            "cell_type": "code", 
            "metadata": {}, 
            "outputs": [], 
            "source": "predictions = np.asarray(parsedValData\n                         .map(lambda lp: bestModel.predict(lp.features))\n                         .collect())\nactual = np.asarray(parsedValData\n                    .map(lambda lp: lp.label)\n                    .collect())\nerror = np.asarray(parsedValData\n                   .map(lambda lp: (lp.label, bestModel.predict(lp.features)))\n                   .map(lambda (l, p): squaredError(l, p))\n                   .collect())\n\nnorm = Normalize()\nclrs = cmap(np.asarray(norm(error)))[:,0:3]\n\nfig, ax = preparePlot(np.arange(0, 120, 20), np.arange(0, 120, 20))\nax.set_xlim(15, 82), ax.set_ylim(-5, 105)\nplt.scatter(predictions, actual, s=14**2, c=clrs, edgecolors='#888888', alpha=0.75, linewidths=.5)\nax.set_xlabel('Predicted'), ax.set_ylabel(r'Actual')\npass"
        }, 
        {
            "source": "#### ** (4e) Vary alpha and the number of iterations **\n\nIn the previous grid search, we set `alpha = 1` for all experiments.  Now let's see what happens when we vary `alpha`.  Specifically, try `1e-5` and `10` as values for `alpha` and also try training models for 500 iterations (as before) but also for 5 iterations. Evaluate all models on the validation set.  Note that if we set `alpha` too small the gradient descent will require a huge number of steps to converge to the solution, and if we use too large of an `alpha` it can cause numerical problems, like you'll see below for `alpha = 10`.", 
            "cell_type": "markdown", 
            "metadata": {}
        }, 
        {
            "execution_count": null, 
            "cell_type": "code", 
            "metadata": {}, 
            "outputs": [], 
            "source": "# TODO: Replace <FILL IN> with appropriate code\nreg = bestRegParam\nmodelRMSEs = []\n\nfor alpha in <FILL IN>:\n    for numIters in <FILL IN>:\n        model = LinearRegressionWithSGD.train(parsedTrainData, numIters, alpha,\n                                              miniBatchFrac, regParam=reg,\n                                              regType='l2', intercept=True)\n        labelsAndPreds = parsedValData.map(lambda lp: (lp.label, model.predict(lp.features)))\n        rmseVal = calcRMSE(labelsAndPreds)\n        print 'alpha = {0:.0e}, numIters = {1}, RMSE = {2:.3f}'.format(alpha, numIters, rmseVal)\n        modelRMSEs.append(rmseVal)"
        }, 
        {
            "source": "<div align=\"right\">\n<a href=\"#mat17\" class=\"btn btn-default\" data-toggle=\"collapse\">Click here for the solution</a>\n</div>\n<div id=\"mat17\" class=\"collapse\">\n```\nfor alpha in [1e-5, 10]:\n    for numIters in [500, 5]:\n        model = LinearRegressionWithSGD.train(parsedTrainData, numIters, alpha,\n                                              miniBatchFrac, regParam=reg,\n                                              regType='l2', intercept=True)\n        labelsAndPreds = parsedValData.map(lambda lp: (lp.label, model.predict(lp.features)))\n        rmseVal = calcRMSE(labelsAndPreds)\n        print 'alpha = {0:.0e}, numIters = {1}, RMSE = {2:.3f}'.format(alpha, numIters, rmseVal)\n        modelRMSEs.append(rmseVal)\n```\n</div>", 
            "cell_type": "markdown", 
            "metadata": {}
        }, 
        {
            "execution_count": null, 
            "cell_type": "code", 
            "metadata": {}, 
            "outputs": [], 
            "source": "# TEST Vary alpha and the number of iterations (4e)\nexpectedResults = sorted([56.969705, 56.892949, 355124752.221221])\nTest.assertTrue(np.allclose(sorted(modelRMSEs)[:3], expectedResults), 'incorrect value for modelRMSEs')"
        }, 
        {
            "source": "<a id = \"v6\"></a>", 
            "cell_type": "markdown", 
            "metadata": {}
        }, 
        {
            "source": "#### **Visualization 6: Hyperparameter heat map **\n\nNext, we perform a visualization of hyperparameter search using a larger set of hyperparameters (with precomputed results).  Specifically, we create a heat map where the brighter colors correspond to lower RMSE values.  The first plot has a large area with brighter colors.  In order to differentiate within the bright region, we generate a second plot corresponding to the hyperparameters found within that region.", 
            "cell_type": "markdown", 
            "metadata": {}
        }, 
        {
            "execution_count": null, 
            "cell_type": "code", 
            "metadata": {}, 
            "outputs": [], 
            "source": "from matplotlib.colors import LinearSegmentedColormap\n\n# Saved parameters and results, to save the time required to run 36 models\nnumItersParams = [10, 50, 100, 250, 500, 1000]\nregParams = [1e-8, 1e-6, 1e-4, 1e-2, 1e-1, 1]\nrmseVal = np.array([[  20.36769649,   20.36770128,   20.36818057,   20.41795354,  21.09778437,  301.54258421],\n                    [  19.04948826,   19.0495    ,   19.05067418,   19.16517726,  19.97967727,   23.80077467],\n                    [  18.40149024,   18.40150998,   18.40348326,   18.59457491,  19.82155716,   23.80077467],\n                    [  17.5609346 ,   17.56096749,   17.56425511,   17.88442127,  19.71577117,   23.80077467],\n                    [  17.0171705 ,   17.01721288,   17.02145207,   17.44510574,  19.69124734,   23.80077467],\n                    [  16.58074813,   16.58079874,   16.58586512,   17.11466904,  19.6860931 ,   23.80077467]])\n\nnumRows, numCols = len(numItersParams), len(regParams)\nrmseVal = np.array(rmseVal)\nrmseVal.shape = (numRows, numCols)\n\nfig, ax = preparePlot(np.arange(0, numCols, 1), np.arange(0, numRows, 1), figsize=(8, 7), hideLabels=True,\n                      gridWidth=0.)\nax.set_xticklabels(regParams), ax.set_yticklabels(numItersParams)\nax.set_xlabel('Regularization Parameter'), ax.set_ylabel('Number of Iterations')\n\ncolors = LinearSegmentedColormap.from_list('blue', ['#0022ff', '#000055'], gamma=.2)\nimage = plt.imshow(rmseVal,interpolation='nearest', aspect='auto',\n                    cmap = colors)"
        }, 
        {
            "execution_count": null, 
            "cell_type": "code", 
            "metadata": {}, 
            "outputs": [], 
            "source": "# Zoom into the bottom left\nnumItersParamsZoom, regParamsZoom = numItersParams[-3:], regParams[:4]\nrmseValZoom = rmseVal[-3:, :4]\n\nnumRows, numCols = len(numItersParamsZoom), len(regParamsZoom)\n\nfig, ax = preparePlot(np.arange(0, numCols, 1), np.arange(0, numRows, 1), figsize=(8, 7), hideLabels=True,\n                      gridWidth=0.)\nax.set_xticklabels(regParamsZoom), ax.set_yticklabels(numItersParamsZoom)\nax.set_xlabel('Regularization Parameter'), ax.set_ylabel('Number of Iterations')\n\ncolors = LinearSegmentedColormap.from_list('blue', ['#0022ff', '#000055'], gamma=.2)\nimage = plt.imshow(rmseValZoom,interpolation='nearest', aspect='auto',\n                    cmap = colors)\npass"
        }, 
        {
            "source": "<a id = \"interaction\"></a>", 
            "cell_type": "markdown", 
            "metadata": {}
        }, 
        {
            "source": "### 5. Add interactions between features", 
            "cell_type": "markdown", 
            "metadata": {}
        }, 
        {
            "source": "#### ** (5a) Add 2-way interactions **\n\nSo far, we've used the features as they were provided.  Now, we will add features that capture the two-way interactions between our existing features.  Write a function `twoWayInteractions` that takes in a `LabeledPoint` and generates a new `LabeledPoint` that contains the old features and the two-way interactions between them.  Note that a dataset with three features would have nine ( $ \\scriptsize 3^2 $ ) two-way interactions.\n\nYou might want to use [itertools.product](https://docs.python.org/2/library/itertools.html#itertools.product) to generate tuples for each of the possible 2-way interactions.  Remember that you can combine two `DenseVector` or `ndarray` objects using [np.hstack](http://docs.scipy.org/doc/numpy/reference/generated/numpy.hstack.html#numpy.hstack).", 
            "cell_type": "markdown", 
            "metadata": {}
        }, 
        {
            "execution_count": null, 
            "cell_type": "code", 
            "metadata": {}, 
            "outputs": [], 
            "source": "# TODO: Replace <FILL IN> with appropriate code\nimport itertools\n\ndef twoWayInteractions(lp):\n    \"\"\"Creates a new `LabeledPoint` that includes two-way interactions.\n\n    Note:\n        For features [x, y] the two-way interactions would be [x^2, x*y, y*x, y^2] and these\n        would be appended to the original [x, y] feature list.\n\n    Args:\n        lp (LabeledPoint): The label and features for this observation.\n\n    Returns:\n        LabeledPoint: The new `LabeledPoint` should have the same label as `lp`.  Its features\n            should include the features from `lp` followed by the two-way interaction features.\n    \"\"\"\n    <FILL IN>\n\nprint twoWayInteractions(LabeledPoint(0.0, [2, 3]))\n\n# Transform the existing train, validation, and test sets to include two-way interactions.\ntrainDataInteract = <FILL IN>\nvalDataInteract = <FILL IN>\ntestDataInteract = <FILL IN>"
        }, 
        {
            "source": "<div align=\"right\">\n<a href=\"#mat18\" class=\"btn btn-default\" data-toggle=\"collapse\">Click here for the solution</a>\n</div>\n<div id=\"mat18\" class=\"collapse\">\n```\nimport itertools\n\ndef twoWayInteractions(lp):\n    \"\"\"Creates a new `LabeledPoint` that includes two-way interactions.\n\n    Note:\n        For features [x, y] the two-way interactions would be [x^2, x*y, y*x, y^2] and these\n        would be appended to the original [x, y] feature list.\n\n    Args:\n        lp (LabeledPoint): The label and features for this observation.\n\n    Returns:\n        LabeledPoint: The new `LabeledPoint` should have the same label as `lp`.  Its features\n            should include the features from `lp` followed by the two-way interaction features.\n    \"\"\"\n    features = np.hstack(\n        [lp.features, [x * y for x in lp.features for y in lp.features]]\n    )\n                     \n    return LabeledPoint(lp.label, features)\n\nprint twoWayInteractions(LabeledPoint(0.0, [2, 3]))\n\n# Transform the existing train, validation, and test sets to include two-way interactions.\ntrainDataInteract = parsedTrainData.map(twoWayInteractions)\nvalDataInteract = parsedValData.map(twoWayInteractions)\ntestDataInteract = parsedTestData.map(twoWayInteractions)\n```\n</div>", 
            "cell_type": "markdown", 
            "metadata": {}
        }, 
        {
            "execution_count": null, 
            "cell_type": "code", 
            "metadata": {}, 
            "outputs": [], 
            "source": "# TEST Add two-way interactions (5a)\ntwoWayExample = twoWayInteractions(LabeledPoint(0.0, [2, 3]))\nTest.assertTrue(np.allclose(sorted(twoWayExample.features),\n                            sorted([2.0, 3.0, 4.0, 6.0, 6.0, 9.0])),\n                'incorrect features generatedBy twoWayInteractions')\ntwoWayPoint = twoWayInteractions(LabeledPoint(1.0, [1, 2, 3]))\nTest.assertTrue(np.allclose(sorted(twoWayPoint.features),\n                            sorted([1.0,2.0,3.0,1.0,2.0,3.0,2.0,4.0,6.0,3.0,6.0,9.0])),\n                'incorrect features generated by twoWayInteractions')\nTest.assertEquals(twoWayPoint.label, 1.0, 'incorrect label generated by twoWayInteractions')\nTest.assertTrue(np.allclose(sum(trainDataInteract.take(1)[0].features), 40.821870576035529),\n                'incorrect features in trainDataInteract')\nTest.assertTrue(np.allclose(sum(valDataInteract.take(1)[0].features), 45.457719932695696),\n                'incorrect features in valDataInteract')\nTest.assertTrue(np.allclose(sum(testDataInteract.take(1)[0].features), 35.109111632783168),\n                'incorrect features in testDataInteract')"
        }, 
        {
            "source": "#### ** (5b) Build interaction model **\n\nNow, let's build the new model.  We've done this several times now.  To implement this for the new features, we need to change a few variable names.  Remember that we should build our model from the training data and evaluate it on the validation data.\n\nNote that you should re-run your hyperparameter search after changing features, as using the best hyperparameters from your prior model will not necessary lead to the best model.  For this exercise, we have already preset the hyperparameters to reasonable values.", 
            "cell_type": "markdown", 
            "metadata": {}
        }, 
        {
            "execution_count": null, 
            "cell_type": "code", 
            "metadata": {}, 
            "outputs": [], 
            "source": "# TODO: Replace <FILL IN> with appropriate code\nnumIters = 500\nalpha = 1.0\nminiBatchFrac = 1.0\nreg = 1e-10\n\nmodelInteract = LinearRegressionWithSGD.train(<FILL IN>, numIters, alpha,\n                                              miniBatchFrac, regParam=reg,\n                                              regType='l2', intercept=True)\nlabelsAndPredsInteract = <FILL IN>.map(lambda lp: (lp.label, <FILL IN>.predict(lp.features)))\nrmseValInteract = calcRMSE(labelsAndPredsInteract)\n\nprint ('Validation RMSE:\\n\\tBaseline = {0:.3f}\\n\\tLR0 = {1:.3f}\\n\\tLR1 = {2:.3f}\\n\\tLRGrid = ' +\n       '{3:.3f}\\n\\tLRInteract = {4:.3f}').format(rmseValBase, rmseValLR0, rmseValLR1,\n                                                 rmseValLRGrid, rmseValInteract)"
        }, 
        {
            "source": "<div align=\"right\">\n<a href=\"#mat19\" class=\"btn btn-default\" data-toggle=\"collapse\">Click here for the solution</a>\n</div>\n<div id=\"mat19\" class=\"collapse\">\n```\nmodelInteract = LinearRegressionWithSGD.train(trainDataInteract, numIters, alpha,\n                                              miniBatchFrac, regParam=reg,\n                                              regType='l2', intercept=True)\nlabelsAndPredsInteract = (valDataInteract.\n                          map(lambda lp: (lp.label, modelInteract.predict(lp.features))))\nrmseValInteract = calcRMSE(labelsAndPredsInteract)\n\n```\n</div>", 
            "cell_type": "markdown", 
            "metadata": {}
        }, 
        {
            "execution_count": null, 
            "cell_type": "code", 
            "metadata": {}, 
            "outputs": [], 
            "source": "# TEST Build interaction model (5b)\nTest.assertTrue(np.allclose(rmseValInteract, 15.6894664683), 'incorrect value for rmseValInteract')"
        }, 
        {
            "source": "#### ** (5c) Evaluate interaction model on test data **\n\nOur final step is to evaluate the new model on the test dataset.  Note that we haven't used the test set to evaluate any of our models.  Because of this, our evaluation provides us with an unbiased estimate for how our model will perform on new data.  If we had changed our model based on viewing its performance on the test set, our estimate of RMSE would likely be overly optimistic.\n\nWe'll also print the RMSE for both the baseline model and our new model.  With this information, we can see how much better our model performs than the baseline model.", 
            "cell_type": "markdown", 
            "metadata": {}
        }, 
        {
            "execution_count": null, 
            "cell_type": "code", 
            "metadata": {}, 
            "outputs": [], 
            "source": "# TODO: Replace <FILL IN> with appropriate code\nlabelsAndPredsTest = <FILL IN>\nrmseTestInteract = <FILL IN>\n\nprint ('Test RMSE:\\n\\tBaseline = {0:.3f}\\n\\tLRInteract = {1:.3f}'\n       .format(rmseTestBase, rmseTestInteract))"
        }, 
        {
            "source": "<div align=\"right\">\n<a href=\"#mat20\" class=\"btn btn-default\" data-toggle=\"collapse\">Click here for the solution</a>\n</div>\n<div id=\"mat20\" class=\"collapse\">\n```\nlabelsAndPredsTest = (testDataInteract.\n                      map(lambda lp: (lp.label, modelInteract.predict(lp.features))))\nrmseTestInteract = calcRMSE(labelsAndPredsTest)\n\n\n```\n</div>", 
            "cell_type": "markdown", 
            "metadata": {}
        }, 
        {
            "execution_count": null, 
            "cell_type": "code", 
            "metadata": {}, 
            "outputs": [], 
            "source": "# TEST Evaluate interaction model on test data (5c)\nTest.assertTrue(np.allclose(rmseTestInteract, 16.3272040537),\n                'incorrect value for rmseTestInteract')"
        }
    ], 
    "metadata": {
        "kernelspec": {
            "display_name": "Python 3.5", 
            "name": "python3", 
            "language": "python"
        }, 
        "language_info": {
            "mimetype": "text/x-python", 
            "nbconvert_exporter": "python", 
            "version": "3.5.4", 
            "name": "python", 
            "file_extension": ".py", 
            "pygments_lexer": "ipython3", 
            "codemirror_mode": {
                "version": 3, 
                "name": "ipython"
            }
        }, 
        "anaconda-cloud": {}
    }, 
    "nbformat": 4
}