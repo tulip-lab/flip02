{
 "cells": [
  {
   "cell_type": "markdown",
   "metadata": {},
   "source": [
    "# FLIP(03):  Deep Learning\n",
    "**(Module 01: Deep Learning)**\n",
    "\n",
    "---\n",
    "- Materials in this module include resources collected from various open-source online repositories.\n",
    "- You are free to use, but NOT allowed to change or distribute this package.\n",
    "\n",
    "Prepared by and for \n",
    "**Student Members** |\n",
    "2006-2018 [TULIP Lab](http://www.tulip.org.au)\n",
    "\n",
    "---\n",
    "\n",
    "\n",
    "# Session 12 - Adversarial Examples\n"
   ]
  },
  {
   "cell_type": "markdown",
   "metadata": {},
   "source": [
    "## Introduction\n",
    "\n",
    "In the previous tutorials, we have used various kinds of Deep Neural Networks for classifying images with varying success. In this tutorial we will see a simple method for finding so-called Adversarial Examples that cause a state-of-the-art neural network to mis-classify any input image to whatever class we choose. This is done simply by adding a small amount of 'specialized' noise to the input image. The changes are imperceptible to humans, but it fools the neural network.\n",
    "\n",
    "This builds on the previous tutorials. You should be familiar with neural networks in general (e.g. Tutorial #01 and #02), and knowledge of the Inception model is also helpful (Tutorial #07)."
   ]
  },
  {
   "cell_type": "markdown",
   "metadata": {},
   "source": [
    "## Flowchart"
   ]
  },
  {
   "cell_type": "markdown",
   "metadata": {},
   "source": [
    "We will use the Inception model from Tutorial #07 and modify / hack the TensorFlow graph to find adversarial examples that cause the Inception model to mis-classify the input images.\n",
    "\n",
    "In the flow-chart below, an image of Willy Wonka has some noise added and the result is used as input to the Inception model. The goal is to find the noise that makes the Inception mis-classify the image to our desired target-class, here chosen to be a 'bookcase' (class-number 300).\n",
    "\n",
    "We have also added a new loss or cost-function to the graph, that calculates the so-called cross-entropy, which is a measure of how well the Inception model has performed at classifying the noisy image.\n",
    "\n",
    "Because the Inception model is constructed from many basic mathematical operations that have been combined, TensorFlow allows us to easily find the gradient of the loss-function using the chain-rule of differentiation.\n",
    "\n",
    "We use the gradient of the loss-function with regard to the input-image, to guide us when searching for the adversarial noise. We are looking for noise that increases the classification score (aka. probability) for 'bookcase' rather than the original classification of the input image.\n",
    "\n",
    "This essentially performs optimization using gradient descent and is implemented further below."
   ]
  },
  {
   "cell_type": "code",
   "execution_count": null,
   "metadata": {
    "collapsed": false,
    "scrolled": true
   },
   "outputs": [],
   "source": [
    "from IPython.display import Image, display\n",
    "Image('images/11_adversarial_examples_flowchart.png')"
   ]
  },
  {
   "cell_type": "markdown",
   "metadata": {},
   "source": [
    "## Imports"
   ]
  },
  {
   "cell_type": "code",
   "execution_count": null,
   "metadata": {
    "collapsed": true
   },
   "outputs": [],
   "source": [
    "%matplotlib inline\n",
    "import matplotlib.pyplot as plt\n",
    "import tensorflow as tf\n",
    "import numpy as np\n",
    "import os\n",
    "\n",
    "# Functions and classes for loading and using the Inception model.\n",
    "import inception"
   ]
  },
  {
   "cell_type": "markdown",
   "metadata": {},
   "source": [
    "This was developed using Python 3.5.2 (Anaconda) and TensorFlow version:"
   ]
  },
  {
   "cell_type": "code",
   "execution_count": null,
   "metadata": {
    "collapsed": false,
    "scrolled": true
   },
   "outputs": [],
   "source": [
    "tf.__version__"
   ]
  },
  {
   "cell_type": "markdown",
   "metadata": {},
   "source": [
    "## Inception Model"
   ]
  },
  {
   "cell_type": "markdown",
   "metadata": {},
   "source": [
    "### Download the Inception model from the internet"
   ]
  },
  {
   "cell_type": "markdown",
   "metadata": {},
   "source": [
    "The Inception model is downloaded from the internet. This is the default directory where you want to save the data-files. The directory will be created if it does not exist."
   ]
  },
  {
   "cell_type": "code",
   "execution_count": null,
   "metadata": {
    "collapsed": true
   },
   "outputs": [],
   "source": [
    "# inception.data_dir = 'inception/'"
   ]
  },
  {
   "cell_type": "markdown",
   "metadata": {},
   "source": [
    "Download the data for the Inception model if it doesn't already exist in the directory. It is 85 MB."
   ]
  },
  {
   "cell_type": "code",
   "execution_count": null,
   "metadata": {
    "collapsed": false
   },
   "outputs": [],
   "source": [
    "inception.maybe_download()"
   ]
  },
  {
   "cell_type": "markdown",
   "metadata": {},
   "source": [
    "### Load the Inception Model"
   ]
  },
  {
   "cell_type": "markdown",
   "metadata": {},
   "source": [
    "Load the Inception model so it is ready for classifying images.\n",
    "\n",
    "Note the deprecation warning, which might cause the program to fail in the future."
   ]
  },
  {
   "cell_type": "code",
   "execution_count": null,
   "metadata": {
    "collapsed": false
   },
   "outputs": [],
   "source": [
    "model = inception.Inception()"
   ]
  },
  {
   "cell_type": "markdown",
   "metadata": {},
   "source": [
    "### Get Input and Output for the Inception Model"
   ]
  },
  {
   "cell_type": "markdown",
   "metadata": {},
   "source": [
    "Get a reference to the input tensor for the Inception model. This tensor is for the resized image, that is, the raw bytes for a 299 x 299 image with 3 colour channels. We will add noise to the resized image and feed the result back into the graph using this as well, so we make sure that the noise is not processed further by the resizing algorithm."
   ]
  },
  {
   "cell_type": "code",
   "execution_count": null,
   "metadata": {
    "collapsed": true
   },
   "outputs": [],
   "source": [
    "resized_image = model.resized_image"
   ]
  },
  {
   "cell_type": "markdown",
   "metadata": {},
   "source": [
    "Get a reference to the output of the softmax-classifier for the Inception model."
   ]
  },
  {
   "cell_type": "code",
   "execution_count": null,
   "metadata": {
    "collapsed": true
   },
   "outputs": [],
   "source": [
    "y_pred = model.y_pred"
   ]
  },
  {
   "cell_type": "markdown",
   "metadata": {},
   "source": [
    "Get a reference to the unscaled output of the softmax-classifier for the Inception model. These are often called 'logits'. The logits are necessary because we will add a new loss-function to the graph, which requires these unscaled outputs."
   ]
  },
  {
   "cell_type": "code",
   "execution_count": null,
   "metadata": {
    "collapsed": true
   },
   "outputs": [],
   "source": [
    "y_logits = model.y_logits"
   ]
  },
  {
   "cell_type": "markdown",
   "metadata": {},
   "source": [
    "### Hack the Inception Model"
   ]
  },
  {
   "cell_type": "markdown",
   "metadata": {},
   "source": [
    "In order to find adversarial examples we will need to add a new loss-function to the graph for the Inception model. We also need the gradient of this loss-function with regard to the input image."
   ]
  },
  {
   "cell_type": "code",
   "execution_count": null,
   "metadata": {
    "collapsed": true
   },
   "outputs": [],
   "source": [
    "# Set the graph for the Inception model as the default graph,\n",
    "# so that all changes inside this with-block are done to that graph.\n",
    "with model.graph.as_default():\n",
    "    # Add a placeholder variable for the target class-number.\n",
    "    # This will be set to e.g. 300 for the 'bookcase' class.\n",
    "    pl_cls_target = tf.placeholder(dtype=tf.int32)\n",
    "\n",
    "    # Add a new loss-function. This is the cross-entropy.\n",
    "    # See Tutorial #01 for an explanation of cross-entropy.\n",
    "    loss = tf.nn.sparse_softmax_cross_entropy_with_logits(logits=y_logits, labels=[pl_cls_target])\n",
    "\n",
    "    # Get the gradient for the loss-function with regard to\n",
    "    # the resized input image.\n",
    "    gradient = tf.gradients(loss, resized_image)"
   ]
  },
  {
   "cell_type": "markdown",
   "metadata": {},
   "source": [
    "## TensorFlow Session"
   ]
  },
  {
   "cell_type": "markdown",
   "metadata": {},
   "source": [
    "We need a TensorFlow session to execute the graph."
   ]
  },
  {
   "cell_type": "code",
   "execution_count": null,
   "metadata": {
    "collapsed": true
   },
   "outputs": [],
   "source": [
    "session = tf.Session(graph=model.graph)"
   ]
  },
  {
   "cell_type": "markdown",
   "metadata": {},
   "source": [
    "## Helper-function for finding Adversary Noise"
   ]
  },
  {
   "cell_type": "markdown",
   "metadata": {},
   "source": [
    "The following function finds the noise that must be added to the given input image so as to be classified as the desired target-class.\n",
    "\n",
    "This function essentially just performs optimization with gradient descent. The noise is initialized to zero and then iteratively updated using the gradient of the loss-function with regard to the noisy input image, so that in each step the noise brings the classification closer to the desired target-class. The optimization is terminated when the target-classification is reached with the required score (e.g. 99%), or when the max number of iterations have been performed."
   ]
  },
  {
   "cell_type": "code",
   "execution_count": null,
   "metadata": {
    "collapsed": true
   },
   "outputs": [],
   "source": [
    "def find_adversary_noise(image_path, cls_target, noise_limit=3.0,\n",
    "                         required_score=0.99, max_iterations=100):\n",
    "    \"\"\"\n",
    "    Find the noise that must be added to the given image so\n",
    "    that it is classified as the target-class.\n",
    "    \n",
    "    image_path: File-path to the input-image (must be *.jpg).\n",
    "    cls_target: Target class-number (integer between 1-1000).\n",
    "    noise_limit: Limit for pixel-values in the noise.\n",
    "    required_score: Stop when target-class score reaches this.\n",
    "    max_iterations: Max number of optimization iterations to perform.\n",
    "    \"\"\"\n",
    "\n",
    "    # Create a feed-dict with the image.\n",
    "    feed_dict = model._create_feed_dict(image_path=image_path)\n",
    "\n",
    "    # Use TensorFlow to calculate the predicted class-scores\n",
    "    # (aka. probabilities) as well as the resized image.\n",
    "    pred, image = session.run([y_pred, resized_image],\n",
    "                              feed_dict=feed_dict)\n",
    "\n",
    "    # Convert to one-dimensional array.\n",
    "    pred = np.squeeze(pred)\n",
    "\n",
    "    # Predicted class-number.\n",
    "    cls_source = np.argmax(pred)\n",
    "\n",
    "    # Score for the predicted class (aka. probability or confidence).\n",
    "    score_source_org = pred.max()\n",
    "\n",
    "    # Names for the source and target classes.\n",
    "    name_source = model.name_lookup.cls_to_name(cls_source,\n",
    "                                                only_first_name=True)\n",
    "    name_target = model.name_lookup.cls_to_name(cls_target,\n",
    "                                                only_first_name=True)\n",
    "\n",
    "    # Initialize the noise to zero.\n",
    "    noise = 0\n",
    "\n",
    "    # Perform a number of optimization iterations to find\n",
    "    # the noise that causes mis-classification of the input image.\n",
    "    for i in range(max_iterations):\n",
    "        print(\"Iteration:\", i)\n",
    "\n",
    "        # The noisy image is just the sum of the input image and noise.\n",
    "        noisy_image = image + noise\n",
    "\n",
    "        # Ensure the pixel-values of the noisy image are between\n",
    "        # 0 and 255 like a real image. If we allowed pixel-values\n",
    "        # outside this range then maybe the mis-classification would\n",
    "        # be due to this 'illegal' input breaking the Inception model.\n",
    "        noisy_image = np.clip(a=noisy_image, a_min=0.0, a_max=255.0)\n",
    "\n",
    "        # Create a feed-dict. This feeds the noisy image to the\n",
    "        # tensor in the graph that holds the resized image, because\n",
    "        # this is the final stage for inputting raw image data.\n",
    "        # This also feeds the target class-number that we desire.\n",
    "        feed_dict = {model.tensor_name_resized_image: noisy_image,\n",
    "                     pl_cls_target: cls_target}\n",
    "\n",
    "        # Calculate the predicted class-scores as well as the gradient.\n",
    "        pred, grad = session.run([y_pred, gradient],\n",
    "                                 feed_dict=feed_dict)\n",
    "\n",
    "        # Convert the predicted class-scores to a one-dim array.\n",
    "        pred = np.squeeze(pred)\n",
    "\n",
    "        # The scores (probabilities) for the source and target classes.\n",
    "        score_source = pred[cls_source]\n",
    "        score_target = pred[cls_target]\n",
    "\n",
    "        # Squeeze the dimensionality for the gradient-array.\n",
    "        grad = np.array(grad).squeeze()\n",
    "\n",
    "        # The gradient now tells us how much we need to change the\n",
    "        # noisy input image in order to move the predicted class\n",
    "        # closer to the desired target-class.\n",
    "\n",
    "        # Calculate the max of the absolute gradient values.\n",
    "        # This is used to calculate the step-size.\n",
    "        grad_absmax = np.abs(grad).max()\n",
    "        \n",
    "        # If the gradient is very small then use a lower limit,\n",
    "        # because we will use it as a divisor.\n",
    "        if grad_absmax < 1e-10:\n",
    "            grad_absmax = 1e-10\n",
    "\n",
    "        # Calculate the step-size for updating the image-noise.\n",
    "        # This ensures that at least one pixel colour is changed by 7.\n",
    "        # Recall that pixel colours can have 255 different values.\n",
    "        # This step-size was found to give fast convergence.\n",
    "        step_size = 7 / grad_absmax\n",
    "\n",
    "        # Print the score etc. for the source-class.\n",
    "        msg = \"Source score: {0:>7.2%}, class-number: {1:>4}, class-name: {2}\"\n",
    "        print(msg.format(score_source, cls_source, name_source))\n",
    "\n",
    "        # Print the score etc. for the target-class.\n",
    "        msg = \"Target score: {0:>7.2%}, class-number: {1:>4}, class-name: {2}\"\n",
    "        print(msg.format(score_target, cls_target, name_target))\n",
    "\n",
    "        # Print statistics for the gradient.\n",
    "        msg = \"Gradient min: {0:>9.6f}, max: {1:>9.6f}, stepsize: {2:>9.2f}\"\n",
    "        print(msg.format(grad.min(), grad.max(), step_size))\n",
    "\n",
    "        # Newline.\n",
    "        print()\n",
    "\n",
    "        # If the score for the target-class is not high enough.\n",
    "        if score_target < required_score:\n",
    "            # Update the image-noise by subtracting the gradient\n",
    "            # scaled by the step-size.\n",
    "            noise -= step_size * grad\n",
    "\n",
    "            # Ensure the noise is within the desired range.\n",
    "            # This avoids distorting the image too much.\n",
    "            noise = np.clip(a=noise,\n",
    "                            a_min=-noise_limit,\n",
    "                            a_max=noise_limit)\n",
    "        else:\n",
    "            # Abort the optimization because the score is high enough.\n",
    "            break\n",
    "\n",
    "    return image.squeeze(), noisy_image.squeeze(), noise, \\\n",
    "           name_source, name_target, \\\n",
    "           score_source, score_source_org, score_target"
   ]
  },
  {
   "cell_type": "markdown",
   "metadata": {},
   "source": [
    "### Helper-function for plotting image and noise"
   ]
  },
  {
   "cell_type": "markdown",
   "metadata": {},
   "source": [
    "This function normalizes the input so its values are between 0.0 and 1.0 which is needed to show the noise properly."
   ]
  },
  {
   "cell_type": "code",
   "execution_count": null,
   "metadata": {
    "collapsed": true
   },
   "outputs": [],
   "source": [
    "def normalize_image(x):\n",
    "    # Get the min and max values for all pixels in the input.\n",
    "    x_min = x.min()\n",
    "    x_max = x.max()\n",
    "\n",
    "    # Normalize so all values are between 0.0 and 1.0\n",
    "    x_norm = (x - x_min) / (x_max - x_min)\n",
    "\n",
    "    return x_norm"
   ]
  },
  {
   "cell_type": "markdown",
   "metadata": {},
   "source": [
    "This function plots the original image, the noisy image, and the noise. It also shows the class-names and scores."
   ]
  },
  {
   "cell_type": "code",
   "execution_count": null,
   "metadata": {
    "collapsed": true
   },
   "outputs": [],
   "source": [
    "def plot_images(image, noise, noisy_image,\n",
    "                name_source, name_target,\n",
    "                score_source, score_source_org, score_target):\n",
    "    \"\"\"\n",
    "    Plot the image, the noisy image and the noise.\n",
    "    Also shows the class-names and scores.\n",
    "\n",
    "    Note that the noise is amplified to use the full range of\n",
    "    colours, otherwise if the noise is very low it would be\n",
    "    hard to see.\n",
    "\n",
    "    image: Original input image.\n",
    "    noise: Noise that has been added to the image.\n",
    "    noisy_image: Input image + noise.\n",
    "    name_source: Name of the source-class.\n",
    "    name_target: Name of the target-class.\n",
    "    score_source: Score for the source-class.\n",
    "    score_source_org: Original score for the source-class.\n",
    "    score_target: Score for the target-class.\n",
    "    \"\"\"\n",
    "    \n",
    "    # Create figure with sub-plots.\n",
    "    fig, axes = plt.subplots(1, 3, figsize=(10,10))\n",
    "\n",
    "    # Adjust vertical spacing.\n",
    "    fig.subplots_adjust(hspace=0.1, wspace=0.1)\n",
    "\n",
    "    # Use interpolation to smooth pixels?\n",
    "    smooth = True\n",
    "    \n",
    "    # Interpolation type.\n",
    "    if smooth:\n",
    "        interpolation = 'spline16'\n",
    "    else:\n",
    "        interpolation = 'nearest'\n",
    "\n",
    "    # Plot the original image.\n",
    "    # Note that the pixel-values are normalized to the [0.0, 1.0]\n",
    "    # range by dividing with 255.\n",
    "    ax = axes.flat[0]\n",
    "    ax.imshow(image / 255.0, interpolation=interpolation)\n",
    "    msg = \"Original Image:\\n{0} ({1:.2%})\"\n",
    "    xlabel = msg.format(name_source, score_source_org)\n",
    "    ax.set_xlabel(xlabel)\n",
    "\n",
    "    # Plot the noisy image.\n",
    "    ax = axes.flat[1]\n",
    "    ax.imshow(noisy_image / 255.0, interpolation=interpolation)\n",
    "    msg = \"Image + Noise:\\n{0} ({1:.2%})\\n{2} ({3:.2%})\"\n",
    "    xlabel = msg.format(name_source, score_source, name_target, score_target)\n",
    "    ax.set_xlabel(xlabel)\n",
    "\n",
    "    # Plot the noise.\n",
    "    # The colours are amplified otherwise they would be hard to see.\n",
    "    ax = axes.flat[2]\n",
    "    ax.imshow(normalize_image(noise), interpolation=interpolation)\n",
    "    xlabel = \"Amplified Noise\"\n",
    "    ax.set_xlabel(xlabel)\n",
    "\n",
    "    # Remove ticks from all the plots.\n",
    "    for ax in axes.flat:\n",
    "        ax.set_xticks([])\n",
    "        ax.set_yticks([])\n",
    "    \n",
    "    # Ensure the plot is shown correctly with multiple plots\n",
    "    # in a single Notebook cell.\n",
    "    plt.show()"
   ]
  },
  {
   "cell_type": "markdown",
   "metadata": {},
   "source": [
    "### Helper-function for finding and plotting adversarial example"
   ]
  },
  {
   "cell_type": "markdown",
   "metadata": {},
   "source": [
    "This function combines the above two helper-functions. It first finds the adversarial noise and then plots the image with the noise."
   ]
  },
  {
   "cell_type": "code",
   "execution_count": null,
   "metadata": {
    "collapsed": true
   },
   "outputs": [],
   "source": [
    "def adversary_example(image_path, cls_target,\n",
    "                      noise_limit, required_score):\n",
    "    \"\"\"\n",
    "    Find and plot adversarial noise for the given image.\n",
    "    \n",
    "    image_path: File-path to the input-image (must be *.jpg).\n",
    "    cls_target: Target class-number (integer between 1-1000).\n",
    "    noise_limit: Limit for pixel-values in the noise.\n",
    "    required_score: Stop when target-class score reaches this.\n",
    "    \"\"\"\n",
    "\n",
    "    # Find the adversarial noise.\n",
    "    image, noisy_image, noise, \\\n",
    "    name_source, name_target, \\\n",
    "    score_source, score_source_org, score_target = \\\n",
    "        find_adversary_noise(image_path=image_path,\n",
    "                             cls_target=cls_target,\n",
    "                             noise_limit=noise_limit,\n",
    "                             required_score=required_score)\n",
    "\n",
    "    # Plot the image and the noise.\n",
    "    plot_images(image=image, noise=noise, noisy_image=noisy_image,\n",
    "                name_source=name_source, name_target=name_target,\n",
    "                score_source=score_source,\n",
    "                score_source_org=score_source_org,\n",
    "                score_target=score_target)\n",
    "\n",
    "    # Print some statistics for the noise.\n",
    "    msg = \"Noise min: {0:.3f}, max: {1:.3f}, mean: {2:.3f}, std: {3:.3f}\"\n",
    "    print(msg.format(noise.min(), noise.max(),\n",
    "                     noise.mean(), noise.std()))"
   ]
  },
  {
   "cell_type": "markdown",
   "metadata": {},
   "source": [
    "## Results"
   ]
  },
  {
   "cell_type": "markdown",
   "metadata": {},
   "source": [
    "### Parrot"
   ]
  },
  {
   "cell_type": "markdown",
   "metadata": {},
   "source": [
    "This example takes an input image of a parrot and finds adversarial noise that causes the Inception model to mis-classify the image as a bookcase (class-number 300).\n",
    "\n",
    "The noise-limit is set to 3.0 which means that each pixel-colour is only allowed to change by max &plusmn; 3.0. Each pixel-colour is a value between 0 and 255, so a change of &plusmn; 3.0 corresponds to only about 1.2% of the range of possible values. Such a small amount of noise is imperceptible to the human eye, so the noisy image looks exactly like the original image, as shown below.\n",
    "\n",
    "The required-score is set to 0.99 which means the optimization that finds the adversarial noise will stop when the target classification score is 0.99 or higher, so the Inception model is almost completely certain that the noisy image shows the desired target class."
   ]
  },
  {
   "cell_type": "code",
   "execution_count": null,
   "metadata": {
    "collapsed": false,
    "scrolled": true
   },
   "outputs": [],
   "source": [
    "image_path = \"images/parrot_cropped1.jpg\"\n",
    "\n",
    "adversary_example(image_path=image_path,\n",
    "                  cls_target=300,\n",
    "                  noise_limit=3.0,\n",
    "                  required_score=0.99)"
   ]
  },
  {
   "cell_type": "markdown",
   "metadata": {},
   "source": [
    "As shown above, the original image of the parrot looks exactly like the noisy image. The human eye cannot tell the difference between these two images. The original image is correctly classified by the Inception model as a macaw (i.e. parrot) with a score of 97.38%. But the noisy image has a classification score of 0.00% for macaw and 99.12% for a bookcase.\n",
    "\n",
    "So we have fooled the Inception model into believing that an image of a parrot shows a bookcase. This mis-classification was achieved simply by adding a little 'specialized' noise.\n",
    "\n",
    "Note that the noise shown above has been greatly amplified. In reality, the noise adjusts the colour intensity of each pixel in the input image by a maximum of 1.2% of the possible intensity range (assuming the noise-limit is set to 3.0 in the function above). Because the noise is so low, the change is imperceptible to humans, but it causes the Inception model to completely mis-classify the input image."
   ]
  },
  {
   "cell_type": "markdown",
   "metadata": {},
   "source": [
    "### Elon Musk"
   ]
  },
  {
   "cell_type": "markdown",
   "metadata": {},
   "source": [
    "We can also find adversarial noise for an image of Elon Musk. The target-class is again set to a 'bookcase' (class-number 300), with the same settings for the noise-limit and required score as above."
   ]
  },
  {
   "cell_type": "code",
   "execution_count": null,
   "metadata": {
    "collapsed": false,
    "scrolled": false
   },
   "outputs": [],
   "source": [
    "image_path = \"images/elon_musk.jpg\"\n",
    "\n",
    "adversary_example(image_path=image_path,\n",
    "                  cls_target=300,\n",
    "                  noise_limit=3.0,\n",
    "                  required_score=0.99)"
   ]
  },
  {
   "cell_type": "markdown",
   "metadata": {},
   "source": [
    "The Inception model was confused about the classification of the original input image, classifying it as maybe a sweatshirt (score 19.73%). But we could still generate adversarial noise that made the Inception model almost completely certain that the noisy image shows a bookcase (score 99.09%), even though the two images seem to be exactly the same to the human eye."
   ]
  },
  {
   "cell_type": "markdown",
   "metadata": {},
   "source": [
    "### Willy Wonka (New)"
   ]
  },
  {
   "cell_type": "code",
   "execution_count": null,
   "metadata": {
    "collapsed": false,
    "scrolled": false
   },
   "outputs": [],
   "source": [
    "image_path = \"images/willy_wonka_new.jpg\"\n",
    "\n",
    "adversary_example(image_path=image_path,\n",
    "                  cls_target=300,\n",
    "                  noise_limit=3.0,\n",
    "                  required_score=0.99)"
   ]
  },
  {
   "cell_type": "markdown",
   "metadata": {},
   "source": [
    "In the above image of Willy Wonka (new film-version), the Inception model originally classified the image as 'sunglasses' (score 31.48%). But once again we were able to create adversarial noise that caused the Inception model to classify the image as a 'bookcase' (score 99.03%).\n",
    "\n",
    "The two images seem to be identical. But you may be able to tilt your computer-monitor so you can see the noisy patterns have changed slightly in the white areas."
   ]
  },
  {
   "cell_type": "markdown",
   "metadata": {},
   "source": [
    "### Willy Wonka (Old)"
   ]
  },
  {
   "cell_type": "code",
   "execution_count": null,
   "metadata": {
    "collapsed": false,
    "scrolled": false
   },
   "outputs": [],
   "source": [
    "image_path = \"images/willy_wonka_old.jpg\"\n",
    "\n",
    "adversary_example(image_path=image_path,\n",
    "                  cls_target=300,\n",
    "                  noise_limit=3.0,\n",
    "                  required_score=0.99)"
   ]
  },
  {
   "cell_type": "markdown",
   "metadata": {},
   "source": [
    "This image of Willy Wonka (old film-version) was originally classified as a 'bow tie' (score 97.22%) by the Inception model. But once again it becomes classified as a 'bookcase' (score 99.72%) when adding the adversarial noise."
   ]
  },
  {
   "cell_type": "markdown",
   "metadata": {},
   "source": [
    "## Close TensorFlow Session"
   ]
  },
  {
   "cell_type": "markdown",
   "metadata": {},
   "source": [
    "We are now done using TensorFlow, so we close the session to release its resources. Note that we have two TensorFlow-sessions, one is inside the model-object."
   ]
  },
  {
   "cell_type": "code",
   "execution_count": null,
   "metadata": {
    "collapsed": true
   },
   "outputs": [],
   "source": [
    "# This has been commented out in case you want to modify and experiment\n",
    "# with the Notebook without having to restart it.\n",
    "# session.close()\n",
    "# model.close()"
   ]
  },
  {
   "cell_type": "markdown",
   "metadata": {},
   "source": [
    "## Conclusion\n",
    "\n",
    "We have shown how to find so-called Adversarial Examples that cause the Inception model to mis-classify images. Through a simple optimization process, we find noise that can be added to an input image so as to cause the Inception model to mis-classify the image, even though each pixel has only been changed slightly and the difference is imperceptible to humans.\n",
    "\n",
    "Furthermore, the noise can be optimized so as to give a score (aka. probability or confidence) of nearly 100%. So not only is the input image mis-classified, but the neural network is apparently very confident that it has correctly classified the image.\n",
    "\n",
    "This is a general problem for neural networks and it is a very serious problem! Until we have a good understanding of why this happens and how to fix it, we cannot trust neural networks in critical applications. Imagine what would happen if a self-driving car ignores a stop-sign or a person crossing the road because its neural networks have mis-classified the input images.\n",
    "\n",
    "Research into this problem is ongoing and you are encouraged to do an internet search for recent papers on the subject. Maybe you can find the solution to this problem?"
   ]
  },
  {
   "cell_type": "markdown",
   "metadata": {},
   "source": [
    "## Exercises\n",
    "\n",
    "These are a few suggestions for exercises that may help improve your skills with TensorFlow. It is important to get hands-on experience with TensorFlow in order to learn how to use it properly.\n",
    "\n",
    "You may want to backup this Notebook and the other files before making any changes.\n",
    "\n",
    "* Try using some of your own images.\n",
    "* Try other arguments for `adversary_example()`. Try another target-class, noise-limit and required score. What is the result?\n",
    "* Do you think it is possible to generate adversarial noise that would cause mis-classification for any desired target-class? How would you prove your theory?\n",
    "* Try another formula for calculating the step-size in `find_adversary_noise()`. Can you make the optimization converge faster?\n",
    "* Try blurring the noisy input-image right before it is input into the neural network. Does it remove the adversarial noise and cause correct classification again?\n",
    "* Try lowering the bit-depth of the noisy input image instead of blurring it. Does it remove the adversarial noise and result in correct classification? For example if you only allow 16 or 32 colour-levels for Red, Green and Blue, whereas normally there are 255 levels.\n",
    "* Do you think your noise-removal also works for hand-written digits in the MNIST data-set, or for strange geometric shapes? These are sometimes called 'fooling images', do an internet search.\n",
    "* Can you find adversarial noise that would work for all images, so you don't have to find adversarial noise specifically for each image? How would you do this?\n",
    "* Can you implement the optimization in `find_adversary_noise()` directly in TensorFlow instead of using NumPy? You would need to make the noise a variable in the TensorFlow graph as well, so it can be optimized by TensorFlow.\n",
    "* Explain to a friend what Adversarial Examples are and how the program finds them."
   ]
  },
  {
   "cell_type": "markdown",
   "metadata": {},
   "source": [
    "## License (MIT)\n",
    "\n",
    "Copyright (c) 2016 by [Magnus Erik Hvass Pedersen](http://www.hvass-labs.org/)\n",
    "\n",
    "Permission is hereby granted, free of charge, to any person obtaining a copy of this software and associated documentation files (the \"Software\"), to deal in the Software without restriction, including without limitation the rights to use, copy, modify, merge, publish, distribute, sublicense, and/or sell copies of the Software, and to permit persons to whom the Software is furnished to do so, subject to the following conditions:\n",
    "\n",
    "The above copyright notice and this permission notice shall be included in all copies or substantial portions of the Software.\n",
    "\n",
    "THE SOFTWARE IS PROVIDED \"AS IS\", WITHOUT WARRANTY OF ANY KIND, EXPRESS OR IMPLIED, INCLUDING BUT NOT LIMITED TO THE WARRANTIES OF MERCHANTABILITY, FITNESS FOR A PARTICULAR PURPOSE AND NONINFRINGEMENT. IN NO EVENT SHALL THE AUTHORS OR COPYRIGHT HOLDERS BE LIABLE FOR ANY CLAIM, DAMAGES OR OTHER LIABILITY, WHETHER IN AN ACTION OF CONTRACT, TORT OR OTHERWISE, ARISING FROM, OUT OF OR IN CONNECTION WITH THE SOFTWARE OR THE USE OR OTHER DEALINGS IN THE SOFTWARE."
   ]
  }
 ],
 "metadata": {
  "anaconda-cloud": {},
  "kernelspec": {
   "display_name": "Python 2",
   "language": "python",
   "name": "python2"
  },
  "language_info": {
   "codemirror_mode": {
    "name": "ipython",
    "version": 2
   },
   "file_extension": ".py",
   "mimetype": "text/x-python",
   "name": "python",
   "nbconvert_exporter": "python",
   "pygments_lexer": "ipython2",
   "version": "2.7.14"
  }
 },
 "nbformat": 4,
 "nbformat_minor": 0
}
