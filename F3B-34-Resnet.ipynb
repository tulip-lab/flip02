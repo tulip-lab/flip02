{
    "nbformat_minor": 2, 
    "cells": [
        {
            "source": "# ResNet\uff1a\u6df1\u5ea6\u6b8b\u5dee\u7f51\u7edc\n\n\u5f53\u5927\u5bb6\u8fd8\u5728\u60ca\u53f9GoogLeNet\u7528\u7ed3\u6784\u5316\u7684\u8fde\u63a5\u7eb3\u5165\u4e86\u5927\u91cf\u5377\u79ef\u5c42\u7684\u65f6\u5019\uff0c\u5fae\u8f6f\u4e9a\u6d32\u7814\u7a76\u9662\u7684\u7814\u7a76\u5458\u5df2\u7ecf\u5728\u8bbe\u8ba1\u66f4\u6df1\u4f46\u7ed3\u6784\u66f4\u7b80\u5355\u7684\u7f51\u7edc[ResNet](https://arxiv.org/abs/1512.03385)\u3002\u4ed6\u4eec\u51ed\u501f\u8fd9\u4e2a\u7f51\u7edc\u57282015\u5e74\u7684Imagenet\u7ade\u8d5b\u4e2d\u5927\u83b7\u5168\u80dc\u3002\n\nResNet\u6709\u6548\u7684\u89e3\u51b3\u4e86\u6df1\u5ea6\u5377\u79ef\u795e\u7ecf\u7f51\u7edc\u96be\u8bad\u7ec3\u7684\u95ee\u9898\u3002\u8fd9\u662f\u56e0\u4e3a\u5728\u8bef\u5dee\u53cd\u4f20\u7684\u8fc7\u7a0b\u4e2d\uff0c\u68af\u5ea6\u901a\u5e38\u53d8\u5f97\u8d8a\u6765\u8d8a\u5c0f\uff0c\u4ece\u800c\u6743\u91cd\u7684\u66f4\u65b0\u91cf\u4e5f\u53d8\u5c0f\u3002\u8fd9\u4e2a\u5bfc\u81f4\u8fdc\u79bb\u635f\u5931\u51fd\u6570\u7684\u5c42\u8bad\u7ec3\u7f13\u6162\uff0c\u968f\u7740\u5c42\u6570\u7684\u589e\u52a0\u8fd9\u4e2a\u73b0\u8c61\u66f4\u52a0\u660e\u663e\u3002\u4e4b\u524d\u6709\u4e24\u79cd\u5e38\u7528\u65b9\u6848\u6765\u5c1d\u8bd5\u89e3\u51b3\u8fd9\u4e2a\u95ee\u9898\uff1a\n\n1. \u6309\u5c42\u8bad\u7ec3\u3002\u5148\u8bad\u7ec3\u9760\u8fd1\u6570\u636e\u7684\u5c42\uff0c\u7136\u540e\u6162\u6162\u7684\u589e\u52a0\u540e\u9762\u7684\u5c42\u3002\u4f46\u6548\u679c\u4e0d\u662f\u7279\u522b\u597d\uff0c\u800c\u4e14\u6bd4\u8f83\u9ebb\u70e6\u3002\n2. \u4f7f\u7528\u66f4\u5bbd\u7684\u5c42\uff08\u589e\u52a0\u8f93\u51fa\u901a\u9053\uff09\u800c\u4e0d\u662f\u66f4\u6df1\u6765\u589e\u52a0\u6a21\u578b\u590d\u6742\u5ea6\u3002\u4f46\u66f4\u5bbd\u7684\u6a21\u578b\u7ecf\u5e38\u4e0d\u5982\u66f4\u6df1\u7684\u6548\u679c\u597d\u3002\n\nResNet\u901a\u8fc7\u589e\u52a0\u8de8\u5c42\u7684\u8fde\u63a5\u6765\u89e3\u51b3\u68af\u5ea6\u9010\u5c42\u56de\u4f20\u65f6\u53d8\u5c0f\u7684\u95ee\u9898\u3002\u867d\u7136\u8fd9\u4e2a\u60f3\u6cd5\u4e4b\u524d\u5c31\u63d0\u51fa\u8fc7\u4e86\uff0c\u4f46ResNet\u771f\u6b63\u7684\u628a\u6548\u679c\u505a\u597d\u4e86\u3002\n\n\u4e0b\u56fe\u6f14\u793a\u4e86\u4e00\u4e2a\u8de8\u5c42\u7684\u8fde\u63a5\u3002\n\nCheck [here](https://github.com/mli/gluon-tutorials-zh/blob/master/chapter_convolutional-neural-networks/resnet-gluon.md)\n\n![](https://github.com/mli/gluon-tutorials-zh/raw/master/img/residual.svg)\n\n\n\u6700\u5e95\u4e0b\u90a3\u5c42\u7684\u8f93\u5165\u4e0d\u4ec5\u4ec5\u662f\u8f93\u51fa\u7ed9\u4e86\u4e2d\u95f4\u5c42\uff0c\u800c\u4e14\u5176\u4e0e\u4e2d\u95f4\u5c42\u7ed3\u679c\u76f8\u52a0\u8fdb\u5165\u6700\u4e0a\u5c42\u3002\u8fd9\u6837\u5728\u68af\u5ea6\u53cd\u4f20\u65f6\uff0c\u6700\u4e0a\u5c42\u68af\u5ea6\u53ef\u4ee5\u76f4\u63a5\u8df3\u8fc7\u4e2d\u95f4\u5c42\u4f20\u5230\u6700\u4e0b\u5c42\uff0c\u4ece\u800c\u907f\u514d\u6700\u4e0b\u5c42\u68af\u5ea6\u8fc7\u5c0f\u60c5\u51b5\u3002\n\n\u4e3a\u4ec0\u4e48\u53eb\u505a\u6b8b\u5dee\u7f51\u7edc\u5462\uff1f\u6211\u4eec\u53ef\u4ee5\u5c06\u4e0a\u9762\u793a\u610f\u56fe\u91cc\u7684\u7ed3\u6784\u62c6\u6210\u4e24\u4e2a\u7f51\u7edc\u7684\u548c\uff0c\u4e00\u4e2a\u4e00\u5c42\uff0c\u4e00\u4e2a\u4e24\u5c42\uff0c\u6700\u4e0b\u9762\u5c42\u662f\u5171\u4eab\u7684\u3002\n\n![](https://github.com/mli/gluon-tutorials-zh/raw/master/img/residual2.svg)\n\n\u5728\u8bad\u7ec3\u8fc7\u7a0b\u4e2d\uff0c\u5de6\u8fb9\u7684\u7f51\u7edc\u56e0\u4e3a\u66f4\u7b80\u5355\u6240\u4ee5\u66f4\u5bb9\u6613\u8bad\u7ec3\u3002\u8fd9\u4e2a\u5c0f\u7f51\u7edc\u6ca1\u6709\u62df\u5408\u5230\u7684\u90e8\u5206\uff0c\u6216\u8005\u8bf4\u6b8b\u5dee\uff0c\u5219\u88ab\u53f3\u8fb9\u7684\u7f51\u7edc\u6293\u53d6\u4f4f\u3002\u6240\u4ee5\u76f4\u89c2\u4e0a\u6765\u8bf4\uff0c\u5373\u4f7f\u52a0\u6df1\u7f51\u7edc\uff0c\u8de8\u5c42\u8fde\u63a5\u4ecd\u7136\u53ef\u4ee5\u4f7f\u5f97\u5e95\u5c42\u7f51\u7edc\u53ef\u4ee5\u5145\u5206\u7684\u8bad\u7ec3\uff0c\u4ece\u800c\u4e0d\u4f1a\u8ba9\u8bad\u7ec3\u66f4\u96be\u3002\n\n## Residual\u5757\n\nResNet\u6cbf\u7528\u4e86VGG\u7684\u90a3\u79cd\u5168\u7528$3\\times 3$\u5377\u79ef\uff0c\u4f46\u5728\u5377\u79ef\u548c\u6c60\u5316\u5c42\u4e4b\u95f4\u52a0\u5165\u4e86\u6279\u91cf\u5f52\u4e00\u5c42\u6765\u52a0\u901f\u8bad\u7ec3\u3002\u6bcf\u6b21\u8de8\u5c42\u8fde\u63a5\u8de8\u8fc7\u4e24\u5c42\u5377\u79ef\u3002\u8fd9\u91cc\u6211\u4eec\u5b9a\u4e49\u4e00\u4e2a\u8fd9\u6837\u7684\u6b8b\u5dee\u5757\u3002\u6ce8\u610f\u5230\u5982\u679c\u8f93\u5165\u7684\u901a\u9053\u6570\u548c\u8f93\u51fa\u4e0d\u4e00\u6837\u65f6\uff08`same_shape=False`\uff09\uff0c\u6211\u4eec\u4f7f\u7528\u4e00\u4e2a\u989d\u5916\u7684$1\\times 1$\u5377\u79ef\u6765\u505a\u901a\u9053\u53d8\u5316\uff0c\u540c\u65f6\u4f7f\u7528`strides=2`\u6765\u628a\u957f\u5bbd\u51cf\u534a\u3002", 
            "cell_type": "markdown", 
            "metadata": {}
        }, 
        {
            "execution_count": null, 
            "cell_type": "code", 
            "metadata": {}, 
            "outputs": [], 
            "source": "from mxnet.gluon import nn\nfrom mxnet import nd\n\nclass Residual(nn.Block):\n    def __init__(self, channels, same_shape=True, **kwargs):\n        super(Residual, self).__init__(**kwargs)\n        self.same_shape = same_shape\n        strides = 1 if same_shape else 2\n        self.conv1 = nn.Conv2D(channels, kernel_size=3, padding=1,\n                              strides=strides)\n        self.bn1 = nn.BatchNorm()\n        self.conv2 = nn.Conv2D(channels, kernel_size=3, padding=1)\n        self.bn2 = nn.BatchNorm()\n        if not same_shape:\n            self.conv3 = nn.Conv2D(channels, kernel_size=1,\n                                  strides=strides)\n\n    def forward(self, x):\n        out = nd.relu(self.bn1(self.conv1(x)))\n        out = self.bn2(self.conv2(out))\n        if not self.same_shape:\n            x = self.conv3(x)\n        return nd.relu(out + x)"
        }, 
        {
            "source": "\u8f93\u5165\u8f93\u51fa\u901a\u9053\u76f8\u540c\uff1a", 
            "cell_type": "markdown", 
            "metadata": {}
        }, 
        {
            "execution_count": null, 
            "cell_type": "code", 
            "metadata": {}, 
            "outputs": [], 
            "source": "blk = Residual(3)\nblk.initialize()\n\nx = nd.random.uniform(shape=(4, 3, 6, 6))\nblk(x).shape"
        }, 
        {
            "source": "\u8f93\u5165\u8f93\u51fa\u901a\u9053\u4e0d\u540c\uff1a", 
            "cell_type": "markdown", 
            "metadata": {}
        }, 
        {
            "execution_count": null, 
            "cell_type": "code", 
            "metadata": {}, 
            "outputs": [], 
            "source": "blk2 = Residual(8, same_shape=False)\nblk2.initialize()\nblk2(x).shape"
        }, 
        {
            "source": "## \u6784\u5efaResNet\n\n\u7c7b\u4f3cGoogLeNet\u4e3b\u4f53\u662f\u7531Inception\u5757\u4e32\u8054\u800c\u6210\uff0cResNet\u7684\u4e3b\u4f53\u90e8\u5206\u4e32\u8054\u591a\u4e2aResidual\u5757\u3002\u4e0b\u9762\u6211\u4eec\u5b9a\u4e4918\u5c42\u7684ResNet\u3002\u540c\u6837\u4e3a\u4e86\u9605\u8bfb\u66f4\u52a0\u5bb9\u6613\uff0c\u6211\u4eec\u8fd9\u91cc\u4f7f\u7528\u4e86\u591a\u4e2a`nn.Sequential`\u3002\u53e6\u5916\u6ce8\u610f\u5230\u4e00\u70b9\u662f\uff0c\u8fd9\u91cc\u6211\u4eec\u6ca1\u7528\u6c60\u5316\u5c42\u6765\u51cf\u5c0f\u6570\u636e\u957f\u5bbd\uff0c\u800c\u662f\u901a\u8fc7\u6709\u901a\u9053\u53d8\u5316\u7684Residual\u5757\u91cc\u9762\u7684\u4f7f\u7528`strides=2`\u7684\u5377\u79ef\u5c42\u3002", 
            "cell_type": "markdown", 
            "metadata": {}
        }, 
        {
            "execution_count": null, 
            "cell_type": "code", 
            "metadata": {}, 
            "outputs": [], 
            "source": "class ResNet(nn.Block):\n    def __init__(self, num_classes, verbose=False, **kwargs):\n        super(ResNet, self).__init__(**kwargs)\n        self.verbose = verbose\n        # add name_scope on the outermost Sequential\n        with self.name_scope():\n            # block 1\n            b1 = nn.Conv2D(64, kernel_size=7, strides=2)\n            # block 2\n            b2 = nn.Sequential()\n            b2.add(\n                nn.MaxPool2D(pool_size=3, strides=2),\n                Residual(64),\n                Residual(64)\n            )\n            # block 3\n            b3 = nn.Sequential()\n            b3.add(\n                Residual(128, same_shape=False),\n                Residual(128)\n            )\n            # block 4\n            b4 = nn.Sequential()\n            b4.add(\n                Residual(256, same_shape=False),\n                Residual(256)\n            )\n            # block 5\n            b5 = nn.Sequential()\n            b5.add(\n                Residual(512, same_shape=False),\n                Residual(512)\n            )\n            # block 6\n            b6 = nn.Sequential()\n            b6.add(\n                nn.AvgPool2D(pool_size=3),\n                nn.Dense(num_classes)\n            )\n            # chain all blocks together\n            self.net = nn.Sequential()\n            self.net.add(b1, b2, b3, b4, b5, b6)\n\n    def forward(self, x):\n        out = x\n        for i, b in enumerate(self.net):\n            out = b(out)\n            if self.verbose:\n                print('Block %d output: %s'%(i+1, out.shape))\n        return out"
        }, 
        {
            "source": "\u8fd9\u91cc\u6f14\u793a\u6570\u636e\u5728\u5757\u4e4b\u95f4\u7684\u5f62\u72b6\u53d8\u5316\uff1a", 
            "cell_type": "markdown", 
            "metadata": {}
        }, 
        {
            "execution_count": null, 
            "cell_type": "code", 
            "metadata": {}, 
            "outputs": [], 
            "source": "net = ResNet(10, verbose=True)\nnet.initialize()\n\nx = nd.random.uniform(shape=(4, 3, 96, 96))\ny = net(x)"
        }, 
        {
            "source": "## \u83b7\u53d6\u6570\u636e\u5e76\u8bad\u7ec3\n\n\u8ddf\u524d\u9762\u7c7b\u4f3c\uff0c\u4f46\u56e0\u4e3a\u6709\u6279\u91cf\u5f52\u4e00\u5316\uff0c\u6240\u4ee5\u4f7f\u7528\u4e86\u8f83\u5927\u7684\u5b66\u4e60\u7387\u3002", 
            "cell_type": "markdown", 
            "metadata": {}
        }, 
        {
            "execution_count": null, 
            "cell_type": "code", 
            "metadata": {}, 
            "outputs": [], 
            "source": "import sys\nsys.path.append('..')\nimport utils\nfrom mxnet import gluon\nfrom mxnet import init\n\ntrain_data, test_data = utils.load_data_fashion_mnist(\n    batch_size=64, resize=96)\n\nctx = utils.try_gpu()\nnet = ResNet(10)\nnet.initialize(ctx=ctx, init=init.Xavier())\n\nloss = gluon.loss.SoftmaxCrossEntropyLoss()\ntrainer = gluon.Trainer(net.collect_params(),\n                        'sgd', {'learning_rate': 0.05})\nutils.train(train_data, test_data, net, loss,\n            trainer, ctx, num_epochs=1)"
        }, 
        {
            "source": "## \u7ed3\u8bba\n\nResNet\u4f7f\u7528\u8de8\u5c42\u901a\u9053\u4f7f\u5f97\u8bad\u7ec3\u975e\u5e38\u6df1\u7684\u5377\u79ef\u795e\u7ecf\u7f51\u7edc\u6210\u4e3a\u53ef\u80fd\u3002\u540c\u6837\u5b83\u4f7f\u7528\u5f88\u7b80\u5355\u7684\u5377\u79ef\u5c42\u914d\u7f6e\uff0c\u4f7f\u5f97\u5176\u62d3\u5c55\u66f4\u52a0\u7b80\u5355\u3002\n\n## \u7ec3\u4e60\n\n- \u8fd9\u91cc\u6211\u4eec\u5b9e\u73b0\u4e86ResNet 18\uff0c\u539f\u8bba\u6587\u4e2d\u8fd8\u8ba8\u8bba\u4e86\u66f4\u6df1\u7684\u914d\u7f6e\u3002\u5c1d\u8bd5\u5b9e\u73b0\u5b83\u4eec\u3002\uff08\u63d0\u793a\uff1a\u53c2\u8003\u8bba\u6587\u4e2d\u7684\u88681\uff09\n- \u539f\u8bba\u6587\u4e2d\u8fd8\u4ecb\u7ecd\u4e86\u4e00\u4e2a\u201cbottleneck\u201d\u67b6\u6784\uff0c\u5c1d\u8bd5\u5b9e\u73b0\u5b83\n- ResNet\u4f5c\u8005\u5728[\u63a5\u4e0b\u6765\u7684\u4e00\u7bc7\u8bba\u6587](https://arxiv.org/abs/1603.05027)\u8ba8\u8bba\u4e86\u5c06Residual\u5757\u91cc\u9762\u7684`Conv->BN->Relu`\u7ed3\u6784\u6539\u6210\u4e86`BN->Relu->Conv`\uff08\u53c2\u8003\u8bba\u6587\u56fe1\uff09\uff0c\u5c1d\u8bd5\u5b9e\u73b0\u5b83\n\n\n**\u5410\u69fd\u548c\u8ba8\u8bba\u6b22\u8fce\u70b9**[\u8fd9\u91cc](https://discuss.gluon.ai/t/topic/1663)", 
            "cell_type": "markdown", 
            "metadata": {}
        }
    ], 
    "metadata": {
        "kernelspec": {
            "display_name": "Python 2 with Spark 1.6 (Unsupported)", 
            "name": "python2", 
            "language": "python"
        }, 
        "language_info": {
            "mimetype": "text/x-python", 
            "nbconvert_exporter": "python", 
            "version": "2.7.11", 
            "name": "python", 
            "file_extension": ".py", 
            "pygments_lexer": "ipython2", 
            "codemirror_mode": {
                "version": 2, 
                "name": "ipython"
            }
        }
    }, 
    "nbformat": 4
}