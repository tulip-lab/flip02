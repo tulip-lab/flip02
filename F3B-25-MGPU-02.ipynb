{
    "nbformat_minor": 2, 
    "cells": [
        {
            "source": "# \u591aGPU\u6765\u8bad\u7ec3 --- \u4f7f\u7528Gluon\n\n\n\u5728Gluon\u91cc\u53ef\u4ee5\u5f88\u5bb9\u6613\u7684\u4f7f\u7528\u6570\u636e\u5e76\u884c\u3002\u5728[\u591aGPU\u6765\u8bad\u7ec3 --- \u4ece0\u5f00\u59cb](./multiple-gpus-scratch.md)\u91cc\u6211\u4eec\u624b\u52a8\u5b9e\u73b0\u4e86\u51e0\u4e2a\u6570\u636e\u540c\u6b65\u51fd\u6570\u6765\u4f7f\u7528\u6570\u636e\u5e76\u884c\uff0cGluon\u91cc\u5b9e\u73b0\u4e86\u540c\u6837\u7684\u529f\u80fd\u3002\n\n\n## \u591a\u8bbe\u5907\u4e0a\u7684\u521d\u59cb\u5316\n\n\u4e4b\u524d\u6211\u4eec\u4ecb\u7ecd\u4e86\u5982\u679c\u4f7f\u7528`initialize()`\u91cc\u7684`ctx`\u5728CPU\u6216\u8005\u7279\u5b9aGPU\u4e0a\u521d\u59cb\u5316\u6a21\u578b\u3002\u4e8b\u5b9e\u4e0a\uff0c`ctx`\u53ef\u4ee5\u63a5\u53d7\u4e00\u7cfb\u5217\u7684\u8bbe\u5907\uff0c\u5b83\u4f1a\u5c06\u521d\u59cb\u597d\u7684\u53c2\u6570\u590d\u5236\u6240\u6709\u7684\u8bbe\u5907\u4e0a\u3002\n\n\u8fd9\u91cc\u6211\u4eec\u4f7f\u7528\u4e4b\u524d\u4ecb\u7ecdResnet18\u6765\u4f5c\u4e3a\u6f14\u793a\u3002", 
            "cell_type": "markdown", 
            "metadata": {}
        }, 
        {
            "execution_count": null, 
            "cell_type": "code", 
            "metadata": {
                "attributes": {
                    "classes": [], 
                    "id": "", 
                    "n": "1"
                }
            }, 
            "outputs": [], 
            "source": "import sys\nsys.path.append('..')\nimport utils\nfrom mxnet import gpu\nfrom mxnet import cpu\n\nnet = utils.resnet18(10)\nctx = [gpu(0), gpu(1)]\nnet.initialize(ctx=ctx)"
        }, 
        {
            "source": "\u8bb0\u5f97\u524d\u9762\u63d0\u5230\u7684[\u5ef6\u8fdf\u521d\u59cb\u5316](../chapter_gluon-basics/parameters.md)\uff0c\u8fd9\u91cc\u53c2\u6570\u8fd8\u6ca1\u6709\u88ab\u521d\u59cb\u5316\u3002\u6211\u4eec\u9700\u8981\u5148\u7ed9\u5b9a\u6570\u636e\u8dd1\u4e00\u6b21\u3002\n\nGluon\u63d0\u4f9b\u4e86\u4e4b\u524d\u6211\u4eec\u5b9e\u73b0\u7684`split_and_load`\u51fd\u6570\uff0c\u5b83\u5c06\u6570\u636e\u5206\u5272\u5e76\u8fd4\u56de\u5404\u4e2a\u8bbe\u5907\u4e0a\u7684\u590d\u5236\u3002\u7136\u540e\u6839\u636e\u8f93\u5165\u7684\u8bbe\u5907\uff0c\u8ba1\u7b97\u4e5f\u4f1a\u5728\u76f8\u5e94\u7684\u6570\u636e\u4e0a\u6267\u884c\u3002", 
            "cell_type": "markdown", 
            "metadata": {}
        }, 
        {
            "execution_count": null, 
            "cell_type": "code", 
            "metadata": {}, 
            "outputs": [], 
            "source": "from mxnet import nd\nfrom mxnet import gluon\n\nx = nd.random.uniform(shape=(4, 1, 28, 28))\nx_list = gluon.utils.split_and_load(x, ctx)\nprint(net(x_list[0]))\nprint(net(x_list[1]))"
        }, 
        {
            "source": "\u8fd9\u65f6\u5019\u6211\u4eec\u53ef\u4ee5\u6765\u770b\u521d\u59cb\u7684\u8fc7\u7a0b\u53d1\u751f\u4e86\u4ec0\u4e48\u4e86\u3002\u8bb0\u5f97\u6211\u4eec\u53ef\u4ee5\u901a\u8fc7`data`\u6765\u8bbf\u95ee\u53c2\u6570\u503c\uff0c\u5b83\u9ed8\u8ba4\u4f1a\u8fd4\u56deCPU\u4e0a\u503c\u3002\u4f46\u8fd9\u91cc\u6211\u4eec\u53ea\u5728\u4e24\u4e2aGPU\u4e0a\u521d\u59cb\u5316\u4e86\uff0c\u5728\u8bbf\u95ee\u7684\u5bf9\u5e94\u8bbe\u5907\u7684\u503c\u7684\u65f6\u5019\uff0c\u6211\u4eec\u9700\u8981\u6307\u5b9a\u8bbe\u5907\u3002", 
            "cell_type": "markdown", 
            "metadata": {}
        }, 
        {
            "execution_count": null, 
            "cell_type": "code", 
            "metadata": {}, 
            "outputs": [], 
            "source": "weight = net[1].params.get('weight')\nprint(weight.data(ctx[0])[0])\nprint(weight.data(ctx[1])[0])\ntry:\n    weight.data(cpu())\nexcept:\n    print('Not initialized on', cpu())"
        }, 
        {
            "source": "\u4e0a\u4e00\u7ae0\u6211\u4eec\u63d0\u5230\u8fc7\u5982\u4f55\u5728\u591aGPU\u4e4b\u95f4\u590d\u5236\u68af\u5ea6\u6c42\u548c\u5e76\u5e7f\u64ad\uff0c\u8fd9\u4e2a\u5728`gluon.Trainer`\u91cc\u9762\u4f1a\u88ab\u9ed8\u8ba4\u6267\u884c\u3002\u8fd9\u6837\u6211\u4eec\u53ef\u4ee5\u5b9e\u73b0\u5b8c\u6574\u7684\u8bad\u7ec3\u51fd\u6570\u4e86\u3002\n\n## \u8bad\u7ec3", 
            "cell_type": "markdown", 
            "metadata": {}
        }, 
        {
            "execution_count": null, 
            "cell_type": "code", 
            "metadata": {
                "attributes": {
                    "classes": [], 
                    "id": "", 
                    "n": "7"
                }
            }, 
            "outputs": [], 
            "source": "from mxnet import gluon\nfrom mxnet import autograd\nfrom time import time\nfrom mxnet import init\n\ndef train(num_gpus, batch_size, lr):\n    train_data, test_data = utils.load_data_fashion_mnist(batch_size)\n\n    ctx = [gpu(i) for i in range(num_gpus)]\n    print('Running on', ctx)\n\n    net = utils.resnet18(10)\n    net.initialize(init=init.Xavier(), ctx=ctx)\n    loss = gluon.loss.SoftmaxCrossEntropyLoss()\n    trainer = gluon.Trainer(\n        net.collect_params(),'sgd', {'learning_rate': lr})\n\n    for epoch in range(5):\n        start = time()\n        total_loss = 0\n        for data, label in train_data:\n            data_list = gluon.utils.split_and_load(data, ctx)\n            label_list = gluon.utils.split_and_load(label, ctx)\n            with autograd.record():\n                losses = [loss(net(X), y) for X, y in zip(\n                    data_list, label_list)]\n            for l in losses:\n                l.backward()\n            total_loss += sum([l.sum().asscalar() for l in losses])\n            trainer.step(batch_size)\n\n        nd.waitall()\n        print('Epoch %d, training time = %.1f sec'%(\n            epoch, time()-start))\n\n        test_acc = utils.evaluate_accuracy(test_data, net, ctx[0])\n        print('         validation accuracy = %.4f'%(test_acc))"
        }, 
        {
            "source": "\u5c1d\u8bd5\u5728\u5355GPU\u4e0a\u6267\u884c\u3002", 
            "cell_type": "markdown", 
            "metadata": {}
        }, 
        {
            "execution_count": null, 
            "cell_type": "code", 
            "metadata": {}, 
            "outputs": [], 
            "source": "train(1, 256, .1)\n"
        }, 
        {
            "source": "\u540c\u6837\u7684\u53c2\u6570\uff0c\u4f46\u4f7f\u7528\u4e24\u4e2aGPU\u3002", 
            "cell_type": "markdown", 
            "metadata": {}
        }, 
        {
            "execution_count": null, 
            "cell_type": "code", 
            "metadata": {}, 
            "outputs": [], 
            "source": "train(2, 256, .1)"
        }, 
        {
            "source": "\u589e\u5927\u6279\u91cf\u503c\u548c\u5b66\u4e60\u7387", 
            "cell_type": "markdown", 
            "metadata": {}
        }, 
        {
            "execution_count": null, 
            "cell_type": "code", 
            "metadata": {}, 
            "outputs": [], 
            "source": "train(2, 512, .2)"
        }, 
        {
            "source": "## \u7ed3\u8bba\n\nGluon\u7684\u53c2\u6570\u521d\u59cb\u5316\u548cTrainer\u90fd\u652f\u6301\u591a\u8bbe\u5907\uff0c\u4ece\u5355\u8bbe\u5907\u5230\u591a\u8bbe\u5907\u975e\u5e38\u5bb9\u6613\u3002\n\n## \u7ec3\u4e60\n\n- \u8ddf[\u591aGPU\u6765\u8bad\u7ec3 --- \u4ece0\u5f00\u59cb](./multiple-gpus-scratch.md)\u4e0d\u4e00\u6837\uff0c\u8fd9\u91cc\u6211\u4eec\u4f7f\u7528\u4e86\u66f4\u73b0\u4ee3\u4e9b\u7684ResNet\u3002\u770b\u770b\u4e0d\u540c\u7684\u6279\u91cf\u5927\u5c0f\u548c\u5b66\u4e60\u7387\u5bf9\u4e0d\u540cGPU\u4e2a\u6570\u4e0a\u7684\u4e0d\u4e00\u6837\u3002\n- \u6709\u65f6\u5019\u5404\u4e2a\u8bbe\u5907\u8ba1\u7b97\u80fd\u529b\u4e0d\u4e00\u6837\uff0c\u4f8b\u5982\u540c\u65f6\u4f7f\u7528CPU\u548cGPU\uff0c\u6216\u8005GPU\u4e4b\u95f4\u578b\u53f7\u4e0d\u4e00\u6837\uff0c\u8fd9\u65f6\u5019\u5e94\u8be5\u600e\u4e48\u529e\uff1f\n\n\n**\u5410\u69fd\u548c\u8ba8\u8bba\u6b22\u8fce\u70b9**[\u8fd9\u91cc](https://discuss.gluon.ai/t/topic/1885)", 
            "cell_type": "markdown", 
            "metadata": {}
        }
    ], 
    "metadata": {
        "kernelspec": {
            "display_name": "Python 2 with Spark 1.6 (Unsupported)", 
            "name": "python2", 
            "language": "python"
        }, 
        "language_info": {
            "mimetype": "text/x-python", 
            "nbconvert_exporter": "python", 
            "version": "2.7.11", 
            "name": "python", 
            "file_extension": ".py", 
            "pygments_lexer": "ipython2", 
            "codemirror_mode": {
                "version": 2, 
                "name": "ipython"
            }
        }
    }, 
    "nbformat": 4
}