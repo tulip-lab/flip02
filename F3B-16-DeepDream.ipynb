{
 "cells": [
  {
   "cell_type": "markdown",
   "metadata": {},
   "source": [
    "# FLIP(03):  Deep Learning\n",
    "**(Module 01: Deep Learning)**\n",
    "\n",
    "---\n",
    "- Materials in this module include resources collected from various open-source online repositories.\n",
    "- You are free to use, but NOT allowed to change or distribute this package.\n",
    "\n",
    "Prepared by and for \n",
    "**Student Members** |\n",
    "2006-2018 [TULIP Lab](http://www.tulip.org.au)\n",
    "\n",
    "---\n",
    "\n",
    "\n",
    "# Session 16 - Deep Dream\n"
   ]
  },
  {
   "cell_type": "markdown",
   "metadata": {},
   "source": [
    "## Introduction\n",
    "\n",
    "We have seen in the previous tutorials how to use the gradient of a neural network to generate images. Tutorials #11 and #12 showed how to generate adversarial noise using the gradient. Tutorial #13 showed how to use the gradient for generating images that caused specific features  inside the neural network to respond.\n",
    "\n",
    "This tutorial uses a similar idea as the previous tutorials. But we will now use the gradient of the neural network to amplify patterns in the input image. This is commonly called the DeepDream algorithm, but there are actually many different variations of the technique.\n",
    "\n",
    "This builds on the previous tutorials. You should be familiar with neural networks in general (e.g. Tutorial #01 and #02)."
   ]
  },
  {
   "cell_type": "markdown",
   "metadata": {},
   "source": [
    "## Flowchart\n",
    "\n",
    "This flowchart shows roughly the idea of the DeepDream algorithm. We use the Inception model which has many more layers than shown here. We use TensorFlow to automatically derive the gradient for a given layer in the network with respect to the input image. The gradient is then used to update the input image. This procedure is repeated a number of times until patterns have emerged and we are satisfied with the resulting image.\n",
    "\n",
    "What happens is that the neural network sees small traces of the patterns in the image and we merely amplify the patterns using the gradient.\n",
    "\n",
    "There are some details of the DeepDream algorithm not shown here, e.g. that the gradient is blurred, which has some advantages discussed further below. The gradient is also calculated in tiles so it can work on very high-resolution images without running out of computer memory."
   ]
  },
  {
   "cell_type": "code",
   "execution_count": null,
   "metadata": {
    "collapsed": false,
    "scrolled": true
   },
   "outputs": [],
   "source": [
    "from IPython.display import Image, display\n",
    "Image('images/14_deepdream_flowchart.png')"
   ]
  },
  {
   "cell_type": "markdown",
   "metadata": {},
   "source": [
    "### Recursive Optimization\n",
    "\n",
    "The Inception model was trained on images of fairly low resolution, presumably 200-300 pixels. So when we use images with much larger resolution, the DeepDream algorithm will create many small patterns in the image.\n",
    "\n",
    "One solution is to downscale the input image to 200-300 pixels. But such a low resolution is pixelated and ugly.\n",
    "\n",
    "Another solution is to repeatedly downscale the original image and run the DeepDream algorithm on each of the smaller versions of the image. This creates larger patterns in the image that are then refined at the higher resolution.\n",
    "\n",
    "This flowchart shows roughly the idea. The algorithm is implemented recursively and supports any number of downscaling levels. The algorithm has several details not shown here, e.g. that the images are blurred slightly before being downscaled, and the original image is only blended somewhat with the DeepDream images to add some of the original detail back in."
   ]
  },
  {
   "cell_type": "code",
   "execution_count": null,
   "metadata": {
    "collapsed": false
   },
   "outputs": [],
   "source": [
    "Image('images/14_deepdream_recursive_flowchart.png')"
   ]
  },
  {
   "cell_type": "markdown",
   "metadata": {
    "colab_type": "text",
    "id": "xu2SVpFJjmJr"
   },
   "source": [
    "## Imports"
   ]
  },
  {
   "cell_type": "code",
   "execution_count": null,
   "metadata": {
    "collapsed": true
   },
   "outputs": [],
   "source": [
    "%matplotlib inline\n",
    "import matplotlib.pyplot as plt\n",
    "import tensorflow as tf\n",
    "import numpy as np\n",
    "import random\n",
    "import math\n",
    "\n",
    "# Image manipulation.\n",
    "import PIL.Image\n",
    "from scipy.ndimage.filters import gaussian_filter"
   ]
  },
  {
   "cell_type": "markdown",
   "metadata": {},
   "source": [
    "This was developed using Python 3.5.2 (Anaconda) and TensorFlow version:"
   ]
  },
  {
   "cell_type": "code",
   "execution_count": null,
   "metadata": {
    "collapsed": false
   },
   "outputs": [],
   "source": [
    "tf.__version__"
   ]
  },
  {
   "cell_type": "markdown",
   "metadata": {
    "colab_type": "text",
    "id": "ILvNKvMvc2n5"
   },
   "source": [
    "## Inception Model"
   ]
  },
  {
   "cell_type": "markdown",
   "metadata": {},
   "source": [
    "Several of the previous tutorials used the so-called Inception model v3. In this tutorial we will use another variant of the Inception model. It is unclear exactly which variant it is, because the Google developers have (as usual) neglected to document their work. We will therefore refer to it as the \"Inception 5h\" model because that is the name of the zip-file, although it actually appears to be a simpler and earlier version of the Inception model.\n",
    "\n",
    "The Inception 5h model is used because it is easier to work with: It takes input images of any size, and it seems to create prettier pictures than the Inception v3 model (see Tutorial #13)."
   ]
  },
  {
   "cell_type": "code",
   "execution_count": null,
   "metadata": {
    "collapsed": false
   },
   "outputs": [],
   "source": [
    "import inception5h"
   ]
  },
  {
   "cell_type": "markdown",
   "metadata": {},
   "source": [
    "The Inception 5h model is downloaded from the internet. This is the default directory where you want to save the data-files. The directory will be created if it does not exist."
   ]
  },
  {
   "cell_type": "code",
   "execution_count": null,
   "metadata": {
    "collapsed": true
   },
   "outputs": [],
   "source": [
    "# inception.data_dir = 'inception/5h/'"
   ]
  },
  {
   "cell_type": "markdown",
   "metadata": {},
   "source": [
    "Download the data for the Inception model if it doesn't already exist in the directory. It is 50 MB."
   ]
  },
  {
   "cell_type": "code",
   "execution_count": null,
   "metadata": {
    "collapsed": false
   },
   "outputs": [],
   "source": [
    "inception5h.maybe_download()"
   ]
  },
  {
   "cell_type": "markdown",
   "metadata": {},
   "source": [
    "Load the Inception model so it is ready to be used."
   ]
  },
  {
   "cell_type": "code",
   "execution_count": null,
   "metadata": {
    "collapsed": true
   },
   "outputs": [],
   "source": [
    "model = inception5h.Inception5h()"
   ]
  },
  {
   "cell_type": "markdown",
   "metadata": {},
   "source": [
    "The Inception 5h model has many layers that can be used for DeepDreaming. We have made a list of the 12 most commonly used layers for easy reference."
   ]
  },
  {
   "cell_type": "code",
   "execution_count": null,
   "metadata": {
    "collapsed": false,
    "scrolled": true
   },
   "outputs": [],
   "source": [
    "len(model.layer_tensors)"
   ]
  },
  {
   "cell_type": "markdown",
   "metadata": {
    "colab_type": "text",
    "id": "Nv2JqNLBhy1j"
   },
   "source": [
    "## Helper-functions for image manipulation"
   ]
  },
  {
   "cell_type": "markdown",
   "metadata": {},
   "source": [
    "This function loads an image and returns it as a numpy array of floating-points."
   ]
  },
  {
   "cell_type": "code",
   "execution_count": null,
   "metadata": {
    "collapsed": true
   },
   "outputs": [],
   "source": [
    "def load_image(filename):\n",
    "    image = PIL.Image.open(filename)\n",
    "\n",
    "    return np.float32(image)"
   ]
  },
  {
   "cell_type": "markdown",
   "metadata": {},
   "source": [
    "Save an image as a jpeg-file. The image is given as a numpy array with pixel-values between 0 and 255."
   ]
  },
  {
   "cell_type": "code",
   "execution_count": null,
   "metadata": {
    "collapsed": true
   },
   "outputs": [],
   "source": [
    "def save_image(image, filename):\n",
    "    # Ensure the pixel-values are between 0 and 255.\n",
    "    image = np.clip(image, 0.0, 255.0)\n",
    "    \n",
    "    # Convert to bytes.\n",
    "    image = image.astype(np.uint8)\n",
    "    \n",
    "    # Write the image-file in jpeg-format.\n",
    "    with open(filename, 'wb') as file:\n",
    "        PIL.Image.fromarray(image).save(file, 'jpeg')"
   ]
  },
  {
   "cell_type": "markdown",
   "metadata": {},
   "source": [
    "This function plots an image. Using matplotlib gives low-resolution images. Using PIL gives pretty pictures."
   ]
  },
  {
   "cell_type": "code",
   "execution_count": null,
   "metadata": {
    "collapsed": true
   },
   "outputs": [],
   "source": [
    "def plot_image(image):\n",
    "    # Assume the pixel-values are scaled between 0 and 255.\n",
    "    \n",
    "    if False:\n",
    "        # Convert the pixel-values to the range between 0.0 and 1.0\n",
    "        image = np.clip(image/255.0, 0.0, 1.0)\n",
    "        \n",
    "        # Plot using matplotlib.\n",
    "        plt.imshow(image, interpolation='lanczos')\n",
    "        plt.show()\n",
    "    else:\n",
    "        # Ensure the pixel-values are between 0 and 255.\n",
    "        image = np.clip(image, 0.0, 255.0)\n",
    "        \n",
    "        # Convert pixels to bytes.\n",
    "        image = image.astype(np.uint8)\n",
    "\n",
    "        # Convert to a PIL-image and display it.\n",
    "        display(PIL.Image.fromarray(image))"
   ]
  },
  {
   "cell_type": "markdown",
   "metadata": {},
   "source": [
    "Normalize an image so its values are between 0.0 and 1.0. This is useful for plotting the gradient."
   ]
  },
  {
   "cell_type": "code",
   "execution_count": null,
   "metadata": {
    "collapsed": true
   },
   "outputs": [],
   "source": [
    "def normalize_image(x):\n",
    "    # Get the min and max values for all pixels in the input.\n",
    "    x_min = x.min()\n",
    "    x_max = x.max()\n",
    "\n",
    "    # Normalize so all values are between 0.0 and 1.0\n",
    "    x_norm = (x - x_min) / (x_max - x_min)\n",
    "    \n",
    "    return x_norm"
   ]
  },
  {
   "cell_type": "markdown",
   "metadata": {},
   "source": [
    "This function plots the gradient after normalizing it."
   ]
  },
  {
   "cell_type": "code",
   "execution_count": null,
   "metadata": {
    "collapsed": true
   },
   "outputs": [],
   "source": [
    "def plot_gradient(gradient):\n",
    "    # Normalize the gradient so it is between 0.0 and 1.0\n",
    "    gradient_normalized = normalize_image(gradient)\n",
    "    \n",
    "    # Plot the normalized gradient.\n",
    "    plt.imshow(gradient_normalized, interpolation='bilinear')\n",
    "    plt.show()"
   ]
  },
  {
   "cell_type": "markdown",
   "metadata": {},
   "source": [
    "This function resizes an image. It can take a size-argument where you give it the exact pixel-size you want the image to be e.g. (100, 200). Or it can take a factor-argument where you give it the rescaling-factor you want to use e.g. 0.5 for halving the size of the image in each dimension.\n",
    "\n",
    "This is implemented using PIL which is a bit lengthy because we are working on numpy arrays where the pixels are floating-point values. This is not supported by PIL so the image must be converted to 8-bit bytes while ensuring the pixel-values are within the proper limits. Then the image is resized and converted back to floating-point values."
   ]
  },
  {
   "cell_type": "code",
   "execution_count": null,
   "metadata": {
    "collapsed": true
   },
   "outputs": [],
   "source": [
    "def resize_image(image, size=None, factor=None):\n",
    "    # If a rescaling-factor is provided then use it.\n",
    "    if factor is not None:\n",
    "        # Scale the numpy array's shape for height and width.\n",
    "        size = np.array(image.shape[0:2]) * factor\n",
    "        \n",
    "        # The size is floating-point because it was scaled.\n",
    "        # PIL requires the size to be integers.\n",
    "        size = size.astype(int)\n",
    "    else:\n",
    "        # Ensure the size has length 2.\n",
    "        size = size[0:2]\n",
    "    \n",
    "    # The height and width is reversed in numpy vs. PIL.\n",
    "    size = tuple(reversed(size))\n",
    "\n",
    "    # Ensure the pixel-values are between 0 and 255.\n",
    "    img = np.clip(image, 0.0, 255.0)\n",
    "    \n",
    "    # Convert the pixels to 8-bit bytes.\n",
    "    img = img.astype(np.uint8)\n",
    "    \n",
    "    # Create PIL-object from numpy array.\n",
    "    img = PIL.Image.fromarray(img)\n",
    "    \n",
    "    # Resize the image.\n",
    "    img_resized = img.resize(size, PIL.Image.LANCZOS)\n",
    "    \n",
    "    # Convert 8-bit pixel values back to floating-point.\n",
    "    img_resized = np.float32(img_resized)\n",
    "\n",
    "    return img_resized"
   ]
  },
  {
   "cell_type": "markdown",
   "metadata": {},
   "source": [
    "## DeepDream Algorithm"
   ]
  },
  {
   "cell_type": "markdown",
   "metadata": {},
   "source": [
    "### Gradient"
   ]
  },
  {
   "cell_type": "markdown",
   "metadata": {},
   "source": [
    "The following helper-functions calculate the gradient of an input image for use in the DeepDream algorithm. The Inception 5h model can accept images of any size, but very large images may use many giga-bytes of RAM. In order to keep the RAM-usage low we will split the input image into smaller tiles and calculate the gradient for each of the tiles. \n",
    "\n",
    "However, this may result in visible lines in the final images produced by the DeepDream algorithm. We therefore choose the tiles randomly so the locations of the tiles are always different. This makes the seams between the tiles invisible in the final DeepDream image."
   ]
  },
  {
   "cell_type": "markdown",
   "metadata": {},
   "source": [
    "This is a helper-function for determining an appropriate tile-size. The desired tile-size is e.g. 400x400 pixels, but the actual tile-size will depend on the image-dimensions."
   ]
  },
  {
   "cell_type": "code",
   "execution_count": null,
   "metadata": {
    "collapsed": true
   },
   "outputs": [],
   "source": [
    "def get_tile_size(num_pixels, tile_size=400):\n",
    "    \"\"\"\n",
    "    num_pixels is the number of pixels in a dimension of the image.\n",
    "    tile_size is the desired tile-size.\n",
    "    \"\"\"\n",
    "\n",
    "    # How many times can we repeat a tile of the desired size.\n",
    "    num_tiles = int(round(num_pixels / tile_size))\n",
    "    \n",
    "    # Ensure that there is at least 1 tile.\n",
    "    num_tiles = max(1, num_tiles)\n",
    "    \n",
    "    # The actual tile-size.\n",
    "    actual_tile_size = math.ceil(num_pixels / num_tiles)\n",
    "    \n",
    "    return actual_tile_size"
   ]
  },
  {
   "cell_type": "markdown",
   "metadata": {},
   "source": [
    "This helper-function computes the gradient for an input image. The image is split into tiles and the gradient is calculated for each tile. The tiles are chosen randomly to avoid visible seams / lines in the final DeepDream image."
   ]
  },
  {
   "cell_type": "code",
   "execution_count": null,
   "metadata": {
    "collapsed": true
   },
   "outputs": [],
   "source": [
    "def tiled_gradient(gradient, image, tile_size=400):\n",
    "    # Allocate an array for the gradient of the entire image.\n",
    "    grad = np.zeros_like(image)\n",
    "\n",
    "    # Number of pixels for the x- and y-axes.\n",
    "    x_max, y_max, _ = image.shape\n",
    "\n",
    "    # Tile-size for the x-axis.\n",
    "    x_tile_size = get_tile_size(num_pixels=x_max, tile_size=tile_size)\n",
    "    # 1/4 of the tile-size.\n",
    "    x_tile_size4 = x_tile_size // 4\n",
    "\n",
    "    # Tile-size for the y-axis.\n",
    "    y_tile_size = get_tile_size(num_pixels=y_max, tile_size=tile_size)\n",
    "    # 1/4 of the tile-size\n",
    "    y_tile_size4 = y_tile_size // 4\n",
    "\n",
    "    # Random start-position for the tiles on the x-axis.\n",
    "    # The random value is between -3/4 and -1/4 of the tile-size.\n",
    "    # This is so the border-tiles are at least 1/4 of the tile-size,\n",
    "    # otherwise the tiles may be too small which creates noisy gradients.\n",
    "    x_start = random.randint(-3*x_tile_size4, -x_tile_size4)\n",
    "\n",
    "    while x_start < x_max:\n",
    "        # End-position for the current tile.\n",
    "        x_end = x_start + x_tile_size\n",
    "        \n",
    "        # Ensure the tile's start- and end-positions are valid.\n",
    "        x_start_lim = max(x_start, 0)\n",
    "        x_end_lim = min(x_end, x_max)\n",
    "\n",
    "        # Random start-position for the tiles on the y-axis.\n",
    "        # The random value is between -3/4 and -1/4 of the tile-size.\n",
    "        y_start = random.randint(-3*y_tile_size4, -y_tile_size4)\n",
    "\n",
    "        while y_start < y_max:\n",
    "            # End-position for the current tile.\n",
    "            y_end = y_start + y_tile_size\n",
    "\n",
    "            # Ensure the tile's start- and end-positions are valid.\n",
    "            y_start_lim = max(y_start, 0)\n",
    "            y_end_lim = min(y_end, y_max)\n",
    "\n",
    "            # Get the image-tile.\n",
    "            img_tile = image[x_start_lim:x_end_lim,\n",
    "                             y_start_lim:y_end_lim, :]\n",
    "\n",
    "            # Create a feed-dict with the image-tile.\n",
    "            feed_dict = model.create_feed_dict(image=img_tile)\n",
    "\n",
    "            # Use TensorFlow to calculate the gradient-value.\n",
    "            g = session.run(gradient, feed_dict=feed_dict)\n",
    "\n",
    "            # Normalize the gradient for the tile. This is\n",
    "            # necessary because the tiles may have very different\n",
    "            # values. Normalizing gives a more coherent gradient.\n",
    "            g /= (np.std(g) + 1e-8)\n",
    "\n",
    "            # Store the tile's gradient at the appropriate location.\n",
    "            grad[x_start_lim:x_end_lim,\n",
    "                 y_start_lim:y_end_lim, :] = g\n",
    "            \n",
    "            # Advance the start-position for the y-axis.\n",
    "            y_start = y_end\n",
    "\n",
    "        # Advance the start-position for the x-axis.\n",
    "        x_start = x_end\n",
    "\n",
    "    return grad"
   ]
  },
  {
   "cell_type": "markdown",
   "metadata": {},
   "source": [
    "### Optimize Image\n",
    "\n",
    "This function is the main optimization-loop for the DeepDream algorithm. It calculates the gradient of the given layer of the Inception model with regard to the input image. The gradient is then added to the input image so the mean value of the layer-tensor is increased. This process is repeated a number of times and amplifies whatever patterns the Inception model sees in the input image."
   ]
  },
  {
   "cell_type": "code",
   "execution_count": null,
   "metadata": {
    "collapsed": true
   },
   "outputs": [],
   "source": [
    "def optimize_image(layer_tensor, image,\n",
    "                   num_iterations=10, step_size=3.0, tile_size=400,\n",
    "                   show_gradient=False):\n",
    "    \"\"\"\n",
    "    Use gradient ascent to optimize an image so it maximizes the\n",
    "    mean value of the given layer_tensor.\n",
    "    \n",
    "    Parameters:\n",
    "    layer_tensor: Reference to a tensor that will be maximized.\n",
    "    image: Input image used as the starting point.\n",
    "    num_iterations: Number of optimization iterations to perform.\n",
    "    step_size: Scale for each step of the gradient ascent.\n",
    "    tile_size: Size of the tiles when calculating the gradient.\n",
    "    show_gradient: Plot the gradient in each iteration.\n",
    "    \"\"\"\n",
    "\n",
    "    # Copy the image so we don't overwrite the original image.\n",
    "    img = image.copy()\n",
    "    \n",
    "    print(\"Image before:\")\n",
    "    plot_image(img)\n",
    "\n",
    "    print(\"Processing image: \", end=\"\")\n",
    "\n",
    "    # Use TensorFlow to get the mathematical function for the\n",
    "    # gradient of the given layer-tensor with regard to the\n",
    "    # input image. This may cause TensorFlow to add the same\n",
    "    # math-expressions to the graph each time this function is called.\n",
    "    # It may use a lot of RAM and could be moved outside the function.\n",
    "    gradient = model.get_gradient(layer_tensor)\n",
    "    \n",
    "    for i in range(num_iterations):\n",
    "        # Calculate the value of the gradient.\n",
    "        # This tells us how to change the image so as to\n",
    "        # maximize the mean of the given layer-tensor.\n",
    "        grad = tiled_gradient(gradient=gradient, image=img)\n",
    "        \n",
    "        # Blur the gradient with different amounts and add\n",
    "        # them together. The blur amount is also increased\n",
    "        # during the optimization. This was found to give\n",
    "        # nice, smooth images. You can try and change the formulas.\n",
    "        # The blur-amount is called sigma (0=no blur, 1=low blur, etc.)\n",
    "        # We could call gaussian_filter(grad, sigma=(sigma, sigma, 0.0))\n",
    "        # which would not blur the colour-channel. This tends to\n",
    "        # give psychadelic / pastel colours in the resulting images.\n",
    "        # When the colour-channel is also blurred the colours of the\n",
    "        # input image are mostly retained in the output image.\n",
    "        sigma = (i * 4.0) / num_iterations + 0.5\n",
    "        grad_smooth1 = gaussian_filter(grad, sigma=sigma)\n",
    "        grad_smooth2 = gaussian_filter(grad, sigma=sigma*2)\n",
    "        grad_smooth3 = gaussian_filter(grad, sigma=sigma*0.5)\n",
    "        grad = (grad_smooth1 + grad_smooth2 + grad_smooth3)\n",
    "\n",
    "        # Scale the step-size according to the gradient-values.\n",
    "        # This may not be necessary because the tiled-gradient\n",
    "        # is already normalized.\n",
    "        step_size_scaled = step_size / (np.std(grad) + 1e-8)\n",
    "\n",
    "        # Update the image by following the gradient.\n",
    "        img += grad * step_size_scaled\n",
    "\n",
    "        if show_gradient:\n",
    "            # Print statistics for the gradient.\n",
    "            msg = \"Gradient min: {0:>9.6f}, max: {1:>9.6f}, stepsize: {2:>9.2f}\"\n",
    "            print(msg.format(grad.min(), grad.max(), step_size_scaled))\n",
    "\n",
    "            # Plot the gradient.\n",
    "            plot_gradient(grad)\n",
    "        else:\n",
    "            # Otherwise show a little progress-indicator.\n",
    "            print(\". \", end=\"\")\n",
    "\n",
    "    print()\n",
    "    print(\"Image after:\")\n",
    "    plot_image(img)\n",
    "    \n",
    "    return img"
   ]
  },
  {
   "cell_type": "markdown",
   "metadata": {},
   "source": [
    "### Recursive Image Optimization\n",
    "\n",
    "The Inception model was trained on fairly small images. The exact size is unclear but maybe 200-300 pixels in each dimension. If we use larger images such as 1920x1080 pixels then the `optimize_image()` function above will add many small patterns to the image.\n",
    "\n",
    "This helper-function downscales the input image several times and runs each downscaled version through the `optimize_image()` function above. This results in larger patterns in the final image. It also speeds up the computation."
   ]
  },
  {
   "cell_type": "code",
   "execution_count": null,
   "metadata": {
    "collapsed": true
   },
   "outputs": [],
   "source": [
    "def recursive_optimize(layer_tensor, image,\n",
    "                       num_repeats=4, rescale_factor=0.7, blend=0.2,\n",
    "                       num_iterations=10, step_size=3.0,\n",
    "                       tile_size=400):\n",
    "    \"\"\"\n",
    "    Recursively blur and downscale the input image.\n",
    "    Each downscaled image is run through the optimize_image()\n",
    "    function to amplify the patterns that the Inception model sees.\n",
    "\n",
    "    Parameters:\n",
    "    image: Input image used as the starting point.\n",
    "    rescale_factor: Downscaling factor for the image.\n",
    "    num_repeats: Number of times to downscale the image.\n",
    "    blend: Factor for blending the original and processed images.\n",
    "\n",
    "    Parameters passed to optimize_image():\n",
    "    layer_tensor: Reference to a tensor that will be maximized.\n",
    "    num_iterations: Number of optimization iterations to perform.\n",
    "    step_size: Scale for each step of the gradient ascent.\n",
    "    tile_size: Size of the tiles when calculating the gradient.\n",
    "    \"\"\"\n",
    "\n",
    "    # Do a recursive step?\n",
    "    if num_repeats>0:\n",
    "        # Blur the input image to prevent artifacts when downscaling.\n",
    "        # The blur amount is controlled by sigma. Note that the\n",
    "        # colour-channel is not blurred as it would make the image gray.\n",
    "        sigma = 0.5\n",
    "        img_blur = gaussian_filter(image, sigma=(sigma, sigma, 0.0))\n",
    "\n",
    "        # Downscale the image.\n",
    "        img_downscaled = resize_image(image=img_blur,\n",
    "                                      factor=rescale_factor)\n",
    "            \n",
    "        # Recursive call to this function.\n",
    "        # Subtract one from num_repeats and use the downscaled image.\n",
    "        img_result = recursive_optimize(layer_tensor=layer_tensor,\n",
    "                                        image=img_downscaled,\n",
    "                                        num_repeats=num_repeats-1,\n",
    "                                        rescale_factor=rescale_factor,\n",
    "                                        blend=blend,\n",
    "                                        num_iterations=num_iterations,\n",
    "                                        step_size=step_size,\n",
    "                                        tile_size=tile_size)\n",
    "        \n",
    "        # Upscale the resulting image back to its original size.\n",
    "        img_upscaled = resize_image(image=img_result, size=image.shape)\n",
    "\n",
    "        # Blend the original and processed images.\n",
    "        image = blend * image + (1.0 - blend) * img_upscaled\n",
    "\n",
    "    print(\"Recursive level:\", num_repeats)\n",
    "\n",
    "    # Process the image using the DeepDream algorithm.\n",
    "    img_result = optimize_image(layer_tensor=layer_tensor,\n",
    "                                image=image,\n",
    "                                num_iterations=num_iterations,\n",
    "                                step_size=step_size,\n",
    "                                tile_size=tile_size)\n",
    "    \n",
    "    return img_result"
   ]
  },
  {
   "cell_type": "markdown",
   "metadata": {},
   "source": [
    "## TensorFlow Session"
   ]
  },
  {
   "cell_type": "markdown",
   "metadata": {},
   "source": [
    "We need a TensorFlow session to execute the graph. This is an interactive session so we can continue adding gradient functions to the computational graph."
   ]
  },
  {
   "cell_type": "code",
   "execution_count": null,
   "metadata": {
    "collapsed": true
   },
   "outputs": [],
   "source": [
    "session = tf.InteractiveSession(graph=model.graph)"
   ]
  },
  {
   "cell_type": "markdown",
   "metadata": {},
   "source": [
    "## Hulk"
   ]
  },
  {
   "cell_type": "markdown",
   "metadata": {},
   "source": [
    "In the first example we have an image of The Hulk. Note how the colours of the original image are mostly kept in the DeepDream images. This is because the gradient is blurred in its colour-channels so it becomes somewhat gray-scale and mainly changes the shape of the image and not so much its colour."
   ]
  },
  {
   "cell_type": "code",
   "execution_count": null,
   "metadata": {
    "collapsed": false
   },
   "outputs": [],
   "source": [
    "image = load_image(filename='images/hulk.jpg')\n",
    "plot_image(image)"
   ]
  },
  {
   "cell_type": "markdown",
   "metadata": {},
   "source": [
    "First we need a reference to the tensor inside the Inception model which we will maximize in the DeepDream optimization algorithm. In this case we select the entire 3rd layer of the Inception model (layer index 2). It has 192 channels and we will try and maximize the average value across all these channels."
   ]
  },
  {
   "cell_type": "code",
   "execution_count": null,
   "metadata": {
    "collapsed": false,
    "scrolled": true
   },
   "outputs": [],
   "source": [
    "layer_tensor = model.layer_tensors[2]\n",
    "layer_tensor"
   ]
  },
  {
   "cell_type": "markdown",
   "metadata": {},
   "source": [
    "Now run the DeepDream optimization algorithm for 10 iterations with a step-size of 6.0, which is twice as high as in the recursive optimizations below. We also show the gradient for each iteration and you should note the visible artifacts in the seams between the tiles."
   ]
  },
  {
   "cell_type": "code",
   "execution_count": null,
   "metadata": {
    "collapsed": false
   },
   "outputs": [],
   "source": [
    "img_result = optimize_image(layer_tensor, image,\n",
    "                   num_iterations=10, step_size=6.0, tile_size=400,\n",
    "                   show_gradient=True)"
   ]
  },
  {
   "cell_type": "markdown",
   "metadata": {},
   "source": [
    "You can save the DeepDream image if you like."
   ]
  },
  {
   "cell_type": "code",
   "execution_count": null,
   "metadata": {
    "collapsed": true
   },
   "outputs": [],
   "source": [
    "# save_image(img_result, filename='deepdream_hulk.jpg')"
   ]
  },
  {
   "cell_type": "markdown",
   "metadata": {},
   "source": [
    "Now run the DeepDream algorithm recursively. We perform 5 recursive steps (`num_repeats+1`) where the image is blurred and downscaled in each step and then the DeepDream algorithm is used on the downscaled image. The resulting DeepDream image is then blended with the original image in each step to add a little of the detail from the original image. This is repeated a number of times.\n",
    "\n",
    "Note how the DeepDream patterns are now larger. This is because the patterns were first created on the low-resolution image and then refined on the higher-resolution images."
   ]
  },
  {
   "cell_type": "code",
   "execution_count": null,
   "metadata": {
    "collapsed": false,
    "scrolled": true
   },
   "outputs": [],
   "source": [
    "img_result = recursive_optimize(layer_tensor=layer_tensor, image=image,\n",
    "                 num_iterations=10, step_size=3.0, rescale_factor=0.7,\n",
    "                 num_repeats=4, blend=0.2)"
   ]
  },
  {
   "cell_type": "markdown",
   "metadata": {},
   "source": [
    "Now we will maximize a higher layer in the Inception model. In this case it is layer number 7 (index 6). This layer recognizes more complex shapes in the input image and the DeepDream algorithm will therefore produce a more complex image. This layer appears to be recognizing dog-faces and fur which the DeepDream algorithm has therefore added to the image.\n",
    "\n",
    "Note again that the colours of the input image are mostly retained as opposed to other variants of the DeepDream algorithm which create more pastel-like colours. This is because we are also smoothing the gradient in the colour-channels so it becomes somewhat gray-scale and hence does not change the colours of the input image so much."
   ]
  },
  {
   "cell_type": "code",
   "execution_count": null,
   "metadata": {
    "collapsed": false
   },
   "outputs": [],
   "source": [
    "layer_tensor = model.layer_tensors[6]\n",
    "img_result = recursive_optimize(layer_tensor=layer_tensor, image=image,\n",
    "                 num_iterations=10, step_size=3.0, rescale_factor=0.7,\n",
    "                 num_repeats=4, blend=0.2)"
   ]
  },
  {
   "cell_type": "markdown",
   "metadata": {},
   "source": [
    "This is an example of maximizing only a subset of a layer's feature-channels using the DeepDream algorithm. In this case it is the layer with index 7 and only its first 3 feature-channels that are maximized."
   ]
  },
  {
   "cell_type": "code",
   "execution_count": null,
   "metadata": {
    "collapsed": false
   },
   "outputs": [],
   "source": [
    "layer_tensor = model.layer_tensors[7][:,:,:,0:3]\n",
    "img_result = recursive_optimize(layer_tensor=layer_tensor, image=image,\n",
    "                 num_iterations=10, step_size=3.0, rescale_factor=0.7,\n",
    "                 num_repeats=4, blend=0.2)"
   ]
  },
  {
   "cell_type": "markdown",
   "metadata": {},
   "source": [
    "This example shows the result of maximizing the first feature-channel of the final layer in the Inception model. It is unclear what patterns this layer and feature-channel might be recognizing in the input image."
   ]
  },
  {
   "cell_type": "code",
   "execution_count": null,
   "metadata": {
    "collapsed": false
   },
   "outputs": [],
   "source": [
    "layer_tensor = model.layer_tensors[11][:,:,:,0]\n",
    "img_result = recursive_optimize(layer_tensor=layer_tensor, image=image,\n",
    "                 num_iterations=10, step_size=3.0, rescale_factor=0.7,\n",
    "                 num_repeats=4, blend=0.2)"
   ]
  },
  {
   "cell_type": "markdown",
   "metadata": {},
   "source": [
    "## Giger"
   ]
  },
  {
   "cell_type": "code",
   "execution_count": null,
   "metadata": {
    "collapsed": false
   },
   "outputs": [],
   "source": [
    "image = load_image(filename='images/giger.jpg')\n",
    "plot_image(image)"
   ]
  },
  {
   "cell_type": "code",
   "execution_count": null,
   "metadata": {
    "collapsed": false
   },
   "outputs": [],
   "source": [
    "layer_tensor = model.layer_tensors[3]\n",
    "img_result = recursive_optimize(layer_tensor=layer_tensor, image=image,\n",
    "                 num_iterations=10, step_size=3.0, rescale_factor=0.7,\n",
    "                 num_repeats=4, blend=0.2)"
   ]
  },
  {
   "cell_type": "code",
   "execution_count": null,
   "metadata": {
    "collapsed": false
   },
   "outputs": [],
   "source": [
    "layer_tensor = model.layer_tensors[5]\n",
    "img_result = recursive_optimize(layer_tensor=layer_tensor, image=image,\n",
    "                 num_iterations=10, step_size=3.0, rescale_factor=0.7,\n",
    "                 num_repeats=4, blend=0.2)"
   ]
  },
  {
   "cell_type": "markdown",
   "metadata": {},
   "source": [
    "## Escher"
   ]
  },
  {
   "cell_type": "code",
   "execution_count": null,
   "metadata": {
    "collapsed": false,
    "scrolled": true
   },
   "outputs": [],
   "source": [
    "image = load_image(filename='images/escher_planefilling2.jpg')\n",
    "plot_image(image)"
   ]
  },
  {
   "cell_type": "code",
   "execution_count": null,
   "metadata": {
    "collapsed": false
   },
   "outputs": [],
   "source": [
    "layer_tensor = model.layer_tensors[6]\n",
    "img_result = recursive_optimize(layer_tensor=layer_tensor, image=image,\n",
    "                 num_iterations=10, step_size=3.0, rescale_factor=0.7,\n",
    "                 num_repeats=4, blend=0.2)"
   ]
  },
  {
   "cell_type": "markdown",
   "metadata": {},
   "source": [
    "## Close TensorFlow Session\n",
    "\n",
    "We are now done using TensorFlow, so we close the session to release its resources."
   ]
  },
  {
   "cell_type": "code",
   "execution_count": null,
   "metadata": {
    "collapsed": true
   },
   "outputs": [],
   "source": [
    "# This has been commented out in case you want to modify and experiment\n",
    "# with the Notebook without having to restart it.\n",
    "# session.close()"
   ]
  },
  {
   "cell_type": "markdown",
   "metadata": {},
   "source": [
    "## Conclusion\n",
    "\n",
    "This tutorial showed how to use the gradient of a neural network to amplify patterns in an image. The output images appeared to have been redrawn with abstract or animal-like patterns.\n",
    "\n",
    "There are numerous variations of the technique that result in different output images. You are encouraged to experiment by changing the parameters and algorithms above."
   ]
  },
  {
   "cell_type": "markdown",
   "metadata": {},
   "source": [
    "## Exercises\n",
    "\n",
    "These are a few suggestions for exercises that may help improve your skills with TensorFlow. It is important to get hands-on experience with TensorFlow in order to learn how to use it properly.\n",
    "\n",
    "You may want to backup this Notebook and the other files before making any changes.\n",
    "\n",
    "Exercises:\n",
    "\n",
    "* Try using your own images.\n",
    "* Try experimenting with the parameters for `optimize_image()` and `recursive_optimize()` to see how it affects the result.\n",
    "* Try and subtract the gradient in `optimize_image()` instead of adding it. What happens?\n",
    "* Plot the gradients when you run `optimize_image()`. Do you see any artifacts? What do you think is the cause? Does it matter? Can you find a way to remove them?\n",
    "* Try using random noise as the input image. This is similar to Tutorial #13 for visually analyzing the features. Are the generated images better in this tutorial? Why?\n",
    "* Try and remove `tf.square()` inside `Inception5h.get_gradient()` in the file `inception5h.py`. What happens to the DeepDream images? Why is that?\n",
    "* Can you move the gradient outside of `optimize_image()` to save memory?\n",
    "* Can you make the program run faster? An idea would be to implement the gaussian blur and resizing directly in TensorFlow.\n",
    "* Make a DeepDream movie by repeatedly calling `optimize_image()` and zooming a little on the image.\n",
    "* Process a movie frame-by-frame. You may need to use some kind of stabilization across the individual frames.\n",
    "* Explain to a friend how the program works."
   ]
  },
  {
   "cell_type": "markdown",
   "metadata": {},
   "source": [
    "## License (MIT)\n",
    "\n",
    "Copyright (c) 2016 by [Magnus Erik Hvass Pedersen](http://www.hvass-labs.org/)\n",
    "\n",
    "Permission is hereby granted, free of charge, to any person obtaining a copy of this software and associated documentation files (the \"Software\"), to deal in the Software without restriction, including without limitation the rights to use, copy, modify, merge, publish, distribute, sublicense, and/or sell copies of the Software, and to permit persons to whom the Software is furnished to do so, subject to the following conditions:\n",
    "\n",
    "The above copyright notice and this permission notice shall be included in all copies or substantial portions of the Software.\n",
    "\n",
    "THE SOFTWARE IS PROVIDED \"AS IS\", WITHOUT WARRANTY OF ANY KIND, EXPRESS OR IMPLIED, INCLUDING BUT NOT LIMITED TO THE WARRANTIES OF MERCHANTABILITY, FITNESS FOR A PARTICULAR PURPOSE AND NONINFRINGEMENT. IN NO EVENT SHALL THE AUTHORS OR COPYRIGHT HOLDERS BE LIABLE FOR ANY CLAIM, DAMAGES OR OTHER LIABILITY, WHETHER IN AN ACTION OF CONTRACT, TORT OR OTHERWISE, ARISING FROM, OUT OF OR IN CONNECTION WITH THE SOFTWARE OR THE USE OR OTHER DEALINGS IN THE SOFTWARE."
   ]
  }
 ],
 "metadata": {
  "anaconda-cloud": {},
  "kernelspec": {
   "display_name": "Python 2",
   "language": "python",
   "name": "python2"
  },
  "language_info": {
   "codemirror_mode": {
    "name": "ipython",
    "version": 2
   },
   "file_extension": ".py",
   "mimetype": "text/x-python",
   "name": "python",
   "nbconvert_exporter": "python",
   "pygments_lexer": "ipython2",
   "version": "2.7.14"
  }
 },
 "nbformat": 4,
 "nbformat_minor": 0
}
