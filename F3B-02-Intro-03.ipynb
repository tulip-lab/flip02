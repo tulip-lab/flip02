{
    "nbformat_minor": 2, 
    "cells": [
        {
            "source": "# \u4f7f\u7528autograd\u6765\u81ea\u52a8\u6c42\u5bfc\n\n\u5728\u673a\u5668\u5b66\u4e60\u4e2d\uff0c\u6211\u4eec\u901a\u5e38\u4f7f\u7528**\u68af\u5ea6\u4e0b\u964d\uff08gradient descent\uff09**\u6765\u66f4\u65b0\u6a21\u578b\u53c2\u6570\u4ece\u800c\u6c42\u89e3\u3002\u635f\u5931\u51fd\u6570\u5173\u4e8e\u6a21\u578b\u53c2\u6570\u7684\u68af\u5ea6\u6307\u5411\u4e00\u4e2a\u53ef\u4ee5\u964d\u4f4e\u635f\u5931\u51fd\u6570\u503c\u7684\u65b9\u5411\uff0c\u6211\u4eec\u4e0d\u65ad\u5730\u6cbf\u7740\u68af\u5ea6\u7684\u65b9\u5411\u66f4\u65b0\u6a21\u578b\u4ece\u800c\u6700\u5c0f\u5316\u635f\u5931\u51fd\u6570\u3002\u867d\u7136\u68af\u5ea6\u8ba1\u7b97\u6bd4\u8f83\u76f4\u89c2\uff0c\u4f46\u5bf9\u4e8e\u590d\u6742\u7684\u6a21\u578b\uff0c\u4f8b\u5982\u591a\u8fbe\u6570\u5341\u5c42\u7684\u795e\u7ecf\u7f51\u7edc\uff0c\u624b\u52a8\u8ba1\u7b97\u68af\u5ea6\u975e\u5e38\u56f0\u96be\u3002\n\n\u4e3a\u6b64MXNet\u63d0\u4f9bautograd\u5305\u6765\u81ea\u52a8\u5316\u6c42\u5bfc\u8fc7\u7a0b\u3002\u867d\u7136\u5927\u90e8\u5206\u7684\u6df1\u5ea6\u5b66\u4e60\u6846\u67b6\u8981\u6c42\u7f16\u8bd1\u8ba1\u7b97\u56fe\u6765\u81ea\u52a8\u6c42\u5bfc\uff0c`mxnet.autograd`\u53ef\u4ee5\u5bf9\u6b63\u5e38\u7684\u547d\u4ee4\u5f0f\u7a0b\u5e8f\u8fdb\u884c\u6c42\u5bfc\uff0c\u5b83\u6bcf\u6b21\u5728\u540e\u7aef\u5b9e\u65f6\u521b\u5efa\u8ba1\u7b97\u56fe\uff0c\u4ece\u800c\u53ef\u4ee5\u7acb\u5373\u5f97\u5230\u68af\u5ea6\u7684\u8ba1\u7b97\u65b9\u6cd5\u3002\n\n\u4e0b\u9762\u8ba9\u6211\u4eec\u4e00\u6b65\u6b65\u4ecb\u7ecd\u8fd9\u4e2a\u5305\u3002\u6211\u4eec\u5148\u5bfc\u5165`autograd`\u3002", 
            "cell_type": "markdown", 
            "metadata": {}
        }, 
        {
            "execution_count": null, 
            "cell_type": "code", 
            "metadata": {
                "attributes": {
                    "classes": [], 
                    "id": "", 
                    "n": "2"
                }
            }, 
            "outputs": [], 
            "source": "import mxnet.ndarray as nd\nimport mxnet.autograd as ag"
        }, 
        {
            "source": "## \u4e3a\u53d8\u91cf\u9644\u4e0a\u68af\u5ea6\n\n\u5047\u8bbe\u6211\u4eec\u60f3\u5bf9\u51fd\u6570 $f=2\\times x^2$ \u6c42\u5173\u4e8e $x$ \u7684\u5bfc\u6570\u3002\u6211\u4eec\u5148\u521b\u5efa\u53d8\u91cf`x`\uff0c\u5e76\u8d4b\u521d\u503c\u3002", 
            "cell_type": "markdown", 
            "metadata": {}
        }, 
        {
            "execution_count": null, 
            "cell_type": "code", 
            "metadata": {}, 
            "outputs": [], 
            "source": "x = nd.array([[1, 2], [3, 4]])"
        }, 
        {
            "source": "\u5f53\u8fdb\u884c\u6c42\u5bfc\u7684\u65f6\u5019\uff0c\u6211\u4eec\u9700\u8981\u4e00\u4e2a\u5730\u65b9\u6765\u5b58`x`\u7684\u5bfc\u6570\uff0c\u8fd9\u4e2a\u53ef\u4ee5\u901a\u8fc7NDArray\u7684\u65b9\u6cd5`attach_grad()`\u6765\u8981\u6c42\u7cfb\u7edf\u7533\u8bf7\u5bf9\u5e94\u7684\u7a7a\u95f4\u3002", 
            "cell_type": "markdown", 
            "metadata": {}
        }, 
        {
            "execution_count": null, 
            "cell_type": "code", 
            "metadata": {}, 
            "outputs": [], 
            "source": "x.attach_grad()"
        }, 
        {
            "source": "\u4e0b\u9762\u5b9a\u4e49`f`\u3002\u9ed8\u8ba4\u6761\u4ef6\u4e0b\uff0cMXNet\u4e0d\u4f1a\u81ea\u52a8\u8bb0\u5f55\u548c\u6784\u5efa\u7528\u4e8e\u6c42\u5bfc\u7684\u8ba1\u7b97\u56fe\uff0c\u6211\u4eec\u9700\u8981\u4f7f\u7528autograd\u91cc\u7684`record()`\u51fd\u6570\u6765\u663e\u5f0f\u7684\u8981\u6c42MXNet\u8bb0\u5f55\u6211\u4eec\u9700\u8981\u6c42\u5bfc\u7684\u7a0b\u5e8f\u3002", 
            "cell_type": "markdown", 
            "metadata": {}
        }, 
        {
            "execution_count": null, 
            "cell_type": "code", 
            "metadata": {}, 
            "outputs": [], 
            "source": "with ag.record():\n    y = x * 2\n    z = y * x"
        }, 
        {
            "source": "\u63a5\u4e0b\u6765\u6211\u4eec\u53ef\u4ee5\u901a\u8fc7`z.backward()`\u6765\u8fdb\u884c\u6c42\u5bfc\u3002\u5982\u679c`z`\u4e0d\u662f\u4e00\u4e2a\u6807\u91cf\uff0c\u90a3\u4e48`z.backward()`\u7b49\u4ef7\u4e8e`nd.sum(z).backward()`.", 
            "cell_type": "markdown", 
            "metadata": {}
        }, 
        {
            "execution_count": null, 
            "cell_type": "code", 
            "metadata": {}, 
            "outputs": [], 
            "source": "z.backward()"
        }, 
        {
            "source": "\u73b0\u5728\u6211\u4eec\u6765\u770b\u6c42\u51fa\u6765\u7684\u5bfc\u6570\u662f\u4e0d\u662f\u6b63\u786e\u7684\u3002\u6ce8\u610f\u5230`y = x * 2`\u548c`z = x * y`\uff0c\u6240\u4ee5`z`\u7b49\u4ef7\u4e8e`2 * x * x`\u3002\u5b83\u7684\u5bfc\u6570\u90a3\u4e48\u5c31\u662f $\\frac{dz}{dx} = 4 \\times {x}$ \u3002", 
            "cell_type": "markdown", 
            "metadata": {}
        }, 
        {
            "execution_count": null, 
            "cell_type": "code", 
            "metadata": {}, 
            "outputs": [], 
            "source": "print('x.grad: ', x.grad)\nx.grad == 4*x"
        }, 
        {
            "source": "## \u5bf9\u63a7\u5236\u6d41\u6c42\u5bfc\n\n\u547d\u4ee4\u5f0f\u7684\u7f16\u7a0b\u7684\u4e00\u4e2a\u4fbf\u5229\u4e4b\u5904\u662f\u51e0\u4e4e\u53ef\u4ee5\u5bf9\u4efb\u610f\u7684\u53ef\u5bfc\u7a0b\u5e8f\u8fdb\u884c\u6c42\u5bfc\uff0c\u5373\u4f7f\u91cc\u9762\u5305\u542b\u4e86Python\u7684\u63a7\u5236\u6d41\u3002\u8003\u8651\u4e0b\u9762\u7a0b\u5e8f\uff0c\u91cc\u9762\u5305\u542b\u63a7\u5236\u6d41`for`\u548c`if`\uff0c\u4f46\u5faa\u73af\u8fed\u4ee3\u7684\u6b21\u6570\u548c\u5224\u65ad\u8bed\u53e5\u7684\u6267\u884c\u90fd\u662f\u53d6\u51b3\u4e8e\u8f93\u5165\u7684\u503c\u3002\u4e0d\u540c\u7684\u8f93\u5165\u4f1a\u5bfc\u81f4\u8fd9\u4e2a\u7a0b\u5e8f\u7684\u6267\u884c\u4e0d\u4e00\u6837\u3002\uff08\u5bf9\u4e8e\u8ba1\u7b97\u56fe\u6846\u67b6\u6765\u8bf4\uff0c\u8fd9\u4e2a\u5bf9\u5e94\u4e8e\u52a8\u6001\u56fe\uff0c\u5c31\u662f\u56fe\u7684\u7ed3\u6784\u4f1a\u6839\u636e\u8f93\u5165\u6570\u636e\u4e0d\u540c\u800c\u6539\u53d8\uff09\u3002", 
            "cell_type": "markdown", 
            "metadata": {}
        }, 
        {
            "execution_count": null, 
            "cell_type": "code", 
            "metadata": {
                "attributes": {
                    "classes": [], 
                    "id": "", 
                    "n": "3"
                }
            }, 
            "outputs": [], 
            "source": "def f(a):\n    b = a * 2\n    while nd.norm(b).asscalar() < 1000:\n        b = b * 2\n    if nd.sum(b).asscalar() > 0:\n        c = b\n    else:\n        c = 100 * b\n    return c"
        }, 
        {
            "source": "\u6211\u4eec\u53ef\u4ee5\u8ddf\u4e4b\u524d\u4e00\u6837\u4f7f\u7528`record`\u8bb0\u5f55\u548c`backward`\u6c42\u5bfc\u3002", 
            "cell_type": "markdown", 
            "metadata": {}
        }, 
        {
            "execution_count": null, 
            "cell_type": "code", 
            "metadata": {
                "attributes": {
                    "classes": [], 
                    "id": "", 
                    "n": "5"
                }
            }, 
            "outputs": [], 
            "source": "a = nd.random_normal(shape=3)\na.attach_grad()\nwith ag.record():\n    c = f(a)\nc.backward()"
        }, 
        {
            "source": "\u6ce8\u610f\u5230\u7ed9\u5b9a\u8f93\u5165`a`\uff0c\u5176\u8f93\u51fa $\\\\f(a)= {xa}$\uff0c$x$ \u7684\u503c\u53d6\u51b3\u4e8e\u8f93\u5165`a`\u3002\u6240\u4ee5\u6709 $\\frac{df}{da} = {x}$\uff0c\u6211\u4eec\u53ef\u4ee5\u5f88\u7b80\u5355\u5730\u8bc4\u4f30\u81ea\u52a8\u6c42\u5bfc\u7684\u5bfc\u6570\uff1a", 
            "cell_type": "markdown", 
            "metadata": {}
        }, 
        {
            "execution_count": null, 
            "cell_type": "code", 
            "metadata": {
                "attributes": {
                    "classes": [], 
                    "id": "", 
                    "n": "8"
                }
            }, 
            "outputs": [], 
            "source": "a.grad == c/a"
        }, 
        {
            "source": "## \u5934\u68af\u5ea6\u548c\u94fe\u5f0f\u6cd5\u5219\n\n**\u6ce8\u610f\uff1a\u8bfb\u8005\u53ef\u4ee5\u8df3\u8fc7\u8fd9\u4e00\u5c0f\u8282\uff0c\u4e0d\u4f1a\u5f71\u54cd\u9605\u8bfb\u4e4b\u540e\u7684\u7ae0\u8282**\n\n\u5f53\u6211\u4eec\u5728\u4e00\u4e2a`NDArray`\u4e0a\u8c03\u7528`backward`\u65b9\u6cd5\u65f6\uff0c\u4f8b\u5982`y.backward()`\uff0c\u6b64\u5904`y`\u662f\u4e00\u4e2a\u5173\u4e8e`x`\u7684\u51fd\u6570\uff0c\u6211\u4eec\u5c06\u6c42\u5f97`y`\u5173\u4e8e`x`\u7684\u5bfc\u6570\u3002\u6570\u5b66\u5bb6\u4eec\u4f1a\u628a\u8fd9\u4e2a\u6c42\u5bfc\u5199\u6210 $\\frac{dy(x)}{dx}$ \u3002\u8fd8\u6709\u4e9b\u66f4\u590d\u6742\u7684\u60c5\u51b5\uff0c\u6bd4\u5982`z`\u662f\u5173\u4e8e`y`\u7684\u51fd\u6570\uff0c\u4e14`y`\u662f\u5173\u4e8e`x`\u7684\u51fd\u6570\uff0c\u6211\u4eec\u60f3\u5bf9`z`\u5173\u4e8e`x`\u6c42\u5bfc\uff0c\u4e5f\u5c31\u662f\u6c42 $\\frac{d}{dx} z(y(x))$ \u7684\u7ed3\u679c\u3002\u56de\u60f3\u4e00\u4e0b\u94fe\u5f0f\u6cd5\u5219\uff0c\u6211\u4eec\u53ef\u4ee5\u5f97\u5230$\\frac{d}{dx} z(y(x)) = \\frac{dz(y)}{dy} \\frac{dy(x)}{dx}$\u3002\u5f53`y`\u662f\u4e00\u4e2a\u66f4\u5927\u7684`z`\u51fd\u6570\u7684\u4e00\u90e8\u5206\uff0c\u5e76\u4e14\u6211\u4eec\u5e0c\u671b\u6c42\u5f97 $\\frac{dz}{dx}$ \u4fdd\u5b58\u5728`x.grad`\u4e2d\u65f6\uff0c\u6211\u4eec\u53ef\u4ee5\u4f20\u5165**\u5934\u68af\u5ea6\uff08head gradient\uff09** $\\frac{dz}{dy}$ \u7684\u503c\u4f5c\u4e3a`backward()`\u65b9\u6cd5\u7684\u8f93\u5165\u53c2\u6570\uff0c\u7cfb\u7edf\u4f1a\u81ea\u52a8\u5e94\u7528\u94fe\u5f0f\u6cd5\u5219\u8fdb\u884c\u8ba1\u7b97\u3002\u8fd9\u4e2a\u53c2\u6570\u7684\u9ed8\u8ba4\u503c\u662f`nd.ones_like(y)`\u3002\u5173\u4e8e\u94fe\u5f0f\u6cd5\u5219\u7684\u8be6\u7ec6\u89e3\u91ca\uff0c\u8bf7\u53c2\u9605[Wikipedia](https://en.wikipedia.org/wiki/Chain_rule)\u3002", 
            "cell_type": "markdown", 
            "metadata": {}
        }, 
        {
            "execution_count": null, 
            "cell_type": "code", 
            "metadata": {}, 
            "outputs": [], 
            "source": "with ag.record():\n    y = x * 2\n    z = y * x\n\nhead_gradient = nd.array([[10, 1.], [.1, .01]])\nz.backward(head_gradient)\nprint(x.grad)"
        }, 
        {
            "source": "**\u5410\u69fd\u548c\u8ba8\u8bba\u6b22\u8fce\u70b9**[\u8fd9\u91cc](https://discuss.gluon.ai/t/topic/744)", 
            "cell_type": "markdown", 
            "metadata": {}
        }
    ], 
    "metadata": {
        "kernelspec": {
            "display_name": "Python 2 with Spark 1.6 (Unsupported)", 
            "name": "python2", 
            "language": "python"
        }, 
        "language_info": {
            "mimetype": "text/x-python", 
            "nbconvert_exporter": "python", 
            "version": "2.7.11", 
            "name": "python", 
            "file_extension": ".py", 
            "pygments_lexer": "ipython2", 
            "codemirror_mode": {
                "version": 2, 
                "name": "ipython"
            }
        }
    }, 
    "nbformat": 4
}