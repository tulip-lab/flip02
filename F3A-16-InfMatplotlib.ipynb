{
    "metadata": {
        "language_info": {
            "name": "python", 
            "mimetype": "text/x-python", 
            "nbconvert_exporter": "python", 
            "pygments_lexer": "ipython2", 
            "codemirror_mode": {
                "name": "ipython", 
                "version": 2
            }, 
            "file_extension": ".py", 
            "version": "2.7.11"
        }, 
        "anaconda-cloud": {}, 
        "kernelspec": {
            "display_name": "Python 2 with Spark 1.6 (Unsupported)", 
            "name": "python2", 
            "language": "python"
        }
    }, 
    "nbformat": 4, 
    "cells": [
        {
            "metadata": {}, 
            "source": "# Modern Data Science \n**(Module 02: Data Visualization)**\n\n---\n- Materials in this module include resources collected from various open-source online repositories.\n- You are free to use, change and distribute this package.\n\nPrepared by and for \n**Student Members** |\n2006-2018 [TULIP Lab](http://www.tulip.org.au), Australia\n\n---\n\n# Session E - `Matplot` Interfaces", 
            "cell_type": "markdown"
        }, 
        {
            "metadata": {}, 
            "source": "## Introduction\n\nWhen I first started learning matplotlib, it seemed as if there was an infinite number of ways to do the same set of tasks. Searching for tutorials could present you with a collection of lessons, each achieving roughly the same goal, but doing so in a slightly different manner each time. I was being productive with matplotlib, but I didn't feel like I was getting any closer to really understanding how the library worked. The reason for my uneasiness was largely due to the fact that matplotlib has three different interfaces to choose from, each with its own set of pros and cons and special use cases.\n\nIn this lesson, we'll discuss the reason for the existence of each interface. We'll learn how to choose the right interface for the job. And, finally, we'll see an example of each interface in action.\n\nPersonally, I feel it's easiest to work from the top to the bottom, so we'll work our way inward from the interface that offers the highest-level of abstraction to the lowest. With that in mind, we'll begin by exploring the pylab interface.\n\n## pylab\n\nIf you remember at the beginning of the course, I mentioned that matplotlib was originally created to make Python a viable alternative to Matlab. Given this goal, the author, John Hunter, set out to create an interface that would very closely match that of the Matlab language. The interface he created was called pylab and it provided a nearly one-to-one mapping of the procedurally-based, and stateful, Matlab interface. The major benefits to this interface is that it made it possible for Matlab devotees to make the switch to Python with relative ease. Though the interface has since been deprecated in favor of the pyplot interface, given that it puts everything you need right at your fingertips, and is less verbose than the other interfaces, I would argue that if you want to just pop into a python interpreter and do a quick \"one off\", interactive EDA session, it's still a good fit for the job.\n\nThe main problem, however, with the pylab interface is that it imports everything into the global namespace. This can cause issues with other user defined, or imported, functions eclipsing matplotlib functionality. It also obscures your code since it's not immediately obvious whether a function call comes from matplotlib or, for example, its dependent library, NumPy. For this reason, the pyplot module is now considered to be the canonical way to interactively explore data with matplotlib.\n\n## pyplot\n\nThe idea behind the pyplot interface is that, even though the approach taken by pylab doesn\u2019t follow good software engineering practices, users, nonetheless, still need a lightweight way to interact with matplotlib. The difference between pylab and pyplot is that pylab imports everything it uses into the global namespace making everything seem a bit \u201cmagical\u201d, whereas pyplot makes it explicit where each function used in a script comes from. The pyplot approach leads to much easier to understand, and therefore, more maintainable code. As such, the pyplot interface is the preferred way to interactively explore a data set, and is now the interface used in the majority of tutorials that you'll find online. Also, just recently, the matplotlib documentation was overhauled and now, pretty consistently, uses pyplot everywhere.\n\nWhere the pyplot interface breaks down, however, is when you need more control over how your plots are created. pyplot provides a state machine like interface that purposefully obscures away the details of what classes are being instantiated and which instances are being modified with each function call. This is great when doing exploratory data analysis, but can be a bit limiting when writing scripts to process large amounts of data, or when embedding matplotlib into an application. In either of these cases, you'll need to drop down into matplotlib's object-oriented API.\n\n## The Object-Oriented API\n\nThe pylab and pyplot interfaces are simply lightweight abstractions built atop matplotlib's set of classes for creating graphics. Calling a function like `plot` from either interface will first check for existing objects to modify, and then create them as needed. If you need more control over when classes are instantiated and how they're modified, however, then you're going to need to use the object-oriented API.\n\n## Examples\n\nNow that you understand the impetus behind each interface, its pros and cons, and when to use it, it's time to get a little taste of each one in action. We'll start with the Object-Oriented API and work our up to the highest level of abstraction so you can easily see what each layer adds to the previous one.\n\nNow, one note before we continue, you can safely ignore the code in this first cell, it's here mainly just to make sure that our plots look consistent across each example.", 
            "cell_type": "markdown"
        }, 
        {
            "source": "%matplotlib inline\n\n# Tweaking the 'inline' config a bit to make sure each bit of \n# code below displays the same plot.\nimport matplotlib as mpl\nmpl.rcParams['figure.figsize'] = [4, 4]\nmpl.rcParams['figure.subplot.left'] = 0\nmpl.rcParams['figure.subplot.bottom'] = 0\nmpl.rcParams['figure.subplot.right'] = 1\nmpl.rcParams['figure.subplot.top'] = 1\n\nfrom IPython.display import set_matplotlib_formats\nset_matplotlib_formats('retina')\n\n# The current version of NumPy available from conda is issuing a warning \n# message that some behavior will change in the future when used with the \n# current version of matplotlib available from conda. This cell just keeps\n# that warning from being displayed.\nimport warnings\nwarnings.simplefilter(action=\"ignore\", category=FutureWarning)", 
            "metadata": {}, 
            "execution_count": null, 
            "cell_type": "code", 
            "outputs": []
        }, 
        {
            "metadata": {}, 
            "source": "## Object-Oriented API", 
            "cell_type": "markdown"
        }, 
        {
            "source": "from IPython.display import display_png\nfrom matplotlib.backends.backend_agg import FigureCanvasAgg\nfrom matplotlib.figure import Figure\nimport numpy as np\n\n# Define the size of the figure to prevent the spread \n# of the data from looking eliptical\nfig = Figure(figsize=(5, 5))\n\n# We've chosen the Agg canvas to render PNG output\ncanvas = FigureCanvasAgg(fig)\n\n# Generate some radom (normally distributed) data using the NumPy library\nx = np.random.randn(1000)\ny = np.random.randn(1000)\n\n# Create a new Axes object using the subplot function from the Figure object\nax = fig.add_subplot(111)\n\n# Set the x and y axis limits to 4 standard deviations from the mean\nax.set_xlim([-4, 4])\nax.set_ylim([-4, 4])\n\n# Call the Axes method hist to generate the histogram; hist creates a\n#  sequence of Rectangle artists for each histogram bar and adds them\n#  to the Axes container.  Here \"100\" means create 100 bins.\n#ax.hist(x, 100)\nax.scatter(x, y)\n\n# Decorate the figure with a title and save it.\nax.set_title('Normally distributed data with $\\mu=0, \\sigma=1$')\n\n# Display the figure as PNG\ndisplay_png(fig);", 
            "metadata": {}, 
            "execution_count": null, 
            "cell_type": "code", 
            "outputs": []
        }, 
        {
            "metadata": {}, 
            "source": "## The Scripting Interface (pyplot)", 
            "cell_type": "markdown"
        }, 
        {
            "source": "import matplotlib.pyplot as plt\nimport numpy as np\n\nx = np.random.randn(1000)\ny = np.random.randn(1000)\n\n# The creation of Figure and Axes objects is taken care of for us\nplt.figure(figsize=(5, 5))\nplt.scatter(x, y)\nplt.xlim(-4, 4)\nplt.ylim(-4, 4)\nplt.title('Normally distributed data with $\\mu=0, \\sigma=1$');", 
            "metadata": {}, 
            "execution_count": null, 
            "cell_type": "code", 
            "outputs": []
        }, 
        {
            "metadata": {}, 
            "source": "## The MATLAB Interface (pylab)", 
            "cell_type": "markdown"
        }, 
        {
            "source": "from pylab import *\n\n# Even functions from the inner modules of NumPy are \n# made to be global\nx = randn(1000)\ny = randn(1000)\n\nfigure(figsize=(5, 5))\nscatter(x, y)\nxlim(-4, 4)\nylim(-4, 4)\ntitle('Normally distributed data with $\\mu=0, \\sigma=1$');", 
            "metadata": {}, 
            "execution_count": null, 
            "cell_type": "code", 
            "outputs": []
        }, 
        {
            "metadata": {}, 
            "source": "## Conclusion\n\nIn this lesson, we learned about the different options you have for interacting with matplotlib. We discussed the pros and cons of each interface and when it's appropriate to use each one. And, finally, we got to compare each one through a simple example coded up in each interface. You should now be prepared to understand any of the tutorials or documentation that you run into when trying to further expand your knowledge of matplotlib.", 
            "cell_type": "markdown"
        }
    ], 
    "nbformat_minor": 1
}