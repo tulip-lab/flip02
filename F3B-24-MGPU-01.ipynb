{
    "nbformat_minor": 2, 
    "cells": [
        {
            "source": "# \u591aGPU\u6765\u8bad\u7ec3 --- \u4ece0\u5f00\u59cb\n\n\u672c\u6559\u7a0b\u6211\u4eec\u5c06\u5c55\u793a\u5982\u4f55\u4f7f\u7528\u591a\u4e2aGPU\u6765\u52a0\u901f\u8bad\u7ec3\u3002\u6b63\u5982\u4f60\u671f\u671b\u7684\u90a3\u6837\uff0c\u8fd9\u4e2a\u6559\u7a0b\u9700\u8981\u81f3\u5c11\u4e24\u5757GPU\u6765\u8fd0\u884c\u3002\u4e8b\u5b9e\u4e0a\uff0c\u4e00\u53f0\u673a\u5668\u4e0a\u5b89\u88c5\u591a\u5757GPU\u975e\u5e38\u5e38\u89c1\uff0c\u56e0\u4e3a\u901a\u5e38\u4e3b\u677f\u4e0a\u4f1a\u6709\u591a\u4e2aPCIe\u63d2\u69fd\u3002\u4e0b\u56fe\u662f\u4e00\u53f0\u670d\u52a1\u5668\u4e0a\u5b89\u88c5\u4e868\u5757Titan X\u3002\n\n![](https://github.com/mli/gluon-tutorials-zh/raw/master/img/8x-titan-x.png)\n\n\u5982\u679c\u6b63\u786e\u5b89\u88c5\u4e86NVIDIA\u9a71\u52a8\uff0c\u6211\u4eec\u53ef\u4ee5\u901a\u8fc7`nvidia-smi`\u6765\u67e5\u770b\u5f53\u524d\u7cfb\u7edf\u6709\u591a\u5c11\u4e2aGPU\u3002", 
            "cell_type": "markdown", 
            "metadata": {}
        }, 
        {
            "execution_count": null, 
            "cell_type": "code", 
            "metadata": {
                "attributes": {
                    "classes": [], 
                    "id": "", 
                    "n": "1"
                }
            }, 
            "outputs": [], 
            "source": "!nvidia-smi"
        }, 
        {
            "source": "\u5728[\u81ea\u52a8\u5e76\u884c](./auto-parallelism.md)\u91cc\u6211\u4eec\u63d0\u5230\u867d\u7136\u5927\u90e8\u5206\u7684\u8fd0\u7b97\u53ef\u4ee5\u8981\u4e48\u5168\u90e8\u4f7f\u7528\u6240\u6709\u7684CPU\u8ba1\u7b97\u8d44\u6e90\uff0c\u6216\u8005\u5355GPU\u7684\u8d44\u6e90\u3002\u4f46\u5bf9\u4e8e\u591aGPU\u7684\u60c5\u51b5\uff0c\u6211\u4eec\u4ecd\u7136\u9700\u8981\u6765\u5b9e\u73b0\u5bf9\u5e94\u7684\u7b97\u6cd5\u3002\u8fd9\u4e9b\u7b97\u6cd5\u4e2d\u6700\u5e38\u7528\u7684\u53eb\u505a\u6570\u636e\u5e76\u884c\u3002\n\n## \u6570\u636e\u5e76\u884c\n\n\u6570\u636e\u5e76\u884c\u76ee\u524d\u662f\u6df1\u5ea6\u5b66\u4e60\u91cc\u9762\u4f7f\u7528\u6700\u5e7f\u6cdb\u7684\u7528\u6765\u5c06\u4efb\u52a1\u5212\u5206\u5230\u591a\u8bbe\u5907\u7684\u529e\u6cd5\u3002\u5b83\u662f\u8fd9\u6837\u5de5\u4f5c\u7684\uff0c\u5047\u8bbe\u8fd9\u91cc\u6709*k*\u4e2aGPU\uff0c\u6bcf\u4e2aGPU\u5c06\u7ef4\u62a4\u4e00\u4e2a\u6a21\u578b\u53c2\u6570\u7684\u590d\u5236\u3002\u7136\u540e\u6bcf\u6b21\u6211\u4eec\u5c06\u4e00\u4e2a\u6279\u91cf\u91cc\u9762\u7684\u6837\u672c\u5212\u5206\u6210*k*\u5757\u5e76\u5206\u6bcf\u4e2aGPU\u4e00\u5757\u3002\u6bcf\u4e2aGPU\u4f7f\u7528\u5206\u5230\u7684\u6570\u636e\u8ba1\u7b97\u68af\u5ea6\u3002\u7136\u540e\u6211\u4eec\u5c06\u6240\u6709GPU\u4e0a\u68af\u5ea6\u76f8\u52a0\u5f97\u5230\u8fd9\u4e2a\u6279\u91cf\u4e0a\u7684\u5b8c\u6574\u68af\u5ea6\u3002\u4e4b\u540e\u6bcf\u4e2aGPU\u4f7f\u7528\u8fd9\u4e2a\u5b8c\u6574\u68af\u5ea6\u5bf9\u81ea\u5df1\u7ef4\u62a4\u7684\u6a21\u578b\u505a\u66f4\u65b0\u3002\n\n\n## \u5b9a\u4e49\u6a21\u578b\n\n\u6211\u4eec\u4f7f\u7528[\u5377\u79ef\u795e\u7ecf\u7f51\u7edc --- \u4ece0\u5f00\u59cb](../chapter_convolutional-neural-networks/cnn-scratch.md)\u91cc\u4ecb\u7ecd\u7684LeNet\u6765\u4f5c\u4e3a\u672c\u7ae0\u7684\u6837\u4f8b\u4efb\u52a1\u3002", 
            "cell_type": "markdown", 
            "metadata": {}
        }, 
        {
            "execution_count": null, 
            "cell_type": "code", 
            "metadata": {
                "attributes": {
                    "classes": [], 
                    "id": "", 
                    "n": "2"
                }
            }, 
            "outputs": [], 
            "source": "from mxnet import nd\nfrom mxnet import gluon\n\n# initialize parameters\nscale = .01\nW1 = nd.random.normal(shape=(20,1,3,3))*scale\nb1 = nd.zeros(shape=20)\nW2 = nd.random.normal(shape=(50,20,5,5))*scale\nb2 = nd.zeros(shape=50)\nW3 = nd.random.normal(shape=(800,128))*scale\nb3 = nd.zeros(shape=128)\nW4 = nd.random.normal(shape=(128,10))*scale\nb4 = nd.zeros(shape=10)\nparams = [W1, b1, W2, b2, W3, b3, W4, b4]\n\n# network and loss\ndef lenet(X, params):\n    # first conv\n    h1_conv = nd.Convolution(data=X, weight=params[0], bias=params[1],\n                             kernel=(3,3), num_filter=20)\n    h1_activation = nd.relu(h1_conv)\n    h1 = nd.Pooling(data=h1_activation, pool_type=\"avg\",\n                    kernel=(2,2), stride=(2,2))\n    # second conv\n    h2_conv = nd.Convolution(data=h1, weight=params[2], bias=params[3],\n                             kernel=(5,5), num_filter=50)\n    h2_activation = nd.relu(h2_conv)\n    h2 = nd.Pooling(data=h2_activation, pool_type=\"avg\",\n                    kernel=(2,2), stride=(2,2))\n    h2 = nd.flatten(h2)\n    # first dense\n    h3_linear = nd.dot(h2, params[4]) + params[5]\n    h3 = nd.relu(h3_linear)\n    # second dense\n    yhat = nd.dot(h3, params[6]) + params[7]\n    return yhat\n\nloss = gluon.loss.SoftmaxCrossEntropyLoss()"
        }, 
        {
            "source": "\u7136\u540e\u6211\u4eec\u5148\u5b9e\u73b0\u51e0\u4e2a\u5728GPU\u540c\u6b65\u6570\u636e\u7684\u8f85\u52a9\u51fd\u6570\u3002\n\n## \u5728\u591aGPU\u4e4b\u95f4\u540c\u6b65\u6570\u636e\n\n\u4e0b\u9762\u51fd\u6570\u5c06\u6a21\u578b\u53c2\u6570\u590d\u5236\u5230\u67d0\u4e2a\u7279\u5b9a\u8bbe\u5907\u5e76\u521d\u59cb\u5316\u68af\u5ea6\u3002", 
            "cell_type": "markdown", 
            "metadata": {}
        }, 
        {
            "execution_count": null, 
            "cell_type": "code", 
            "metadata": {
                "attributes": {
                    "classes": [], 
                    "id": "", 
                    "n": "3"
                }
            }, 
            "outputs": [], 
            "source": "from mxnet import gpu\n\ndef get_params(params, ctx):\n    new_params = [p.copyto(ctx) for p in params]\n    for p in new_params:\n        p.attach_grad()\n    return new_params\n\n# copy param to GPU(0)\nnew_params = get_params(params, gpu(0))\nprint('b1 weight = ', new_params[1])\nprint('b1 grad = ', new_params[1].grad)"
        }, 
        {
            "source": "\u7ed9\u5b9a\u5206\u5e03\u5728\u591a\u4e2aGPU\u4e4b\u95f4\u6570\u636e\uff0c\u6211\u4eec\u5b9a\u4e49\u4e00\u4e2a\u51fd\u6570\u5b83\u5c06\u8fd9\u4e9b\u6570\u636e\u52a0\u8d77\u6765\uff0c\u7136\u540e\u518d\u5e7f\u64ad\u5230\u6240\u6709GPU\u4e0a\u3002", 
            "cell_type": "markdown", 
            "metadata": {}
        }, 
        {
            "execution_count": null, 
            "cell_type": "code", 
            "metadata": {
                "attributes": {
                    "classes": [], 
                    "id": "", 
                    "n": "4"
                }
            }, 
            "outputs": [], 
            "source": "def allreduce(data):\n    # sum on data[0].context, and then broadcast\n    for i in range(1, len(data)):\n        data[0][:] += data[i].copyto(data[0].context)\n    for i in range(1, len(data)):\n        data[0].copyto(data[i])\n\ndata = [nd.ones((1,2), ctx=gpu(i))*(i+1) for i in range(2)]\nprint('Before:', data)\nallreduce(data)\nprint('After:', data)"
        }, 
        {
            "source": "\u6700\u540e\u7ed9\u5b9a\u4e00\u4e2a\u6279\u91cf\uff0c\u6211\u4eec\u5212\u5206\u5b83\u5e76\u590d\u5236\u5230\u5404\u4e2aGPU\u4e0a\u3002", 
            "cell_type": "markdown", 
            "metadata": {}
        }, 
        {
            "execution_count": null, 
            "cell_type": "code", 
            "metadata": {
                "attributes": {
                    "classes": [], 
                    "id": "", 
                    "n": "5"
                }
            }, 
            "outputs": [], 
            "source": "def split_and_load(data, ctx):\n    n, k = data.shape[0], len(ctx)\n    m = n // k\n    assert m * k == n, '# examples is not divided by # devices'\n    return [data[i*m:(i+1)*m].as_in_context(ctx[i]) for i in range(k)]\n\nbatch = nd.arange(16).reshape((4,4))\nctx = [gpu(0), gpu(1)]\nsplitted = split_and_load(batch, ctx)\n\nprint('Intput: ', batch)\nprint('Load into', ctx)\nprint('Output:', splitted)"
        }, 
        {
            "source": "## \u8bad\u7ec3\u4e00\u4e2a\u6279\u91cf\n\n\u73b0\u5728\u6211\u4eec\u53ef\u4ee5\u5b9e\u73b0\u5982\u4f55\u4f7f\u7528\u6570\u636e\u5e76\u884c\u5728\u591a\u4e2aGPU\u4e0a\u8bad\u7ec3\u4e00\u4e2a\u6279\u91cf\u4e86\u3002", 
            "cell_type": "markdown", 
            "metadata": {}
        }, 
        {
            "execution_count": null, 
            "cell_type": "code", 
            "metadata": {
                "attributes": {
                    "classes": [], 
                    "id": "", 
                    "n": "6"
                }
            }, 
            "outputs": [], 
            "source": "from mxnet import autograd\nimport sys\nsys.path.append('..')\nimport utils\n\ndef train_batch(data, label, params, ctx, lr):\n    # split the data batch and load them on GPUs\n    data_list = split_and_load(data, ctx)\n    label_list = split_and_load(label, ctx)\n    # run forward on each GPU\n    with autograd.record():\n        losses = [loss(lenet(X, W), Y)\n                  for X, Y, W in zip(data_list, label_list, params)]\n    # run backward on each gpu\n    for l in losses:\n        l.backward()\n    # aggregate gradient over GPUs\n    for i in range(len(params[0])):\n        allreduce([params[c][i].grad for c in range(len(ctx))])\n    # update parameters with SGD on each GPU\n    for p in params:\n        utils.SGD(p, lr/data.shape[0])"
        }, 
        {
            "source": "## \u5f00\u59cb\u8bad\u7ec3\n\n\u73b0\u5728\u6211\u4eec\u53ef\u4ee5\u5b9a\u4e49\u5b8c\u6574\u7684\u8bad\u7ec3\u51fd\u6570\u3002\u8fd9\u4e2a\u8ddf\u524d\u9762\u6559\u7a0b\u91cc\u6ca1\u6709\u4ec0\u4e48\u533a\u522b\u3002", 
            "cell_type": "markdown", 
            "metadata": {}
        }, 
        {
            "execution_count": null, 
            "cell_type": "code", 
            "metadata": {
                "attributes": {
                    "classes": [], 
                    "id": "", 
                    "n": "7"
                }
            }, 
            "outputs": [], 
            "source": "from time import time\n\ndef train(num_gpus, batch_size, lr):\n    train_data, test_data = utils.load_data_fashion_mnist(batch_size)\n\n    ctx = [gpu(i) for i in range(num_gpus)]\n    print('Running on', ctx)\n\n    # copy parameters to all GPUs\n    dev_params = [get_params(params, c) for c in ctx]\n\n    for epoch in range(5):\n        # train\n        start = time()\n        for data, label in train_data:\n            train_batch(data, label, dev_params, ctx, lr)\n        nd.waitall()\n        print('Epoch %d, training time = %.1f sec'%(\n            epoch, time()-start))\n\n        # validating on GPU 0\n        net = lambda data: lenet(data, dev_params[0])\n        test_acc = utils.evaluate_accuracy(test_data, net, ctx[0])\n        print('         validation accuracy = %.4f'%(test_acc))"
        }, 
        {
            "source": "\u9996\u5148\u6211\u4eec\u4f7f\u7528\u4e00\u4e2aGPU\u6765\u8bad\u7ec3\u3002", 
            "cell_type": "markdown", 
            "metadata": {}
        }, 
        {
            "execution_count": null, 
            "cell_type": "code", 
            "metadata": {
                "attributes": {
                    "classes": [], 
                    "id": "", 
                    "n": "8"
                }
            }, 
            "outputs": [], 
            "source": "train(1, 256, 0.3)"
        }, 
        {
            "source": "\u4f7f\u7528\u591a\u4e2aGPU\u4f46\u4e0d\u6539\u53d8\u5176\u4ed6\u53c2\u6570\u4f1a\u5f97\u5230\u8ddf\u5355GPU\u4e00\u81f4\u7684\u7ed3\u679c\uff08\u4f46\u6570\u636e\u662f\u968f\u673a\u987a\u5e8f\uff0c\u6240\u4ee5\u4f1a\u6709\u7ec6\u5fae\u533a\u522b\uff09", 
            "cell_type": "markdown", 
            "metadata": {}
        }, 
        {
            "execution_count": null, 
            "cell_type": "code", 
            "metadata": {}, 
            "outputs": [], 
            "source": "train(2, 256, 0.3)"
        }, 
        {
            "source": "\u4f46\u5728\u591aGPU\u65f6\uff0c\u901a\u5e38\u6211\u4eec\u9700\u8981\u589e\u52a0\u6279\u91cf\u5927\u5c0f\u4f7f\u5f97\u6bcf\u4e2aGPU\u80fd\u5f97\u5230\u8db3\u591f\u591a\u7684\u4efb\u52a1\u6765\u4fdd\u8bc1\u6027\u80fd\u3002\u4f46\u4e00\u4e2a\u5927\u7684\u6279\u91cf\u5927\u5c0f\u53ef\u80fd\u4f7f\u5f97\u6536\u655b\u53d8\u6162\u3002\u8fd9\u65f6\u5019\u7684\u4e00\u4e2a\u5e38\u7528\u505a\u6cd5\u662f\u5c06\u5b66\u4e60\u7387\u589e\u5927\u4e9b\u3002", 
            "cell_type": "markdown", 
            "metadata": {}
        }, 
        {
            "execution_count": null, 
            "cell_type": "code", 
            "metadata": {
                "attributes": {
                    "classes": [], 
                    "id": "", 
                    "n": "9"
                }
            }, 
            "outputs": [], 
            "source": "train(2, 512, 0.6)"
        }, 
        {
            "source": "\u53ef\u4ee5\u770b\u5230\u4f7f\u7528\u4e24\u4e2aGPU\u80fd\u6709\u6548\u7684\u51cf\u5c11\u8bad\u7ec3\u65f6\u95f4\u3002\n\n## \u7ed3\u8bba\n\n\u6570\u636e\u5e76\u884c\u53ef\u4ee5\u6709\u6548\u7684\u5728\u591aGPU\u4e0a\u63d0\u5347\u8bad\u7ec3\u6027\u80fd\u3002\n\n## \u7ec3\u4e60\n\n- \u8bd5\u8bd5\u4e0d\u540c\u7684\u6279\u91cf\u5927\u5c0f\u548c\u5b66\u4e60\u7387\n- \u5c06\u9884\u6d4b\u4e5f\u6539\u6210\u591aGPU\u7248\u672c\n- \u6ce8\u610f\u5230\u6211\u4eec\u4f7f\u7528GPU 0\u6765\u505a\u68af\u5ea6\u6c42\u548c\uff0c\u4f1a\u6709\u5e26\u6765\u4ec0\u4e48\u95ee\u9898\u5417\uff1f\n\n\n**\u5410\u69fd\u548c\u8ba8\u8bba\u6b22\u8fce\u70b9**[\u8fd9\u91cc](https://discuss.gluon.ai/t/topic/1884)", 
            "cell_type": "markdown", 
            "metadata": {}
        }
    ], 
    "metadata": {
        "kernelspec": {
            "display_name": "Python 2 with Spark 1.6 (Unsupported)", 
            "name": "python2", 
            "language": "python"
        }, 
        "language_info": {
            "mimetype": "text/x-python", 
            "nbconvert_exporter": "python", 
            "version": "2.7.11", 
            "name": "python", 
            "file_extension": ".py", 
            "pygments_lexer": "ipython2", 
            "codemirror_mode": {
                "version": 2, 
                "name": "ipython"
            }
        }
    }, 
    "nbformat": 4
}