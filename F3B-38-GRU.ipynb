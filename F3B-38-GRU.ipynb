{
    "nbformat_minor": 2, 
    "cells": [
        {
            "source": "# \u95e8\u63a7\u5faa\u73af\u5355\u5143\uff08GRU\uff09--- \u4ece0\u5f00\u59cb\n\n[\u4e0a\u4e00\u8282](bptt.md)\u4e2d\uff0c\u6211\u4eec\u4ecb\u7ecd\u4e86\u5faa\u73af\u795e\u7ecf\u7f51\u7edc\u4e2d\u7684\u68af\u5ea6\u8ba1\u7b97\u65b9\u6cd5\u3002\u6211\u4eec\u53d1\u73b0\uff0c\u5faa\u73af\u795e\u7ecf\u7f51\u7edc\u7684\u9690\u542b\u5c42\u53d8\u91cf\u68af\u5ea6\u53ef\u80fd\u4f1a\u51fa\u73b0\u8870\u51cf\u6216\u7206\u70b8\u3002\u867d\u7136[\u68af\u5ea6\u88c1\u526a](rnn-scratch.md)\u53ef\u4ee5\u5e94\u5bf9\u68af\u5ea6\u7206\u70b8\uff0c\u4f46\u65e0\u6cd5\u89e3\u51b3\u68af\u5ea6\u8870\u51cf\u7684\u95ee\u9898\u3002\u56e0\u6b64\uff0c\u7ed9\u5b9a\u4e00\u4e2a\u65f6\u95f4\u5e8f\u5217\uff0c\u4f8b\u5982\u6587\u672c\u5e8f\u5217\uff0c\u5faa\u73af\u795e\u7ecf\u7f51\u7edc\u5728\u5b9e\u9645\u4e2d\u5176\u5b9e\u8f83\u96be\u6355\u6349\u4e24\u4e2a\u65f6\u523b\u8ddd\u79bb\u8f83\u5927\u7684\u6587\u672c\u5143\u7d20\uff08\u5b57\u6216\u8bcd\uff09\u4e4b\u95f4\u7684\u4f9d\u8d56\u5173\u7cfb\u3002\n\n\u95e8\u63a7\u5faa\u73af\u795e\u7ecf\u7f51\u7edc\uff08gated recurrent neural networks\uff09\u7684\u63d0\u51fa\uff0c\u662f\u4e3a\u4e86\u66f4\u597d\u5730\u6355\u6349\u65f6\u5e8f\u6570\u636e\u4e2d\u95f4\u9694\u8f83\u5927\u7684\u4f9d\u8d56\u5173\u7cfb\u3002\u5176\u4e2d\uff0c\u95e8\u63a7\u5faa\u73af\u5355\u5143\uff08gated recurrent unit\uff0c\u7b80\u79f0GRU\uff09\u662f\u4e00\u79cd\u5e38\u7528\u7684\u95e8\u63a7\u5faa\u73af\u795e\u7ecf\u7f51\u7edc\u3002\u5b83\u7531Cho\u3001van Merrienboer\u3001 Bahdanau\u548cBengio\u57282014\u5e74\u88ab\u63d0\u51fa\u3002\n\n\n## \u95e8\u63a7\u5faa\u73af\u5355\u5143\n\n\u6211\u4eec\u5148\u4ecb\u7ecd\u95e8\u63a7\u5faa\u73af\u5355\u5143\u7684\u6784\u9020\u3002\u5b83\u6bd4\u5faa\u73af\u795e\u7ecf\u7f51\u7edc\u4e2d\u7684\u9690\u542b\u5c42\u6784\u9020\u7a0d\u590d\u6742\u4e00\u70b9\u3002\n\n### \u91cd\u7f6e\u95e8\u548c\u66f4\u65b0\u95e8\n\n\u95e8\u63a7\u5faa\u73af\u5355\u5143\u7684\u9690\u542b\u72b6\u6001\u53ea\u5305\u542b\u9690\u542b\u5c42\u53d8\u91cf$\\mathbf{H}$\u3002\u5047\u5b9a\u9690\u542b\u72b6\u6001\u957f\u5ea6\u4e3a$h$\uff0c\u7ed9\u5b9a\u65f6\u523b$t$\u7684\u4e00\u4e2a\u6837\u672c\u6570\u4e3a$n$\u7279\u5f81\u5411\u91cf\u7ef4\u5ea6\u4e3a$x$\u7684\u6279\u91cf\u6570\u636e$\\mathbf{X}_t \\in \\mathbb{R}^{n \\times x}$\u548c\u4e0a\u4e00\u65f6\u523b\u9690\u542b\u72b6\u6001$\\mathbf{H}_{t-1} \\in \\mathbb{R}^{n \\times h}$\uff0c\u91cd\u7f6e\u95e8\uff08reset gate\uff09$\\mathbf{R}_t \\in \\mathbb{R}^{n \\times h}$\u548c\u66f4\u65b0\u95e8\uff08update gate\uff09$\\mathbf{Z}_t \\in \\mathbb{R}^{n \\times h}$\u7684\u5b9a\u4e49\u5982\u4e0b\uff1a\n\n$$\\mathbf{R}_t = \\sigma(\\mathbf{X}_t \\mathbf{W}_{xr} + \\mathbf{H}_{t-1} \\mathbf{W}_{hr} + \\mathbf{b}_r)$$\n\n$$\\mathbf{Z}_t = \\sigma(\\mathbf{X}_t \\mathbf{W}_{xz} + \\mathbf{H}_{t-1} \\mathbf{W}_{hz} + \\mathbf{b}_z)$$\n\n\u5176\u4e2d\u7684$\\mathbf{W}_{xr}, \\mathbf{W}_{xz} \\in \\mathbb{R}^{x \\times h}$\u548c$\\mathbf{W}_{hr}, \\mathbf{W}_{hz} \\in \\mathbb{R}^{h \\times h}$\u662f\u53ef\u5b66\u4e60\u7684\u6743\u91cd\u53c2\u6570\uff0c$\\mathbf{b}_r, \\mathbf{b}_z \\in \\mathbb{R}^{1 \\times h}$\u662f\u53ef\u5b66\u4e60\u7684\u504f\u79fb\u53c2\u6570\u3002\u51fd\u6570$\\sigma$\u81ea\u53d8\u91cf\u4e2d\u7684\u4e09\u9879\u76f8\u52a0\u4f7f\u7528\u4e86[\u5e7f\u64ad](../chapter_crashcourse/ndarray.md)\u3002\n\n\u9700\u8981\u6ce8\u610f\u7684\u662f\uff0c\u91cd\u7f6e\u95e8\u548c\u66f4\u65b0\u95e8\u4f7f\u7528\u4e86\u503c\u57df\u4e3a$[0, 1]$\u7684\u51fd\u6570$\\sigma(x) = 1/(1+\\text{exp}(-x))$\u3002\u56e0\u6b64\uff0c\u91cd\u7f6e\u95e8$\\mathbf{R}_t$\u548c\u66f4\u65b0\u95e8$\\mathbf{Z}_t$\u4e2d\u6bcf\u4e2a\u5143\u7d20\u7684\u503c\u57df\u90fd\u662f$[0, 1]$\u3002\n\n\n### \u5019\u9009\u9690\u542b\u72b6\u6001\n\n\u6211\u4eec\u53ef\u4ee5\u901a\u8fc7\u5143\u7d20\u503c\u57df\u5728$[0,1]$\u7684\u66f4\u65b0\u95e8\u548c\u91cd\u7f6e\u95e8\u6765\u63a7\u5236\u9690\u542b\u72b6\u6001\u4e2d\u4fe1\u606f\u7684\u6d41\u52a8\uff1a\u8fd9\u901a\u5e38\u53ef\u4ee5\u5e94\u7528\u6309\u5143\u7d20\u4e58\u6cd5\u7b26$\\odot$\u3002\u95e8\u63a7\u5faa\u73af\u5355\u5143\u4e2d\u7684\u5019\u9009\u9690\u542b\u72b6\u6001$\\tilde{\\mathbf{H}}_t \\in \\mathbb{R}^{n \\times h}$\u4f7f\u7528\u4e86\u503c\u57df\u5728$[-1, 1]$\u7684\u53cc\u66f2\u6b63\u5207\u51fd\u6570tanh\u505a\u6fc0\u6d3b\u51fd\u6570\uff1a\n\n$$\\tilde{\\mathbf{H}}_t = \\text{tanh}(\\mathbf{X}_t \\mathbf{W}_{xh} + \\mathbf{R}_t \\odot \\mathbf{H}_{t-1} \\mathbf{W}_{hh} + \\mathbf{b}_h)$$\n\n\u5176\u4e2d\u7684$\\mathbf{W}_{xh} \\in \\mathbb{R}^{x \\times h}$\u548c$\\mathbf{W}_{hh} \\in \\mathbb{R}^{h \\times h}$\u662f\u53ef\u5b66\u4e60\u7684\u6743\u91cd\u53c2\u6570\uff0c$\\mathbf{b}_h \\in \\mathbb{R}^{1 \\times h}$\u662f\u53ef\u5b66\u4e60\u7684\u504f\u79fb\u53c2\u6570\u3002\n\n\u9700\u8981\u6ce8\u610f\u7684\u662f\uff0c\u5019\u9009\u9690\u542b\u72b6\u6001\u4f7f\u7528\u4e86\u91cd\u7f6e\u95e8\u6765\u63a7\u5236\u5305\u542b\u8fc7\u53bb\u65f6\u523b\u4fe1\u606f\u7684\u4e0a\u4e00\u4e2a\u9690\u542b\u72b6\u6001\u7684\u6d41\u5165\u3002\u5982\u679c\u91cd\u7f6e\u95e8\u8fd1\u4f3c0\uff0c\u4e0a\u4e00\u4e2a\u9690\u542b\u72b6\u6001\u5c06\u88ab\u4e22\u5f03\u3002\u56e0\u6b64\uff0c\u91cd\u7f6e\u95e8\u63d0\u4f9b\u4e86\u4e22\u5f03\u4e0e\u672a\u6765\u65e0\u5173\u7684\u8fc7\u53bb\u9690\u542b\u72b6\u6001\u7684\u673a\u5236\u3002\n\n\n### \u9690\u542b\u72b6\u6001\n\n\u9690\u542b\u72b6\u6001$\\mathbf{H}_t \\in \\mathbb{R}^{n \\times h}$\u7684\u8ba1\u7b97\u4f7f\u7528\u66f4\u65b0\u95e8$\\mathbf{Z}_t$\u6765\u5bf9\u4e0a\u4e00\u65f6\u523b\u7684\u9690\u542b\u72b6\u6001$\\mathbf{H}_{t-1}$\u548c\u5f53\u524d\u65f6\u523b\u7684\u5019\u9009\u9690\u542b\u72b6\u6001$\\tilde{\\mathbf{H}}_t$\u505a\u7ec4\u5408\uff0c\u516c\u5f0f\u5982\u4e0b\uff1a\n\n$$\\mathbf{H}_t = \\mathbf{Z}_t \\odot \\mathbf{H}_{t-1}  + (1 - \\mathbf{Z}_t) \\odot \\tilde{\\mathbf{H}}_t$$\n\n\u9700\u8981\u6ce8\u610f\u7684\u662f\uff0c\u66f4\u65b0\u95e8\u53ef\u4ee5\u63a7\u5236\u8fc7\u53bb\u7684\u9690\u542b\u72b6\u6001\u5728\u5f53\u524d\u65f6\u523b\u7684\u91cd\u8981\u6027\u3002\u5982\u679c\u66f4\u65b0\u95e8\u4e00\u76f4\u8fd1\u4f3c1\uff0c\u8fc7\u53bb\u7684\u9690\u542b\u72b6\u6001\u5c06\u4e00\u76f4\u901a\u8fc7\u65f6\u95f4\u4fdd\u5b58\u5e76\u4f20\u9012\u81f3\u5f53\u524d\u65f6\u523b\u3002\u8fd9\u4e2a\u8bbe\u8ba1\u53ef\u4ee5\u5e94\u5bf9\u5faa\u73af\u795e\u7ecf\u7f51\u7edc\u4e2d\u7684\u68af\u5ea6\u8870\u51cf\u95ee\u9898\uff0c\u5e76\u66f4\u597d\u5730\u6355\u6349\u65f6\u5e8f\u6570\u636e\u4e2d\u95f4\u9694\u8f83\u5927\u7684\u4f9d\u8d56\u5173\u7cfb\u3002\n\n\u6211\u4eec\u5bf9\u95e8\u63a7\u5faa\u73af\u5355\u5143\u7684\u8bbe\u8ba1\u7a0d\u4f5c\u603b\u7ed3\uff1a\n\n* \u91cd\u7f6e\u95e8\u6709\u52a9\u4e8e\u6355\u6349\u65f6\u5e8f\u6570\u636e\u4e2d\u77ed\u671f\u7684\u4f9d\u8d56\u5173\u7cfb\u3002\n* \u66f4\u65b0\u95e8\u6709\u52a9\u4e8e\u6355\u6349\u65f6\u5e8f\u6570\u636e\u4e2d\u957f\u671f\u7684\u4f9d\u8d56\u5173\u7cfb\u3002\n\n\n\u8f93\u51fa\u5c42\u7684\u8bbe\u8ba1\u53ef\u53c2\u7167[\u5faa\u73af\u795e\u7ecf\u7f51\u7edc](rnn-scratch.md)\u4e2d\u7684\u63cf\u8ff0\u3002\n\n\n## \u5b9e\u9a8c\n\n\n\u4e3a\u4e86\u5b9e\u73b0\u5e76\u5c55\u793a\u95e8\u63a7\u5faa\u73af\u5355\u5143\uff0c\u6211\u4eec\u4f9d\u7136\u4f7f\u7528\u5468\u6770\u4f26\u6b4c\u8bcd\u6570\u636e\u96c6\u6765\u8bad\u7ec3\u6a21\u578b\u4f5c\u8bcd\u3002\u8fd9\u91cc\u9664\u95e8\u63a7\u5faa\u73af\u5355\u5143\u4ee5\u5916\u7684\u5b9e\u73b0\u5df2\u5728[\u5faa\u73af\u795e\u7ecf\u7f51\u7edc](rnn-scratch.md)\u4e2d\u4ecb\u7ecd\u3002\n\n\n### \u6570\u636e\u5904\u7406\n\n\u6211\u4eec\u5148\u8bfb\u53d6\u5e76\u5bf9\u6570\u636e\u96c6\u505a\u7b80\u5355\u5904\u7406\u3002", 
            "cell_type": "markdown", 
            "metadata": {}
        }, 
        {
            "execution_count": null, 
            "cell_type": "code", 
            "metadata": {
                "attributes": {
                    "classes": [], 
                    "id": "", 
                    "n": "1"
                }
            }, 
            "outputs": [], 
            "source": "import zipfile\nwith zipfile.ZipFile('jaychou_lyrics.txt.zip', 'r') as zin:\n    zin.extractall('data/')\n\nwith open('data/jaychou_lyrics.txt') as f:\n    corpus_chars = f.read()\n\ncorpus_chars = corpus_chars.replace('\\n', ' ').replace('\\r', ' ')\ncorpus_chars = corpus_chars[0:20000]\n\nidx_to_char = list(set(corpus_chars))\nchar_to_idx = dict([(char, i) for i, char in enumerate(idx_to_char)])\ncorpus_indices = [char_to_idx[char] for char in corpus_chars]\n\nvocab_size = len(char_to_idx)\nprint('vocab size:', vocab_size)"
        }, 
        {
            "source": "\u6211\u4eec\u4f7f\u7528onehot\u6765\u5c06\u5b57\u7b26\u7d22\u5f15\u8868\u793a\u6210\u5411\u91cf\u3002", 
            "cell_type": "markdown", 
            "metadata": {}
        }, 
        {
            "execution_count": null, 
            "cell_type": "code", 
            "metadata": {
                "attributes": {
                    "classes": [], 
                    "id": "", 
                    "n": "2"
                }
            }, 
            "outputs": [], 
            "source": "def get_inputs(data):\n    return [nd.one_hot(X, vocab_size) for X in data.T]"
        }, 
        {
            "source": "### \u521d\u59cb\u5316\u6a21\u578b\u53c2\u6570\n\n\u4ee5\u4e0b\u90e8\u5206\u5bf9\u6a21\u578b\u53c2\u6570\u8fdb\u884c\u521d\u59cb\u5316\u3002\u53c2\u6570`hidden_dim`\u5b9a\u4e49\u4e86\u9690\u542b\u72b6\u6001\u7684\u957f\u5ea6\u3002", 
            "cell_type": "markdown", 
            "metadata": {}
        }, 
        {
            "execution_count": null, 
            "cell_type": "code", 
            "metadata": {
                "attributes": {
                    "classes": [], 
                    "id": "", 
                    "n": "3"
                }
            }, 
            "outputs": [], 
            "source": "import mxnet as mx\n\n# \u5c1d\u8bd5\u4f7f\u7528GPU\nimport sys\nsys.path.append('..')\nfrom mxnet import nd\nimport utils\nctx = utils.try_gpu()\nprint('Will use', ctx)\n\ninput_dim = vocab_size\n# \u9690\u542b\u72b6\u6001\u957f\u5ea6\nhidden_dim = 256\noutput_dim = vocab_size\nstd = .01\n\ndef get_params():\n    # \u9690\u542b\u5c42\n    W_xz = nd.random_normal(scale=std, shape=(input_dim, hidden_dim), ctx=ctx)\n    W_hz = nd.random_normal(scale=std, shape=(hidden_dim, hidden_dim), ctx=ctx)\n    b_z = nd.zeros(hidden_dim, ctx=ctx)\n    \n    W_xr = nd.random_normal(scale=std, shape=(input_dim, hidden_dim), ctx=ctx)\n    W_hr = nd.random_normal(scale=std, shape=(hidden_dim, hidden_dim), ctx=ctx)\n    b_r = nd.zeros(hidden_dim, ctx=ctx)\n\n    W_xh = nd.random_normal(scale=std, shape=(input_dim, hidden_dim), ctx=ctx)\n    W_hh = nd.random_normal(scale=std, shape=(hidden_dim, hidden_dim), ctx=ctx)\n    b_h = nd.zeros(hidden_dim, ctx=ctx)\n\n    # \u8f93\u51fa\u5c42\n    W_hy = nd.random_normal(scale=std, shape=(hidden_dim, output_dim), ctx=ctx)\n    b_y = nd.zeros(output_dim, ctx=ctx)\n\n    params = [W_xz, W_hz, b_z, W_xr, W_hr, b_r, W_xh, W_hh, b_h, W_hy, b_y]\n    for param in params:\n        param.attach_grad()\n    return params"
        }, 
        {
            "source": "## \u5b9a\u4e49\u6a21\u578b\n\n\u6211\u4eec\u5c06\u524d\u9762\u7684\u6a21\u578b\u516c\u5f0f\u7ffb\u8bd1\u6210\u4ee3\u7801\u3002", 
            "cell_type": "markdown", 
            "metadata": {}
        }, 
        {
            "execution_count": null, 
            "cell_type": "code", 
            "metadata": {
                "attributes": {
                    "classes": [], 
                    "id": "", 
                    "n": "4"
                }
            }, 
            "outputs": [], 
            "source": "def gru_rnn(inputs, H, *params):\n    # inputs: num_steps \u4e2a\u5c3a\u5bf8\u4e3a batch_size * vocab_size \u77e9\u9635\n    # H: \u5c3a\u5bf8\u4e3a batch_size * hidden_dim \u77e9\u9635\n    # outputs: num_steps \u4e2a\u5c3a\u5bf8\u4e3a batch_size * vocab_size \u77e9\u9635\n    W_xz, W_hz, b_z, W_xr, W_hr, b_r, W_xh, W_hh, b_h, W_hy, b_y = params\n    outputs = []\n    for X in inputs:        \n        Z = nd.sigmoid(nd.dot(X, W_xz) + nd.dot(H, W_hz) + b_z)\n        R = nd.sigmoid(nd.dot(X, W_xr) + nd.dot(H, W_hr) + b_r)\n        H_tilda = nd.tanh(nd.dot(X, W_xh) + R * nd.dot(H, W_hh) + b_h)\n        H = Z * H + (1 - Z) * H_tilda\n        Y = nd.dot(H, W_hy) + b_y\n        outputs.append(Y)\n    return (outputs, H)"
        }, 
        {
            "source": "### \u8bad\u7ec3\u6a21\u578b\n\n\u4e0b\u9762\u6211\u4eec\u5f00\u59cb\u8bad\u7ec3\u6a21\u578b\u3002\u6211\u4eec\u5047\u5b9a\u8c31\u5199\u6b4c\u8bcd\u7684\u524d\u7f00\u5206\u522b\u4e3a\u201c\u5206\u5f00\u201d\u3001\u201c\u4e0d\u5206\u5f00\u201d\u548c\u201c\u6218\u4e89\u4e2d\u90e8\u961f\u201d\u3002\u8fd9\u91cc\u91c7\u7528\u7684\u662f\u76f8\u90bb\u6279\u91cf\u91c7\u6837\u5b9e\u9a8c\u95e8\u63a7\u5faa\u73af\u5355\u5143\u8c31\u5199\u6b4c\u8bcd\u3002", 
            "cell_type": "markdown", 
            "metadata": {}
        }, 
        {
            "execution_count": null, 
            "cell_type": "code", 
            "metadata": {
                "attributes": {
                    "classes": [], 
                    "id": "", 
                    "n": "5"
                }
            }, 
            "outputs": [], 
            "source": "seq1 = '\u5206\u5f00'\nseq2 = '\u4e0d\u5206\u5f00'\nseq3 = '\u6218\u4e89\u4e2d\u90e8\u961f'\nseqs = [seq1, seq2, seq3]\n\nutils.train_and_predict_rnn(rnn=gru_rnn, is_random_iter=False, epochs=200,\n                            num_steps=35, hidden_dim=hidden_dim, \n                            learning_rate=0.2, clipping_norm=5,\n                            batch_size=32, pred_period=20, pred_len=100,\n                            seqs=seqs, get_params=get_params,\n                            get_inputs=get_inputs, ctx=ctx,\n                            corpus_indices=corpus_indices,\n                            idx_to_char=idx_to_char, char_to_idx=char_to_idx)"
        }, 
        {
            "source": "\u53ef\u4ee5\u770b\u5230\u4e00\u5f00\u59cb\u5b66\u5230\u7b80\u5355\u7684\u5b57\u7b26\uff0c\u7136\u540e\u7b80\u5355\u7684\u8bcd\uff0c\u63a5\u7740\u662f\u590d\u6742\u70b9\u7684\u8bcd\uff0c\u7136\u540e\u770b\u4e0a\u53bb\u4f3c\u4e4e\u50cf\u4e2a\u53e5\u5b50\u4e86\u3002\n\n## \u7ed3\u8bba\n\n* \u95e8\u63a7\u5faa\u73af\u5355\u5143\u7684\u63d0\u51fa\u662f\u4e3a\u4e86\u66f4\u597d\u5730\u6355\u6349\u65f6\u5e8f\u6570\u636e\u4e2d\u95f4\u9694\u8f83\u5927\u7684\u4f9d\u8d56\u5173\u7cfb\u3002\n* \u91cd\u7f6e\u95e8\u6709\u52a9\u4e8e\u6355\u6349\u65f6\u5e8f\u6570\u636e\u4e2d\u77ed\u671f\u7684\u4f9d\u8d56\u5173\u7cfb\u3002\n* \u66f4\u65b0\u95e8\u6709\u52a9\u4e8e\u6355\u6349\u65f6\u5e8f\u6570\u636e\u4e2d\u957f\u671f\u7684\u4f9d\u8d56\u5173\u7cfb\u3002\n\n\n## \u7ec3\u4e60\n\n* \u8c03\u8c03\u53c2\u6570\uff08\u4f8b\u5982\u6570\u636e\u96c6\u5927\u5c0f\u3001\u5e8f\u5217\u957f\u5ea6\u3001\u9690\u542b\u72b6\u6001\u957f\u5ea6\u548c\u5b66\u4e60\u7387\uff09\uff0c\u770b\u770b\u5bf9\u8fd0\u884c\u65f6\u95f4\u3001perplexity\u548c\u9884\u6d4b\u7684\u7ed3\u679c\u9020\u6210\u7684\u5f71\u54cd\u3002\n* \u5728\u76f8\u540c\u6761\u4ef6\u4e0b\uff0c\u6bd4\u8f83\u95e8\u63a7\u5faa\u73af\u5355\u5143\u548c\u5faa\u73af\u795e\u7ecf\u7f51\u7edc\u7684\u8fd0\u884c\u6548\u7387\u3002\n\n**\u5410\u69fd\u548c\u8ba8\u8bba\u6b22\u8fce\u70b9**[\u8fd9\u91cc](https://discuss.gluon.ai/t/topic/4042)", 
            "cell_type": "markdown", 
            "metadata": {}
        }
    ], 
    "metadata": {
        "kernelspec": {
            "display_name": "Python 2 with Spark 1.6 (Unsupported)", 
            "name": "python2", 
            "language": "python"
        }, 
        "language_info": {
            "mimetype": "text/x-python", 
            "nbconvert_exporter": "python", 
            "version": "2.7.11", 
            "name": "python", 
            "file_extension": ".py", 
            "pygments_lexer": "ipython2", 
            "codemirror_mode": {
                "version": 2, 
                "name": "ipython"
            }
        }
    }, 
    "nbformat": 4
}