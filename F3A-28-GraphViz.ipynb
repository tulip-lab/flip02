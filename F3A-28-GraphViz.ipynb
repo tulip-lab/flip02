{
    "nbformat_minor": 1, 
    "cells": [
        {
            "source": "# Modern Data Science \n**(Module 02: Data Visualization)**\n\n---\n- Materials in this module include resources collected from various open-source online repositories.\n- You are free to use, change and distribute this package.\n\nPrepared by and for \n**Student Members** |\n2006-2018 [TULIP Lab](http://www.tulip.org.au), Australia\n\n---\n\n# Session Q - GraphViz\n\nGraphviz is open source graph visualization software. It has several main graph layout programs. The Graphviz layout tools take descriptions of graphs in a simple text language, and make diagrams in several useful formats such as images and SVG for web pages, Postscript for inclusion in PDF or other documents; or display in an interactive graph browser. \n\nGraphviz layout tools accept inputs in the `DOT` language, which describes :\n* graphs\n* nodes\n* edges\n\nWe can use `DOT` language to describe the graph structure, and specify the shape, color etc. \n\n[Adapted from here](http://graphviz.readthedocs.io/en/stable/index.html)\n\n\n`graphviz` provides a simple pure-Python interface for the Graphviz graph-drawing software. To install it with pip run the following:\n", 
            "cell_type": "markdown", 
            "metadata": {}
        }, 
        {
            "execution_count": null, 
            "cell_type": "code", 
            "metadata": {}, 
            "outputs": [], 
            "source": "!pip install graphviz"
        }, 
        {
            "source": "The `graphviz` module provides two classes: `Graph` and `Digraph`. They create graph descriptions in the [DOT](https://www.graphviz.org/doc/info/lang.html) language for undirected and directed graphs respectively. They have the same [API](http://graphviz.readthedocs.io/en/stable/api.html#api).\n\n", 
            "cell_type": "markdown", 
            "metadata": {}
        }, 
        {
            "source": "## Basic Components", 
            "cell_type": "markdown", 
            "metadata": {}
        }, 
        {
            "source": "Create a graph by instantiating a new `Graph` or `Digraph` object:\n\n", 
            "cell_type": "markdown", 
            "metadata": {}
        }, 
        {
            "execution_count": null, 
            "cell_type": "code", 
            "metadata": {}, 
            "outputs": [], 
            "source": "from graphviz import Digraph\n\ndot = Digraph(comment='The Round Table')"
        }, 
        {
            "source": "Their constructors allow to set the graph\u2019s `name`, the `filename` for the DOT source and the rendered graph, a `comment` for the first source code line, etc.\n\nAdd nodes and edges to the graph object using its `node()` and `edge()` or `edges()` methods:\n\nThe `node()` method takes a name identifier as first argument and an optional label. The `edge()` method takes the names of start- and end-node, while `edges()` takes iterable of name-pairs. Keyword arguments are turned into (node and edge) attributes (see [Graphviz docs](https://www.graphviz.org/doc/info/attrs.html)).\n\n", 
            "cell_type": "markdown", 
            "metadata": {}
        }, 
        {
            "execution_count": null, 
            "cell_type": "code", 
            "metadata": {}, 
            "outputs": [], 
            "source": "dot.node('A', 'King Arthur')\ndot.node('B', 'Sir Bedevere the Wise')\ndot.node('L', 'Sir Lancelot the Brave')\n\ndot.edges(['AB', 'AL'])\ndot.edge('B', 'L', constraint='false')"
        }, 
        {
            "execution_count": null, 
            "cell_type": "code", 
            "metadata": {}, 
            "outputs": [], 
            "source": "print(dot.source) "
        }, 
        {
            "source": "We can show the rendered graph using:", 
            "cell_type": "markdown", 
            "metadata": {}
        }, 
        {
            "execution_count": null, 
            "cell_type": "code", 
            "metadata": {}, 
            "outputs": [], 
            "source": "dot"
        }, 
        {
            "source": "## Styling\n\n\nUse the `graph_attr`, `node_attr`, and `edge_attr` arguments to change the default appearance of your graph, nodes, and edges.", 
            "cell_type": "markdown", 
            "metadata": {}
        }, 
        {
            "execution_count": null, 
            "cell_type": "code", 
            "metadata": {}, 
            "outputs": [], 
            "source": "ps = Digraph(name='pet-shop', node_attr={'shape': 'plaintext'})\n\nps.node('parrot')\nps.node('dead')\nps.edge('parrot', 'dead')"
        }, 
        {
            "execution_count": null, 
            "cell_type": "code", 
            "metadata": {}, 
            "outputs": [], 
            "source": "print(ps.source)"
        }, 
        {
            "execution_count": null, 
            "cell_type": "code", 
            "metadata": {}, 
            "outputs": [], 
            "source": "ps"
        }, 
        {
            "execution_count": null, 
            "cell_type": "code", 
            "metadata": {}, 
            "outputs": [], 
            "source": "ps.graph_attr['rankdir'] = 'LR'\nps.edge_attr.update(arrowhead='vee', arrowsize='2')"
        }, 
        {
            "execution_count": null, 
            "cell_type": "code", 
            "metadata": {}, 
            "outputs": [], 
            "source": "ps"
        }, 
        {
            "source": "## Attributes\n\nTo directly add attitbute statements (affecting all following graph, node, or edge items within the same (sub-)graph), use the `attr()` -method with the target as first argument:", 
            "cell_type": "markdown", 
            "metadata": {}
        }, 
        {
            "execution_count": null, 
            "cell_type": "code", 
            "metadata": {}, 
            "outputs": [], 
            "source": "from graphviz import Graph\n\nni = Graph('ni')\n\nni.attr('node', shape='rarrow')\nni.node('1', 'Ni!')\nni.node('2', 'Ni!')\n\nni.node('3', 'Ni!', shape='egg')\n\nni.attr('node', shape='star')\nni.node('4', 'Ni!')\nni.node('5', 'Ni!')"
        }, 
        {
            "source": "By omitting its first argument, you can use it to set arbitrary attributes as key-value pairs targeting the current (sub-)graph (e.g. for `rankdir`, `label`, or setting `rank=same` within a subgraph context):", 
            "cell_type": "markdown", 
            "metadata": {}
        }, 
        {
            "execution_count": null, 
            "cell_type": "code", 
            "metadata": {}, 
            "outputs": [], 
            "source": "ni.attr(rankdir='LR')\n\nni.edges(['12', '23', '34', '45'])"
        }, 
        {
            "execution_count": null, 
            "cell_type": "code", 
            "metadata": {}, 
            "outputs": [], 
            "source": "print(ni.source)"
        }, 
        {
            "execution_count": null, 
            "cell_type": "code", 
            "metadata": {}, 
            "outputs": [], 
            "source": "ni"
        }, 
        {
            "source": "## Quoting and HTML-like labels\n\nThe graph-building methods of `Graph` and `Digraph` objects automatically take care of quoting/escaping strings [where required](https://www.graphviz.org/doc/info/lang.html) (whitespace, keywords, double quotes, etc.):", 
            "cell_type": "markdown", 
            "metadata": {}
        }, 
        {
            "execution_count": null, 
            "cell_type": "code", 
            "metadata": {}, 
            "outputs": [], 
            "source": "q = Digraph()\nq.edge('spam', 'eggs eggs')\nq.edge('node', '\"here\\'s a quote\"')"
        }, 
        {
            "execution_count": null, 
            "cell_type": "code", 
            "metadata": {}, 
            "outputs": [], 
            "source": "print(q.source)  \nq"
        }, 
        {
            "source": "If a string starts with < and ends with >, it is passed on as is, without quoting/escaping: The content between the angle brackets is treated by the engine as special HTML string that can be used for [HTML-like labels](https://graphviz.gitlab.io/_pages/doc/info/shapes.html#html):", 
            "cell_type": "markdown", 
            "metadata": {}
        }, 
        {
            "execution_count": null, 
            "cell_type": "code", 
            "metadata": {}, 
            "outputs": [], 
            "source": "h = Graph('html_table')\nh.node('tab', label='''<<TABLE>\n...  <TR>\n...    <TD>left</TD>\n...    <TD>right</TD>\n...  </TR>\n... </TABLE>>''')"
        }, 
        {
            "execution_count": null, 
            "cell_type": "code", 
            "metadata": {}, 
            "outputs": [], 
            "source": "print(h.source)"
        }, 
        {
            "execution_count": null, 
            "cell_type": "code", 
            "metadata": {}, 
            "outputs": [], 
            "source": "h"
        }, 
        {
            "source": "For strings that should literally begin with < and end with >, use the `nohtml()` function to disable the special meaning of angled parenthesis and apply normal quoting/escaping (before 0.8.2, the only workaround was to add leading or trailing space, e.g. `label=' <>'`):", 
            "cell_type": "markdown", 
            "metadata": {}
        }, 
        {
            "execution_count": null, 
            "cell_type": "code", 
            "metadata": {}, 
            "outputs": [], 
            "source": "from graphviz import nohtml\n\nd = Digraph(format='svg')\nd.node('diamond', label=nohtml('<>'))"
        }, 
        {
            "execution_count": null, 
            "cell_type": "code", 
            "metadata": {}, 
            "outputs": [], 
            "source": "print(d.source)  \nd"
        }, 
        {
            "source": "## Subgraphs & clusters\n\n\nGraph and Digraph objects have a `subgraph()`-method for adding a subgraph to an instance.\n\nThere are two ways to use it: \n\n### Usage 1\n\nEither with a ready-made graph object of the same kind as the only argument (whose content is added as a subgraph) or omitting the `graph` argument (returning a context manager for defining the subgraph content more elegantly within a `with`-block).\n\nFirst usage option, with graph as the only argument:", 
            "cell_type": "markdown", 
            "metadata": {}
        }, 
        {
            "execution_count": null, 
            "cell_type": "code", 
            "metadata": {}, 
            "outputs": [], 
            "source": "p = Graph(name='parent')\np.edge('spam', 'eggs')\n\nc = Graph(name='child', node_attr={'shape': 'box'})\nc.edge('foo', 'bar')\n\np.subgraph(c)"
        }, 
        {
            "execution_count": null, 
            "cell_type": "code", 
            "metadata": {}, 
            "outputs": [], 
            "source": "print(c.source)\nc"
        }, 
        {
            "execution_count": null, 
            "cell_type": "code", 
            "metadata": {}, 
            "outputs": [], 
            "source": "print(p.source)\np"
        }, 
        {
            "source": "### Usage 2\n\nSecond usage, with a `with`-block (omitting the graph argument):", 
            "cell_type": "markdown", 
            "metadata": {}
        }, 
        {
            "execution_count": null, 
            "cell_type": "code", 
            "metadata": {}, 
            "outputs": [], 
            "source": "p = Graph(name='parent')\np.edge('spam', 'eggs')\n\nwith p.subgraph(name='child', node_attr={'shape': 'box'}) as c: c.edge('foo', 'bar')"
        }, 
        {
            "execution_count": null, 
            "cell_type": "code", 
            "metadata": {}, 
            "outputs": [], 
            "source": "print(p.source)\np"
        }, 
        {
            "source": "## Custom DOT statements\n\nTo add arbitrary statements to the created DOT source, use the body attribute of the `Graph` or `Digraph` object. It holds the verbatim list of lines to be written to the source file. Use its `append()` or `extend()` method.\n\nNote that you might need to correctly quote/escape identifiers and strings containing whitespace or other special characters when using this method.\n", 
            "cell_type": "markdown", 
            "metadata": {}
        }, 
        {
            "execution_count": null, 
            "cell_type": "code", 
            "metadata": {}, 
            "outputs": [], 
            "source": "rt = Digraph(comment='The Round Table')\n\nrt.body.append('\\t\"King Arthur\" -> {\\n\\t\\t\"Sir Bedevere\", \"Sir Lancelot\"\\n\\t}')\nrt.edge('Sir Bedevere', 'Sir Lancelot', constraint='false')"
        }, 
        {
            "execution_count": null, 
            "cell_type": "code", 
            "metadata": {}, 
            "outputs": [], 
            "source": "print(rt.source) \nrt"
        }, 
        {
            "source": "## Using raw DOT\n\nTo render a ready-made DOT source code string (instead of assembling one with the higher-level interface of `Graph` or `Digraph`), create a `Source` object holding your DOT string:\n\n", 
            "cell_type": "markdown", 
            "metadata": {}
        }, 
        {
            "execution_count": null, 
            "cell_type": "code", 
            "metadata": {}, 
            "outputs": [], 
            "source": "from graphviz import Source\n\nsrc = Source('digraph \"the holy hand grenade\" { rankdir=LR; 1 -> 2 -> 3 -> lob }')\nsrc"
        }, 
        {
            "source": "## Existing files\n\nTo directly render an existing DOT source file (e.g. created with other tools), you can use the `Source.from_file()` function.", 
            "cell_type": "markdown", 
            "metadata": {}
        }, 
        {
            "execution_count": null, 
            "cell_type": "code", 
            "metadata": {}, 
            "outputs": [], 
            "source": "!ls *.gv\n#!rm *.gv"
        }, 
        {
            "execution_count": null, 
            "cell_type": "code", 
            "metadata": {}, 
            "outputs": [], 
            "source": "!pip install wget"
        }, 
        {
            "execution_count": null, 
            "cell_type": "code", 
            "metadata": {}, 
            "outputs": [], 
            "source": "from graphviz import render\n\nimport wget\nwget.download('https://github.com/tuliplab/mds/raw/master/Jupyter/data/gvsample0.gv')\n\n\nSource.from_file('gvsample0.gv')"
        }, 
        {
            "execution_count": null, 
            "cell_type": "code", 
            "metadata": {}, 
            "outputs": [], 
            "source": "wget.download('https://github.com/tuliplab/mds/raw/master/Jupyter/data/gvsample1.gv')\n\nSource.from_file('gvsample1.gv')"
        }, 
        {
            "execution_count": null, 
            "cell_type": "code", 
            "metadata": {}, 
            "outputs": [], 
            "source": "wget.download('https://github.com/tuliplab/mds/raw/master/Jupyter/data/gvsample2.gv')\n\n\nSource.from_file('gvsample2.gv')"
        }, 
        {
            "execution_count": null, 
            "cell_type": "code", 
            "metadata": {}, 
            "outputs": [], 
            "source": "wget.download('https://github.com/tuliplab/mds/raw/master/Jupyter/data/gvsample3.gv')\n\nSource.from_file('gvsample3.gv')"
        }, 
        {
            "execution_count": null, 
            "cell_type": "code", 
            "metadata": {}, 
            "outputs": [], 
            "source": "wget.download('https://github.com/tuliplab/mds/raw/master/Jupyter/data/gvsample4.gv')\n\nSource.from_file('gvsample4.gv')"
        }, 
        {
            "source": "## Examples", 
            "cell_type": "markdown", 
            "metadata": {}
        }, 
        {
            "execution_count": null, 
            "cell_type": "code", 
            "metadata": {}, 
            "outputs": [], 
            "source": "from graphviz import Source\n\nsrc = Source(\n'digraph G {main->parse -> execute;main->init;main->cleanup;execute -> make_string;execute -> printf;init -> make_string;main -> printf;execute -> compare;}') \n             \nsrc"
        }, 
        {
            "execution_count": null, 
            "cell_type": "code", 
            "metadata": {}, 
            "outputs": [], 
            "source": "# http://www.graphviz.org/content/fsm\n\nfrom graphviz import Digraph\n\nf = Digraph('finite_state_machine', filename='fsm.gv')\nf.attr(rankdir='LR', size='8,5')\n\nf.attr('node', shape='doublecircle')\nf.node('LR_0')\nf.node('LR_3')\nf.node('LR_4')\nf.node('LR_8')\n\nf.attr('node', shape='circle')\nf.edge('LR_0', 'LR_2', label='SS(B)')\nf.edge('LR_0', 'LR_1', label='SS(S)')\nf.edge('LR_1', 'LR_3', label='S($end)')\nf.edge('LR_2', 'LR_6', label='SS(b)')\nf.edge('LR_2', 'LR_5', label='SS(a)')\nf.edge('LR_2', 'LR_4', label='S(A)')\nf.edge('LR_5', 'LR_7', label='S(b)')\nf.edge('LR_5', 'LR_5', label='S(a)')\nf.edge('LR_6', 'LR_6', label='S(b)')\nf.edge('LR_6', 'LR_5', label='S(a)')\nf.edge('LR_7', 'LR_8', label='S(b)')\nf.edge('LR_7', 'LR_5', label='S(a)')\nf.edge('LR_8', 'LR_6', label='S(b)')\nf.edge('LR_8', 'LR_5', label='S(a)')\n\nf"
        }, 
        {
            "execution_count": null, 
            "cell_type": "code", 
            "metadata": {}, 
            "outputs": [], 
            "source": "# http://www.graphviz.org/pdf/dotguide.pdf Figure 20\n\nfrom graphviz import Digraph\n\ng = Digraph('G', filename='cluster_edge.gv')\ng.attr(compound='true')\n\nwith g.subgraph(name='cluster0') as c:\n    c.edges(['ab', 'ac', 'bd', 'cd'])\n\nwith g.subgraph(name='cluster1') as c:\n    c.edges(['eg', 'ef'])\n\ng.edge('b', 'f', lhead='cluster1')\ng.edge('d', 'e')\ng.edge('c', 'g', ltail='cluster0', lhead='cluster1')\ng.edge('c', 'e', ltail='cluster0')\ng.edge('d', 'h')\n\ng"
        }, 
        {
            "execution_count": null, 
            "cell_type": "code", 
            "metadata": {}, 
            "outputs": [], 
            "source": "#!/usr/bin/env python\n# unix.py - http://www.graphviz.org/content/unix\n\nfrom graphviz import Digraph\n\nu = Digraph('unix', filename='unix.gv')\nu.attr(size='6,6')\nu.node_attr.update(color='lightblue2', style='filled')\n\nu.edge('5th Edition', '6th Edition')\nu.edge('5th Edition', 'PWB 1.0')\nu.edge('6th Edition', 'LSX')\nu.edge('6th Edition', '1 BSD')\nu.edge('6th Edition', 'Mini Unix')\nu.edge('6th Edition', 'Wollongong')\nu.edge('6th Edition', 'Interdata')\nu.edge('Interdata', 'Unix/TS 3.0')\nu.edge('Interdata', 'PWB 2.0')\nu.edge('Interdata', '7th Edition')\nu.edge('7th Edition', '8th Edition')\nu.edge('7th Edition', '32V')\nu.edge('7th Edition', 'V7M')\nu.edge('7th Edition', 'Ultrix-11')\nu.edge('7th Edition', 'Xenix')\nu.edge('7th Edition', 'UniPlus+')\nu.edge('V7M', 'Ultrix-11')\nu.edge('8th Edition', '9th Edition')\nu.edge('1 BSD', '2 BSD')\nu.edge('2 BSD', '2.8 BSD')\nu.edge('2.8 BSD', 'Ultrix-11')\nu.edge('2.8 BSD', '2.9 BSD')\nu.edge('32V', '3 BSD')\nu.edge('3 BSD', '4 BSD')\nu.edge('4 BSD', '4.1 BSD')\nu.edge('4.1 BSD', '4.2 BSD')\nu.edge('4.1 BSD', '2.8 BSD')\nu.edge('4.1 BSD', '8th Edition')\nu.edge('4.2 BSD', '4.3 BSD')\nu.edge('4.2 BSD', 'Ultrix-32')\nu.edge('PWB 1.0', 'PWB 1.2')\nu.edge('PWB 1.0', 'USG 1.0')\nu.edge('PWB 1.2', 'PWB 2.0')\nu.edge('USG 1.0', 'CB Unix 1')\nu.edge('USG 1.0', 'USG 2.0')\nu.edge('CB Unix 1', 'CB Unix 2')\nu.edge('CB Unix 2', 'CB Unix 3')\nu.edge('CB Unix 3', 'Unix/TS++')\nu.edge('CB Unix 3', 'PDP-11 Sys V')\nu.edge('USG 2.0', 'USG 3.0')\nu.edge('USG 3.0', 'Unix/TS 3.0')\nu.edge('PWB 2.0', 'Unix/TS 3.0')\nu.edge('Unix/TS 1.0', 'Unix/TS 3.0')\nu.edge('Unix/TS 3.0', 'TS 4.0')\nu.edge('Unix/TS++', 'TS 4.0')\nu.edge('CB Unix 3', 'TS 4.0')\nu.edge('TS 4.0', 'System V.0')\nu.edge('System V.0', 'System V.2')\nu.edge('System V.2', 'System V.3')\n\nu"
        }, 
        {
            "source": "## Exercises\n\nPlease write script to generate the following four graphs.\n\nThere are six figures below, select any four of them, and use GraphViz/DOT to reproduce them:\n\n* As you can't specify the location of labels in DOT, you can use subgraph to put several element together;\n* It is almost certain that your generated graph will be different from what is shown here, however, as long as they have the same topological structure, the implementation is correct.\n\n", 
            "cell_type": "markdown", 
            "metadata": {}
        }, 
        {
            "source": "![Figure1](https://github.com/tuliplab/mds/raw/master/Jupyter/image/f1.png \"Figure 1\")", 
            "cell_type": "markdown", 
            "metadata": {}
        }, 
        {
            "execution_count": null, 
            "cell_type": "code", 
            "metadata": {}, 
            "outputs": [], 
            "source": ""
        }, 
        {
            "source": "![Figure 2](https://github.com/tuliplab/mds/raw/master/Jupyter/image/f2.png \"Figure 2\")", 
            "cell_type": "markdown", 
            "metadata": {}
        }, 
        {
            "execution_count": null, 
            "cell_type": "code", 
            "metadata": {}, 
            "outputs": [], 
            "source": ""
        }, 
        {
            "source": "![Figure 3](https://github.com/tuliplab/mds/raw/master/Jupyter/image/f3.png \"Figure 3\")", 
            "cell_type": "markdown", 
            "metadata": {}
        }, 
        {
            "execution_count": null, 
            "cell_type": "code", 
            "metadata": {}, 
            "outputs": [], 
            "source": ""
        }, 
        {
            "source": "![Figure 4](https://github.com/tuliplab/mds/raw/master/Jupyter/image/f4.png \"Figure 4\")", 
            "cell_type": "markdown", 
            "metadata": {}
        }, 
        {
            "execution_count": null, 
            "cell_type": "code", 
            "metadata": {}, 
            "outputs": [], 
            "source": ""
        }, 
        {
            "source": "![Figure 5](https://github.com/tuliplab/mds/raw/master/Jupyter/image/f5.png \"Figure 5\")", 
            "cell_type": "markdown", 
            "metadata": {}
        }, 
        {
            "execution_count": null, 
            "cell_type": "code", 
            "metadata": {}, 
            "outputs": [], 
            "source": ""
        }, 
        {
            "source": "![Figure 6](https://github.com/tuliplab/mds/raw/master/Jupyter/image/f6.png \"Figure 6\")", 
            "cell_type": "markdown", 
            "metadata": {}
        }
    ], 
    "metadata": {
        "kernelspec": {
            "display_name": "Python 3.5", 
            "name": "python3", 
            "language": "python"
        }, 
        "language_info": {
            "mimetype": "text/x-python", 
            "nbconvert_exporter": "python", 
            "version": "3.5.4", 
            "name": "python", 
            "file_extension": ".py", 
            "pygments_lexer": "ipython3", 
            "codemirror_mode": {
                "version": 3, 
                "name": "ipython"
            }
        }
    }, 
    "nbformat": 4
}