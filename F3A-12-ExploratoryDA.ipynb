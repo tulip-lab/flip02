{
    "metadata": {
        "language_info": {
            "name": "python", 
            "mimetype": "text/x-python", 
            "nbconvert_exporter": "python", 
            "pygments_lexer": "ipython3", 
            "codemirror_mode": {
                "name": "ipython", 
                "version": 3
            }, 
            "file_extension": ".py", 
            "version": "3.5.2"
        }, 
        "anaconda-cloud": {}, 
        "kernelspec": {
            "display_name": "Python 3.5 (Experimental) with Spark 2.1", 
            "name": "python3-spark21", 
            "language": "python"
        }
    }, 
    "nbformat": 4, 
    "cells": [
        {
            "metadata": {}, 
            "source": "# Modern Data Science \n**(Module 02: Data Visualization)**\n\n---\n- Materials in this module include resources collected from various open-source online repositories.\n- You are free to use, change and distribute this package.\n\nPrepared by and for \n**Student Members** |\n2006-2018 [TULIP Lab](http://www.tulip.org.au), Australia\n\n---\n\n\n# Session A - Exploratory Data Analysis\n\n\nThis practical session will show you how to use packages for data exploration.\n\n\n## Content\n\n### Part 1 Matplotlib Module\n\n\n### Part 2 Plotting a Histogram\n\n2.1 [Dataset](#ds)\n\n2.2 [Histogram](#hist)\n\n2.3 [Boxplot](#boxplot)\n\n\n### Part 3: Data Understanding\n\n1.1 [Pie Chart](#pie)\n\n1.2 [Bar Chart](#bar)\n\n1.3 [Word Cloud](#wordcloud)\n\n1.4 [Step Plot](#stepplot)\n\n1.5 [Histogram](#histogram)\n\n1.6 [Box Plot](#box)\n\n1.7 [Scatter Plot](#scatter)\n\n### Part 4: Exercise\n\n", 
            "cell_type": "markdown"
        }, 
        {
            "metadata": {}, 
            "source": "## <span style=\"color:#0b486b\">1. Matplotlib</span>\n", 
            "cell_type": "markdown"
        }, 
        {
            "metadata": {}, 
            "source": "matplotlib is a python plotting library which produces publication quality figures in a variety of hardcopy formats and interactive environments across platforms. You can generate plots, histograms, power spectra, bar charts, errorcharts, scatterplots, etc, with just a few lines of code. \n\nFor simple plotting the pyplot interface provides a MATLAB-like interface, particularly when combined with IPython. You have full control of line styles, font properties, axes properties, etc, via an object oriented interface or via a set of functions familiar to MATLAB users.", 
            "cell_type": "markdown"
        }, 
        {
            "metadata": {}, 
            "source": "### <span style=\"color:#0b486b\">1.1 Get started</span>\n", 
            "cell_type": "markdown"
        }, 
        {
            "metadata": {}, 
            "source": "To get started with `'matplotlib'` you can either execute:", 
            "cell_type": "markdown"
        }, 
        {
            "source": "from pylab import *", 
            "metadata": {}, 
            "execution_count": null, 
            "cell_type": "code", 
            "outputs": []
        }, 
        {
            "metadata": {}, 
            "source": "or", 
            "cell_type": "markdown"
        }, 
        {
            "source": "import matplotlib.pyplot", 
            "metadata": {}, 
            "execution_count": null, 
            "cell_type": "code", 
            "outputs": []
        }, 
        {
            "metadata": {}, 
            "source": "In fact it is a convention to import it under the name of `'plt'`:", 
            "cell_type": "markdown"
        }, 
        {
            "source": "import matplotlib.pyplot as plt", 
            "metadata": {}, 
            "execution_count": null, 
            "cell_type": "code", 
            "outputs": []
        }, 
        {
            "metadata": {}, 
            "source": "**note: The second method is preferred.**", 
            "cell_type": "markdown"
        }, 
        {
            "source": "import matplotlib.pyplot as plt\nimport numpy as np", 
            "metadata": {}, 
            "execution_count": null, 
            "cell_type": "code", 
            "outputs": []
        }, 
        {
            "metadata": {}, 
            "source": "Regardless of the method you use, it is better to configure matplotlib to embed figures in the notebook instead of opening them in a new window for each figure. To do this use the magic function:", 
            "cell_type": "markdown"
        }, 
        {
            "source": "%matplotlib inline", 
            "metadata": {}, 
            "execution_count": null, 
            "cell_type": "code", 
            "outputs": []
        }, 
        {
            "metadata": {}, 
            "source": "### <span style=\"color:#0b486b\">1.2 `plot`</span>\n", 
            "cell_type": "markdown"
        }, 
        {
            "metadata": {}, 
            "source": "By using `'subplots()'` you have access to both figure and axes objects. ", 
            "cell_type": "markdown"
        }, 
        {
            "source": "x = np.linspace(0, 10)\ny = np.sin(x)", 
            "metadata": {}, 
            "execution_count": null, 
            "cell_type": "code", 
            "outputs": []
        }, 
        {
            "source": "fig, ax = plt.subplots()\nax.plot(x, y)", 
            "metadata": {}, 
            "execution_count": null, 
            "cell_type": "code", 
            "outputs": []
        }, 
        {
            "metadata": {}, 
            "source": "### <span style=\"color:#0b486b\">1.3 title and labels</span>\n", 
            "cell_type": "markdown"
        }, 
        {
            "source": "ax.set_title('title here!')\nax.set_xlabel('x')\nax.set_ylabel('sin(x)')\nfig", 
            "metadata": {}, 
            "execution_count": null, 
            "cell_type": "code", 
            "outputs": []
        }, 
        {
            "metadata": {}, 
            "source": "You can also use $\\LaTeX$ in title or labels, or change the font size or font family.", 
            "cell_type": "markdown"
        }, 
        {
            "source": "x = np.linspace(-10, 10)\nfig, ax = plt.subplots(figsize=(8, 5), dpi=300)\nax.plot(x, x**3-x**2, 'bo', lw=3)\n\nax.set_title('$x^3-x^2$', fontsize=18)\nax.set_xlabel('$x$', fontsize=18)\nax.set_ylabel('$y$', fontsize=18)", 
            "metadata": {}, 
            "execution_count": null, 
            "cell_type": "code", 
            "outputs": []
        }, 
        {
            "metadata": {}, 
            "source": "### <span style=\"color:#0b486b\">1.4 Subplots</span>\n\nYou can pass the number of subplots to `'subplots()'`. In this case, `'axes'` will be an array that each of its elements associates with one of the subgraphs. You can set properties of each `'ax'` object separately like the cell below. \n\nObviously you caould use a loop to iterate over `'axes'`.", 
            "cell_type": "markdown"
        }, 
        {
            "source": "fig, axes = plt.subplots(nrows=1, ncols=2)\n\nx = np.linspace(0, 10)\n\naxes[0].plot(x, np.sin(x))\naxes[0].set_xlabel('x')\naxes[0].set_ylabel('sin(x)')\n\naxes[1].plot(x, np.cos(x))\naxes[1].set_xlabel('xx')\naxes[1].set_ylabel('cos(x)')", 
            "metadata": {}, 
            "execution_count": null, 
            "cell_type": "code", 
            "outputs": []
        }, 
        {
            "metadata": {}, 
            "source": "`'cos(x)'` label is overlapping with the `'sin'` graph. You can adjust the size of the graph or space between the subplots to fix it.", 
            "cell_type": "markdown"
        }, 
        {
            "source": "fig, axes = plt.subplots(nrows=1, ncols=2, figsize=(10, 5))\nfig.subplots_adjust(wspace=0.4)\nx = np.linspace(0, 10)\n\naxes[0].plot(x, np.sin(x))\naxes[0].set_xlabel('x')\naxes[0].set_ylabel('sin(x)')\n\naxes[1].plot(x, np.cos(x))\naxes[1].set_xlabel('xx')\naxes[1].set_ylabel('cos(x)')", 
            "metadata": {}, 
            "execution_count": null, 
            "cell_type": "code", 
            "outputs": []
        }, 
        {
            "metadata": {}, 
            "source": "### <span style=\"color:#0b486b\">1.5 Legend</span>\n", 
            "cell_type": "markdown"
        }, 
        {
            "source": "x = np.linspace(0, 10)\nfig, ax = plt.subplots(figsize=(7, 5))\nax.plot(x, np.sin(x), label='$sin(x)$')\nax.plot(x, np.cos(x), label='$cos(x)$')\n# ax.legend(fontsize=16, loc=3)\n", 
            "metadata": {}, 
            "execution_count": null, 
            "cell_type": "code", 
            "outputs": []
        }, 
        {
            "metadata": {}, 
            "source": "### <span style=\"color:#0b486b\">1.6 Customizing ticks</span>\n", 
            "cell_type": "markdown"
        }, 
        {
            "metadata": {}, 
            "source": "In many cases you want to customize the ticks and their labels on x or y axis. First draw a simple graph and look at the ticks on x-axis. ", 
            "cell_type": "markdown"
        }, 
        {
            "source": "x = np.linspace(0, 10, num=100)\n\nfig, ax = plt.subplots(figsize=(10, 5))\nax.plot(x, np.sin(x), x, np.cos(x), lw=2)", 
            "metadata": {}, 
            "execution_count": null, 
            "cell_type": "code", 
            "outputs": []
        }, 
        {
            "metadata": {}, 
            "source": "You can change the ticks easily with passing a list (or array) to `'set_xticks()'` or `'set_yticks()'`:", 
            "cell_type": "markdown"
        }, 
        {
            "source": "xticks = [0, 1, 2, 5, 8, 8.5, 10]\nax.set_xticks(xticks)\nfig", 
            "metadata": {}, 
            "execution_count": null, 
            "cell_type": "code", 
            "outputs": []
        }, 
        {
            "source": "Or even you can change the labels:", 
            "metadata": {}, 
            "execution_count": null, 
            "cell_type": "code", 
            "outputs": []
        }, 
        {
            "source": "xticklabels = ['$\\gamma$', '$\\delta$', 'apple', 'b', '', 'c'] \nax.set_xticklabels(xticklabels, fontsize=18)\nfig", 
            "metadata": {}, 
            "execution_count": null, 
            "cell_type": "code", 
            "outputs": []
        }, 
        {
            "metadata": {}, 
            "source": "### <span style=\"color:#0b486b\">1.7 Saving figures</span>\n", 
            "cell_type": "markdown"
        }, 
        {
            "source": "x = np.linspace(0, 10)\nfig, ax = plt.subplots(figsize=(7, 5))\nax.plot(x, np.sin(x), label='$sin(x)$')\nax.plot(x, np.cos(x), label='$cos(x)$')\nax.legend(fontsize=16, loc=3)\nfig.savefig('P03Saved.pdf', format='PDF', dpi=300)", 
            "metadata": {}, 
            "execution_count": null, 
            "cell_type": "code", 
            "outputs": []
        }, 
        {
            "metadata": {}, 
            "source": "### <span style=\"color:#0b486b\">1.8 Other plot styles</span>\n\nThere are many other plot types in addition to simple `'plot'` supported by `'matplotlib'`. You will find a complete list of them on [matplotlib gallery](http://matplotlib.org/gallery.html).", 
            "cell_type": "markdown"
        }, 
        {
            "metadata": {}, 
            "source": "#### <span style=\"color:#0b486b\">1.8.1 Scatter plot</span>\n\n", 
            "cell_type": "markdown"
        }, 
        {
            "source": "fig, ax = plt.subplots()\n\nx = np.linspace(-0.75, 1., 100)\nax.scatter(x, np.random.randn(x.shape[0]), \n                   s = 250*np.abs(np.random.randn(x.shape[0])), \n                   alpha=0.4,\n                   edgecolor='none')\nax.set_title('scatter')", 
            "metadata": {}, 
            "execution_count": null, 
            "cell_type": "code", 
            "outputs": []
        }, 
        {
            "metadata": {}, 
            "source": "#### <span style=\"color:#0b486b\">1.8.2 Bar plot</span>\n", 
            "cell_type": "markdown"
        }, 
        {
            "source": "fig, ax = plt.subplots()\n\nx = np.arange(1, 6)\nax.bar(x, x**2, align=\"center\")\nax.set_title('bar')", 
            "metadata": {}, 
            "execution_count": null, 
            "cell_type": "code", 
            "outputs": []
        }, 
        {
            "metadata": {}, 
            "source": "---\n## <span style=\"color:#0b486b\">2. Plotting a histogram</span>\n", 
            "cell_type": "markdown"
        }, 
        {
            "metadata": {}, 
            "source": "<a id = \"ds\"></a>\n\n\n### <span style=\"color:#0b486b\">2.1 Dataset</span>\n", 
            "cell_type": "markdown"
        }, 
        {
            "metadata": {}, 
            "source": "You are provided with a dataset of percentage of body fat and 10 simple body measurements recoreded for 252 men (courtesy of Journal of Statistics Education - JSE). You can read about this and other [JSE datasets here](http://www.amstat.org/publications/jse/jse_data_archive.htm).\n\nFirst load the data set into an array:", 
            "cell_type": "markdown"
        }, 
        {
            "source": "import numpy as np", 
            "metadata": {}, 
            "execution_count": null, 
            "cell_type": "code", 
            "outputs": []
        }, 
        {
            "source": "import wget\n\nlink_to_data = 'https://github.com/tuliplab/mds/raw/master/Jupyter/data/fat.dat.txt'\nDataSet = wget.download(link_to_data)", 
            "metadata": {}, 
            "execution_count": null, 
            "cell_type": "code", 
            "outputs": []
        }, 
        {
            "source": "data = np.genfromtxt(\"fat.dat.txt\")\ndata.shape", 
            "metadata": {}, 
            "execution_count": null, 
            "cell_type": "code", 
            "outputs": []
        }, 
        {
            "metadata": {}, 
            "source": "Based on the [dataset description](http://www.amstat.org/publications/jse/datasets/fat.txt), 5th column represents the weight in lbs. Index the weight column and call it `'weights'`:", 
            "cell_type": "markdown"
        }, 
        {
            "source": "weights = data[:, 5]\nweights", 
            "metadata": {}, 
            "execution_count": null, 
            "cell_type": "code", 
            "outputs": []
        }, 
        {
            "metadata": {}, 
            "source": "Use array operators to convert the weigts into kg. 1 lb equals to 0.453592 kg.", 
            "cell_type": "markdown"
        }, 
        {
            "source": "a = 3\na = a + 4\na += 4", 
            "metadata": {}, 
            "execution_count": null, 
            "cell_type": "code", 
            "outputs": []
        }, 
        {
            "source": "weights *= 0.453592\nweights = weights.round(2)\nweights", 
            "metadata": {}, 
            "execution_count": null, 
            "cell_type": "code", 
            "outputs": []
        }, 
        {
            "metadata": {}, 
            "source": "<a id = \"hist\"></a>\n\n### <span style=\"color:#0b486b\">2.2 Histogram</span>\n", 
            "cell_type": "markdown"
        }, 
        {
            "metadata": {}, 
            "source": "A histogtram is a bar plot that shows you the statistical distribution of the data over a variable. The bars represent the frequency of occurenve by classess of data. We use the package `'matplotlib'` and the function `'hist()'` for plotting the histogram. To learn more about `'matplotlib'` make sure you have read tutorial.\n\nThe first line of the cell below if for showing the figure in the notebook and not opening it in a separate window.", 
            "cell_type": "markdown"
        }, 
        {
            "source": "%matplotlib inline\nimport matplotlib.pyplot as plt", 
            "metadata": {}, 
            "execution_count": null, 
            "cell_type": "code", 
            "outputs": []
        }, 
        {
            "source": "fig, ax = plt.subplots()\nax.hist(weights)", 
            "metadata": {}, 
            "execution_count": null, 
            "cell_type": "code", 
            "outputs": []
        }, 
        {
            "metadata": {}, 
            "source": "The `'hist()'` functions automatically group the data over 10 bins. Usually you need to tweek the number of bins to obtain a more expressive histogram.", 
            "cell_type": "markdown"
        }, 
        {
            "source": "fig, ax = plt.subplots(figsize=(7, 5))\nax.hist(weights, bins=20)\n# title\n# label", 
            "metadata": {}, 
            "execution_count": null, 
            "cell_type": "code", 
            "outputs": []
        }, 
        {
            "metadata": {}, 
            "source": "<a id = \"boxplot\"></a>\n\n### <span style=\"color:#0b486b\">2.3 Boxplot</span>\n\nA `Boxplot` is a convenient way to graphically display numerical data. ", 
            "cell_type": "markdown"
        }, 
        {
            "source": "import matplotlib\nfig, ax = matplotlib.pyplot.subplots(figsize=(7, 5))\nmatplotlib.rcParams.update({'font.size': 14})\nax.boxplot(weights, 0, labels=['group1'])\nax.set_ylabel('weight (kg)', fontsize=16)\nax.set_title('Weights BoxPlot', fontsize=16)", 
            "metadata": {}, 
            "execution_count": null, 
            "cell_type": "code", 
            "outputs": []
        }, 
        {
            "metadata": {}, 
            "source": "You have already been thought about different sorts of plots, how they help to get a better understanding of the data, and when to use which. In this practical session we will work with `matplotlib` package to learn more about plotting in Python.", 
            "cell_type": "markdown"
        }, 
        {
            "metadata": {}, 
            "source": "---\n\n## 3. Data Understanding \n\n\nYou have already been thought about different sorts of plots, how they help to get a better understanding of the data, and when to use which. In this practical session we will work with `matplotlib` package to learn more about plotting in Python.", 
            "cell_type": "markdown"
        }, 
        {
            "source": "import numpy as np\nimport csv\n\nimport matplotlib.pyplot as plt\n%matplotlib inline", 
            "metadata": {}, 
            "execution_count": null, 
            "cell_type": "code", 
            "outputs": []
        }, 
        {
            "metadata": {}, 
            "source": "<a id = \"pie\"></a>\n\n### <span style=\"color:#0b486b\">3.1 Pie Chart</span>\n\nSuppose you have the frequency count of a variable (e.g. hair_colour). Draw a pie chart to explain it.", 
            "cell_type": "markdown"
        }, 
        {
            "source": "labels = 'Black', 'Red', 'Brown'\n\n# frequency count\nhair_colour_freq = [5, 3, 2]  # Black, Red, Brown\n\n# colors\ncolors = ['yellowgreen', 'gold', 'lightskyblue']\n\n# explode the third one\nexplode = (0, 0, 0.1)\n\nfig, ax = plt.subplots(figsize=(5, 5))\nax.pie(hair_colour_freq, labels=labels, explode=explode, colors=colors, \n       autopct='%1.1f', shadow=True, startangle=90);", 
            "metadata": {}, 
            "execution_count": null, 
            "cell_type": "code", 
            "outputs": []
        }, 
        {
            "metadata": {}, 
            "source": "What if we have too many tags and sectors?", 
            "cell_type": "markdown"
        }, 
        {
            "source": "# Excellence in Reasearch Australia\nlabels = ['HEALTH', 'ENGINEERING', 'COMPUTER SCIENCES', 'HUMAN SOCIETY', \n          'TOURISM SERVICES', 'EDUCATION', 'CHEMISTRY', 'BIOLOGY', 'PSYCHOLOGY', \n          'CREATIVE ARTS', 'LINGUISTICS', 'BUILT ENVIRONMENT', 'HISTORY', \n          'ECONOMICS', 'PHILOSOPHY', 'AGRICULTURE', 'ENVIRONMENT', 'TECHNOLOGY', \n          'LAW', 'MATHS', 'EARTH SCIENCES', 'PHYSICS']\n\n\n# frequency count\nxx = [2625.179999, 1306.259999, 1187.039999, 1166.04, 980.8599997, 810.5999998,\n      725.6399996, 678.7899998, 436.5999997, 404.3299999, 348.01, 304.33, 294.19, \n      293.02, 282.31, 228.21, 197.3399999, 164.0599998, 157, 50.49999998, 49.60999999, 48.08000005]\n\nfig, ax = plt.subplots(figsize=(10, 10))\nax.pie(xx, labels=labels, autopct=\"%1.1f\");", 
            "metadata": {}, 
            "execution_count": null, 
            "cell_type": "code", 
            "outputs": []
        }, 
        {
            "metadata": {}, 
            "source": "<a id = \"bar\"></a>\n\n### <span style=\"color:#0b486b\">3.2 Bar Chart</span>\n\nUse the hair colour data to draw a bar chart.", 
            "cell_type": "markdown"
        }, 
        {
            "source": "labels = ['Black', 'Red', 'Brown']\nhair_colour_freq = [5, 3, 2]\n\nfig, ax = plt.subplots(figsize=(7, 5), dpi=300)\n\nx_pos = np.arange(len(hair_colour_freq))\ncolors = ['black', 'red', 'brown']\n\nax.bar(x_pos, hair_colour_freq, align='center', color=colors)\n\nax.set_xlabel(\"Hair Colour\")\nax.set_ylabel(\"Number of participants\")\nax.set_title(\"Hair Colour Distribution\")\n\nax.set_xticks(x_pos)\nax.set_xticklabels(labels)", 
            "metadata": {}, 
            "execution_count": null, 
            "cell_type": "code", 
            "outputs": []
        }, 
        {
            "metadata": {}, 
            "source": "Now suppose we have the hair colour distribution across genders, so we can plot grouped bar charts. Plot a grouped bar chart to show the distribution of colours acros genders.", 
            "cell_type": "markdown"
        }, 
        {
            "source": "\"\"\"\n        black  red  brown\nMale      4     1     3\nFemale    1     2     2\n\n\"\"\"\n\ndata = np.array([[4, 1, 3], \n                 [1, 2, 3]])\n\nx_pos = np.arange(2)\nwidth = 0.2\nfig, ax = plt.subplots(figsize=(7, 5), dpi=300)\nax.bar(x_pos, data[:, 0], width=width, color='black', label='Black', align='center')\nax.bar(x_pos+width, data[:, 1], width=width, color='red', label='Red', align='center')\nax.bar(x_pos+2*width, data[:, 2], width=width, color='brown', label='Brown', align='center')\n\nax.legend()\n\nax.set_xlabel(\"Gender\")\nax.set_ylabel(\"Frequency\")\nax.set_title(\"Distribution of hair colour amongst genders\")\n\nax.set_xticks(x_pos+width)\nax.set_xticklabels(['Male', 'Female'])", 
            "metadata": {}, 
            "execution_count": null, 
            "cell_type": "code", 
            "outputs": []
        }, 
        {
            "metadata": {}, 
            "source": "Can we plot it more intelligently? We are doing the same thing multiple times! Is it a good idea to use a loop?", 
            "cell_type": "markdown"
        }, 
        {
            "source": "\"\"\"\n        black  red  brown\nMale      4     1     3\nFemale    1     2     2\n\n\"\"\"\n\ndata = np.array([[4, 1, 3], \n                 [1, 2, 3]])\n\nn_groups, n_colours = data.shape\n\nx_pos = np.arange(n_groups)\nwidth = 0.2\nfig, ax = plt.subplots(figsize=(7, 5), dpi=300)\n\ncolours = ['black', 'red', 'brown']\nlabels = ['Black', 'Red', 'Brown']\nfor i in range(n_colours):\n    ax.bar(x_pos + i*width, data[:, i], width=width, color=colours[i], label=labels[i], align='center')\n    \nax.legend()\n\nax.set_xlabel(\"Gender\")\nax.set_ylabel(\"Frequency\")\nax.set_title(\"Distribution of hair colour amongst genders\")\n\nax.set_xticks(x_pos+width)\nax.set_xticklabels(['Male', 'Female'])", 
            "metadata": {}, 
            "execution_count": null, 
            "cell_type": "code", 
            "outputs": []
        }, 
        {
            "metadata": {}, 
            "source": "What if we want to group the bar charts based on the hair colour?", 
            "cell_type": "markdown"
        }, 
        {
            "source": "\"\"\"\n        black  red  brown\nMale      4     1     3\nFemale    1     2     2\n\n\"\"\"\n\nlabels = ['Male', 'Female']\ncolours = ['r', 'y']\ndata = np.array([[4, 1, 3], \n                 [1, 2, 3]])\n\nn_groups, n_colours = data.shape\nwidth = 0.2\nx_pos = np.arange(n_colours)\n\nfig, ax = plt.subplots(figsize=(7, 5), dpi=300)\nfor i in range(n_groups):\n    ax.bar(x_pos + i*width, data[i, :], width, align='center', label=labels[i], color=colours[i])\nax.set_xlabel(\"Hair Colour\")\nax.set_ylabel(\"Frequency\")\nax.set_title(\"Distribution of gender amongst hair colours\")\n\nax.set_xticks(x_pos+width/2)\nax.set_xticklabels(labels)\n\nax.legend()", 
            "metadata": {}, 
            "execution_count": null, 
            "cell_type": "code", 
            "outputs": []
        }, 
        {
            "metadata": {}, 
            "source": "#### Stacked bar chart\n\nThe other type of bar chart is stacked bar chart. draw a stacked bar plot of the hair colour data grouped on hair colours.", 
            "cell_type": "markdown"
        }, 
        {
            "source": "\"\"\"\n        black  red  brown\nMale      4     1     3\nFemale    1     2     2\n\n\"\"\"\n\nlabels = ['Black', 'Red', 'Brown']\ndata = np.array([[4, 1, 3], \n                 [1, 2, 3]])\n\nmale_freq = data[0,:]\n\nwidth = 0.4\nx_pos = np.arange(n_colours)\n\nfig, ax = plt.subplots(figsize=(7, 5), dpi=300)\nax.bar(x_pos, data[0, :], width, align='center', label='Male', color='r')\nax.bar(x_pos, data[1, :], width, bottom=male_freq, align='center', label='Female', color='y')\n\nax.set_xlabel(\"Hair Colour\")\nax.set_ylabel(\"Frequency\")\nax.set_title(\"Distribution of gender amongst hair colours\")\n\nax.set_xticks(x_pos)\nax.set_xticklabels(labels)\n\nax.legend(loc=0)", 
            "metadata": {}, 
            "execution_count": null, 
            "cell_type": "code", 
            "outputs": []
        }, 
        {
            "metadata": {}, 
            "source": "draw a stacked bar plot grouped on the gender.", 
            "cell_type": "markdown"
        }, 
        {
            "source": "\"\"\"\n        black  red  brown\nMale      4     1     3\nFemale    1     2     2\n\n\"\"\"\n\nlabels = ['Black', 'Red', 'Brown']\ndata = np.array([[4, 1, 3], \n                 [1, 2, 3]])\n\nblack = data[:,0]\nred = data[:,1]\nbrown = data[:,2]\n\n\nx_pos = np.arange(2)\nwidth = 0.4\nfig, ax = plt.subplots(figsize=(7, 5), dpi=300)\nax.bar(x_pos, data[:, 0], width=width, color='black', label='Black', align='center')\nax.bar(x_pos, data[:, 1], width=width, bottom=black, color='red', label='Red', align='center')\nax.bar(x_pos, data[:, 2], width=width, color='brown', bottom=black+red, label='Brown', align='center')\n\nax.legend(loc=0)\n\nax.set_xlabel(\"Gender\")\nax.set_ylabel(\"Frequency\")\nax.set_title(\"Distribution of hair colour amongst genders\")\n\nax.set_xticks(x_pos)\nax.set_xticklabels(['Male', 'Female'])", 
            "metadata": {}, 
            "execution_count": null, 
            "cell_type": "code", 
            "outputs": []
        }, 
        {
            "source": "labels = ['Black', 'Red', 'Brown']\nmale_freq = [4, 1, 3]\nfemale_freq = [1, 2, 2]\n\nx_pos = np.arange(3)\n\nfig, ax = plt.subplots(nrows=1, ncols=2, figsize=(14, 5), dpi=300)\n\nw1 = 0.2\nw2 = 0.4\n\nax[0].bar(x_pos, male_freq, width=w1, align='center', label='Male', color='r')\nax[0].bar(x_pos+width, female_freq, width=w1, align='center', label='Female', color='y')\nax[1].bar(x_pos, male_freq, width=w2, align='center', label='Male', color='r')\nax[1].bar(x_pos, female_freq, width=w2, bottom=male_freq, align='center', label='Female', color='y')\n\n\nax[0].set_xlabel(\"Hair Colour\")\nax[0].set_ylabel(\"Frequency\")\nax[0].set_title(\"Distribution of gender amongst hair colours\")\nax[1].set_xlabel(\"Hair Colour\")\nax[1].set_ylabel(\"Frequency\")\nax[1].set_title(\"Distribution of gender amongst hair colours\")\n\nax[0].set_xticks(x_pos+width/2)\nax[0].set_xticklabels(labels)\nax[1].set_xticks(x_pos)\nax[1].set_xticklabels(labels)\n\nax[0].legend()\nax[1].legend(loc=0)", 
            "metadata": {}, 
            "execution_count": null, 
            "cell_type": "code", 
            "outputs": []
        }, 
        {
            "metadata": {}, 
            "source": "What if we have too many groups? Draw a bar chart for the Excellence in Research Australia data. ", 
            "cell_type": "markdown"
        }, 
        {
            "source": "import matplotlib.pyplot as plt\nimport numpy as np\n\n# Excellence in Research Australia\nlabels = ['HEALTH', 'ENGINEERING', 'COMPUTER SCIENCES', 'HUMAN SOCIETY', \n          'TOURISM SERVICES', 'EDUCATION', 'CHEMISTRY', 'BIOLOGY', 'PSYCHOLOGY', \n          'CREATIVE ARTS', 'LINGUISTICS', 'BUILT ENVIRONMENT', 'HISTORY', \n          'ECONOMICS', 'PHILOSOPHY', 'AGRICULTURE', 'ENVIRONMENT', 'TECHNOLOGY', \n          'LAW', 'MATHS', 'EARTH SCIENCES', 'PHYSICS']\n\n\n# frequency count\nxx = [2625.179999, 1306.259999, 1187.039999, 1166.04, 980.8599997, 810.5999998,\n      725.6399996, 678.7899998, 436.5999997, 404.3299999, 348.01, 304.33, 294.19, \n      293.02, 282.31, 228.21, 197.3399999, 164.0599998, 157, 50.49999998, 49.60999999, 48.08000005]\n\nxx_pos = np.arange(len(xx))\n\nfig, ax = plt.subplots(figsize=(15, 5))\nax.bar(xx_pos, xx, align='center')\nax.set_xlabel(\"research subject\")\nax.set_ylabel(\"score\")\nax.set_xticks(xx_pos)\nax.set_xticklabels(labels, rotation=90)\nax.set_xlim(-1, len(xx))", 
            "metadata": {}, 
            "execution_count": null, 
            "cell_type": "code", 
            "outputs": []
        }, 
        {
            "metadata": {}, 
            "source": "<a id = \"wordcloud\"></a>\n\n### <span style=\"color:#0b486b\">3.3 Wordcloud</span>\n\nAs you saw, pie-chart is not very helpful when we have too many sectors. It is hard to read and visually ugly. Instead we can use wordcloud representation. A useful tool is [wordle.net](http://wordle.net). Go to [wordle.net](http://wordle.net) and use it to create a wordcloud for the previous data.", 
            "cell_type": "markdown"
        }, 
        {
            "source": "for i in range(len(labels)):\n    print(\"{}:{}\".format(labels[i], xx[i]))", 
            "metadata": {}, 
            "execution_count": null, 
            "cell_type": "code", 
            "outputs": []
        }, 
        {
            "source": "!pip install wordcloud", 
            "metadata": {}, 
            "execution_count": null, 
            "cell_type": "code", 
            "outputs": []
        }, 
        {
            "source": "import wget\n\nlink_to_data = 'https://github.com/benbrandt/cs50/raw/master/pset5/keys/constitution.txt'\nDataSet = wget.download(link_to_data)", 
            "metadata": {}, 
            "execution_count": null, 
            "cell_type": "code", 
            "outputs": []
        }, 
        {
            "source": "from os import path\nfrom wordcloud import WordCloud\n\n# Read the whole text.\ntext = open('constitution.txt').read()\n\n# Generate a word cloud image\nwordcloud = WordCloud().generate(text)\n\n# Display the generated image:\n# the matplotlib way:\nimport matplotlib.pyplot as plt\nplt.imshow(wordcloud, interpolation='bilinear')\nplt.axis(\"off\")\n\n# lower max_font_size\nwordcloud = WordCloud(max_font_size=40).generate(text)\nplt.figure()\nplt.imshow(wordcloud, interpolation=\"bilinear\")\nplt.axis(\"off\")\nplt.show()\n\n# The pil way (if you don't have matplotlib)\n# image = wordcloud.to_image()\n# image.show()", 
            "metadata": {}, 
            "execution_count": null, 
            "cell_type": "code", 
            "outputs": []
        }, 
        {
            "metadata": {}, 
            "source": "<a id = \"stepplot\"></a>\n\n### <span style=\"color:#0b486b\">3.4 Step plot</span>\n\nDraw a step plot for the seatbelt data.", 
            "cell_type": "markdown"
        }, 
        {
            "source": "freq = np.array([0, 2, 1, 5, 7])\nlabels = ['Never', 'Rarely', 'Sometimes', 'Most-times', 'Always']\nfreq_cumsum = np.cumsum(freq)\nx_pos = np.arange(len(freq))\n\nfig, ax = plt.subplots()\nax.step(x_pos, freq_cumsum, where='mid')\nax.set_xlabel(\"Fastening seatbelt behaviour\")\nax.set_ylabel(\"Cumulative frequency\")\nax.set_xticks(x_pos)\nax.set_xticklabels(labels)", 
            "metadata": {}, 
            "execution_count": null, 
            "cell_type": "code", 
            "outputs": []
        }, 
        {
            "metadata": {}, 
            "source": "<a id = \"histogram\"></a>\n\n### <span style=\"color:#0b486b\">3.5 Histogram</span>\n\nGoogle for this paper:\n\n``Johnson, Roger W. \"Fitting percentage of body fat to simple body measurements.\" Journal of Statistics Education 4.1 (1996): 265-266.``\n\nDownload the dataset and read the dataset description. Draw a histogram of male weights and female weights.", 
            "cell_type": "markdown"
        }, 
        {
            "source": "import wget\n\nlink_to_data = 'https://ww2.amstat.org/publications/jse/datasets/body.dat.txt'\nDataSet = wget.download(link_to_data)", 
            "metadata": {}, 
            "execution_count": null, 
            "cell_type": "code", 
            "outputs": []
        }, 
        {
            "source": "data = np.genfromtxt('body.dat.txt')\nm_w = data[data[:, -1] == 1][:, -3]\nf_w = data[data[:, -1] == 0][:, -3]\n\nfig, ax = plt.subplots(figsize=(7, 5), dpi=300)\nax.hist(m_w, bins=15, alpha=0.6, label='male')\nax.hist(f_w, bins=15, alpha=0.6, label='female')\nax.set_xlabel(\"weight (kg)\")\nax.set_title(\"weight distribution amongst gXenders\")\nax.legend()", 
            "metadata": {}, 
            "execution_count": null, 
            "cell_type": "code", 
            "outputs": []
        }, 
        {
            "metadata": {}, 
            "source": "<a id = \"box\"></a>\n\n### <span style=\"color:#0b486b\">3.6 Boxplot</span>\nDraw a box plot for male and female weights of the previous dataset.", 
            "cell_type": "markdown"
        }, 
        {
            "source": "fig, ax = plt.subplots(figsize=(7, 5), dpi=300)\nax.boxplot([m_w, f_w], labels=['male', 'female'])\nax.set_title(\"weight distribution amongst genders\")", 
            "metadata": {}, 
            "execution_count": null, 
            "cell_type": "code", 
            "outputs": []
        }, 
        {
            "metadata": {}, 
            "source": "<a id = \"scatter\"></a>\n\n### <span style=\"color:#0b486b\">3.7 Scatter plot</span>\n\nDraw a scatter plot of the car weights and their fuel consumption as displayed in the lecture.", 
            "cell_type": "markdown"
        }, 
        {
            "source": "import wget\n\nlink_to_data = 'https://github.com/tuliplab/mds/raw/master/Jupyter/data/Auto.csv'\nDataSet = wget.download(link_to_data)", 
            "metadata": {}, 
            "execution_count": null, 
            "cell_type": "code", 
            "outputs": []
        }, 
        {
            "source": "datafile = 'Auto.csv'\ndata = np.genfromtxt(datafile, delimiter=',')\ndata = []\nwith open(datafile, 'r') as fp:\n    reader = csv.reader(fp, delimiter=',')\n    for row in reader:\n        data.append(row)\nmiles = [dd[1] for dd in data[1:]]\nweights = [dd[5] for dd in data[1:]]", 
            "metadata": {}, 
            "execution_count": null, 
            "cell_type": "code", 
            "outputs": []
        }, 
        {
            "source": "fig, ax = plt.subplots(figsize=(7, 5), dpi=300)\nax.scatter(weights,miles, alpha=0.6, edgecolor='none', s=200)\nax.set_xlabel('Car Weight (tons)')\nax.set_ylabel('Miles Per Gallon')", 
            "metadata": {}, 
            "execution_count": null, 
            "cell_type": "code", 
            "outputs": []
        }, 
        {
            "metadata": {}, 
            "source": "Can I also show the number of cylinders on this graph? In other words use the scatter plot to show three variable?", 
            "cell_type": "markdown"
        }, 
        {
            "source": "cylinder = 75 * np.array([int(dd[2]) for dd in data[1:]])", 
            "metadata": {}, 
            "execution_count": null, 
            "cell_type": "code", 
            "outputs": []
        }, 
        {
            "source": "fig, ax = plt.subplots(figsize=(7, 5), dpi=300)\nax.scatter(weights,miles, alpha=0.6, edgecolor='none', s=cylinder)\nax.set_xlabel('Car Weight (tons)')\nax.set_ylabel('Miles Per Gallon')", 
            "metadata": {}, 
            "execution_count": null, 
            "cell_type": "code", 
            "outputs": []
        }, 
        {
            "metadata": {}, 
            "source": "---\n## 4. Mini Exercise\n\n\nIn 1970, US Congress instituted a random selection process for the military draft. All 366 possible birth dates were placed in plastic capsules in a rotating drum and were selected one by one. The first date drawn from the drum received draft number one and eligible men born on that date were drafted first. The data is provided in a text file with a structure like:\n\n```\nDay    Month    MO.NUMBER    DAY_OF_YEAR    DRAFT_NO.\n1      JAN      1            1              305\n2      JAN      1            2              159\n.\n31     JAN      1            31             221\n1      FEB      2            32             86\n.\n31     Dec      12           366            100\n```\n", 
            "cell_type": "markdown"
        }, 
        {
            "metadata": {}, 
            "source": "Using what you have learnt by now, can you tell if it was a fair lottary or not?", 
            "cell_type": "markdown"
        }, 
        {
            "metadata": {}, 
            "source": "Read the data file and save the values in a 2D array.", 
            "cell_type": "markdown"
        }, 
        {
            "source": "import wget\n\nlink_to_data = 'https://github.com/tuliplab/mds/raw/master/Jupyter/data/DraftLottery.txt'\nDataSet = wget.download(link_to_data)", 
            "metadata": {}, 
            "execution_count": null, 
            "cell_type": "code", 
            "outputs": []
        }, 
        {
            "source": "data = []\nwith open('DraftLottery.txt', 'r') as fp:\n    reader = csv.reader(fp, delimiter='\\t')\n    for row in reader:\n        data.append(row)\n        \nbirthdays = np.array([int(row[3]) for row in data[1:]])\ndraft_no = np.array([int(row[4]) for row in data[1:]])\nmonths = np.array([int(row[2]) for row in data[1:]])", 
            "metadata": {}, 
            "execution_count": null, 
            "cell_type": "code", 
            "outputs": []
        }, 
        {
            "metadata": {}, 
            "source": "Plot a `'scatter plot'` of the draft priority vs birthdays.", 
            "cell_type": "markdown"
        }, 
        {
            "source": "fig, ax = plt.subplots(figsize=(10, 7), dpi=300)\nax.scatter(birthdays, draft_no, alpha=0.7, s = 150, edgecolor='none')\nax.set_xlabel(\"Birthday (day of the year)\", fontsize=12)\nax.set_ylabel(\"Draft priority value\", fontsize=12)\nax.set_title(\"USA Draft Lottery Data\", fontsize=14)", 
            "metadata": {}, 
            "execution_count": null, 
            "cell_type": "code", 
            "outputs": []
        }, 
        {
            "metadata": {}, 
            "source": "In a truly random lottery there should be no relationship between the date and the draft number. To investigate this further we draw boxplots by months and compare them together.", 
            "cell_type": "markdown"
        }, 
        {
            "source": "fig, ax = plt.subplots(figsize=(10, 7), dpi=300)\nmonths_range = range(1, 13)\n\n# boxplot data\nboxplot_data = [draft_no[months == mm] for mm in months_range]\nax.boxplot(boxplot_data)\n\n# medians\nmedians = [np.median(dd) for dd in boxplot_data]\nax.plot(months_range, medians, \"g--\", lw=2)\n\n# means\nmeans = [dd.mean() for dd in boxplot_data]\nax.plot(months_range, means, \"k--\", lw=2)\n\nmonth_labels = [\"Jan\", \"Feb\", \"Mar\", \"Apr\", \"May\", \"Jun\",\n                \"Jul\", \"Aug\", \"Sep\", \"Oct\", \"Nov\", \"Dec\"]\nax.set_xlabel(\"Month\", fontsize=12)\nax.set_xticklabels(month_labels)\nax.set_ylabel(\"Draft priority value\", fontsize=12)\nax.set_title(\"USA Draft Lottery Data\", fontsize=14)", 
            "metadata": {}, 
            "execution_count": null, 
            "cell_type": "code", 
            "outputs": []
        }, 
        {
            "metadata": {}, 
            "source": "While it is impossible to view this trend in a scatterplot of draft number vs. birth date, a series of side-by-side boxplots by month illustrate it clearly. A further investigation of the lottery revealed that the birthdates were placed in the drum by month and were not thoroughly mixed.", 
            "cell_type": "markdown"
        }
    ], 
    "nbformat_minor": 1
}