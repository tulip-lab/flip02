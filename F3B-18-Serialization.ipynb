{
    "nbformat_minor": 2, 
    "cells": [
        {
            "source": "# \u5e8f\u5217\u5316 --- \u8bfb\u5199\u6a21\u578b\n\n\u6211\u4eec\u73b0\u5728\u5df2\u7ecf\u8bb2\u4e86\u5f88\u591a\uff0c\u5305\u62ec\n\n- \u5982\u4f55\u5904\u7406\u6570\u636e\n- \u5982\u4f55\u6784\u5efa\u6a21\u578b\n- \u5982\u4f55\u5728\u6570\u636e\u4e0a\u8bad\u7ec3\u6a21\u578b\n- \u5982\u4f55\u4f7f\u7528\u4e0d\u540c\u7684\u635f\u5931\u51fd\u6570\u6765\u505a\u5206\u7c7b\u548c\u56de\u5f52\n\n\u4f46\u5373\u4f7f\u77e5\u9053\u4e86\u6240\u6709\u8fd9\u4e9b\uff0c\u6211\u4eec\u8fd8\u6ca1\u6709\u5b8c\u5168\u51c6\u5907\u597d\u6765\u6784\u5efa\u4e00\u4e2a\u771f\u6b63\u7684\u673a\u5668\u5b66\u4e60\u7cfb\u7edf\u3002\u8fd9\u662f\u56e0\u4e3a\u6211\u4eec\u8fd8\u6ca1\u6709\u8bb2\u5982\u4f55\u8bfb\u548c\u5199\u6a21\u578b\u3002\u56e0\u4e3a\u73b0\u5b9e\u4e2d\uff0c\u6211\u4eec\u901a\u5e38\u5728\u4e00\u4e2a\u5730\u65b9\u8bad\u7ec3\u597d\u6a21\u578b\uff0c\u7136\u540e\u90e8\u7f72\u5230\u5f88\u591a\u4e0d\u540c\u7684\u5730\u65b9\u3002\u6211\u4eec\u9700\u8981\u628a\u5185\u5b58\u4e2d\u7684\u8bad\u7ec3\u597d\u7684\u6a21\u578b\u5b58\u5728\u786c\u76d8\u4e0a\u597d\u4e0b\u6b21\u4f7f\u7528\u3002\n\n## \u8bfb\u5199NDArrays\n\n\u4f5c\u4e3a\u5f00\u59cb\uff0c\u6211\u4eec\u5148\u770b\u770b\u5982\u4f55\u8bfb\u5199NDArray\u3002\u867d\u7136\u6211\u4eec\u53ef\u4ee5\u4f7f\u7528Python\u7684\u5e8f\u5217\u5316\u5305\u4f8b\u5982`Pickle`\uff0c\u4e0d\u8fc7\u6211\u4eec\u66f4\u503e\u5411\u76f4\u63a5`save`\u548c`load`\uff0c\u901a\u5e38\u8fd9\u6837\u66f4\u5feb\uff0c\u800c\u4e14\u522b\u7684\u8bed\u8a00\uff0c\u4f8b\u5982R\u548cScala\u4e5f\u80fd\u7528\u5230\u3002", 
            "cell_type": "markdown", 
            "metadata": {}
        }, 
        {
            "execution_count": null, 
            "cell_type": "code", 
            "metadata": {}, 
            "outputs": [], 
            "source": "#!mkdir data\n!ls -l"
        }, 
        {
            "execution_count": null, 
            "cell_type": "code", 
            "metadata": {
                "attributes": {
                    "classes": [], 
                    "id": "", 
                    "n": "2"
                }
            }, 
            "outputs": [], 
            "source": "from mxnet import nd\n\nx = nd.ones(3)\ny = nd.zeros(4)\nfilename = \"data/test1.params\"\nnd.save(filename, [x, y])"
        }, 
        {
            "source": "\u8bfb\u56de\u6765", 
            "cell_type": "markdown", 
            "metadata": {}
        }, 
        {
            "execution_count": null, 
            "cell_type": "code", 
            "metadata": {
                "attributes": {
                    "classes": [], 
                    "id": "", 
                    "n": "3"
                }
            }, 
            "outputs": [], 
            "source": "a, b = nd.load(filename)\nprint(a, b)"
        }, 
        {
            "source": "\u4e0d\u4ec5\u53ef\u4ee5\u8bfb\u5199\u5355\u4e2aNDArray\uff0cNDArray list\uff0cdict\u4e5f\u662f\u53ef\u4ee5\u7684\uff1a", 
            "cell_type": "markdown", 
            "metadata": {}
        }, 
        {
            "execution_count": null, 
            "cell_type": "code", 
            "metadata": {
                "attributes": {
                    "classes": [], 
                    "id": "", 
                    "n": "4"
                }
            }, 
            "outputs": [], 
            "source": "mydict = {\"x\": x, \"y\": y}\nfilename = \"data/test2.params\"\nnd.save(filename, mydict)"
        }, 
        {
            "execution_count": null, 
            "cell_type": "code", 
            "metadata": {
                "attributes": {
                    "classes": [], 
                    "id": "", 
                    "n": "5"
                }
            }, 
            "outputs": [], 
            "source": "c = nd.load(filename)\nprint(c)"
        }, 
        {
            "source": "## \u8bfb\u5199Gluon\u6a21\u578b\u7684\u53c2\u6570\n\n\u8ddfNDArray\u7c7b\u4f3c\uff0cGluon\u7684\u6a21\u578b\uff08\u5c31\u662f`nn.Block`\uff09\u63d0\u4f9b\u4fbf\u5229\u7684`save_params`\u548c`load_params`\u51fd\u6570\u6765\u8bfb\u5199\u6570\u636e\u3002\u6211\u4eec\u540c\u524d\u4e00\u6837\u521b\u5efa\u4e00\u4e2a\u7b80\u5355\u7684\u591a\u5c42\u611f\u77e5\u673a", 
            "cell_type": "markdown", 
            "metadata": {}
        }, 
        {
            "execution_count": null, 
            "cell_type": "code", 
            "metadata": {
                "attributes": {
                    "classes": [], 
                    "id": "", 
                    "n": "6"
                }
            }, 
            "outputs": [], 
            "source": "from mxnet.gluon import nn\n\ndef get_net():\n    net = nn.Sequential()\n    with net.name_scope():\n        net.add(nn.Dense(10, activation=\"relu\"))\n        net.add(nn.Dense(2))\n    return net\n\nnet = get_net()\nnet.initialize()\nx = nd.random.uniform(shape=(2,10))\nprint(net(x))"
        }, 
        {
            "source": "\u4e0b\u9762\u6211\u4eec\u628a\u6a21\u578b\u53c2\u6570\u5b58\u8d77\u6765", 
            "cell_type": "markdown", 
            "metadata": {}
        }, 
        {
            "execution_count": null, 
            "cell_type": "code", 
            "metadata": {}, 
            "outputs": [], 
            "source": "filename = \"data/mlp.params\"\nnet.save_params(filename)"
        }, 
        {
            "source": "\u4e4b\u540e\u6211\u4eec\u6784\u5efa\u4e00\u4e2a\u4e00\u6837\u7684\u591a\u5c42\u611f\u77e5\u673a\uff0c\u4f46\u4e0d\u50cf\u524d\u9762\u90a3\u6837\u968f\u673a\u521d\u59cb\u5316\uff0c\u6211\u4eec\u76f4\u63a5\u8bfb\u53d6\u524d\u9762\u7684\u6a21\u578b\u53c2\u6570\u3002\u8fd9\u6837\u7ed9\u5b9a\u540c\u6837\u7684\u8f93\u5165\uff0c\u65b0\u7684\u6a21\u578b\u5e94\u8be5\u4f1a\u8f93\u51fa\u540c\u6837\u7684\u7ed3\u679c\u3002", 
            "cell_type": "markdown", 
            "metadata": {}
        }, 
        {
            "execution_count": null, 
            "cell_type": "code", 
            "metadata": {
                "attributes": {
                    "classes": [], 
                    "id": "", 
                    "n": "8"
                }
            }, 
            "outputs": [], 
            "source": "import mxnet as mx\nnet2 = get_net()\nnet2.load_params(filename, mx.cpu())  # FIXME, gluon will support default ctx later \nprint(net2(x))"
        }, 
        {
            "source": "## \u603b\u7ed3\n\n\u901a\u8fc7`load_params`\u548c`save_params`\u53ef\u4ee5\u5f88\u65b9\u4fbf\u7684\u8bfb\u5199\u6a21\u578b\u53c2\u6570\u3002\n\n**\u5410\u69fd\u548c\u8ba8\u8bba\u6b22\u8fce\u70b9**[\u8fd9\u91cc](https://discuss.gluon.ai/t/topic/1255)", 
            "cell_type": "markdown", 
            "metadata": {}
        }
    ], 
    "metadata": {
        "kernelspec": {
            "display_name": "Python 2 with Spark 1.6 (Unsupported)", 
            "name": "python2", 
            "language": "python"
        }, 
        "language_info": {
            "mimetype": "text/x-python", 
            "nbconvert_exporter": "python", 
            "version": "2.7.11", 
            "name": "python", 
            "file_extension": ".py", 
            "pygments_lexer": "ipython2", 
            "codemirror_mode": {
                "version": 2, 
                "name": "ipython"
            }
        }
    }, 
    "nbformat": 4
}