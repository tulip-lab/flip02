{
 "cells": [
  {
   "cell_type": "markdown",
   "metadata": {},
   "source": [
    "# FLIP(03):  Natural Language Processing\n",
    "**(Module 02: Natural Language Processing)**\n",
    "\n",
    "---\n",
    "- Materials in this module include resources collected from various open-source online repositories.\n",
    "- You are free to use, but NOT allowed to change or distribute this package.\n",
    "\n",
    "Prepared by and for \n",
    "**Student Members** |\n",
    "2020 [TULIP Lab](http://www.tulip.org.au)\n",
    "\n",
    "---\n",
    "\n"
   ]
  },
  {
   "cell_type": "markdown",
   "metadata": {},
   "source": [
    "# Session 09-Recursive Neural Networks and Constituency Parsing"
   ]
  },
  {
   "cell_type": "code",
   "execution_count": 4,
   "metadata": {
    "collapsed": true
   },
   "outputs": [],
   "source": [
    "import torch\n",
    "import torch.nn as nn\n",
    "from torch.autograd import Variable\n",
    "import torch.optim as optim\n",
    "import torch.nn.functional as F\n",
    "import nltk\n",
    "import random\n",
    "import numpy as np\n",
    "from collections import Counter, OrderedDict\n",
    "import nltk\n",
    "from copy import deepcopy\n",
    "import os\n",
    "from IPython.display import Image, display\n",
    "from nltk.draw import TreeWidget\n",
    "from nltk.draw.util import CanvasFrame\n",
    "from nltk.tree import Tree as nltkTree\n",
    "flatten = lambda l: [item for sublist in l for item in sublist]\n",
    "random.seed(1024)"
   ]
  },
  {
   "cell_type": "code",
   "execution_count": 2,
   "metadata": {
    "collapsed": true
   },
   "outputs": [],
   "source": [
    "USE_CUDA = torch.cuda.is_available()\n",
    "gpus = [0]\n",
    "torch.cuda.set_device(gpus[0])\n",
    "\n",
    "FloatTensor = torch.cuda.FloatTensor if USE_CUDA else torch.FloatTensor\n",
    "LongTensor = torch.cuda.LongTensor if USE_CUDA else torch.LongTensor\n",
    "ByteTensor = torch.cuda.ByteTensor if USE_CUDA else torch.ByteTensor"
   ]
  },
  {
   "cell_type": "code",
   "execution_count": 3,
   "metadata": {
    "collapsed": true
   },
   "outputs": [],
   "source": [
    "def getBatch(batch_size, train_data):\n",
    "    random.shuffle(train_data)\n",
    "    sindex = 0\n",
    "    eindex = batch_size\n",
    "    while eindex < len(train_data):\n",
    "        batch = train_data[sindex: eindex]\n",
    "        temp = eindex\n",
    "        eindex = eindex + batch_size\n",
    "        sindex = temp\n",
    "        yield batch\n",
    "    \n",
    "    if eindex >= len(train_data):\n",
    "        batch = train_data[sindex:]\n",
    "        yield batch"
   ]
  },
  {
   "cell_type": "code",
   "execution_count": 5,
   "metadata": {
    "collapsed": true
   },
   "outputs": [],
   "source": [
    "# Borrowed from https://stackoverflow.com/questions/31779707/how-do-you-make-nltk-draw-trees-that-are-inline-in-ipython-jupyter\n",
    "\n",
    "def draw_nltk_tree(tree):\n",
    "    cf = CanvasFrame()\n",
    "    tc = TreeWidget(cf.canvas(), tree)\n",
    "    tc['node_font'] = 'arial 15 bold'\n",
    "    tc['leaf_font'] = 'arial 15'\n",
    "    tc['node_color'] = '#005990'\n",
    "    tc['leaf_color'] = '#3F8F57'\n",
    "    tc['line_color'] = '#175252'\n",
    "    cf.add_widget(tc, 50, 50)\n",
    "    cf.print_to_file('tmp_tree_output.ps')\n",
    "    cf.destroy()\n",
    "    os.system('convert tmp_tree_output.ps tmp_tree_output.png')\n",
    "    display(Image(filename='tmp_tree_output.png'))\n",
    "    os.system('rm tmp_tree_output.ps tmp_tree_output.png')"
   ]
  },
  {
   "cell_type": "markdown",
   "metadata": {},
   "source": [
    "## Data load and Preprocessing"
   ]
  },
  {
   "cell_type": "markdown",
   "metadata": {},
   "source": [
    "### Stanford Sentiment Treebank(https://nlp.stanford.edu/sentiment/index.html)"
   ]
  },
  {
   "cell_type": "code",
   "execution_count": 10,
   "metadata": {},
   "outputs": [
    {
     "name": "stdout",
     "output_type": "stream",
     "text": [
      "(3 (2 (1 Deflated) (2 (2 ending) (2 aside))) (4 (2 ,) (4 (2 there) (3 (3 (2 's) (3 (2 much) (2 (2 to) (3 (3 recommend) (2 (2 the) (2 film)))))) (2 .)))))\n",
      "\n"
     ]
    }
   ],
   "source": [
    "sample = random.choice(open('../dataset/trees/train.txt', 'r', encoding='utf-8').readlines())\n",
    "print(sample)"
   ]
  },
  {
   "cell_type": "code",
   "execution_count": 11,
   "metadata": {},
   "outputs": [
    {
     "data": {
      "image/png": "[encoded data removed]",
      "text/plain": [
       "<IPython.core.display.Image object>"
      ]
     },
     "metadata": {},
     "output_type": "display_data"
    }
   ],
   "source": [
    "draw_nltk_tree(nltkTree.fromstring(sample))"
   ]
  },
  {
   "cell_type": "markdown",
   "metadata": {},
   "source": [
    "### Tree Class "
   ]
  },
  {
   "cell_type": "markdown",
   "metadata": {},
   "source": [
    "borrowed code from https://github.com/bogatyy/cs224d/tree/master/assignment3"
   ]
  },
  {
   "cell_type": "code",
   "execution_count": 10,
   "metadata": {
    "collapsed": true
   },
   "outputs": [],
   "source": [
    "class Node:  # a node in the tree\n",
    "    def __init__(self, label, word=None):\n",
    "        self.label = label\n",
    "        self.word = word\n",
    "        self.parent = None  # reference to parent\n",
    "        self.left = None  # reference to left child\n",
    "        self.right = None  # reference to right child\n",
    "        # true if I am a leaf (could have probably derived this from if I have\n",
    "        # a word)\n",
    "        self.isLeaf = False\n",
    "        # true if we have finished performing fowardprop on this node (note,\n",
    "        # there are many ways to implement the recursion.. some might not\n",
    "        # require this flag)\n",
    "\n",
    "    def __str__(self):\n",
    "        if self.isLeaf:\n",
    "            return '[{0}:{1}]'.format(self.word, self.label)\n",
    "        return '({0} <- [{1}:{2}] -> {3})'.format(self.left, self.word, self.label, self.right)\n",
    "\n",
    "\n",
    "class Tree:\n",
    "\n",
    "    def __init__(self, treeString, openChar='(', closeChar=')'):\n",
    "        tokens = []\n",
    "        self.open = '('\n",
    "        self.close = ')'\n",
    "        for toks in treeString.strip().split():\n",
    "            tokens += list(toks)\n",
    "        self.root = self.parse(tokens)\n",
    "        # get list of labels as obtained through a post-order traversal\n",
    "        self.labels = get_labels(self.root)\n",
    "        self.num_words = len(self.labels)\n",
    "\n",
    "    def parse(self, tokens, parent=None):\n",
    "        assert tokens[0] == self.open, \"Malformed tree\"\n",
    "        assert tokens[-1] == self.close, \"Malformed tree\"\n",
    "\n",
    "        split = 2  # position after open and label\n",
    "        countOpen = countClose = 0\n",
    "\n",
    "        if tokens[split] == self.open:\n",
    "            countOpen += 1\n",
    "            split += 1\n",
    "        # Find where left child and right child split\n",
    "        while countOpen != countClose:\n",
    "            if tokens[split] == self.open:\n",
    "                countOpen += 1\n",
    "            if tokens[split] == self.close:\n",
    "                countClose += 1\n",
    "            split += 1\n",
    "\n",
    "        # New node\n",
    "        node = Node(int(tokens[1]))  # zero index labels\n",
    "\n",
    "        node.parent = parent\n",
    "\n",
    "        # leaf Node\n",
    "        if countOpen == 0:\n",
    "            node.word = ''.join(tokens[2: -1]).lower()  # lower case?\n",
    "            node.isLeaf = True\n",
    "            return node\n",
    "\n",
    "        node.left = self.parse(tokens[2: split], parent=node)\n",
    "        node.right = self.parse(tokens[split: -1], parent=node)\n",
    "\n",
    "        return node\n",
    "\n",
    "    def get_words(self):\n",
    "        leaves = getLeaves(self.root)\n",
    "        words = [node.word for node in leaves]\n",
    "        return words\n",
    "\n",
    "def get_labels(node):\n",
    "    if node is None:\n",
    "        return []\n",
    "    return get_labels(node.left) + get_labels(node.right) + [node.label]\n",
    "\n",
    "def getLeaves(node):\n",
    "    if node is None:\n",
    "        return []\n",
    "    if node.isLeaf:\n",
    "        return [node]\n",
    "    else:\n",
    "        return getLeaves(node.left) + getLeaves(node.right)\n",
    "\n",
    "    \n",
    "def loadTrees(dataSet='train'):\n",
    "    \"\"\"\n",
    "    Loads training trees. Maps leaf node words to word ids.\n",
    "    \"\"\"\n",
    "    file = '../dataset/trees/%s.txt' % dataSet\n",
    "    print(\"Loading %s trees..\" % dataSet)\n",
    "    with open(file, 'r', encoding='utf-8') as fid:\n",
    "        trees = [Tree(l) for l in fid.readlines()]\n",
    "\n",
    "    return trees"
   ]
  },
  {
   "cell_type": "code",
   "execution_count": 11,
   "metadata": {},
   "outputs": [
    {
     "name": "stdout",
     "output_type": "stream",
     "text": [
      "Loading train trees..\n"
     ]
    }
   ],
   "source": [
    "train_data = loadTrees('train')"
   ]
  },
  {
   "cell_type": "markdown",
   "metadata": {},
   "source": [
    "### Build Vocab "
   ]
  },
  {
   "cell_type": "code",
   "execution_count": 12,
   "metadata": {
    "collapsed": true
   },
   "outputs": [],
   "source": [
    "vocab = list(set(flatten([t.get_words() for t in train_data])))"
   ]
  },
  {
   "cell_type": "code",
   "execution_count": 13,
   "metadata": {
    "collapsed": true
   },
   "outputs": [],
   "source": [
    "word2index = {'<UNK>': 0}\n",
    "for vo in vocab:\n",
    "    if word2index.get(vo) is None:\n",
    "        word2index[vo] = len(word2index)\n",
    "        \n",
    "index2word = {v:k for k, v in word2index.items()}"
   ]
  },
  {
   "cell_type": "markdown",
   "metadata": {},
   "source": [
    "## Modeling "
   ]
  },
  {
   "cell_type": "markdown",
   "metadata": {},
   "source": [
    "![rntn-layer.png](images/09.rntn-layer.png)"
   ]
  },
  {
   "cell_type": "code",
   "execution_count": 14,
   "metadata": {
    "collapsed": true
   },
   "outputs": [],
   "source": [
    "class RNTN(nn.Module):\n",
    "    \n",
    "    def __init__(self, word2index, hidden_size, output_size):\n",
    "        super(RNTN,self).__init__()\n",
    "        \n",
    "        self.word2index = word2index\n",
    "        self.embed = nn.Embedding(len(word2index), hidden_size)\n",
    "#         self.V = nn.ModuleList([nn.Linear(hidden_size*2,hidden_size*2) for _ in range(hidden_size)])\n",
    "#         self.W = nn.Linear(hidden_size*2,hidden_size)\n",
    "        self.V = nn.ParameterList([nn.Parameter(torch.randn(hidden_size * 2, hidden_size * 2)) for _ in range(hidden_size)]) # Tensor\n",
    "        self.W = nn.Parameter(torch.randn(hidden_size * 2, hidden_size))\n",
    "        self.b = nn.Parameter(torch.randn(1, hidden_size))\n",
    "#         self.W_out = nn.Parameter(torch.randn(hidden_size,output_size))\n",
    "        self.W_out = nn.Linear(hidden_size, output_size)\n",
    "        \n",
    "    def init_weight(self):\n",
    "        nn.init.xavier_uniform(self.embed.state_dict()['weight'])\n",
    "        nn.init.xavier_uniform(self.W_out.state_dict()['weight'])\n",
    "        for param in self.V.parameters():\n",
    "            nn.init.xavier_uniform(param)\n",
    "        nn.init.xavier_uniform(self.W)\n",
    "        self.b.data.fill_(0)\n",
    "#         nn.init.xavier_uniform(self.W_out)\n",
    "        \n",
    "    def tree_propagation(self, node):\n",
    "        \n",
    "        recursive_tensor = OrderedDict()\n",
    "        current = None\n",
    "        if node.isLeaf:\n",
    "            tensor = Variable(LongTensor([self.word2index[node.word]])) if node.word in self.word2index.keys() \\\n",
    "                          else Variable(LongTensor([self.word2index['<UNK>']]))\n",
    "            current = self.embed(tensor) # 1xD\n",
    "        else:\n",
    "            recursive_tensor.update(self.tree_propagation(node.left))\n",
    "            recursive_tensor.update(self.tree_propagation(node.right))\n",
    "            \n",
    "            concated = torch.cat([recursive_tensor[node.left], recursive_tensor[node.right]], 1) # 1x2D\n",
    "            xVx = [] \n",
    "            for i, v in enumerate(self.V):\n",
    "#                 xVx.append(torch.matmul(v(concated),concated.transpose(0,1)))\n",
    "                xVx.append(torch.matmul(torch.matmul(concated, v), concated.transpose(0, 1)))\n",
    "            \n",
    "            xVx = torch.cat(xVx, 1) # 1xD\n",
    "#             Wx = self.W(concated)\n",
    "            Wx = torch.matmul(concated, self.W) # 1xD\n",
    "\n",
    "            current = F.tanh(xVx + Wx + self.b) # 1xD\n",
    "        recursive_tensor[node] = current\n",
    "        return recursive_tensor\n",
    "        \n",
    "    def forward(self, Trees, root_only=False):\n",
    "        \n",
    "        propagated = []\n",
    "        if not isinstance(Trees, list):\n",
    "            Trees = [Trees]\n",
    "            \n",
    "        for Tree in Trees:\n",
    "            recursive_tensor = self.tree_propagation(Tree.root)\n",
    "            if root_only:\n",
    "                recursive_tensor = recursive_tensor[Tree.root]\n",
    "                propagated.append(recursive_tensor)\n",
    "            else:\n",
    "                recursive_tensor = [tensor for node,tensor in recursive_tensor.items()]\n",
    "                propagated.extend(recursive_tensor)\n",
    "        \n",
    "        propagated = torch.cat(propagated) # (num_of_node in batch, D)\n",
    "        \n",
    "#         return F.log_softmax(propagated.matmul(self.W_out))\n",
    "        return F.log_softmax(self.W_out(propagated),1)"
   ]
  },
  {
   "cell_type": "markdown",
   "metadata": {},
   "source": [
    "## Training "
   ]
  },
  {
   "cell_type": "markdown",
   "metadata": {},
   "source": [
    "It takes for a while... It builds its computational graph dynamically. So Its computation is difficult to train with batch."
   ]
  },
  {
   "cell_type": "code",
   "execution_count": 15,
   "metadata": {
    "collapsed": true
   },
   "outputs": [],
   "source": [
    "HIDDEN_SIZE = 30\n",
    "ROOT_ONLY = False\n",
    "BATCH_SIZE = 20\n",
    "EPOCH = 20\n",
    "LR = 0.01\n",
    "LAMBDA = 1e-5\n",
    "RESCHEDULED = False"
   ]
  },
  {
   "cell_type": "code",
   "execution_count": 18,
   "metadata": {
    "collapsed": true
   },
   "outputs": [],
   "source": [
    "model = RNTN(word2index, HIDDEN_SIZE,5)\n",
    "model.init_weight()\n",
    "if USE_CUDA:\n",
    "    model = model.cuda()\n",
    "\n",
    "loss_function = nn.CrossEntropyLoss()\n",
    "optimizer = optim.Adam(model.parameters(), lr=LR)"
   ]
  },
  {
   "cell_type": "code",
   "execution_count": 19,
   "metadata": {},
   "outputs": [
    {
     "name": "stdout",
     "output_type": "stream",
     "text": [
      "[0/20] mean_loss : 1.62\n",
      "[0/20] mean_loss : 1.25\n",
      "[0/20] mean_loss : 0.95\n",
      "[0/20] mean_loss : 0.90\n",
      "[0/20] mean_loss : 0.88\n",
      "[1/20] mean_loss : 0.88\n",
      "[1/20] mean_loss : 0.84\n",
      "[1/20] mean_loss : 0.83\n",
      "[1/20] mean_loss : 0.82\n",
      "[1/20] mean_loss : 0.82\n",
      "[2/20] mean_loss : 0.81\n",
      "[2/20] mean_loss : 0.79\n",
      "[2/20] mean_loss : 0.78\n",
      "[2/20] mean_loss : 0.76\n",
      "[2/20] mean_loss : 0.75\n",
      "[3/20] mean_loss : 0.68\n",
      "[3/20] mean_loss : 0.73\n",
      "[3/20] mean_loss : 0.74\n",
      "[3/20] mean_loss : 0.72\n",
      "[3/20] mean_loss : 0.72\n",
      "[4/20] mean_loss : 0.74\n",
      "[4/20] mean_loss : 0.69\n",
      "[4/20] mean_loss : 0.69\n",
      "[4/20] mean_loss : 0.68\n",
      "[4/20] mean_loss : 0.67\n",
      "[5/20] mean_loss : 0.73\n",
      "[5/20] mean_loss : 0.65\n",
      "[5/20] mean_loss : 0.64\n",
      "[5/20] mean_loss : 0.64\n",
      "[5/20] mean_loss : 0.65\n",
      "[6/20] mean_loss : 0.67\n",
      "[6/20] mean_loss : 0.62\n",
      "[6/20] mean_loss : 0.62\n",
      "[6/20] mean_loss : 0.62\n",
      "[6/20] mean_loss : 0.62\n",
      "[7/20] mean_loss : 0.57\n",
      "[7/20] mean_loss : 0.59\n",
      "[7/20] mean_loss : 0.59\n",
      "[7/20] mean_loss : 0.59\n",
      "[7/20] mean_loss : 0.59\n",
      "[8/20] mean_loss : 0.60\n",
      "[8/20] mean_loss : 0.58\n",
      "[8/20] mean_loss : 0.59\n",
      "[8/20] mean_loss : 0.60\n",
      "[8/20] mean_loss : 0.60\n",
      "[9/20] mean_loss : 0.52\n",
      "[9/20] mean_loss : 0.58\n",
      "[9/20] mean_loss : 0.60\n",
      "[9/20] mean_loss : 0.59\n",
      "[9/20] mean_loss : 0.59\n",
      "[10/20] mean_loss : 0.56\n",
      "[10/20] mean_loss : 0.56\n",
      "[10/20] mean_loss : 0.56\n",
      "[10/20] mean_loss : 0.56\n",
      "[10/20] mean_loss : 0.56\n",
      "[11/20] mean_loss : 0.52\n",
      "[11/20] mean_loss : 0.54\n",
      "[11/20] mean_loss : 0.54\n",
      "[11/20] mean_loss : 0.54\n",
      "[11/20] mean_loss : 0.55\n",
      "[12/20] mean_loss : 0.55\n",
      "[12/20] mean_loss : 0.53\n",
      "[12/20] mean_loss : 0.53\n",
      "[12/20] mean_loss : 0.53\n",
      "[12/20] mean_loss : 0.53\n",
      "[13/20] mean_loss : 0.59\n",
      "[13/20] mean_loss : 0.52\n",
      "[13/20] mean_loss : 0.52\n",
      "[13/20] mean_loss : 0.53\n",
      "[13/20] mean_loss : 0.53\n",
      "[14/20] mean_loss : 0.49\n",
      "[14/20] mean_loss : 0.51\n",
      "[14/20] mean_loss : 0.51\n",
      "[14/20] mean_loss : 0.52\n",
      "[14/20] mean_loss : 0.52\n",
      "[15/20] mean_loss : 0.43\n",
      "[15/20] mean_loss : 0.51\n",
      "[15/20] mean_loss : 0.51\n",
      "[15/20] mean_loss : 0.51\n",
      "[15/20] mean_loss : 0.51\n",
      "[16/20] mean_loss : 0.46\n",
      "[16/20] mean_loss : 0.50\n",
      "[16/20] mean_loss : 0.50\n",
      "[16/20] mean_loss : 0.50\n",
      "[16/20] mean_loss : 0.50\n",
      "[17/20] mean_loss : 0.50\n",
      "[17/20] mean_loss : 0.50\n",
      "[17/20] mean_loss : 0.50\n",
      "[17/20] mean_loss : 0.50\n",
      "[17/20] mean_loss : 0.51\n",
      "[18/20] mean_loss : 0.46\n",
      "[18/20] mean_loss : 0.50\n",
      "[18/20] mean_loss : 0.50\n",
      "[18/20] mean_loss : 0.49\n",
      "[18/20] mean_loss : 0.49\n",
      "[19/20] mean_loss : 0.49\n",
      "[19/20] mean_loss : 0.49\n",
      "[19/20] mean_loss : 0.49\n",
      "[19/20] mean_loss : 0.50\n",
      "[19/20] mean_loss : 0.50\n"
     ]
    }
   ],
   "source": [
    "for epoch in range(EPOCH):\n",
    "    losses = []\n",
    "    \n",
    "    # learning rate annealing\n",
    "    if RESCHEDULED == False and epoch == EPOCH//2:\n",
    "        LR *= 0.1\n",
    "        optimizer = optim.Adam(model.parameters(), lr=LR, weight_decay=LAMBDA) # L2 norm\n",
    "        RESCHEDULED = True\n",
    "    \n",
    "    for i, batch in enumerate(getBatch(BATCH_SIZE, train_data)):\n",
    "        \n",
    "        if ROOT_ONLY:\n",
    "            labels = [tree.labels[-1] for tree in batch]\n",
    "            labels = Variable(LongTensor(labels))\n",
    "        else:\n",
    "            labels = [tree.labels for tree in batch]\n",
    "            labels = Variable(LongTensor(flatten(labels)))\n",
    "        \n",
    "        model.zero_grad()\n",
    "        preds = model(batch, ROOT_ONLY)\n",
    "        \n",
    "        loss = loss_function(preds, labels)\n",
    "        losses.append(loss.data.tolist()[0])\n",
    "        \n",
    "        loss.backward()\n",
    "        optimizer.step()\n",
    "        \n",
    "        if i % 100 == 0:\n",
    "            print('[%d/%d] mean_loss : %.2f' % (epoch, EPOCH, np.mean(losses)))\n",
    "            losses = []\n",
    "        "
   ]
  },
  {
   "cell_type": "markdown",
   "metadata": {},
   "source": [
    "The convergence of the model is unstable according to the initial values. I tried to 5~6 times for this."
   ]
  },
  {
   "cell_type": "markdown",
   "metadata": {},
   "source": [
    "## Test"
   ]
  },
  {
   "cell_type": "code",
   "execution_count": 20,
   "metadata": {},
   "outputs": [
    {
     "name": "stdout",
     "output_type": "stream",
     "text": [
      "Loading test trees..\n"
     ]
    }
   ],
   "source": [
    "test_data = loadTrees('test')"
   ]
  },
  {
   "cell_type": "code",
   "execution_count": 21,
   "metadata": {
    "collapsed": true
   },
   "outputs": [],
   "source": [
    "accuracy = 0\n",
    "num_node = 0"
   ]
  },
  {
   "cell_type": "markdown",
   "metadata": {},
   "source": [
    "### Fine-grained all"
   ]
  },
  {
   "cell_type": "markdown",
   "metadata": {},
   "source": [
    "In paper, they acheived 80.2 accuracy. "
   ]
  },
  {
   "cell_type": "code",
   "execution_count": 23,
   "metadata": {},
   "outputs": [
    {
     "name": "stdout",
     "output_type": "stream",
     "text": [
      "79.33705899068254\n"
     ]
    }
   ],
   "source": [
    "for test in test_data:\n",
    "    model.zero_grad()\n",
    "    preds = model(test, ROOT_ONLY)\n",
    "    labels = test.labels[-1:] if ROOT_ONLY else test.labels\n",
    "    for pred, label in zip(preds.max(1)[1].data.tolist(), labels):\n",
    "        num_node += 1\n",
    "        if pred == label:\n",
    "            accuracy += 1\n",
    "\n",
    "print(accuracy/num_node * 100)"
   ]
  },
  {
   "cell_type": "markdown",
   "metadata": {},
   "source": [
    "## TODO "
   ]
  },
  {
   "cell_type": "markdown",
   "metadata": {},
   "source": [
    "* https://github.com/nearai/pytorch-tools # Dynamic batch using TensorFold"
   ]
  },
  {
   "cell_type": "markdown",
   "metadata": {
    "collapsed": true
   },
   "source": [
    "## Further topics "
   ]
  },
  {
   "cell_type": "markdown",
   "metadata": {},
   "source": [
    "* <a href=\"https://arxiv.org/pdf/1503.00075.pdf\">Improved Semantic Representations From Tree-Structured Long Short-Term Memory Networks</a>\n",
    "* <a href=\"https://arxiv.org/abs/1603.06021\">A Fast Unified Model for Parsing and Sentence Understanding(SPINN)</a>\n",
    "* <a href=\"https://devblogs.nvidia.com/parallelforall/recursive-neural-networks-pytorch/?utm_campaign=Revue%20newsletter&utm_medium=Newsletter&utm_source=revue\">Posting about SPINN</a>"
   ]
  }
 ],
 "metadata": {
  "kernelspec": {
   "display_name": "Python 3",
   "language": "python",
   "name": "python3"
  },
  "language_info": {
   "codemirror_mode": {
    "name": "ipython",
    "version": 3
   },
   "file_extension": ".py",
   "mimetype": "text/x-python",
   "name": "python",
   "nbconvert_exporter": "python",
   "pygments_lexer": "ipython3",
   "version": "3.7.4"
  }
 },
 "nbformat": 4,
 "nbformat_minor": 2
}
