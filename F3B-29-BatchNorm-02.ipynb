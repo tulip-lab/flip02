{
    "nbformat_minor": 2, 
    "cells": [
        {
            "source": "# \u6279\u91cf\u5f52\u4e00\u5316 --- \u4f7f\u7528Gluon\n\n\u672c\u7ae0\u4ecb\u7ecd\u5982\u4f55\u4f7f\u7528``Gluon``\u5728\u8bad\u7ec3\u548c\u6d4b\u8bd5\u6df1\u5ea6\u5b66\u4e60\u6a21\u578b\u4e2d\u4f7f\u7528\u6279\u91cf\u5f52\u4e00\u5316\u3002\n\n\n## \u5b9a\u4e49\u6a21\u578b\u5e76\u6dfb\u52a0\u6279\u91cf\u5f52\u4e00\u5316\u5c42\n\n\u6709\u4e86`Gluon`\uff0c\u6211\u4eec\u6a21\u578b\u7684\u5b9a\u4e49\u5de5\u4f5c\u53d8\u5f97\u7b80\u5355\u4e86\u8bb8\u591a\u3002\u6211\u4eec\u53ea\u9700\u8981\u6dfb\u52a0`nn.BatchNorm`\u5c42\u5e76\u6307\u5b9a\u5bf9\u4e8c\u7ef4\u5377\u79ef\u7684\u901a\u9053(`axis=1`)\u8fdb\u884c\u6279\u91cf\u5f52\u4e00\u5316\u3002", 
            "cell_type": "markdown", 
            "metadata": {}
        }, 
        {
            "execution_count": null, 
            "cell_type": "code", 
            "metadata": {
                "attributes": {
                    "classes": [], 
                    "id": "", 
                    "n": "1"
                }
            }, 
            "outputs": [], 
            "source": "from mxnet.gluon import nn\n\nnet = nn.Sequential()\nwith net.name_scope():\n    # \u7b2c\u4e00\u5c42\u5377\u79ef\n    net.add(nn.Conv2D(channels=20, kernel_size=5))\n    ### \u6dfb\u52a0\u4e86\u6279\u91cf\u5f52\u4e00\u5316\u5c42 \n    net.add(nn.BatchNorm(axis=1))\n    net.add(nn.Activation(activation='relu'))\n    net.add(nn.MaxPool2D(pool_size=2, strides=2))\n    # \u7b2c\u4e8c\u5c42\u5377\u79ef\n    net.add(nn.Conv2D(channels=50, kernel_size=3))\n    ### \u6dfb\u52a0\u4e86\u6279\u91cf\u5f52\u4e00\u5316\u5c42 \n    net.add(nn.BatchNorm(axis=1))\n    net.add(nn.Activation(activation='relu'))\n    net.add(nn.MaxPool2D(pool_size=2, strides=2))\n    net.add(nn.Flatten())\n    # \u7b2c\u4e00\u5c42\u5168\u8fde\u63a5\n    net.add(nn.Dense(128, activation=\"relu\"))\n    # \u7b2c\u4e8c\u5c42\u5168\u8fde\u63a5\n    net.add(nn.Dense(10))"
        }, 
        {
            "source": "## \u6a21\u578b\u8bad\u7ec3\n\n\u5269\u4e0b\u7684\u4ee3\u7801\u8ddf\u4e4b\u524d\u6ca1\u4ec0\u4e48\u4e0d\u4e00\u6837\u3002", 
            "cell_type": "markdown", 
            "metadata": {}
        }, 
        {
            "execution_count": null, 
            "cell_type": "code", 
            "metadata": {
                "attributes": {
                    "classes": [], 
                    "id": "", 
                    "n": "3"
                }
            }, 
            "outputs": [], 
            "source": "import sys\nsys.path.append('..')\nimport utils\nfrom mxnet import autograd \nfrom mxnet import gluon\nfrom mxnet import nd\n\nctx = utils.try_gpu()\nnet.initialize(ctx=ctx)\n\nbatch_size = 256\ntrain_data, test_data = utils.load_data_fashion_mnist(batch_size)\n\nsoftmax_cross_entropy = gluon.loss.SoftmaxCrossEntropyLoss()\ntrainer = gluon.Trainer(net.collect_params(), 'sgd', {'learning_rate': 0.2})\n\nfor epoch in range(5):\n    train_loss = 0.\n    train_acc = 0.\n    for data, label in train_data:\n        label = label.as_in_context(ctx)\n        with autograd.record():\n            output = net(data.as_in_context(ctx))\n            loss = softmax_cross_entropy(output, label)\n        loss.backward()\n        trainer.step(batch_size)\n\n        train_loss += nd.mean(loss).asscalar()\n        train_acc += utils.accuracy(output, label)\n    test_acc = utils.evaluate_accuracy(test_data, net, ctx)\n    print(\"Epoch %d. Loss: %f, Train acc %f, Test acc %f\" % (\n        epoch, train_loss/len(train_data), \n        train_acc/len(train_data), test_acc))"
        }, 
        {
            "source": "## \u603b\u7ed3\n\n\u4f7f\u7528``Gluon``\u6211\u4eec\u53ef\u4ee5\u5f88\u8f7b\u677e\u5730\u6dfb\u52a0\u6279\u91cf\u5f52\u4e00\u5316\u5c42\u3002\n\n## \u7ec3\u4e60\n\n\u5982\u679c\u5728\u5168\u8fde\u63a5\u5c42\u6dfb\u52a0\u6279\u91cf\u5f52\u4e00\u5316\u7ed3\u679c\u4f1a\u600e\u4e48\u6837\uff1f\n\n**\u5410\u69fd\u548c\u8ba8\u8bba\u6b22\u8fce\u70b9**[\u8fd9\u91cc](https://discuss.gluon.ai/t/topic/1254)", 
            "cell_type": "markdown", 
            "metadata": {}
        }
    ], 
    "metadata": {
        "kernelspec": {
            "display_name": "Python 2 with Spark 1.6 (Unsupported)", 
            "name": "python2", 
            "language": "python"
        }, 
        "language_info": {
            "mimetype": "text/x-python", 
            "nbconvert_exporter": "python", 
            "version": "2.7.11", 
            "name": "python", 
            "file_extension": ".py", 
            "pygments_lexer": "ipython2", 
            "codemirror_mode": {
                "version": 2, 
                "name": "ipython"
            }
        }
    }, 
    "nbformat": 4
}