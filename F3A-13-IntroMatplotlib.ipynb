{
    "nbformat": 4, 
    "cells": [
        {
            "source": "# Modern Data Science \n**(Module 02: Data Visualization)**\n\n---\n- Materials in this module include resources collected from various open-source online repositories.\n- You are free to use, change and distribute this package.\n\nPrepared by and for \n**Student Members** |\n2006-2018 [TULIP Lab](http://www.tulip.org.au), Australia\n\n---\n\n\n\n# Session B - Matplotlib\n\n`matplotlib` is probably the single most used Python package for 2D-graphics. It provides both a very quick way to visualize data from Python and publication-quality figures in many formats. We are going to explore `matplotlib` in interactive mode covering most common cases.\n", 
            "cell_type": "markdown", 
            "metadata": {}
        }, 
        {
            "outputs": [], 
            "execution_count": null, 
            "cell_type": "code", 
            "source": "%matplotlib inline\n# ignore this \"magic\" command -- it's only necessary to setup this notebook... ", 
            "metadata": {}
        }, 
        {
            "source": "## Introduction to the basics of matplotlib visualizations\n\nFurther reading: \n\nhttp://matplotlib.org/users/pyplot_tutorial.html\n\nhttp://www.labri.fr/perso/nrougier/teaching/matplotlib/matplotlib.html", 
            "cell_type": "markdown", 
            "metadata": {}
        }, 
        {
            "source": "## Importing Matplotlib\n\nThe popular convention is to import \nthe `matplotlib.pyplot` module and alias it to `plt` for easier typing:\n", 
            "cell_type": "markdown", 
            "metadata": {}
        }, 
        {
            "outputs": [], 
            "execution_count": null, 
            "cell_type": "code", 
            "source": "import matplotlib.pyplot as plt", 
            "metadata": {}
        }, 
        {
            "source": "## Interactively plotting\n\nNote: the following instructions only apply if you are trying things out in ipython -- which you _should_ be doing when trying out matplotlib.\n\nWhen testing things out in iPython, if you want to see the chart images pop-up as you execute the charting commands, begin your iPython session by [running the `%matplotlib` magic command](https://ipython.org/ipython-doc/3/interactive/magics.html#magic-matplotlib) (however, _don't_ include it in any standalone Python scripts):\n\n\n```py\n%matplotlib\nimport matplotlib.pyplot as plt\n```\n\n### Getting unstuck out of a stuck iPython prompt\n\nIn current versions of matplotlib, iPython, OSX, you may run into an error where the prompt just freezes. [This is a known bug](https://github.com/ipython/ipython/issues/9128). Just hit Ctrl-C a couple of times and then Enter to break out of whatever command you were stuck in (you'll have to retype the command).\n\n\n\n\n", 
            "cell_type": "markdown", 
            "metadata": {}
        }, 
        {
            "source": "## The simplest plot\n\nThe following snippet is all you need to get a chart going in matplotlib. We actually won't be using this convention going forward, but it's worth seeing the minimal amount of code needed to make a graph:", 
            "cell_type": "markdown", 
            "metadata": {}
        }, 
        {
            "outputs": [], 
            "execution_count": null, 
            "cell_type": "code", 
            "source": "xvals = [0, 1, 2, 3]\nyvals = [20, 10, 50, -15]\nplt.bar(xvals, yvals)", 
            "metadata": {}
        }, 
        {
            "source": "## Saving the simplest plot to disk\n\nTo save to file, use the `savefig()` method:\n\n```py\nplt.savefig('hello.png')\n```\n\n\n### Removing the active chart (while interactively plotting)\n\nIf you are doing these commands in iPython, then a chart window will have popped up with the rendered-chart image as as soon as you executed the `plt.bar()` method. To clear the space, call the `plt.close()` method:\n\n```py\nplt.close()\n```\n\n\n", 
            "cell_type": "markdown", 
            "metadata": {}
        }, 
        {
            "source": "## Making \"subplots\" and using `fig` and `ax`\n\nWhile the invocation of methods on the global `plt` object will produce charts quick and easy, we'll be following this general convention (note that `plot()` is a method for drawing line charts):", 
            "cell_type": "markdown", 
            "metadata": {}
        }, 
        {
            "outputs": [], 
            "execution_count": null, 
            "cell_type": "code", 
            "source": "fig, ax = plt.subplots()\nax.plot([1,2,3], [40, 20, 33])", 
            "metadata": {}
        }, 
        {
            "source": "What's `fig`? What's `ax`? And what exactly is `plt.subplots()` doing? It's not worth explaining in these simple examples, but it's a convention worth getting into the habit of as it allows us to be more flexible in the future. And it's not too hard to memorize.\n\nHere's another example, this time using the `scatter()` chart method:", 
            "cell_type": "markdown", 
            "metadata": {}
        }, 
        {
            "outputs": [], 
            "execution_count": null, 
            "cell_type": "code", 
            "source": "fig, ax = plt.subplots()\nxvals = [42, 8, 33, 25, 39]\nyvals = [30, 22, 42, 9, 16]\nax.scatter(xvals, yvals)\n", 
            "metadata": {}
        }, 
        {
            "source": "## Saving figures\n\nUsing the `fig, ax = plt.subplots()` convention, saving to disk is slightly different: call the `savefig()` method via the `fig` object:\n\n```py\nfig.savefig('helloagain.jpg')\n```\n", 
            "cell_type": "markdown", 
            "metadata": {}
        }, 
        {
            "source": "## Charting multiple data series\n\nTo chart more than one series of data on a single set of axes, simply invoke the charting methods of the given axes multiple times:", 
            "cell_type": "markdown", 
            "metadata": {}
        }, 
        {
            "outputs": [], 
            "execution_count": null, 
            "cell_type": "code", 
            "source": "fig, ax = plt.subplots()\nxvals = [0, 1, 2, 3, 4]\ny1 = [20, 8, 12, 24, 18]\ny2 = [9, 1, 8, 15, 26]\nax.plot(xvals, y1)\nax.plot(xvals, y2)", 
            "metadata": {}
        }, 
        {
            "source": "Want multiple _types_ of charts on a single set of axes? Just call different types of charts on a single axes:", 
            "cell_type": "markdown", 
            "metadata": {}
        }, 
        {
            "outputs": [], 
            "execution_count": null, 
            "cell_type": "code", 
            "source": "fig, ax = plt.subplots()\nxvals = [0, 1, 2, 3, 4]\ny1 = [20, 8, 12, 24, 18]\ny2 = [9, 1, 8, 15, 26]\nax.scatter(xvals, y1)\nax.plot(xvals, y2)", 
            "metadata": {}
        }, 
        {
            "source": "## The importance of data structure\n\nWe've only scratched the surface of Matplotlib's visualization methods, but the main constraint we'll face is having correctly-structured data. \n\nFor instance, matplotlib will throw an error if we attempt to chart x-values and y-values in which the relationship is not 1-to-1:\n\n\n```py\nxvals = [0, 1, 2]\nyvals = [42]\nax.bar(xvals, yvals)\n\n# ValueError: incompatible sizes: argument 'height' must be length 3 or scalar\n```\n\n\nAnd certain data structures don't make sense for certain charts. Here's a valid pie chart:\n", 
            "cell_type": "markdown", 
            "metadata": {}
        }, 
        {
            "outputs": [], 
            "execution_count": null, 
            "cell_type": "code", 
            "source": "yvals = [10, 20, 30]\nfig, ax = plt.subplots()\nax.pie(yvals)", 
            "metadata": {}
        }, 
        {
            "source": "However, the `pie()` call doesn't take in x- and y- parameters -- instead, the second argument is the `explode` value, easier shown than explained:", 
            "cell_type": "markdown", 
            "metadata": {}
        }, 
        {
            "outputs": [], 
            "execution_count": null, 
            "cell_type": "code", 
            "source": "a = [10, 20, 30]\nb = [0.2, 2, 1]\n\nfig, ax = plt.subplots()\nax.pie(a, b)\n", 
            "metadata": {}
        }, 
        {
            "source": "## Stacked bar charts\n\nMatplotlib offers a variety of ways to arrange multiple-series data. It's worth looking at the logic behind how a stacked bar chart is created.\n\nFirst, start with a single bar chart:", 
            "cell_type": "markdown", 
            "metadata": {}
        }, 
        {
            "outputs": [], 
            "execution_count": null, 
            "cell_type": "code", 
            "source": "xvals = [0, 1, 2, 3, 4]\ny1 = [50, 40, 30, 20, 10]\nfig, ax = plt.subplots()\nax.bar(xvals, y1)", 
            "metadata": {}
        }, 
        {
            "source": "What is the structure of data of a stacked bar chart? It's when two data series share the same independent variable (i.e. x-axis). \n\nHowever, simply calling `bar()` twice creates overlapping bars...which is not quite what we want:\n\n(note that I've added the `color` argument to the second call to make the different charts stand out):\n", 
            "cell_type": "markdown", 
            "metadata": {}
        }, 
        {
            "outputs": [], 
            "execution_count": null, 
            "cell_type": "code", 
            "source": "xvals = [0, 1, 2, 3, 4]\ny1 = [50, 40, 30, 20, 10]\ny2 = [10, 18, 23, 7, 26]\nfig, ax = plt.subplots()\nax.bar(xvals, y1)\nax.bar(xvals, y2, color='orange')", 
            "metadata": {}
        }, 
        {
            "source": "To get the grouped effect, we need to pass the `bottom` argument to the second call of `bar()`. What do we pass into that argument? The list of y-values that are in the _first_ call of `bar()`:", 
            "cell_type": "markdown", 
            "metadata": {}
        }, 
        {
            "outputs": [], 
            "execution_count": null, 
            "cell_type": "code", 
            "source": "xvals = [0, 1, 2, 3, 4]\ny1 = [50, 40, 30, 20, 10]\ny2 = [10, 18, 23, 7, 26]\nfig, ax = plt.subplots()\nax.bar(xvals, y1)\nax.bar(xvals, y2, color='orange', bottom=y1)", 
            "metadata": {}
        }, 
        {
            "source": "In effect, we've told the matplotlib plotter that we want to start the `y2` values from where each corresponding `y1` value left off, i.e. stack `y2` on top of `y1`.\n\n\nWhat happens when the `y1` and `y2` values have _different_ x-values? Something weird...which is why you shouldn't be stacking non-aligning data series: ", 
            "cell_type": "markdown", 
            "metadata": {}
        }, 
        {
            "outputs": [], 
            "execution_count": null, 
            "cell_type": "code", 
            "source": "x1 = [0, 1, 2, 3, 4]\ny1 = [50, 40, 30, 20, 10]\nx2 = [ 10, 11, 12, 13, 14]\ny2 = [10, 18, 23, 7, 26]\nfig, ax = plt.subplots()\nax.bar(x1, y1)\nax.bar(x2, y2, color='orange', bottom=y1)", 
            "metadata": {}
        }, 
        {
            "source": "## Plotting categorical data\n\nOne more example to show how picky matplotlib is about data structure.\n\nPretend we have two _things_, e.g. 'apples' and 'orranges', with two corresponding y-values, e.g. `42` and `25`, to represent `42 apples` and `25 oranges`. \n\nUnfortunately, we can't plot the __categories__ of `apples` and `oranges` along the x-axis so easily:\n\n\n```py\nxvals - ['apples', 'oranges']\nyvals = [42, 25]\nfig, ax = plt.subplots()\nax.bar(xvals, yvals)\n```\n\nWe get this arcane error:\n\n```\n---------------------------------------------------------------------------\nTypeError                                 Traceback (most recent call last)\n<ipython-input-51-368b1dcacfa1> in <module>()\n----> 1 xvals - ['apples', 'oranges']\n      2 yvals = [42, 25]\n      3 fig, ax = plt.subplots()\n      4 ax.bar(xvals, yvals)\n\nTypeError: unsupported operand type(s) for -: 'list' and 'list'\n```\n\nBasically, matplotlib won't deal with anything but numerical values -- integers, floats, or datetimes -- when plotting a chart. It just simply doesn't know where `apples` and `oranges` -- which we refer to as __categorical__ (as opposed to _continuous_) values -- should be positioned along the x-axis. \n\nSo we have to hold matplotlib by the hand and tell it:\n\n1. For the y-values of `42` and `25`, plot them against the x-values of `0` and `1` -- for now.\n2. Then, label the x-axis with 0 and 1, using `ax.set_xticks()`\n3. OK, where the `0` and `1` x-axis labels currently exist, replace them with `apples` and `oranges`, respectively, using `ax.set_xticklabels()`\n\n\n\nHere's the code to do that:\n", 
            "cell_type": "markdown", 
            "metadata": {}
        }, 
        {
            "outputs": [], 
            "execution_count": null, 
            "cell_type": "code", 
            "source": "# Step 1\n\nxvals = [0, 1]\nyvals = [42, 25]\n\nfig, ax = plt.subplots()\nax.bar(xvals, yvals)\n", 
            "metadata": {}
        }, 
        {
            "outputs": [], 
            "execution_count": null, 
            "cell_type": "code", 
            "source": "# Step 1 & 2\n\nxvals = [0, 1]\nyvals = [42, 25]\n\nfig, ax = plt.subplots()\n# note that I specify the `align` argument in the `bar()` call:\nax.bar(xvals, yvals, align='center')\nax.set_xticks(xvals)\n", 
            "metadata": {}
        }, 
        {
            "outputs": [], 
            "execution_count": null, 
            "cell_type": "code", 
            "source": "# Steps 1,2,3\n# Step 1 & 2\n\nxlabels = ['apples', 'oranges']\nxvals = [0, 1]\nyvals = [42, 25]\n\nfig, ax = plt.subplots()\n# note that I specify the `align` argument in the `bar()` call:\nax.bar(xvals, yvals, align='center')\nax.set_xticks(xvals)\nax.set_xticklabels(xlabels)", 
            "metadata": {}
        }, 
        {
            "source": "It'd be nice if matplotlib just \"knew\" how to deal with a set of human-readable labels for a simple bar chart. But just like most parts of Python programming, explicitness over ambiguity is required.", 
            "cell_type": "markdown", 
            "metadata": {}
        }, 
        {
            "source": "---\n## Animation\n\nThe easiest way to make a live animation in matplotlib is to use one of the Animation classes.\n\nSee the following link for more examples and configurations\n\nhttps://matplotlib.org/2.0.0/api/animation_api.html", 
            "cell_type": "markdown", 
            "metadata": {
                "collapsed": true
            }
        }, 
        {
            "outputs": [], 
            "execution_count": null, 
            "cell_type": "code", 
            "source": "#%matplotlib notebook\n\nimport numpy as np\nfrom matplotlib import pyplot as plt\nfrom matplotlib import animation\n%matplotlib notebook\n#%matplotlib inline\n\n\nfig = plt.figure()\n# fig.set_dpi(100)\nfig.set_size_inches(6, 6)\n\nax = plt.axes(xlim=(0, 10), ylim=(0, 10))\npatch = plt.Circle((5, -5), 0.75, fc='y')\n\ndef init():\n    patch.center = (5, 5)\n    ax.add_patch(patch)\n    return patch,\n\ndef animate(i):\n    x, y = patch.center\n    x = 5 + 3 * np.sin(np.radians(i*4))\n    y = 5 + 3 * np.cos(np.radians(i*4))\n    patch.center = (x, y)\n    return patch,\n\nanim = animation.FuncAnimation(fig, animate, \n                               init_func=init, \n                               frames=360, \n                               interval=20,\n                               blit=True)\n\nplt.show()\n\n", 
            "metadata": {}
        }, 
        {
            "outputs": [], 
            "execution_count": null, 
            "cell_type": "code", 
            "source": "\"\"\"\n===============\nRain simulation\n===============\n\nSimulates rain drops on a surface by animating the scale and opacity\nof 50 scatter points.\n\nAuthor: Nicolas P. Rougier\n\"\"\"\nimport numpy as np\nimport matplotlib.pyplot as plt\nfrom matplotlib.animation import FuncAnimation\n\n\n# Create new Figure and an Axes which fills it.\nfig = plt.figure(figsize=(7, 7))\nax = fig.add_axes([0, 0, 1, 1], frameon=False)\nax.set_xlim(0, 1), ax.set_xticks([])\nax.set_ylim(0, 1), ax.set_yticks([])\n\n# Create rain data\nn_drops = 50\nrain_drops = np.zeros(n_drops, dtype=[('position', float, 2),\n                                      ('size',     float, 1),\n                                      ('growth',   float, 1),\n                                      ('color',    float, 4)])\n\n# Initialize the raindrops in random positions and with\n# random growth rates.\nrain_drops['position'] = np.random.uniform(0, 1, (n_drops, 2))\nrain_drops['growth'] = np.random.uniform(50, 200, n_drops)\n\n# Construct the scatter which we will update during animation\n# as the raindrops develop.\nscat = ax.scatter(rain_drops['position'][:, 0], rain_drops['position'][:, 1],\n                  s=rain_drops['size'], lw=0.5, edgecolors=rain_drops['color'],\n                  facecolors='none')\n\n\ndef update(frame_number):\n    # Get an index which we can use to re-spawn the oldest raindrop.\n    current_index = frame_number % n_drops\n\n    # Make all colors more transparent as time progresses.\n    rain_drops['color'][:, 3] -= 1.0/len(rain_drops)\n    rain_drops['color'][:, 3] = np.clip(rain_drops['color'][:, 3], 0, 1)\n\n    # Make all circles bigger.\n    rain_drops['size'] += rain_drops['growth']\n\n    # Pick a new position for oldest rain drop, resetting its size,\n    # color and growth factor.\n    rain_drops['position'][current_index] = np.random.uniform(0, 1, 2)\n    rain_drops['size'][current_index] = 5\n    rain_drops['color'][current_index] = (0, 0, 0, 1)\n    rain_drops['growth'][current_index] = np.random.uniform(50, 200)\n\n    # Update the scatter collection, with the new colors, sizes and positions.\n    scat.set_edgecolors(rain_drops['color'])\n    scat.set_sizes(rain_drops['size'])\n    scat.set_offsets(rain_drops['position'])\n\n\n# Construct the animation, using the update function as the animation\n# director.\nanimation = FuncAnimation(fig, update, interval=10)\nplt.show()\n", 
            "metadata": {}
        }, 
        {
            "outputs": [], 
            "execution_count": null, 
            "cell_type": "code", 
            "source": "\"\"\"\n============\nOscilloscope\n============\n\nEmulates an oscilloscope.\n\"\"\"\nimport numpy as np\nfrom matplotlib.lines import Line2D\nimport matplotlib.pyplot as plt\nimport matplotlib.animation as animation\n\n\nclass Scope(object):\n    def __init__(self, ax, maxt=2, dt=0.02):\n        self.ax = ax\n        self.dt = dt\n        self.maxt = maxt\n        self.tdata = [0]\n        self.ydata = [0]\n        self.line = Line2D(self.tdata, self.ydata)\n        self.ax.add_line(self.line)\n        self.ax.set_ylim(-.1, 1.1)\n        self.ax.set_xlim(0, self.maxt)\n\n    def update(self, y):\n        lastt = self.tdata[-1]\n        if lastt > self.tdata[0] + self.maxt:  # reset the arrays\n            self.tdata = [self.tdata[-1]]\n            self.ydata = [self.ydata[-1]]\n            self.ax.set_xlim(self.tdata[0], self.tdata[0] + self.maxt)\n            self.ax.figure.canvas.draw()\n\n        t = self.tdata[-1] + self.dt\n        self.tdata.append(t)\n        self.ydata.append(y)\n        self.line.set_data(self.tdata, self.ydata)\n        return self.line,\n\n\ndef emitter(p=0.03):\n    'return a random value with probability p, else 0'\n    while True:\n        v = np.random.rand(1)\n        if v > p:\n            yield 0.\n        else:\n            yield np.random.rand(1)\n\nfig, ax = plt.subplots()\nscope = Scope(ax)\n\n# pass a generator in \"emitter\" to produce data for the update func\nani = animation.FuncAnimation(fig, scope.update, emitter, interval=10,\n                              blit=True)\n\n\nplt.show()", 
            "metadata": {}
        }, 
        {
            "outputs": [], 
            "execution_count": null, 
            "cell_type": "code", 
            "source": "\"\"\"\n=================\nAn animated image\n=================\n\nThis example demonstrates how to animate an image.\n\"\"\"\nimport numpy as np\nimport matplotlib.pyplot as plt\nimport matplotlib.animation as animation\n\nfig = plt.figure()\n\n\ndef f(x, y):\n    return np.sin(x) + np.cos(y)\n\nx = np.linspace(0, 2 * np.pi, 120)\ny = np.linspace(0, 2 * np.pi, 100).reshape(-1, 1)\n\nim = plt.imshow(f(x, y), animated=True)\n\n\ndef updatefig(*args):\n    global x, y\n    x += np.pi / 15.\n    y += np.pi / 20.\n    im.set_array(f(x, y))\n    return im,\n\nani = animation.FuncAnimation(fig, updatefig, interval=50, blit=True)\nplt.show()", 
            "metadata": {}
        }, 
        {
            "outputs": [], 
            "execution_count": null, 
            "cell_type": "code", 
            "source": "\"\"\"\n================\nThe Bayes update\n================\n\nThis animation displays the posterior estimate updates as it is refitted when\nnew data arrives.\nThe vertical line represents the theoretical value to which the plotted\ndistribution should converge.\n\"\"\"\n\n# update a distribution based on new data.\nimport numpy as np\nimport matplotlib.pyplot as plt\nimport scipy.stats as ss\nfrom matplotlib.animation import FuncAnimation\n\n\nclass UpdateDist(object):\n    def __init__(self, ax, prob=0.5):\n        self.success = 0\n        self.prob = prob\n        self.line, = ax.plot([], [], 'k-')\n        self.x = np.linspace(0, 1, 200)\n        self.ax = ax\n\n        # Set up plot parameters\n        self.ax.set_xlim(0, 1)\n        self.ax.set_ylim(0, 15)\n        self.ax.grid(True)\n\n        # This vertical line represents the theoretical value, to\n        # which the plotted distribution should converge.\n        self.ax.axvline(prob, linestyle='--', color='black')\n\n    def init(self):\n        self.success = 0\n        self.line.set_data([], [])\n        return self.line,\n\n    def __call__(self, i):\n        # This way the plot can continuously run and we just keep\n        # watching new realizations of the process\n        if i == 0:\n            return self.init()\n\n        # Choose success based on exceed a threshold with a uniform pick\n        if np.random.rand(1,) < self.prob:\n            self.success += 1\n        y = ss.beta.pdf(self.x, self.success + 1, (i - self.success) + 1)\n        self.line.set_data(self.x, y)\n        return self.line,\n\nfig, ax = plt.subplots()\nud = UpdateDist(ax, prob=0.7)\nanim = FuncAnimation(fig, ud, frames=np.arange(100), init_func=ud.init,\n                     interval=100, blit=True)\nplt.show()", 
            "metadata": {}
        }, 
        {
            "outputs": [], 
            "execution_count": null, 
            "cell_type": "code", 
            "source": "\"\"\"\n============\n3D animation\n============\n\nA simple example of an animated plot... In 3D!\n\"\"\"\nimport numpy as np\nimport matplotlib.pyplot as plt\nimport mpl_toolkits.mplot3d.axes3d as p3\nimport matplotlib.animation as animation\n\n\ndef Gen_RandLine(length, dims=2):\n    \"\"\"\n    Create a line using a random walk algorithm\n\n    length is the number of points for the line.\n    dims is the number of dimensions the line has.\n    \"\"\"\n    lineData = np.empty((dims, length))\n    lineData[:, 0] = np.random.rand(dims)\n    for index in range(1, length):\n        # scaling the random numbers by 0.1 so\n        # movement is small compared to position.\n        # subtraction by 0.5 is to change the range to [-0.5, 0.5]\n        # to allow a line to move backwards.\n        step = ((np.random.rand(dims) - 0.5) * 0.1)\n        lineData[:, index] = lineData[:, index - 1] + step\n\n    return lineData\n\n\ndef update_lines(num, dataLines, lines):\n    for line, data in zip(lines, dataLines):\n        # NOTE: there is no .set_data() for 3 dim data...\n        line.set_data(data[0:2, :num])\n        line.set_3d_properties(data[2, :num])\n    return lines\n\n# Attaching 3D axis to the figure\nfig = plt.figure()\nax = p3.Axes3D(fig)\n\n# Fifty lines of random 3-D lines\ndata = [Gen_RandLine(25, 3) for index in range(50)]\n\n# Creating fifty line objects.\n# NOTE: Can't pass empty arrays into 3d version of plot()\nlines = [ax.plot(dat[0, 0:1], dat[1, 0:1], dat[2, 0:1])[0] for dat in data]\n\n# Setting the axes properties\nax.set_xlim3d([0.0, 1.0])\nax.set_xlabel('X')\n\nax.set_ylim3d([0.0, 1.0])\nax.set_ylabel('Y')\n\nax.set_zlim3d([0.0, 1.0])\nax.set_zlabel('Z')\n\nax.set_title('3D Test')\n\n# Creating the Animation object\nline_ani = animation.FuncAnimation(fig, update_lines, 25, fargs=(data, lines),\n                                   interval=50, blit=False)\n\nplt.show()", 
            "metadata": {}
        }, 
        {
            "outputs": [], 
            "execution_count": null, 
            "cell_type": "code", 
            "source": "\"\"\"\n===========\nRandom data\n===========\n\nAn animation of random data.\n\n\"\"\"\n\nimport numpy as np\nimport matplotlib.pyplot as plt\nimport matplotlib.animation as animation\n\nfig, ax = plt.subplots()\nline, = ax.plot(np.random.rand(10))\nax.set_ylim(0, 1)\n\n\ndef update(data):\n    line.set_ydata(data)\n    return line,\n\n\ndef data_gen():\n    while True:\n        yield np.random.rand(10)\n\nani = animation.FuncAnimation(fig, update, data_gen, interval=100)\nplt.show()", 
            "metadata": {}
        }, 
        {
            "outputs": [], 
            "execution_count": null, 
            "cell_type": "code", 
            "source": "\"\"\"\n==================\nAnimated histogram\n==================\n\nThis example shows how to use a path patch to draw a bunch of\nrectangles for an animated histogram.\n\n\"\"\"\nimport numpy as np\n\nimport matplotlib.pyplot as plt\nimport matplotlib.patches as patches\nimport matplotlib.path as path\nimport matplotlib.animation as animation\n\nfig, ax = plt.subplots()\n\n# histogram our data with numpy\ndata = np.random.randn(1000)\nn, bins = np.histogram(data, 100)\n\n# get the corners of the rectangles for the histogram\nleft = np.array(bins[:-1])\nright = np.array(bins[1:])\nbottom = np.zeros(len(left))\ntop = bottom + n\nnrects = len(left)\n\n# here comes the tricky part -- we have to set up the vertex and path\n# codes arrays using moveto, lineto and closepoly\n\n# for each rect: 1 for the MOVETO, 3 for the LINETO, 1 for the\n# CLOSEPOLY; the vert for the closepoly is ignored but we still need\n# it to keep the codes aligned with the vertices\nnverts = nrects*(1 + 3 + 1)\nverts = np.zeros((nverts, 2))\ncodes = np.ones(nverts, int) * path.Path.LINETO\ncodes[0::5] = path.Path.MOVETO\ncodes[4::5] = path.Path.CLOSEPOLY\nverts[0::5, 0] = left\nverts[0::5, 1] = bottom\nverts[1::5, 0] = left\nverts[1::5, 1] = top\nverts[2::5, 0] = right\nverts[2::5, 1] = top\nverts[3::5, 0] = right\nverts[3::5, 1] = bottom\n\nbarpath = path.Path(verts, codes)\npatch = patches.PathPatch(\n    barpath, facecolor='green', edgecolor='yellow', alpha=0.5)\nax.add_patch(patch)\n\nax.set_xlim(left[0], right[-1])\nax.set_ylim(bottom.min(), top.max())\n\n\ndef animate(i):\n    # simulate new data coming in\n    data = np.random.randn(1000)\n    n, bins = np.histogram(data, 100)\n    top = bottom + n\n    verts[1::5, 1] = top\n    verts[2::5, 1] = top\n    return [patch, ]\n\nani = animation.FuncAnimation(fig, animate, 100, repeat=False, blit=True)\nplt.show()", 
            "metadata": {}
        }, 
        {
            "outputs": [], 
            "execution_count": null, 
            "cell_type": "code", 
            "source": "\"\"\"\n===========================\nThe double pendulum problem\n===========================\n\nThis animation illustrates the double pendulum problem.\n\"\"\"\n\n# Double pendulum formula translated from the C code at\n# http://www.physics.usyd.edu.au/~wheat/dpend_html/solve_dpend.c\n\nfrom numpy import sin, cos\nimport numpy as np\nimport matplotlib.pyplot as plt\nimport scipy.integrate as integrate\nimport matplotlib.animation as animation\n\nG = 9.8  # acceleration due to gravity, in m/s^2\nL1 = 1.0  # length of pendulum 1 in m\nL2 = 1.0  # length of pendulum 2 in m\nM1 = 1.0  # mass of pendulum 1 in kg\nM2 = 1.0  # mass of pendulum 2 in kg\n\n\ndef derivs(state, t):\n\n    dydx = np.zeros_like(state)\n    dydx[0] = state[1]\n\n    del_ = state[2] - state[0]\n    den1 = (M1 + M2)*L1 - M2*L1*cos(del_)*cos(del_)\n    dydx[1] = (M2*L1*state[1]*state[1]*sin(del_)*cos(del_) +\n               M2*G*sin(state[2])*cos(del_) +\n               M2*L2*state[3]*state[3]*sin(del_) -\n               (M1 + M2)*G*sin(state[0]))/den1\n\n    dydx[2] = state[3]\n\n    den2 = (L2/L1)*den1\n    dydx[3] = (-M2*L2*state[3]*state[3]*sin(del_)*cos(del_) +\n               (M1 + M2)*G*sin(state[0])*cos(del_) -\n               (M1 + M2)*L1*state[1]*state[1]*sin(del_) -\n               (M1 + M2)*G*sin(state[2]))/den2\n\n    return dydx\n\n# create a time array from 0..100 sampled at 0.05 second steps\ndt = 0.05\nt = np.arange(0.0, 20, dt)\n\n# th1 and th2 are the initial angles (degrees)\n# w10 and w20 are the initial angular velocities (degrees per second)\nth1 = 120.0\nw1 = 0.0\nth2 = -10.0\nw2 = 0.0\n\n# initial state\nstate = np.radians([th1, w1, th2, w2])\n\n# integrate your ODE using scipy.integrate.\ny = integrate.odeint(derivs, state, t)\n\nx1 = L1*sin(y[:, 0])\ny1 = -L1*cos(y[:, 0])\n\nx2 = L2*sin(y[:, 2]) + x1\ny2 = -L2*cos(y[:, 2]) + y1\n\nfig = plt.figure()\nax = fig.add_subplot(111, autoscale_on=False, xlim=(-2, 2), ylim=(-2, 2))\nax.grid()\n\nline, = ax.plot([], [], 'o-', lw=2)\ntime_template = 'time = %.1fs'\ntime_text = ax.text(0.05, 0.9, '', transform=ax.transAxes)\n\n\ndef init():\n    line.set_data([], [])\n    time_text.set_text('')\n    return line, time_text\n\n\ndef animate(i):\n    thisx = [0, x1[i], x2[i]]\n    thisy = [0, y1[i], y2[i]]\n\n    line.set_data(thisx, thisy)\n    time_text.set_text(time_template % (i*dt))\n    return line, time_text\n\nani = animation.FuncAnimation(fig, animate, np.arange(1, len(y)),\n                              interval=25, blit=True, init_func=init)\n\n# ani.save('double_pendulum.mp4', fps=15)\nplt.show()", 
            "metadata": {}
        }, 
        {
            "outputs": [], 
            "execution_count": null, 
            "cell_type": "code", 
            "source": "", 
            "metadata": {}
        }
    ], 
    "metadata": {
        "language_info": {
            "pygments_lexer": "ipython3", 
            "nbconvert_exporter": "python", 
            "version": "3.5.2", 
            "mimetype": "text/x-python", 
            "name": "python", 
            "file_extension": ".py", 
            "codemirror_mode": {
                "version": 3, 
                "name": "ipython"
            }
        }, 
        "kernelspec": {
            "language": "python", 
            "display_name": "Python 3.5 (Experimental) with Spark 2.1", 
            "name": "python3-spark21"
        }, 
        "anaconda-cloud": {}
    }, 
    "nbformat_minor": 1
}