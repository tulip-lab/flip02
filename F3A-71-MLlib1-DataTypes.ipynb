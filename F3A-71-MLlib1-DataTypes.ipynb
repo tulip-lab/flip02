{
    "nbformat_minor": 1, 
    "cells": [
        {
            "source": "# Modern Data Science \n**(Module 06: Apache Spark Platform)**\n\n---\n- Materials in this module include resources collected from various open-source online repositories.\n- You are free to use, change and distribute this package.\n\nPrepared by and for \n**Student Members** |\n2006-2018 [TULIP Lab](http://www.tulip.org.au), Australia\n\n---\n\n\n## Session E - Spark MLlib (1): Data Types\n\n\nThe purpose of this session is to demonstrate different coefficient and linear regression.\n\n\n### Content\n\n### Part 1 Vectors\n\n1.1 [Dense and Sparse Vectors](#dsvec)\n\n1.2 [Labeled Points](#lpoints)\n\n\n### Part 2 Matrix \n\nLocal Matrix\nRow Matrix\n\n\n2.1 [Local Matrix](#lm)\n\n2.2 [Row Matrix](#rm)\n\n2.3 [Indexed Row Matrix](#irm)\n\n2.4 [Coordinate Matrix](#cm)\n\n2.5 [Block Matrix](#bm)\n\n### Part 3 Matrix Conversions\n\n3.1 [Indexed Row Matrix Conversions](#irmc)\n\n3.2 [Coordinate Matrix Conversions](#cmc)\n\n3.3 [Block Matrix Conversions](#bmc)\n", 
            "cell_type": "markdown", 
            "metadata": {}
        }, 
        {
            "source": "---\n## <span style=\"color:#0b486b\">1. Vectors</span>\n\n<a id = \"dsvec\"></a>\n### <span style=\"color:#0b486b\">1.1 Dense and Sparse Vectors</span>\n\nSpark has many libraries, namely under MLlib (Machine Learning Library)! Spark allows for quick and easy scalability of practical machine learning!\n\nIn this lab exercise, you will learn about the basic Data Types that are used in Spark MLlib. This lab will help you develop the building blocks required to continue developing knowledge in machine learning with Spark.\n\nImport the following libraries: <br>\n<ul>\n    <li> numpy as np </li>\n    <li> scipy.sparse as sps </li>\n    <li> Vectors from pyspark.mllib.linalg </li>\n</ul>", 
            "cell_type": "markdown", 
            "metadata": {}
        }, 
        {
            "execution_count": null, 
            "cell_type": "code", 
            "metadata": {}, 
            "outputs": [], 
            "source": "import numpy as np\nimport scipy.sparse as sps\nfrom pyspark.mllib.linalg import Vectors\n\nimport time"
        }, 
        {
            "source": "First, we will be dealing with <b>Dense Vectors</b>. There are 2 types of <b>dense vectors</b> that we can create.<br>\nThe dense vectors will be modeled having the values: <b>8.0, 312.0, -9.0, 1.3</b>", 
            "cell_type": "markdown", 
            "metadata": {}
        }, 
        {
            "source": "The first <b>dense vector</b> we will create is as easy as creating a <b>numpy array</b>. <br>\nUsing the np.array function, create a <b>dense vector</b> called <b>dense_vector1</b> <br> <br>\nNote: numpy's array function takes an array as input", 
            "cell_type": "markdown", 
            "metadata": {}
        }, 
        {
            "execution_count": null, 
            "cell_type": "code", 
            "metadata": {}, 
            "outputs": [], 
            "source": "dense_vector1 = np.array([8.0, 312.0, -9.0, 1.3])"
        }, 
        {
            "source": "Print <b>dense_vector1</b> and its <b>type</b>", 
            "cell_type": "markdown", 
            "metadata": {}
        }, 
        {
            "execution_count": null, 
            "cell_type": "code", 
            "metadata": {}, 
            "outputs": [], 
            "source": "print (dense_vector1)\ntype(dense_vector1)"
        }, 
        {
            "source": "The second <b>dense vector</b> is easier than the first, and is made by creating an <b>array</b>. <br>\nCreate a <b>dense vector</b> called <b>dense_vector2</b>", 
            "cell_type": "markdown", 
            "metadata": {}
        }, 
        {
            "execution_count": null, 
            "cell_type": "code", 
            "metadata": {}, 
            "outputs": [], 
            "source": "dense_vector2 = [8.0, 312.0, -9.0, 1.3]"
        }, 
        {
            "source": "Print <b>dense_vector2</b> and its <b>type</b>", 
            "cell_type": "markdown", 
            "metadata": {}
        }, 
        {
            "execution_count": null, 
            "cell_type": "code", 
            "metadata": {}, 
            "outputs": [], 
            "source": "print (dense_vector2)\ntype (dense_vector2)"
        }, 
        {
            "source": "Next, we will be dealing with <b>sparse vectors</b>. There are 2 types of <b>sparse vectors</b> we can create. <br>\nThe sparse vectors we will be creating will follow these values: <b> 7.0, 0.0, 0.0, 2.0, 0.0, 1.0, 0.0, 0.0, 0.0, 6.5 </b>", 
            "cell_type": "markdown", 
            "metadata": {}
        }, 
        {
            "source": "First, create a <b>sparse vector</b> called <b>sparse_vector1</b> using Vector's <b>sparse</b> function. <br>\nInputs to Vector.sparse: <br>\n<ul>\n    <li>1st: Size of the sparse vector</li>\n    <li>2nd: Indicies of array</li>\n    <li>3rd: Values placed where the indices are</li>\n</ul>", 
            "cell_type": "markdown", 
            "metadata": {}
        }, 
        {
            "execution_count": null, 
            "cell_type": "code", 
            "metadata": {}, 
            "outputs": [], 
            "source": "sparse_vector1 = Vectors.sparse(10, [0, 3, 5, 9], [7.0, 2.0, 1.0, 6.5])"
        }, 
        {
            "source": "Print <b>sparse_vector1</b> and its <b>type</b>", 
            "cell_type": "markdown", 
            "metadata": {}
        }, 
        {
            "execution_count": null, 
            "cell_type": "code", 
            "metadata": {}, 
            "outputs": [], 
            "source": "print(sparse_vector1)\ntype(sparse_vector1)"
        }, 
        {
            "source": "Next we will create a <b>sparse vector</b> called <b>sparse_vector2</b> using a single-column SciPy <b>csc_matrix</b> <br> <br>\nThe inputs to sps.csc_matrix are: <br>\n<ul>\n    <li>1st: A tuple consisting of the three inputs:</li>\n    <ul>\n        <li>1st: Data Values (in a numpy array) (values placed at the specified indices)</li>\n        <li>2nd: Indicies of the array (in a numpy array) (where the values will be placed)</li>\n        <li>3rd: Index pointer of the array (in a numpy array)</li>\n    </ul>\n    <li>2nd: Shape of the array (#rows, #columns) Use 10 rows and 1 column</li>\n    <ul>\n        <li>shape = (\\_,\\_)</li>\n    </ul>\n</ul> <br>\nNote: You may get a deprecation warning. Please Ignore it.", 
            "cell_type": "markdown", 
            "metadata": {}
        }, 
        {
            "execution_count": null, 
            "cell_type": "code", 
            "metadata": {
                "scrolled": true
            }, 
            "outputs": [], 
            "source": "sparse_vector2 = sps.csc_matrix((np.array([7.0, 2.0, 1.0, 6.5]), np.array([0, 3, 5, 9]), np.array([0, 4])), shape = (10, 1))"
        }, 
        {
            "source": "Print <b>sparse_vector2</b> and its <b>type</b>", 
            "cell_type": "markdown", 
            "metadata": {}
        }, 
        {
            "execution_count": null, 
            "cell_type": "code", 
            "metadata": {}, 
            "outputs": [], 
            "source": "print (sparse_vector2)\nprint (type(sparse_vector2))"
        }, 
        {
            "source": "<a id = \"lpoints\"></a>\n### <span style=\"color:#0b486b\">1.2 Labeled Points</span>\n\nSo the next data type will be Labeled points. Remember that this data type is mainly used for classification algorithms in supervised learning.<br>\n\nStart by importing the following libraries: <br>\n<ul>\n    <li>SparseVector from pyspark.mllib.linalg</li>\n    <li>LabeledPoint from pyspark.mllib.regression</li>\n</ul>", 
            "cell_type": "markdown", 
            "metadata": {}
        }, 
        {
            "execution_count": null, 
            "cell_type": "code", 
            "metadata": {}, 
            "outputs": [], 
            "source": "from pyspark.mllib.linalg import SparseVector\nfrom pyspark.mllib.regression import LabeledPoint"
        }, 
        {
            "source": "Remember that with a lableled point, we can create binary or multiclass classification. In this lab, we will deal with binary classification for ease. <br> <br>\nThe <b>LabeledPoint</b> function takes in 2 inputs:\n<ul>\n    <li>1st: Label of the Point. In this case (for binary classification), we will be using <font color=\"green\">1.0</font> for <font color=\"green\">positive</font> and <font color=\"red\">0.0</font> for <font color=\"red\">negative</font></li>\n    <li>2nd: Vector of features for the point (We will input a Dense or Sparse Vector using any of the methods defined in the <b>Dense and Sparse Vectors</b> section of this lab.</b>\n</ul>", 
            "cell_type": "markdown", 
            "metadata": {}
        }, 
        {
            "source": "Using the LabelPoint class, create a <b>dense</b> feature vector with a <b>positive</b> label called <b>pos_class</b> with the values: <b>5.0, 2.0, 1.0, 9.0</b>", 
            "cell_type": "markdown", 
            "metadata": {}
        }, 
        {
            "execution_count": null, 
            "cell_type": "code", 
            "metadata": {}, 
            "outputs": [], 
            "source": "pos_class = LabeledPoint(1.0, [5.0, 2.0, 1.0, 9.0])"
        }, 
        {
            "source": "Print <i>pos_class</i> and its <i>type</i>", 
            "cell_type": "markdown", 
            "metadata": {}
        }, 
        {
            "execution_count": null, 
            "cell_type": "code", 
            "metadata": {}, 
            "outputs": [], 
            "source": "print(pos_class)\ntype(pos_class)"
        }, 
        {
            "source": "Next we will create a <b>sparse</b> feature vector with a <b>negative</b> label called <b>neg_class</b> with the values: <b>1.0, 0.0, 0.0, 4.0, 0.0, 2.0</b>", 
            "cell_type": "markdown", 
            "metadata": {}
        }, 
        {
            "execution_count": null, 
            "cell_type": "code", 
            "metadata": {}, 
            "outputs": [], 
            "source": "neg_class = LabeledPoint(0.0, SparseVector(6, [0, 3, 5], [1.0, 4.0, 2.0]))"
        }, 
        {
            "source": "Print <b>neg_class</b> and its <b>type</b>", 
            "cell_type": "markdown", 
            "metadata": {}
        }, 
        {
            "execution_count": null, 
            "cell_type": "code", 
            "metadata": {}, 
            "outputs": [], 
            "source": "print(neg_class)\ntype(neg_class)"
        }, 
        {
            "source": "---\n## <span style=\"color:#0b486b\">2. Matrix Data Types</span>\n\n\nIn this next section, we will be dealing creating the following matrices:\n<ul>\n    <li>Local Matrix</li>\n    <li>Row Matrix</li>\n    <li>Indexed Row Matrix</li>\n    <li>Coordinate Matrix</li>\n    <li>Block Matrix</li>\n</ul> \n\nThroughout this section, we will be modelling the following matricies: <br> \n\n<center>For a Dense Matrix:</center> <br> \n\n$$\n \\begin{pmatrix}\n  1.00 & 6.00 & 3.00 & 0.00 \\\\\n  3.00 & 2.00 & 5.00 & 1.00 \\\\\n  9.00 & 4.00 & 0.00 & 3.00 \n \\end{pmatrix}\n$$\n\n<center>For a Sparse Matrix:</center> <br> \n\n$$\n \\begin{pmatrix}\n  1.00 & 0.00 & 3.00 & 0.00 \\\\\n  3.00 & 0.00 & 0.00 & 1.00 \\\\\n  0.00 & 4.00 & 0.00 & 0.00 \n \\end{pmatrix}\n$$", 
            "cell_type": "markdown", 
            "metadata": {}
        }, 
        {
            "source": "<a id = \"lm\"></a>\n### <span style=\"color:#0b486b\">2.1 Local Matrix</span>\n\nImport the following Library:\n<ul>\n    <li>pyspark.mllib.linalg as laMat</li>\n</ul>", 
            "cell_type": "markdown", 
            "metadata": {}
        }, 
        {
            "execution_count": null, 
            "cell_type": "code", 
            "metadata": {}, 
            "outputs": [], 
            "source": "import pyspark.mllib.linalg as laMat"
        }, 
        {
            "source": "Create a dense local matrix called <b>dense_LM</b> <br>\nThe inputs into the <b>laMat.Matrices.dense</b> function are:\n<ul>\n    <li>1st: Number of Rows</li>\n    <li>2nd: Number of Columns</li>\n    <li>3rd: Values in an array format (Read as Column-Major)</li>\n</ul>", 
            "cell_type": "markdown", 
            "metadata": {}
        }, 
        {
            "execution_count": null, 
            "cell_type": "code", 
            "metadata": {
                "scrolled": true
            }, 
            "outputs": [], 
            "source": "dense_LM = laMat.Matrices.dense(3,4, [1.0, 3.0, 9.0, 6.0, 2.0, 4.0, 3.0, 5.0, 0.0, 0.0, 1.0, 3.0])"
        }, 
        {
            "source": "Print <b>dense_LM</b> and its <b>type</b>", 
            "cell_type": "markdown", 
            "metadata": {}
        }, 
        {
            "execution_count": null, 
            "cell_type": "code", 
            "metadata": {}, 
            "outputs": [], 
            "source": "print(dense_LM)\ntype(dense_LM)"
        }, 
        {
            "source": "Next we will do the same thing with a sparse matrix, calling the output <b>sparse_LM</b>\nThe inputs into the <b>laMat.Matrices.sparse</b> function are:\n<ul>\n    <li>1st: Number of Rows</li>\n    <li>2nd: Number of Columns</li>\n    <li>3rd: Column Pointers (in a list)</li>\n    <li>4th: Row Indices (in a list)</li>\n    <li>5th: Values of the Matrix (in a list)</li>\n</ul> <br>\n<b>Note</b>: Remember that this is <b>column-major</b> so all arrays should be read as columns first (top down, left to right)", 
            "cell_type": "markdown", 
            "metadata": {}
        }, 
        {
            "execution_count": null, 
            "cell_type": "code", 
            "metadata": {}, 
            "outputs": [], 
            "source": "sparse_LM = laMat.Matrices.sparse(3, 4, [0, 2, 3, 4, 5], [0, 1, 2, 1, 1], [1.0, 3.0, 4.0, 3.0, 1.0])"
        }, 
        {
            "source": "Print <b>sparse_LM</b> and its <b>type</b>", 
            "cell_type": "markdown", 
            "metadata": {}
        }, 
        {
            "execution_count": null, 
            "cell_type": "code", 
            "metadata": {}, 
            "outputs": [], 
            "source": "print(sparse_LM)\ntype(sparse_LM)"
        }, 
        {
            "source": "Make sure the output of <b>sparse_LM</b> matches the original matrix.", 
            "cell_type": "markdown", 
            "metadata": {}
        }, 
        {
            "source": "<a id = \"rm\"></a>\n### <span style=\"color:#0b486b\">2.2 Row Matrix</span>\n\nA RowMatrix is a Row-oriented distributed matrix that doesn't have meaningful row indices.\n\nImport the following library:\n<ul>\n    <li>RowMatrix from pyspark.mllib.linalg.distributed</li>\n</ul>", 
            "cell_type": "markdown", 
            "metadata": {
                "collapsed": true
            }
        }, 
        {
            "execution_count": null, 
            "cell_type": "code", 
            "metadata": {}, 
            "outputs": [], 
            "source": "from pyspark.mllib.linalg.distributed import RowMatrix"
        }, 
        {
            "source": "Now, let's create a RDD of vectors called <b>rowVecs</b>, using the SparkContext's parallelize function on the <b>Dense Matrix</b>.<br>\nThe input into <b>sc.parallelize</b> is:\n<ul>\n    <li>A list (The list we will be creating will be a list of the row values (each row is a list))</li>\n</ul> <br>\n<b>Note</b>: And RDD is a fault-tolerated collection of elements that can be operated on in parallel. <br>", 
            "cell_type": "markdown", 
            "metadata": {}
        }, 
        {
            "execution_count": null, 
            "cell_type": "code", 
            "metadata": {}, 
            "outputs": [], 
            "source": "rowVecs = sc.parallelize([[1.0, 6.0, 3.0, 0.0],\n                       [3.0, 2.0, 5.0, 1.0],\n                       [9.0, 4.0, 0.0, 3.0]])"
        }, 
        {
            "source": "Next, create a variable called <b>rowMat</b> by using the <b>RowMatrix</b> function and passing in the RDD.", 
            "cell_type": "markdown", 
            "metadata": {}
        }, 
        {
            "execution_count": null, 
            "cell_type": "code", 
            "metadata": {}, 
            "outputs": [], 
            "source": "rowMat = RowMatrix(rowVecs)"
        }, 
        {
            "source": "Now we will retrieve the <font color=\"green\">row numbers</font> (save it as <font color=\"green\">m</font>) and <font color=\"blue\">column numbers</font> (save it as <font color=\"blue\">n</font>) from the RowMatrix.\n<ul>\n    <li>To get the number of rows, use <i>numRows()</i> on rowMat</li>\n    <li>To get the number of columns, use <i>numCols()</i> on rowMat</li>\n</ul>", 
            "cell_type": "markdown", 
            "metadata": {}
        }, 
        {
            "execution_count": null, 
            "cell_type": "code", 
            "metadata": {}, 
            "outputs": [], 
            "source": "m = rowMat.numRows()\nn = rowMat.numCols()"
        }, 
        {
            "source": "Print out <b>m</b> and <b>n</b>. The results should be:\n<ul>\n    <li>Number of Rows: 3</li>\n    <li>Number of Columns: 4</li>\n</ul>", 
            "cell_type": "markdown", 
            "metadata": {}
        }, 
        {
            "execution_count": null, 
            "cell_type": "code", 
            "metadata": {}, 
            "outputs": [], 
            "source": "print(m)\n\nprint(n)"
        }, 
        {
            "source": "<a id = \"irm\"></a>\n### <span style=\"color:#0b486b\">2.3 Indexed Row Matrix</span>\n\nSince we just created a RowMatrix, which had no meaningful row indicies, let's create an <b>IndexedRowMatrix</b> which has meaningful row indices!\n\nImport the following Library:\n<ul>\n    <li> IndexedRow, IndexedRowMatrix from pyspark.mllib.linalg.distributed</li>\n</ul>", 
            "cell_type": "markdown", 
            "metadata": {}
        }, 
        {
            "execution_count": null, 
            "cell_type": "code", 
            "metadata": {}, 
            "outputs": [], 
            "source": "from pyspark.mllib.linalg.distributed import IndexedRow, IndexedRowMatrix"
        }, 
        {
            "source": "Now, create a RDD called <b>indRows</b> by using the SparkContext's parallelize function on the <b>Dense Matrix</b>. <br>\nThere are two different inputs you can use to create the RDD:\n<ul>\n    <li>Method 1: A list containing multiple IndexedRow inputs</li>\n    <ul>\n        <li>Input into IndexedRow:</li>\n        <ul>\n            <li>1. Index for the given row (row number)</li>\n            <li>2. row in the matrix for the given index</li>\n        </ul>\n        <li>ex. sc.parallelize([IndexedRow(0,[1, 2, 3]), ...])</li>\n    </ul> <br>\n    <li>Method 2: A list containing multiple tuples</li>\n    <ul>\n        <li>Values in the tuple:</li>\n        <ul>\n            <li>1. Index for the given row (row number) (type:long)</li>\n            <li>2. List containing the values in the row for the given index (type:vector)</li>\n        </ul>\n        <li>ex. sc.parallelize([(0, [1, 2, 3]), ...])</li>\n    </ul>\n</ul>", 
            "cell_type": "markdown", 
            "metadata": {}
        }, 
        {
            "execution_count": null, 
            "cell_type": "code", 
            "metadata": {}, 
            "outputs": [], 
            "source": "# Method 1: Using IndexedRow class\nindRows = sc.parallelize([IndexedRow(0, [1.0, 6.0, 3.0, 0.0]),\n                          IndexedRow(1, [3.0, 2.0, 5.0, 1.0]),\n                          IndexedRow(2, [9.0, 4.0, 0.0, 3.0])])\n\n# Method 2: Using (long, vector) tuples\nindRows = sc.parallelize([(0, [1.0, 6.0, 3.0, 0.0]),\n                          (1, [3.0, 2.0, 5.0, 1.0]),\n                          (2, [9.0, 4.0, 0.0, 3.0])])"
        }, 
        {
            "source": "Now, create the <b>IndexedRowMatrix</b> called <b>indRowMat</b> by using the IndexedRowMatrix function and passing in the <b>indRows</b> RDD", 
            "cell_type": "markdown", 
            "metadata": {}
        }, 
        {
            "execution_count": null, 
            "cell_type": "code", 
            "metadata": {}, 
            "outputs": [], 
            "source": "indRowMat = IndexedRowMatrix(indRows)"
        }, 
        {
            "source": "Now we will retrieve the <font color=\"green\">row numbers</font> (save it as <font color=\"green\">m2</font>) and <font color=\"blue\">column numbers</font> (save it as <font color=\"blue\">n2</font>) from the IndexedRowMatrix.\n<ul>\n    <li>To get the number of rows, use <i>numRows()</i> on indRowMat</li>\n    <li>To get the number of columns, use <i>numCols()</i> on indRowMat</li>\n</ul>", 
            "cell_type": "markdown", 
            "metadata": {}
        }, 
        {
            "execution_count": null, 
            "cell_type": "code", 
            "metadata": {}, 
            "outputs": [], 
            "source": "m2 = indRowMat.numRows()\nn2 = indRowMat.numCols()"
        }, 
        {
            "source": "Print out <b>m2</b> and <b>n2</b>. The results should be:\n<ul>\n    <li>Number of Rows: 3</li>\n    <li>Number of Columns: 4</li>\n</ul>", 
            "cell_type": "markdown", 
            "metadata": {}
        }, 
        {
            "execution_count": null, 
            "cell_type": "code", 
            "metadata": {
                "scrolled": true
            }, 
            "outputs": [], 
            "source": "print(m2)\n\nprint(n2)"
        }, 
        {
            "source": "<a id = \"cm\"></a>\n### <span style=\"color:#0b486b\">2.3 Coordinate Matrix</span>\n\n\nNow it's time to create a different type of matrix, whos use should be when both the dimensions of the matrix is very large, and the data in the matrix is sparse. <br>\n<b>Note</b>: In this case, we will be using the small, sparse matrix above, just to get the idea of how to initialize a CoordinateMatrix\n\nImport the following libraries:\n<ul>\n    <li>CoordinateMatrix, MatrixEntry from pyspark.mllib.linalg.distributed</li>\n</ul>", 
            "cell_type": "markdown", 
            "metadata": {}
        }, 
        {
            "execution_count": null, 
            "cell_type": "code", 
            "metadata": {}, 
            "outputs": [], 
            "source": "from pyspark.mllib.linalg.distributed import CoordinateMatrix, MatrixEntry"
        }, 
        {
            "source": "Now, create a RDD called <b>coordRows</b> by using the SparkContext's parallelize function on the <b>Sparse Matrix</b>. There are two different inputs you can use to create the RDD:\n<ul>\n    <li>Method 1: A list containing multiple MatrixEntry inputs</li>\n    <ul>\n        <li>Input into MatrixEntry:</li>\n        <ul>\n            <li>1. Row index of the matrix (row number) (type: long)</li>\n            <li>2. Column index of the matrix (column number) (type: long)</li>\n            <li>3. Value at the (Row Index, Column Index) entry of the matrix (type: float)</li>\n        </ul>\n        <li>ex. sc.parallelize([MatrixEntry(0, 0, 1,), ...])</li>\n    </ul> <br>\n    <li>Method 2: A list containing multiple tuples</li>\n    <ul>\n        <li>Values in the tuple:</li>\n        <ul>\n            <li>1. Row index of the matrix (row number) (type: long)</li>\n            <li>2. Column index of the matrix (column number) (type: long)</li>\n            <li>3. Value at the (Row Index, Column Index) entry of the matrix (type: float)</li>\n        </ul>\n        <li>ex. sc.parallelize([(0, 0, 1), ...])</li>\n    </ul>\n</ul>", 
            "cell_type": "markdown", 
            "metadata": {}
        }, 
        {
            "execution_count": null, 
            "cell_type": "code", 
            "metadata": {}, 
            "outputs": [], 
            "source": "# Method 1. Using MatrixEntry class\ncoordRows = sc.parallelize([MatrixEntry(0, 0, 1.0),\n                            MatrixEntry(0, 2, 3.0),\n                            MatrixEntry(1, 0, 3.0),\n                            MatrixEntry(1, 3, 1.0),\n                            MatrixEntry(2, 2, 4.0)])\n\n# Method 2. Using (long, long, float) tuples\ncoordRows = sc.parallelize([(0, 0, 1.0),\n                            (0, 2, 3.0),\n                            (1, 1, 3.0),\n                            (1, 3, 1.0), \n                            (2, 2, 4.0)])"
        }, 
        {
            "source": "Now, create the <b>CoordinateMatrix</b> called <b>coordMat</b> by using the CoordinateMatrix function and passing in the <b>coordRows</b> RDD", 
            "cell_type": "markdown", 
            "metadata": {}
        }, 
        {
            "execution_count": null, 
            "cell_type": "code", 
            "metadata": {}, 
            "outputs": [], 
            "source": "coordMat = CoordinateMatrix(coordRows)"
        }, 
        {
            "source": "Now we will retrieve the <font color=\"green\">row numbers</font> (save it as <font color=\"green\">m3</font>) and <font color=\"blue\">column numbers</font> (save it as <font color=\"blue\">n3</font>) from the CoordinateMatrix.\n<ul>\n    <li>To get the number of rows, use <i>numRows()</i> on coordMat</li>\n    <li>To get the number of columns, use <i>numCols()</i> on coordMat</li>\n</ul>", 
            "cell_type": "markdown", 
            "metadata": {}
        }, 
        {
            "execution_count": null, 
            "cell_type": "code", 
            "metadata": {}, 
            "outputs": [], 
            "source": "m3 = coordMat.numRows()\nn3 = coordMat.numCols()"
        }, 
        {
            "source": "Print out <b>m3</b> and <b>n3</b>. The results should be:\n<ul>\n    <li>Number of Rows: 3</li>\n    <li>Number of Columns: 4</li>\n</ul>", 
            "cell_type": "markdown", 
            "metadata": {}
        }, 
        {
            "execution_count": null, 
            "cell_type": "code", 
            "metadata": {
                "scrolled": true
            }, 
            "outputs": [], 
            "source": "print(m3)\n\nprint(n3)"
        }, 
        {
            "source": "Now, we can get the <b>entries</b> of coordMat by calling the entries method on it. Store this in a variable called coordEnt.", 
            "cell_type": "markdown", 
            "metadata": {}
        }, 
        {
            "execution_count": null, 
            "cell_type": "code", 
            "metadata": {}, 
            "outputs": [], 
            "source": "coordEnt = coordMat.entries"
        }, 
        {
            "source": "Check out the <i>type</i> of coordEnt.", 
            "cell_type": "markdown", 
            "metadata": {}
        }, 
        {
            "execution_count": null, 
            "cell_type": "code", 
            "metadata": {}, 
            "outputs": [], 
            "source": "type(coordEnt)"
        }, 
        {
            "source": "It should be a <b>PipelinedRDD</b> type, which has many methods that are associated with it. One of them is <b>first()</b>, which will get the first element in the RDD. <br> <br>\n\nRun coordEnt.first()", 
            "cell_type": "markdown", 
            "metadata": {}
        }, 
        {
            "execution_count": null, 
            "cell_type": "code", 
            "metadata": {}, 
            "outputs": [], 
            "source": "coordEnt.first()"
        }, 
        {
            "source": "<a id = \"bm\"></a>\n### <span style=\"color:#0b486b\">2.4 Block Matrix</span>\n\nA BlockMatrix is essentially a matrix consisting of elements which are partitions of the matrix that is being created.\n\nImport the following libraries:\n<ul>\n    <li>Matrices from pyspark.mllib.linalg</li>\n    <li>BlockMatrix from pyspark.mllib.linalg.distributed</li>\n</ul>", 
            "cell_type": "markdown", 
            "metadata": {}
        }, 
        {
            "execution_count": null, 
            "cell_type": "code", 
            "metadata": {
                "scrolled": true
            }, 
            "outputs": [], 
            "source": "from pyspark.mllib.linalg import Matrices\nfrom pyspark.mllib.linalg.distributed import BlockMatrix"
        }, 
        {
            "source": "Now create a <b>RDD</b> of <b>sub-matrix blocks</b>. <br>\nThis will be done using SparkContext's parallelize function. <br>\n\nThe input into <b>sc.parallelize</b> requires a <b>list of tuples</b>. The tuples are the sub-matrices, which consist of two inputs:\n<ul>\n    <li>1st: A tuple containing the row index and column index (row, column), denoting where the sub-matrix will start</li>\n    <li>2nd: The sub-matrix, which will come from <b>Matrices.dense</b>. The sub-matrix requires 3 inputs:</li>\n    <ul>\n        <li>1st: Number of rows</li>\n        <li>2nd: Number of columns</li>\n        <li>3rd: A list containing the elements of the sub-matrix. These values are read into the sub-matrix column-major fashion</li>\n    </ul>\n</ul> <br>\n(ex. ((51, 2), Matrices.dense(2, 2, [61.0, 43.0, 1.0, 74.0])) would be one row (one tuple)).", 
            "cell_type": "markdown", 
            "metadata": {}
        }, 
        {
            "source": "The matrix we will be modelling is <b>Dense Matrix</b> from above. Create the following sub-matrices:\n<ul>\n    <li>Row: 0, Column: 0, Values: 1.0, 3.0, 6.0, 2.0, with 2 Rows and 2 Columns </li>\n    <li>Row: 2, Column: 0, Values: 9.0, 4.0, with 1 Row and 2 Columns</li>\n    <li>Row: 0, Column: 2, Values: 3.0, 5.0, 0.0, 0.0, 1.0, 3.0, with 3 Rows and 2 Columns</li>\n</ul>", 
            "cell_type": "markdown", 
            "metadata": {}
        }, 
        {
            "execution_count": null, 
            "cell_type": "code", 
            "metadata": {}, 
            "outputs": [], 
            "source": "blocks = sc.parallelize([((0, 0), Matrices.dense(2, 2, [1.0, 3.0, 6.0, 2.0])), \n                         ((2, 0), Matrices.dense(1, 2, [9.0, 4.0])), \n                         ((0, 2), Matrices.dense(3, 2, [3.0, 5.0, 0.0, 0.0, 1.0, 3.0]))])"
        }, 
        {
            "source": "Now that we have the RDD, it's time to create the BlockMatrix called <b>blockMat</b> using the BlockMatrix class. The <b>BlockMatrix</b> class requires 3 inputs:\n<ul>\n    <li>1st: The RDD of sub-matricies</li>\n    <li>2nd: The rows per block. Keep this value at 1</li>\n    <li>3rd: The columns per block. Keep this value at 1</li>\n</ul>", 
            "cell_type": "markdown", 
            "metadata": {}
        }, 
        {
            "execution_count": null, 
            "cell_type": "code", 
            "metadata": {}, 
            "outputs": [], 
            "source": "blockMat = BlockMatrix(blocks, 1, 1)"
        }, 
        {
            "source": "Now we will retrieve the <font color=\"green\">row numbers</font> (save it as <font color=\"green\">m4</font>) and <font color=\"blue\">column numbers</font> (save it as <font color=\"blue\">n4</font>) from the BlockMatrix.\n<ul>\n    <li>To get the number of rows, use <i>numRows()</i> on blockMat</li>\n    <li>To get the number of columns, use <i>numCols()</i> on blockMat</li>\n</ul>", 
            "cell_type": "markdown", 
            "metadata": {}
        }, 
        {
            "execution_count": null, 
            "cell_type": "code", 
            "metadata": {
                "scrolled": true
            }, 
            "outputs": [], 
            "source": "m4 = blockMat.numRows()\nn4 = blockMat.numCols()"
        }, 
        {
            "source": "Print out <b>m4</b> and <b>n4</b>. The results should be:\n<ul>\n    <li>Number of Rows: 3</li>\n    <li>Number of Columns: 4</li>\n</ul>", 
            "cell_type": "markdown", 
            "metadata": {}
        }, 
        {
            "execution_count": null, 
            "cell_type": "code", 
            "metadata": {}, 
            "outputs": [], 
            "source": "print(m4)\n\nprint(n4)"
        }, 
        {
            "source": "Now, we need to check if our matrix is correct. We can do this by first converting <b>blockMat</b> into a LocalMatrix, by using the <b>.toLocalMatrix()</b> function on our matrix. Store the result into a variable called <b>locBMat</b>", 
            "cell_type": "markdown", 
            "metadata": {}
        }, 
        {
            "execution_count": null, 
            "cell_type": "code", 
            "metadata": {}, 
            "outputs": [], 
            "source": "locBMat = blockMat.toLocalMatrix()"
        }, 
        {
            "source": "Now print out <b>locBMat</b> and its <b>type</b>. The result should model the original <b>Dense Matrix</b> and the type should be a DenseMatrix.", 
            "cell_type": "markdown", 
            "metadata": {}
        }, 
        {
            "execution_count": null, 
            "cell_type": "code", 
            "metadata": {}, 
            "outputs": [], 
            "source": "print(locBMat)\nprint(type(locBMat))"
        }, 
        {
            "source": "---\n## <span style=\"color:#0b486b\">3. Matrix Conversions</span>\n\n\nIn this bonus section, we will talk about a relationship between the different types of matrices. You can convert between these matrices that we discussed with the following functions. <br>\n<ul>\n    <li>.toRowMatrix() converts the matrix to a RowMatrix</li>\n    <li>.toIndexedRowMatrix() converts the matrix to an IndexedRowMatrix</li>\n    <li>.toCoordinateMatrix() converts the matrix to a CoordinateMatrix</li>\n    <li>.toBlockMatrix() converts the matrix to a BlockMatrix</li>\n</ul>", 
            "cell_type": "markdown", 
            "metadata": {}
        }, 
        {
            "source": "<a id = \"irmc\"></a>\n### <span style=\"color:#0b486b\">3.1  Indexed Row Matrix Conversions</span>\n\nThe following conversions are supported for an IndexedRowMatrix:\n<ul>\n    <li>IndexedRowMatrix -> RowMatrix</li>\n    <li>IndexedRowMatrix -> CoordinateMatrix</li>\n    <li>IndexedRowMatrix -> BlockMatrix</li>\n</ul>", 
            "cell_type": "markdown", 
            "metadata": {}
        }, 
        {
            "execution_count": null, 
            "cell_type": "code", 
            "metadata": {
                "scrolled": false
            }, 
            "outputs": [], 
            "source": "# Convert to a RowMatrix\nrMat = indRowMat.toRowMatrix()\nprint(type(rMat))\n\n# Convert to a CoordinateMatrix\ncMat = indRowMat.toCoordinateMatrix()\nprint(type(cMat))\n\n# Convert to a BlockMatrix\nbMat = indRowMat.toBlockMatrix()\nprint(type(bMat))"
        }, 
        {
            "source": "<a id = \"cmc\"></a>\n### <span style=\"color:#0b486b\">3.2  Coordinate Matrix Conversions</span>\n\nThe following conversions are supported for an CoordinateMatrix:\n<ul>\n    <li>CoordinateMatrix -> RowMatrix</li>\n    <li>CoordinateMatrix -> IndexedRowMatrix</li>\n    <li>CoordinateMatrix -> BlockMatrix</li>\n</ul>", 
            "cell_type": "markdown", 
            "metadata": {}
        }, 
        {
            "execution_count": null, 
            "cell_type": "code", 
            "metadata": {
                "scrolled": true
            }, 
            "outputs": [], 
            "source": "# Convert to a RowMatrix\nrMat2 = coordMat.toRowMatrix()\nprint(type(rMat2))\n\n# Convert to an IndexedRowMatrix\niRMat = coordMat.toIndexedRowMatrix()\nprint(type(iRMat))\n\n# Convert to a BlockMatrix\nbMat2 = coordMat.toBlockMatrix()\nprint(type(bMat2))"
        }, 
        {
            "source": "<a id = \"bmc\"></a>\n### <span style=\"color:#0b486b\">3.3  Block Matrix Conversions</span>\n\n\nThe following conversions are supported for an BlockMatrix:\n<ul>\n    <li>BlockMatrix -> LocalMatrix (Can display the Matrix)</li>\n    <li>BlockMatrix -> IndexedRowMatrix</li>\n    <li>BlockMatrix -> CoordinateMatrix</li>\n</ul>", 
            "cell_type": "markdown", 
            "metadata": {}
        }, 
        {
            "execution_count": null, 
            "cell_type": "code", 
            "metadata": {}, 
            "outputs": [], 
            "source": "# Convert to a LocalMatrix\nlMat = blockMat.toLocalMatrix()\nprint(type(lMat))\n\n# Convert to an IndexedRowMatrix\niRMat2 = blockMat.toIndexedRowMatrix()\nprint(type(iRMat2))\n\n# Convert to a CoordinateMatrix\ncMat2 = blockMat.toCoordinateMatrix()\nprint(type(cMat2))"
        }
    ], 
    "metadata": {
        "kernelspec": {
            "display_name": "Python 2.7", 
            "name": "python2", 
            "language": "python"
        }, 
        "widgets": {
            "state": {}, 
            "version": "1.1.2"
        }, 
        "language_info": {
            "mimetype": "text/x-python", 
            "nbconvert_exporter": "python", 
            "version": "2.7.14", 
            "name": "python", 
            "file_extension": ".py", 
            "pygments_lexer": "ipython2", 
            "codemirror_mode": {
                "version": 2, 
                "name": "ipython"
            }
        }, 
        "anaconda-cloud": {}
    }, 
    "nbformat": 4
}