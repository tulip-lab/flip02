{
    "nbformat_minor": 1, 
    "cells": [
        {
            "source": "# Modern Data Science \n**(Module 00: Programming Python)**\n\n---\n- Materials in this module include resources collected from various open-source online repositories.\n- You are free to use, change and distribute this package.\n\nPrepared by and for \n**Student Members** |\n2006-2018 [TULIP Lab](http://www.tulip.org.au), Australia\n\n---\n\n\n# Session E - Python Packages and Your Data\n\nIn this week, we will learn how to use Python Packages to manipulate the data and files.\n\nPlease note that:\n\n1. Some of the Packages might not work in Python 3;\n1. If the code doesn't work, you can either change the code (or your own) in Python 3, or you can create a Python 2 Environment in Anaconda, and get the codes running there.", 
            "cell_type": "markdown", 
            "metadata": {}
        }, 
        {
            "source": "## Content\n\n\n\n### Part 1 Python packages\n\n1.1 [Standard Libary](#standlib)\n\n1.2 [Third Party Packages](#3rdparty)\n\n1.3 [How to Install a Package](#installpack)\n\n1.4 [Importing a module](#importmod) \n\n\n### Part 2 Python Simple IO\n\n2.1 [Input](#input)\n\n2.2 [Output](#output)\n\n\n### Part 3 Datetime Module\n\n3.1 [Time](#time)\n\n3.2 [Date](#date)\n\n3.3 [Timedelta](#timedelta)\n\n3.4 [Formatting and Parsing](#parsing)\n\n### Part 4 Tweeter API\n\n4.1 [Search Tweeter](#tweeter)\n\n4.2 [Geo-Visualization](#geo)\n\n\n### Part 5 Numpy Module\n\n5.1 [Importing Numpy](#importnp)\n\n5.2 [Numpy arrays](#nparray)\n\n5.3 [Manipulating arrays](#maninp)\n\n5.4 [Array Operations](#arrayop)\n\n5.5 [np.random](#random)\n\n5.6 [Vectorizing Functions](#vecfunc)\n\n\n\n### Part 6 Data Loading\n\n6.1 [TXT](#txt)\n\n6.2 [CSV](#csv)\n\n6.3 [JSON](#json)\n\n", 
            "cell_type": "markdown", 
            "metadata": {}
        }, 
        {
            "source": "---\n## <span style=\"color:#0b486b\">1. Python packages</span>", 
            "cell_type": "markdown", 
            "metadata": {}
        }, 
        {
            "source": "After completing previous Python sessions, you should know about the syntax and semantics of the Python language. But apart from that, you should also learn about Python libraries and its packages to be able to code efficiently. Python\u2019s standard library is very extensive, offering a wide range of facilities as indicated [here](https://docs.python.org/2/library/). The library contains built-in modules (written in C) that provide access to system functionality such as file I/O that would otherwise be inaccessible to Python programmers, as well as modules written in Python that provide standardized solutions for many problems that occur in everyday programming. Look at the [Python Standard Library Manual](https://docs.python.org/2/library/) to read more.\n\nIn addition to the standard library, there is a growing collection of several thousand components (from individual programs and modules to packages and entire application development frameworks), available from the [Python Package Index](https://pypi.python.org/pypi).", 
            "cell_type": "markdown", 
            "metadata": {}
        }, 
        {
            "source": "<a id = \"standlib\"></a>\n\n### <span style=\"color:#0b486b\">1.1 Standard libraries</span>", 
            "cell_type": "markdown", 
            "metadata": {}
        }, 
        {
            "source": "For a complete list of Python standard library and their documentation look at the [Python Manual.](https://docs.python.org/2/library/) A few to mention are:\n\n* ``math`` for numeric and math-related functions and data types\n* ``urllib`` for fetching data across the web\n* ``datetime`` for manipulating dates and times\n* ``pickle`` and ``cPickle`` for serializing and deserializing data structures enabling us to save our variables on the disk and load them from the disk\n* ``os`` for os dependent functions", 
            "cell_type": "markdown", 
            "metadata": {}
        }, 
        {
            "source": "<a id = \"3rdparty\"></a>\n\n### <span style=\"color:#0b486b\">1.2 Third party packages</span>", 
            "cell_type": "markdown", 
            "metadata": {}
        }, 
        {
            "source": "There are thousands of third party packages, each developed for a special task. Some of the useful libraries for data science are:\n\n* ``numpy`` is probably the most fundamental package for efficient scientific computing in Python\n* ``scipy`` is one of the core packages for scientific computations\n* ``pandas`` is a library for operating with table-like data structures called DataFrame object\n* ``matplotlib`` is a comprehensive plotting library\n* ``BeautifulSoup`` is an HTML and XML parser\n* ``scikit-learn`` is the most general machine learning library for Python\n* ``nltk`` is a toolkit for natural language processing", 
            "cell_type": "markdown", 
            "metadata": {}
        }, 
        {
            "source": "<a id = \"installpack\"></a>\n### <span style=\"color:#0b486b\">1.3 How to install a package</span>", 
            "cell_type": "markdown", 
            "metadata": {}
        }, 
        {
            "source": "The easiest way to install a package is using `conda` (if you are using Anaconda) or `pip` commands. Suppose you want to install the package `NLTK`. Either:\n    \n    > conda install nltk\n    \nor    \n    \n    > pip install nltk\n    \n    \nwill install the package.", 
            "cell_type": "markdown", 
            "metadata": {}
        }, 
        {
            "source": "---\n<a id = \"importmod\"></a>\n### <span style=\"color:#0b486b\">1.4 Importing a module</span>", 
            "cell_type": "markdown", 
            "metadata": {}
        }, 
        {
            "source": "To use a module, first you have to ``import`` it. There are different ways to import a module:\n\n* `import my_module`\n* `from my_module import my_function`\n* `from my_module import my_function as func`\n* `from my_module import submodule`\n* `from my_module import submodule as sub`\n* `from my_module import *`", 
            "cell_type": "markdown", 
            "metadata": {}
        }, 
        {
            "source": "**`'import my_module'`** imports the module `'my_module'` and creates a reference to it in the namespace. For example `'import math'` imports the module `'math'` into the namespace. After importing the module this way, you can use the dot operator `(.)` to refer to the objects defined in the module. For example `'math.exp()'` refers to function `'exp()'` in module `'math'`.", 
            "cell_type": "markdown", 
            "metadata": {}
        }, 
        {
            "execution_count": null, 
            "cell_type": "code", 
            "metadata": {}, 
            "outputs": [], 
            "source": "import math\n\nx = 2\ny1 = math.exp(x)\ny2 = math.log(x)\n\nprint(\"e^{} is {} and log({}) is {}\".format(x, y1, x, y2))"
        }, 
        {
            "source": "**`'from my_module import my_function'`** only imports the function `'my_function'` from the module `'my_module'` into the namespace. This way you won't have access to neither the module (since you have not imported the module), nor the other objects of the module. You can only have access to the object you have imported.\n\nYou can use a comma to import multiple objects.", 
            "cell_type": "markdown", 
            "metadata": {}
        }, 
        {
            "execution_count": null, 
            "cell_type": "code", 
            "metadata": {}, 
            "outputs": [], 
            "source": "from math import exp\n\nx = 2\ny = exp(x)  # no need to math.exp()\n\nprint(\"e^{} is {}\".format(x, y))"
        }, 
        {
            "source": "**`'from my_module import my_function as func'`** imports the function `'my_function'` from module `'my_module'` but its identifier in the namespace is changed into `'func'`. This syntax is used to import submodules of a module as well. For example later you will see that nowadays it is almost a convention to import matplotlib.pyplot as plt.", 
            "cell_type": "markdown", 
            "metadata": {}
        }, 
        {
            "execution_count": null, 
            "cell_type": "code", 
            "metadata": {}, 
            "outputs": [], 
            "source": "# you can change the name of the imported object\nfrom math import exp as myfun\n\nx = 2\ny = myfun(x)\n\nprint(\"e^{} is {}\".format(x, y))"
        }, 
        {
            "source": "**`'from my_module import *'`** imports all the public objects defined in `'my_module'` into the namespace. Therefore after this statement you can simply use the plain name of the object to refer to it and there is no need to use the dot operator:", 
            "cell_type": "markdown", 
            "metadata": {}
        }, 
        {
            "execution_count": null, 
            "cell_type": "code", 
            "metadata": {}, 
            "outputs": [], 
            "source": "from math import *\n\nx = 2\ny1 = exp(x)\ny2 = log(x)\n\nprint(\"e^{} is {} and log({}) is {}\".format(x, y1, x, y2))"
        }, 
        {
            "source": "**Exercise1:** \n\n1. import the library `math` from standard Python libraries\n2. define a variable and assign an integer value to it (smaller than 20)\n3. use `factorial()` function (an object in `math` library) to calculate the factorial of the variable\n4. print its value", 
            "cell_type": "markdown", 
            "metadata": {}
        }, 
        {
            "execution_count": null, 
            "cell_type": "code", 
            "metadata": {}, 
            "outputs": [], 
            "source": "# your code here\nimport math\nn = 10\nprint(math.factorial(n))"
        }, 
        {
            "source": "**Exercise2:**\n\n1. write a function that takes an integer variable and returns its factorial\n2. use it to find the factorial of the variable defined in Exercise1\n3. do your answeres match?", 
            "cell_type": "markdown", 
            "metadata": {}
        }, 
        {
            "execution_count": null, 
            "cell_type": "code", 
            "metadata": {}, 
            "outputs": [], 
            "source": "# your code here\ndef my_factorial(n):\n    if n==1:\n        return 1\n    else:\n        return n * my_factorial(n-1)\n    \nprint(my_factorial(10))"
        }, 
        {
            "source": "---\n\n## <span style=\"color:#0b486b\">2. Python simple input/output</span>\n\n<a id = \"input\"></a>\n\n### <span style=\"color:#0b486b\">2.1 Input</span>\n\n`raw_input()` asks the user for a string of data (ended with a newline), and simply returns the string.", 
            "cell_type": "markdown", 
            "metadata": {}
        }, 
        {
            "execution_count": null, 
            "cell_type": "code", 
            "metadata": {}, 
            "outputs": [], 
            "source": "x = input('What is your name? ')\n\nprint(\"x is {}\".format(type(x)))\nprint(\"Your name is {}\".format(x))"
        }, 
        {
            "source": "**Exercise3:**\n\n1. use `raw input()` to take a float value between -1 and 1 from the user\n2. use the function `acos()` from `math` to find the arc cosine of it\n3. print the value of the variable and its arc cosine", 
            "cell_type": "markdown", 
            "metadata": {}
        }, 
        {
            "execution_count": null, 
            "cell_type": "code", 
            "metadata": {}, 
            "outputs": [], 
            "source": "# your code here\nx = input('Enter a real number between -1 and 1: ')\ny = math.acos(float(x))\nprint('acos({}) = {}'.format(x,y))"
        }, 
        {
            "source": "As we know the domain of [arc cosine function][acos] is [-1, 1]. So, what if the value entered by the user is not in the domain (the value is smaller than -1 or greater that 1)? What happens then? \n\nTo avoid raising a ValueError exception, before passing the value to `acos()` function make sure it is in range and if not, display an appropriate message.\n\n[acos]: http://mathworld.wolfram.com/InverseCosine.html", 
            "cell_type": "markdown", 
            "metadata": {}
        }, 
        {
            "execution_count": null, 
            "cell_type": "code", 
            "metadata": {}, 
            "outputs": [], 
            "source": "# your code here\nx = input('Enter a real number between -1 and 1: ')\nx = float(x)\nif x>=-1 and x<=1:\n    y = math.acos(x)\n    print('acos({}) = {}'.format(x,y))\nelse:\n    print('Out of range')"
        }, 
        {
            "source": "<a id = \"output\"></a>\n\n### <span style=\"color:#0b486b\">2.2 output</span>", 
            "cell_type": "markdown", 
            "metadata": {}
        }, 
        {
            "source": "The basic way to do output is the print statement. To print multiple things on the same line separated by spaces, use commas between them.", 
            "cell_type": "markdown", 
            "metadata": {}
        }, 
        {
            "execution_count": null, 
            "cell_type": "code", 
            "metadata": {}, 
            "outputs": [], 
            "source": "name = \"John\"\nmsg = \"Hello\"\n\nprint(msg)\nprint(msg, name)"
        }, 
        {
            "source": "Objects can be printed on the same line without needing to be on the same line if one puts a comma at the end of a print statement:", 
            "cell_type": "markdown", 
            "metadata": {}
        }, 
        {
            "execution_count": null, 
            "cell_type": "code", 
            "metadata": {}, 
            "outputs": [], 
            "source": "for i in range(10):\n    print(i,)"
        }, 
        {
            "source": "---\n## <span style=\"color:#0b486b\">3. datetime module</span>\n", 
            "cell_type": "markdown", 
            "metadata": {}
        }, 
        {
            "source": "The datetime module includes functions and classes for date and time parsing, formatting, and arithmetic.", 
            "cell_type": "markdown", 
            "metadata": {}
        }, 
        {
            "source": "<a id = \"time\"></a>\n\n### <span style=\"color:#0b486b\">3.1 Time</span>\n\nTime values are represented with the time class. Times have attributes for hour, minute, second, and microsecond. They can also include time zone information.", 
            "cell_type": "markdown", 
            "metadata": {}
        }, 
        {
            "execution_count": null, 
            "cell_type": "code", 
            "metadata": {}, 
            "outputs": [], 
            "source": "import datetime\n\nt = datetime.time(11, 21, 33)\nprint(t)\nprint('hour  :', t.hour)\nprint('minute:', t.minute)\nprint('second:', t.second)\nprint('microsecond:', t.microsecond)\nprint('tzinfo:', t.tzinfo)"
        }, 
        {
            "source": "<a id = \"date\"></a>\n\n### <span style=\"color:#0b486b\">3.2 Date</span>\n\nCalendar date values are represented with the date class. Instances have attributes for year, month, and day.", 
            "cell_type": "markdown", 
            "metadata": {}
        }, 
        {
            "execution_count": null, 
            "cell_type": "code", 
            "metadata": {}, 
            "outputs": [], 
            "source": "import datetime\n\ntoday = datetime.date.today()\nprint(today)\nprint('ctime:', today.ctime())\nprint('tuple:', today.timetuple())\nprint('ordinal:', today.toordinal())\nprint('Year:', today.year)\nprint('Mon :', today.month)\nprint('Day :', today.day)"
        }, 
        {
            "source": "A way to create new date instances is using the `replace()` method of an existing date. For example, you can change the year, leaving the day and month alone.", 
            "cell_type": "markdown", 
            "metadata": {}
        }, 
        {
            "execution_count": null, 
            "cell_type": "code", 
            "metadata": {}, 
            "outputs": [], 
            "source": "import datetime\n\nd1 = datetime.date(2013, 3, 12)\nprint('d1:', d1)\n\nd2 = d1.replace(year=2015)\nprint('d2:', d2)"
        }, 
        {
            "source": "**Exercise4:**\n\n1. Write a piece of code that gives you the day of the week that you were born.\n2. How about thisn year? Do you know what day of the week is it?", 
            "cell_type": "markdown", 
            "metadata": {}
        }, 
        {
            "execution_count": null, 
            "cell_type": "code", 
            "metadata": {}, 
            "outputs": [], 
            "source": "# your coede here\nday_of_week = {0 : 'Monday',\n              1: 'Tuesday',\n              2: 'Wednesday',\n              3: 'Thursday',\n              4: 'Friday',\n              5: 'Saturday',\n              6: 'Sunday'}\n# you could also use a list to store the days o the week\n# and it would work just fine.\n# days_of_week = ['Mon', 'Tue', 'Wed', 'Thu', 'Fri', 'Sat', 'Sun']\n\nprint('Today is', day_of_week[datetime.date.today().weekday()])\n\nmy_birthdate = datetime.date(1980,10,10)\nprint('I was born on', day_of_week[my_birthdate.weekday()])\n\nt2 = my_birthdate.replace(year=2015)\nprint('and my birthday this year is on a', day_of_week[t2.weekday()])"
        }, 
        {
            "source": "<a id = \"timedelta\"></a>\n\n### <span style=\"color:#0b486b\">3.3 timedelta</span>\n\nUsing `replace()` is not the only way to calculate future/past dates. You can use datetime to perform basic arithmetic on date values via the timedelta class. ", 
            "cell_type": "markdown", 
            "metadata": {}
        }, 
        {
            "execution_count": null, 
            "cell_type": "code", 
            "metadata": {}, 
            "outputs": [], 
            "source": "today = datetime.datetime.today()\nprint(today)\n\ntomorrow = today + datetime.timedelta(days=1)\nprint(tomorrow)"
        }, 
        {
            "source": "**Exercise5:**\n\nRewrite exercise4 with timedelta.", 
            "cell_type": "markdown", 
            "metadata": {}
        }, 
        {
            "execution_count": null, 
            "cell_type": "code", 
            "metadata": {}, 
            "outputs": [], 
            "source": "# your code here"
        }, 
        {
            "source": "You can use comparison operators for datetime objects too. It makes sense right?", 
            "cell_type": "markdown", 
            "metadata": {}
        }, 
        {
            "execution_count": null, 
            "cell_type": "code", 
            "metadata": {}, 
            "outputs": [], 
            "source": "tomorrow > today"
        }, 
        {
            "source": "<a id = \"parsing\"></a>\n\n### <span style=\"color:#0b486b\">3.4 Formatting and Parsing</span>\n\nThe default string representation of a datetime object uses the ISO 8601 format (YYYY-MM-DDTHH:MM:SS.mmmmmm). Alternate formats can be generated using `strftime()`. Similarly, if your input data includes timestamp values parsable with `time.strptime()`, then `datetime.strptime()` is a convenient way to convert them to datetime instances.", 
            "cell_type": "markdown", 
            "metadata": {}
        }, 
        {
            "execution_count": null, 
            "cell_type": "code", 
            "metadata": {}, 
            "outputs": [], 
            "source": "today = datetime.datetime.today()\nprint('ISO     :', today)"
        }, 
        {
            "source": "string from datetime object", 
            "cell_type": "markdown", 
            "metadata": {}
        }, 
        {
            "execution_count": null, 
            "cell_type": "code", 
            "metadata": {}, 
            "outputs": [], 
            "source": "str_format = \"%a %b %d %H:%M:%S %Y\"\ns = today.strftime(str_format)\nprint('strftime:', s)"
        }, 
        {
            "source": "datetime object from string", 
            "cell_type": "markdown", 
            "metadata": {}
        }, 
        {
            "execution_count": null, 
            "cell_type": "code", 
            "metadata": {}, 
            "outputs": [], 
            "source": "print(s)\n\nd = datetime.datetime.strptime(s, str_format)\nprint(d)\nprint('strptime:', d.strftime(str_format))"
        }, 
        {
            "execution_count": null, 
            "cell_type": "code", 
            "metadata": {}, 
            "outputs": [], 
            "source": "s = \"07/03/2017\"\nstr_format = \"%m/%d/%Y\"\n\nd = datetime.datetime.strptime(s, str_format)\nprint(d)"
        }, 
        {
            "source": "**Exercise6:**\n\nYou have a string as \"7/30/2017 - 12:13\". How do you convert it into a datetime object?", 
            "cell_type": "markdown", 
            "metadata": {}
        }, 
        {
            "execution_count": null, 
            "cell_type": "code", 
            "metadata": {}, 
            "outputs": [], 
            "source": "# your code here\ns = '7/30/2017 - 12:13'\nstr_format = \"%m/%d/%Y - %H:%M\"\nt = datetime.datetime.strptime(s,str_format)\nprint(t)"
        }, 
        {
            "source": "---\n## <span style=\"color:#0b486b\">4. Twitter Data and Visualization</span>\n\nTo work with Twitter API, we use a package called `TwitterAPI`. You can install it by executing the cell below if you don't have it on your machine.", 
            "cell_type": "markdown", 
            "metadata": {}
        }, 
        {
            "execution_count": null, 
            "cell_type": "code", 
            "metadata": {}, 
            "outputs": [], 
            "source": "!pip install -U -I TwitterAPI"
        }, 
        {
            "source": "To be able to collect data from the Twitter API you need an Access token and secret. For now we have provided you with them, but to obtain yours you can go to https://apps.twitter.com/, click on 'Create New App', fill the form and then click on 'Create your Twitter Application'.", 
            "cell_type": "markdown", 
            "metadata": {}
        }, 
        {
            "execution_count": null, 
            "cell_type": "code", 
            "metadata": {}, 
            "outputs": [], 
            "source": "!pip install TwitterAPI\n\nfrom TwitterAPI import TwitterAPI"
        }, 
        {
            "execution_count": null, 
            "cell_type": "code", 
            "metadata": {}, 
            "outputs": [], 
            "source": "from TwitterAPI import TwitterAPI\n\n#CONSUMER_KEY = \"YOUR-KEY-HERE\"\n#CONSUMER_SECRET = \"YOUR-SECRETE-HERE\"\n#OAUTH_TOKEN = \"YOUR-TOKEN-HERE\"\n#OAUTH_TOKEN_SECRET = \"YOUR-TOKEN-SECRETE-HERE\"\n\n# Authonticating with your application credentials\napi = TwitterAPI(CONSUMER_KEY,\n                 CONSUMER_SECRET,\n                 auth_type='oAuth2')\n#                 OAUTH_TOKEN,\n#                 OAUTH_TOKEN_SECRET)"
        }, 
        {
            "source": "Now we have access to API. For a complete reference on what the API offers look at the [Twitter API documentation](https://dev.twitter.com/overview/api). For example we can search for tweets that contain a specific keyword or collect tweets from the Twitter stream. Twitter responses are in JSON format which we can easily parse into Python dictionary object.\n\n<a id = \"tweeter\"></a>\n### <span style=\"color:#0b486b\">4.1 Search Tweets</span>\n\nYou can query Twitter with a keyword:", 
            "cell_type": "markdown", 
            "metadata": {}
        }, 
        {
            "execution_count": null, 
            "cell_type": "code", 
            "metadata": {}, 
            "outputs": [], 
            "source": "resp = api.request('search/tweets', {'q':'deakin'})"
        }, 
        {
            "execution_count": null, 
            "cell_type": "code", 
            "metadata": {}, 
            "outputs": [], 
            "source": "resp"
        }, 
        {
            "source": "Iterate over the reponse to print the Twitter message:", 
            "cell_type": "markdown", 
            "metadata": {}
        }, 
        {
            "execution_count": null, 
            "cell_type": "code", 
            "metadata": {}, 
            "outputs": [], 
            "source": "for r in resp:\n    print(r['text'])"
        }, 
        {
            "source": "**Exercise7:**\n\n1. Select a keyword and crawl some tweets from Twitter containing that keyword and then print them.\n2. Crawl 100 tweets containing this keyword and print them. Maybe you want to check Twitter API documentation first.", 
            "cell_type": "markdown", 
            "metadata": {}
        }, 
        {
            "execution_count": null, 
            "cell_type": "code", 
            "metadata": {}, 
            "outputs": [], 
            "source": "# code here"
        }, 
        {
            "source": "There are other parameters that you can set to restrict the response. For example the language of the tweets, or geographical location.", 
            "cell_type": "markdown", 
            "metadata": {}
        }, 
        {
            "execution_count": null, 
            "cell_type": "code", 
            "metadata": {}, 
            "outputs": [], 
            "source": "# result_type: popular, recent, mixed\n# geocode: lat,long,radius\n\n# geo coordinations of the desired place\nmy_lat = 51.5;\nmy_long = 0.12;\n\nresp = api.request('search/tweets', {'q':'canberra', \n                                     'count':'100', \n                                     'lang':'en', \n                                     'result_type':'recent',\n                                     'geocode':'{},{},100mi'.format(my_lat, my_long)})\nfor r in resp:\n    print(r['text'])"
        }, 
        {
            "source": "**Exercise8:**\n\ncheck out the API documentation and narrow down your search results for Exercise7 using parameters other that keyword.", 
            "cell_type": "markdown", 
            "metadata": {}
        }, 
        {
            "execution_count": null, 
            "cell_type": "code", 
            "metadata": {}, 
            "outputs": [], 
            "source": "# code here"
        }, 
        {
            "source": "Apart from the tweet text, you can retrieve other metadata from the Twitter response. For example the user who sent the tweet, whether the tweet is in reply to another user or is a retweet, how many times it is retweeted and so on. Since the response is parsed into a dictionary, use `keys()` function to see the fields that are available:", 
            "cell_type": "markdown", 
            "metadata": {}
        }, 
        {
            "execution_count": null, 
            "cell_type": "code", 
            "metadata": {}, 
            "outputs": [], 
            "source": "response = resp.json()"
        }, 
        {
            "execution_count": null, 
            "cell_type": "code", 
            "metadata": {}, 
            "outputs": [], 
            "source": "response['statuses'][0]['user']"
        }, 
        {
            "execution_count": null, 
            "cell_type": "code", 
            "metadata": {}, 
            "outputs": [], 
            "source": "response['statuses'][0].keys()"
        }, 
        {
            "source": "**Exercise9:**\n\nprint user, place, and geo locations of tweets you have collected.", 
            "cell_type": "markdown", 
            "metadata": {}
        }, 
        {
            "execution_count": null, 
            "cell_type": "code", 
            "metadata": {}, 
            "outputs": [], 
            "source": "# Put your code here"
        }, 
        {
            "source": "<a id = \"geo\"></a>\n### <span style=\"color:#0b486b\">4.2 Geo-Visualization</span>\n\n\nBy now you should be aware of the concept of geo-tagged data. Data such as photos that you take with your cell phone (assuming the GPS and geo-tagging on your phone is activated), tweets that you send, and etc. In this section we intend to visualize geographical information. We will use JavaScript and Google Maps API to show them as points on a map. First we need some geo-tagged data. Let's use those crawled tweets.", 
            "cell_type": "markdown", 
            "metadata": {}
        }, 
        {
            "source": "Although we have specified the geo-location in our Twitter query, not all the tweets in `response object` actually are geo-tagged. We remove them and keep, username, tweet message, and lat-long of the tweet.", 
            "cell_type": "markdown", 
            "metadata": {}
        }, 
        {
            "execution_count": null, 
            "cell_type": "code", 
            "metadata": {
                "scrolled": true
            }, 
            "outputs": [], 
            "source": "clean_data = []\n\nfor r in resp:\n    data = []\n    try:\n        user_name = r['user']['name'].encode('ascii', 'ignore')    # username\n        tweet_text = r['text'].encode('ascii', 'ignore')            # tweet message\n        data.append(\"{}: {}\".format(user_name, tweet_text))\n        data.append(r['geo']['coordinates'][0])    # lat\n        data.append(r['geo']['coordinates'][1])    # long\n        clean_data.append(data)\n    except TypeError, e:\n        print(\"lat, long not availabe. \")"
        }, 
        {
            "execution_count": null, 
            "cell_type": "code", 
            "metadata": {}, 
            "outputs": [], 
            "source": "clean_data"
        }, 
        {
            "source": "Now our data is ready for visualization.", 
            "cell_type": "markdown", 
            "metadata": {}
        }, 
        {
            "source": "#### <span style=\"color:#0b486b\">4.2.1 magic functions</span> \n\n\nBefore we move on it is better to introduce `magic` functions. IPython magic functions allow you to control the behaviour of the IPython itself and a lot of system features. Any line whose first character is % is considered to be a magic function.", 
            "cell_type": "markdown", 
            "metadata": {}
        }, 
        {
            "execution_count": null, 
            "cell_type": "code", 
            "metadata": {}, 
            "outputs": [], 
            "source": "%cd"
        }, 
        {
            "execution_count": null, 
            "cell_type": "code", 
            "metadata": {}, 
            "outputs": [], 
            "source": "%timeit x = range(1000)"
        }, 
        {
            "source": "`magic` cell:", 
            "cell_type": "markdown", 
            "metadata": {}
        }, 
        {
            "execution_count": null, 
            "cell_type": "code", 
            "metadata": {}, 
            "outputs": [], 
            "source": "%%javascript\n\nalert(\"Hello World!\")"
        }, 
        {
            "source": "#### <span style=\"color:#0b486b\">4.2.2 Using Google Maps API</span> ", 
            "cell_type": "markdown", 
            "metadata": {}
        }, 
        {
            "source": "\n`core.display` module offers top-level functions for displaying objects in different formats in Ipython Notebook. We use `HTML` and `Javascript` which create a HTML and JavaScript representation of the object respectively. Also note the double percentage sign (%%) at the beginning of cells. %% and the following term are called `magic functions` and cause the cell to behave differently. For example %%javascript at the beginning of a cell, runs the cell block of Javascript code.", 
            "cell_type": "markdown", 
            "metadata": {}
        }, 
        {
            "execution_count": null, 
            "cell_type": "code", 
            "metadata": {}, 
            "outputs": [], 
            "source": "from IPython.core.display import HTML, Javascript"
        }, 
        {
            "execution_count": null, 
            "cell_type": "code", 
            "metadata": {}, 
            "outputs": [], 
            "source": "# load the Google Maps API library\n\ndef gmap_init():\n    js = \"\"\"\nwindow.gmap_initialize = function() {};\n$.getScript('https://maps.googleapis.com/maps/api/js?v=3&sensor=false&callback=gmap_initialize');\n    \"\"\"\n    return Javascript(data=js)\n\ngmap_init()"
        }, 
        {
            "execution_count": null, 
            "cell_type": "code", 
            "metadata": {}, 
            "outputs": [], 
            "source": "%%html\n<style type=\"text/css\">\n  .map-canvas { height: 400px; }\n</style"
        }, 
        {
            "execution_count": null, 
            "cell_type": "code", 
            "metadata": {
                "scrolled": true
            }, 
            "outputs": [], 
            "source": "%%html\n<div id=\"markers\" class=\"map-canvas\"/>"
        }, 
        {
            "execution_count": null, 
            "cell_type": "code", 
            "metadata": {}, 
            "outputs": [], 
            "source": "def myfun(data, center_lat, center_long):\n    \n    js = \"var data = \" + str(data)\n    js += \"\"\"\n\nvar map = new google.maps.Map(document.getElementById('markers'),\n                              {{zoom: 10,\n                               center: new google.maps.LatLng({}, {}),\n                               mapTypeId: google.maps.MapTypeId.ROADMAP\n                              }});\n\"\"\".format(center_lat, center_long)\n    js += \"\"\"                              \n\nvar infowindow = new google.maps.InfoWindow();\n\nvar i;\nfor (i = 0; i < data.length; i++) {\n    var marker = new google.maps.Marker({\n        position: new google.maps.LatLng(data[i][1], data[i][2]),\n        map: map});\n\n    google.maps.event.addListener(marker, 'click', (function(marker, i) {\n        return function() {\n            infowindow.setContent(data[i][0]);\n            infowindow.open(map, marker);\n        }\n    })(marker, i));\n}\n\"\"\"\n    return Javascript(js)"
        }, 
        {
            "execution_count": null, 
            "cell_type": "code", 
            "metadata": {}, 
            "outputs": [], 
            "source": "myfun(clean_data, my_lat, my_long)"
        }, 
        {
            "source": "---\n## <span style=\"color:#0b486b\">5. Numpy module</span>\n", 
            "cell_type": "markdown", 
            "metadata": {}
        }, 
        {
            "source": "Python lists are very flexible for storing any sequence of Python objects. But usually flexibility comes at the price of performance and therefore Python lists are not ideal for numerical calculations where we are interested in performance. Here is where **NumPy** comes in. It adds support for large, multi-dimensional arrays and matrices, along with high-level mathematical functions to operate on these arrays to Python. \n\nRelying on `'BLAS'` and `'LAPACK'`, `'NumPy'` gives a functionality comparable with `'MATLAB'` to Python. NumPy facilitates advanced mathematical and other types of operations on large numbers of data. Typically, such operations are executed more efficiently and with less code than is possible using Python\u2019s built-in sequences. It has become one of the fundamental packages used for numerical computations.\n\nIn this tutorial we will review its basics, so to learn more about NumPy, visit [NumPy User Guide](http://docs.scipy.org/doc/numpy/user/index.html)", 
            "cell_type": "markdown", 
            "metadata": {}
        }, 
        {
            "source": "<a id = \"importnp\"></a>\n\n### <span style=\"color:#0b486b\">5.1 Importing Numpy</span>", 
            "cell_type": "markdown", 
            "metadata": {}
        }, 
        {
            "source": "As you have learnt in this session, first we have to import a package to be able to use it. NumPy is imported with:", 
            "cell_type": "markdown", 
            "metadata": {}
        }, 
        {
            "execution_count": null, 
            "cell_type": "code", 
            "metadata": {}, 
            "outputs": [], 
            "source": "import numpy"
        }, 
        {
            "source": "Although it is the convention to import it like with an alias:", 
            "cell_type": "markdown", 
            "metadata": {}
        }, 
        {
            "execution_count": null, 
            "cell_type": "code", 
            "metadata": {}, 
            "outputs": [], 
            "source": "import numpy as np"
        }, 
        {
            "source": "<a id = \"nparray\"></a>\n\n### <span style=\"color:#0b486b\">5.2 Numpy arrays</span>", 
            "cell_type": "markdown", 
            "metadata": {}
        }, 
        {
            "source": "The core of NumPy is its arrays. You can create an array from a Python list or tuple using `'array'` function. They work similarly to lists apart from the fact that:\n\n* you can easily perform element-wise operation on them, and\n* unlike lists, they should be pre-allocated.\n\nThe first point is ufrther explained in [Array operations section](03-prac3.ipynb#Array-operations). The second point means that you there is no equivalent to list append for arrays. The size of the arrays is known at the time it is defined.", 
            "cell_type": "markdown", 
            "metadata": {}
        }, 
        {
            "source": "#### <span style=\"color:#0b486b\">5.2.1 create an array from a list</span>", 
            "cell_type": "markdown", 
            "metadata": {}
        }, 
        {
            "execution_count": null, 
            "cell_type": "code", 
            "metadata": {}, 
            "outputs": [], 
            "source": "x = [1, 7, 3, 4, 0, -5]"
        }, 
        {
            "execution_count": null, 
            "cell_type": "code", 
            "metadata": {}, 
            "outputs": [], 
            "source": "y = np.array(x)\ntype(y)"
        }, 
        {
            "source": "#### <span style=\"color:#0b486b\">5.2.2 create an array using a range</span>", 
            "cell_type": "markdown", 
            "metadata": {}
        }, 
        {
            "execution_count": null, 
            "cell_type": "code", 
            "metadata": {}, 
            "outputs": [], 
            "source": "range(5)"
        }, 
        {
            "execution_count": null, 
            "cell_type": "code", 
            "metadata": {}, 
            "outputs": [], 
            "source": "print(np.array(range(5)))"
        }, 
        {
            "execution_count": null, 
            "cell_type": "code", 
            "metadata": {}, 
            "outputs": [], 
            "source": "print(np.arange(2, 3, 0.2))"
        }, 
        {
            "execution_count": null, 
            "cell_type": "code", 
            "metadata": {}, 
            "outputs": [], 
            "source": "print(np.linspace(2, 3, 5))    # returns numbers spaced evenly on a linear scale, both endspoints are included"
        }, 
        {
            "execution_count": null, 
            "cell_type": "code", 
            "metadata": {}, 
            "outputs": [], 
            "source": "print(np.logspace(2, 3, 5))   # returns numbers spaced evenly on a log scale"
        }, 
        {
            "source": "**Note:** If you need any help on how to use a function or what it does, you can IPython help. Just add a question mark (?) at the end of the function and execute the cell:", 
            "cell_type": "markdown", 
            "metadata": {}
        }, 
        {
            "execution_count": null, 
            "cell_type": "code", 
            "metadata": {}, 
            "outputs": [], 
            "source": "np.logspace?"
        }, 
        {
            "source": "#### <span style=\"color:#0b486b\">5.2.3 create a prefilled array</span>", 
            "cell_type": "markdown", 
            "metadata": {}
        }, 
        {
            "execution_count": null, 
            "cell_type": "code", 
            "metadata": {}, 
            "outputs": [], 
            "source": "print(np.zeros(5))"
        }, 
        {
            "execution_count": null, 
            "cell_type": "code", 
            "metadata": {}, 
            "outputs": [], 
            "source": "print(np.ones(5, dtype=int))   # you can specify the data type, default is float"
        }, 
        {
            "source": "#### <span style=\"color:#0b486b\">5.2.4 `'mgrid'`</span>\nsimilar to meshgrid in MATLAB:", 
            "cell_type": "markdown", 
            "metadata": {}
        }, 
        {
            "execution_count": null, 
            "cell_type": "code", 
            "metadata": {}, 
            "outputs": [], 
            "source": "x, y = np.mgrid[0:5, 0:3]\n\nprint(x)\nprint(y)"
        }, 
        {
            "source": "#### <span style=\"color:#0b486b\">5.2.5 array attributes</span>\nNumPy arrays have multiple attributes and methods. The cell below shows a few of them. You can press tab after typing the dot operator `'(.)'` to use IPython auto-complete and see the rest of them.", 
            "cell_type": "markdown", 
            "metadata": {}
        }, 
        {
            "execution_count": null, 
            "cell_type": "code", 
            "metadata": {}, 
            "outputs": [], 
            "source": "y = np.array([3, 0, -4, 6, 12, 2])"
        }, 
        {
            "execution_count": null, 
            "cell_type": "code", 
            "metadata": {}, 
            "outputs": [], 
            "source": "print(\"number of dimensions:\\t\", y.ndim)        \nprint(\"dimension of the array:\", y.shape)       \nprint(\"numerical data type:\\t\", y.dtype)\nprint(\"maximum of the array:\\t\", y.max())       \nprint(\"index of the array max:\", y.argmax())    \nprint(\"mean of the array:\\t\", y.mean())      "
        }, 
        {
            "source": "#### <span style=\"color:#0b486b\">5.2.6 Multi-dimensional arrays</span>\n", 
            "cell_type": "markdown", 
            "metadata": {}
        }, 
        {
            "source": "You can define arrays with 2 (or higher) dimensions in numpy:", 
            "cell_type": "markdown", 
            "metadata": {}
        }, 
        {
            "source": "##### from lists", 
            "cell_type": "markdown", 
            "metadata": {}
        }, 
        {
            "execution_count": null, 
            "cell_type": "code", 
            "metadata": {}, 
            "outputs": [], 
            "source": "x = [[1, 2, 10, 20], [3, 4, 30, 40]]\ny = np.array(x)\nprint(y)\nprint()\nprint(y.ndim, y.shape)"
        }, 
        {
            "source": "##### pre-filled ", 
            "cell_type": "markdown", 
            "metadata": {}
        }, 
        {
            "execution_count": null, 
            "cell_type": "code", 
            "metadata": {}, 
            "outputs": [], 
            "source": "x = np.ones((3, 5), dtype='int')"
        }, 
        {
            "execution_count": null, 
            "cell_type": "code", 
            "metadata": {
                "scrolled": true
            }, 
            "outputs": [], 
            "source": "print(x)\nprint()\nprint(x.ndim, x.shape)"
        }, 
        {
            "source": "##### `'diag()'`\ndiagonal matrix", 
            "cell_type": "markdown", 
            "metadata": {}
        }, 
        {
            "execution_count": null, 
            "cell_type": "code", 
            "metadata": {}, 
            "outputs": [], 
            "source": "np.diag([1, 2, 3])"
        }, 
        {
            "source": "<a id = \"maninp\"></a>\n\n### <span style=\"color:#0b486b\">5.3 Manipulating arrays</span>\n", 
            "cell_type": "markdown", 
            "metadata": {}
        }, 
        {
            "source": "#### <span style=\"color:#0b486b\">5.3.1 Indexing</span>\n", 
            "cell_type": "markdown", 
            "metadata": {}
        }, 
        {
            "source": "Similar to lists, you can index elements in an array using `'[]'` and indices:", 
            "cell_type": "markdown", 
            "metadata": {}
        }, 
        {
            "source": "If `'x'` is a 1-dimensional array, `'x[i]'` will index `'ith'` element of `'x'`:", 
            "cell_type": "markdown", 
            "metadata": {}
        }, 
        {
            "execution_count": null, 
            "cell_type": "code", 
            "metadata": {}, 
            "outputs": [], 
            "source": "x = np.array([2, 8, -2, 4, 3])\nprint(x[3])"
        }, 
        {
            "source": "If 'x' is a 2-dimensional arrray:\n\n* '`x[i, j]'` or `'x[i][j]'` will index the element in `'ith'` row and `'jth'` column\n* '`x[i, :]'` will index the `'ith'` row \n* `'x[:, j]'` will index `'jth'` column", 
            "cell_type": "markdown", 
            "metadata": {}
        }, 
        {
            "execution_count": null, 
            "cell_type": "code", 
            "metadata": {}, 
            "outputs": [], 
            "source": "x = np.array([[7, 6, 8, 6, 4],\n              [4, 7, -2, 0, 9]])\n              \nprint(x[1, 3])"
        }, 
        {
            "execution_count": null, 
            "cell_type": "code", 
            "metadata": {}, 
            "outputs": [], 
            "source": "print(x[1, :])      # or x[1]"
        }, 
        {
            "execution_count": null, 
            "cell_type": "code", 
            "metadata": {}, 
            "outputs": [], 
            "source": "print(x[:, 3])"
        }, 
        {
            "source": "Arrays can also be indexed with other arrays:", 
            "cell_type": "markdown", 
            "metadata": {}
        }, 
        {
            "execution_count": null, 
            "cell_type": "code", 
            "metadata": {}, 
            "outputs": [], 
            "source": "x = np.array([2, 8, -2, 4, 3, 9, 0])\n\nidx1 = [1, 3, 4]        # list\nidx2 = np.array(idx1)   # array\n\nprint(x[idx1], x[idx2])\nx[idx2] = 0\nprint(x)"
        }, 
        {
            "source": "You can also index masks. The index mask should be a NumPy arrays of data type Bool. Then the element of the array is selected only if the index mask at the position of the element is True.", 
            "cell_type": "markdown", 
            "metadata": {}
        }, 
        {
            "execution_count": null, 
            "cell_type": "code", 
            "metadata": {}, 
            "outputs": [], 
            "source": "x = np.array([2, 8, -2, 4, 3, 9, 0])"
        }, 
        {
            "execution_count": null, 
            "cell_type": "code", 
            "metadata": {}, 
            "outputs": [], 
            "source": "mask = np.array([False, True, True, False, False, True, False])"
        }, 
        {
            "execution_count": null, 
            "cell_type": "code", 
            "metadata": {}, 
            "outputs": [], 
            "source": "x[mask]"
        }, 
        {
            "source": "Combining index masks with comparison operaors enabels you to conditinoally slecect elements of the array.", 
            "cell_type": "markdown", 
            "metadata": {}
        }, 
        {
            "execution_count": null, 
            "cell_type": "code", 
            "metadata": {}, 
            "outputs": [], 
            "source": "x = np.array([2, 8, -2, 4, 3, 9, 0])\nmask = (x>=2) * (x<9)\nx[mask]"
        }, 
        {
            "source": "#### <span style=\"color:#0b486b\">1.3.2 Slicing</span>\n", 
            "cell_type": "markdown", 
            "metadata": {}
        }, 
        {
            "source": "Similar to Python lists, arrays can also be sliced:", 
            "cell_type": "markdown", 
            "metadata": {}
        }, 
        {
            "execution_count": null, 
            "cell_type": "code", 
            "metadata": {}, 
            "outputs": [], 
            "source": "x = np.array([2, 8, -2, 4, 3, 9, 0])\n\nprint(x[3:])    # slicing\nprint(x[3:7:2])  # slicing with a specified step"
        }, 
        {
            "execution_count": null, 
            "cell_type": "code", 
            "metadata": {}, 
            "outputs": [], 
            "source": "x = np.array([[7, 6, 8, 6, 4, 3],\n              [4, 7, 0, 5, 9, 5],\n              [7, 3, 6, 3, 5, 1]])\n              \n\nprint(x[1, 1:4])\nprint()\nprint(x[:2, 1::2])    # rows zero up to 2, cols 1 up to end with a step=2"
        }, 
        {
            "source": "#### <span style=\"color:#0b486b\">5.3.3 Iteration over items</span>\n", 
            "cell_type": "markdown", 
            "metadata": {}
        }, 
        {
            "source": "Since most of NumPy functions are capable of operating on arrays, in many cases iteration over items of an arrays can be (and should be) avoided. Otherwise it is pretty much similar to iterating over values of a list:", 
            "cell_type": "markdown", 
            "metadata": {}
        }, 
        {
            "execution_count": null, 
            "cell_type": "code", 
            "metadata": {}, 
            "outputs": [], 
            "source": "a = np.arange(0, 50, 7)\nprint(a)\nfor item in a:\n    print(item,) "
        }, 
        {
            "source": "Of course you could iterate over items using their indices too:", 
            "cell_type": "markdown", 
            "metadata": {}
        }, 
        {
            "execution_count": null, 
            "cell_type": "code", 
            "metadata": {}, 
            "outputs": [], 
            "source": "a = np.arange(0, 50, 7)\nfor i in range(a.shape[0]):\n    print(a[i],)"
        }, 
        {
            "source": "There are also many functions for manipulating arrays. The most used ones are:", 
            "cell_type": "markdown", 
            "metadata": {}
        }, 
        {
            "source": "#### <span style=\"color:#0b486b\">5.3.4 `copy()`</span>\n", 
            "cell_type": "markdown", 
            "metadata": {}
        }, 
        {
            "source": "**Remember** that assignment operator is not an equivalent for copying arrays. In fact Python does not pass the values. It passess the references.", 
            "cell_type": "markdown", 
            "metadata": {}
        }, 
        {
            "execution_count": null, 
            "cell_type": "code", 
            "metadata": {}, 
            "outputs": [], 
            "source": "x = [1, 2, 3]\ny = x\nprint(x, y)"
        }, 
        {
            "execution_count": null, 
            "cell_type": "code", 
            "metadata": {}, 
            "outputs": [], 
            "source": "y[0] = 0       # now we alter an element of y\nprint(x, y)     # note that x has changed as well"
        }, 
        {
            "source": "Same is true for numpy arrays. That's why if you need a copy of an array, you should use `'copy()'` function.", 
            "cell_type": "markdown", 
            "metadata": {}
        }, 
        {
            "execution_count": null, 
            "cell_type": "code", 
            "metadata": {}, 
            "outputs": [], 
            "source": "x = np.array([1, 2, 3])\ny = x\n\ny[0] = 0       # now we alter an element of y\nprint(x, y)     # note that x has changed as well"
        }, 
        {
            "execution_count": null, 
            "cell_type": "code", 
            "metadata": {}, 
            "outputs": [], 
            "source": "x = np.array([1, 2, 3])\ny = x.copy()  # or np.copy(x)\ny[0] = 0\n\nprint(x, y)"
        }, 
        {
            "source": "#### <span style=\"color:#0b486b\">5.3.5 `reshape()`</span>\n", 
            "cell_type": "markdown", 
            "metadata": {}
        }, 
        {
            "execution_count": null, 
            "cell_type": "code", 
            "metadata": {}, 
            "outputs": [], 
            "source": "x1 = np.arange(6)\nx2 = x1.reshape((2, 3))    # or np.reshape(x1, (2, 3))\n\nprint(x1)\nprint()\nprint(x2)"
        }, 
        {
            "source": "#### <span style=\"color:#0b486b\">5.3.6 `astype()`</span>\n", 
            "cell_type": "markdown", 
            "metadata": {}
        }, 
        {
            "source": "Used for type casting:", 
            "cell_type": "markdown", 
            "metadata": {}
        }, 
        {
            "execution_count": null, 
            "cell_type": "code", 
            "metadata": {}, 
            "outputs": [], 
            "source": "x1 = np.arange(5)\nx2 = x1.astype(float)\n\nprint(type(x1), x1)\nprint(type(x2), x2)"
        }, 
        {
            "source": "#### <span style=\"color:#0b486b\">5.3.7 `T`</span> ", 
            "cell_type": "markdown", 
            "metadata": {}
        }, 
        {
            "source": "transpose method:", 
            "cell_type": "markdown", 
            "metadata": {}
        }, 
        {
            "execution_count": null, 
            "cell_type": "code", 
            "metadata": {}, 
            "outputs": [], 
            "source": "x1 = np.random.randint(5, size=(2, 4))\nx2 = x1.T\n\nprint(x1)\nprint()\nprint(x2)"
        }, 
        {
            "source": "<a id = \"arrayop\"></a>\n\n### <span style=\"color:#0b486b\">5.4 Array operations</span>\n", 
            "cell_type": "markdown", 
            "metadata": {}
        }, 
        {
            "source": "#### <span style=\"color:#0b486b\">5.4.1 Arithmetic operators</span>\n", 
            "cell_type": "markdown", 
            "metadata": {}
        }, 
        {
            "source": "Arrays can be added, subtracted, multiplied and divided using +, -, \\* and, /. Operations done by these operators are **element wise**.", 
            "cell_type": "markdown", 
            "metadata": {}
        }, 
        {
            "execution_count": null, 
            "cell_type": "code", 
            "metadata": {}, 
            "outputs": [], 
            "source": "x1 = np.array([[2, 3, 5, 7], \n               [2, 4, 6, 8]], dtype=float)\nx2 = np.array([[6, 5, 4, 3], \n               [9, 7, 5, 3]], dtype=float)"
        }, 
        {
            "execution_count": null, 
            "cell_type": "code", 
            "metadata": {}, 
            "outputs": [], 
            "source": "print(x1)\nprint()\nprint(x2)"
        }, 
        {
            "execution_count": null, 
            "cell_type": "code", 
            "metadata": {}, 
            "outputs": [], 
            "source": "print(x1 + x2)"
        }, 
        {
            "execution_count": null, 
            "cell_type": "code", 
            "metadata": {}, 
            "outputs": [], 
            "source": "print(x1 - x2)"
        }, 
        {
            "execution_count": null, 
            "cell_type": "code", 
            "metadata": {}, 
            "outputs": [], 
            "source": "print(x1 * x2)"
        }, 
        {
            "execution_count": null, 
            "cell_type": "code", 
            "metadata": {}, 
            "outputs": [], 
            "source": "print(x1 / x2)"
        }, 
        {
            "execution_count": null, 
            "cell_type": "code", 
            "metadata": {}, 
            "outputs": [], 
            "source": "print(3 + x1)"
        }, 
        {
            "execution_count": null, 
            "cell_type": "code", 
            "metadata": {}, 
            "outputs": [], 
            "source": "print(3 * x1)"
        }, 
        {
            "execution_count": null, 
            "cell_type": "code", 
            "metadata": {}, 
            "outputs": [], 
            "source": "print(3 / x1)"
        }, 
        {
            "source": "#### <span style=\"color:#0b486b\">5.4.2 Boolean operators</span>\n\nMuch like arethmaic operators discussed above, boolean (comparison) operators perform element-wise on arrays.", 
            "cell_type": "markdown", 
            "metadata": {}
        }, 
        {
            "execution_count": null, 
            "cell_type": "code", 
            "metadata": {}, 
            "outputs": [], 
            "source": "x1 = np.array([2, 3, 5, 7])\nx2 = np.array([2, 4, 6, 7])\ny = x1<x2\n\nprint( y, y.dtype)"
        }, 
        {
            "source": "use methods `'.any()'` and `'.all()'` to return a single boolean value indicating whether any or all values in the array are True respectively. This value in turn can be used as a condition for an `'if'` statement.", 
            "cell_type": "markdown", 
            "metadata": {}
        }, 
        {
            "execution_count": null, 
            "cell_type": "code", 
            "metadata": {}, 
            "outputs": [], 
            "source": "print (y.all())\nprint (y.any())"
        }, 
        {
            "source": "NumPy has many other functions that you can read about them in [NumPy User Guide](http://docs.scipy.org/doc/numpy/user/). Specially read about:", 
            "cell_type": "markdown", 
            "metadata": {}
        }, 
        {
            "source": "* `np.unique`, returns unique elements of an array\n* `np.flatten`, flattens a multi-dimensional array\n* `np.mean`, `np.std`, `np.median`\n* `np.min`, `np.max`, `np.argmin`, `np.argmax`", 
            "cell_type": "markdown", 
            "metadata": {}
        }, 
        {
            "source": "<a id = \"random\"></a>\n\n### <span style=\"color:#0b486b\">5.5 np.random</span>\n", 
            "cell_type": "markdown", 
            "metadata": {}
        }, 
        {
            "source": "NumPy has a module called `random` to generate arrays of random numbers. There are different ways to generate a random number:", 
            "cell_type": "markdown", 
            "metadata": {}
        }, 
        {
            "execution_count": null, 
            "cell_type": "code", 
            "metadata": {}, 
            "outputs": [], 
            "source": "print( np.random.rand())"
        }, 
        {
            "execution_count": null, 
            "cell_type": "code", 
            "metadata": {}, 
            "outputs": [], 
            "source": "# 2x5 random array drawn from standard normal distribution\nprint( np.random.random([2, 5]))"
        }, 
        {
            "execution_count": null, 
            "cell_type": "code", 
            "metadata": {}, 
            "outputs": [], 
            "source": "# 2x5 random array drawn from standard normal distribution\nprint (np.random.rand(2, 5))"
        }, 
        {
            "execution_count": null, 
            "cell_type": "code", 
            "metadata": {}, 
            "outputs": [], 
            "source": "# 2x5 random array drawn from a uniform distribution on {0, 1, 2, ..., 9}\nprint (np.random.randint(10, size=[2, 5])) "
        }, 
        {
            "source": "##### <span style=\"color:#0b486b\">5.5.1 Random seed</span>\n", 
            "cell_type": "markdown", 
            "metadata": {}
        }, 
        {
            "source": "Random numbers generated by computers are not really random. They are called pseudo-random. Thus we can set the random generator to generate the same set of random numbers every time. This is useful while testing the code.", 
            "cell_type": "markdown", 
            "metadata": {}
        }, 
        {
            "execution_count": null, 
            "cell_type": "code", 
            "metadata": {}, 
            "outputs": [], 
            "source": "for i in range(5):\n    print (np.random.random(),)    "
        }, 
        {
            "execution_count": null, 
            "cell_type": "code", 
            "metadata": {}, 
            "outputs": [], 
            "source": "for i in range(5):\n    np.random.seed(100)\n    print (np.random.random(),)    "
        }, 
        {
            "source": "<a id = \"vecfunc\"></a>\n\n### <span style=\"color:#0b486b\">5.6 Vectorizing functions</span>\n", 
            "cell_type": "markdown", 
            "metadata": {}
        }, 
        {
            "source": "As mentioned earlier in operators, to get a good performance you should avoid looping over elements in an array and use vectorized algorithms. Many methods and functions of NumPy already support vectors, so keep this in mind while writing your own code.\n\nBut for now, suppose you have written a step function which does not work with arrays, as the cell below:", 
            "cell_type": "markdown", 
            "metadata": {}
        }, 
        {
            "execution_count": null, 
            "cell_type": "code", 
            "metadata": {}, 
            "outputs": [], 
            "source": "def step_func(x):\n    \"\"\"\n    scalar implementation of step function\n    \"\"\"\n    \n    if x>=0:\n        return 1\n    else:\n        return 0"
        }, 
        {
            "source": "Obviously it fails when dealing with an array, because it expects a scalar as its input. Execute the cell below and see that it raises an error:", 
            "cell_type": "markdown", 
            "metadata": {}
        }, 
        {
            "execution_count": null, 
            "cell_type": "code", 
            "metadata": {}, 
            "outputs": [], 
            "source": "# since step_func expects a scalar and recieves an array instead, \n# it raises an error\n\nstep_func(np.array([2, 7, -4, -9, 0, 4]))"
        }, 
        {
            "source": "You can use the function `'np.vectorize()'` to obtain a vectorized version of `'step_func'` that can handle vector data:", 
            "cell_type": "markdown", 
            "metadata": {}
        }, 
        {
            "execution_count": null, 
            "cell_type": "code", 
            "metadata": {}, 
            "outputs": [], 
            "source": "step_func_vectorized = np.vectorize(step_func)\nstep_func_vectorized(np.array([2, 7, -4, -9, 0, 4]))"
        }, 
        {
            "source": "Although `'vectorize()'` can automatically derive a vectorized version of a scalar function, but it is always better to keep this in mind and write functions vector-compatilbe, from the beginning. For example we could write the step function as it is shown in the cell below, so it can handle scalar and vector data.", 
            "cell_type": "markdown", 
            "metadata": {}
        }, 
        {
            "execution_count": null, 
            "cell_type": "code", 
            "metadata": {}, 
            "outputs": [], 
            "source": "def step_func2(x):\n    \"\"\"\n    vector and scalar implementation of step function\n    \"\"\"\n    \n    return 1 * (x>=0)"
        }, 
        {
            "execution_count": null, 
            "cell_type": "code", 
            "metadata": {}, 
            "outputs": [], 
            "source": "step_func2(np.array([2, 7, -4, -9, 0, 4]))"
        }, 
        {
            "source": "---\n## <span style=\"color:#0b486b\">6. FIle I/O</span>", 
            "cell_type": "markdown", 
            "metadata": {
                "collapsed": true
            }
        }, 
        {
            "source": "For Online platforms such as IBM Cloud, it is important for you to get familiar with the provided data storage or cloud data storage function. Alternatively, you might want to directly access the file, and load into your Notebook.", 
            "cell_type": "markdown", 
            "metadata": {}
        }, 
        {
            "execution_count": null, 
            "cell_type": "code", 
            "metadata": {}, 
            "outputs": [], 
            "source": "!pip install wget"
        }, 
        {
            "source": "Then you can download the file into GPFS file system.", 
            "cell_type": "markdown", 
            "metadata": {}
        }, 
        {
            "execution_count": null, 
            "cell_type": "code", 
            "metadata": {}, 
            "outputs": [], 
            "source": "import wget\n\nlink_to_data = 'https://github.com/tuliplab/mds/raw/master/Jupyter/data/csv_data1.csv'\nDataSet = wget.download(link_to_data)"
        }, 
        {
            "source": "<a id = \"txt\"></a>\n### <span style=\"color:#0b486b\">6.1 TXT</span>\n", 
            "cell_type": "markdown", 
            "metadata": {}
        }, 
        {
            "source": "TXT file format is the most simplestic way to store data. \n\nLoad a TXT file with `'np.loadtxt()'`:", 
            "cell_type": "markdown", 
            "metadata": {}
        }, 
        {
            "execution_count": null, 
            "cell_type": "code", 
            "metadata": {}, 
            "outputs": [], 
            "source": "import numpy as np\n\n# This code is for local PC\n# x = np.loadtxt(\"data/txt_data1.txt\")\n\n# The following code for IBM Cloud\nlink_to_data = 'https://github.com/tuliplab/mds/raw/master/Jupyter/data/txt_data1.txt'\nDataSet = wget.download(link_to_data)\n\nx = np.loadtxt(\"txt_data1.txt\")\nx"
        }, 
        {
            "source": "Save a TXT file with `'np.savetxt()'`:", 
            "cell_type": "markdown", 
            "metadata": {}
        }, 
        {
            "execution_count": null, 
            "cell_type": "code", 
            "metadata": {}, 
            "outputs": [], 
            "source": "y = np.random.randint(10, size=5)\nnp.savetxt(\"txt_data2.txt\", y)\ny"
        }, 
        {
            "source": "<a id = \"csv\"></a>\n### <span style=\"color:#0b486b\">6.2 CSV</span>\n\n", 
            "cell_type": "markdown", 
            "metadata": {
                "collapsed": true
            }
        }, 
        {
            "source": "Comma Separated Values format and its variations, are one the most used file format to store data.\n\nYou can use `'np.genfromtxt()'` to read a CSV file:\n\n**NOTE:** The best way to read CSV and XLS files is using **pandas** package that will be introduced later.", 
            "cell_type": "markdown", 
            "metadata": {}
        }, 
        {
            "execution_count": null, 
            "cell_type": "code", 
            "metadata": {}, 
            "outputs": [], 
            "source": "import wget\n\nlink_to_data = 'https://github.com/tuliplab/mds/raw/master/Jupyter/data/csv_data1.csv'\nDataSet = wget.download(link_to_data)\n\nprint(DataSet)"
        }, 
        {
            "execution_count": null, 
            "cell_type": "code", 
            "metadata": {}, 
            "outputs": [], 
            "source": "import numpy as np\n\n\nx = np.genfromtxt(\"csv_data1.csv\", delimiter=\",\")\nx"
        }, 
        {
            "source": "Use `'np.savetxt()'` to save a 2d-array in a CSV file.", 
            "cell_type": "markdown", 
            "metadata": {}
        }, 
        {
            "execution_count": null, 
            "cell_type": "code", 
            "metadata": {}, 
            "outputs": [], 
            "source": "x = np.random.randint(10, size=(6,4))\nnp.savetxt(\"csv_data2.csv\", x, delimiter=',')\nx"
        }, 
        {
            "source": "<a id = \"json\"></a>\n### <span style=\"color:#0b486b\">6.3 JSON</span>\n\n\nJSON is the most used file format when dealing with web services. \n\nTo read a JSON file, use `'json'` package and `'load()'` function, or `'loads()'` if the data is serialized. It reads the data and parses it into a dictionary.", 
            "cell_type": "markdown", 
            "metadata": {}
        }, 
        {
            "execution_count": null, 
            "cell_type": "code", 
            "metadata": {}, 
            "outputs": [], 
            "source": "link_to_data = 'https://github.com/tuliplab/mds/raw/master/Jupyter/data/json_data1.json'\nDataSet = wget.download(link_to_data)\n\nprint(DataSet)"
        }, 
        {
            "execution_count": null, 
            "cell_type": "code", 
            "metadata": {}, 
            "outputs": [], 
            "source": "import json\nwith open(\"json_data1.json\", 'rb') as fp:\n    fcontent = fp.read()\n# data = json.loads(fcontent)\ndata = json.loads(fcontent.decode('utf-8'))\ndata.keys()"
        }, 
        {
            "execution_count": null, 
            "cell_type": "code", 
            "metadata": {}, 
            "outputs": [], 
            "source": "data"
        }, 
        {
            "execution_count": null, 
            "cell_type": "code", 
            "metadata": {}, 
            "outputs": [], 
            "source": "data['phoneNumbers']"
        }, 
        {
            "source": "You can also write a python dictionary into a JSON file. To do this use `'dump()'` or `'dumps()'` functions.", 
            "cell_type": "markdown", 
            "metadata": {}
        }, 
        {
            "execution_count": null, 
            "cell_type": "code", 
            "metadata": {}, 
            "outputs": [], 
            "source": "data = [{'Name': 'Zara', 'Age': 7, 'Class': 'First'}, \n        {'Name': 'Lily', 'Age': 9, 'Class': 'Third'}];\ndata"
        }, 
        {
            "execution_count": null, 
            "cell_type": "code", 
            "metadata": {}, 
            "outputs": [], 
            "source": "with open(\"json_data_now.json\", 'w') as fp:\n    json.dump(data, fp)"
        }
    ], 
    "metadata": {
        "kernelspec": {
            "display_name": "Python 3.5", 
            "name": "python3", 
            "language": "python"
        }, 
        "language_info": {
            "mimetype": "text/x-python", 
            "nbconvert_exporter": "python", 
            "version": "3.5.4", 
            "name": "python", 
            "file_extension": ".py", 
            "pygments_lexer": "ipython3", 
            "codemirror_mode": {
                "version": 3, 
                "name": "ipython"
            }
        }, 
        "anaconda-cloud": {}
    }, 
    "nbformat": 4
}