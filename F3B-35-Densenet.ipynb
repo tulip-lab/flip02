{
    "nbformat_minor": 2, 
    "cells": [
        {
            "source": "# DenseNet\uff1a\u7a20\u5bc6\u8fde\u63a5\u7684\u5377\u79ef\u795e\u7ecf\u7f51\u7edc\n\nResNet\u7684\u8de8\u5c42\u8fde\u63a5\u601d\u60f3\u5f71\u54cd\u4e86\u63a5\u4e0b\u6765\u7684\u4f17\u591a\u5de5\u4f5c\u3002\u8fd9\u91cc\u6211\u4eec\u4ecb\u7ecd\u5176\u4e2d\u7684\u4e00\u4e2a\uff1a[DenseNet](https://arxiv.org/pdf/1608.06993.pdf)\u3002\u4e0b\u56fe\u5c55\u793a\u4e86\u8fd9\u4e24\u4e2a\u7684\u4e3b\u8981\u533a\u522b\uff1a\n\nCheck [here](https://github.com/mli/gluon-tutorials-zh/blob/master/chapter_convolutional-neural-networks/densenet-gluon.md)\n\n![](https://github.com/mli/gluon-tutorials-zh/raw/master/img/densenet.svg)\n\n\u53ef\u4ee5\u770b\u5230DenseNet\u91cc\u6765\u81ea\u8df3\u5c42\u7684\u8f93\u51fa\u4e0d\u662f\u901a\u8fc7\u52a0\u6cd5\uff08`+`\uff09\u800c\u662f\u62fc\u63a5\uff08`concat`\uff09\u6765\u8ddf\u76ee\u524d\u5c42\u7684\u8f93\u51fa\u5408\u5e76\u3002\u56e0\u4e3a\u662f\u62fc\u63a5\uff0c\u6240\u4ee5\u5e95\u5c42\u7684\u8f93\u51fa\u4f1a\u4fdd\u7559\u7684\u8fdb\u5165\u4e0a\u9762\u6240\u6709\u5c42\u3002\u8fd9\u662f\u4e3a\u4ec0\u4e48\u53eb\u201c\u7a20\u5bc6\u8fde\u63a5\u201d\u7684\u539f\u56e0\n\n## \u7a20\u5bc6\u5757\uff08Dense Block\uff09\n\n\u6211\u4eec\u5148\u6765\u5b9a\u4e49\u4e00\u4e2a\u7a20\u5bc6\u8fde\u63a5\u5757\u3002DenseNet\u7684\u5377\u79ef\u5757\u4f7f\u7528ResNet\u6539\u8fdb\u7248\u672c\u7684`BN->Relu->Conv`\u3002\u6bcf\u4e2a\u5377\u79ef\u7684\u8f93\u51fa\u901a\u9053\u6570\u88ab\u79f0\u4e4b\u4e3a`growth_rate`\uff0c\u8fd9\u662f\u56e0\u4e3a\u5047\u8bbe\u8f93\u51fa\u4e3a`in_channels`\uff0c\u800c\u4e14\u6709`layers`\u5c42\uff0c\u90a3\u4e48\u8f93\u51fa\u7684\u901a\u9053\u6570\u5c31\u662f`in_channels+growth_rate*layers`\u3002", 
            "cell_type": "markdown", 
            "metadata": {}
        }, 
        {
            "execution_count": 1, 
            "cell_type": "code", 
            "metadata": {}, 
            "outputs": [], 
            "source": "from mxnet import nd\nfrom mxnet.gluon import nn\n\ndef conv_block(channels):\n    out = nn.Sequential()\n    out.add(\n        nn.BatchNorm(),\n        nn.Activation('relu'),\n        nn.Conv2D(channels, kernel_size=3, padding=1)\n    )\n    return out\n\nclass DenseBlock(nn.Block):\n    def __init__(self, layers, growth_rate, **kwargs):\n        super(DenseBlock, self).__init__(**kwargs)\n        self.net = nn.Sequential()\n        for i in range(layers):\n            self.net.add(conv_block(growth_rate))\n\n    def forward(self, x):\n        for layer in self.net:\n            out = layer(x)\n            x = nd.concat(x, out, dim=1)\n        return x"
        }, 
        {
            "source": "\u6211\u4eec\u9a8c\u8bc1\u4e0b\u8f93\u51fa\u901a\u9053\u6570\u662f\u4e0d\u662f\u7b26\u5408\u9884\u671f\u3002", 
            "cell_type": "markdown", 
            "metadata": {}
        }, 
        {
            "execution_count": 2, 
            "cell_type": "code", 
            "metadata": {}, 
            "outputs": [
                {
                    "execution_count": 2, 
                    "metadata": {}, 
                    "data": {
                        "text/plain": "(4L, 23L, 8L, 8L)"
                    }, 
                    "output_type": "execute_result"
                }
            ], 
            "source": "dblk = DenseBlock(2, 10)\ndblk.initialize()\n\nx = nd.random.uniform(shape=(4,3,8,8))\ndblk(x).shape"
        }, 
        {
            "source": "## \u8fc7\u6e21\u5757\uff08Transition Block\uff09\n\u56e0\u4e3a\u4f7f\u7528\u62fc\u63a5\u7684\u7f18\u6545\uff0c\u6bcf\u7ecf\u8fc7\u4e00\u6b21\u62fc\u63a5\u8f93\u51fa\u901a\u9053\u6570\u53ef\u80fd\u4f1a\u6fc0\u589e\u3002\u4e3a\u4e86\u63a7\u5236\u6a21\u578b\u590d\u6742\u5ea6\uff0c\u8fd9\u91cc\u5f15\u5165\u4e00\u4e2a\u8fc7\u6e21\u5757\uff0c\u5b83\u4e0d\u4ec5\u628a\u8f93\u5165\u7684\u957f\u5bbd\u51cf\u534a\uff0c\u540c\u65f6\u4e5f\u4f7f\u7528$1\\times1$\u5377\u79ef\u6765\u6539\u53d8\u901a\u9053\u6570\u3002", 
            "cell_type": "markdown", 
            "metadata": {}
        }, 
        {
            "execution_count": null, 
            "cell_type": "code", 
            "metadata": {}, 
            "outputs": [], 
            "source": "def transition_block(channels):\n    out = nn.Sequential()\n    out.add(\n        nn.BatchNorm(),\n        nn.Activation('relu'),\n        nn.Conv2D(channels, kernel_size=1),\n        nn.AvgPool2D(pool_size=2, strides=2)\n    )\n    return out"
        }, 
        {
            "source": "\u9a8c\u8bc1\u4e00\u4e0b\u7ed3\u679c\uff1a", 
            "cell_type": "markdown", 
            "metadata": {}
        }, 
        {
            "execution_count": null, 
            "cell_type": "code", 
            "metadata": {}, 
            "outputs": [], 
            "source": "tblk = transition_block(10)\ntblk.initialize()\n\ntblk(x).shape"
        }, 
        {
            "source": "## DenseNet\n\nDenseNet\u7684\u4e3b\u4f53\u5c31\u662f\u4ea4\u66ff\u4e32\u8054\u7a20\u5bc6\u5757\u548c\u8fc7\u6e21\u5757\u3002\u5b83\u4f7f\u7528\u5168\u5c40\u7684`growth_rate`\u4f7f\u5f97\u914d\u7f6e\u66f4\u52a0\u7b80\u5355\u3002\u8fc7\u6e21\u5c42\u6bcf\u6b21\u90fd\u5c06\u901a\u9053\u6570\u51cf\u534a\u3002\u4e0b\u9762\u5b9a\u4e49\u4e00\u4e2a121\u5c42\u7684DenseNet\u3002", 
            "cell_type": "markdown", 
            "metadata": {}
        }, 
        {
            "execution_count": null, 
            "cell_type": "code", 
            "metadata": {}, 
            "outputs": [], 
            "source": "init_channels = 64\ngrowth_rate = 32\nblock_layers = [6, 12, 24, 16]\nnum_classes = 10\n\ndef dense_net():\n    net = nn.Sequential()\n    # add name_scope on the outermost Sequential\n    with net.name_scope():\n        # first block\n        net.add(\n            nn.Conv2D(init_channels, kernel_size=7,\n                      strides=2, padding=3),\n            nn.BatchNorm(),\n            nn.Activation('relu'),\n            nn.MaxPool2D(pool_size=3, strides=2, padding=1)\n        )\n        # dense blocks\n        channels = init_channels\n        for i, layers in enumerate(block_layers):\n            net.add(DenseBlock(layers, growth_rate))\n            channels += layers * growth_rate\n            if i != len(block_layers)-1:\n                net.add(transition_block(channels//2))\n        # last block\n        net.add(\n            nn.BatchNorm(),\n            nn.Activation('relu'),\n            nn.AvgPool2D(pool_size=1),\n            nn.Flatten(),\n            nn.Dense(num_classes)\n        )\n    return net\n"
        }, 
        {
            "source": "## \u83b7\u53d6\u6570\u636e\u5e76\u8bad\u7ec3\n\n\u56e0\u4e3a\u8fd9\u91cc\u6211\u4eec\u4f7f\u7528\u4e86\u6bd4\u8f83\u6df1\u7684\u7f51\u7edc\uff0c\u6240\u4ee5\u6211\u4eec\u8fdb\u4e00\u6b65\u628a\u8f93\u5165\u51cf\u5c11\u5230$32\\times 32$\u6765\u8bad\u7ec3\u3002", 
            "cell_type": "markdown", 
            "metadata": {}
        }, 
        {
            "execution_count": null, 
            "cell_type": "code", 
            "metadata": {}, 
            "outputs": [], 
            "source": "import sys\nsys.path.append('..')\nimport utils\nfrom mxnet import gluon\nfrom mxnet import init\n\ntrain_data, test_data = utils.load_data_fashion_mnist(\n    batch_size=64, resize=32)\n\nctx = utils.try_gpu()\nnet = dense_net()\nnet.initialize(ctx=ctx, init=init.Xavier())\n\nloss = gluon.loss.SoftmaxCrossEntropyLoss()\ntrainer = gluon.Trainer(net.collect_params(),\n                        'sgd', {'learning_rate': 0.1})\nutils.train(train_data, test_data, net, loss,\n            trainer, ctx, num_epochs=1)"
        }, 
        {
            "source": "## \u7ed3\u8bba\n\nDesnet\u901a\u8fc7\u5c06ResNet\u91cc\u7684`+`\u66ff\u6362\u6210`concat`\u4ece\u800c\u83b7\u5f97\u66f4\u7a20\u5bc6\u7684\u8fde\u63a5\u3002\n\n## \u7ec3\u4e60\n\n- DesNet\u8bba\u6587\u4e2d\u63d0\u4ea4\u7684\u4e00\u4e2a\u4f18\u70b9\u662f\u5176\u6a21\u578b\u53c2\u6570\u6bd4ResNet\u66f4\u5c0f\uff0c\u60f3\u60f3\u4e3a\u4ec0\u4e48\uff1f\n- DesNet\u88ab\u4eba\u8bdf\u75c5\u7684\u4e00\u4e2a\u95ee\u9898\u662f\u5185\u5b58\u6d88\u8017\u8fc7\u591a\u3002\u771f\u7684\u4f1a\u8fd9\u6837\u5417\uff1f\u53ef\u4ee5\u628a\u8f93\u5165\u6362\u6210$224\\times 224$\uff08\u9700\u8981\u6539\u6700\u540e\u7684`AvgPool2D`\u5927\u5c0f\uff09\uff0c\u6765\u770b\u770b\u5b9e\u9645\uff08GPU\uff09\u5185\u5b58\u6d88\u8017\u3002\n- \u8fd9\u91cc\u7684FashionMNIST\u6709\u5fc5\u8981\u7528100+\u5c42\u7684\u7f51\u7edc\u5417\uff1f\u5c1d\u8bd5\u5c06\u5176\u6539\u7b80\u5355\u770b\u770b\u6548\u679c\u3002\n\n\n**\u5410\u69fd\u548c\u8ba8\u8bba\u6b22\u8fce\u70b9**[\u8fd9\u91cc](https://discuss.gluon.ai/t/topic/1664)", 
            "cell_type": "markdown", 
            "metadata": {}
        }
    ], 
    "metadata": {
        "kernelspec": {
            "display_name": "Python 2 with Spark 1.6 (Unsupported)", 
            "name": "python2", 
            "language": "python"
        }, 
        "language_info": {
            "mimetype": "text/x-python", 
            "nbconvert_exporter": "python", 
            "version": "2.7.11", 
            "name": "python", 
            "file_extension": ".py", 
            "pygments_lexer": "ipython2", 
            "codemirror_mode": {
                "version": 2, 
                "name": "ipython"
            }
        }
    }, 
    "nbformat": 4
}