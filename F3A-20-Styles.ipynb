{
    "metadata": {
        "language_info": {
            "name": "python", 
            "mimetype": "text/x-python", 
            "nbconvert_exporter": "python", 
            "pygments_lexer": "ipython3", 
            "codemirror_mode": {
                "name": "ipython", 
                "version": 3
            }, 
            "file_extension": ".py", 
            "version": "3.5.2"
        }, 
        "anaconda-cloud": {}, 
        "kernelspec": {
            "display_name": "Python 3.5 (Experimental) with Spark 2.1", 
            "name": "python3-spark21", 
            "language": "python"
        }
    }, 
    "nbformat": 4, 
    "cells": [
        {
            "metadata": {}, 
            "source": "# Modern Data Science \n**(Module 02: Data Visualization)**\n\n---\n- Materials in this module include resources collected from various open-source online repositories.\n- You are free to use, change and distribute this package.\n\nPrepared by and for \n**Student Members** |\n2006-2018 [TULIP Lab](http://www.tulip.org.au), Australia\n\n---\n\n\n# Session I - Style Sheet\n\n`Style sheets` are designed to be composed together. So you can have a style sheet that customizes colors and a separate `style sheet` that alters element sizes for presentations. \n", 
            "cell_type": "markdown"
        }, 
        {
            "metadata": {}, 
            "source": "## matplotlib styles\n\n* Notebook by [Randal S. Olson](http://www.randalolson.com/)\n* Please see the [repository README file](https://github.com/rhiever/python-data-visualization-course#license-and-usage-terms) for the licenses and usage terms for the instructional material and code in this notebook. In general, I have licensed this material so that it is as widely usable and shareable as possible.", 
            "cell_type": "markdown"
        }, 
        {
            "source": "import matplotlib.pyplot as plt\n\nx1_values = [2012, 2013, 2014, 2015]\ny1_values = [4.3, 2.5, 3.5, 4.5]\n\nx2_values = [2012, 2013, 2014, 2015]\ny2_values = [2.4, 4.4, 1.8, 2.8]\n\nx3_values = [2012, 2013, 2014, 2015]\ny3_values = [2, 2, 3, 5]", 
            "metadata": {}, 
            "execution_count": null, 
            "cell_type": "code", 
            "outputs": []
        }, 
        {
            "source": "%matplotlib inline\n\nimport matplotlib.pyplot as plt\n\nplt.figure()\nplt.plot(x1_values, y1_values, label='Python')\nplt.plot(x2_values, y2_values, label='JavaScript')\nplt.plot(x3_values, y3_values, label='R')\n\nplt.xlim(2012, 2015)\nplt.ylim(0, 6)\nplt.xticks([2012, 2013, 2014, 2015], ['2012', '2013', '2014', '2015'])\nplt.yticks([1, 2, 3, 4, 5])\n\nplt.xlabel('')\nplt.ylabel('Web Searches')\n\nplt.legend(loc='upper center', ncol=3)\nplt.grid(True)\n\nplt.savefig('web-searches.png', dpi=150)", 
            "metadata": {}, 
            "execution_count": null, 
            "cell_type": "code", 
            "outputs": []
        }, 
        {
            "source": "%matplotlib inline\n\nimport matplotlib.pyplot as plt\n\nplt.figure()\nplt.plot(x1_values, y1_values, label='Python', lw=3, color='#1f77b4')\nplt.plot(x2_values, y2_values, label='JavaScript', lw=3, color='#ff7f0e')\nplt.plot(x3_values, y3_values, label='R', lw=3, color='#2ca02c')\n\nplt.xlim(2012, 2015)\nplt.ylim(0, 6)\nplt.xticks([2012, 2013, 2014, 2015], ['2012', '2013', '2014', '2015'])\nplt.yticks([1, 2, 3, 4, 5])\n\nplt.xlabel('')\nplt.ylabel('Web Searches')\n\nplt.legend(loc='upper center', ncol=3)\nplt.grid(True)\n\nplt.savefig('web-searches.png', dpi=150)", 
            "metadata": {}, 
            "execution_count": null, 
            "cell_type": "code", 
            "outputs": []
        }, 
        {
            "source": "%matplotlib inline\n\nimport matplotlib.pyplot as plt\n\nplt.rcParams['axes.color_cycle'] = ['#1f77b4', '#ff7f0e', '#2ca02c']\nplt.rcParams['lines.linewidth'] = 3\n\nplt.figure()\nplt.plot(x1_values, y1_values, label='Python')\nplt.plot(x2_values, y2_values, label='JavaScript')\nplt.plot(x3_values, y3_values, label='R')\n\nplt.xlim(2012, 2015)\nplt.ylim(0, 6)\nplt.xticks([2012, 2013, 2014, 2015], ['2012', '2013', '2014', '2015'])\nplt.yticks([1, 2, 3, 4, 5])\n\nplt.xlabel('')\nplt.ylabel('Web Searches')\n\nplt.legend(loc='upper center', ncol=3)\nplt.grid(True)\n\nplt.savefig('web-searches.png', dpi=150)", 
            "metadata": {}, 
            "execution_count": null, 
            "cell_type": "code", 
            "outputs": []
        }, 
        {
            "metadata": {}, 
            "source": "Customizing matplotlib rcParams: http://matplotlib.org/users/customizing.html#dynamic-rc-settings", 
            "cell_type": "markdown"
        }, 
        {
            "metadata": {}, 
            "source": "## matplotlib styling", 
            "cell_type": "markdown"
        }, 
        {
            "source": "plt.style.available", 
            "metadata": {}, 
            "execution_count": null, 
            "cell_type": "code", 
            "outputs": []
        }, 
        {
            "source": "%matplotlib inline\n\nimport matplotlib.pyplot as plt\n\nwith plt.style.context('fivethirtyeight'):\n    plt.figure()\n    plt.plot(x1_values, y1_values, label='Python')\n    plt.plot(x2_values, y2_values, label='JavaScript')\n    plt.plot(x3_values, y3_values, label='R')\n\n    plt.xlim(2012, 2015)\n    plt.ylim(0, 6)\n    plt.xticks([2012, 2013, 2014, 2015], ['2012', '2013', '2014', '2015'])\n    plt.yticks([1, 2, 3, 4, 5])\n\n    plt.xlabel('')\n    plt.ylabel('Web Searches')\n\n    plt.legend(loc='upper center', ncol=3)\n    plt.grid(True)\n\n    plt.savefig('web-searches.png', dpi=150)", 
            "metadata": {}, 
            "execution_count": null, 
            "cell_type": "code", 
            "outputs": []
        }, 
        {
            "source": "%matplotlib inline\n\nimport matplotlib.pyplot as plt\n\n# Create the first visualization\nwith plt.style.context('bmh'):\n    plt.figure()\n    plt.plot(x1_values, y1_values, label='Python')\n    plt.plot(x2_values, y2_values, label='JavaScript')\n    plt.plot(x3_values, y3_values, label='R')\n\n    plt.xlim(2012, 2015)\n    plt.ylim(0, 6)\n    plt.xticks([2012, 2013, 2014, 2015], ['2012', '2013', '2014', '2015'])\n    plt.yticks([1, 2, 3, 4, 5])\n\n    plt.xlabel('')\n    plt.ylabel('Web Searches')\n\n    plt.legend(loc='upper center', ncol=3)\n    plt.grid(True)\n\n    plt.savefig('web-searches.png', dpi=150)\n\n# Create a second visualization\nwith plt.style.context('fivethirtyeight'):\n    plt.figure()\n    plt.plot(x1_values, y1_values, label='Python')\n    plt.plot(x2_values, y2_values, label='JavaScript')\n    plt.plot(x3_values, y3_values, label='R')\n\n    plt.xlim(2012, 2015)\n    plt.ylim(0, 6)\n    plt.xticks([2012, 2013, 2014, 2015], ['2012', '2013', '2014', '2015'])\n    plt.yticks([1, 2, 3, 4, 5])\n\n    plt.xlabel('')\n    plt.ylabel('Web Searches')\n\n    plt.legend(loc='upper center', ncol=3)\n    plt.grid(True)\n\n    plt.savefig('web-searches.png', dpi=150)", 
            "metadata": {}, 
            "execution_count": null, 
            "cell_type": "code", 
            "outputs": []
        }, 
        {
            "source": "import matplotlib as mpl\nmpl.get_configdir()", 
            "metadata": {}, 
            "execution_count": null, 
            "cell_type": "code", 
            "outputs": []
        }, 
        {
            "source": "!mkdir ~/.config/matplotlib/stylelib/\n!ls ~/.config/matplotlib/stylelib/", 
            "metadata": {}, 
            "execution_count": null, 
            "cell_type": "code", 
            "outputs": []
        }, 
        {
            "source": "custom_style = '''\nfigure.figsize: 12, 7\nfigure.edgecolor: white\nfigure.facecolor: white\n\nlines.linewidth: 2.5\nlines.markeredgewidth: 0\nlines.markersize: 10\nlines.dash_capstyle: butt\n\nlegend.fancybox: True\n\nfont.size: 14\n\naxes.color_cycle: 1f77b4, ff7f0e, 2ca02c, d62728, 9467bd, 8c564b, e377c2, 7f7f7f, bcbd22, 17becf\naxes.linewidth: 0\naxes.titlesize: 22\naxes.labelsize: 16\n\nxtick.labelsize: 14\nytick.labelsize: 14\nxtick.major.size: 0\nxtick.minor.size: 0\nytick.major.size: 0\nytick.minor.size: 0\n\naxes.grid: True\ngrid.alpha: 0.3\ngrid.linewidth: 0.5\ngrid.linestyle: --\ngrid.color: black\n\nsavefig.transparent: False\nsavefig.bbox: tight\nsavefig.format: png\n'''\n\nmpl_style_location = ('{}/stylelib/my_custom_style.mplstyle'.format(mpl.get_configdir()))\n\nwith open(mpl_style_location, 'w') as out_file:\n    out_file.write(custom_style)", 
            "metadata": {}, 
            "execution_count": null, 
            "cell_type": "code", 
            "outputs": []
        }, 
        {
            "metadata": {}, 
            "source": "Look up more rcParams at http://matplotlib.org/users/customizing.html#dynamic-rc-settings", 
            "cell_type": "markdown"
        }, 
        {
            "source": "plt.style.reload_library()\nplt.style.available", 
            "metadata": {}, 
            "execution_count": null, 
            "cell_type": "code", 
            "outputs": []
        }, 
        {
            "source": "%matplotlib inline\n\nimport matplotlib.pyplot as plt\n\nwith plt.style.context('my_custom_style'):\n    plt.figure()\n    plt.plot(x1_values, y1_values, label='Python')\n    plt.plot(x2_values, y2_values, label='JavaScript')\n    plt.plot(x3_values, y3_values, label='R')\n\n    plt.xlim(2012, 2015)\n    plt.ylim(0, 6)\n    plt.xticks([2012, 2013, 2014, 2015], ['2012', '2013', '2014', '2015'])\n    plt.yticks([1, 2, 3, 4, 5])\n\n    plt.xlabel('')\n    plt.ylabel('Web Searches')\n\n    plt.legend(loc='upper center', ncol=3)\n    plt.grid(True)\n\n    plt.savefig('web-searches.png', dpi=150)", 
            "metadata": {}, 
            "execution_count": null, 
            "cell_type": "code", 
            "outputs": []
        }, 
        {
            "metadata": {}, 
            "source": "## Tips for matplotlib styles\n\n### Always use styles!\n\nSaves time, saves code\n\n### Use `plt.style.context()`\n\nYou *can* use `plt.style.use()`, but not ideal\n\n### Create separate styles for colors and figure formatting\n\nMight need to switch between grayscale and color\n\n```python\n    with plt.style.context(['figure_formatting', 'colorbrewer_colors']):\n```\n\nto\n\n```python\n    with plt.style.context(['figure_formatting', 'grayscale_colors']):\n```", 
            "cell_type": "markdown"
        }
    ], 
    "nbformat_minor": 1
}