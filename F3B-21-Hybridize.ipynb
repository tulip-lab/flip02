{
    "nbformat_minor": 2, 
    "cells": [
        {
            "source": "# Hybridize\uff1a\u66f4\u5feb\u548c\u66f4\u597d\u79fb\u690d\n\n\u5230\u76ee\u524d\u4e3a\u6b62\u6211\u4eec\u770b\u5230\u7684\u6559\u7a0b\u90fd\u4f7f\u7528\u4e86**\u547d\u4ee4\u5f0f**\u7684\u7f16\u7a0b\u3002\u4f60\u53ef\u80fd\u4e4b\u524d\u90fd\u4ece\u6765\u6ca1\u6709\u542c\u8bf4\u8fd9\u4e2a\u8bcd\u3002\u4e0d\u8fc7\uff0c\u4e00\u76f4\u4ee5\u6765\u6211\u4eec\u90fd\u662f\u7528\u8fd9\u4e2a\u65b9\u5f0f\u5199Python\u4ee3\u7801\u3002\n\n\u8003\u8651\u4e0b\u9762\u8fd9\u6bb5\u4ee3\u7801\uff1a", 
            "cell_type": "markdown", 
            "metadata": {}
        }, 
        {
            "execution_count": null, 
            "cell_type": "code", 
            "metadata": {}, 
            "outputs": [], 
            "source": "def add(A, B):\n    return A + B\n\ndef fancy_func(A, B, C, D):\n    E = add(A, B)\n    F = add(C, D)\n    G = add(E, F)\n    return G\n\nfancy_func(1,2,3,4)"
        }, 
        {
            "source": "\u6b63\u5982\u5927\u5bb6\u5e0c\u671b\u7684\u90a3\u6837\uff0c\u5728\u8fd0\u884c`E = add(A, B)`\u7684\u65f6\u5019\uff0c\u6211\u4eec\u5b9e\u9645\u4e0a\u4f1a\u505a\u52a0\u6cd5\u8fd0\u7b97\u5e76\u8fd4\u56de\u7ed3\u679c\u3002\u4e4b\u540e\u7684\u6307\u4ee4`F = `\u548c`G = `\u4f1a\u8ddf\u5728\u540e\u9762\u987a\u5e8f\u6267\u884c\u3002\n\n\u8fd9\u4e2a\u7f16\u7a0b\u65b9\u5f0f\u7684\u4e3b\u8981\u4f18\u70b9\u662f\u5f88\u81ea\u7136\uff0c\u5927\u90e8\u5206\u7528\u6237\u53ef\u80fd\u90fd\u4e0d\u4f1a\u610f\u8bc6\u8fd8\u6709\u522b\u7684\u5176\u4ed6\u7684\u7f16\u7a0b\u65b9\u5f0f\u3002\u4f46\u5b83\u7684\u4e0d\u8db3\u662f\u53ef\u80fd\u4f1a\u6162\u3002\u8fd9\u662f\u56e0\u4e3a\u6211\u4eec\u4e0d\u65ad\u8ddf\uff08\u53ef\u80fd\u5f88\u6162\u7684\uff09Python\u7684\u8fd0\u884c\u73af\u5883\u6253\u4ea4\u9053\u3002\u5373\u4f7f\u6211\u4eec\u91cd\u590d\u8c03\u7528\u4e86`add`\u4e09\u6b21\uff0c\u6211\u4eec\u8fd8\u662f\u4f1a\u8ddfPython\u6253\u4e09\u6b21\u4ea4\u9053\u3002\u53e6\u5916\u4e00\u70b9\u662f\uff0c\u6211\u4eec\u9700\u8981\u4fdd\u5b58`E`\u548c`F`\u7684\u7ed3\u679c\u76f4\u5230`fancy_func`\u7ed3\u675f\u3002\u56e0\u4e3a\u4e4b\u524d\u6211\u4eec\u4e0d\u77e5\u9053\u662f\u4e0d\u662f\u8fd8\u4f1a\u6709\u8c01\u7528\u8fd9\u4e9b\u7ed3\u679c\u3002\n\n\u4e8b\u5b9e\u4e0a\u8fd9\u91cc\u4e0d\u540c\u7684\u6253\u5f00\u65b9\u5f0f\u3002\u5176\u4e2d\u4e00\u4e2a\u53eb**\u7b26\u53f7\u5f0f**\u7f16\u7a0b\uff0c\u5927\u90e8\u5206\u7684\u6df1\u5ea6\u5b66\u4e60\u6846\u67b6\u5305\u62ecTheano\u548cTensorFlow\u7528\u4e86\u8fd9\u4e2a\u65b9\u5f0f\u3002\u901a\u5e38\u8fd9\u4e2a\u65b9\u5f0f\u7684\u7a0b\u5e8f\u9700\u8981\u4e0b\u9762\u4e09\u4e2a\u6b65\u9aa4\uff1a\n\n1. \u5b9a\u4e49\u8ba1\u7b97\u6d41\u7a0b\n2. \u7f16\u8bd1\u6210\u53ef\u6267\u884c\u7684\u7a0b\u5e8f\n3. \u7ed9\u5b9a\u8f93\u5165\u8c03\u7528\u7f16\u8bd1\u597d\u7684\u7a0b\u5e8f\n\n\u6211\u4eec\u91cd\u65b0\u5b9e\u73b0\u4e0a\u9762\u7684\u7a0b\u5e8f\uff1a", 
            "cell_type": "markdown", 
            "metadata": {}
        }, 
        {
            "execution_count": 1, 
            "cell_type": "code", 
            "metadata": {}, 
            "outputs": [
                {
                    "output_type": "stream", 
                    "name": "stdout", 
                    "text": "10\n"
                }
            ], 
            "source": "def add_str():\n    return '''\ndef add(A, B):\n    return A + B\n'''\n\ndef fancy_func_str():\n    return '''\ndef fancy_func(A, B, C, D):\n    E = add(A, B)\n    F = add(C, D)\n    G = add(E, F)\n    return G\n'''\n\ndef evoke_str():\n    return add_str() + fancy_func_str() + '''\nprint(fancy_func(1,2,3,4))\n'''\n\nprog = evoke_str()\ny = compile(prog, '', 'exec')\nexec(y)"
        }, 
        {
            "source": "\u53ef\u4ee5\u770b\u5230\u6211\u4eec\u5b9a\u4e49\u7684\u4e09\u4e2a\u51fd\u6570\u90fd\u53ea\u662f\u8fd4\u56de\u8ba1\u7b97\u6d41\u7a0b\u3002\u4e4b\u540e\u6211\u4eec\u7f16\u8bd1\u518d\u6267\u884c\u3002\u5728\u7f16\u8bd1\u7684\u65f6\u5019\u7cfb\u7edf\u80fd\u591f\u770b\u5230\u6574\u4e2a\u7a0b\u5e8f\uff0c\u56e0\u6b64\u6709\u66f4\u591a\u7684\u4f18\u5316\u7a7a\u95f4\u3002\u4f8b\u5982\u7f16\u8bd1\u7684\u65f6\u5019\u53ef\u4ee5\u5c06\u7a0b\u5e8f\u6539\u5199\u6210`print((1+2)+(3+4))`\uff0c\u751a\u81f3\u76f4\u63a5`print(10)`\u3002\u8fd9\u91cc\u6211\u4eec\u4e0d\u4ec5\u51cf\u5c11\u4e86\u51fd\u6570\u8c03\u7528\uff0c\u540c\u65f6\u8282\u7701\u4e86\u5185\u5b58\u3002\n\n\u603b\u7ed3\u4e00\u4e0b\n\n- **\u547d\u4ee4\u5f0f\u7f16\u7a0b\u66f4\u65b9\u4fbf\u3002** \u5f53\u6211\u4eec\u5728Python\u91cc\u7528\u4e00\u4e2a\u547d\u4ee4\u5f0f\u7f16\u7a0b\u5e93\u65f6\uff0c\u6211\u4eec\u5728\u5199Python\u4ee3\u7801\uff0c\u7edd\u5927\u90e8\u5206\u4ee3\u7801\u5f88\u7b26\u5408\u76f4\u89c9\u3002\u540c\u6837\u5f88\u5bb9\u6613\u902eBUG\uff0c\u56e0\u4e3a\u6211\u4eec\u53ef\u4ee5\u62ff\u5230\u6240\u6709\u4e2d\u95f4\u53d8\u91cf\u503c\uff0c\u6211\u4eec\u53ef\u4ee5\u7b80\u5355\u6253\u5370\u5b83\u4eec\uff0c\u6216\u8005\u4f7f\u7528Python\u7684debug\u5de5\u5177\u3002\n\n- **\u7b26\u53f7\u5f0f\u7f16\u7a0b\u66f4\u52a0\u9ad8\u6548\u800c\u4e14\u66f4\u5bb9\u6613\u79fb\u690d\u3002** \u4e4b\u524d\u6211\u4eec\u63d0\u5230\u5728\u7f16\u8bd1\u7684\u65f6\u5019\u7cfb\u7edf\u53ef\u4ee5\u5bb9\u6613\u7684\u505a\u66f4\u591a\u7684\u4f18\u5316\u3002\u53e6\u5916\u4e00\u4e2a\u597d\u5904\u662f\u53ef\u4ee5\u5c06\u7a0b\u5e8f\u53d8\u6210\u4e00\u4e2a\u4e0ePython\u65e0\u5173\u7684\u683c\u5f0f\uff0c\u4ece\u800c\u6211\u4eec\u53ef\u4ee5\u5728\u975ePython\u73af\u5883\u4e0b\u8fd0\u884c\u3002\n\n## \u4f7f\u7528`hybridize`\u6765\u62ff\u5230\u4e24\u8005\u7684\u597d\u5904\n\n\u5927\u90e8\u5206\u7684\u6df1\u5ea6\u5b66\u4e60\u6846\u67b6\u901a\u5e38\u5728\u547d\u4ee4\u5f0f\u548c\u7b26\u53f7\u5f0f\u4e4b\u95f4\u4e8c\u9009\u4e00\u3002\u4f8b\u5982Theano\u548c\u5b83\u542f\u53d1\u7684\u540e\u6765\u8005\uff0c\u4f8b\u5982TensorFlow\uff0c\u4f7f\u7528\u4e86\u7b26\u53f7\u5f0f\u3002Chainer\u548c\u5b83\u7684\u8ffd\u968f\u8005PyTorch\u4f7f\u7528\u4e86\u547d\u4ee4\u5f0f\u3002\u5728\u8bbe\u8ba1Gluon\u7684\u65f6\u5019\u6211\u4eec\u95ee\u4e86\u8fd9\u4e2a\u95ee\u9898\uff1a\u53ef\u80fd\u62ff\u5230\u547d\u4ee4\u5f0f\u7684*\u5168\u90e8*\u597d\u5904\uff0c\u4f46\u4ecd\u7136\u4eab\u53d7\u7b26\u53f7\u5f0f\u7684\u4f18\u52bf\u5417\uff1f\u4ece\u53e6\u4e00\u65b9\u9762\u6765\u8bf4\uff0c\u7528\u6237\u5e94\u8be5\u7528\u7eaf\u547d\u4ee4\u5f0f\u7684\u65b9\u6cd5\u6765\u4f7f\u7528Gluon\u8fdb\u884c\u5f00\u53d1\u548c\u8c03\u8bd5\u3002\u4f46\u5f53\u9700\u8981\u4ea7\u54c1\u7ea7\u522b\u7684\u6027\u80fd\u548c\u90e8\u7f72\u7684\u65f6\u5019\uff0c\u6211\u4eec\u53ef\u4ee5\u5c06\u4ee3\u7801\uff0c\u81f3\u5c11\u5927\u90e8\u5206\uff0c\u8f6c\u6362\u6210\u7b26\u53f7\u5f0f\u6765\u8fd0\u884c\u3002\n\n\u4e8b\u5b9e\u8fd9\u4e00\u70b9\u53ef\u4ee5\u505a\u5230\u3002\u6211\u4eec\u53ef\u4ee5\u901a\u8fc7\u4f7f\u7528`HybridBlock`\u6216\u8005`HybridSequential`\u6765\u6784\u5efa\u795e\u7ecf\u7f51\u7edc\u3002\u9ed8\u8ba4\u4ed6\u4eec\u8ddf`Block`\u548c`Sequential`\u4e00\u6837\u4f7f\u7528\u547d\u4ee4\u5f0f\u6267\u884c\u3002\u5f53\u6211\u4eec\u8c03\u7528`.hybridize()`\u540e\uff0c\u7cfb\u7edf\u4f1a\u8f6c\u6362\u6210\u7b26\u53f7\u5f0f\u6765\u6267\u884c\u3002\u4e8b\u5b9e\u4e0a\uff0c\u6240\u6709Gluon\u91cc\u5b9a\u4e49\u7684\u5c42\u5168\u662f`HybridBlock`\uff0c\u8fd9\u4e2a\u610f\u5473\u7740\u5927\u90e8\u5206\u7684\u795e\u7ecf\u7f51\u7edc\u90fd\u53ef\u4ee5\u4eab\u53d7\u7b26\u53f7\u5f0f\u6267\u884c\u7684\u4f18\u52bf\u3002\n\n\n## HybridSequential\n\n\u6211\u4eec\u4e4b\u524d\u5b66\u4e60\u4e86\u5982\u4f55\u4f7f\u7528`Sequential`\u6765\u4e32\u8054\u591a\u4e2a\u5c42\u3002\u5982\u679c\u4f60\u60f3\u8981\u5b83\u8dd1\u5f97\u98de\u5feb\uff0c\u90a3\u4f60\u5e94\u8be5\u8003\u8651\u66ff\u6362\u6210`HybridSequential`\u3002", 
            "cell_type": "markdown", 
            "metadata": {}
        }, 
        {
            "execution_count": 2, 
            "cell_type": "code", 
            "metadata": {}, 
            "outputs": [
                {
                    "execution_count": 2, 
                    "metadata": {}, 
                    "data": {
                        "text/plain": "\n[[ 0.08827581  0.00505182]]\n<NDArray 1x2 @cpu(0)>"
                    }, 
                    "output_type": "execute_result"
                }
            ], 
            "source": "from mxnet.gluon import nn\nfrom mxnet import nd\n\ndef get_net():\n    net = nn.HybridSequential()\n    with net.name_scope():\n        net.add(\n            nn.Dense(256, activation=\"relu\"),\n            nn.Dense(128, activation=\"relu\"),\n            nn.Dense(2)\n        )\n    net.initialize()\n    return net\n\nx = nd.random.normal(shape=(1, 512))\nnet = get_net()\nnet(x)"
        }, 
        {
            "source": "\u6211\u4eec\u53ef\u4ee5\u901a\u8fc7`hybridize`\u6765\u7f16\u8bd1\u548c\u4f18\u5316`HybridSequential`\u3002", 
            "cell_type": "markdown", 
            "metadata": {}
        }, 
        {
            "execution_count": 3, 
            "cell_type": "code", 
            "metadata": {}, 
            "outputs": [
                {
                    "execution_count": 3, 
                    "metadata": {}, 
                    "data": {
                        "text/plain": "\n[[ 0.08827581  0.00505182]]\n<NDArray 1x2 @cpu(0)>"
                    }, 
                    "output_type": "execute_result"
                }
            ], 
            "source": "net.hybridize()\nnet(x)"
        }, 
        {
            "source": "\u6ce8\u610f\u5230\u53ea\u6709\u7ee7\u627f\u81ea`HybridBlock`\u7684\u5c42\u624d\u4f1a\u88ab\u4f18\u5316\u3002`HybridSequential`\u548cGluon\u63d0\u4f9b\u7684\u5c42\u90fd\u662f\u5b83\u7684\u5b50\u7c7b\u3002\u5982\u679c\u4e00\u4e2a\u5c42\u53ea\u662f\u7ee7\u627f\u81ea`Block`\uff0c\u90a3\u4e48\u6211\u4eec\u5c06\u8df3\u8fc7\u4f18\u5316\u3002\u6211\u4eec\u4f1a\u63a5\u4e0b\u4f1a\u8ba8\u8bba\u5982\u4f55\u4f7f\u7528`HybridBlock`\u3002\n\n\n## \u6027\u80fd\n\n\u6211\u4eec\u6bd4\u8f83`hybridize`\u524d\u548c\u540e\u7684\u8ba1\u7b97\u65f6\u95f4\u6765\u5c55\u793a\u7b26\u53f7\u5f0f\u6267\u884c\u7684\u6027\u80fd\u63d0\u5347\u3002\u8fd9\u91cc\u6211\u4eec\u8ba1\u65f61000\u6b21forward\uff1a", 
            "cell_type": "markdown", 
            "metadata": {}
        }, 
        {
            "execution_count": 4, 
            "cell_type": "code", 
            "metadata": {}, 
            "outputs": [
                {
                    "output_type": "stream", 
                    "name": "stdout", 
                    "text": "Before hybridizing: 0.3766 sec\nAfter hybridizing: 0.2193 sec\n"
                }
            ], 
            "source": "from time import time\n\ndef bench(net, x):\n    start = time()\n    for i in range(1000):\n        y = net(x)\n    # \u7b49\u5f85\u6240\u6709\u8ba1\u7b97\u5b8c\u6210\n    nd.waitall()\n    return time() - start\n\nnet = get_net()\nprint('Before hybridizing: %.4f sec'%(bench(net, x)))\nnet.hybridize()\nprint('After hybridizing: %.4f sec'%(bench(net, x)))"
        }, 
        {
            "source": "\u53ef\u4ee5\u770b\u5230`hybridize`\u63d0\u4f9b\u8fd1\u4f3c\u4e24\u500d\u7684\u52a0\u901f\u3002\n\n\n## \u83b7\u53d6\u7b26\u53f7\u5f0f\u7684\u7a0b\u5e8f\n\n\u4e4b\u524d\u6211\u4eec\u7ed9`net`\u8f93\u5165`NDArray`\u7c7b\u578b\u7684`x`\uff0c\u7136\u540e`net(x)`\u4f1a\u76f4\u63a5\u8fd4\u56de\u7ed3\u679c\u3002\u5bf9\u4e8e\u8c03\u7528\u8fc7`hybridize()`\u540e\u7684\u7f51\u7edc\uff0c\u6211\u4eec\u53ef\u4ee5\u7ed9\u5b83\u8f93\u5165\u4e00\u4e2a`Symbol`\u7c7b\u578b\u7684\u53d8\u91cf\uff0c\u5176\u4f1a\u8fd4\u56de\u540c\u6837\u662f`Symbol`\u7c7b\u578b\u7684\u7a0b\u5e8f\u3002", 
            "cell_type": "markdown", 
            "metadata": {}
        }, 
        {
            "execution_count": 5, 
            "cell_type": "code", 
            "metadata": {}, 
            "outputs": [
                {
                    "execution_count": 5, 
                    "metadata": {}, 
                    "data": {
                        "text/plain": "<Symbol hybridsequential1_dense2_fwd>"
                    }, 
                    "output_type": "execute_result"
                }
            ], 
            "source": "from mxnet import sym\n\nx = sym.var('data')\ny = net(x)\ny"
        }, 
        {
            "source": "\u6211\u4eec\u53ef\u4ee5\u901a\u8fc7`export()`\u6765\u4fdd\u5b58\u8fd9\u4e2a\u7a0b\u5e8f\u5230\u786c\u76d8\u3002\u5b83\u53ef\u4ee5\u4e4b\u540e\u4e0d\u4ec5\u88abPython\uff0c\u540c\u65f6\u4e5f\u53ef\u4ee5\u5176\u4ed6\u652f\u6301\u7684\u524d\u7aef\u8bed\u8a00\uff0c\u4f8b\u5982C++, Scala, R...\uff0c\u8bfb\u53d6\u3002\n\nTODO(mli) `export`\u9700\u8981`mxnet>=0.11.1b20171015`\uff0c\u6837\u4f8b\u4e4b\u540e\u653e\u8fdb\u6765\u3002\n\n## \u901a\u8fc7HybridBlock\u6df1\u5165\u7406\u89e3`hybridize`\u5de5\u4f5c\u673a\u5236\n\n\u524d\u9762\u6211\u4eec\u5c55\u793a\u4e86\u901a\u8fc7`hybridize`\u6211\u4eec\u53ef\u4ee5\u83b7\u5f97\u66f4\u597d\u7684\u6027\u80fd\u548c\u66f4\u9ad8\u7684\u79fb\u690d\u6027\u3002\u73b0\u5728\u6211\u4eec\u6765\u89e3\u91ca\u8fd9\u4e2a\u662f\u5982\u4f55\u5f71\u54cd\u7075\u6d3b\u6027\u7684\u3002\u8bb0\u5f97\u6211\u4eec\u63d0\u8fc7gluon\u91cc\u9762\u7684`Sequential`\u662f`Block`\u7684\u4e00\u4e2a\u4fbf\u5229\u5f62\u5f0f\uff0c\u540c\u7406\uff0c\u53ef\u4ee5`HybridSequential`\u662f`HybridBlock`\u7684\u5b50\u7c7b\u3002\u8ddf`Block`\u9700\u8981\u5b9e\u73b0`forward`\u65b9\u6cd5\u4e0d\u4e00\u6837\uff0c\u5bf9\u4e8e`HybridBlock`\u6211\u4eec\u9700\u8981\u5b9e\u73b0`hybrid_forward`\u65b9\u6cd5\u3002", 
            "cell_type": "markdown", 
            "metadata": {}
        }, 
        {
            "execution_count": 6, 
            "cell_type": "code", 
            "metadata": {}, 
            "outputs": [], 
            "source": "class HybridNet(nn.HybridBlock):\n    def __init__(self, **kwargs):\n        super(HybridNet, self).__init__(**kwargs)\n        with self.name_scope():\n            self.fc1 = nn.Dense(10)\n            self.fc2 = nn.Dense(2)\n\n    def hybrid_forward(self, F, x):\n        print(F)\n        print(x)\n        x = F.relu(self.fc1(x))\n        print(x)\n        return self.fc2(x)"
        }, 
        {
            "source": "`hybrid_forward`\u65b9\u6cd5\u52a0\u5165\u4e86\u989d\u5916\u7684\u8f93\u5165`F`\uff0c\u5b83\u4f7f\u7528\u4e86MXNet\u7684\u4e00\u4e2a\u72ec\u7279\u7684\u7279\u5f81\u3002MXNet\u6709\u4e00\u4e2a\u7b26\u53f7\u5f0f\u7684API (`symbol`) \u548c\u547d\u4ee4\u5f0f\u7684API (`ndarray`)\u3002\u8fd9\u4e24\u4e2a\u63a5\u53e3\u91cc\u9762\u7684\u51fd\u6570\u57fa\u672c\u662f\u4e00\u81f4\u7684\u3002\u7cfb\u7edf\u4f1a\u6839\u636e\u8f93\u5165\u6765\u51b3\u5b9a`F`\u662f\u4f7f\u7528`symbol`\u8fd8\u662f`ndarray`\u3002\n\n\u6211\u4eec\u5b9e\u4f8b\u5316\u4e00\u4e2a\u6837\u4f8b\uff0c\u7136\u540e\u53ef\u4ee5\u770b\u5230\u9ed8\u8ba4`F`\u662f\u4f7f\u7528`ndarray`\u3002\u800c\u4e14\u6211\u4eec\u6253\u5370\u51fa\u4e86\u8f93\u5165\u548c\u7b2c\u4e00\u5c42relu\u7684\u8f93\u51fa\u3002", 
            "cell_type": "markdown", 
            "metadata": {}
        }, 
        {
            "execution_count": 7, 
            "cell_type": "code", 
            "metadata": {}, 
            "outputs": [
                {
                    "output_type": "stream", 
                    "name": "stdout", 
                    "text": "<module 'mxnet.ndarray' from '/gpfs/fs01/user/s05b-0294eb3de63d2e-b5498f932ea5/.local/lib/python2.7/site-packages/mxnet/ndarray/__init__.pyc'>\n\n[[-0.12225834  0.5429998  -0.94693518  0.59643304]]\n<NDArray 1x4 @cpu(0)>\n\n[[ 0.11134676  0.04770704  0.05341475  0.          0.08091211  0.          0.\n   0.04143535  0.          0.        ]]\n<NDArray 1x10 @cpu(0)>\n"
                }
            ], 
            "source": "net = HybridNet()\nnet.initialize()\nx = nd.random.normal(shape=(1, 4))\ny = net(x)\n"
        }, 
        {
            "source": "\u518d\u8fd0\u884c\u4e00\u6b21\u4f1a\u5f97\u5230\u540c\u6837\u7684\u7ed3\u679c\u3002", 
            "cell_type": "markdown", 
            "metadata": {}
        }, 
        {
            "execution_count": 8, 
            "cell_type": "code", 
            "metadata": {}, 
            "outputs": [
                {
                    "output_type": "stream", 
                    "name": "stdout", 
                    "text": "<module 'mxnet.ndarray' from '/gpfs/fs01/user/s05b-0294eb3de63d2e-b5498f932ea5/.local/lib/python2.7/site-packages/mxnet/ndarray/__init__.pyc'>\n\n[[-0.12225834  0.5429998  -0.94693518  0.59643304]]\n<NDArray 1x4 @cpu(0)>\n\n[[ 0.11134676  0.04770704  0.05341475  0.          0.08091211  0.          0.\n   0.04143535  0.          0.        ]]\n<NDArray 1x10 @cpu(0)>\n"
                }
            ], 
            "source": "y = net(x)"
        }, 
        {
            "source": "\u63a5\u4e0b\u6765\u770b\u770b`hybridze`\u540e\u4f1a\u53d1\u751f\u4ec0\u4e48\u3002", 
            "cell_type": "markdown", 
            "metadata": {}
        }, 
        {
            "execution_count": 9, 
            "cell_type": "code", 
            "metadata": {}, 
            "outputs": [
                {
                    "output_type": "stream", 
                    "name": "stdout", 
                    "text": "<module 'mxnet.symbol' from '/gpfs/fs01/user/s05b-0294eb3de63d2e-b5498f932ea5/.local/lib/python2.7/site-packages/mxnet/symbol/__init__.pyc'>\n<Symbol data>\n<Symbol hybridnet0_relu0>\n"
                }
            ], 
            "source": "net.hybridize()\ny = net(x)"
        }, 
        {
            "source": "\u53ef\u4ee5\u770b\u5230\uff1a\n\n1. `F`\u53d8\u6210\u4e86`symbol`.\n2. \u5373\u4f7f\u8f93\u5165\u6570\u636e\u8fd8\u662f`NDArray`\u7684\u7c7b\u578b\uff0c\u4f46`hybrid_forward`\u91cc\u4e0d\u8bba\u662f\u8f93\u5165\u8fd8\u662f\u4e2d\u95f4\u8f93\u51fa\uff0c\u5168\u90e8\u53d8\u6210\u4e86`Symbol`\n\n\u518d\u8fd0\u884c\u4e00\u6b21\u770b\u770b", 
            "cell_type": "markdown", 
            "metadata": {}
        }, 
        {
            "execution_count": 10, 
            "cell_type": "code", 
            "metadata": {}, 
            "outputs": [], 
            "source": "y = net(x)"
        }, 
        {
            "source": "\u53ef\u4ee5\u770b\u5230\u4ec0\u4e48\u90fd\u6ca1\u6709\u8f93\u51fa\u3002\u8fd9\u662f\u56e0\u4e3a\u7b2c\u4e00\u6b21`net(x)`\u7684\u65f6\u5019\uff0c\u4f1a\u5148\u5c06\u8f93\u5165\u66ff\u6362\u6210`Symbol`\u6765\u6784\u5efa\u7b26\u53f7\u5f0f\u7684\u7a0b\u5e8f\uff0c\u4e4b\u540e\u8fd0\u884c\u7684\u65f6\u5019\u7cfb\u7edf\u5c06\u4e0d\u518d\u8bbf\u95eePython\u7684\u4ee3\u7801\uff0c\u800c\u662f\u76f4\u63a5\u5728C++\u540e\u7aef\u6267\u884c\u8fd9\u4e2a\u7b26\u53f7\u5f0f\u7a0b\u5e8f\u3002\u8fd9\u662f\u4e3a\u4ec0\u4e48`hybridze`\u540e\u4f1a\u53d8\u5feb\u7684\u4e00\u4e2a\u539f\u56e0\u3002\n\n\u4f46\u5b83\u53ef\u80fd\u7684\u95ee\u9898\u662f\u6211\u4eec\u635f\u5931\u5199\u7a0b\u5e8f\u7684\u7075\u6d3b\u6027\u3002\u56e0\u4e3aPython\u7684\u4ee3\u7801\u53ea\u6267\u884c\u4e00\u6b21\uff0c\u800c\u4e14\u662f\u7b26\u53f7\u5f0f\u7684\u6267\u884c\uff0c\u90a3\u4e48\u4f7f\u7528`print`\u6765\u8c03\u8bd5\uff0c\u6216\u8005\u4f7f\u7528`if`\u548c`for`\u6765\u505a\u590d\u6742\u7684\u63a7\u5236\u90fd\u4e0d\u53ef\u80fd\u4e86\u3002\n\n## \u7ed3\u8bba\n\n\u901a\u8fc7`HybridSequential`\u548c`HybridBlock`\uff0c\u6211\u4eec\u53ef\u4ee5\u7b80\u5355\u7684\u7528`hybridize`\u6765\u5c06\u5c06\u547d\u4ee4\u5f0f\u7684\u7a0b\u5e8f\u8f6c\u6210\u7b26\u53f7\u5f0f\u7a0b\u5e8f\u3002\u6211\u4eec\u63a8\u8350\u5927\u5bb6\u5c3d\u53ef\u80fd\u7684\u4f7f\u7528\u8fd9\u4e2a\u6765\u83b7\u5f97\u6700\u597d\u7684\u6027\u80fd\u52a0\u901f\u3002\n\n\n**\u5410\u69fd\u548c\u8ba8\u8bba\u6b22\u8fce\u70b9**[\u8fd9\u91cc](https://discuss.gluon.ai/t/topic/1665)", 
            "cell_type": "markdown", 
            "metadata": {}
        }
    ], 
    "metadata": {
        "kernelspec": {
            "display_name": "Python 2 with Spark 1.6 (Unsupported)", 
            "name": "python2", 
            "language": "python"
        }, 
        "language_info": {
            "mimetype": "text/x-python", 
            "nbconvert_exporter": "python", 
            "version": "2.7.11", 
            "name": "python", 
            "file_extension": ".py", 
            "pygments_lexer": "ipython2", 
            "codemirror_mode": {
                "version": 2, 
                "name": "ipython"
            }
        }
    }, 
    "nbformat": 4
}