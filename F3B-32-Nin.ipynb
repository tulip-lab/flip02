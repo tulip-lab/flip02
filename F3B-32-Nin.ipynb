{
    "nbformat_minor": 2, 
    "cells": [
        {
            "source": "# \u7f51\u7edc\u4e2d\u7684\u7f51\u7edc\n\nAlexnet\u4e4b\u540e\u4e00\u4e2a\u91cd\u8981\u7684\u5de5\u4f5c\u662f[Network in Network\uff08NiN\uff09](https://arxiv.org/abs/1312.4400)\uff0c\u5176\u63d0\u51fa\u7684\u4e24\u4e2a\u60f3\u6cd5\u5f71\u54cd\u4e86\u540e\u9762\u7684\u7f51\u7edc\u8bbe\u8ba1\u3002\n\n\u9996\u5148\u4e00\u70b9\u662f\u6ce8\u610f\u5230\u5377\u79ef\u795e\u7ecf\u7f51\u7edc\u4e00\u822c\u5206\u6210\u4e24\u5757\uff0c\u4e00\u5757\u4e3b\u8981\u7531\u5377\u79ef\u5c42\u6784\u6210\uff0c\u53e6\u4e00\u5757\u4e3b\u8981\u662f\u5168\u8fde\u63a5\u5c42\u3002\u5728Alexnet\u91cc\u6211\u4eec\u770b\u5230\u5982\u4f55\u628a\u5377\u79ef\u5c42\u5757\u548c\u5168\u8fde\u63a5\u5c42\u5206\u522b\u52a0\u6df1\u52a0\u5bbd\u4ece\u800c\u5f97\u5230\u6df1\u5ea6\u7f51\u7edc\u3002\u53e6\u5916\u4e00\u4e2a\u81ea\u7136\u7684\u60f3\u6cd5\u662f\uff0c\u6211\u4eec\u53ef\u4ee5\u4e32\u8054\u6570\u4e2a\u5377\u79ef\u5c42\u5757\u548c\u5168\u8fde\u63a5\u5c42\u5757\u6765\u6784\u5efa\u6df1\u5ea6\u7f51\u7edc\u3002\n\nCheck [here](https://github.com/mli/gluon-tutorials-zh/blob/master/chapter_convolutional-neural-networks/nin-gluon.md)\n\n![](https://github.com/mli/gluon-tutorials-zh/raw/master/img/nin.svg)\n\n\u4e0d\u8fc7\u8fd9\u91cc\u7684\u4e00\u4e2a\u96be\u9898\u662f\uff0c\u5377\u79ef\u7684\u8f93\u5165\u8f93\u51fa\u662f4D\u77e9\u9635\uff0c\u7136\u800c\u5168\u8fde\u63a5\u662f2D\u3002\u540c\u65f6\u5728[\u5377\u79ef\u795e\u7ecf\u7f51\u7edc](./cnn-scratch.md)\u91cc\u6211\u4eec\u63d0\u5230\u5982\u679c\u628a4D\u77e9\u9635\u8f6c\u62102D\u505a\u5168\u8fde\u63a5\uff0c\u8fd9\u4e2a\u4f1a\u5bfc\u81f4\u5168\u8fde\u63a5\u5c42\u6709\u8fc7\u591a\u7684\u53c2\u6570\u3002NiN\u63d0\u51fa\u53ea\u5bf9\u901a\u9053\u5c42\u505a\u5168\u8fde\u63a5\u5e76\u4e14\u50cf\u7d20\u4e4b\u95f4\u5171\u4eab\u6743\u91cd\u6765\u89e3\u51b3\u4e0a\u8ff0\u4e24\u4e2a\u95ee\u9898\u3002\u5c31\u662f\u8bf4\uff0c\u6211\u4eec\u4f7f\u7528kernel\u5927\u5c0f\u662f$1 \\times 1$\u7684\u5377\u79ef\u3002\n\n\u4e0b\u9762\u4ee3\u7801\u5b9a\u4e49\u4e00\u4e2a\u8fd9\u6837\u7684\u5757\uff0c\u5b83\u7531\u4e00\u4e2a\u6b63\u5e38\u7684\u5377\u79ef\u5c42\u63a5\u4e0a\u4e24\u4e2akernel\u662f$1 \\times 1$\u7684\u5377\u79ef\u5c42\u6784\u6210\u3002\u540e\u9762\u4e24\u4e2a\u5145\u5f53\u4e24\u4e2a\u5168\u8fde\u63a5\u5c42\u7684\u89d2\u8272\u3002", 
            "cell_type": "markdown", 
            "metadata": {}
        }, 
        {
            "execution_count": null, 
            "cell_type": "code", 
            "metadata": {
                "attributes": {
                    "classes": [], 
                    "id": "", 
                    "n": "2"
                }
            }, 
            "outputs": [], 
            "source": "from mxnet.gluon import nn\n\ndef mlpconv(channels, kernel_size, padding,\n            strides=1, max_pooling=True):\n    out = nn.Sequential()\n    out.add(\n        nn.Conv2D(channels=channels, kernel_size=kernel_size,\n                  strides=strides, padding=padding,\n                  activation='relu'),\n        nn.Conv2D(channels=channels, kernel_size=1,\n                  padding=0, strides=1, activation='relu'),\n        nn.Conv2D(channels=channels, kernel_size=1,\n                  padding=0, strides=1, activation='relu'))\n    if max_pooling:\n        out.add(nn.MaxPool2D(pool_size=3, strides=2))\n    return out"
        }, 
        {
            "source": "\u6d4b\u8bd5\u4e00\u4e0b\uff1a", 
            "cell_type": "markdown", 
            "metadata": {}
        }, 
        {
            "execution_count": null, 
            "cell_type": "code", 
            "metadata": {
                "attributes": {
                    "classes": [], 
                    "id": "", 
                    "n": "8"
                }
            }, 
            "outputs": [], 
            "source": "from mxnet import nd\n\nblk = mlpconv(64, 3, 0)\nblk.initialize()\n\nx = nd.random.uniform(shape=(32, 3, 16, 16))\ny = blk(x)\ny.shape"
        }, 
        {
            "source": "NiN\u7684\u5377\u79ef\u5c42\u7684\u53c2\u6570\u8ddfAlexnet\u7c7b\u4f3c\uff0c\u4f7f\u7528\u4e09\u7ec4\u4e0d\u540c\u7684\u8bbe\u5b9a\n\n- kernel: $11\\times 11$, channels: 96\n- kernel: $5\\times 5$, channels: 256\n- kernel: $3\\times 3$, channels: 384\n\n\u9664\u4e86\u4f7f\u7528\u4e86$1\\times 1$\u5377\u79ef\u5916\uff0cNiN\u5728\u6700\u540e\u4e0d\u662f\u4f7f\u7528\u5168\u8fde\u63a5\uff0c\u800c\u662f\u4f7f\u7528\u901a\u9053\u6570\u4e3a\u8f93\u51fa\u7c7b\u522b\u4e2a\u6570\u7684`mlpconv`\uff0c\u5916\u63a5\u4e00\u4e2a\u5e73\u5747\u6c60\u5316\u5c42\u6765\u5c06\u6bcf\u4e2a\u901a\u9053\u91cc\u7684\u6570\u503c\u5e73\u5747\u6210\u4e00\u4e2a\u6807\u91cf\u3002", 
            "cell_type": "markdown", 
            "metadata": {}
        }, 
        {
            "execution_count": null, 
            "cell_type": "code", 
            "metadata": {
                "attributes": {
                    "classes": [], 
                    "id": "", 
                    "n": "9"
                }
            }, 
            "outputs": [], 
            "source": "net = nn.Sequential()\n# add name_scope on the outer most Sequential\nwith net.name_scope():\n    net.add(\n        mlpconv(96, 11, 0, strides=4),\n        mlpconv(256, 5, 2),\n        mlpconv(384, 3, 1),\n        nn.Dropout(.5),\n        # \u76ee\u6807\u7c7b\u4e3a10\u7c7b\n        mlpconv(10, 3, 1, max_pooling=False),\n        # \u8f93\u5165\u4e3a batch_size x 10 x 5 x 5, \u901a\u8fc7AvgPool2D\u8f6c\u6210\n        # batch_size x 10 x 1 x 1\u3002\n        # \u6211\u4eec\u53ef\u4ee5\u4f7f\u7528 nn.AvgPool2D(pool_size=5), \n        # \u4f46\u66f4\u65b9\u4fbf\u662f\u4f7f\u7528\u5168\u5c40\u6c60\u5316\uff0c\u53ef\u4ee5\u907f\u514d\u4f30\u7b97pool_size\u5927\u5c0f\n        nn.GlobalAvgPool2D(),\n        # \u8f6c\u6210 batch_size x 10\n        nn.Flatten()\n    )\n"
        }, 
        {
            "source": "## \u83b7\u53d6\u6570\u636e\u5e76\u8bad\u7ec3\n\n\u8ddfAlexnet\u7c7b\u4f3c\uff0c\u4f46\u4f7f\u7528\u4e86\u66f4\u5927\u7684\u5b66\u4e60\u7387\u3002", 
            "cell_type": "markdown", 
            "metadata": {}
        }, 
        {
            "execution_count": null, 
            "cell_type": "code", 
            "metadata": {
                "attributes": {
                    "classes": [], 
                    "id": "", 
                    "n": "4"
                }
            }, 
            "outputs": [], 
            "source": "import sys\nsys.path.append('..')\nimport utils\nfrom mxnet import gluon\nfrom mxnet import init\n\ntrain_data, test_data = utils.load_data_fashion_mnist(\n    batch_size=64, resize=224)\n\nctx = utils.try_gpu()\nnet.initialize(ctx=ctx, init=init.Xavier())\n\nloss = gluon.loss.SoftmaxCrossEntropyLoss()\ntrainer = gluon.Trainer(net.collect_params(),\n                        'sgd', {'learning_rate': 0.1})\nutils.train(train_data, test_data, net, loss,\n            trainer, ctx, num_epochs=1)"
        }, 
        {
            "source": "## \u7ed3\u8bba\n\n\u8fd9\u79cd\u201c\u4e00\u5377\u5377\u5230\u5e95\u201d\u6700\u540e\u52a0\u4e00\u4e2a\u5e73\u5747\u6c60\u5316\u5c42\u7684\u505a\u6cd5\u4e5f\u6210\u4e3a\u4e86\u6df1\u5ea6\u5377\u79ef\u795e\u7ecf\u7f51\u7edc\u7684\u5e38\u7528\u8bbe\u8ba1\u3002\n\n## \u7ec3\u4e60\n\n- \u4e3a\u4ec0\u4e48mlpconv\u91cc\u9762\u8981\u6709\u4e24\u4e2a$1\\times 1$\u5377\u79ef\uff1f\n\n\n**\u5410\u69fd\u548c\u8ba8\u8bba\u6b22\u8fce\u70b9**[\u8fd9\u91cc](https://discuss.gluon.ai/t/topic/1661)", 
            "cell_type": "markdown", 
            "metadata": {}
        }
    ], 
    "metadata": {
        "kernelspec": {
            "display_name": "Python 2 with Spark 1.6 (Unsupported)", 
            "name": "python2", 
            "language": "python"
        }, 
        "language_info": {
            "mimetype": "text/x-python", 
            "nbconvert_exporter": "python", 
            "version": "2.7.11", 
            "name": "python", 
            "file_extension": ".py", 
            "pygments_lexer": "ipython2", 
            "codemirror_mode": {
                "version": 2, 
                "name": "ipython"
            }
        }
    }, 
    "nbformat": 4
}