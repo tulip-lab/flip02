{
    "nbformat_minor": 1, 
    "cells": [
        {
            "source": "# Modern Data Science \n**(Module 06: Apache Spark Platform)**\n\n---\n- Materials in this module include resources collected from various open-source online repositories.\n- You are free to use, change and distribute this package.\n\nPrepared by and for \n**Student Members** |\n2006-2018 [TULIP Lab](http://www.tulip.org.au), Australia\n\n---\n\n<font color='red' size = 4> Python 2.7 </font>\n## Session B - Case Study: Word Count application\n---\n\nThis lab will build on the techniques covered in the Spark tutorial to develop a simple word count application.  The volume of unstructured text in existence is growing dramatically, and Spark is an excellent tool for analyzing this type of data.  In this lab, we will write code that calculates the most common words in the [Complete Works of William Shakespeare](http://www.gutenberg.org/ebooks/100) retrieved from [Project Gutenberg](http://www.gutenberg.org/wiki/Main_Page).  This could also be scaled to find the most common words on the Internet.\n\n\nNote that, for reference, you can look up the details of the relevant methods in [Spark's Python API](https://spark.apache.org/docs/latest/api/python/pyspark.html#pyspark.RDD)\n\nIn this lab session, you are required to upload the file shakespeare.txt to DBFS file store, and note down the address.\n\n\n## Content\n\n* [Creating a base RDD and pair RDDs](#baserdds)\n\n* [Counting with pair RDDs](#pairrdds)\n\n* [Finding unique words and a mean value](#find)\n\n* [Apply word count to a file](#count)\n\n---\n\n\n", 
            "cell_type": "markdown", 
            "metadata": {}
        }, 
        {
            "source": "<a id = \"baserdds\"></a>\n### ** 1. Creating a base RDD and pair RDDs **", 
            "cell_type": "markdown", 
            "metadata": {}
        }, 
        {
            "source": "In this part of the lab, we will explore creating a base RDD with `parallelize` and using pair RDDs to count words.", 
            "cell_type": "markdown", 
            "metadata": {}
        }, 
        {
            "source": "#### ** (1a) Create a base RDD **\n\nWe'll start by generating a base RDD by using a Python list and the `sc.parallelize` method.  Then we'll print out the type of the base RDD.", 
            "cell_type": "markdown", 
            "metadata": {}
        }, 
        {
            "execution_count": null, 
            "cell_type": "code", 
            "metadata": {}, 
            "outputs": [], 
            "source": "wordsList = ['cat', 'elephant', 'rat', 'rat', 'cat']\nwordsRDD = sc.parallelize(wordsList, 4)\n# Print out the type of wordsRDD\nprint type(wordsRDD)"
        }, 
        {
            "source": "#### ** (1b) Pluralize and test **\n\nLet's use a `map()` transformation to add the letter 's' to each string in the base RDD we just created. We'll define a Python function that returns the word with an 's' at the end of the word.  Please replace `<FILL IN>` with your solution.  If you have trouble, the next cell has the solution.  After you have defined `makePlural` you can run the third cell which contains a test.  If you implementation is correct it will print `1 test passed`.\n\nThis is the general form that exercises will take, except that no example solution will be provided.  Exercises will include an explanation of what is expected, followed by code cells where one cell will have one or more `<FILL IN>` sections.  The cell that needs to be modified will have `# TODO: Replace <FILL IN> with appropriate code` on its first line.  Once the `<FILL IN>` sections are updated and the code is run, the test cell can then be run to verify the correctness of your solution.  The last code cell before the next markdown section will contain the tests.", 
            "cell_type": "markdown", 
            "metadata": {}
        }, 
        {
            "execution_count": null, 
            "cell_type": "code", 
            "metadata": {}, 
            "outputs": [], 
            "source": "# TODO: Replace <FILL IN> with appropriate code\ndef makePlural(word):\n    \"\"\"Adds an 's' to `word`.\n\n    Note:\n        This is a simple function that only adds an 's'.  No attempt is made to follow proper\n        pluralization rules.\n\n    Args:\n        word (str): A string.\n\n    Returns:\n        str: A string with 's' added to it.\n    \"\"\"\n    return <FILL IN>\n\nprint makePlural('cat')"
        }, 
        {
            "source": "<div align=\"right\">\n<a href=\"#mat1\" class=\"btn btn-default\" data-toggle=\"collapse\">Click here for the solution</a>\n</div>\n<div id=\"mat1\" class=\"collapse\">\n```\ndef makePlural(word):\n    return word + 's'\n\n\n```\n</div>", 
            "cell_type": "markdown", 
            "metadata": {}
        }, 
        {
            "execution_count": null, 
            "cell_type": "code", 
            "metadata": {}, 
            "outputs": [], 
            "source": "# One way of completing the function\ndef makePlural(word):\n    return word + 's'\n\nprint (makePlural('cat'))"
        }, 
        {
            "execution_count": null, 
            "cell_type": "code", 
            "metadata": {}, 
            "outputs": [], 
            "source": "!pip install test_helper"
        }, 
        {
            "execution_count": null, 
            "cell_type": "code", 
            "metadata": {}, 
            "outputs": [], 
            "source": "# Load in the testing code and check to see if your answer is correct\n# If incorrect it will report back '1 test failed' for each failed test\n# Make sure to rerun any cell you change before trying the test again\nfrom test_helper import Test\n# TEST Pluralize and test (1b)\nTest.assertEquals(makePlural('rat'), 'rats', 'incorrect result: makePlural does not add an s')"
        }, 
        {
            "source": "#### ** (1c) Apply `makePlural` to the base RDD **\n\nNow pass each item in the base RDD into a [map()](http://spark.apache.org/docs/latest/api/python/pyspark.html#pyspark.RDD.map) transformation that applies the `makePlural()` function to each element. And then call the [collect()](http://spark.apache.org/docs/latest/api/python/pyspark.html#pyspark.RDD.collect) action to see the transformed RDD.", 
            "cell_type": "markdown", 
            "metadata": {}
        }, 
        {
            "execution_count": null, 
            "cell_type": "code", 
            "metadata": {}, 
            "outputs": [], 
            "source": "# TODO: Replace <FILL IN> with appropriate code\npluralRDD = wordsRDD.map(<FILL IN>)\nprint pluralRDD.collect()"
        }, 
        {
            "source": "<div align=\"right\">\n<a href=\"#mat2\" class=\"btn btn-default\" data-toggle=\"collapse\">Click here for the solution</a>\n</div>\n<div id=\"mat2\" class=\"collapse\">\n```\npluralRDD = wordsRDD.map(makePlural)\n```\n</div>", 
            "cell_type": "markdown", 
            "metadata": {}
        }, 
        {
            "execution_count": null, 
            "cell_type": "code", 
            "metadata": {}, 
            "outputs": [], 
            "source": "# TEST Apply makePlural to the base RDD(1c)\nTest.assertEquals(pluralRDD.collect(), ['cats', 'elephants', 'rats', 'rats', 'cats'],\n                  'incorrect values for pluralRDD')"
        }, 
        {
            "source": "#### ** (1d) Pass a `lambda` function to `map` **\n\nLet's create the same RDD using a `lambda` function.", 
            "cell_type": "markdown", 
            "metadata": {}
        }, 
        {
            "execution_count": null, 
            "cell_type": "code", 
            "metadata": {}, 
            "outputs": [], 
            "source": "# TODO: Replace <FILL IN> with appropriate code\npluralLambdaRDD = wordsRDD.map(lambda <FILL IN>)\nprint pluralLambdaRDD.collect()"
        }, 
        {
            "source": "<div align=\"right\">\n<a href=\"#mat3\" class=\"btn btn-default\" data-toggle=\"collapse\">Click here for the solution</a>\n</div>\n<div id=\"mat3\" class=\"collapse\">\n```\npluralLambdaRDD = wordsRDD.map(lambda word: word + 's')\n```\n</div>", 
            "cell_type": "markdown", 
            "metadata": {}
        }, 
        {
            "execution_count": null, 
            "cell_type": "code", 
            "metadata": {}, 
            "outputs": [], 
            "source": "# TEST Pass a lambda function to map (1d)\nTest.assertEquals(pluralLambdaRDD.collect(), ['cats', 'elephants', 'rats', 'rats', 'cats'],\n                  'incorrect values for pluralLambdaRDD (1d)')"
        }, 
        {
            "source": "#### ** (1e) Length of each word **\n\nNow use `map()` and a `lambda` function to return the number of characters in each word.  We'll `collect` this result directly into a variable.", 
            "cell_type": "markdown", 
            "metadata": {}
        }, 
        {
            "execution_count": null, 
            "cell_type": "code", 
            "metadata": {}, 
            "outputs": [], 
            "source": "# TODO: Replace <FILL IN> with appropriate code\npluralLengths = (pluralRDD\n                 <FILL IN>\n                 .collect())\nprint pluralLengths"
        }, 
        {
            "source": "<div align=\"right\">\n<a href=\"#mat4\" class=\"btn btn-default\" data-toggle=\"collapse\">Click here for the solution</a>\n</div>\n<div id=\"mat4\" class=\"collapse\">\n```\npluralLengths = (pluralRDD.map(lambda word: len(word)).collect())\n```\n</div>", 
            "cell_type": "markdown", 
            "metadata": {}
        }, 
        {
            "execution_count": null, 
            "cell_type": "code", 
            "metadata": {}, 
            "outputs": [], 
            "source": "# TEST Length of each word (1e)\nTest.assertEquals(pluralLengths, [4, 9, 4, 4, 4],\n                  'incorrect values for pluralLengths')"
        }, 
        {
            "source": "#### ** (1f) Pair RDDs **\n\nThe next step in writing our word counting program is to create a new type of RDD, called a pair RDD. A pair RDD is an RDD where each element is a pair tuple `(k, v)` where `k` is the key and `v` is the value. In this example, we will create a pair consisting of `('<word>', 1)` for each word element in the RDD.\n\nWe can create the pair RDD using the `map()` transformation with a `lambda()` function to create a new RDD.", 
            "cell_type": "markdown", 
            "metadata": {}
        }, 
        {
            "execution_count": null, 
            "cell_type": "code", 
            "metadata": {}, 
            "outputs": [], 
            "source": "# TODO: Replace <FILL IN> with appropriate code\nwordPairs = wordsRDD.<FILL IN>\nprint wordPairs.collect()"
        }, 
        {
            "source": "<div align=\"right\">\n<a href=\"#mat5\" class=\"btn btn-default\" data-toggle=\"collapse\">Click here for the solution</a>\n</div>\n<div id=\"mat5\" class=\"collapse\">\n```\nwordPairs = wordsRDD.map(lambda word: (word, 1))\n```\n</div>", 
            "cell_type": "markdown", 
            "metadata": {}
        }, 
        {
            "execution_count": null, 
            "cell_type": "code", 
            "metadata": {}, 
            "outputs": [], 
            "source": "# TEST Pair RDDs (1f)\nTest.assertEquals(wordPairs.collect(),\n                  [('cat', 1), ('elephant', 1), ('rat', 1), ('rat', 1), ('cat', 1)],\n                  'incorrect value for wordPairs')"
        }, 
        {
            "source": "<a id = \"pairrdds\"></a>", 
            "cell_type": "markdown", 
            "metadata": {}
        }, 
        {
            "source": "### ** 2. Counting with pair RDDs **", 
            "cell_type": "markdown", 
            "metadata": {}
        }, 
        {
            "source": "\nNow, let's count the number of times a particular word appears in the RDD. There are multiple ways to perform the counting, but some are much less efficient than others.\n\nA naive approach would be to `collect()` all of the elements and count them in the driver program. While this approach could work for small datasets, we want an approach that will work for any size dataset including terabyte- or petabyte-sized datasets. In addition, performing all of the work in the driver program is slower than performing it in parallel in the workers. For these reasons, we will use data parallel operations.", 
            "cell_type": "markdown", 
            "metadata": {}
        }, 
        {
            "source": "#### ** (2a) `groupByKey()` approach **\n\nAn approach you might first consider (we'll see shortly that there are better ways) is based on using the [groupByKey()](http://spark.apache.org/docs/latest/api/python/pyspark.html#pyspark.RDD.groupByKey) transformation. As the name implies, the `groupByKey()` transformation groups all the elements of the RDD with the same key into a single list in one of the partitions. There are two problems with using `groupByKey()`:\n  +   The operation requires a lot of data movement to move all the values into the appropriate partitions.\n  +   The lists can be very large. Consider a word count of English Wikipedia: the lists for common words (e.g., the, a, etc.) would be huge and could exhaust the available memory in a worker.\n \nUse `groupByKey()` to generate a pair RDD of type `('word', iterator)`.", 
            "cell_type": "markdown", 
            "metadata": {}
        }, 
        {
            "execution_count": null, 
            "cell_type": "code", 
            "metadata": {}, 
            "outputs": [], 
            "source": "# TODO: Replace <FILL IN> with appropriate code\n# Note that groupByKey requires no parameters\nwordsGrouped = wordPairs.<FILL IN>\nfor key, value in wordsGrouped.collect():\n    print '{0}: {1}'.format(key, list(value))"
        }, 
        {
            "source": "<div align=\"right\">\n<a href=\"#mat6\" class=\"btn btn-default\" data-toggle=\"collapse\">Click here for the solution</a>\n</div>\n<div id=\"mat6\" class=\"collapse\">\n```\nwordsGrouped = wordPairs.groupByKey()\n```\n</div>", 
            "cell_type": "markdown", 
            "metadata": {}
        }, 
        {
            "execution_count": null, 
            "cell_type": "code", 
            "metadata": {}, 
            "outputs": [], 
            "source": "# TEST groupByKey() approach (2a)\nTest.assertEquals(sorted(wordsGrouped.mapValues(lambda x: list(x)).collect()),\n                  [('cat', [1, 1]), ('elephant', [1]), ('rat', [1, 1])],\n                  'incorrect value for wordsGrouped')"
        }, 
        {
            "source": "#### ** (2b) Use `groupByKey()` to obtain the counts **\n\nUsing the `groupByKey()` transformation creates an RDD containing 3 elements, each of which is a pair of a word and a Python iterator.\n\nNow sum the iterator using a `map()` transformation.  The result should be a pair RDD consisting of (word, count) pairs.", 
            "cell_type": "markdown", 
            "metadata": {}
        }, 
        {
            "execution_count": null, 
            "cell_type": "code", 
            "metadata": {}, 
            "outputs": [], 
            "source": "# TODO: Replace <FILL IN> with appropriate code\nwordCountsGrouped = wordsGrouped.<FILL IN>\nprint wordCountsGrouped.collect()"
        }, 
        {
            "source": "<div align=\"right\">\n<a href=\"#mat7\" class=\"btn btn-default\" data-toggle=\"collapse\">Click here for the solution</a>\n</div>\n<div id=\"mat7\" class=\"collapse\">\n```\nwordCountsGrouped = wordsGrouped.map(lambda x: (x[0], sum(x[1])))\n\n```\n</div>", 
            "cell_type": "markdown", 
            "metadata": {}
        }, 
        {
            "execution_count": null, 
            "cell_type": "code", 
            "metadata": {}, 
            "outputs": [], 
            "source": "# TEST Use groupByKey() to obtain the counts (2b)\nTest.assertEquals(sorted(wordCountsGrouped.collect()),\n                  [('cat', 2), ('elephant', 1), ('rat', 2)],\n                  'incorrect value for wordCountsGrouped')"
        }, 
        {
            "source": "#### ** (2c) Counting using `reduceByKey` **\n\nA better approach is to start from the pair RDD and then use the [reduceByKey()](http://spark.apache.org/docs/latest/api/python/pyspark.html#pyspark.RDD.reduceByKey) transformation to create a new pair RDD. The `reduceByKey()` transformation gathers together pairs that have the same key and applies the function provided to two values at a time, iteratively reducing all of the values to a single value. `reduceByKey()` operates by applying the function first within each partition on a per-key basis and then across the partitions, allowing it to scale efficiently to large datasets.", 
            "cell_type": "markdown", 
            "metadata": {}
        }, 
        {
            "execution_count": null, 
            "cell_type": "code", 
            "metadata": {}, 
            "outputs": [], 
            "source": "# TODO: Replace <FILL IN> with appropriate code\n# Note that reduceByKey takes in a function that accepts two values and returns a single value\nwordCounts = wordPairs.reduceByKey(<FILL IN>)\nprint wordCounts.collect()"
        }, 
        {
            "source": "<div align=\"right\">\n<a href=\"#mat8\" class=\"btn btn-default\" data-toggle=\"collapse\">Click here for the solution</a>\n</div>\n<div id=\"mat8\" class=\"collapse\">\n```\nwordCounts = wordPairs.reduceByKey(lambda a, b: a + b)\n\n```\n</div>", 
            "cell_type": "markdown", 
            "metadata": {}
        }, 
        {
            "execution_count": null, 
            "cell_type": "code", 
            "metadata": {}, 
            "outputs": [], 
            "source": "# TEST Counting using reduceByKey (2c)\nTest.assertEquals(sorted(wordCounts.collect()), [('cat', 2), ('elephant', 1), ('rat', 2)],\n                  'incorrect value for wordCounts')"
        }, 
        {
            "source": "#### ** (2d) All together **\n\nThe expert version of the code performs the `map()` to pair RDD, `reduceByKey()` transformation, and `collect` in one statement.", 
            "cell_type": "markdown", 
            "metadata": {}
        }, 
        {
            "execution_count": null, 
            "cell_type": "code", 
            "metadata": {}, 
            "outputs": [], 
            "source": "# TODO: Replace <FILL IN> with appropriate code\nwordCountsCollected = (wordsRDD\n                       <FILL IN>\n                       .collect())\nprint wordCountsCollected"
        }, 
        {
            "source": "<div align=\"right\">\n<a href=\"#mat9\" class=\"btn btn-default\" data-toggle=\"collapse\">Click here for the solution</a>\n</div>\n<div id=\"mat9\" class=\"collapse\">\n```\nwordCountsCollected = (wordsRDD\n                       .map(lambda w: (w, 1))\n                       .reduceByKey(lambda a, b: a + b)\n                       .collect())\n\n```\n</div>", 
            "cell_type": "markdown", 
            "metadata": {}
        }, 
        {
            "execution_count": null, 
            "cell_type": "code", 
            "metadata": {}, 
            "outputs": [], 
            "source": "# TEST All together (2d)\nTest.assertEquals(sorted(wordCountsCollected), [('cat', 2), ('elephant', 1), ('rat', 2)],\n                  'incorrect value for wordCountsCollected')"
        }, 
        {
            "source": "<a id = \"find\"></a>", 
            "cell_type": "markdown", 
            "metadata": {}
        }, 
        {
            "source": "### ** 3. Finding unique words and a mean value **", 
            "cell_type": "markdown", 
            "metadata": {}
        }, 
        {
            "source": "#### ** (3a) Unique words **\n\nCalculate the number of unique words in `wordsRDD`.  You can use other RDDs that you have already created to make this easier.", 
            "cell_type": "markdown", 
            "metadata": {}
        }, 
        {
            "execution_count": null, 
            "cell_type": "code", 
            "metadata": {}, 
            "outputs": [], 
            "source": "# TODO: Replace <FILL IN> with appropriate code\nuniqueWords = <FILL IN>\nprint uniqueWords"
        }, 
        {
            "source": "<div align=\"right\">\n<a href=\"#mat10\" class=\"btn btn-default\" data-toggle=\"collapse\">Click here for the solution</a>\n</div>\n<div id=\"mat10\" class=\"collapse\">\n```\nuniqueWords = len(wordCountsCollected)\n\n```\n</div>", 
            "cell_type": "markdown", 
            "metadata": {}
        }, 
        {
            "execution_count": null, 
            "cell_type": "code", 
            "metadata": {}, 
            "outputs": [], 
            "source": "# TEST Unique words (3a)\nTest.assertEquals(uniqueWords, 3, 'incorrect count of uniqueWords')"
        }, 
        {
            "source": "#### ** (3b) Mean using `reduce` **\n\nFind the mean number of words per unique word in `wordCounts`.\n\nUse a `reduce()` action to sum the counts in `wordCounts` and then divide by the number of unique words.  First `map()` the pair RDD `wordCounts`, which consists of (key, value) pairs, to an RDD of values.", 
            "cell_type": "markdown", 
            "metadata": {}
        }, 
        {
            "execution_count": null, 
            "cell_type": "code", 
            "metadata": {}, 
            "outputs": [], 
            "source": "# TODO: Replace <FILL IN> with appropriate code\nfrom operator import add\ntotalCount = (wordCounts\n              .map(<FILL IN>)\n              .reduce(<FILL IN>))\naverage = totalCount / float(<FILL IN>)\nprint totalCount\nprint round(average, 2)"
        }, 
        {
            "source": "<div align=\"right\">\n<a href=\"#mat11\" class=\"btn btn-default\" data-toggle=\"collapse\">Click here for the solution</a>\n</div>\n<div id=\"mat11\" class=\"collapse\">\n```\ntotalCount =  (wordCounts\n              .map(lambda x: x[1])\n              .reduce(add))\naverage = totalCount / float(uniqueWords)\n\n```\n</div>", 
            "cell_type": "markdown", 
            "metadata": {}
        }, 
        {
            "execution_count": null, 
            "cell_type": "code", 
            "metadata": {}, 
            "outputs": [], 
            "source": "# TEST Mean using reduce (3b)\nTest.assertEquals(round(average, 2), 1.67, 'incorrect value of average')"
        }, 
        {
            "source": "<a id = \"count\"></a>", 
            "cell_type": "markdown", 
            "metadata": {}
        }, 
        {
            "source": "### ** 4. Apply word count to a file **", 
            "cell_type": "markdown", 
            "metadata": {}
        }, 
        {
            "source": "\nIn this section we will finish developing our word count application.  We'll have to build the `wordCount` function, deal with real world problems like capitalization and punctuation, load in our data source, and compute the word count on the new data.", 
            "cell_type": "markdown", 
            "metadata": {}
        }, 
        {
            "source": "#### ** (4a) `wordCount` function **\n\nFirst, define a function for word counting.  You should reuse the techniques that have been covered in earlier parts of this lab.  This function should take in an RDD that is a list of words like `wordsRDD` and return a pair RDD that has all of the words and their associated counts.", 
            "cell_type": "markdown", 
            "metadata": {}
        }, 
        {
            "execution_count": null, 
            "cell_type": "code", 
            "metadata": {}, 
            "outputs": [], 
            "source": "# TODO: Replace <FILL IN> with appropriate code\ndef wordCount(wordListRDD):\n    \"\"\"Creates a pair RDD with word counts from an RDD of words.\n\n    Args:\n        wordListRDD (RDD of str): An RDD consisting of words.\n\n    Returns:\n        RDD of (str, int): An RDD consisting of (word, count) tuples.\n    \"\"\"\n    <FILL IN>\n    \nprint wordCount(wordsRDD).collect()"
        }, 
        {
            "source": "<div align=\"right\">\n<a href=\"#mat12\" class=\"btn btn-default\" data-toggle=\"collapse\">Click here for the solution</a>\n</div>\n<div id=\"mat12\" class=\"collapse\">\n```\ndef wordCount(wordListRDD):\n    \"\"\"Creates a pair RDD with word counts from an RDD of words.\n\n    Args:\n        wordListRDD (RDD of str): An RDD consisting of words.\n\n    Returns:\n        RDD of (str, int): An RDD consisting of (word, count) tuples.\n    \"\"\"\n    wordsRDD = (wordListRDD\n                       .map(lambda w: (w, 1))\n                       .reduceByKey(lambda a, b: a + b))\n    return wordsRDD\n```\n</div>", 
            "cell_type": "markdown", 
            "metadata": {}
        }, 
        {
            "execution_count": null, 
            "cell_type": "code", 
            "metadata": {}, 
            "outputs": [], 
            "source": "# TEST wordCount function (4a)\nTest.assertEquals(sorted(wordCount(wordsRDD).collect()),\n                  [('cat', 2), ('elephant', 1), ('rat', 2)],\n                  'incorrect definition for wordCount function')"
        }, 
        {
            "source": "#### ** (4b) Capitalization and punctuation **\n\nReal world files are more complicated than the data we have been using in this lab. Some of the issues we have to address are:\n  +   Words should be counted independent of their capitialization (e.g., Spark and spark should be counted as the same word).\n  +   All punctuation should be removed.\n  +   Any leading or trailing spaces on a line should be removed.\n \nDefine the function `removePunctuation` that converts all text to lower case, removes any punctuation, and removes leading and trailing spaces.  Use the Python [re](https://docs.python.org/2/library/re.html) module to remove any text that is not a letter, number, or space. Reading `help(re.sub)` might be useful.", 
            "cell_type": "markdown", 
            "metadata": {}
        }, 
        {
            "execution_count": null, 
            "cell_type": "code", 
            "metadata": {}, 
            "outputs": [], 
            "source": "# TODO: Replace <FILL IN> with appropriate code\nimport re\ndef removePunctuation(text):\n    \"\"\"Removes punctuation, changes to lower case, and strips leading and trailing spaces.\n\n    Note:\n        Only spaces, letters, and numbers should be retained.  Other characters should should be\n        eliminated (e.g. it's becomes its).  Leading and trailing spaces should be removed after\n        punctuation is removed.\n\n    Args:\n        text (str): A string.\n\n    Returns:\n        str: The cleaned up string.\n    \"\"\"\n    <FILL IN>\nprint removePunctuation('Hi, you!')\nprint removePunctuation(' No under_score!')"
        }, 
        {
            "source": "<div align=\"right\">\n<a href=\"#mat13\" class=\"btn btn-default\" data-toggle=\"collapse\">Click here for the solution</a>\n</div>\n<div id=\"mat13\" class=\"collapse\">\n```\ndef removePunctuation(text):\n    \"\"\"Removes punctuation, changes to lower case, and strips leading and trailing spaces.\n\n    Note:\n        Only spaces, letters, and numbers should be retained.  Other characters should should be\n        eliminated (e.g. it's becomes its).  Leading and trailing spaces should be removed after\n        punctuation is removed.\n\n    Args:\n        text (str): A string.\n\n    Returns:\n        str: The cleaned up string.\n    \"\"\"\n    return ''.join([c.lower() for c in text if c.isalnum() or c == ' ']).strip()\n\n\n```\n</div>", 
            "cell_type": "markdown", 
            "metadata": {}
        }, 
        {
            "execution_count": null, 
            "cell_type": "code", 
            "metadata": {}, 
            "outputs": [], 
            "source": "# TEST Capitalization and punctuation (4b)\nTest.assertEquals(removePunctuation(\" The Elephant's 4 cats. \"),\n                  'the elephants 4 cats',\n                  'incorrect definition for removePunctuation function')"
        }, 
        {
            "source": "#### ** (4c) Load a text file **\n\nFor the next part of this lab, we will use the [Complete Works of William Shakespeare](http://www.gutenberg.org/ebooks/100) from [Project Gutenberg](http://www.gutenberg.org/wiki/Main_Page). To convert a text file into an RDD, we use the `SparkContext.textFile()` method. We also apply the recently defined `removePunctuation()` function using a `map()` transformation to strip out the punctuation and change all text to lowercase.  Since the file is large we use `take(15)`, so that we only print 15 lines.\n\nAssume that the file shakespeare.txt has been uploaded to DBFS file store, and you note down the address.", 
            "cell_type": "markdown", 
            "metadata": {}
        }, 
        {
            "execution_count": null, 
            "cell_type": "code", 
            "metadata": {}, 
            "outputs": [], 
            "source": "import wget\n\nlink_to_data = 'https://github.com/tuliplab/mds/raw/master/Jupyter/data/shakespeare.txt'\nDataSet = wget.download(link_to_data)"
        }, 
        {
            "execution_count": null, 
            "cell_type": "code", 
            "metadata": {}, 
            "outputs": [], 
            "source": "# Just run this code, you may need to revise it in DataScientistWorkbench\n#import os.path\n#baseDir = os.path.join('data')\n#inputPath = os.path.join('shakespeare.txt')\n#fileName = os.path.join(baseDir, inputPath)\n\nfileName = 'shakespeare.txt'\n\nshakespeareRDD = (sc\n                  .textFile(fileName, 8)\n                  .map(removePunctuation))\nprint '\\n'.join(shakespeareRDD\n                .zipWithIndex()  # to (line, lineNum)\n                .map(lambda (l, num): '{0}: {1}'.format(num, l))  # to 'lineNum: line'\n                .take(15))"
        }, 
        {
            "source": "#### ** (4d) Words from lines **\n\nBefore we can use the `wordcount()` function, we have to address two issues with the format of the RDD:\n  +   The first issue is that  that we need to split each line by its spaces.\n  +   The second issue is we need to filter out empty lines.\n \nApply a transformation that will split each element of the RDD by its spaces. For each element of the RDD, you should apply Python's string [split()](https://docs.python.org/2/library/string.html#string.split) function. You might think that a `map()` transformation is the way to do this, but think about what the result of the `split()` function will be.", 
            "cell_type": "markdown", 
            "metadata": {}
        }, 
        {
            "execution_count": null, 
            "cell_type": "code", 
            "metadata": {}, 
            "outputs": [], 
            "source": "# TODO: Replace <FILL IN> with appropriate code\nshakespeareWordsRDD = shakespeareRDD.<FILL_IN>\nshakespeareWordCount = shakespeareWordsRDD.count()\nprint shakespeareWordsRDD.top(5)\nprint shakespeareWordCount"
        }, 
        {
            "source": "<div align=\"right\">\n<a href=\"#mat14\" class=\"btn btn-default\" data-toggle=\"collapse\">Click here for the solution</a>\n</div>\n<div id=\"mat14\" class=\"collapse\">\n```\nshakespeareWordsRDD = shakespeareRDD.flatMap(lambda x: x.split(' '))\n\n```\n</div>", 
            "cell_type": "markdown", 
            "metadata": {}
        }, 
        {
            "execution_count": null, 
            "cell_type": "code", 
            "metadata": {}, 
            "outputs": [], 
            "source": "# TEST Words from lines (4d)\n# This test allows for leading spaces to be removed either before or after\n# punctuation is removed.\nTest.assertTrue(shakespeareWordCount == 927631 or shakespeareWordCount == 928908,\n                'incorrect value for shakespeareWordCount')\nTest.assertEquals(shakespeareWordsRDD.top(5),\n                  [u'zwaggerd', u'zounds', u'zounds', u'zounds', u'zounds'],\n                  'incorrect value for shakespeareWordsRDD')"
        }, 
        {
            "source": "#### ** (4e) Remove empty elements **\nThe next step is to filter out the empty elements.  Remove all entries where the word is `''`.", 
            "cell_type": "markdown", 
            "metadata": {}
        }, 
        {
            "execution_count": null, 
            "cell_type": "code", 
            "metadata": {}, 
            "outputs": [], 
            "source": "# TODO: Replace <FILL IN> with appropriate code\nshakeWordsRDD = shakespeareWordsRDD.<FILL_IN>\nshakeWordCount = shakeWordsRDD.count()\nprint shakeWordCount"
        }, 
        {
            "source": "<div align=\"right\">\n<a href=\"#mat15\" class=\"btn btn-default\" data-toggle=\"collapse\">Click here for the solution</a>\n</div>\n<div id=\"mat15\" class=\"collapse\">\n```\nshakeWordsRDD = shakespeareWordsRDD.filter(lambda x: x != '')\n\n```\n</div>", 
            "cell_type": "markdown", 
            "metadata": {}
        }, 
        {
            "execution_count": null, 
            "cell_type": "code", 
            "metadata": {}, 
            "outputs": [], 
            "source": "# TEST Remove empty elements (4e)\nTest.assertEquals(shakeWordCount, 882996, 'incorrect value for shakeWordCount')"
        }, 
        {
            "source": "#### ** (4f) Count the words **\n\nWe now have an RDD that is only words.  Next, let's apply the `wordCount()` function to produce a list of word counts. We can view the top 15 words by using the `takeOrdered()` action; however, since the elements of the RDD are pairs, we need a custom sort function that sorts using the value part of the pair.\n\nYou'll notice that many of the words are common English words. These are called stopwords. In a later lab, we will see how to eliminate them from the results.\n\nUse the `wordCount()` function and `takeOrdered()` to obtain the fifteen most common words and their counts.", 
            "cell_type": "markdown", 
            "metadata": {}
        }, 
        {
            "execution_count": null, 
            "cell_type": "code", 
            "metadata": {}, 
            "outputs": [], 
            "source": "# TODO: Replace <FILL IN> with appropriate code\ntop15WordsAndCounts = <FILL IN>\nprint '\\n'.join(map(lambda (w, c): '{0}: {1}'.format(w, c), top15WordsAndCounts))"
        }, 
        {
            "source": "<div align=\"right\">\n<a href=\"#mat16\" class=\"btn btn-default\" data-toggle=\"collapse\">Click here for the solution</a>\n</div>\n<div id=\"mat16\" class=\"collapse\">\n```\ntop15WordsAndCounts = wordCount(shakeWordsRDD).takeOrdered(15, lambda (k, v): -v)\n\n```\n</div>", 
            "cell_type": "markdown", 
            "metadata": {}
        }, 
        {
            "execution_count": null, 
            "cell_type": "code", 
            "metadata": {}, 
            "outputs": [], 
            "source": "# TEST Count the words (4f)\nTest.assertEquals(top15WordsAndCounts,\n                  [(u'the', 27361), (u'and', 26028), (u'i', 20681), (u'to', 19150), (u'of', 17463),\n                   (u'a', 14593), (u'you', 13615), (u'my', 12481), (u'in', 10956), (u'that', 10890),\n                   (u'is', 9134), (u'not', 8497), (u'with', 7771), (u'me', 7769), (u'it', 7678)],\n                  'incorrect value for top15WordsAndCounts')"
        }
    ], 
    "metadata": {
        "kernelspec": {
            "display_name": "Python 3.5", 
            "name": "python3", 
            "language": "python"
        }, 
        "language_info": {
            "mimetype": "text/x-python", 
            "nbconvert_exporter": "python", 
            "version": "3.5.4", 
            "name": "python", 
            "file_extension": ".py", 
            "pygments_lexer": "ipython3", 
            "codemirror_mode": {
                "version": 3, 
                "name": "ipython"
            }
        }, 
        "anaconda-cloud": {}
    }, 
    "nbformat": 4
}