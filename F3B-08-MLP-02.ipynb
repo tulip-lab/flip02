{
    "nbformat_minor": 2, 
    "cells": [
        {
            "source": "# \u591a\u5c42\u611f\u77e5\u673a --- \u4f7f\u7528Gluon\n\n\u6211\u4eec\u53ea\u9700\u8981\u7a0d\u5fae\u6539\u52a8[\u591a\u7c7bLogistic\u56de\u5f52](../chapter_crashcourse/softmax-regression-gluon.md)\u6765\u5b9e\u73b0\u591a\u5c42\u611f\u77e5\u673a\u3002\n\n## \u5b9a\u4e49\u6a21\u578b\n\n\u552f\u4e00\u7684\u533a\u522b\u5728\u8fd9\u91cc\uff0c\u6211\u4eec\u52a0\u4e86\u4e00\u884c\u8fdb\u6765\u3002", 
            "cell_type": "markdown", 
            "metadata": {}
        }, 
        {
            "execution_count": 1, 
            "cell_type": "code", 
            "metadata": {
                "attributes": {
                    "classes": [], 
                    "id": "", 
                    "n": "5"
                }
            }, 
            "outputs": [], 
            "source": "from mxnet import gluon\n\nnet = gluon.nn.Sequential()\nwith net.name_scope():\n    net.add(gluon.nn.Flatten())\n    net.add(gluon.nn.Dense(256, activation=\"relu\"))\n    net.add(gluon.nn.Dense(10))\nnet.initialize()"
        }, 
        {
            "source": "## \u8bfb\u53d6\u6570\u636e\u5e76\u8bad\u7ec3", 
            "cell_type": "markdown", 
            "metadata": {}
        }, 
        {
            "execution_count": 2, 
            "cell_type": "code", 
            "metadata": {
                "attributes": {
                    "classes": [], 
                    "id": "", 
                    "n": "6"
                }
            }, 
            "outputs": [
                {
                    "output_type": "stream", 
                    "name": "stderr", 
                    "text": "/gpfs/fs01/user/s05b-0294eb3de63d2e-b5498f932ea5/.local/lib/python2.7/site-packages/matplotlib/style/core.py:203: UserWarning: In /gpfs/fs01/user/s05b-0294eb3de63d2e-b5498f932ea5/.config/matplotlib/stylelib/my_custom_style.mplstyle: axes.color_cycle is deprecated and replaced with axes.prop_cycle; please use the latter.\n  warnings.warn(message)\n"
                }, 
                {
                    "output_type": "stream", 
                    "name": "stdout", 
                    "text": "Epoch 0. Loss: 0.716962, Train acc 0.736996, Test acc 0.819111\nEpoch 1. Loss: 0.460183, Train acc 0.831163, Test acc 0.839643\nEpoch 2. Loss: 0.408901, Train acc 0.849476, Test acc 0.850160\nEpoch 3. Loss: 0.378782, Train acc 0.861445, Test acc 0.862780\nEpoch 4. Loss: 0.355025, Train acc 0.869792, Test acc 0.874299\n"
                }
            ], 
            "source": "import sys\nsys.path.append('..')\nfrom mxnet import ndarray as nd\nfrom mxnet import autograd\nimport utils\n\n\nbatch_size = 256\ntrain_data, test_data = utils.load_data_fashion_mnist(batch_size)\n\nsoftmax_cross_entropy = gluon.loss.SoftmaxCrossEntropyLoss()\ntrainer = gluon.Trainer(net.collect_params(), 'sgd', {'learning_rate': 0.5})\n\nfor epoch in range(5):\n    train_loss = 0.\n    train_acc = 0.\n    for data, label in train_data:\n        with autograd.record():\n            output = net(data)\n            loss = softmax_cross_entropy(output, label)\n        loss.backward()\n        trainer.step(batch_size)\n\n        train_loss += nd.mean(loss).asscalar()\n        train_acc += utils.accuracy(output, label)\n\n    test_acc = utils.evaluate_accuracy(test_data, net)\n    print(\"Epoch %d. Loss: %f, Train acc %f, Test acc %f\" % (\n        epoch, train_loss/len(train_data), train_acc/len(train_data), test_acc))"
        }, 
        {
            "source": "## \u7ed3\u8bba\n\n\u901a\u8fc7Gluon\u6211\u4eec\u53ef\u4ee5\u66f4\u65b9\u4fbf\u5730\u6784\u9020\u591a\u5c42\u795e\u7ecf\u7f51\u7edc\u3002\n\n## \u7ec3\u4e60\n\n- \u5c1d\u8bd5\u591a\u52a0\u5165\u51e0\u4e2a\u9690\u542b\u5c42\uff0c\u5bf9\u6bd4\u4ece0\u5f00\u59cb\u7684\u5b9e\u73b0\u3002\n- \u5c1d\u8bd5\u4f7f\u7528\u4e00\u4e2a\u53e6\u5916\u7684\u6fc0\u6d3b\u51fd\u6570\uff0c\u53ef\u4ee5\u4f7f\u7528`help(nd.Activation)`\u6216\u8005[\u7ebf\u4e0a\u6587\u6863](https://mxnet.apache.org/api/python/ndarray.html#mxnet.ndarray.Activation)\u67e5\u770b\u63d0\u4f9b\u7684\u9009\u9879\u3002\n\n**\u5410\u69fd\u548c\u8ba8\u8bba\u6b22\u8fce\u70b9**[\u8fd9\u91cc](https://discuss.gluon.ai/t/topic/738)", 
            "cell_type": "markdown", 
            "metadata": {}
        }
    ], 
    "metadata": {
        "kernelspec": {
            "display_name": "Python 2 with Spark 1.6 (Unsupported)", 
            "name": "python2", 
            "language": "python"
        }, 
        "language_info": {
            "mimetype": "text/x-python", 
            "nbconvert_exporter": "python", 
            "version": "2.7.11", 
            "name": "python", 
            "file_extension": ".py", 
            "pygments_lexer": "ipython2", 
            "codemirror_mode": {
                "version": 2, 
                "name": "ipython"
            }
        }
    }, 
    "nbformat": 4
}