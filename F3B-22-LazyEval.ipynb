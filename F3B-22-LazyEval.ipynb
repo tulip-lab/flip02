{
    "nbformat_minor": 2, 
    "cells": [
        {
            "source": "# \u5ef6\u8fdf\u6267\u884c\n\nMXNet\u4f7f\u7528**\u5ef6\u8fdf\u6267\u884c**\u6765\u63d0\u5347\u7cfb\u7edf\u6027\u80fd\u3002\u7edd\u5927\u60c5\u51b5\u4e0b\u6211\u4eec\u4e0d\u7528\u77e5\u9053\u5b83\u7684\u5b58\u5728\uff0c\u56e0\u4e3a\u5b83\u4e0d\u4f1a\u5bf9\u6b63\u5e38\u4f7f\u7528\u5e26\u6765\u5f71\u54cd\u3002\u4f46\u7406\u89e3\u5b83\u7684\u5de5\u4f5c\u539f\u7406\u6709\u52a9\u4e8e\u5f00\u53d1\u66f4\u9ad8\u6548\u7684\u7a0b\u5e8f\u3002\n\n\u5ef6\u8fdf\u6267\u884c\u662f\u6307\u547d\u4ee4\u53ef\u4ee5\u7b49\u5230\u4e4b\u540e\u5b83\u7684\u7ed3\u679c\u771f\u6b63\u7684\u9700\u8981\u7684\u65f6\u5019\u518d\u6267\u884c\u3002\u6211\u4eec\u5148\u6765\u770b\u4e00\u4e2a\u4f8b\u5b50\uff1a", 
            "cell_type": "markdown", 
            "metadata": {}
        }, 
        {
            "execution_count": null, 
            "cell_type": "code", 
            "metadata": {
                "attributes": {
                    "classes": [], 
                    "id": "", 
                    "n": "1"
                }
            }, 
            "outputs": [], 
            "source": "a = 1 + 1\n# some other things\nprint(a)"
        }, 
        {
            "source": "\u7b2c\u4e00\u53e5\u5bf9`a`\u8d4b\u503c\uff0c\u518d\u6267\u884c\u4e00\u4e9b\u5176\u6307\u4ee4\u540e\u6253\u5370`a`\u7684\u7ed3\u679c\u3002\u56e0\u4e3a\u8fd9\u91cc\u6211\u4eec\u53ef\u80fd\u5f88\u4e45\u4ee5\u540e\u624d\u7528`a`\u7684\u503c\uff0c\u6240\u4ee5\u6211\u4eec\u53ef\u4ee5\u628a\u5b83\u7684\u6267\u884c\u5ef6\u8fdf\u5230\u540e\u9762\u3002\u8fd9\u6837\u7684\u4e3b\u8981\u597d\u5904\u662f\u5728\u6267\u884c\u4e4b\u524d\u7cfb\u7edf\u53ef\u4ee5\u770b\u5230\u540e\u9762\u6307\u4ee4\uff0c\u4ece\u800c\u6709\u66f4\u591a\u673a\u4f1a\u6765\u5bf9\u7a0b\u5e8f\u8fdb\u884c\u4f18\u5316\u3002\u4f8b\u5982\u5982\u679c`a`\u5728\u88ab\u4f7f\u7528\u524d\u88ab\u91cd\u65b0\u8d4b\u503c\u4e86\uff0c\u90a3\u4e48\u6211\u4eec\u53ef\u4ee5\u4e0d\u9700\u8981\u771f\u6b63\u6267\u884c\u7b2c\u4e00\u6761\u8bed\u53e5\u3002\n\n\u5728MXNet\u91cc\uff0c\u6211\u4eec\u628a\u7528\u6237\u6253\u4ea4\u9053\u7684\u90e8\u5206\u53eb\u505a\u524d\u7aef\u3002\u4f8b\u5982\u8fd9\u4e2a\u6559\u7a0b\u91cc\u6211\u4eec\u4e00\u76f4\u5728\u4f7f\u7528Python\u524d\u7aef\u5199\u4ee3\u7801\u3002\u9664\u4e86Python\u5916\uff0cMXNet\u8fd8\u652f\u6301\u5176\u4ed6\u4f8b\u5982Scala\uff0cR\uff0cC++\u7684\u524d\u7aef\u3002\u4e0d\u7ba1\u4f7f\u7528\u4ec0\u4e48\u524d\u7aef\uff0cMXNet\u7684\u7a0b\u5e8f\u6267\u884c\u4e3b\u8981\u90fd\u5728C++\u540e\u7aef\u3002\u524d\u7aef\u53ea\u662f\u628a\u7a0b\u5e8f\u4f20\u7ed9\u540e\u7aef\u3002\u540e\u7aef\u6709\u81ea\u5df1\u7684\u7ebf\u7a0b\u6765\u4e0d\u65ad\u7684\u6536\u96c6\u4efb\u52a1\uff0c\u6784\u9020\u8ba1\u7b97\u56fe\uff0c\u4f18\u5316\uff0c\u5e76\u6267\u884c\u3002\u672c\u7ae0\u6211\u4eec\u4ecb\u7ecd\u540e\u7aef\u4f18\u5316\u4e4b\u4e00\uff1a\u5ef6\u8fdf\u6267\u884c\u3002\n\n\u8003\u8651\u4e0b\u56fe\u7684\u6837\u4f8b\uff0c\u6211\u4eec\u5728\u524d\u7aef\u8c03\u7528\u56db\u6761\u8bed\u53e5\uff0c\u5b83\u4eec\u88ab\u540e\u7aef\u7684\u7ebf\u7a0b\u5206\u6790\u4f9d\u8d56\u5e76\u6784\u5efa\u6210\u8ba1\u7b97\u56fe\u3002\n\nCheck [here](https://github.com/mli/gluon-tutorials-zh/blob/master/chapter_gluon-advances/lazy-evaluation.md):\n\n![](https://github.com/mli/gluon-tutorials-zh/raw/master/img/frontend-backend.svg)\n\n\u5728\u5ef6\u8fdf\u6267\u884c\u4e2d\uff0c\u524d\u7aef\u6267\u884c\u524d\u4e09\u4e2a\u8bed\u53e5\u7684\u65f6\u5019\uff0c\u5b83\u4ec5\u4ec5\u662f\u628a\u4efb\u52a1\u653e\u8fdb\u540e\u7aef\u7684\u961f\u5217\u91cc\u5c31\u8fd4\u56de\u4e86\u3002\u5f53\u5728\u9700\u8981\u6253\u5370\u7ed3\u679c\u65f6\uff0c\u524d\u7aef\u4f1a\u7b49\u5f85\u540e\u7aef\u7ebf\u7a0b\u628a`c`\u7684\u7ed3\u679c\u8ba1\u7b97\u5b8c\u3002\n\n\u8fd9\u4e2a\u8bbe\u8ba1\u7684\u4e00\u4e2a\u597d\u5904\u662f\u524d\u7aef\uff0c\u5c31\u662fPython\u7ebf\u7a0b\uff0c\u4e0d\u9700\u8981\u505a\u5b9e\u9645\u8ba1\u7b97\u5de5\u4f5c\uff0c\u4ece\u800c\u4e0d\u7ba1Python\u7684\u6027\u80fd\u5982\u4f55\uff0c\u5b83\u5bf9\u6574\u4e2a\u7a0b\u5e8f\u7684\u5f71\u54cd\u4f1a\u5f88\u5c0f\u3002\u53ea\u9700\u8981C++\u540e\u7aef\u8db3\u591f\u9ad8\u6548\uff0c\u90a3\u4e48\u4e0d\u7ba1\u524d\u7aef\u8bed\u8a00\u6027\u80fd\u5982\u4f55\uff0c\u90fd\u53ef\u4ee5\u63d0\u4f9b\u4e00\u81f4\u7684\u6027\u80fd\u3002\n\n\u4e0b\u9762\u7684\u4f8b\u5b50\u901a\u8fc7\u8ba1\u65f6\u6765\u5c55\u793a\u4e86\u5ef6\u540e\u6267\u884c\u7684\u6548\u679c\u3002\u53ef\u4ee5\u770b\u5230\uff0c\u5f53`y=...`\u8fd4\u56de\u7684\u65f6\u5019\u5e76\u6ca1\u6709\u7b49\u5f85\u5b83\u771f\u7684\u88ab\u8ba1\u7b97\u5b8c\u3002", 
            "cell_type": "markdown", 
            "metadata": {}
        }, 
        {
            "execution_count": null, 
            "cell_type": "code", 
            "metadata": {
                "attributes": {
                    "classes": [], 
                    "id": "", 
                    "n": "2"
                }
            }, 
            "outputs": [], 
            "source": "from mxnet import nd\nfrom time import time\n\nstart = time()\nx = nd.random_uniform(shape=(2000,2000))\ny = nd.dot(x, x)\nprint('workloads are queued:\\t%f sec' % (time() - start))\nprint(y)\nprint('workloads are finished:\\t%f sec' % (time() - start))"
        }, 
        {
            "source": "\u5ef6\u8fdf\u6267\u884c\u5927\u90e8\u5206\u60c5\u51b5\u662f\u5bf9\u7528\u6237\u900f\u660e\u7684\u3002\u56e0\u4e3a\u9664\u975e\u6211\u4eec\u9700\u8981\u6253\u5370\u6216\u8005\u4fdd\u5b58\u7ed3\u679c\u5916\uff0c\u6211\u4eec\u57fa\u672c\u4e0d\u9700\u8981\u5173\u5fc3\u76ee\u524d\u662f\u4e0d\u662f\u7ed3\u679c\u5728\u5185\u5b58\u91cc\u9762\u5df2\u7ecf\u8ba1\u7b97\u597d\u4e86\u3002\n\n\u4e8b\u5b9e\u4e0a\uff0c\u53ea\u8981\u6570\u636e\u662f\u4fdd\u5b58\u5728NDArray\u91cc\uff0c\u800c\u4e14\u4f7f\u7528MXNet\u63d0\u4f9b\u7684\u8fd0\u7b97\u5b50\uff0c\u540e\u7aef\u5c06\u9ed8\u8ba4\u4f7f\u7528\u5ef6\u8fdf\u6267\u884c\u6765\u83b7\u53d6\u6700\u5927\u7684\u6027\u80fd\u3002\n\n## \u7acb\u5373\u83b7\u53d6\u7ed3\u679c\n\n\u9664\u4e86\u524d\u9762\u4ecb\u7ecd\u7684`print`\u5916\uff0c\u6211\u4eec\u8fd8\u6709\u522b\u7684\u65b9\u6cd5\u53ef\u4ee5\u8ba9\u524d\u7aef\u7ebf\u7a0b\u7b49\u5f85\u76f4\u5230\u7ed3\u679c\u5b8c\u6210\u3002\u6211\u4eec\u53ef\u4ee5\u4f7f\u7528`nd.NDArray.wait_to_read()`\u7b49\u5f85\u76f4\u5230\u7279\u5b9a\u7ed3\u679c\u5b8c\u6210\uff0c\u6216\u8005`nd.waitall()`\u7b49\u5f85\u6240\u6709\u524d\u9762\u7ed3\u679c\u5b8c\u6210\u3002\u540e\u8005\u662f\u6d4b\u8bd5\u6027\u80fd\u5e38\u7528\u65b9\u6cd5\u3002", 
            "cell_type": "markdown", 
            "metadata": {}
        }, 
        {
            "execution_count": null, 
            "cell_type": "code", 
            "metadata": {
                "attributes": {
                    "classes": [], 
                    "id": "", 
                    "n": "3"
                }
            }, 
            "outputs": [], 
            "source": "start = time()\ny = nd.dot(x, x)\ny.wait_to_read()\ntime() - start"
        }, 
        {
            "execution_count": null, 
            "cell_type": "code", 
            "metadata": {
                "attributes": {
                    "classes": [], 
                    "id": "", 
                    "n": "4"
                }
            }, 
            "outputs": [], 
            "source": "start = time()\ny = nd.dot(x, x)\nz = nd.dot(x, x)\nnd.waitall()\ntime() - start"
        }, 
        {
            "source": "\u4efb\u4f55\u65b9\u6cd5\u5c06\u5185\u5bb9\u4eceNDArray\u642c\u8fd0\u5230\u5176\u4ed6\u4e0d\u652f\u6301\u5ef6\u8fdf\u6267\u884c\u7684\u6570\u636e\u7ed3\u6784\u91cc\u90fd\u4f1a\u89e6\u53d1\u7b49\u5f85\uff0c\u4f8b\u5982`asnumpy()`, `asscalar()`", 
            "cell_type": "markdown", 
            "metadata": {}
        }, 
        {
            "execution_count": null, 
            "cell_type": "code", 
            "metadata": {
                "attributes": {
                    "classes": [], 
                    "id": "", 
                    "n": "5"
                }
            }, 
            "outputs": [], 
            "source": "start = time()\ny = nd.dot(x, x)\ny.asnumpy()\ntime() - start"
        }, 
        {
            "execution_count": null, 
            "cell_type": "code", 
            "metadata": {
                "attributes": {
                    "classes": [], 
                    "id": "", 
                    "n": "6"
                }
            }, 
            "outputs": [], 
            "source": "start = time()\ny = nd.dot(x, x)\ny.norm().asscalar()\ntime() - start"
        }, 
        {
            "source": "## \u5ef6\u8fdf\u6267\u884c\u5e26\u6765\u7684\u4fbf\u5229\n\n\u4e0b\u9762\u4f8b\u5b50\u4e2d\uff0c\u6211\u4eec\u4e0d\u65ad\u7684\u5bf9`y`\u8fdb\u884c\u8d4b\u503c\u3002\u5982\u679c\u6bcf\u6b21\u6211\u4eec\u9700\u8981\u7b49\u5230`y`\u7684\u503c\uff0c\u90a3\u4e48\u6211\u4eec\u5fc5\u987b\u8981\u8981\u8ba1\u7b97\u5b83\u3002\u800c\u5728\u5ef6\u8fdf\u6267\u884c\u91cc\uff0c\u7cfb\u7edf\u6709\u53ef\u80fd\u7701\u7565\u6389\u4e00\u4e9b\u6267\u884c\u3002", 
            "cell_type": "markdown", 
            "metadata": {}
        }, 
        {
            "execution_count": null, 
            "cell_type": "code", 
            "metadata": {}, 
            "outputs": [], 
            "source": "start = time()\n\nfor i in range(5000):\n    y = x + 1\n    y.wait_to_read()\n\nprint('No lazy evaluation: %f sec' % (time()-start))\n\nstart = time()\nfor i in range(5000):\n    y = x + 1\nnd.waitall()\nprint('With evaluation: %f sec' % (time()-start))"
        }, 
        {
            "source": "## \u5ef6\u8fdf\u6267\u884c\u5e26\u6765\u7684\u5f71\u54cd\n\n\u5728\u5ef6\u8fdf\u6267\u884c\u91cc\uff0c\u53ea\u8981\u6700\u7ec8\u7ed3\u679c\u662f\u4e00\u81f4\u7684\uff0c\u7cfb\u7edf\u53ef\u80fd\u4f7f\u7528\u8ddf\u4ee3\u7801\u4e0d\u4e00\u6837\u7684\u987a\u5e8f\u6765\u6267\u884c\uff0c\u4f8b\u5982\u5047\u8bbe\u6211\u4eec\u5199", 
            "cell_type": "markdown", 
            "metadata": {}
        }, 
        {
            "execution_count": null, 
            "cell_type": "code", 
            "metadata": {
                "attributes": {
                    "classes": [], 
                    "id": "", 
                    "n": "7"
                }
            }, 
            "outputs": [], 
            "source": "a = 1\nb = 2\na + b"
        }, 
        {
            "source": "\u7b2c\u4e00\u53e5\u548c\u7b2c\u4e8c\u53e5\u4e4b\u95f4\u6ca1\u6709\u4f9d\u8d56\uff0c\u6240\u4ee5\u628a`b=2`\u63d0\u524d\u5230`a=1`\u524d\u6267\u884c\u4e5f\u662f\u53ef\u4ee5\u7684\u3002\u4f46\u8fd9\u6837\u53ef\u80fd\u4f1a\u5bfc\u81f4\u5185\u5b58\u4f7f\u7528\u7684\u53d8\u5316\u3002\n\n\u4e0b\u9762\u6211\u4eec\u5217\u4e3e\u51e0\u4e2a\u5728\u8bad\u7ec3\u548c\u9884\u6d4b\u4e2d\u5e38\u89c1\u7684\u73b0\u8c61\u3002\u4e00\u822c\u6bcf\u4e2a\u6279\u91cf\u6211\u4eec\u90fd\u4f1a\u8bc4\u6d4b\u4e00\u4e0b\uff0c\u4f8b\u5982\u8ba1\u7b97\u635f\u5931\u6216\u8005\u7cbe\u5ea6\uff0c\u5176\u4e2d\u4f1a\u7528\u5230`asscalar`\u6216\u8005`asnumpy`\u3002\u8fd9\u6837\u6211\u4eec\u4f1a\u6bcf\u6b21\u4ec5\u4ec5\u5c06\u4e00\u4e2a\u6279\u91cf\u7684\u4efb\u52a1\u653e\u8fdb\u540e\u7aef\u7cfb\u7edf\u6267\u884c\u3002\u4f46\u5982\u679c\u6211\u4eec\u53bb\u6389\u8fd9\u4e9b\u540c\u6b65\u51fd\u6570\uff0c\u4f1a\u5bfc\u81f4\u6211\u4eec\u5c06\u5927\u91cf\u7684\u6279\u91cf\u4efb\u52a1\u540c\u65f6\u653e\u8fdb\u7cfb\u7edf\uff0c\u4ece\u800c\u53ef\u80fd\u5bfc\u81f4\u7cfb\u7edf\u5360\u7528\u8fc7\u591a\u8d44\u6e90\u3002\n\n\u4e3a\u4e86\u6f14\u793a\u8fd9\u79cd\u60c5\u51b5\uff0c\u6211\u4eec\u5b9a\u4e49\u4e00\u4e2a\u6570\u636e\u83b7\u53d6\u51fd\u6570\uff0c\u5b83\u4f1a\u6253\u5370\u4ec0\u4e48\u6570\u636e\u662f\u4ec0\u4e48\u65f6\u5019\u88ab\u8bf7\u6c42\u7684\u3002", 
            "cell_type": "markdown", 
            "metadata": {}
        }, 
        {
            "execution_count": null, 
            "cell_type": "code", 
            "metadata": {
                "attributes": {
                    "classes": [], 
                    "id": "", 
                    "n": "8"
                }
            }, 
            "outputs": [], 
            "source": "def get_data():\n    start = time()\n    batch_size = 1024\n    for i in range(60):\n        if i % 10 == 0:\n            print('batch %d, time %f sec' %(i, time()-start))\n        x = nd.ones((batch_size, 1024))\n        y = nd.ones((batch_size,))\n        yield x, y"
        }, 
        {
            "source": "\u4f7f\u7528\u4e24\u5c42\u7f51\u7edc\u548c\u548cL2\u635f\u5931\u51fd\u6570\u4f5c\u4e3a\u6837\u4f8b", 
            "cell_type": "markdown", 
            "metadata": {}
        }, 
        {
            "execution_count": null, 
            "cell_type": "code", 
            "metadata": {
                "attributes": {
                    "classes": [], 
                    "id": "", 
                    "n": "9"
                }
            }, 
            "outputs": [], 
            "source": "from mxnet import gluon\nfrom mxnet.gluon import nn\n\nnet = nn.Sequential()\nwith net.name_scope():\n    net.add(\n        nn.Dense(1024, activation='relu'),\n        nn.Dense(1024, activation='relu'),\n        nn.Dense(1),\n    )\nnet.initialize()\ntrainer = gluon.Trainer(net.collect_params(), 'sgd', {})\nloss = gluon.loss.L2Loss()"
        }, 
        {
            "source": "\u6211\u4eec\u5b9a\u4e49\u8f85\u52a9\u51fd\u6570\u6765\u76d1\u6d4b\u5185\u5b58\u7684\u4f7f\u7528\uff08\u53ea\u80fd\u5728Linux\u8fd0\u884c\uff09", 
            "cell_type": "markdown", 
            "metadata": {}
        }, 
        {
            "execution_count": null, 
            "cell_type": "code", 
            "metadata": {
                "attributes": {
                    "classes": [], 
                    "id": "", 
                    "n": "10"
                }
            }, 
            "outputs": [], 
            "source": "import os\nimport subprocess\n\ndef get_mem():\n    \"\"\"get memory usage in MB\"\"\"\n    res = subprocess.check_output(['ps', 'u', '-p', str(os.getpid())])\n    return int(str(res).split()[15])/1e3"
        }, 
        {
            "source": "\u73b0\u5728\u6211\u4eec\u53ef\u4ee5\u505a\u6d4b\u8bd5\u4e86\u3002\u6211\u4eec\u5148\u8bd5\u8fd0\u884c\u4e00\u6b21\u8ba9\u7cfb\u7edf\u628a`net`\u7684\u53c2\u6570\u521d\u59cb\u5316\uff08\u56de\u5fc6[\u5ef6\u540e\u521d\u59cb\u5316](../chapter_gluon-basics/parameters.md)\uff09\u3002", 
            "cell_type": "markdown", 
            "metadata": {}
        }, 
        {
            "execution_count": null, 
            "cell_type": "code", 
            "metadata": {
                "attributes": {
                    "classes": [], 
                    "id": "", 
                    "n": "11"
                }
            }, 
            "outputs": [], 
            "source": "for x, y in get_data():\n    break\nloss(y, net(x)).wait_to_read()"
        }, 
        {
            "source": "\u5982\u679c\u6211\u4eec\u7528`net`\u6765\u505a\u9884\u6d4b\uff0c\u6b63\u5e38\u60c5\u51b5\u4e0b\u5bf9\u6bcf\u4e2a\u6279\u91cf\u7684\u7ed3\u679c\u6211\u4eec\u628a\u5b83\u590d\u5236\u51faNDArray\uff0c\u4f8b\u5982\u6253\u5370\u6216\u8005\u4fdd\u5b58\u5728\u78c1\u76d8\u4e0a\u3002\u8fd9\u91cc\u6211\u4eec\u7b80\u5355\u4f7f\u7528`wait_to_read`\u6765\u6a21\u62df\u3002", 
            "cell_type": "markdown", 
            "metadata": {}
        }, 
        {
            "execution_count": null, 
            "cell_type": "code", 
            "metadata": {
                "attributes": {
                    "classes": [], 
                    "id": "", 
                    "n": "12"
                }
            }, 
            "outputs": [], 
            "source": "mem = get_mem()\n\nfor x, y in get_data():\n    loss(y, net(x)).wait_to_read()\nnd.waitall()\n\nprint('Increased memory %f MB' % (get_mem() - mem))"
        }, 
        {
            "source": "\u5047\u8bbe\u6211\u4eec\u4e0d\u4f7f\u7528`wait_to_read()`\uff0c \u90a3\u4e48\u524d\u7aef\u4f1a\u5c06\u6240\u6709\u6279\u91cf\u7684\u8ba1\u7b97\u4e00\u6b21\u6027\u7684\u6dfb\u52a0\u8fdb\u540e\u7aef\u3002\u53ef\u4ee5\u770b\u5230\u6bcf\u4e2a\u6279\u91cf\u7684\u6570\u636e\u90fd\u4f1a\u5728\u5f88\u77ed\u7684\u65f6\u95f4\u5185\u751f\u6210\uff0c\u540c\u65f6\u5728\u63a5\u4e0b\u6765\u7684\u6570\u79d2\u949f\u5185\uff0c\u6211\u4eec\u770b\u5230\u4e86\u5185\u5b58\u7684\u589e\u957f\uff08\u5305\u62ec\u4e86\u5728\u5185\u5b58\u4e2d\u4fdd\u5b58\u6240\u6709`x`\u548c`y`\uff09\u3002", 
            "cell_type": "markdown", 
            "metadata": {}
        }, 
        {
            "execution_count": null, 
            "cell_type": "code", 
            "metadata": {
                "attributes": {
                    "classes": [], 
                    "id": "", 
                    "n": "13"
                }
            }, 
            "outputs": [], 
            "source": "mem = get_mem()\n\nfor x, y in get_data():\n    loss(y, net(x))\n\nnd.waitall()\nprint('Increased memory %f MB' % (get_mem() - mem))"
        }, 
        {
            "source": "\u540c\u6837\u5bf9\u4e8e\u8bad\u7ec3\uff0c\u5982\u679c\u6211\u4eec\u6bcf\u6b21\u8ba1\u7b97\u635f\u5931\uff0c\u90a3\u4e48\u5c31\u52a0\u5165\u4e86\u540c\u6b65", 
            "cell_type": "markdown", 
            "metadata": {}
        }, 
        {
            "execution_count": null, 
            "cell_type": "code", 
            "metadata": {
                "attributes": {
                    "classes": [], 
                    "id": "", 
                    "n": "14"
                }
            }, 
            "outputs": [], 
            "source": "from mxnet import autograd\n\nmem = get_mem()\n\ntotal_loss = 0\nfor x, y in get_data():\n    with autograd.record():\n        L = loss(y, net(x))\n    total_loss += L.sum().asscalar()\n    L.backward()\n    trainer.step(x.shape[0])\n\nnd.waitall()\nprint('Increased memory %f MB' % (get_mem() - mem))"
        }, 
        {
            "source": "\u4f46\u5982\u679c\u4e0d\u53bb\u6389\u540c\u6b65\uff0c\u540c\u6837\u4f1a\u9996\u5148\u628a\u6570\u636e\u5168\u90e8\u751f\u6210\u597d\uff0c\u5bfc\u81f4\u5360\u7528\u5927\u91cf\u5185\u5b58\u3002", 
            "cell_type": "markdown", 
            "metadata": {}
        }, 
        {
            "execution_count": null, 
            "cell_type": "code", 
            "metadata": {
                "attributes": {
                    "classes": [], 
                    "id": "", 
                    "n": "15"
                }
            }, 
            "outputs": [], 
            "source": "from mxnet import autograd\n\nmem = get_mem()\n\ntotal_loss = 0\nfor x, y in get_data():\n    with autograd.record():\n        L = loss(y, net(x))\n    L.backward()\n    trainer.step(x.shape[0])\n\nnd.waitall()\nprint('Increased memory %f MB' % (get_mem() - mem))"
        }, 
        {
            "source": "## \u603b\u7ed3\n\n\u5ef6\u540e\u6267\u884c\u4f7f\u5f97\u7cfb\u7edf\u6709\u66f4\u591a\u7a7a\u95f4\u6765\u505a\u6027\u80fd\u4f18\u5316\u3002\u4f46\u6211\u4eec\u63a8\u8350\u6bcf\u4e2a\u6279\u91cf\u91cc\u81f3\u5c11\u6709\u4e00\u4e2a\u540c\u6b65\u51fd\u6570\uff0c\u4f8b\u5982\u5bf9\u635f\u5931\u51fd\u6570\u8fdb\u884c\u8bc4\u4f30\uff0c\u6765\u907f\u514d\u5c06\u8fc7\u591a\u4efb\u52a1\u540c\u65f6\u4e22\u8fdb\u540e\u7aef\u7cfb\u7edf\u3002\n\n## \u7ec3\u4e60\n\n\u4e3a\u4ec0\u4e48\u540c\u6b65\u7248\u672c\u7684\u8bad\u7ec3\u4e2d\uff0c\u6211\u4eec\u770b\u5230\u4e86\u5185\u5b58\u4f7f\u7528\u7684\u5927\u91cf\u4e0b\u964d\uff1f\n\n**\u5410\u69fd\u548c\u8ba8\u8bba\u6b22\u8fce\u70b9**[\u8fd9\u91cc](https://discuss.gluon.ai/t/topic/1881)", 
            "cell_type": "markdown", 
            "metadata": {}
        }
    ], 
    "metadata": {
        "kernelspec": {
            "display_name": "Python 2 with Spark 1.6 (Unsupported)", 
            "name": "python2", 
            "language": "python"
        }, 
        "language_info": {
            "mimetype": "text/x-python", 
            "nbconvert_exporter": "python", 
            "version": "2.7.11", 
            "name": "python", 
            "file_extension": ".py", 
            "pygments_lexer": "ipython2", 
            "codemirror_mode": {
                "version": 2, 
                "name": "ipython"
            }
        }
    }, 
    "nbformat": 4
}