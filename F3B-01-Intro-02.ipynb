{
    "nbformat_minor": 2, 
    "cells": [
        {
            "source": "# \u4f7f\u7528NDArray\u6765\u5904\u7406\u6570\u636e\n\n\u5bf9\u4e8e\u673a\u5668\u5b66\u4e60\u6765\u8bf4\uff0c\u5904\u7406\u6570\u636e\u5f80\u5f80\u662f\u4e07\u4e8b\u4e4b\u5f00\u5934\u3002\u5b83\u5305\u542b\u4e24\u4e2a\u90e8\u5206\uff1a(i)\u6570\u636e\u8bfb\u53d6\uff0c(ii)\u6570\u636e\u5df2\u7ecf\u5728\u5185\u5b58\u4e2d\u65f6\u5982\u4f55\u5904\u7406\u3002\u672c\u7ae0\u5c06\u5173\u6ce8\u540e\u8005\u3002\n\n\u6211\u4eec\u9996\u5148\u4ecb\u7ecd`NDArray`\uff0c\u8fd9\u662fMXNet\u50a8\u5b58\u548c\u53d8\u6362\u6570\u636e\u7684\u4e3b\u8981\u5de5\u5177\u3002\u5982\u679c\u4f60\u4e4b\u524d\u7528\u8fc7`NumPy`\uff0c\u4f60\u4f1a\u53d1\u73b0`NDArray`\u548c`NumPy`\u7684\u591a\u7ef4\u6570\u7ec4\u975e\u5e38\u7c7b\u4f3c\u3002\u5f53\u7136\uff0c`NDArray`\u63d0\u4f9b\u66f4\u591a\u7684\u529f\u80fd\uff0c\u9996\u5148\u662fCPU\u548cGPU\u7684\u5f02\u6b65\u8ba1\u7b97\uff0c\u5176\u6b21\u662f\u81ea\u52a8\u6c42\u5bfc\u3002\u8fd9\u4e24\u70b9\u4f7f\u5f97`NDArray`\u80fd\u66f4\u597d\u5730\u652f\u6301\u673a\u5668\u5b66\u4e60\u3002\n\n## \u8ba9\u6211\u4eec\u5f00\u59cb\n\n\u6211\u4eec\u5148\u4ecb\u7ecd\u6700\u57fa\u672c\u7684\u529f\u80fd\u3002\u5982\u679c\u4f60\u4e0d\u61c2\u6211\u4eec\u7528\u5230\u7684\u6570\u5b66\u64cd\u4f5c\u4e5f\u4e0d\u7528\u62c5\u5fc3\uff0c\u4f8b\u5982\u6309\u5143\u7d20\u52a0\u6cd5\u3001\u6b63\u6001\u5206\u5e03\uff1b\u6211\u4eec\u4f1a\u5728\u4e4b\u540e\u7684\u7ae0\u8282\u5206\u522b\u4ece\u6570\u5b66\u548c\u4ee3\u7801\u7f16\u5199\u7684\u89d2\u5ea6\u8be6\u7ec6\u4ecb\u7ecd\u3002\n\n\u6211\u4eec\u9996\u5148\u4ece`mxnet`\u5bfc\u5165`ndarray`\u8fd9\u4e2a\u5305", 
            "cell_type": "markdown", 
            "metadata": {}
        }, 
        {
            "execution_count": null, 
            "cell_type": "code", 
            "metadata": {
                "attributes": {
                    "classes": [], 
                    "id": "", 
                    "n": "1"
                }
            }, 
            "outputs": [], 
            "source": "from mxnet import ndarray as nd"
        }, 
        {
            "source": "\u7136\u540e\u6211\u4eec\u521b\u5efa\u4e00\u4e2a3\u884c\u548c4\u5217\u76842D\u6570\u7ec4\uff08\u901a\u5e38\u4e5f\u53eb**\u77e9\u9635**\uff09\uff0c\u5e76\u4e14\u628a\u6bcf\u4e2a\u5143\u7d20\u521d\u59cb\u5316\u62100", 
            "cell_type": "markdown", 
            "metadata": {}
        }, 
        {
            "execution_count": null, 
            "cell_type": "code", 
            "metadata": {
                "attributes": {
                    "classes": [], 
                    "id": "", 
                    "n": "2"
                }
            }, 
            "outputs": [], 
            "source": "nd.zeros((3, 4))"
        }, 
        {
            "source": "\u7c7b\u4f3c\u7684\uff0c\u6211\u4eec\u53ef\u4ee5\u521b\u5efa\u6570\u7ec4\u6bcf\u4e2a\u5143\u7d20\u88ab\u521d\u59cb\u5316\u62101\u3002", 
            "cell_type": "markdown", 
            "metadata": {}
        }, 
        {
            "execution_count": null, 
            "cell_type": "code", 
            "metadata": {
                "attributes": {
                    "classes": [], 
                    "id": "", 
                    "n": "3"
                }
            }, 
            "outputs": [], 
            "source": "x = nd.ones((3, 4))\nx"
        }, 
        {
            "source": "\u6216\u8005\u4ecepython\u7684\u6570\u7ec4\u76f4\u63a5\u6784\u9020", 
            "cell_type": "markdown", 
            "metadata": {}
        }, 
        {
            "execution_count": null, 
            "cell_type": "code", 
            "metadata": {
                "attributes": {
                    "classes": [], 
                    "id": "", 
                    "n": "4"
                }
            }, 
            "outputs": [], 
            "source": "nd.array([[1,2],[2,3]])"
        }, 
        {
            "source": "\u6211\u4eec\u7ecf\u5e38\u9700\u8981\u521b\u5efa\u968f\u673a\u6570\u7ec4\uff0c\u5373\u6bcf\u4e2a\u5143\u7d20\u7684\u503c\u90fd\u662f\u968f\u673a\u91c7\u6837\u800c\u6765\uff0c\u8fd9\u4e2a\u7ecf\u5e38\u88ab\u7528\u6765\u521d\u59cb\u5316\u6a21\u578b\u53c2\u6570\u3002\u4ee5\u4e0b\u4ee3\u7801\u521b\u5efa\u6570\u7ec4\uff0c\u5b83\u7684\u5143\u7d20\u670d\u4ece\u5747\u503c0\u6807\u51c6\u5dee1\u7684\u6b63\u6001\u5206\u5e03\u3002", 
            "cell_type": "markdown", 
            "metadata": {}
        }, 
        {
            "execution_count": null, 
            "cell_type": "code", 
            "metadata": {
                "attributes": {
                    "classes": [], 
                    "id": "", 
                    "n": "5"
                }
            }, 
            "outputs": [], 
            "source": "y = nd.random_normal(0, 1, shape=(3, 4))\ny"
        }, 
        {
            "source": "\u8ddf`NumPy`\u4e00\u6837\uff0c\u6bcf\u4e2a\u6570\u7ec4\u7684\u5f62\u72b6\u53ef\u4ee5\u901a\u8fc7`.shape`\u6765\u83b7\u53d6", 
            "cell_type": "markdown", 
            "metadata": {}
        }, 
        {
            "execution_count": null, 
            "cell_type": "code", 
            "metadata": {
                "attributes": {
                    "classes": [], 
                    "id": "", 
                    "n": "6"
                }
            }, 
            "outputs": [], 
            "source": "y.shape"
        }, 
        {
            "source": "\u5b83\u7684\u5927\u5c0f\uff0c\u5c31\u662f\u603b\u5143\u7d20\u4e2a\u6570\uff0c\u662f\u5f62\u72b6\u7684\u7d2f\u4e58\u3002", 
            "cell_type": "markdown", 
            "metadata": {}
        }, 
        {
            "execution_count": null, 
            "cell_type": "code", 
            "metadata": {
                "attributes": {
                    "classes": [], 
                    "id": "", 
                    "n": "7"
                }
            }, 
            "outputs": [], 
            "source": "y.size"
        }, 
        {
            "source": "## \u64cd\u4f5c\u7b26\n\nNDArray\u652f\u6301\u5927\u91cf\u7684\u6570\u5b66\u64cd\u4f5c\u7b26\uff0c\u4f8b\u5982\u6309\u5143\u7d20\u52a0\u6cd5\uff1a", 
            "cell_type": "markdown", 
            "metadata": {}
        }, 
        {
            "execution_count": null, 
            "cell_type": "code", 
            "metadata": {
                "attributes": {
                    "classes": [], 
                    "id": "", 
                    "n": "8"
                }
            }, 
            "outputs": [], 
            "source": "x + y"
        }, 
        {
            "source": "\u4e58\u6cd5\uff1a", 
            "cell_type": "markdown", 
            "metadata": {}
        }, 
        {
            "execution_count": null, 
            "cell_type": "code", 
            "metadata": {
                "attributes": {
                    "classes": [], 
                    "id": "", 
                    "n": "9"
                }
            }, 
            "outputs": [], 
            "source": "print(x * y)"
        }, 
        {
            "source": "\u6307\u6570\u8fd0\u7b97\uff1a", 
            "cell_type": "markdown", 
            "metadata": {}
        }, 
        {
            "execution_count": null, 
            "cell_type": "code", 
            "metadata": {
                "attributes": {
                    "classes": [], 
                    "id": "", 
                    "n": "10"
                }
            }, 
            "outputs": [], 
            "source": "nd.exp(y)"
        }, 
        {
            "source": "\u4e5f\u53ef\u4ee5\u8f6c\u7f6e\u4e00\u4e2a\u77e9\u9635\u7136\u540e\u8ba1\u7b97\u77e9\u9635\u4e58\u6cd5\uff1a", 
            "cell_type": "markdown", 
            "metadata": {}
        }, 
        {
            "execution_count": null, 
            "cell_type": "code", 
            "metadata": {
                "attributes": {
                    "classes": [], 
                    "id": "", 
                    "n": "11"
                }
            }, 
            "outputs": [], 
            "source": "nd.dot(x, y.T)"
        }, 
        {
            "source": "\u6211\u4eec\u4f1a\u5728\u4e4b\u540e\u7684\u7ebf\u6027\u4ee3\u6570\u4e00\u7ae0\u8bb2\u89e3\u8fd9\u4e9b\u8fd0\u7b97\u7b26\u3002\n\n## \u5e7f\u64ad\uff08Broadcasting\uff09\n\n\u5f53\u4e8c\u5143\u64cd\u4f5c\u7b26\u5de6\u53f3\u4e24\u8fb9ndarray\u5f62\u72b6\u4e0d\u4e00\u6837\u65f6\uff0c\u7cfb\u7edf\u4f1a\u5c1d\u8bd5\u5c06\u5176\u590d\u5236\u5230\u4e00\u4e2a\u5171\u540c\u7684\u5f62\u72b6\u3002\u4f8b\u5982`a`\u7684\u7b2c0\u7ef4\u662f3, `b`\u7684\u7b2c0\u7ef4\u662f1\uff0c\u90a3\u4e48`a+b`\u65f6\u4f1a\u5c06`b`\u6cbf\u7740\u7b2c0\u7ef4\u590d\u52363\u904d\uff1a", 
            "cell_type": "markdown", 
            "metadata": {}
        }, 
        {
            "execution_count": null, 
            "cell_type": "code", 
            "metadata": {}, 
            "outputs": [], 
            "source": "nd.arange(10).reshape((3,3))"
        }, 
        {
            "execution_count": null, 
            "cell_type": "code", 
            "metadata": {
                "attributes": {
                    "classes": [], 
                    "id": "", 
                    "n": "23"
                }
            }, 
            "outputs": [], 
            "source": "a = nd.arange(3).reshape((3,1))\nb = nd.arange(2).reshape((1,2))\nprint('a:', a)\nprint('b:', b)\nprint('a+b:', a+b)\n"
        }, 
        {
            "source": "## \u8ddfNumPy\u7684\u8f6c\u6362\n\nndarray\u53ef\u4ee5\u5f88\u65b9\u4fbf\u5730\u540cnumpy\u8fdb\u884c\u8f6c\u6362", 
            "cell_type": "markdown", 
            "metadata": {}
        }, 
        {
            "execution_count": null, 
            "cell_type": "code", 
            "metadata": {
                "attributes": {
                    "classes": [], 
                    "id": "", 
                    "n": "26"
                }
            }, 
            "outputs": [], 
            "source": "import numpy as np\nx = np.ones((2,3))\ny = nd.array(x)  # numpy -> mxnet\nz = y.asnumpy()  # mxnet -> numpy\nprint([z, y])"
        }, 
        {
            "source": "## \u66ff\u6362\u64cd\u4f5c\n\n\u5728\u524d\u9762\u7684\u6837\u4f8b\u4e2d\uff0c\u6211\u4eec\u4e3a\u6bcf\u4e2a\u64cd\u4f5c\u65b0\u5f00\u5185\u5b58\u6765\u5b58\u50a8\u5b83\u7684\u7ed3\u679c\u3002\u4f8b\u5982\uff0c\u5982\u679c\u6211\u4eec\u5199`y = x + y`, \u6211\u4eec\u4f1a\u628a`y`\u4ece\u73b0\u5728\u6307\u5411\u7684\u5b9e\u4f8b\u8f6c\u5230\u65b0\u5efa\u7684\u5b9e\u4f8b\u4e0a\u53bb\u3002\u6211\u4eec\u53ef\u4ee5\u7528Python\u7684`id()`\u51fd\u6570\u6765\u770b\u8fd9\u4e2a\u662f\u600e\u4e48\u6267\u884c\u7684\uff1a", 
            "cell_type": "markdown", 
            "metadata": {}
        }, 
        {
            "execution_count": null, 
            "cell_type": "code", 
            "metadata": {}, 
            "outputs": [], 
            "source": "x = nd.ones((3, 4))\ny = nd.ones((3, 4))\n\nbefore = id(y)\ny = y + x\nid(y) == before"
        }, 
        {
            "source": "\u6211\u4eec\u53ef\u4ee5\u628a\u7ed3\u679c\u901a\u8fc7`[:]`\u5199\u5230\u4e00\u4e2a\u4e4b\u524d\u5f00\u597d\u7684\u6570\u7ec4\u91cc\uff1a", 
            "cell_type": "markdown", 
            "metadata": {}
        }, 
        {
            "execution_count": null, 
            "cell_type": "code", 
            "metadata": {}, 
            "outputs": [], 
            "source": "z = nd.zeros_like(x)\nbefore = id(z)\nz[:] = x + y\nid(z) == before"
        }, 
        {
            "source": "\u4f46\u662f\u8fd9\u91cc\u6211\u4eec\u8fd8\u662f\u4e3a`x+y`\u521b\u5efa\u4e86\u4e34\u65f6\u7a7a\u95f4\uff0c\u7136\u540e\u518d\u590d\u5236\u5230`z`\u3002\u9700\u8981\u907f\u514d\u8fd9\u4e2a\u5f00\u9500\uff0c\u6211\u4eec\u53ef\u4ee5\u4f7f\u7528\u64cd\u4f5c\u7b26\u7684\u5168\u540d\u7248\u672c\u4e2d\u7684`out`\u53c2\u6570\uff1a", 
            "cell_type": "markdown", 
            "metadata": {}
        }, 
        {
            "execution_count": null, 
            "cell_type": "code", 
            "metadata": {}, 
            "outputs": [], 
            "source": "nd.elemwise_add(x, y, out=z)\nid(z) == before"
        }, 
        {
            "source": "\u5982\u679c\u73b0\u6709\u7684\u6570\u7ec4\u4e0d\u4f1a\u590d\u7528\uff0c\u6211\u4eec\u4e5f\u53ef\u4ee5\u7528 `x[:] = x + y` \uff0c\u6216\u8005 `x += y` \u8fbe\u5230\u8fd9\u4e2a\u76ee\u7684\uff1a", 
            "cell_type": "markdown", 
            "metadata": {}
        }, 
        {
            "execution_count": null, 
            "cell_type": "code", 
            "metadata": {
                "attributes": {
                    "classes": [], 
                    "id": "", 
                    "n": "16"
                }
            }, 
            "outputs": [], 
            "source": "before = id(x)\nx += y\nid(x) == before"
        }, 
        {
            "source": "## \u622a\u53d6\uff08Slicing\uff09\n\nMXNet NDArray \u63d0\u4f9b\u4e86\u5404\u79cd\u622a\u53d6\u65b9\u6cd5\u3002\u622a\u53d6 x \u7684 index \u4e3a 1\u30012 \u7684\u884c\uff1a", 
            "cell_type": "markdown", 
            "metadata": {}
        }, 
        {
            "execution_count": null, 
            "cell_type": "code", 
            "metadata": {}, 
            "outputs": [], 
            "source": "x = nd.arange(0,9).reshape((3,3))\nprint('x: ', x)\nx[1:3]"
        }, 
        {
            "source": "\u4ee5\u53ca\u76f4\u63a5\u5199\u5165\u6307\u5b9a\u4f4d\u7f6e\uff1a", 
            "cell_type": "markdown", 
            "metadata": {}
        }, 
        {
            "execution_count": null, 
            "cell_type": "code", 
            "metadata": {}, 
            "outputs": [], 
            "source": "x[1,2] = 9.0\nx"
        }, 
        {
            "source": "\u591a\u7ef4\u622a\u53d6\uff1a", 
            "cell_type": "markdown", 
            "metadata": {}
        }, 
        {
            "execution_count": null, 
            "cell_type": "code", 
            "metadata": {}, 
            "outputs": [], 
            "source": "x = nd.arange(0,9).reshape((3,3))\nprint('x: ', x)\nx[1:2,1:3]"
        }, 
        {
            "source": "\u591a\u7ef4\u5199\u5165\uff1a", 
            "cell_type": "markdown", 
            "metadata": {}
        }, 
        {
            "execution_count": null, 
            "cell_type": "code", 
            "metadata": {}, 
            "outputs": [], 
            "source": "x[1:2,1:3] = 9.0\nx"
        }, 
        {
            "source": "## \u603b\u7ed3\n\nndarray\u6a21\u5757\u63d0\u4f9b\u4e00\u7cfb\u5217\u591a\u7ef4\u6570\u7ec4\u64cd\u4f5c\u51fd\u6570\u3002\u6240\u6709\u51fd\u6570\u5217\u8868\u53ef\u4ee5\u53c2\u89c1[NDArray API\u6587\u6863](https://mxnet.incubator.apache.org/api/python/ndarray.html)\u3002\n\n**\u5410\u69fd\u548c\u8ba8\u8bba\u6b22\u8fce\u70b9**[\u8fd9\u91cc](https://discuss.gluon.ai/t/topic/745)", 
            "cell_type": "markdown", 
            "metadata": {}
        }
    ], 
    "metadata": {
        "kernelspec": {
            "display_name": "Python 2 with Spark 1.6 (Unsupported)", 
            "name": "python2", 
            "language": "python"
        }, 
        "language_info": {
            "mimetype": "text/x-python", 
            "nbconvert_exporter": "python", 
            "version": "2.7.11", 
            "name": "python", 
            "file_extension": ".py", 
            "pygments_lexer": "ipython2", 
            "codemirror_mode": {
                "version": 2, 
                "name": "ipython"
            }
        }
    }, 
    "nbformat": 4
}