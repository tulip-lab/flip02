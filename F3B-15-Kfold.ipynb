{
    "nbformat_minor": 2, 
    "cells": [
        {
            "source": "# \u5b9e\u6218Kaggle\u6bd4\u8d5b\u2014\u2014\u4f7f\u7528Gluon\u9884\u6d4b\u623f\u4ef7\u548cK\u6298\u4ea4\u53c9\u9a8c\u8bc1\n\n\u672c\u7ae0\u4ecb\u7ecd\u5982\u4f55\u4f7f\u7528``Gluon``\u6765\u5b9e\u6218[Kaggle\u6bd4\u8d5b](https://www.kaggle.com)\u3002\u6211\u4eec\u4ee5[\u623f\u4ef7\u9884\u6d4b\u95ee\u9898](https://www.kaggle.com/c/house-prices-advanced-regression-techniques)\u4e3a\u4f8b\uff0c\u4e3a\u5927\u5bb6\u63d0\u4f9b\u4e00\u6574\u5957\u5b9e\u6218\u4e2d\u5e38\u5e38\u9700\u8981\u7684\u5de5\u5177\uff0c\u4f8b\u5982**K\u6298\u4ea4\u53c9\u9a8c\u8bc1**\u3002\u6211\u4eec\u8fd8\u4ee5``pandas``\u4e3a\u5de5\u5177\u4ecb\u7ecd\u5982\u4f55\u5bf9**\u771f\u5b9e\u4e16\u754c**\u4e2d\u7684\u6570\u636e\u8fdb\u884c\u91cd\u8981\u7684\u9884\u5904\u7406\uff0c\u4f8b\u5982\uff1a\n\n* \u5904\u7406\u79bb\u6563\u6570\u636e\n* \u5904\u7406\u4e22\u5931\u7684\u6570\u636e\u7279\u5f81\n* \u5bf9\u6570\u636e\u8fdb\u884c\u6807\u51c6\u5316\n\n\u9700\u8981\u6ce8\u610f\u7684\u662f\uff0c\u672c\u7ae0\u4ec5\u63d0\u4f9b\u4e00\u4e9b\u57fa\u672c\u5b9e\u6218\u6d41\u7a0b\u4f9b\u5927\u5bb6\u53c2\u8003\u3002\u5bf9\u4e8e\u6570\u636e\u7684\u9884\u5904\u7406\u3001\u6a21\u578b\u7684\u8bbe\u8ba1\u548c\u53c2\u6570\u7684\u9009\u62e9\u7b49\uff0c\u6211\u4eec\u7279\u610f\u53ea\u63d0\u4f9b\u6700\u57fa\u7840\u7684\u7248\u672c\u3002\u5e0c\u671b\u5927\u5bb6\u4e00\u5b9a\u8981\u901a\u8fc7\u52a8\u624b\u5b9e\u6218\u3001\u4ed4\u7ec6\u89c2\u5bdf\u5b9e\u9a8c\u73b0\u8c61\u3001\u8ba4\u771f\u5206\u6790\u5b9e\u9a8c\u7ed3\u679c\u5e76\u4e0d\u65ad\u8c03\u6574\u65b9\u6cd5\uff0c\u4ece\u800c\u5f97\u5230\u4ee4\u81ea\u5df1\u6ee1\u610f\u7684\u7ed3\u679c\u3002\n\n\u8fd9\u662f\u4e00\u6b21\u5b9d\u8d35\u7684\u5b9e\u6218\u673a\u4f1a\uff0c\u6211\u4eec\u76f8\u4fe1\u4f60\u4e00\u5b9a\u80fd\u4ece\u52a8\u624b\u7684\u8fc7\u7a0b\u4e2d\u5b66\u5230\u5f88\u591a\u3002\n\n> Get your hands dirty\u3002\n\n## Kaggle\u4e2d\u7684\u623f\u4ef7\u9884\u6d4b\u95ee\u9898\n\n[Kaggle](https://www.kaggle.com)\u662f\u4e00\u4e2a\u8457\u540d\u7684\u4f9b\u673a\u5668\u5b66\u4e60\u7231\u597d\u8005\u4ea4\u6d41\u7684\u5e73\u53f0\u3002\u4e3a\u4e86\u4fbf\u4e8e\u63d0\u4ea4\u7ed3\u679c\uff0c\u8bf7\u5927\u5bb6\u6ce8\u518c[Kaggle](https://www.kaggle.com)\u8d26\u53f7\u3002\u8bf7\u6ce8\u610f\uff0c**\u76ee\u524dKaggle\u4ec5\u9650\u6bcf\u4e2a\u8d26\u53f7\u4e00\u5929\u4ee5\u518510\u6b21\u63d0\u4ea4\u7ed3\u679c\u7684\u673a\u4f1a**\u3002\u6240\u4ee5\u63d0\u4ea4\u7ed3\u679c\u524d\u52a1\u5fc5\u4e09\u601d\u3002\n\n![](https://github.com/mli/gluon-tutorials-zh/raw/master/img/kaggle.png)\n\n\n\n\n\u6211\u4eec\u4ee5[\u623f\u4ef7\u9884\u6d4b\u95ee\u9898](https://www.kaggle.com/c/house-prices-advanced-regression-techniques)\u4e3a\u4f8b\u6559\u5927\u5bb6\u5982\u4f55\u5b9e\u6218\u4e00\u6b21Kaggle\u6bd4\u8d5b\u3002\u8bf7\u5927\u5bb6\u5728\u52a8\u624b\u5f00\u59cb\u4e4b\u524d\u70b9\u51fb[\u623f\u4ef7\u9884\u6d4b\u95ee\u9898](https://www.kaggle.com/c/house-prices-advanced-regression-techniques)\u4e86\u89e3\u76f8\u5173\u4fe1\u606f\u3002\n\n![](https://github.com/mli/gluon-tutorials-zh/raw/master/img/house_pricing.png)\n\n\n\n## \u8bfb\u5165\u6570\u636e\n\n\u6bd4\u8d5b\u6570\u636e\u5206\u4e3a\u8bad\u7ec3\u6570\u636e\u96c6\u548c\u6d4b\u8bd5\u6570\u636e\u96c6\u3002\u4e24\u4e2a\u6570\u636e\u96c6\u90fd\u5305\u62ec\u6bcf\u4e2a\u623f\u5b50\u7684\u7279\u5f81\uff0c\u4f8b\u5982\u8857\u9053\u7c7b\u578b\u3001\u5efa\u9020\u5e74\u4efd\u3001\u623f\u9876\u7c7b\u578b\u3001\u5730\u4e0b\u5ba4\u72b6\u51b5\u7b49\u7279\u5f81\u503c\u3002\u8fd9\u4e9b\u7279\u5f81\u503c\u6709\u8fde\u7eed\u7684\u6570\u5b57\u3001\u79bb\u6563\u7684\u6807\u7b7e\u751a\u81f3\u662f\u7f3a\u5931\u503c'na'\u3002\u53ea\u6709\u8bad\u7ec3\u6570\u636e\u96c6\u5305\u62ec\u4e86\u6211\u4eec\u9700\u8981\u5728\u6d4b\u8bd5\u6570\u636e\u96c6\u4e2d\u9884\u6d4b\u7684\u6bcf\u4e2a\u623f\u5b50\u7684\u4ef7\u683c\u3002\u6570\u636e\u53ef\u4ee5\u4ece[\u623f\u4ef7\u9884\u6d4b\u95ee\u9898](https://www.kaggle.com/c/house-prices-advanced-regression-techniques)\u4e2d\u4e0b\u8f7d\u3002\n\n[\u8bad\u7ec3\u6570\u636e\u96c6\u4e0b\u8f7d\u5730\u5740](https://www.kaggle.com/c/house-prices-advanced-regression-techniques/download/train.csv)\n[\u6d4b\u8bd5\u6570\u636e\u96c6\u4e0b\u8f7d\u5730\u5740](https://www.kaggle.com/c/house-prices-advanced-regression-techniques/download/test.csv)\n\n\u6211\u4eec\u901a\u8fc7\u4f7f\u7528``pandas``\u8bfb\u5165\u6570\u636e\u3002\u8bf7\u786e\u4fdd\u5b89\u88c5\u4e86``pandas`` (``pip install pandas``)\u3002", 
            "cell_type": "markdown", 
            "metadata": {}
        }, 
        {
            "execution_count": null, 
            "cell_type": "code", 
            "metadata": {}, 
            "outputs": [], 
            "source": "import urllib\n\ntrain_url_csv = 'https://github.com/mli/gluon-tutorials-zh/raw/master/data/kaggle_house_pred_train.csv'\ntrain_local = 'kaggle_house_pred_train.csv'\nexisting_f = urllib.urlretrieve(train_url_csv, train_local)\n\ntest_url_csv = 'https://github.com/mli/gluon-tutorials-zh/raw/master/data/kaggle_house_pred_test.csv'\ntest_local = 'kaggle_house_pred_test.csv'\nexisting_f = urllib.urlretrieve(test_url_csv, test_local)\n\nimport pandas as pd\nimport numpy as np\n\ntrain = pd.read_csv(train_local)\ntest = pd.read_csv(test_local)\nall_X = pd.concat((train.loc[:, 'MSSubClass':'SaleCondition'],\n                      test.loc[:, 'MSSubClass':'SaleCondition']))\n"
        }, 
        {
            "execution_count": null, 
            "cell_type": "code", 
            "metadata": {}, 
            "outputs": [], 
            "source": "!ls"
        }, 
        {
            "source": "\u6211\u4eec\u770b\u770b\u6570\u636e\u957f\u4ec0\u4e48\u6837\u5b50\u3002", 
            "cell_type": "markdown", 
            "metadata": {}
        }, 
        {
            "execution_count": null, 
            "cell_type": "code", 
            "metadata": {}, 
            "outputs": [], 
            "source": "train.head()"
        }, 
        {
            "source": "\u6570\u636e\u5927\u5c0f\u5982\u4e0b\u3002", 
            "cell_type": "markdown", 
            "metadata": {}
        }, 
        {
            "execution_count": null, 
            "cell_type": "code", 
            "metadata": {}, 
            "outputs": [], 
            "source": "train.shape"
        }, 
        {
            "execution_count": null, 
            "cell_type": "code", 
            "metadata": {}, 
            "outputs": [], 
            "source": "test.shape"
        }, 
        {
            "source": "## \u9884\u5904\u7406\u6570\u636e\n\n\u6211\u4eec\u4f7f\u7528pandas\u5bf9\u6570\u503c\u7279\u5f81\u505a\u6807\u51c6\u5316\u5904\u7406\uff1a\n\n$$x_i = \\frac{x_i - \\mathbb{E} x_i}{\\text{std}(x_i)}\u3002$$", 
            "cell_type": "markdown", 
            "metadata": {}
        }, 
        {
            "execution_count": null, 
            "cell_type": "code", 
            "metadata": {}, 
            "outputs": [], 
            "source": "numeric_feats = all_X.dtypes[all_X.dtypes != \"object\"].index\nall_X[numeric_feats] = all_X[numeric_feats].apply(lambda x: (x - x.mean())\n                                                            / (x.std()))"
        }, 
        {
            "source": "\u73b0\u5728\u628a\u79bb\u6563\u6570\u636e\u70b9\u8f6c\u6362\u6210\u6570\u503c\u6807\u7b7e\u3002", 
            "cell_type": "markdown", 
            "metadata": {}
        }, 
        {
            "execution_count": null, 
            "cell_type": "code", 
            "metadata": {}, 
            "outputs": [], 
            "source": "all_X = pd.get_dummies(all_X, dummy_na=True)"
        }, 
        {
            "source": "\u628a\u7f3a\u5931\u6570\u636e\u7528\u672c\u7279\u5f81\u7684\u5e73\u5747\u503c\u4f30\u8ba1\u3002", 
            "cell_type": "markdown", 
            "metadata": {}
        }, 
        {
            "execution_count": null, 
            "cell_type": "code", 
            "metadata": {}, 
            "outputs": [], 
            "source": "all_X = all_X.fillna(all_X.mean())"
        }, 
        {
            "source": "\u4e0b\u9762\u628a\u6570\u636e\u8f6c\u6362\u4e00\u4e0b\u683c\u5f0f\u3002", 
            "cell_type": "markdown", 
            "metadata": {}
        }, 
        {
            "execution_count": null, 
            "cell_type": "code", 
            "metadata": {}, 
            "outputs": [], 
            "source": "num_train = train.shape[0]\n\nX_train = all_X[:num_train].as_matrix()\nX_test = all_X[num_train:].as_matrix()\ny_train = train.SalePrice.as_matrix()"
        }, 
        {
            "source": "## \u5bfc\u5165NDArray\u683c\u5f0f\u6570\u636e\n\n\u4e3a\u4e86\u4fbf\u4e8e\u548c``Gluon``\u4ea4\u4e92\uff0c\u6211\u4eec\u9700\u8981\u5bfc\u5165NDArray\u683c\u5f0f\u6570\u636e\u3002", 
            "cell_type": "markdown", 
            "metadata": {}
        }, 
        {
            "execution_count": null, 
            "cell_type": "code", 
            "metadata": {}, 
            "outputs": [], 
            "source": "from mxnet import ndarray as nd\nfrom mxnet import autograd\nfrom mxnet import gluon\n\nX_train = nd.array(X_train)\ny_train = nd.array(y_train)\ny_train.reshape((num_train, 1))\n\nX_test = nd.array(X_test)"
        }, 
        {
            "source": "\u6211\u4eec\u628a\u635f\u5931\u51fd\u6570\u5b9a\u4e49\u4e3a\u5e73\u65b9\u8bef\u5dee\u3002", 
            "cell_type": "markdown", 
            "metadata": {}
        }, 
        {
            "execution_count": null, 
            "cell_type": "code", 
            "metadata": {}, 
            "outputs": [], 
            "source": "square_loss = gluon.loss.L2Loss()"
        }, 
        {
            "source": "\u6211\u4eec\u5b9a\u4e49\u6bd4\u8d5b\u4e2d\u6d4b\u91cf\u7ed3\u679c\u7528\u7684\u51fd\u6570\u3002", 
            "cell_type": "markdown", 
            "metadata": {}
        }, 
        {
            "execution_count": null, 
            "cell_type": "code", 
            "metadata": {}, 
            "outputs": [], 
            "source": "def get_rmse_log(net, X_train, y_train):\n    num_train = X_train.shape[0]\n    clipped_preds = nd.clip(net(X_train), 1, float('inf'))\n    return np.sqrt(2 * nd.sum(square_loss(\n        nd.log(clipped_preds), nd.log(y_train))).asscalar() / num_train)"
        }, 
        {
            "source": "## \u5b9a\u4e49\u6a21\u578b\n\n\u6211\u4eec\u5c06\u6a21\u578b\u7684\u5b9a\u4e49\u653e\u5728\u4e00\u4e2a\u51fd\u6570\u91cc\u4f9b\u591a\u6b21\u8c03\u7528\u3002\u8fd9\u662f\u4e00\u4e2a\u57fa\u672c\u7684\u7ebf\u6027\u56de\u5f52\u6a21\u578b\u3002", 
            "cell_type": "markdown", 
            "metadata": {}
        }, 
        {
            "execution_count": null, 
            "cell_type": "code", 
            "metadata": {}, 
            "outputs": [], 
            "source": "def get_net():\n    net = gluon.nn.Sequential()\n    with net.name_scope():\n        net.add(gluon.nn.Dense(1))\n    net.initialize()\n    return net"
        }, 
        {
            "source": "\u6211\u4eec\u5b9a\u4e49\u4e00\u4e2a\u8bad\u7ec3\u7684\u51fd\u6570\uff0c\u8fd9\u6837\u5728\u8dd1\u4e0d\u540c\u7684\u5b9e\u9a8c\u65f6\u4e0d\u9700\u8981\u91cd\u590d\u5b9e\u73b0\u76f8\u540c\u7684\u6b65\u9aa4\u3002", 
            "cell_type": "markdown", 
            "metadata": {}
        }, 
        {
            "execution_count": null, 
            "cell_type": "code", 
            "metadata": {}, 
            "outputs": [], 
            "source": "%matplotlib inline\nimport matplotlib as mpl\nmpl.rcParams['figure.dpi']= 120\nimport matplotlib.pyplot as plt\n\ndef train(net, X_train, y_train, X_test, y_test, epochs, \n          verbose_epoch, learning_rate, weight_decay):\n    train_loss = []\n    if X_test is not None:\n        test_loss = []\n    batch_size = 100\n    dataset_train = gluon.data.ArrayDataset(X_train, y_train)\n    data_iter_train = gluon.data.DataLoader(\n        dataset_train, batch_size,shuffle=True)\n    trainer = gluon.Trainer(net.collect_params(), 'adam',\n                            {'learning_rate': learning_rate,\n                             'wd': weight_decay})\n    net.collect_params().initialize(force_reinit=True)\n    for epoch in range(epochs):\n        for data, label in data_iter_train:\n            with autograd.record():\n                output = net(data)\n                loss = square_loss(output, label)\n            loss.backward()\n            trainer.step(batch_size)\n\n            cur_train_loss = get_rmse_log(net, X_train, y_train)\n        if epoch > verbose_epoch:\n            print(\"Epoch %d, train loss: %f\" % (epoch, cur_train_loss))\n        train_loss.append(cur_train_loss)\n        if X_test is not None:    \n            cur_test_loss = get_rmse_log(net, X_test, y_test)\n            test_loss.append(cur_test_loss)\n    plt.plot(train_loss)\n    plt.legend(['train'])\n    if X_test is not None:\n        plt.plot(test_loss)\n        plt.legend(['train','test'])\n    plt.show()\n    if X_test is not None:\n        return cur_train_loss, cur_test_loss\n    else:\n        return cur_train_loss"
        }, 
        {
            "source": "## K\u6298\u4ea4\u53c9\u9a8c\u8bc1\n\n\u5728[\u8fc7\u62df\u5408](underfit-overfit.md)\u4e2d\u6211\u4eec\u8bb2\u8fc7\uff0c\u8fc7\u5ea6\u4f9d\u8d56\u8bad\u7ec3\u6570\u636e\u96c6\u7684\u8bef\u5dee\u6765\u63a8\u65ad\u6d4b\u8bd5\u6570\u636e\u96c6\u7684\u8bef\u5dee\u5bb9\u6613\u5bfc\u81f4\u8fc7\u62df\u5408\u3002\u4e8b\u5b9e\u4e0a\uff0c\u5f53\u6211\u4eec\u8c03\u53c2\u65f6\uff0c\u5f80\u5f80\u9700\u8981\u57fa\u4e8eK\u6298\u4ea4\u53c9\u9a8c\u8bc1\u3002\n\n> \u5728K\u6298\u4ea4\u53c9\u9a8c\u8bc1\u4e2d\uff0c\u6211\u4eec\u628a\u521d\u59cb\u91c7\u6837\u5206\u5272\u6210$K$\u4e2a\u5b50\u6837\u672c\uff0c\u4e00\u4e2a\u5355\u72ec\u7684\u5b50\u6837\u672c\u88ab\u4fdd\u7559\u4f5c\u4e3a\u9a8c\u8bc1\u6a21\u578b\u7684\u6570\u636e\uff0c\u5176\u4ed6$K-1$\u4e2a\u6837\u672c\u7528\u6765\u8bad\u7ec3\u3002\n\n\u6211\u4eec\u5173\u5fc3K\u6b21\u9a8c\u8bc1\u6a21\u578b\u7684\u6d4b\u8bd5\u7ed3\u679c\u7684\u5e73\u5747\u503c\u548c\u8bad\u7ec3\u8bef\u5dee\u7684\u5e73\u5747\u503c\uff0c\u56e0\u6b64\u6211\u4eec\u5b9a\u4e49K\u6298\u4ea4\u53c9\u9a8c\u8bc1\u51fd\u6570\u5982\u4e0b\u3002", 
            "cell_type": "markdown", 
            "metadata": {}
        }, 
        {
            "execution_count": null, 
            "cell_type": "code", 
            "metadata": {}, 
            "outputs": [], 
            "source": "def k_fold_cross_valid(k, epochs, verbose_epoch, X_train, y_train,\n                       learning_rate, weight_decay):\n    assert k > 1\n    fold_size = X_train.shape[0] // k\n    train_loss_sum = 0.0\n    test_loss_sum = 0.0\n    for test_i in range(k):\n        X_val_test = X_train[test_i * fold_size: (test_i + 1) * fold_size, :]\n        y_val_test = y_train[test_i * fold_size: (test_i + 1) * fold_size]\n\n        val_train_defined = False\n        for i in range(k):\n            if i != test_i:\n                X_cur_fold = X_train[i * fold_size: (i + 1) * fold_size, :]\n                y_cur_fold = y_train[i * fold_size: (i + 1) * fold_size]\n                if not val_train_defined:\n                    X_val_train = X_cur_fold\n                    y_val_train = y_cur_fold\n                    val_train_defined = True\n                else:\n                    X_val_train = nd.concat(X_val_train, X_cur_fold, dim=0)\n                    y_val_train = nd.concat(y_val_train, y_cur_fold, dim=0)\n        net = get_net()\n        train_loss, test_loss = train(\n            net, X_val_train, y_val_train, X_val_test, y_val_test, \n            epochs, verbose_epoch, learning_rate, weight_decay)\n        train_loss_sum += train_loss\n        print(\"Test loss: %f\" % test_loss)\n        test_loss_sum += test_loss\n    return train_loss_sum / k, test_loss_sum / k"
        }, 
        {
            "source": "### \u8bad\u7ec3\u6a21\u578b\u5e76\u4ea4\u53c9\u9a8c\u8bc1\n\n\u4ee5\u4e0b\u7684\u6a21\u578b\u53c2\u6570\u90fd\u662f\u53ef\u4ee5\u8c03\u7684\u3002", 
            "cell_type": "markdown", 
            "metadata": {}
        }, 
        {
            "execution_count": null, 
            "cell_type": "code", 
            "metadata": {}, 
            "outputs": [], 
            "source": "k = 5\nepochs = 100\nverbose_epoch = 95\nlearning_rate = 5\nweight_decay = 0.0"
        }, 
        {
            "source": "\u7ed9\u5b9a\u4ee5\u4e0a\u8c03\u597d\u7684\u53c2\u6570\uff0c\u63a5\u4e0b\u6765\u6211\u4eec\u8bad\u7ec3\u5e76\u4ea4\u53c9\u9a8c\u8bc1\u6211\u4eec\u7684\u6a21\u578b\u3002", 
            "cell_type": "markdown", 
            "metadata": {}
        }, 
        {
            "execution_count": null, 
            "cell_type": "code", 
            "metadata": {}, 
            "outputs": [], 
            "source": "train_loss, test_loss = k_fold_cross_valid(k, epochs, verbose_epoch, X_train,\n                                           y_train, learning_rate, weight_decay)\nprint(\"%d-fold validation: Avg train loss: %f, Avg test loss: %f\" %\n      (k, train_loss, test_loss))"
        }, 
        {
            "source": "\u5373\u4fbf\u8bad\u7ec3\u8bef\u5dee\u53ef\u4ee5\u8fbe\u5230\u5f88\u4f4e\uff08\u8c03\u597d\u53c2\u6570\u4e4b\u540e\uff09\uff0c\u4f46\u662fK\u6298\u4ea4\u53c9\u9a8c\u8bc1\u4e0a\u7684\u8bef\u5dee\u53ef\u80fd\u66f4\u9ad8\u3002\u5f53\u8bad\u7ec3\u8bef\u5dee\u7279\u522b\u4f4e\u65f6\uff0c\u8981\u89c2\u5bdfK\u6298\u4ea4\u53c9\u9a8c\u8bc1\u4e0a\u7684\u8bef\u5dee\u662f\u5426\u540c\u65f6\u964d\u4f4e\u5e76\u5c0f\u5fc3\u8fc7\u62df\u5408\u3002\u6211\u4eec\u901a\u5e38\u4f9d\u8d56K\u6298\u4ea4\u53c9\u9a8c\u8bc1\u8bef\u5dee\u7ed3\u679c\u6765\u8c03\u8282\u53c2\u6570\u3002\n\n\n\n## \u9884\u6d4b\u5e76\u5728Kaggle\u63d0\u4ea4\u9884\u6d4b\u7ed3\u679c\uff08\u9009\u5b66\uff09\n\n\u672c\u90e8\u5206\u4e3a\u9009\u5b66\u5185\u5bb9\u3002\u7f51\u7edc\u4e0d\u597d\u7684\u540c\u5b66\u53ef\u4ee5\u901a\u8fc7\u4e0a\u8ff0K\u6298\u4ea4\u53c9\u9a8c\u8bc1\u7684\u65b9\u6cd5\u6765\u8bc4\u6d4b\u81ea\u5df1\u8bad\u7ec3\u7684\u6a21\u578b\u3002\n\n\u6211\u4eec\u9996\u5148\u5b9a\u4e49\u9884\u6d4b\u51fd\u6570\u3002", 
            "cell_type": "markdown", 
            "metadata": {}
        }, 
        {
            "execution_count": null, 
            "cell_type": "code", 
            "metadata": {}, 
            "outputs": [], 
            "source": "def learn(epochs, verbose_epoch, X_train, y_train, test, learning_rate,\n          weight_decay):\n    net = get_net()\n    train(net, X_train, y_train, None, None, epochs, verbose_epoch, \n          learning_rate, weight_decay)\n    preds = net(X_test).asnumpy()\n    test['SalePrice'] = pd.Series(preds.reshape(1, -1)[0])\n    submission = pd.concat([test['Id'], test['SalePrice']], axis=1)\n    submission.to_csv('submission.csv', index=False)"
        }, 
        {
            "source": "\u8c03\u597d\u53c2\u6570\u4ee5\u540e\uff0c\u4e0b\u9762\u6211\u4eec\u9884\u6d4b\u5e76\u5728Kaggle\u63d0\u4ea4\u9884\u6d4b\u7ed3\u679c\u3002", 
            "cell_type": "markdown", 
            "metadata": {}
        }, 
        {
            "execution_count": null, 
            "cell_type": "code", 
            "metadata": {}, 
            "outputs": [], 
            "source": "learn(epochs, verbose_epoch, X_train, y_train, test, learning_rate,\n      weight_decay)"
        }, 
        {
            "source": "\u6267\u884c\u5b8c\u4e0a\u8ff0\u4ee3\u7801\u540e\uff0c\u4f1a\u751f\u6210\u4e00\u4e2a`submission.csv`\u6587\u4ef6\u3002\u8fd9\u662fKaggle\u8981\u6c42\u7684\u63d0\u4ea4\u683c\u5f0f\u3002\u8fd9\u65f6\u6211\u4eec\u53ef\u4ee5\u5728Kaggle\u4e0a\u628a\u6211\u4eec\u9884\u6d4b\u5f97\u51fa\u7684\u7ed3\u679c\u63d0\u4ea4\u5e76\u67e5\u770b\u4e0e\u6d4b\u8bd5\u6570\u636e\u96c6\u4e0a\u771f\u5b9e\u623f\u4ef7\u7684\u8bef\u5dee\u3002\u4f60\u9700\u8981\u767b\u5f55Kaggle\u7f51\u7ad9\uff0c\u6253\u5f00[\u623f\u4ef7\u9884\u6d4b\u95ee\u9898\u5730\u5740](https://www.kaggle.com/c/house-prices-advanced-regression-techniques)\uff0c\u5e76\u70b9\u51fb\u4e0b\u65b9\u53f3\u4fa7`Submit Predictions`\u6309\u94ae\u63d0\u4ea4\u3002\n\n![](https://github.com/mli/gluon-tutorials-zh/raw/master/img/kaggle_submit.png)\n\n\n\n\u8bf7\u70b9\u51fb\u4e0b\u65b9`Upload Submission File`\u9009\u62e9\u9700\u8981\u63d0\u4ea4\u7684\u9884\u6d4b\u7ed3\u679c\u3002\u7136\u540e\u70b9\u51fb\u4e0b\u65b9\u7684`Make Submission`\u6309\u94ae\u5c31\u53ef\u4ee5\u67e5\u770b\u7ed3\u679c\u5566\uff01\n\n![](https://github.com/mli/gluon-tutorials-zh/raw/master/img/kaggle_submit2.png)\n\n\u518d\u6b21\u6e29\u99a8\u63d0\u9192\uff0c**\u76ee\u524dKaggle\u4ec5\u9650\u6bcf\u4e2a\u8d26\u53f7\u4e00\u5929\u4ee5\u518510\u6b21\u63d0\u4ea4\u7ed3\u679c\u7684\u673a\u4f1a**\u3002\u6240\u4ee5\u63d0\u4ea4\u7ed3\u679c\u524d\u52a1\u5fc5\u4e09\u601d\u3002\n\n## \u4f5c\u4e1a\uff08[\u6c47\u62a5\u4f5c\u4e1a\u548c\u67e5\u770b\u5176\u4ed6\u5c0f\u4f19\u4f34\u4f5c\u4e1a](https://discuss.gluon.ai/t/topic/1039)\uff09\uff1a\n\n* \u8fd0\u884c\u672c\u6559\u7a0b\uff0c\u76ee\u524d\u7684\u6a21\u578b\u57285\u6298\u4ea4\u53c9\u9a8c\u8bc1\u4e0a\u53ef\u4ee5\u62ff\u5230\u4ec0\u4e48\u6837\u7684loss\uff1f\n* \u5982\u679c\u7f51\u7edc\u6761\u4ef6\u5141\u8bb8\uff0c\u5728Kaggle\u63d0\u4ea4\u672c\u6559\u7a0b\u7684\u9884\u6d4b\u7ed3\u679c\u3002\u89c2\u5bdf\u4e00\u4e0b\uff0c\u8fd9\u4e2a\u7ed3\u679c\u80fd\u5728Kaggle\u4e0a\u62ff\u5230\u4ec0\u4e48\u6837\u7684loss\uff1f\n* \u901a\u8fc7\u91cd\u65b0\u8bbe\u8ba1\u6a21\u578b\u3001\u8c03\u53c2\u5e76\u5bf9\u7167K\u6298\u4ea4\u53c9\u9a8c\u8bc1\u7ed3\u679c\uff0c\u65b0\u6a21\u578b\u662f\u5426\u6bd4\u5176\u4ed6\u5c0f\u4f19\u4f34\u7684\u66f4\u597d\uff1f\u9664\u4e86\u8c03\u53c2\uff0c\u4f60\u53ef\u80fd\u53d1\u73b0\u6211\u4eec\u4e4b\u524d\u5b66\u8fc7\u7684\u4ee5\u4e0b\u5185\u5bb9\u6709\u4e9b\u5e2e\u52a9\uff1a\n    * [\u591a\u5c42\u611f\u77e5\u673a --- \u4f7f\u7528Gluon](mlp-gluon.md)\n    * [\u6b63\u5219\u5316 --- \u4f7f\u7528Gluon](reg-gluon.md)\n* \u5982\u679c\u4e0d\u4f7f\u7528\u5bf9\u6570\u503c\u7279\u5f81\u505a\u6807\u51c6\u5316\u5904\u7406\u80fd\u62ff\u5230\u4ec0\u4e48\u6837\u7684loss\uff1f\n* \u4f60\u8fd8\u6709\u4ec0\u4e48\u5176\u4ed6\u529e\u6cd5\u53ef\u4ee5\u7ee7\u7eed\u6539\u8fdb\u6a21\u578b\uff1f\u5c0f\u4f19\u4f34\u4eec\u90fd\u671f\u5f85\u5b66\u4e60\u5230\u4f60\u72ec\u7279\u7684\u5bcc\u6709\u521b\u9020\u529b\u7684\u89e3\u51b3\u65b9\u6848\u3002\n\n**\u5410\u69fd\u548c\u8ba8\u8bba\u6b22\u8fce\u70b9**[\u8fd9\u91cc](https://discuss.gluon.ai/t/topic/1039)", 
            "cell_type": "markdown", 
            "metadata": {}
        }
    ], 
    "metadata": {
        "kernelspec": {
            "display_name": "Python 2 with Spark 1.6 (Unsupported)", 
            "name": "python2", 
            "language": "python"
        }, 
        "language_info": {
            "mimetype": "text/x-python", 
            "nbconvert_exporter": "python", 
            "version": "2.7.11", 
            "name": "python", 
            "file_extension": ".py", 
            "pygments_lexer": "ipython2", 
            "codemirror_mode": {
                "version": 2, 
                "name": "ipython"
            }
        }
    }, 
    "nbformat": 4
}