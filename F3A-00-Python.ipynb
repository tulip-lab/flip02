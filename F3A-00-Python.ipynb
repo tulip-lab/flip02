{
    "nbformat": 4, 
    "cells": [
        {
            "source": "# Modern Data Science \n**(Module 00: Programming Python)**\n\n---\n- Materials in this module include resources collected from various open-source online repositories.\n- You are free to use, change and distribute this package.\n\nPrepared by and for \n**Student Members** |\n2006-2018 [TULIP Lab](http://www.tulip.org.au), Australia\n\n---\n\n\n# Session A - IPython notebook and basic data types\n\nIn this session, \nyou will learn how to run *Python* code under  **IPython notebook**. In IPython notebook, you will be able to execute \nand modify your *Python* code more efficiently.  \n\nIn addition, you will  be given an introduction on  *Python*'s basic data types, \ngetting familiar with  **string**,   **number**, data conversion, data comparison and \ndata input/output. \n\nHopefully, by using **Python** and the powerful **IPython Notebook** environment, \nyou will find writing programs both fun and easy. \n", 
            "cell_type": "markdown", 
            "metadata": {}
        }, 
        {
            "source": "## Content\n\n### Part 1 Create your own IPython notebook\n\n1.1 [Start a notebook server](#cell_start)\n\n1.2 [A tour of IPython notebook](#cell_tour)\n\n1.3 [IPython notebook infterface](#cell_interface)\n\n1.4 [Open and close notebooks](#cell_close)\n\n### Part 2 Basic data types\n\n2.1 [String](#cell_string)\n\n2.2 [Number](#cell_number)\n\n2.3 [Data conversion and comparison](#cell_conversion)\n\n2.4 [Input and output](#cell_input)\n", 
            "cell_type": "markdown", 
            "metadata": {}
        }, 
        {
            "source": "# Part 1. Create your own IPython notebook\n\nThis notebook will show you how to start an IPython notebook session. It guides you through the process of creating your own notebook. It provides you details on the notebook interface and show you how to nevigate with a notebook and manipulate its components. ", 
            "cell_type": "markdown", 
            "metadata": {}
        }, 
        {
            "source": "<a id = \"cell_start\"></a>", 
            "cell_type": "markdown", 
            "metadata": {}
        }, 
        {
            "source": "     \n## 1. 1 Start  a  notebook server\n\nAs described in Part 1, you start the IPython notebnook server by keying in the command in a terminal window/command line window.\n\nHowever,  before you do this, make sure you have created a folder **p01** under **H:/sit742**,   download the file  **BasicData.ipynb** notebook, and saved it under **H:/sit742/p01**.\n\nAfter you complete this, you can now  switch  working directory to **H:/sit742**,  and start the IPython notebook server. Please enter the following commands:", 
            "cell_type": "markdown", 
            "metadata": {}
        }, 
        {
            "source": "ipython notebook", 
            "cell_type": "raw", 
            "metadata": {}
        }, 
        {
            "source": "You can see the message in the terminal windows as follows:\n\n\n<img src=\"https://raw.githubusercontent.com/tuliplab/mds/master/Jupyter/image/start-workspace.jpg\">\n\nThis will open a new browser window(or a new tab in your browser window). In the browser, there is an **dashboard**  page which shows you all the folders and files under **sit742** folder\n\n\n<img src=\"https://raw.githubusercontent.com/tuliplab/mds/master/Jupyter/image/start-index.jpg\">\n ", 
            "cell_type": "markdown", 
            "metadata": {}
        }, 
        {
            "source": "<a id = \"cell_tour\"></a>", 
            "cell_type": "markdown", 
            "metadata": {}
        }, 
        {
            "source": " \n ## 1.2  A tour of iPython notebook \n \n ###  Create a new ipython notebook\n \n \n To create a new notebook, go to the menu bar and select **File -> New Notebook -> Python 3**\n\nBy default, the new notebook is named **Untitled**. To give your notebook a meaningful name, click on the notebook name and rename it. We would like to call our new notebook **hello.ipynb**. Therefore, key in the name **hello**. \n\n<img src=\"https://raw.githubusercontent.com/tuliplab/mds/master/Jupyter/image/emptyNotebook.jpg\">\n\n\n\n###  Run script in code cells\n\nAfter a new notebook is created, there is an empty box in the notebook, called a **cell**. If you double click on the cell, you enter the **edit** mode of the notebook. Now we can  enter the following code in the cell", 
            "cell_type": "markdown", 
            "metadata": {}
        }, 
        {
            "source": "text = \"Hello World\"\nprint(text)", 
            "cell_type": "raw", 
            "metadata": {}
        }, 
        {
            "source": "After this,  press **CTRL + ENTER**, and execute the cell. The result will be shown after the cell. \n\n\n\n<img src=\"https://raw.githubusercontent.com/tuliplab/mds/master/Jupyter/image/hello-world.jpg\">\n\n\n\n\nAfter a cell is executed ,  the notebook is switched to  the **Commmand** mode. In this mode,  you can manipulte the notebook and its commponent. Alternatively, you can  use **ESC** key to switch from **Edit** mode to **Command** mode without executing code. \n\nTo modify the code you  entered in the cell, **double click** the cell again and modify its content.  For example, try to change the first line of previouse cell into the following code:", 
            "cell_type": "markdown", 
            "metadata": {}
        }, 
        {
            "source": "text = \"Good morning World!\"", 
            "cell_type": "raw", 
            "metadata": {}
        }, 
        {
            "source": "Afterwards,  press **CTRL + ENTER**, and the new output is displayed. \n\nAs you can see, you are switching bewteen two  modes,  **Command** and  **Edit**,  when  editing a notebook. We will in  later section look into these two operation modes of closely. Now practise  switching between the two modes until you are comfortable with them. ", 
            "cell_type": "markdown", 
            "metadata": {}
        }, 
        {
            "source": "###  Add  new  cells\n\nTo add a new cell to a notebook, you have to ensure the notebook is in **Command** mode. If not, refer to previous section to switch to **Command** mode. \n\n\nTo add cell below the currrent cell, go to menubar and click **Insert-> Insert Cell Below**. Alternatively, you can use shortcut i.e.  pressing **b** (or **a** to create a cell above).\n\n\n<img src=\"https://raw.githubusercontent.com/tuliplab/mds/master/Jupyter/image/new-cell.jpg\">\n\n###  Add markdown cells\n\nBy default, a code cell is created when adding a new cell. However, IPython notebook also use a **Markdown** cell for  enter normal text. We use markdown cell to display the text in specific format and to provide structure for a notebook.  \n\nTry to copy the text in the cell below and paste it into your new  notebook. Then from toolbar(**Cell->Cell Type**), change  cell type from **Code** to **Markdown**. \n\nPlease note in the following cell,  there is a space between the leading **-, #, 0** and the text that follows. ", 
            "cell_type": "markdown", 
            "metadata": {}
        }, 
        {
            "source": "## Heading 2\nNormal text here!\n\n### Heading 3\nordered list here\n\n0. Fruits\n  0. Banana\n  0. Grapes\n0. Veggies\n  0. Tomato\n  0. Broccoli\n \nUnordered list here\n- Fruits\n     - Banana\n     - Grapes\n- Veggies\n     - Tomato\n     - Broccoli", 
            "cell_type": "raw", 
            "metadata": {}
        }, 
        {
            "source": "Now execute the cell by press **CTRL+ ENTER**. You notebook should look like this:\n    \n<img src=\"https://raw.githubusercontent.com/tuliplab/mds/master/Jupyter/image/new-markdown.jpg\">\n", 
            "cell_type": "markdown", 
            "metadata": {
                "collapsed": true
            }
        }, 
        {
            "source": "Here is what the formated Markdown cell looks like:", 
            "cell_type": "markdown", 
            "metadata": {}
        }, 
        {
            "source": "### Exercise:\nClick this cell, and practisc writing markdown language   here....", 
            "cell_type": "markdown", 
            "metadata": {}
        }, 
        {
            "source": "<a id = \"cell_interface\"></a>", 
            "cell_type": "markdown", 
            "metadata": {}
        }, 
        {
            "source": " \n### 1.3  IPython notebook interface\n\nNow you have created your first notebook, let us have a close look at the user interface of IPython notebook.\n\n\n\n### Notebook component\nWhen you create a new notebook document, you will be presented with the notebook name, a menu bar, a toolbar and an empty code cell.\n\nWe can see the following components in a notebook:\n\n- **Title bar** is at the top of the page and  contains the name of the notebook. Clicking on the notebook name brings up a dialog which allows you to rename it.  Please renaming your notebook name from \u201cUntitled0\u201d to \u201chello\u201d. This change the file name from **Untitled0.ipynb**  to  **hello.ipynb**.\n\n- **Menu bar** presents different options that can be used to manipulate the way the notebook functions.\n\n- **Toolbar** gives a quick way of performing the most-used operations within the notebook.\n\n- An empty computational cell is  show in a new notebook where you can key in your code.\n\nThe notebook has two  modes of operatiopn:\n\n- **Edit**: In this mode, a single cell comes into focus and you can enter text or execute code.  You activate the **Edit mode** by **clicking on a cell** or **selecting a cell and then pressing Enter key**.\n\n- **Command**: In this mode, you can perform tasks that is related to the whole notebook structure. For example, you can move, copy, cut and paste cells. A series of keyboard shortcuts are also available to enable you to performa  these tasks more effiencient. One easiest way of activating the command mode by  pressing the **Esc** key to exit editing mode. \n\n\n\n\n\n### Get help and interrupting\n\n\nTo get help on the use of different cammands, shortcuts, you can go to the **Help** menu, which provides links to relevant documentation.\n\nIt is also easy to get help on any objects(including functions and methods). For example, to access help on the sum() function, enter the followsing line in a cell:", 
            "cell_type": "markdown", 
            "metadata": {}
        }, 
        {
            "source": "sum?", 
            "cell_type": "raw", 
            "metadata": {}
        }, 
        {
            "source": "The other improtant thing to know is how to interrupt a compuation. This can be done through the menu **Kernel->Interrupt** or **Kernel->Restart**, depending on what works on the situation. We will have chance to try this in later session. ", 
            "cell_type": "markdown", 
            "metadata": {}
        }, 
        {
            "source": "\n### Notebook cell types\n\n\nThere are basically three types of cells in a IPython notebook: Code Cells, Markdown Cells, Raw Cells.\n\n\n**Code cells** : Code cell can be used to enter code and will be executed by Python interpreter. Although we will not use other language in this unit, it is good to know that Jupyter Notebooks  also support JavaScript,  HTML, and Bash commands.\n\n*** Markdown cells***: You have created markdown cell in the previouse section. Markdown Cells are the easiest way to write and format text. It is also give structure to the notebook. Markdown language is used in this type of cell. Follow this link https://daringfireball.net/projects/markdown/basics  for the basics of the syntax.  \n\nThis is a  Markdown Cells example notebook sourced from : https://ipython.org/ipython-doc/3/notebook/notebook.html\nThis markdown cheat sheet can also be good reference to the main markdowns you might need to use in our pracs http://nestacms.com/docs/creating-content/markdown-cheat-sheet\n\n\n**Raw cells** : Raw cells, unlike all other Jupyter Notebook cells, have no input-output distinction. This means that raw Cells cannot be rendered into anything other than what they already are. They are mainly used to create examples.\n\n\nAs you have seen, you can use the toolbar to choose between different cell types. In addition, shortcut **M** and **Y** can be used to quickly change a cell to Code cell or Markdown cell under Command mode. \n\n\n### Operation modes of IPytho notebook\n\n**Edit mode**\n\n\n\nThe Edit mode is used to enter text in cells and to execute code. As you have seen, after typing some code in the notebook and pressing **CTRL+Enter**, the notebook executes the cell and diplays  output. The other two shortcuts used to run  code in a cell are **Shift +Enter** and **Alt + Enter**. \n\nThese three ways to run the the code in a cells are summarized as follows:\n\n\n- Pressing Shift + Enter: This runs the cell and select the next cell(A new cell is created if at the end of the notebook). This is the most usual way to execute a cell.\n\n- Pressing Ctrl + Enter: This runs the cell and keep the same cell selected. \n\n- Pressing Alt + Enter: This runs the cell and insert a new cell below it. \n\n\n**Command mode**\n\nIn Command mode, you can edit the notebook as a whole, but not type into individual cells.\n\nYou can use keyboard shortcut in this mode to perform the notebook and cell actions effeciently. For example, if you are in command mode and press **c**, you will copy the current cell. \n\n\n\n There are a large amount of shortcuts avaialbe in the command mode. However, you do not have to remember all of them, since most actions in the command mode are available in the menu. \n \n Here is a list of the most useful shortcuts. They are arrganged by the \n  order we recommend you learn so that you can edit the cells effienctly.\n\n\n1. Basic navigation: \n\n   - Enter: switch to Edit mode\n   \n   - Esc: switch to Command mode\n   \n   - Shift+enter: Eexecute a cell\n   \n   - Up, down: Move to the cell above or below\n\n2. Cell types: \n  - y: switch to code cell)\n  - m: switch to markdown cell) \n\n3. Cell creation: \n    - a: insert new sell above\n    - b: insert new cell  below\n\n4. Cell deleting:\n    - press D twice.\n\nNote that one of the most common (and frustrating) mistakes when using the\nnotebook is to type something in the wrong mode. Remember to use **Esc**\nto switch to the Command mode and **Enter** to switch to the Edit mode.\nAlso, remember that **clicking** on a cell automatically places it in the Edit\nmode, so it will be necessary to press **Esc** to go to the Command mode.\n\n### Exercise\nPlease  go ahead and try  these shortcuts.  For example,   try to insert new cell,  modify and delete  an existing cell. You can also switch  cells between code type and markdown type, and practics different kinds of formatting  in a markdown cell. \n \nFor a complete list of shortcut in **Command** mode, go to menu bar **Help->Keyboardshorcut**. Feel free to explore the other shortcuts. \n \n  ", 
            "cell_type": "markdown", 
            "metadata": {}
        }, 
        {
            "source": "<a id = \"cell_close\"></a>", 
            "cell_type": "markdown", 
            "metadata": {}
        }, 
        {
            "source": " \n ## 1.4 open and close notebooks\n \n You can open multiple notebooks in a browser windows. Simply go to menubar and choose **File->open...**, and select one **.ipynb** file. The second notebook will be opened in a seperated tab. \n \nNow make sure you still have your **hello.ipynb** open. Also please  download **ControlAdvData.ipynb** from cloudDeakin, and save under **H:/sit742/prac01**. Now go to the manu bar, click on **File->open ...**, locate the file **ControlAdvData.ipynb**, and open this file. \n \n When you finish your work, you will need to close your notebooks and shutdown the IPython notebook server. Instead of simply close all the tabs in the browser, you need to shutdown each notebook first. To do this, swich to   the **Home** tab(**Dashboard page**) and  **Running** section(see below).  Click on **Shutdown** button to close each notebook. In case  **Dashboard** page is not open,  click on the **Jupyter** icon to reopen it. \n \n\n <img src=\"https://raw.githubusercontent.com/tuliplab/mds/master/Jupyter/image/close-index.jpg\">\n \n After each notebook is shutdown, it is time to showdown the IPython notebook server. To do this, go to the terminal window and press **CTRL + C**, and then enter **Y**. After the notebook server is shut down,  the terminal window is ready for you to enter any new command. \n \n\n <img src=\"https://raw.githubusercontent.com/tuliplab/mds/master/Jupyter/image/close-terminal.jpg\">\n \n ", 
            "cell_type": "markdown", 
            "metadata": {}
        }, 
        {
            "source": "\n## Part 2  Basic Data Types\n", 
            "cell_type": "markdown", 
            "metadata": {}
        }, 
        {
            "source": "\n\nIn this part,  you will get better understanding with Python's basic data type. We will \nlook at **string** and **number** data type in this section. Also covered are:\n\n- Data conversion\n- Data  comparison\n- Receive  input from users and display results effectively \n\nYou will be guided through  completing a simple program which receives input from a user,\n process the information, and display results with specific format. ", 
            "cell_type": "markdown", 
            "metadata": {}
        }, 
        {
            "source": "<a id = \"cell_string\"></a>", 
            "cell_type": "markdown", 
            "metadata": {}
        }, 
        {
            "source": "## 2.1 String\n\nA string is a *sequence of characters*. We are using strings in almost every Python\nprograms. As we can seen in the **\u201dHello, World!\u201d** example, strings can be specified\nusing single quotes **'**. The **print()** function can be used to display a string.", 
            "cell_type": "markdown", 
            "metadata": {}
        }, 
        {
            "outputs": [], 
            "execution_count": null, 
            "cell_type": "code", 
            "source": "print('Hello, World!')", 
            "metadata": {}
        }, 
        {
            "source": "We can also use a variable to store the string value, and use the variable in the\n**print()** function.", 
            "cell_type": "markdown", 
            "metadata": {}
        }, 
        {
            "outputs": [], 
            "execution_count": null, 
            "cell_type": "code", 
            "source": "# Assign a string to a variable \ntext = 'Hello, World!'\nprint(text)", 
            "metadata": {}
        }, 
        {
            "source": "A *variable* is basically a name that represents (or refers to) some value. We use **=**\nto assign a value to a variable before we use it. Variable names are given by a programer\nin a way that the program is easy to understanding. Variable names are *case sensitive*.\nIt can consist of letters, digits and underscores. However, it can not begin with a digit.\nFor example, **plan9** and **plan_9** are valid names, where **9plan** is not.", 
            "cell_type": "markdown", 
            "metadata": {}
        }, 
        {
            "outputs": [], 
            "execution_count": null, 
            "cell_type": "code", 
            "source": "text = 'Hello, World!'", 
            "metadata": {}
        }, 
        {
            "outputs": [], 
            "execution_count": null, 
            "cell_type": "code", 
            "source": "# with print() function, content is displayed without quotation mark\nprint(text)", 
            "metadata": {}
        }, 
        {
            "source": "With variables, we can also display its value without **print()** function. Note that\nyou can not display a variable without **print()** function in Python script(i.e. in a **.py** file). This method only works under interactive mode (i.e. in the notebook).  ", 
            "cell_type": "markdown", 
            "metadata": {}
        }, 
        {
            "outputs": [], 
            "execution_count": null, 
            "cell_type": "code", 
            "source": "# without print() function, quotation mark is displayed together with content\ntext ", 
            "metadata": {}
        }, 
        {
            "source": "Back to representation of string, there will be issues if you need to include a quotation\nmark in the text.", 
            "cell_type": "markdown", 
            "metadata": {}
        }, 
        {
            "outputs": [], 
            "execution_count": null, 
            "cell_type": "code", 
            "source": "text = \u2019What\u2019 s your name \u2019", 
            "metadata": {}
        }, 
        {
            "source": "Since strings in double quotes **\"** work exactly the same way as string in single quotes.\nBy mixing the two types, it is easy to include quaotation mark itself in the text.", 
            "cell_type": "markdown", 
            "metadata": {}
        }, 
        {
            "outputs": [], 
            "execution_count": null, 
            "cell_type": "code", 
            "source": "text = \"What' s your name?\"\nprint(text)", 
            "metadata": {}
        }, 
        {
            "source": "Alternertively, you can use:", 
            "cell_type": "markdown", 
            "metadata": {}
        }, 
        {
            "outputs": [], 
            "execution_count": null, 
            "cell_type": "code", 
            "source": "text = '\"What is the problem?\", he asked.'\nprint(text)", 
            "metadata": {}
        }, 
        {
            "source": "You can specify multi-line strings using triple quotes  (**\"\"\"** or **'''**). In this way, single\nquotes and double quotes can be used freely in the text.\nHere is one example:", 
            "cell_type": "markdown", 
            "metadata": {}
        }, 
        {
            "outputs": [], 
            "execution_count": null, 
            "cell_type": "code", 
            "source": "multiline = '''This is a test for multiline. This is the first line. \nThis is the second line. \nI asked, \"What's your name?\"'''\nprint(multiline)", 
            "metadata": {}
        }, 
        {
            "source": "Notice the difference when the variable is displayed without **print()** function in this case.", 
            "cell_type": "markdown", 
            "metadata": {}
        }, 
        {
            "outputs": [], 
            "execution_count": null, 
            "cell_type": "code", 
            "source": "multiline = '''This is a test for multiline. This is the first line. \nThis is the second line. \nI asked, \"What's your name?\"'''\nmultiline", 
            "metadata": {}
        }, 
        {
            "source": "Another way of include the special characters, such as single quotes is with help of\nescape sequences **\\\\**. For example, you can specify the single quote using **\\\\' ** as follows.", 
            "cell_type": "markdown", 
            "metadata": {}
        }, 
        {
            "outputs": [], 
            "execution_count": null, 
            "cell_type": "code", 
            "source": "string = 'What\\'s your name?'\nprint(string)", 
            "metadata": {}
        }, 
        {
            "source": "There are many more other escape sequences (See Section 2.4.1 in [Python3.0 official document](https://docs.python.org/3.1/reference/lexical_analysis.html)). But I am going to mention the most useful two examples here. \n\nFirst, use escape sequences to indicate the backslash itself e.g. **\\\\\\\\**", 
            "cell_type": "markdown", 
            "metadata": {}
        }, 
        {
            "outputs": [], 
            "execution_count": null, 
            "cell_type": "code", 
            "source": "path = 'c:\\\\windows\\\\temp'\nprint(path)", 
            "metadata": {}
        }, 
        {
            "source": "Second,  used escape sequences to specify a two-line string. Apart from using a triple-quoted\nstring as shown previously, you can use **\\n** to indicate the start of a new line.", 
            "cell_type": "markdown", 
            "metadata": {}
        }, 
        {
            "outputs": [], 
            "execution_count": null, 
            "cell_type": "code", 
            "source": "multiline = 'This is a test for multiline. This is the first line.\\nThis is the second line.'\nprint(multiline)", 
            "metadata": {}
        }, 
        {
            "source": "To manipulate strings, the following two operators are most useful: \n* **+** is use to concatenate\ntwo strings or string variables; \n* ***** is used for concatenating several copies of the same\nstring.", 
            "cell_type": "markdown", 
            "metadata": {}
        }, 
        {
            "outputs": [], 
            "execution_count": null, 
            "cell_type": "code", 
            "source": "print('Hello, ' + 'World' * 3)", 
            "metadata": {}
        }, 
        {
            "source": "Below is another example of string concatenation based on  variables that store strings.", 
            "cell_type": "markdown", 
            "metadata": {}
        }, 
        {
            "outputs": [], 
            "execution_count": null, 
            "cell_type": "code", 
            "source": "name = 'World'\ngreeting = 'Hello'\nprint(greeting + ', ' + name + '!')", 
            "metadata": {}
        }, 
        {
            "source": "Using variables, change part of the string text is very easy. ", 
            "cell_type": "markdown", 
            "metadata": {}
        }, 
        {
            "outputs": [], 
            "execution_count": null, 
            "cell_type": "code", 
            "source": "name", 
            "metadata": {}
        }, 
        {
            "outputs": [], 
            "execution_count": null, 
            "cell_type": "code", 
            "source": "greeting", 
            "metadata": {}
        }, 
        {
            "outputs": [], 
            "execution_count": null, 
            "cell_type": "code", 
            "source": "# Change part of the text is easy\ngreeting = 'Good morning' \nprint(greeting + ', ' + name + '!')", 
            "metadata": {}
        }, 
        {
            "source": "<a id = \"cell_number\"></a>", 
            "cell_type": "markdown", 
            "metadata": {}
        }, 
        {
            "source": " ## 2.2 Number", 
            "cell_type": "markdown", 
            "metadata": {}
        }, 
        {
            "source": "There are two types of numbers that are used most frequently: integers and floats. As we\nexpect, the standard mathematic operation can be applied to these two types. Please\ntry the following expressions. Note that **\\*\\*** is exponent operator, which indicates\nexponentation exponential(power) caluclation.", 
            "cell_type": "markdown", 
            "metadata": {}
        }, 
        {
            "outputs": [], 
            "execution_count": null, 
            "cell_type": "code", 
            "source": "2 + 3", 
            "metadata": {}
        }, 
        {
            "outputs": [], 
            "execution_count": null, 
            "cell_type": "code", 
            "source": "3 * 5", 
            "metadata": {}
        }, 
        {
            "outputs": [], 
            "execution_count": null, 
            "cell_type": "code", 
            "source": "#3 to the power of 4\n3 ** 4 ", 
            "metadata": {}
        }, 
        {
            "source": "Among the number operations, we need to look at division closely. In Python 3.0, classic division is performed using  **/**. ", 
            "cell_type": "markdown", 
            "metadata": {}
        }, 
        {
            "outputs": [], 
            "execution_count": null, 
            "cell_type": "code", 
            "source": "15 / 5", 
            "metadata": {}
        }, 
        {
            "outputs": [], 
            "execution_count": null, 
            "cell_type": "code", 
            "source": "14 / 5", 
            "metadata": {}
        }, 
        {
            "source": "*//* is used to perform floor division. It truncates the fraction and rounds it to the next smallest whole number toward the left on the number line.", 
            "cell_type": "markdown", 
            "metadata": {}
        }, 
        {
            "outputs": [], 
            "execution_count": null, 
            "cell_type": "code", 
            "source": "14 // 5", 
            "metadata": {}
        }, 
        {
            "outputs": [], 
            "execution_count": null, 
            "cell_type": "code", 
            "source": "# Negatives move left on number line. The result is -3 instead of  -2\n-14 // 5 ", 
            "metadata": {}
        }, 
        {
            "source": "Modulus operator **%** can be used to obtain remaider. Pay attention when negative number is involved.", 
            "cell_type": "markdown", 
            "metadata": {}
        }, 
        {
            "outputs": [], 
            "execution_count": null, 
            "cell_type": "code", 
            "source": "14 % 5", 
            "metadata": {}
        }, 
        {
            "outputs": [], 
            "execution_count": null, 
            "cell_type": "code", 
            "source": "# Hint:  \u221214 // 5 equal to \u22123\n#        (-3) * 5 +  ? = -14\n\n-14 % 5 ", 
            "metadata": {}
        }, 
        {
            "source": "*Operator precedence* is a rule that affects how an expression is evaluated. As we learned in high school, the multiplication is done first than the addition. e.g. **2 + 3 * 4**. This means multiplication operator has higher precedence than the addition operator.\n\nFor your reference, a precedence table from the python reference manual is used to indicate the evaluation order in Python.  For a complete precedence table, check the heading \"Python Operators Precedence\" in this [Python tutorial](http://www.tutorialspoint.com/python/python_basic_operators.htm)\n\n\nHowever, When things get confused, it is far better to use parentheses **()** to explicitly\nspecify the precedence. This makes the program more readable.\n\nHere are some examples on operator precedence:", 
            "cell_type": "markdown", 
            "metadata": {}
        }, 
        {
            "outputs": [], 
            "execution_count": null, 
            "cell_type": "code", 
            "source": "2 + 3 * 4", 
            "metadata": {}
        }, 
        {
            "outputs": [], 
            "execution_count": null, 
            "cell_type": "code", 
            "source": "(2 + 3) * 4", 
            "metadata": {}
        }, 
        {
            "outputs": [], 
            "execution_count": null, 
            "cell_type": "code", 
            "source": "2 + 3 ** 2", 
            "metadata": {}
        }, 
        {
            "outputs": [], 
            "execution_count": null, 
            "cell_type": "code", 
            "source": "(2 + 3) ** 2", 
            "metadata": {}
        }, 
        {
            "outputs": [], 
            "execution_count": null, 
            "cell_type": "code", 
            "source": "-(4+3)+2", 
            "metadata": {}
        }, 
        {
            "source": "Similary as string, variables can be used to store a  number so that it is easy to  manipulate them.", 
            "cell_type": "markdown", 
            "metadata": {}
        }, 
        {
            "outputs": [], 
            "execution_count": null, 
            "cell_type": "code", 
            "source": "x = 3\ny = 2\nx + 2", 
            "metadata": {}
        }, 
        {
            "outputs": [], 
            "execution_count": null, 
            "cell_type": "code", 
            "source": "sum = x + y\nsum", 
            "metadata": {}
        }, 
        {
            "outputs": [], 
            "execution_count": null, 
            "cell_type": "code", 
            "source": "x * y", 
            "metadata": {}
        }, 
        {
            "source": "One common expression is to run a math operation on a variable and then assign the result of the operation back to the variable. Therefore, there is a shortcut for such a expression. ", 
            "cell_type": "markdown", 
            "metadata": {}
        }, 
        {
            "outputs": [], 
            "execution_count": null, 
            "cell_type": "code", 
            "source": "x = 2\nx = x * 3\nx", 
            "metadata": {}
        }, 
        {
            "source": "This is equivalant to:", 
            "cell_type": "markdown", 
            "metadata": {}
        }, 
        {
            "outputs": [], 
            "execution_count": null, 
            "cell_type": "code", 
            "source": "x = 2\n# Note there is no space between '*' and '+'\nx *= 3\nx", 
            "metadata": {}
        }, 
        {
            "source": "<a id = \"cell_conversion\"></a>", 
            "cell_type": "markdown", 
            "metadata": {}
        }, 
        {
            "source": "## 2.3 Data conversion and comparison", 
            "cell_type": "markdown", 
            "metadata": {
                "collapsed": true
            }
        }, 
        {
            "source": "So far, we have seen three types of data: interger, float, and string. With various data type, Python can define the operations possible on them and the storage method for each of them. In the later pracs, we will further introduce more data types, such as tuple, list and dictionary. \n\nTo obtain the data type of a variable or a value, we can use built-in function **type()**;\nwhereas functions, such as **str()**, **int()**, **float()**, are used to convert data one  type to another. Check the following examples on the usage of these functions:", 
            "cell_type": "markdown", 
            "metadata": {}
        }, 
        {
            "outputs": [], 
            "execution_count": null, 
            "cell_type": "code", 
            "source": "type('Hello, world!)')", 
            "metadata": {}
        }, 
        {
            "outputs": [], 
            "execution_count": null, 
            "cell_type": "code", 
            "source": "input = '45.6'\ntype(input)", 
            "metadata": {}
        }, 
        {
            "outputs": [], 
            "execution_count": null, 
            "cell_type": "code", 
            "source": "weight = float(input)\nweight\ntype(weight)", 
            "metadata": {}
        }, 
        {
            "source": "Note the system will report error message when the conversion function is not compatible with the data.", 
            "cell_type": "markdown", 
            "metadata": {}
        }, 
        {
            "outputs": [], 
            "execution_count": null, 
            "cell_type": "code", 
            "source": "input = 'David'\nweight = float(input)", 
            "metadata": {}
        }, 
        {
            "source": "Comparison between two values can help make decision in a program. The result of the comparison is either **True** or **False**. They are the two values of *Boolean* type.", 
            "cell_type": "markdown", 
            "metadata": {}
        }, 
        {
            "outputs": [], 
            "execution_count": null, 
            "cell_type": "code", 
            "source": "5 > 10", 
            "metadata": {}
        }, 
        {
            "outputs": [], 
            "execution_count": null, 
            "cell_type": "code", 
            "source": "type(5 > 10)", 
            "metadata": {}
        }, 
        {
            "outputs": [], 
            "execution_count": null, 
            "cell_type": "code", 
            "source": "# Double equal sign is also used for comparison\n10.0 == 10", 
            "metadata": {}
        }, 
        {
            "source": "Check the following examples on comparison of two strings.", 
            "cell_type": "markdown", 
            "metadata": {}
        }, 
        {
            "outputs": [], 
            "execution_count": null, 
            "cell_type": "code", 
            "source": "'cat' < 'dog'", 
            "metadata": {}
        }, 
        {
            "outputs": [], 
            "execution_count": null, 
            "cell_type": "code", 
            "source": "# All uppercases are before low cases. \n'cat' < 'Dog'", 
            "metadata": {}
        }, 
        {
            "outputs": [], 
            "execution_count": null, 
            "cell_type": "code", 
            "source": "'apple' < 'apricot'", 
            "metadata": {}
        }, 
        {
            "source": "There are three logical operators, *not*, *and* and *or*, which can  be applied to the boolean values. ", 
            "cell_type": "markdown", 
            "metadata": {}
        }, 
        {
            "outputs": [], 
            "execution_count": null, 
            "cell_type": "code", 
            "source": "# Both condition #1 and condition #2 are True?\n3 < 4  and 7 < 8", 
            "metadata": {}
        }, 
        {
            "outputs": [], 
            "execution_count": null, 
            "cell_type": "code", 
            "source": "# Either condition 1 or condition 2 are True?\n3 < 4  or 7 > 8", 
            "metadata": {}
        }, 
        {
            "outputs": [], 
            "execution_count": null, 
            "cell_type": "code", 
            "source": "# Both conditional #1 and conditional #2 are False?\nnot ((3 > 4) or (7 > 8))", 
            "metadata": {}
        }, 
        {
            "outputs": [], 
            "execution_count": null, 
            "cell_type": "code", 
            "source": "<a id = \"cell_input\"></a>", 
            "metadata": {}
        }, 
        {
            "source": "## 2. 4. Input and output", 
            "cell_type": "markdown", 
            "metadata": {}
        }, 
        {
            "source": "All programing languages provide features to interact with user. Python provide *input()* function to get input. It waits for the user to type some input and press return. We can add some information for the user by putting a message inside the function's brackets. It must be a string or a string variable. The text that was typed can be saved in a variable. Here is one example:", 
            "cell_type": "markdown", 
            "metadata": {}
        }, 
        {
            "outputs": [], 
            "execution_count": null, 
            "cell_type": "code", 
            "source": "nInput  = input('Enter you number here:\\n')", 
            "metadata": {}
        }, 
        {
            "source": "However, be aware that the input received from the user are treated as a string, even\nthough a user entered a number. The following **print()** function invokes an error message.", 
            "cell_type": "markdown", 
            "metadata": {}
        }, 
        {
            "outputs": [], 
            "execution_count": null, 
            "cell_type": "code", 
            "source": "print(nInput + 3)", 
            "metadata": {}
        }, 
        {
            "source": "The input need to be converted to an integer before the match operation can be performed as follows:", 
            "cell_type": "markdown", 
            "metadata": {}
        }, 
        {
            "outputs": [], 
            "execution_count": null, 
            "cell_type": "code", 
            "source": "print(int(nInput) + 3)", 
            "metadata": {}
        }, 
        {
            "source": "After user's input are accepted, the messages need to be displayed to the user accordingly. String concatenation is one way to display messages which incorporate variable values. ", 
            "cell_type": "markdown", 
            "metadata": {}
        }, 
        {
            "outputs": [], 
            "execution_count": null, 
            "cell_type": "code", 
            "source": "name = 'David'\nprint('Hello, ' + name)", 
            "metadata": {}
        }, 
        {
            "source": "Another way of achieving this is using **print()** funciton with *string formatting*. We need to use the *string formatting operator*, the percent(**%**) sign. ", 
            "cell_type": "markdown", 
            "metadata": {}
        }, 
        {
            "outputs": [], 
            "execution_count": null, 
            "cell_type": "code", 
            "source": "name = 'David'\nprint('Hello, %s' % name)", 
            "metadata": {}
        }, 
        {
            "source": "Here is another example with two variables:", 
            "cell_type": "markdown", 
            "metadata": {}
        }, 
        {
            "outputs": [], 
            "execution_count": null, 
            "cell_type": "code", 
            "source": "name = 'David'\nage = 23\nprint('%s is %d years old.' % (name, age))", 
            "metadata": {}
        }, 
        {
            "source": "Notice that the two variables, **name**, **age**, that specify the values are included at the end of the statement, and enclosed with a bracket. \n\nWith the quotation mark,  **%s** and **%d** are used to specify formating for string and integer respectively. \nThe following table shows a selected set of symbols which can be used along with %. ", 
            "cell_type": "markdown", 
            "metadata": {}
        }, 
        {
            "source": "<table width=\"304\" border=\"1\">\n  <tr>\n    <th width=\"112\" scope=\"col\">Format symbol</th>\n    <th width=\"176\" scope=\"col\">Conversion</th>\n  </tr>\n  <tr>\n    <td>%s</td>\n    <td>String</td>\n  </tr>\n  <tr>\n    <td>%d</td>\n    <td>Signed decimal integer</td>\n  </tr>\n  <tr>\n    <td>%f</td>\n    <td>Floating point real number</td>\n  </tr>\n</table>", 
            "cell_type": "markdown", 
            "metadata": {}
        }, 
        {
            "source": "There are extra charaters that are used together with above symbols:", 
            "cell_type": "markdown", 
            "metadata": {}
        }, 
        {
            "source": "<table width=\"400\" border=\"1\">\n  <tr>\n    <th width=\"100\" scope=\"col\">Symbol</th>\n    <th width=\"3000\" scope=\"col\">Functionality</th>\n  </tr>\n  <tr>\n    <td>-</td>\n    <td>Left justification</td>\n  </tr>\n  <tr>\n    <td>+</td>\n    <td>Display the sign</td>\n  </tr>\n  <tr>\n    <td>m.n</td>\n    <td>m is the minimum total width; n is the number of digits to display after the decimal point</td>\n  </tr>\n</table>", 
            "cell_type": "markdown", 
            "metadata": {}
        }, 
        {
            "source": "Here are  more examples that use above specifiers:", 
            "cell_type": "markdown", 
            "metadata": {}
        }, 
        {
            "outputs": [], 
            "execution_count": null, 
            "cell_type": "code", 
            "source": "# With %f, the format is right justification by default. \n# As a result, white spaces are added to the left of the number\n# 10.4 means minimal width 10 with 4 decinal points\nprint('Output a float number: %10.4f' % (3.5))", 
            "metadata": {}
        }, 
        {
            "outputs": [], 
            "execution_count": null, 
            "cell_type": "code", 
            "source": "# plus sign after % means to show positive sign\n# Zero after plus sign means using leading zero to fill width of 5\nprint('Output an integer: %+05d' % (23))", 
            "metadata": {}
        }, 
        {
            "source": "### 2.5 Notes on *Python 2*\n\nYou need to pay attention if you test examples in this prac under *Python* 2.  \n\n1. In *Python 3,  * **/** is float division, and  **//** is integer division; while in Python 2, \n\tboth **/** and **//**\n\tperform *integer division*.  \n\tHowever, if you stick to using **float(3)/2** for *float division*, \n\tand **3/2** for *integer division*, \n\tyou will have no problem in both version. \n    \n2. Instead using function **input()**,  \n\t**raw_input()** is used in Python 2. \n\tBoth functions have the same functionality,\n\ti.e. take what the user typed and passes it back as a string.\n    \n3. Although both versions support **print()** function with same format, \n\tPython 2 also allows  the print statement (e.g. **print \"Hello, World!\"**), \n\twhich is not valid in Python 3. \n\tHowever, if you stick to our examples and using **print()** function with parantheses, \n\tyour programs should works fine in both versions.  ", 
            "cell_type": "markdown", 
            "metadata": {}
        }
    ], 
    "metadata": {
        "language_info": {
            "pygments_lexer": "ipython3", 
            "nbconvert_exporter": "python", 
            "version": "3.5.2", 
            "mimetype": "text/x-python", 
            "name": "python", 
            "file_extension": ".py", 
            "codemirror_mode": {
                "version": 3, 
                "name": "ipython"
            }
        }, 
        "kernelspec": {
            "language": "python", 
            "display_name": "Python 3.5 (Experimental) with Spark 1.6 (Unsupported)", 
            "name": "python3"
        }
    }, 
    "nbformat_minor": 1
}