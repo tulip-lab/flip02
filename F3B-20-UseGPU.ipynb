{
    "nbformat_minor": 2, 
    "cells": [
        {
            "source": "# \u4f7f\u7528GPU\u6765\u8ba1\u7b97\n\n\u3010\u6ce8\u610f\u3011\u8fd0\u884c\u672c\u6559\u7a0b\u9700\u8981GPU\u3002\u6ca1\u6709GPU\u7684\u540c\u5b66\u53ef\u4ee5\u5927\u81f4\u7406\u89e3\u4e0b\u5185\u5bb9\uff0c\u81f3\u5c11\u662f`context`\u8fd9\u4e2a\u6982\u5ff5\uff0c\u56e0\u4e3a\u4e4b\u540e\u6211\u4eec\u4e5f\u4f1a\u7528\u5230\u3002\u4f46\u6ca1\u6709GPU\u4e0d\u4f1a\u5f71\u54cd\u8fd0\u884c\u4e4b\u540e\u7684\u5927\u90e8\u5206\u6559\u7a0b\uff08\u597d\u5427\uff0c\u8fd8\u662f\u6709\u70b9\u70b9\uff0c\u53ef\u80fd\u8fd0\u884c\u4f1a\u7a0d\u5fae\u6162\u70b9\uff09\u3002\n\n\u524d\u9762\u7684\u6559\u7a0b\u91cc\u6211\u4eec\u4e00\u76f4\u5728\u4f7f\u7528CPU\u6765\u8ba1\u7b97\uff0c\u56e0\u4e3a\u7edd\u5927\u90e8\u5206\u7684\u8ba1\u7b97\u8bbe\u5907\u90fd\u6709CPU\u3002\u4f46CPU\u7684\u8bbe\u8ba1\u76ee\u7684\u662f\u5904\u7406\u901a\u7528\u7684\u8ba1\u7b97\uff0c\u4f8b\u5982\u6253\u5f00\u6d4f\u89c8\u5668\u548c\u8fd0\u884cJupyter\uff0c\u5b83\u4e00\u822c\u53ea\u6709\u5c11\u6570\u7684\u4e00\u5757\u533a\u57df\u590d\u6742\u6570\u503c\u8ba1\u7b97\uff0c\u4f8b\u5982`nd.dot(A, B)`\u3002\u5bf9\u4e8e\u590d\u6742\u7684\u795e\u7ecf\u7f51\u7edc\u548c\u5927\u89c4\u6a21\u7684\u6570\u636e\u6765\u8bf4\uff0c\u5355\u5757CPU\u53ef\u80fd\u4e0d\u591f\u7ed9\u529b\u3002\n\n\u5e38\u7528\u7684\u89e3\u51b3\u529e\u6cd5\u662f\u8981\u4e48\u4f7f\u7528\u591a\u53f0\u673a\u5668\u6765\u534f\u540c\u8ba1\u7b97\uff0c\u8981\u4e48\u4f7f\u7528\u6570\u503c\u8ba1\u7b97\u66f4\u52a0\u5f3a\u52b2\u7684\u786c\u4ef6\uff0c\u6216\u8005\u4e24\u8005\u4e00\u8d77\u4f7f\u7528\u3002\u672c\u6559\u7a0b\u5173\u6ce8\u4f7f\u7528\u5355\u5757Nvidia GPU\u6765\u52a0\u901f\u8ba1\u7b97\uff0c\u66f4\u591a\u7684\u9009\u9879\u4f8b\u5982\u591aGPU\u548c\u591a\u673a\u5668\u8ba1\u7b97\u5219\u7559\u5230\u540e\u9762\u3002\n\n\u9996\u5148\u9700\u8981\u786e\u4fdd\u81f3\u5c11\u6709\u4e00\u5757Nvidia\u663e\u5361\u5df2\u7ecf\u5b89\u88c5\u597d\u4e86\uff0c\u7136\u540e\u4e0b\u8f7d\u5b89\u88c5\u663e\u5361\u9a71\u52a8\u548c[CUDA](https://developer.nvidia.com/cuda-downloads)\uff08\u63a8\u8350\u4e0b\u8f7d8.0\uff0cCUDA\u81ea\u5e26\u4e86\u9a71\u52a8\uff09\u3002\u5b8c\u6210\u540e\u5e94\u8be5\u53ef\u4ee5\u901a\u8fc7`nvidia-smi`\u67e5\u770b\u663e\u5361\u4fe1\u606f\u4e86\u3002\uff08Windows\u7528\u6237\u9700\u8981\u8bbe\u4e00\u4e0bPATH\uff1a`set PATH=C:\\Program Files\\NVIDIA Corporation\\NVSMI;%PATH%`\uff09\u3002", 
            "cell_type": "markdown", 
            "metadata": {}
        }, 
        {
            "execution_count": null, 
            "cell_type": "code", 
            "metadata": {
                "attributes": {
                    "classes": [], 
                    "id": "", 
                    "n": "1"
                }
            }, 
            "outputs": [], 
            "source": "!nvidia-smi"
        }, 
        {
            "source": "\u63a5\u4e0b\u6765\u8981\u8981\u786e\u8ba4\u6b63\u786e\u5b89\u88c5\u4e86\u7684`mxnet`\u7684GPU\u7248\u672c\u3002\u5177\u4f53\u6765\u8bf4\u662f\u5378\u8f7d\u4e86`mxnet`\uff08`pip uninstall mxnet`\uff09\uff0c\u7136\u540e\u6839\u636eCUDA\u7248\u672c\u5b89\u88c5`mxnet-cu75`\u6216\u8005`mxnet-cu80`\uff08\u4f8b\u5982`pip install --pre mxnet-cu80`\uff09\u3002\n\n\u4f7f\u7528pip\u6765\u786e\u8ba4\u4e0b\uff1a", 
            "cell_type": "markdown", 
            "metadata": {}
        }, 
        {
            "execution_count": null, 
            "cell_type": "code", 
            "metadata": {
                "attributes": {
                    "classes": [], 
                    "id": "", 
                    "n": "2"
                }
            }, 
            "outputs": [], 
            "source": "import pip\nfor pkg in ['mxnet', 'mxnet-cu75', 'mxnet-cu80']:\n    pip.main(['show', pkg])"
        }, 
        {
            "source": "## Context\n\nMXNet\u4f7f\u7528Context\u6765\u6307\u5b9a\u4f7f\u7528\u54ea\u4e2a\u8bbe\u5907\u6765\u5b58\u50a8\u548c\u8ba1\u7b97\u3002\u9ed8\u8ba4\u4f1a\u5c06\u6570\u636e\u5f00\u5728\u4e3b\u5185\u5b58\uff0c\u7136\u540e\u5229\u7528CPU\u6765\u8ba1\u7b97\uff0c\u8fd9\u4e2a\u7531`mx.cpu()`\u6765\u8868\u793a\u3002GPU\u5219\u7531`mx.gpu()`\u6765\u8868\u793a\u3002\u6ce8\u610f`mx.cpu()`\u8868\u793a\u6240\u6709\u7684\u7269\u7406CPU\u548c\u5185\u5b58\uff0c\u610f\u5473\u7740\u8ba1\u7b97\u4e0a\u4f1a\u5c3d\u91cf\u4f7f\u7528\u591a\u6709\u7684CPU\u6838\u3002\u4f46`mx.gpu()`\u53ea\u4ee3\u8868\u4e00\u5757\u663e\u5361\u548c\u5176\u5bf9\u5e94\u7684\u663e\u5361\u5185\u5b58\u3002\u5982\u679c\u6709\u591a\u5757GPU\uff0c\u6211\u4eec\u7528`mx.gpu(i)`\u6765\u8868\u793a\u7b2c*i*\u5757GPU\uff08*i*\u4ece0\u5f00\u59cb\uff09\u3002", 
            "cell_type": "markdown", 
            "metadata": {}
        }, 
        {
            "execution_count": null, 
            "cell_type": "code", 
            "metadata": {
                "attributes": {
                    "classes": [], 
                    "id": "", 
                    "n": "3"
                }
            }, 
            "outputs": [], 
            "source": "import mxnet as mx\n[mx.cpu(), mx.gpu(), mx.gpu(1)]"
        }, 
        {
            "source": "## NDArray\u7684GPU\u8ba1\u7b97\n\n\u6bcf\u4e2aNDArray\u90fd\u6709\u4e00\u4e2a`context`\u5c5e\u6027\u6765\u8868\u793a\u5b83\u5b58\u5728\u54ea\u4e2a\u8bbe\u5907\u4e0a\uff0c\u9ed8\u8ba4\u4f1a\u662f`cpu`\u3002\u8fd9\u662f\u4e3a\u4ec0\u4e48\u524d\u9762\u6bcf\u6b21\u6211\u4eec\u6253\u5370NDArray\u7684\u65f6\u5019\u90fd\u4f1a\u770b\u5230`@cpu(0)`\u8fd9\u4e2a\u6807\u8bc6\u3002", 
            "cell_type": "markdown", 
            "metadata": {}
        }, 
        {
            "execution_count": null, 
            "cell_type": "code", 
            "metadata": {
                "attributes": {
                    "classes": [], 
                    "id": "", 
                    "n": "4"
                }
            }, 
            "outputs": [], 
            "source": "from mxnet import nd\nx = nd.array([1,2,3])\nx.context"
        }, 
        {
            "source": "### GPU\u4e0a\u521b\u5efa\u5185\u5b58\n\n\u6211\u4eec\u53ef\u4ee5\u5728\u521b\u5efa\u7684\u65f6\u5019\u6307\u5b9a\u521b\u5efa\u5728\u54ea\u4e2a\u8bbe\u5907\u4e0a\uff08\u5982\u679cGPU\u4e0d\u80fd\u7528\u6216\u8005\u6ca1\u6709\u88c5MXNet GPU\u7248\u672c\uff0c\u8fd9\u91cc\u4f1a\u6709error\uff09\uff1a", 
            "cell_type": "markdown", 
            "metadata": {}
        }, 
        {
            "execution_count": null, 
            "cell_type": "code", 
            "metadata": {
                "attributes": {
                    "classes": [], 
                    "id": "", 
                    "n": "5"
                }
            }, 
            "outputs": [], 
            "source": "a = nd.array([1,2,3], ctx=mx.gpu())\nb = nd.zeros((3,2), ctx=mx.gpu())\nc = nd.random.uniform(shape=(2,3), ctx=mx.gpu())\n(a,b,c)"
        }, 
        {
            "source": "\u5c1d\u8bd5\u5c06\u5185\u5b58\u5f00\u5230\u53e6\u5916\u4e00\u5757GPU\u4e0a\u3002\u5982\u679c\u4e0d\u5b58\u5728\u4f1a\u62a5\u9519\u3002\u5f53\u7136\uff0c\u5982\u679c\u4f60\u6709\u5927\u4e8e10\u5757GPU\uff0c\u90a3\u4e48\u4e0b\u9762\u4ee3\u7801\u4f1a\u987a\u5229\u6267\u884c\u3002", 
            "cell_type": "markdown", 
            "metadata": {}
        }, 
        {
            "execution_count": null, 
            "cell_type": "code", 
            "metadata": {
                "attributes": {
                    "classes": [], 
                    "id": "", 
                    "n": "6"
                }
            }, 
            "outputs": [], 
            "source": "import sys\n\ntry:\n    nd.array([1,2,3], ctx=mx.gpu(10))\nexcept mx.MXNetError as err:\n    sys.stderr.write(str(err))"
        }, 
        {
            "source": "\u6211\u4eec\u53ef\u4ee5\u901a\u8fc7`copyto`\u548c`as_in_context`\u6765\u5728\u8bbe\u5907\u76f4\u63a5\u4f20\u8f93\u6570\u636e\u3002", 
            "cell_type": "markdown", 
            "metadata": {}
        }, 
        {
            "execution_count": null, 
            "cell_type": "code", 
            "metadata": {
                "attributes": {
                    "classes": [], 
                    "id": "", 
                    "n": "7"
                }
            }, 
            "outputs": [], 
            "source": "y = x.copyto(mx.gpu())\nz = x.as_in_context(mx.gpu())\n(y, z)"
        }, 
        {
            "source": "\u8fd9\u4e24\u4e2a\u51fd\u6570\u7684\u4e3b\u8981\u533a\u522b\u662f\uff0c\u5982\u679c\u6e90\u548c\u76ee\u6807\u7684context\u4e00\u81f4\uff0c`as_in_context`\u4e0d\u590d\u5236\uff0c\u800c`copyto`\u603b\u662f\u4f1a\u65b0\u5efa\u5185\u5b58\uff1a", 
            "cell_type": "markdown", 
            "metadata": {}
        }, 
        {
            "execution_count": null, 
            "cell_type": "code", 
            "metadata": {
                "attributes": {
                    "classes": [], 
                    "id": "", 
                    "n": "8"
                }
            }, 
            "outputs": [], 
            "source": "yy = y.as_in_context(mx.gpu())\nzz = z.copyto(mx.gpu())\n(yy is y, zz is z)"
        }, 
        {
            "source": "### GPU\u4e0a\u7684\u8ba1\u7b97\n\n\u8ba1\u7b97\u4f1a\u5728\u6570\u636e\u7684`context`\u4e0a\u6267\u884c\u3002\u6240\u4ee5\u4e3a\u4e86\u4f7f\u7528GPU\uff0c\u6211\u4eec\u53ea\u9700\u8981\u4e8b\u5148\u5c06\u6570\u636e\u653e\u5728\u4e0a\u9762\u5c31\u884c\u4e86\u3002\u7ed3\u679c\u4f1a\u81ea\u52a8\u4fdd\u5b58\u5728\u5bf9\u5e94\u7684\u8bbe\u5907\u4e0a\uff1a", 
            "cell_type": "markdown", 
            "metadata": {}
        }, 
        {
            "execution_count": null, 
            "cell_type": "code", 
            "metadata": {
                "attributes": {
                    "classes": [], 
                    "id": "", 
                    "n": "9"
                }
            }, 
            "outputs": [], 
            "source": "nd.exp(z + 2) * y"
        }, 
        {
            "source": "\u6ce8\u610f\u6240\u6709\u8ba1\u7b97\u8981\u6c42\u8f93\u5165\u6570\u636e\u5728\u540c\u4e00\u4e2a\u8bbe\u5907\u4e0a\u3002\u4e0d\u4e00\u81f4\u7684\u65f6\u5019\u7cfb\u7edf\u4e0d\u8fdb\u884c\u81ea\u52a8\u590d\u5236\u3002\u8fd9\u4e2a\u8bbe\u8ba1\u7684\u76ee\u7684\u662f\u56e0\u4e3a\u8bbe\u5907\u4e4b\u95f4\u7684\u6570\u636e\u4ea4\u4e92\u901a\u5e38\u6bd4\u8f83\u6602\u8d35\uff0c\u6211\u4eec\u5e0c\u671b\u7528\u6237\u786e\u5207\u7684\u77e5\u9053\u6570\u636e\u653e\u5728\u54ea\u91cc\uff0c\u800c\u4e0d\u662f\u9690\u85cf\u8fd9\u4e2a\u7ec6\u8282\u3002\u4e0b\u9762\u4ee3\u7801\u5c1d\u8bd5\u5c06CPU\u4e0a`x`\u548cGPU\u4e0a\u7684`y`\u505a\u8fd0\u7b97\u3002", 
            "cell_type": "markdown", 
            "metadata": {}
        }, 
        {
            "execution_count": null, 
            "cell_type": "code", 
            "metadata": {
                "attributes": {
                    "classes": [], 
                    "id": "", 
                    "n": "10"
                }
            }, 
            "outputs": [], 
            "source": "try:\n    x + y\nexcept mx.MXNetError as err:\n    sys.stderr.write(str(err))"
        }, 
        {
            "source": "### \u9ed8\u8ba4\u4f1a\u590d\u5236\u56deCPU\u7684\u64cd\u4f5c\n\n\u5982\u679c\u67d0\u4e2a\u64cd\u4f5c\u9700\u8981\u5c06NDArray\u91cc\u9762\u7684\u5185\u5bb9\u8f6c\u51fa\u6765\uff0c\u4f8b\u5982\u6253\u5370\u6216\u53d8\u6210numpy\u683c\u5f0f\uff0c\u5982\u679c\u9700\u8981\u7684\u8bdd\u7cfb\u7edf\u90fd\u4f1a\u81ea\u52a8\u5c06\u6570\u636ecopy\u5230\u4e3b\u5185\u5b58\u3002", 
            "cell_type": "markdown", 
            "metadata": {}
        }, 
        {
            "execution_count": null, 
            "cell_type": "code", 
            "metadata": {
                "attributes": {
                    "classes": [], 
                    "id": "", 
                    "n": "11"
                }
            }, 
            "outputs": [], 
            "source": "print(y)\nprint(y.asnumpy())\nprint(y.sum().asscalar())"
        }, 
        {
            "source": "## Gluon\u7684GPU\u8ba1\u7b97\n\n\u540cNDArray\u7c7b\u4f3c\uff0cGluon\u7684\u5927\u90e8\u5206\u51fd\u6570\u53ef\u4ee5\u901a\u8fc7`ctx`\u6307\u5b9a\u8bbe\u5907\u3002\u4e0b\u9762\u4ee3\u7801\u5c06\u6a21\u578b\u53c2\u6570\u521d\u59cb\u5316\u5728GPU\u4e0a\uff1a", 
            "cell_type": "markdown", 
            "metadata": {}
        }, 
        {
            "execution_count": null, 
            "cell_type": "code", 
            "metadata": {
                "attributes": {
                    "classes": [], 
                    "id": "", 
                    "n": "12"
                }
            }, 
            "outputs": [], 
            "source": "from mxnet import gluon\nnet = gluon.nn.Sequential()\nnet.add(gluon.nn.Dense(1))\n\nnet.initialize(ctx=mx.gpu())"
        }, 
        {
            "source": "\u8f93\u5165GPU\u4e0a\u7684\u6570\u636e\uff0c\u4f1a\u5728GPU\u4e0a\u8ba1\u7b97\u7ed3\u679c", 
            "cell_type": "markdown", 
            "metadata": {}
        }, 
        {
            "execution_count": null, 
            "cell_type": "code", 
            "metadata": {
                "attributes": {
                    "classes": [], 
                    "id": "", 
                    "n": "13"
                }
            }, 
            "outputs": [], 
            "source": "data = nd.random.uniform(shape=[3,2], ctx=mx.gpu())\nnet(data)"
        }, 
        {
            "source": "\u786e\u8ba4\u4e0b\u6743\u91cd\uff1a", 
            "cell_type": "markdown", 
            "metadata": {}
        }, 
        {
            "execution_count": null, 
            "cell_type": "code", 
            "metadata": {
                "attributes": {
                    "classes": [], 
                    "id": "", 
                    "n": "14"
                }
            }, 
            "outputs": [], 
            "source": "net[0].weight.data()"
        }, 
        {
            "source": "## \u603b\u7ed3\n\n\u901a\u8fc7`context`\u6211\u4eec\u53ef\u4ee5\u5f88\u5bb9\u6613\u5728\u4e0d\u540c\u7684\u8bbe\u5907\u4e0a\u8ba1\u7b97\u3002\n\n## \u7ec3\u4e60\n\n- \u8bd5\u8bd5\u5927\u4e00\u70b9\u7684\u8ba1\u7b97\u4efb\u52a1\uff0c\u4f8b\u5982\u5927\u77e9\u9635\u7684\u4e58\u6cd5\uff0c\u770b\u770bCPU\u548cGPU\u7684\u901f\u5ea6\u533a\u522b\u3002\u5982\u679c\u662f\u8ba1\u7b97\u91cf\u5f88\u5c0f\u7684\u4efb\u52a1\u5462\uff1f\n- \u8bd5\u8bd5CPU\u548cGPU\u4e4b\u95f4\u4f20\u9012\u6570\u636e\u7684\u901f\u5ea6\n- GPU\u4e0a\u5982\u4f55\u8bfb\u5199\u6a21\u578b\u5462\uff1f\n\n**\u5410\u69fd\u548c\u8ba8\u8bba\u6b22\u8fce\u70b9**[\u8fd9\u91cc](https://discuss.gluon.ai/t/topic/988)", 
            "cell_type": "markdown", 
            "metadata": {}
        }
    ], 
    "metadata": {
        "kernelspec": {
            "display_name": "Python 2 with Spark 1.6 (Unsupported)", 
            "name": "python2", 
            "language": "python"
        }, 
        "language_info": {
            "mimetype": "text/x-python", 
            "nbconvert_exporter": "python", 
            "version": "2.7.11", 
            "name": "python", 
            "file_extension": ".py", 
            "pygments_lexer": "ipython2", 
            "codemirror_mode": {
                "version": 2, 
                "name": "ipython"
            }
        }
    }, 
    "nbformat": 4
}