{
    "nbformat_minor": 2, 
    "cells": [
        {
            "source": "# \u81ea\u52a8\u5e76\u884c\n\n\u5728[\u5ef6\u540e\u6267\u884c](./lazy-evaluation.md)\u91cc\u6211\u4eec\u63d0\u5230\u540e\u7aef\u7cfb\u7edf\u4f1a\u81ea\u52a8\u6784\u5efa\u8ba1\u7b97\u56fe\u3002\u901a\u8fc7\u8ba1\u7b97\u56fe\u7cfb\u7edf\u53ef\u4ee5\u77e5\u9053\u6240\u6709\u8ba1\u7b97\u7684\u4f9d\u8d56\u5173\u7cfb\uff0c\u6709\u4e86\u5b83\u7cfb\u7edf\u53ef\u4ee5\u9009\u62e9\u5c06\u6ca1\u6709\u4f9d\u8d56\u5173\u7cfb\u4efb\u52a1\u540c\u65f6\u6267\u884c\u6765\u83b7\u5f97\u6027\u80fd\u7684\u63d0\u5347\u3002\n\n\u4ecd\u7136\u8003\u8651\u4e0b\u9762\u8fd9\u4e2a\u4f8b\u5b50\uff0c\u8fd9\u91cc`a = ...`\u548c`b = ...`\u4e4b\u95f4\u6ca1\u6709\u6570\u636e\u4f9d\u8d56\u5173\u7cfb\uff0c\u4ece\u800c\u7cfb\u7edf\u53ef\u4ee5\u9009\u62e9\u5e76\u884c\u6267\u884c\u4ed6\u4eec\u3002\n\n![](https://github.com/mli/gluon-tutorials-zh/raw/master/img/frontend-backend.svg)\n\n\u901a\u5e38\u4e00\u4e2a\u8fd0\u7b97\u7b26\uff0c\u4f8b\u5982`+`\u6216\u8005`dot`\uff0c\u4f1a\u7528\u6389\u4e00\u4e2a\u8ba1\u7b97\u8bbe\u5907\u4e0a\u6240\u6709\u8ba1\u7b97\u8d44\u6e90\u3002`dot`\u540c\u6837\u7528\u5230\u6240\u6709CPU\u7684\u6838\uff08\u5373\u4f7f\u662f\u6709\u591a\u4e2aCPU\uff09\u548c\u5355GPU\u4e0a\u6240\u6709\u7ebf\u7a0b\u3002\u56e0\u6b64\u5728\u5355\u8bbe\u5907\u4e0a\u5e76\u884c\u8fd0\u884c\u591a\u4e2a\u8fd0\u7b97\u7b26\u53ef\u80fd\u6548\u679c\u5e76\u4e0d\u660e\u663e\u3002\u81ea\u52a8\u5e76\u884c\u4e3b\u8981\u7684\u7528\u9014\u662f\u591a\u8bbe\u5907\u7684\u8ba1\u7b97\u5e76\u884c\uff0c\u548c\u8ba1\u7b97\u4e0e\u901a\u8baf\u7684\u5e76\u884c\u3002\n\n\u3010\u6ce8\u610f\u3011\u672c\u7ae0\u9700\u8981\u81f3\u5c11\u4e00\u4e2aGPU\u624d\u80fd\u8fd0\u884c\u3002\n\n## \u591a\u8bbe\u5907\u7684\u5e76\u884c\u8ba1\u7b97\n\n\u6211\u4eec\u9996\u5148\u5b9a\u4e49\u4e00\u4e2a\u51fd\u6570\uff0c\u5b83\u505a10\u6b21\u77e9\u9635\u4e58\u6cd5\u3002", 
            "cell_type": "markdown", 
            "metadata": {}
        }, 
        {
            "execution_count": null, 
            "cell_type": "code", 
            "metadata": {}, 
            "outputs": [], 
            "source": "from mxnet import nd\n\ndef run(x):\n    \"\"\"push 10 matrix-matrix multiplications\"\"\"\n    return [nd.dot(x,x) for i in range(10)]"
        }, 
        {
            "source": "\u6211\u4eec\u5206\u522b\u8ba1\u7b97\u5728CPU\u548cGPU\u4e0a\u8fd0\u884c\u65f6\u95f4", 
            "cell_type": "markdown", 
            "metadata": {}
        }, 
        {
            "execution_count": null, 
            "cell_type": "code", 
            "metadata": {}, 
            "outputs": [], 
            "source": "from mxnet import gpu\nfrom time import time\n\nx_cpu = nd.random.uniform(shape=(2000,2000))\nx_gpu = nd.random.uniform(shape=(6000,6000), ctx=gpu(0))\nnd.waitall()\n\n# warm up\nrun(x_cpu)\nrun(x_gpu)\nnd.waitall()\n\nstart = time()\nrun(x_cpu)\nnd.waitall()\nprint('Run on CPU: %f sec'%(time()-start))\n\nstart = time()\nrun(x_gpu)\nnd.waitall()\nprint('Run on GPU: %f sec'%(time()-start))\n"
        }, 
        {
            "source": "\u6211\u4eec\u53bb\u6389\u4e24\u6b21`run`\u4e4b\u95f4\u7684`waitall`\uff0c\u5e0c\u671b\u7cfb\u7edf\u80fd\u81ea\u52a8\u5e76\u884c\u8fd9\u4e24\u4e2a\u4efb\u52a1\uff1a", 
            "cell_type": "markdown", 
            "metadata": {}
        }, 
        {
            "execution_count": null, 
            "cell_type": "code", 
            "metadata": {}, 
            "outputs": [], 
            "source": "start = time()\nrun(x_cpu)\nrun(x_gpu)\nnd.waitall()\nprint('Run on both CPU and GPU: %f sec'%(time()-start))"
        }, 
        {
            "source": "\u53ef\u4ee5\u770b\u5230\u4e24\u4e2a\u4e00\u8d77\u6267\u884c\u65f6\uff0c\u603b\u65f6\u95f4\u4e0d\u662f\u5206\u5f00\u6267\u884c\u7684\u603b\u548c\u3002\u8fd9\u4e2a\u8868\u793a\u540e\u7aef\u7cfb\u7edf\u80fd\u6709\u6548\u5e76\u884c\u6267\u884c\u5b83\u4eec\u3002\n\n## \u8ba1\u7b97\u548c\u901a\u8baf\u7684\u5e76\u884c\n\n\u5728\u591a\u8bbe\u5907\u8ba1\u7b97\u4e2d\uff0c\u6211\u4eec\u7ecf\u5e38\u9700\u8981\u5728\u8bbe\u5907\u4e4b\u95f4\u590d\u5236\u6570\u636e\u3002\u4f8b\u5982\u4e0b\u9762\u6211\u4eec\u5728GPU\u4e0a\u8ba1\u7b97\uff0c\u7136\u540e\u5c06\u7ed3\u679c\u590d\u5236\u56deCPU\u3002", 
            "cell_type": "markdown", 
            "metadata": {}
        }, 
        {
            "execution_count": null, 
            "cell_type": "code", 
            "metadata": {}, 
            "outputs": [], 
            "source": "from mxnet import cpu\n\ndef copy_to_cpu(x):\n    \"\"\"copy data to a device\"\"\"\n    return [y.copyto(cpu()) for y in x]\n\nstart = time()\ny = run(x_gpu)\nnd.waitall()\nprint('Run on GPU: %f sec'%(time()-start))\n\nstart = time()\ncopy_to_cpu(y)\nnd.waitall()\nprint('Copy to CPU: %f sec'%(time() - start))"
        }, 
        {
            "source": "\u540c\u6837\u6211\u4eec\u53bb\u6389\u8fd0\u884c\u548c\u590d\u5236\u4e4b\u95f4\u7684`waitall`:", 
            "cell_type": "markdown", 
            "metadata": {}
        }, 
        {
            "execution_count": null, 
            "cell_type": "code", 
            "metadata": {}, 
            "outputs": [], 
            "source": "start = time()\ny = run(x_gpu)\ncopy_to_cpu(y)\nnd.waitall()\nt = time() - start\nprint('Run on GPU then Copy to CPU: %f sec'%(time() - start))"
        }, 
        {
            "source": "\u53ef\u4ee5\u770b\u5230\u603b\u65f6\u95f4\u5c0f\u4e8e\u524d\u9762\u4e24\u8005\u4e4b\u548c\u3002\u8fd9\u4e2a\u4efb\u52a1\u7a0d\u5fae\u4e0d\u540c\u4e8e\u4e0a\u9762\uff0c\u56e0\u4e3a\u8fd0\u884c\u548c\u590d\u5236\u4e4b\u95f4\u6709\u4f9d\u8d56\u5173\u7cfb\u3002\u5c31\u662f`y[i]`\u5fc5\u987b\u5148\u8ba1\u7b97\u597d\u624d\u80fd\u590d\u5236\u5230CPU\u3002\u4f46\u5728\u8ba1\u7b97`y[i]`\u7684\u65f6\u5019\u7cfb\u7edf\u53ef\u4ee5\u590d\u5236`y[i-1]`\uff0c\u4ece\u800c\u83b7\u5f97\u603b\u8fd0\u884c\u65f6\u95f4\u7684\u51cf\u5c11\u3002\n\n## \u603b\u7ed3\n\nMXNet\u80fd\u591f\u81ea\u52a8\u5e76\u884c\u6267\u884c\u6ca1\u6709\u6570\u636e\u4f9d\u8d56\u5173\u7cfb\u7684\u4efb\u52a1\u4ece\u800c\u63d0\u5347\u7cfb\u7edf\u6027\u80fd\u3002\n\n## \u7ec3\u4e60\n\n- `run`\u91cc\u9762\u8ba1\u7b97\u4e8610\u6b21\u8fd0\u7b97\uff0c\u4ed6\u4eec\u4e5f\u6ca1\u6709\u4f9d\u8d56\u5173\u7cfb\u3002\u770b\u770b\u7cfb\u7edf\u6709\u6ca1\u6709\u81ea\u52a8\u5e76\u884c\u6267\u884c\u4ed6\u4eec\n- \u8bd5\u8bd5\u6709\u66f4\u52a0\u590d\u6742\u6570\u636e\u4f9d\u8d56\u7684\u4efb\u52a1\uff0c\u770b\u770b\u7cfb\u7edf\u80fd\u4e0d\u80fd\u5f97\u5230\u6b63\u786e\u7684\u7ed3\u679c\uff0c\u800c\u4e14\u6027\u80fd\u6709\u63d0\u5347\u5417\uff1f\n\n**\u5410\u69fd\u548c\u8ba8\u8bba\u6b22\u8fce\u70b9**[\u8fd9\u91cc](https://discuss.gluon.ai/t/topic/1883)", 
            "cell_type": "markdown", 
            "metadata": {}
        }
    ], 
    "metadata": {
        "kernelspec": {
            "display_name": "Python 2 with Spark 1.6 (Unsupported)", 
            "name": "python2", 
            "language": "python"
        }, 
        "language_info": {
            "mimetype": "text/x-python", 
            "nbconvert_exporter": "python", 
            "version": "2.7.11", 
            "name": "python", 
            "file_extension": ".py", 
            "pygments_lexer": "ipython2", 
            "codemirror_mode": {
                "version": 2, 
                "name": "ipython"
            }
        }
    }, 
    "nbformat": 4
}