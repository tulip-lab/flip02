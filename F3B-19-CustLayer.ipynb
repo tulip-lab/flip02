{
    "nbformat_minor": 2, 
    "cells": [
        {
            "source": "# \u8bbe\u8ba1\u81ea\u5b9a\u4e49\u5c42\n\n\u795e\u7ecf\u7f51\u7edc\u7684\u4e00\u4e2a\u9b45\u529b\u662f\u5b83\u6709\u5927\u91cf\u7684\u5c42\uff0c\u4f8b\u5982\u5168\u8fde\u63a5\u3001\u5377\u79ef\u3001\u5faa\u73af\u3001\u6fc0\u6d3b\uff0c\u548c\u5404\u5f0f\u82b1\u6837\u7684\u8fde\u63a5\u65b9\u5f0f\u3002\u6211\u4eec\u4e4b\u524d\u5b66\u5230\u4e86\u5982\u4f55\u4f7f\u7528Gluon\u63d0\u4f9b\u7684\u5c42\u6765\u6784\u5efa\u65b0\u7684\u5c42(`nn.Block`)\u7ee7\u800c\u5f97\u5230\u795e\u7ecf\u7f51\u7edc\u3002\u867d\u7136Gluon\u63d0\u4f9b\u4e86\u5927\u91cf\u7684[\u5c42\u7684\u5b9a\u4e49](https://mxnet.incubator.apache.org/versions/master/api/python/gluon/gluon.html#neural-network-layers)\uff0c\u4f46\u6211\u4eec\u4ecd\u7136\u4f1a\u9047\u5230\u73b0\u6709\u5c42\u4e0d\u591f\u7528\u7684\u60c5\u51b5\u3002\n\n\u8fd9\u65f6\u5019\u7684\u4e00\u4e2a\u81ea\u7136\u7684\u60f3\u6cd5\u662f\uff0c\u6211\u4eec\u4e0d\u662f\u5b66\u4e60\u4e86\u5982\u4f55\u53ea\u4f7f\u7528\u57fa\u7840\u6570\u503c\u8fd0\u7b97\u5305`NDArray`\u6765\u5b9e\u73b0\u5404\u79cd\u7684\u6a21\u578b\u5417\uff1f\u5b83\u63d0\u4f9b\u4e86\u5927\u91cf\u7684[\u5e95\u5c42\u8ba1\u7b97\u51fd\u6570](https://mxnet.incubator.apache.org/versions/master/api/python/ndarray/ndarray.html)\u8db3\u4ee5\u5b9e\u73b0\u5373\u4f7f\u4e0d\u662f100%\u90a3\u4e5f\u662f95%\u7684\u795e\u7ecf\u7f51\u7edc\u5427\u3002\n\n\u4f46\u6bcf\u6b21\u90fd\u4ece\u5934\u5199\u5bb9\u6613\u5199\u5230\u6000\u7591\u4eba\u751f\u3002\u5b9e\u9645\u4e0a\uff0c\u5373\u4f7f\u5728\u7eaf\u7814\u7a76\u7684\u9886\u57df\u91cc\uff0c\u6211\u4eec\u4e5f\u5f88\u5c11\u53d1\u73b0\u7eaf\u65b0\u7684\u4e1c\u897f\uff0c\u5927\u90e8\u5206\u65f6\u5019\u662f\u5728\u73b0\u6709\u6a21\u578b\u7684\u57fa\u7840\u4e0a\u505a\u4e00\u4e9b\u6539\u8fdb\u3002\u6240\u4ee5\u5f88\u53ef\u80fd\u5927\u90e8\u5206\u662f\u53ef\u4ee5\u6cbf\u7528\u524d\u9762\u7684\u800c\u53ea\u6709\u4e00\u90e8\u5206\u662f\u9700\u8981\u81ea\u5df1\u6765\u5b9e\u73b0\u3002\n\n\u8fd9\u4e2a\u6559\u7a0b\u6211\u4eec\u5c06\u4ecb\u7ecd\u5982\u4f55\u4f7f\u7528\u5e95\u5c42\u7684`NDArray`\u63a5\u53e3\u6765\u5b9e\u73b0\u4e00\u4e2a`Gluon`\u7684\u5c42\uff0c\u4ece\u800c\u53ef\u4ee5\u4ee5\u540e\u88ab\u91cd\u590d\u8c03\u7528\u3002\n\n## \u5b9a\u4e49\u4e00\u4e2a\u7b80\u5355\u7684\u5c42\n\n\u6211\u4eec\u5148\u6765\u770b\u5982\u4f55\u5b9a\u4e49\u4e00\u4e2a\u7b80\u5355\u5c42\uff0c\u5b83\u4e0d\u9700\u8981\u7ef4\u62a4\u6a21\u578b\u53c2\u6570\u3002\u4e8b\u5b9e\u4e0a\u8fd9\u4e2a\u8ddf\u524d\u9762\u4ecb\u7ecd\u7684\u5982\u4f55\u4f7f\u7528nn.Block\u6ca1\u4ec0\u4e48\u533a\u522b\u3002\u4e0b\u9762\u4ee3\u7801\u5b9a\u4e49\u4e00\u4e2a\u5c42\u5c06\u8f93\u5165\u51cf\u6389\u5747\u503c\u3002", 
            "cell_type": "markdown", 
            "metadata": {}
        }, 
        {
            "execution_count": 1, 
            "cell_type": "code", 
            "metadata": {
                "attributes": {
                    "classes": [], 
                    "id": "", 
                    "n": "1"
                }
            }, 
            "outputs": [], 
            "source": "from mxnet import nd\nfrom mxnet.gluon import nn\n\nclass CenteredLayer(nn.Block):\n    def __init__(self, **kwargs):\n        super(CenteredLayer, self).__init__(**kwargs)\n        \n    def forward(self, x):\n        return x - x.mean()"
        }, 
        {
            "source": "\u6211\u4eec\u53ef\u4ee5\u9a6c\u4e0a\u5b9e\u4f8b\u5316\u8fd9\u4e2a\u5c42\u7528\u8d77\u6765\u3002", 
            "cell_type": "markdown", 
            "metadata": {}
        }, 
        {
            "execution_count": 2, 
            "cell_type": "code", 
            "metadata": {
                "attributes": {
                    "classes": [], 
                    "id": "", 
                    "n": "2"
                }
            }, 
            "outputs": [
                {
                    "execution_count": 2, 
                    "metadata": {}, 
                    "data": {
                        "text/plain": "\n[-2. -1.  0.  1.  2.]\n<NDArray 5 @cpu(0)>"
                    }, 
                    "output_type": "execute_result"
                }
            ], 
            "source": "layer = CenteredLayer()\nlayer(nd.array([1,2,3,4,5]))"
        }, 
        {
            "source": "\u6211\u4eec\u4e5f\u53ef\u4ee5\u7528\u5b83\u6765\u6784\u9020\u66f4\u590d\u6742\u7684\u795e\u7ecf\u7f51\u7edc\uff1a", 
            "cell_type": "markdown", 
            "metadata": {}
        }, 
        {
            "execution_count": 3, 
            "cell_type": "code", 
            "metadata": {
                "attributes": {
                    "classes": [], 
                    "id": "", 
                    "n": "3"
                }
            }, 
            "outputs": [], 
            "source": "net = nn.Sequential()\nwith net.name_scope():\n    net.add(nn.Dense(128))\n    net.add(nn.Dense(10))\n    net.add(CenteredLayer())"
        }, 
        {
            "source": "\u786e\u8ba4\u4e0b\u8f93\u51fa\u7684\u5747\u503c\u786e\u5b9e\u662f0\uff1a", 
            "cell_type": "markdown", 
            "metadata": {}
        }, 
        {
            "execution_count": 4, 
            "cell_type": "code", 
            "metadata": {
                "attributes": {
                    "classes": [], 
                    "id": "", 
                    "n": "4"
                }
            }, 
            "outputs": [
                {
                    "execution_count": 4, 
                    "metadata": {}, 
                    "data": {
                        "text/plain": "\n[ -6.63567312e-10]\n<NDArray 1 @cpu(0)>"
                    }, 
                    "output_type": "execute_result"
                }
            ], 
            "source": "net.initialize()\ny = net(nd.random.uniform(shape=(4, 8)))\ny.mean()"
        }, 
        {
            "source": "\u5f53\u7136\u5927\u90e8\u5206\u60c5\u51b5\u4f60\u53ef\u4ee5\u770b\u4e0d\u5230\u4e00\u4e2a\u5b9e\u5b9e\u5728\u5728\u76840\uff0c\u800c\u662f\u4e00\u4e2a\u5f88\u5c0f\u7684\u6570\u3002\u4f8b\u5982`5.82076609e-11`\u3002\u8fd9\u662f\u56e0\u4e3aMXNet\u9ed8\u8ba4\u4f7f\u752832\u4f4dfloat\uff0c\u4f1a\u5e26\u6765\u4e00\u5b9a\u7684\u6d6e\u70b9\u7cbe\u5ea6\u8bef\u5dee\u3002\n\n## \u5e26\u6a21\u578b\u53c2\u6570\u7684\u81ea\u5b9a\u4e49\u5c42\n\n\u867d\u7136`CenteredLayer`\u53ef\u80fd\u4f1a\u544a\u8bc9\u5b9e\u73b0\u81ea\u5b9a\u4e49\u5c42\u5927\u6982\u662f\u4ec0\u4e48\u6837\u5b50\uff0c\u4f46\u5b83\u7f3a\u5c11\u4e86\u91cd\u8981\u7684\u4e00\u5757\uff0c\u5c31\u662f\u5b83\u6ca1\u6709\u53ef\u4ee5\u5b66\u4e60\u7684\u6a21\u578b\u53c2\u6570\u3002\n\n\u8bb0\u5f97\u6211\u4eec\u4e4b\u524d\u8bbf\u95ee`Dense`\u7684\u6743\u91cd\u7684\u65f6\u5019\u662f\u901a\u8fc7`dense.weight.data()`\uff0c\u8fd9\u91cc`weight`\u662f\u4e00\u4e2a`Parameter`\u7684\u7c7b\u578b\u3002\u6211\u4eec\u53ef\u4ee5\u663e\u793a\u7684\u6784\u5efa\u8fd9\u6837\u7684\u4e00\u4e2a\u53c2\u6570\u3002", 
            "cell_type": "markdown", 
            "metadata": {}
        }, 
        {
            "execution_count": 5, 
            "cell_type": "code", 
            "metadata": {
                "attributes": {
                    "classes": [], 
                    "id": "", 
                    "n": "5"
                }
            }, 
            "outputs": [], 
            "source": "from mxnet import gluon\nmy_param = gluon.Parameter(\"exciting_parameter_yay\", shape=(3,3))"
        }, 
        {
            "source": "\u8fd9\u91cc\u6211\u4eec\u521b\u5efa\u4e00\u4e2a$3\\times3$\u5927\u5c0f\u7684\u53c2\u6570\u5e76\u53d6\u540d\u4e3a\"exciting_parameter_yay\"\u3002\u7136\u540e\u7528\u9ed8\u8ba4\u65b9\u6cd5\u521d\u59cb\u5316\u6253\u5370\u7ed3\u679c\u3002", 
            "cell_type": "markdown", 
            "metadata": {}
        }, 
        {
            "execution_count": 6, 
            "cell_type": "code", 
            "metadata": {
                "attributes": {
                    "classes": [], 
                    "id": "", 
                    "n": "6"
                }
            }, 
            "outputs": [
                {
                    "execution_count": 6, 
                    "metadata": {}, 
                    "data": {
                        "text/plain": "(\n [[-0.02548236  0.05326662 -0.01200318]\n  [ 0.05855297 -0.06101935 -0.0396449 ]\n  [ 0.0269461   0.00912645  0.0093242 ]]\n <NDArray 3x3 @cpu(0)>, \n [[ 0.  0.  0.]\n  [ 0.  0.  0.]\n  [ 0.  0.  0.]]\n <NDArray 3x3 @cpu(0)>)"
                    }, 
                    "output_type": "execute_result"
                }
            ], 
            "source": "my_param.initialize()\n(my_param.data(), my_param.grad())"
        }, 
        {
            "source": "\u901a\u5e38\u81ea\u5b9a\u4e49\u5c42\u7684\u65f6\u5019\u6211\u4eec\u4e0d\u4f1a\u76f4\u63a5\u521b\u5efaParameter\uff0c\u800c\u662f\u7528\u8fc7Block\u81ea\u5e26\u7684\u4e00\u4e2aParamterDict\u7c7b\u578b\u7684\u6210\u5458\u53d8\u91cf`params`\uff0c\u987e\u540d\u601d\u4e49\uff0c\u8fd9\u662f\u4e00\u4e2a\u7531\u5b57\u7b26\u4e32\u540d\u5b57\u6620\u5c04\u5230Parameter\u7684\u5b57\u5178\u3002", 
            "cell_type": "markdown", 
            "metadata": {}
        }, 
        {
            "execution_count": 7, 
            "cell_type": "code", 
            "metadata": {
                "attributes": {
                    "classes": [], 
                    "id": "", 
                    "n": "7"
                }
            }, 
            "outputs": [
                {
                    "execution_count": 7, 
                    "metadata": {}, 
                    "data": {
                        "text/plain": "block1_ (\n  Parameter block1_exciting_parameter_yay (shape=(3, 3), dtype=<type 'numpy.float32'>)\n)"
                    }, 
                    "output_type": "execute_result"
                }
            ], 
            "source": "pd = gluon.ParameterDict(prefix=\"block1_\")\npd.get(\"exciting_parameter_yay\", shape=(3,3))\npd"
        }, 
        {
            "source": "\u73b0\u5728\u6211\u4eec\u770b\u4e0b\u5982\u679c\u5b9e\u73b0\u4e00\u4e2a\u8ddf`Dense`\u4e00\u6837\u529f\u80fd\u7684\u5c42\uff0c\u5b83\u6982\u5ff5\u8ddf\u524d\u9762\u7684`CenteredLayer`\u7684\u4e3b\u8981\u533a\u522b\u662f\u6211\u4eec\u5728\u521d\u59cb\u51fd\u6570\u91cc\u901a\u8fc7`params`\u521b\u5efa\u4e86\u53c2\u6570\uff1a", 
            "cell_type": "markdown", 
            "metadata": {}
        }, 
        {
            "execution_count": 9, 
            "cell_type": "code", 
            "metadata": {
                "attributes": {
                    "classes": [], 
                    "id": "", 
                    "n": "19"
                }
            }, 
            "outputs": [], 
            "source": "class MyDense(nn.Block):\n    def __init__(self, units, in_units, **kwargs):\n        super(MyDense, self).__init__(**kwargs)\n        with self.name_scope():\n            self.weight = self.params.get(\n                'weight', shape=(in_units, units))\n            self.bias = self.params.get('bias', shape=(units,))        \n\n    def forward(self, x):\n        linear = nd.dot(x, self.weight.data()) + self.bias.data()\n        return nd.relu(linear)"
        }, 
        {
            "source": "\u6211\u4eec\u521b\u5efa\u5b9e\u4f8b\u5316\u4e00\u4e2a\u5bf9\u8c61\u6765\u770b\u4e0b\u5b83\u7684\u53c2\u6570\uff0c\u8fd9\u91cc\u6211\u4eec\u7279\u610f\u52a0\u4e86\u524d\u7f00`prefix`\uff0c\u8fd9\u662f`nn.Block`\u521d\u59cb\u5316\u51fd\u6570\u81ea\u5e26\u7684\u53c2\u6570\u3002", 
            "cell_type": "markdown", 
            "metadata": {}
        }, 
        {
            "execution_count": 10, 
            "cell_type": "code", 
            "metadata": {}, 
            "outputs": [
                {
                    "execution_count": 10, 
                    "metadata": {}, 
                    "data": {
                        "text/plain": "o_my_dense_ (\n  Parameter o_my_dense_weight (shape=(10, 5), dtype=<type 'numpy.float32'>)\n  Parameter o_my_dense_bias (shape=(5,), dtype=<type 'numpy.float32'>)\n)"
                    }, 
                    "output_type": "execute_result"
                }
            ], 
            "source": "dense = MyDense(5, in_units=10, prefix='o_my_dense_')\ndense.params"
        }, 
        {
            "source": "\u5b83\u7684\u4f7f\u7528\u8ddf\u524d\u9762\u6ca1\u6709\u4ec0\u4e48\u4e0d\u4e00\u81f4\uff1a", 
            "cell_type": "markdown", 
            "metadata": {}
        }, 
        {
            "execution_count": 11, 
            "cell_type": "code", 
            "metadata": {
                "attributes": {
                    "classes": [], 
                    "id": "", 
                    "n": "20"
                }
            }, 
            "outputs": [
                {
                    "execution_count": 11, 
                    "metadata": {}, 
                    "data": {
                        "text/plain": "\n[[ 0.          0.          0.0301928   0.09594411  0.13613266]\n [ 0.          0.          0.00460232  0.10275271  0.15692513]]\n<NDArray 2x5 @cpu(0)>"
                    }, 
                    "output_type": "execute_result"
                }
            ], 
            "source": "dense.initialize()\ndense(nd.random.uniform(shape=(2,10)))"
        }, 
        {
            "source": "\u6211\u4eec\u6784\u9020\u7684\u5c42\u8ddfGluon\u63d0\u4f9b\u7684\u5c42\u7528\u8d77\u6765\u6ca1\u592a\u591a\u533a\u522b\uff1a", 
            "cell_type": "markdown", 
            "metadata": {}
        }, 
        {
            "execution_count": 12, 
            "cell_type": "code", 
            "metadata": {
                "attributes": {
                    "classes": [], 
                    "id": "", 
                    "n": "19"
                }
            }, 
            "outputs": [
                {
                    "execution_count": 12, 
                    "metadata": {}, 
                    "data": {
                        "text/plain": "\n[[ 0.          0.06250843]\n [ 0.00077506  0.08170694]]\n<NDArray 2x2 @cpu(0)>"
                    }, 
                    "output_type": "execute_result"
                }
            ], 
            "source": "net = nn.Sequential()\nwith net.name_scope():\n    net.add(MyDense(32, in_units=64))\n    net.add(MyDense(2, in_units=32))\nnet.initialize()\nnet(nd.random.uniform(shape=(2,64)))"
        }, 
        {
            "source": "\u4ed4\u7ec6\u7684\u4f60\u53ef\u80fd\u8fd8\u662f\u6ce8\u610f\u5230\u4e86\uff0c\u6211\u4eec\u8fd9\u91cc\u6307\u5b9a\u4e86\u8f93\u5165\u7684\u5927\u5c0f\uff0c\u800cGluon\u81ea\u5e26\u7684`Dense`\u5219\u65e0\u9700\u5982\u6b64\u3002\u6211\u4eec\u5df2\u7ecf\u5728\u524d\u9762\u8282\u4ecb\u7ecd\u8fc7\u4e86\u8fd9\u4e2a\u5ef6\u8fdf\u521d\u59cb\u5316\u5982\u4f55\u4f7f\u7528\u3002\u4f46\u5982\u679c\u5b9e\u73b0\u4e00\u4e2a\u8fd9\u6837\u7684\u5c42\u6211\u4eec\u5c06\u7559\u5230\u540e\u9762\u4ecb\u7ecd\u4e86hybridize\u540e\u3002\n\n## \u603b\u7ed3\n\n\u73b0\u5728\u6211\u4eec\u77e5\u9053\u4e86\u5982\u4f55\u628a\u524d\u9762\u624b\u5199\u8fc7\u7684\u5c42\u5168\u90e8\u5305\u88c5\u4e86Gluon\u80fd\u7528\u7684Block\uff0c\u4e4b\u540e\u518d\u7528\u5230\u7684\u65f6\u5019\u5c31\u53ef\u4ee5\u98de\u8d77\u6765\u4e86\uff01\n\n## \u7ec3\u4e60\n\n1. \u600e\u4e48\u4fee\u6539\u81ea\u5b9a\u4e49\u5c42\u91cc\u53c2\u6570\u7684\u9ed8\u8ba4\u521d\u59cb\u5316\u51fd\u6570\u3002\n1. (\u8fd9\u4e2a\u6bd4\u8f83\u96be\uff09\uff0c\u5728\u4e00\u4e2a\u4ee3\u7801Cell\u91cc\u9762\u8f93\u5165`nn.Dense??`\uff0c\u770b\u770b\u5b83\u662f\u600e\u4e48\u5b9e\u73b0\u7684\u3002\u4e3a\u4ec0\u4e48\u5b83\u5c31\u53ef\u4ee5\u652f\u6301\u5ef6\u8fdf\u521d\u59cb\u5316\u4e86\u3002\n\n**\u5410\u69fd\u548c\u8ba8\u8bba\u6b22\u8fce\u70b9**[\u8fd9\u91cc](https://discuss.gluon.ai/t/topic/1256)", 
            "cell_type": "markdown", 
            "metadata": {}
        }
    ], 
    "metadata": {
        "kernelspec": {
            "display_name": "Python 2 with Spark 1.6 (Unsupported)", 
            "name": "python2", 
            "language": "python"
        }, 
        "language_info": {
            "mimetype": "text/x-python", 
            "nbconvert_exporter": "python", 
            "version": "2.7.11", 
            "name": "python", 
            "file_extension": ".py", 
            "pygments_lexer": "ipython2", 
            "codemirror_mode": {
                "version": 2, 
                "name": "ipython"
            }
        }
    }, 
    "nbformat": 4
}