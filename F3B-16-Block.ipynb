{
    "nbformat_minor": 2, 
    "cells": [
        {
            "source": "# \u521b\u5efa\u795e\u7ecf\u7f51\u7edc\n\n\u524d\u9762\u7684\u6559\u7a0b\u6211\u4eec\u6559\u4e86\u5927\u5bb6\u5982\u4f55\u5b9e\u73b0\u7ebf\u6027\u56de\u5f52\uff0c\u591a\u7c7bLogistic\u56de\u5f52\u548c\u591a\u5c42\u611f\u77e5\u673a\u3002\u6211\u4eec\u65e2\u5c55\u793a\u4e86\u5982\u4f55\u4ece0\u5f00\u59cb\u5b9e\u73b0\uff0c\u4e5f\u63d0\u4f9b\u4f7f\u7528`gluon`\u7684\u66f4\u7d27\u51d1\u7684\u5b9e\u73b0\u3002\u56e0\u4e3a\u524d\u9762\u6211\u4eec\u4e3b\u8981\u5173\u6ce8\u5728\u6a21\u578b\u672c\u8eab\uff0c\u6240\u4ee5\u53ea\u89e3\u91ca\u4e86\u5982\u4f55\u4f7f\u7528`gluon`\uff0c\u4f46\u6ca1\u8bf4\u660e\u4ed6\u4eec\u662f\u5982\u4f55\u5de5\u4f5c\u7684\u3002\u6211\u4eec\u4f7f\u7528\u4e86`nn.Sequential`\uff0c\u5b83\u662f`nn.Block`\u7684\u4e00\u4e2a\u7b80\u5355\u5f62\u5f0f\uff0c\u4f46\u6ca1\u6709\u6df1\u5165\u4e86\u89e3\u5b83\u4eec\u3002\n\n\u672c\u6559\u7a0b\u548c\u63a5\u4e0b\u6765\u51e0\u4e2a\u6559\u7a0b\uff0c\u6211\u4eec\u5c06\u8be6\u7ec6\u89e3\u91ca\u5982\u4f55\u4f7f\u7528\u8fd9\u4e24\u4e2a\u7c7b\u6765\u5b9a\u4e49\u795e\u7ecf\u7f51\u7edc\u3001\u521d\u59cb\u5316\u53c2\u6570\u3001\u4ee5\u53ca\u4fdd\u5b58\u548c\u8bfb\u53d6\u6a21\u578b\u3002\n\n\u6211\u4eec\u91cd\u65b0\u628a[\u591a\u5c42\u611f\u77e5\u673a --- \u4f7f\u7528Gluon](../chapter_supervised-learning/mlp-gluon.md)\u91cc\u7684\u7f51\u7edc\u5b9a\u4e49\u642c\u5230\u8fd9\u91cc\u4f5c\u4e3a\u5f00\u59cb\u7684\u4f8b\u5b50\uff08\u4e3a\u4e86\u7b80\u5355\u8d77\u89c1\uff0c\u8fd9\u91cc\u6211\u4eec\u4e22\u6389\u4e86Flatten\u5c42\uff09\u3002", 
            "cell_type": "markdown", 
            "metadata": {}
        }, 
        {
            "execution_count": null, 
            "cell_type": "code", 
            "metadata": {
                "attributes": {
                    "classes": [], 
                    "id": "", 
                    "n": "9"
                }
            }, 
            "outputs": [], 
            "source": "from mxnet import nd\nfrom mxnet.gluon import nn\n\nnet = nn.Sequential()\nwith net.name_scope():\n    net.add(nn.Dense(256, activation=\"relu\"))\n    net.add(nn.Dense(10))\n\nprint(net)"
        }, 
        {
            "source": "## \u4f7f\u7528 `nn.Block` \u6765\u5b9a\u4e49\n\n\u4e8b\u5b9e\u4e0a\uff0c`nn.Sequential`\u662f`nn.Block`\u7684\u7b80\u5355\u5f62\u5f0f\u3002\u6211\u4eec\u5148\u6765\u770b\u4e0b\u5982\u4f55\u4f7f\u7528`nn.Block`\u6765\u5b9e\u73b0\u540c\u6837\u7684\u7f51\u7edc\u3002", 
            "cell_type": "markdown", 
            "metadata": {}
        }, 
        {
            "execution_count": null, 
            "cell_type": "code", 
            "metadata": {
                "attributes": {
                    "classes": [], 
                    "id": "", 
                    "n": "10"
                }
            }, 
            "outputs": [], 
            "source": "class MLP(nn.Block):\n    def __init__(self, **kwargs):\n        super(MLP, self).__init__(**kwargs)\n        with self.name_scope():\n            self.dense0 = nn.Dense(256)\n            self.dense1 = nn.Dense(10)\n\n    def forward(self, x):\n        return self.dense1(nd.relu(self.dense0(x)))"
        }, 
        {
            "source": "\u53ef\u4ee5\u770b\u5230`nn.Block`\u7684\u4f7f\u7528\u662f\u901a\u8fc7\u521b\u5efa\u4e00\u4e2a\u5b83\u5b50\u7c7b\u7684\u7c7b\uff0c\u5176\u4e2d\u81f3\u5c11\u5305\u542b\u4e86\u4e24\u4e2a\u51fd\u6570\u3002\n\n- `__init__`\uff1a\u521b\u5efa\u53c2\u6570\u3002\u4e0a\u9762\u4f8b\u5b50\u6211\u4eec\u4f7f\u7528\u4e86\u5305\u542b\u4e86\u53c2\u6570\u7684`dense`\u5c42\n- `forward()`\uff1a\u5b9a\u4e49\u7f51\u7edc\u7684\u8ba1\u7b97\n\n\u6211\u4eec\u6240\u521b\u5efa\u7684\u7c7b\u7684\u4f7f\u7528\u8ddf\u524d\u9762`net`\u6ca1\u6709\u592a\u591a\u4e0d\u4e00\u6837\u3002", 
            "cell_type": "markdown", 
            "metadata": {}
        }, 
        {
            "execution_count": null, 
            "cell_type": "code", 
            "metadata": {
                "attributes": {
                    "classes": [], 
                    "id": "", 
                    "n": "15"
                }
            }, 
            "outputs": [], 
            "source": "net2 = MLP()\nprint(net2)\nnet2.initialize()\nx = nd.random.uniform(shape=(4,20))\ny = net2(x)\ny"
        }, 
        {
            "execution_count": null, 
            "cell_type": "code", 
            "metadata": {}, 
            "outputs": [], 
            "source": "nn.Dense"
        }, 
        {
            "source": "\u5982\u4f55\u5b9a\u4e49\u521b\u5efa\u548c\u4f7f\u7528`nn.Dense`\u6bd4\u8f83\u597d\u7406\u89e3\u3002\u63a5\u4e0b\u6765\u6211\u4eec\u4ed4\u7ec6\u770b\u4e0b`MLP`\u91cc\u9762\u7528\u7684\u5176\u4ed6\u547d\u4ee4\uff1a\n\n- `super(MLP, self).__init__(**kwargs)`\uff1a\u8fd9\u53e5\u8bdd\u8c03\u7528`nn.Block`\u7684`__init__`\u51fd\u6570\uff0c\u5b83\u63d0\u4f9b\u4e86`prefix`\uff08\u6307\u5b9a\u540d\u5b57\uff09\u548c`params`\uff08\u6307\u5b9a\u6a21\u578b\u53c2\u6570\uff09\u4e24\u4e2a\u53c2\u6570\u3002\u6211\u4eec\u4f1a\u4e4b\u540e\u8be6\u7ec6\u89e3\u91ca\u5982\u4f55\u4f7f\u7528\u3002\n\n- `self.name_scope()`\uff1a\u8c03\u7528`nn.Block`\u63d0\u4f9b\u7684`name_scope()`\u51fd\u6570\u3002`nn.Dense`\u7684\u5b9a\u4e49\u653e\u5728\u8fd9\u4e2a`scope`\u91cc\u9762\u3002\u5b83\u7684\u4f5c\u7528\u662f\u7ed9\u91cc\u9762\u7684\u6240\u6709\u5c42\u548c\u53c2\u6570\u7684\u540d\u5b57\u52a0\u4e0a\u524d\u7f00\uff08prefix\uff09\u4f7f\u5f97\u4ed6\u4eec\u5728\u7cfb\u7edf\u91cc\u9762\u72ec\u4e00\u65e0\u4e8c\u3002\u9ed8\u8ba4\u81ea\u52a8\u4f1a\u81ea\u52a8\u751f\u6210\u524d\u7f00\uff0c\u6211\u4eec\u4e5f\u53ef\u4ee5\u5728\u521b\u5efa\u7684\u65f6\u5019\u624b\u52a8\u6307\u5b9a\u3002\u63a8\u8350\u5728\u6784\u5efa\u7f51\u7edc\u65f6\uff0c\u6bcf\u4e2a\u5c42\u81f3\u5c11\u5728\u4e00\u4e2a`name_scope()`\u91cc\u3002", 
            "cell_type": "markdown", 
            "metadata": {}
        }, 
        {
            "execution_count": null, 
            "cell_type": "code", 
            "metadata": {}, 
            "outputs": [], 
            "source": "print('default prefix:', net2.dense0.name)\n\nnet3 = MLP(prefix='another_mlp_')\nprint('customized prefix:', net3.dense0.name)"
        }, 
        {
            "source": "\u5927\u5bb6\u4f1a\u53d1\u73b0\u8fd9\u91cc\u5e76\u6ca1\u6709\u5b9a\u4e49\u5982\u4f55\u6c42\u5bfc\uff0c\u6216\u8005\u662f`backward()`\u51fd\u6570\u3002\u4e8b\u5b9e\u4e0a\uff0c\u7cfb\u7edf\u4f1a\u4f7f\u7528`autograd`\u5bf9`forward()`\u81ea\u52a8\u751f\u6210\u5bf9\u5e94\u7684`backward()`\u51fd\u6570\u3002\n\n## `nn.Block`\u5230\u5e95\u662f\u4ec0\u4e48\u4e1c\u897f\uff1f\n\n\u5728`gluon`\u91cc\uff0c`nn.Block`\u662f\u4e00\u4e2a\u4e00\u822c\u5316\u7684\u90e8\u4ef6\u3002\u6574\u4e2a\u795e\u7ecf\u7f51\u7edc\u53ef\u4ee5\u662f\u4e00\u4e2a`nn.Block`\uff0c\u5355\u4e2a\u5c42\u4e5f\u662f\u4e00\u4e2a`nn.Block`\u3002\u6211\u4eec\u53ef\u4ee5\uff08\u8fd1\u4f3c\uff09\u65e0\u9650\u5730\u5d4c\u5957`nn.Block`\u6765\u6784\u5efa\u65b0\u7684`nn.Block`\u3002\n\n`nn.Block`\u4e3b\u8981\u63d0\u4f9b\u8fd9\u4e2a\u4e1c\u897f\n\n1. \u5b58\u50a8\u53c2\u6570\n2. \u63cf\u8ff0`forward`\u5982\u4f55\u6267\u884c\n3. \u81ea\u52a8\u6c42\u5bfc\n\n## \u90a3\u4e48\u73b0\u5728\u53ef\u4ee5\u89e3\u91ca`nn.Sequential`\u4e86\u5427\n\n`nn.Sequential`\u662f\u4e00\u4e2a`nn.Block`\u5bb9\u5668\uff0c\u5b83\u901a\u8fc7`add`\u6765\u6dfb\u52a0`nn.Block`\u3002\u5b83\u81ea\u52a8\u751f\u6210`forward()`\u51fd\u6570\uff0c\u5176\u5c31\u662f\u628a\u52a0\u8fdb\u6765\u7684`nn.Block`\u9010\u4e00\u8fd0\u884c\u3002\n\n\u4e00\u4e2a\u7b80\u5355\u7684\u5b9e\u73b0\u662f\u8fd9\u6837\u7684\uff1a", 
            "cell_type": "markdown", 
            "metadata": {}
        }, 
        {
            "execution_count": null, 
            "cell_type": "code", 
            "metadata": {}, 
            "outputs": [], 
            "source": "class Sequential(nn.Block):\n    def __init__(self, **kwargs):\n        super(Sequential, self).__init__(**kwargs)\n    def add(self, block):\n        self._children.append(block)\n    def forward(self, x):\n        for block in self._children:\n            x = block(x)\n        return x"
        }, 
        {
            "source": "\u53ef\u4ee5\u8ddf`nn.Sequential`\u4e00\u6837\u7684\u4f7f\u7528\u8fd9\u4e2a\u81ea\u5b9a\u4e49\u7684\u7c7b\uff1a", 
            "cell_type": "markdown", 
            "metadata": {}
        }, 
        {
            "execution_count": null, 
            "cell_type": "code", 
            "metadata": {}, 
            "outputs": [], 
            "source": "net4 = Sequential()\nwith net4.name_scope():\n    net4.add(nn.Dense(256, activation=\"relu\"))\n    net4.add(nn.Dense(10))\n\nnet4.initialize()\ny = net4(x)\ny"
        }, 
        {
            "source": "\u53ef\u4ee5\u770b\u5230\uff0c`nn.Sequential`\u7684\u4e3b\u8981\u597d\u5904\u662f\u5b9a\u4e49\u7f51\u7edc\u8d77\u6765\u66f4\u52a0\u7b80\u5355\u3002\u4f46`nn.Block`\u53ef\u4ee5\u63d0\u4f9b\u66f4\u52a0\u7075\u6d3b\u7684\u7f51\u7edc\u5b9a\u4e49\u3002\u8003\u8651\u4e0b\u9762\u8fd9\u4e2a\u4f8b\u5b50", 
            "cell_type": "markdown", 
            "metadata": {}
        }, 
        {
            "execution_count": null, 
            "cell_type": "code", 
            "metadata": {}, 
            "outputs": [], 
            "source": "class FancyMLP(nn.Block):\n    def __init__(self, **kwargs):\n        super(FancyMLP, self).__init__(**kwargs)\n        with self.name_scope():\n            self.dense = nn.Dense(256)\n            self.weight = nd.random_uniform(shape=(256,20))\n\n    def forward(self, x):\n        x = nd.relu(self.dense(x))\n        x = nd.relu(nd.dot(x, self.weight)+1)\n        x = nd.relu(self.dense(x))\n        return x"
        }, 
        {
            "source": "\u770b\u5230\u8fd9\u91cc\u6211\u4eec\u76f4\u63a5\u624b\u52a8\u521b\u5efa\u548c\u521d\u59cb\u4e86\u6743\u91cd`weight`\uff0c\u5e76\u91cd\u590d\u7528\u4e86`dense`\u7684\u5c42\u3002\u6d4b\u8bd5\u4e00\u4e0b\uff1a", 
            "cell_type": "markdown", 
            "metadata": {}
        }, 
        {
            "execution_count": null, 
            "cell_type": "code", 
            "metadata": {}, 
            "outputs": [], 
            "source": "fancy_mlp = FancyMLP()\nfancy_mlp.initialize()\ny = fancy_mlp(x)\nprint(y.shape)"
        }, 
        {
            "source": "## `nn.Block`\u548c`nn.Sequential`\u7684\u5d4c\u5957\u4f7f\u7528\n\n\u73b0\u5728\u6211\u4eec\u77e5\u9053\u4e86`nn`\u4e0b\u9762\u7684\u7c7b\u57fa\u672c\u90fd\u662f`nn.Block`\u7684\u5b50\u7c7b\uff0c\u4ed6\u4eec\u53ef\u4ee5\u5f88\u65b9\u4fbf\u5730\u5d4c\u5957\u4f7f\u7528\u3002", 
            "cell_type": "markdown", 
            "metadata": {}
        }, 
        {
            "execution_count": null, 
            "cell_type": "code", 
            "metadata": {}, 
            "outputs": [], 
            "source": "class RecMLP(nn.Block):\n    def __init__(self, **kwargs):\n        super(RecMLP, self).__init__(**kwargs)\n        self.net = nn.Sequential()\n        with self.name_scope():\n            self.net.add(nn.Dense(256, activation=\"relu\"))\n            self.net.add(nn.Dense(128, activation=\"relu\"))\n            self.dense = nn.Dense(64)\n\n    def forward(self, x):\n        return nd.relu(self.dense(self.net(x)))\n\nrec_mlp = nn.Sequential()\nrec_mlp.add(RecMLP())\nrec_mlp.add(nn.Dense(10))\nprint(rec_mlp)"
        }, 
        {
            "source": "## \u603b\u7ed3\n\n\u4e0d\u77e5\u9053\u4f60\u540c\u4e0d\u540c\u610f\uff0c\u901a\u8fc7`nn.Block`\u6765\u5b9a\u4e49\u795e\u7ecf\u7f51\u7edc\u8ddf\u73a9\u79ef\u6728\u5f88\u7c7b\u4f3c\u3002\n\n## \u7ec3\u4e60\n\n\u5982\u679c\u628a`RecMLP`\u6539\u6210`self.denses = [nn.Dense(256), nn.Dense(128), nn.Dense(64)]`\uff0c`forward`\u5c31\u7528for loop\u6765\u5b9e\u73b0\uff0c\u4f1a\u6709\u4ec0\u4e48\u95ee\u9898\u5417\uff1f\n\n**\u5410\u69fd\u548c\u8ba8\u8bba\u6b22\u8fce\u70b9**[\u8fd9\u91cc](https://discuss.gluon.ai/t/topic/986)", 
            "cell_type": "markdown", 
            "metadata": {}
        }
    ], 
    "metadata": {
        "kernelspec": {
            "display_name": "Python 2 with Spark 1.6 (Unsupported)", 
            "name": "python2", 
            "language": "python"
        }, 
        "language_info": {
            "mimetype": "text/x-python", 
            "nbconvert_exporter": "python", 
            "version": "2.7.11", 
            "name": "python", 
            "file_extension": ".py", 
            "pygments_lexer": "ipython2", 
            "codemirror_mode": {
                "version": 2, 
                "name": "ipython"
            }
        }
    }, 
    "nbformat": 4
}